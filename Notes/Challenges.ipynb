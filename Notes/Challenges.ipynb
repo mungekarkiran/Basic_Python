{
 "cells": [
  {
   "cell_type": "markdown",
   "metadata": {},
   "source": [
    "# Find Missing Number using Python"
   ]
  },
  {
   "cell_type": "code",
   "execution_count": 4,
   "metadata": {},
   "outputs": [
    {
     "name": "stdout",
     "output_type": "stream",
     "text": [
      "[3, 6, 7, 8, 10, 11, 12, 13, 14]\n"
     ]
    }
   ],
   "source": [
    "def findMissingNumbers(n):\n",
    "    '''\n",
    "    \n",
    "    '''\n",
    "    number = sorted(list(set(n)))\n",
    "    start = number[0]\n",
    "    end = number[len(number)-1]\n",
    "    output = [i for i in range(start, end) if i not in number]\n",
    "    print(output)\n",
    "n = [1,2,4,5,9,15]\n",
    "findMissingNumbers(n)"
   ]
  },
  {
   "cell_type": "code",
   "execution_count": null,
   "metadata": {},
   "outputs": [],
   "source": [
    "# https://amankharwal.medium.com/130-python-projects-with-source-code-61f498591bb"
   ]
  },
  {
   "cell_type": "code",
   "execution_count": null,
   "metadata": {},
   "outputs": [],
   "source": [
    "# https://amankharwal.medium.com/130-python-projects-with-source-code-61f498591bb"
   ]
  }
 ],
 "metadata": {
  "kernelspec": {
   "display_name": "Python 3",
   "language": "python",
   "name": "python3"
  },
  "language_info": {
   "codemirror_mode": {
    "name": "ipython",
    "version": 3
   },
   "file_extension": ".py",
   "mimetype": "text/x-python",
   "name": "python",
   "nbconvert_exporter": "python",
   "pygments_lexer": "ipython3",
   "version": "3.6.7"
  },
  "vscode": {
   "interpreter": {
    "hash": "d9c9f810be48f5a6d36a39dedf5b599964b855af479ef5af15b81f905ca17cb6"
   }
  }
 },
 "nbformat": 4,
 "nbformat_minor": 2
}
