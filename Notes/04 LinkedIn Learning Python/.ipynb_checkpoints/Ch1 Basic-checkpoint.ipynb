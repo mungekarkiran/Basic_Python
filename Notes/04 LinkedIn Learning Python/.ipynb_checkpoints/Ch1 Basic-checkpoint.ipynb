{
 "cells": [
  {
   "cell_type": "markdown",
   "metadata": {},
   "source": [
    "# Example file for Hello World Program"
   ]
  },
  {
   "cell_type": "code",
   "execution_count": 1,
   "metadata": {},
   "outputs": [
    {
     "name": "stdout",
     "output_type": "stream",
     "text": [
      "Hello World !!!\n"
     ]
    }
   ],
   "source": [
    "print(\"Hello World !!!\")"
   ]
  },
  {
   "cell_type": "code",
   "execution_count": 2,
   "metadata": {},
   "outputs": [
    {
     "name": "stdout",
     "output_type": "stream",
     "text": [
      "What is your name : Kiran\n"
     ]
    }
   ],
   "source": [
    "name = input(\"What is your name : \")"
   ]
  },
  {
   "cell_type": "code",
   "execution_count": 3,
   "metadata": {},
   "outputs": [
    {
     "data": {
      "text/plain": [
       "'Kiran'"
      ]
     },
     "execution_count": 3,
     "metadata": {},
     "output_type": "execute_result"
    }
   ],
   "source": [
    "name"
   ]
  },
  {
   "cell_type": "code",
   "execution_count": 4,
   "metadata": {},
   "outputs": [
    {
     "name": "stdout",
     "output_type": "stream",
     "text": [
      "Hello World !!!\n",
      "What is your name : KIRAN\n",
      "Your name is  KIRAN\n"
     ]
    }
   ],
   "source": [
    "def main():\n",
    "    print(\"Hello World !!!\")\n",
    "    name = input(\"What is your name : \")\n",
    "    print(\"Your name is \", name)\n",
    "    \n",
    "if __name__ == \"__main__\":\n",
    "    main()"
   ]
  },
  {
   "cell_type": "markdown",
   "metadata": {},
   "source": [
    "# Variables and expressions"
   ]
  },
  {
   "cell_type": "code",
   "execution_count": 14,
   "metadata": {},
   "outputs": [
    {
     "name": "stdout",
     "output_type": "stream",
     "text": [
      "5\n",
      "7.82\n",
      "This is a string\n",
      "True\n",
      "[1, 2, 'abc', 3.4, False]\n",
      "(0, 1, 2)\n",
      "{'one': 1, 'two': 2}\n",
      "def\n",
      "This is a string\n",
      "def\n",
      "def\n"
     ]
    },
    {
     "ename": "NameError",
     "evalue": "name 'mystr' is not defined",
     "output_type": "error",
     "traceback": [
      "\u001b[1;31m---------------------------------------------------------------------------\u001b[0m",
      "\u001b[1;31mNameError\u001b[0m                                 Traceback (most recent call last)",
      "\u001b[1;32m<ipython-input-14-dafbdd4e0877>\u001b[0m in \u001b[0;36m<module>\u001b[1;34m\u001b[0m\n\u001b[0;32m     70\u001b[0m \u001b[1;31m# delete defination of a variable\u001b[0m\u001b[1;33m\u001b[0m\u001b[1;33m\u001b[0m\u001b[1;33m\u001b[0m\u001b[0m\n\u001b[0;32m     71\u001b[0m \u001b[1;32mdel\u001b[0m \u001b[0mmystr\u001b[0m\u001b[1;33m\u001b[0m\u001b[1;33m\u001b[0m\u001b[0m\n\u001b[1;32m---> 72\u001b[1;33m \u001b[0mprint\u001b[0m\u001b[1;33m(\u001b[0m\u001b[0mmystr\u001b[0m\u001b[1;33m)\u001b[0m\u001b[1;33m\u001b[0m\u001b[1;33m\u001b[0m\u001b[0m\n\u001b[0m",
      "\u001b[1;31mNameError\u001b[0m: name 'mystr' is not defined"
     ]
    }
   ],
   "source": [
    "# Basic data types in python:\n",
    "# numbers (int and float), strings (collection of charectors), \n",
    "# booleans (true or false), Sequence (list and tuple), \n",
    "# dictionaries (which map unique key to a spesific value)\n",
    "\n",
    "myint = 5\n",
    "myfloat = 7.82\n",
    "mystr = \"This is a string\"\n",
    "mybool = True\n",
    "mylist = [1, 2, \"abc\", 3.4, False]\n",
    "mytuple = (0, 1, 2)\n",
    "mydict = {\"one\" : 1, \"two\" : 2}\n",
    "\n",
    "print(myint)\n",
    "print(myfloat)\n",
    "print(mystr)\n",
    "print(mybool)\n",
    "print(mylist)\n",
    "print(mytuple)\n",
    "print(mydict)\n",
    "\n",
    "# re-declaring a variable works\n",
    "# myint = \"abc\"\n",
    "# print(myint)\n",
    "\n",
    "# to access a member of sequence type, use []\n",
    "# print(mylist[2])\n",
    "# print(mytuple[1])\n",
    "\n",
    "# use slice to get a parts of a sequence\n",
    "# print(mylist[1:5])\n",
    "# print(mylist[1:5:2])\n",
    "\n",
    "# you can use slice to reverse a sequence\n",
    "# print(mylist[::-1])\n",
    "\n",
    "# dictionary access via keys\n",
    "# print(mydict[\"one\"])\n",
    "\n",
    "# ERROR : variables of diffent type cannot be combined\n",
    "# print(\"string type \"+ 123)\n",
    "'''\n",
    "---------------------------------------------------------------------------\n",
    "TypeError                                 Traceback (most recent call last)\n",
    "<ipython-input-9-e3d72e9eedf5> in <module>\n",
    "     39 \n",
    "     40 # ERROR : variables of diffent type cannot be combined\n",
    "---> 41 print(\"string type \"+ 123)\n",
    "\n",
    "TypeError: must be str, not int\n",
    "'''\n",
    "# print(\"string type \"+ str(123))\n",
    "\n",
    "# GLOBAL VS. LOCAL variables in functions\n",
    "def someFunction():\n",
    "    mystr = \"def\"\n",
    "    print(mystr)\n",
    "\n",
    "someFunction()\n",
    "print(mystr)\n",
    "\n",
    "def someFunction():\n",
    "    global mystr\n",
    "    mystr = \"def\"\n",
    "    print(mystr)\n",
    "\n",
    "someFunction()\n",
    "print(mystr)\n",
    "\n",
    "# delete defination of a variable\n",
    "del mystr\n",
    "print(mystr)"
   ]
  },
  {
   "cell_type": "markdown",
   "metadata": {},
   "source": [
    "# Python functions"
   ]
  },
  {
   "cell_type": "code",
   "execution_count": 25,
   "metadata": {},
   "outputs": [
    {
     "name": "stdout",
     "output_type": "stream",
     "text": [
      "24\n",
      "69\n"
     ]
    }
   ],
   "source": [
    "# TODO : define a basic function\n",
    "def fun1():\n",
    "    print(\"I am a function.\")\n",
    "    \n",
    "# TODO : define a function that takes arguments\n",
    "def fun2(arg1, arg2):\n",
    "    print(arg1, \" \", arg2)\n",
    "\n",
    "# TODO : function that return a value\n",
    "def cube(x):\n",
    "    return x*x*x\n",
    "    \n",
    "# TODO : function with default value for an argument\n",
    "def power(num, x=1):\n",
    "    result = 1\n",
    "    for i in range(x):\n",
    "        result = result * num\n",
    "    return result\n",
    "\n",
    "# TODO : function with variable number of arguments\n",
    "def multi_add(arg1, *args):\n",
    "    result = 0\n",
    "    for x in args:\n",
    "        result = result + x\n",
    "    return result\n",
    "\n",
    "# OUTPUT\n",
    "#fun1()\n",
    "#print(fun1())\n",
    "#print(fun1)\n",
    "\n",
    "#fun2(2,3)\n",
    "#print(fun2(2,3))\n",
    "\n",
    "#print(cube(2))\n",
    "\n",
    "#print(power(2))\n",
    "#print(power(2, 3))\n",
    "#print(power(x=2, num=4))\n",
    "\n",
    "print(multi_add(7,5,6,4,9))\n",
    "print(multi_add(4,9,15,42,3))"
   ]
  },
  {
   "cell_type": "markdown",
   "metadata": {},
   "source": [
    "# Conditional structures"
   ]
  },
  {
   "cell_type": "code",
   "execution_count": 30,
   "metadata": {},
   "outputs": [
    {
     "name": "stdout",
     "output_type": "stream",
     "text": [
      "x is greater then y\n",
      "x is greater or equel to y\n"
     ]
    }
   ],
   "source": [
    "def main():\n",
    "    x, y = 1000, 100\n",
    "    \n",
    "    # conditional flow uses if, elif, else\n",
    "    if x<y:\n",
    "        result = \"x is less then y\"\n",
    "    elif x==y:\n",
    "        result = \"x is same as y\"\n",
    "    else:\n",
    "        result = \"x is greater then y\"\n",
    "    print(result)\n",
    "    \n",
    "    # conditional statement let you use \"a if COND else b\"\n",
    "    result = \"x is less then y\" if x<y else \"x is greater or equel to y\"\n",
    "    print(result)\n",
    "    \n",
    "    # match-case makes it easy to compair multiple values (in python 3.10)\n",
    "    value = \"one\"\n",
    "    \"\"\"\n",
    "    match value:\n",
    "        case \"one\":\n",
    "            result = 1\n",
    "        case \"two\":\n",
    "            result = 2\n",
    "        case \"three\" | \"four\":\n",
    "            result = (3, 4)\n",
    "        case _:\n",
    "            result = -1\n",
    "    print(result)\n",
    "    \"\"\"\n",
    "    \n",
    "if __name__ == \"__main__\":\n",
    "    main()"
   ]
  },
  {
   "cell_type": "markdown",
   "metadata": {},
   "source": [
    "# loop"
   ]
  },
  {
   "cell_type": "code",
   "execution_count": 38,
   "metadata": {},
   "outputs": [
    {
     "name": "stdout",
     "output_type": "stream",
     "text": [
      "0 mon\n",
      "1 tue\n",
      "2 wed\n",
      "3 thu\n",
      "4 fri\n",
      "5 sat\n",
      "6 sun\n"
     ]
    }
   ],
   "source": [
    "def main():\n",
    "    x = 0\n",
    "    \n",
    "    # TODO : define a while loop\n",
    "    #while (x<5):\n",
    "        #print(x)\n",
    "        #x+=1\n",
    "    \n",
    "    # TODO : define a for loop\n",
    "    #for x in range(5, 10):\n",
    "        #print(x)\n",
    "    \n",
    "    # TODO : use a for lopp over a collection\n",
    "    #days = ['mon', 'tue', 'wed', 'thu', 'fri', 'sat', 'sun']\n",
    "    #for d in days:\n",
    "        #print(d)\n",
    "    \n",
    "    # TODO : use the break and continue statements\n",
    "    #for x in range(5, 10):\n",
    "        #if x==7:\n",
    "            #break\n",
    "            \n",
    "        #if x%2==0:\n",
    "            #continue\n",
    "            \n",
    "        #print(x)\n",
    "    \n",
    "    # TODO : usinf the enumerate() function to get index\n",
    "    days = ['mon', 'tue', 'wed', 'thu', 'fri', 'sat', 'sun']\n",
    "    for i, d in enumerate(days):\n",
    "        print(i, d)\n",
    "    \n",
    "    \n",
    "if __name__ == \"__main__\":\n",
    "    main()"
   ]
  },
  {
   "cell_type": "markdown",
   "metadata": {},
   "source": [
    "# classes"
   ]
  },
  {
   "cell_type": "code",
   "execution_count": 41,
   "metadata": {},
   "outputs": [
    {
     "name": "stdout",
     "output_type": "stream",
     "text": [
      "4\n",
      "4\n",
      "gas\n",
      "4\n",
      "4\n",
      "electric\n",
      "3\n",
      "0\n",
      "gas\n",
      "Driving my  gas  car at  30  km/hrs.\n",
      "Driving my  electric  car at  40  km/hrs.\n",
      "Driving my  gas  motercycle at  50  km/hrs.\n"
     ]
    }
   ],
   "source": [
    "class Vehical():\n",
    "    def __init__(self, bodystyle):\n",
    "        self.bodystyle = bodystyle\n",
    "        \n",
    "    def drive(self, speed):\n",
    "        self.mode = \"driveing\"\n",
    "        self.speed = speed\n",
    "        \n",
    "class Car(Vehical):\n",
    "    def __init__(self, enginetype):\n",
    "        super().__init__(\"Car\")\n",
    "        self.wheels = 4\n",
    "        self.doors = 4\n",
    "        self.enginetype = enginetype\n",
    "     \n",
    "    def drive(self, speed):\n",
    "        super().drive(speed)\n",
    "        print(\"Driving my \", self.enginetype, \" car at \", self.speed, ' km/hrs.')\n",
    "        \n",
    "class Motercycle(Vehical):\n",
    "    def __init__(self, enginetype, hassidecar):\n",
    "        super().__init__(\"Motercycle\")\n",
    "        if hassidecar:\n",
    "            self.wheels = 3\n",
    "        else:\n",
    "            self.wheels = 2\n",
    "        self.doors = 0\n",
    "        self.enginetype = enginetype\n",
    "    \n",
    "    def drive(self, speed):\n",
    "        super().drive(speed)\n",
    "        print(\"Driving my \", self.enginetype, \" motercycle at \", self.speed, ' km/hrs.')\n",
    "      \n",
    "            \n",
    "car1 = Car(\"gas\")\n",
    "car2 = Car(\"electric\")\n",
    "mc1 = Motercycle(\"gas\", True)\n",
    "\n",
    "print(car1.wheels)\n",
    "print(car1.doors)\n",
    "print(car1.enginetype)\n",
    "\n",
    "print(car2.wheels)\n",
    "print(car2.doors)\n",
    "print(car2.enginetype)\n",
    "\n",
    "print(mc1.wheels)\n",
    "print(mc1.doors)\n",
    "print(mc1.enginetype)\n",
    "\n",
    "\n",
    "car1.drive(30)\n",
    "car2.drive(40)\n",
    "mc1.drive(50)"
   ]
  },
  {
   "cell_type": "code",
   "execution_count": null,
   "metadata": {},
   "outputs": [],
   "source": []
  }
 ],
 "metadata": {
  "kernelspec": {
   "display_name": "Python 3",
   "language": "python",
   "name": "python3"
  },
  "language_info": {
   "codemirror_mode": {
    "name": "ipython",
    "version": 3
   },
   "file_extension": ".py",
   "mimetype": "text/x-python",
   "name": "python",
   "nbconvert_exporter": "python",
   "pygments_lexer": "ipython3",
   "version": "3.6.7"
  }
 },
 "nbformat": 4,
 "nbformat_minor": 2
}
