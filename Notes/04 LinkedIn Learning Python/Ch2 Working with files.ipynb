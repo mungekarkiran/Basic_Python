{
 "cells": [
  {
   "cell_type": "markdown",
   "metadata": {},
   "source": [
    "# Reading and writing file "
   ]
  },
  {
   "cell_type": "code",
   "execution_count": 6,
   "metadata": {},
   "outputs": [
    {
     "name": "stdout",
     "output_type": "stream",
     "text": [
      "__________________________________________________\n",
      "This is some text \n",
      "\n",
      "This is some text \n",
      "\n",
      "This is some text \n",
      "\n",
      "This is some text \n",
      "\n",
      "This is some text \n",
      "\n",
      "This is some text \n",
      "\n",
      "This is some text \n",
      "\n",
      "This is some text \n",
      "\n",
      "This is some text \n",
      "\n",
      "This is some text \n",
      "\n",
      "This is some text \n",
      "\n",
      "This is some text \n",
      "\n",
      "This is some text \n",
      "\n",
      "This is some text \n",
      "\n",
      "This is some text \n",
      "\n",
      "This is some text \n",
      "\n",
      "This is some text \n",
      "\n",
      "This is some text \n",
      "\n",
      "This is some text \n",
      "\n",
      "This is some text \n",
      "\n"
     ]
    }
   ],
   "source": [
    "def main():\n",
    "    # Open a file for writing and create it if it doesn't exist\n",
    "    #myfile = open(\"textfile.txt\", \"w+\")\n",
    "    \n",
    "    # Open file file for appending text to the end \n",
    "    #myfile = open(\"textfile.txt\", \"a+\")\n",
    "    \n",
    "    # write some lines for the data to the file \n",
    "    #for _ in range(10):\n",
    "        #myfile.write(\"This is some text \\n\")\n",
    "    \n",
    "    # Close the file when done\n",
    "    #myfile.close()\n",
    "    \n",
    "    # Open the file back up and read the contents \n",
    "    myfile = open(\"textfile.txt\", \"r\")\n",
    "    if myfile.mode == \"r\":\n",
    "        #contents = myfile.read()\n",
    "        #print(contents)\n",
    "        print(\"_\"*50)\n",
    "        \n",
    "        file_lines = myfile.readlines()\n",
    "        for file_line in file_lines:\n",
    "            print(file_line)\n",
    "    \n",
    "if __name__ == \"__main__\":\n",
    "    main()"
   ]
  },
  {
   "cell_type": "code",
   "execution_count": null,
   "metadata": {},
   "outputs": [],
   "source": []
  }
 ],
 "metadata": {
  "kernelspec": {
   "display_name": "Python 3",
   "language": "python",
   "name": "python3"
  },
  "language_info": {
   "codemirror_mode": {
    "name": "ipython",
    "version": 3
   },
   "file_extension": ".py",
   "mimetype": "text/x-python",
   "name": "python",
   "nbconvert_exporter": "python",
   "pygments_lexer": "ipython3",
   "version": "3.6.7"
  }
 },
 "nbformat": 4,
 "nbformat_minor": 2
}
