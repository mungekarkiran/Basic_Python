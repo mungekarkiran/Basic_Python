{
 "cells": [
  {
   "cell_type": "markdown",
   "metadata": {},
   "source": [
    "# Reading and writing file "
   ]
  },
  {
   "cell_type": "code",
   "execution_count": 20,
   "metadata": {},
   "outputs": [
    {
     "name": "stdout",
     "output_type": "stream",
     "text": [
      "__________________________________________________\n",
      "This is some text \n",
      "\n",
      "This is some text \n",
      "\n",
      "This is some text \n",
      "\n",
      "This is some text \n",
      "\n",
      "This is some text \n",
      "\n",
      "This is some text \n",
      "\n",
      "This is some text \n",
      "\n",
      "This is some text \n",
      "\n",
      "This is some text \n",
      "\n",
      "This is some text \n",
      "\n"
     ]
    }
   ],
   "source": [
    "def main():\n",
    "    # Open a file for writing and create it if it doesn't exist\n",
    "    myfile = open(\"textfile.txt\", \"w+\")\n",
    "    \n",
    "    # Open file file for appending text to the end \n",
    "    #myfile = open(\"textfile.txt\", \"a+\")\n",
    "    \n",
    "    # write some lines for the data to the file \n",
    "    for _ in range(10):\n",
    "        myfile.write(\"This is some text \\n\")\n",
    "    \n",
    "    # Close the file when done\n",
    "    myfile.close()\n",
    "    \n",
    "    # Open the file back up and read the contents \n",
    "    myfile = open(\"textfile.txt\", \"r\")\n",
    "    if myfile.mode == \"r\":\n",
    "        #contents = myfile.read()\n",
    "        #print(contents)\n",
    "        print(\"_\"*50)\n",
    "        \n",
    "        file_lines = myfile.readlines()\n",
    "        for file_line in file_lines:\n",
    "            print(file_line)\n",
    "    \n",
    "if __name__ == \"__main__\":\n",
    "    main()"
   ]
  },
  {
   "cell_type": "markdown",
   "metadata": {},
   "source": [
    "# Workingwith OS utility"
   ]
  },
  {
   "cell_type": "code",
   "execution_count": 21,
   "metadata": {},
   "outputs": [
    {
     "name": "stdout",
     "output_type": "stream",
     "text": [
      "nt\n",
      "Item exist : True\n",
      "Item is a file : True\n",
      "Item is a directory : False\n",
      "Item's path' : D:\\test\\Basic_Python\\Notes\\04 LinkedIn Learning Python\\textfile.txt\n",
      "Item's path and name : ('D:\\\\test\\\\Basic_Python\\\\Notes\\\\04 LinkedIn Learning Python', 'textfile.txt')\n",
      "Thu Feb 16 14:05:39 2023\n",
      "2023-02-16 14:05:39.110961\n",
      "It has been 0:00:09.622226 since the file was modified\n",
      "OR, 9.622226 seconds\n"
     ]
    }
   ],
   "source": [
    "# import modules\n",
    "import os \n",
    "from os import path\n",
    "import datetime \n",
    "from datetime import date, time, timedelta\n",
    "import time\n",
    "\n",
    "\n",
    "def main():\n",
    "    # priint the name of the OS \n",
    "    print(os.name)\n",
    "    \n",
    "    # Check for item exestance and type\n",
    "    print(f\"Item exist : {path.exists('textfile.txt')}\")\n",
    "    print(f\"Item is a file : {path.isfile('textfile.txt')}\")\n",
    "    print(f\"Item is a directory : {path.isdir('textfile.txt')}\")\n",
    "    \n",
    "    # Work with file path\n",
    "    print(f\"Item's path' : {path.realpath('textfile.txt')}\")\n",
    "    print(f\"Item's path and name : {path.split(path.realpath('textfile.txt'))}\")\n",
    "          \n",
    "    # Get the modification time\n",
    "    t = time.ctime(path.getmtime('textfile.txt'))\n",
    "    print(t)\n",
    "    print(datetime.datetime.fromtimestamp(path.getmtime('textfile.txt')))\n",
    "          \n",
    "    # Claculate how long ago the item was modified\n",
    "    td = datetime.datetime.now() - datetime.datetime.fromtimestamp(path.getmtime('textfile.txt'))\n",
    "    print(f\"It has been {td} since the file was modified\")\n",
    "    print(f\"OR, {td.total_seconds()} seconds\")\n",
    "          \n",
    "          \n",
    "if __name__ == \"__main__\":\n",
    "    main()\n"
   ]
  },
  {
   "cell_type": "markdown",
   "metadata": {},
   "source": [
    "# Using filesystem shell methods"
   ]
  },
  {
   "cell_type": "code",
   "execution_count": 23,
   "metadata": {},
   "outputs": [],
   "source": [
    "import os\n",
    "from os import path\n",
    "import shutil # shell utility -> to work with filesystem shell methods \n",
    "from shutil import make_archive\n",
    "from zipfile import ZipFile\n",
    "\n",
    "def main():\n",
    "    # make a duplicate of an existing file\n",
    "    if path.exists(\"textfile.txt\"):\n",
    "        # get the path to the file in the current directory \n",
    "        src = path.realpath(\"textfile.txt\")\n",
    "        \n",
    "        # let's make a backup copy by appending \"bak\" to the name\n",
    "        dest = src + \".bak\"\n",
    "        shutil.copy(src, dest)\n",
    "        \n",
    "        # rename the original file\n",
    "        #os.rename(\"textfile.txt\", \"newfile.txt\")\n",
    "        \n",
    "        # now put things into a ZIP archive \n",
    "        root_dir, tail = path.split(src)\n",
    "        make_archive(\"archive\", \"zip\", root_dir)\n",
    "        \n",
    "        # more fine-grained control over ZIP files\n",
    "        with ZipFile(\"testzip.zip\", \"w\") as newzip:\n",
    "            newzip.write(\"newfile.txt\")\n",
    "            newzip.write(\"textfile.txt.bak\")\n",
    "    \n",
    "    \n",
    "if __name__ == \"__main__\":\n",
    "    main()"
   ]
  },
  {
   "cell_type": "markdown",
   "metadata": {},
   "source": [
    "# Challenge : Files\n",
    "\n",
    "- Create a new dir. Create a text file within that dir. Write in that file the listing of all the current file in that dir along with thye total byte count of all thous files.\n",
    "\n",
    "- Expected output:\n",
    "    - result\\\\result.txt\n",
    "        - Total bytecount : xxx\n",
    "            \n",
    "            File List:\n",
    "            \n",
    "            -----------\n",
    "            \n",
    "            abc.txt\n",
    "            \n",
    "            pqr.txt\n",
    "            \n",
    "            ...\n",
    "            \n",
    "- Hint : os.mkdir(), os.listdir()\n"
   ]
  },
  {
   "cell_type": "code",
   "execution_count": 37,
   "metadata": {},
   "outputs": [],
   "source": [
    "file_size = 0\n",
    "file_list = []\n",
    "for file_name in os.listdir():\n",
    "    src_file_path = path.realpath(file_name)\n",
    "    root_dir, tail = path.split(src_file_path)\n",
    "    if path.isfile(file_name):\n",
    "        file_list.append(file_name)\n",
    "        file_stats = os.stat(file_name)\n",
    "        file_size += float(file_stats.st_size)\n",
    "\n",
    "#os.mkdir(\"result\")\n",
    "os.makedirs(\"result\", exist_ok=True)\n",
    "myfile = open(\"result\\\\result.txt\", \"w+\")\n",
    "myfile.write(f\"Total bytecount : {file_size} \\n\")\n",
    "myfile.write(\"File List : \\n\")\n",
    "myfile.write(\"_\"*30)\n",
    "myfile.write(\"\\n\")\n",
    "for file_name in file_list:\n",
    "    myfile.write(f\"{file_name} \\n\")\n",
    "myfile.close() "
   ]
  },
  {
   "cell_type": "code",
   "execution_count": 38,
   "metadata": {},
   "outputs": [],
   "source": [
    "def main():\n",
    "    file_size = 0\n",
    "    file_list = []\n",
    "    for file_name in os.listdir():\n",
    "        src_file_path = path.realpath(file_name)\n",
    "        root_dir, tail = path.split(src_file_path)\n",
    "        if path.isfile(file_name):\n",
    "            file_list.append(file_name)\n",
    "            file_stats = os.stat(file_name)\n",
    "            file_size += float(file_stats.st_size)\n",
    "\n",
    "    #os.mkdir(\"result\")\n",
    "    os.makedirs(\"result\", exist_ok=True)\n",
    "    myfile = open(\"result\\\\result.txt\", \"w+\")\n",
    "    myfile.write(f\"Total bytecount : {file_size} \\n\")\n",
    "    myfile.write(\"File List : \\n\")\n",
    "    myfile.write(\"_\"*30)\n",
    "    myfile.write(\"\\n\")\n",
    "    for file_name in file_list:\n",
    "        myfile.write(f\"{file_name} \\n\")\n",
    "    myfile.close()\n",
    "    \n",
    "if __name__ == \"__main__\":\n",
    "    main()"
   ]
  },
  {
   "cell_type": "code",
   "execution_count": 42,
   "metadata": {},
   "outputs": [],
   "source": [
    "import os \n",
    "\n",
    "totalbytes = 0\n",
    "\n",
    "# get list of all the files in the current directory\n",
    "dirlist = os.listdir()\n",
    "for entry in dirlist:\n",
    "    # make sure it's a file\n",
    "    if os.path.isfile(entry):\n",
    "        # add the file size to the total\n",
    "        filesize = os.path.getsize(entry)\n",
    "        totalbytes += filesize\n",
    "        \n",
    "# create a subdirectory called \"results\"\n",
    "os.mkdir(\"results\")\n",
    "\n",
    "# create the output file\n",
    "resultfile = open(\"results\\\\result.txt\", \"w+\")\n",
    "if resultfile.mode == \"w+\":\n",
    "    resultfile.write(f\"Total bytecount : {totalbytes} \\n\")\n",
    "    resultfile.write(\"Files list : \\n\")\n",
    "    resultfile.write(\"-------------\\n\")\n",
    "    # write the result into the file\n",
    "    for entry in dirlist:\n",
    "        if os.path.isfile(entry):\n",
    "            # write the filr nsmr to the results ledger\n",
    "            resultfile.write(entry+\"\\n\")\n",
    "    # close the file when done\n",
    "    resultfile.close()"
   ]
  },
  {
   "cell_type": "code",
   "execution_count": null,
   "metadata": {},
   "outputs": [],
   "source": []
  }
 ],
 "metadata": {
  "kernelspec": {
   "display_name": "Python 3",
   "language": "python",
   "name": "python3"
  },
  "language_info": {
   "codemirror_mode": {
    "name": "ipython",
    "version": 3
   },
   "file_extension": ".py",
   "mimetype": "text/x-python",
   "name": "python",
   "nbconvert_exporter": "python",
   "pygments_lexer": "ipython3",
   "version": "3.6.7"
  }
 },
 "nbformat": 4,
 "nbformat_minor": 2
}
