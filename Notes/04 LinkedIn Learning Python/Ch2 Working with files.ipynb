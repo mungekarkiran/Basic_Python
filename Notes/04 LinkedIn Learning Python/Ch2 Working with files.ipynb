{
 "cells": [
  {
   "cell_type": "markdown",
   "metadata": {},
   "source": [
    "# Reading and writing file "
   ]
  },
  {
   "cell_type": "code",
   "execution_count": 6,
   "metadata": {},
   "outputs": [
    {
     "name": "stdout",
     "output_type": "stream",
     "text": [
      "__________________________________________________\n",
      "This is some text \n",
      "\n",
      "This is some text \n",
      "\n",
      "This is some text \n",
      "\n",
      "This is some text \n",
      "\n",
      "This is some text \n",
      "\n",
      "This is some text \n",
      "\n",
      "This is some text \n",
      "\n",
      "This is some text \n",
      "\n",
      "This is some text \n",
      "\n",
      "This is some text \n",
      "\n",
      "This is some text \n",
      "\n",
      "This is some text \n",
      "\n",
      "This is some text \n",
      "\n",
      "This is some text \n",
      "\n",
      "This is some text \n",
      "\n",
      "This is some text \n",
      "\n",
      "This is some text \n",
      "\n",
      "This is some text \n",
      "\n",
      "This is some text \n",
      "\n",
      "This is some text \n",
      "\n"
     ]
    }
   ],
   "source": [
    "def main():\n",
    "    # Open a file for writing and create it if it doesn't exist\n",
    "    #myfile = open(\"textfile.txt\", \"w+\")\n",
    "    \n",
    "    # Open file file for appending text to the end \n",
    "    #myfile = open(\"textfile.txt\", \"a+\")\n",
    "    \n",
    "    # write some lines for the data to the file \n",
    "    #for _ in range(10):\n",
    "        #myfile.write(\"This is some text \\n\")\n",
    "    \n",
    "    # Close the file when done\n",
    "    #myfile.close()\n",
    "    \n",
    "    # Open the file back up and read the contents \n",
    "    myfile = open(\"textfile.txt\", \"r\")\n",
    "    if myfile.mode == \"r\":\n",
    "        #contents = myfile.read()\n",
    "        #print(contents)\n",
    "        print(\"_\"*50)\n",
    "        \n",
    "        file_lines = myfile.readlines()\n",
    "        for file_line in file_lines:\n",
    "            print(file_line)\n",
    "    \n",
    "if __name__ == \"__main__\":\n",
    "    main()"
   ]
  },
  {
   "cell_type": "markdown",
   "metadata": {},
   "source": [
    "# Workingwith OS utility"
   ]
  },
  {
   "cell_type": "code",
   "execution_count": 17,
   "metadata": {},
   "outputs": [
    {
     "name": "stdout",
     "output_type": "stream",
     "text": [
      "nt\n",
      "Item exist : True\n",
      "Item is a file : True\n",
      "Item is a directory : False\n",
      "Item's path' : D:\\test\\Basic_Python\\Notes\\04 LinkedIn Learning Python\\textfile.txt\n",
      "Item's path and name : ('D:\\\\test\\\\Basic_Python\\\\Notes\\\\04 LinkedIn Learning Python', 'textfile.txt')\n",
      "Thu Feb 16 13:13:16 2023\n",
      "2023-02-16 13:13:16.228076\n",
      "It has been 0:27:43.949125 since the file was modified\n",
      "OR, 1663.949125 seconds\n"
     ]
    }
   ],
   "source": [
    "# import modules\n",
    "import os \n",
    "from os import path\n",
    "import datetime \n",
    "from datetime import date, time, timedelta\n",
    "import time\n",
    "\n",
    "\n",
    "def main():\n",
    "    # priint the name of the OS \n",
    "    print(os.name)\n",
    "    \n",
    "    # Check for item exestance and type\n",
    "    print(f\"Item exist : {path.exists('textfile.txt')}\")\n",
    "    print(f\"Item is a file : {path.isfile('textfile.txt')}\")\n",
    "    print(f\"Item is a directory : {path.isdir('textfile.txt')}\")\n",
    "    \n",
    "    # Work with file path\n",
    "    print(f\"Item's path' : {path.realpath('textfile.txt')}\")\n",
    "    print(f\"Item's path and name : {path.split(path.realpath('textfile.txt'))}\")\n",
    "          \n",
    "    # Get the modification time\n",
    "    t = time.ctime(path.getmtime('textfile.txt'))\n",
    "    print(t)\n",
    "    print(datetime.datetime.fromtimestamp(path.getmtime('textfile.txt')))\n",
    "          \n",
    "    # Claculate how long ago the item was modified\n",
    "    td = datetime.datetime.now() - datetime.datetime.fromtimestamp(path.getmtime('textfile.txt'))\n",
    "    print(f\"It has been {td} since the file was modified\")\n",
    "    print(f\"OR, {td.total_seconds()} seconds\")\n",
    "          \n",
    "          \n",
    "if __name__ == \"__main__\":\n",
    "    main()\n"
   ]
  },
  {
   "cell_type": "code",
   "execution_count": null,
   "metadata": {},
   "outputs": [],
   "source": []
  }
 ],
 "metadata": {
  "kernelspec": {
   "display_name": "Python 3",
   "language": "python",
   "name": "python3"
  },
  "language_info": {
   "codemirror_mode": {
    "name": "ipython",
    "version": 3
   },
   "file_extension": ".py",
   "mimetype": "text/x-python",
   "name": "python",
   "nbconvert_exporter": "python",
   "pygments_lexer": "ipython3",
   "version": "3.6.7"
  }
 },
 "nbformat": 4,
 "nbformat_minor": 2
}
