{
 "cells": [
  {
   "cell_type": "code",
   "execution_count": 1,
   "metadata": {},
   "outputs": [],
   "source": [
    "import sqlite3\n",
    "import numpy as np"
   ]
  },
  {
   "cell_type": "code",
   "execution_count": 2,
   "metadata": {},
   "outputs": [],
   "source": [
    "# Create a SQL connection to our SQLite database\n",
    "connect = sqlite3.connect('test.db') # portal_mammals.sqlite\n",
    "cursor = connect.cursor()"
   ]
  },
  {
   "cell_type": "code",
   "execution_count": 3,
   "metadata": {},
   "outputs": [
    {
     "data": {
      "text/plain": [
       "<sqlite3.Cursor at 0x20afbe88ce0>"
      ]
     },
     "execution_count": 3,
     "metadata": {},
     "output_type": "execute_result"
    }
   ],
   "source": [
    "# Create table\n",
    "cursor.execute(\"\"\"CREATE TABLE IF NOT EXISTS faculty (fid INT, fname TEXT, qualification TEXT, deptid INTEGER);\"\"\")\n"
   ]
  },
  {
   "cell_type": "code",
   "execution_count": 4,
   "metadata": {},
   "outputs": [],
   "source": [
    "# Insert data\n",
    "cursor.execute(\"\"\"INSERT INTO faculty VALUES (1, 'Aman', 'B.Tech', 1);\"\"\")\n",
    "connect.commit()\n"
   ]
  },
  {
   "cell_type": "code",
   "execution_count": 5,
   "metadata": {},
   "outputs": [],
   "source": [
    "cursor.execute(\"\"\"INSERT INTO faculty VALUES (2, 'Mohan', 'M.Tech', 1), \n",
    "                                             (3, 'Vishal', 'M.Tech', 1), \n",
    "                                             (4, 'Priya', 'Ph.D', 2),\n",
    "                                             (5, 'Ravi', 'Ph.D', 3),\n",
    "                                             (6, 'Aarti', 'M.Tech', 2);\"\"\")\n",
    "connect.commit()\n"
   ]
  },
  {
   "cell_type": "code",
   "execution_count": 6,
   "metadata": {},
   "outputs": [],
   "source": [
    "# Create table student and insert multiple records\n",
    "cursor.execute(\"\"\"CREATE TABLE IF NOT EXISTS student (sid INT, sname TEXT, branch TEXT, marks INTEGER);\"\"\")\n",
    "\n",
    "cursor.execute(f\"\"\"INSERT INTO student VALUES (1, 'Lalit', 'IT', 75), \n",
    "                                              (2, 'Mahesh', 'IT', 90), \n",
    "                                              (3, 'Sagar', 'CSE', 92),\n",
    "                                              (4, 'Arun', 'CSE', 45),\n",
    "                                              (5, 'Shikha', 'ECE', 56),\n",
    "                                              (6, 'Anand', 'ECE', 78),\n",
    "                                              (7, 'Parul', 'IT', 80),\n",
    "                                              (8, 'Kapil', '{np.nan}', 82);\"\"\")\n",
    "connect.commit()\n"
   ]
  },
  {
   "cell_type": "code",
   "execution_count": 7,
   "metadata": {},
   "outputs": [],
   "source": [
    "# Create table department and insert multiple records\n",
    "cursor.execute(\"\"\"CREATE TABLE IF NOT EXISTS department (deptid INT, deptname TEXT);\"\"\")\n",
    "\n",
    "cursor.execute(f\"\"\"INSERT INTO department VALUES (1, 'IT'),\n",
    "                                                 (2, 'CSE'), \n",
    "                                                 (3, 'ECE');\"\"\")\n",
    "connect.commit()\n"
   ]
  },
  {
   "cell_type": "code",
   "execution_count": 8,
   "metadata": {},
   "outputs": [],
   "source": [
    "# to close db connection\n",
    "# connect.close()"
   ]
  },
  {
   "cell_type": "code",
   "execution_count": null,
   "metadata": {},
   "outputs": [],
   "source": []
  }
 ],
 "metadata": {
  "kernelspec": {
   "display_name": "Python 3",
   "language": "python",
   "name": "python3"
  },
  "language_info": {
   "codemirror_mode": {
    "name": "ipython",
    "version": 3
   },
   "file_extension": ".py",
   "mimetype": "text/x-python",
   "name": "python",
   "nbconvert_exporter": "python",
   "pygments_lexer": "ipython3",
   "version": "3.6.7"
  }
 },
 "nbformat": 4,
 "nbformat_minor": 2
}
