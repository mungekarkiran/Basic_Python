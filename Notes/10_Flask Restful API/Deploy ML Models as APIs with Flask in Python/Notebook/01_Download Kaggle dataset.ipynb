{
 "cells": [
  {
   "cell_type": "markdown",
   "id": "e8651e9c",
   "metadata": {},
   "source": [
    "# Download Kaggle dataset"
   ]
  },
  {
   "cell_type": "code",
   "execution_count": 3,
   "id": "2bb36931",
   "metadata": {},
   "outputs": [],
   "source": [
    "import kagglehub # Download latest version\n",
    "import shutil\n",
    "import os"
   ]
  },
  {
   "cell_type": "code",
   "execution_count": 4,
   "id": "e0fb5e8a",
   "metadata": {},
   "outputs": [],
   "source": [
    "def move_files_from_folder(source_folder, destination_folder):\n",
    "    \"\"\"\n",
    "    Moves all files from a source folder to a destination folder, \n",
    "    creating the destination folder if it doesn't exist.\n",
    "\n",
    "    :param source_folder: str, Path to the source folder containing files.\n",
    "    :param destination_folder: str, Path to the destination folder.\n",
    "    \"\"\"\n",
    "    try:\n",
    "        # Ensure the destination folder exists\n",
    "        os.makedirs(destination_folder, exist_ok=True)\n",
    "        \n",
    "        # Iterate through all files in the source folder\n",
    "        for file_name in os.listdir(source_folder):\n",
    "            source_path = os.path.join(source_folder, file_name)\n",
    "            \n",
    "            # Check if the current path is a file\n",
    "            if os.path.isfile(source_path):\n",
    "                destination_path = os.path.join(destination_folder, file_name)\n",
    "                \n",
    "                # Move the file\n",
    "                shutil.move(source_path, destination_path)\n",
    "                print(f\"Moved: {source_path} -> {destination_path}\")\n",
    "    \n",
    "    except FileNotFoundError:\n",
    "        print(f\"Source folder not found: {source_folder}\")\n",
    "    except Exception as e:\n",
    "        print(f\"Error occurred: {e}\")"
   ]
  },
  {
   "cell_type": "code",
   "execution_count": 5,
   "id": "5189aeeb",
   "metadata": {},
   "outputs": [
    {
     "name": "stdout",
     "output_type": "stream",
     "text": [
      "Path to dataset files: C:\\Users\\Kiran\\.cache\\kagglehub\\datasets\\mathchi\\diabetes-data-set\\versions\\1\n",
      "Moved: C:\\Users\\Kiran\\.cache\\kagglehub\\datasets\\mathchi\\diabetes-data-set\\versions\\1\\diabetes.csv -> ..\\Dataset\\diabetes.csv\n"
     ]
    }
   ],
   "source": [
    "source_folder = kagglehub.dataset_download(\"mathchi/diabetes-data-set\")\n",
    "print(\"Path to dataset files:\", source_folder)\n",
    "\n",
    "destination_folder = os.path.join('..', 'Dataset')\n",
    "move_files_from_folder(source_folder, destination_folder)"
   ]
  },
  {
   "cell_type": "code",
   "execution_count": null,
   "id": "59acdb0d",
   "metadata": {},
   "outputs": [],
   "source": []
  }
 ],
 "metadata": {
  "kernelspec": {
   "display_name": "Python 3 (ipykernel)",
   "language": "python",
   "name": "python3"
  },
  "language_info": {
   "codemirror_mode": {
    "name": "ipython",
    "version": 3
   },
   "file_extension": ".py",
   "mimetype": "text/x-python",
   "name": "python",
   "nbconvert_exporter": "python",
   "pygments_lexer": "ipython3",
   "version": "3.10.11"
  }
 },
 "nbformat": 4,
 "nbformat_minor": 5
}
