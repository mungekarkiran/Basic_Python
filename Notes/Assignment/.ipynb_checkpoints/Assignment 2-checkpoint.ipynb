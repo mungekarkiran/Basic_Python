{
 "cells": [
  {
   "cell_type": "markdown",
   "id": "c29000cf",
   "metadata": {},
   "source": [
    "## 1.What are the two values of the Boolean data type? How do you write them?\n",
    "\n",
    "**Ans:**\n",
    "    \n",
    "Two values of the Boolean data type `True` and `False` or `1` and `0`. \n",
    "\n",
    "**eg:-** \n",
    "\n",
    "- In a while loop, `while True` and `while 1` are work same."
   ]
  },
  {
   "cell_type": "code",
   "execution_count": 1,
   "id": "9c058a66",
   "metadata": {},
   "outputs": [],
   "source": [
    "while True:\n",
    "    break"
   ]
  },
  {
   "cell_type": "code",
   "execution_count": 2,
   "id": "f3ebfc27",
   "metadata": {},
   "outputs": [],
   "source": [
    "while 1:\n",
    "    break"
   ]
  },
  {
   "cell_type": "code",
   "execution_count": 3,
   "id": "df6f36c3",
   "metadata": {},
   "outputs": [
    {
     "name": "stdout",
     "output_type": "stream",
     "text": [
      "True <class 'bool'> \n",
      " False <class 'bool'>\n"
     ]
    }
   ],
   "source": [
    "a = True\n",
    "b = False\n",
    "print(a, type(a), '\\n', b, type(b))"
   ]
  },
  {
   "cell_type": "code",
   "execution_count": 5,
   "id": "1165247f",
   "metadata": {},
   "outputs": [
    {
     "name": "stdout",
     "output_type": "stream",
     "text": [
      "True <class 'bool'> \n",
      " False <class 'bool'>\n"
     ]
    }
   ],
   "source": [
    "a = bool(1)\n",
    "b = bool(0)\n",
    "print(a, type(a), '\\n', b, type(b))"
   ]
  },
  {
   "cell_type": "markdown",
   "id": "bd392d87",
   "metadata": {},
   "source": [
    "## 2. What are the three different types of Boolean operators?\n",
    "\n",
    "**Ans:**\n",
    "    \n",
    "Three different types of Boolean operators are AND (&), OR (|) and NOT (~)."
   ]
  },
  {
   "cell_type": "code",
   "execution_count": 21,
   "id": "a3c968f2",
   "metadata": {},
   "outputs": [
    {
     "name": "stdout",
     "output_type": "stream",
     "text": [
      "True\n",
      "False\n",
      "False\n",
      "False\n"
     ]
    }
   ],
   "source": [
    "print(True&True)\n",
    "print(False&True)\n",
    "print(True&False)\n",
    "print(False&False)"
   ]
  },
  {
   "cell_type": "code",
   "execution_count": 22,
   "id": "fe96e221",
   "metadata": {},
   "outputs": [
    {
     "name": "stdout",
     "output_type": "stream",
     "text": [
      "True\n",
      "True\n",
      "True\n",
      "False\n"
     ]
    }
   ],
   "source": [
    "print(True|True)\n",
    "print(False|True)\n",
    "print(True|False)\n",
    "print(False|False)"
   ]
  },
  {
   "cell_type": "code",
   "execution_count": 18,
   "id": "fe4af8e0",
   "metadata": {},
   "outputs": [
    {
     "name": "stderr",
     "output_type": "stream",
     "text": [
      "'True' is not recognized as an internal or external command,\n",
      "operable program or batch file.\n"
     ]
    }
   ],
   "source": []
  },
  {
   "cell_type": "code",
   "execution_count": null,
   "id": "1a3c3f5d",
   "metadata": {},
   "outputs": [],
   "source": []
  }
 ],
 "metadata": {
  "kernelspec": {
   "display_name": "Python 3 (ipykernel)",
   "language": "python",
   "name": "python3"
  },
  "language_info": {
   "codemirror_mode": {
    "name": "ipython",
    "version": 3
   },
   "file_extension": ".py",
   "mimetype": "text/x-python",
   "name": "python",
   "nbconvert_exporter": "python",
   "pygments_lexer": "ipython3",
   "version": "3.9.9"
  }
 },
 "nbformat": 4,
 "nbformat_minor": 5
}
