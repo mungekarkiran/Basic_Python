{
 "cells": [
  {
   "cell_type": "code",
   "execution_count": 1,
   "id": "78195792",
   "metadata": {},
   "outputs": [
    {
     "name": "stdout",
     "output_type": "stream",
     "text": [
      "12\n",
      "20\n",
      "5.0\n",
      "This is my function in module test1.\n",
      "None\n"
     ]
    }
   ],
   "source": [
    "import test1\n",
    "\n",
    "print(test1.addnum(10,2))\n",
    "print(test1.mulnum(10,2))\n",
    "print(test1.divnum(10,2))\n",
    "print(test1.myfun())\n"
   ]
  },
  {
   "cell_type": "code",
   "execution_count": 2,
   "id": "01e6d3a2",
   "metadata": {},
   "outputs": [
    {
     "name": "stdout",
     "output_type": "stream",
     "text": [
      "26\n"
     ]
    }
   ],
   "source": [
    "from test1 import addnum\n",
    "\n",
    "print(addnum(19,7))"
   ]
  },
  {
   "cell_type": "code",
   "execution_count": 3,
   "id": "41b1b9f6",
   "metadata": {},
   "outputs": [
    {
     "name": "stdout",
     "output_type": "stream",
     "text": [
      "12\n",
      "20\n",
      "5.0\n",
      "This is my function in module test1.\n",
      "None\n"
     ]
    }
   ],
   "source": [
    "from  test1 import *\n",
    "\n",
    "print(addnum(10,2))\n",
    "print(mulnum(10,2))\n",
    "print(divnum(10,2))\n",
    "print(myfun())\n"
   ]
  },
  {
   "cell_type": "code",
   "execution_count": 4,
   "id": "c33050e1",
   "metadata": {},
   "outputs": [],
   "source": [
    "from  test1 import *"
   ]
  },
  {
   "cell_type": "code",
   "execution_count": 6,
   "id": "a7b3839c",
   "metadata": {},
   "outputs": [
    {
     "data": {
      "text/plain": [
       "272"
      ]
     },
     "execution_count": 6,
     "metadata": {},
     "output_type": "execute_result"
    }
   ],
   "source": [
    "addnum(14,258)"
   ]
  },
  {
   "cell_type": "code",
   "execution_count": 7,
   "id": "707058b4",
   "metadata": {},
   "outputs": [
    {
     "name": "stdout",
     "output_type": "stream",
     "text": [
      " Volume in drive C has no label.\n",
      " Volume Serial Number is 0C7D-C860\n",
      "\n",
      " Directory of C:\\Users\\Kiran\\git_python_main\\Basic_Python\\Notes\\class_module_notes\n",
      "\n",
      "01-03-2022  05:04 PM    <DIR>          .\n",
      "01-03-2022  05:04 PM    <DIR>          ..\n",
      "01-03-2022  04:57 PM    <DIR>          .ipynb_checkpoints\n",
      "01-03-2022  05:04 PM             2,368 my_main.ipynb\n",
      "01-03-2022  04:57 PM                 0 my_main.py\n",
      "01-03-2022  05:02 PM               345 test1.py\n",
      "01-03-2022  05:03 PM    <DIR>          __pycache__\n",
      "               3 File(s)          2,713 bytes\n",
      "               4 Dir(s)  38,844,362,752 bytes free\n"
     ]
    }
   ],
   "source": [
    "!dir"
   ]
  },
  {
   "cell_type": "code",
   "execution_count": 10,
   "id": "2723b2ec",
   "metadata": {},
   "outputs": [
    {
     "data": {
      "text/plain": [
       "<_io.TextIOWrapper name='test2.py' mode='w' encoding='cp1252'>"
      ]
     },
     "execution_count": 10,
     "metadata": {},
     "output_type": "execute_result"
    }
   ],
   "source": [
    "open('test2.py','w')"
   ]
  },
  {
   "cell_type": "code",
   "execution_count": 12,
   "id": "514d1be5",
   "metadata": {},
   "outputs": [
    {
     "name": "stdout",
     "output_type": "stream",
     "text": [
      " Volume in drive C has no label.\n",
      " Volume Serial Number is 0C7D-C860\n",
      "\n",
      " Directory of C:\\Users\\Kiran\\git_python_main\\Basic_Python\\Notes\\class_module_notes\n",
      "\n",
      "01-03-2022  05:11 PM    <DIR>          .\n",
      "01-03-2022  05:11 PM    <DIR>          ..\n",
      "01-03-2022  04:57 PM    <DIR>          .ipynb_checkpoints\n",
      "01-03-2022  05:10 PM             3,668 my_main.ipynb\n",
      "01-03-2022  04:57 PM                 0 my_main.py\n",
      "01-03-2022  05:02 PM               345 test1.py\n",
      "01-03-2022  05:11 PM                 0 test2.py\n",
      "01-03-2022  05:03 PM    <DIR>          __pycache__\n",
      "               4 File(s)          4,013 bytes\n",
      "               4 Dir(s)  38,845,620,224 bytes free\n"
     ]
    }
   ],
   "source": [
    "!dir"
   ]
  },
  {
   "cell_type": "code",
   "execution_count": 14,
   "id": "c4f72c01",
   "metadata": {},
   "outputs": [
    {
     "name": "stdout",
     "output_type": "stream",
     "text": [
      " Volume in drive C has no label.\n",
      " Volume Serial Number is 0C7D-C860\n",
      "\n",
      " Directory of C:\\Users\\Kiran\\git_python_main\\Basic_Python\\Notes\\class_module_notes\n",
      "\n",
      "01-03-2022  05:12 PM    <DIR>          .\n",
      "01-03-2022  05:12 PM    <DIR>          ..\n",
      "01-03-2022  04:57 PM    <DIR>          .ipynb_checkpoints\n",
      "01-03-2022  05:03 PM    <DIR>          __pycache__\n",
      "01-03-2022  05:12 PM             4,799 my_main.ipynb\n",
      "01-03-2022  04:57 PM                 0 my_main.py\n",
      "01-03-2022  05:02 PM               345 test1.py\n",
      "01-03-2022  05:15 PM               266 test2.py\n",
      "               4 File(s)          5,410 bytes\n",
      "               4 Dir(s)  38,843,723,776 bytes free\n"
     ]
    }
   ],
   "source": [
    "ls"
   ]
  },
  {
   "cell_type": "code",
   "execution_count": 15,
   "id": "e8935951",
   "metadata": {},
   "outputs": [],
   "source": [
    "import test2"
   ]
  },
  {
   "cell_type": "code",
   "execution_count": 16,
   "id": "6ad61a7b",
   "metadata": {},
   "outputs": [
    {
     "data": {
      "text/plain": [
       "{'name': 'kiran', 'l_name': 'mungekar', 'age': 27, 'addr': 'virar'}"
      ]
     },
     "execution_count": 16,
     "metadata": {},
     "output_type": "execute_result"
    }
   ],
   "source": [
    "test2.data"
   ]
  },
  {
   "cell_type": "code",
   "execution_count": 17,
   "id": "b2825fb7",
   "metadata": {},
   "outputs": [
    {
     "data": {
      "text/plain": [
       "'kiran'"
      ]
     },
     "execution_count": 17,
     "metadata": {},
     "output_type": "execute_result"
    }
   ],
   "source": [
    "test2.getname()"
   ]
  },
  {
   "cell_type": "code",
   "execution_count": 18,
   "id": "618f79f0",
   "metadata": {},
   "outputs": [
    {
     "data": {
      "text/plain": [
       "'virar'"
      ]
     },
     "execution_count": 18,
     "metadata": {},
     "output_type": "execute_result"
    }
   ],
   "source": [
    "test2.getaddr()"
   ]
  },
  {
   "cell_type": "code",
   "execution_count": null,
   "id": "771d1c67",
   "metadata": {},
   "outputs": [],
   "source": []
  },
  {
   "cell_type": "markdown",
   "id": "466bb63b",
   "metadata": {},
   "source": [
    "# Packeges"
   ]
  },
  {
   "cell_type": "code",
   "execution_count": null,
   "id": "25f139e6",
   "metadata": {},
   "outputs": [],
   "source": []
  }
 ],
 "metadata": {
  "kernelspec": {
   "display_name": "Python 3 (ipykernel)",
   "language": "python",
   "name": "python3"
  },
  "language_info": {
   "codemirror_mode": {
    "name": "ipython",
    "version": 3
   },
   "file_extension": ".py",
   "mimetype": "text/x-python",
   "name": "python",
   "nbconvert_exporter": "python",
   "pygments_lexer": "ipython3",
   "version": "3.8.10"
  }
 },
 "nbformat": 4,
 "nbformat_minor": 5
}
