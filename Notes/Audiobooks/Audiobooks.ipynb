{
 "cells": [
  {
   "cell_type": "code",
   "execution_count": null,
   "metadata": {},
   "outputs": [],
   "source": []
  },
  {
   "cell_type": "code",
   "execution_count": null,
   "metadata": {},
   "outputs": [],
   "source": [
    "# step 1 : text to speech\n",
    "# !pip install pyttsx3\n",
    "import pyttsx3\n",
    "speaker = pyttsx3.init()\n",
    "speaker.say(\"Hello Kiran\")\n",
    "speaker.runAndWait()"
   ]
  },
  {
   "cell_type": "code",
   "execution_count": null,
   "metadata": {
    "scrolled": true
   },
   "outputs": [],
   "source": [
    "# step 2 : read .pdf\n",
    "# !pip install PyPDF2\n",
    "import PyPDF2\n",
    "book = open(\"object_oriented_python_tutorial.pdf\", \"rb\")\n",
    "pdfReader = PyPDF2.PdfFileReader(book)\n",
    "pages = pdfReader.numPages\n",
    "print(f\"pages : {pages}\")\n",
    "page = pdfReader.getPage(7)\n",
    "print(f\"page : {page}\")\n",
    "text = page.extractText()\n",
    "print(f\"text : {text}\")"
   ]
  },
  {
   "cell_type": "code",
   "execution_count": null,
   "metadata": {
    "scrolled": true
   },
   "outputs": [],
   "source": [
    "book = open(\"object_oriented_python_tutorial.pdf\", \"rb\")\n",
    "pdfReader = PyPDF2.PdfFileReader(book)\n",
    "pages = pdfReader.numPages\n",
    "speaker = pyttsx3.init()\n",
    "\n",
    "for pg_num in range(7, pages): \n",
    "    \n",
    "    speaker.say(f\"Page number {pg_num}\")\n",
    "    speaker.runAndWait()\n",
    "    \n",
    "    page = pdfReader.getPage(pg_num)\n",
    "    text = page.extractText()\n",
    "\n",
    "    speaker.say(text)\n",
    "    speaker.runAndWait()"
   ]
  },
  {
   "cell_type": "code",
   "execution_count": null,
   "metadata": {},
   "outputs": [],
   "source": []
  }
 ],
 "metadata": {
  "kernelspec": {
   "display_name": "Python 3",
   "language": "python",
   "name": "python3"
  },
  "language_info": {
   "codemirror_mode": {
    "name": "ipython",
    "version": 3
   },
   "file_extension": ".py",
   "mimetype": "text/x-python",
   "name": "python",
   "nbconvert_exporter": "python",
   "pygments_lexer": "ipython3",
   "version": "3.6.7"
  }
 },
 "nbformat": 4,
 "nbformat_minor": 2
}
