{
 "cells": [
  {
   "cell_type": "code",
   "execution_count": 1,
   "metadata": {},
   "outputs": [],
   "source": [
    "import requests\n",
    "from bs4 import BeautifulSoup as bs\n",
    "from urllib.request import urlopen as uReq\n",
    "from selenium import webdriver\n",
    "import time"
   ]
  },
  {
   "cell_type": "code",
   "execution_count": 2,
   "metadata": {},
   "outputs": [],
   "source": [
    "DRIVER_PATH = r'E:\\\\chromedriver.exe'\n",
    "url = \"https://courses.ineuron.ai/\""
   ]
  },
  {
   "cell_type": "code",
   "execution_count": 3,
   "metadata": {
    "scrolled": true
   },
   "outputs": [
    {
     "name": "stderr",
     "output_type": "stream",
     "text": [
      "C:\\Users\\Kiran\\AppData\\Local\\Temp\\ipykernel_6196\\2119741527.py:2: DeprecationWarning: executable_path has been deprecated, please pass in a Service object\n",
      "  driver = webdriver.Chrome(DRIVER_PATH)\n"
     ]
    }
   ],
   "source": [
    "# initiating the webdriver.\n",
    "driver = webdriver.Chrome(DRIVER_PATH) \n",
    "driver.get(url) \n",
    "  \n",
    "# this is just to ensure that the page is loaded\n",
    "time.sleep(5) "
   ]
  },
  {
   "cell_type": "code",
   "execution_count": 49,
   "metadata": {},
   "outputs": [],
   "source": []
  },
  {
   "cell_type": "code",
   "execution_count": 36,
   "metadata": {
    "scrolled": true
   },
   "outputs": [
    {
     "data": {
      "text/plain": [
       "'Courses Library | iNeuron.ai'"
      ]
     },
     "execution_count": 36,
     "metadata": {},
     "output_type": "execute_result"
    }
   ],
   "source": [
    "driver.title"
   ]
  },
  {
   "cell_type": "code",
   "execution_count": 37,
   "metadata": {},
   "outputs": [
    {
     "data": {
      "text/plain": [
       "'https://courses.ineuron.ai/'"
      ]
     },
     "execution_count": 37,
     "metadata": {},
     "output_type": "execute_result"
    }
   ],
   "source": [
    "driver.current_url"
   ]
  },
  {
   "cell_type": "code",
   "execution_count": 39,
   "metadata": {
    "scrolled": true
   },
   "outputs": [],
   "source": [
    "# driver.page_source"
   ]
  },
  {
   "cell_type": "code",
   "execution_count": 40,
   "metadata": {},
   "outputs": [
    {
     "name": "stderr",
     "output_type": "stream",
     "text": [
      "C:\\Users\\Kiran\\AppData\\Local\\Temp\\ipykernel_312\\1076266009.py:1: DeprecationWarning: find_elements_by_xpath is deprecated. Please use find_elements(by=By.XPATH, value=xpath) instead\n",
      "  myXpath = driver.find_elements_by_xpath('//*[@id=\"__next\"]/div[1]/section[2]/div/div[2]/div')\n"
     ]
    },
    {
     "data": {
      "text/plain": [
       "''"
      ]
     },
     "execution_count": 40,
     "metadata": {},
     "output_type": "execute_result"
    }
   ],
   "source": [
    "myXpath = driver.find_elements_by_xpath('//*[@id=\"__next\"]/div[1]/section[2]/div/div[2]/div')\n",
    "myXpath[0].text #.get_attribute('href')"
   ]
  },
  {
   "cell_type": "code",
   "execution_count": 41,
   "metadata": {},
   "outputs": [],
   "source": [
    "# myClass = driver.find_element_by_class_name('TopCategoryList_category-cards__LvHCa TopCategoryList_grid__2Pi2T grid')"
   ]
  },
  {
   "cell_type": "code",
   "execution_count": 42,
   "metadata": {},
   "outputs": [
    {
     "data": {
      "text/plain": [
       "['']"
      ]
     },
     "execution_count": 42,
     "metadata": {},
     "output_type": "execute_result"
    }
   ],
   "source": [
    "myXpath[0].text.split('\\n')"
   ]
  },
  {
   "cell_type": "code",
   "execution_count": 43,
   "metadata": {},
   "outputs": [
    {
     "name": "stderr",
     "output_type": "stream",
     "text": [
      "C:\\Users\\Kiran\\AppData\\Local\\Temp\\ipykernel_312\\1528991524.py:2: DeprecationWarning: find_element_by_link_text is deprecated. Please use find_element(by=By.LINK_TEXT, value=link_text) instead\n",
      "  continue_link = driver.find_element_by_link_text(j)\n"
     ]
    },
    {
     "name": "stdout",
     "output_type": "stream",
     "text": [
      "https://courses.ineuron.ai/\n"
     ]
    }
   ],
   "source": [
    "for j in myXpath[0].text.split('\\n'):\n",
    "    continue_link = driver.find_element_by_link_text(j)\n",
    "    print(continue_link.get_attribute('href'))\n",
    "    driver.get(continue_link.get_attribute('href'))\n",
    "    time.sleep(5)"
   ]
  },
  {
   "cell_type": "code",
   "execution_count": null,
   "metadata": {},
   "outputs": [],
   "source": []
  },
  {
   "cell_type": "code",
   "execution_count": 44,
   "metadata": {},
   "outputs": [],
   "source": [
    "# # get all image thumbnail results\n",
    "# results = driver.find_elements_by_css_selector(\"TopCategoryList_top-categories-card__atCLz\")\n",
    "# len_results = len(results)\n"
   ]
  },
  {
   "cell_type": "code",
   "execution_count": null,
   "metadata": {},
   "outputs": [],
   "source": []
  },
  {
   "cell_type": "code",
   "execution_count": null,
   "metadata": {},
   "outputs": [],
   "source": []
  },
  {
   "cell_type": "code",
   "execution_count": null,
   "metadata": {},
   "outputs": [],
   "source": []
  },
  {
   "cell_type": "code",
   "execution_count": null,
   "metadata": {},
   "outputs": [],
   "source": [
    "# https://selenium-python.readthedocs.io/"
   ]
  },
  {
   "cell_type": "code",
   "execution_count": null,
   "metadata": {},
   "outputs": [],
   "source": []
  },
  {
   "cell_type": "code",
   "execution_count": 51,
   "metadata": {},
   "outputs": [
    {
     "name": "stderr",
     "output_type": "stream",
     "text": [
      "C:\\Users\\Kiran\\AppData\\Local\\Temp\\ipykernel_6196\\4003521279.py:11: DeprecationWarning: executable_path has been deprecated, please pass in a Service object\n",
      "  driver = webdriver.Chrome(DRIVER_PATH)\n"
     ]
    },
    {
     "name": "stdout",
     "output_type": "stream",
     "text": [
      "Courses Library | iNeuron.ai  ||  https://courses.ineuron.ai/\n"
     ]
    }
   ],
   "source": [
    "import requests\n",
    "from bs4 import BeautifulSoup as bs\n",
    "from urllib.request import urlopen as uReq\n",
    "from selenium import webdriver\n",
    "import time\n",
    "\n",
    "DRIVER_PATH = r'E:\\\\chromedriver.exe'\n",
    "url = \"https://courses.ineuron.ai/\"\n",
    "\n",
    "# initiating the webdriver.\n",
    "driver = webdriver.Chrome(DRIVER_PATH) \n",
    "driver.get(url) \n",
    "  \n",
    "# this is just to ensure that the page is loaded\n",
    "time.sleep(1)\n",
    "\n",
    "print(driver.title, ' || ', driver.current_url)\n",
    "\n",
    "def scroll_to_end(wd):\n",
    "    wd.execute_script(\"window.scrollTo(0, document.body.scrollHeight);\")\n",
    "    time.sleep(20)"
   ]
  },
  {
   "cell_type": "code",
   "execution_count": 52,
   "metadata": {},
   "outputs": [
    {
     "name": "stderr",
     "output_type": "stream",
     "text": [
      "C:\\Users\\Kiran\\AppData\\Local\\Temp\\ipykernel_6196\\3913897333.py:2: DeprecationWarning: find_element_by_tag_name is deprecated. Please use find_element(by=By.TAG_NAME, value=name) instead\n",
      "  div_tag = driver.find_element_by_tag_name('div')\n"
     ]
    },
    {
     "data": {
      "text/plain": [
       "<selenium.webdriver.remote.webelement.WebElement (session=\"cf191dd8ac83ab2ffa446dadfc09cf4f\", element=\"2e25467e-9dfc-4201-a7f6-5224439db84e\")>"
      ]
     },
     "execution_count": 52,
     "metadata": {},
     "output_type": "execute_result"
    }
   ],
   "source": [
    "# Locating Elements by Tag Name\n",
    "div_tag = driver.find_element_by_tag_name('div')\n",
    "div_tag"
   ]
  },
  {
   "cell_type": "code",
   "execution_count": 53,
   "metadata": {},
   "outputs": [
    {
     "name": "stderr",
     "output_type": "stream",
     "text": [
      "C:\\Users\\Kiran\\AppData\\Local\\Temp\\ipykernel_6196\\2389797498.py:1: DeprecationWarning: find_elements_by_tag_name is deprecated. Please use find_elements(by=By.TAG_NAME, value=name) instead\n",
      "  div_tags = driver.find_elements_by_tag_name('div')\n"
     ]
    },
    {
     "data": {
      "text/plain": [
       "[<selenium.webdriver.remote.webelement.WebElement (session=\"cf191dd8ac83ab2ffa446dadfc09cf4f\", element=\"2e25467e-9dfc-4201-a7f6-5224439db84e\")>,\n",
       " <selenium.webdriver.remote.webelement.WebElement (session=\"cf191dd8ac83ab2ffa446dadfc09cf4f\", element=\"6fd9ebf9-ca32-4159-acfa-63710873ec78\")>,\n",
       " <selenium.webdriver.remote.webelement.WebElement (session=\"cf191dd8ac83ab2ffa446dadfc09cf4f\", element=\"518e7851-0809-4ecd-9ac0-c16ea15c3ecc\")>,\n",
       " <selenium.webdriver.remote.webelement.WebElement (session=\"cf191dd8ac83ab2ffa446dadfc09cf4f\", element=\"8a782bc9-8413-481b-8025-d57e81eba507\")>,\n",
       " <selenium.webdriver.remote.webelement.WebElement (session=\"cf191dd8ac83ab2ffa446dadfc09cf4f\", element=\"b03dc813-364a-4b9a-8113-31f6c24a5ded\")>,\n",
       " <selenium.webdriver.remote.webelement.WebElement (session=\"cf191dd8ac83ab2ffa446dadfc09cf4f\", element=\"245eef38-f1ab-469c-bad5-cdc2abdb95d5\")>,\n",
       " <selenium.webdriver.remote.webelement.WebElement (session=\"cf191dd8ac83ab2ffa446dadfc09cf4f\", element=\"f7b61fbc-c307-400c-ace9-a4a3bffe7233\")>,\n",
       " <selenium.webdriver.remote.webelement.WebElement (session=\"cf191dd8ac83ab2ffa446dadfc09cf4f\", element=\"ab78dd5c-63d8-41e6-997a-0ff012ed42e1\")>,\n",
       " <selenium.webdriver.remote.webelement.WebElement (session=\"cf191dd8ac83ab2ffa446dadfc09cf4f\", element=\"bd267676-b918-442c-b51b-991174974017\")>,\n",
       " <selenium.webdriver.remote.webelement.WebElement (session=\"cf191dd8ac83ab2ffa446dadfc09cf4f\", element=\"caf84914-d24c-4ed6-9822-2e712e0cfd65\")>,\n",
       " <selenium.webdriver.remote.webelement.WebElement (session=\"cf191dd8ac83ab2ffa446dadfc09cf4f\", element=\"7ff57013-b146-4118-8859-9126238dbf04\")>,\n",
       " <selenium.webdriver.remote.webelement.WebElement (session=\"cf191dd8ac83ab2ffa446dadfc09cf4f\", element=\"aeedb22e-d973-496b-9b9d-df84c4f2ab99\")>,\n",
       " <selenium.webdriver.remote.webelement.WebElement (session=\"cf191dd8ac83ab2ffa446dadfc09cf4f\", element=\"72625b18-b7c2-46ee-a052-1a68245b0b53\")>,\n",
       " <selenium.webdriver.remote.webelement.WebElement (session=\"cf191dd8ac83ab2ffa446dadfc09cf4f\", element=\"4e824416-14ac-4450-b972-2dd972304d5d\")>,\n",
       " <selenium.webdriver.remote.webelement.WebElement (session=\"cf191dd8ac83ab2ffa446dadfc09cf4f\", element=\"0ef631bc-40cf-496c-a962-38dedfe2444d\")>,\n",
       " <selenium.webdriver.remote.webelement.WebElement (session=\"cf191dd8ac83ab2ffa446dadfc09cf4f\", element=\"1c2cdcf6-9e72-4857-9cf4-b2a3edcb8032\")>,\n",
       " <selenium.webdriver.remote.webelement.WebElement (session=\"cf191dd8ac83ab2ffa446dadfc09cf4f\", element=\"ab8ff6a1-9e52-499b-97de-422e9be600f2\")>,\n",
       " <selenium.webdriver.remote.webelement.WebElement (session=\"cf191dd8ac83ab2ffa446dadfc09cf4f\", element=\"978511ca-71e9-4bc8-964e-ed9042b633da\")>,\n",
       " <selenium.webdriver.remote.webelement.WebElement (session=\"cf191dd8ac83ab2ffa446dadfc09cf4f\", element=\"5a4fac7d-5760-4419-b8ed-1305b4cb55d5\")>,\n",
       " <selenium.webdriver.remote.webelement.WebElement (session=\"cf191dd8ac83ab2ffa446dadfc09cf4f\", element=\"cbb33c80-01e4-462c-92b6-0286b89b0f93\")>,\n",
       " <selenium.webdriver.remote.webelement.WebElement (session=\"cf191dd8ac83ab2ffa446dadfc09cf4f\", element=\"a60671c1-012f-497c-9c0c-3d5032de6f31\")>,\n",
       " <selenium.webdriver.remote.webelement.WebElement (session=\"cf191dd8ac83ab2ffa446dadfc09cf4f\", element=\"ada0aa9c-604e-4065-92d0-c3df41e846b4\")>,\n",
       " <selenium.webdriver.remote.webelement.WebElement (session=\"cf191dd8ac83ab2ffa446dadfc09cf4f\", element=\"bfb9e625-1140-473f-9117-778f8a5f1539\")>,\n",
       " <selenium.webdriver.remote.webelement.WebElement (session=\"cf191dd8ac83ab2ffa446dadfc09cf4f\", element=\"2ea92a0f-48ee-4346-9814-7de8fafbcbc0\")>,\n",
       " <selenium.webdriver.remote.webelement.WebElement (session=\"cf191dd8ac83ab2ffa446dadfc09cf4f\", element=\"16c4162c-eb91-42de-9338-27efbb8d9b5c\")>,\n",
       " <selenium.webdriver.remote.webelement.WebElement (session=\"cf191dd8ac83ab2ffa446dadfc09cf4f\", element=\"dc397dae-4200-4647-bba7-286f0d16e7d5\")>,\n",
       " <selenium.webdriver.remote.webelement.WebElement (session=\"cf191dd8ac83ab2ffa446dadfc09cf4f\", element=\"a8d4f540-9c60-4f95-92a0-8b757c0dc054\")>,\n",
       " <selenium.webdriver.remote.webelement.WebElement (session=\"cf191dd8ac83ab2ffa446dadfc09cf4f\", element=\"588c1444-2783-46d7-92e9-5a80ee427b63\")>,\n",
       " <selenium.webdriver.remote.webelement.WebElement (session=\"cf191dd8ac83ab2ffa446dadfc09cf4f\", element=\"7c346911-c018-4d85-ac95-05568bb38cf4\")>,\n",
       " <selenium.webdriver.remote.webelement.WebElement (session=\"cf191dd8ac83ab2ffa446dadfc09cf4f\", element=\"a3580760-eaef-48d2-8068-00f60dc16663\")>,\n",
       " <selenium.webdriver.remote.webelement.WebElement (session=\"cf191dd8ac83ab2ffa446dadfc09cf4f\", element=\"cfa57ab0-8d81-43cd-9ca3-ac5ca70998b4\")>,\n",
       " <selenium.webdriver.remote.webelement.WebElement (session=\"cf191dd8ac83ab2ffa446dadfc09cf4f\", element=\"cd7e5c73-a09c-4a74-b4a9-3ff46afc3738\")>,\n",
       " <selenium.webdriver.remote.webelement.WebElement (session=\"cf191dd8ac83ab2ffa446dadfc09cf4f\", element=\"a157bc2d-667d-41bb-a35d-0121bf5227ce\")>,\n",
       " <selenium.webdriver.remote.webelement.WebElement (session=\"cf191dd8ac83ab2ffa446dadfc09cf4f\", element=\"4ee96646-3e86-41f8-a553-d485e4bf6a54\")>,\n",
       " <selenium.webdriver.remote.webelement.WebElement (session=\"cf191dd8ac83ab2ffa446dadfc09cf4f\", element=\"a1eabc11-c788-4c83-be98-345293df0d24\")>,\n",
       " <selenium.webdriver.remote.webelement.WebElement (session=\"cf191dd8ac83ab2ffa446dadfc09cf4f\", element=\"f48fb751-1e59-4178-a10f-db5c5dda92dd\")>,\n",
       " <selenium.webdriver.remote.webelement.WebElement (session=\"cf191dd8ac83ab2ffa446dadfc09cf4f\", element=\"4b759a9a-dfdd-4ea6-a20a-dc92bb984b71\")>,\n",
       " <selenium.webdriver.remote.webelement.WebElement (session=\"cf191dd8ac83ab2ffa446dadfc09cf4f\", element=\"c1574234-f41a-4858-a589-232799a8cfa1\")>,\n",
       " <selenium.webdriver.remote.webelement.WebElement (session=\"cf191dd8ac83ab2ffa446dadfc09cf4f\", element=\"350f8729-2e92-44e8-9d52-34c5072e0bbf\")>,\n",
       " <selenium.webdriver.remote.webelement.WebElement (session=\"cf191dd8ac83ab2ffa446dadfc09cf4f\", element=\"973455ad-5ac7-484c-bf06-49ce67d0ffb2\")>,\n",
       " <selenium.webdriver.remote.webelement.WebElement (session=\"cf191dd8ac83ab2ffa446dadfc09cf4f\", element=\"6255a6c0-e6ce-43cb-99c3-61a7fd42028c\")>,\n",
       " <selenium.webdriver.remote.webelement.WebElement (session=\"cf191dd8ac83ab2ffa446dadfc09cf4f\", element=\"65be82ba-bcdd-45fd-8681-3b082cc612e2\")>,\n",
       " <selenium.webdriver.remote.webelement.WebElement (session=\"cf191dd8ac83ab2ffa446dadfc09cf4f\", element=\"d4b89757-b149-4fd5-8061-f4b7285cc1ae\")>,\n",
       " <selenium.webdriver.remote.webelement.WebElement (session=\"cf191dd8ac83ab2ffa446dadfc09cf4f\", element=\"7235b57d-9920-4983-b28f-686de6059f90\")>,\n",
       " <selenium.webdriver.remote.webelement.WebElement (session=\"cf191dd8ac83ab2ffa446dadfc09cf4f\", element=\"1da16f82-6f47-47ea-a35a-9f6001ef5324\")>,\n",
       " <selenium.webdriver.remote.webelement.WebElement (session=\"cf191dd8ac83ab2ffa446dadfc09cf4f\", element=\"e9439bb1-9d4c-44d7-85f9-48dfd621198f\")>,\n",
       " <selenium.webdriver.remote.webelement.WebElement (session=\"cf191dd8ac83ab2ffa446dadfc09cf4f\", element=\"ace86d2d-e40c-4bc2-9a0a-b20f787fe1a7\")>,\n",
       " <selenium.webdriver.remote.webelement.WebElement (session=\"cf191dd8ac83ab2ffa446dadfc09cf4f\", element=\"a7626b88-622d-4de8-8c34-1ef12ddfa9be\")>,\n",
       " <selenium.webdriver.remote.webelement.WebElement (session=\"cf191dd8ac83ab2ffa446dadfc09cf4f\", element=\"507f1fff-2156-44c8-a472-4b5a26e3e7d0\")>,\n",
       " <selenium.webdriver.remote.webelement.WebElement (session=\"cf191dd8ac83ab2ffa446dadfc09cf4f\", element=\"5c5aab0b-06b6-4d6d-837c-eca6c3bfa5cc\")>,\n",
       " <selenium.webdriver.remote.webelement.WebElement (session=\"cf191dd8ac83ab2ffa446dadfc09cf4f\", element=\"b0336ea7-0b98-4791-be1a-f6b31dedfa1b\")>,\n",
       " <selenium.webdriver.remote.webelement.WebElement (session=\"cf191dd8ac83ab2ffa446dadfc09cf4f\", element=\"c987ca41-8e29-407e-9a51-0f5271fa2006\")>,\n",
       " <selenium.webdriver.remote.webelement.WebElement (session=\"cf191dd8ac83ab2ffa446dadfc09cf4f\", element=\"e147f5c7-7b0c-4d18-b44e-cc4e047f3f01\")>,\n",
       " <selenium.webdriver.remote.webelement.WebElement (session=\"cf191dd8ac83ab2ffa446dadfc09cf4f\", element=\"9699cd46-888b-4bae-9b4a-691a0e933278\")>,\n",
       " <selenium.webdriver.remote.webelement.WebElement (session=\"cf191dd8ac83ab2ffa446dadfc09cf4f\", element=\"8908af9a-4472-43d6-b33a-e34cc97ba331\")>,\n",
       " <selenium.webdriver.remote.webelement.WebElement (session=\"cf191dd8ac83ab2ffa446dadfc09cf4f\", element=\"f65ca472-6d62-496d-af02-5d48749ee9f8\")>,\n",
       " <selenium.webdriver.remote.webelement.WebElement (session=\"cf191dd8ac83ab2ffa446dadfc09cf4f\", element=\"0fa885aa-3159-4a48-8bbb-a513fa78b910\")>,\n",
       " <selenium.webdriver.remote.webelement.WebElement (session=\"cf191dd8ac83ab2ffa446dadfc09cf4f\", element=\"d17a4a88-e3d8-4411-91e9-8d023fb9a14f\")>,\n",
       " <selenium.webdriver.remote.webelement.WebElement (session=\"cf191dd8ac83ab2ffa446dadfc09cf4f\", element=\"9daed3ac-6ee3-4bbe-bdf5-80c4371f50c1\")>,\n",
       " <selenium.webdriver.remote.webelement.WebElement (session=\"cf191dd8ac83ab2ffa446dadfc09cf4f\", element=\"5dcf0278-9e92-4ec7-8981-f979bf48c249\")>,\n",
       " <selenium.webdriver.remote.webelement.WebElement (session=\"cf191dd8ac83ab2ffa446dadfc09cf4f\", element=\"7f6de71b-0edb-49d4-9db0-c591b6fd22c3\")>,\n",
       " <selenium.webdriver.remote.webelement.WebElement (session=\"cf191dd8ac83ab2ffa446dadfc09cf4f\", element=\"b87a4824-4a5f-4c33-b7c9-d4b352f530d5\")>,\n",
       " <selenium.webdriver.remote.webelement.WebElement (session=\"cf191dd8ac83ab2ffa446dadfc09cf4f\", element=\"ada4cce1-ea13-4bb3-854a-bd0ce6b5d0ae\")>,\n",
       " <selenium.webdriver.remote.webelement.WebElement (session=\"cf191dd8ac83ab2ffa446dadfc09cf4f\", element=\"6c9d3a19-9fb6-4be3-8ab3-b1ff0cad893b\")>,\n",
       " <selenium.webdriver.remote.webelement.WebElement (session=\"cf191dd8ac83ab2ffa446dadfc09cf4f\", element=\"f3a3c5ce-92a8-41a2-b5ce-4a3b45a4ac22\")>,\n",
       " <selenium.webdriver.remote.webelement.WebElement (session=\"cf191dd8ac83ab2ffa446dadfc09cf4f\", element=\"89343f35-7d0e-4285-b1e0-a8e1ca7c740e\")>,\n",
       " <selenium.webdriver.remote.webelement.WebElement (session=\"cf191dd8ac83ab2ffa446dadfc09cf4f\", element=\"36d90e08-01e1-463d-bfd1-f2474bf36662\")>,\n",
       " <selenium.webdriver.remote.webelement.WebElement (session=\"cf191dd8ac83ab2ffa446dadfc09cf4f\", element=\"67400a0b-2159-4236-88cd-29c69144632f\")>,\n",
       " <selenium.webdriver.remote.webelement.WebElement (session=\"cf191dd8ac83ab2ffa446dadfc09cf4f\", element=\"d5db82b5-3559-4e53-8e26-f16a8895ef36\")>,\n",
       " <selenium.webdriver.remote.webelement.WebElement (session=\"cf191dd8ac83ab2ffa446dadfc09cf4f\", element=\"af607411-3a7e-48cb-ae05-f860e7675cb1\")>,\n",
       " <selenium.webdriver.remote.webelement.WebElement (session=\"cf191dd8ac83ab2ffa446dadfc09cf4f\", element=\"7788fd88-6662-44a7-acf3-aa3e5c75afbd\")>,\n",
       " <selenium.webdriver.remote.webelement.WebElement (session=\"cf191dd8ac83ab2ffa446dadfc09cf4f\", element=\"11f6a44d-7f6d-482f-a17f-9422136975e1\")>,\n",
       " <selenium.webdriver.remote.webelement.WebElement (session=\"cf191dd8ac83ab2ffa446dadfc09cf4f\", element=\"578da4c2-065e-4b12-9869-74d59645e1b2\")>,\n",
       " <selenium.webdriver.remote.webelement.WebElement (session=\"cf191dd8ac83ab2ffa446dadfc09cf4f\", element=\"563cbffc-f208-4f13-8ee3-84439e01c842\")>,\n",
       " <selenium.webdriver.remote.webelement.WebElement (session=\"cf191dd8ac83ab2ffa446dadfc09cf4f\", element=\"ae92ca90-52e6-4a7f-a736-51bee728aa49\")>,\n",
       " <selenium.webdriver.remote.webelement.WebElement (session=\"cf191dd8ac83ab2ffa446dadfc09cf4f\", element=\"9a0fb9d3-2111-4046-8d30-b9329bd2f2fb\")>,\n",
       " <selenium.webdriver.remote.webelement.WebElement (session=\"cf191dd8ac83ab2ffa446dadfc09cf4f\", element=\"d8e0f667-0c21-4653-8230-2c1449936200\")>,\n",
       " <selenium.webdriver.remote.webelement.WebElement (session=\"cf191dd8ac83ab2ffa446dadfc09cf4f\", element=\"9b3df6cb-ca08-49a0-9b7e-35f693e33e62\")>,\n",
       " <selenium.webdriver.remote.webelement.WebElement (session=\"cf191dd8ac83ab2ffa446dadfc09cf4f\", element=\"c03688a8-cf71-4e28-8765-48bc1f196892\")>,\n",
       " <selenium.webdriver.remote.webelement.WebElement (session=\"cf191dd8ac83ab2ffa446dadfc09cf4f\", element=\"bb0471a2-833a-4b47-9b29-e4274099f15d\")>,\n",
       " <selenium.webdriver.remote.webelement.WebElement (session=\"cf191dd8ac83ab2ffa446dadfc09cf4f\", element=\"09686e83-d342-47e9-a3d1-d470ec3bf51a\")>,\n",
       " <selenium.webdriver.remote.webelement.WebElement (session=\"cf191dd8ac83ab2ffa446dadfc09cf4f\", element=\"8b7d07e1-01af-4395-bbc3-387dbfe10432\")>,\n",
       " <selenium.webdriver.remote.webelement.WebElement (session=\"cf191dd8ac83ab2ffa446dadfc09cf4f\", element=\"d66d480b-3085-4266-a53d-7cf1d94a83aa\")>,\n",
       " <selenium.webdriver.remote.webelement.WebElement (session=\"cf191dd8ac83ab2ffa446dadfc09cf4f\", element=\"78773ebd-5bc3-426f-bb6d-1bf965f35710\")>,\n",
       " <selenium.webdriver.remote.webelement.WebElement (session=\"cf191dd8ac83ab2ffa446dadfc09cf4f\", element=\"9b204e3e-6f2d-4aab-ac14-52f00959e9ba\")>,\n",
       " <selenium.webdriver.remote.webelement.WebElement (session=\"cf191dd8ac83ab2ffa446dadfc09cf4f\", element=\"42fd932b-9ee6-4d39-abfd-454f8929fbc6\")>,\n",
       " <selenium.webdriver.remote.webelement.WebElement (session=\"cf191dd8ac83ab2ffa446dadfc09cf4f\", element=\"af42e5f3-dc5d-4727-a8b4-0c0cd874de9a\")>,\n",
       " <selenium.webdriver.remote.webelement.WebElement (session=\"cf191dd8ac83ab2ffa446dadfc09cf4f\", element=\"0033ba4c-ef47-4f39-ab9b-1954fda33866\")>,\n",
       " <selenium.webdriver.remote.webelement.WebElement (session=\"cf191dd8ac83ab2ffa446dadfc09cf4f\", element=\"364d62b7-91f4-441b-ae48-4524145aff6f\")>,\n",
       " <selenium.webdriver.remote.webelement.WebElement (session=\"cf191dd8ac83ab2ffa446dadfc09cf4f\", element=\"decd93b3-7ca4-471a-870c-0e7c4292a527\")>,\n",
       " <selenium.webdriver.remote.webelement.WebElement (session=\"cf191dd8ac83ab2ffa446dadfc09cf4f\", element=\"5964e9d6-2908-458a-97aa-5f6557676220\")>,\n",
       " <selenium.webdriver.remote.webelement.WebElement (session=\"cf191dd8ac83ab2ffa446dadfc09cf4f\", element=\"663e3d9c-1c8f-4ca6-aaed-653df7834feb\")>,\n",
       " <selenium.webdriver.remote.webelement.WebElement (session=\"cf191dd8ac83ab2ffa446dadfc09cf4f\", element=\"84f9abca-e2c2-4087-bff2-f3cce60319f7\")>,\n",
       " <selenium.webdriver.remote.webelement.WebElement (session=\"cf191dd8ac83ab2ffa446dadfc09cf4f\", element=\"37a52e3f-67de-4e6b-9249-e38579f08c5a\")>,\n",
       " <selenium.webdriver.remote.webelement.WebElement (session=\"cf191dd8ac83ab2ffa446dadfc09cf4f\", element=\"bd7630b6-7210-4735-8ca5-0fc5c80a5870\")>,\n",
       " <selenium.webdriver.remote.webelement.WebElement (session=\"cf191dd8ac83ab2ffa446dadfc09cf4f\", element=\"bc5cb9fe-4beb-4c74-8743-cf1fe4c6e202\")>,\n",
       " <selenium.webdriver.remote.webelement.WebElement (session=\"cf191dd8ac83ab2ffa446dadfc09cf4f\", element=\"6913eae8-71ba-4a92-91e2-2db47fc97a95\")>,\n",
       " <selenium.webdriver.remote.webelement.WebElement (session=\"cf191dd8ac83ab2ffa446dadfc09cf4f\", element=\"62613c2e-41d6-44bc-bf9d-0cecd34e4f61\")>,\n",
       " <selenium.webdriver.remote.webelement.WebElement (session=\"cf191dd8ac83ab2ffa446dadfc09cf4f\", element=\"ab391195-cd6c-4fdb-8005-809fe9c9e54d\")>,\n",
       " <selenium.webdriver.remote.webelement.WebElement (session=\"cf191dd8ac83ab2ffa446dadfc09cf4f\", element=\"70080666-bc1d-4c9b-9dae-e5c43cf79230\")>,\n",
       " <selenium.webdriver.remote.webelement.WebElement (session=\"cf191dd8ac83ab2ffa446dadfc09cf4f\", element=\"fc127a70-a948-42ed-a7de-b502243f2962\")>,\n",
       " <selenium.webdriver.remote.webelement.WebElement (session=\"cf191dd8ac83ab2ffa446dadfc09cf4f\", element=\"fa4fe350-08d5-4fb0-a3b2-42e9faf2a028\")>,\n",
       " <selenium.webdriver.remote.webelement.WebElement (session=\"cf191dd8ac83ab2ffa446dadfc09cf4f\", element=\"eb3d82a1-5264-4c4e-8f55-d657edc2b95e\")>,\n",
       " <selenium.webdriver.remote.webelement.WebElement (session=\"cf191dd8ac83ab2ffa446dadfc09cf4f\", element=\"05b4122d-f3df-469f-b595-030a8fd08486\")>,\n",
       " <selenium.webdriver.remote.webelement.WebElement (session=\"cf191dd8ac83ab2ffa446dadfc09cf4f\", element=\"11281cd5-6f34-4438-95ce-ffcaa22eb479\")>,\n",
       " <selenium.webdriver.remote.webelement.WebElement (session=\"cf191dd8ac83ab2ffa446dadfc09cf4f\", element=\"e4389d6c-d9e3-4718-bcdc-e79b2d017d7c\")>,\n",
       " <selenium.webdriver.remote.webelement.WebElement (session=\"cf191dd8ac83ab2ffa446dadfc09cf4f\", element=\"af9683ef-f6d3-4218-8a0d-ab69892ed629\")>,\n",
       " <selenium.webdriver.remote.webelement.WebElement (session=\"cf191dd8ac83ab2ffa446dadfc09cf4f\", element=\"066a46bd-7cf1-4180-8549-d9118f0727ae\")>,\n",
       " <selenium.webdriver.remote.webelement.WebElement (session=\"cf191dd8ac83ab2ffa446dadfc09cf4f\", element=\"82d100b6-2309-4b69-abce-7f99bb57386e\")>,\n",
       " <selenium.webdriver.remote.webelement.WebElement (session=\"cf191dd8ac83ab2ffa446dadfc09cf4f\", element=\"147f602f-616c-4d83-8b5b-92dc51790541\")>,\n",
       " <selenium.webdriver.remote.webelement.WebElement (session=\"cf191dd8ac83ab2ffa446dadfc09cf4f\", element=\"7121eca9-8e13-4c6e-97c6-87f0b016693c\")>,\n",
       " <selenium.webdriver.remote.webelement.WebElement (session=\"cf191dd8ac83ab2ffa446dadfc09cf4f\", element=\"4b9c9770-9483-424d-af13-111103bd17c5\")>,\n",
       " <selenium.webdriver.remote.webelement.WebElement (session=\"cf191dd8ac83ab2ffa446dadfc09cf4f\", element=\"c52032a9-f367-4442-858a-964c84dba159\")>,\n",
       " <selenium.webdriver.remote.webelement.WebElement (session=\"cf191dd8ac83ab2ffa446dadfc09cf4f\", element=\"ab040a68-74de-4524-88e9-fa75e420dba7\")>,\n",
       " <selenium.webdriver.remote.webelement.WebElement (session=\"cf191dd8ac83ab2ffa446dadfc09cf4f\", element=\"7873fcdb-346b-4642-9b2f-6985ea12f9ec\")>,\n",
       " <selenium.webdriver.remote.webelement.WebElement (session=\"cf191dd8ac83ab2ffa446dadfc09cf4f\", element=\"e8f1ae87-a463-4821-a442-1bb0e041bdaa\")>,\n",
       " <selenium.webdriver.remote.webelement.WebElement (session=\"cf191dd8ac83ab2ffa446dadfc09cf4f\", element=\"51ac363f-5c9c-4370-a6fe-e2d251b38dff\")>,\n",
       " <selenium.webdriver.remote.webelement.WebElement (session=\"cf191dd8ac83ab2ffa446dadfc09cf4f\", element=\"0c7d5899-bd09-4379-872f-1b3a7e23531a\")>,\n",
       " <selenium.webdriver.remote.webelement.WebElement (session=\"cf191dd8ac83ab2ffa446dadfc09cf4f\", element=\"737f1439-5bd1-47ee-b20d-901a62d58c93\")>,\n",
       " <selenium.webdriver.remote.webelement.WebElement (session=\"cf191dd8ac83ab2ffa446dadfc09cf4f\", element=\"6208a544-5bdd-460a-9c0d-e25570c59e5f\")>,\n",
       " <selenium.webdriver.remote.webelement.WebElement (session=\"cf191dd8ac83ab2ffa446dadfc09cf4f\", element=\"c654eaf4-ded4-4ca4-9f3b-ef32707251ce\")>,\n",
       " <selenium.webdriver.remote.webelement.WebElement (session=\"cf191dd8ac83ab2ffa446dadfc09cf4f\", element=\"6cfebcf1-dcc2-4f42-9d17-0a6b79dc03bc\")>,\n",
       " <selenium.webdriver.remote.webelement.WebElement (session=\"cf191dd8ac83ab2ffa446dadfc09cf4f\", element=\"a75b99ff-4710-44a7-b7db-a2e4664108d1\")>,\n",
       " <selenium.webdriver.remote.webelement.WebElement (session=\"cf191dd8ac83ab2ffa446dadfc09cf4f\", element=\"19127eb4-e996-4d55-b06c-d595572f2e5f\")>,\n",
       " <selenium.webdriver.remote.webelement.WebElement (session=\"cf191dd8ac83ab2ffa446dadfc09cf4f\", element=\"73ee4e8d-2a52-4353-8d4b-fc401614ac6e\")>,\n",
       " <selenium.webdriver.remote.webelement.WebElement (session=\"cf191dd8ac83ab2ffa446dadfc09cf4f\", element=\"239f3199-023f-437b-b286-ba08a602cb49\")>,\n",
       " <selenium.webdriver.remote.webelement.WebElement (session=\"cf191dd8ac83ab2ffa446dadfc09cf4f\", element=\"bba37ece-9580-40d8-a298-51b45a2f2d04\")>,\n",
       " <selenium.webdriver.remote.webelement.WebElement (session=\"cf191dd8ac83ab2ffa446dadfc09cf4f\", element=\"838e8a10-e526-4c93-b0b7-99df1070fa6a\")>,\n",
       " <selenium.webdriver.remote.webelement.WebElement (session=\"cf191dd8ac83ab2ffa446dadfc09cf4f\", element=\"7a41a557-863c-4697-a236-1302a5c2ff3f\")>,\n",
       " <selenium.webdriver.remote.webelement.WebElement (session=\"cf191dd8ac83ab2ffa446dadfc09cf4f\", element=\"b40a0cc7-9022-4619-9d98-475922f8b337\")>,\n",
       " <selenium.webdriver.remote.webelement.WebElement (session=\"cf191dd8ac83ab2ffa446dadfc09cf4f\", element=\"3359d67f-57c1-4196-8cf2-9bd4c4725921\")>,\n",
       " <selenium.webdriver.remote.webelement.WebElement (session=\"cf191dd8ac83ab2ffa446dadfc09cf4f\", element=\"168a2794-2dab-4d04-b9e8-5dfec6f8d8fa\")>,\n",
       " <selenium.webdriver.remote.webelement.WebElement (session=\"cf191dd8ac83ab2ffa446dadfc09cf4f\", element=\"6c56825b-fa77-46f1-9a1c-d3df4755362d\")>,\n",
       " <selenium.webdriver.remote.webelement.WebElement (session=\"cf191dd8ac83ab2ffa446dadfc09cf4f\", element=\"12b8f4da-e7a6-41d2-a700-7b444da9ed5f\")>,\n",
       " <selenium.webdriver.remote.webelement.WebElement (session=\"cf191dd8ac83ab2ffa446dadfc09cf4f\", element=\"2f317fc0-7dc0-4526-86f4-e83dea3eadb0\")>,\n",
       " <selenium.webdriver.remote.webelement.WebElement (session=\"cf191dd8ac83ab2ffa446dadfc09cf4f\", element=\"6ecbbe14-37cb-4648-bf0d-60cad3dcb96e\")>,\n",
       " <selenium.webdriver.remote.webelement.WebElement (session=\"cf191dd8ac83ab2ffa446dadfc09cf4f\", element=\"1ea11fb9-c898-49a7-a4dd-c5cbbc4482dd\")>,\n",
       " <selenium.webdriver.remote.webelement.WebElement (session=\"cf191dd8ac83ab2ffa446dadfc09cf4f\", element=\"5065363e-09de-4123-8681-3bccdfa4af1a\")>,\n",
       " <selenium.webdriver.remote.webelement.WebElement (session=\"cf191dd8ac83ab2ffa446dadfc09cf4f\", element=\"dfb84732-aad7-48eb-b2fa-ead1c3f9d52b\")>,\n",
       " <selenium.webdriver.remote.webelement.WebElement (session=\"cf191dd8ac83ab2ffa446dadfc09cf4f\", element=\"7102393f-642a-4c37-85be-cbe171fe0ac2\")>,\n",
       " <selenium.webdriver.remote.webelement.WebElement (session=\"cf191dd8ac83ab2ffa446dadfc09cf4f\", element=\"ee3465c9-93b2-48c3-9cb8-080e9ca4dc9f\")>,\n",
       " <selenium.webdriver.remote.webelement.WebElement (session=\"cf191dd8ac83ab2ffa446dadfc09cf4f\", element=\"73de404a-b0bc-4677-b46b-d3f6a6dc6809\")>,\n",
       " <selenium.webdriver.remote.webelement.WebElement (session=\"cf191dd8ac83ab2ffa446dadfc09cf4f\", element=\"554d76f5-e421-4dd0-8681-13f0da0c1ee9\")>,\n",
       " <selenium.webdriver.remote.webelement.WebElement (session=\"cf191dd8ac83ab2ffa446dadfc09cf4f\", element=\"13abac05-1ac6-4e4d-b8cd-722706addc6a\")>,\n",
       " <selenium.webdriver.remote.webelement.WebElement (session=\"cf191dd8ac83ab2ffa446dadfc09cf4f\", element=\"f7025bec-de73-4c08-8558-fefc829d7a6f\")>,\n",
       " <selenium.webdriver.remote.webelement.WebElement (session=\"cf191dd8ac83ab2ffa446dadfc09cf4f\", element=\"94b7adad-e0cc-4913-aded-ea3ebcf4b6fa\")>,\n",
       " <selenium.webdriver.remote.webelement.WebElement (session=\"cf191dd8ac83ab2ffa446dadfc09cf4f\", element=\"e947c0e5-fc4d-44c3-8856-4db8689629f4\")>,\n",
       " <selenium.webdriver.remote.webelement.WebElement (session=\"cf191dd8ac83ab2ffa446dadfc09cf4f\", element=\"1691702c-07ec-4ebb-b75f-74c779f7f36f\")>,\n",
       " <selenium.webdriver.remote.webelement.WebElement (session=\"cf191dd8ac83ab2ffa446dadfc09cf4f\", element=\"ffb5a7da-1146-4309-8b18-a2c9a5d0d037\")>,\n",
       " <selenium.webdriver.remote.webelement.WebElement (session=\"cf191dd8ac83ab2ffa446dadfc09cf4f\", element=\"ede9a95d-f170-4428-9f83-f89570cfffa1\")>,\n",
       " <selenium.webdriver.remote.webelement.WebElement (session=\"cf191dd8ac83ab2ffa446dadfc09cf4f\", element=\"2289e47a-c969-4d05-b1f8-76f72bf442c0\")>,\n",
       " <selenium.webdriver.remote.webelement.WebElement (session=\"cf191dd8ac83ab2ffa446dadfc09cf4f\", element=\"4b346db0-c94f-4f5b-beed-2a2c2ef714c5\")>,\n",
       " <selenium.webdriver.remote.webelement.WebElement (session=\"cf191dd8ac83ab2ffa446dadfc09cf4f\", element=\"4da0fa3b-59ed-4b6b-9841-048eb1990a7d\")>,\n",
       " <selenium.webdriver.remote.webelement.WebElement (session=\"cf191dd8ac83ab2ffa446dadfc09cf4f\", element=\"fa2a477b-b75f-44ce-8a87-94edd2e6b188\")>,\n",
       " <selenium.webdriver.remote.webelement.WebElement (session=\"cf191dd8ac83ab2ffa446dadfc09cf4f\", element=\"5070d81d-a990-4768-81dc-b0e54969a26e\")>,\n",
       " <selenium.webdriver.remote.webelement.WebElement (session=\"cf191dd8ac83ab2ffa446dadfc09cf4f\", element=\"2f076523-ee4f-4d76-b3a9-f09e260fd417\")>,\n",
       " <selenium.webdriver.remote.webelement.WebElement (session=\"cf191dd8ac83ab2ffa446dadfc09cf4f\", element=\"327cf844-620f-4015-ac35-2ae78c953b66\")>,\n",
       " <selenium.webdriver.remote.webelement.WebElement (session=\"cf191dd8ac83ab2ffa446dadfc09cf4f\", element=\"d27ab6b9-11ae-4e2a-be0e-4f6f8da3a76d\")>,\n",
       " <selenium.webdriver.remote.webelement.WebElement (session=\"cf191dd8ac83ab2ffa446dadfc09cf4f\", element=\"ffac6350-c632-445f-ac19-78836e75c9c8\")>,\n",
       " <selenium.webdriver.remote.webelement.WebElement (session=\"cf191dd8ac83ab2ffa446dadfc09cf4f\", element=\"82de4ed9-26cb-4b3f-a212-41bc7d4f062f\")>,\n",
       " <selenium.webdriver.remote.webelement.WebElement (session=\"cf191dd8ac83ab2ffa446dadfc09cf4f\", element=\"18f7265c-8a36-4371-96d6-087817417cd3\")>,\n",
       " <selenium.webdriver.remote.webelement.WebElement (session=\"cf191dd8ac83ab2ffa446dadfc09cf4f\", element=\"af13f3db-627b-486c-b3eb-7c7b577b73ed\")>,\n",
       " <selenium.webdriver.remote.webelement.WebElement (session=\"cf191dd8ac83ab2ffa446dadfc09cf4f\", element=\"16079aed-cc11-43aa-a1e8-f9e18e99db6d\")>,\n",
       " <selenium.webdriver.remote.webelement.WebElement (session=\"cf191dd8ac83ab2ffa446dadfc09cf4f\", element=\"3420d64c-b8e5-40ab-bf45-fbd20d4e375f\")>,\n",
       " <selenium.webdriver.remote.webelement.WebElement (session=\"cf191dd8ac83ab2ffa446dadfc09cf4f\", element=\"3d043f5f-4d92-4fa4-b692-1fd7c2843ddd\")>,\n",
       " <selenium.webdriver.remote.webelement.WebElement (session=\"cf191dd8ac83ab2ffa446dadfc09cf4f\", element=\"b1535504-5bfd-44f5-b1f5-12ef284058dc\")>,\n",
       " <selenium.webdriver.remote.webelement.WebElement (session=\"cf191dd8ac83ab2ffa446dadfc09cf4f\", element=\"368b7922-1d20-4e14-88ae-5fee33d2e7e3\")>,\n",
       " <selenium.webdriver.remote.webelement.WebElement (session=\"cf191dd8ac83ab2ffa446dadfc09cf4f\", element=\"3a8e1a2f-b74e-4104-801a-169478e622bf\")>,\n",
       " <selenium.webdriver.remote.webelement.WebElement (session=\"cf191dd8ac83ab2ffa446dadfc09cf4f\", element=\"d2d25650-2bf1-4d3a-8171-21613fbe8de8\")>,\n",
       " <selenium.webdriver.remote.webelement.WebElement (session=\"cf191dd8ac83ab2ffa446dadfc09cf4f\", element=\"66d74833-ae60-4a46-adab-1e711e314a21\")>,\n",
       " <selenium.webdriver.remote.webelement.WebElement (session=\"cf191dd8ac83ab2ffa446dadfc09cf4f\", element=\"d21526ce-6af7-4f94-b607-55df0ebe50a9\")>,\n",
       " <selenium.webdriver.remote.webelement.WebElement (session=\"cf191dd8ac83ab2ffa446dadfc09cf4f\", element=\"07b1336d-f6ce-4af5-a63f-c2b79da21e5c\")>,\n",
       " <selenium.webdriver.remote.webelement.WebElement (session=\"cf191dd8ac83ab2ffa446dadfc09cf4f\", element=\"6d615d6e-0682-46d6-ba73-8637684470f4\")>,\n",
       " <selenium.webdriver.remote.webelement.WebElement (session=\"cf191dd8ac83ab2ffa446dadfc09cf4f\", element=\"c6299e14-4186-4c74-8137-86c67c0af1cf\")>,\n",
       " <selenium.webdriver.remote.webelement.WebElement (session=\"cf191dd8ac83ab2ffa446dadfc09cf4f\", element=\"4541169a-6435-40d6-b054-1c5a59b7044a\")>,\n",
       " <selenium.webdriver.remote.webelement.WebElement (session=\"cf191dd8ac83ab2ffa446dadfc09cf4f\", element=\"0d442cd8-c01f-420c-b923-fc57df44ba0c\")>,\n",
       " <selenium.webdriver.remote.webelement.WebElement (session=\"cf191dd8ac83ab2ffa446dadfc09cf4f\", element=\"b916acd8-b2c0-4201-8ef0-44df12f1351a\")>,\n",
       " <selenium.webdriver.remote.webelement.WebElement (session=\"cf191dd8ac83ab2ffa446dadfc09cf4f\", element=\"90243679-9c4b-4f8d-8585-c4addb807bd9\")>,\n",
       " <selenium.webdriver.remote.webelement.WebElement (session=\"cf191dd8ac83ab2ffa446dadfc09cf4f\", element=\"b114d74c-3c4f-4c28-bc20-32818f21e607\")>,\n",
       " <selenium.webdriver.remote.webelement.WebElement (session=\"cf191dd8ac83ab2ffa446dadfc09cf4f\", element=\"29d496d9-a578-4ff6-8526-72050588861a\")>,\n",
       " <selenium.webdriver.remote.webelement.WebElement (session=\"cf191dd8ac83ab2ffa446dadfc09cf4f\", element=\"de18bb84-3094-4e11-8905-01f69c903d22\")>,\n",
       " <selenium.webdriver.remote.webelement.WebElement (session=\"cf191dd8ac83ab2ffa446dadfc09cf4f\", element=\"8d467585-c796-48f0-8956-b6284a1ce7db\")>,\n",
       " <selenium.webdriver.remote.webelement.WebElement (session=\"cf191dd8ac83ab2ffa446dadfc09cf4f\", element=\"cb856fc4-842b-46e6-9d86-1143559caf61\")>,\n",
       " <selenium.webdriver.remote.webelement.WebElement (session=\"cf191dd8ac83ab2ffa446dadfc09cf4f\", element=\"a8a5cbd6-6834-4d88-8429-ecd5a33c0db6\")>,\n",
       " <selenium.webdriver.remote.webelement.WebElement (session=\"cf191dd8ac83ab2ffa446dadfc09cf4f\", element=\"6b205afb-31d4-4d4b-b1e9-ee0bc05745fd\")>,\n",
       " <selenium.webdriver.remote.webelement.WebElement (session=\"cf191dd8ac83ab2ffa446dadfc09cf4f\", element=\"1edf676b-1cad-49ef-8cdb-3d759d2a976a\")>,\n",
       " <selenium.webdriver.remote.webelement.WebElement (session=\"cf191dd8ac83ab2ffa446dadfc09cf4f\", element=\"8f89d806-6829-43e8-8c8a-c0c8a8b813e7\")>,\n",
       " <selenium.webdriver.remote.webelement.WebElement (session=\"cf191dd8ac83ab2ffa446dadfc09cf4f\", element=\"f6e94a84-e42c-4e84-b40d-3d611ec20d92\")>,\n",
       " <selenium.webdriver.remote.webelement.WebElement (session=\"cf191dd8ac83ab2ffa446dadfc09cf4f\", element=\"a4f3cea1-e00e-424f-989f-d46d4b8838f5\")>,\n",
       " <selenium.webdriver.remote.webelement.WebElement (session=\"cf191dd8ac83ab2ffa446dadfc09cf4f\", element=\"b6dcf0f3-71e2-4e61-b03c-0eb88a76883f\")>,\n",
       " <selenium.webdriver.remote.webelement.WebElement (session=\"cf191dd8ac83ab2ffa446dadfc09cf4f\", element=\"24dcfec6-0af0-4019-b970-bc685522d95f\")>,\n",
       " <selenium.webdriver.remote.webelement.WebElement (session=\"cf191dd8ac83ab2ffa446dadfc09cf4f\", element=\"bbce15ea-eb97-4012-b3d8-3da3656510ce\")>,\n",
       " <selenium.webdriver.remote.webelement.WebElement (session=\"cf191dd8ac83ab2ffa446dadfc09cf4f\", element=\"3df776d7-1e6e-4fd4-9890-50cc968dd28c\")>,\n",
       " <selenium.webdriver.remote.webelement.WebElement (session=\"cf191dd8ac83ab2ffa446dadfc09cf4f\", element=\"d7fe7cf9-1884-4bb1-b162-a8bd8dd01828\")>,\n",
       " <selenium.webdriver.remote.webelement.WebElement (session=\"cf191dd8ac83ab2ffa446dadfc09cf4f\", element=\"1e736e02-c1ec-44f2-8213-038240c2d030\")>,\n",
       " <selenium.webdriver.remote.webelement.WebElement (session=\"cf191dd8ac83ab2ffa446dadfc09cf4f\", element=\"4cf347c5-e8da-4630-a0af-ca857730ea21\")>,\n",
       " <selenium.webdriver.remote.webelement.WebElement (session=\"cf191dd8ac83ab2ffa446dadfc09cf4f\", element=\"1714a7bc-42df-47ab-9090-57b9a21cc53d\")>,\n",
       " <selenium.webdriver.remote.webelement.WebElement (session=\"cf191dd8ac83ab2ffa446dadfc09cf4f\", element=\"d23acf51-f67c-43bd-aa6c-1906d2c7fd92\")>,\n",
       " <selenium.webdriver.remote.webelement.WebElement (session=\"cf191dd8ac83ab2ffa446dadfc09cf4f\", element=\"5ab9bdad-907b-4690-8fde-c4c50cd43823\")>,\n",
       " <selenium.webdriver.remote.webelement.WebElement (session=\"cf191dd8ac83ab2ffa446dadfc09cf4f\", element=\"71eafe2e-d2f0-49e2-a552-f74cbd74f166\")>,\n",
       " <selenium.webdriver.remote.webelement.WebElement (session=\"cf191dd8ac83ab2ffa446dadfc09cf4f\", element=\"acd76051-e610-4712-b0c7-f55342a09a28\")>,\n",
       " <selenium.webdriver.remote.webelement.WebElement (session=\"cf191dd8ac83ab2ffa446dadfc09cf4f\", element=\"e151080b-5e60-4793-abf0-633237448fe4\")>,\n",
       " <selenium.webdriver.remote.webelement.WebElement (session=\"cf191dd8ac83ab2ffa446dadfc09cf4f\", element=\"9ec3257c-ceac-4d55-87b9-7a330f18a28e\")>,\n",
       " <selenium.webdriver.remote.webelement.WebElement (session=\"cf191dd8ac83ab2ffa446dadfc09cf4f\", element=\"1f3368d1-8fc7-4efa-95f7-6518f17cb9c9\")>,\n",
       " <selenium.webdriver.remote.webelement.WebElement (session=\"cf191dd8ac83ab2ffa446dadfc09cf4f\", element=\"188752a6-2923-4fde-8d60-75da6d9e6177\")>,\n",
       " <selenium.webdriver.remote.webelement.WebElement (session=\"cf191dd8ac83ab2ffa446dadfc09cf4f\", element=\"682ad19c-6eed-4662-bd36-f6baae800f11\")>,\n",
       " <selenium.webdriver.remote.webelement.WebElement (session=\"cf191dd8ac83ab2ffa446dadfc09cf4f\", element=\"c87e676b-968e-4712-ad87-4d756644277d\")>,\n",
       " <selenium.webdriver.remote.webelement.WebElement (session=\"cf191dd8ac83ab2ffa446dadfc09cf4f\", element=\"7dbda09a-50c7-4301-859f-d804e56568a5\")>,\n",
       " <selenium.webdriver.remote.webelement.WebElement (session=\"cf191dd8ac83ab2ffa446dadfc09cf4f\", element=\"b0adeba1-cd87-4e52-825a-ed5ed30337b2\")>,\n",
       " <selenium.webdriver.remote.webelement.WebElement (session=\"cf191dd8ac83ab2ffa446dadfc09cf4f\", element=\"49c4e1cd-6bc0-437a-875c-60c8265ddb63\")>,\n",
       " <selenium.webdriver.remote.webelement.WebElement (session=\"cf191dd8ac83ab2ffa446dadfc09cf4f\", element=\"d90ba636-c2b5-4952-bcbe-af4259cfdfbf\")>,\n",
       " <selenium.webdriver.remote.webelement.WebElement (session=\"cf191dd8ac83ab2ffa446dadfc09cf4f\", element=\"542ef0bf-576f-486e-84a5-cf810b72f33f\")>,\n",
       " <selenium.webdriver.remote.webelement.WebElement (session=\"cf191dd8ac83ab2ffa446dadfc09cf4f\", element=\"fe0c8d2a-8e42-4ae4-8c0e-7eb81072211a\")>,\n",
       " <selenium.webdriver.remote.webelement.WebElement (session=\"cf191dd8ac83ab2ffa446dadfc09cf4f\", element=\"58e6b617-0ffb-4390-9189-4932bd653dc8\")>,\n",
       " <selenium.webdriver.remote.webelement.WebElement (session=\"cf191dd8ac83ab2ffa446dadfc09cf4f\", element=\"8b084d2a-1290-4d76-be83-517d08dbe734\")>,\n",
       " <selenium.webdriver.remote.webelement.WebElement (session=\"cf191dd8ac83ab2ffa446dadfc09cf4f\", element=\"e8a15386-0a63-4632-aeae-7d77e25f1512\")>,\n",
       " <selenium.webdriver.remote.webelement.WebElement (session=\"cf191dd8ac83ab2ffa446dadfc09cf4f\", element=\"4aae8861-720f-4ed4-97a0-4e29e26c98e8\")>,\n",
       " <selenium.webdriver.remote.webelement.WebElement (session=\"cf191dd8ac83ab2ffa446dadfc09cf4f\", element=\"dd82afce-35d9-4cf5-84d9-a1d902ba2180\")>,\n",
       " <selenium.webdriver.remote.webelement.WebElement (session=\"cf191dd8ac83ab2ffa446dadfc09cf4f\", element=\"8efc62c8-5fc0-402b-b079-054c11f80680\")>,\n",
       " <selenium.webdriver.remote.webelement.WebElement (session=\"cf191dd8ac83ab2ffa446dadfc09cf4f\", element=\"e31d0d71-a1e8-480a-9865-4642022ea2e0\")>,\n",
       " <selenium.webdriver.remote.webelement.WebElement (session=\"cf191dd8ac83ab2ffa446dadfc09cf4f\", element=\"8b5a0525-e67f-4664-9c75-9121e132e833\")>,\n",
       " <selenium.webdriver.remote.webelement.WebElement (session=\"cf191dd8ac83ab2ffa446dadfc09cf4f\", element=\"ac92aaeb-df6c-44c1-97e0-ed07b7f8bb08\")>,\n",
       " <selenium.webdriver.remote.webelement.WebElement (session=\"cf191dd8ac83ab2ffa446dadfc09cf4f\", element=\"52ea11fb-8553-4ec3-a95e-f0a2f6baf177\")>,\n",
       " <selenium.webdriver.remote.webelement.WebElement (session=\"cf191dd8ac83ab2ffa446dadfc09cf4f\", element=\"41a76914-8d1f-42fe-977a-cd6e4a962f0d\")>,\n",
       " <selenium.webdriver.remote.webelement.WebElement (session=\"cf191dd8ac83ab2ffa446dadfc09cf4f\", element=\"1cbc81b4-3271-472d-8e6f-1d7f4cdf67f6\")>,\n",
       " <selenium.webdriver.remote.webelement.WebElement (session=\"cf191dd8ac83ab2ffa446dadfc09cf4f\", element=\"cbbc59c5-33c9-4293-abd4-95b28321e990\")>,\n",
       " <selenium.webdriver.remote.webelement.WebElement (session=\"cf191dd8ac83ab2ffa446dadfc09cf4f\", element=\"071ca41c-48c5-4a22-9bd7-0065c4748151\")>,\n",
       " <selenium.webdriver.remote.webelement.WebElement (session=\"cf191dd8ac83ab2ffa446dadfc09cf4f\", element=\"dda7dd23-97de-4bdd-a42e-7e3ce62d5f67\")>,\n",
       " <selenium.webdriver.remote.webelement.WebElement (session=\"cf191dd8ac83ab2ffa446dadfc09cf4f\", element=\"36e7940a-14f2-4cc1-881b-d253719e704a\")>,\n",
       " <selenium.webdriver.remote.webelement.WebElement (session=\"cf191dd8ac83ab2ffa446dadfc09cf4f\", element=\"62db5c9a-dce2-461a-aecf-ce6fe02c4743\")>,\n",
       " <selenium.webdriver.remote.webelement.WebElement (session=\"cf191dd8ac83ab2ffa446dadfc09cf4f\", element=\"6337ad78-3778-4271-8999-a43802e83f59\")>,\n",
       " <selenium.webdriver.remote.webelement.WebElement (session=\"cf191dd8ac83ab2ffa446dadfc09cf4f\", element=\"4d0363a4-7879-4348-afc5-a098e17de372\")>,\n",
       " <selenium.webdriver.remote.webelement.WebElement (session=\"cf191dd8ac83ab2ffa446dadfc09cf4f\", element=\"f3424c94-bbe6-4e45-84cb-48711a6f8324\")>,\n",
       " <selenium.webdriver.remote.webelement.WebElement (session=\"cf191dd8ac83ab2ffa446dadfc09cf4f\", element=\"3c60e048-a0e2-45b5-929e-5bf5fb7ed099\")>,\n",
       " <selenium.webdriver.remote.webelement.WebElement (session=\"cf191dd8ac83ab2ffa446dadfc09cf4f\", element=\"2b4bcbfb-dbd1-4855-ae4c-7b4696318f31\")>,\n",
       " <selenium.webdriver.remote.webelement.WebElement (session=\"cf191dd8ac83ab2ffa446dadfc09cf4f\", element=\"08c4082b-d8f8-4a91-95d3-47885a9fa287\")>,\n",
       " <selenium.webdriver.remote.webelement.WebElement (session=\"cf191dd8ac83ab2ffa446dadfc09cf4f\", element=\"0d9987e0-a636-48ec-819d-4b51fdd0d99e\")>,\n",
       " <selenium.webdriver.remote.webelement.WebElement (session=\"cf191dd8ac83ab2ffa446dadfc09cf4f\", element=\"db2e0e81-127e-49a2-8b71-792d0ce1e2df\")>,\n",
       " <selenium.webdriver.remote.webelement.WebElement (session=\"cf191dd8ac83ab2ffa446dadfc09cf4f\", element=\"6693e93a-bf89-4121-8237-2b7db1967fa8\")>,\n",
       " <selenium.webdriver.remote.webelement.WebElement (session=\"cf191dd8ac83ab2ffa446dadfc09cf4f\", element=\"becb4c33-f380-486e-b5b5-b2ce73ddce13\")>,\n",
       " <selenium.webdriver.remote.webelement.WebElement (session=\"cf191dd8ac83ab2ffa446dadfc09cf4f\", element=\"0e419523-fb45-4643-8483-34bc9f96ebc5\")>,\n",
       " <selenium.webdriver.remote.webelement.WebElement (session=\"cf191dd8ac83ab2ffa446dadfc09cf4f\", element=\"3e28b7db-8ac6-4bc8-8145-c874309624c8\")>,\n",
       " <selenium.webdriver.remote.webelement.WebElement (session=\"cf191dd8ac83ab2ffa446dadfc09cf4f\", element=\"2de2a28e-3adb-464a-815e-924aacd228cf\")>,\n",
       " <selenium.webdriver.remote.webelement.WebElement (session=\"cf191dd8ac83ab2ffa446dadfc09cf4f\", element=\"2d2e61c8-7b6a-4123-b67a-131d44ae4c93\")>,\n",
       " <selenium.webdriver.remote.webelement.WebElement (session=\"cf191dd8ac83ab2ffa446dadfc09cf4f\", element=\"636fa9ef-b239-47e7-b8df-4641fc2ee4fb\")>,\n",
       " <selenium.webdriver.remote.webelement.WebElement (session=\"cf191dd8ac83ab2ffa446dadfc09cf4f\", element=\"0488a92a-d537-4939-b3bd-2b1fc7cbb71c\")>,\n",
       " <selenium.webdriver.remote.webelement.WebElement (session=\"cf191dd8ac83ab2ffa446dadfc09cf4f\", element=\"0ba19496-ebf1-47e8-8013-e4ea25a2087d\")>,\n",
       " <selenium.webdriver.remote.webelement.WebElement (session=\"cf191dd8ac83ab2ffa446dadfc09cf4f\", element=\"1c7fc678-fded-435e-81e9-5cbcbc01d764\")>,\n",
       " <selenium.webdriver.remote.webelement.WebElement (session=\"cf191dd8ac83ab2ffa446dadfc09cf4f\", element=\"a7dbc8f4-92d1-4491-9da7-cf544a073cc8\")>,\n",
       " <selenium.webdriver.remote.webelement.WebElement (session=\"cf191dd8ac83ab2ffa446dadfc09cf4f\", element=\"859cb29d-c464-4421-8da9-4e3d8d5bf99a\")>,\n",
       " <selenium.webdriver.remote.webelement.WebElement (session=\"cf191dd8ac83ab2ffa446dadfc09cf4f\", element=\"35d7e564-750b-4fca-841b-5f6001c4be61\")>,\n",
       " <selenium.webdriver.remote.webelement.WebElement (session=\"cf191dd8ac83ab2ffa446dadfc09cf4f\", element=\"53734ffa-472c-495b-a02b-363320e85469\")>,\n",
       " <selenium.webdriver.remote.webelement.WebElement (session=\"cf191dd8ac83ab2ffa446dadfc09cf4f\", element=\"d227010c-3955-4b5f-bad7-766047b04ae2\")>,\n",
       " <selenium.webdriver.remote.webelement.WebElement (session=\"cf191dd8ac83ab2ffa446dadfc09cf4f\", element=\"9f634ac2-25de-445d-8b3a-5a0d1e9ac4f7\")>,\n",
       " <selenium.webdriver.remote.webelement.WebElement (session=\"cf191dd8ac83ab2ffa446dadfc09cf4f\", element=\"46777dbd-9871-4411-9d7a-cde356bcc2e1\")>,\n",
       " <selenium.webdriver.remote.webelement.WebElement (session=\"cf191dd8ac83ab2ffa446dadfc09cf4f\", element=\"b7da510a-ec35-4ba5-a9da-e2955354ed12\")>,\n",
       " <selenium.webdriver.remote.webelement.WebElement (session=\"cf191dd8ac83ab2ffa446dadfc09cf4f\", element=\"809f8ace-361c-491c-8544-78352feeea77\")>,\n",
       " <selenium.webdriver.remote.webelement.WebElement (session=\"cf191dd8ac83ab2ffa446dadfc09cf4f\", element=\"35498105-0c03-450e-b0b6-4f50dc0b3c1d\")>,\n",
       " <selenium.webdriver.remote.webelement.WebElement (session=\"cf191dd8ac83ab2ffa446dadfc09cf4f\", element=\"5f022cde-f218-4a9b-8fa9-fa5a907eba52\")>,\n",
       " <selenium.webdriver.remote.webelement.WebElement (session=\"cf191dd8ac83ab2ffa446dadfc09cf4f\", element=\"b4b87a65-008c-44a7-a1b9-4b94e65afed5\")>,\n",
       " <selenium.webdriver.remote.webelement.WebElement (session=\"cf191dd8ac83ab2ffa446dadfc09cf4f\", element=\"5756182f-9701-4c7d-85dc-e1821b37b682\")>,\n",
       " <selenium.webdriver.remote.webelement.WebElement (session=\"cf191dd8ac83ab2ffa446dadfc09cf4f\", element=\"5af3e89c-e246-4946-acc4-668a75f4bf23\")>,\n",
       " <selenium.webdriver.remote.webelement.WebElement (session=\"cf191dd8ac83ab2ffa446dadfc09cf4f\", element=\"dfe071c1-d2fb-4bd5-b4b8-6bf421dc08a1\")>,\n",
       " <selenium.webdriver.remote.webelement.WebElement (session=\"cf191dd8ac83ab2ffa446dadfc09cf4f\", element=\"86ac52a7-14c9-4b96-a208-e00dd3d3cc41\")>]"
      ]
     },
     "execution_count": 53,
     "metadata": {},
     "output_type": "execute_result"
    }
   ],
   "source": [
    "div_tags = driver.find_elements_by_tag_name('div')\n",
    "div_tags"
   ]
  },
  {
   "cell_type": "code",
   "execution_count": 54,
   "metadata": {
    "scrolled": true
   },
   "outputs": [
    {
     "name": "stderr",
     "output_type": "stream",
     "text": [
      "C:\\Users\\Kiran\\AppData\\Local\\Temp\\ipykernel_6196\\2033571756.py:1: DeprecationWarning: find_elements_by_tag_name is deprecated. Please use find_elements(by=By.TAG_NAME, value=name) instead\n",
      "  a_tags = driver.find_elements_by_tag_name('a')\n"
     ]
    },
    {
     "data": {
      "text/plain": [
       "[<selenium.webdriver.remote.webelement.WebElement (session=\"cf191dd8ac83ab2ffa446dadfc09cf4f\", element=\"6d2f9f19-777f-4f21-8826-f5e63f20fbdb\")>,\n",
       " <selenium.webdriver.remote.webelement.WebElement (session=\"cf191dd8ac83ab2ffa446dadfc09cf4f\", element=\"bc926296-e5f5-474d-92d7-c2a8240364ca\")>,\n",
       " <selenium.webdriver.remote.webelement.WebElement (session=\"cf191dd8ac83ab2ffa446dadfc09cf4f\", element=\"35aa2b77-9794-4091-ad70-36a4cb71307f\")>,\n",
       " <selenium.webdriver.remote.webelement.WebElement (session=\"cf191dd8ac83ab2ffa446dadfc09cf4f\", element=\"a62d4789-524e-4392-8e6d-e77fdca72075\")>,\n",
       " <selenium.webdriver.remote.webelement.WebElement (session=\"cf191dd8ac83ab2ffa446dadfc09cf4f\", element=\"38a86b27-f6bf-4fcb-9cb6-ac07e41b3e1f\")>,\n",
       " <selenium.webdriver.remote.webelement.WebElement (session=\"cf191dd8ac83ab2ffa446dadfc09cf4f\", element=\"6ccc65bb-9cce-42fa-8b7b-a2ed9c6f766c\")>,\n",
       " <selenium.webdriver.remote.webelement.WebElement (session=\"cf191dd8ac83ab2ffa446dadfc09cf4f\", element=\"765d3e30-886d-42f8-b4eb-3ad72ef5947d\")>,\n",
       " <selenium.webdriver.remote.webelement.WebElement (session=\"cf191dd8ac83ab2ffa446dadfc09cf4f\", element=\"d03aea7c-00ef-45af-ba99-95cdbeec21b4\")>,\n",
       " <selenium.webdriver.remote.webelement.WebElement (session=\"cf191dd8ac83ab2ffa446dadfc09cf4f\", element=\"50829c01-2c55-4527-b431-41ff226cedd6\")>,\n",
       " <selenium.webdriver.remote.webelement.WebElement (session=\"cf191dd8ac83ab2ffa446dadfc09cf4f\", element=\"d4166f57-d9b9-4242-a246-3902e4553bd9\")>,\n",
       " <selenium.webdriver.remote.webelement.WebElement (session=\"cf191dd8ac83ab2ffa446dadfc09cf4f\", element=\"c2ca837e-4d21-421b-ad74-e9563c4b762d\")>,\n",
       " <selenium.webdriver.remote.webelement.WebElement (session=\"cf191dd8ac83ab2ffa446dadfc09cf4f\", element=\"9429654f-1bbd-4061-bd3c-17fd9ff312e4\")>,\n",
       " <selenium.webdriver.remote.webelement.WebElement (session=\"cf191dd8ac83ab2ffa446dadfc09cf4f\", element=\"6acdaa77-92c0-4cbc-a1a1-a1b9af1dbfea\")>,\n",
       " <selenium.webdriver.remote.webelement.WebElement (session=\"cf191dd8ac83ab2ffa446dadfc09cf4f\", element=\"600d74eb-cad8-47a0-9dc1-7178618c6db1\")>,\n",
       " <selenium.webdriver.remote.webelement.WebElement (session=\"cf191dd8ac83ab2ffa446dadfc09cf4f\", element=\"c395afdd-9ed3-4f81-bcff-35d67d7c2db5\")>,\n",
       " <selenium.webdriver.remote.webelement.WebElement (session=\"cf191dd8ac83ab2ffa446dadfc09cf4f\", element=\"39b66879-46d4-4ddf-9bb5-5ae78a3f6fa9\")>,\n",
       " <selenium.webdriver.remote.webelement.WebElement (session=\"cf191dd8ac83ab2ffa446dadfc09cf4f\", element=\"8504aad2-605d-42fe-9409-b23777ed6448\")>,\n",
       " <selenium.webdriver.remote.webelement.WebElement (session=\"cf191dd8ac83ab2ffa446dadfc09cf4f\", element=\"3220efca-8552-4b60-be05-0e8ff03302b4\")>,\n",
       " <selenium.webdriver.remote.webelement.WebElement (session=\"cf191dd8ac83ab2ffa446dadfc09cf4f\", element=\"9f256a47-d873-48c7-b28b-8c1735224e47\")>,\n",
       " <selenium.webdriver.remote.webelement.WebElement (session=\"cf191dd8ac83ab2ffa446dadfc09cf4f\", element=\"7fd0da78-1799-4b18-bde8-6b66d7adcec7\")>,\n",
       " <selenium.webdriver.remote.webelement.WebElement (session=\"cf191dd8ac83ab2ffa446dadfc09cf4f\", element=\"0f2aaac1-7e08-4580-8c78-5bd63b6d1afc\")>,\n",
       " <selenium.webdriver.remote.webelement.WebElement (session=\"cf191dd8ac83ab2ffa446dadfc09cf4f\", element=\"6b9c9c39-88de-4e09-9069-98aeb42ed14e\")>,\n",
       " <selenium.webdriver.remote.webelement.WebElement (session=\"cf191dd8ac83ab2ffa446dadfc09cf4f\", element=\"360b4b5f-0534-4c47-8476-e50b6a2e92bb\")>,\n",
       " <selenium.webdriver.remote.webelement.WebElement (session=\"cf191dd8ac83ab2ffa446dadfc09cf4f\", element=\"fcf2d602-30eb-4733-ad4f-7cab01d2c1f9\")>,\n",
       " <selenium.webdriver.remote.webelement.WebElement (session=\"cf191dd8ac83ab2ffa446dadfc09cf4f\", element=\"77e37d9f-2178-448f-8612-62d9603b0f40\")>,\n",
       " <selenium.webdriver.remote.webelement.WebElement (session=\"cf191dd8ac83ab2ffa446dadfc09cf4f\", element=\"ae5c8dc6-9fca-403f-9a40-cf25e1b31106\")>,\n",
       " <selenium.webdriver.remote.webelement.WebElement (session=\"cf191dd8ac83ab2ffa446dadfc09cf4f\", element=\"9b47b0aa-3861-4746-bca7-5eb2a56ec6f6\")>,\n",
       " <selenium.webdriver.remote.webelement.WebElement (session=\"cf191dd8ac83ab2ffa446dadfc09cf4f\", element=\"9b839fbd-05c0-492b-8cb6-28b9a245a2e8\")>,\n",
       " <selenium.webdriver.remote.webelement.WebElement (session=\"cf191dd8ac83ab2ffa446dadfc09cf4f\", element=\"85dccef9-48de-42bd-8de1-f8f3e09fd67b\")>,\n",
       " <selenium.webdriver.remote.webelement.WebElement (session=\"cf191dd8ac83ab2ffa446dadfc09cf4f\", element=\"08d768d1-b018-4d0c-8a19-84eaa6b7268a\")>,\n",
       " <selenium.webdriver.remote.webelement.WebElement (session=\"cf191dd8ac83ab2ffa446dadfc09cf4f\", element=\"d6274b37-6cae-46e0-8512-f861b922b283\")>,\n",
       " <selenium.webdriver.remote.webelement.WebElement (session=\"cf191dd8ac83ab2ffa446dadfc09cf4f\", element=\"bf0afcaa-4868-4e9d-b854-9d66f2721ee7\")>,\n",
       " <selenium.webdriver.remote.webelement.WebElement (session=\"cf191dd8ac83ab2ffa446dadfc09cf4f\", element=\"275b2548-c476-4c7c-bb46-ef48ddd91130\")>,\n",
       " <selenium.webdriver.remote.webelement.WebElement (session=\"cf191dd8ac83ab2ffa446dadfc09cf4f\", element=\"230465e1-547f-4308-b2dd-dc123c90cab9\")>,\n",
       " <selenium.webdriver.remote.webelement.WebElement (session=\"cf191dd8ac83ab2ffa446dadfc09cf4f\", element=\"0c018936-ce37-4123-b2cd-1104382ebca2\")>,\n",
       " <selenium.webdriver.remote.webelement.WebElement (session=\"cf191dd8ac83ab2ffa446dadfc09cf4f\", element=\"ba065d05-6d31-4547-94b1-822572de1e9a\")>,\n",
       " <selenium.webdriver.remote.webelement.WebElement (session=\"cf191dd8ac83ab2ffa446dadfc09cf4f\", element=\"49186099-7d0c-4d2c-8e41-db46929bd1f6\")>,\n",
       " <selenium.webdriver.remote.webelement.WebElement (session=\"cf191dd8ac83ab2ffa446dadfc09cf4f\", element=\"8a3fe7a1-afda-4b94-a47f-cdbf0e9f54df\")>,\n",
       " <selenium.webdriver.remote.webelement.WebElement (session=\"cf191dd8ac83ab2ffa446dadfc09cf4f\", element=\"59980baa-8e4d-4a84-9d54-552a7d64cd32\")>]"
      ]
     },
     "execution_count": 54,
     "metadata": {},
     "output_type": "execute_result"
    }
   ],
   "source": [
    "a_tags = driver.find_elements_by_tag_name('a')\n",
    "a_tags"
   ]
  },
  {
   "cell_type": "code",
   "execution_count": 55,
   "metadata": {},
   "outputs": [
    {
     "name": "stdout",
     "output_type": "stream",
     "text": [
      " https://courses.ineuron.ai/category/Data-Science  ||  Data-Science\n",
      " https://courses.ineuron.ai/category/Programming  ||  Programming\n",
      " https://courses.ineuron.ai/category/Development  ||  Development\n",
      " https://courses.ineuron.ai/category/Cloud  ||  Cloud\n",
      " https://courses.ineuron.ai/category/Marketing  ||  Marketing\n"
     ]
    }
   ],
   "source": [
    "data = {}\n",
    "courses = []\n",
    "condition_list = [] \n",
    "for i in a_tags:\n",
    "    if 'courses' in i.get_attribute('href') and 'category' in i.get_attribute('href') and \\\n",
    "    i.get_attribute('href').split('/')[-1] not in condition_list:\n",
    "        \n",
    "        print(i.text, i.get_attribute('href'), ' || ', i.get_attribute('href').split('/')[-1])\n",
    "        courses.append({i.get_attribute('href').split('/')[-1] : i.get_attribute('href')})\n",
    "        condition_list.append(i.get_attribute('href').split('/')[-1])\n",
    "\n",
    "data['courses'] = courses \n",
    "condition_list = [] "
   ]
  },
  {
   "cell_type": "code",
   "execution_count": 56,
   "metadata": {},
   "outputs": [
    {
     "data": {
      "text/plain": [
       "{'courses': [{'Data-Science': 'https://courses.ineuron.ai/category/Data-Science'},\n",
       "  {'Programming': 'https://courses.ineuron.ai/category/Programming'},\n",
       "  {'Development': 'https://courses.ineuron.ai/category/Development'},\n",
       "  {'Cloud': 'https://courses.ineuron.ai/category/Cloud'},\n",
       "  {'Marketing': 'https://courses.ineuron.ai/category/Marketing'}]}"
      ]
     },
     "execution_count": 56,
     "metadata": {},
     "output_type": "execute_result"
    }
   ],
   "source": [
    "data"
   ]
  },
  {
   "cell_type": "code",
   "execution_count": 61,
   "metadata": {
    "scrolled": true
   },
   "outputs": [
    {
     "name": "stdout",
     "output_type": "stream",
     "text": [
      "Now going on :  Data-Science  ||  https://courses.ineuron.ai/category/Data-Science \n",
      "\n"
     ]
    },
    {
     "name": "stderr",
     "output_type": "stream",
     "text": [
      "C:\\Users\\Kiran\\AppData\\Local\\Temp\\ipykernel_6196\\3724642529.py:8: DeprecationWarning: find_elements_by_tag_name is deprecated. Please use find_elements(by=By.TAG_NAME, value=name) instead\n",
      "  sub_a_tags = driver.find_elements_by_tag_name(\"a\")\n",
      "C:\\Users\\Kiran\\AppData\\Local\\Temp\\ipykernel_6196\\3724642529.py:18: DeprecationWarning: find_element_by_link_text is deprecated. Please use find_element(by=By.LINK_TEXT, value=link_text) instead\n",
      "  main_course_name.append({a_elem.find_elements_by_tag_name(\"h5\")[0].text : driver.find_element_by_link_text(a_elem.find_elements_by_tag_name(\"h5\")[0].text).get_attribute(\"href\")})\n"
     ]
    },
    {
     "name": "stdout",
     "output_type": "stream",
     "text": [
      "Now going on :  Programming  ||  https://courses.ineuron.ai/category/Programming \n",
      "\n",
      "Now going on :  Development  ||  https://courses.ineuron.ai/category/Development \n",
      "\n",
      "Now going on :  Cloud  ||  https://courses.ineuron.ai/category/Cloud \n",
      "\n",
      "Now going on :  Marketing  ||  https://courses.ineuron.ai/category/Marketing \n",
      "\n",
      "{'courses': [{'Data-Science': 'https://courses.ineuron.ai/category/Data-Science'}, {'Programming': 'https://courses.ineuron.ai/category/Programming'}, {'Development': 'https://courses.ineuron.ai/category/Development'}, {'Cloud': 'https://courses.ineuron.ai/category/Cloud'}, {'Marketing': 'https://courses.ineuron.ai/category/Marketing'}], 'sub_courses': {'Data-Science': [{'Full Stack Data Science Bootcamp': 'https://courses.ineuron.ai/Full-Stack-Data-Science-Bootcamp'}, {'Architecture and System Design Live Class': 'https://courses.ineuron.ai/Architecture-and-System-Design-Live-Class'}, {'FullStack Developer Interview Preparation Live Class': 'https://courses.ineuron.ai/FullStack-Developer-Interview-Preparation-Live-Class'}, {'Data Science Masters': 'https://courses.ineuron.ai/Data-Science-Masters'}, {'Full Stack Data Science': 'https://courses.ineuron.ai/Full-Stack-Data-Science'}, {\"Full Stack Data Science Nov'21 Batch\": \"https://courses.ineuron.ai/Full-Stack-Data-Science-Nov'21-Batch\"}, {\"Full Stack Data Science Feb'21 Batch\": \"https://courses.ineuron.ai/Full-Stack-Data-Science-Feb'21-Batch\"}, {'DSAR': 'https://courses.ineuron.ai/DSAR'}, {'Graph ML': 'https://courses.ineuron.ai/Graph-ML'}, {'Streamlit': 'https://courses.ineuron.ai/Streamlit'}, {'Dask': 'https://courses.ineuron.ai/Dask'}, {'Mathematics for Machine Learning': 'https://courses.ineuron.ai/Mathematics-for-Machine-Learning'}, {'Machine Learning Live Interview Preparation': 'https://courses.ineuron.ai/Machine-Learning-Live-Interview-Preparation'}, {'Machine Learning Live Class': 'https://courses.ineuron.ai/Machine-Learning-Live-Class'}, {'ParlAI Chatbot': 'https://courses.ineuron.ai/ParlAI-Chatbot'}, {'Machine Learning Masters': 'https://courses.ineuron.ai/Machine-Learning-Masters'}, {'Data Science All Projects': 'https://courses.ineuron.ai/Data-Science-All-Projects'}, {'ML Interview Questions': 'https://courses.ineuron.ai/ML-Interview-Questions'}, {'Machine Learning': 'https://courses.ineuron.ai/Machine-Learning'}, {'Machine Learning Projects': 'https://courses.ineuron.ai/Machine-Learning-Projects'}, {'MLDL': 'https://courses.ineuron.ai/MLDL'}, {'30 days Fast Track Data Science Interview Preparation': 'https://courses.ineuron.ai/30-days-Fast-Track-Data-Science-Interview-Preparation'}, {'Machine Learning And Deep Learning Masters': 'https://courses.ineuron.ai/Machine-Learning-And-Deep-Learning-Masters'}, {'Deep Learning Live Class': 'https://courses.ineuron.ai/Deep-Learning-Live-Class'}, {'PyTorch Basics': 'https://courses.ineuron.ai/PyTorch-Basics'}, {'ANN (artificial Neural Network) Live Class': 'https://courses.ineuron.ai/ANN-(artificial-Neural-Network)-Live-Class'}, {'ONNX': 'https://courses.ineuron.ai/ONNX'}, {'JAX': 'https://courses.ineuron.ai/JAX'}, {'Recommender System': 'https://courses.ineuron.ai/Recommender-System'}, {'Deep Learning ANN': 'https://courses.ineuron.ai/Deep-Learning-ANN'}, {'DLCVNLP': 'https://courses.ineuron.ai/DLCVNLP'}, {'Deep Learning With Computer Vision and Advanced NLP': 'https://courses.ineuron.ai/Deep-Learning-With-Computer-Vision-and-Advanced-NLP'}, {'Artificial Neural Network': 'https://courses.ineuron.ai/Artificial-Neural-Network'}, {'Computer Vision Projects Live Class': 'https://courses.ineuron.ai/Computer-Vision-Projects-Live-Class'}, {'Computer Vision Live Class': 'https://courses.ineuron.ai/Computer-Vision-Live-Class'}, {'Computer Vision Interview Preparation Live Class': 'https://courses.ineuron.ai/Computer-Vision-Interview-Preparation-Live-Class'}, {'OpenCV Job Preparation': 'https://courses.ineuron.ai/OpenCV-Job-Preparation'}, {'OpenCV Projects': 'https://courses.ineuron.ai/OpenCV-Projects'}, {'Computer Vision Projects': 'https://courses.ineuron.ai/Computer-Vision-Projects'}, {'Computer Vision': 'https://courses.ineuron.ai/Computer-Vision'}, {'End to End Object Detection': 'https://courses.ineuron.ai/End-to-End-Object-Detection'}, {'Fast Track Computer Vision': 'https://courses.ineuron.ai/Fast-Track-Computer-Vision'}, {'Advance Computer Vision': 'https://courses.ineuron.ai/Advance-Computer-Vision'}, {'OpenCV': 'https://courses.ineuron.ai/OpenCV'}, {'ELK Stack': 'https://courses.ineuron.ai/ELK-Stack'}, {'AIOPS Live Projects': 'https://courses.ineuron.ai/AIOPS-Live-Projects'}, {'Airflow Live Class': 'https://courses.ineuron.ai/Airflow-Live-Class'}, {'MLOPS Live Class': 'https://courses.ineuron.ai/MLOPS-Live-Class'}, {'AIOps Interview Questions': 'https://courses.ineuron.ai/AIOps-Interview-Questions'}, {'AIOps': 'https://courses.ineuron.ai/AIOps'}, {'Introduction to AIOps': 'https://courses.ineuron.ai/Introduction-to-AIOps'}, {'AI Operations': 'https://courses.ineuron.ai/AI-Operations'}, {'Fast Track AIOps': 'https://courses.ineuron.ai/Fast-Track-AIOps'}, {'AIOps Projects': 'https://courses.ineuron.ai/AIOps-Projects'}, {'Statistics Live Class': 'https://courses.ineuron.ai/Statistics-Live-Class'}, {'Stats for Data Science': 'https://courses.ineuron.ai/Stats-for-Data-Science'}, {'Stats for Beginners': 'https://courses.ineuron.ai/Stats-for-Beginners'}, {'Statistics': 'https://courses.ineuron.ai/Statistics'}, {'NLP Project Live Class': 'https://courses.ineuron.ai/NLP-Project-Live-Class'}, {'Chatbot Live Class': 'https://courses.ineuron.ai/Chatbot-Live-Class'}, {'Natural Language Processing': 'https://courses.ineuron.ai/Natural-Language-Processing'}, {'NLP Interview Questions': 'https://courses.ineuron.ai/NLP-Interview-Questions'}, {'RASA': 'https://courses.ineuron.ai/RASA'}, {'Fast Track NLP Class': 'https://courses.ineuron.ai/Fast-Track-NLP-Class'}, {'NLP Projects': 'https://courses.ineuron.ai/NLP-Projects'}, {'Azure Luis': 'https://courses.ineuron.ai/Azure-Luis'}, {'Google Dialogflow': 'https://courses.ineuron.ai/Google-Dialogflow'}, {'Amazon Lex': 'https://courses.ineuron.ai/Amazon-Lex'}, {'Power BI Live Class': 'https://courses.ineuron.ai/Power-BI-Live-Class'}, {'Tableau Course': 'https://courses.ineuron.ai/Tableau-Course'}, {'Power BI Course': 'https://courses.ineuron.ai/Power-BI-Course'}, {'Alteryx Course': 'https://courses.ineuron.ai/Alteryx-Course'}, {'Power Automate': 'https://courses.ineuron.ai/Power-Automate'}, {'R Shiny': 'https://courses.ineuron.ai/R-Shiny'}, {'DOMO BI': 'https://courses.ineuron.ai/DOMO-BI'}, {'Fivetran': 'https://courses.ineuron.ai/Fivetran'}, {'DBT': 'https://courses.ineuron.ai/DBT'}, {'Alteryx': 'https://courses.ineuron.ai/Alteryx'}, {'RPA Live Class': 'https://courses.ineuron.ai/RPA-Live-Class'}, {'Marketing Mix Modelling': 'https://courses.ineuron.ai/Marketing-Mix-Modelling'}, {'Tibco Spotfire': 'https://courses.ineuron.ai/Tibco-Spotfire'}, {'AWS QuickSight': 'https://courses.ineuron.ai/AWS-QuickSight'}, {'Trifacta': 'https://courses.ineuron.ai/Trifacta'}, {'Microsoft PowerApps': 'https://courses.ineuron.ai/Microsoft-PowerApps'}, {'Data Processing using Dask': 'https://courses.ineuron.ai/Data-Processing-using-Dask'}, {'Qlik Sense': 'https://courses.ineuron.ai/Qlik-Sense'}, {'Fast Track Big Data Masters': 'https://courses.ineuron.ai/Fast-Track-Big-Data-Masters'}, {'Fast Track Business Analytics': 'https://courses.ineuron.ai/Fast-Track-Business-Analytics'}, {'Power BI Projects': 'https://courses.ineuron.ai/Power-BI-Projects'}, {'Power BI': 'https://courses.ineuron.ai/Power-BI'}, {'Advance Excel': 'https://courses.ineuron.ai/Advance-Excel'}, {'Tableau': 'https://courses.ineuron.ai/Tableau'}, {'Business Analytics': 'https://courses.ineuron.ai/Business-Analytics'}, {'Business Analytics Masters with 3 month Internship': 'https://courses.ineuron.ai/Business-Analytics-Masters-with-3-month-Internship'}, {'Tableau Job Preparation': 'https://courses.ineuron.ai/Tableau-Job-Preparation'}, {'Excel Job Preparation': 'https://courses.ineuron.ai/Excel-Job-Preparation'}, {'Tableau Projects': 'https://courses.ineuron.ai/Tableau-Projects'}, {'Excel': 'https://courses.ineuron.ai/Excel'}, {'Big Data Live Class': 'https://courses.ineuron.ai/Big-Data-Live-Class'}, {'Airflow': 'https://courses.ineuron.ai/Airflow'}, {'Big Data': 'https://courses.ineuron.ai/Big-Data'}, {'Big Data Masters': 'https://courses.ineuron.ai/Big-Data-Masters'}, {'Big Data Job preparation': 'https://courses.ineuron.ai/Big-Data-Job-preparation'}, {'Big Data Projects': 'https://courses.ineuron.ai/Big-Data-Projects'}], 'Programming': [{'DSA with Python': 'https://courses.ineuron.ai/DSA-with-Python'}, {'DSA with C++': 'https://courses.ineuron.ai/DSA-with-C++'}, {'DSA with Java': 'https://courses.ineuron.ai/DSA-with-Java'}, {'System Design': 'https://courses.ineuron.ai/System-Design'}, {'MAANG Interview Preparation Live Class': 'https://courses.ineuron.ai/MAANG-Interview-Preparation-Live-Class'}, {'Data structure and Algorithm Live Interview Preparation': 'https://courses.ineuron.ai/Data-structure-and-Algorithm-Live-Interview-Preparation'}, {'Data Structures and Algorithms Live Class': 'https://courses.ineuron.ai/Data-Structures-and-Algorithms-Live-Class'}, {'Data Structures and Algorithms using python': 'https://courses.ineuron.ai/Data-Structures-and-Algorithms-using-python'}, {'Interview ready DSA course in Python': 'https://courses.ineuron.ai/Interview-ready-DSA-course-in-Python'}, {'Data Structure and Algorithm Job Preparation': 'https://courses.ineuron.ai/Data-Structure-and-Algorithm-Job-Preparation'}, {'Data Structure and Algorithm Projects': 'https://courses.ineuron.ai/Data-Structure-and-Algorithm-Projects'}, {'Data Structure and Algorithms with competitive programming and preparation': 'https://courses.ineuron.ai/Data-Structure-and-Algorithms-with-competitive-programming-and-preparation'}, {'Complete Interview Preparation For Data Structure and Algorithm in Python': 'https://courses.ineuron.ai/Complete-Interview-Preparation-For-Data-Structure-and-Algorithm-in-Python'}, {'FastAPI': 'https://courses.ineuron.ai/FastAPI'}, {'Game Development': 'https://courses.ineuron.ai/Game-Development'}, {'Django Live Class': 'https://courses.ineuron.ai/Django-Live-Class'}, {'Mathematics using Python': 'https://courses.ineuron.ai/Mathematics-using-Python'}, {'Python advance with projects': 'https://courses.ineuron.ai/Python-advance-with-projects'}, {'Fast Track Python': 'https://courses.ineuron.ai/Fast-Track-Python'}, {'C++ Bootcamp': 'https://courses.ineuron.ai/C++-Bootcamp'}, {'C++ Job Preparation': 'https://courses.ineuron.ai/C++-Job-Preparation'}, {'R Programming Projects': 'https://courses.ineuron.ai/R-Programming-Projects'}, {'R Programming Job Preparation': 'https://courses.ineuron.ai/R-Programming-Job-Preparation'}, {'R Programming': 'https://courses.ineuron.ai/R-Programming'}, {'Java Bootcamp': 'https://courses.ineuron.ai/Java-Bootcamp'}, {'C Programming': 'https://courses.ineuron.ai/C-Programming'}], 'Development': [{'Pro Backend Developer': 'https://courses.ineuron.ai/Pro-Backend-Developer'}, {'Complete ReactJS Developer Bootcamp': 'https://courses.ineuron.ai/Complete-ReactJS-Developer-Bootcamp'}, {'Complete Bootstrap - 5 Projects': 'https://courses.ineuron.ai/Complete-Bootstrap---5-Projects'}, {'Django Course': 'https://courses.ineuron.ai/Django-Course'}, {'Back-end development with Django-8 Projects': 'https://courses.ineuron.ai/Back-end-development-with-Django-8-Projects'}, {'Vuejs': 'https://courses.ineuron.ai/Vuejs'}, {'Node JS Live Class': 'https://courses.ineuron.ai/Node-JS-Live-Class'}, {'Complete Backend development with Nodejs': 'https://courses.ineuron.ai/Complete-Backend-development-with-Nodejs'}, {'Web Development Interview Live Class': 'https://courses.ineuron.ai/Web-Development-Interview-Live-Class'}, {'Web Designing using Wordpress': 'https://courses.ineuron.ai/Web-Designing-using-Wordpress'}, {'Angular': 'https://courses.ineuron.ai/Angular'}, {'Django': 'https://courses.ineuron.ai/Django'}, {'Mern Stack Projects': 'https://courses.ineuron.ai/Mern-Stack-Projects'}, {'Mern Stack': 'https://courses.ineuron.ai/Mern-Stack'}, {'Mern stack job preparation': 'https://courses.ineuron.ai/Mern-stack-job-preparation'}, {'Blockchain Live Class': 'https://courses.ineuron.ai/Blockchain-Live-Class'}, {'Solidity Live Class': 'https://courses.ineuron.ai/Solidity-Live-Class'}, {'NFT Live Class': 'https://courses.ineuron.ai/NFT-Live-Class'}, {'Solidity': 'https://courses.ineuron.ai/Solidity'}, {'Blockchain': 'https://courses.ineuron.ai/Blockchain'}, {'Android Programming with Machine Learning Apps': 'https://courses.ineuron.ai/Android-Programming-with-Machine-Learning-Apps'}, {'Android Chat app with FireBase': 'https://courses.ineuron.ai/Android-Chat-app-with-FireBase'}, {'React Native': 'https://courses.ineuron.ai/React-Native'}, {'Kotlin': 'https://courses.ineuron.ai/Kotlin'}, {'Dart Programming': 'https://courses.ineuron.ai/Dart-Programming'}, {'Flutter': 'https://courses.ineuron.ai/Flutter'}, {'DART': 'https://courses.ineuron.ai/DART'}, {'Android': 'https://courses.ineuron.ai/Android'}, {'Android Job Preparation': 'https://courses.ineuron.ai/Android-Job-Preparation'}, {'RPA - UiPath': 'https://courses.ineuron.ai/RPA---UiPath'}, {'AI in edge devices Live Class': 'https://courses.ineuron.ai/AI-in-edge-devices-Live-Class'}, {'IOT Live Class': 'https://courses.ineuron.ai/IOT-Live-Class'}, {'Robotics Live Class': 'https://courses.ineuron.ai/Robotics-Live-Class'}, {'Jetson Xavier Live Class': 'https://courses.ineuron.ai/Jetson-Xavier-Live-Class'}, {'Jetson Nano Live Class': 'https://courses.ineuron.ai/Jetson-Nano-Live-Class'}, {'Drone Live Class': 'https://courses.ineuron.ai/Drone-Live-Class'}, {'Arduino Live Class': 'https://courses.ineuron.ai/Arduino-Live-Class'}, {'Spark AR Live Class': 'https://courses.ineuron.ai/Spark-AR-Live-Class'}, {'MySQL': 'https://courses.ineuron.ai/MySQL'}, {'Stored Procedures in SQL': 'https://courses.ineuron.ai/Stored-Procedures-in-SQL'}, {'Data Warehouse': 'https://courses.ineuron.ai/Data-Warehouse'}, {'SQL Server Integration Services': 'https://courses.ineuron.ai/SQL-Server-Integration-Services'}, {'PL SQL': 'https://courses.ineuron.ai/PL-SQL'}, {'PostgreSQL': 'https://courses.ineuron.ai/PostgreSQL'}, {'MS SQL Server and T-SQL': 'https://courses.ineuron.ai/MS-SQL-Server-and-T-SQL'}, {'NoSQL Database Live Class': 'https://courses.ineuron.ai/NoSQL-Database-Live-Class'}, {'SQL Interview Preparation Live Class': 'https://courses.ineuron.ai/SQL-Interview-Preparation-Live-Class'}, {'MongoDB Live Class': 'https://courses.ineuron.ai/MongoDB-Live-Class'}, {'SQL': 'https://courses.ineuron.ai/SQL'}, {'SQL Projects': 'https://courses.ineuron.ai/SQL-Projects'}, {'SQL Job Preparation': 'https://courses.ineuron.ai/SQL-Job-Preparation'}], 'Cloud': [{'AWS Data Engineering': 'https://courses.ineuron.ai/AWS-Data-Engineering'}, {'AWS Architect for Real World': 'https://courses.ineuron.ai/AWS-Architect-for-Real-World'}, {'AWS Interview Preparation': 'https://courses.ineuron.ai/AWS-Interview-Preparation'}, {'AWS Sagemaker': 'https://courses.ineuron.ai/AWS-Sagemaker'}, {'AWS Cloud Masters': 'https://courses.ineuron.ai/AWS-Cloud-Masters'}, {'AWS': 'https://courses.ineuron.ai/AWS'}, {'Google Cloud Platform': 'https://courses.ineuron.ai/Google-Cloud-Platform'}, {'GCP Interview': 'https://courses.ineuron.ai/GCP-Interview'}, {'GCP Projects': 'https://courses.ineuron.ai/GCP-Projects'}, {'Google Cloud Platform Version 2': 'https://courses.ineuron.ai/Google-Cloud-Platform-Version-2'}, {'Azure Synapse': 'https://courses.ineuron.ai/Azure-Synapse'}, {'Azure Databricks': 'https://courses.ineuron.ai/Azure-Databricks'}, {'Azure Data Factory': 'https://courses.ineuron.ai/Azure-Data-Factory'}, {'Azure Data Engineering': 'https://courses.ineuron.ai/Azure-Data-Engineering'}, {'Azure Interview Preparation Live Class': 'https://courses.ineuron.ai/Azure-Interview-Preparation-Live-Class'}, {'Azure Certification Road Map': 'https://courses.ineuron.ai/Azure-Certification-Road-Map'}, {'Azure Fundamentals': 'https://courses.ineuron.ai/Azure-Fundamentals'}, {'Azure Data scientist Associate DP100': 'https://courses.ineuron.ai/Azure-Data-scientist-Associate-DP100'}], 'Marketing': [{'Email Marketing': 'https://courses.ineuron.ai/Email-Marketing'}, {'Digital Marketing Projects': 'https://courses.ineuron.ai/Digital-Marketing-Projects'}, {'Digital Marketing': 'https://courses.ineuron.ai/Digital-Marketing'}, {'Digital Marketing Job Preparation': 'https://courses.ineuron.ai/Digital-Marketing-Job-Preparation'}]}}\n"
     ]
    }
   ],
   "source": [
    "all_data = {}\n",
    "main_course_data = []\n",
    "\n",
    "for i in data['courses']:\n",
    "    print('Now going on : ', list(i.keys())[0], ' || ',  list(i.values())[0], '\\n')\n",
    "    driver.get(list(i.values())[0])\n",
    "    scroll_to_end(driver)\n",
    "    sub_a_tags = driver.find_elements_by_tag_name(\"a\")\n",
    "    \n",
    "    main_course_name = []\n",
    "    for a_elem in sub_a_tags:\n",
    "        try:\n",
    "            if len(a_elem.find_elements_by_tag_name(\"h5\")) > 0: \n",
    "                if len(a_elem.find_elements_by_tag_name(\"h5\")[0].text) > 0:\n",
    "#                     print(a_elem.find_elements_by_tag_name(\"h5\")[0].text, end=' || ')\n",
    "#                     print(driver.find_element_by_link_text(a_elem.find_elements_by_tag_name(\"h5\")[0].text).get_attribute(\"href\"))\n",
    "                    \n",
    "                    main_course_name.append({a_elem.find_elements_by_tag_name(\"h5\")[0].text : driver.find_element_by_link_text(a_elem.find_elements_by_tag_name(\"h5\")[0].text).get_attribute(\"href\")})\n",
    "        except Exception as e:\n",
    "            pass\n",
    "        all_data[list(i.keys())[0]] = main_course_name\n",
    "#         main_course_data.append(main_course_name) \n",
    "\n",
    "data['sub_courses'] = all_data\n",
    "print(data)"
   ]
  },
  {
   "cell_type": "code",
   "execution_count": 62,
   "metadata": {
    "scrolled": true
   },
   "outputs": [
    {
     "name": "stdout",
     "output_type": "stream",
     "text": [
      "{'courses': [{'Data-Science': 'https://courses.ineuron.ai/category/Data-Science'},\n",
      "             {'Programming': 'https://courses.ineuron.ai/category/Programming'},\n",
      "             {'Development': 'https://courses.ineuron.ai/category/Development'},\n",
      "             {'Cloud': 'https://courses.ineuron.ai/category/Cloud'},\n",
      "             {'Marketing': 'https://courses.ineuron.ai/category/Marketing'}],\n",
      " 'sub_courses': {'Cloud': [{'AWS Data Engineering': 'https://courses.ineuron.ai/AWS-Data-Engineering'},\n",
      "                           {'AWS Architect for Real World': 'https://courses.ineuron.ai/AWS-Architect-for-Real-World'},\n",
      "                           {'AWS Interview Preparation': 'https://courses.ineuron.ai/AWS-Interview-Preparation'},\n",
      "                           {'AWS Sagemaker': 'https://courses.ineuron.ai/AWS-Sagemaker'},\n",
      "                           {'AWS Cloud Masters': 'https://courses.ineuron.ai/AWS-Cloud-Masters'},\n",
      "                           {'AWS': 'https://courses.ineuron.ai/AWS'},\n",
      "                           {'Google Cloud Platform': 'https://courses.ineuron.ai/Google-Cloud-Platform'},\n",
      "                           {'GCP Interview': 'https://courses.ineuron.ai/GCP-Interview'},\n",
      "                           {'GCP Projects': 'https://courses.ineuron.ai/GCP-Projects'},\n",
      "                           {'Google Cloud Platform Version 2': 'https://courses.ineuron.ai/Google-Cloud-Platform-Version-2'},\n",
      "                           {'Azure Synapse': 'https://courses.ineuron.ai/Azure-Synapse'},\n",
      "                           {'Azure Databricks': 'https://courses.ineuron.ai/Azure-Databricks'},\n",
      "                           {'Azure Data Factory': 'https://courses.ineuron.ai/Azure-Data-Factory'},\n",
      "                           {'Azure Data Engineering': 'https://courses.ineuron.ai/Azure-Data-Engineering'},\n",
      "                           {'Azure Interview Preparation Live Class': 'https://courses.ineuron.ai/Azure-Interview-Preparation-Live-Class'},\n",
      "                           {'Azure Certification Road Map': 'https://courses.ineuron.ai/Azure-Certification-Road-Map'},\n",
      "                           {'Azure Fundamentals': 'https://courses.ineuron.ai/Azure-Fundamentals'},\n",
      "                           {'Azure Data scientist Associate DP100': 'https://courses.ineuron.ai/Azure-Data-scientist-Associate-DP100'}],\n",
      "                 'Data-Science': [{'Full Stack Data Science Bootcamp': 'https://courses.ineuron.ai/Full-Stack-Data-Science-Bootcamp'},\n",
      "                                  {'Architecture and System Design Live Class': 'https://courses.ineuron.ai/Architecture-and-System-Design-Live-Class'},\n",
      "                                  {'FullStack Developer Interview Preparation Live Class': 'https://courses.ineuron.ai/FullStack-Developer-Interview-Preparation-Live-Class'},\n",
      "                                  {'Data Science Masters': 'https://courses.ineuron.ai/Data-Science-Masters'},\n",
      "                                  {'Full Stack Data Science': 'https://courses.ineuron.ai/Full-Stack-Data-Science'},\n",
      "                                  {\"Full Stack Data Science Nov'21 Batch\": \"https://courses.ineuron.ai/Full-Stack-Data-Science-Nov'21-Batch\"},\n",
      "                                  {\"Full Stack Data Science Feb'21 Batch\": \"https://courses.ineuron.ai/Full-Stack-Data-Science-Feb'21-Batch\"},\n",
      "                                  {'DSAR': 'https://courses.ineuron.ai/DSAR'},\n",
      "                                  {'Graph ML': 'https://courses.ineuron.ai/Graph-ML'},\n",
      "                                  {'Streamlit': 'https://courses.ineuron.ai/Streamlit'},\n",
      "                                  {'Dask': 'https://courses.ineuron.ai/Dask'},\n",
      "                                  {'Mathematics for Machine Learning': 'https://courses.ineuron.ai/Mathematics-for-Machine-Learning'},\n",
      "                                  {'Machine Learning Live Interview Preparation': 'https://courses.ineuron.ai/Machine-Learning-Live-Interview-Preparation'},\n",
      "                                  {'Machine Learning Live Class': 'https://courses.ineuron.ai/Machine-Learning-Live-Class'},\n",
      "                                  {'ParlAI Chatbot': 'https://courses.ineuron.ai/ParlAI-Chatbot'},\n",
      "                                  {'Machine Learning Masters': 'https://courses.ineuron.ai/Machine-Learning-Masters'},\n",
      "                                  {'Data Science All Projects': 'https://courses.ineuron.ai/Data-Science-All-Projects'},\n",
      "                                  {'ML Interview Questions': 'https://courses.ineuron.ai/ML-Interview-Questions'},\n",
      "                                  {'Machine Learning': 'https://courses.ineuron.ai/Machine-Learning'},\n",
      "                                  {'Machine Learning Projects': 'https://courses.ineuron.ai/Machine-Learning-Projects'},\n",
      "                                  {'MLDL': 'https://courses.ineuron.ai/MLDL'},\n",
      "                                  {'30 days Fast Track Data Science Interview Preparation': 'https://courses.ineuron.ai/30-days-Fast-Track-Data-Science-Interview-Preparation'},\n",
      "                                  {'Machine Learning And Deep Learning Masters': 'https://courses.ineuron.ai/Machine-Learning-And-Deep-Learning-Masters'},\n",
      "                                  {'Deep Learning Live Class': 'https://courses.ineuron.ai/Deep-Learning-Live-Class'},\n",
      "                                  {'PyTorch Basics': 'https://courses.ineuron.ai/PyTorch-Basics'},\n",
      "                                  {'ANN (artificial Neural Network) Live Class': 'https://courses.ineuron.ai/ANN-(artificial-Neural-Network)-Live-Class'},\n",
      "                                  {'ONNX': 'https://courses.ineuron.ai/ONNX'},\n",
      "                                  {'JAX': 'https://courses.ineuron.ai/JAX'},\n",
      "                                  {'Recommender System': 'https://courses.ineuron.ai/Recommender-System'},\n",
      "                                  {'Deep Learning ANN': 'https://courses.ineuron.ai/Deep-Learning-ANN'},\n",
      "                                  {'DLCVNLP': 'https://courses.ineuron.ai/DLCVNLP'},\n",
      "                                  {'Deep Learning With Computer Vision and Advanced NLP': 'https://courses.ineuron.ai/Deep-Learning-With-Computer-Vision-and-Advanced-NLP'},\n",
      "                                  {'Artificial Neural Network': 'https://courses.ineuron.ai/Artificial-Neural-Network'},\n",
      "                                  {'Computer Vision Projects Live Class': 'https://courses.ineuron.ai/Computer-Vision-Projects-Live-Class'},\n",
      "                                  {'Computer Vision Live Class': 'https://courses.ineuron.ai/Computer-Vision-Live-Class'},\n",
      "                                  {'Computer Vision Interview Preparation Live Class': 'https://courses.ineuron.ai/Computer-Vision-Interview-Preparation-Live-Class'},\n",
      "                                  {'OpenCV Job Preparation': 'https://courses.ineuron.ai/OpenCV-Job-Preparation'},\n",
      "                                  {'OpenCV Projects': 'https://courses.ineuron.ai/OpenCV-Projects'},\n",
      "                                  {'Computer Vision Projects': 'https://courses.ineuron.ai/Computer-Vision-Projects'},\n",
      "                                  {'Computer Vision': 'https://courses.ineuron.ai/Computer-Vision'},\n",
      "                                  {'End to End Object Detection': 'https://courses.ineuron.ai/End-to-End-Object-Detection'},\n",
      "                                  {'Fast Track Computer Vision': 'https://courses.ineuron.ai/Fast-Track-Computer-Vision'},\n",
      "                                  {'Advance Computer Vision': 'https://courses.ineuron.ai/Advance-Computer-Vision'},\n",
      "                                  {'OpenCV': 'https://courses.ineuron.ai/OpenCV'},\n",
      "                                  {'ELK Stack': 'https://courses.ineuron.ai/ELK-Stack'},\n",
      "                                  {'AIOPS Live Projects': 'https://courses.ineuron.ai/AIOPS-Live-Projects'},\n",
      "                                  {'Airflow Live Class': 'https://courses.ineuron.ai/Airflow-Live-Class'},\n",
      "                                  {'MLOPS Live Class': 'https://courses.ineuron.ai/MLOPS-Live-Class'},\n",
      "                                  {'AIOps Interview Questions': 'https://courses.ineuron.ai/AIOps-Interview-Questions'},\n",
      "                                  {'AIOps': 'https://courses.ineuron.ai/AIOps'},\n",
      "                                  {'Introduction to AIOps': 'https://courses.ineuron.ai/Introduction-to-AIOps'},\n",
      "                                  {'AI Operations': 'https://courses.ineuron.ai/AI-Operations'},\n",
      "                                  {'Fast Track AIOps': 'https://courses.ineuron.ai/Fast-Track-AIOps'},\n",
      "                                  {'AIOps Projects': 'https://courses.ineuron.ai/AIOps-Projects'},\n",
      "                                  {'Statistics Live Class': 'https://courses.ineuron.ai/Statistics-Live-Class'},\n",
      "                                  {'Stats for Data Science': 'https://courses.ineuron.ai/Stats-for-Data-Science'},\n",
      "                                  {'Stats for Beginners': 'https://courses.ineuron.ai/Stats-for-Beginners'},\n",
      "                                  {'Statistics': 'https://courses.ineuron.ai/Statistics'},\n",
      "                                  {'NLP Project Live Class': 'https://courses.ineuron.ai/NLP-Project-Live-Class'},\n",
      "                                  {'Chatbot Live Class': 'https://courses.ineuron.ai/Chatbot-Live-Class'},\n",
      "                                  {'Natural Language Processing': 'https://courses.ineuron.ai/Natural-Language-Processing'},\n",
      "                                  {'NLP Interview Questions': 'https://courses.ineuron.ai/NLP-Interview-Questions'},\n",
      "                                  {'RASA': 'https://courses.ineuron.ai/RASA'},\n",
      "                                  {'Fast Track NLP Class': 'https://courses.ineuron.ai/Fast-Track-NLP-Class'},\n",
      "                                  {'NLP Projects': 'https://courses.ineuron.ai/NLP-Projects'},\n",
      "                                  {'Azure Luis': 'https://courses.ineuron.ai/Azure-Luis'},\n",
      "                                  {'Google Dialogflow': 'https://courses.ineuron.ai/Google-Dialogflow'},\n",
      "                                  {'Amazon Lex': 'https://courses.ineuron.ai/Amazon-Lex'},\n",
      "                                  {'Power BI Live Class': 'https://courses.ineuron.ai/Power-BI-Live-Class'},\n",
      "                                  {'Tableau Course': 'https://courses.ineuron.ai/Tableau-Course'},\n",
      "                                  {'Power BI Course': 'https://courses.ineuron.ai/Power-BI-Course'},\n",
      "                                  {'Alteryx Course': 'https://courses.ineuron.ai/Alteryx-Course'},\n",
      "                                  {'Power Automate': 'https://courses.ineuron.ai/Power-Automate'},\n",
      "                                  {'R Shiny': 'https://courses.ineuron.ai/R-Shiny'},\n",
      "                                  {'DOMO BI': 'https://courses.ineuron.ai/DOMO-BI'},\n",
      "                                  {'Fivetran': 'https://courses.ineuron.ai/Fivetran'},\n",
      "                                  {'DBT': 'https://courses.ineuron.ai/DBT'},\n",
      "                                  {'Alteryx': 'https://courses.ineuron.ai/Alteryx'},\n",
      "                                  {'RPA Live Class': 'https://courses.ineuron.ai/RPA-Live-Class'},\n",
      "                                  {'Marketing Mix Modelling': 'https://courses.ineuron.ai/Marketing-Mix-Modelling'},\n",
      "                                  {'Tibco Spotfire': 'https://courses.ineuron.ai/Tibco-Spotfire'},\n",
      "                                  {'AWS QuickSight': 'https://courses.ineuron.ai/AWS-QuickSight'},\n",
      "                                  {'Trifacta': 'https://courses.ineuron.ai/Trifacta'},\n",
      "                                  {'Microsoft PowerApps': 'https://courses.ineuron.ai/Microsoft-PowerApps'},\n",
      "                                  {'Data Processing using Dask': 'https://courses.ineuron.ai/Data-Processing-using-Dask'},\n",
      "                                  {'Qlik Sense': 'https://courses.ineuron.ai/Qlik-Sense'},\n",
      "                                  {'Fast Track Big Data Masters': 'https://courses.ineuron.ai/Fast-Track-Big-Data-Masters'},\n",
      "                                  {'Fast Track Business Analytics': 'https://courses.ineuron.ai/Fast-Track-Business-Analytics'},\n",
      "                                  {'Power BI Projects': 'https://courses.ineuron.ai/Power-BI-Projects'},\n",
      "                                  {'Power BI': 'https://courses.ineuron.ai/Power-BI'},\n",
      "                                  {'Advance Excel': 'https://courses.ineuron.ai/Advance-Excel'},\n",
      "                                  {'Tableau': 'https://courses.ineuron.ai/Tableau'},\n",
      "                                  {'Business Analytics': 'https://courses.ineuron.ai/Business-Analytics'},\n",
      "                                  {'Business Analytics Masters with 3 month Internship': 'https://courses.ineuron.ai/Business-Analytics-Masters-with-3-month-Internship'},\n",
      "                                  {'Tableau Job Preparation': 'https://courses.ineuron.ai/Tableau-Job-Preparation'},\n",
      "                                  {'Excel Job Preparation': 'https://courses.ineuron.ai/Excel-Job-Preparation'},\n",
      "                                  {'Tableau Projects': 'https://courses.ineuron.ai/Tableau-Projects'},\n",
      "                                  {'Excel': 'https://courses.ineuron.ai/Excel'},\n",
      "                                  {'Big Data Live Class': 'https://courses.ineuron.ai/Big-Data-Live-Class'},\n",
      "                                  {'Airflow': 'https://courses.ineuron.ai/Airflow'},\n",
      "                                  {'Big Data': 'https://courses.ineuron.ai/Big-Data'},\n",
      "                                  {'Big Data Masters': 'https://courses.ineuron.ai/Big-Data-Masters'},\n",
      "                                  {'Big Data Job preparation': 'https://courses.ineuron.ai/Big-Data-Job-preparation'},\n",
      "                                  {'Big Data Projects': 'https://courses.ineuron.ai/Big-Data-Projects'}],\n",
      "                 'Development': [{'Pro Backend Developer': 'https://courses.ineuron.ai/Pro-Backend-Developer'},\n",
      "                                 {'Complete ReactJS Developer Bootcamp': 'https://courses.ineuron.ai/Complete-ReactJS-Developer-Bootcamp'},\n",
      "                                 {'Complete Bootstrap - 5 Projects': 'https://courses.ineuron.ai/Complete-Bootstrap---5-Projects'},\n",
      "                                 {'Django Course': 'https://courses.ineuron.ai/Django-Course'},\n",
      "                                 {'Back-end development with Django-8 Projects': 'https://courses.ineuron.ai/Back-end-development-with-Django-8-Projects'},\n",
      "                                 {'Vuejs': 'https://courses.ineuron.ai/Vuejs'},\n",
      "                                 {'Node JS Live Class': 'https://courses.ineuron.ai/Node-JS-Live-Class'},\n",
      "                                 {'Complete Backend development with Nodejs': 'https://courses.ineuron.ai/Complete-Backend-development-with-Nodejs'},\n",
      "                                 {'Web Development Interview Live Class': 'https://courses.ineuron.ai/Web-Development-Interview-Live-Class'},\n",
      "                                 {'Web Designing using Wordpress': 'https://courses.ineuron.ai/Web-Designing-using-Wordpress'},\n",
      "                                 {'Angular': 'https://courses.ineuron.ai/Angular'},\n",
      "                                 {'Django': 'https://courses.ineuron.ai/Django'},\n",
      "                                 {'Mern Stack Projects': 'https://courses.ineuron.ai/Mern-Stack-Projects'},\n",
      "                                 {'Mern Stack': 'https://courses.ineuron.ai/Mern-Stack'},\n",
      "                                 {'Mern stack job preparation': 'https://courses.ineuron.ai/Mern-stack-job-preparation'},\n",
      "                                 {'Blockchain Live Class': 'https://courses.ineuron.ai/Blockchain-Live-Class'},\n",
      "                                 {'Solidity Live Class': 'https://courses.ineuron.ai/Solidity-Live-Class'},\n",
      "                                 {'NFT Live Class': 'https://courses.ineuron.ai/NFT-Live-Class'},\n",
      "                                 {'Solidity': 'https://courses.ineuron.ai/Solidity'},\n",
      "                                 {'Blockchain': 'https://courses.ineuron.ai/Blockchain'},\n",
      "                                 {'Android Programming with Machine Learning Apps': 'https://courses.ineuron.ai/Android-Programming-with-Machine-Learning-Apps'},\n",
      "                                 {'Android Chat app with FireBase': 'https://courses.ineuron.ai/Android-Chat-app-with-FireBase'},\n",
      "                                 {'React Native': 'https://courses.ineuron.ai/React-Native'},\n",
      "                                 {'Kotlin': 'https://courses.ineuron.ai/Kotlin'},\n",
      "                                 {'Dart Programming': 'https://courses.ineuron.ai/Dart-Programming'},\n",
      "                                 {'Flutter': 'https://courses.ineuron.ai/Flutter'},\n",
      "                                 {'DART': 'https://courses.ineuron.ai/DART'},\n",
      "                                 {'Android': 'https://courses.ineuron.ai/Android'},\n",
      "                                 {'Android Job Preparation': 'https://courses.ineuron.ai/Android-Job-Preparation'},\n",
      "                                 {'RPA - UiPath': 'https://courses.ineuron.ai/RPA---UiPath'},\n",
      "                                 {'AI in edge devices Live Class': 'https://courses.ineuron.ai/AI-in-edge-devices-Live-Class'},\n",
      "                                 {'IOT Live Class': 'https://courses.ineuron.ai/IOT-Live-Class'},\n",
      "                                 {'Robotics Live Class': 'https://courses.ineuron.ai/Robotics-Live-Class'},\n",
      "                                 {'Jetson Xavier Live Class': 'https://courses.ineuron.ai/Jetson-Xavier-Live-Class'},\n",
      "                                 {'Jetson Nano Live Class': 'https://courses.ineuron.ai/Jetson-Nano-Live-Class'},\n",
      "                                 {'Drone Live Class': 'https://courses.ineuron.ai/Drone-Live-Class'},\n",
      "                                 {'Arduino Live Class': 'https://courses.ineuron.ai/Arduino-Live-Class'},\n",
      "                                 {'Spark AR Live Class': 'https://courses.ineuron.ai/Spark-AR-Live-Class'},\n",
      "                                 {'MySQL': 'https://courses.ineuron.ai/MySQL'},\n",
      "                                 {'Stored Procedures in SQL': 'https://courses.ineuron.ai/Stored-Procedures-in-SQL'},\n",
      "                                 {'Data Warehouse': 'https://courses.ineuron.ai/Data-Warehouse'},\n",
      "                                 {'SQL Server Integration Services': 'https://courses.ineuron.ai/SQL-Server-Integration-Services'},\n",
      "                                 {'PL SQL': 'https://courses.ineuron.ai/PL-SQL'},\n",
      "                                 {'PostgreSQL': 'https://courses.ineuron.ai/PostgreSQL'},\n",
      "                                 {'MS SQL Server and T-SQL': 'https://courses.ineuron.ai/MS-SQL-Server-and-T-SQL'},\n",
      "                                 {'NoSQL Database Live Class': 'https://courses.ineuron.ai/NoSQL-Database-Live-Class'},\n",
      "                                 {'SQL Interview Preparation Live Class': 'https://courses.ineuron.ai/SQL-Interview-Preparation-Live-Class'},\n",
      "                                 {'MongoDB Live Class': 'https://courses.ineuron.ai/MongoDB-Live-Class'},\n",
      "                                 {'SQL': 'https://courses.ineuron.ai/SQL'},\n",
      "                                 {'SQL Projects': 'https://courses.ineuron.ai/SQL-Projects'},\n",
      "                                 {'SQL Job Preparation': 'https://courses.ineuron.ai/SQL-Job-Preparation'}],\n",
      "                 'Marketing': [{'Email Marketing': 'https://courses.ineuron.ai/Email-Marketing'},\n",
      "                               {'Digital Marketing Projects': 'https://courses.ineuron.ai/Digital-Marketing-Projects'},\n",
      "                               {'Digital Marketing': 'https://courses.ineuron.ai/Digital-Marketing'},\n",
      "                               {'Digital Marketing Job Preparation': 'https://courses.ineuron.ai/Digital-Marketing-Job-Preparation'}],\n",
      "                 'Programming': [{'DSA with Python': 'https://courses.ineuron.ai/DSA-with-Python'},\n",
      "                                 {'DSA with C++': 'https://courses.ineuron.ai/DSA-with-C++'},\n",
      "                                 {'DSA with Java': 'https://courses.ineuron.ai/DSA-with-Java'},\n",
      "                                 {'System Design': 'https://courses.ineuron.ai/System-Design'},\n",
      "                                 {'MAANG Interview Preparation Live Class': 'https://courses.ineuron.ai/MAANG-Interview-Preparation-Live-Class'},\n",
      "                                 {'Data structure and Algorithm Live Interview Preparation': 'https://courses.ineuron.ai/Data-structure-and-Algorithm-Live-Interview-Preparation'},\n",
      "                                 {'Data Structures and Algorithms Live Class': 'https://courses.ineuron.ai/Data-Structures-and-Algorithms-Live-Class'},\n",
      "                                 {'Data Structures and Algorithms using python': 'https://courses.ineuron.ai/Data-Structures-and-Algorithms-using-python'},\n",
      "                                 {'Interview ready DSA course in Python': 'https://courses.ineuron.ai/Interview-ready-DSA-course-in-Python'},\n",
      "                                 {'Data Structure and Algorithm Job Preparation': 'https://courses.ineuron.ai/Data-Structure-and-Algorithm-Job-Preparation'},\n",
      "                                 {'Data Structure and Algorithm Projects': 'https://courses.ineuron.ai/Data-Structure-and-Algorithm-Projects'},\n",
      "                                 {'Data Structure and Algorithms with competitive programming and preparation': 'https://courses.ineuron.ai/Data-Structure-and-Algorithms-with-competitive-programming-and-preparation'},\n",
      "                                 {'Complete Interview Preparation For Data Structure and Algorithm in Python': 'https://courses.ineuron.ai/Complete-Interview-Preparation-For-Data-Structure-and-Algorithm-in-Python'},\n",
      "                                 {'FastAPI': 'https://courses.ineuron.ai/FastAPI'},\n",
      "                                 {'Game Development': 'https://courses.ineuron.ai/Game-Development'},\n",
      "                                 {'Django Live Class': 'https://courses.ineuron.ai/Django-Live-Class'},\n",
      "                                 {'Mathematics using Python': 'https://courses.ineuron.ai/Mathematics-using-Python'},\n",
      "                                 {'Python advance with projects': 'https://courses.ineuron.ai/Python-advance-with-projects'},\n",
      "                                 {'Fast Track Python': 'https://courses.ineuron.ai/Fast-Track-Python'},\n",
      "                                 {'C++ Bootcamp': 'https://courses.ineuron.ai/C++-Bootcamp'},\n",
      "                                 {'C++ Job Preparation': 'https://courses.ineuron.ai/C++-Job-Preparation'},\n",
      "                                 {'R Programming Projects': 'https://courses.ineuron.ai/R-Programming-Projects'},\n",
      "                                 {'R Programming Job Preparation': 'https://courses.ineuron.ai/R-Programming-Job-Preparation'},\n",
      "                                 {'R Programming': 'https://courses.ineuron.ai/R-Programming'},\n",
      "                                 {'Java Bootcamp': 'https://courses.ineuron.ai/Java-Bootcamp'},\n",
      "                                 {'C Programming': 'https://courses.ineuron.ai/C-Programming'}]}}\n"
     ]
    }
   ],
   "source": [
    "import pprint\n",
    "\n",
    "pprint.pprint(data)"
   ]
  },
  {
   "cell_type": "code",
   "execution_count": null,
   "metadata": {},
   "outputs": [],
   "source": []
  },
  {
   "cell_type": "code",
   "execution_count": 85,
   "metadata": {},
   "outputs": [
    {
     "name": "stderr",
     "output_type": "stream",
     "text": [
      "C:\\Users\\Kiran\\AppData\\Local\\Temp\\ipykernel_6196\\72130505.py:8: DeprecationWarning: find_elements_by_tag_name is deprecated. Please use find_elements(by=By.TAG_NAME, value=name) instead\n",
      "  sub_h3_tags = driver.find_elements_by_tag_name(\"h3\")\n"
     ]
    },
    {
     "name": "stdout",
     "output_type": "stream",
     "text": [
      "h3 data text :  Full Stack Data Science Bootcamp\n",
      "h3 data text :  DSA with Python\n",
      "h3 data text :  Pro Backend Developer\n",
      "h3 data text :  AWS Data Engineering\n",
      "h3 data text :  Email Marketing\n"
     ]
    }
   ],
   "source": [
    "for main_cour in list(data['sub_courses'].keys()):\n",
    "#     print(len(data['sub_courses'][main_cour]), data['sub_courses'][main_cour][0:1])\n",
    "    for sub_cour in data['sub_courses'][main_cour][0:1]:\n",
    "#         print(list(sub_cour.keys())[0], ' || ', list(sub_cour.values())[0])\n",
    "        \n",
    "        driver.get(list(sub_cour.values())[0])\n",
    "        scroll_to_end(driver)\n",
    "        \n",
    "#         working\n",
    "        sub_h3_tags = driver.find_elements_by_tag_name(\"h3\")        \n",
    "        for h3_data in sub_h3_tags:\n",
    "            print('h3 data text : ', h3_data.text)\n",
    "        \n",
    "        "
   ]
  },
  {
   "cell_type": "code",
   "execution_count": null,
   "metadata": {},
   "outputs": [],
   "source": []
  },
  {
   "cell_type": "code",
   "execution_count": null,
   "metadata": {},
   "outputs": [],
   "source": []
  },
  {
   "cell_type": "code",
   "execution_count": null,
   "metadata": {},
   "outputs": [],
   "source": []
  },
  {
   "cell_type": "code",
   "execution_count": null,
   "metadata": {},
   "outputs": [],
   "source": []
  },
  {
   "cell_type": "code",
   "execution_count": null,
   "metadata": {},
   "outputs": [],
   "source": []
  },
  {
   "cell_type": "code",
   "execution_count": null,
   "metadata": {},
   "outputs": [],
   "source": []
  },
  {
   "cell_type": "code",
   "execution_count": null,
   "metadata": {},
   "outputs": [],
   "source": []
  },
  {
   "cell_type": "code",
   "execution_count": null,
   "metadata": {},
   "outputs": [],
   "source": []
  },
  {
   "cell_type": "code",
   "execution_count": null,
   "metadata": {},
   "outputs": [],
   "source": []
  },
  {
   "cell_type": "code",
   "execution_count": null,
   "metadata": {},
   "outputs": [],
   "source": []
  },
  {
   "cell_type": "code",
   "execution_count": null,
   "metadata": {},
   "outputs": [],
   "source": []
  },
  {
   "cell_type": "code",
   "execution_count": null,
   "metadata": {},
   "outputs": [],
   "source": []
  },
  {
   "cell_type": "code",
   "execution_count": null,
   "metadata": {},
   "outputs": [],
   "source": []
  },
  {
   "cell_type": "code",
   "execution_count": null,
   "metadata": {},
   "outputs": [],
   "source": []
  },
  {
   "cell_type": "code",
   "execution_count": null,
   "metadata": {},
   "outputs": [],
   "source": []
  },
  {
   "cell_type": "code",
   "execution_count": null,
   "metadata": {},
   "outputs": [],
   "source": []
  },
  {
   "cell_type": "code",
   "execution_count": null,
   "metadata": {},
   "outputs": [],
   "source": []
  },
  {
   "cell_type": "code",
   "execution_count": null,
   "metadata": {},
   "outputs": [],
   "source": []
  },
  {
   "cell_type": "code",
   "execution_count": null,
   "metadata": {},
   "outputs": [],
   "source": []
  },
  {
   "cell_type": "code",
   "execution_count": null,
   "metadata": {},
   "outputs": [],
   "source": []
  },
  {
   "cell_type": "code",
   "execution_count": null,
   "metadata": {},
   "outputs": [],
   "source": []
  },
  {
   "cell_type": "code",
   "execution_count": null,
   "metadata": {},
   "outputs": [],
   "source": []
  },
  {
   "cell_type": "code",
   "execution_count": null,
   "metadata": {},
   "outputs": [],
   "source": []
  },
  {
   "cell_type": "code",
   "execution_count": null,
   "metadata": {},
   "outputs": [],
   "source": []
  },
  {
   "cell_type": "code",
   "execution_count": null,
   "metadata": {},
   "outputs": [],
   "source": []
  },
  {
   "cell_type": "code",
   "execution_count": null,
   "metadata": {},
   "outputs": [],
   "source": []
  },
  {
   "cell_type": "code",
   "execution_count": null,
   "metadata": {},
   "outputs": [],
   "source": []
  },
  {
   "cell_type": "code",
   "execution_count": null,
   "metadata": {},
   "outputs": [],
   "source": []
  },
  {
   "cell_type": "code",
   "execution_count": null,
   "metadata": {},
   "outputs": [],
   "source": []
  },
  {
   "cell_type": "code",
   "execution_count": null,
   "metadata": {},
   "outputs": [],
   "source": []
  },
  {
   "cell_type": "code",
   "execution_count": null,
   "metadata": {},
   "outputs": [],
   "source": []
  },
  {
   "cell_type": "code",
   "execution_count": null,
   "metadata": {},
   "outputs": [],
   "source": []
  },
  {
   "cell_type": "code",
   "execution_count": null,
   "metadata": {},
   "outputs": [],
   "source": []
  },
  {
   "cell_type": "code",
   "execution_count": null,
   "metadata": {},
   "outputs": [],
   "source": []
  },
  {
   "cell_type": "code",
   "execution_count": null,
   "metadata": {},
   "outputs": [],
   "source": []
  },
  {
   "cell_type": "code",
   "execution_count": null,
   "metadata": {},
   "outputs": [],
   "source": []
  },
  {
   "cell_type": "code",
   "execution_count": null,
   "metadata": {},
   "outputs": [],
   "source": []
  },
  {
   "cell_type": "code",
   "execution_count": null,
   "metadata": {},
   "outputs": [],
   "source": []
  },
  {
   "cell_type": "code",
   "execution_count": null,
   "metadata": {},
   "outputs": [],
   "source": []
  },
  {
   "cell_type": "code",
   "execution_count": null,
   "metadata": {},
   "outputs": [],
   "source": []
  },
  {
   "cell_type": "code",
   "execution_count": null,
   "metadata": {},
   "outputs": [],
   "source": []
  },
  {
   "cell_type": "code",
   "execution_count": null,
   "metadata": {},
   "outputs": [],
   "source": []
  },
  {
   "cell_type": "code",
   "execution_count": null,
   "metadata": {},
   "outputs": [],
   "source": []
  },
  {
   "cell_type": "code",
   "execution_count": null,
   "metadata": {},
   "outputs": [],
   "source": []
  },
  {
   "cell_type": "code",
   "execution_count": null,
   "metadata": {},
   "outputs": [],
   "source": []
  },
  {
   "cell_type": "code",
   "execution_count": null,
   "metadata": {},
   "outputs": [],
   "source": []
  },
  {
   "cell_type": "code",
   "execution_count": null,
   "metadata": {},
   "outputs": [],
   "source": []
  },
  {
   "cell_type": "code",
   "execution_count": null,
   "metadata": {},
   "outputs": [],
   "source": [
    "driver.close()"
   ]
  }
 ],
 "metadata": {
  "kernelspec": {
   "display_name": "Python 3 (ipykernel)",
   "language": "python",
   "name": "python3"
  },
  "language_info": {
   "codemirror_mode": {
    "name": "ipython",
    "version": 3
   },
   "file_extension": ".py",
   "mimetype": "text/x-python",
   "name": "python",
   "nbconvert_exporter": "python",
   "pygments_lexer": "ipython3",
   "version": "3.8.10"
  }
 },
 "nbformat": 4,
 "nbformat_minor": 2
}
