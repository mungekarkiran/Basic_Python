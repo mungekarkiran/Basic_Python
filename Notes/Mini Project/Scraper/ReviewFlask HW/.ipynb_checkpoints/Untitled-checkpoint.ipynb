{
 "cells": [
  {
   "cell_type": "code",
   "execution_count": 32,
   "metadata": {},
   "outputs": [],
   "source": [
    "import requests\n",
    "from bs4 import BeautifulSoup as bs\n",
    "from urllib.request import urlopen as uReq\n",
    "from selenium import webdriver\n",
    "import time"
   ]
  },
  {
   "cell_type": "code",
   "execution_count": 33,
   "metadata": {},
   "outputs": [],
   "source": [
    "DRIVER_PATH = r'E:\\\\chromedriver.exe'\n",
    "url = \"https://courses.ineuron.ai/\""
   ]
  },
  {
   "cell_type": "code",
   "execution_count": 34,
   "metadata": {
    "scrolled": true
   },
   "outputs": [
    {
     "name": "stderr",
     "output_type": "stream",
     "text": [
      "C:\\Users\\Kiran\\AppData\\Local\\Temp\\ipykernel_312\\2119741527.py:2: DeprecationWarning: executable_path has been deprecated, please pass in a Service object\n",
      "  driver = webdriver.Chrome(DRIVER_PATH)\n"
     ]
    }
   ],
   "source": [
    "# initiating the webdriver.\n",
    "driver = webdriver.Chrome(DRIVER_PATH) \n",
    "driver.get(url) \n",
    "  \n",
    "# this is just to ensure that the page is loaded\n",
    "time.sleep(5) "
   ]
  },
  {
   "cell_type": "code",
   "execution_count": 49,
   "metadata": {},
   "outputs": [],
   "source": []
  },
  {
   "cell_type": "code",
   "execution_count": 36,
   "metadata": {
    "scrolled": true
   },
   "outputs": [
    {
     "data": {
      "text/plain": [
       "'Courses Library | iNeuron.ai'"
      ]
     },
     "execution_count": 36,
     "metadata": {},
     "output_type": "execute_result"
    }
   ],
   "source": [
    "driver.title"
   ]
  },
  {
   "cell_type": "code",
   "execution_count": 37,
   "metadata": {},
   "outputs": [
    {
     "data": {
      "text/plain": [
       "'https://courses.ineuron.ai/'"
      ]
     },
     "execution_count": 37,
     "metadata": {},
     "output_type": "execute_result"
    }
   ],
   "source": [
    "driver.current_url"
   ]
  },
  {
   "cell_type": "code",
   "execution_count": 39,
   "metadata": {
    "scrolled": true
   },
   "outputs": [],
   "source": [
    "# driver.page_source"
   ]
  },
  {
   "cell_type": "code",
   "execution_count": 40,
   "metadata": {},
   "outputs": [
    {
     "name": "stderr",
     "output_type": "stream",
     "text": [
      "C:\\Users\\Kiran\\AppData\\Local\\Temp\\ipykernel_312\\1076266009.py:1: DeprecationWarning: find_elements_by_xpath is deprecated. Please use find_elements(by=By.XPATH, value=xpath) instead\n",
      "  myXpath = driver.find_elements_by_xpath('//*[@id=\"__next\"]/div[1]/section[2]/div/div[2]/div')\n"
     ]
    },
    {
     "data": {
      "text/plain": [
       "''"
      ]
     },
     "execution_count": 40,
     "metadata": {},
     "output_type": "execute_result"
    }
   ],
   "source": [
    "myXpath = driver.find_elements_by_xpath('//*[@id=\"__next\"]/div[1]/section[2]/div/div[2]/div')\n",
    "myXpath[0].text #.get_attribute('href')"
   ]
  },
  {
   "cell_type": "code",
   "execution_count": 41,
   "metadata": {},
   "outputs": [],
   "source": [
    "# myClass = driver.find_element_by_class_name('TopCategoryList_category-cards__LvHCa TopCategoryList_grid__2Pi2T grid')"
   ]
  },
  {
   "cell_type": "code",
   "execution_count": 42,
   "metadata": {},
   "outputs": [
    {
     "data": {
      "text/plain": [
       "['']"
      ]
     },
     "execution_count": 42,
     "metadata": {},
     "output_type": "execute_result"
    }
   ],
   "source": [
    "myXpath[0].text.split('\\n')"
   ]
  },
  {
   "cell_type": "code",
   "execution_count": 43,
   "metadata": {},
   "outputs": [
    {
     "name": "stderr",
     "output_type": "stream",
     "text": [
      "C:\\Users\\Kiran\\AppData\\Local\\Temp\\ipykernel_312\\1528991524.py:2: DeprecationWarning: find_element_by_link_text is deprecated. Please use find_element(by=By.LINK_TEXT, value=link_text) instead\n",
      "  continue_link = driver.find_element_by_link_text(j)\n"
     ]
    },
    {
     "name": "stdout",
     "output_type": "stream",
     "text": [
      "https://courses.ineuron.ai/\n"
     ]
    }
   ],
   "source": [
    "for j in myXpath[0].text.split('\\n'):\n",
    "    continue_link = driver.find_element_by_link_text(j)\n",
    "    print(continue_link.get_attribute('href'))\n",
    "    driver.get(continue_link.get_attribute('href'))\n",
    "    time.sleep(5)"
   ]
  },
  {
   "cell_type": "code",
   "execution_count": null,
   "metadata": {},
   "outputs": [],
   "source": []
  },
  {
   "cell_type": "code",
   "execution_count": 44,
   "metadata": {},
   "outputs": [],
   "source": [
    "# # get all image thumbnail results\n",
    "# results = driver.find_elements_by_css_selector(\"TopCategoryList_top-categories-card__atCLz\")\n",
    "# len_results = len(results)\n"
   ]
  },
  {
   "cell_type": "code",
   "execution_count": 88,
   "metadata": {},
   "outputs": [
    {
     "name": "stderr",
     "output_type": "stream",
     "text": [
      "C:\\Users\\Kiran\\AppData\\Local\\Temp\\ipykernel_312\\1938192035.py:11: DeprecationWarning: executable_path has been deprecated, please pass in a Service object\n",
      "  driver = webdriver.Chrome(DRIVER_PATH)\n"
     ]
    },
    {
     "name": "stdout",
     "output_type": "stream",
     "text": [
      "Courses Library | iNeuron.ai  ||  https://courses.ineuron.ai/\n"
     ]
    }
   ],
   "source": [
    "import requests\n",
    "from bs4 import BeautifulSoup as bs\n",
    "from urllib.request import urlopen as uReq\n",
    "from selenium import webdriver\n",
    "import time\n",
    "\n",
    "DRIVER_PATH = r'E:\\\\chromedriver.exe'\n",
    "url = \"https://courses.ineuron.ai/\"\n",
    "\n",
    "# initiating the webdriver.\n",
    "driver = webdriver.Chrome(DRIVER_PATH) \n",
    "driver.get(url) \n",
    "  \n",
    "# this is just to ensure that the page is loaded\n",
    "time.sleep(1)\n",
    "\n",
    "print(driver.title, ' || ', driver.current_url)\n"
   ]
  },
  {
   "cell_type": "code",
   "execution_count": 89,
   "metadata": {},
   "outputs": [
    {
     "name": "stderr",
     "output_type": "stream",
     "text": [
      "C:\\Users\\Kiran\\AppData\\Local\\Temp\\ipykernel_312\\3913897333.py:2: DeprecationWarning: find_element_by_tag_name is deprecated. Please use find_element(by=By.TAG_NAME, value=name) instead\n",
      "  div_tag = driver.find_element_by_tag_name('div')\n"
     ]
    },
    {
     "data": {
      "text/plain": [
       "<selenium.webdriver.remote.webelement.WebElement (session=\"3bdeec8c50e9f2e57d9731f6d6c997dc\", element=\"bcab1ea0-e4ae-4da0-a1c1-b22a4f3f9d7b\")>"
      ]
     },
     "execution_count": 89,
     "metadata": {},
     "output_type": "execute_result"
    }
   ],
   "source": [
    "# Locating Elements by Tag Name\n",
    "div_tag = driver.find_element_by_tag_name('div')\n",
    "div_tag"
   ]
  },
  {
   "cell_type": "code",
   "execution_count": 90,
   "metadata": {},
   "outputs": [
    {
     "name": "stderr",
     "output_type": "stream",
     "text": [
      "C:\\Users\\Kiran\\AppData\\Local\\Temp\\ipykernel_312\\2389797498.py:1: DeprecationWarning: find_elements_by_tag_name is deprecated. Please use find_elements(by=By.TAG_NAME, value=name) instead\n",
      "  div_tags = driver.find_elements_by_tag_name('div')\n"
     ]
    },
    {
     "data": {
      "text/plain": [
       "[<selenium.webdriver.remote.webelement.WebElement (session=\"3bdeec8c50e9f2e57d9731f6d6c997dc\", element=\"bcab1ea0-e4ae-4da0-a1c1-b22a4f3f9d7b\")>,\n",
       " <selenium.webdriver.remote.webelement.WebElement (session=\"3bdeec8c50e9f2e57d9731f6d6c997dc\", element=\"503c8295-1281-43a2-b90b-c3fd3112a0ba\")>,\n",
       " <selenium.webdriver.remote.webelement.WebElement (session=\"3bdeec8c50e9f2e57d9731f6d6c997dc\", element=\"e33e7f3c-f3a9-4e54-b387-e733a2e0338d\")>,\n",
       " <selenium.webdriver.remote.webelement.WebElement (session=\"3bdeec8c50e9f2e57d9731f6d6c997dc\", element=\"adc2fded-af57-4e8d-9224-1a4ef25e87ce\")>,\n",
       " <selenium.webdriver.remote.webelement.WebElement (session=\"3bdeec8c50e9f2e57d9731f6d6c997dc\", element=\"b889cb59-7199-4b91-93ef-e7094771b258\")>,\n",
       " <selenium.webdriver.remote.webelement.WebElement (session=\"3bdeec8c50e9f2e57d9731f6d6c997dc\", element=\"f4602e8e-7462-4b28-8251-c07081ef02c4\")>,\n",
       " <selenium.webdriver.remote.webelement.WebElement (session=\"3bdeec8c50e9f2e57d9731f6d6c997dc\", element=\"6e7f53d7-2088-4f88-9214-9f912a364000\")>,\n",
       " <selenium.webdriver.remote.webelement.WebElement (session=\"3bdeec8c50e9f2e57d9731f6d6c997dc\", element=\"ea1672cf-82b3-4cd8-920d-9e9599c678bf\")>,\n",
       " <selenium.webdriver.remote.webelement.WebElement (session=\"3bdeec8c50e9f2e57d9731f6d6c997dc\", element=\"aae5dd44-94e9-41f3-b821-e9dbb675f39f\")>,\n",
       " <selenium.webdriver.remote.webelement.WebElement (session=\"3bdeec8c50e9f2e57d9731f6d6c997dc\", element=\"f501fb61-65e6-4849-996f-13a7a2238206\")>,\n",
       " <selenium.webdriver.remote.webelement.WebElement (session=\"3bdeec8c50e9f2e57d9731f6d6c997dc\", element=\"c6cc7a39-155d-45ea-9926-60d18dbb84d3\")>,\n",
       " <selenium.webdriver.remote.webelement.WebElement (session=\"3bdeec8c50e9f2e57d9731f6d6c997dc\", element=\"88c91348-fb78-47c2-9b89-632d4c4b0f8a\")>,\n",
       " <selenium.webdriver.remote.webelement.WebElement (session=\"3bdeec8c50e9f2e57d9731f6d6c997dc\", element=\"c589c1a5-e0fc-445c-93db-7c8245f38aef\")>,\n",
       " <selenium.webdriver.remote.webelement.WebElement (session=\"3bdeec8c50e9f2e57d9731f6d6c997dc\", element=\"8ae000f4-3c5f-4738-b5ee-6e19a948bdfd\")>,\n",
       " <selenium.webdriver.remote.webelement.WebElement (session=\"3bdeec8c50e9f2e57d9731f6d6c997dc\", element=\"a6c46d86-b4a4-48e6-a92e-dddf79369ea4\")>,\n",
       " <selenium.webdriver.remote.webelement.WebElement (session=\"3bdeec8c50e9f2e57d9731f6d6c997dc\", element=\"253730b2-c966-46c2-844f-2977c1497f19\")>,\n",
       " <selenium.webdriver.remote.webelement.WebElement (session=\"3bdeec8c50e9f2e57d9731f6d6c997dc\", element=\"d70bc702-9b9e-4939-82db-4565409e30fb\")>,\n",
       " <selenium.webdriver.remote.webelement.WebElement (session=\"3bdeec8c50e9f2e57d9731f6d6c997dc\", element=\"3260afe8-3504-4d11-b656-fee986423384\")>,\n",
       " <selenium.webdriver.remote.webelement.WebElement (session=\"3bdeec8c50e9f2e57d9731f6d6c997dc\", element=\"8fbb964e-951d-400c-b0d1-c674f4a71ff6\")>,\n",
       " <selenium.webdriver.remote.webelement.WebElement (session=\"3bdeec8c50e9f2e57d9731f6d6c997dc\", element=\"e18d869a-eb05-4c18-8571-b03ed3f882cf\")>,\n",
       " <selenium.webdriver.remote.webelement.WebElement (session=\"3bdeec8c50e9f2e57d9731f6d6c997dc\", element=\"e4532cf0-9daf-46b3-b5a1-a76236ec068e\")>,\n",
       " <selenium.webdriver.remote.webelement.WebElement (session=\"3bdeec8c50e9f2e57d9731f6d6c997dc\", element=\"5c00a1d4-28e5-4232-97c9-678595ea9a18\")>,\n",
       " <selenium.webdriver.remote.webelement.WebElement (session=\"3bdeec8c50e9f2e57d9731f6d6c997dc\", element=\"09f00f68-7af6-4d9b-84fd-773da2305fa2\")>,\n",
       " <selenium.webdriver.remote.webelement.WebElement (session=\"3bdeec8c50e9f2e57d9731f6d6c997dc\", element=\"fb982af1-9da9-481e-bc1f-be656c44349d\")>,\n",
       " <selenium.webdriver.remote.webelement.WebElement (session=\"3bdeec8c50e9f2e57d9731f6d6c997dc\", element=\"4f8e4eb2-7424-4b24-84a0-9e4362911a26\")>,\n",
       " <selenium.webdriver.remote.webelement.WebElement (session=\"3bdeec8c50e9f2e57d9731f6d6c997dc\", element=\"f164cf1b-e725-46d6-b497-ff6f2feb54ad\")>,\n",
       " <selenium.webdriver.remote.webelement.WebElement (session=\"3bdeec8c50e9f2e57d9731f6d6c997dc\", element=\"cac721f1-3838-4c84-bfe9-17018dee06c6\")>,\n",
       " <selenium.webdriver.remote.webelement.WebElement (session=\"3bdeec8c50e9f2e57d9731f6d6c997dc\", element=\"5fe02a61-b481-4d70-ae12-ab985af1b67d\")>,\n",
       " <selenium.webdriver.remote.webelement.WebElement (session=\"3bdeec8c50e9f2e57d9731f6d6c997dc\", element=\"a6491f9f-3f04-4ed7-bcce-a40b58e059e4\")>,\n",
       " <selenium.webdriver.remote.webelement.WebElement (session=\"3bdeec8c50e9f2e57d9731f6d6c997dc\", element=\"0c736772-24b6-481a-8425-8e993f55e600\")>,\n",
       " <selenium.webdriver.remote.webelement.WebElement (session=\"3bdeec8c50e9f2e57d9731f6d6c997dc\", element=\"3a3ec50a-ccd5-42d9-8259-b9758068036a\")>,\n",
       " <selenium.webdriver.remote.webelement.WebElement (session=\"3bdeec8c50e9f2e57d9731f6d6c997dc\", element=\"4b6857a1-1eb0-4719-af3d-c2dc469d11d6\")>,\n",
       " <selenium.webdriver.remote.webelement.WebElement (session=\"3bdeec8c50e9f2e57d9731f6d6c997dc\", element=\"31577a30-0a08-4c99-9241-c8085a2d5850\")>,\n",
       " <selenium.webdriver.remote.webelement.WebElement (session=\"3bdeec8c50e9f2e57d9731f6d6c997dc\", element=\"19b3bc09-e9e4-4729-8645-03c06336c775\")>,\n",
       " <selenium.webdriver.remote.webelement.WebElement (session=\"3bdeec8c50e9f2e57d9731f6d6c997dc\", element=\"9ebfbef9-3ac1-4ee8-9106-986249143385\")>,\n",
       " <selenium.webdriver.remote.webelement.WebElement (session=\"3bdeec8c50e9f2e57d9731f6d6c997dc\", element=\"ad21f5ce-d26b-41e0-9aa4-d79fa708206b\")>,\n",
       " <selenium.webdriver.remote.webelement.WebElement (session=\"3bdeec8c50e9f2e57d9731f6d6c997dc\", element=\"aecc18a2-2981-407d-8657-6f05849e67a3\")>,\n",
       " <selenium.webdriver.remote.webelement.WebElement (session=\"3bdeec8c50e9f2e57d9731f6d6c997dc\", element=\"1fd48859-ab62-47bf-a278-6efc73b5b633\")>,\n",
       " <selenium.webdriver.remote.webelement.WebElement (session=\"3bdeec8c50e9f2e57d9731f6d6c997dc\", element=\"837dd55b-bb59-4709-9e0f-823088761635\")>,\n",
       " <selenium.webdriver.remote.webelement.WebElement (session=\"3bdeec8c50e9f2e57d9731f6d6c997dc\", element=\"0022e370-fbd3-4389-8697-2b9e4c574c86\")>,\n",
       " <selenium.webdriver.remote.webelement.WebElement (session=\"3bdeec8c50e9f2e57d9731f6d6c997dc\", element=\"a8704ac7-1844-4a4d-9f6f-c20657c10567\")>,\n",
       " <selenium.webdriver.remote.webelement.WebElement (session=\"3bdeec8c50e9f2e57d9731f6d6c997dc\", element=\"accd27ae-afdd-462a-83bf-ec0c7286a384\")>,\n",
       " <selenium.webdriver.remote.webelement.WebElement (session=\"3bdeec8c50e9f2e57d9731f6d6c997dc\", element=\"55b1b418-85d6-4be0-8a08-c3c1fd87e766\")>,\n",
       " <selenium.webdriver.remote.webelement.WebElement (session=\"3bdeec8c50e9f2e57d9731f6d6c997dc\", element=\"79891db3-f5c6-4795-b82b-70049b8c4e77\")>,\n",
       " <selenium.webdriver.remote.webelement.WebElement (session=\"3bdeec8c50e9f2e57d9731f6d6c997dc\", element=\"627eca94-eedf-45f8-a2b0-8a0105af1d84\")>,\n",
       " <selenium.webdriver.remote.webelement.WebElement (session=\"3bdeec8c50e9f2e57d9731f6d6c997dc\", element=\"a5b42d76-a885-437d-b3d4-50b17643fd6c\")>,\n",
       " <selenium.webdriver.remote.webelement.WebElement (session=\"3bdeec8c50e9f2e57d9731f6d6c997dc\", element=\"17b76361-593a-4593-8b94-63a4465bf814\")>,\n",
       " <selenium.webdriver.remote.webelement.WebElement (session=\"3bdeec8c50e9f2e57d9731f6d6c997dc\", element=\"d563e6b4-e065-4fbf-9b62-af8fa305fb29\")>,\n",
       " <selenium.webdriver.remote.webelement.WebElement (session=\"3bdeec8c50e9f2e57d9731f6d6c997dc\", element=\"2f754fab-14f2-4484-b4de-e28bda0e4923\")>,\n",
       " <selenium.webdriver.remote.webelement.WebElement (session=\"3bdeec8c50e9f2e57d9731f6d6c997dc\", element=\"5dd50bdb-4a76-4e81-a5ad-510b4897c91c\")>,\n",
       " <selenium.webdriver.remote.webelement.WebElement (session=\"3bdeec8c50e9f2e57d9731f6d6c997dc\", element=\"7628fa1b-d8e1-46e9-869a-77f39ef53fad\")>,\n",
       " <selenium.webdriver.remote.webelement.WebElement (session=\"3bdeec8c50e9f2e57d9731f6d6c997dc\", element=\"3d9bf291-014c-48a1-94a0-31d086fa5ca8\")>,\n",
       " <selenium.webdriver.remote.webelement.WebElement (session=\"3bdeec8c50e9f2e57d9731f6d6c997dc\", element=\"41b50c0f-49ce-4f95-80bf-fa17582974fd\")>,\n",
       " <selenium.webdriver.remote.webelement.WebElement (session=\"3bdeec8c50e9f2e57d9731f6d6c997dc\", element=\"693ca31f-2103-47ee-805c-64bddcc98635\")>,\n",
       " <selenium.webdriver.remote.webelement.WebElement (session=\"3bdeec8c50e9f2e57d9731f6d6c997dc\", element=\"a9bf45f7-1021-45df-8b20-142b9103a9b4\")>,\n",
       " <selenium.webdriver.remote.webelement.WebElement (session=\"3bdeec8c50e9f2e57d9731f6d6c997dc\", element=\"29119399-6e4f-4d5f-b163-7ee86ada0882\")>,\n",
       " <selenium.webdriver.remote.webelement.WebElement (session=\"3bdeec8c50e9f2e57d9731f6d6c997dc\", element=\"46a520cc-ecba-4e92-b997-c3cd07454b70\")>,\n",
       " <selenium.webdriver.remote.webelement.WebElement (session=\"3bdeec8c50e9f2e57d9731f6d6c997dc\", element=\"1276d81d-c63c-49c5-97d9-f9d43e550b20\")>,\n",
       " <selenium.webdriver.remote.webelement.WebElement (session=\"3bdeec8c50e9f2e57d9731f6d6c997dc\", element=\"87cff0ac-f2cd-49f3-84c3-602054d49e42\")>,\n",
       " <selenium.webdriver.remote.webelement.WebElement (session=\"3bdeec8c50e9f2e57d9731f6d6c997dc\", element=\"0940af2b-948e-4a4b-a036-f0015271a374\")>,\n",
       " <selenium.webdriver.remote.webelement.WebElement (session=\"3bdeec8c50e9f2e57d9731f6d6c997dc\", element=\"d171db87-2e94-44f9-8cdb-62bb7cde89da\")>,\n",
       " <selenium.webdriver.remote.webelement.WebElement (session=\"3bdeec8c50e9f2e57d9731f6d6c997dc\", element=\"141f1869-831b-4109-8bb2-143f194c3dbc\")>,\n",
       " <selenium.webdriver.remote.webelement.WebElement (session=\"3bdeec8c50e9f2e57d9731f6d6c997dc\", element=\"800a2dfc-9519-4f98-a29d-8c4de9991878\")>,\n",
       " <selenium.webdriver.remote.webelement.WebElement (session=\"3bdeec8c50e9f2e57d9731f6d6c997dc\", element=\"e6e1c46c-24c7-4f50-9947-0790d84482b1\")>,\n",
       " <selenium.webdriver.remote.webelement.WebElement (session=\"3bdeec8c50e9f2e57d9731f6d6c997dc\", element=\"bfcb5712-52f7-44ab-9d47-6c2e4f866895\")>,\n",
       " <selenium.webdriver.remote.webelement.WebElement (session=\"3bdeec8c50e9f2e57d9731f6d6c997dc\", element=\"ec5fda54-5d0c-4670-be7b-d9a3966976c2\")>,\n",
       " <selenium.webdriver.remote.webelement.WebElement (session=\"3bdeec8c50e9f2e57d9731f6d6c997dc\", element=\"4d831ca3-5930-4a17-91e2-71515a6389f2\")>,\n",
       " <selenium.webdriver.remote.webelement.WebElement (session=\"3bdeec8c50e9f2e57d9731f6d6c997dc\", element=\"c1bb1463-8665-4646-bf7d-0b92a505e489\")>,\n",
       " <selenium.webdriver.remote.webelement.WebElement (session=\"3bdeec8c50e9f2e57d9731f6d6c997dc\", element=\"0dbb1005-a26e-4986-a9a8-6501d4372394\")>,\n",
       " <selenium.webdriver.remote.webelement.WebElement (session=\"3bdeec8c50e9f2e57d9731f6d6c997dc\", element=\"4eed5564-cac1-48e3-8922-cd29ad7e09a0\")>,\n",
       " <selenium.webdriver.remote.webelement.WebElement (session=\"3bdeec8c50e9f2e57d9731f6d6c997dc\", element=\"23ab2b47-6099-46cd-8c60-5b954ca7e6f5\")>,\n",
       " <selenium.webdriver.remote.webelement.WebElement (session=\"3bdeec8c50e9f2e57d9731f6d6c997dc\", element=\"4fae452a-bfdf-474f-909c-9bddcc86fa04\")>,\n",
       " <selenium.webdriver.remote.webelement.WebElement (session=\"3bdeec8c50e9f2e57d9731f6d6c997dc\", element=\"2270887a-2cf4-4f9f-bf69-0dfcf4e354f9\")>,\n",
       " <selenium.webdriver.remote.webelement.WebElement (session=\"3bdeec8c50e9f2e57d9731f6d6c997dc\", element=\"89c34769-617d-4e44-b175-b0bedd73b5ed\")>,\n",
       " <selenium.webdriver.remote.webelement.WebElement (session=\"3bdeec8c50e9f2e57d9731f6d6c997dc\", element=\"4e4c0ca1-1724-4b33-b661-74b4e84f19a8\")>,\n",
       " <selenium.webdriver.remote.webelement.WebElement (session=\"3bdeec8c50e9f2e57d9731f6d6c997dc\", element=\"d56d1723-b1c7-4fca-b228-b2f2afe53a81\")>,\n",
       " <selenium.webdriver.remote.webelement.WebElement (session=\"3bdeec8c50e9f2e57d9731f6d6c997dc\", element=\"73f4df86-0a4f-4a91-8ff2-84578bbceb8d\")>,\n",
       " <selenium.webdriver.remote.webelement.WebElement (session=\"3bdeec8c50e9f2e57d9731f6d6c997dc\", element=\"6f9c8d42-2310-4c65-8283-f717d4b04fb7\")>,\n",
       " <selenium.webdriver.remote.webelement.WebElement (session=\"3bdeec8c50e9f2e57d9731f6d6c997dc\", element=\"270296b7-1f24-4886-94db-f492617a32e5\")>,\n",
       " <selenium.webdriver.remote.webelement.WebElement (session=\"3bdeec8c50e9f2e57d9731f6d6c997dc\", element=\"bcf4456e-faed-4260-aff7-de3519855be1\")>,\n",
       " <selenium.webdriver.remote.webelement.WebElement (session=\"3bdeec8c50e9f2e57d9731f6d6c997dc\", element=\"b28bb069-35fb-4e1f-939e-d685c4f23d49\")>,\n",
       " <selenium.webdriver.remote.webelement.WebElement (session=\"3bdeec8c50e9f2e57d9731f6d6c997dc\", element=\"2f9d2619-7eda-4c90-b9c6-797f4b334ef8\")>,\n",
       " <selenium.webdriver.remote.webelement.WebElement (session=\"3bdeec8c50e9f2e57d9731f6d6c997dc\", element=\"afac7258-07f2-412e-a7f2-c4b9b69c853a\")>,\n",
       " <selenium.webdriver.remote.webelement.WebElement (session=\"3bdeec8c50e9f2e57d9731f6d6c997dc\", element=\"36675df3-9193-45e2-b001-d237df93d4f3\")>,\n",
       " <selenium.webdriver.remote.webelement.WebElement (session=\"3bdeec8c50e9f2e57d9731f6d6c997dc\", element=\"ebfa7569-e720-469a-b147-6368f74bd649\")>,\n",
       " <selenium.webdriver.remote.webelement.WebElement (session=\"3bdeec8c50e9f2e57d9731f6d6c997dc\", element=\"79e4f35f-5131-44d5-8c02-cf45078e4309\")>,\n",
       " <selenium.webdriver.remote.webelement.WebElement (session=\"3bdeec8c50e9f2e57d9731f6d6c997dc\", element=\"d32de2b5-55d1-4d87-8159-657ab8391e95\")>,\n",
       " <selenium.webdriver.remote.webelement.WebElement (session=\"3bdeec8c50e9f2e57d9731f6d6c997dc\", element=\"44c1e54e-079c-41cb-8d81-42abe3fefdab\")>,\n",
       " <selenium.webdriver.remote.webelement.WebElement (session=\"3bdeec8c50e9f2e57d9731f6d6c997dc\", element=\"0f003dae-3a4c-457f-b99a-40d1b447f946\")>,\n",
       " <selenium.webdriver.remote.webelement.WebElement (session=\"3bdeec8c50e9f2e57d9731f6d6c997dc\", element=\"98f16404-9242-47a2-80a4-98fe846c2f28\")>,\n",
       " <selenium.webdriver.remote.webelement.WebElement (session=\"3bdeec8c50e9f2e57d9731f6d6c997dc\", element=\"45291991-25be-42eb-816a-4dff0cbd516b\")>,\n",
       " <selenium.webdriver.remote.webelement.WebElement (session=\"3bdeec8c50e9f2e57d9731f6d6c997dc\", element=\"530febc8-4be2-4684-abac-922d24fd38f2\")>,\n",
       " <selenium.webdriver.remote.webelement.WebElement (session=\"3bdeec8c50e9f2e57d9731f6d6c997dc\", element=\"716640d4-1329-4d30-8a1f-82171b172c6b\")>,\n",
       " <selenium.webdriver.remote.webelement.WebElement (session=\"3bdeec8c50e9f2e57d9731f6d6c997dc\", element=\"a750ae5a-6754-42a9-bb2b-e3a2cdb5249b\")>,\n",
       " <selenium.webdriver.remote.webelement.WebElement (session=\"3bdeec8c50e9f2e57d9731f6d6c997dc\", element=\"834a7067-77a5-4fcd-9f87-4a4f9e59fec3\")>,\n",
       " <selenium.webdriver.remote.webelement.WebElement (session=\"3bdeec8c50e9f2e57d9731f6d6c997dc\", element=\"0d0cbf0b-4219-4fc3-a6af-fcd986314e63\")>,\n",
       " <selenium.webdriver.remote.webelement.WebElement (session=\"3bdeec8c50e9f2e57d9731f6d6c997dc\", element=\"54855f18-6c4c-4c7d-b9ae-28a3b3c6a5a2\")>,\n",
       " <selenium.webdriver.remote.webelement.WebElement (session=\"3bdeec8c50e9f2e57d9731f6d6c997dc\", element=\"547b9548-fba3-4c80-925a-3a35ce7fef4d\")>,\n",
       " <selenium.webdriver.remote.webelement.WebElement (session=\"3bdeec8c50e9f2e57d9731f6d6c997dc\", element=\"89268ff7-73ae-4d4b-9f9a-b03b39fccce2\")>,\n",
       " <selenium.webdriver.remote.webelement.WebElement (session=\"3bdeec8c50e9f2e57d9731f6d6c997dc\", element=\"fee20e92-4738-47d6-be1b-59419373d8a3\")>,\n",
       " <selenium.webdriver.remote.webelement.WebElement (session=\"3bdeec8c50e9f2e57d9731f6d6c997dc\", element=\"e692ec7e-3cea-41e9-b652-46c0943811e0\")>,\n",
       " <selenium.webdriver.remote.webelement.WebElement (session=\"3bdeec8c50e9f2e57d9731f6d6c997dc\", element=\"ba65b083-0b44-4404-9dfb-57ce8660ee12\")>,\n",
       " <selenium.webdriver.remote.webelement.WebElement (session=\"3bdeec8c50e9f2e57d9731f6d6c997dc\", element=\"5488d8ba-887a-491b-b964-5c7044d05f8c\")>,\n",
       " <selenium.webdriver.remote.webelement.WebElement (session=\"3bdeec8c50e9f2e57d9731f6d6c997dc\", element=\"8d3b684d-4fa8-4721-abc0-d8bf048ce450\")>,\n",
       " <selenium.webdriver.remote.webelement.WebElement (session=\"3bdeec8c50e9f2e57d9731f6d6c997dc\", element=\"5376b900-9ae7-4902-aa5d-46e68ccd76b7\")>,\n",
       " <selenium.webdriver.remote.webelement.WebElement (session=\"3bdeec8c50e9f2e57d9731f6d6c997dc\", element=\"7e893dba-ee55-4abe-9908-0da847542765\")>,\n",
       " <selenium.webdriver.remote.webelement.WebElement (session=\"3bdeec8c50e9f2e57d9731f6d6c997dc\", element=\"d1045819-b598-4896-9abb-a26753ff65f3\")>,\n",
       " <selenium.webdriver.remote.webelement.WebElement (session=\"3bdeec8c50e9f2e57d9731f6d6c997dc\", element=\"a977e180-69c9-4eff-badd-744c7a59bf1e\")>,\n",
       " <selenium.webdriver.remote.webelement.WebElement (session=\"3bdeec8c50e9f2e57d9731f6d6c997dc\", element=\"73c6b302-33e2-47d2-baff-f4e929fedf73\")>,\n",
       " <selenium.webdriver.remote.webelement.WebElement (session=\"3bdeec8c50e9f2e57d9731f6d6c997dc\", element=\"144efc62-1dd2-4386-9c39-b613cac626be\")>,\n",
       " <selenium.webdriver.remote.webelement.WebElement (session=\"3bdeec8c50e9f2e57d9731f6d6c997dc\", element=\"e14d7ebc-7af7-4ff8-99c4-832120a5f2c7\")>,\n",
       " <selenium.webdriver.remote.webelement.WebElement (session=\"3bdeec8c50e9f2e57d9731f6d6c997dc\", element=\"7fbc490c-c404-4380-8b28-f65be97bb926\")>,\n",
       " <selenium.webdriver.remote.webelement.WebElement (session=\"3bdeec8c50e9f2e57d9731f6d6c997dc\", element=\"2feae258-d79a-4d07-b721-217d278f7c5f\")>,\n",
       " <selenium.webdriver.remote.webelement.WebElement (session=\"3bdeec8c50e9f2e57d9731f6d6c997dc\", element=\"6b8b6067-ae7d-4c1b-818a-b9e3e70866cf\")>,\n",
       " <selenium.webdriver.remote.webelement.WebElement (session=\"3bdeec8c50e9f2e57d9731f6d6c997dc\", element=\"4b1038af-3fa3-4a1f-9b96-586d29fe9024\")>,\n",
       " <selenium.webdriver.remote.webelement.WebElement (session=\"3bdeec8c50e9f2e57d9731f6d6c997dc\", element=\"1b4fee14-429d-40b4-bdfd-e1fccadb36e2\")>,\n",
       " <selenium.webdriver.remote.webelement.WebElement (session=\"3bdeec8c50e9f2e57d9731f6d6c997dc\", element=\"26f20cf2-4b66-485f-b897-5e58357f765f\")>,\n",
       " <selenium.webdriver.remote.webelement.WebElement (session=\"3bdeec8c50e9f2e57d9731f6d6c997dc\", element=\"4248b7e7-43d8-45fd-85bb-9f5d38de9532\")>,\n",
       " <selenium.webdriver.remote.webelement.WebElement (session=\"3bdeec8c50e9f2e57d9731f6d6c997dc\", element=\"3ca02815-73d5-4da1-b1d3-90d66f930d98\")>,\n",
       " <selenium.webdriver.remote.webelement.WebElement (session=\"3bdeec8c50e9f2e57d9731f6d6c997dc\", element=\"cb6d4a85-300c-43bb-ad5e-245752cc06d3\")>,\n",
       " <selenium.webdriver.remote.webelement.WebElement (session=\"3bdeec8c50e9f2e57d9731f6d6c997dc\", element=\"79a2fd1a-d0c1-471e-9191-12d7c5102ed6\")>,\n",
       " <selenium.webdriver.remote.webelement.WebElement (session=\"3bdeec8c50e9f2e57d9731f6d6c997dc\", element=\"c9974542-2d22-4f97-92db-9f2cc96675b4\")>,\n",
       " <selenium.webdriver.remote.webelement.WebElement (session=\"3bdeec8c50e9f2e57d9731f6d6c997dc\", element=\"7e6fe723-d00e-4e3b-a29a-2fbba6576c0b\")>,\n",
       " <selenium.webdriver.remote.webelement.WebElement (session=\"3bdeec8c50e9f2e57d9731f6d6c997dc\", element=\"28962814-edee-46a1-9ca7-fdc14f98ba56\")>,\n",
       " <selenium.webdriver.remote.webelement.WebElement (session=\"3bdeec8c50e9f2e57d9731f6d6c997dc\", element=\"711453c1-e761-4aad-a601-8d8636435047\")>,\n",
       " <selenium.webdriver.remote.webelement.WebElement (session=\"3bdeec8c50e9f2e57d9731f6d6c997dc\", element=\"0b7b5638-7575-4415-b685-eb26a8e2c82c\")>,\n",
       " <selenium.webdriver.remote.webelement.WebElement (session=\"3bdeec8c50e9f2e57d9731f6d6c997dc\", element=\"02b89f1a-a551-40b2-acff-0383b11e7429\")>,\n",
       " <selenium.webdriver.remote.webelement.WebElement (session=\"3bdeec8c50e9f2e57d9731f6d6c997dc\", element=\"afc37f40-73fe-404a-8822-2cc8ecdd5984\")>,\n",
       " <selenium.webdriver.remote.webelement.WebElement (session=\"3bdeec8c50e9f2e57d9731f6d6c997dc\", element=\"81aba7ba-0566-407a-bf72-59fa64f8d20f\")>,\n",
       " <selenium.webdriver.remote.webelement.WebElement (session=\"3bdeec8c50e9f2e57d9731f6d6c997dc\", element=\"702db394-ad9b-40a4-812a-baa15563bd0e\")>,\n",
       " <selenium.webdriver.remote.webelement.WebElement (session=\"3bdeec8c50e9f2e57d9731f6d6c997dc\", element=\"40280209-f6c2-4aa0-b488-231a70a36fcd\")>,\n",
       " <selenium.webdriver.remote.webelement.WebElement (session=\"3bdeec8c50e9f2e57d9731f6d6c997dc\", element=\"8951ffca-1a45-412a-a102-eeb3f140ea62\")>,\n",
       " <selenium.webdriver.remote.webelement.WebElement (session=\"3bdeec8c50e9f2e57d9731f6d6c997dc\", element=\"fcc101fc-a408-4a61-9595-08bb2b3dd42a\")>,\n",
       " <selenium.webdriver.remote.webelement.WebElement (session=\"3bdeec8c50e9f2e57d9731f6d6c997dc\", element=\"e2e58108-69e1-413a-b47a-7ebc19f1357a\")>,\n",
       " <selenium.webdriver.remote.webelement.WebElement (session=\"3bdeec8c50e9f2e57d9731f6d6c997dc\", element=\"87dce4c6-90b2-4a2c-a5f3-32602e26530e\")>,\n",
       " <selenium.webdriver.remote.webelement.WebElement (session=\"3bdeec8c50e9f2e57d9731f6d6c997dc\", element=\"7d993596-4e55-48d0-98a7-22b9cd361d61\")>,\n",
       " <selenium.webdriver.remote.webelement.WebElement (session=\"3bdeec8c50e9f2e57d9731f6d6c997dc\", element=\"329333e6-86e0-400f-b88b-edd27d4a8626\")>,\n",
       " <selenium.webdriver.remote.webelement.WebElement (session=\"3bdeec8c50e9f2e57d9731f6d6c997dc\", element=\"ae74eaa0-d184-4cde-a841-e6bba0617147\")>,\n",
       " <selenium.webdriver.remote.webelement.WebElement (session=\"3bdeec8c50e9f2e57d9731f6d6c997dc\", element=\"c9d0025b-541f-4089-90fa-d48bf4e90ebb\")>,\n",
       " <selenium.webdriver.remote.webelement.WebElement (session=\"3bdeec8c50e9f2e57d9731f6d6c997dc\", element=\"4a6c12c6-7aed-4d85-82fe-fd5ee9a99792\")>,\n",
       " <selenium.webdriver.remote.webelement.WebElement (session=\"3bdeec8c50e9f2e57d9731f6d6c997dc\", element=\"c515340a-a1e7-455a-be6e-17d8516b7188\")>,\n",
       " <selenium.webdriver.remote.webelement.WebElement (session=\"3bdeec8c50e9f2e57d9731f6d6c997dc\", element=\"57a6bea9-bbd6-43e3-b94d-29ea471500a9\")>,\n",
       " <selenium.webdriver.remote.webelement.WebElement (session=\"3bdeec8c50e9f2e57d9731f6d6c997dc\", element=\"5eb8fac7-c599-44f5-bb15-12c42bfa929e\")>,\n",
       " <selenium.webdriver.remote.webelement.WebElement (session=\"3bdeec8c50e9f2e57d9731f6d6c997dc\", element=\"6d326357-6a10-43df-89cb-27610f3f32fe\")>,\n",
       " <selenium.webdriver.remote.webelement.WebElement (session=\"3bdeec8c50e9f2e57d9731f6d6c997dc\", element=\"5b87beb9-2900-4fff-baba-12528d68b5c7\")>,\n",
       " <selenium.webdriver.remote.webelement.WebElement (session=\"3bdeec8c50e9f2e57d9731f6d6c997dc\", element=\"0ef405d0-cc5d-4c32-ad21-396d7bb6c0b6\")>,\n",
       " <selenium.webdriver.remote.webelement.WebElement (session=\"3bdeec8c50e9f2e57d9731f6d6c997dc\", element=\"d7509803-8f21-40a4-8504-cc900342d7e2\")>,\n",
       " <selenium.webdriver.remote.webelement.WebElement (session=\"3bdeec8c50e9f2e57d9731f6d6c997dc\", element=\"5c46e105-04ec-42b2-a67e-25619366fb34\")>,\n",
       " <selenium.webdriver.remote.webelement.WebElement (session=\"3bdeec8c50e9f2e57d9731f6d6c997dc\", element=\"72286141-5c30-4325-975b-db583c3600b1\")>,\n",
       " <selenium.webdriver.remote.webelement.WebElement (session=\"3bdeec8c50e9f2e57d9731f6d6c997dc\", element=\"3e7fb61f-9be0-4038-8dff-0156de0a33bb\")>,\n",
       " <selenium.webdriver.remote.webelement.WebElement (session=\"3bdeec8c50e9f2e57d9731f6d6c997dc\", element=\"e9b4f92e-e4ab-4789-a5ba-aeb14bb0a34e\")>,\n",
       " <selenium.webdriver.remote.webelement.WebElement (session=\"3bdeec8c50e9f2e57d9731f6d6c997dc\", element=\"e650e9ab-f784-4b11-b5d7-f396f4dd9487\")>,\n",
       " <selenium.webdriver.remote.webelement.WebElement (session=\"3bdeec8c50e9f2e57d9731f6d6c997dc\", element=\"d49f27b1-0263-4a1c-acc4-ae1a7e961706\")>,\n",
       " <selenium.webdriver.remote.webelement.WebElement (session=\"3bdeec8c50e9f2e57d9731f6d6c997dc\", element=\"efcd19e4-83a5-4527-911d-2daddf0e4a41\")>,\n",
       " <selenium.webdriver.remote.webelement.WebElement (session=\"3bdeec8c50e9f2e57d9731f6d6c997dc\", element=\"c353d1a9-457f-4a05-81c1-49b1f6aca1b4\")>,\n",
       " <selenium.webdriver.remote.webelement.WebElement (session=\"3bdeec8c50e9f2e57d9731f6d6c997dc\", element=\"368e6077-6c83-4852-bb9a-21c2f8f393b7\")>,\n",
       " <selenium.webdriver.remote.webelement.WebElement (session=\"3bdeec8c50e9f2e57d9731f6d6c997dc\", element=\"9e994616-e618-45cf-b054-8dd2887a0a98\")>,\n",
       " <selenium.webdriver.remote.webelement.WebElement (session=\"3bdeec8c50e9f2e57d9731f6d6c997dc\", element=\"e435366e-8f9f-43f4-a58f-a6e3da21be7b\")>,\n",
       " <selenium.webdriver.remote.webelement.WebElement (session=\"3bdeec8c50e9f2e57d9731f6d6c997dc\", element=\"cf922cfb-6892-4cb0-afc2-2536bb10509b\")>,\n",
       " <selenium.webdriver.remote.webelement.WebElement (session=\"3bdeec8c50e9f2e57d9731f6d6c997dc\", element=\"1fd19205-92a5-4254-91b4-c469a78efc02\")>,\n",
       " <selenium.webdriver.remote.webelement.WebElement (session=\"3bdeec8c50e9f2e57d9731f6d6c997dc\", element=\"0a23114d-e804-49c8-825b-fc3208949de4\")>,\n",
       " <selenium.webdriver.remote.webelement.WebElement (session=\"3bdeec8c50e9f2e57d9731f6d6c997dc\", element=\"787a8284-fcfe-416a-821c-f38c9bb00147\")>,\n",
       " <selenium.webdriver.remote.webelement.WebElement (session=\"3bdeec8c50e9f2e57d9731f6d6c997dc\", element=\"e58a03ed-cb1e-4221-8c52-bdd9de0b9e23\")>,\n",
       " <selenium.webdriver.remote.webelement.WebElement (session=\"3bdeec8c50e9f2e57d9731f6d6c997dc\", element=\"40670f62-af62-4596-923c-08969c8004ca\")>,\n",
       " <selenium.webdriver.remote.webelement.WebElement (session=\"3bdeec8c50e9f2e57d9731f6d6c997dc\", element=\"0faba636-8eb5-48ce-a199-9ec8aaf6785f\")>,\n",
       " <selenium.webdriver.remote.webelement.WebElement (session=\"3bdeec8c50e9f2e57d9731f6d6c997dc\", element=\"1942fb35-038e-46f8-b510-bdb804668998\")>,\n",
       " <selenium.webdriver.remote.webelement.WebElement (session=\"3bdeec8c50e9f2e57d9731f6d6c997dc\", element=\"7eea80ec-0e72-4c79-a3e9-494f955064f6\")>,\n",
       " <selenium.webdriver.remote.webelement.WebElement (session=\"3bdeec8c50e9f2e57d9731f6d6c997dc\", element=\"0d3ba3f4-693f-4e3d-9fdf-6b2bc5abe290\")>,\n",
       " <selenium.webdriver.remote.webelement.WebElement (session=\"3bdeec8c50e9f2e57d9731f6d6c997dc\", element=\"2e322ea5-4091-475d-ac03-da6ce28de45e\")>,\n",
       " <selenium.webdriver.remote.webelement.WebElement (session=\"3bdeec8c50e9f2e57d9731f6d6c997dc\", element=\"07ebdccb-4e6c-4bb0-8f18-bcaebf85fb5b\")>,\n",
       " <selenium.webdriver.remote.webelement.WebElement (session=\"3bdeec8c50e9f2e57d9731f6d6c997dc\", element=\"1ed624b4-4dcb-4164-8e3e-9ce5659de14a\")>,\n",
       " <selenium.webdriver.remote.webelement.WebElement (session=\"3bdeec8c50e9f2e57d9731f6d6c997dc\", element=\"986880e4-bdba-4f73-8beb-1e11f8527712\")>,\n",
       " <selenium.webdriver.remote.webelement.WebElement (session=\"3bdeec8c50e9f2e57d9731f6d6c997dc\", element=\"e0e81053-9555-44e8-8b89-b48cbcc8d0e7\")>,\n",
       " <selenium.webdriver.remote.webelement.WebElement (session=\"3bdeec8c50e9f2e57d9731f6d6c997dc\", element=\"c9191a6f-509e-406b-924b-3d85fbf02049\")>,\n",
       " <selenium.webdriver.remote.webelement.WebElement (session=\"3bdeec8c50e9f2e57d9731f6d6c997dc\", element=\"c3d4ee8d-b1a7-4c3c-835b-95a3675f016d\")>,\n",
       " <selenium.webdriver.remote.webelement.WebElement (session=\"3bdeec8c50e9f2e57d9731f6d6c997dc\", element=\"da8d47f0-065c-4820-a0fb-2047fe8365c0\")>,\n",
       " <selenium.webdriver.remote.webelement.WebElement (session=\"3bdeec8c50e9f2e57d9731f6d6c997dc\", element=\"b5c4793c-4b90-46f1-8467-8e6d637cf065\")>,\n",
       " <selenium.webdriver.remote.webelement.WebElement (session=\"3bdeec8c50e9f2e57d9731f6d6c997dc\", element=\"8bd8b0c0-06a0-491b-b232-4392b2625dcf\")>,\n",
       " <selenium.webdriver.remote.webelement.WebElement (session=\"3bdeec8c50e9f2e57d9731f6d6c997dc\", element=\"e8ddab4d-73ac-4b05-b8e5-c0a87fba94a8\")>,\n",
       " <selenium.webdriver.remote.webelement.WebElement (session=\"3bdeec8c50e9f2e57d9731f6d6c997dc\", element=\"eb9947b0-baa5-4eb2-adb7-43c4d48455b7\")>,\n",
       " <selenium.webdriver.remote.webelement.WebElement (session=\"3bdeec8c50e9f2e57d9731f6d6c997dc\", element=\"c9aa7933-a742-4b85-8e94-12e17009aa0a\")>,\n",
       " <selenium.webdriver.remote.webelement.WebElement (session=\"3bdeec8c50e9f2e57d9731f6d6c997dc\", element=\"c14d69a1-3591-452b-a17c-75e6db8d5011\")>,\n",
       " <selenium.webdriver.remote.webelement.WebElement (session=\"3bdeec8c50e9f2e57d9731f6d6c997dc\", element=\"fd19d475-aca2-41e3-8494-9d9d2d2cbdbc\")>,\n",
       " <selenium.webdriver.remote.webelement.WebElement (session=\"3bdeec8c50e9f2e57d9731f6d6c997dc\", element=\"8bd78a0b-70ac-4edf-8d97-12983a6ab893\")>,\n",
       " <selenium.webdriver.remote.webelement.WebElement (session=\"3bdeec8c50e9f2e57d9731f6d6c997dc\", element=\"e2b4345c-cc3d-400b-98f8-769f4a33aed3\")>,\n",
       " <selenium.webdriver.remote.webelement.WebElement (session=\"3bdeec8c50e9f2e57d9731f6d6c997dc\", element=\"22d5537e-221a-4a45-9e50-0dd2f2c89bbd\")>,\n",
       " <selenium.webdriver.remote.webelement.WebElement (session=\"3bdeec8c50e9f2e57d9731f6d6c997dc\", element=\"57f09600-6165-449e-a0bd-6c355e0c4aee\")>,\n",
       " <selenium.webdriver.remote.webelement.WebElement (session=\"3bdeec8c50e9f2e57d9731f6d6c997dc\", element=\"732718bc-5df3-4054-9740-831a8a851e05\")>,\n",
       " <selenium.webdriver.remote.webelement.WebElement (session=\"3bdeec8c50e9f2e57d9731f6d6c997dc\", element=\"9222dc46-4475-42ee-b99e-442537da92f0\")>,\n",
       " <selenium.webdriver.remote.webelement.WebElement (session=\"3bdeec8c50e9f2e57d9731f6d6c997dc\", element=\"16921bbc-6e3f-4e13-8d4e-831508609916\")>,\n",
       " <selenium.webdriver.remote.webelement.WebElement (session=\"3bdeec8c50e9f2e57d9731f6d6c997dc\", element=\"fbc69b7f-5e5c-4318-a60e-a3f266e57710\")>,\n",
       " <selenium.webdriver.remote.webelement.WebElement (session=\"3bdeec8c50e9f2e57d9731f6d6c997dc\", element=\"c2a7de5a-251a-4893-b1c3-22c4ae54ae1b\")>,\n",
       " <selenium.webdriver.remote.webelement.WebElement (session=\"3bdeec8c50e9f2e57d9731f6d6c997dc\", element=\"f57157e0-24f4-4533-b900-3956b54ebbbc\")>,\n",
       " <selenium.webdriver.remote.webelement.WebElement (session=\"3bdeec8c50e9f2e57d9731f6d6c997dc\", element=\"6382236c-0c76-40f7-91da-1f59bf891705\")>,\n",
       " <selenium.webdriver.remote.webelement.WebElement (session=\"3bdeec8c50e9f2e57d9731f6d6c997dc\", element=\"0069ab19-549e-47f4-a979-a50498d9a042\")>,\n",
       " <selenium.webdriver.remote.webelement.WebElement (session=\"3bdeec8c50e9f2e57d9731f6d6c997dc\", element=\"ff251349-7105-472c-a8f2-afe9e8a3d716\")>,\n",
       " <selenium.webdriver.remote.webelement.WebElement (session=\"3bdeec8c50e9f2e57d9731f6d6c997dc\", element=\"5c854a02-6924-4bee-8eaa-e9709d8872cd\")>,\n",
       " <selenium.webdriver.remote.webelement.WebElement (session=\"3bdeec8c50e9f2e57d9731f6d6c997dc\", element=\"ee5fe6a4-c994-4e3e-b1a5-a1284038f757\")>,\n",
       " <selenium.webdriver.remote.webelement.WebElement (session=\"3bdeec8c50e9f2e57d9731f6d6c997dc\", element=\"f8a9e447-01d5-4005-81f3-4b372110f52b\")>,\n",
       " <selenium.webdriver.remote.webelement.WebElement (session=\"3bdeec8c50e9f2e57d9731f6d6c997dc\", element=\"7e0d3cc8-bcad-456b-9c1e-f4759f8d15a5\")>,\n",
       " <selenium.webdriver.remote.webelement.WebElement (session=\"3bdeec8c50e9f2e57d9731f6d6c997dc\", element=\"f9a3d79a-bf16-474c-930a-c733dd2b3103\")>,\n",
       " <selenium.webdriver.remote.webelement.WebElement (session=\"3bdeec8c50e9f2e57d9731f6d6c997dc\", element=\"62f6badc-0959-4241-bbe8-7aecebbaaf33\")>,\n",
       " <selenium.webdriver.remote.webelement.WebElement (session=\"3bdeec8c50e9f2e57d9731f6d6c997dc\", element=\"2285d52d-5a35-419d-a703-4d1087cb0c6e\")>,\n",
       " <selenium.webdriver.remote.webelement.WebElement (session=\"3bdeec8c50e9f2e57d9731f6d6c997dc\", element=\"9df0eadd-b823-4409-a348-3f99e30ebaf2\")>,\n",
       " <selenium.webdriver.remote.webelement.WebElement (session=\"3bdeec8c50e9f2e57d9731f6d6c997dc\", element=\"29642644-42d0-4c30-b868-317df212e4e2\")>,\n",
       " <selenium.webdriver.remote.webelement.WebElement (session=\"3bdeec8c50e9f2e57d9731f6d6c997dc\", element=\"3ef96cc8-8299-4058-9a35-4a116bd1fbc4\")>,\n",
       " <selenium.webdriver.remote.webelement.WebElement (session=\"3bdeec8c50e9f2e57d9731f6d6c997dc\", element=\"a22e0ec7-6136-48c3-8251-91de7226a092\")>,\n",
       " <selenium.webdriver.remote.webelement.WebElement (session=\"3bdeec8c50e9f2e57d9731f6d6c997dc\", element=\"bbb0229a-49bc-41e6-b36c-16aa0852c0fb\")>,\n",
       " <selenium.webdriver.remote.webelement.WebElement (session=\"3bdeec8c50e9f2e57d9731f6d6c997dc\", element=\"19bb7a5f-718f-4251-8187-05616428cf96\")>,\n",
       " <selenium.webdriver.remote.webelement.WebElement (session=\"3bdeec8c50e9f2e57d9731f6d6c997dc\", element=\"e5826340-24a8-4ecf-b2ac-d9ace8504b56\")>,\n",
       " <selenium.webdriver.remote.webelement.WebElement (session=\"3bdeec8c50e9f2e57d9731f6d6c997dc\", element=\"8a41a0b7-277f-4f5c-9cfd-64414215f6ec\")>,\n",
       " <selenium.webdriver.remote.webelement.WebElement (session=\"3bdeec8c50e9f2e57d9731f6d6c997dc\", element=\"cfcecdcf-20e1-4667-a8ff-587fdfc97682\")>,\n",
       " <selenium.webdriver.remote.webelement.WebElement (session=\"3bdeec8c50e9f2e57d9731f6d6c997dc\", element=\"0deee97a-f1e9-4904-9b7b-c74dfe0733d4\")>,\n",
       " <selenium.webdriver.remote.webelement.WebElement (session=\"3bdeec8c50e9f2e57d9731f6d6c997dc\", element=\"8ef1be94-80c0-4e43-9b7f-b318a33a9f53\")>,\n",
       " <selenium.webdriver.remote.webelement.WebElement (session=\"3bdeec8c50e9f2e57d9731f6d6c997dc\", element=\"e4e2c3cb-a5fe-492e-b404-f52107c212ad\")>,\n",
       " <selenium.webdriver.remote.webelement.WebElement (session=\"3bdeec8c50e9f2e57d9731f6d6c997dc\", element=\"197de1ea-c848-4fcf-b90b-e8f64152c3b8\")>,\n",
       " <selenium.webdriver.remote.webelement.WebElement (session=\"3bdeec8c50e9f2e57d9731f6d6c997dc\", element=\"57edb92b-44c9-4554-a93b-461d9e5368f2\")>,\n",
       " <selenium.webdriver.remote.webelement.WebElement (session=\"3bdeec8c50e9f2e57d9731f6d6c997dc\", element=\"b3cd834b-b551-4f99-9b0b-e6338455fadc\")>,\n",
       " <selenium.webdriver.remote.webelement.WebElement (session=\"3bdeec8c50e9f2e57d9731f6d6c997dc\", element=\"02cc238e-1ae8-4bca-8225-8e3519c774ba\")>,\n",
       " <selenium.webdriver.remote.webelement.WebElement (session=\"3bdeec8c50e9f2e57d9731f6d6c997dc\", element=\"aebda2cf-fb50-4f56-9fee-937b782c984c\")>,\n",
       " <selenium.webdriver.remote.webelement.WebElement (session=\"3bdeec8c50e9f2e57d9731f6d6c997dc\", element=\"77a49cfc-32fe-4d65-ad10-c2acfd07571f\")>,\n",
       " <selenium.webdriver.remote.webelement.WebElement (session=\"3bdeec8c50e9f2e57d9731f6d6c997dc\", element=\"bdb02d6b-cbd7-47aa-91f5-26ec97f8d97a\")>,\n",
       " <selenium.webdriver.remote.webelement.WebElement (session=\"3bdeec8c50e9f2e57d9731f6d6c997dc\", element=\"bd5fddf6-61b1-4a68-940b-97c1e5283210\")>,\n",
       " <selenium.webdriver.remote.webelement.WebElement (session=\"3bdeec8c50e9f2e57d9731f6d6c997dc\", element=\"4fb6fbc8-4a0a-4178-a62a-d210d49a88e3\")>,\n",
       " <selenium.webdriver.remote.webelement.WebElement (session=\"3bdeec8c50e9f2e57d9731f6d6c997dc\", element=\"21b42862-7cf5-4fe5-8d83-373d857552d4\")>,\n",
       " <selenium.webdriver.remote.webelement.WebElement (session=\"3bdeec8c50e9f2e57d9731f6d6c997dc\", element=\"587cd1f0-e6e2-4de0-b472-41424b956f3a\")>,\n",
       " <selenium.webdriver.remote.webelement.WebElement (session=\"3bdeec8c50e9f2e57d9731f6d6c997dc\", element=\"4399d197-900f-4ed2-8395-4e0871f9f1df\")>,\n",
       " <selenium.webdriver.remote.webelement.WebElement (session=\"3bdeec8c50e9f2e57d9731f6d6c997dc\", element=\"7130ba35-154b-48da-898f-5f17ea37d8ec\")>,\n",
       " <selenium.webdriver.remote.webelement.WebElement (session=\"3bdeec8c50e9f2e57d9731f6d6c997dc\", element=\"b095735b-d081-4153-8bb1-472be8e644c4\")>,\n",
       " <selenium.webdriver.remote.webelement.WebElement (session=\"3bdeec8c50e9f2e57d9731f6d6c997dc\", element=\"43d6c1c8-9fd1-4658-ba1f-1f367bf0d47c\")>,\n",
       " <selenium.webdriver.remote.webelement.WebElement (session=\"3bdeec8c50e9f2e57d9731f6d6c997dc\", element=\"8022e4c1-f94e-42e0-b4f9-128d1cc21987\")>,\n",
       " <selenium.webdriver.remote.webelement.WebElement (session=\"3bdeec8c50e9f2e57d9731f6d6c997dc\", element=\"182cff23-3fbd-45a7-a399-28fe8a3b47b9\")>,\n",
       " <selenium.webdriver.remote.webelement.WebElement (session=\"3bdeec8c50e9f2e57d9731f6d6c997dc\", element=\"2cd73f95-7510-4b50-bf6a-6fe19aa52853\")>,\n",
       " <selenium.webdriver.remote.webelement.WebElement (session=\"3bdeec8c50e9f2e57d9731f6d6c997dc\", element=\"bec5124e-9a64-479d-942f-d39ef10fb0b5\")>,\n",
       " <selenium.webdriver.remote.webelement.WebElement (session=\"3bdeec8c50e9f2e57d9731f6d6c997dc\", element=\"54b860f5-8dff-4014-9537-23009eed60dd\")>,\n",
       " <selenium.webdriver.remote.webelement.WebElement (session=\"3bdeec8c50e9f2e57d9731f6d6c997dc\", element=\"582c5b90-af63-4bac-b6dc-a5b5c17fc911\")>,\n",
       " <selenium.webdriver.remote.webelement.WebElement (session=\"3bdeec8c50e9f2e57d9731f6d6c997dc\", element=\"ace4b78b-acc5-49c1-95ab-5d94528b935b\")>,\n",
       " <selenium.webdriver.remote.webelement.WebElement (session=\"3bdeec8c50e9f2e57d9731f6d6c997dc\", element=\"371cb723-bdf1-41e4-b4ee-9b9c813cc970\")>,\n",
       " <selenium.webdriver.remote.webelement.WebElement (session=\"3bdeec8c50e9f2e57d9731f6d6c997dc\", element=\"dcc57bbe-ec55-4eea-9694-e77318ff2b83\")>,\n",
       " <selenium.webdriver.remote.webelement.WebElement (session=\"3bdeec8c50e9f2e57d9731f6d6c997dc\", element=\"c4dea790-606a-410d-af8f-cc435459b193\")>,\n",
       " <selenium.webdriver.remote.webelement.WebElement (session=\"3bdeec8c50e9f2e57d9731f6d6c997dc\", element=\"d8e42349-eb3c-4dd7-b456-2381e2509fcc\")>,\n",
       " <selenium.webdriver.remote.webelement.WebElement (session=\"3bdeec8c50e9f2e57d9731f6d6c997dc\", element=\"9d3bd9c0-223b-4dc9-9dfb-d1cc3d93072e\")>,\n",
       " <selenium.webdriver.remote.webelement.WebElement (session=\"3bdeec8c50e9f2e57d9731f6d6c997dc\", element=\"06ab94a5-32a1-420c-82ac-851c4a67ef62\")>,\n",
       " <selenium.webdriver.remote.webelement.WebElement (session=\"3bdeec8c50e9f2e57d9731f6d6c997dc\", element=\"4d5c5489-7371-4d8b-8f65-78cae98213f9\")>,\n",
       " <selenium.webdriver.remote.webelement.WebElement (session=\"3bdeec8c50e9f2e57d9731f6d6c997dc\", element=\"6ac2a175-ea91-41d7-a1a2-e23a8818dbb5\")>,\n",
       " <selenium.webdriver.remote.webelement.WebElement (session=\"3bdeec8c50e9f2e57d9731f6d6c997dc\", element=\"167c7e73-2bf5-4b1d-878d-f5765d8c4adf\")>,\n",
       " <selenium.webdriver.remote.webelement.WebElement (session=\"3bdeec8c50e9f2e57d9731f6d6c997dc\", element=\"6d823173-63be-4588-ba84-c0f423490dda\")>,\n",
       " <selenium.webdriver.remote.webelement.WebElement (session=\"3bdeec8c50e9f2e57d9731f6d6c997dc\", element=\"190ed2a4-9a9e-44e0-8ea3-26363ca922d1\")>,\n",
       " <selenium.webdriver.remote.webelement.WebElement (session=\"3bdeec8c50e9f2e57d9731f6d6c997dc\", element=\"a8075bf2-2a60-4ac0-aaff-79aafe333cb8\")>,\n",
       " <selenium.webdriver.remote.webelement.WebElement (session=\"3bdeec8c50e9f2e57d9731f6d6c997dc\", element=\"03daa1c7-ff2b-4df1-aa29-c2746091b2cb\")>,\n",
       " <selenium.webdriver.remote.webelement.WebElement (session=\"3bdeec8c50e9f2e57d9731f6d6c997dc\", element=\"abc2a4e2-272c-45cc-bd01-2efe437f53f9\")>,\n",
       " <selenium.webdriver.remote.webelement.WebElement (session=\"3bdeec8c50e9f2e57d9731f6d6c997dc\", element=\"c619fc03-6c0a-4dd9-a1ba-e03b1b8b4d0a\")>,\n",
       " <selenium.webdriver.remote.webelement.WebElement (session=\"3bdeec8c50e9f2e57d9731f6d6c997dc\", element=\"b7dfd55b-28c5-42c1-9184-68065d42cbb2\")>,\n",
       " <selenium.webdriver.remote.webelement.WebElement (session=\"3bdeec8c50e9f2e57d9731f6d6c997dc\", element=\"4f49edce-cff9-4fee-882e-9d66c8359118\")>,\n",
       " <selenium.webdriver.remote.webelement.WebElement (session=\"3bdeec8c50e9f2e57d9731f6d6c997dc\", element=\"deb86b18-f844-4379-98a0-4d9f714d4808\")>,\n",
       " <selenium.webdriver.remote.webelement.WebElement (session=\"3bdeec8c50e9f2e57d9731f6d6c997dc\", element=\"b8de71e6-a143-4ce2-aefe-ccf1b68c4e52\")>,\n",
       " <selenium.webdriver.remote.webelement.WebElement (session=\"3bdeec8c50e9f2e57d9731f6d6c997dc\", element=\"ad59e61d-c44c-46c6-83d8-58ff4d3d0fe4\")>,\n",
       " <selenium.webdriver.remote.webelement.WebElement (session=\"3bdeec8c50e9f2e57d9731f6d6c997dc\", element=\"8ca78af3-d993-4363-938c-fe6534620773\")>,\n",
       " <selenium.webdriver.remote.webelement.WebElement (session=\"3bdeec8c50e9f2e57d9731f6d6c997dc\", element=\"1393ccb8-80e2-4a2c-98fb-68485db287d6\")>,\n",
       " <selenium.webdriver.remote.webelement.WebElement (session=\"3bdeec8c50e9f2e57d9731f6d6c997dc\", element=\"4a16de98-12e0-4072-89f3-7c5fec631a24\")>,\n",
       " <selenium.webdriver.remote.webelement.WebElement (session=\"3bdeec8c50e9f2e57d9731f6d6c997dc\", element=\"799092ce-b52d-426c-aa8e-9857e7572f62\")>,\n",
       " <selenium.webdriver.remote.webelement.WebElement (session=\"3bdeec8c50e9f2e57d9731f6d6c997dc\", element=\"18ffa1b3-d9bf-445b-8ef5-af7db534df25\")>,\n",
       " <selenium.webdriver.remote.webelement.WebElement (session=\"3bdeec8c50e9f2e57d9731f6d6c997dc\", element=\"84ad49ec-9bfd-44de-a3ba-dbb32a7ac85d\")>,\n",
       " <selenium.webdriver.remote.webelement.WebElement (session=\"3bdeec8c50e9f2e57d9731f6d6c997dc\", element=\"c489740a-1084-4bff-bc99-55a9c6a67346\")>,\n",
       " <selenium.webdriver.remote.webelement.WebElement (session=\"3bdeec8c50e9f2e57d9731f6d6c997dc\", element=\"0269c933-a87d-4c24-88ef-d2fa1293444e\")>]"
      ]
     },
     "execution_count": 90,
     "metadata": {},
     "output_type": "execute_result"
    }
   ],
   "source": [
    "div_tags = driver.find_elements_by_tag_name('div')\n",
    "div_tags"
   ]
  },
  {
   "cell_type": "code",
   "execution_count": 91,
   "metadata": {},
   "outputs": [
    {
     "name": "stderr",
     "output_type": "stream",
     "text": [
      "C:\\Users\\Kiran\\AppData\\Local\\Temp\\ipykernel_312\\2033571756.py:1: DeprecationWarning: find_elements_by_tag_name is deprecated. Please use find_elements(by=By.TAG_NAME, value=name) instead\n",
      "  a_tags = driver.find_elements_by_tag_name('a')\n"
     ]
    },
    {
     "data": {
      "text/plain": [
       "[<selenium.webdriver.remote.webelement.WebElement (session=\"3bdeec8c50e9f2e57d9731f6d6c997dc\", element=\"60019767-09b6-4583-b192-4d5b39fe5de6\")>,\n",
       " <selenium.webdriver.remote.webelement.WebElement (session=\"3bdeec8c50e9f2e57d9731f6d6c997dc\", element=\"0c48ef90-2043-42ab-94c8-cad565e297ef\")>,\n",
       " <selenium.webdriver.remote.webelement.WebElement (session=\"3bdeec8c50e9f2e57d9731f6d6c997dc\", element=\"8d440379-dac6-4e22-ac9f-27aedbc5db35\")>,\n",
       " <selenium.webdriver.remote.webelement.WebElement (session=\"3bdeec8c50e9f2e57d9731f6d6c997dc\", element=\"a3a5bacf-a782-4318-ad02-f7287e2cd7d1\")>,\n",
       " <selenium.webdriver.remote.webelement.WebElement (session=\"3bdeec8c50e9f2e57d9731f6d6c997dc\", element=\"86a45d50-dab5-4f65-b7c8-8a09c66b465a\")>,\n",
       " <selenium.webdriver.remote.webelement.WebElement (session=\"3bdeec8c50e9f2e57d9731f6d6c997dc\", element=\"6b72e0f9-f74b-4d01-be85-c190fe26b0a9\")>,\n",
       " <selenium.webdriver.remote.webelement.WebElement (session=\"3bdeec8c50e9f2e57d9731f6d6c997dc\", element=\"494958b7-22b7-43b1-9e24-27c9db83b81c\")>,\n",
       " <selenium.webdriver.remote.webelement.WebElement (session=\"3bdeec8c50e9f2e57d9731f6d6c997dc\", element=\"1ad67b12-6cf6-434f-a5ac-4fa27fa61c50\")>,\n",
       " <selenium.webdriver.remote.webelement.WebElement (session=\"3bdeec8c50e9f2e57d9731f6d6c997dc\", element=\"b0b4afcc-c667-4595-80cb-d742066e23ef\")>,\n",
       " <selenium.webdriver.remote.webelement.WebElement (session=\"3bdeec8c50e9f2e57d9731f6d6c997dc\", element=\"acd4b709-8e37-4a21-8471-eb7dfec7d8a4\")>,\n",
       " <selenium.webdriver.remote.webelement.WebElement (session=\"3bdeec8c50e9f2e57d9731f6d6c997dc\", element=\"15ea048d-f469-4bc7-a01f-9a0836d55a04\")>,\n",
       " <selenium.webdriver.remote.webelement.WebElement (session=\"3bdeec8c50e9f2e57d9731f6d6c997dc\", element=\"7a896952-f467-45fb-88b5-77dcab1465a1\")>,\n",
       " <selenium.webdriver.remote.webelement.WebElement (session=\"3bdeec8c50e9f2e57d9731f6d6c997dc\", element=\"cd97a822-6a9d-4111-b86a-10368f7c2067\")>,\n",
       " <selenium.webdriver.remote.webelement.WebElement (session=\"3bdeec8c50e9f2e57d9731f6d6c997dc\", element=\"d0d5e879-f548-446f-b97f-bc251f6011f2\")>,\n",
       " <selenium.webdriver.remote.webelement.WebElement (session=\"3bdeec8c50e9f2e57d9731f6d6c997dc\", element=\"5189b6db-65d7-4d73-84e9-9bf84a97ab4b\")>,\n",
       " <selenium.webdriver.remote.webelement.WebElement (session=\"3bdeec8c50e9f2e57d9731f6d6c997dc\", element=\"8fb4325c-6259-4aa8-914e-d45201b975fa\")>,\n",
       " <selenium.webdriver.remote.webelement.WebElement (session=\"3bdeec8c50e9f2e57d9731f6d6c997dc\", element=\"5dcf011a-67de-43a7-9fc1-408899d88515\")>,\n",
       " <selenium.webdriver.remote.webelement.WebElement (session=\"3bdeec8c50e9f2e57d9731f6d6c997dc\", element=\"7e5fb0f7-d83d-4bc3-a335-7d28cd235371\")>,\n",
       " <selenium.webdriver.remote.webelement.WebElement (session=\"3bdeec8c50e9f2e57d9731f6d6c997dc\", element=\"3665df35-fe49-4c79-b5d3-e7cf7991fed1\")>,\n",
       " <selenium.webdriver.remote.webelement.WebElement (session=\"3bdeec8c50e9f2e57d9731f6d6c997dc\", element=\"f7dab20d-4202-4e4b-b93c-151da242f98f\")>,\n",
       " <selenium.webdriver.remote.webelement.WebElement (session=\"3bdeec8c50e9f2e57d9731f6d6c997dc\", element=\"90e5b349-9540-4826-a635-1e0c3e85a0c8\")>,\n",
       " <selenium.webdriver.remote.webelement.WebElement (session=\"3bdeec8c50e9f2e57d9731f6d6c997dc\", element=\"e1e12836-0085-44dc-a2ea-97d555008255\")>,\n",
       " <selenium.webdriver.remote.webelement.WebElement (session=\"3bdeec8c50e9f2e57d9731f6d6c997dc\", element=\"2460bb21-436e-4aa0-b702-07da43df6c50\")>,\n",
       " <selenium.webdriver.remote.webelement.WebElement (session=\"3bdeec8c50e9f2e57d9731f6d6c997dc\", element=\"9eb4e66b-ed60-4d9b-b1f4-15c92356a5f2\")>,\n",
       " <selenium.webdriver.remote.webelement.WebElement (session=\"3bdeec8c50e9f2e57d9731f6d6c997dc\", element=\"c224cb50-c504-4d45-b5ac-f34d315d1694\")>,\n",
       " <selenium.webdriver.remote.webelement.WebElement (session=\"3bdeec8c50e9f2e57d9731f6d6c997dc\", element=\"6e0a5176-1bac-4cb2-bb36-5ec85f117b7d\")>,\n",
       " <selenium.webdriver.remote.webelement.WebElement (session=\"3bdeec8c50e9f2e57d9731f6d6c997dc\", element=\"7ccdc2a0-1030-4628-ab4c-8c743effabfd\")>,\n",
       " <selenium.webdriver.remote.webelement.WebElement (session=\"3bdeec8c50e9f2e57d9731f6d6c997dc\", element=\"c8dd94cf-310e-4544-939b-79a4ae9e900c\")>,\n",
       " <selenium.webdriver.remote.webelement.WebElement (session=\"3bdeec8c50e9f2e57d9731f6d6c997dc\", element=\"aac523d2-591c-41b0-8d1b-4d0c8c1f9b9c\")>,\n",
       " <selenium.webdriver.remote.webelement.WebElement (session=\"3bdeec8c50e9f2e57d9731f6d6c997dc\", element=\"5b1d134c-1269-46f6-a0d3-fdf882ef838d\")>,\n",
       " <selenium.webdriver.remote.webelement.WebElement (session=\"3bdeec8c50e9f2e57d9731f6d6c997dc\", element=\"fffd30b5-2a59-4207-9fa9-3bce7b8d6e2f\")>,\n",
       " <selenium.webdriver.remote.webelement.WebElement (session=\"3bdeec8c50e9f2e57d9731f6d6c997dc\", element=\"bc6af4de-58d9-486a-a583-ceb392e077e6\")>,\n",
       " <selenium.webdriver.remote.webelement.WebElement (session=\"3bdeec8c50e9f2e57d9731f6d6c997dc\", element=\"17f22430-1a88-4a6a-9ba4-991ee4e4a1c4\")>,\n",
       " <selenium.webdriver.remote.webelement.WebElement (session=\"3bdeec8c50e9f2e57d9731f6d6c997dc\", element=\"60d1f32e-150b-40f2-9689-c9f30d8dd960\")>,\n",
       " <selenium.webdriver.remote.webelement.WebElement (session=\"3bdeec8c50e9f2e57d9731f6d6c997dc\", element=\"506af0e5-89be-4092-b67a-5712b26d0cc0\")>,\n",
       " <selenium.webdriver.remote.webelement.WebElement (session=\"3bdeec8c50e9f2e57d9731f6d6c997dc\", element=\"b88c2550-7894-4ae4-a982-feb016e5f97b\")>,\n",
       " <selenium.webdriver.remote.webelement.WebElement (session=\"3bdeec8c50e9f2e57d9731f6d6c997dc\", element=\"b8a20f11-d675-4865-80a4-50945385eed8\")>,\n",
       " <selenium.webdriver.remote.webelement.WebElement (session=\"3bdeec8c50e9f2e57d9731f6d6c997dc\", element=\"36623808-22b2-49e0-b632-83c21fb3d3fa\")>]"
      ]
     },
     "execution_count": 91,
     "metadata": {},
     "output_type": "execute_result"
    }
   ],
   "source": [
    "a_tags = driver.find_elements_by_tag_name('a')\n",
    "a_tags"
   ]
  },
  {
   "cell_type": "code",
   "execution_count": 106,
   "metadata": {},
   "outputs": [
    {
     "name": "stdout",
     "output_type": "stream",
     "text": [
      " https://courses.ineuron.ai/category/Data-Science  ||  Data-Science\n",
      " https://courses.ineuron.ai/category/Programming  ||  Programming\n",
      " https://courses.ineuron.ai/category/Development  ||  Development\n",
      " https://courses.ineuron.ai/category/Cloud  ||  Cloud\n",
      " https://courses.ineuron.ai/category/Marketing  ||  Marketing\n"
     ]
    }
   ],
   "source": [
    "data = {}\n",
    "courses = []\n",
    "condition_list = [] \n",
    "for i in a_tags:\n",
    "    if 'courses' in i.get_attribute('href') and 'category' in i.get_attribute('href') and \\\n",
    "    i.get_attribute('href').split('/')[-1] not in condition_list:\n",
    "        \n",
    "        print(i.text, i.get_attribute('href'), ' || ', i.get_attribute('href').split('/')[-1])\n",
    "        courses.append({i.get_attribute('href').split('/')[-1] : i.get_attribute('href')})\n",
    "        condition_list.append(i.get_attribute('href').split('/')[-1])\n",
    "\n",
    "data['courses'] = courses \n",
    "condition_list = [] "
   ]
  },
  {
   "cell_type": "code",
   "execution_count": 107,
   "metadata": {},
   "outputs": [
    {
     "data": {
      "text/plain": [
       "{'courses': [{'Data-Science': 'https://courses.ineuron.ai/category/Data-Science'},\n",
       "  {'Programming': 'https://courses.ineuron.ai/category/Programming'},\n",
       "  {'Development': 'https://courses.ineuron.ai/category/Development'},\n",
       "  {'Cloud': 'https://courses.ineuron.ai/category/Cloud'},\n",
       "  {'Marketing': 'https://courses.ineuron.ai/category/Marketing'}]}"
      ]
     },
     "execution_count": 107,
     "metadata": {},
     "output_type": "execute_result"
    }
   ],
   "source": [
    "data"
   ]
  },
  {
   "cell_type": "code",
   "execution_count": 116,
   "metadata": {},
   "outputs": [
    {
     "name": "stdout",
     "output_type": "stream",
     "text": [
      "Data-Science https://courses.ineuron.ai/category/Data-Science\n",
      "Programming https://courses.ineuron.ai/category/Programming\n",
      "Development https://courses.ineuron.ai/category/Development\n",
      "Cloud https://courses.ineuron.ai/category/Cloud\n",
      "Marketing https://courses.ineuron.ai/category/Marketing\n"
     ]
    }
   ],
   "source": [
    "for i in data['courses']:\n",
    "    print(list(i.keys())[0], list(i.values())[0])"
   ]
  },
  {
   "cell_type": "code",
   "execution_count": null,
   "metadata": {},
   "outputs": [],
   "source": []
  },
  {
   "cell_type": "code",
   "execution_count": null,
   "metadata": {},
   "outputs": [],
   "source": []
  },
  {
   "cell_type": "code",
   "execution_count": null,
   "metadata": {},
   "outputs": [],
   "source": []
  },
  {
   "cell_type": "code",
   "execution_count": null,
   "metadata": {},
   "outputs": [],
   "source": [
    "https://selenium-python.readthedocs.io/"
   ]
  },
  {
   "cell_type": "code",
   "execution_count": null,
   "metadata": {},
   "outputs": [],
   "source": []
  },
  {
   "cell_type": "code",
   "execution_count": null,
   "metadata": {},
   "outputs": [],
   "source": []
  },
  {
   "cell_type": "code",
   "execution_count": null,
   "metadata": {},
   "outputs": [],
   "source": []
  },
  {
   "cell_type": "code",
   "execution_count": null,
   "metadata": {},
   "outputs": [],
   "source": []
  },
  {
   "cell_type": "code",
   "execution_count": null,
   "metadata": {},
   "outputs": [],
   "source": []
  },
  {
   "cell_type": "code",
   "execution_count": null,
   "metadata": {},
   "outputs": [],
   "source": []
  },
  {
   "cell_type": "code",
   "execution_count": null,
   "metadata": {},
   "outputs": [],
   "source": []
  },
  {
   "cell_type": "code",
   "execution_count": null,
   "metadata": {},
   "outputs": [],
   "source": []
  },
  {
   "cell_type": "code",
   "execution_count": null,
   "metadata": {},
   "outputs": [],
   "source": []
  },
  {
   "cell_type": "code",
   "execution_count": null,
   "metadata": {},
   "outputs": [],
   "source": []
  },
  {
   "cell_type": "code",
   "execution_count": null,
   "metadata": {},
   "outputs": [],
   "source": []
  },
  {
   "cell_type": "code",
   "execution_count": null,
   "metadata": {},
   "outputs": [],
   "source": []
  },
  {
   "cell_type": "code",
   "execution_count": null,
   "metadata": {},
   "outputs": [],
   "source": []
  },
  {
   "cell_type": "code",
   "execution_count": null,
   "metadata": {},
   "outputs": [],
   "source": []
  },
  {
   "cell_type": "code",
   "execution_count": null,
   "metadata": {},
   "outputs": [],
   "source": []
  },
  {
   "cell_type": "code",
   "execution_count": null,
   "metadata": {},
   "outputs": [],
   "source": []
  },
  {
   "cell_type": "code",
   "execution_count": null,
   "metadata": {},
   "outputs": [],
   "source": []
  },
  {
   "cell_type": "code",
   "execution_count": null,
   "metadata": {},
   "outputs": [],
   "source": []
  },
  {
   "cell_type": "code",
   "execution_count": null,
   "metadata": {},
   "outputs": [],
   "source": []
  },
  {
   "cell_type": "code",
   "execution_count": null,
   "metadata": {},
   "outputs": [],
   "source": []
  },
  {
   "cell_type": "code",
   "execution_count": null,
   "metadata": {},
   "outputs": [],
   "source": []
  },
  {
   "cell_type": "code",
   "execution_count": null,
   "metadata": {},
   "outputs": [],
   "source": []
  },
  {
   "cell_type": "code",
   "execution_count": null,
   "metadata": {},
   "outputs": [],
   "source": []
  },
  {
   "cell_type": "code",
   "execution_count": null,
   "metadata": {},
   "outputs": [],
   "source": []
  },
  {
   "cell_type": "code",
   "execution_count": null,
   "metadata": {},
   "outputs": [],
   "source": []
  },
  {
   "cell_type": "code",
   "execution_count": null,
   "metadata": {},
   "outputs": [],
   "source": []
  },
  {
   "cell_type": "code",
   "execution_count": null,
   "metadata": {},
   "outputs": [],
   "source": []
  },
  {
   "cell_type": "code",
   "execution_count": null,
   "metadata": {},
   "outputs": [],
   "source": []
  },
  {
   "cell_type": "code",
   "execution_count": null,
   "metadata": {},
   "outputs": [],
   "source": []
  },
  {
   "cell_type": "code",
   "execution_count": null,
   "metadata": {},
   "outputs": [],
   "source": []
  },
  {
   "cell_type": "code",
   "execution_count": null,
   "metadata": {},
   "outputs": [],
   "source": []
  },
  {
   "cell_type": "code",
   "execution_count": null,
   "metadata": {},
   "outputs": [],
   "source": []
  },
  {
   "cell_type": "code",
   "execution_count": null,
   "metadata": {},
   "outputs": [],
   "source": []
  },
  {
   "cell_type": "code",
   "execution_count": null,
   "metadata": {},
   "outputs": [],
   "source": []
  },
  {
   "cell_type": "code",
   "execution_count": null,
   "metadata": {},
   "outputs": [],
   "source": []
  },
  {
   "cell_type": "code",
   "execution_count": null,
   "metadata": {},
   "outputs": [],
   "source": []
  },
  {
   "cell_type": "code",
   "execution_count": null,
   "metadata": {},
   "outputs": [],
   "source": []
  },
  {
   "cell_type": "code",
   "execution_count": null,
   "metadata": {},
   "outputs": [],
   "source": []
  },
  {
   "cell_type": "code",
   "execution_count": null,
   "metadata": {},
   "outputs": [],
   "source": []
  },
  {
   "cell_type": "code",
   "execution_count": null,
   "metadata": {},
   "outputs": [],
   "source": []
  },
  {
   "cell_type": "code",
   "execution_count": null,
   "metadata": {},
   "outputs": [],
   "source": []
  },
  {
   "cell_type": "code",
   "execution_count": null,
   "metadata": {},
   "outputs": [],
   "source": []
  },
  {
   "cell_type": "code",
   "execution_count": null,
   "metadata": {},
   "outputs": [],
   "source": []
  },
  {
   "cell_type": "code",
   "execution_count": null,
   "metadata": {},
   "outputs": [],
   "source": []
  },
  {
   "cell_type": "code",
   "execution_count": null,
   "metadata": {},
   "outputs": [],
   "source": []
  },
  {
   "cell_type": "code",
   "execution_count": null,
   "metadata": {},
   "outputs": [],
   "source": []
  },
  {
   "cell_type": "code",
   "execution_count": null,
   "metadata": {},
   "outputs": [],
   "source": [
    "driver.close()"
   ]
  }
 ],
 "metadata": {
  "kernelspec": {
   "display_name": "Python 3 (ipykernel)",
   "language": "python",
   "name": "python3"
  },
  "language_info": {
   "codemirror_mode": {
    "name": "ipython",
    "version": 3
   },
   "file_extension": ".py",
   "mimetype": "text/x-python",
   "name": "python",
   "nbconvert_exporter": "python",
   "pygments_lexer": "ipython3",
   "version": "3.8.10"
  }
 },
 "nbformat": 4,
 "nbformat_minor": 2
}
