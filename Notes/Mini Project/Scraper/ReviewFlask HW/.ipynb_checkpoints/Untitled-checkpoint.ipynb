{
 "cells": [
  {
   "cell_type": "code",
   "execution_count": 1,
   "metadata": {},
   "outputs": [],
   "source": [
    "import requests\n",
    "from bs4 import BeautifulSoup as bs\n",
    "from urllib.request import urlopen as uReq\n",
    "from selenium import webdriver\n",
    "import time"
   ]
  },
  {
   "cell_type": "code",
   "execution_count": 2,
   "metadata": {},
   "outputs": [],
   "source": [
    "DRIVER_PATH = r'E:\\\\chromedriver.exe'\n",
    "url = \"https://courses.ineuron.ai/\""
   ]
  },
  {
   "cell_type": "code",
   "execution_count": 3,
   "metadata": {
    "scrolled": true
   },
   "outputs": [
    {
     "name": "stderr",
     "output_type": "stream",
     "text": [
      "C:\\Users\\Kiran\\AppData\\Local\\Temp\\ipykernel_6196\\2119741527.py:2: DeprecationWarning: executable_path has been deprecated, please pass in a Service object\n",
      "  driver = webdriver.Chrome(DRIVER_PATH)\n"
     ]
    }
   ],
   "source": [
    "# initiating the webdriver.\n",
    "driver = webdriver.Chrome(DRIVER_PATH) \n",
    "driver.get(url) \n",
    "  \n",
    "# this is just to ensure that the page is loaded\n",
    "time.sleep(5) "
   ]
  },
  {
   "cell_type": "code",
   "execution_count": 49,
   "metadata": {},
   "outputs": [],
   "source": []
  },
  {
   "cell_type": "code",
   "execution_count": 36,
   "metadata": {
    "scrolled": true
   },
   "outputs": [
    {
     "data": {
      "text/plain": [
       "'Courses Library | iNeuron.ai'"
      ]
     },
     "execution_count": 36,
     "metadata": {},
     "output_type": "execute_result"
    }
   ],
   "source": [
    "driver.title"
   ]
  },
  {
   "cell_type": "code",
   "execution_count": 37,
   "metadata": {},
   "outputs": [
    {
     "data": {
      "text/plain": [
       "'https://courses.ineuron.ai/'"
      ]
     },
     "execution_count": 37,
     "metadata": {},
     "output_type": "execute_result"
    }
   ],
   "source": [
    "driver.current_url"
   ]
  },
  {
   "cell_type": "code",
   "execution_count": 39,
   "metadata": {
    "scrolled": true
   },
   "outputs": [],
   "source": [
    "# driver.page_source"
   ]
  },
  {
   "cell_type": "code",
   "execution_count": 40,
   "metadata": {},
   "outputs": [
    {
     "name": "stderr",
     "output_type": "stream",
     "text": [
      "C:\\Users\\Kiran\\AppData\\Local\\Temp\\ipykernel_312\\1076266009.py:1: DeprecationWarning: find_elements_by_xpath is deprecated. Please use find_elements(by=By.XPATH, value=xpath) instead\n",
      "  myXpath = driver.find_elements_by_xpath('//*[@id=\"__next\"]/div[1]/section[2]/div/div[2]/div')\n"
     ]
    },
    {
     "data": {
      "text/plain": [
       "''"
      ]
     },
     "execution_count": 40,
     "metadata": {},
     "output_type": "execute_result"
    }
   ],
   "source": [
    "myXpath = driver.find_elements_by_xpath('//*[@id=\"__next\"]/div[1]/section[2]/div/div[2]/div')\n",
    "myXpath[0].text #.get_attribute('href')"
   ]
  },
  {
   "cell_type": "code",
   "execution_count": 41,
   "metadata": {},
   "outputs": [],
   "source": [
    "# myClass = driver.find_element_by_class_name('TopCategoryList_category-cards__LvHCa TopCategoryList_grid__2Pi2T grid')"
   ]
  },
  {
   "cell_type": "code",
   "execution_count": 42,
   "metadata": {},
   "outputs": [
    {
     "data": {
      "text/plain": [
       "['']"
      ]
     },
     "execution_count": 42,
     "metadata": {},
     "output_type": "execute_result"
    }
   ],
   "source": [
    "myXpath[0].text.split('\\n')"
   ]
  },
  {
   "cell_type": "code",
   "execution_count": 43,
   "metadata": {},
   "outputs": [
    {
     "name": "stderr",
     "output_type": "stream",
     "text": [
      "C:\\Users\\Kiran\\AppData\\Local\\Temp\\ipykernel_312\\1528991524.py:2: DeprecationWarning: find_element_by_link_text is deprecated. Please use find_element(by=By.LINK_TEXT, value=link_text) instead\n",
      "  continue_link = driver.find_element_by_link_text(j)\n"
     ]
    },
    {
     "name": "stdout",
     "output_type": "stream",
     "text": [
      "https://courses.ineuron.ai/\n"
     ]
    }
   ],
   "source": [
    "for j in myXpath[0].text.split('\\n'):\n",
    "    continue_link = driver.find_element_by_link_text(j)\n",
    "    print(continue_link.get_attribute('href'))\n",
    "    driver.get(continue_link.get_attribute('href'))\n",
    "    time.sleep(5)"
   ]
  },
  {
   "cell_type": "code",
   "execution_count": null,
   "metadata": {},
   "outputs": [],
   "source": []
  },
  {
   "cell_type": "code",
   "execution_count": 44,
   "metadata": {},
   "outputs": [],
   "source": [
    "# # get all image thumbnail results\n",
    "# results = driver.find_elements_by_css_selector(\"TopCategoryList_top-categories-card__atCLz\")\n",
    "# len_results = len(results)\n"
   ]
  },
  {
   "cell_type": "code",
   "execution_count": null,
   "metadata": {},
   "outputs": [],
   "source": []
  },
  {
   "cell_type": "code",
   "execution_count": null,
   "metadata": {},
   "outputs": [],
   "source": []
  },
  {
   "cell_type": "code",
   "execution_count": null,
   "metadata": {},
   "outputs": [],
   "source": []
  },
  {
   "cell_type": "code",
   "execution_count": null,
   "metadata": {},
   "outputs": [],
   "source": [
    "# https://selenium-python.readthedocs.io/"
   ]
  },
  {
   "cell_type": "code",
   "execution_count": null,
   "metadata": {},
   "outputs": [],
   "source": []
  },
  {
   "cell_type": "code",
   "execution_count": 1,
   "metadata": {},
   "outputs": [
    {
     "name": "stderr",
     "output_type": "stream",
     "text": [
      "C:\\Users\\Kiran\\AppData\\Local\\Temp\\ipykernel_12952\\4003521279.py:11: DeprecationWarning: executable_path has been deprecated, please pass in a Service object\n",
      "  driver = webdriver.Chrome(DRIVER_PATH)\n"
     ]
    },
    {
     "name": "stdout",
     "output_type": "stream",
     "text": [
      "Courses Library | iNeuron.ai  ||  https://courses.ineuron.ai/\n"
     ]
    }
   ],
   "source": [
    "import requests\n",
    "from bs4 import BeautifulSoup as bs\n",
    "from urllib.request import urlopen as uReq\n",
    "from selenium import webdriver\n",
    "import time\n",
    "\n",
    "DRIVER_PATH = r'E:\\\\chromedriver.exe'\n",
    "url = \"https://courses.ineuron.ai/\"\n",
    "\n",
    "# initiating the webdriver.\n",
    "driver = webdriver.Chrome(DRIVER_PATH) \n",
    "driver.get(url) \n",
    "  \n",
    "# this is just to ensure that the page is loaded\n",
    "time.sleep(1)\n",
    "\n",
    "print(driver.title, ' || ', driver.current_url)\n",
    "\n",
    "def scroll_to_end(wd):\n",
    "    wd.execute_script(\"window.scrollTo(0, document.body.scrollHeight);\")\n",
    "    time.sleep(20)"
   ]
  },
  {
   "cell_type": "code",
   "execution_count": 2,
   "metadata": {},
   "outputs": [
    {
     "name": "stderr",
     "output_type": "stream",
     "text": [
      "C:\\Users\\Kiran\\AppData\\Local\\Temp\\ipykernel_12952\\3913897333.py:2: DeprecationWarning: find_element_by_tag_name is deprecated. Please use find_element(by=By.TAG_NAME, value=name) instead\n",
      "  div_tag = driver.find_element_by_tag_name('div')\n"
     ]
    },
    {
     "data": {
      "text/plain": [
       "<selenium.webdriver.remote.webelement.WebElement (session=\"446143fcae2d712adb808e6aa1868733\", element=\"b5cb4aec-5bea-45dc-80b4-ee969ba04400\")>"
      ]
     },
     "execution_count": 2,
     "metadata": {},
     "output_type": "execute_result"
    }
   ],
   "source": [
    "# Locating Elements by Tag Name\n",
    "div_tag = driver.find_element_by_tag_name('div')\n",
    "div_tag"
   ]
  },
  {
   "cell_type": "code",
   "execution_count": 3,
   "metadata": {},
   "outputs": [
    {
     "name": "stderr",
     "output_type": "stream",
     "text": [
      "C:\\Users\\Kiran\\AppData\\Local\\Temp\\ipykernel_12952\\2389797498.py:1: DeprecationWarning: find_elements_by_tag_name is deprecated. Please use find_elements(by=By.TAG_NAME, value=name) instead\n",
      "  div_tags = driver.find_elements_by_tag_name('div')\n"
     ]
    },
    {
     "data": {
      "text/plain": [
       "[<selenium.webdriver.remote.webelement.WebElement (session=\"446143fcae2d712adb808e6aa1868733\", element=\"b5cb4aec-5bea-45dc-80b4-ee969ba04400\")>,\n",
       " <selenium.webdriver.remote.webelement.WebElement (session=\"446143fcae2d712adb808e6aa1868733\", element=\"9bf1406c-a258-4294-a6d9-b6d35d0d757f\")>,\n",
       " <selenium.webdriver.remote.webelement.WebElement (session=\"446143fcae2d712adb808e6aa1868733\", element=\"fb32aacd-faeb-4485-8c35-cd1e3965431b\")>,\n",
       " <selenium.webdriver.remote.webelement.WebElement (session=\"446143fcae2d712adb808e6aa1868733\", element=\"81b70d7d-c382-46f4-a088-891629892c4f\")>,\n",
       " <selenium.webdriver.remote.webelement.WebElement (session=\"446143fcae2d712adb808e6aa1868733\", element=\"bdf2a35c-96ec-4ed6-a2c6-64a6ff252878\")>,\n",
       " <selenium.webdriver.remote.webelement.WebElement (session=\"446143fcae2d712adb808e6aa1868733\", element=\"8a420ed5-98fe-4fdd-bb7e-21a355718bac\")>,\n",
       " <selenium.webdriver.remote.webelement.WebElement (session=\"446143fcae2d712adb808e6aa1868733\", element=\"1c6ebeb8-3835-42b8-b7e0-cbb14e1f5547\")>,\n",
       " <selenium.webdriver.remote.webelement.WebElement (session=\"446143fcae2d712adb808e6aa1868733\", element=\"e5ee83a8-aeeb-4a58-b3ca-2f0a6171e117\")>,\n",
       " <selenium.webdriver.remote.webelement.WebElement (session=\"446143fcae2d712adb808e6aa1868733\", element=\"b3aed070-7568-422b-b6de-0a29954b064a\")>,\n",
       " <selenium.webdriver.remote.webelement.WebElement (session=\"446143fcae2d712adb808e6aa1868733\", element=\"9e9b9da7-bf0f-4421-a917-59dd58f2bb56\")>,\n",
       " <selenium.webdriver.remote.webelement.WebElement (session=\"446143fcae2d712adb808e6aa1868733\", element=\"57225292-0b08-4d0e-a269-15d6ad4eca0b\")>,\n",
       " <selenium.webdriver.remote.webelement.WebElement (session=\"446143fcae2d712adb808e6aa1868733\", element=\"9cf826a2-d038-4ff0-a3bf-f1a190b32f65\")>,\n",
       " <selenium.webdriver.remote.webelement.WebElement (session=\"446143fcae2d712adb808e6aa1868733\", element=\"be0dff31-23b7-4f05-b227-407c671a9f7a\")>,\n",
       " <selenium.webdriver.remote.webelement.WebElement (session=\"446143fcae2d712adb808e6aa1868733\", element=\"3fdf5c72-18fd-4113-8bb7-86a141425efb\")>,\n",
       " <selenium.webdriver.remote.webelement.WebElement (session=\"446143fcae2d712adb808e6aa1868733\", element=\"759df757-54e5-4daf-a7af-e2ebf1faa15f\")>,\n",
       " <selenium.webdriver.remote.webelement.WebElement (session=\"446143fcae2d712adb808e6aa1868733\", element=\"3784b21e-0c1c-4ed2-9f0f-f8b632b2b69c\")>,\n",
       " <selenium.webdriver.remote.webelement.WebElement (session=\"446143fcae2d712adb808e6aa1868733\", element=\"593e2b99-ce08-4b59-96c0-9c63dcf646e6\")>,\n",
       " <selenium.webdriver.remote.webelement.WebElement (session=\"446143fcae2d712adb808e6aa1868733\", element=\"6c8f9adc-5e3e-471f-a151-c2d76ab66bac\")>,\n",
       " <selenium.webdriver.remote.webelement.WebElement (session=\"446143fcae2d712adb808e6aa1868733\", element=\"a0b53f31-5bd6-408f-815d-5c57a70575aa\")>,\n",
       " <selenium.webdriver.remote.webelement.WebElement (session=\"446143fcae2d712adb808e6aa1868733\", element=\"e27c4824-ec3d-42b2-8bc3-5789b8b316c5\")>,\n",
       " <selenium.webdriver.remote.webelement.WebElement (session=\"446143fcae2d712adb808e6aa1868733\", element=\"68d56a90-62f3-4832-ac74-8723b68acd36\")>,\n",
       " <selenium.webdriver.remote.webelement.WebElement (session=\"446143fcae2d712adb808e6aa1868733\", element=\"3dcd1fd6-4a77-4960-9cf8-384a95effbd5\")>,\n",
       " <selenium.webdriver.remote.webelement.WebElement (session=\"446143fcae2d712adb808e6aa1868733\", element=\"3a3e4983-263d-43cc-abc9-4fb1f5e9550e\")>,\n",
       " <selenium.webdriver.remote.webelement.WebElement (session=\"446143fcae2d712adb808e6aa1868733\", element=\"9640354d-54f7-4110-bab4-9e8b78e250ec\")>,\n",
       " <selenium.webdriver.remote.webelement.WebElement (session=\"446143fcae2d712adb808e6aa1868733\", element=\"c4ca8750-dddd-48b4-9477-d08f5834dd20\")>,\n",
       " <selenium.webdriver.remote.webelement.WebElement (session=\"446143fcae2d712adb808e6aa1868733\", element=\"a857e099-065a-4a86-903c-4189387fd6c0\")>,\n",
       " <selenium.webdriver.remote.webelement.WebElement (session=\"446143fcae2d712adb808e6aa1868733\", element=\"b69f2af9-10f1-4e88-9311-2e3c468ef0f9\")>,\n",
       " <selenium.webdriver.remote.webelement.WebElement (session=\"446143fcae2d712adb808e6aa1868733\", element=\"8072464e-b6cd-4f93-9803-e0131ee9049b\")>,\n",
       " <selenium.webdriver.remote.webelement.WebElement (session=\"446143fcae2d712adb808e6aa1868733\", element=\"178e6dc2-3136-422c-9799-11a2d1be3a26\")>,\n",
       " <selenium.webdriver.remote.webelement.WebElement (session=\"446143fcae2d712adb808e6aa1868733\", element=\"b199d3c3-3af3-4797-9200-49e6cbcf5490\")>,\n",
       " <selenium.webdriver.remote.webelement.WebElement (session=\"446143fcae2d712adb808e6aa1868733\", element=\"c7b52923-4784-46a1-9bce-6544e5a5d79b\")>,\n",
       " <selenium.webdriver.remote.webelement.WebElement (session=\"446143fcae2d712adb808e6aa1868733\", element=\"5b320cee-f7e3-47c8-a705-6b918934d1fa\")>,\n",
       " <selenium.webdriver.remote.webelement.WebElement (session=\"446143fcae2d712adb808e6aa1868733\", element=\"6ae1f598-e877-461c-879c-ddb6e2514fb3\")>,\n",
       " <selenium.webdriver.remote.webelement.WebElement (session=\"446143fcae2d712adb808e6aa1868733\", element=\"3ed45faa-d539-4ca5-a61a-baa1007a0315\")>,\n",
       " <selenium.webdriver.remote.webelement.WebElement (session=\"446143fcae2d712adb808e6aa1868733\", element=\"31166ee0-0dc5-4fba-a997-92d1e973e3a2\")>,\n",
       " <selenium.webdriver.remote.webelement.WebElement (session=\"446143fcae2d712adb808e6aa1868733\", element=\"854f2c4a-148d-4817-8ff6-ec9240cc06c6\")>,\n",
       " <selenium.webdriver.remote.webelement.WebElement (session=\"446143fcae2d712adb808e6aa1868733\", element=\"f4d77441-aba5-4af8-8b3e-04c6b63eac3b\")>,\n",
       " <selenium.webdriver.remote.webelement.WebElement (session=\"446143fcae2d712adb808e6aa1868733\", element=\"34c4d4ce-4849-4cae-ad81-b8d920dd2548\")>,\n",
       " <selenium.webdriver.remote.webelement.WebElement (session=\"446143fcae2d712adb808e6aa1868733\", element=\"23745f07-e709-4c70-8a9e-99476813ffa5\")>,\n",
       " <selenium.webdriver.remote.webelement.WebElement (session=\"446143fcae2d712adb808e6aa1868733\", element=\"4ff2bddc-dd45-4e86-bc60-d23787207e4d\")>,\n",
       " <selenium.webdriver.remote.webelement.WebElement (session=\"446143fcae2d712adb808e6aa1868733\", element=\"a165ccbe-a87f-4d33-996a-e2a7af732755\")>,\n",
       " <selenium.webdriver.remote.webelement.WebElement (session=\"446143fcae2d712adb808e6aa1868733\", element=\"1cfbfa10-5a0d-467f-b593-cfc3bb8f3425\")>,\n",
       " <selenium.webdriver.remote.webelement.WebElement (session=\"446143fcae2d712adb808e6aa1868733\", element=\"cebbb6f1-1ab4-4f5b-aa8d-667de21afdaa\")>,\n",
       " <selenium.webdriver.remote.webelement.WebElement (session=\"446143fcae2d712adb808e6aa1868733\", element=\"27e70276-d404-4398-93d8-7ef6696e8410\")>,\n",
       " <selenium.webdriver.remote.webelement.WebElement (session=\"446143fcae2d712adb808e6aa1868733\", element=\"96569a1a-719c-4d90-9541-ef8c3cb9c6b0\")>,\n",
       " <selenium.webdriver.remote.webelement.WebElement (session=\"446143fcae2d712adb808e6aa1868733\", element=\"db297986-8db3-4576-827d-264f218aeb45\")>,\n",
       " <selenium.webdriver.remote.webelement.WebElement (session=\"446143fcae2d712adb808e6aa1868733\", element=\"4e521ea1-8cc1-4a4c-a80f-d1779d11c3da\")>,\n",
       " <selenium.webdriver.remote.webelement.WebElement (session=\"446143fcae2d712adb808e6aa1868733\", element=\"0a706aa9-5040-4237-9766-ef543ba8bb9d\")>,\n",
       " <selenium.webdriver.remote.webelement.WebElement (session=\"446143fcae2d712adb808e6aa1868733\", element=\"0b7e6784-982d-4c7a-bb37-0466550a5b14\")>,\n",
       " <selenium.webdriver.remote.webelement.WebElement (session=\"446143fcae2d712adb808e6aa1868733\", element=\"2110000c-1b4e-4dcd-9612-0a7c017775ba\")>,\n",
       " <selenium.webdriver.remote.webelement.WebElement (session=\"446143fcae2d712adb808e6aa1868733\", element=\"05b913b5-f9c7-416a-8638-5b727426ac6f\")>,\n",
       " <selenium.webdriver.remote.webelement.WebElement (session=\"446143fcae2d712adb808e6aa1868733\", element=\"e71f72d3-7a8d-41c2-8e93-99127dea9576\")>,\n",
       " <selenium.webdriver.remote.webelement.WebElement (session=\"446143fcae2d712adb808e6aa1868733\", element=\"b1b548ed-a3ea-48ff-8b2c-05c21138b0db\")>,\n",
       " <selenium.webdriver.remote.webelement.WebElement (session=\"446143fcae2d712adb808e6aa1868733\", element=\"0951cb6f-5cd4-4057-aaf1-3ec9020fd26c\")>,\n",
       " <selenium.webdriver.remote.webelement.WebElement (session=\"446143fcae2d712adb808e6aa1868733\", element=\"8abc4e5f-f619-4ac9-b27f-2f5c9df037a2\")>,\n",
       " <selenium.webdriver.remote.webelement.WebElement (session=\"446143fcae2d712adb808e6aa1868733\", element=\"8bf64c2e-0604-4f0b-b697-987ba8da8253\")>,\n",
       " <selenium.webdriver.remote.webelement.WebElement (session=\"446143fcae2d712adb808e6aa1868733\", element=\"88a93748-8b63-44db-a982-c2969c9a4793\")>,\n",
       " <selenium.webdriver.remote.webelement.WebElement (session=\"446143fcae2d712adb808e6aa1868733\", element=\"cd42905f-43ef-431b-8169-308fa5632d4e\")>,\n",
       " <selenium.webdriver.remote.webelement.WebElement (session=\"446143fcae2d712adb808e6aa1868733\", element=\"0ef21dfa-848c-4296-b9fc-739f59abb6eb\")>,\n",
       " <selenium.webdriver.remote.webelement.WebElement (session=\"446143fcae2d712adb808e6aa1868733\", element=\"d9e0fc1e-0a4a-43c8-a16c-cbee08d42fbe\")>,\n",
       " <selenium.webdriver.remote.webelement.WebElement (session=\"446143fcae2d712adb808e6aa1868733\", element=\"1c7ef021-723a-4da8-86cb-427409444938\")>,\n",
       " <selenium.webdriver.remote.webelement.WebElement (session=\"446143fcae2d712adb808e6aa1868733\", element=\"5099f490-2784-4c5d-adea-4e4c47148f39\")>,\n",
       " <selenium.webdriver.remote.webelement.WebElement (session=\"446143fcae2d712adb808e6aa1868733\", element=\"6f9e60b7-ce5a-4751-99c2-f80edbb4d953\")>,\n",
       " <selenium.webdriver.remote.webelement.WebElement (session=\"446143fcae2d712adb808e6aa1868733\", element=\"e6c80898-b1b6-48a4-a668-425b99fcb6d4\")>,\n",
       " <selenium.webdriver.remote.webelement.WebElement (session=\"446143fcae2d712adb808e6aa1868733\", element=\"aaaea56f-9c61-4837-b16a-24894394b800\")>,\n",
       " <selenium.webdriver.remote.webelement.WebElement (session=\"446143fcae2d712adb808e6aa1868733\", element=\"3294f0eb-e629-43c9-a9f5-e9cd524aa986\")>,\n",
       " <selenium.webdriver.remote.webelement.WebElement (session=\"446143fcae2d712adb808e6aa1868733\", element=\"e8ccea19-a1a5-42ca-901a-e27360ed3597\")>,\n",
       " <selenium.webdriver.remote.webelement.WebElement (session=\"446143fcae2d712adb808e6aa1868733\", element=\"4fc0cd56-7145-46a2-8588-f11067ae4fae\")>,\n",
       " <selenium.webdriver.remote.webelement.WebElement (session=\"446143fcae2d712adb808e6aa1868733\", element=\"b2ae1ff4-e6df-4e94-b431-f5412145df2d\")>,\n",
       " <selenium.webdriver.remote.webelement.WebElement (session=\"446143fcae2d712adb808e6aa1868733\", element=\"8049eda9-a58a-4451-b812-f7f2d6f5e943\")>,\n",
       " <selenium.webdriver.remote.webelement.WebElement (session=\"446143fcae2d712adb808e6aa1868733\", element=\"d2dff9ff-3654-4e88-9a05-967e10567df6\")>,\n",
       " <selenium.webdriver.remote.webelement.WebElement (session=\"446143fcae2d712adb808e6aa1868733\", element=\"c28c1099-f860-4ecc-9a14-5e2759b20bce\")>,\n",
       " <selenium.webdriver.remote.webelement.WebElement (session=\"446143fcae2d712adb808e6aa1868733\", element=\"62fbdcd8-79f0-4261-aa82-d8550f1703fa\")>,\n",
       " <selenium.webdriver.remote.webelement.WebElement (session=\"446143fcae2d712adb808e6aa1868733\", element=\"47b27146-45a8-42e6-9310-9499e5a02a3a\")>,\n",
       " <selenium.webdriver.remote.webelement.WebElement (session=\"446143fcae2d712adb808e6aa1868733\", element=\"c3caffc8-57b4-4e16-a61b-052ca67b7358\")>,\n",
       " <selenium.webdriver.remote.webelement.WebElement (session=\"446143fcae2d712adb808e6aa1868733\", element=\"1dc78e2a-0220-4b34-8629-b2afc37722c4\")>,\n",
       " <selenium.webdriver.remote.webelement.WebElement (session=\"446143fcae2d712adb808e6aa1868733\", element=\"547a181e-767a-442a-a568-7f44bbf7dc73\")>,\n",
       " <selenium.webdriver.remote.webelement.WebElement (session=\"446143fcae2d712adb808e6aa1868733\", element=\"0164ffdf-061f-4173-8f88-a7d5caa73191\")>,\n",
       " <selenium.webdriver.remote.webelement.WebElement (session=\"446143fcae2d712adb808e6aa1868733\", element=\"d5ef3475-53f0-418c-a60e-39bf9a41fd73\")>,\n",
       " <selenium.webdriver.remote.webelement.WebElement (session=\"446143fcae2d712adb808e6aa1868733\", element=\"414cc790-8f4c-4913-9959-70786e700447\")>,\n",
       " <selenium.webdriver.remote.webelement.WebElement (session=\"446143fcae2d712adb808e6aa1868733\", element=\"7f13ffde-d521-4913-8b97-1a76344c63cf\")>,\n",
       " <selenium.webdriver.remote.webelement.WebElement (session=\"446143fcae2d712adb808e6aa1868733\", element=\"4e5ad63a-1e03-43a1-88ac-797332003ae5\")>,\n",
       " <selenium.webdriver.remote.webelement.WebElement (session=\"446143fcae2d712adb808e6aa1868733\", element=\"df5029b0-5d81-4ce1-a3a6-3822dbbe6e78\")>,\n",
       " <selenium.webdriver.remote.webelement.WebElement (session=\"446143fcae2d712adb808e6aa1868733\", element=\"9b490d3e-1da9-4135-9ecc-f839b6b4389e\")>,\n",
       " <selenium.webdriver.remote.webelement.WebElement (session=\"446143fcae2d712adb808e6aa1868733\", element=\"cea95895-da7a-411c-879b-b921c8e1c797\")>,\n",
       " <selenium.webdriver.remote.webelement.WebElement (session=\"446143fcae2d712adb808e6aa1868733\", element=\"094e603d-fc03-48b5-8ca3-1c8a9e0ba717\")>,\n",
       " <selenium.webdriver.remote.webelement.WebElement (session=\"446143fcae2d712adb808e6aa1868733\", element=\"0df704ae-70c4-44c4-b408-32acc720f5b0\")>,\n",
       " <selenium.webdriver.remote.webelement.WebElement (session=\"446143fcae2d712adb808e6aa1868733\", element=\"5a66427c-888b-4866-ab7f-83dc77205e29\")>,\n",
       " <selenium.webdriver.remote.webelement.WebElement (session=\"446143fcae2d712adb808e6aa1868733\", element=\"6f7e39ca-8ee9-41dc-afda-e9cd6187fd7d\")>,\n",
       " <selenium.webdriver.remote.webelement.WebElement (session=\"446143fcae2d712adb808e6aa1868733\", element=\"2ee00003-d5f1-4a2e-8cf1-5e03306a197b\")>,\n",
       " <selenium.webdriver.remote.webelement.WebElement (session=\"446143fcae2d712adb808e6aa1868733\", element=\"90cf8fed-37ff-4a3f-bf75-cb581ee9a61e\")>,\n",
       " <selenium.webdriver.remote.webelement.WebElement (session=\"446143fcae2d712adb808e6aa1868733\", element=\"2fcca660-30fc-4d38-bd03-50d5ae631ce8\")>,\n",
       " <selenium.webdriver.remote.webelement.WebElement (session=\"446143fcae2d712adb808e6aa1868733\", element=\"dff18179-da4a-48f2-af84-68ea365719c4\")>,\n",
       " <selenium.webdriver.remote.webelement.WebElement (session=\"446143fcae2d712adb808e6aa1868733\", element=\"14a36e9c-a2f2-4876-88ef-cebe0ab09fb6\")>,\n",
       " <selenium.webdriver.remote.webelement.WebElement (session=\"446143fcae2d712adb808e6aa1868733\", element=\"95545cd7-641d-42a0-81cf-ab0765085b94\")>,\n",
       " <selenium.webdriver.remote.webelement.WebElement (session=\"446143fcae2d712adb808e6aa1868733\", element=\"6c222fa8-d76f-4192-ac1e-687ed00f5cc0\")>,\n",
       " <selenium.webdriver.remote.webelement.WebElement (session=\"446143fcae2d712adb808e6aa1868733\", element=\"9f28d71a-ba83-4a92-b772-9f49e40e9ee3\")>,\n",
       " <selenium.webdriver.remote.webelement.WebElement (session=\"446143fcae2d712adb808e6aa1868733\", element=\"5caa1da5-a719-4f2c-96ec-6dbdb7c1b03d\")>,\n",
       " <selenium.webdriver.remote.webelement.WebElement (session=\"446143fcae2d712adb808e6aa1868733\", element=\"03d486b4-34f7-4755-93f1-7eed4615b492\")>,\n",
       " <selenium.webdriver.remote.webelement.WebElement (session=\"446143fcae2d712adb808e6aa1868733\", element=\"b54b58b0-4d43-4563-bc92-6556ec8de0ce\")>,\n",
       " <selenium.webdriver.remote.webelement.WebElement (session=\"446143fcae2d712adb808e6aa1868733\", element=\"86f21f8d-0ec3-4cf4-9abd-9ae38f532f31\")>,\n",
       " <selenium.webdriver.remote.webelement.WebElement (session=\"446143fcae2d712adb808e6aa1868733\", element=\"c75e0446-2bca-4161-92e6-21f3cbedcc05\")>,\n",
       " <selenium.webdriver.remote.webelement.WebElement (session=\"446143fcae2d712adb808e6aa1868733\", element=\"5c86d127-0f30-43ca-be2e-f3aef90ba8c7\")>,\n",
       " <selenium.webdriver.remote.webelement.WebElement (session=\"446143fcae2d712adb808e6aa1868733\", element=\"a999de1e-55ec-4c1e-aede-88f46db3bc18\")>,\n",
       " <selenium.webdriver.remote.webelement.WebElement (session=\"446143fcae2d712adb808e6aa1868733\", element=\"08e60feb-d4df-4e2f-976e-b826bd84ce66\")>,\n",
       " <selenium.webdriver.remote.webelement.WebElement (session=\"446143fcae2d712adb808e6aa1868733\", element=\"b1f92e3d-c339-4abb-a3bb-55a4cdcd69b4\")>,\n",
       " <selenium.webdriver.remote.webelement.WebElement (session=\"446143fcae2d712adb808e6aa1868733\", element=\"c574c52e-0380-46a0-b7f5-13838dc5781b\")>,\n",
       " <selenium.webdriver.remote.webelement.WebElement (session=\"446143fcae2d712adb808e6aa1868733\", element=\"07f81b83-e06e-4fa6-b479-2dae70d50134\")>,\n",
       " <selenium.webdriver.remote.webelement.WebElement (session=\"446143fcae2d712adb808e6aa1868733\", element=\"3dc14162-23b5-4b4f-a5ac-dd631f8c1562\")>,\n",
       " <selenium.webdriver.remote.webelement.WebElement (session=\"446143fcae2d712adb808e6aa1868733\", element=\"c5732b6c-f4df-4673-a3b7-3b7485c348ab\")>,\n",
       " <selenium.webdriver.remote.webelement.WebElement (session=\"446143fcae2d712adb808e6aa1868733\", element=\"85d92896-e862-4e09-afd3-84a2a2053756\")>,\n",
       " <selenium.webdriver.remote.webelement.WebElement (session=\"446143fcae2d712adb808e6aa1868733\", element=\"ffa0a2c5-31c0-46cb-9cbd-b23a7823c185\")>,\n",
       " <selenium.webdriver.remote.webelement.WebElement (session=\"446143fcae2d712adb808e6aa1868733\", element=\"1cd21742-b5fd-498f-9e77-d5e7d8f5235c\")>,\n",
       " <selenium.webdriver.remote.webelement.WebElement (session=\"446143fcae2d712adb808e6aa1868733\", element=\"21a26da4-b03b-401b-b984-b8f8ee61a367\")>,\n",
       " <selenium.webdriver.remote.webelement.WebElement (session=\"446143fcae2d712adb808e6aa1868733\", element=\"fd161030-0d58-4f25-8a18-f165be1bf962\")>,\n",
       " <selenium.webdriver.remote.webelement.WebElement (session=\"446143fcae2d712adb808e6aa1868733\", element=\"f2a8d79a-4977-4da7-b3ae-7d35bc565280\")>,\n",
       " <selenium.webdriver.remote.webelement.WebElement (session=\"446143fcae2d712adb808e6aa1868733\", element=\"aabf7ecb-93ab-4ea9-967d-80be000ad539\")>,\n",
       " <selenium.webdriver.remote.webelement.WebElement (session=\"446143fcae2d712adb808e6aa1868733\", element=\"a8a6ba24-959a-4dd9-bba5-cb40ef8a94e1\")>,\n",
       " <selenium.webdriver.remote.webelement.WebElement (session=\"446143fcae2d712adb808e6aa1868733\", element=\"ab4c2659-480d-42da-a177-0924f09d8832\")>,\n",
       " <selenium.webdriver.remote.webelement.WebElement (session=\"446143fcae2d712adb808e6aa1868733\", element=\"1235f89b-2eec-4775-b43e-6325daf03582\")>,\n",
       " <selenium.webdriver.remote.webelement.WebElement (session=\"446143fcae2d712adb808e6aa1868733\", element=\"2a146630-e61a-4934-8197-b95391b4c4ba\")>,\n",
       " <selenium.webdriver.remote.webelement.WebElement (session=\"446143fcae2d712adb808e6aa1868733\", element=\"4d62b8d2-f984-4219-9785-b5c609624d75\")>,\n",
       " <selenium.webdriver.remote.webelement.WebElement (session=\"446143fcae2d712adb808e6aa1868733\", element=\"1e5c8d0e-da71-415f-8465-73f5b6ebbda1\")>,\n",
       " <selenium.webdriver.remote.webelement.WebElement (session=\"446143fcae2d712adb808e6aa1868733\", element=\"ff2bb62e-ba04-42b6-a9ce-d575791336f1\")>,\n",
       " <selenium.webdriver.remote.webelement.WebElement (session=\"446143fcae2d712adb808e6aa1868733\", element=\"1d7fc5bc-ebfa-4fa3-b8b9-00a82528ee0f\")>,\n",
       " <selenium.webdriver.remote.webelement.WebElement (session=\"446143fcae2d712adb808e6aa1868733\", element=\"05c78a43-24b3-4fed-b27f-d6df30f6c5df\")>,\n",
       " <selenium.webdriver.remote.webelement.WebElement (session=\"446143fcae2d712adb808e6aa1868733\", element=\"b34038b6-8db0-4b18-8a6e-8ea58c6ce18a\")>,\n",
       " <selenium.webdriver.remote.webelement.WebElement (session=\"446143fcae2d712adb808e6aa1868733\", element=\"6114a704-9ed9-48ca-a259-32d7db597ab4\")>,\n",
       " <selenium.webdriver.remote.webelement.WebElement (session=\"446143fcae2d712adb808e6aa1868733\", element=\"e4cf67ba-85d4-4669-bf52-06f9884f3c58\")>,\n",
       " <selenium.webdriver.remote.webelement.WebElement (session=\"446143fcae2d712adb808e6aa1868733\", element=\"e2145dd9-baab-46d1-8622-ab4bb6ab8f7a\")>,\n",
       " <selenium.webdriver.remote.webelement.WebElement (session=\"446143fcae2d712adb808e6aa1868733\", element=\"7a98e7b9-9cb9-44d0-a322-6d2307623d87\")>,\n",
       " <selenium.webdriver.remote.webelement.WebElement (session=\"446143fcae2d712adb808e6aa1868733\", element=\"9cdafa93-eb77-49c9-ab97-c549e05e836e\")>,\n",
       " <selenium.webdriver.remote.webelement.WebElement (session=\"446143fcae2d712adb808e6aa1868733\", element=\"b08e7b0c-67c5-4dd3-b8d9-da76aabd1c36\")>,\n",
       " <selenium.webdriver.remote.webelement.WebElement (session=\"446143fcae2d712adb808e6aa1868733\", element=\"fdecb3f2-e956-4fdf-8dd2-285443b59fcb\")>,\n",
       " <selenium.webdriver.remote.webelement.WebElement (session=\"446143fcae2d712adb808e6aa1868733\", element=\"eaeff475-d943-4941-8eef-01dd2a41f933\")>,\n",
       " <selenium.webdriver.remote.webelement.WebElement (session=\"446143fcae2d712adb808e6aa1868733\", element=\"e5bfbbc0-6e60-4713-99cc-da9d27a424ec\")>,\n",
       " <selenium.webdriver.remote.webelement.WebElement (session=\"446143fcae2d712adb808e6aa1868733\", element=\"13f21669-52bd-4815-a705-b32e57cfe554\")>,\n",
       " <selenium.webdriver.remote.webelement.WebElement (session=\"446143fcae2d712adb808e6aa1868733\", element=\"8156fe99-60b2-4485-86e8-15314367e635\")>,\n",
       " <selenium.webdriver.remote.webelement.WebElement (session=\"446143fcae2d712adb808e6aa1868733\", element=\"a145523b-296d-4fee-a519-1f7ca8b7fb95\")>,\n",
       " <selenium.webdriver.remote.webelement.WebElement (session=\"446143fcae2d712adb808e6aa1868733\", element=\"8ae459c9-167a-4950-8e1b-0e6d0de025c7\")>,\n",
       " <selenium.webdriver.remote.webelement.WebElement (session=\"446143fcae2d712adb808e6aa1868733\", element=\"11a7569b-3ad7-41ae-a330-d4f6bd20aad4\")>,\n",
       " <selenium.webdriver.remote.webelement.WebElement (session=\"446143fcae2d712adb808e6aa1868733\", element=\"10782f01-9799-41f1-9d87-0563090532c2\")>,\n",
       " <selenium.webdriver.remote.webelement.WebElement (session=\"446143fcae2d712adb808e6aa1868733\", element=\"299059fb-fba9-4d37-8e49-d0894549a3ae\")>,\n",
       " <selenium.webdriver.remote.webelement.WebElement (session=\"446143fcae2d712adb808e6aa1868733\", element=\"20ada792-06c2-40d4-89c8-a55828e850f2\")>,\n",
       " <selenium.webdriver.remote.webelement.WebElement (session=\"446143fcae2d712adb808e6aa1868733\", element=\"598fbb93-eb0e-45d5-8b0d-b8fc09864540\")>,\n",
       " <selenium.webdriver.remote.webelement.WebElement (session=\"446143fcae2d712adb808e6aa1868733\", element=\"0a84ee1a-a69c-42d1-90f5-527b2b9245d5\")>,\n",
       " <selenium.webdriver.remote.webelement.WebElement (session=\"446143fcae2d712adb808e6aa1868733\", element=\"af42c55a-40be-400d-aee3-49d04968813b\")>,\n",
       " <selenium.webdriver.remote.webelement.WebElement (session=\"446143fcae2d712adb808e6aa1868733\", element=\"4c24501b-1965-40fd-b804-e40be43e195d\")>,\n",
       " <selenium.webdriver.remote.webelement.WebElement (session=\"446143fcae2d712adb808e6aa1868733\", element=\"ba2b53fa-9851-456f-bca2-eb15d2cf32d7\")>,\n",
       " <selenium.webdriver.remote.webelement.WebElement (session=\"446143fcae2d712adb808e6aa1868733\", element=\"1ae9ae20-b960-4b66-90fe-319bd7b57f0b\")>,\n",
       " <selenium.webdriver.remote.webelement.WebElement (session=\"446143fcae2d712adb808e6aa1868733\", element=\"56e6f004-e9fa-4ecf-94bd-e7e4425cec05\")>,\n",
       " <selenium.webdriver.remote.webelement.WebElement (session=\"446143fcae2d712adb808e6aa1868733\", element=\"a6e1a312-e979-45fe-be8f-0c5de6c5a656\")>,\n",
       " <selenium.webdriver.remote.webelement.WebElement (session=\"446143fcae2d712adb808e6aa1868733\", element=\"ffb3c2d5-c8f2-48be-8f03-67f9e9309f50\")>,\n",
       " <selenium.webdriver.remote.webelement.WebElement (session=\"446143fcae2d712adb808e6aa1868733\", element=\"b6fa8e50-7e6c-4c8b-a229-5731262a7b50\")>,\n",
       " <selenium.webdriver.remote.webelement.WebElement (session=\"446143fcae2d712adb808e6aa1868733\", element=\"80d3ccb6-7120-4d3c-b6e8-cd7c81ab8c45\")>,\n",
       " <selenium.webdriver.remote.webelement.WebElement (session=\"446143fcae2d712adb808e6aa1868733\", element=\"5b948c35-29d5-4276-b66e-b0ddeae36aa4\")>,\n",
       " <selenium.webdriver.remote.webelement.WebElement (session=\"446143fcae2d712adb808e6aa1868733\", element=\"acc6ec40-e372-4db4-8539-648cdc91b86c\")>,\n",
       " <selenium.webdriver.remote.webelement.WebElement (session=\"446143fcae2d712adb808e6aa1868733\", element=\"b012df84-f865-47c6-8b6d-f4d06c975946\")>,\n",
       " <selenium.webdriver.remote.webelement.WebElement (session=\"446143fcae2d712adb808e6aa1868733\", element=\"07e856b5-977b-4aa9-9edc-65c0a4e9ce49\")>,\n",
       " <selenium.webdriver.remote.webelement.WebElement (session=\"446143fcae2d712adb808e6aa1868733\", element=\"b982c5a3-298d-404e-a6be-915c1d4df559\")>,\n",
       " <selenium.webdriver.remote.webelement.WebElement (session=\"446143fcae2d712adb808e6aa1868733\", element=\"7539a5e5-169e-42c2-9857-09a5b845a1e4\")>,\n",
       " <selenium.webdriver.remote.webelement.WebElement (session=\"446143fcae2d712adb808e6aa1868733\", element=\"5ba48790-974b-414b-9b36-af2754cf6e2b\")>,\n",
       " <selenium.webdriver.remote.webelement.WebElement (session=\"446143fcae2d712adb808e6aa1868733\", element=\"eece2346-2949-4632-9a70-a3c23d37b65c\")>,\n",
       " <selenium.webdriver.remote.webelement.WebElement (session=\"446143fcae2d712adb808e6aa1868733\", element=\"db07030a-7899-43c6-a8c3-0c3e1997438b\")>,\n",
       " <selenium.webdriver.remote.webelement.WebElement (session=\"446143fcae2d712adb808e6aa1868733\", element=\"8842a291-6ac9-40c0-88af-304245a904f9\")>,\n",
       " <selenium.webdriver.remote.webelement.WebElement (session=\"446143fcae2d712adb808e6aa1868733\", element=\"a56e0f2e-11b1-41d9-8a26-56718f84d115\")>,\n",
       " <selenium.webdriver.remote.webelement.WebElement (session=\"446143fcae2d712adb808e6aa1868733\", element=\"69a1d2b1-0e41-421a-a4c7-b6944f338f0f\")>,\n",
       " <selenium.webdriver.remote.webelement.WebElement (session=\"446143fcae2d712adb808e6aa1868733\", element=\"ca6fdfda-2433-4834-a054-eb49c0d03b8b\")>,\n",
       " <selenium.webdriver.remote.webelement.WebElement (session=\"446143fcae2d712adb808e6aa1868733\", element=\"eaec7b1e-5373-406f-a7e8-df3fdef3b3b6\")>,\n",
       " <selenium.webdriver.remote.webelement.WebElement (session=\"446143fcae2d712adb808e6aa1868733\", element=\"b5285875-4bf6-43e8-a935-f57153c6d360\")>,\n",
       " <selenium.webdriver.remote.webelement.WebElement (session=\"446143fcae2d712adb808e6aa1868733\", element=\"3e16b154-cb2b-42c6-8ed7-74d2587c7a74\")>,\n",
       " <selenium.webdriver.remote.webelement.WebElement (session=\"446143fcae2d712adb808e6aa1868733\", element=\"1f34d9cb-68c1-4659-916b-b5a5cfc7fb6c\")>,\n",
       " <selenium.webdriver.remote.webelement.WebElement (session=\"446143fcae2d712adb808e6aa1868733\", element=\"5bd60c66-1586-414a-9de2-b202e37f9704\")>,\n",
       " <selenium.webdriver.remote.webelement.WebElement (session=\"446143fcae2d712adb808e6aa1868733\", element=\"0f1cdf80-4888-4772-b633-6c31f52b626f\")>,\n",
       " <selenium.webdriver.remote.webelement.WebElement (session=\"446143fcae2d712adb808e6aa1868733\", element=\"5a8ffeec-dd09-4a70-817c-44ba1dc5fe27\")>,\n",
       " <selenium.webdriver.remote.webelement.WebElement (session=\"446143fcae2d712adb808e6aa1868733\", element=\"3242f723-1335-450b-95f7-7fff8d1e42d1\")>,\n",
       " <selenium.webdriver.remote.webelement.WebElement (session=\"446143fcae2d712adb808e6aa1868733\", element=\"b8909088-0268-4ba0-b69e-650a35da890b\")>,\n",
       " <selenium.webdriver.remote.webelement.WebElement (session=\"446143fcae2d712adb808e6aa1868733\", element=\"2828f599-3e6c-4b35-9702-a343937379f4\")>,\n",
       " <selenium.webdriver.remote.webelement.WebElement (session=\"446143fcae2d712adb808e6aa1868733\", element=\"399a6ac0-2860-434d-9f3b-58f9205dee59\")>,\n",
       " <selenium.webdriver.remote.webelement.WebElement (session=\"446143fcae2d712adb808e6aa1868733\", element=\"29d1cfde-4e43-401e-b6a1-2deff5aa2159\")>,\n",
       " <selenium.webdriver.remote.webelement.WebElement (session=\"446143fcae2d712adb808e6aa1868733\", element=\"6972569f-4a08-4366-aaa4-d072bf5a0d18\")>,\n",
       " <selenium.webdriver.remote.webelement.WebElement (session=\"446143fcae2d712adb808e6aa1868733\", element=\"cd125df4-5ffb-416a-9cef-41e3d3e31ee8\")>,\n",
       " <selenium.webdriver.remote.webelement.WebElement (session=\"446143fcae2d712adb808e6aa1868733\", element=\"1afbd32a-75dd-434e-abf0-ce686cab714d\")>,\n",
       " <selenium.webdriver.remote.webelement.WebElement (session=\"446143fcae2d712adb808e6aa1868733\", element=\"5a29b0de-cab8-4475-bc8f-122407ea4495\")>,\n",
       " <selenium.webdriver.remote.webelement.WebElement (session=\"446143fcae2d712adb808e6aa1868733\", element=\"246bc152-8f55-4e23-ab3e-e447d1e51afe\")>,\n",
       " <selenium.webdriver.remote.webelement.WebElement (session=\"446143fcae2d712adb808e6aa1868733\", element=\"9bc06598-04cc-4049-8707-f4f04fe36f0d\")>,\n",
       " <selenium.webdriver.remote.webelement.WebElement (session=\"446143fcae2d712adb808e6aa1868733\", element=\"4e01c88d-7009-4721-b695-f16679488d74\")>,\n",
       " <selenium.webdriver.remote.webelement.WebElement (session=\"446143fcae2d712adb808e6aa1868733\", element=\"c6a14c31-1fcb-47a7-aecc-8e44fa4ec1a1\")>,\n",
       " <selenium.webdriver.remote.webelement.WebElement (session=\"446143fcae2d712adb808e6aa1868733\", element=\"b0057fbe-67be-4368-851d-5f72a656e6d1\")>,\n",
       " <selenium.webdriver.remote.webelement.WebElement (session=\"446143fcae2d712adb808e6aa1868733\", element=\"448bf064-5f33-4ee6-ada8-a3d0126cf24d\")>,\n",
       " <selenium.webdriver.remote.webelement.WebElement (session=\"446143fcae2d712adb808e6aa1868733\", element=\"bc3fc516-cf5b-4441-9df4-54534c0d52bd\")>,\n",
       " <selenium.webdriver.remote.webelement.WebElement (session=\"446143fcae2d712adb808e6aa1868733\", element=\"6a465208-ad17-4ceb-84b1-68f81d246184\")>,\n",
       " <selenium.webdriver.remote.webelement.WebElement (session=\"446143fcae2d712adb808e6aa1868733\", element=\"fe7d3034-27fc-4177-9d8e-52f29347aba0\")>,\n",
       " <selenium.webdriver.remote.webelement.WebElement (session=\"446143fcae2d712adb808e6aa1868733\", element=\"fa197a89-df45-4bbe-bb17-46b10a8426b3\")>,\n",
       " <selenium.webdriver.remote.webelement.WebElement (session=\"446143fcae2d712adb808e6aa1868733\", element=\"6b9c368d-ade0-4346-9936-02158f5b963c\")>,\n",
       " <selenium.webdriver.remote.webelement.WebElement (session=\"446143fcae2d712adb808e6aa1868733\", element=\"739d7418-b116-4bcb-9ea6-68d548414d33\")>,\n",
       " <selenium.webdriver.remote.webelement.WebElement (session=\"446143fcae2d712adb808e6aa1868733\", element=\"a6586550-695b-4c3d-9419-8f8724c2ff2f\")>,\n",
       " <selenium.webdriver.remote.webelement.WebElement (session=\"446143fcae2d712adb808e6aa1868733\", element=\"90fca3af-87dc-4e87-bc13-e68e3e2395de\")>,\n",
       " <selenium.webdriver.remote.webelement.WebElement (session=\"446143fcae2d712adb808e6aa1868733\", element=\"0cecdb90-c555-428d-85f6-10468fb0d2cb\")>,\n",
       " <selenium.webdriver.remote.webelement.WebElement (session=\"446143fcae2d712adb808e6aa1868733\", element=\"1aac81fd-3fc9-4646-9b8a-04de95653eed\")>,\n",
       " <selenium.webdriver.remote.webelement.WebElement (session=\"446143fcae2d712adb808e6aa1868733\", element=\"9abc0dc7-2d4e-4cc1-bf8d-e567062a0fcc\")>,\n",
       " <selenium.webdriver.remote.webelement.WebElement (session=\"446143fcae2d712adb808e6aa1868733\", element=\"ac2808b6-2473-4fac-be8a-11060685f16e\")>,\n",
       " <selenium.webdriver.remote.webelement.WebElement (session=\"446143fcae2d712adb808e6aa1868733\", element=\"e0ef517a-e538-4a3e-bee3-a392b6f9ed96\")>,\n",
       " <selenium.webdriver.remote.webelement.WebElement (session=\"446143fcae2d712adb808e6aa1868733\", element=\"99c63a83-8fd6-4bce-bbe9-ab89ebb78782\")>,\n",
       " <selenium.webdriver.remote.webelement.WebElement (session=\"446143fcae2d712adb808e6aa1868733\", element=\"1387e789-7631-42ed-9e5c-71004b10d82a\")>,\n",
       " <selenium.webdriver.remote.webelement.WebElement (session=\"446143fcae2d712adb808e6aa1868733\", element=\"662ce847-6e3f-41de-8b6c-094b9e57f985\")>,\n",
       " <selenium.webdriver.remote.webelement.WebElement (session=\"446143fcae2d712adb808e6aa1868733\", element=\"fe592db6-6451-43eb-96a1-24cd4e63b1f7\")>,\n",
       " <selenium.webdriver.remote.webelement.WebElement (session=\"446143fcae2d712adb808e6aa1868733\", element=\"cb8f5a02-a530-48a3-94b3-c203eeb827c9\")>,\n",
       " <selenium.webdriver.remote.webelement.WebElement (session=\"446143fcae2d712adb808e6aa1868733\", element=\"3b19ca91-a6f9-4c0c-ba36-acb2af08ca00\")>,\n",
       " <selenium.webdriver.remote.webelement.WebElement (session=\"446143fcae2d712adb808e6aa1868733\", element=\"80b0eeef-31f9-4fbd-bc49-b0ba2545f7a6\")>,\n",
       " <selenium.webdriver.remote.webelement.WebElement (session=\"446143fcae2d712adb808e6aa1868733\", element=\"6e214879-6a92-4452-8709-4c92fd58b270\")>,\n",
       " <selenium.webdriver.remote.webelement.WebElement (session=\"446143fcae2d712adb808e6aa1868733\", element=\"22ae9497-013f-4e37-875d-83c3e4634602\")>,\n",
       " <selenium.webdriver.remote.webelement.WebElement (session=\"446143fcae2d712adb808e6aa1868733\", element=\"ec1a0fc3-7b55-4131-b9a8-a79790e388f0\")>,\n",
       " <selenium.webdriver.remote.webelement.WebElement (session=\"446143fcae2d712adb808e6aa1868733\", element=\"daa4c183-2250-4839-985f-fcdca0887bef\")>,\n",
       " <selenium.webdriver.remote.webelement.WebElement (session=\"446143fcae2d712adb808e6aa1868733\", element=\"a2e127c5-7166-4d30-95bc-f226609a104b\")>,\n",
       " <selenium.webdriver.remote.webelement.WebElement (session=\"446143fcae2d712adb808e6aa1868733\", element=\"9e8b67a0-dcaf-421f-a2f5-434fd1d5cf54\")>,\n",
       " <selenium.webdriver.remote.webelement.WebElement (session=\"446143fcae2d712adb808e6aa1868733\", element=\"39d8f50a-f1c9-4b48-9ca1-043c20a8a7ec\")>,\n",
       " <selenium.webdriver.remote.webelement.WebElement (session=\"446143fcae2d712adb808e6aa1868733\", element=\"84d15bb8-2aaa-494f-87d5-6a26d246c55a\")>,\n",
       " <selenium.webdriver.remote.webelement.WebElement (session=\"446143fcae2d712adb808e6aa1868733\", element=\"907c329e-8a24-437b-9442-e0124775556b\")>,\n",
       " <selenium.webdriver.remote.webelement.WebElement (session=\"446143fcae2d712adb808e6aa1868733\", element=\"84a85b81-1f82-4a04-ac5d-a6b2fb072879\")>,\n",
       " <selenium.webdriver.remote.webelement.WebElement (session=\"446143fcae2d712adb808e6aa1868733\", element=\"3bfb644a-a30a-4068-8c60-ceca06a17e6a\")>,\n",
       " <selenium.webdriver.remote.webelement.WebElement (session=\"446143fcae2d712adb808e6aa1868733\", element=\"894fe228-b265-46af-9d1e-4cad2c62360e\")>,\n",
       " <selenium.webdriver.remote.webelement.WebElement (session=\"446143fcae2d712adb808e6aa1868733\", element=\"a1e6a8d1-a83c-4b24-b2b9-90c9d224f01b\")>,\n",
       " <selenium.webdriver.remote.webelement.WebElement (session=\"446143fcae2d712adb808e6aa1868733\", element=\"bffba455-85a0-444e-848e-4f6058db838f\")>,\n",
       " <selenium.webdriver.remote.webelement.WebElement (session=\"446143fcae2d712adb808e6aa1868733\", element=\"ee9d1253-a801-408c-9467-62a4952766f0\")>,\n",
       " <selenium.webdriver.remote.webelement.WebElement (session=\"446143fcae2d712adb808e6aa1868733\", element=\"2f80bcb1-8d6c-44c4-b703-c60046538a55\")>,\n",
       " <selenium.webdriver.remote.webelement.WebElement (session=\"446143fcae2d712adb808e6aa1868733\", element=\"fe13ec22-0cc8-4838-a783-b3405638b44d\")>,\n",
       " <selenium.webdriver.remote.webelement.WebElement (session=\"446143fcae2d712adb808e6aa1868733\", element=\"6891a0f9-b1d2-46f1-be55-c371af760500\")>,\n",
       " <selenium.webdriver.remote.webelement.WebElement (session=\"446143fcae2d712adb808e6aa1868733\", element=\"f5786946-0e58-419f-a797-9bb4778c666e\")>,\n",
       " <selenium.webdriver.remote.webelement.WebElement (session=\"446143fcae2d712adb808e6aa1868733\", element=\"a63fe51e-f15c-483d-adf4-7ba76a94c411\")>,\n",
       " <selenium.webdriver.remote.webelement.WebElement (session=\"446143fcae2d712adb808e6aa1868733\", element=\"ce1a12f1-001f-4d76-acf7-78be13a70a6e\")>,\n",
       " <selenium.webdriver.remote.webelement.WebElement (session=\"446143fcae2d712adb808e6aa1868733\", element=\"aac38613-d5dc-4beb-9618-e6c440f6662e\")>,\n",
       " <selenium.webdriver.remote.webelement.WebElement (session=\"446143fcae2d712adb808e6aa1868733\", element=\"56327048-887f-4f5c-bf6b-c83a54158e96\")>,\n",
       " <selenium.webdriver.remote.webelement.WebElement (session=\"446143fcae2d712adb808e6aa1868733\", element=\"1e627252-70ea-466c-84a5-7636bd3fad99\")>,\n",
       " <selenium.webdriver.remote.webelement.WebElement (session=\"446143fcae2d712adb808e6aa1868733\", element=\"a1c8a0c7-4379-45e5-9fdf-9512097a278f\")>,\n",
       " <selenium.webdriver.remote.webelement.WebElement (session=\"446143fcae2d712adb808e6aa1868733\", element=\"947ef748-804d-44be-87cb-c3bd4f1540d7\")>,\n",
       " <selenium.webdriver.remote.webelement.WebElement (session=\"446143fcae2d712adb808e6aa1868733\", element=\"6da586e4-085b-4d80-b6fd-c6b21165308f\")>,\n",
       " <selenium.webdriver.remote.webelement.WebElement (session=\"446143fcae2d712adb808e6aa1868733\", element=\"e169d501-14bb-4518-9b49-f57ec4581d59\")>,\n",
       " <selenium.webdriver.remote.webelement.WebElement (session=\"446143fcae2d712adb808e6aa1868733\", element=\"2a420ab8-cfcd-407a-bdca-952a0554e8d9\")>,\n",
       " <selenium.webdriver.remote.webelement.WebElement (session=\"446143fcae2d712adb808e6aa1868733\", element=\"db5ad1bc-684a-426f-8cc0-e32806b93765\")>,\n",
       " <selenium.webdriver.remote.webelement.WebElement (session=\"446143fcae2d712adb808e6aa1868733\", element=\"02d555b6-fb43-4539-afe6-e6b03dffbe28\")>,\n",
       " <selenium.webdriver.remote.webelement.WebElement (session=\"446143fcae2d712adb808e6aa1868733\", element=\"0b38abeb-a911-46be-adb9-cb619e4244f3\")>,\n",
       " <selenium.webdriver.remote.webelement.WebElement (session=\"446143fcae2d712adb808e6aa1868733\", element=\"8e5f9d23-7970-4803-807e-212c19ba1070\")>,\n",
       " <selenium.webdriver.remote.webelement.WebElement (session=\"446143fcae2d712adb808e6aa1868733\", element=\"b6ad06ff-6021-4ed1-8528-19fb445de0e9\")>,\n",
       " <selenium.webdriver.remote.webelement.WebElement (session=\"446143fcae2d712adb808e6aa1868733\", element=\"e7b3edfe-bb9e-45bd-9d18-363b93cf06df\")>,\n",
       " <selenium.webdriver.remote.webelement.WebElement (session=\"446143fcae2d712adb808e6aa1868733\", element=\"ea177944-892d-4a70-bfb3-46a1cda7329b\")>,\n",
       " <selenium.webdriver.remote.webelement.WebElement (session=\"446143fcae2d712adb808e6aa1868733\", element=\"6f2fb940-ee2d-4c70-adec-9c5b43d508ad\")>,\n",
       " <selenium.webdriver.remote.webelement.WebElement (session=\"446143fcae2d712adb808e6aa1868733\", element=\"6b20c6a0-ca72-4a76-954f-5d2a72c5a600\")>,\n",
       " <selenium.webdriver.remote.webelement.WebElement (session=\"446143fcae2d712adb808e6aa1868733\", element=\"455852ed-fb07-483a-a8f5-d91d34af37fc\")>,\n",
       " <selenium.webdriver.remote.webelement.WebElement (session=\"446143fcae2d712adb808e6aa1868733\", element=\"b10c3d27-876c-4bdf-9855-6b90f375a613\")>,\n",
       " <selenium.webdriver.remote.webelement.WebElement (session=\"446143fcae2d712adb808e6aa1868733\", element=\"916ae630-d0e7-490e-b6b9-5a44bb93e47d\")>,\n",
       " <selenium.webdriver.remote.webelement.WebElement (session=\"446143fcae2d712adb808e6aa1868733\", element=\"f8ca26af-4b1a-46f5-a6a5-3bb5db52e8d1\")>,\n",
       " <selenium.webdriver.remote.webelement.WebElement (session=\"446143fcae2d712adb808e6aa1868733\", element=\"2f7badbd-0e4d-44e7-95e0-e95a166f39e8\")>,\n",
       " <selenium.webdriver.remote.webelement.WebElement (session=\"446143fcae2d712adb808e6aa1868733\", element=\"554d8a70-08f6-40ff-8a0b-e08ba156bcd0\")>,\n",
       " <selenium.webdriver.remote.webelement.WebElement (session=\"446143fcae2d712adb808e6aa1868733\", element=\"e1ec44cf-24fa-4009-942f-137c8b1248cf\")>,\n",
       " <selenium.webdriver.remote.webelement.WebElement (session=\"446143fcae2d712adb808e6aa1868733\", element=\"f422c4b5-3b75-4a2a-b5f4-e68fd6d4fd1d\")>,\n",
       " <selenium.webdriver.remote.webelement.WebElement (session=\"446143fcae2d712adb808e6aa1868733\", element=\"2eae66b8-36c5-4f14-88cb-091f9bd504ae\")>,\n",
       " <selenium.webdriver.remote.webelement.WebElement (session=\"446143fcae2d712adb808e6aa1868733\", element=\"b898c10e-4303-4676-bb40-20a88c830bfa\")>,\n",
       " <selenium.webdriver.remote.webelement.WebElement (session=\"446143fcae2d712adb808e6aa1868733\", element=\"cf926c69-4a96-4069-9879-724b13cf7dc7\")>,\n",
       " <selenium.webdriver.remote.webelement.WebElement (session=\"446143fcae2d712adb808e6aa1868733\", element=\"a7185934-dafb-44da-9b9e-661f9c39de63\")>,\n",
       " <selenium.webdriver.remote.webelement.WebElement (session=\"446143fcae2d712adb808e6aa1868733\", element=\"e36ef5ad-c15f-44f8-9ff5-134d440e036c\")>]"
      ]
     },
     "execution_count": 3,
     "metadata": {},
     "output_type": "execute_result"
    }
   ],
   "source": [
    "div_tags = driver.find_elements_by_tag_name('div')\n",
    "div_tags"
   ]
  },
  {
   "cell_type": "code",
   "execution_count": 4,
   "metadata": {
    "scrolled": true
   },
   "outputs": [
    {
     "name": "stderr",
     "output_type": "stream",
     "text": [
      "C:\\Users\\Kiran\\AppData\\Local\\Temp\\ipykernel_12952\\2033571756.py:1: DeprecationWarning: find_elements_by_tag_name is deprecated. Please use find_elements(by=By.TAG_NAME, value=name) instead\n",
      "  a_tags = driver.find_elements_by_tag_name('a')\n"
     ]
    },
    {
     "data": {
      "text/plain": [
       "[<selenium.webdriver.remote.webelement.WebElement (session=\"446143fcae2d712adb808e6aa1868733\", element=\"08e5c8ac-db4e-4ed2-8a98-df1345c46bf6\")>,\n",
       " <selenium.webdriver.remote.webelement.WebElement (session=\"446143fcae2d712adb808e6aa1868733\", element=\"99f3fb61-47c7-4942-b8b4-5f17cfa3f4dd\")>,\n",
       " <selenium.webdriver.remote.webelement.WebElement (session=\"446143fcae2d712adb808e6aa1868733\", element=\"f536c27b-a1d4-48e2-a7d7-fb8fa12bb430\")>,\n",
       " <selenium.webdriver.remote.webelement.WebElement (session=\"446143fcae2d712adb808e6aa1868733\", element=\"7dd6afe4-13c5-45d3-80ff-3c4619c4fa78\")>,\n",
       " <selenium.webdriver.remote.webelement.WebElement (session=\"446143fcae2d712adb808e6aa1868733\", element=\"3f39a119-fa7f-401e-8a63-7682ea7206ab\")>,\n",
       " <selenium.webdriver.remote.webelement.WebElement (session=\"446143fcae2d712adb808e6aa1868733\", element=\"b88a3c26-2696-4488-8f09-804a61ef3983\")>,\n",
       " <selenium.webdriver.remote.webelement.WebElement (session=\"446143fcae2d712adb808e6aa1868733\", element=\"ac58ae47-7831-4501-844f-361f5766f469\")>,\n",
       " <selenium.webdriver.remote.webelement.WebElement (session=\"446143fcae2d712adb808e6aa1868733\", element=\"ca026666-5a45-4bc4-bf54-7835f38b2d88\")>,\n",
       " <selenium.webdriver.remote.webelement.WebElement (session=\"446143fcae2d712adb808e6aa1868733\", element=\"0847795a-0764-41cb-a597-eef5252137e1\")>,\n",
       " <selenium.webdriver.remote.webelement.WebElement (session=\"446143fcae2d712adb808e6aa1868733\", element=\"fd34f276-a245-4a62-b12c-22d6ac894596\")>,\n",
       " <selenium.webdriver.remote.webelement.WebElement (session=\"446143fcae2d712adb808e6aa1868733\", element=\"82ca18b7-16fa-410d-8c18-fc015c056fa8\")>,\n",
       " <selenium.webdriver.remote.webelement.WebElement (session=\"446143fcae2d712adb808e6aa1868733\", element=\"6dc22522-596f-4098-9738-ca70d3807b99\")>,\n",
       " <selenium.webdriver.remote.webelement.WebElement (session=\"446143fcae2d712adb808e6aa1868733\", element=\"67fa454a-6fe0-4b23-aeb7-6267ae7cfd8a\")>,\n",
       " <selenium.webdriver.remote.webelement.WebElement (session=\"446143fcae2d712adb808e6aa1868733\", element=\"2fe129f5-5eb0-4ae3-b58b-3a429898d061\")>,\n",
       " <selenium.webdriver.remote.webelement.WebElement (session=\"446143fcae2d712adb808e6aa1868733\", element=\"973ce12e-5331-44b6-9089-dacc2c0b23a2\")>,\n",
       " <selenium.webdriver.remote.webelement.WebElement (session=\"446143fcae2d712adb808e6aa1868733\", element=\"8e2cf3d1-64f0-4109-b3e3-518d2a760c82\")>,\n",
       " <selenium.webdriver.remote.webelement.WebElement (session=\"446143fcae2d712adb808e6aa1868733\", element=\"d622249a-2395-4d82-9754-c95e83a51a30\")>,\n",
       " <selenium.webdriver.remote.webelement.WebElement (session=\"446143fcae2d712adb808e6aa1868733\", element=\"b6c385e8-c362-4228-8f9d-fca05e4c3bc3\")>,\n",
       " <selenium.webdriver.remote.webelement.WebElement (session=\"446143fcae2d712adb808e6aa1868733\", element=\"bee8a777-842c-4db3-b1ff-4d3107ed9e33\")>,\n",
       " <selenium.webdriver.remote.webelement.WebElement (session=\"446143fcae2d712adb808e6aa1868733\", element=\"e5d661ce-7bb1-48db-ae79-0c31959957af\")>,\n",
       " <selenium.webdriver.remote.webelement.WebElement (session=\"446143fcae2d712adb808e6aa1868733\", element=\"2a6fa5d6-5406-4b76-a3fb-44d215ed1f3d\")>,\n",
       " <selenium.webdriver.remote.webelement.WebElement (session=\"446143fcae2d712adb808e6aa1868733\", element=\"624056cc-c502-4ac0-bf19-9f491e1f50b9\")>,\n",
       " <selenium.webdriver.remote.webelement.WebElement (session=\"446143fcae2d712adb808e6aa1868733\", element=\"f5d62f58-0c14-4fcd-a229-d0944c21cbe2\")>,\n",
       " <selenium.webdriver.remote.webelement.WebElement (session=\"446143fcae2d712adb808e6aa1868733\", element=\"16f69113-f802-4609-982f-2ecbdf686823\")>,\n",
       " <selenium.webdriver.remote.webelement.WebElement (session=\"446143fcae2d712adb808e6aa1868733\", element=\"361320ab-0919-43b5-84ff-0c389939679c\")>,\n",
       " <selenium.webdriver.remote.webelement.WebElement (session=\"446143fcae2d712adb808e6aa1868733\", element=\"51fb8f9c-8b56-4c49-bc46-30605e511690\")>,\n",
       " <selenium.webdriver.remote.webelement.WebElement (session=\"446143fcae2d712adb808e6aa1868733\", element=\"b40d334f-2e9f-4d42-b8eb-8847e81f26c8\")>,\n",
       " <selenium.webdriver.remote.webelement.WebElement (session=\"446143fcae2d712adb808e6aa1868733\", element=\"aa5d8714-31da-496a-88af-08ae2079cb7b\")>,\n",
       " <selenium.webdriver.remote.webelement.WebElement (session=\"446143fcae2d712adb808e6aa1868733\", element=\"2de8c00f-d23e-4fa1-9e1a-82832bab366d\")>,\n",
       " <selenium.webdriver.remote.webelement.WebElement (session=\"446143fcae2d712adb808e6aa1868733\", element=\"96db4984-a949-47d3-b870-c4ac5b1f93f5\")>,\n",
       " <selenium.webdriver.remote.webelement.WebElement (session=\"446143fcae2d712adb808e6aa1868733\", element=\"168ea623-03ed-4a39-8284-4c20fe7a56e9\")>,\n",
       " <selenium.webdriver.remote.webelement.WebElement (session=\"446143fcae2d712adb808e6aa1868733\", element=\"5f215f8b-118b-4d93-af0b-0647d3ff0255\")>,\n",
       " <selenium.webdriver.remote.webelement.WebElement (session=\"446143fcae2d712adb808e6aa1868733\", element=\"7df4e140-e5b7-4815-8617-4a6ad8e36eae\")>,\n",
       " <selenium.webdriver.remote.webelement.WebElement (session=\"446143fcae2d712adb808e6aa1868733\", element=\"23c32983-0168-41a8-8498-5930d4fe8f68\")>,\n",
       " <selenium.webdriver.remote.webelement.WebElement (session=\"446143fcae2d712adb808e6aa1868733\", element=\"59bc22c4-d6c4-45ce-b033-657ab020c6f3\")>,\n",
       " <selenium.webdriver.remote.webelement.WebElement (session=\"446143fcae2d712adb808e6aa1868733\", element=\"d3b36a3f-f867-40a1-af5a-c5d9c2b65f54\")>,\n",
       " <selenium.webdriver.remote.webelement.WebElement (session=\"446143fcae2d712adb808e6aa1868733\", element=\"4b6ce6de-84e6-4532-aaac-756ef663ee75\")>,\n",
       " <selenium.webdriver.remote.webelement.WebElement (session=\"446143fcae2d712adb808e6aa1868733\", element=\"8d8bde06-3b5a-4b56-8ce8-16cb39f8d99e\")>,\n",
       " <selenium.webdriver.remote.webelement.WebElement (session=\"446143fcae2d712adb808e6aa1868733\", element=\"444cba9a-3947-4e90-be6a-7aa5d325254e\")>]"
      ]
     },
     "execution_count": 4,
     "metadata": {},
     "output_type": "execute_result"
    }
   ],
   "source": [
    "a_tags = driver.find_elements_by_tag_name('a')\n",
    "a_tags"
   ]
  },
  {
   "cell_type": "code",
   "execution_count": 5,
   "metadata": {},
   "outputs": [
    {
     "name": "stdout",
     "output_type": "stream",
     "text": [
      " https://courses.ineuron.ai/category/Data-Science  ||  Data-Science\n",
      " https://courses.ineuron.ai/category/Programming  ||  Programming\n",
      " https://courses.ineuron.ai/category/Development  ||  Development\n",
      " https://courses.ineuron.ai/category/Cloud  ||  Cloud\n",
      " https://courses.ineuron.ai/category/Marketing  ||  Marketing\n"
     ]
    }
   ],
   "source": [
    "data = {}\n",
    "courses = []\n",
    "condition_list = [] \n",
    "for i in a_tags:\n",
    "    if 'courses' in i.get_attribute('href') and 'category' in i.get_attribute('href') and \\\n",
    "    i.get_attribute('href').split('/')[-1] not in condition_list:\n",
    "        \n",
    "        print(i.text, i.get_attribute('href'), ' || ', i.get_attribute('href').split('/')[-1])\n",
    "        courses.append({i.get_attribute('href').split('/')[-1] : i.get_attribute('href')})\n",
    "        condition_list.append(i.get_attribute('href').split('/')[-1])\n",
    "\n",
    "data['courses'] = courses \n",
    "condition_list = [] "
   ]
  },
  {
   "cell_type": "code",
   "execution_count": 6,
   "metadata": {},
   "outputs": [
    {
     "data": {
      "text/plain": [
       "{'courses': [{'Data-Science': 'https://courses.ineuron.ai/category/Data-Science'},\n",
       "  {'Programming': 'https://courses.ineuron.ai/category/Programming'},\n",
       "  {'Development': 'https://courses.ineuron.ai/category/Development'},\n",
       "  {'Cloud': 'https://courses.ineuron.ai/category/Cloud'},\n",
       "  {'Marketing': 'https://courses.ineuron.ai/category/Marketing'}]}"
      ]
     },
     "execution_count": 6,
     "metadata": {},
     "output_type": "execute_result"
    }
   ],
   "source": [
    "data"
   ]
  },
  {
   "cell_type": "code",
   "execution_count": 7,
   "metadata": {
    "scrolled": true
   },
   "outputs": [
    {
     "name": "stdout",
     "output_type": "stream",
     "text": [
      "Now going on :  Data-Science  ||  https://courses.ineuron.ai/category/Data-Science \n",
      "\n"
     ]
    },
    {
     "name": "stderr",
     "output_type": "stream",
     "text": [
      "C:\\Users\\Kiran\\AppData\\Local\\Temp\\ipykernel_12952\\3724642529.py:8: DeprecationWarning: find_elements_by_tag_name is deprecated. Please use find_elements(by=By.TAG_NAME, value=name) instead\n",
      "  sub_a_tags = driver.find_elements_by_tag_name(\"a\")\n",
      "c:\\users\\kiran\\appdata\\local\\programs\\python\\python38\\lib\\site-packages\\selenium\\webdriver\\remote\\webelement.py:359: UserWarning: find_elements_by_tag_name is deprecated. Please use find_elements(by=By.TAG_NAME, value=name) instead\n",
      "  warnings.warn(\"find_elements_by_tag_name is deprecated. Please use find_elements(by=By.TAG_NAME, value=name) instead\")\n",
      "C:\\Users\\Kiran\\AppData\\Local\\Temp\\ipykernel_12952\\3724642529.py:18: DeprecationWarning: find_element_by_link_text is deprecated. Please use find_element(by=By.LINK_TEXT, value=link_text) instead\n",
      "  main_course_name.append({a_elem.find_elements_by_tag_name(\"h5\")[0].text : driver.find_element_by_link_text(a_elem.find_elements_by_tag_name(\"h5\")[0].text).get_attribute(\"href\")})\n"
     ]
    },
    {
     "name": "stdout",
     "output_type": "stream",
     "text": [
      "Now going on :  Programming  ||  https://courses.ineuron.ai/category/Programming \n",
      "\n",
      "Now going on :  Development  ||  https://courses.ineuron.ai/category/Development \n",
      "\n",
      "Now going on :  Cloud  ||  https://courses.ineuron.ai/category/Cloud \n",
      "\n",
      "Now going on :  Marketing  ||  https://courses.ineuron.ai/category/Marketing \n",
      "\n",
      "{'courses': [{'Data-Science': 'https://courses.ineuron.ai/category/Data-Science'}, {'Programming': 'https://courses.ineuron.ai/category/Programming'}, {'Development': 'https://courses.ineuron.ai/category/Development'}, {'Cloud': 'https://courses.ineuron.ai/category/Cloud'}, {'Marketing': 'https://courses.ineuron.ai/category/Marketing'}], 'sub_courses': {'Data-Science': [{'Full Stack Data Science Bootcamp': 'https://courses.ineuron.ai/Full-Stack-Data-Science-Bootcamp'}, {'Architecture and System Design Live Class': 'https://courses.ineuron.ai/Architecture-and-System-Design-Live-Class'}, {'FullStack Developer Interview Preparation Live Class': 'https://courses.ineuron.ai/FullStack-Developer-Interview-Preparation-Live-Class'}, {'Data Science Masters': 'https://courses.ineuron.ai/Data-Science-Masters'}, {'Full Stack Data Science': 'https://courses.ineuron.ai/Full-Stack-Data-Science'}, {\"Full Stack Data Science Nov'21 Batch\": \"https://courses.ineuron.ai/Full-Stack-Data-Science-Nov'21-Batch\"}, {\"Full Stack Data Science Feb'21 Batch\": \"https://courses.ineuron.ai/Full-Stack-Data-Science-Feb'21-Batch\"}, {'DSAR': 'https://courses.ineuron.ai/DSAR'}, {'Graph ML': 'https://courses.ineuron.ai/Graph-ML'}, {'Streamlit': 'https://courses.ineuron.ai/Streamlit'}, {'Dask': 'https://courses.ineuron.ai/Dask'}, {'Mathematics for Machine Learning': 'https://courses.ineuron.ai/Mathematics-for-Machine-Learning'}, {'Machine Learning Live Interview Preparation': 'https://courses.ineuron.ai/Machine-Learning-Live-Interview-Preparation'}, {'Machine Learning Live Class': 'https://courses.ineuron.ai/Machine-Learning-Live-Class'}, {'ParlAI Chatbot': 'https://courses.ineuron.ai/ParlAI-Chatbot'}, {'Machine Learning Masters': 'https://courses.ineuron.ai/Machine-Learning-Masters'}, {'Data Science All Projects': 'https://courses.ineuron.ai/Data-Science-All-Projects'}, {'ML Interview Questions': 'https://courses.ineuron.ai/ML-Interview-Questions'}, {'Machine Learning': 'https://courses.ineuron.ai/Machine-Learning'}, {'Machine Learning Projects': 'https://courses.ineuron.ai/Machine-Learning-Projects'}, {'MLDL': 'https://courses.ineuron.ai/MLDL'}, {'30 days Fast Track Data Science Interview Preparation': 'https://courses.ineuron.ai/30-days-Fast-Track-Data-Science-Interview-Preparation'}, {'Machine Learning And Deep Learning Masters': 'https://courses.ineuron.ai/Machine-Learning-And-Deep-Learning-Masters'}, {'Deep Learning Live Class': 'https://courses.ineuron.ai/Deep-Learning-Live-Class'}, {'PyTorch Basics': 'https://courses.ineuron.ai/PyTorch-Basics'}, {'ANN (artificial Neural Network) Live Class': 'https://courses.ineuron.ai/ANN-(artificial-Neural-Network)-Live-Class'}, {'ONNX': 'https://courses.ineuron.ai/ONNX'}, {'JAX': 'https://courses.ineuron.ai/JAX'}, {'Recommender System': 'https://courses.ineuron.ai/Recommender-System'}, {'Deep Learning ANN': 'https://courses.ineuron.ai/Deep-Learning-ANN'}, {'DLCVNLP': 'https://courses.ineuron.ai/DLCVNLP'}, {'Deep Learning With Computer Vision and Advanced NLP': 'https://courses.ineuron.ai/Deep-Learning-With-Computer-Vision-and-Advanced-NLP'}, {'Artificial Neural Network': 'https://courses.ineuron.ai/Artificial-Neural-Network'}, {'Computer Vision Projects Live Class': 'https://courses.ineuron.ai/Computer-Vision-Projects-Live-Class'}, {'Computer Vision Live Class': 'https://courses.ineuron.ai/Computer-Vision-Live-Class'}, {'Computer Vision Interview Preparation Live Class': 'https://courses.ineuron.ai/Computer-Vision-Interview-Preparation-Live-Class'}, {'OpenCV Job Preparation': 'https://courses.ineuron.ai/OpenCV-Job-Preparation'}, {'OpenCV Projects': 'https://courses.ineuron.ai/OpenCV-Projects'}, {'Computer Vision Projects': 'https://courses.ineuron.ai/Computer-Vision-Projects'}, {'Computer Vision': 'https://courses.ineuron.ai/Computer-Vision'}, {'End to End Object Detection': 'https://courses.ineuron.ai/End-to-End-Object-Detection'}, {'Fast Track Computer Vision': 'https://courses.ineuron.ai/Fast-Track-Computer-Vision'}, {'Advance Computer Vision': 'https://courses.ineuron.ai/Advance-Computer-Vision'}, {'OpenCV': 'https://courses.ineuron.ai/OpenCV'}, {'ELK Stack': 'https://courses.ineuron.ai/ELK-Stack'}, {'AIOPS Live Projects': 'https://courses.ineuron.ai/AIOPS-Live-Projects'}, {'Airflow Live Class': 'https://courses.ineuron.ai/Airflow-Live-Class'}, {'MLOPS Live Class': 'https://courses.ineuron.ai/MLOPS-Live-Class'}, {'AIOps Interview Questions': 'https://courses.ineuron.ai/AIOps-Interview-Questions'}, {'AIOps': 'https://courses.ineuron.ai/AIOps'}, {'Introduction to AIOps': 'https://courses.ineuron.ai/Introduction-to-AIOps'}, {'AI Operations': 'https://courses.ineuron.ai/AI-Operations'}, {'Fast Track AIOps': 'https://courses.ineuron.ai/Fast-Track-AIOps'}, {'AIOps Projects': 'https://courses.ineuron.ai/AIOps-Projects'}, {'Statistics Live Class': 'https://courses.ineuron.ai/Statistics-Live-Class'}, {'Stats for Data Science': 'https://courses.ineuron.ai/Stats-for-Data-Science'}, {'Stats for Beginners': 'https://courses.ineuron.ai/Stats-for-Beginners'}, {'Statistics': 'https://courses.ineuron.ai/Statistics'}, {'NLP Project Live Class': 'https://courses.ineuron.ai/NLP-Project-Live-Class'}, {'Chatbot Live Class': 'https://courses.ineuron.ai/Chatbot-Live-Class'}, {'Natural Language Processing': 'https://courses.ineuron.ai/Natural-Language-Processing'}, {'NLP Interview Questions': 'https://courses.ineuron.ai/NLP-Interview-Questions'}, {'RASA': 'https://courses.ineuron.ai/RASA'}, {'Fast Track NLP Class': 'https://courses.ineuron.ai/Fast-Track-NLP-Class'}, {'NLP Projects': 'https://courses.ineuron.ai/NLP-Projects'}, {'Azure Luis': 'https://courses.ineuron.ai/Azure-Luis'}, {'Google Dialogflow': 'https://courses.ineuron.ai/Google-Dialogflow'}, {'Amazon Lex': 'https://courses.ineuron.ai/Amazon-Lex'}, {'Power BI Live Class': 'https://courses.ineuron.ai/Power-BI-Live-Class'}, {'Tableau Course': 'https://courses.ineuron.ai/Tableau-Course'}, {'Power BI Course': 'https://courses.ineuron.ai/Power-BI-Course'}, {'Alteryx Course': 'https://courses.ineuron.ai/Alteryx-Course'}, {'Power Automate': 'https://courses.ineuron.ai/Power-Automate'}, {'R Shiny': 'https://courses.ineuron.ai/R-Shiny'}, {'DOMO BI': 'https://courses.ineuron.ai/DOMO-BI'}, {'Fivetran': 'https://courses.ineuron.ai/Fivetran'}, {'DBT': 'https://courses.ineuron.ai/DBT'}, {'Alteryx': 'https://courses.ineuron.ai/Alteryx'}, {'RPA Live Class': 'https://courses.ineuron.ai/RPA-Live-Class'}, {'Marketing Mix Modelling': 'https://courses.ineuron.ai/Marketing-Mix-Modelling'}, {'Tibco Spotfire': 'https://courses.ineuron.ai/Tibco-Spotfire'}, {'AWS QuickSight': 'https://courses.ineuron.ai/AWS-QuickSight'}, {'Trifacta': 'https://courses.ineuron.ai/Trifacta'}, {'Microsoft PowerApps': 'https://courses.ineuron.ai/Microsoft-PowerApps'}, {'Data Processing using Dask': 'https://courses.ineuron.ai/Data-Processing-using-Dask'}, {'Qlik Sense': 'https://courses.ineuron.ai/Qlik-Sense'}, {'Fast Track Big Data Masters': 'https://courses.ineuron.ai/Fast-Track-Big-Data-Masters'}, {'Fast Track Business Analytics': 'https://courses.ineuron.ai/Fast-Track-Business-Analytics'}, {'Power BI Projects': 'https://courses.ineuron.ai/Power-BI-Projects'}, {'Power BI': 'https://courses.ineuron.ai/Power-BI'}, {'Advance Excel': 'https://courses.ineuron.ai/Advance-Excel'}, {'Tableau': 'https://courses.ineuron.ai/Tableau'}, {'Business Analytics': 'https://courses.ineuron.ai/Business-Analytics'}, {'Business Analytics Masters with 3 month Internship': 'https://courses.ineuron.ai/Business-Analytics-Masters-with-3-month-Internship'}, {'Tableau Job Preparation': 'https://courses.ineuron.ai/Tableau-Job-Preparation'}, {'Excel Job Preparation': 'https://courses.ineuron.ai/Excel-Job-Preparation'}, {'Tableau Projects': 'https://courses.ineuron.ai/Tableau-Projects'}, {'Excel': 'https://courses.ineuron.ai/Excel'}, {'Big Data Live Class': 'https://courses.ineuron.ai/Big-Data-Live-Class'}, {'Airflow': 'https://courses.ineuron.ai/Airflow'}, {'Big Data': 'https://courses.ineuron.ai/Big-Data'}, {'Big Data Masters': 'https://courses.ineuron.ai/Big-Data-Masters'}, {'Big Data Job preparation': 'https://courses.ineuron.ai/Big-Data-Job-preparation'}, {'Big Data Projects': 'https://courses.ineuron.ai/Big-Data-Projects'}], 'Programming': [{'DSA with Python': 'https://courses.ineuron.ai/DSA-with-Python'}, {'DSA with C++': 'https://courses.ineuron.ai/DSA-with-C++'}, {'DSA with Java': 'https://courses.ineuron.ai/DSA-with-Java'}, {'System Design': 'https://courses.ineuron.ai/System-Design'}, {'MAANG Interview Preparation Live Class': 'https://courses.ineuron.ai/MAANG-Interview-Preparation-Live-Class'}, {'Data structure and Algorithm Live Interview Preparation': 'https://courses.ineuron.ai/Data-structure-and-Algorithm-Live-Interview-Preparation'}, {'Data Structures and Algorithms Live Class': 'https://courses.ineuron.ai/Data-Structures-and-Algorithms-Live-Class'}, {'Data Structures and Algorithms using python': 'https://courses.ineuron.ai/Data-Structures-and-Algorithms-using-python'}, {'Interview ready DSA course in Python': 'https://courses.ineuron.ai/Interview-ready-DSA-course-in-Python'}, {'Data Structure and Algorithm Job Preparation': 'https://courses.ineuron.ai/Data-Structure-and-Algorithm-Job-Preparation'}, {'Data Structure and Algorithm Projects': 'https://courses.ineuron.ai/Data-Structure-and-Algorithm-Projects'}, {'Data Structure and Algorithms with competitive programming and preparation': 'https://courses.ineuron.ai/Data-Structure-and-Algorithms-with-competitive-programming-and-preparation'}, {'Complete Interview Preparation For Data Structure and Algorithm in Python': 'https://courses.ineuron.ai/Complete-Interview-Preparation-For-Data-Structure-and-Algorithm-in-Python'}, {'FastAPI': 'https://courses.ineuron.ai/FastAPI'}, {'Game Development': 'https://courses.ineuron.ai/Game-Development'}, {'Django Live Class': 'https://courses.ineuron.ai/Django-Live-Class'}, {'Mathematics using Python': 'https://courses.ineuron.ai/Mathematics-using-Python'}, {'Python advance with projects': 'https://courses.ineuron.ai/Python-advance-with-projects'}, {'Fast Track Python': 'https://courses.ineuron.ai/Fast-Track-Python'}, {'C++ Bootcamp': 'https://courses.ineuron.ai/C++-Bootcamp'}, {'C++ Job Preparation': 'https://courses.ineuron.ai/C++-Job-Preparation'}, {'R Programming Projects': 'https://courses.ineuron.ai/R-Programming-Projects'}, {'R Programming Job Preparation': 'https://courses.ineuron.ai/R-Programming-Job-Preparation'}, {'R Programming': 'https://courses.ineuron.ai/R-Programming'}, {'Java Bootcamp': 'https://courses.ineuron.ai/Java-Bootcamp'}, {'C Programming': 'https://courses.ineuron.ai/C-Programming'}], 'Development': [{'Pro Backend Developer': 'https://courses.ineuron.ai/Pro-Backend-Developer'}, {'Complete ReactJS Developer Bootcamp': 'https://courses.ineuron.ai/Complete-ReactJS-Developer-Bootcamp'}, {'Complete Bootstrap - 5 Projects': 'https://courses.ineuron.ai/Complete-Bootstrap---5-Projects'}, {'Django Course': 'https://courses.ineuron.ai/Django-Course'}, {'Back-end development with Django-8 Projects': 'https://courses.ineuron.ai/Back-end-development-with-Django-8-Projects'}, {'Vuejs': 'https://courses.ineuron.ai/Vuejs'}, {'Node JS Live Class': 'https://courses.ineuron.ai/Node-JS-Live-Class'}, {'Complete Backend development with Nodejs': 'https://courses.ineuron.ai/Complete-Backend-development-with-Nodejs'}, {'Web Development Interview Live Class': 'https://courses.ineuron.ai/Web-Development-Interview-Live-Class'}, {'Web Designing using Wordpress': 'https://courses.ineuron.ai/Web-Designing-using-Wordpress'}, {'Angular': 'https://courses.ineuron.ai/Angular'}, {'Django': 'https://courses.ineuron.ai/Django'}, {'Mern Stack Projects': 'https://courses.ineuron.ai/Mern-Stack-Projects'}, {'Mern Stack': 'https://courses.ineuron.ai/Mern-Stack'}, {'Mern stack job preparation': 'https://courses.ineuron.ai/Mern-stack-job-preparation'}, {'Blockchain Live Class': 'https://courses.ineuron.ai/Blockchain-Live-Class'}, {'Solidity Live Class': 'https://courses.ineuron.ai/Solidity-Live-Class'}, {'NFT Live Class': 'https://courses.ineuron.ai/NFT-Live-Class'}, {'Solidity': 'https://courses.ineuron.ai/Solidity'}, {'Blockchain': 'https://courses.ineuron.ai/Blockchain'}, {'Android Programming with Machine Learning Apps': 'https://courses.ineuron.ai/Android-Programming-with-Machine-Learning-Apps'}, {'Android Chat app with FireBase': 'https://courses.ineuron.ai/Android-Chat-app-with-FireBase'}, {'React Native': 'https://courses.ineuron.ai/React-Native'}, {'Kotlin': 'https://courses.ineuron.ai/Kotlin'}, {'Dart Programming': 'https://courses.ineuron.ai/Dart-Programming'}, {'Flutter': 'https://courses.ineuron.ai/Flutter'}, {'DART': 'https://courses.ineuron.ai/DART'}, {'Android': 'https://courses.ineuron.ai/Android'}, {'Android Job Preparation': 'https://courses.ineuron.ai/Android-Job-Preparation'}, {'RPA - UiPath': 'https://courses.ineuron.ai/RPA---UiPath'}, {'AI in edge devices Live Class': 'https://courses.ineuron.ai/AI-in-edge-devices-Live-Class'}, {'IOT Live Class': 'https://courses.ineuron.ai/IOT-Live-Class'}, {'Robotics Live Class': 'https://courses.ineuron.ai/Robotics-Live-Class'}, {'Jetson Xavier Live Class': 'https://courses.ineuron.ai/Jetson-Xavier-Live-Class'}, {'Jetson Nano Live Class': 'https://courses.ineuron.ai/Jetson-Nano-Live-Class'}, {'Drone Live Class': 'https://courses.ineuron.ai/Drone-Live-Class'}, {'Arduino Live Class': 'https://courses.ineuron.ai/Arduino-Live-Class'}, {'Spark AR Live Class': 'https://courses.ineuron.ai/Spark-AR-Live-Class'}, {'MySQL': 'https://courses.ineuron.ai/MySQL'}, {'Stored Procedures in SQL': 'https://courses.ineuron.ai/Stored-Procedures-in-SQL'}, {'Data Warehouse': 'https://courses.ineuron.ai/Data-Warehouse'}, {'SQL Server Integration Services': 'https://courses.ineuron.ai/SQL-Server-Integration-Services'}, {'PL SQL': 'https://courses.ineuron.ai/PL-SQL'}, {'PostgreSQL': 'https://courses.ineuron.ai/PostgreSQL'}, {'MS SQL Server and T-SQL': 'https://courses.ineuron.ai/MS-SQL-Server-and-T-SQL'}, {'NoSQL Database Live Class': 'https://courses.ineuron.ai/NoSQL-Database-Live-Class'}, {'SQL Interview Preparation Live Class': 'https://courses.ineuron.ai/SQL-Interview-Preparation-Live-Class'}, {'MongoDB Live Class': 'https://courses.ineuron.ai/MongoDB-Live-Class'}, {'SQL': 'https://courses.ineuron.ai/SQL'}, {'SQL Projects': 'https://courses.ineuron.ai/SQL-Projects'}, {'SQL Job Preparation': 'https://courses.ineuron.ai/SQL-Job-Preparation'}], 'Cloud': [{'AWS Data Engineering': 'https://courses.ineuron.ai/AWS-Data-Engineering'}, {'AWS Architect for Real World': 'https://courses.ineuron.ai/AWS-Architect-for-Real-World'}, {'AWS Interview Preparation': 'https://courses.ineuron.ai/AWS-Interview-Preparation'}, {'AWS Sagemaker': 'https://courses.ineuron.ai/AWS-Sagemaker'}, {'AWS Cloud Masters': 'https://courses.ineuron.ai/AWS-Cloud-Masters'}, {'AWS': 'https://courses.ineuron.ai/AWS'}, {'Google Cloud Platform': 'https://courses.ineuron.ai/Google-Cloud-Platform'}, {'GCP Interview': 'https://courses.ineuron.ai/GCP-Interview'}, {'GCP Projects': 'https://courses.ineuron.ai/GCP-Projects'}, {'Google Cloud Platform Version 2': 'https://courses.ineuron.ai/Google-Cloud-Platform-Version-2'}, {'Azure Synapse': 'https://courses.ineuron.ai/Azure-Synapse'}, {'Azure Databricks': 'https://courses.ineuron.ai/Azure-Databricks'}, {'Azure Data Factory': 'https://courses.ineuron.ai/Azure-Data-Factory'}, {'Azure Data Engineering': 'https://courses.ineuron.ai/Azure-Data-Engineering'}, {'Azure Interview Preparation Live Class': 'https://courses.ineuron.ai/Azure-Interview-Preparation-Live-Class'}, {'Azure Certification Road Map': 'https://courses.ineuron.ai/Azure-Certification-Road-Map'}, {'Azure Fundamentals': 'https://courses.ineuron.ai/Azure-Fundamentals'}, {'Azure Data scientist Associate DP100': 'https://courses.ineuron.ai/Azure-Data-scientist-Associate-DP100'}], 'Marketing': [{'Email Marketing': 'https://courses.ineuron.ai/Email-Marketing'}, {'Digital Marketing Projects': 'https://courses.ineuron.ai/Digital-Marketing-Projects'}, {'Digital Marketing': 'https://courses.ineuron.ai/Digital-Marketing'}, {'Digital Marketing Job Preparation': 'https://courses.ineuron.ai/Digital-Marketing-Job-Preparation'}]}}\n"
     ]
    }
   ],
   "source": [
    "all_data = {}\n",
    "main_course_data = []\n",
    "\n",
    "for i in data['courses']:\n",
    "    print('Now going on : ', list(i.keys())[0], ' || ',  list(i.values())[0], '\\n')\n",
    "    driver.get(list(i.values())[0])\n",
    "    scroll_to_end(driver)\n",
    "    sub_a_tags = driver.find_elements_by_tag_name(\"a\")\n",
    "    \n",
    "    main_course_name = []\n",
    "    for a_elem in sub_a_tags:\n",
    "        try:\n",
    "            if len(a_elem.find_elements_by_tag_name(\"h5\")) > 0: \n",
    "                if len(a_elem.find_elements_by_tag_name(\"h5\")[0].text) > 0:\n",
    "#                     print(a_elem.find_elements_by_tag_name(\"h5\")[0].text, end=' || ')\n",
    "#                     print(driver.find_element_by_link_text(a_elem.find_elements_by_tag_name(\"h5\")[0].text).get_attribute(\"href\"))\n",
    "                    \n",
    "                    main_course_name.append({a_elem.find_elements_by_tag_name(\"h5\")[0].text : driver.find_element_by_link_text(a_elem.find_elements_by_tag_name(\"h5\")[0].text).get_attribute(\"href\")})\n",
    "        except Exception as e:\n",
    "            pass\n",
    "        all_data[list(i.keys())[0]] = main_course_name\n",
    "#         main_course_data.append(main_course_name) \n",
    "\n",
    "data['sub_courses'] = all_data\n",
    "print(data)"
   ]
  },
  {
   "cell_type": "code",
   "execution_count": 62,
   "metadata": {
    "scrolled": true
   },
   "outputs": [
    {
     "name": "stdout",
     "output_type": "stream",
     "text": [
      "{'courses': [{'Data-Science': 'https://courses.ineuron.ai/category/Data-Science'},\n",
      "             {'Programming': 'https://courses.ineuron.ai/category/Programming'},\n",
      "             {'Development': 'https://courses.ineuron.ai/category/Development'},\n",
      "             {'Cloud': 'https://courses.ineuron.ai/category/Cloud'},\n",
      "             {'Marketing': 'https://courses.ineuron.ai/category/Marketing'}],\n",
      " 'sub_courses': {'Cloud': [{'AWS Data Engineering': 'https://courses.ineuron.ai/AWS-Data-Engineering'},\n",
      "                           {'AWS Architect for Real World': 'https://courses.ineuron.ai/AWS-Architect-for-Real-World'},\n",
      "                           {'AWS Interview Preparation': 'https://courses.ineuron.ai/AWS-Interview-Preparation'},\n",
      "                           {'AWS Sagemaker': 'https://courses.ineuron.ai/AWS-Sagemaker'},\n",
      "                           {'AWS Cloud Masters': 'https://courses.ineuron.ai/AWS-Cloud-Masters'},\n",
      "                           {'AWS': 'https://courses.ineuron.ai/AWS'},\n",
      "                           {'Google Cloud Platform': 'https://courses.ineuron.ai/Google-Cloud-Platform'},\n",
      "                           {'GCP Interview': 'https://courses.ineuron.ai/GCP-Interview'},\n",
      "                           {'GCP Projects': 'https://courses.ineuron.ai/GCP-Projects'},\n",
      "                           {'Google Cloud Platform Version 2': 'https://courses.ineuron.ai/Google-Cloud-Platform-Version-2'},\n",
      "                           {'Azure Synapse': 'https://courses.ineuron.ai/Azure-Synapse'},\n",
      "                           {'Azure Databricks': 'https://courses.ineuron.ai/Azure-Databricks'},\n",
      "                           {'Azure Data Factory': 'https://courses.ineuron.ai/Azure-Data-Factory'},\n",
      "                           {'Azure Data Engineering': 'https://courses.ineuron.ai/Azure-Data-Engineering'},\n",
      "                           {'Azure Interview Preparation Live Class': 'https://courses.ineuron.ai/Azure-Interview-Preparation-Live-Class'},\n",
      "                           {'Azure Certification Road Map': 'https://courses.ineuron.ai/Azure-Certification-Road-Map'},\n",
      "                           {'Azure Fundamentals': 'https://courses.ineuron.ai/Azure-Fundamentals'},\n",
      "                           {'Azure Data scientist Associate DP100': 'https://courses.ineuron.ai/Azure-Data-scientist-Associate-DP100'}],\n",
      "                 'Data-Science': [{'Full Stack Data Science Bootcamp': 'https://courses.ineuron.ai/Full-Stack-Data-Science-Bootcamp'},\n",
      "                                  {'Architecture and System Design Live Class': 'https://courses.ineuron.ai/Architecture-and-System-Design-Live-Class'},\n",
      "                                  {'FullStack Developer Interview Preparation Live Class': 'https://courses.ineuron.ai/FullStack-Developer-Interview-Preparation-Live-Class'},\n",
      "                                  {'Data Science Masters': 'https://courses.ineuron.ai/Data-Science-Masters'},\n",
      "                                  {'Full Stack Data Science': 'https://courses.ineuron.ai/Full-Stack-Data-Science'},\n",
      "                                  {\"Full Stack Data Science Nov'21 Batch\": \"https://courses.ineuron.ai/Full-Stack-Data-Science-Nov'21-Batch\"},\n",
      "                                  {\"Full Stack Data Science Feb'21 Batch\": \"https://courses.ineuron.ai/Full-Stack-Data-Science-Feb'21-Batch\"},\n",
      "                                  {'DSAR': 'https://courses.ineuron.ai/DSAR'},\n",
      "                                  {'Graph ML': 'https://courses.ineuron.ai/Graph-ML'},\n",
      "                                  {'Streamlit': 'https://courses.ineuron.ai/Streamlit'},\n",
      "                                  {'Dask': 'https://courses.ineuron.ai/Dask'},\n",
      "                                  {'Mathematics for Machine Learning': 'https://courses.ineuron.ai/Mathematics-for-Machine-Learning'},\n",
      "                                  {'Machine Learning Live Interview Preparation': 'https://courses.ineuron.ai/Machine-Learning-Live-Interview-Preparation'},\n",
      "                                  {'Machine Learning Live Class': 'https://courses.ineuron.ai/Machine-Learning-Live-Class'},\n",
      "                                  {'ParlAI Chatbot': 'https://courses.ineuron.ai/ParlAI-Chatbot'},\n",
      "                                  {'Machine Learning Masters': 'https://courses.ineuron.ai/Machine-Learning-Masters'},\n",
      "                                  {'Data Science All Projects': 'https://courses.ineuron.ai/Data-Science-All-Projects'},\n",
      "                                  {'ML Interview Questions': 'https://courses.ineuron.ai/ML-Interview-Questions'},\n",
      "                                  {'Machine Learning': 'https://courses.ineuron.ai/Machine-Learning'},\n",
      "                                  {'Machine Learning Projects': 'https://courses.ineuron.ai/Machine-Learning-Projects'},\n",
      "                                  {'MLDL': 'https://courses.ineuron.ai/MLDL'},\n",
      "                                  {'30 days Fast Track Data Science Interview Preparation': 'https://courses.ineuron.ai/30-days-Fast-Track-Data-Science-Interview-Preparation'},\n",
      "                                  {'Machine Learning And Deep Learning Masters': 'https://courses.ineuron.ai/Machine-Learning-And-Deep-Learning-Masters'},\n",
      "                                  {'Deep Learning Live Class': 'https://courses.ineuron.ai/Deep-Learning-Live-Class'},\n",
      "                                  {'PyTorch Basics': 'https://courses.ineuron.ai/PyTorch-Basics'},\n",
      "                                  {'ANN (artificial Neural Network) Live Class': 'https://courses.ineuron.ai/ANN-(artificial-Neural-Network)-Live-Class'},\n",
      "                                  {'ONNX': 'https://courses.ineuron.ai/ONNX'},\n",
      "                                  {'JAX': 'https://courses.ineuron.ai/JAX'},\n",
      "                                  {'Recommender System': 'https://courses.ineuron.ai/Recommender-System'},\n",
      "                                  {'Deep Learning ANN': 'https://courses.ineuron.ai/Deep-Learning-ANN'},\n",
      "                                  {'DLCVNLP': 'https://courses.ineuron.ai/DLCVNLP'},\n",
      "                                  {'Deep Learning With Computer Vision and Advanced NLP': 'https://courses.ineuron.ai/Deep-Learning-With-Computer-Vision-and-Advanced-NLP'},\n",
      "                                  {'Artificial Neural Network': 'https://courses.ineuron.ai/Artificial-Neural-Network'},\n",
      "                                  {'Computer Vision Projects Live Class': 'https://courses.ineuron.ai/Computer-Vision-Projects-Live-Class'},\n",
      "                                  {'Computer Vision Live Class': 'https://courses.ineuron.ai/Computer-Vision-Live-Class'},\n",
      "                                  {'Computer Vision Interview Preparation Live Class': 'https://courses.ineuron.ai/Computer-Vision-Interview-Preparation-Live-Class'},\n",
      "                                  {'OpenCV Job Preparation': 'https://courses.ineuron.ai/OpenCV-Job-Preparation'},\n",
      "                                  {'OpenCV Projects': 'https://courses.ineuron.ai/OpenCV-Projects'},\n",
      "                                  {'Computer Vision Projects': 'https://courses.ineuron.ai/Computer-Vision-Projects'},\n",
      "                                  {'Computer Vision': 'https://courses.ineuron.ai/Computer-Vision'},\n",
      "                                  {'End to End Object Detection': 'https://courses.ineuron.ai/End-to-End-Object-Detection'},\n",
      "                                  {'Fast Track Computer Vision': 'https://courses.ineuron.ai/Fast-Track-Computer-Vision'},\n",
      "                                  {'Advance Computer Vision': 'https://courses.ineuron.ai/Advance-Computer-Vision'},\n",
      "                                  {'OpenCV': 'https://courses.ineuron.ai/OpenCV'},\n",
      "                                  {'ELK Stack': 'https://courses.ineuron.ai/ELK-Stack'},\n",
      "                                  {'AIOPS Live Projects': 'https://courses.ineuron.ai/AIOPS-Live-Projects'},\n",
      "                                  {'Airflow Live Class': 'https://courses.ineuron.ai/Airflow-Live-Class'},\n",
      "                                  {'MLOPS Live Class': 'https://courses.ineuron.ai/MLOPS-Live-Class'},\n",
      "                                  {'AIOps Interview Questions': 'https://courses.ineuron.ai/AIOps-Interview-Questions'},\n",
      "                                  {'AIOps': 'https://courses.ineuron.ai/AIOps'},\n",
      "                                  {'Introduction to AIOps': 'https://courses.ineuron.ai/Introduction-to-AIOps'},\n",
      "                                  {'AI Operations': 'https://courses.ineuron.ai/AI-Operations'},\n",
      "                                  {'Fast Track AIOps': 'https://courses.ineuron.ai/Fast-Track-AIOps'},\n",
      "                                  {'AIOps Projects': 'https://courses.ineuron.ai/AIOps-Projects'},\n",
      "                                  {'Statistics Live Class': 'https://courses.ineuron.ai/Statistics-Live-Class'},\n",
      "                                  {'Stats for Data Science': 'https://courses.ineuron.ai/Stats-for-Data-Science'},\n",
      "                                  {'Stats for Beginners': 'https://courses.ineuron.ai/Stats-for-Beginners'},\n",
      "                                  {'Statistics': 'https://courses.ineuron.ai/Statistics'},\n",
      "                                  {'NLP Project Live Class': 'https://courses.ineuron.ai/NLP-Project-Live-Class'},\n",
      "                                  {'Chatbot Live Class': 'https://courses.ineuron.ai/Chatbot-Live-Class'},\n",
      "                                  {'Natural Language Processing': 'https://courses.ineuron.ai/Natural-Language-Processing'},\n",
      "                                  {'NLP Interview Questions': 'https://courses.ineuron.ai/NLP-Interview-Questions'},\n",
      "                                  {'RASA': 'https://courses.ineuron.ai/RASA'},\n",
      "                                  {'Fast Track NLP Class': 'https://courses.ineuron.ai/Fast-Track-NLP-Class'},\n",
      "                                  {'NLP Projects': 'https://courses.ineuron.ai/NLP-Projects'},\n",
      "                                  {'Azure Luis': 'https://courses.ineuron.ai/Azure-Luis'},\n",
      "                                  {'Google Dialogflow': 'https://courses.ineuron.ai/Google-Dialogflow'},\n",
      "                                  {'Amazon Lex': 'https://courses.ineuron.ai/Amazon-Lex'},\n",
      "                                  {'Power BI Live Class': 'https://courses.ineuron.ai/Power-BI-Live-Class'},\n",
      "                                  {'Tableau Course': 'https://courses.ineuron.ai/Tableau-Course'},\n",
      "                                  {'Power BI Course': 'https://courses.ineuron.ai/Power-BI-Course'},\n",
      "                                  {'Alteryx Course': 'https://courses.ineuron.ai/Alteryx-Course'},\n",
      "                                  {'Power Automate': 'https://courses.ineuron.ai/Power-Automate'},\n",
      "                                  {'R Shiny': 'https://courses.ineuron.ai/R-Shiny'},\n",
      "                                  {'DOMO BI': 'https://courses.ineuron.ai/DOMO-BI'},\n",
      "                                  {'Fivetran': 'https://courses.ineuron.ai/Fivetran'},\n",
      "                                  {'DBT': 'https://courses.ineuron.ai/DBT'},\n",
      "                                  {'Alteryx': 'https://courses.ineuron.ai/Alteryx'},\n",
      "                                  {'RPA Live Class': 'https://courses.ineuron.ai/RPA-Live-Class'},\n",
      "                                  {'Marketing Mix Modelling': 'https://courses.ineuron.ai/Marketing-Mix-Modelling'},\n",
      "                                  {'Tibco Spotfire': 'https://courses.ineuron.ai/Tibco-Spotfire'},\n",
      "                                  {'AWS QuickSight': 'https://courses.ineuron.ai/AWS-QuickSight'},\n",
      "                                  {'Trifacta': 'https://courses.ineuron.ai/Trifacta'},\n",
      "                                  {'Microsoft PowerApps': 'https://courses.ineuron.ai/Microsoft-PowerApps'},\n",
      "                                  {'Data Processing using Dask': 'https://courses.ineuron.ai/Data-Processing-using-Dask'},\n",
      "                                  {'Qlik Sense': 'https://courses.ineuron.ai/Qlik-Sense'},\n",
      "                                  {'Fast Track Big Data Masters': 'https://courses.ineuron.ai/Fast-Track-Big-Data-Masters'},\n",
      "                                  {'Fast Track Business Analytics': 'https://courses.ineuron.ai/Fast-Track-Business-Analytics'},\n",
      "                                  {'Power BI Projects': 'https://courses.ineuron.ai/Power-BI-Projects'},\n",
      "                                  {'Power BI': 'https://courses.ineuron.ai/Power-BI'},\n",
      "                                  {'Advance Excel': 'https://courses.ineuron.ai/Advance-Excel'},\n",
      "                                  {'Tableau': 'https://courses.ineuron.ai/Tableau'},\n",
      "                                  {'Business Analytics': 'https://courses.ineuron.ai/Business-Analytics'},\n",
      "                                  {'Business Analytics Masters with 3 month Internship': 'https://courses.ineuron.ai/Business-Analytics-Masters-with-3-month-Internship'},\n",
      "                                  {'Tableau Job Preparation': 'https://courses.ineuron.ai/Tableau-Job-Preparation'},\n",
      "                                  {'Excel Job Preparation': 'https://courses.ineuron.ai/Excel-Job-Preparation'},\n",
      "                                  {'Tableau Projects': 'https://courses.ineuron.ai/Tableau-Projects'},\n",
      "                                  {'Excel': 'https://courses.ineuron.ai/Excel'},\n",
      "                                  {'Big Data Live Class': 'https://courses.ineuron.ai/Big-Data-Live-Class'},\n",
      "                                  {'Airflow': 'https://courses.ineuron.ai/Airflow'},\n",
      "                                  {'Big Data': 'https://courses.ineuron.ai/Big-Data'},\n",
      "                                  {'Big Data Masters': 'https://courses.ineuron.ai/Big-Data-Masters'},\n",
      "                                  {'Big Data Job preparation': 'https://courses.ineuron.ai/Big-Data-Job-preparation'},\n",
      "                                  {'Big Data Projects': 'https://courses.ineuron.ai/Big-Data-Projects'}],\n",
      "                 'Development': [{'Pro Backend Developer': 'https://courses.ineuron.ai/Pro-Backend-Developer'},\n",
      "                                 {'Complete ReactJS Developer Bootcamp': 'https://courses.ineuron.ai/Complete-ReactJS-Developer-Bootcamp'},\n",
      "                                 {'Complete Bootstrap - 5 Projects': 'https://courses.ineuron.ai/Complete-Bootstrap---5-Projects'},\n",
      "                                 {'Django Course': 'https://courses.ineuron.ai/Django-Course'},\n",
      "                                 {'Back-end development with Django-8 Projects': 'https://courses.ineuron.ai/Back-end-development-with-Django-8-Projects'},\n",
      "                                 {'Vuejs': 'https://courses.ineuron.ai/Vuejs'},\n",
      "                                 {'Node JS Live Class': 'https://courses.ineuron.ai/Node-JS-Live-Class'},\n",
      "                                 {'Complete Backend development with Nodejs': 'https://courses.ineuron.ai/Complete-Backend-development-with-Nodejs'},\n",
      "                                 {'Web Development Interview Live Class': 'https://courses.ineuron.ai/Web-Development-Interview-Live-Class'},\n",
      "                                 {'Web Designing using Wordpress': 'https://courses.ineuron.ai/Web-Designing-using-Wordpress'},\n",
      "                                 {'Angular': 'https://courses.ineuron.ai/Angular'},\n",
      "                                 {'Django': 'https://courses.ineuron.ai/Django'},\n",
      "                                 {'Mern Stack Projects': 'https://courses.ineuron.ai/Mern-Stack-Projects'},\n",
      "                                 {'Mern Stack': 'https://courses.ineuron.ai/Mern-Stack'},\n",
      "                                 {'Mern stack job preparation': 'https://courses.ineuron.ai/Mern-stack-job-preparation'},\n",
      "                                 {'Blockchain Live Class': 'https://courses.ineuron.ai/Blockchain-Live-Class'},\n",
      "                                 {'Solidity Live Class': 'https://courses.ineuron.ai/Solidity-Live-Class'},\n",
      "                                 {'NFT Live Class': 'https://courses.ineuron.ai/NFT-Live-Class'},\n",
      "                                 {'Solidity': 'https://courses.ineuron.ai/Solidity'},\n",
      "                                 {'Blockchain': 'https://courses.ineuron.ai/Blockchain'},\n",
      "                                 {'Android Programming with Machine Learning Apps': 'https://courses.ineuron.ai/Android-Programming-with-Machine-Learning-Apps'},\n",
      "                                 {'Android Chat app with FireBase': 'https://courses.ineuron.ai/Android-Chat-app-with-FireBase'},\n",
      "                                 {'React Native': 'https://courses.ineuron.ai/React-Native'},\n",
      "                                 {'Kotlin': 'https://courses.ineuron.ai/Kotlin'},\n",
      "                                 {'Dart Programming': 'https://courses.ineuron.ai/Dart-Programming'},\n",
      "                                 {'Flutter': 'https://courses.ineuron.ai/Flutter'},\n",
      "                                 {'DART': 'https://courses.ineuron.ai/DART'},\n",
      "                                 {'Android': 'https://courses.ineuron.ai/Android'},\n",
      "                                 {'Android Job Preparation': 'https://courses.ineuron.ai/Android-Job-Preparation'},\n",
      "                                 {'RPA - UiPath': 'https://courses.ineuron.ai/RPA---UiPath'},\n",
      "                                 {'AI in edge devices Live Class': 'https://courses.ineuron.ai/AI-in-edge-devices-Live-Class'},\n",
      "                                 {'IOT Live Class': 'https://courses.ineuron.ai/IOT-Live-Class'},\n",
      "                                 {'Robotics Live Class': 'https://courses.ineuron.ai/Robotics-Live-Class'},\n",
      "                                 {'Jetson Xavier Live Class': 'https://courses.ineuron.ai/Jetson-Xavier-Live-Class'},\n",
      "                                 {'Jetson Nano Live Class': 'https://courses.ineuron.ai/Jetson-Nano-Live-Class'},\n",
      "                                 {'Drone Live Class': 'https://courses.ineuron.ai/Drone-Live-Class'},\n",
      "                                 {'Arduino Live Class': 'https://courses.ineuron.ai/Arduino-Live-Class'},\n",
      "                                 {'Spark AR Live Class': 'https://courses.ineuron.ai/Spark-AR-Live-Class'},\n",
      "                                 {'MySQL': 'https://courses.ineuron.ai/MySQL'},\n",
      "                                 {'Stored Procedures in SQL': 'https://courses.ineuron.ai/Stored-Procedures-in-SQL'},\n",
      "                                 {'Data Warehouse': 'https://courses.ineuron.ai/Data-Warehouse'},\n",
      "                                 {'SQL Server Integration Services': 'https://courses.ineuron.ai/SQL-Server-Integration-Services'},\n",
      "                                 {'PL SQL': 'https://courses.ineuron.ai/PL-SQL'},\n",
      "                                 {'PostgreSQL': 'https://courses.ineuron.ai/PostgreSQL'},\n",
      "                                 {'MS SQL Server and T-SQL': 'https://courses.ineuron.ai/MS-SQL-Server-and-T-SQL'},\n",
      "                                 {'NoSQL Database Live Class': 'https://courses.ineuron.ai/NoSQL-Database-Live-Class'},\n",
      "                                 {'SQL Interview Preparation Live Class': 'https://courses.ineuron.ai/SQL-Interview-Preparation-Live-Class'},\n",
      "                                 {'MongoDB Live Class': 'https://courses.ineuron.ai/MongoDB-Live-Class'},\n",
      "                                 {'SQL': 'https://courses.ineuron.ai/SQL'},\n",
      "                                 {'SQL Projects': 'https://courses.ineuron.ai/SQL-Projects'},\n",
      "                                 {'SQL Job Preparation': 'https://courses.ineuron.ai/SQL-Job-Preparation'}],\n",
      "                 'Marketing': [{'Email Marketing': 'https://courses.ineuron.ai/Email-Marketing'},\n",
      "                               {'Digital Marketing Projects': 'https://courses.ineuron.ai/Digital-Marketing-Projects'},\n",
      "                               {'Digital Marketing': 'https://courses.ineuron.ai/Digital-Marketing'},\n",
      "                               {'Digital Marketing Job Preparation': 'https://courses.ineuron.ai/Digital-Marketing-Job-Preparation'}],\n",
      "                 'Programming': [{'DSA with Python': 'https://courses.ineuron.ai/DSA-with-Python'},\n",
      "                                 {'DSA with C++': 'https://courses.ineuron.ai/DSA-with-C++'},\n",
      "                                 {'DSA with Java': 'https://courses.ineuron.ai/DSA-with-Java'},\n",
      "                                 {'System Design': 'https://courses.ineuron.ai/System-Design'},\n",
      "                                 {'MAANG Interview Preparation Live Class': 'https://courses.ineuron.ai/MAANG-Interview-Preparation-Live-Class'},\n",
      "                                 {'Data structure and Algorithm Live Interview Preparation': 'https://courses.ineuron.ai/Data-structure-and-Algorithm-Live-Interview-Preparation'},\n",
      "                                 {'Data Structures and Algorithms Live Class': 'https://courses.ineuron.ai/Data-Structures-and-Algorithms-Live-Class'},\n",
      "                                 {'Data Structures and Algorithms using python': 'https://courses.ineuron.ai/Data-Structures-and-Algorithms-using-python'},\n",
      "                                 {'Interview ready DSA course in Python': 'https://courses.ineuron.ai/Interview-ready-DSA-course-in-Python'},\n",
      "                                 {'Data Structure and Algorithm Job Preparation': 'https://courses.ineuron.ai/Data-Structure-and-Algorithm-Job-Preparation'},\n",
      "                                 {'Data Structure and Algorithm Projects': 'https://courses.ineuron.ai/Data-Structure-and-Algorithm-Projects'},\n",
      "                                 {'Data Structure and Algorithms with competitive programming and preparation': 'https://courses.ineuron.ai/Data-Structure-and-Algorithms-with-competitive-programming-and-preparation'},\n",
      "                                 {'Complete Interview Preparation For Data Structure and Algorithm in Python': 'https://courses.ineuron.ai/Complete-Interview-Preparation-For-Data-Structure-and-Algorithm-in-Python'},\n",
      "                                 {'FastAPI': 'https://courses.ineuron.ai/FastAPI'},\n",
      "                                 {'Game Development': 'https://courses.ineuron.ai/Game-Development'},\n",
      "                                 {'Django Live Class': 'https://courses.ineuron.ai/Django-Live-Class'},\n",
      "                                 {'Mathematics using Python': 'https://courses.ineuron.ai/Mathematics-using-Python'},\n",
      "                                 {'Python advance with projects': 'https://courses.ineuron.ai/Python-advance-with-projects'},\n",
      "                                 {'Fast Track Python': 'https://courses.ineuron.ai/Fast-Track-Python'},\n",
      "                                 {'C++ Bootcamp': 'https://courses.ineuron.ai/C++-Bootcamp'},\n",
      "                                 {'C++ Job Preparation': 'https://courses.ineuron.ai/C++-Job-Preparation'},\n",
      "                                 {'R Programming Projects': 'https://courses.ineuron.ai/R-Programming-Projects'},\n",
      "                                 {'R Programming Job Preparation': 'https://courses.ineuron.ai/R-Programming-Job-Preparation'},\n",
      "                                 {'R Programming': 'https://courses.ineuron.ai/R-Programming'},\n",
      "                                 {'Java Bootcamp': 'https://courses.ineuron.ai/Java-Bootcamp'},\n",
      "                                 {'C Programming': 'https://courses.ineuron.ai/C-Programming'}]}}\n"
     ]
    }
   ],
   "source": [
    "import pprint\n",
    "\n",
    "pprint.pprint(data)"
   ]
  },
  {
   "cell_type": "code",
   "execution_count": null,
   "metadata": {},
   "outputs": [],
   "source": []
  },
  {
   "cell_type": "code",
   "execution_count": 57,
   "metadata": {
    "scrolled": false
   },
   "outputs": [
    {
     "name": "stderr",
     "output_type": "stream",
     "text": [
      "C:\\Users\\Kiran\\AppData\\Local\\Temp\\ipykernel_12952\\2251207258.py:13: DeprecationWarning: find_elements_by_tag_name is deprecated. Please use find_elements(by=By.TAG_NAME, value=name) instead\n",
      "  for element in driver.find_elements_by_tag_name('span'):\n",
      "C:\\Users\\Kiran\\AppData\\Local\\Temp\\ipykernel_12952\\2251207258.py:25: DeprecationWarning: find_elements_by_tag_name is deprecated. Please use find_elements(by=By.TAG_NAME, value=name) instead\n",
      "  sub_h3_tags = driver.find_elements_by_tag_name(\"h3\")\n",
      "C:\\Users\\Kiran\\AppData\\Local\\Temp\\ipykernel_12952\\2251207258.py:31: DeprecationWarning: find_elements_by_class_name is deprecated. Please use find_elements(by=By.CLASS_NAME, value=name) instead\n",
      "  sub_div_tags = driver.find_elements_by_class_name('Hero_course-desc__26_LL')\n",
      "C:\\Users\\Kiran\\AppData\\Local\\Temp\\ipykernel_12952\\2251207258.py:37: DeprecationWarning: find_elements_by_tag_name is deprecated. Please use find_elements(by=By.TAG_NAME, value=name) instead\n",
      "  sub_div1_tags = driver.find_elements_by_tag_name(\"div\")\n"
     ]
    },
    {
     "name": "stdout",
     "output_type": "stream",
     "text": [
      "Course_Title :  Full Stack Data Science Bootcamp \n",
      "\n",
      "========================================\n",
      "Course_Description :  Full-stack data science course is a live mentor-led job guaranteed certification program with a full-time one-year internship provided by iNeuron, in this course you will learn the entire stack required to work in the data science, data analytics, and big data domain, including machine learning, deep learning, computer vision NLP and Big data including MLOps and cloud infrastructure, along with real-time industry projects and product development with the iNeuron product development team, which will enable you to contribute on various levels. \n",
      "\n",
      "========================================\n",
      "Course_Title :  DSA with Python \n",
      "\n",
      "========================================\n",
      "Course_Description :  This Python course on Data Structures and Algorithms covers data structures such as linked lists, stacks and queues, binary search trees, heaps, searching, and hashing. This course covers a variety of sorting algorithms, as well as their implementation and analysis. The following topics are covered with Python implementation in this Data Structures in Python course. Analysis of Algorithms, Big O notation, Time Complexity, Singly Linked List, Doubly linked list, Trees, Heaps, Hashing and Sorting algorithms. \n",
      "\n",
      "========================================\n",
      "Course_Title :  Pro Backend Developer \n",
      "\n",
      "========================================\n",
      "Course_Description :  This course is tiled pro for a reason. In this practical hands-on course, you will learn how to build complex backend applications that can be used for any web or mobile application. Your REST API will be in production with docs, social logins, images, authentications, mail and, much more. This is a true pro backend course. \n",
      "\n",
      "========================================\n",
      "Course_Title :  AWS Data Engineering \n",
      "\n",
      "========================================\n",
      "Course_Description :  Welcome to AWS Data Engineering. If you’re new to the cloud, whether you’re in a technical or non-technical role such as finance, legal, sales, and marketing, this course will provide an understanding of fundamental AWS Cloud concepts to help you gain confidence to contribute to your organization’s cloud initiatives. This course is also the starting point to prepare for your AWS Certified Cloud Practitioner certification whenever it’s convenient for you. \n",
      "\n",
      "========================================\n"
     ]
    },
    {
     "ename": "KeyboardInterrupt",
     "evalue": "",
     "output_type": "error",
     "traceback": [
      "\u001b[1;31m---------------------------------------------------------------------------\u001b[0m",
      "\u001b[1;31mKeyboardInterrupt\u001b[0m                         Traceback (most recent call last)",
      "Input \u001b[1;32mIn [57]\u001b[0m, in \u001b[0;36m<module>\u001b[1;34m\u001b[0m\n\u001b[0;32m     19\u001b[0m                     time\u001b[38;5;241m.\u001b[39msleep(\u001b[38;5;241m5\u001b[39m)\n\u001b[0;32m     20\u001b[0m         \u001b[38;5;28;01mexcept\u001b[39;00m: \u001b[38;5;28;01mpass\u001b[39;00m\n\u001b[1;32m---> 22\u001b[0m         \u001b[43mscroll_to_end\u001b[49m\u001b[43m(\u001b[49m\u001b[43mdriver\u001b[49m\u001b[43m)\u001b[49m\n\u001b[0;32m     24\u001b[0m \u001b[38;5;66;03m# #         working\u001b[39;00m\n\u001b[0;32m     25\u001b[0m         sub_h3_tags \u001b[38;5;241m=\u001b[39m driver\u001b[38;5;241m.\u001b[39mfind_elements_by_tag_name(\u001b[38;5;124m\"\u001b[39m\u001b[38;5;124mh3\u001b[39m\u001b[38;5;124m\"\u001b[39m)        \n",
      "Input \u001b[1;32mIn [1]\u001b[0m, in \u001b[0;36mscroll_to_end\u001b[1;34m(wd)\u001b[0m\n\u001b[0;32m     19\u001b[0m \u001b[38;5;28;01mdef\u001b[39;00m \u001b[38;5;21mscroll_to_end\u001b[39m(wd):\n\u001b[0;32m     20\u001b[0m     wd\u001b[38;5;241m.\u001b[39mexecute_script(\u001b[38;5;124m\"\u001b[39m\u001b[38;5;124mwindow.scrollTo(0, document.body.scrollHeight);\u001b[39m\u001b[38;5;124m\"\u001b[39m)\n\u001b[1;32m---> 21\u001b[0m     \u001b[43mtime\u001b[49m\u001b[38;5;241;43m.\u001b[39;49m\u001b[43msleep\u001b[49m\u001b[43m(\u001b[49m\u001b[38;5;241;43m20\u001b[39;49m\u001b[43m)\u001b[49m\n",
      "\u001b[1;31mKeyboardInterrupt\u001b[0m: "
     ]
    }
   ],
   "source": [
    "for main_cour in list(data['sub_courses'].keys()):\n",
    "#     print(len(data['sub_courses'][main_cour]), data['sub_courses'][main_cour][0:1])\n",
    "    for sub_cour in data['sub_courses'][main_cour][0:1]:\n",
    "#         print(list(sub_cour.keys())[0], ' || ', list(sub_cour.values())[0])\n",
    "        \n",
    "        driver.get(list(sub_cour.values())[0])\n",
    "        try:\n",
    "            driver.maximize_window()\n",
    "        except:pass\n",
    "        \n",
    "        try:\n",
    "#             driver.find_element_by_link_text(\"View More\").click()\n",
    "            for element in driver.find_elements_by_tag_name('span'):\n",
    "#                 for element1 in element.find_elements_by_css_selector('span'):\n",
    "#                 print('element : ',element.text)\n",
    "                if element.text == 'View More':\n",
    "#                     print('element : ',element.text)\n",
    "                    element.click()\n",
    "                    time.sleep(5)\n",
    "        except: pass\n",
    "        \n",
    "        scroll_to_end(driver)\n",
    "        \n",
    "# #         working\n",
    "        sub_h3_tags = driver.find_elements_by_tag_name(\"h3\")        \n",
    "        for h3_data in sub_h3_tags:\n",
    "            print('Course_Title : ', h3_data.text, '\\n')\n",
    "            print('=='*20)\n",
    "        \n",
    "#         sub_div_tags = driver.find_elements_by_tag_name(\"div\")        \n",
    "        sub_div_tags = driver.find_elements_by_class_name('Hero_course-desc__26_LL')\n",
    "        for div_data in sub_div_tags:\n",
    "            print('Course_Description : ', div_data.text, '\\n')\n",
    "            print('=='*20)\n",
    "        \n",
    "        \n",
    "        sub_div1_tags = driver.find_elements_by_tag_name(\"div\")  \n",
    "        for div1_data in sub_div1_tags:\n",
    "#             print('div1 data text : div1_data : ', div1_data.text, '\\n')\n",
    "            \n",
    "#             NOte : try to check it with if condition\n",
    "            sub_div2_tags = div1_data.find_elements_by_class_name('CourseMeta_content__v6Hf8')\n",
    "    \n",
    "            for div2_data in sub_div2_tags[0:1]:\n",
    "#                 print('div2 data text : div2_data : ', div2_data.text, '\\n')\n",
    "                sub_div3_tags = div2_data.find_elements_by_tag_name(\"div\")  # find_elements_by_class_name('CourseLearning_card__WxYAo card')\n",
    "                for div3_data in sub_div3_tags[0:1]:\n",
    "#                     print('div3 data text : div3_data : ', div3_data.text, '\\n')\n",
    "                    \n",
    "                    sub_h4_tags = div3_data.find_elements_by_tag_name(\"h4\")  # find_elements_by_class_name('CourseLearning_card__WxYAo card')\n",
    "                    for h4_data in sub_h4_tags[0:1]:\n",
    "                        print('\\n\\nh4 data text : h4_data : ', h4_data.text, '\\n')\n",
    "                    \n",
    "                    sub_ul_tags = div3_data.find_elements_by_tag_name(\"ul\")  \n",
    "                    for ul_data in sub_ul_tags[0:1]:\n",
    "#                         print('ul data text : ul_data : ', ul_data.text, end=', ') \n",
    "                        sub_li_tags = ul_data.find_elements_by_tag_name(\"li\")\n",
    "                        for li_data in sub_li_tags:\n",
    "                            if len(li_data.text)>1 :\n",
    "                                print(li_data.text.replace('\\n', '').replace('Preview', ''), end=';  ')\n",
    "#                                 print('\\n\\n==\\n'*10)\n",
    "#                             break\n",
    "#                         break\n",
    "#                     break\n",
    "#                 break\n",
    "                    \n",
    "                print('\\n')\n",
    "\n",
    "        "
   ]
  },
  {
   "cell_type": "code",
   "execution_count": null,
   "metadata": {},
   "outputs": [],
   "source": []
  },
  {
   "cell_type": "code",
   "execution_count": null,
   "metadata": {},
   "outputs": [],
   "source": []
  },
  {
   "cell_type": "code",
   "execution_count": null,
   "metadata": {},
   "outputs": [],
   "source": []
  },
  {
   "cell_type": "code",
   "execution_count": null,
   "metadata": {},
   "outputs": [],
   "source": [
    "'''\n",
    "\n",
    "Python and REST APIs: Interacting With Web Services\n",
    "https://realpython.com/api-integration-in-python/\n",
    "\n",
    "How to Use the Python Requests Module With REST APIs\n",
    "https://www.nylas.com/blog/use-python-requests-module-rest-apis/\n",
    "\n",
    "\n",
    "'''"
   ]
  },
  {
   "cell_type": "code",
   "execution_count": null,
   "metadata": {},
   "outputs": [],
   "source": []
  },
  {
   "cell_type": "code",
   "execution_count": null,
   "metadata": {},
   "outputs": [],
   "source": []
  },
  {
   "cell_type": "code",
   "execution_count": null,
   "metadata": {},
   "outputs": [],
   "source": []
  },
  {
   "cell_type": "code",
   "execution_count": null,
   "metadata": {},
   "outputs": [],
   "source": []
  },
  {
   "cell_type": "code",
   "execution_count": null,
   "metadata": {},
   "outputs": [],
   "source": []
  },
  {
   "cell_type": "code",
   "execution_count": null,
   "metadata": {},
   "outputs": [],
   "source": []
  },
  {
   "cell_type": "code",
   "execution_count": null,
   "metadata": {},
   "outputs": [],
   "source": []
  },
  {
   "cell_type": "code",
   "execution_count": null,
   "metadata": {},
   "outputs": [],
   "source": []
  },
  {
   "cell_type": "code",
   "execution_count": null,
   "metadata": {},
   "outputs": [],
   "source": []
  },
  {
   "cell_type": "code",
   "execution_count": null,
   "metadata": {},
   "outputs": [],
   "source": []
  },
  {
   "cell_type": "code",
   "execution_count": null,
   "metadata": {},
   "outputs": [],
   "source": []
  },
  {
   "cell_type": "code",
   "execution_count": null,
   "metadata": {},
   "outputs": [],
   "source": []
  },
  {
   "cell_type": "code",
   "execution_count": null,
   "metadata": {},
   "outputs": [],
   "source": []
  },
  {
   "cell_type": "code",
   "execution_count": null,
   "metadata": {},
   "outputs": [],
   "source": []
  },
  {
   "cell_type": "code",
   "execution_count": null,
   "metadata": {},
   "outputs": [],
   "source": []
  },
  {
   "cell_type": "code",
   "execution_count": null,
   "metadata": {},
   "outputs": [],
   "source": []
  },
  {
   "cell_type": "code",
   "execution_count": null,
   "metadata": {},
   "outputs": [],
   "source": []
  },
  {
   "cell_type": "code",
   "execution_count": null,
   "metadata": {},
   "outputs": [],
   "source": []
  },
  {
   "cell_type": "code",
   "execution_count": null,
   "metadata": {},
   "outputs": [],
   "source": []
  },
  {
   "cell_type": "code",
   "execution_count": null,
   "metadata": {},
   "outputs": [],
   "source": []
  },
  {
   "cell_type": "code",
   "execution_count": null,
   "metadata": {},
   "outputs": [],
   "source": []
  },
  {
   "cell_type": "code",
   "execution_count": null,
   "metadata": {},
   "outputs": [],
   "source": []
  },
  {
   "cell_type": "code",
   "execution_count": null,
   "metadata": {},
   "outputs": [],
   "source": []
  },
  {
   "cell_type": "code",
   "execution_count": null,
   "metadata": {},
   "outputs": [],
   "source": []
  },
  {
   "cell_type": "code",
   "execution_count": null,
   "metadata": {},
   "outputs": [],
   "source": []
  },
  {
   "cell_type": "code",
   "execution_count": null,
   "metadata": {},
   "outputs": [],
   "source": []
  },
  {
   "cell_type": "code",
   "execution_count": null,
   "metadata": {},
   "outputs": [],
   "source": []
  },
  {
   "cell_type": "code",
   "execution_count": null,
   "metadata": {},
   "outputs": [],
   "source": []
  },
  {
   "cell_type": "code",
   "execution_count": null,
   "metadata": {},
   "outputs": [],
   "source": []
  },
  {
   "cell_type": "code",
   "execution_count": null,
   "metadata": {},
   "outputs": [],
   "source": []
  },
  {
   "cell_type": "code",
   "execution_count": null,
   "metadata": {},
   "outputs": [],
   "source": []
  },
  {
   "cell_type": "code",
   "execution_count": null,
   "metadata": {},
   "outputs": [],
   "source": []
  },
  {
   "cell_type": "code",
   "execution_count": null,
   "metadata": {},
   "outputs": [],
   "source": []
  },
  {
   "cell_type": "code",
   "execution_count": null,
   "metadata": {},
   "outputs": [],
   "source": []
  },
  {
   "cell_type": "code",
   "execution_count": null,
   "metadata": {},
   "outputs": [],
   "source": []
  },
  {
   "cell_type": "code",
   "execution_count": null,
   "metadata": {},
   "outputs": [],
   "source": []
  },
  {
   "cell_type": "code",
   "execution_count": null,
   "metadata": {},
   "outputs": [],
   "source": []
  },
  {
   "cell_type": "code",
   "execution_count": null,
   "metadata": {},
   "outputs": [],
   "source": []
  },
  {
   "cell_type": "code",
   "execution_count": null,
   "metadata": {},
   "outputs": [],
   "source": []
  },
  {
   "cell_type": "code",
   "execution_count": null,
   "metadata": {},
   "outputs": [],
   "source": []
  },
  {
   "cell_type": "code",
   "execution_count": null,
   "metadata": {},
   "outputs": [],
   "source": []
  },
  {
   "cell_type": "code",
   "execution_count": null,
   "metadata": {},
   "outputs": [],
   "source": []
  },
  {
   "cell_type": "code",
   "execution_count": null,
   "metadata": {},
   "outputs": [],
   "source": []
  },
  {
   "cell_type": "code",
   "execution_count": null,
   "metadata": {},
   "outputs": [],
   "source": [
    "driver.close()"
   ]
  }
 ],
 "metadata": {
  "kernelspec": {
   "display_name": "Python 3 (ipykernel)",
   "language": "python",
   "name": "python3"
  },
  "language_info": {
   "codemirror_mode": {
    "name": "ipython",
    "version": 3
   },
   "file_extension": ".py",
   "mimetype": "text/x-python",
   "name": "python",
   "nbconvert_exporter": "python",
   "pygments_lexer": "ipython3",
   "version": "3.8.10"
  }
 },
 "nbformat": 4,
 "nbformat_minor": 2
}
