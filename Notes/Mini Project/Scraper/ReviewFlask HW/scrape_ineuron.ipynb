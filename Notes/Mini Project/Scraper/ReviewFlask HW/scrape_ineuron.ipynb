{
 "cells": [
  {
   "cell_type": "code",
   "execution_count": 25,
   "id": "e7050e7b",
   "metadata": {},
   "outputs": [
    {
     "name": "stdout",
     "output_type": "stream",
     "text": [
      "Courses Library | iNeuron.ai  ||  https://courses.ineuron.ai/\n",
      "['https://courses.ineuron.ai/category/Cloud', 'https://courses.ineuron.ai/category/Data-Science', 'https://courses.ineuron.ai/category/Development', 'https://courses.ineuron.ai/category/Programming', 'https://courses.ineuron.ai/category/Marketing']\n"
     ]
    }
   ],
   "source": [
    "import requests\n",
    "from bs4 import BeautifulSoup as bs\n",
    "from urllib.request import urlopen as uReq\n",
    "from selenium import webdriver\n",
    "import time\n",
    "import warnings\n",
    "warnings.filterwarnings(\"ignore\")\n",
    "\n",
    "url = \"https://courses.ineuron.ai/\"\n",
    "# initiating the webdriver.\n",
    "driver = webdriver.Chrome('D:\\DATABASE\\driver\\chromedriver.exe')\n",
    "driver.get(url)\n",
    "# this is just to ensure that the page is loaded\n",
    "time.sleep(1)\n",
    "print(driver.title, ' || ', driver.current_url)\n",
    "\n",
    "category_li = []\n",
    "\n",
    "def scroll_to_end(wd):\n",
    "    wd.execute_script(\"window.scrollTo(0, document.body.scrollHeight);\")\n",
    "    time.sleep(5)\n",
    "\n",
    "web = driver.find_elements_by_xpath(\"//a[@href]\")\n",
    "for elem in web:\n",
    "    if \"category\" in elem.get_attribute(\"href\"):\n",
    "        category_li.append(elem.get_attribute(\"href\"))\n",
    "category_li = list(set(category_li))\n",
    "\n",
    "print(category_li)\n",
    "\n",
    "# driver.close()"
   ]
  },
  {
   "cell_type": "code",
   "execution_count": 32,
   "id": "7c3eaffc",
   "metadata": {},
   "outputs": [
    {
     "name": "stdout",
     "output_type": "stream",
     "text": [
      "AWS Data Engineering\n",
      "https://courses.ineuron.ai/AWS-Data-Engineering\n",
      "AWS Architect for Real World\n",
      "https://courses.ineuron.ai/AWS-Architect-for-Real-World\n",
      "AWS Interview Preparation\n",
      "https://courses.ineuron.ai/AWS-Interview-Preparation\n",
      "AWS Sagemaker\n",
      "https://courses.ineuron.ai/AWS-Sagemaker\n",
      "AWS Cloud Masters\n",
      "https://courses.ineuron.ai/AWS-Cloud-Masters\n",
      "AWS\n",
      "https://courses.ineuron.ai/AWS\n",
      "Google Cloud Platform\n",
      "https://courses.ineuron.ai/Google-Cloud-Platform\n",
      "GCP Interview\n",
      "https://courses.ineuron.ai/GCP-Interview\n",
      "GCP Projects\n",
      "https://courses.ineuron.ai/GCP-Projects\n",
      "Google Cloud Platform Version 2\n",
      "https://courses.ineuron.ai/Google-Cloud-Platform-Version-2\n",
      "Azure Synapse\n",
      "https://courses.ineuron.ai/Azure-Synapse\n",
      "Azure Databricks\n",
      "https://courses.ineuron.ai/Azure-Databricks\n",
      "Azure Data Factory\n",
      "https://courses.ineuron.ai/Azure-Data-Factory\n",
      "Azure Data Engineering\n",
      "https://courses.ineuron.ai/Azure-Data-Engineering\n",
      "Azure Interview Preparation Live Class\n",
      "https://courses.ineuron.ai/Azure-Interview-Preparation-Live-Class\n",
      "Azure Certification Road Map\n",
      "https://courses.ineuron.ai/Azure-Certification-Road-Map\n",
      "Azure Fundamentals\n",
      "https://courses.ineuron.ai/Azure-Fundamentals\n",
      "Azure Data scientist Associate DP100\n",
      "https://courses.ineuron.ai/Azure-Data-scientist-Associate-DP100\n"
     ]
    }
   ],
   "source": [
    "driver.get(category_li[0])\n",
    "scroll_to_end(driver)\n",
    "web = driver.find_elements_by_tag_name(\"a\")\n",
    "\n",
    "for elem in web:\n",
    "    if len(elem.find_elements_by_tag_name(\"h5\")) > 0:\n",
    "        if len(elem.find_elements_by_tag_name(\"h5\")[0].text) > 0:\n",
    "            print(elem.find_elements_by_tag_name(\"h5\")[0].text)\n",
    "            print(driver.find_element_by_link_text(elem.find_elements_by_tag_name(\"h5\")[0].text).get_attribute(\"href\"))"
   ]
  },
  {
   "cell_type": "code",
   "execution_count": null,
   "id": "8e8097ba",
   "metadata": {},
   "outputs": [],
   "source": [
    "elem2 = elem.find_elements_by_tag_name(\"h5\")\n",
    "\n",
    "for r in elem2:\n",
    "    try:\n",
    "        print(r)\n",
    "    except: pass"
   ]
  },
  {
   "cell_type": "code",
   "execution_count": 19,
   "id": "d873ec64",
   "metadata": {},
   "outputs": [
    {
     "data": {
      "text/plain": [
       "[]"
      ]
     },
     "execution_count": 19,
     "metadata": {},
     "output_type": "execute_result"
    }
   ],
   "source": [
    "elem2"
   ]
  },
  {
   "cell_type": "code",
   "execution_count": null,
   "id": "6617283b",
   "metadata": {},
   "outputs": [],
   "source": []
  }
 ],
 "metadata": {
  "kernelspec": {
   "display_name": "Python 3 (ipykernel)",
   "language": "python",
   "name": "python3"
  },
  "language_info": {
   "codemirror_mode": {
    "name": "ipython",
    "version": 3
   },
   "file_extension": ".py",
   "mimetype": "text/x-python",
   "name": "python",
   "nbconvert_exporter": "python",
   "pygments_lexer": "ipython3",
   "version": "3.8.10"
  }
 },
 "nbformat": 4,
 "nbformat_minor": 5
}
