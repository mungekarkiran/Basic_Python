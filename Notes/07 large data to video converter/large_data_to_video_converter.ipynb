{
  "nbformat": 4,
  "nbformat_minor": 0,
  "metadata": {
    "colab": {
      "provenance": []
    },
    "kernelspec": {
      "name": "python3",
      "display_name": "Python 3"
    },
    "language_info": {
      "name": "python"
    }
  },
  "cells": [
    {
      "cell_type": "code",
      "execution_count": 60,
      "metadata": {
        "colab": {
          "base_uri": "https://localhost:8080/"
        },
        "id": "p0--98l8bZZK",
        "outputId": "13501864-827f-41d5-d0ed-110f19408a2c"
      },
      "outputs": [
        {
          "output_type": "stream",
          "name": "stderr",
          "text": [
            "IOPub data rate exceeded.\n",
            "The notebook server will temporarily stop sending output\n",
            "to the client in order to avoid crashing it.\n",
            "To change this limit, set the config variable\n",
            "`--NotebookApp.iopub_data_rate_limit`.\n",
            "\n",
            "Current values:\n",
            "NotebookApp.iopub_data_rate_limit=1000000.0 (bytes/sec)\n",
            "NotebookApp.rate_limit_window=3.0 (secs)\n",
            "\n"
          ]
        }
      ],
      "source": [
        "# Define the frame size in bytes\n",
        "frame_size = 1024\n",
        "\n",
        "# Open the binary file and read its content\n",
        "with open('/content/drive/MyDrive/Colab Notebooks/OCR/example.pdf', 'rb') as file:\n",
        "    binary_content = file.read()\n",
        "\n",
        "print(\"binary_content : \", binary_content)\n",
        "\n",
        "# Extract frames from the binary data\n",
        "frames = [binary_content[i:i+frame_size] for i in range(0, len(binary_content), frame_size)]\n",
        "\n",
        "print(\"frames : \", frames)\n"
      ]
    },
    {
      "cell_type": "code",
      "source": [
        "# type(frames)"
      ],
      "metadata": {
        "id": "GtOYqRSne1uN"
      },
      "execution_count": 61,
      "outputs": []
    },
    {
      "cell_type": "code",
      "source": [
        "# frames[0], len(frames)"
      ],
      "metadata": {
        "id": "WerWFigue1qe"
      },
      "execution_count": 62,
      "outputs": []
    },
    {
      "cell_type": "code",
      "source": [
        "import cv2\n",
        "import numpy as np\n",
        "\n",
        "# Define the frame size in pixels\n",
        "frame_width = 640\n",
        "frame_height = 480\n",
        "\n",
        "# Create a VideoWriter object\n",
        "video_writer = cv2.VideoWriter('output.mp4', cv2.VideoWriter_fourcc(*'mp4v'), 30, (frame_width, frame_height))\n",
        "\n",
        "# Define the output directory\n",
        "output_dir = 'frames/'\n",
        "\n",
        "# Loop through the frames and write them to the video file\n",
        "for i, frame in enumerate(frames):\n",
        "    # Convert the binary frame to a numpy array\n",
        "    np_frame = np.frombuffer(frame, np.uint8)\n",
        "    # print(i, np_frame, len(np_frame))\n",
        "    if len(np_frame) != frame_size:\n",
        "        extra_bits = [0]*(frame_size-len(np_frame))\n",
        "        np_frame = np.append(np_frame, extra_bits)\n",
        "        # print(len(np_frame))\n",
        "    try: \n",
        "        np_frame = np.reshape(np_frame, (frame_height, frame_width, 3))\n",
        "\n",
        "        # Define the output file name\n",
        "        output_file = f'{output_dir}/frame_{i:04}.png'\n",
        "        \n",
        "        # Save the frame as an image file\n",
        "        cv2.imwrite(output_file, np_frame)\n",
        "        \n",
        "        # Write the frame to the video file\n",
        "        video_writer.write(np_frame)\n",
        "    except Exception as e:\n",
        "      print(f\"Error at {i} - {e}. \")\n",
        "\n",
        "# Release the VideoWriter object\n",
        "video_writer.release()\n"
      ],
      "metadata": {
        "id": "L3StXg-Ccby6"
      },
      "execution_count": null,
      "outputs": []
    },
    {
      "cell_type": "code",
      "source": [
        "import numpy as np\n",
        "\n",
        "# Define the frame size in pixels\n",
        "frame_width = 640\n",
        "frame_height = 480\n",
        "\n",
        "# Define the number of color channels\n",
        "num_channels = 3\n",
        "\n",
        "# Extract a single frame from the binary data\n",
        "binary_frame = binary_data[start_index:end_index]\n",
        "\n",
        "# Convert the binary frame to a numpy array\n",
        "np_frame = np.frombuffer(binary_frame, dtype=np.uint8)\n",
        "\n",
        "# Reshape the numpy array to match the frame size and number of channels\n",
        "np_frame = np_frame.reshape(frame_height, frame_width, num_channels)\n"
      ],
      "metadata": {
        "colab": {
          "base_uri": "https://localhost:8080/",
          "height": 235
        },
        "id": "8Xrt9vaac0OI",
        "outputId": "3d77d918-3c34-44d9-ff54-5d504a8afa1e"
      },
      "execution_count": 5,
      "outputs": [
        {
          "output_type": "error",
          "ename": "NameError",
          "evalue": "ignored",
          "traceback": [
            "\u001b[0;31m---------------------------------------------------------------------------\u001b[0m",
            "\u001b[0;31mNameError\u001b[0m                                 Traceback (most recent call last)",
            "\u001b[0;32m<ipython-input-5-189db9a992a8>\u001b[0m in \u001b[0;36m<module>\u001b[0;34m\u001b[0m\n\u001b[1;32m      9\u001b[0m \u001b[0;34m\u001b[0m\u001b[0m\n\u001b[1;32m     10\u001b[0m \u001b[0;31m# Extract a single frame from the binary data\u001b[0m\u001b[0;34m\u001b[0m\u001b[0;34m\u001b[0m\u001b[0m\n\u001b[0;32m---> 11\u001b[0;31m \u001b[0mbinary_frame\u001b[0m \u001b[0;34m=\u001b[0m \u001b[0mbinary_data\u001b[0m\u001b[0;34m[\u001b[0m\u001b[0mstart_index\u001b[0m\u001b[0;34m:\u001b[0m\u001b[0mend_index\u001b[0m\u001b[0;34m]\u001b[0m\u001b[0;34m\u001b[0m\u001b[0;34m\u001b[0m\u001b[0m\n\u001b[0m\u001b[1;32m     12\u001b[0m \u001b[0;34m\u001b[0m\u001b[0m\n\u001b[1;32m     13\u001b[0m \u001b[0;31m# Convert the binary frame to a numpy array\u001b[0m\u001b[0;34m\u001b[0m\u001b[0;34m\u001b[0m\u001b[0m\n",
            "\u001b[0;31mNameError\u001b[0m: name 'binary_data' is not defined"
          ]
        }
      ]
    },
    {
      "cell_type": "code",
      "source": [
        "480*640*3"
      ],
      "metadata": {
        "colab": {
          "base_uri": "https://localhost:8080/"
        },
        "id": "5MX_XQWPdkUX",
        "outputId": "a439dfa1-91a1-488e-89cd-523e7137270f"
      },
      "execution_count": 20,
      "outputs": [
        {
          "output_type": "execute_result",
          "data": {
            "text/plain": [
              "921600"
            ]
          },
          "metadata": {},
          "execution_count": 20
        }
      ]
    },
    {
      "cell_type": "code",
      "source": [
        "1024*438"
      ],
      "metadata": {
        "colab": {
          "base_uri": "https://localhost:8080/"
        },
        "id": "bFLP1ZUEhNhe",
        "outputId": "0a19f615-6761-41ce-e077-6b5e33218469"
      },
      "execution_count": 21,
      "outputs": [
        {
          "output_type": "execute_result",
          "data": {
            "text/plain": [
              "448512"
            ]
          },
          "metadata": {},
          "execution_count": 21
        }
      ]
    },
    {
      "cell_type": "code",
      "source": [
        "import cv2\n",
        "import numpy as np\n",
        "import subprocess\n",
        "import os\n",
        "\n",
        "def pdf_to_video(pdf_path, video_path):\n",
        "    # Define the output directory for the PNG frames\n",
        "    frames_dir = 'frames'\n",
        "    os.makedirs(frames_dir, exist_ok=True)\n",
        "\n",
        "    file_size = os.path.getsize(pdf_path)\n",
        "    print(f'The size of {pdf_path} is {file_size} bytes.')\n",
        "\n",
        "    # # Convert the PDF to a binary string using subprocess\n",
        "    # result = subprocess.run(['pdftotext', '-raw', pdf_path, '-'], capture_output=True)\n",
        "    # pdf_text = result.stdout.decode('utf-8')\n",
        "\n",
        "    # # Convert the binary string to binary data\n",
        "    # binary_data = pdf_text.encode('utf-8')\n",
        "\n",
        "    # Open the binary file and read its content\n",
        "    with open(pdf_path, 'rb') as file:\n",
        "        binary_data = file.read()\n",
        "    # print(f\"type : {type(binary_data)} | length : {len(binary_data)} \")\n",
        "\n",
        "    # Define the frame size in pixels\n",
        "    frame_width = 640\n",
        "    frame_height = 480\n",
        "\n",
        "    # Define the number of color channels\n",
        "    num_channels = 3\n",
        "\n",
        "    # Calculate the total number of frames\n",
        "    # print(f\"{len(binary_data)} // {(frame_width * frame_height * num_channels)}\")\n",
        "    total_frames = len(binary_data) // (frame_width * frame_height * num_channels)\n",
        "    print(f\"total_frames : {total_frames}\")\n",
        "\n",
        "    # Define the output video codec and frame rate\n",
        "    fourcc = cv2.VideoWriter_fourcc(*'mp4v')\n",
        "    fps = 30.0\n",
        "\n",
        "    # Create a VideoWriter object to write the frames to an MP4 file\n",
        "    video_writer = cv2.VideoWriter(video_path, fourcc, fps, (frame_width, frame_height))\n",
        "\n",
        "    # Loop through the frames and write them to the video file\n",
        "    for i in range(total_frames):\n",
        "        # Extract a single frame from the binary data\n",
        "        start_index = i * frame_width * frame_height * num_channels\n",
        "        end_index = start_index + frame_width * frame_height * num_channels\n",
        "        binary_frame = binary_data[start_index:end_index]\n",
        "\n",
        "        # Convert the binary frame to a numpy array\n",
        "        np_frame = np.frombuffer(binary_frame, dtype=np.uint8)\n",
        "\n",
        "        # Reshape the numpy array to match the frame size and number of channels\n",
        "        np_frame = np_frame.reshape(frame_height, frame_width, num_channels)\n",
        "        # print(f\"np_frame: {np_frame}\")\n",
        "\n",
        "        # Write the frame to the video file\n",
        "        video_writer.write(np_frame)\n",
        "\n",
        "        # Save the frame as a PNG image file\n",
        "        frame_file = f'{frames_dir}/frame_{i:04}.png'\n",
        "        cv2.imwrite(frame_file, np_frame)\n",
        "        # print(f\"Done with : {frame_file}\")\n",
        "\n",
        "    # Release the VideoWriter object and close the file\n",
        "    video_writer.release()\n",
        "\n",
        "pdf_path = \"/content/resume.csv\"\n",
        "# \"/content/santhosh resume.pdf\"\n",
        "# \"/content/drive/MyDrive/Colab Notebooks/OCR/example.pdf\"\n",
        "video_path = \"output1.mp4\"\n",
        "pdf_to_video(pdf_path, video_path)"
      ],
      "metadata": {
        "colab": {
          "base_uri": "https://localhost:8080/"
        },
        "id": "uR9C-6MMisu8",
        "outputId": "0058e998-240d-4c94-9dce-5fba03c56ebf"
      },
      "execution_count": 81,
      "outputs": [
        {
          "output_type": "stream",
          "name": "stdout",
          "text": [
            "The size of /content/resume.csv is 5913933 bytes.\n",
            "total_frames : 6\n"
          ]
        }
      ]
    },
    {
      "cell_type": "code",
      "source": [
        "!zip -r frames.zip frames/"
      ],
      "metadata": {
        "colab": {
          "base_uri": "https://localhost:8080/"
        },
        "id": "pxtrU3UYnkNo",
        "outputId": "760c1b12-5b21-4613-95b5-a40cc4aef7af"
      },
      "execution_count": 82,
      "outputs": [
        {
          "output_type": "stream",
          "name": "stdout",
          "text": [
            "updating: frames/ (stored 0%)\n",
            "updating: frames/frame_0005.png (deflated 4%)\n",
            "updating: frames/frame_0004.png (deflated 4%)\n",
            "updating: frames/frame_0002.png (deflated 3%)\n",
            "updating: frames/frame_0001.png (deflated 5%)\n",
            "updating: frames/frame_0000.png (deflated 4%)\n",
            "updating: frames/frame_0003.png (deflated 3%)\n"
          ]
        }
      ]
    },
    {
      "cell_type": "code",
      "source": [
        "# !rm -r frames/"
      ],
      "metadata": {
        "id": "wzvAtOT30U1y"
      },
      "execution_count": 80,
      "outputs": []
    },
    {
      "cell_type": "code",
      "source": [],
      "metadata": {
        "id": "wpyvW-JN1b3t"
      },
      "execution_count": null,
      "outputs": []
    }
  ]
}