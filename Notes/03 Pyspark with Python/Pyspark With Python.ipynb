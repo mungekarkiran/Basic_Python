{
 "cells": [
  {
   "cell_type": "markdown",
   "metadata": {},
   "source": [
    "# Pyspark Introduction and Installation"
   ]
  },
  {
   "cell_type": "markdown",
   "metadata": {},
   "source": [
    "https://spark.apache.org/"
   ]
  },
  {
   "cell_type": "code",
   "execution_count": 1,
   "metadata": {},
   "outputs": [
    {
     "name": "stdout",
     "output_type": "stream",
     "text": [
      "Requirement already satisfied: pyspark in c:\\users\\munge\\appdata\\local\\programs\\python\\python36\\lib\\site-packages (2.4.4)\n",
      "Requirement already satisfied: py4j==0.10.7 in c:\\users\\munge\\appdata\\local\\programs\\python\\python36\\lib\\site-packages (from pyspark) (0.10.7)\n"
     ]
    },
    {
     "name": "stderr",
     "output_type": "stream",
     "text": [
      "WARNING: Ignoring invalid distribution -ycryptodome (c:\\users\\munge\\appdata\\local\\programs\\python\\python36\\lib\\site-packages)\n",
      "WARNING: Ignoring invalid distribution -ycryptodome (c:\\users\\munge\\appdata\\local\\programs\\python\\python36\\lib\\site-packages)\n",
      "WARNING: Ignoring invalid distribution -ycryptodome (c:\\users\\munge\\appdata\\local\\programs\\python\\python36\\lib\\site-packages)\n",
      "WARNING: Ignoring invalid distribution -ycryptodome (c:\\users\\munge\\appdata\\local\\programs\\python\\python36\\lib\\site-packages)\n",
      "WARNING: Ignoring invalid distribution -ycryptodome (c:\\users\\munge\\appdata\\local\\programs\\python\\python36\\lib\\site-packages)\n"
     ]
    }
   ],
   "source": [
    "# install pyspark library\n",
    "# !pip install pyspark"
   ]
  },
  {
   "cell_type": "code",
   "execution_count": 3,
   "metadata": {},
   "outputs": [],
   "source": [
    "# load library\n",
    "import pyspark as ps\n",
    "import pandas as pd"
   ]
  },
  {
   "cell_type": "code",
   "execution_count": 45,
   "metadata": {},
   "outputs": [
    {
     "data": {
      "text/html": [
       "<div>\n",
       "<style scoped>\n",
       "    .dataframe tbody tr th:only-of-type {\n",
       "        vertical-align: middle;\n",
       "    }\n",
       "\n",
       "    .dataframe tbody tr th {\n",
       "        vertical-align: top;\n",
       "    }\n",
       "\n",
       "    .dataframe thead th {\n",
       "        text-align: right;\n",
       "    }\n",
       "</style>\n",
       "<table border=\"1\" class=\"dataframe\">\n",
       "  <thead>\n",
       "    <tr style=\"text-align: right;\">\n",
       "      <th></th>\n",
       "      <th>Name</th>\n",
       "      <th>Sname</th>\n",
       "      <th>Age</th>\n",
       "      <th>Gender</th>\n",
       "      <th>Email_ID</th>\n",
       "      <th>Adderess</th>\n",
       "      <th>Profile</th>\n",
       "      <th>Experience</th>\n",
       "    </tr>\n",
       "  </thead>\n",
       "  <tbody>\n",
       "    <tr>\n",
       "      <th>0</th>\n",
       "      <td>kiran</td>\n",
       "      <td>mungkar</td>\n",
       "      <td>29</td>\n",
       "      <td>m</td>\n",
       "      <td>kiran@gmail.com</td>\n",
       "      <td>virar</td>\n",
       "      <td>data analyst</td>\n",
       "      <td>1.8</td>\n",
       "    </tr>\n",
       "    <tr>\n",
       "      <th>1</th>\n",
       "      <td>kapil</td>\n",
       "      <td>nargund</td>\n",
       "      <td>27</td>\n",
       "      <td>m</td>\n",
       "      <td>kapil@gmail.com</td>\n",
       "      <td>vasai</td>\n",
       "      <td>data analyst</td>\n",
       "      <td>3.2</td>\n",
       "    </tr>\n",
       "    <tr>\n",
       "      <th>2</th>\n",
       "      <td>vinod</td>\n",
       "      <td>kadam</td>\n",
       "      <td>31</td>\n",
       "      <td>m</td>\n",
       "      <td>vinod#gmail.com</td>\n",
       "      <td>borivali</td>\n",
       "      <td>teacher</td>\n",
       "      <td>2.8</td>\n",
       "    </tr>\n",
       "    <tr>\n",
       "      <th>3</th>\n",
       "      <td>samira</td>\n",
       "      <td>sha</td>\n",
       "      <td>28</td>\n",
       "      <td>f</td>\n",
       "      <td>samira@yahoo.com</td>\n",
       "      <td>borivali</td>\n",
       "      <td>teacher</td>\n",
       "      <td>2.8</td>\n",
       "    </tr>\n",
       "    <tr>\n",
       "      <th>4</th>\n",
       "      <td>vidhan</td>\n",
       "      <td>wani</td>\n",
       "      <td>27</td>\n",
       "      <td>m</td>\n",
       "      <td>vidhan@hotmail.com</td>\n",
       "      <td>bhayandar</td>\n",
       "      <td>automation developer</td>\n",
       "      <td>1.5</td>\n",
       "    </tr>\n",
       "    <tr>\n",
       "      <th>5</th>\n",
       "      <td>abhijit</td>\n",
       "      <td>panpatil</td>\n",
       "      <td>27</td>\n",
       "      <td>m</td>\n",
       "      <td>abhijit@gmail.com</td>\n",
       "      <td>palghar</td>\n",
       "      <td>shell scripting engineer</td>\n",
       "      <td>4.5</td>\n",
       "    </tr>\n",
       "    <tr>\n",
       "      <th>6</th>\n",
       "      <td>namrata</td>\n",
       "      <td>deshamukh</td>\n",
       "      <td>28</td>\n",
       "      <td>f</td>\n",
       "      <td>manrata@yahoo.com</td>\n",
       "      <td>borivali</td>\n",
       "      <td>front end developer</td>\n",
       "      <td>2.6</td>\n",
       "    </tr>\n",
       "    <tr>\n",
       "      <th>7</th>\n",
       "      <td>neha</td>\n",
       "      <td>raut</td>\n",
       "      <td>27</td>\n",
       "      <td>f</td>\n",
       "      <td>neha@hotmail.com</td>\n",
       "      <td>virar</td>\n",
       "      <td>teacher</td>\n",
       "      <td>4.8</td>\n",
       "    </tr>\n",
       "    <tr>\n",
       "      <th>8</th>\n",
       "      <td>shubham</td>\n",
       "      <td>neve</td>\n",
       "      <td>26</td>\n",
       "      <td>m</td>\n",
       "      <td>shubham@hotmail.com</td>\n",
       "      <td>palghar</td>\n",
       "      <td>automation developer</td>\n",
       "      <td>3.5</td>\n",
       "    </tr>\n",
       "    <tr>\n",
       "      <th>9</th>\n",
       "      <td>darshan</td>\n",
       "      <td>sha</td>\n",
       "      <td>27</td>\n",
       "      <td>m</td>\n",
       "      <td>darshan@gmail.com</td>\n",
       "      <td>malad</td>\n",
       "      <td>.net devloper</td>\n",
       "      <td>3.4</td>\n",
       "    </tr>\n",
       "    <tr>\n",
       "      <th>10</th>\n",
       "      <td>anuj</td>\n",
       "      <td>kumar</td>\n",
       "      <td>28</td>\n",
       "      <td>m</td>\n",
       "      <td>anuj@yahoo.com</td>\n",
       "      <td>nalasopara</td>\n",
       "      <td>backend developer</td>\n",
       "      <td>4.7</td>\n",
       "    </tr>\n",
       "    <tr>\n",
       "      <th>11</th>\n",
       "      <td>harshali</td>\n",
       "      <td>desai</td>\n",
       "      <td>27</td>\n",
       "      <td>f</td>\n",
       "      <td>harshali@gmail.com</td>\n",
       "      <td>borivali</td>\n",
       "      <td>java developer</td>\n",
       "      <td>4.1</td>\n",
       "    </tr>\n",
       "    <tr>\n",
       "      <th>12</th>\n",
       "      <td>nitesh</td>\n",
       "      <td>kanojia</td>\n",
       "      <td>26</td>\n",
       "      <td>m</td>\n",
       "      <td>nitesh@gmail.com</td>\n",
       "      <td>vasai</td>\n",
       "      <td>data analyst</td>\n",
       "      <td>2.3</td>\n",
       "    </tr>\n",
       "    <tr>\n",
       "      <th>13</th>\n",
       "      <td>nitesh</td>\n",
       "      <td>angare</td>\n",
       "      <td>26</td>\n",
       "      <td>m</td>\n",
       "      <td>nitesh_a@gmail.com</td>\n",
       "      <td>virar</td>\n",
       "      <td>bi developer</td>\n",
       "      <td>2.0</td>\n",
       "    </tr>\n",
       "    <tr>\n",
       "      <th>14</th>\n",
       "      <td>vidit</td>\n",
       "      <td>sha</td>\n",
       "      <td>29</td>\n",
       "      <td>m</td>\n",
       "      <td>vidit@yahoo.com</td>\n",
       "      <td>borivali</td>\n",
       "      <td>business analyst</td>\n",
       "      <td>4.0</td>\n",
       "    </tr>\n",
       "    <tr>\n",
       "      <th>15</th>\n",
       "      <td>shradhha</td>\n",
       "      <td>mahale</td>\n",
       "      <td>28</td>\n",
       "      <td>f</td>\n",
       "      <td>shraddha@yahoo.com</td>\n",
       "      <td>palghar</td>\n",
       "      <td>backend developer</td>\n",
       "      <td>3.1</td>\n",
       "    </tr>\n",
       "    <tr>\n",
       "      <th>16</th>\n",
       "      <td>jinal</td>\n",
       "      <td>jain</td>\n",
       "      <td>30</td>\n",
       "      <td>f</td>\n",
       "      <td>jinal@gmail.com</td>\n",
       "      <td>malad</td>\n",
       "      <td>software tester</td>\n",
       "      <td>3.2</td>\n",
       "    </tr>\n",
       "    <tr>\n",
       "      <th>17</th>\n",
       "      <td>rohit</td>\n",
       "      <td>kumar</td>\n",
       "      <td>28</td>\n",
       "      <td>m</td>\n",
       "      <td>rohit@gmail.com</td>\n",
       "      <td>virar</td>\n",
       "      <td>front end developer</td>\n",
       "      <td>2.7</td>\n",
       "    </tr>\n",
       "    <tr>\n",
       "      <th>18</th>\n",
       "      <td>siddhesh</td>\n",
       "      <td>patil</td>\n",
       "      <td>28</td>\n",
       "      <td>m</td>\n",
       "      <td>siddhesh@yahoo.com</td>\n",
       "      <td>virar</td>\n",
       "      <td>front end developer</td>\n",
       "      <td>2.7</td>\n",
       "    </tr>\n",
       "    <tr>\n",
       "      <th>19</th>\n",
       "      <td>nidhi</td>\n",
       "      <td>divecha</td>\n",
       "      <td>28</td>\n",
       "      <td>f</td>\n",
       "      <td>nidhi@hotmail.cpm</td>\n",
       "      <td>vasai</td>\n",
       "      <td>teacher</td>\n",
       "      <td>3.2</td>\n",
       "    </tr>\n",
       "    <tr>\n",
       "      <th>20</th>\n",
       "      <td>harsh</td>\n",
       "      <td>divecha</td>\n",
       "      <td>30</td>\n",
       "      <td>m</td>\n",
       "      <td>harsh@yahoo.com</td>\n",
       "      <td>vasai</td>\n",
       "      <td>software security</td>\n",
       "      <td>4.1</td>\n",
       "    </tr>\n",
       "    <tr>\n",
       "      <th>21</th>\n",
       "      <td>snehal</td>\n",
       "      <td>matre</td>\n",
       "      <td>27</td>\n",
       "      <td>f</td>\n",
       "      <td>snehal@gmail.com</td>\n",
       "      <td>bhayandar</td>\n",
       "      <td>teacher</td>\n",
       "      <td>2.4</td>\n",
       "    </tr>\n",
       "    <tr>\n",
       "      <th>22</th>\n",
       "      <td>medha</td>\n",
       "      <td>patil</td>\n",
       "      <td>32</td>\n",
       "      <td>f</td>\n",
       "      <td>medha@yahoo.com</td>\n",
       "      <td>borivali</td>\n",
       "      <td>.net devloper</td>\n",
       "      <td>3.6</td>\n",
       "    </tr>\n",
       "    <tr>\n",
       "      <th>23</th>\n",
       "      <td>sonal</td>\n",
       "      <td>gondane</td>\n",
       "      <td>30</td>\n",
       "      <td>f</td>\n",
       "      <td>sonal@gmail.com</td>\n",
       "      <td>borivali</td>\n",
       "      <td>teacher</td>\n",
       "      <td>4.3</td>\n",
       "    </tr>\n",
       "  </tbody>\n",
       "</table>\n",
       "</div>"
      ],
      "text/plain": [
       "        Name      Sname  Age Gender             Email_ID    Adderess  \\\n",
       "0      kiran    mungkar   29      m      kiran@gmail.com       virar   \n",
       "1      kapil    nargund   27      m      kapil@gmail.com       vasai   \n",
       "2      vinod      kadam   31      m      vinod#gmail.com    borivali   \n",
       "3     samira        sha   28      f     samira@yahoo.com    borivali   \n",
       "4     vidhan       wani   27      m   vidhan@hotmail.com   bhayandar   \n",
       "5    abhijit   panpatil   27      m    abhijit@gmail.com     palghar   \n",
       "6    namrata  deshamukh   28      f    manrata@yahoo.com    borivali   \n",
       "7       neha       raut   27      f     neha@hotmail.com       virar   \n",
       "8    shubham       neve   26      m  shubham@hotmail.com     palghar   \n",
       "9    darshan        sha   27      m    darshan@gmail.com       malad   \n",
       "10      anuj      kumar   28      m       anuj@yahoo.com  nalasopara   \n",
       "11  harshali      desai   27      f   harshali@gmail.com    borivali   \n",
       "12    nitesh    kanojia   26      m     nitesh@gmail.com       vasai   \n",
       "13    nitesh     angare   26      m   nitesh_a@gmail.com       virar   \n",
       "14     vidit        sha   29      m      vidit@yahoo.com    borivali   \n",
       "15  shradhha     mahale   28      f   shraddha@yahoo.com     palghar   \n",
       "16     jinal       jain   30      f      jinal@gmail.com       malad   \n",
       "17     rohit      kumar   28      m      rohit@gmail.com       virar   \n",
       "18  siddhesh      patil   28      m   siddhesh@yahoo.com       virar   \n",
       "19     nidhi    divecha   28      f    nidhi@hotmail.cpm       vasai   \n",
       "20     harsh    divecha   30      m      harsh@yahoo.com       vasai   \n",
       "21    snehal      matre   27      f     snehal@gmail.com   bhayandar   \n",
       "22     medha      patil   32      f      medha@yahoo.com    borivali   \n",
       "23     sonal    gondane   30      f      sonal@gmail.com    borivali   \n",
       "\n",
       "                     Profile  Experience  \n",
       "0               data analyst         1.8  \n",
       "1               data analyst         3.2  \n",
       "2                    teacher         2.8  \n",
       "3                    teacher         2.8  \n",
       "4       automation developer         1.5  \n",
       "5   shell scripting engineer         4.5  \n",
       "6        front end developer         2.6  \n",
       "7                    teacher         4.8  \n",
       "8       automation developer         3.5  \n",
       "9              .net devloper         3.4  \n",
       "10         backend developer         4.7  \n",
       "11            java developer         4.1  \n",
       "12              data analyst         2.3  \n",
       "13              bi developer         2.0  \n",
       "14          business analyst         4.0  \n",
       "15         backend developer         3.1  \n",
       "16           software tester         3.2  \n",
       "17       front end developer         2.7  \n",
       "18       front end developer         2.7  \n",
       "19                   teacher         3.2  \n",
       "20         software security         4.1  \n",
       "21                   teacher         2.4  \n",
       "22             .net devloper         3.6  \n",
       "23                   teacher         4.3  "
      ]
     },
     "execution_count": 45,
     "metadata": {},
     "output_type": "execute_result"
    }
   ],
   "source": [
    "# read data file using pandas\n",
    "pd_df = pd.read_excel(\"test.xlsx\")\n",
    "pd_df.to_csv(\"test.csv\")\n",
    "pd_df"
   ]
  },
  {
   "cell_type": "markdown",
   "metadata": {},
   "source": [
    "# To work with spark 1st start the spark session"
   ]
  },
  {
   "cell_type": "code",
   "execution_count": 8,
   "metadata": {},
   "outputs": [],
   "source": [
    "# load SparkSession\n",
    "from pyspark.sql import SparkSession"
   ]
  },
  {
   "cell_type": "code",
   "execution_count": 9,
   "metadata": {},
   "outputs": [
    {
     "data": {
      "text/html": [
       "\n",
       "            <div>\n",
       "                <p><b>SparkSession - in-memory</b></p>\n",
       "                \n",
       "        <div>\n",
       "            <p><b>SparkContext</b></p>\n",
       "\n",
       "            <p><a href=\"http://DESKTOP-H7M3LBL:4040\">Spark UI</a></p>\n",
       "\n",
       "            <dl>\n",
       "              <dt>Version</dt>\n",
       "                <dd><code>v2.4.4</code></dd>\n",
       "              <dt>Master</dt>\n",
       "                <dd><code>local[*]</code></dd>\n",
       "              <dt>AppName</dt>\n",
       "                <dd><code>practice</code></dd>\n",
       "            </dl>\n",
       "        </div>\n",
       "        \n",
       "            </div>\n",
       "        "
      ],
      "text/plain": [
       "<pyspark.sql.session.SparkSession at 0x222ea456f60>"
      ]
     },
     "execution_count": 9,
     "metadata": {},
     "output_type": "execute_result"
    }
   ],
   "source": [
    "spark = SparkSession.builder.appName('practice').getOrCreate() \n",
    "# give session a name ie. 'practice'\n",
    "# and then create spark session\n",
    "spark"
   ]
  },
  {
   "cell_type": "markdown",
   "metadata": {},
   "source": [
    "when you working on local you can see only one cluster nut when you working on cloud you can create multiple cluster and instances"
   ]
  },
  {
   "cell_type": "code",
   "execution_count": 46,
   "metadata": {},
   "outputs": [
    {
     "data": {
      "text/plain": [
       "DataFrame[_c0: string, _c1: string, _c2: string, _c3: string, _c4: string, _c5: string, _c6: string, _c7: string, _c8: string]"
      ]
     },
     "execution_count": 46,
     "metadata": {},
     "output_type": "execute_result"
    }
   ],
   "source": [
    "# read data file using sparks\n",
    "ps_df = spark.read.csv('test.csv')\n",
    "ps_df"
   ]
  },
  {
   "cell_type": "code",
   "execution_count": 47,
   "metadata": {},
   "outputs": [
    {
     "name": "stdout",
     "output_type": "stream",
     "text": [
      "+----+--------+---------+---+------+-------------------+----------+--------------------+----------+\n",
      "| _c0|     _c1|      _c2|_c3|   _c4|                _c5|       _c6|                 _c7|       _c8|\n",
      "+----+--------+---------+---+------+-------------------+----------+--------------------+----------+\n",
      "|null|    Name|    Sname|Age|Gender|           Email_ID|  Adderess|             Profile|Experience|\n",
      "|   0|   kiran|  mungkar| 29|     m|    kiran@gmail.com|     virar|        data analyst|       1.8|\n",
      "|   1|   kapil|  nargund| 27|     m|    kapil@gmail.com|     vasai|        data analyst|       3.2|\n",
      "|   2|   vinod|    kadam| 31|     m|    vinod#gmail.com|  borivali|             teacher|       2.8|\n",
      "|   3|  samira|      sha| 28|     f|   samira@yahoo.com|  borivali|             teacher|       2.8|\n",
      "|   4|  vidhan|     wani| 27|     m| vidhan@hotmail.com| bhayandar|automation developer|       1.5|\n",
      "|   5| abhijit| panpatil| 27|     m|  abhijit@gmail.com|   palghar|shell scripting e...|       4.5|\n",
      "|   6| namrata|deshamukh| 28|     f|  manrata@yahoo.com|  borivali| front end developer|       2.6|\n",
      "|   7|    neha|     raut| 27|     f|   neha@hotmail.com|     virar|             teacher|       4.8|\n",
      "|   8| shubham|     neve| 26|     m|shubham@hotmail.com|   palghar|automation developer|       3.5|\n",
      "|   9| darshan|      sha| 27|     m|  darshan@gmail.com|     malad|       .net devloper|       3.4|\n",
      "|  10|    anuj|    kumar| 28|     m|     anuj@yahoo.com|nalasopara|   backend developer|       4.7|\n",
      "|  11|harshali|    desai| 27|     f| harshali@gmail.com|  borivali|      java developer|       4.1|\n",
      "|  12|  nitesh|  kanojia| 26|     m|   nitesh@gmail.com|     vasai|        data analyst|       2.3|\n",
      "|  13|  nitesh|   angare| 26|     m| nitesh_a@gmail.com|     virar|        bi developer|       2.0|\n",
      "|  14|   vidit|      sha| 29|     m|    vidit@yahoo.com|  borivali|    business analyst|       4.0|\n",
      "|  15|shradhha|   mahale| 28|     f| shraddha@yahoo.com|   palghar|   backend developer|       3.1|\n",
      "|  16|   jinal|     jain| 30|     f|    jinal@gmail.com|     malad|     software tester|       3.2|\n",
      "|  17|   rohit|    kumar| 28|     m|    rohit@gmail.com|     virar| front end developer|       2.7|\n",
      "|  18|siddhesh|    patil| 28|     m| siddhesh@yahoo.com|     virar| front end developer|       2.7|\n",
      "+----+--------+---------+---+------+-------------------+----------+--------------------+----------+\n",
      "only showing top 20 rows\n",
      "\n"
     ]
    }
   ],
   "source": [
    "ps_df.show()"
   ]
  },
  {
   "cell_type": "code",
   "execution_count": 48,
   "metadata": {},
   "outputs": [
    {
     "data": {
      "text/plain": [
       "DataFrame[_c0: string, Name: string, Sname: string, Age: string, Gender: string, Email_ID: string, Adderess: string, Profile: string, Experience: string]"
      ]
     },
     "execution_count": 48,
     "metadata": {},
     "output_type": "execute_result"
    }
   ],
   "source": [
    "# to show / select the 1st row as header\n",
    "ps_df = spark.read.option(\"header\", \"true\").csv(\"test.csv\")\n",
    "ps_df"
   ]
  },
  {
   "cell_type": "code",
   "execution_count": 49,
   "metadata": {},
   "outputs": [
    {
     "name": "stdout",
     "output_type": "stream",
     "text": [
      "+---+--------+---------+---+------+-------------------+----------+--------------------+----------+\n",
      "|_c0|    Name|    Sname|Age|Gender|           Email_ID|  Adderess|             Profile|Experience|\n",
      "+---+--------+---------+---+------+-------------------+----------+--------------------+----------+\n",
      "|  0|   kiran|  mungkar| 29|     m|    kiran@gmail.com|     virar|        data analyst|       1.8|\n",
      "|  1|   kapil|  nargund| 27|     m|    kapil@gmail.com|     vasai|        data analyst|       3.2|\n",
      "|  2|   vinod|    kadam| 31|     m|    vinod#gmail.com|  borivali|             teacher|       2.8|\n",
      "|  3|  samira|      sha| 28|     f|   samira@yahoo.com|  borivali|             teacher|       2.8|\n",
      "|  4|  vidhan|     wani| 27|     m| vidhan@hotmail.com| bhayandar|automation developer|       1.5|\n",
      "|  5| abhijit| panpatil| 27|     m|  abhijit@gmail.com|   palghar|shell scripting e...|       4.5|\n",
      "|  6| namrata|deshamukh| 28|     f|  manrata@yahoo.com|  borivali| front end developer|       2.6|\n",
      "|  7|    neha|     raut| 27|     f|   neha@hotmail.com|     virar|             teacher|       4.8|\n",
      "|  8| shubham|     neve| 26|     m|shubham@hotmail.com|   palghar|automation developer|       3.5|\n",
      "|  9| darshan|      sha| 27|     m|  darshan@gmail.com|     malad|       .net devloper|       3.4|\n",
      "| 10|    anuj|    kumar| 28|     m|     anuj@yahoo.com|nalasopara|   backend developer|       4.7|\n",
      "| 11|harshali|    desai| 27|     f| harshali@gmail.com|  borivali|      java developer|       4.1|\n",
      "| 12|  nitesh|  kanojia| 26|     m|   nitesh@gmail.com|     vasai|        data analyst|       2.3|\n",
      "| 13|  nitesh|   angare| 26|     m| nitesh_a@gmail.com|     virar|        bi developer|       2.0|\n",
      "| 14|   vidit|      sha| 29|     m|    vidit@yahoo.com|  borivali|    business analyst|       4.0|\n",
      "| 15|shradhha|   mahale| 28|     f| shraddha@yahoo.com|   palghar|   backend developer|       3.1|\n",
      "| 16|   jinal|     jain| 30|     f|    jinal@gmail.com|     malad|     software tester|       3.2|\n",
      "| 17|   rohit|    kumar| 28|     m|    rohit@gmail.com|     virar| front end developer|       2.7|\n",
      "| 18|siddhesh|    patil| 28|     m| siddhesh@yahoo.com|     virar| front end developer|       2.7|\n",
      "| 19|   nidhi|  divecha| 28|     f|  nidhi@hotmail.cpm|     vasai|             teacher|       3.2|\n",
      "+---+--------+---------+---+------+-------------------+----------+--------------------+----------+\n",
      "only showing top 20 rows\n",
      "\n"
     ]
    }
   ],
   "source": [
    "ps_df.show()"
   ]
  },
  {
   "cell_type": "code",
   "execution_count": 50,
   "metadata": {},
   "outputs": [
    {
     "data": {
      "text/plain": [
       "(pyspark.sql.dataframe.DataFrame, pandas.core.frame.DataFrame)"
      ]
     },
     "execution_count": 50,
     "metadata": {},
     "output_type": "execute_result"
    }
   ],
   "source": [
    "# check the data type \n",
    "type(ps_df), type(pd_df) "
   ]
  },
  {
   "cell_type": "code",
   "execution_count": 51,
   "metadata": {},
   "outputs": [
    {
     "data": {
      "text/plain": [
       "Row(_c0='0', Name='kiran', Sname='mungkar', Age='29', Gender='m', Email_ID='kiran@gmail.com', Adderess='virar', Profile='data analyst', Experience='1.8')"
      ]
     },
     "execution_count": 51,
     "metadata": {},
     "output_type": "execute_result"
    }
   ],
   "source": [
    "# to show few / 1st row information\n",
    "ps_df.head()"
   ]
  },
  {
   "cell_type": "code",
   "execution_count": 52,
   "metadata": {},
   "outputs": [
    {
     "name": "stdout",
     "output_type": "stream",
     "text": [
      "root\n",
      " |-- _c0: string (nullable = true)\n",
      " |-- Name: string (nullable = true)\n",
      " |-- Sname: string (nullable = true)\n",
      " |-- Age: string (nullable = true)\n",
      " |-- Gender: string (nullable = true)\n",
      " |-- Email_ID: string (nullable = true)\n",
      " |-- Adderess: string (nullable = true)\n",
      " |-- Profile: string (nullable = true)\n",
      " |-- Experience: string (nullable = true)\n",
      "\n"
     ]
    }
   ],
   "source": [
    "# to show information about collumns\n",
    "ps_df.printSchema()"
   ]
  },
  {
   "cell_type": "markdown",
   "metadata": {},
   "source": [
    "# Pyspark DataFrames"
   ]
  },
  {
   "cell_type": "markdown",
   "metadata": {},
   "source": [
    "- Pyspark DataFrames\n",
    "- Reading the dataset\n",
    "- Checking the datatypes of the collumns (schema)\n",
    "- Selecting columns and indexing\n",
    "- Check describe option as similar to pandas\n",
    "- Adding collumns\n",
    "- Droping collumns\n",
    "- Rename the column"
   ]
  },
  {
   "cell_type": "code",
   "execution_count": 53,
   "metadata": {},
   "outputs": [
    {
     "data": {
      "text/html": [
       "\n",
       "            <div>\n",
       "                <p><b>SparkSession - in-memory</b></p>\n",
       "                \n",
       "        <div>\n",
       "            <p><b>SparkContext</b></p>\n",
       "\n",
       "            <p><a href=\"http://DESKTOP-H7M3LBL:4040\">Spark UI</a></p>\n",
       "\n",
       "            <dl>\n",
       "              <dt>Version</dt>\n",
       "                <dd><code>v2.4.4</code></dd>\n",
       "              <dt>Master</dt>\n",
       "                <dd><code>local[*]</code></dd>\n",
       "              <dt>AppName</dt>\n",
       "                <dd><code>practice</code></dd>\n",
       "            </dl>\n",
       "        </div>\n",
       "        \n",
       "            </div>\n",
       "        "
      ],
      "text/plain": [
       "<pyspark.sql.session.SparkSession at 0x222ea456f60>"
      ]
     },
     "execution_count": 53,
     "metadata": {},
     "output_type": "execute_result"
    }
   ],
   "source": [
    "# create sparks session\n",
    "from pyspark.sql import SparkSession\n",
    "spark = SparkSession.builder.appName('practice').getOrCreate() \n",
    "spark"
   ]
  },
  {
   "cell_type": "code",
   "execution_count": 54,
   "metadata": {},
   "outputs": [
    {
     "data": {
      "text/plain": [
       "DataFrame[_c0: string, Name: string, Sname: string, Age: string, Gender: string, Email_ID: string, Adderess: string, Profile: string, Experience: string]"
      ]
     },
     "execution_count": 54,
     "metadata": {},
     "output_type": "execute_result"
    }
   ],
   "source": [
    "# read dataset\n",
    "ps_df = spark.read.option(\"header\", \"true\").csv('test.csv')\n",
    "ps_df"
   ]
  },
  {
   "cell_type": "code",
   "execution_count": 55,
   "metadata": {},
   "outputs": [
    {
     "name": "stdout",
     "output_type": "stream",
     "text": [
      "+---+--------+---------+---+------+-------------------+----------+--------------------+----------+\n",
      "|_c0|    Name|    Sname|Age|Gender|           Email_ID|  Adderess|             Profile|Experience|\n",
      "+---+--------+---------+---+------+-------------------+----------+--------------------+----------+\n",
      "|  0|   kiran|  mungkar| 29|     m|    kiran@gmail.com|     virar|        data analyst|       1.8|\n",
      "|  1|   kapil|  nargund| 27|     m|    kapil@gmail.com|     vasai|        data analyst|       3.2|\n",
      "|  2|   vinod|    kadam| 31|     m|    vinod#gmail.com|  borivali|             teacher|       2.8|\n",
      "|  3|  samira|      sha| 28|     f|   samira@yahoo.com|  borivali|             teacher|       2.8|\n",
      "|  4|  vidhan|     wani| 27|     m| vidhan@hotmail.com| bhayandar|automation developer|       1.5|\n",
      "|  5| abhijit| panpatil| 27|     m|  abhijit@gmail.com|   palghar|shell scripting e...|       4.5|\n",
      "|  6| namrata|deshamukh| 28|     f|  manrata@yahoo.com|  borivali| front end developer|       2.6|\n",
      "|  7|    neha|     raut| 27|     f|   neha@hotmail.com|     virar|             teacher|       4.8|\n",
      "|  8| shubham|     neve| 26|     m|shubham@hotmail.com|   palghar|automation developer|       3.5|\n",
      "|  9| darshan|      sha| 27|     m|  darshan@gmail.com|     malad|       .net devloper|       3.4|\n",
      "| 10|    anuj|    kumar| 28|     m|     anuj@yahoo.com|nalasopara|   backend developer|       4.7|\n",
      "| 11|harshali|    desai| 27|     f| harshali@gmail.com|  borivali|      java developer|       4.1|\n",
      "| 12|  nitesh|  kanojia| 26|     m|   nitesh@gmail.com|     vasai|        data analyst|       2.3|\n",
      "| 13|  nitesh|   angare| 26|     m| nitesh_a@gmail.com|     virar|        bi developer|       2.0|\n",
      "| 14|   vidit|      sha| 29|     m|    vidit@yahoo.com|  borivali|    business analyst|       4.0|\n",
      "| 15|shradhha|   mahale| 28|     f| shraddha@yahoo.com|   palghar|   backend developer|       3.1|\n",
      "| 16|   jinal|     jain| 30|     f|    jinal@gmail.com|     malad|     software tester|       3.2|\n",
      "| 17|   rohit|    kumar| 28|     m|    rohit@gmail.com|     virar| front end developer|       2.7|\n",
      "| 18|siddhesh|    patil| 28|     m| siddhesh@yahoo.com|     virar| front end developer|       2.7|\n",
      "| 19|   nidhi|  divecha| 28|     f|  nidhi@hotmail.cpm|     vasai|             teacher|       3.2|\n",
      "+---+--------+---------+---+------+-------------------+----------+--------------------+----------+\n",
      "only showing top 20 rows\n",
      "\n"
     ]
    }
   ],
   "source": [
    "ps_df.show()"
   ]
  },
  {
   "cell_type": "code",
   "execution_count": 56,
   "metadata": {},
   "outputs": [
    {
     "name": "stdout",
     "output_type": "stream",
     "text": [
      "root\n",
      " |-- _c0: string (nullable = true)\n",
      " |-- Name: string (nullable = true)\n",
      " |-- Sname: string (nullable = true)\n",
      " |-- Age: string (nullable = true)\n",
      " |-- Gender: string (nullable = true)\n",
      " |-- Email_ID: string (nullable = true)\n",
      " |-- Adderess: string (nullable = true)\n",
      " |-- Profile: string (nullable = true)\n",
      " |-- Experience: string (nullable = true)\n",
      "\n"
     ]
    }
   ],
   "source": [
    "# check schema\n",
    "ps_df.printSchema()"
   ]
  },
  {
   "cell_type": "markdown",
   "metadata": {},
   "source": [
    "by default all collumns data type are string to set it use .option(\"inferSchema\", \"true\") or inferSchema=True."
   ]
  },
  {
   "cell_type": "code",
   "execution_count": 74,
   "metadata": {},
   "outputs": [
    {
     "data": {
      "text/plain": [
       "DataFrame[_c0: int, Name: string, Sname: string, Age: int, Gender: string, Email_ID: string, Adderess: string, Profile: string, Experience: double]"
      ]
     },
     "execution_count": 74,
     "metadata": {},
     "output_type": "execute_result"
    }
   ],
   "source": [
    "# read dataset\n",
    "ps_df = spark.read.csv('test.csv', header = True,  inferSchema = True)\n",
    "ps_df"
   ]
  },
  {
   "cell_type": "code",
   "execution_count": 75,
   "metadata": {},
   "outputs": [
    {
     "name": "stdout",
     "output_type": "stream",
     "text": [
      "root\n",
      " |-- _c0: integer (nullable = true)\n",
      " |-- Name: string (nullable = true)\n",
      " |-- Sname: string (nullable = true)\n",
      " |-- Age: integer (nullable = true)\n",
      " |-- Gender: string (nullable = true)\n",
      " |-- Email_ID: string (nullable = true)\n",
      " |-- Adderess: string (nullable = true)\n",
      " |-- Profile: string (nullable = true)\n",
      " |-- Experience: double (nullable = true)\n",
      "\n"
     ]
    }
   ],
   "source": [
    "# check schema\n",
    "ps_df.printSchema()"
   ]
  },
  {
   "cell_type": "code",
   "execution_count": 40,
   "metadata": {},
   "outputs": [
    {
     "data": {
      "text/plain": [
       "pyspark.sql.dataframe.DataFrame"
      ]
     },
     "execution_count": 40,
     "metadata": {},
     "output_type": "execute_result"
    }
   ],
   "source": [
    "# check type\n",
    "type(ps_df)"
   ]
  },
  {
   "cell_type": "markdown",
   "metadata": {},
   "source": [
    "- DataFrame : is a data structures and inside that we can perform different operations.\n",
    "- DataFrame : is a data structure that organizes data into a 2-dimensional table of rows and columns, much like a spreadsheet."
   ]
  },
  {
   "cell_type": "code",
   "execution_count": 41,
   "metadata": {},
   "outputs": [
    {
     "data": {
      "text/plain": [
       "['_c0',\n",
       " 'Name',\n",
       " 'Sname',\n",
       " 'Age',\n",
       " 'Gender',\n",
       " 'Email_ID',\n",
       " 'Adderess',\n",
       " 'Profile',\n",
       " 'Experience']"
      ]
     },
     "execution_count": 41,
     "metadata": {},
     "output_type": "execute_result"
    }
   ],
   "source": [
    "# selecting collumns and indexing \n",
    "# how to get all the collumns\n",
    "ps_df.columns"
   ]
  },
  {
   "cell_type": "code",
   "execution_count": 42,
   "metadata": {},
   "outputs": [
    {
     "data": {
      "text/plain": [
       "Row(_c0=0, Name='kiran', Sname='mungkar', Age=29, Gender='m', Email_ID='kiran@gmail.com', Adderess='virar', Profile='data analyst', Experience=1.8)"
      ]
     },
     "execution_count": 42,
     "metadata": {},
     "output_type": "execute_result"
    }
   ],
   "source": [
    "ps_df.head() # default 1 record"
   ]
  },
  {
   "cell_type": "code",
   "execution_count": 43,
   "metadata": {},
   "outputs": [
    {
     "data": {
      "text/plain": [
       "[Row(_c0=0, Name='kiran', Sname='mungkar', Age=29, Gender='m', Email_ID='kiran@gmail.com', Adderess='virar', Profile='data analyst', Experience=1.8),\n",
       " Row(_c0=1, Name='kapil', Sname='nargund', Age=27, Gender='m', Email_ID='kapil@gmail.com', Adderess='vasai', Profile='data analyst', Experience=3.2),\n",
       " Row(_c0=2, Name='samira', Sname='sha', Age=28, Gender='f', Email_ID='samira@yahoo.com', Adderess='borivali', Profile='teacher', Experience=2.8)]"
      ]
     },
     "execution_count": 43,
     "metadata": {},
     "output_type": "execute_result"
    }
   ],
   "source": [
    "ps_df.head(3) # show 3 records"
   ]
  },
  {
   "cell_type": "code",
   "execution_count": 57,
   "metadata": {},
   "outputs": [
    {
     "data": {
      "text/plain": [
       "DataFrame[Name: string]"
      ]
     },
     "execution_count": 57,
     "metadata": {},
     "output_type": "execute_result"
    }
   ],
   "source": [
    "# to select the Name collumn\n",
    "ps_df.select(\"Name\")"
   ]
  },
  {
   "cell_type": "code",
   "execution_count": 58,
   "metadata": {},
   "outputs": [
    {
     "name": "stdout",
     "output_type": "stream",
     "text": [
      "+--------+\n",
      "|    Name|\n",
      "+--------+\n",
      "|   kiran|\n",
      "|   kapil|\n",
      "|   vinod|\n",
      "|  samira|\n",
      "|  vidhan|\n",
      "| abhijit|\n",
      "| namrata|\n",
      "|    neha|\n",
      "| shubham|\n",
      "| darshan|\n",
      "|    anuj|\n",
      "|harshali|\n",
      "|  nitesh|\n",
      "|  nitesh|\n",
      "|   vidit|\n",
      "|shradhha|\n",
      "|   jinal|\n",
      "|   rohit|\n",
      "|siddhesh|\n",
      "|   nidhi|\n",
      "+--------+\n",
      "only showing top 20 rows\n",
      "\n"
     ]
    }
   ],
   "source": [
    "ps_df.select(\"Name\").show()"
   ]
  },
  {
   "cell_type": "code",
   "execution_count": 61,
   "metadata": {},
   "outputs": [
    {
     "name": "stdout",
     "output_type": "stream",
     "text": [
      "+--------+\n",
      "|    Name|\n",
      "+--------+\n",
      "|   kiran|\n",
      "|   kapil|\n",
      "|   vinod|\n",
      "|  samira|\n",
      "|  vidhan|\n",
      "| abhijit|\n",
      "| namrata|\n",
      "|    neha|\n",
      "| shubham|\n",
      "| darshan|\n",
      "|    anuj|\n",
      "|harshali|\n",
      "|  nitesh|\n",
      "|  nitesh|\n",
      "|   vidit|\n",
      "|shradhha|\n",
      "|   jinal|\n",
      "|   rohit|\n",
      "|siddhesh|\n",
      "|   nidhi|\n",
      "+--------+\n",
      "only showing top 20 rows\n",
      "\n"
     ]
    }
   ],
   "source": [
    "name_df = ps_df.select(\"Name\")\n",
    "name_df.show()"
   ]
  },
  {
   "cell_type": "code",
   "execution_count": 60,
   "metadata": {},
   "outputs": [
    {
     "data": {
      "text/plain": [
       "pyspark.sql.dataframe.DataFrame"
      ]
     },
     "execution_count": 60,
     "metadata": {},
     "output_type": "execute_result"
    }
   ],
   "source": [
    "type(name_df)"
   ]
  },
  {
   "cell_type": "code",
   "execution_count": 66,
   "metadata": {},
   "outputs": [
    {
     "name": "stdout",
     "output_type": "stream",
     "text": [
      "+--------+---+\n",
      "|    Name|Age|\n",
      "+--------+---+\n",
      "|   kiran| 29|\n",
      "|   kapil| 27|\n",
      "|   vinod| 31|\n",
      "|  samira| 28|\n",
      "|  vidhan| 27|\n",
      "| abhijit| 27|\n",
      "| namrata| 28|\n",
      "|    neha| 27|\n",
      "| shubham| 26|\n",
      "| darshan| 27|\n",
      "|    anuj| 28|\n",
      "|harshali| 27|\n",
      "|  nitesh| 26|\n",
      "|  nitesh| 26|\n",
      "|   vidit| 29|\n",
      "|shradhha| 28|\n",
      "|   jinal| 30|\n",
      "|   rohit| 28|\n",
      "|siddhesh| 28|\n",
      "|   nidhi| 28|\n",
      "+--------+---+\n",
      "only showing top 20 rows\n",
      "\n"
     ]
    }
   ],
   "source": [
    "# select multiple collumns\n",
    "cols_df = ps_df.select([\"Name\", \"Age\"])\n",
    "cols_df.show()"
   ]
  },
  {
   "cell_type": "code",
   "execution_count": 71,
   "metadata": {},
   "outputs": [
    {
     "data": {
      "text/plain": [
       "[('_c0', 'int'),\n",
       " ('Name', 'string'),\n",
       " ('Sname', 'string'),\n",
       " ('Age', 'int'),\n",
       " ('Gender', 'string'),\n",
       " ('Email_ID', 'string'),\n",
       " ('Adderess', 'string'),\n",
       " ('Profile', 'string'),\n",
       " ('Experience', 'double')]"
      ]
     },
     "execution_count": 71,
     "metadata": {},
     "output_type": "execute_result"
    }
   ],
   "source": [
    "# dtypes\n",
    "ps_df.dtypes"
   ]
  },
  {
   "cell_type": "code",
   "execution_count": 78,
   "metadata": {},
   "outputs": [],
   "source": [
    "# Check describe option as similar to pandas\n",
    "# ps_df.describe().show()"
   ]
  },
  {
   "cell_type": "code",
   "execution_count": 80,
   "metadata": {},
   "outputs": [],
   "source": [
    "# Adding colloumns in dataframe\n",
    "EXP_after_2year_df = ps_df.withColumn(\"Exp. after 2 year\", ps_df[\"Experience\"]+2)"
   ]
  },
  {
   "cell_type": "code",
   "execution_count": 81,
   "metadata": {},
   "outputs": [
    {
     "name": "stdout",
     "output_type": "stream",
     "text": [
      "+---+--------+---------+---+------+-------------------+----------+--------------------+----------+-----------------+\n",
      "|_c0|    Name|    Sname|Age|Gender|           Email_ID|  Adderess|             Profile|Experience|Exp. after 2 year|\n",
      "+---+--------+---------+---+------+-------------------+----------+--------------------+----------+-----------------+\n",
      "|  0|   kiran|  mungkar| 29|     m|    kiran@gmail.com|     virar|        data analyst|       1.8|              3.8|\n",
      "|  1|   kapil|  nargund| 27|     m|    kapil@gmail.com|     vasai|        data analyst|       3.2|              5.2|\n",
      "|  2|   vinod|    kadam| 31|     m|    vinod#gmail.com|  borivali|             teacher|       2.8|              4.8|\n",
      "|  3|  samira|      sha| 28|     f|   samira@yahoo.com|  borivali|             teacher|       2.8|              4.8|\n",
      "|  4|  vidhan|     wani| 27|     m| vidhan@hotmail.com| bhayandar|automation developer|       1.5|              3.5|\n",
      "|  5| abhijit| panpatil| 27|     m|  abhijit@gmail.com|   palghar|shell scripting e...|       4.5|              6.5|\n",
      "|  6| namrata|deshamukh| 28|     f|  manrata@yahoo.com|  borivali| front end developer|       2.6|              4.6|\n",
      "|  7|    neha|     raut| 27|     f|   neha@hotmail.com|     virar|             teacher|       4.8|              6.8|\n",
      "|  8| shubham|     neve| 26|     m|shubham@hotmail.com|   palghar|automation developer|       3.5|              5.5|\n",
      "|  9| darshan|      sha| 27|     m|  darshan@gmail.com|     malad|       .net devloper|       3.4|              5.4|\n",
      "| 10|    anuj|    kumar| 28|     m|     anuj@yahoo.com|nalasopara|   backend developer|       4.7|              6.7|\n",
      "| 11|harshali|    desai| 27|     f| harshali@gmail.com|  borivali|      java developer|       4.1|              6.1|\n",
      "| 12|  nitesh|  kanojia| 26|     m|   nitesh@gmail.com|     vasai|        data analyst|       2.3|              4.3|\n",
      "| 13|  nitesh|   angare| 26|     m| nitesh_a@gmail.com|     virar|        bi developer|       2.0|              4.0|\n",
      "| 14|   vidit|      sha| 29|     m|    vidit@yahoo.com|  borivali|    business analyst|       4.0|              6.0|\n",
      "| 15|shradhha|   mahale| 28|     f| shraddha@yahoo.com|   palghar|   backend developer|       3.1|              5.1|\n",
      "| 16|   jinal|     jain| 30|     f|    jinal@gmail.com|     malad|     software tester|       3.2|              5.2|\n",
      "| 17|   rohit|    kumar| 28|     m|    rohit@gmail.com|     virar| front end developer|       2.7|              4.7|\n",
      "| 18|siddhesh|    patil| 28|     m| siddhesh@yahoo.com|     virar| front end developer|       2.7|              4.7|\n",
      "| 19|   nidhi|  divecha| 28|     f|  nidhi@hotmail.cpm|     vasai|             teacher|       3.2|              5.2|\n",
      "+---+--------+---------+---+------+-------------------+----------+--------------------+----------+-----------------+\n",
      "only showing top 20 rows\n",
      "\n"
     ]
    }
   ],
   "source": [
    "EXP_after_2year_df.show()"
   ]
  },
  {
   "cell_type": "code",
   "execution_count": 82,
   "metadata": {},
   "outputs": [
    {
     "name": "stdout",
     "output_type": "stream",
     "text": [
      "+---+--------+---------+---+------+-------------------+----------+--------------------+----------+\n",
      "|_c0|    Name|    Sname|Age|Gender|           Email_ID|  Adderess|             Profile|Experience|\n",
      "+---+--------+---------+---+------+-------------------+----------+--------------------+----------+\n",
      "|  0|   kiran|  mungkar| 29|     m|    kiran@gmail.com|     virar|        data analyst|       1.8|\n",
      "|  1|   kapil|  nargund| 27|     m|    kapil@gmail.com|     vasai|        data analyst|       3.2|\n",
      "|  2|   vinod|    kadam| 31|     m|    vinod#gmail.com|  borivali|             teacher|       2.8|\n",
      "|  3|  samira|      sha| 28|     f|   samira@yahoo.com|  borivali|             teacher|       2.8|\n",
      "|  4|  vidhan|     wani| 27|     m| vidhan@hotmail.com| bhayandar|automation developer|       1.5|\n",
      "|  5| abhijit| panpatil| 27|     m|  abhijit@gmail.com|   palghar|shell scripting e...|       4.5|\n",
      "|  6| namrata|deshamukh| 28|     f|  manrata@yahoo.com|  borivali| front end developer|       2.6|\n",
      "|  7|    neha|     raut| 27|     f|   neha@hotmail.com|     virar|             teacher|       4.8|\n",
      "|  8| shubham|     neve| 26|     m|shubham@hotmail.com|   palghar|automation developer|       3.5|\n",
      "|  9| darshan|      sha| 27|     m|  darshan@gmail.com|     malad|       .net devloper|       3.4|\n",
      "| 10|    anuj|    kumar| 28|     m|     anuj@yahoo.com|nalasopara|   backend developer|       4.7|\n",
      "| 11|harshali|    desai| 27|     f| harshali@gmail.com|  borivali|      java developer|       4.1|\n",
      "| 12|  nitesh|  kanojia| 26|     m|   nitesh@gmail.com|     vasai|        data analyst|       2.3|\n",
      "| 13|  nitesh|   angare| 26|     m| nitesh_a@gmail.com|     virar|        bi developer|       2.0|\n",
      "| 14|   vidit|      sha| 29|     m|    vidit@yahoo.com|  borivali|    business analyst|       4.0|\n",
      "| 15|shradhha|   mahale| 28|     f| shraddha@yahoo.com|   palghar|   backend developer|       3.1|\n",
      "| 16|   jinal|     jain| 30|     f|    jinal@gmail.com|     malad|     software tester|       3.2|\n",
      "| 17|   rohit|    kumar| 28|     m|    rohit@gmail.com|     virar| front end developer|       2.7|\n",
      "| 18|siddhesh|    patil| 28|     m| siddhesh@yahoo.com|     virar| front end developer|       2.7|\n",
      "| 19|   nidhi|  divecha| 28|     f|  nidhi@hotmail.cpm|     vasai|             teacher|       3.2|\n",
      "+---+--------+---------+---+------+-------------------+----------+--------------------+----------+\n",
      "only showing top 20 rows\n",
      "\n"
     ]
    }
   ],
   "source": [
    "# drop the columns\n",
    "drop_df = EXP_after_2year_df.drop(\"Exp. after 2 year\")\n",
    "drop_df.show()"
   ]
  },
  {
   "cell_type": "code",
   "execution_count": 83,
   "metadata": {},
   "outputs": [
    {
     "name": "stdout",
     "output_type": "stream",
     "text": [
      "+---+--------+---------+---+------+-------------------+----------+--------------------+----------+\n",
      "|_c0|  F_Name|    Sname|Age|Gender|           Email_ID|  Adderess|             Profile|Experience|\n",
      "+---+--------+---------+---+------+-------------------+----------+--------------------+----------+\n",
      "|  0|   kiran|  mungkar| 29|     m|    kiran@gmail.com|     virar|        data analyst|       1.8|\n",
      "|  1|   kapil|  nargund| 27|     m|    kapil@gmail.com|     vasai|        data analyst|       3.2|\n",
      "|  2|   vinod|    kadam| 31|     m|    vinod#gmail.com|  borivali|             teacher|       2.8|\n",
      "|  3|  samira|      sha| 28|     f|   samira@yahoo.com|  borivali|             teacher|       2.8|\n",
      "|  4|  vidhan|     wani| 27|     m| vidhan@hotmail.com| bhayandar|automation developer|       1.5|\n",
      "|  5| abhijit| panpatil| 27|     m|  abhijit@gmail.com|   palghar|shell scripting e...|       4.5|\n",
      "|  6| namrata|deshamukh| 28|     f|  manrata@yahoo.com|  borivali| front end developer|       2.6|\n",
      "|  7|    neha|     raut| 27|     f|   neha@hotmail.com|     virar|             teacher|       4.8|\n",
      "|  8| shubham|     neve| 26|     m|shubham@hotmail.com|   palghar|automation developer|       3.5|\n",
      "|  9| darshan|      sha| 27|     m|  darshan@gmail.com|     malad|       .net devloper|       3.4|\n",
      "| 10|    anuj|    kumar| 28|     m|     anuj@yahoo.com|nalasopara|   backend developer|       4.7|\n",
      "| 11|harshali|    desai| 27|     f| harshali@gmail.com|  borivali|      java developer|       4.1|\n",
      "| 12|  nitesh|  kanojia| 26|     m|   nitesh@gmail.com|     vasai|        data analyst|       2.3|\n",
      "| 13|  nitesh|   angare| 26|     m| nitesh_a@gmail.com|     virar|        bi developer|       2.0|\n",
      "| 14|   vidit|      sha| 29|     m|    vidit@yahoo.com|  borivali|    business analyst|       4.0|\n",
      "| 15|shradhha|   mahale| 28|     f| shraddha@yahoo.com|   palghar|   backend developer|       3.1|\n",
      "| 16|   jinal|     jain| 30|     f|    jinal@gmail.com|     malad|     software tester|       3.2|\n",
      "| 17|   rohit|    kumar| 28|     m|    rohit@gmail.com|     virar| front end developer|       2.7|\n",
      "| 18|siddhesh|    patil| 28|     m| siddhesh@yahoo.com|     virar| front end developer|       2.7|\n",
      "| 19|   nidhi|  divecha| 28|     f|  nidhi@hotmail.cpm|     vasai|             teacher|       3.2|\n",
      "+---+--------+---------+---+------+-------------------+----------+--------------------+----------+\n",
      "only showing top 20 rows\n",
      "\n"
     ]
    }
   ],
   "source": [
    "# Rename the column\n",
    "rename_col_df = drop_df.withColumnRenamed(\"Name\", \"F_Name\")\n",
    "rename_col_df.show()"
   ]
  },
  {
   "cell_type": "markdown",
   "metadata": {},
   "source": [
    "# Pyspark Handling Missing Values"
   ]
  },
  {
   "cell_type": "markdown",
   "metadata": {},
   "source": [
    "- Dropping columns\n",
    "- Droping rows\n",
    "- Various parameter in dropping functionalities\n",
    "- Handelingmissing values by mean, median and mode"
   ]
  },
  {
   "cell_type": "code",
   "execution_count": 2,
   "metadata": {},
   "outputs": [],
   "source": [
    "# read excel and convert to csv\n",
    "import pandas as pd\n",
    "# read .xlsx\n",
    "df = pd.read_excel('test1.xlsx')\n",
    "# to save in .csv\n",
    "df.to_csv('test1.csv')"
   ]
  },
  {
   "cell_type": "code",
   "execution_count": 7,
   "metadata": {},
   "outputs": [
    {
     "name": "stdout",
     "output_type": "stream",
     "text": [
      "+---+--------+---------+----+------+-------------------+----------+--------------------+----------+\n",
      "|_c0|    Name|    Sname| Age|Gender|           Email_ID|  Adderess|             Profile|Experience|\n",
      "+---+--------+---------+----+------+-------------------+----------+--------------------+----------+\n",
      "|  0|   kiran|  mungkar|29.0|     m|    kiran@gmail.com|     virar|        data analyst|       1.8|\n",
      "|  1|   kapil|  nargund|27.0|     m|    kapil@gmail.com|     vasai|        data analyst|       3.2|\n",
      "|  2|   vinod|    kadam|31.0|     m|    vinod#gmail.com|  borivali|             teacher|       2.8|\n",
      "|  3|    null|      sha|28.0|     f|   samira@yahoo.com|  borivali|             teacher|      null|\n",
      "|  4|  vidhan|     wani|null|     m| vidhan@hotmail.com| bhayandar|automation developer|       1.5|\n",
      "|  5| abhijit| panpatil|null|     m|  abhijit@gmail.com|   palghar|                null|       4.5|\n",
      "|  6| namrata|deshamukh|28.0|     f|  manrata@yahoo.com|  borivali| front end developer|       2.6|\n",
      "|  7|    neha|     raut|27.0|     f|   neha@hotmail.com|     virar|             teacher|       4.8|\n",
      "|  8| shubham|     neve|26.0|     m|shubham@hotmail.com|   palghar|automation developer|       3.5|\n",
      "|  9| darshan|     null|27.0|  null|  darshan@gmail.com|     malad|       .net devloper|       3.4|\n",
      "| 10|    anuj|    kumar|28.0|     m|     anuj@yahoo.com|nalasopara|   backend developer|       4.7|\n",
      "| 11|harshali|    desai|27.0|     f| harshali@gmail.com|  borivali|      java developer|       4.1|\n",
      "| 12|  nitesh|  kanojia|26.0|     m|   nitesh@gmail.com|     vasai|        data analyst|       2.3|\n",
      "| 13|  nitesh|   angare|26.0|     m| nitesh_a@gmail.com|     virar|        bi developer|       2.0|\n",
      "| 14|   vidit|     null|null|     m|    vidit@yahoo.com|  borivali|    business analyst|       4.0|\n",
      "| 15|shradhha|   mahale|28.0|     f| shraddha@yahoo.com|   palghar|   backend developer|       3.1|\n",
      "| 16|   jinal|     jain|30.0|     f|    jinal@gmail.com|     malad|     software tester|       3.2|\n",
      "| 17|   rohit|     null|28.0|     m|    rohit@gmail.com|     virar| front end developer|       2.7|\n",
      "| 18|siddhesh|     null|28.0|     m| siddhesh@yahoo.com|     virar| front end developer|       2.7|\n",
      "| 19|   nidhi|  divecha|28.0|     f|  nidhi@hotmail.cpm|     vasai|             teacher|       3.2|\n",
      "+---+--------+---------+----+------+-------------------+----------+--------------------+----------+\n",
      "only showing top 20 rows\n",
      "\n"
     ]
    }
   ],
   "source": [
    "# connect seseeion\n",
    "from pyspark.sql import SparkSession\n",
    "spark = SparkSession.builder.appName('Practrice').getOrCreate()\n",
    "\n",
    "# read .csv file \n",
    "ps_df = spark.read.csv('test1.csv', header=True, inferSchema=True)\n",
    "ps_df.show()"
   ]
  },
  {
   "cell_type": "code",
   "execution_count": 8,
   "metadata": {},
   "outputs": [
    {
     "name": "stdout",
     "output_type": "stream",
     "text": [
      "+---+--------+---------+----+------+-------------------+----------+--------------------+\n",
      "|_c0|    Name|    Sname| Age|Gender|           Email_ID|  Adderess|             Profile|\n",
      "+---+--------+---------+----+------+-------------------+----------+--------------------+\n",
      "|  0|   kiran|  mungkar|29.0|     m|    kiran@gmail.com|     virar|        data analyst|\n",
      "|  1|   kapil|  nargund|27.0|     m|    kapil@gmail.com|     vasai|        data analyst|\n",
      "|  2|   vinod|    kadam|31.0|     m|    vinod#gmail.com|  borivali|             teacher|\n",
      "|  3|    null|      sha|28.0|     f|   samira@yahoo.com|  borivali|             teacher|\n",
      "|  4|  vidhan|     wani|null|     m| vidhan@hotmail.com| bhayandar|automation developer|\n",
      "|  5| abhijit| panpatil|null|     m|  abhijit@gmail.com|   palghar|                null|\n",
      "|  6| namrata|deshamukh|28.0|     f|  manrata@yahoo.com|  borivali| front end developer|\n",
      "|  7|    neha|     raut|27.0|     f|   neha@hotmail.com|     virar|             teacher|\n",
      "|  8| shubham|     neve|26.0|     m|shubham@hotmail.com|   palghar|automation developer|\n",
      "|  9| darshan|     null|27.0|  null|  darshan@gmail.com|     malad|       .net devloper|\n",
      "| 10|    anuj|    kumar|28.0|     m|     anuj@yahoo.com|nalasopara|   backend developer|\n",
      "| 11|harshali|    desai|27.0|     f| harshali@gmail.com|  borivali|      java developer|\n",
      "| 12|  nitesh|  kanojia|26.0|     m|   nitesh@gmail.com|     vasai|        data analyst|\n",
      "| 13|  nitesh|   angare|26.0|     m| nitesh_a@gmail.com|     virar|        bi developer|\n",
      "| 14|   vidit|     null|null|     m|    vidit@yahoo.com|  borivali|    business analyst|\n",
      "| 15|shradhha|   mahale|28.0|     f| shraddha@yahoo.com|   palghar|   backend developer|\n",
      "| 16|   jinal|     jain|30.0|     f|    jinal@gmail.com|     malad|     software tester|\n",
      "| 17|   rohit|     null|28.0|     m|    rohit@gmail.com|     virar| front end developer|\n",
      "| 18|siddhesh|     null|28.0|     m| siddhesh@yahoo.com|     virar| front end developer|\n",
      "| 19|   nidhi|  divecha|28.0|     f|  nidhi@hotmail.cpm|     vasai|             teacher|\n",
      "+---+--------+---------+----+------+-------------------+----------+--------------------+\n",
      "only showing top 20 rows\n",
      "\n"
     ]
    }
   ],
   "source": [
    "# drop the column\n",
    "drop_column_df = ps_df.drop('Experience')\n",
    "drop_column_df.show()"
   ]
  },
  {
   "cell_type": "code",
   "execution_count": 9,
   "metadata": {},
   "outputs": [
    {
     "name": "stdout",
     "output_type": "stream",
     "text": [
      "+---+---------+---------+----+------+-------------------+----------+--------------------+----------+\n",
      "|_c0|     Name|    Sname| Age|Gender|           Email_ID|  Adderess|             Profile|Experience|\n",
      "+---+---------+---------+----+------+-------------------+----------+--------------------+----------+\n",
      "|  0|    kiran|  mungkar|29.0|     m|    kiran@gmail.com|     virar|        data analyst|       1.8|\n",
      "|  1|    kapil|  nargund|27.0|     m|    kapil@gmail.com|     vasai|        data analyst|       3.2|\n",
      "|  2|    vinod|    kadam|31.0|     m|    vinod#gmail.com|  borivali|             teacher|       2.8|\n",
      "|  6|  namrata|deshamukh|28.0|     f|  manrata@yahoo.com|  borivali| front end developer|       2.6|\n",
      "|  7|     neha|     raut|27.0|     f|   neha@hotmail.com|     virar|             teacher|       4.8|\n",
      "|  8|  shubham|     neve|26.0|     m|shubham@hotmail.com|   palghar|automation developer|       3.5|\n",
      "| 10|     anuj|    kumar|28.0|     m|     anuj@yahoo.com|nalasopara|   backend developer|       4.7|\n",
      "| 11| harshali|    desai|27.0|     f| harshali@gmail.com|  borivali|      java developer|       4.1|\n",
      "| 12|   nitesh|  kanojia|26.0|     m|   nitesh@gmail.com|     vasai|        data analyst|       2.3|\n",
      "| 13|   nitesh|   angare|26.0|     m| nitesh_a@gmail.com|     virar|        bi developer|       2.0|\n",
      "| 15| shradhha|   mahale|28.0|     f| shraddha@yahoo.com|   palghar|   backend developer|       3.1|\n",
      "| 16|    jinal|     jain|30.0|     f|    jinal@gmail.com|     malad|     software tester|       3.2|\n",
      "| 19|    nidhi|  divecha|28.0|     f|  nidhi@hotmail.cpm|     vasai|             teacher|       3.2|\n",
      "| 20|    harsh|  divecha|30.0|     m|    harsh@yahoo.com|     vasai|   software security|       4.1|\n",
      "| 21|   snehal|    matre|27.0|     f|   snehal@gmail.com| bhayandar|             teacher|       2.4|\n",
      "| 22|    medha|    patil|32.0|     f|    medha@yahoo.com|  borivali|       .net devloper|       3.6|\n",
      "| 26|sudhanshu|    kumar|32.0|     m|sudhanshu@gmail.com|     dadar|             teacher|       5.6|\n",
      "+---+---------+---------+----+------+-------------------+----------+--------------------+----------+\n",
      "\n"
     ]
    }
   ],
   "source": [
    "# drop rows based on null values \n",
    "ps_df.na.drop().show()"
   ]
  },
  {
   "cell_type": "code",
   "execution_count": 10,
   "metadata": {},
   "outputs": [
    {
     "name": "stdout",
     "output_type": "stream",
     "text": [
      "+---+---------+---------+----+------+-------------------+----------+--------------------+----------+\n",
      "|_c0|     Name|    Sname| Age|Gender|           Email_ID|  Adderess|             Profile|Experience|\n",
      "+---+---------+---------+----+------+-------------------+----------+--------------------+----------+\n",
      "|  0|    kiran|  mungkar|29.0|     m|    kiran@gmail.com|     virar|        data analyst|       1.8|\n",
      "|  1|    kapil|  nargund|27.0|     m|    kapil@gmail.com|     vasai|        data analyst|       3.2|\n",
      "|  2|    vinod|    kadam|31.0|     m|    vinod#gmail.com|  borivali|             teacher|       2.8|\n",
      "|  6|  namrata|deshamukh|28.0|     f|  manrata@yahoo.com|  borivali| front end developer|       2.6|\n",
      "|  7|     neha|     raut|27.0|     f|   neha@hotmail.com|     virar|             teacher|       4.8|\n",
      "|  8|  shubham|     neve|26.0|     m|shubham@hotmail.com|   palghar|automation developer|       3.5|\n",
      "| 10|     anuj|    kumar|28.0|     m|     anuj@yahoo.com|nalasopara|   backend developer|       4.7|\n",
      "| 11| harshali|    desai|27.0|     f| harshali@gmail.com|  borivali|      java developer|       4.1|\n",
      "| 12|   nitesh|  kanojia|26.0|     m|   nitesh@gmail.com|     vasai|        data analyst|       2.3|\n",
      "| 13|   nitesh|   angare|26.0|     m| nitesh_a@gmail.com|     virar|        bi developer|       2.0|\n",
      "| 15| shradhha|   mahale|28.0|     f| shraddha@yahoo.com|   palghar|   backend developer|       3.1|\n",
      "| 16|    jinal|     jain|30.0|     f|    jinal@gmail.com|     malad|     software tester|       3.2|\n",
      "| 19|    nidhi|  divecha|28.0|     f|  nidhi@hotmail.cpm|     vasai|             teacher|       3.2|\n",
      "| 20|    harsh|  divecha|30.0|     m|    harsh@yahoo.com|     vasai|   software security|       4.1|\n",
      "| 21|   snehal|    matre|27.0|     f|   snehal@gmail.com| bhayandar|             teacher|       2.4|\n",
      "| 22|    medha|    patil|32.0|     f|    medha@yahoo.com|  borivali|       .net devloper|       3.6|\n",
      "| 26|sudhanshu|    kumar|32.0|     m|sudhanshu@gmail.com|     dadar|             teacher|       5.6|\n",
      "+---+---------+---------+----+------+-------------------+----------+--------------------+----------+\n",
      "\n"
     ]
    }
   ],
   "source": [
    "# ps_df.na.drop(how='any', thresh=None, subset=None)\n",
    "# how: 'any' or 'all'.\n",
    "# If 'any', drop a row if it contains any nulls.\n",
    "# If 'all', drop a row only if all its values are null.\n",
    "# drop when how == all OR how == any\n",
    "ps_df.na.drop(how='any').show()"
   ]
  },
  {
   "cell_type": "code",
   "execution_count": 11,
   "metadata": {},
   "outputs": [
    {
     "name": "stdout",
     "output_type": "stream",
     "text": [
      "+---+--------+---------+----+------+-------------------+----------+--------------------+----------+\n",
      "|_c0|    Name|    Sname| Age|Gender|           Email_ID|  Adderess|             Profile|Experience|\n",
      "+---+--------+---------+----+------+-------------------+----------+--------------------+----------+\n",
      "|  0|   kiran|  mungkar|29.0|     m|    kiran@gmail.com|     virar|        data analyst|       1.8|\n",
      "|  1|   kapil|  nargund|27.0|     m|    kapil@gmail.com|     vasai|        data analyst|       3.2|\n",
      "|  2|   vinod|    kadam|31.0|     m|    vinod#gmail.com|  borivali|             teacher|       2.8|\n",
      "|  3|    null|      sha|28.0|     f|   samira@yahoo.com|  borivali|             teacher|      null|\n",
      "|  4|  vidhan|     wani|null|     m| vidhan@hotmail.com| bhayandar|automation developer|       1.5|\n",
      "|  5| abhijit| panpatil|null|     m|  abhijit@gmail.com|   palghar|                null|       4.5|\n",
      "|  6| namrata|deshamukh|28.0|     f|  manrata@yahoo.com|  borivali| front end developer|       2.6|\n",
      "|  7|    neha|     raut|27.0|     f|   neha@hotmail.com|     virar|             teacher|       4.8|\n",
      "|  8| shubham|     neve|26.0|     m|shubham@hotmail.com|   palghar|automation developer|       3.5|\n",
      "|  9| darshan|     null|27.0|  null|  darshan@gmail.com|     malad|       .net devloper|       3.4|\n",
      "| 10|    anuj|    kumar|28.0|     m|     anuj@yahoo.com|nalasopara|   backend developer|       4.7|\n",
      "| 11|harshali|    desai|27.0|     f| harshali@gmail.com|  borivali|      java developer|       4.1|\n",
      "| 12|  nitesh|  kanojia|26.0|     m|   nitesh@gmail.com|     vasai|        data analyst|       2.3|\n",
      "| 13|  nitesh|   angare|26.0|     m| nitesh_a@gmail.com|     virar|        bi developer|       2.0|\n",
      "| 14|   vidit|     null|null|     m|    vidit@yahoo.com|  borivali|    business analyst|       4.0|\n",
      "| 15|shradhha|   mahale|28.0|     f| shraddha@yahoo.com|   palghar|   backend developer|       3.1|\n",
      "| 16|   jinal|     jain|30.0|     f|    jinal@gmail.com|     malad|     software tester|       3.2|\n",
      "| 17|   rohit|     null|28.0|     m|    rohit@gmail.com|     virar| front end developer|       2.7|\n",
      "| 18|siddhesh|     null|28.0|     m| siddhesh@yahoo.com|     virar| front end developer|       2.7|\n",
      "| 19|   nidhi|  divecha|28.0|     f|  nidhi@hotmail.cpm|     vasai|             teacher|       3.2|\n",
      "+---+--------+---------+----+------+-------------------+----------+--------------------+----------+\n",
      "only showing top 20 rows\n",
      "\n"
     ]
    }
   ],
   "source": [
    "ps_df.na.drop(how='all').show()"
   ]
  },
  {
   "cell_type": "code",
   "execution_count": 12,
   "metadata": {},
   "outputs": [
    {
     "name": "stdout",
     "output_type": "stream",
     "text": [
      "+---+--------+---------+----+------+-------------------+----------+--------------------+----------+\n",
      "|_c0|    Name|    Sname| Age|Gender|           Email_ID|  Adderess|             Profile|Experience|\n",
      "+---+--------+---------+----+------+-------------------+----------+--------------------+----------+\n",
      "|  0|   kiran|  mungkar|29.0|     m|    kiran@gmail.com|     virar|        data analyst|       1.8|\n",
      "|  1|   kapil|  nargund|27.0|     m|    kapil@gmail.com|     vasai|        data analyst|       3.2|\n",
      "|  2|   vinod|    kadam|31.0|     m|    vinod#gmail.com|  borivali|             teacher|       2.8|\n",
      "|  3|    null|      sha|28.0|     f|   samira@yahoo.com|  borivali|             teacher|      null|\n",
      "|  4|  vidhan|     wani|null|     m| vidhan@hotmail.com| bhayandar|automation developer|       1.5|\n",
      "|  5| abhijit| panpatil|null|     m|  abhijit@gmail.com|   palghar|                null|       4.5|\n",
      "|  6| namrata|deshamukh|28.0|     f|  manrata@yahoo.com|  borivali| front end developer|       2.6|\n",
      "|  7|    neha|     raut|27.0|     f|   neha@hotmail.com|     virar|             teacher|       4.8|\n",
      "|  8| shubham|     neve|26.0|     m|shubham@hotmail.com|   palghar|automation developer|       3.5|\n",
      "|  9| darshan|     null|27.0|  null|  darshan@gmail.com|     malad|       .net devloper|       3.4|\n",
      "| 10|    anuj|    kumar|28.0|     m|     anuj@yahoo.com|nalasopara|   backend developer|       4.7|\n",
      "| 11|harshali|    desai|27.0|     f| harshali@gmail.com|  borivali|      java developer|       4.1|\n",
      "| 12|  nitesh|  kanojia|26.0|     m|   nitesh@gmail.com|     vasai|        data analyst|       2.3|\n",
      "| 13|  nitesh|   angare|26.0|     m| nitesh_a@gmail.com|     virar|        bi developer|       2.0|\n",
      "| 14|   vidit|     null|null|     m|    vidit@yahoo.com|  borivali|    business analyst|       4.0|\n",
      "| 15|shradhha|   mahale|28.0|     f| shraddha@yahoo.com|   palghar|   backend developer|       3.1|\n",
      "| 16|   jinal|     jain|30.0|     f|    jinal@gmail.com|     malad|     software tester|       3.2|\n",
      "| 17|   rohit|     null|28.0|     m|    rohit@gmail.com|     virar| front end developer|       2.7|\n",
      "| 18|siddhesh|     null|28.0|     m| siddhesh@yahoo.com|     virar| front end developer|       2.7|\n",
      "| 19|   nidhi|  divecha|28.0|     f|  nidhi@hotmail.cpm|     vasai|             teacher|       3.2|\n",
      "+---+--------+---------+----+------+-------------------+----------+--------------------+----------+\n",
      "only showing top 20 rows\n",
      "\n"
     ]
    }
   ],
   "source": [
    "# thresh: int, default None\n",
    "# If specified, drop rows that have less than `thresh` non-null values.\n",
    "# This overwrites the `how` parameter.\n",
    "ps_df.na.drop(how='any', thresh=2).show()"
   ]
  },
  {
   "cell_type": "code",
   "execution_count": 17,
   "metadata": {},
   "outputs": [
    {
     "name": "stdout",
     "output_type": "stream",
     "text": [
      "+---+---------+---------+----+------+-------------------+----------+--------------------+----------+\n",
      "|_c0|     Name|    Sname| Age|Gender|           Email_ID|  Adderess|             Profile|Experience|\n",
      "+---+---------+---------+----+------+-------------------+----------+--------------------+----------+\n",
      "|  0|    kiran|  mungkar|29.0|     m|    kiran@gmail.com|     virar|        data analyst|       1.8|\n",
      "|  1|    kapil|  nargund|27.0|     m|    kapil@gmail.com|     vasai|        data analyst|       3.2|\n",
      "|  2|    vinod|    kadam|31.0|     m|    vinod#gmail.com|  borivali|             teacher|       2.8|\n",
      "|  3|     null|      sha|28.0|     f|   samira@yahoo.com|  borivali|             teacher|      null|\n",
      "|  4|   vidhan|     wani|null|     m| vidhan@hotmail.com| bhayandar|automation developer|       1.5|\n",
      "|  5|  abhijit| panpatil|null|     m|  abhijit@gmail.com|   palghar|                null|       4.5|\n",
      "|  6|  namrata|deshamukh|28.0|     f|  manrata@yahoo.com|  borivali| front end developer|       2.6|\n",
      "|  7|     neha|     raut|27.0|     f|   neha@hotmail.com|     virar|             teacher|       4.8|\n",
      "|  8|  shubham|     neve|26.0|     m|shubham@hotmail.com|   palghar|automation developer|       3.5|\n",
      "|  9|  darshan|     null|27.0|  null|  darshan@gmail.com|     malad|       .net devloper|       3.4|\n",
      "| 10|     anuj|    kumar|28.0|     m|     anuj@yahoo.com|nalasopara|   backend developer|       4.7|\n",
      "| 11| harshali|    desai|27.0|     f| harshali@gmail.com|  borivali|      java developer|       4.1|\n",
      "| 12|   nitesh|  kanojia|26.0|     m|   nitesh@gmail.com|     vasai|        data analyst|       2.3|\n",
      "| 13|   nitesh|   angare|26.0|     m| nitesh_a@gmail.com|     virar|        bi developer|       2.0|\n",
      "| 14|    vidit|     null|null|     m|    vidit@yahoo.com|  borivali|    business analyst|       4.0|\n",
      "| 15| shradhha|   mahale|28.0|     f| shraddha@yahoo.com|   palghar|   backend developer|       3.1|\n",
      "| 16|    jinal|     jain|30.0|     f|    jinal@gmail.com|     malad|     software tester|       3.2|\n",
      "| 17|    rohit|     null|28.0|     m|    rohit@gmail.com|     virar| front end developer|       2.7|\n",
      "| 18| siddhesh|     null|28.0|     m| siddhesh@yahoo.com|     virar| front end developer|       2.7|\n",
      "| 19|    nidhi|  divecha|28.0|     f|  nidhi@hotmail.cpm|     vasai|             teacher|       3.2|\n",
      "| 20|    harsh|  divecha|30.0|     m|    harsh@yahoo.com|     vasai|   software security|       4.1|\n",
      "| 21|   snehal|    matre|27.0|     f|   snehal@gmail.com| bhayandar|             teacher|       2.4|\n",
      "| 22|    medha|    patil|32.0|     f|    medha@yahoo.com|  borivali|       .net devloper|       3.6|\n",
      "| 23|    sonal|  gondane|null|     f|    sonal@gmail.com|  borivali|             teacher|       4.3|\n",
      "| 24|     null|     null|32.0|  null|               null|      null|                null|      null|\n",
      "| 25|    nayan|     null|null|     m|               null|     virar|             maneger|       4.5|\n",
      "| 26|sudhanshu|    kumar|32.0|     m|sudhanshu@gmail.com|     dadar|             teacher|       5.6|\n",
      "| 27|    kirsh|     naik|32.0|     m|               null|     dadar|             teacher|       5.0|\n",
      "| 28|     raju| narvekar|null|  null|   raju@hotmail.com|     parel|                null|       5.0|\n",
      "| 29|     sonu|    gawde|35.0|     m|               null|      null|     software tester|      null|\n",
      "| 30|     null|    desai|null|     f|               null|     vasai|    business analyst|      null|\n",
      "| 31| utkarsha|    kadam|null|     f| utkarsha@gmail.com|     virar|             teacher|      null|\n",
      "| 32|     null|    parab|30.0|     m|               null|   palghar|                null|       2.0|\n",
      "+---+---------+---------+----+------+-------------------+----------+--------------------+----------+\n",
      "\n"
     ]
    }
   ],
   "source": [
    "ps_df.na.drop(how='any', thresh=2).show(40)"
   ]
  },
  {
   "cell_type": "code",
   "execution_count": 21,
   "metadata": {},
   "outputs": [
    {
     "name": "stdout",
     "output_type": "stream",
     "text": [
      "+---+---------+---------+----+------+-------------------+----------+--------------------+----------+\n",
      "|_c0|     Name|    Sname| Age|Gender|           Email_ID|  Adderess|             Profile|Experience|\n",
      "+---+---------+---------+----+------+-------------------+----------+--------------------+----------+\n",
      "|  0|    kiran|  mungkar|29.0|     m|    kiran@gmail.com|     virar|        data analyst|       1.8|\n",
      "|  1|    kapil|  nargund|27.0|     m|    kapil@gmail.com|     vasai|        data analyst|       3.2|\n",
      "|  2|    vinod|    kadam|31.0|     m|    vinod#gmail.com|  borivali|             teacher|       2.8|\n",
      "|  4|   vidhan|     wani|null|     m| vidhan@hotmail.com| bhayandar|automation developer|       1.5|\n",
      "|  6|  namrata|deshamukh|28.0|     f|  manrata@yahoo.com|  borivali| front end developer|       2.6|\n",
      "|  7|     neha|     raut|27.0|     f|   neha@hotmail.com|     virar|             teacher|       4.8|\n",
      "|  8|  shubham|     neve|26.0|     m|shubham@hotmail.com|   palghar|automation developer|       3.5|\n",
      "|  9|  darshan|     null|27.0|  null|  darshan@gmail.com|     malad|       .net devloper|       3.4|\n",
      "| 10|     anuj|    kumar|28.0|     m|     anuj@yahoo.com|nalasopara|   backend developer|       4.7|\n",
      "| 11| harshali|    desai|27.0|     f| harshali@gmail.com|  borivali|      java developer|       4.1|\n",
      "| 12|   nitesh|  kanojia|26.0|     m|   nitesh@gmail.com|     vasai|        data analyst|       2.3|\n",
      "| 13|   nitesh|   angare|26.0|     m| nitesh_a@gmail.com|     virar|        bi developer|       2.0|\n",
      "| 14|    vidit|     null|null|     m|    vidit@yahoo.com|  borivali|    business analyst|       4.0|\n",
      "| 15| shradhha|   mahale|28.0|     f| shraddha@yahoo.com|   palghar|   backend developer|       3.1|\n",
      "| 16|    jinal|     jain|30.0|     f|    jinal@gmail.com|     malad|     software tester|       3.2|\n",
      "| 17|    rohit|     null|28.0|     m|    rohit@gmail.com|     virar| front end developer|       2.7|\n",
      "| 18| siddhesh|     null|28.0|     m| siddhesh@yahoo.com|     virar| front end developer|       2.7|\n",
      "| 19|    nidhi|  divecha|28.0|     f|  nidhi@hotmail.cpm|     vasai|             teacher|       3.2|\n",
      "| 20|    harsh|  divecha|30.0|     m|    harsh@yahoo.com|     vasai|   software security|       4.1|\n",
      "| 21|   snehal|    matre|27.0|     f|   snehal@gmail.com| bhayandar|             teacher|       2.4|\n",
      "| 22|    medha|    patil|32.0|     f|    medha@yahoo.com|  borivali|       .net devloper|       3.6|\n",
      "| 23|    sonal|  gondane|null|     f|    sonal@gmail.com|  borivali|             teacher|       4.3|\n",
      "| 26|sudhanshu|    kumar|32.0|     m|sudhanshu@gmail.com|     dadar|             teacher|       5.6|\n",
      "+---+---------+---------+----+------+-------------------+----------+--------------------+----------+\n",
      "\n"
     ]
    }
   ],
   "source": [
    "# subset: optional list of column names to consider\n",
    "ps_df.na.drop(subset=['Email_ID', 'Profile', 'Experience']).show(40)"
   ]
  },
  {
   "cell_type": "code",
   "execution_count": 22,
   "metadata": {},
   "outputs": [
    {
     "name": "stdout",
     "output_type": "stream",
     "text": [
      "+---+-------------+-------------+----+-------------+-------------------+-------------+--------------------+----------+\n",
      "|_c0|         Name|        Sname| Age|       Gender|           Email_ID|     Adderess|             Profile|Experience|\n",
      "+---+-------------+-------------+----+-------------+-------------------+-------------+--------------------+----------+\n",
      "|  0|        kiran|      mungkar|29.0|            m|    kiran@gmail.com|        virar|        data analyst|       1.8|\n",
      "|  1|        kapil|      nargund|27.0|            m|    kapil@gmail.com|        vasai|        data analyst|       3.2|\n",
      "|  2|        vinod|        kadam|31.0|            m|    vinod#gmail.com|     borivali|             teacher|       2.8|\n",
      "|  3|Missing Value|          sha|28.0|            f|   samira@yahoo.com|     borivali|             teacher|      null|\n",
      "|  4|       vidhan|         wani|null|            m| vidhan@hotmail.com|    bhayandar|automation developer|       1.5|\n",
      "|  5|      abhijit|     panpatil|null|            m|  abhijit@gmail.com|      palghar|       Missing Value|       4.5|\n",
      "|  6|      namrata|    deshamukh|28.0|            f|  manrata@yahoo.com|     borivali| front end developer|       2.6|\n",
      "|  7|         neha|         raut|27.0|            f|   neha@hotmail.com|        virar|             teacher|       4.8|\n",
      "|  8|      shubham|         neve|26.0|            m|shubham@hotmail.com|      palghar|automation developer|       3.5|\n",
      "|  9|      darshan|Missing Value|27.0|Missing Value|  darshan@gmail.com|        malad|       .net devloper|       3.4|\n",
      "| 10|         anuj|        kumar|28.0|            m|     anuj@yahoo.com|   nalasopara|   backend developer|       4.7|\n",
      "| 11|     harshali|        desai|27.0|            f| harshali@gmail.com|     borivali|      java developer|       4.1|\n",
      "| 12|       nitesh|      kanojia|26.0|            m|   nitesh@gmail.com|        vasai|        data analyst|       2.3|\n",
      "| 13|       nitesh|       angare|26.0|            m| nitesh_a@gmail.com|        virar|        bi developer|       2.0|\n",
      "| 14|        vidit|Missing Value|null|            m|    vidit@yahoo.com|     borivali|    business analyst|       4.0|\n",
      "| 15|     shradhha|       mahale|28.0|            f| shraddha@yahoo.com|      palghar|   backend developer|       3.1|\n",
      "| 16|        jinal|         jain|30.0|            f|    jinal@gmail.com|        malad|     software tester|       3.2|\n",
      "| 17|        rohit|Missing Value|28.0|            m|    rohit@gmail.com|        virar| front end developer|       2.7|\n",
      "| 18|     siddhesh|Missing Value|28.0|            m| siddhesh@yahoo.com|        virar| front end developer|       2.7|\n",
      "| 19|        nidhi|      divecha|28.0|            f|  nidhi@hotmail.cpm|        vasai|             teacher|       3.2|\n",
      "| 20|        harsh|      divecha|30.0|            m|    harsh@yahoo.com|        vasai|   software security|       4.1|\n",
      "| 21|       snehal|        matre|27.0|            f|   snehal@gmail.com|    bhayandar|             teacher|       2.4|\n",
      "| 22|        medha|        patil|32.0|            f|    medha@yahoo.com|     borivali|       .net devloper|       3.6|\n",
      "| 23|        sonal|      gondane|null|            f|    sonal@gmail.com|     borivali|             teacher|       4.3|\n",
      "| 24|Missing Value|Missing Value|32.0|Missing Value|      Missing Value|Missing Value|       Missing Value|      null|\n",
      "| 25|        nayan|Missing Value|null|            m|      Missing Value|        virar|             maneger|       4.5|\n",
      "| 26|    sudhanshu|        kumar|32.0|            m|sudhanshu@gmail.com|        dadar|             teacher|       5.6|\n",
      "| 27|        kirsh|         naik|32.0|            m|      Missing Value|        dadar|             teacher|       5.0|\n",
      "| 28|         raju|     narvekar|null|Missing Value|   raju@hotmail.com|        parel|       Missing Value|       5.0|\n",
      "| 29|         sonu|        gawde|35.0|            m|      Missing Value|Missing Value|     software tester|      null|\n",
      "| 30|Missing Value|        desai|null|            f|      Missing Value|        vasai|    business analyst|      null|\n",
      "| 31|     utkarsha|        kadam|null|            f| utkarsha@gmail.com|        virar|             teacher|      null|\n",
      "| 32|Missing Value|        parab|30.0|            m|      Missing Value|      palghar|       Missing Value|       2.0|\n",
      "+---+-------------+-------------+----+-------------+-------------------+-------------+--------------------+----------+\n",
      "\n"
     ]
    }
   ],
   "source": [
    "# fill the missing values\n",
    "ps_df.na.fill('Missing Value').show(40)"
   ]
  },
  {
   "cell_type": "code",
   "execution_count": 24,
   "metadata": {},
   "outputs": [
    {
     "name": "stdout",
     "output_type": "stream",
     "text": [
      "+---+-------------+---------+----+-------------+-------------------+----------+--------------------+----------+\n",
      "|_c0|         Name|    Sname| Age|       Gender|           Email_ID|  Adderess|             Profile|Experience|\n",
      "+---+-------------+---------+----+-------------+-------------------+----------+--------------------+----------+\n",
      "|  0|        kiran|  mungkar|29.0|            m|    kiran@gmail.com|     virar|        data analyst|       1.8|\n",
      "|  1|        kapil|  nargund|27.0|            m|    kapil@gmail.com|     vasai|        data analyst|       3.2|\n",
      "|  2|        vinod|    kadam|31.0|            m|    vinod#gmail.com|  borivali|             teacher|       2.8|\n",
      "|  3|Missing Value|      sha|28.0|            f|   samira@yahoo.com|  borivali|             teacher|      null|\n",
      "|  4|       vidhan|     wani|null|            m| vidhan@hotmail.com| bhayandar|automation developer|       1.5|\n",
      "|  5|      abhijit| panpatil|null|            m|  abhijit@gmail.com|   palghar|                null|       4.5|\n",
      "|  6|      namrata|deshamukh|28.0|            f|  manrata@yahoo.com|  borivali| front end developer|       2.6|\n",
      "|  7|         neha|     raut|27.0|            f|   neha@hotmail.com|     virar|             teacher|       4.8|\n",
      "|  8|      shubham|     neve|26.0|            m|shubham@hotmail.com|   palghar|automation developer|       3.5|\n",
      "|  9|      darshan|     null|27.0|Missing Value|  darshan@gmail.com|     malad|       .net devloper|       3.4|\n",
      "| 10|         anuj|    kumar|28.0|            m|     anuj@yahoo.com|nalasopara|   backend developer|       4.7|\n",
      "| 11|     harshali|    desai|27.0|            f| harshali@gmail.com|  borivali|      java developer|       4.1|\n",
      "| 12|       nitesh|  kanojia|26.0|            m|   nitesh@gmail.com|     vasai|        data analyst|       2.3|\n",
      "| 13|       nitesh|   angare|26.0|            m| nitesh_a@gmail.com|     virar|        bi developer|       2.0|\n",
      "| 14|        vidit|     null|null|            m|    vidit@yahoo.com|  borivali|    business analyst|       4.0|\n",
      "| 15|     shradhha|   mahale|28.0|            f| shraddha@yahoo.com|   palghar|   backend developer|       3.1|\n",
      "| 16|        jinal|     jain|30.0|            f|    jinal@gmail.com|     malad|     software tester|       3.2|\n",
      "| 17|        rohit|     null|28.0|            m|    rohit@gmail.com|     virar| front end developer|       2.7|\n",
      "| 18|     siddhesh|     null|28.0|            m| siddhesh@yahoo.com|     virar| front end developer|       2.7|\n",
      "| 19|        nidhi|  divecha|28.0|            f|  nidhi@hotmail.cpm|     vasai|             teacher|       3.2|\n",
      "| 20|        harsh|  divecha|30.0|            m|    harsh@yahoo.com|     vasai|   software security|       4.1|\n",
      "| 21|       snehal|    matre|27.0|            f|   snehal@gmail.com| bhayandar|             teacher|       2.4|\n",
      "| 22|        medha|    patil|32.0|            f|    medha@yahoo.com|  borivali|       .net devloper|       3.6|\n",
      "| 23|        sonal|  gondane|null|            f|    sonal@gmail.com|  borivali|             teacher|       4.3|\n",
      "| 24|Missing Value|     null|32.0|Missing Value|               null|      null|                null|      null|\n",
      "| 25|        nayan|     null|null|            m|               null|     virar|             maneger|       4.5|\n",
      "| 26|    sudhanshu|    kumar|32.0|            m|sudhanshu@gmail.com|     dadar|             teacher|       5.6|\n",
      "| 27|        kirsh|     naik|32.0|            m|               null|     dadar|             teacher|       5.0|\n",
      "| 28|         raju| narvekar|null|Missing Value|   raju@hotmail.com|     parel|                null|       5.0|\n",
      "| 29|         sonu|    gawde|35.0|            m|               null|      null|     software tester|      null|\n",
      "| 30|Missing Value|    desai|null|            f|               null|     vasai|    business analyst|      null|\n",
      "| 31|     utkarsha|    kadam|null|            f| utkarsha@gmail.com|     virar|             teacher|      null|\n",
      "| 32|Missing Value|    parab|30.0|            m|               null|   palghar|                null|       2.0|\n",
      "+---+-------------+---------+----+-------------+-------------------+----------+--------------------+----------+\n",
      "\n"
     ]
    }
   ],
   "source": [
    "ps_df.na.fill('Missing Value', ['Name', 'Gender']).show(40)"
   ]
  },
  {
   "cell_type": "code",
   "execution_count": 29,
   "metadata": {},
   "outputs": [
    {
     "ename": "IllegalArgumentException",
     "evalue": "'Imputer_d83aecca20cd parameter strategy given invalid value mode.'",
     "output_type": "error",
     "traceback": [
      "\u001b[1;31m---------------------------------------------------------------------------\u001b[0m",
      "\u001b[1;31mPy4JJavaError\u001b[0m                             Traceback (most recent call last)",
      "\u001b[1;32mc:\\users\\munge\\appdata\\local\\programs\\python\\python36\\lib\\site-packages\\pyspark\\sql\\utils.py\u001b[0m in \u001b[0;36mdeco\u001b[1;34m(*a, **kw)\u001b[0m\n\u001b[0;32m     62\u001b[0m         \u001b[1;32mtry\u001b[0m\u001b[1;33m:\u001b[0m\u001b[1;33m\u001b[0m\u001b[1;33m\u001b[0m\u001b[0m\n\u001b[1;32m---> 63\u001b[1;33m             \u001b[1;32mreturn\u001b[0m \u001b[0mf\u001b[0m\u001b[1;33m(\u001b[0m\u001b[1;33m*\u001b[0m\u001b[0ma\u001b[0m\u001b[1;33m,\u001b[0m \u001b[1;33m**\u001b[0m\u001b[0mkw\u001b[0m\u001b[1;33m)\u001b[0m\u001b[1;33m\u001b[0m\u001b[1;33m\u001b[0m\u001b[0m\n\u001b[0m\u001b[0;32m     64\u001b[0m         \u001b[1;32mexcept\u001b[0m \u001b[0mpy4j\u001b[0m\u001b[1;33m.\u001b[0m\u001b[0mprotocol\u001b[0m\u001b[1;33m.\u001b[0m\u001b[0mPy4JJavaError\u001b[0m \u001b[1;32mas\u001b[0m \u001b[0me\u001b[0m\u001b[1;33m:\u001b[0m\u001b[1;33m\u001b[0m\u001b[1;33m\u001b[0m\u001b[0m\n",
      "\u001b[1;32mc:\\users\\munge\\appdata\\local\\programs\\python\\python36\\lib\\site-packages\\py4j\\protocol.py\u001b[0m in \u001b[0;36mget_return_value\u001b[1;34m(answer, gateway_client, target_id, name)\u001b[0m\n\u001b[0;32m    327\u001b[0m                     \u001b[1;34m\"An error occurred while calling {0}{1}{2}.\\n\"\u001b[0m\u001b[1;33m.\u001b[0m\u001b[1;33m\u001b[0m\u001b[1;33m\u001b[0m\u001b[0m\n\u001b[1;32m--> 328\u001b[1;33m                     format(target_id, \".\", name), value)\n\u001b[0m\u001b[0;32m    329\u001b[0m             \u001b[1;32melse\u001b[0m\u001b[1;33m:\u001b[0m\u001b[1;33m\u001b[0m\u001b[1;33m\u001b[0m\u001b[0m\n",
      "\u001b[1;31mPy4JJavaError\u001b[0m: An error occurred while calling o311.w.\n: java.lang.IllegalArgumentException: Imputer_d83aecca20cd parameter strategy given invalid value mode.\r\n\tat org.apache.spark.ml.param.Param.validate(params.scala:77)\r\n\tat org.apache.spark.ml.param.ParamPair.<init>(params.scala:656)\r\n\tat org.apache.spark.ml.param.Param.$minus$greater(params.scala:87)\r\n\tat org.apache.spark.ml.param.Param.w(params.scala:83)\r\n\tat java.base/jdk.internal.reflect.NativeMethodAccessorImpl.invoke0(Native Method)\r\n\tat java.base/jdk.internal.reflect.NativeMethodAccessorImpl.invoke(NativeMethodAccessorImpl.java:62)\r\n\tat java.base/jdk.internal.reflect.DelegatingMethodAccessorImpl.invoke(DelegatingMethodAccessorImpl.java:43)\r\n\tat java.base/java.lang.reflect.Method.invoke(Method.java:566)\r\n\tat py4j.reflection.MethodInvoker.invoke(MethodInvoker.java:244)\r\n\tat py4j.reflection.ReflectionEngine.invoke(ReflectionEngine.java:357)\r\n\tat py4j.Gateway.invoke(Gateway.java:282)\r\n\tat py4j.commands.AbstractCommand.invokeMethod(AbstractCommand.java:132)\r\n\tat py4j.commands.CallCommand.execute(CallCommand.java:79)\r\n\tat py4j.GatewayConnection.run(GatewayConnection.java:238)\r\n\tat java.base/java.lang.Thread.run(Thread.java:834)\r\n",
      "\nDuring handling of the above exception, another exception occurred:\n",
      "\u001b[1;31mIllegalArgumentException\u001b[0m                  Traceback (most recent call last)",
      "\u001b[1;32m<ipython-input-29-bfbcbb4f79a8>\u001b[0m in \u001b[0;36m<module>\u001b[1;34m\u001b[0m\n\u001b[0;32m      7\u001b[0m \u001b[1;33m\u001b[0m\u001b[0m\n\u001b[0;32m      8\u001b[0m \u001b[1;31m# add imputer columns to database\u001b[0m\u001b[1;33m\u001b[0m\u001b[1;33m\u001b[0m\u001b[1;33m\u001b[0m\u001b[0m\n\u001b[1;32m----> 9\u001b[1;33m \u001b[0mimputer\u001b[0m\u001b[1;33m.\u001b[0m\u001b[0mfit\u001b[0m\u001b[1;33m(\u001b[0m\u001b[0mps_df\u001b[0m\u001b[1;33m)\u001b[0m\u001b[1;33m.\u001b[0m\u001b[0mtransform\u001b[0m\u001b[1;33m(\u001b[0m\u001b[0mps_df\u001b[0m\u001b[1;33m)\u001b[0m\u001b[1;33m.\u001b[0m\u001b[0mshow\u001b[0m\u001b[1;33m(\u001b[0m\u001b[1;36m40\u001b[0m\u001b[1;33m)\u001b[0m\u001b[1;33m\u001b[0m\u001b[1;33m\u001b[0m\u001b[0m\n\u001b[0m",
      "\u001b[1;32mc:\\users\\munge\\appdata\\local\\programs\\python\\python36\\lib\\site-packages\\pyspark\\ml\\base.py\u001b[0m in \u001b[0;36mfit\u001b[1;34m(self, dataset, params)\u001b[0m\n\u001b[0;32m    130\u001b[0m                 \u001b[1;32mreturn\u001b[0m \u001b[0mself\u001b[0m\u001b[1;33m.\u001b[0m\u001b[0mcopy\u001b[0m\u001b[1;33m(\u001b[0m\u001b[0mparams\u001b[0m\u001b[1;33m)\u001b[0m\u001b[1;33m.\u001b[0m\u001b[0m_fit\u001b[0m\u001b[1;33m(\u001b[0m\u001b[0mdataset\u001b[0m\u001b[1;33m)\u001b[0m\u001b[1;33m\u001b[0m\u001b[1;33m\u001b[0m\u001b[0m\n\u001b[0;32m    131\u001b[0m             \u001b[1;32melse\u001b[0m\u001b[1;33m:\u001b[0m\u001b[1;33m\u001b[0m\u001b[1;33m\u001b[0m\u001b[0m\n\u001b[1;32m--> 132\u001b[1;33m                 \u001b[1;32mreturn\u001b[0m \u001b[0mself\u001b[0m\u001b[1;33m.\u001b[0m\u001b[0m_fit\u001b[0m\u001b[1;33m(\u001b[0m\u001b[0mdataset\u001b[0m\u001b[1;33m)\u001b[0m\u001b[1;33m\u001b[0m\u001b[1;33m\u001b[0m\u001b[0m\n\u001b[0m\u001b[0;32m    133\u001b[0m         \u001b[1;32melse\u001b[0m\u001b[1;33m:\u001b[0m\u001b[1;33m\u001b[0m\u001b[1;33m\u001b[0m\u001b[0m\n\u001b[0;32m    134\u001b[0m             raise ValueError(\"Params must be either a param map or a list/tuple of param maps, \"\n",
      "\u001b[1;32mc:\\users\\munge\\appdata\\local\\programs\\python\\python36\\lib\\site-packages\\pyspark\\ml\\wrapper.py\u001b[0m in \u001b[0;36m_fit\u001b[1;34m(self, dataset)\u001b[0m\n\u001b[0;32m    293\u001b[0m \u001b[1;33m\u001b[0m\u001b[0m\n\u001b[0;32m    294\u001b[0m     \u001b[1;32mdef\u001b[0m \u001b[0m_fit\u001b[0m\u001b[1;33m(\u001b[0m\u001b[0mself\u001b[0m\u001b[1;33m,\u001b[0m \u001b[0mdataset\u001b[0m\u001b[1;33m)\u001b[0m\u001b[1;33m:\u001b[0m\u001b[1;33m\u001b[0m\u001b[1;33m\u001b[0m\u001b[0m\n\u001b[1;32m--> 295\u001b[1;33m         \u001b[0mjava_model\u001b[0m \u001b[1;33m=\u001b[0m \u001b[0mself\u001b[0m\u001b[1;33m.\u001b[0m\u001b[0m_fit_java\u001b[0m\u001b[1;33m(\u001b[0m\u001b[0mdataset\u001b[0m\u001b[1;33m)\u001b[0m\u001b[1;33m\u001b[0m\u001b[1;33m\u001b[0m\u001b[0m\n\u001b[0m\u001b[0;32m    296\u001b[0m         \u001b[0mmodel\u001b[0m \u001b[1;33m=\u001b[0m \u001b[0mself\u001b[0m\u001b[1;33m.\u001b[0m\u001b[0m_create_model\u001b[0m\u001b[1;33m(\u001b[0m\u001b[0mjava_model\u001b[0m\u001b[1;33m)\u001b[0m\u001b[1;33m\u001b[0m\u001b[1;33m\u001b[0m\u001b[0m\n\u001b[0;32m    297\u001b[0m         \u001b[1;32mreturn\u001b[0m \u001b[0mself\u001b[0m\u001b[1;33m.\u001b[0m\u001b[0m_copyValues\u001b[0m\u001b[1;33m(\u001b[0m\u001b[0mmodel\u001b[0m\u001b[1;33m)\u001b[0m\u001b[1;33m\u001b[0m\u001b[1;33m\u001b[0m\u001b[0m\n",
      "\u001b[1;32mc:\\users\\munge\\appdata\\local\\programs\\python\\python36\\lib\\site-packages\\pyspark\\ml\\wrapper.py\u001b[0m in \u001b[0;36m_fit_java\u001b[1;34m(self, dataset)\u001b[0m\n\u001b[0;32m    289\u001b[0m         \u001b[1;33m:\u001b[0m\u001b[1;32mreturn\u001b[0m\u001b[1;33m:\u001b[0m \u001b[0mfitted\u001b[0m \u001b[0mJava\u001b[0m \u001b[0mmodel\u001b[0m\u001b[1;33m\u001b[0m\u001b[1;33m\u001b[0m\u001b[0m\n\u001b[0;32m    290\u001b[0m         \"\"\"\n\u001b[1;32m--> 291\u001b[1;33m         \u001b[0mself\u001b[0m\u001b[1;33m.\u001b[0m\u001b[0m_transfer_params_to_java\u001b[0m\u001b[1;33m(\u001b[0m\u001b[1;33m)\u001b[0m\u001b[1;33m\u001b[0m\u001b[1;33m\u001b[0m\u001b[0m\n\u001b[0m\u001b[0;32m    292\u001b[0m         \u001b[1;32mreturn\u001b[0m \u001b[0mself\u001b[0m\u001b[1;33m.\u001b[0m\u001b[0m_java_obj\u001b[0m\u001b[1;33m.\u001b[0m\u001b[0mfit\u001b[0m\u001b[1;33m(\u001b[0m\u001b[0mdataset\u001b[0m\u001b[1;33m.\u001b[0m\u001b[0m_jdf\u001b[0m\u001b[1;33m)\u001b[0m\u001b[1;33m\u001b[0m\u001b[1;33m\u001b[0m\u001b[0m\n\u001b[0;32m    293\u001b[0m \u001b[1;33m\u001b[0m\u001b[0m\n",
      "\u001b[1;32mc:\\users\\munge\\appdata\\local\\programs\\python\\python36\\lib\\site-packages\\pyspark\\ml\\wrapper.py\u001b[0m in \u001b[0;36m_transfer_params_to_java\u001b[1;34m(self)\u001b[0m\n\u001b[0;32m    122\u001b[0m         \u001b[1;32mfor\u001b[0m \u001b[0mparam\u001b[0m \u001b[1;32min\u001b[0m \u001b[0mself\u001b[0m\u001b[1;33m.\u001b[0m\u001b[0mparams\u001b[0m\u001b[1;33m:\u001b[0m\u001b[1;33m\u001b[0m\u001b[1;33m\u001b[0m\u001b[0m\n\u001b[0;32m    123\u001b[0m             \u001b[1;32mif\u001b[0m \u001b[0mself\u001b[0m\u001b[1;33m.\u001b[0m\u001b[0misSet\u001b[0m\u001b[1;33m(\u001b[0m\u001b[0mparam\u001b[0m\u001b[1;33m)\u001b[0m\u001b[1;33m:\u001b[0m\u001b[1;33m\u001b[0m\u001b[1;33m\u001b[0m\u001b[0m\n\u001b[1;32m--> 124\u001b[1;33m                 \u001b[0mpair\u001b[0m \u001b[1;33m=\u001b[0m \u001b[0mself\u001b[0m\u001b[1;33m.\u001b[0m\u001b[0m_make_java_param_pair\u001b[0m\u001b[1;33m(\u001b[0m\u001b[0mparam\u001b[0m\u001b[1;33m,\u001b[0m \u001b[0mself\u001b[0m\u001b[1;33m.\u001b[0m\u001b[0m_paramMap\u001b[0m\u001b[1;33m[\u001b[0m\u001b[0mparam\u001b[0m\u001b[1;33m]\u001b[0m\u001b[1;33m)\u001b[0m\u001b[1;33m\u001b[0m\u001b[1;33m\u001b[0m\u001b[0m\n\u001b[0m\u001b[0;32m    125\u001b[0m                 \u001b[0mself\u001b[0m\u001b[1;33m.\u001b[0m\u001b[0m_java_obj\u001b[0m\u001b[1;33m.\u001b[0m\u001b[0mset\u001b[0m\u001b[1;33m(\u001b[0m\u001b[0mpair\u001b[0m\u001b[1;33m)\u001b[0m\u001b[1;33m\u001b[0m\u001b[1;33m\u001b[0m\u001b[0m\n\u001b[0;32m    126\u001b[0m             \u001b[1;32mif\u001b[0m \u001b[0mself\u001b[0m\u001b[1;33m.\u001b[0m\u001b[0mhasDefault\u001b[0m\u001b[1;33m(\u001b[0m\u001b[0mparam\u001b[0m\u001b[1;33m)\u001b[0m\u001b[1;33m:\u001b[0m\u001b[1;33m\u001b[0m\u001b[1;33m\u001b[0m\u001b[0m\n",
      "\u001b[1;32mc:\\users\\munge\\appdata\\local\\programs\\python\\python36\\lib\\site-packages\\pyspark\\ml\\wrapper.py\u001b[0m in \u001b[0;36m_make_java_param_pair\u001b[1;34m(self, param, value)\u001b[0m\n\u001b[0;32m    113\u001b[0m         \u001b[0mjava_param\u001b[0m \u001b[1;33m=\u001b[0m \u001b[0mself\u001b[0m\u001b[1;33m.\u001b[0m\u001b[0m_java_obj\u001b[0m\u001b[1;33m.\u001b[0m\u001b[0mgetParam\u001b[0m\u001b[1;33m(\u001b[0m\u001b[0mparam\u001b[0m\u001b[1;33m.\u001b[0m\u001b[0mname\u001b[0m\u001b[1;33m)\u001b[0m\u001b[1;33m\u001b[0m\u001b[1;33m\u001b[0m\u001b[0m\n\u001b[0;32m    114\u001b[0m         \u001b[0mjava_value\u001b[0m \u001b[1;33m=\u001b[0m \u001b[0m_py2java\u001b[0m\u001b[1;33m(\u001b[0m\u001b[0msc\u001b[0m\u001b[1;33m,\u001b[0m \u001b[0mvalue\u001b[0m\u001b[1;33m)\u001b[0m\u001b[1;33m\u001b[0m\u001b[1;33m\u001b[0m\u001b[0m\n\u001b[1;32m--> 115\u001b[1;33m         \u001b[1;32mreturn\u001b[0m \u001b[0mjava_param\u001b[0m\u001b[1;33m.\u001b[0m\u001b[0mw\u001b[0m\u001b[1;33m(\u001b[0m\u001b[0mjava_value\u001b[0m\u001b[1;33m)\u001b[0m\u001b[1;33m\u001b[0m\u001b[1;33m\u001b[0m\u001b[0m\n\u001b[0m\u001b[0;32m    116\u001b[0m \u001b[1;33m\u001b[0m\u001b[0m\n\u001b[0;32m    117\u001b[0m     \u001b[1;32mdef\u001b[0m \u001b[0m_transfer_params_to_java\u001b[0m\u001b[1;33m(\u001b[0m\u001b[0mself\u001b[0m\u001b[1;33m)\u001b[0m\u001b[1;33m:\u001b[0m\u001b[1;33m\u001b[0m\u001b[1;33m\u001b[0m\u001b[0m\n",
      "\u001b[1;32mc:\\users\\munge\\appdata\\local\\programs\\python\\python36\\lib\\site-packages\\py4j\\java_gateway.py\u001b[0m in \u001b[0;36m__call__\u001b[1;34m(self, *args)\u001b[0m\n\u001b[0;32m   1255\u001b[0m         \u001b[0manswer\u001b[0m \u001b[1;33m=\u001b[0m \u001b[0mself\u001b[0m\u001b[1;33m.\u001b[0m\u001b[0mgateway_client\u001b[0m\u001b[1;33m.\u001b[0m\u001b[0msend_command\u001b[0m\u001b[1;33m(\u001b[0m\u001b[0mcommand\u001b[0m\u001b[1;33m)\u001b[0m\u001b[1;33m\u001b[0m\u001b[1;33m\u001b[0m\u001b[0m\n\u001b[0;32m   1256\u001b[0m         return_value = get_return_value(\n\u001b[1;32m-> 1257\u001b[1;33m             answer, self.gateway_client, self.target_id, self.name)\n\u001b[0m\u001b[0;32m   1258\u001b[0m \u001b[1;33m\u001b[0m\u001b[0m\n\u001b[0;32m   1259\u001b[0m         \u001b[1;32mfor\u001b[0m \u001b[0mtemp_arg\u001b[0m \u001b[1;32min\u001b[0m \u001b[0mtemp_args\u001b[0m\u001b[1;33m:\u001b[0m\u001b[1;33m\u001b[0m\u001b[1;33m\u001b[0m\u001b[0m\n",
      "\u001b[1;32mc:\\users\\munge\\appdata\\local\\programs\\python\\python36\\lib\\site-packages\\pyspark\\sql\\utils.py\u001b[0m in \u001b[0;36mdeco\u001b[1;34m(*a, **kw)\u001b[0m\n\u001b[0;32m     77\u001b[0m                 \u001b[1;32mraise\u001b[0m \u001b[0mQueryExecutionException\u001b[0m\u001b[1;33m(\u001b[0m\u001b[0ms\u001b[0m\u001b[1;33m.\u001b[0m\u001b[0msplit\u001b[0m\u001b[1;33m(\u001b[0m\u001b[1;34m': '\u001b[0m\u001b[1;33m,\u001b[0m \u001b[1;36m1\u001b[0m\u001b[1;33m)\u001b[0m\u001b[1;33m[\u001b[0m\u001b[1;36m1\u001b[0m\u001b[1;33m]\u001b[0m\u001b[1;33m,\u001b[0m \u001b[0mstackTrace\u001b[0m\u001b[1;33m)\u001b[0m\u001b[1;33m\u001b[0m\u001b[1;33m\u001b[0m\u001b[0m\n\u001b[0;32m     78\u001b[0m             \u001b[1;32mif\u001b[0m \u001b[0ms\u001b[0m\u001b[1;33m.\u001b[0m\u001b[0mstartswith\u001b[0m\u001b[1;33m(\u001b[0m\u001b[1;34m'java.lang.IllegalArgumentException: '\u001b[0m\u001b[1;33m)\u001b[0m\u001b[1;33m:\u001b[0m\u001b[1;33m\u001b[0m\u001b[1;33m\u001b[0m\u001b[0m\n\u001b[1;32m---> 79\u001b[1;33m                 \u001b[1;32mraise\u001b[0m \u001b[0mIllegalArgumentException\u001b[0m\u001b[1;33m(\u001b[0m\u001b[0ms\u001b[0m\u001b[1;33m.\u001b[0m\u001b[0msplit\u001b[0m\u001b[1;33m(\u001b[0m\u001b[1;34m': '\u001b[0m\u001b[1;33m,\u001b[0m \u001b[1;36m1\u001b[0m\u001b[1;33m)\u001b[0m\u001b[1;33m[\u001b[0m\u001b[1;36m1\u001b[0m\u001b[1;33m]\u001b[0m\u001b[1;33m,\u001b[0m \u001b[0mstackTrace\u001b[0m\u001b[1;33m)\u001b[0m\u001b[1;33m\u001b[0m\u001b[1;33m\u001b[0m\u001b[0m\n\u001b[0m\u001b[0;32m     80\u001b[0m             \u001b[1;32mraise\u001b[0m\u001b[1;33m\u001b[0m\u001b[1;33m\u001b[0m\u001b[0m\n\u001b[0;32m     81\u001b[0m     \u001b[1;32mreturn\u001b[0m \u001b[0mdeco\u001b[0m\u001b[1;33m\u001b[0m\u001b[1;33m\u001b[0m\u001b[0m\n",
      "\u001b[1;31mIllegalArgumentException\u001b[0m: 'Imputer_d83aecca20cd parameter strategy given invalid value mode.'"
     ]
    }
   ],
   "source": [
    "# fill null value by using imputer function\n",
    "from pyspark.ml.feature import Imputer\n",
    "\n",
    "imputer = Imputer(inputCols = ['Age', 'Experience'], \n",
    "                  outputCols = [c+'_Impu' for c in ['Age', 'Experience']]\n",
    "                 ).setStrategy() # 'mean' 'median' 'mode'\n",
    "\n",
    "# add imputer columns to database\n",
    "imputer.fit(ps_df).transform(ps_df).show(40)\n",
    "\n",
    "# https://spark.apache.org/docs/latest/api/python/reference/api/pyspark.ml.feature.Imputer.html#pyspark.ml.feature.Imputer.strategy"
   ]
  },
  {
   "cell_type": "code",
   "execution_count": null,
   "metadata": {},
   "outputs": [],
   "source": []
  }
 ],
 "metadata": {
  "kernelspec": {
   "display_name": "Python 3",
   "language": "python",
   "name": "python3"
  },
  "language_info": {
   "codemirror_mode": {
    "name": "ipython",
    "version": 3
   },
   "file_extension": ".py",
   "mimetype": "text/x-python",
   "name": "python",
   "nbconvert_exporter": "python",
   "pygments_lexer": "ipython3",
   "version": "3.6.7"
  }
 },
 "nbformat": 4,
 "nbformat_minor": 2
}
