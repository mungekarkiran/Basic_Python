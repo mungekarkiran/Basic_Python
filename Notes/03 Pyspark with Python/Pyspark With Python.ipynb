{
 "cells": [
  {
   "cell_type": "markdown",
   "metadata": {},
   "source": [
    "# Pyspark Introduction and Installation"
   ]
  },
  {
   "cell_type": "markdown",
   "metadata": {},
   "source": [
    "https://spark.apache.org/"
   ]
  },
  {
   "cell_type": "code",
   "execution_count": 1,
   "metadata": {},
   "outputs": [
    {
     "name": "stdout",
     "output_type": "stream",
     "text": [
      "Requirement already satisfied: pyspark in c:\\users\\munge\\appdata\\local\\programs\\python\\python36\\lib\\site-packages (2.4.4)\n",
      "Requirement already satisfied: py4j==0.10.7 in c:\\users\\munge\\appdata\\local\\programs\\python\\python36\\lib\\site-packages (from pyspark) (0.10.7)\n"
     ]
    },
    {
     "name": "stderr",
     "output_type": "stream",
     "text": [
      "WARNING: Ignoring invalid distribution -ycryptodome (c:\\users\\munge\\appdata\\local\\programs\\python\\python36\\lib\\site-packages)\n",
      "WARNING: Ignoring invalid distribution -ycryptodome (c:\\users\\munge\\appdata\\local\\programs\\python\\python36\\lib\\site-packages)\n",
      "WARNING: Ignoring invalid distribution -ycryptodome (c:\\users\\munge\\appdata\\local\\programs\\python\\python36\\lib\\site-packages)\n",
      "WARNING: Ignoring invalid distribution -ycryptodome (c:\\users\\munge\\appdata\\local\\programs\\python\\python36\\lib\\site-packages)\n",
      "WARNING: Ignoring invalid distribution -ycryptodome (c:\\users\\munge\\appdata\\local\\programs\\python\\python36\\lib\\site-packages)\n"
     ]
    }
   ],
   "source": [
    "# install pyspark library\n",
    "# !pip install pyspark"
   ]
  },
  {
   "cell_type": "code",
   "execution_count": 3,
   "metadata": {},
   "outputs": [],
   "source": [
    "# load library\n",
    "import pyspark as ps\n",
    "import pandas as pd"
   ]
  },
  {
   "cell_type": "code",
   "execution_count": 45,
   "metadata": {},
   "outputs": [
    {
     "data": {
      "text/html": [
       "<div>\n",
       "<style scoped>\n",
       "    .dataframe tbody tr th:only-of-type {\n",
       "        vertical-align: middle;\n",
       "    }\n",
       "\n",
       "    .dataframe tbody tr th {\n",
       "        vertical-align: top;\n",
       "    }\n",
       "\n",
       "    .dataframe thead th {\n",
       "        text-align: right;\n",
       "    }\n",
       "</style>\n",
       "<table border=\"1\" class=\"dataframe\">\n",
       "  <thead>\n",
       "    <tr style=\"text-align: right;\">\n",
       "      <th></th>\n",
       "      <th>Name</th>\n",
       "      <th>Sname</th>\n",
       "      <th>Age</th>\n",
       "      <th>Gender</th>\n",
       "      <th>Email_ID</th>\n",
       "      <th>Adderess</th>\n",
       "      <th>Profile</th>\n",
       "      <th>Experience</th>\n",
       "    </tr>\n",
       "  </thead>\n",
       "  <tbody>\n",
       "    <tr>\n",
       "      <th>0</th>\n",
       "      <td>kiran</td>\n",
       "      <td>mungkar</td>\n",
       "      <td>29</td>\n",
       "      <td>m</td>\n",
       "      <td>kiran@gmail.com</td>\n",
       "      <td>virar</td>\n",
       "      <td>data analyst</td>\n",
       "      <td>1.8</td>\n",
       "    </tr>\n",
       "    <tr>\n",
       "      <th>1</th>\n",
       "      <td>kapil</td>\n",
       "      <td>nargund</td>\n",
       "      <td>27</td>\n",
       "      <td>m</td>\n",
       "      <td>kapil@gmail.com</td>\n",
       "      <td>vasai</td>\n",
       "      <td>data analyst</td>\n",
       "      <td>3.2</td>\n",
       "    </tr>\n",
       "    <tr>\n",
       "      <th>2</th>\n",
       "      <td>vinod</td>\n",
       "      <td>kadam</td>\n",
       "      <td>31</td>\n",
       "      <td>m</td>\n",
       "      <td>vinod#gmail.com</td>\n",
       "      <td>borivali</td>\n",
       "      <td>teacher</td>\n",
       "      <td>2.8</td>\n",
       "    </tr>\n",
       "    <tr>\n",
       "      <th>3</th>\n",
       "      <td>samira</td>\n",
       "      <td>sha</td>\n",
       "      <td>28</td>\n",
       "      <td>f</td>\n",
       "      <td>samira@yahoo.com</td>\n",
       "      <td>borivali</td>\n",
       "      <td>teacher</td>\n",
       "      <td>2.8</td>\n",
       "    </tr>\n",
       "    <tr>\n",
       "      <th>4</th>\n",
       "      <td>vidhan</td>\n",
       "      <td>wani</td>\n",
       "      <td>27</td>\n",
       "      <td>m</td>\n",
       "      <td>vidhan@hotmail.com</td>\n",
       "      <td>bhayandar</td>\n",
       "      <td>automation developer</td>\n",
       "      <td>1.5</td>\n",
       "    </tr>\n",
       "    <tr>\n",
       "      <th>5</th>\n",
       "      <td>abhijit</td>\n",
       "      <td>panpatil</td>\n",
       "      <td>27</td>\n",
       "      <td>m</td>\n",
       "      <td>abhijit@gmail.com</td>\n",
       "      <td>palghar</td>\n",
       "      <td>shell scripting engineer</td>\n",
       "      <td>4.5</td>\n",
       "    </tr>\n",
       "    <tr>\n",
       "      <th>6</th>\n",
       "      <td>namrata</td>\n",
       "      <td>deshamukh</td>\n",
       "      <td>28</td>\n",
       "      <td>f</td>\n",
       "      <td>manrata@yahoo.com</td>\n",
       "      <td>borivali</td>\n",
       "      <td>front end developer</td>\n",
       "      <td>2.6</td>\n",
       "    </tr>\n",
       "    <tr>\n",
       "      <th>7</th>\n",
       "      <td>neha</td>\n",
       "      <td>raut</td>\n",
       "      <td>27</td>\n",
       "      <td>f</td>\n",
       "      <td>neha@hotmail.com</td>\n",
       "      <td>virar</td>\n",
       "      <td>teacher</td>\n",
       "      <td>4.8</td>\n",
       "    </tr>\n",
       "    <tr>\n",
       "      <th>8</th>\n",
       "      <td>shubham</td>\n",
       "      <td>neve</td>\n",
       "      <td>26</td>\n",
       "      <td>m</td>\n",
       "      <td>shubham@hotmail.com</td>\n",
       "      <td>palghar</td>\n",
       "      <td>automation developer</td>\n",
       "      <td>3.5</td>\n",
       "    </tr>\n",
       "    <tr>\n",
       "      <th>9</th>\n",
       "      <td>darshan</td>\n",
       "      <td>sha</td>\n",
       "      <td>27</td>\n",
       "      <td>m</td>\n",
       "      <td>darshan@gmail.com</td>\n",
       "      <td>malad</td>\n",
       "      <td>.net devloper</td>\n",
       "      <td>3.4</td>\n",
       "    </tr>\n",
       "    <tr>\n",
       "      <th>10</th>\n",
       "      <td>anuj</td>\n",
       "      <td>kumar</td>\n",
       "      <td>28</td>\n",
       "      <td>m</td>\n",
       "      <td>anuj@yahoo.com</td>\n",
       "      <td>nalasopara</td>\n",
       "      <td>backend developer</td>\n",
       "      <td>4.7</td>\n",
       "    </tr>\n",
       "    <tr>\n",
       "      <th>11</th>\n",
       "      <td>harshali</td>\n",
       "      <td>desai</td>\n",
       "      <td>27</td>\n",
       "      <td>f</td>\n",
       "      <td>harshali@gmail.com</td>\n",
       "      <td>borivali</td>\n",
       "      <td>java developer</td>\n",
       "      <td>4.1</td>\n",
       "    </tr>\n",
       "    <tr>\n",
       "      <th>12</th>\n",
       "      <td>nitesh</td>\n",
       "      <td>kanojia</td>\n",
       "      <td>26</td>\n",
       "      <td>m</td>\n",
       "      <td>nitesh@gmail.com</td>\n",
       "      <td>vasai</td>\n",
       "      <td>data analyst</td>\n",
       "      <td>2.3</td>\n",
       "    </tr>\n",
       "    <tr>\n",
       "      <th>13</th>\n",
       "      <td>nitesh</td>\n",
       "      <td>angare</td>\n",
       "      <td>26</td>\n",
       "      <td>m</td>\n",
       "      <td>nitesh_a@gmail.com</td>\n",
       "      <td>virar</td>\n",
       "      <td>bi developer</td>\n",
       "      <td>2.0</td>\n",
       "    </tr>\n",
       "    <tr>\n",
       "      <th>14</th>\n",
       "      <td>vidit</td>\n",
       "      <td>sha</td>\n",
       "      <td>29</td>\n",
       "      <td>m</td>\n",
       "      <td>vidit@yahoo.com</td>\n",
       "      <td>borivali</td>\n",
       "      <td>business analyst</td>\n",
       "      <td>4.0</td>\n",
       "    </tr>\n",
       "    <tr>\n",
       "      <th>15</th>\n",
       "      <td>shradhha</td>\n",
       "      <td>mahale</td>\n",
       "      <td>28</td>\n",
       "      <td>f</td>\n",
       "      <td>shraddha@yahoo.com</td>\n",
       "      <td>palghar</td>\n",
       "      <td>backend developer</td>\n",
       "      <td>3.1</td>\n",
       "    </tr>\n",
       "    <tr>\n",
       "      <th>16</th>\n",
       "      <td>jinal</td>\n",
       "      <td>jain</td>\n",
       "      <td>30</td>\n",
       "      <td>f</td>\n",
       "      <td>jinal@gmail.com</td>\n",
       "      <td>malad</td>\n",
       "      <td>software tester</td>\n",
       "      <td>3.2</td>\n",
       "    </tr>\n",
       "    <tr>\n",
       "      <th>17</th>\n",
       "      <td>rohit</td>\n",
       "      <td>kumar</td>\n",
       "      <td>28</td>\n",
       "      <td>m</td>\n",
       "      <td>rohit@gmail.com</td>\n",
       "      <td>virar</td>\n",
       "      <td>front end developer</td>\n",
       "      <td>2.7</td>\n",
       "    </tr>\n",
       "    <tr>\n",
       "      <th>18</th>\n",
       "      <td>siddhesh</td>\n",
       "      <td>patil</td>\n",
       "      <td>28</td>\n",
       "      <td>m</td>\n",
       "      <td>siddhesh@yahoo.com</td>\n",
       "      <td>virar</td>\n",
       "      <td>front end developer</td>\n",
       "      <td>2.7</td>\n",
       "    </tr>\n",
       "    <tr>\n",
       "      <th>19</th>\n",
       "      <td>nidhi</td>\n",
       "      <td>divecha</td>\n",
       "      <td>28</td>\n",
       "      <td>f</td>\n",
       "      <td>nidhi@hotmail.cpm</td>\n",
       "      <td>vasai</td>\n",
       "      <td>teacher</td>\n",
       "      <td>3.2</td>\n",
       "    </tr>\n",
       "    <tr>\n",
       "      <th>20</th>\n",
       "      <td>harsh</td>\n",
       "      <td>divecha</td>\n",
       "      <td>30</td>\n",
       "      <td>m</td>\n",
       "      <td>harsh@yahoo.com</td>\n",
       "      <td>vasai</td>\n",
       "      <td>software security</td>\n",
       "      <td>4.1</td>\n",
       "    </tr>\n",
       "    <tr>\n",
       "      <th>21</th>\n",
       "      <td>snehal</td>\n",
       "      <td>matre</td>\n",
       "      <td>27</td>\n",
       "      <td>f</td>\n",
       "      <td>snehal@gmail.com</td>\n",
       "      <td>bhayandar</td>\n",
       "      <td>teacher</td>\n",
       "      <td>2.4</td>\n",
       "    </tr>\n",
       "    <tr>\n",
       "      <th>22</th>\n",
       "      <td>medha</td>\n",
       "      <td>patil</td>\n",
       "      <td>32</td>\n",
       "      <td>f</td>\n",
       "      <td>medha@yahoo.com</td>\n",
       "      <td>borivali</td>\n",
       "      <td>.net devloper</td>\n",
       "      <td>3.6</td>\n",
       "    </tr>\n",
       "    <tr>\n",
       "      <th>23</th>\n",
       "      <td>sonal</td>\n",
       "      <td>gondane</td>\n",
       "      <td>30</td>\n",
       "      <td>f</td>\n",
       "      <td>sonal@gmail.com</td>\n",
       "      <td>borivali</td>\n",
       "      <td>teacher</td>\n",
       "      <td>4.3</td>\n",
       "    </tr>\n",
       "  </tbody>\n",
       "</table>\n",
       "</div>"
      ],
      "text/plain": [
       "        Name      Sname  Age Gender             Email_ID    Adderess  \\\n",
       "0      kiran    mungkar   29      m      kiran@gmail.com       virar   \n",
       "1      kapil    nargund   27      m      kapil@gmail.com       vasai   \n",
       "2      vinod      kadam   31      m      vinod#gmail.com    borivali   \n",
       "3     samira        sha   28      f     samira@yahoo.com    borivali   \n",
       "4     vidhan       wani   27      m   vidhan@hotmail.com   bhayandar   \n",
       "5    abhijit   panpatil   27      m    abhijit@gmail.com     palghar   \n",
       "6    namrata  deshamukh   28      f    manrata@yahoo.com    borivali   \n",
       "7       neha       raut   27      f     neha@hotmail.com       virar   \n",
       "8    shubham       neve   26      m  shubham@hotmail.com     palghar   \n",
       "9    darshan        sha   27      m    darshan@gmail.com       malad   \n",
       "10      anuj      kumar   28      m       anuj@yahoo.com  nalasopara   \n",
       "11  harshali      desai   27      f   harshali@gmail.com    borivali   \n",
       "12    nitesh    kanojia   26      m     nitesh@gmail.com       vasai   \n",
       "13    nitesh     angare   26      m   nitesh_a@gmail.com       virar   \n",
       "14     vidit        sha   29      m      vidit@yahoo.com    borivali   \n",
       "15  shradhha     mahale   28      f   shraddha@yahoo.com     palghar   \n",
       "16     jinal       jain   30      f      jinal@gmail.com       malad   \n",
       "17     rohit      kumar   28      m      rohit@gmail.com       virar   \n",
       "18  siddhesh      patil   28      m   siddhesh@yahoo.com       virar   \n",
       "19     nidhi    divecha   28      f    nidhi@hotmail.cpm       vasai   \n",
       "20     harsh    divecha   30      m      harsh@yahoo.com       vasai   \n",
       "21    snehal      matre   27      f     snehal@gmail.com   bhayandar   \n",
       "22     medha      patil   32      f      medha@yahoo.com    borivali   \n",
       "23     sonal    gondane   30      f      sonal@gmail.com    borivali   \n",
       "\n",
       "                     Profile  Experience  \n",
       "0               data analyst         1.8  \n",
       "1               data analyst         3.2  \n",
       "2                    teacher         2.8  \n",
       "3                    teacher         2.8  \n",
       "4       automation developer         1.5  \n",
       "5   shell scripting engineer         4.5  \n",
       "6        front end developer         2.6  \n",
       "7                    teacher         4.8  \n",
       "8       automation developer         3.5  \n",
       "9              .net devloper         3.4  \n",
       "10         backend developer         4.7  \n",
       "11            java developer         4.1  \n",
       "12              data analyst         2.3  \n",
       "13              bi developer         2.0  \n",
       "14          business analyst         4.0  \n",
       "15         backend developer         3.1  \n",
       "16           software tester         3.2  \n",
       "17       front end developer         2.7  \n",
       "18       front end developer         2.7  \n",
       "19                   teacher         3.2  \n",
       "20         software security         4.1  \n",
       "21                   teacher         2.4  \n",
       "22             .net devloper         3.6  \n",
       "23                   teacher         4.3  "
      ]
     },
     "execution_count": 45,
     "metadata": {},
     "output_type": "execute_result"
    }
   ],
   "source": [
    "# read data file using pandas\n",
    "pd_df = pd.read_excel(\"test.xlsx\")\n",
    "pd_df.to_csv(\"test.csv\")\n",
    "pd_df"
   ]
  },
  {
   "cell_type": "markdown",
   "metadata": {},
   "source": [
    "# To work with spark 1st start the spark session"
   ]
  },
  {
   "cell_type": "code",
   "execution_count": 8,
   "metadata": {},
   "outputs": [],
   "source": [
    "# load SparkSession\n",
    "from pyspark.sql import SparkSession"
   ]
  },
  {
   "cell_type": "code",
   "execution_count": 9,
   "metadata": {},
   "outputs": [
    {
     "data": {
      "text/html": [
       "\n",
       "            <div>\n",
       "                <p><b>SparkSession - in-memory</b></p>\n",
       "                \n",
       "        <div>\n",
       "            <p><b>SparkContext</b></p>\n",
       "\n",
       "            <p><a href=\"http://DESKTOP-H7M3LBL:4040\">Spark UI</a></p>\n",
       "\n",
       "            <dl>\n",
       "              <dt>Version</dt>\n",
       "                <dd><code>v2.4.4</code></dd>\n",
       "              <dt>Master</dt>\n",
       "                <dd><code>local[*]</code></dd>\n",
       "              <dt>AppName</dt>\n",
       "                <dd><code>practice</code></dd>\n",
       "            </dl>\n",
       "        </div>\n",
       "        \n",
       "            </div>\n",
       "        "
      ],
      "text/plain": [
       "<pyspark.sql.session.SparkSession at 0x222ea456f60>"
      ]
     },
     "execution_count": 9,
     "metadata": {},
     "output_type": "execute_result"
    }
   ],
   "source": [
    "spark = SparkSession.builder.appName('practice').getOrCreate() \n",
    "# give session a name ie. 'practice'\n",
    "# and then create spark session\n",
    "spark"
   ]
  },
  {
   "cell_type": "markdown",
   "metadata": {},
   "source": [
    "when you working on local you can see only one cluster nut when you working on cloud you can create multiple cluster and instances"
   ]
  },
  {
   "cell_type": "code",
   "execution_count": 46,
   "metadata": {},
   "outputs": [
    {
     "data": {
      "text/plain": [
       "DataFrame[_c0: string, _c1: string, _c2: string, _c3: string, _c4: string, _c5: string, _c6: string, _c7: string, _c8: string]"
      ]
     },
     "execution_count": 46,
     "metadata": {},
     "output_type": "execute_result"
    }
   ],
   "source": [
    "# read data file using sparks\n",
    "ps_df = spark.read.csv('test.csv')\n",
    "ps_df"
   ]
  },
  {
   "cell_type": "code",
   "execution_count": 47,
   "metadata": {},
   "outputs": [
    {
     "name": "stdout",
     "output_type": "stream",
     "text": [
      "+----+--------+---------+---+------+-------------------+----------+--------------------+----------+\n",
      "| _c0|     _c1|      _c2|_c3|   _c4|                _c5|       _c6|                 _c7|       _c8|\n",
      "+----+--------+---------+---+------+-------------------+----------+--------------------+----------+\n",
      "|null|    Name|    Sname|Age|Gender|           Email_ID|  Adderess|             Profile|Experience|\n",
      "|   0|   kiran|  mungkar| 29|     m|    kiran@gmail.com|     virar|        data analyst|       1.8|\n",
      "|   1|   kapil|  nargund| 27|     m|    kapil@gmail.com|     vasai|        data analyst|       3.2|\n",
      "|   2|   vinod|    kadam| 31|     m|    vinod#gmail.com|  borivali|             teacher|       2.8|\n",
      "|   3|  samira|      sha| 28|     f|   samira@yahoo.com|  borivali|             teacher|       2.8|\n",
      "|   4|  vidhan|     wani| 27|     m| vidhan@hotmail.com| bhayandar|automation developer|       1.5|\n",
      "|   5| abhijit| panpatil| 27|     m|  abhijit@gmail.com|   palghar|shell scripting e...|       4.5|\n",
      "|   6| namrata|deshamukh| 28|     f|  manrata@yahoo.com|  borivali| front end developer|       2.6|\n",
      "|   7|    neha|     raut| 27|     f|   neha@hotmail.com|     virar|             teacher|       4.8|\n",
      "|   8| shubham|     neve| 26|     m|shubham@hotmail.com|   palghar|automation developer|       3.5|\n",
      "|   9| darshan|      sha| 27|     m|  darshan@gmail.com|     malad|       .net devloper|       3.4|\n",
      "|  10|    anuj|    kumar| 28|     m|     anuj@yahoo.com|nalasopara|   backend developer|       4.7|\n",
      "|  11|harshali|    desai| 27|     f| harshali@gmail.com|  borivali|      java developer|       4.1|\n",
      "|  12|  nitesh|  kanojia| 26|     m|   nitesh@gmail.com|     vasai|        data analyst|       2.3|\n",
      "|  13|  nitesh|   angare| 26|     m| nitesh_a@gmail.com|     virar|        bi developer|       2.0|\n",
      "|  14|   vidit|      sha| 29|     m|    vidit@yahoo.com|  borivali|    business analyst|       4.0|\n",
      "|  15|shradhha|   mahale| 28|     f| shraddha@yahoo.com|   palghar|   backend developer|       3.1|\n",
      "|  16|   jinal|     jain| 30|     f|    jinal@gmail.com|     malad|     software tester|       3.2|\n",
      "|  17|   rohit|    kumar| 28|     m|    rohit@gmail.com|     virar| front end developer|       2.7|\n",
      "|  18|siddhesh|    patil| 28|     m| siddhesh@yahoo.com|     virar| front end developer|       2.7|\n",
      "+----+--------+---------+---+------+-------------------+----------+--------------------+----------+\n",
      "only showing top 20 rows\n",
      "\n"
     ]
    }
   ],
   "source": [
    "ps_df.show()"
   ]
  },
  {
   "cell_type": "code",
   "execution_count": 48,
   "metadata": {},
   "outputs": [
    {
     "data": {
      "text/plain": [
       "DataFrame[_c0: string, Name: string, Sname: string, Age: string, Gender: string, Email_ID: string, Adderess: string, Profile: string, Experience: string]"
      ]
     },
     "execution_count": 48,
     "metadata": {},
     "output_type": "execute_result"
    }
   ],
   "source": [
    "# to show / select the 1st row as header\n",
    "ps_df = spark.read.option(\"header\", \"true\").csv(\"test.csv\")\n",
    "ps_df"
   ]
  },
  {
   "cell_type": "code",
   "execution_count": 49,
   "metadata": {},
   "outputs": [
    {
     "name": "stdout",
     "output_type": "stream",
     "text": [
      "+---+--------+---------+---+------+-------------------+----------+--------------------+----------+\n",
      "|_c0|    Name|    Sname|Age|Gender|           Email_ID|  Adderess|             Profile|Experience|\n",
      "+---+--------+---------+---+------+-------------------+----------+--------------------+----------+\n",
      "|  0|   kiran|  mungkar| 29|     m|    kiran@gmail.com|     virar|        data analyst|       1.8|\n",
      "|  1|   kapil|  nargund| 27|     m|    kapil@gmail.com|     vasai|        data analyst|       3.2|\n",
      "|  2|   vinod|    kadam| 31|     m|    vinod#gmail.com|  borivali|             teacher|       2.8|\n",
      "|  3|  samira|      sha| 28|     f|   samira@yahoo.com|  borivali|             teacher|       2.8|\n",
      "|  4|  vidhan|     wani| 27|     m| vidhan@hotmail.com| bhayandar|automation developer|       1.5|\n",
      "|  5| abhijit| panpatil| 27|     m|  abhijit@gmail.com|   palghar|shell scripting e...|       4.5|\n",
      "|  6| namrata|deshamukh| 28|     f|  manrata@yahoo.com|  borivali| front end developer|       2.6|\n",
      "|  7|    neha|     raut| 27|     f|   neha@hotmail.com|     virar|             teacher|       4.8|\n",
      "|  8| shubham|     neve| 26|     m|shubham@hotmail.com|   palghar|automation developer|       3.5|\n",
      "|  9| darshan|      sha| 27|     m|  darshan@gmail.com|     malad|       .net devloper|       3.4|\n",
      "| 10|    anuj|    kumar| 28|     m|     anuj@yahoo.com|nalasopara|   backend developer|       4.7|\n",
      "| 11|harshali|    desai| 27|     f| harshali@gmail.com|  borivali|      java developer|       4.1|\n",
      "| 12|  nitesh|  kanojia| 26|     m|   nitesh@gmail.com|     vasai|        data analyst|       2.3|\n",
      "| 13|  nitesh|   angare| 26|     m| nitesh_a@gmail.com|     virar|        bi developer|       2.0|\n",
      "| 14|   vidit|      sha| 29|     m|    vidit@yahoo.com|  borivali|    business analyst|       4.0|\n",
      "| 15|shradhha|   mahale| 28|     f| shraddha@yahoo.com|   palghar|   backend developer|       3.1|\n",
      "| 16|   jinal|     jain| 30|     f|    jinal@gmail.com|     malad|     software tester|       3.2|\n",
      "| 17|   rohit|    kumar| 28|     m|    rohit@gmail.com|     virar| front end developer|       2.7|\n",
      "| 18|siddhesh|    patil| 28|     m| siddhesh@yahoo.com|     virar| front end developer|       2.7|\n",
      "| 19|   nidhi|  divecha| 28|     f|  nidhi@hotmail.cpm|     vasai|             teacher|       3.2|\n",
      "+---+--------+---------+---+------+-------------------+----------+--------------------+----------+\n",
      "only showing top 20 rows\n",
      "\n"
     ]
    }
   ],
   "source": [
    "ps_df.show()"
   ]
  },
  {
   "cell_type": "code",
   "execution_count": 50,
   "metadata": {},
   "outputs": [
    {
     "data": {
      "text/plain": [
       "(pyspark.sql.dataframe.DataFrame, pandas.core.frame.DataFrame)"
      ]
     },
     "execution_count": 50,
     "metadata": {},
     "output_type": "execute_result"
    }
   ],
   "source": [
    "# check the data type \n",
    "type(ps_df), type(pd_df) "
   ]
  },
  {
   "cell_type": "code",
   "execution_count": 51,
   "metadata": {},
   "outputs": [
    {
     "data": {
      "text/plain": [
       "Row(_c0='0', Name='kiran', Sname='mungkar', Age='29', Gender='m', Email_ID='kiran@gmail.com', Adderess='virar', Profile='data analyst', Experience='1.8')"
      ]
     },
     "execution_count": 51,
     "metadata": {},
     "output_type": "execute_result"
    }
   ],
   "source": [
    "# to show few / 1st row information\n",
    "ps_df.head()"
   ]
  },
  {
   "cell_type": "code",
   "execution_count": 52,
   "metadata": {},
   "outputs": [
    {
     "name": "stdout",
     "output_type": "stream",
     "text": [
      "root\n",
      " |-- _c0: string (nullable = true)\n",
      " |-- Name: string (nullable = true)\n",
      " |-- Sname: string (nullable = true)\n",
      " |-- Age: string (nullable = true)\n",
      " |-- Gender: string (nullable = true)\n",
      " |-- Email_ID: string (nullable = true)\n",
      " |-- Adderess: string (nullable = true)\n",
      " |-- Profile: string (nullable = true)\n",
      " |-- Experience: string (nullable = true)\n",
      "\n"
     ]
    }
   ],
   "source": [
    "# to show information about collumns\n",
    "ps_df.printSchema()"
   ]
  },
  {
   "cell_type": "markdown",
   "metadata": {},
   "source": [
    "# Pyspark DataFrames"
   ]
  },
  {
   "cell_type": "markdown",
   "metadata": {},
   "source": [
    "- Pyspark DataFrames\n",
    "- Reading the dataset\n",
    "- Checking the datatypes of the collumns (schema)\n",
    "- Selecting columns and indexing\n",
    "- Check describe option as similar to pandas\n",
    "- Adding collumns\n",
    "- Droping collumns\n",
    "- Rename the column"
   ]
  },
  {
   "cell_type": "code",
   "execution_count": 53,
   "metadata": {},
   "outputs": [
    {
     "data": {
      "text/html": [
       "\n",
       "            <div>\n",
       "                <p><b>SparkSession - in-memory</b></p>\n",
       "                \n",
       "        <div>\n",
       "            <p><b>SparkContext</b></p>\n",
       "\n",
       "            <p><a href=\"http://DESKTOP-H7M3LBL:4040\">Spark UI</a></p>\n",
       "\n",
       "            <dl>\n",
       "              <dt>Version</dt>\n",
       "                <dd><code>v2.4.4</code></dd>\n",
       "              <dt>Master</dt>\n",
       "                <dd><code>local[*]</code></dd>\n",
       "              <dt>AppName</dt>\n",
       "                <dd><code>practice</code></dd>\n",
       "            </dl>\n",
       "        </div>\n",
       "        \n",
       "            </div>\n",
       "        "
      ],
      "text/plain": [
       "<pyspark.sql.session.SparkSession at 0x222ea456f60>"
      ]
     },
     "execution_count": 53,
     "metadata": {},
     "output_type": "execute_result"
    }
   ],
   "source": [
    "# create sparks session\n",
    "from pyspark.sql import SparkSession\n",
    "spark = SparkSession.builder.appName('practice').getOrCreate() \n",
    "spark"
   ]
  },
  {
   "cell_type": "code",
   "execution_count": 54,
   "metadata": {},
   "outputs": [
    {
     "data": {
      "text/plain": [
       "DataFrame[_c0: string, Name: string, Sname: string, Age: string, Gender: string, Email_ID: string, Adderess: string, Profile: string, Experience: string]"
      ]
     },
     "execution_count": 54,
     "metadata": {},
     "output_type": "execute_result"
    }
   ],
   "source": [
    "# read dataset\n",
    "ps_df = spark.read.option(\"header\", \"true\").csv('test.csv')\n",
    "ps_df"
   ]
  },
  {
   "cell_type": "code",
   "execution_count": 55,
   "metadata": {},
   "outputs": [
    {
     "name": "stdout",
     "output_type": "stream",
     "text": [
      "+---+--------+---------+---+------+-------------------+----------+--------------------+----------+\n",
      "|_c0|    Name|    Sname|Age|Gender|           Email_ID|  Adderess|             Profile|Experience|\n",
      "+---+--------+---------+---+------+-------------------+----------+--------------------+----------+\n",
      "|  0|   kiran|  mungkar| 29|     m|    kiran@gmail.com|     virar|        data analyst|       1.8|\n",
      "|  1|   kapil|  nargund| 27|     m|    kapil@gmail.com|     vasai|        data analyst|       3.2|\n",
      "|  2|   vinod|    kadam| 31|     m|    vinod#gmail.com|  borivali|             teacher|       2.8|\n",
      "|  3|  samira|      sha| 28|     f|   samira@yahoo.com|  borivali|             teacher|       2.8|\n",
      "|  4|  vidhan|     wani| 27|     m| vidhan@hotmail.com| bhayandar|automation developer|       1.5|\n",
      "|  5| abhijit| panpatil| 27|     m|  abhijit@gmail.com|   palghar|shell scripting e...|       4.5|\n",
      "|  6| namrata|deshamukh| 28|     f|  manrata@yahoo.com|  borivali| front end developer|       2.6|\n",
      "|  7|    neha|     raut| 27|     f|   neha@hotmail.com|     virar|             teacher|       4.8|\n",
      "|  8| shubham|     neve| 26|     m|shubham@hotmail.com|   palghar|automation developer|       3.5|\n",
      "|  9| darshan|      sha| 27|     m|  darshan@gmail.com|     malad|       .net devloper|       3.4|\n",
      "| 10|    anuj|    kumar| 28|     m|     anuj@yahoo.com|nalasopara|   backend developer|       4.7|\n",
      "| 11|harshali|    desai| 27|     f| harshali@gmail.com|  borivali|      java developer|       4.1|\n",
      "| 12|  nitesh|  kanojia| 26|     m|   nitesh@gmail.com|     vasai|        data analyst|       2.3|\n",
      "| 13|  nitesh|   angare| 26|     m| nitesh_a@gmail.com|     virar|        bi developer|       2.0|\n",
      "| 14|   vidit|      sha| 29|     m|    vidit@yahoo.com|  borivali|    business analyst|       4.0|\n",
      "| 15|shradhha|   mahale| 28|     f| shraddha@yahoo.com|   palghar|   backend developer|       3.1|\n",
      "| 16|   jinal|     jain| 30|     f|    jinal@gmail.com|     malad|     software tester|       3.2|\n",
      "| 17|   rohit|    kumar| 28|     m|    rohit@gmail.com|     virar| front end developer|       2.7|\n",
      "| 18|siddhesh|    patil| 28|     m| siddhesh@yahoo.com|     virar| front end developer|       2.7|\n",
      "| 19|   nidhi|  divecha| 28|     f|  nidhi@hotmail.cpm|     vasai|             teacher|       3.2|\n",
      "+---+--------+---------+---+------+-------------------+----------+--------------------+----------+\n",
      "only showing top 20 rows\n",
      "\n"
     ]
    }
   ],
   "source": [
    "ps_df.show()"
   ]
  },
  {
   "cell_type": "code",
   "execution_count": 56,
   "metadata": {},
   "outputs": [
    {
     "name": "stdout",
     "output_type": "stream",
     "text": [
      "root\n",
      " |-- _c0: string (nullable = true)\n",
      " |-- Name: string (nullable = true)\n",
      " |-- Sname: string (nullable = true)\n",
      " |-- Age: string (nullable = true)\n",
      " |-- Gender: string (nullable = true)\n",
      " |-- Email_ID: string (nullable = true)\n",
      " |-- Adderess: string (nullable = true)\n",
      " |-- Profile: string (nullable = true)\n",
      " |-- Experience: string (nullable = true)\n",
      "\n"
     ]
    }
   ],
   "source": [
    "# check schema\n",
    "ps_df.printSchema()"
   ]
  },
  {
   "cell_type": "markdown",
   "metadata": {},
   "source": [
    "by default all collumns data type are string to set it use .option(\"inferSchema\", \"true\") or inferSchema=True."
   ]
  },
  {
   "cell_type": "code",
   "execution_count": 74,
   "metadata": {},
   "outputs": [
    {
     "data": {
      "text/plain": [
       "DataFrame[_c0: int, Name: string, Sname: string, Age: int, Gender: string, Email_ID: string, Adderess: string, Profile: string, Experience: double]"
      ]
     },
     "execution_count": 74,
     "metadata": {},
     "output_type": "execute_result"
    }
   ],
   "source": [
    "# read dataset\n",
    "ps_df = spark.read.csv('test.csv', header = True,  inferSchema = True)\n",
    "ps_df"
   ]
  },
  {
   "cell_type": "code",
   "execution_count": 75,
   "metadata": {},
   "outputs": [
    {
     "name": "stdout",
     "output_type": "stream",
     "text": [
      "root\n",
      " |-- _c0: integer (nullable = true)\n",
      " |-- Name: string (nullable = true)\n",
      " |-- Sname: string (nullable = true)\n",
      " |-- Age: integer (nullable = true)\n",
      " |-- Gender: string (nullable = true)\n",
      " |-- Email_ID: string (nullable = true)\n",
      " |-- Adderess: string (nullable = true)\n",
      " |-- Profile: string (nullable = true)\n",
      " |-- Experience: double (nullable = true)\n",
      "\n"
     ]
    }
   ],
   "source": [
    "# check schema\n",
    "ps_df.printSchema()"
   ]
  },
  {
   "cell_type": "code",
   "execution_count": 40,
   "metadata": {},
   "outputs": [
    {
     "data": {
      "text/plain": [
       "pyspark.sql.dataframe.DataFrame"
      ]
     },
     "execution_count": 40,
     "metadata": {},
     "output_type": "execute_result"
    }
   ],
   "source": [
    "# check type\n",
    "type(ps_df)"
   ]
  },
  {
   "cell_type": "markdown",
   "metadata": {},
   "source": [
    "- DataFrame : is a data structures and inside that we can perform different operations.\n",
    "- DataFrame : is a data structure that organizes data into a 2-dimensional table of rows and columns, much like a spreadsheet."
   ]
  },
  {
   "cell_type": "code",
   "execution_count": 41,
   "metadata": {},
   "outputs": [
    {
     "data": {
      "text/plain": [
       "['_c0',\n",
       " 'Name',\n",
       " 'Sname',\n",
       " 'Age',\n",
       " 'Gender',\n",
       " 'Email_ID',\n",
       " 'Adderess',\n",
       " 'Profile',\n",
       " 'Experience']"
      ]
     },
     "execution_count": 41,
     "metadata": {},
     "output_type": "execute_result"
    }
   ],
   "source": [
    "# selecting collumns and indexing \n",
    "# how to get all the collumns\n",
    "ps_df.columns"
   ]
  },
  {
   "cell_type": "code",
   "execution_count": 42,
   "metadata": {},
   "outputs": [
    {
     "data": {
      "text/plain": [
       "Row(_c0=0, Name='kiran', Sname='mungkar', Age=29, Gender='m', Email_ID='kiran@gmail.com', Adderess='virar', Profile='data analyst', Experience=1.8)"
      ]
     },
     "execution_count": 42,
     "metadata": {},
     "output_type": "execute_result"
    }
   ],
   "source": [
    "ps_df.head() # default 1 record"
   ]
  },
  {
   "cell_type": "code",
   "execution_count": 43,
   "metadata": {},
   "outputs": [
    {
     "data": {
      "text/plain": [
       "[Row(_c0=0, Name='kiran', Sname='mungkar', Age=29, Gender='m', Email_ID='kiran@gmail.com', Adderess='virar', Profile='data analyst', Experience=1.8),\n",
       " Row(_c0=1, Name='kapil', Sname='nargund', Age=27, Gender='m', Email_ID='kapil@gmail.com', Adderess='vasai', Profile='data analyst', Experience=3.2),\n",
       " Row(_c0=2, Name='samira', Sname='sha', Age=28, Gender='f', Email_ID='samira@yahoo.com', Adderess='borivali', Profile='teacher', Experience=2.8)]"
      ]
     },
     "execution_count": 43,
     "metadata": {},
     "output_type": "execute_result"
    }
   ],
   "source": [
    "ps_df.head(3) # show 3 records"
   ]
  },
  {
   "cell_type": "code",
   "execution_count": 57,
   "metadata": {},
   "outputs": [
    {
     "data": {
      "text/plain": [
       "DataFrame[Name: string]"
      ]
     },
     "execution_count": 57,
     "metadata": {},
     "output_type": "execute_result"
    }
   ],
   "source": [
    "# to select the Name collumn\n",
    "ps_df.select(\"Name\")"
   ]
  },
  {
   "cell_type": "code",
   "execution_count": 58,
   "metadata": {},
   "outputs": [
    {
     "name": "stdout",
     "output_type": "stream",
     "text": [
      "+--------+\n",
      "|    Name|\n",
      "+--------+\n",
      "|   kiran|\n",
      "|   kapil|\n",
      "|   vinod|\n",
      "|  samira|\n",
      "|  vidhan|\n",
      "| abhijit|\n",
      "| namrata|\n",
      "|    neha|\n",
      "| shubham|\n",
      "| darshan|\n",
      "|    anuj|\n",
      "|harshali|\n",
      "|  nitesh|\n",
      "|  nitesh|\n",
      "|   vidit|\n",
      "|shradhha|\n",
      "|   jinal|\n",
      "|   rohit|\n",
      "|siddhesh|\n",
      "|   nidhi|\n",
      "+--------+\n",
      "only showing top 20 rows\n",
      "\n"
     ]
    }
   ],
   "source": [
    "ps_df.select(\"Name\").show()"
   ]
  },
  {
   "cell_type": "code",
   "execution_count": 61,
   "metadata": {},
   "outputs": [
    {
     "name": "stdout",
     "output_type": "stream",
     "text": [
      "+--------+\n",
      "|    Name|\n",
      "+--------+\n",
      "|   kiran|\n",
      "|   kapil|\n",
      "|   vinod|\n",
      "|  samira|\n",
      "|  vidhan|\n",
      "| abhijit|\n",
      "| namrata|\n",
      "|    neha|\n",
      "| shubham|\n",
      "| darshan|\n",
      "|    anuj|\n",
      "|harshali|\n",
      "|  nitesh|\n",
      "|  nitesh|\n",
      "|   vidit|\n",
      "|shradhha|\n",
      "|   jinal|\n",
      "|   rohit|\n",
      "|siddhesh|\n",
      "|   nidhi|\n",
      "+--------+\n",
      "only showing top 20 rows\n",
      "\n"
     ]
    }
   ],
   "source": [
    "name_df = ps_df.select(\"Name\")\n",
    "name_df.show()"
   ]
  },
  {
   "cell_type": "code",
   "execution_count": 60,
   "metadata": {},
   "outputs": [
    {
     "data": {
      "text/plain": [
       "pyspark.sql.dataframe.DataFrame"
      ]
     },
     "execution_count": 60,
     "metadata": {},
     "output_type": "execute_result"
    }
   ],
   "source": [
    "type(name_df)"
   ]
  },
  {
   "cell_type": "code",
   "execution_count": 66,
   "metadata": {},
   "outputs": [
    {
     "name": "stdout",
     "output_type": "stream",
     "text": [
      "+--------+---+\n",
      "|    Name|Age|\n",
      "+--------+---+\n",
      "|   kiran| 29|\n",
      "|   kapil| 27|\n",
      "|   vinod| 31|\n",
      "|  samira| 28|\n",
      "|  vidhan| 27|\n",
      "| abhijit| 27|\n",
      "| namrata| 28|\n",
      "|    neha| 27|\n",
      "| shubham| 26|\n",
      "| darshan| 27|\n",
      "|    anuj| 28|\n",
      "|harshali| 27|\n",
      "|  nitesh| 26|\n",
      "|  nitesh| 26|\n",
      "|   vidit| 29|\n",
      "|shradhha| 28|\n",
      "|   jinal| 30|\n",
      "|   rohit| 28|\n",
      "|siddhesh| 28|\n",
      "|   nidhi| 28|\n",
      "+--------+---+\n",
      "only showing top 20 rows\n",
      "\n"
     ]
    }
   ],
   "source": [
    "# select multiple collumns\n",
    "cols_df = ps_df.select([\"Name\", \"Age\"])\n",
    "cols_df.show()"
   ]
  },
  {
   "cell_type": "code",
   "execution_count": 71,
   "metadata": {},
   "outputs": [
    {
     "data": {
      "text/plain": [
       "[('_c0', 'int'),\n",
       " ('Name', 'string'),\n",
       " ('Sname', 'string'),\n",
       " ('Age', 'int'),\n",
       " ('Gender', 'string'),\n",
       " ('Email_ID', 'string'),\n",
       " ('Adderess', 'string'),\n",
       " ('Profile', 'string'),\n",
       " ('Experience', 'double')]"
      ]
     },
     "execution_count": 71,
     "metadata": {},
     "output_type": "execute_result"
    }
   ],
   "source": [
    "# dtypes\n",
    "ps_df.dtypes"
   ]
  },
  {
   "cell_type": "code",
   "execution_count": 78,
   "metadata": {},
   "outputs": [],
   "source": [
    "# Check describe option as similar to pandas\n",
    "# ps_df.describe().show()"
   ]
  },
  {
   "cell_type": "code",
   "execution_count": 80,
   "metadata": {},
   "outputs": [],
   "source": [
    "# Adding colloumns in dataframe\n",
    "EXP_after_2year_df = ps_df.withColumn(\"Exp. after 2 year\", ps_df[\"Experience\"]+2)"
   ]
  },
  {
   "cell_type": "code",
   "execution_count": 81,
   "metadata": {},
   "outputs": [
    {
     "name": "stdout",
     "output_type": "stream",
     "text": [
      "+---+--------+---------+---+------+-------------------+----------+--------------------+----------+-----------------+\n",
      "|_c0|    Name|    Sname|Age|Gender|           Email_ID|  Adderess|             Profile|Experience|Exp. after 2 year|\n",
      "+---+--------+---------+---+------+-------------------+----------+--------------------+----------+-----------------+\n",
      "|  0|   kiran|  mungkar| 29|     m|    kiran@gmail.com|     virar|        data analyst|       1.8|              3.8|\n",
      "|  1|   kapil|  nargund| 27|     m|    kapil@gmail.com|     vasai|        data analyst|       3.2|              5.2|\n",
      "|  2|   vinod|    kadam| 31|     m|    vinod#gmail.com|  borivali|             teacher|       2.8|              4.8|\n",
      "|  3|  samira|      sha| 28|     f|   samira@yahoo.com|  borivali|             teacher|       2.8|              4.8|\n",
      "|  4|  vidhan|     wani| 27|     m| vidhan@hotmail.com| bhayandar|automation developer|       1.5|              3.5|\n",
      "|  5| abhijit| panpatil| 27|     m|  abhijit@gmail.com|   palghar|shell scripting e...|       4.5|              6.5|\n",
      "|  6| namrata|deshamukh| 28|     f|  manrata@yahoo.com|  borivali| front end developer|       2.6|              4.6|\n",
      "|  7|    neha|     raut| 27|     f|   neha@hotmail.com|     virar|             teacher|       4.8|              6.8|\n",
      "|  8| shubham|     neve| 26|     m|shubham@hotmail.com|   palghar|automation developer|       3.5|              5.5|\n",
      "|  9| darshan|      sha| 27|     m|  darshan@gmail.com|     malad|       .net devloper|       3.4|              5.4|\n",
      "| 10|    anuj|    kumar| 28|     m|     anuj@yahoo.com|nalasopara|   backend developer|       4.7|              6.7|\n",
      "| 11|harshali|    desai| 27|     f| harshali@gmail.com|  borivali|      java developer|       4.1|              6.1|\n",
      "| 12|  nitesh|  kanojia| 26|     m|   nitesh@gmail.com|     vasai|        data analyst|       2.3|              4.3|\n",
      "| 13|  nitesh|   angare| 26|     m| nitesh_a@gmail.com|     virar|        bi developer|       2.0|              4.0|\n",
      "| 14|   vidit|      sha| 29|     m|    vidit@yahoo.com|  borivali|    business analyst|       4.0|              6.0|\n",
      "| 15|shradhha|   mahale| 28|     f| shraddha@yahoo.com|   palghar|   backend developer|       3.1|              5.1|\n",
      "| 16|   jinal|     jain| 30|     f|    jinal@gmail.com|     malad|     software tester|       3.2|              5.2|\n",
      "| 17|   rohit|    kumar| 28|     m|    rohit@gmail.com|     virar| front end developer|       2.7|              4.7|\n",
      "| 18|siddhesh|    patil| 28|     m| siddhesh@yahoo.com|     virar| front end developer|       2.7|              4.7|\n",
      "| 19|   nidhi|  divecha| 28|     f|  nidhi@hotmail.cpm|     vasai|             teacher|       3.2|              5.2|\n",
      "+---+--------+---------+---+------+-------------------+----------+--------------------+----------+-----------------+\n",
      "only showing top 20 rows\n",
      "\n"
     ]
    }
   ],
   "source": [
    "EXP_after_2year_df.show()"
   ]
  },
  {
   "cell_type": "code",
   "execution_count": 82,
   "metadata": {},
   "outputs": [
    {
     "name": "stdout",
     "output_type": "stream",
     "text": [
      "+---+--------+---------+---+------+-------------------+----------+--------------------+----------+\n",
      "|_c0|    Name|    Sname|Age|Gender|           Email_ID|  Adderess|             Profile|Experience|\n",
      "+---+--------+---------+---+------+-------------------+----------+--------------------+----------+\n",
      "|  0|   kiran|  mungkar| 29|     m|    kiran@gmail.com|     virar|        data analyst|       1.8|\n",
      "|  1|   kapil|  nargund| 27|     m|    kapil@gmail.com|     vasai|        data analyst|       3.2|\n",
      "|  2|   vinod|    kadam| 31|     m|    vinod#gmail.com|  borivali|             teacher|       2.8|\n",
      "|  3|  samira|      sha| 28|     f|   samira@yahoo.com|  borivali|             teacher|       2.8|\n",
      "|  4|  vidhan|     wani| 27|     m| vidhan@hotmail.com| bhayandar|automation developer|       1.5|\n",
      "|  5| abhijit| panpatil| 27|     m|  abhijit@gmail.com|   palghar|shell scripting e...|       4.5|\n",
      "|  6| namrata|deshamukh| 28|     f|  manrata@yahoo.com|  borivali| front end developer|       2.6|\n",
      "|  7|    neha|     raut| 27|     f|   neha@hotmail.com|     virar|             teacher|       4.8|\n",
      "|  8| shubham|     neve| 26|     m|shubham@hotmail.com|   palghar|automation developer|       3.5|\n",
      "|  9| darshan|      sha| 27|     m|  darshan@gmail.com|     malad|       .net devloper|       3.4|\n",
      "| 10|    anuj|    kumar| 28|     m|     anuj@yahoo.com|nalasopara|   backend developer|       4.7|\n",
      "| 11|harshali|    desai| 27|     f| harshali@gmail.com|  borivali|      java developer|       4.1|\n",
      "| 12|  nitesh|  kanojia| 26|     m|   nitesh@gmail.com|     vasai|        data analyst|       2.3|\n",
      "| 13|  nitesh|   angare| 26|     m| nitesh_a@gmail.com|     virar|        bi developer|       2.0|\n",
      "| 14|   vidit|      sha| 29|     m|    vidit@yahoo.com|  borivali|    business analyst|       4.0|\n",
      "| 15|shradhha|   mahale| 28|     f| shraddha@yahoo.com|   palghar|   backend developer|       3.1|\n",
      "| 16|   jinal|     jain| 30|     f|    jinal@gmail.com|     malad|     software tester|       3.2|\n",
      "| 17|   rohit|    kumar| 28|     m|    rohit@gmail.com|     virar| front end developer|       2.7|\n",
      "| 18|siddhesh|    patil| 28|     m| siddhesh@yahoo.com|     virar| front end developer|       2.7|\n",
      "| 19|   nidhi|  divecha| 28|     f|  nidhi@hotmail.cpm|     vasai|             teacher|       3.2|\n",
      "+---+--------+---------+---+------+-------------------+----------+--------------------+----------+\n",
      "only showing top 20 rows\n",
      "\n"
     ]
    }
   ],
   "source": [
    "# drop the columns\n",
    "drop_df = EXP_after_2year_df.drop(\"Exp. after 2 year\")\n",
    "drop_df.show()"
   ]
  },
  {
   "cell_type": "code",
   "execution_count": 83,
   "metadata": {},
   "outputs": [
    {
     "name": "stdout",
     "output_type": "stream",
     "text": [
      "+---+--------+---------+---+------+-------------------+----------+--------------------+----------+\n",
      "|_c0|  F_Name|    Sname|Age|Gender|           Email_ID|  Adderess|             Profile|Experience|\n",
      "+---+--------+---------+---+------+-------------------+----------+--------------------+----------+\n",
      "|  0|   kiran|  mungkar| 29|     m|    kiran@gmail.com|     virar|        data analyst|       1.8|\n",
      "|  1|   kapil|  nargund| 27|     m|    kapil@gmail.com|     vasai|        data analyst|       3.2|\n",
      "|  2|   vinod|    kadam| 31|     m|    vinod#gmail.com|  borivali|             teacher|       2.8|\n",
      "|  3|  samira|      sha| 28|     f|   samira@yahoo.com|  borivali|             teacher|       2.8|\n",
      "|  4|  vidhan|     wani| 27|     m| vidhan@hotmail.com| bhayandar|automation developer|       1.5|\n",
      "|  5| abhijit| panpatil| 27|     m|  abhijit@gmail.com|   palghar|shell scripting e...|       4.5|\n",
      "|  6| namrata|deshamukh| 28|     f|  manrata@yahoo.com|  borivali| front end developer|       2.6|\n",
      "|  7|    neha|     raut| 27|     f|   neha@hotmail.com|     virar|             teacher|       4.8|\n",
      "|  8| shubham|     neve| 26|     m|shubham@hotmail.com|   palghar|automation developer|       3.5|\n",
      "|  9| darshan|      sha| 27|     m|  darshan@gmail.com|     malad|       .net devloper|       3.4|\n",
      "| 10|    anuj|    kumar| 28|     m|     anuj@yahoo.com|nalasopara|   backend developer|       4.7|\n",
      "| 11|harshali|    desai| 27|     f| harshali@gmail.com|  borivali|      java developer|       4.1|\n",
      "| 12|  nitesh|  kanojia| 26|     m|   nitesh@gmail.com|     vasai|        data analyst|       2.3|\n",
      "| 13|  nitesh|   angare| 26|     m| nitesh_a@gmail.com|     virar|        bi developer|       2.0|\n",
      "| 14|   vidit|      sha| 29|     m|    vidit@yahoo.com|  borivali|    business analyst|       4.0|\n",
      "| 15|shradhha|   mahale| 28|     f| shraddha@yahoo.com|   palghar|   backend developer|       3.1|\n",
      "| 16|   jinal|     jain| 30|     f|    jinal@gmail.com|     malad|     software tester|       3.2|\n",
      "| 17|   rohit|    kumar| 28|     m|    rohit@gmail.com|     virar| front end developer|       2.7|\n",
      "| 18|siddhesh|    patil| 28|     m| siddhesh@yahoo.com|     virar| front end developer|       2.7|\n",
      "| 19|   nidhi|  divecha| 28|     f|  nidhi@hotmail.cpm|     vasai|             teacher|       3.2|\n",
      "+---+--------+---------+---+------+-------------------+----------+--------------------+----------+\n",
      "only showing top 20 rows\n",
      "\n"
     ]
    }
   ],
   "source": [
    "# Rename the column\n",
    "rename_col_df = drop_df.withColumnRenamed(\"Name\", \"F_Name\")\n",
    "rename_col_df.show()"
   ]
  },
  {
   "cell_type": "markdown",
   "metadata": {},
   "source": [
    "# Pyspark Handling Missing Values"
   ]
  },
  {
   "cell_type": "markdown",
   "metadata": {},
   "source": [
    "- Dropping columns\n",
    "- Droping rows\n",
    "- Various parameter in dropping functionalities\n",
    "- Handelingmissing values by mean, median and mode"
   ]
  },
  {
   "cell_type": "code",
   "execution_count": 2,
   "metadata": {},
   "outputs": [],
   "source": [
    "# read excel and convert to csv\n",
    "import pandas as pd\n",
    "# read .xlsx\n",
    "df = pd.read_excel('test1.xlsx')\n",
    "# to save in .csv\n",
    "df.to_csv('test1.csv')"
   ]
  },
  {
   "cell_type": "code",
   "execution_count": 7,
   "metadata": {},
   "outputs": [
    {
     "name": "stdout",
     "output_type": "stream",
     "text": [
      "+---+--------+---------+----+------+-------------------+----------+--------------------+----------+\n",
      "|_c0|    Name|    Sname| Age|Gender|           Email_ID|  Adderess|             Profile|Experience|\n",
      "+---+--------+---------+----+------+-------------------+----------+--------------------+----------+\n",
      "|  0|   kiran|  mungkar|29.0|     m|    kiran@gmail.com|     virar|        data analyst|       1.8|\n",
      "|  1|   kapil|  nargund|27.0|     m|    kapil@gmail.com|     vasai|        data analyst|       3.2|\n",
      "|  2|   vinod|    kadam|31.0|     m|    vinod#gmail.com|  borivali|             teacher|       2.8|\n",
      "|  3|    null|      sha|28.0|     f|   samira@yahoo.com|  borivali|             teacher|      null|\n",
      "|  4|  vidhan|     wani|null|     m| vidhan@hotmail.com| bhayandar|automation developer|       1.5|\n",
      "|  5| abhijit| panpatil|null|     m|  abhijit@gmail.com|   palghar|                null|       4.5|\n",
      "|  6| namrata|deshamukh|28.0|     f|  manrata@yahoo.com|  borivali| front end developer|       2.6|\n",
      "|  7|    neha|     raut|27.0|     f|   neha@hotmail.com|     virar|             teacher|       4.8|\n",
      "|  8| shubham|     neve|26.0|     m|shubham@hotmail.com|   palghar|automation developer|       3.5|\n",
      "|  9| darshan|     null|27.0|  null|  darshan@gmail.com|     malad|       .net devloper|       3.4|\n",
      "| 10|    anuj|    kumar|28.0|     m|     anuj@yahoo.com|nalasopara|   backend developer|       4.7|\n",
      "| 11|harshali|    desai|27.0|     f| harshali@gmail.com|  borivali|      java developer|       4.1|\n",
      "| 12|  nitesh|  kanojia|26.0|     m|   nitesh@gmail.com|     vasai|        data analyst|       2.3|\n",
      "| 13|  nitesh|   angare|26.0|     m| nitesh_a@gmail.com|     virar|        bi developer|       2.0|\n",
      "| 14|   vidit|     null|null|     m|    vidit@yahoo.com|  borivali|    business analyst|       4.0|\n",
      "| 15|shradhha|   mahale|28.0|     f| shraddha@yahoo.com|   palghar|   backend developer|       3.1|\n",
      "| 16|   jinal|     jain|30.0|     f|    jinal@gmail.com|     malad|     software tester|       3.2|\n",
      "| 17|   rohit|     null|28.0|     m|    rohit@gmail.com|     virar| front end developer|       2.7|\n",
      "| 18|siddhesh|     null|28.0|     m| siddhesh@yahoo.com|     virar| front end developer|       2.7|\n",
      "| 19|   nidhi|  divecha|28.0|     f|  nidhi@hotmail.cpm|     vasai|             teacher|       3.2|\n",
      "+---+--------+---------+----+------+-------------------+----------+--------------------+----------+\n",
      "only showing top 20 rows\n",
      "\n"
     ]
    }
   ],
   "source": [
    "# connect seseeion\n",
    "from pyspark.sql import SparkSession\n",
    "spark = SparkSession.builder.appName('Practrice').getOrCreate()\n",
    "\n",
    "# read .csv file \n",
    "ps_df = spark.read.csv('test1.csv', header=True, inferSchema=True)\n",
    "ps_df.show()"
   ]
  },
  {
   "cell_type": "code",
   "execution_count": 8,
   "metadata": {},
   "outputs": [
    {
     "name": "stdout",
     "output_type": "stream",
     "text": [
      "+---+--------+---------+----+------+-------------------+----------+--------------------+\n",
      "|_c0|    Name|    Sname| Age|Gender|           Email_ID|  Adderess|             Profile|\n",
      "+---+--------+---------+----+------+-------------------+----------+--------------------+\n",
      "|  0|   kiran|  mungkar|29.0|     m|    kiran@gmail.com|     virar|        data analyst|\n",
      "|  1|   kapil|  nargund|27.0|     m|    kapil@gmail.com|     vasai|        data analyst|\n",
      "|  2|   vinod|    kadam|31.0|     m|    vinod#gmail.com|  borivali|             teacher|\n",
      "|  3|    null|      sha|28.0|     f|   samira@yahoo.com|  borivali|             teacher|\n",
      "|  4|  vidhan|     wani|null|     m| vidhan@hotmail.com| bhayandar|automation developer|\n",
      "|  5| abhijit| panpatil|null|     m|  abhijit@gmail.com|   palghar|                null|\n",
      "|  6| namrata|deshamukh|28.0|     f|  manrata@yahoo.com|  borivali| front end developer|\n",
      "|  7|    neha|     raut|27.0|     f|   neha@hotmail.com|     virar|             teacher|\n",
      "|  8| shubham|     neve|26.0|     m|shubham@hotmail.com|   palghar|automation developer|\n",
      "|  9| darshan|     null|27.0|  null|  darshan@gmail.com|     malad|       .net devloper|\n",
      "| 10|    anuj|    kumar|28.0|     m|     anuj@yahoo.com|nalasopara|   backend developer|\n",
      "| 11|harshali|    desai|27.0|     f| harshali@gmail.com|  borivali|      java developer|\n",
      "| 12|  nitesh|  kanojia|26.0|     m|   nitesh@gmail.com|     vasai|        data analyst|\n",
      "| 13|  nitesh|   angare|26.0|     m| nitesh_a@gmail.com|     virar|        bi developer|\n",
      "| 14|   vidit|     null|null|     m|    vidit@yahoo.com|  borivali|    business analyst|\n",
      "| 15|shradhha|   mahale|28.0|     f| shraddha@yahoo.com|   palghar|   backend developer|\n",
      "| 16|   jinal|     jain|30.0|     f|    jinal@gmail.com|     malad|     software tester|\n",
      "| 17|   rohit|     null|28.0|     m|    rohit@gmail.com|     virar| front end developer|\n",
      "| 18|siddhesh|     null|28.0|     m| siddhesh@yahoo.com|     virar| front end developer|\n",
      "| 19|   nidhi|  divecha|28.0|     f|  nidhi@hotmail.cpm|     vasai|             teacher|\n",
      "+---+--------+---------+----+------+-------------------+----------+--------------------+\n",
      "only showing top 20 rows\n",
      "\n"
     ]
    }
   ],
   "source": [
    "# drop the column\n",
    "drop_column_df = ps_df.drop('Experience')\n",
    "drop_column_df.show()"
   ]
  },
  {
   "cell_type": "code",
   "execution_count": 9,
   "metadata": {},
   "outputs": [
    {
     "name": "stdout",
     "output_type": "stream",
     "text": [
      "+---+---------+---------+----+------+-------------------+----------+--------------------+----------+\n",
      "|_c0|     Name|    Sname| Age|Gender|           Email_ID|  Adderess|             Profile|Experience|\n",
      "+---+---------+---------+----+------+-------------------+----------+--------------------+----------+\n",
      "|  0|    kiran|  mungkar|29.0|     m|    kiran@gmail.com|     virar|        data analyst|       1.8|\n",
      "|  1|    kapil|  nargund|27.0|     m|    kapil@gmail.com|     vasai|        data analyst|       3.2|\n",
      "|  2|    vinod|    kadam|31.0|     m|    vinod#gmail.com|  borivali|             teacher|       2.8|\n",
      "|  6|  namrata|deshamukh|28.0|     f|  manrata@yahoo.com|  borivali| front end developer|       2.6|\n",
      "|  7|     neha|     raut|27.0|     f|   neha@hotmail.com|     virar|             teacher|       4.8|\n",
      "|  8|  shubham|     neve|26.0|     m|shubham@hotmail.com|   palghar|automation developer|       3.5|\n",
      "| 10|     anuj|    kumar|28.0|     m|     anuj@yahoo.com|nalasopara|   backend developer|       4.7|\n",
      "| 11| harshali|    desai|27.0|     f| harshali@gmail.com|  borivali|      java developer|       4.1|\n",
      "| 12|   nitesh|  kanojia|26.0|     m|   nitesh@gmail.com|     vasai|        data analyst|       2.3|\n",
      "| 13|   nitesh|   angare|26.0|     m| nitesh_a@gmail.com|     virar|        bi developer|       2.0|\n",
      "| 15| shradhha|   mahale|28.0|     f| shraddha@yahoo.com|   palghar|   backend developer|       3.1|\n",
      "| 16|    jinal|     jain|30.0|     f|    jinal@gmail.com|     malad|     software tester|       3.2|\n",
      "| 19|    nidhi|  divecha|28.0|     f|  nidhi@hotmail.cpm|     vasai|             teacher|       3.2|\n",
      "| 20|    harsh|  divecha|30.0|     m|    harsh@yahoo.com|     vasai|   software security|       4.1|\n",
      "| 21|   snehal|    matre|27.0|     f|   snehal@gmail.com| bhayandar|             teacher|       2.4|\n",
      "| 22|    medha|    patil|32.0|     f|    medha@yahoo.com|  borivali|       .net devloper|       3.6|\n",
      "| 26|sudhanshu|    kumar|32.0|     m|sudhanshu@gmail.com|     dadar|             teacher|       5.6|\n",
      "+---+---------+---------+----+------+-------------------+----------+--------------------+----------+\n",
      "\n"
     ]
    }
   ],
   "source": [
    "# drop rows based on null values \n",
    "ps_df.na.drop().show()"
   ]
  },
  {
   "cell_type": "code",
   "execution_count": 10,
   "metadata": {},
   "outputs": [
    {
     "name": "stdout",
     "output_type": "stream",
     "text": [
      "+---+---------+---------+----+------+-------------------+----------+--------------------+----------+\n",
      "|_c0|     Name|    Sname| Age|Gender|           Email_ID|  Adderess|             Profile|Experience|\n",
      "+---+---------+---------+----+------+-------------------+----------+--------------------+----------+\n",
      "|  0|    kiran|  mungkar|29.0|     m|    kiran@gmail.com|     virar|        data analyst|       1.8|\n",
      "|  1|    kapil|  nargund|27.0|     m|    kapil@gmail.com|     vasai|        data analyst|       3.2|\n",
      "|  2|    vinod|    kadam|31.0|     m|    vinod#gmail.com|  borivali|             teacher|       2.8|\n",
      "|  6|  namrata|deshamukh|28.0|     f|  manrata@yahoo.com|  borivali| front end developer|       2.6|\n",
      "|  7|     neha|     raut|27.0|     f|   neha@hotmail.com|     virar|             teacher|       4.8|\n",
      "|  8|  shubham|     neve|26.0|     m|shubham@hotmail.com|   palghar|automation developer|       3.5|\n",
      "| 10|     anuj|    kumar|28.0|     m|     anuj@yahoo.com|nalasopara|   backend developer|       4.7|\n",
      "| 11| harshali|    desai|27.0|     f| harshali@gmail.com|  borivali|      java developer|       4.1|\n",
      "| 12|   nitesh|  kanojia|26.0|     m|   nitesh@gmail.com|     vasai|        data analyst|       2.3|\n",
      "| 13|   nitesh|   angare|26.0|     m| nitesh_a@gmail.com|     virar|        bi developer|       2.0|\n",
      "| 15| shradhha|   mahale|28.0|     f| shraddha@yahoo.com|   palghar|   backend developer|       3.1|\n",
      "| 16|    jinal|     jain|30.0|     f|    jinal@gmail.com|     malad|     software tester|       3.2|\n",
      "| 19|    nidhi|  divecha|28.0|     f|  nidhi@hotmail.cpm|     vasai|             teacher|       3.2|\n",
      "| 20|    harsh|  divecha|30.0|     m|    harsh@yahoo.com|     vasai|   software security|       4.1|\n",
      "| 21|   snehal|    matre|27.0|     f|   snehal@gmail.com| bhayandar|             teacher|       2.4|\n",
      "| 22|    medha|    patil|32.0|     f|    medha@yahoo.com|  borivali|       .net devloper|       3.6|\n",
      "| 26|sudhanshu|    kumar|32.0|     m|sudhanshu@gmail.com|     dadar|             teacher|       5.6|\n",
      "+---+---------+---------+----+------+-------------------+----------+--------------------+----------+\n",
      "\n"
     ]
    }
   ],
   "source": [
    "# ps_df.na.drop(how='any', thresh=None, subset=None)\n",
    "# how: 'any' or 'all'.\n",
    "# If 'any', drop a row if it contains any nulls.\n",
    "# If 'all', drop a row only if all its values are null.\n",
    "# drop when how == all OR how == any\n",
    "ps_df.na.drop(how='any').show()"
   ]
  },
  {
   "cell_type": "code",
   "execution_count": 11,
   "metadata": {},
   "outputs": [
    {
     "name": "stdout",
     "output_type": "stream",
     "text": [
      "+---+--------+---------+----+------+-------------------+----------+--------------------+----------+\n",
      "|_c0|    Name|    Sname| Age|Gender|           Email_ID|  Adderess|             Profile|Experience|\n",
      "+---+--------+---------+----+------+-------------------+----------+--------------------+----------+\n",
      "|  0|   kiran|  mungkar|29.0|     m|    kiran@gmail.com|     virar|        data analyst|       1.8|\n",
      "|  1|   kapil|  nargund|27.0|     m|    kapil@gmail.com|     vasai|        data analyst|       3.2|\n",
      "|  2|   vinod|    kadam|31.0|     m|    vinod#gmail.com|  borivali|             teacher|       2.8|\n",
      "|  3|    null|      sha|28.0|     f|   samira@yahoo.com|  borivali|             teacher|      null|\n",
      "|  4|  vidhan|     wani|null|     m| vidhan@hotmail.com| bhayandar|automation developer|       1.5|\n",
      "|  5| abhijit| panpatil|null|     m|  abhijit@gmail.com|   palghar|                null|       4.5|\n",
      "|  6| namrata|deshamukh|28.0|     f|  manrata@yahoo.com|  borivali| front end developer|       2.6|\n",
      "|  7|    neha|     raut|27.0|     f|   neha@hotmail.com|     virar|             teacher|       4.8|\n",
      "|  8| shubham|     neve|26.0|     m|shubham@hotmail.com|   palghar|automation developer|       3.5|\n",
      "|  9| darshan|     null|27.0|  null|  darshan@gmail.com|     malad|       .net devloper|       3.4|\n",
      "| 10|    anuj|    kumar|28.0|     m|     anuj@yahoo.com|nalasopara|   backend developer|       4.7|\n",
      "| 11|harshali|    desai|27.0|     f| harshali@gmail.com|  borivali|      java developer|       4.1|\n",
      "| 12|  nitesh|  kanojia|26.0|     m|   nitesh@gmail.com|     vasai|        data analyst|       2.3|\n",
      "| 13|  nitesh|   angare|26.0|     m| nitesh_a@gmail.com|     virar|        bi developer|       2.0|\n",
      "| 14|   vidit|     null|null|     m|    vidit@yahoo.com|  borivali|    business analyst|       4.0|\n",
      "| 15|shradhha|   mahale|28.0|     f| shraddha@yahoo.com|   palghar|   backend developer|       3.1|\n",
      "| 16|   jinal|     jain|30.0|     f|    jinal@gmail.com|     malad|     software tester|       3.2|\n",
      "| 17|   rohit|     null|28.0|     m|    rohit@gmail.com|     virar| front end developer|       2.7|\n",
      "| 18|siddhesh|     null|28.0|     m| siddhesh@yahoo.com|     virar| front end developer|       2.7|\n",
      "| 19|   nidhi|  divecha|28.0|     f|  nidhi@hotmail.cpm|     vasai|             teacher|       3.2|\n",
      "+---+--------+---------+----+------+-------------------+----------+--------------------+----------+\n",
      "only showing top 20 rows\n",
      "\n"
     ]
    }
   ],
   "source": [
    "ps_df.na.drop(how='all').show()"
   ]
  },
  {
   "cell_type": "code",
   "execution_count": 12,
   "metadata": {},
   "outputs": [
    {
     "name": "stdout",
     "output_type": "stream",
     "text": [
      "+---+--------+---------+----+------+-------------------+----------+--------------------+----------+\n",
      "|_c0|    Name|    Sname| Age|Gender|           Email_ID|  Adderess|             Profile|Experience|\n",
      "+---+--------+---------+----+------+-------------------+----------+--------------------+----------+\n",
      "|  0|   kiran|  mungkar|29.0|     m|    kiran@gmail.com|     virar|        data analyst|       1.8|\n",
      "|  1|   kapil|  nargund|27.0|     m|    kapil@gmail.com|     vasai|        data analyst|       3.2|\n",
      "|  2|   vinod|    kadam|31.0|     m|    vinod#gmail.com|  borivali|             teacher|       2.8|\n",
      "|  3|    null|      sha|28.0|     f|   samira@yahoo.com|  borivali|             teacher|      null|\n",
      "|  4|  vidhan|     wani|null|     m| vidhan@hotmail.com| bhayandar|automation developer|       1.5|\n",
      "|  5| abhijit| panpatil|null|     m|  abhijit@gmail.com|   palghar|                null|       4.5|\n",
      "|  6| namrata|deshamukh|28.0|     f|  manrata@yahoo.com|  borivali| front end developer|       2.6|\n",
      "|  7|    neha|     raut|27.0|     f|   neha@hotmail.com|     virar|             teacher|       4.8|\n",
      "|  8| shubham|     neve|26.0|     m|shubham@hotmail.com|   palghar|automation developer|       3.5|\n",
      "|  9| darshan|     null|27.0|  null|  darshan@gmail.com|     malad|       .net devloper|       3.4|\n",
      "| 10|    anuj|    kumar|28.0|     m|     anuj@yahoo.com|nalasopara|   backend developer|       4.7|\n",
      "| 11|harshali|    desai|27.0|     f| harshali@gmail.com|  borivali|      java developer|       4.1|\n",
      "| 12|  nitesh|  kanojia|26.0|     m|   nitesh@gmail.com|     vasai|        data analyst|       2.3|\n",
      "| 13|  nitesh|   angare|26.0|     m| nitesh_a@gmail.com|     virar|        bi developer|       2.0|\n",
      "| 14|   vidit|     null|null|     m|    vidit@yahoo.com|  borivali|    business analyst|       4.0|\n",
      "| 15|shradhha|   mahale|28.0|     f| shraddha@yahoo.com|   palghar|   backend developer|       3.1|\n",
      "| 16|   jinal|     jain|30.0|     f|    jinal@gmail.com|     malad|     software tester|       3.2|\n",
      "| 17|   rohit|     null|28.0|     m|    rohit@gmail.com|     virar| front end developer|       2.7|\n",
      "| 18|siddhesh|     null|28.0|     m| siddhesh@yahoo.com|     virar| front end developer|       2.7|\n",
      "| 19|   nidhi|  divecha|28.0|     f|  nidhi@hotmail.cpm|     vasai|             teacher|       3.2|\n",
      "+---+--------+---------+----+------+-------------------+----------+--------------------+----------+\n",
      "only showing top 20 rows\n",
      "\n"
     ]
    }
   ],
   "source": [
    "# thresh: int, default None\n",
    "# If specified, drop rows that have less than `thresh` non-null values.\n",
    "# This overwrites the `how` parameter.\n",
    "ps_df.na.drop(how='any', thresh=2).show()"
   ]
  },
  {
   "cell_type": "code",
   "execution_count": 17,
   "metadata": {},
   "outputs": [
    {
     "name": "stdout",
     "output_type": "stream",
     "text": [
      "+---+---------+---------+----+------+-------------------+----------+--------------------+----------+\n",
      "|_c0|     Name|    Sname| Age|Gender|           Email_ID|  Adderess|             Profile|Experience|\n",
      "+---+---------+---------+----+------+-------------------+----------+--------------------+----------+\n",
      "|  0|    kiran|  mungkar|29.0|     m|    kiran@gmail.com|     virar|        data analyst|       1.8|\n",
      "|  1|    kapil|  nargund|27.0|     m|    kapil@gmail.com|     vasai|        data analyst|       3.2|\n",
      "|  2|    vinod|    kadam|31.0|     m|    vinod#gmail.com|  borivali|             teacher|       2.8|\n",
      "|  3|     null|      sha|28.0|     f|   samira@yahoo.com|  borivali|             teacher|      null|\n",
      "|  4|   vidhan|     wani|null|     m| vidhan@hotmail.com| bhayandar|automation developer|       1.5|\n",
      "|  5|  abhijit| panpatil|null|     m|  abhijit@gmail.com|   palghar|                null|       4.5|\n",
      "|  6|  namrata|deshamukh|28.0|     f|  manrata@yahoo.com|  borivali| front end developer|       2.6|\n",
      "|  7|     neha|     raut|27.0|     f|   neha@hotmail.com|     virar|             teacher|       4.8|\n",
      "|  8|  shubham|     neve|26.0|     m|shubham@hotmail.com|   palghar|automation developer|       3.5|\n",
      "|  9|  darshan|     null|27.0|  null|  darshan@gmail.com|     malad|       .net devloper|       3.4|\n",
      "| 10|     anuj|    kumar|28.0|     m|     anuj@yahoo.com|nalasopara|   backend developer|       4.7|\n",
      "| 11| harshali|    desai|27.0|     f| harshali@gmail.com|  borivali|      java developer|       4.1|\n",
      "| 12|   nitesh|  kanojia|26.0|     m|   nitesh@gmail.com|     vasai|        data analyst|       2.3|\n",
      "| 13|   nitesh|   angare|26.0|     m| nitesh_a@gmail.com|     virar|        bi developer|       2.0|\n",
      "| 14|    vidit|     null|null|     m|    vidit@yahoo.com|  borivali|    business analyst|       4.0|\n",
      "| 15| shradhha|   mahale|28.0|     f| shraddha@yahoo.com|   palghar|   backend developer|       3.1|\n",
      "| 16|    jinal|     jain|30.0|     f|    jinal@gmail.com|     malad|     software tester|       3.2|\n",
      "| 17|    rohit|     null|28.0|     m|    rohit@gmail.com|     virar| front end developer|       2.7|\n",
      "| 18| siddhesh|     null|28.0|     m| siddhesh@yahoo.com|     virar| front end developer|       2.7|\n",
      "| 19|    nidhi|  divecha|28.0|     f|  nidhi@hotmail.cpm|     vasai|             teacher|       3.2|\n",
      "| 20|    harsh|  divecha|30.0|     m|    harsh@yahoo.com|     vasai|   software security|       4.1|\n",
      "| 21|   snehal|    matre|27.0|     f|   snehal@gmail.com| bhayandar|             teacher|       2.4|\n",
      "| 22|    medha|    patil|32.0|     f|    medha@yahoo.com|  borivali|       .net devloper|       3.6|\n",
      "| 23|    sonal|  gondane|null|     f|    sonal@gmail.com|  borivali|             teacher|       4.3|\n",
      "| 24|     null|     null|32.0|  null|               null|      null|                null|      null|\n",
      "| 25|    nayan|     null|null|     m|               null|     virar|             maneger|       4.5|\n",
      "| 26|sudhanshu|    kumar|32.0|     m|sudhanshu@gmail.com|     dadar|             teacher|       5.6|\n",
      "| 27|    kirsh|     naik|32.0|     m|               null|     dadar|             teacher|       5.0|\n",
      "| 28|     raju| narvekar|null|  null|   raju@hotmail.com|     parel|                null|       5.0|\n",
      "| 29|     sonu|    gawde|35.0|     m|               null|      null|     software tester|      null|\n",
      "| 30|     null|    desai|null|     f|               null|     vasai|    business analyst|      null|\n",
      "| 31| utkarsha|    kadam|null|     f| utkarsha@gmail.com|     virar|             teacher|      null|\n",
      "| 32|     null|    parab|30.0|     m|               null|   palghar|                null|       2.0|\n",
      "+---+---------+---------+----+------+-------------------+----------+--------------------+----------+\n",
      "\n"
     ]
    }
   ],
   "source": [
    "ps_df.na.drop(how='any', thresh=2).show(40)"
   ]
  },
  {
   "cell_type": "code",
   "execution_count": 21,
   "metadata": {},
   "outputs": [
    {
     "name": "stdout",
     "output_type": "stream",
     "text": [
      "+---+---------+---------+----+------+-------------------+----------+--------------------+----------+\n",
      "|_c0|     Name|    Sname| Age|Gender|           Email_ID|  Adderess|             Profile|Experience|\n",
      "+---+---------+---------+----+------+-------------------+----------+--------------------+----------+\n",
      "|  0|    kiran|  mungkar|29.0|     m|    kiran@gmail.com|     virar|        data analyst|       1.8|\n",
      "|  1|    kapil|  nargund|27.0|     m|    kapil@gmail.com|     vasai|        data analyst|       3.2|\n",
      "|  2|    vinod|    kadam|31.0|     m|    vinod#gmail.com|  borivali|             teacher|       2.8|\n",
      "|  4|   vidhan|     wani|null|     m| vidhan@hotmail.com| bhayandar|automation developer|       1.5|\n",
      "|  6|  namrata|deshamukh|28.0|     f|  manrata@yahoo.com|  borivali| front end developer|       2.6|\n",
      "|  7|     neha|     raut|27.0|     f|   neha@hotmail.com|     virar|             teacher|       4.8|\n",
      "|  8|  shubham|     neve|26.0|     m|shubham@hotmail.com|   palghar|automation developer|       3.5|\n",
      "|  9|  darshan|     null|27.0|  null|  darshan@gmail.com|     malad|       .net devloper|       3.4|\n",
      "| 10|     anuj|    kumar|28.0|     m|     anuj@yahoo.com|nalasopara|   backend developer|       4.7|\n",
      "| 11| harshali|    desai|27.0|     f| harshali@gmail.com|  borivali|      java developer|       4.1|\n",
      "| 12|   nitesh|  kanojia|26.0|     m|   nitesh@gmail.com|     vasai|        data analyst|       2.3|\n",
      "| 13|   nitesh|   angare|26.0|     m| nitesh_a@gmail.com|     virar|        bi developer|       2.0|\n",
      "| 14|    vidit|     null|null|     m|    vidit@yahoo.com|  borivali|    business analyst|       4.0|\n",
      "| 15| shradhha|   mahale|28.0|     f| shraddha@yahoo.com|   palghar|   backend developer|       3.1|\n",
      "| 16|    jinal|     jain|30.0|     f|    jinal@gmail.com|     malad|     software tester|       3.2|\n",
      "| 17|    rohit|     null|28.0|     m|    rohit@gmail.com|     virar| front end developer|       2.7|\n",
      "| 18| siddhesh|     null|28.0|     m| siddhesh@yahoo.com|     virar| front end developer|       2.7|\n",
      "| 19|    nidhi|  divecha|28.0|     f|  nidhi@hotmail.cpm|     vasai|             teacher|       3.2|\n",
      "| 20|    harsh|  divecha|30.0|     m|    harsh@yahoo.com|     vasai|   software security|       4.1|\n",
      "| 21|   snehal|    matre|27.0|     f|   snehal@gmail.com| bhayandar|             teacher|       2.4|\n",
      "| 22|    medha|    patil|32.0|     f|    medha@yahoo.com|  borivali|       .net devloper|       3.6|\n",
      "| 23|    sonal|  gondane|null|     f|    sonal@gmail.com|  borivali|             teacher|       4.3|\n",
      "| 26|sudhanshu|    kumar|32.0|     m|sudhanshu@gmail.com|     dadar|             teacher|       5.6|\n",
      "+---+---------+---------+----+------+-------------------+----------+--------------------+----------+\n",
      "\n"
     ]
    }
   ],
   "source": [
    "# subset: optional list of column names to consider\n",
    "ps_df.na.drop(subset=['Email_ID', 'Profile', 'Experience']).show(40)"
   ]
  },
  {
   "cell_type": "code",
   "execution_count": 22,
   "metadata": {},
   "outputs": [
    {
     "name": "stdout",
     "output_type": "stream",
     "text": [
      "+---+-------------+-------------+----+-------------+-------------------+-------------+--------------------+----------+\n",
      "|_c0|         Name|        Sname| Age|       Gender|           Email_ID|     Adderess|             Profile|Experience|\n",
      "+---+-------------+-------------+----+-------------+-------------------+-------------+--------------------+----------+\n",
      "|  0|        kiran|      mungkar|29.0|            m|    kiran@gmail.com|        virar|        data analyst|       1.8|\n",
      "|  1|        kapil|      nargund|27.0|            m|    kapil@gmail.com|        vasai|        data analyst|       3.2|\n",
      "|  2|        vinod|        kadam|31.0|            m|    vinod#gmail.com|     borivali|             teacher|       2.8|\n",
      "|  3|Missing Value|          sha|28.0|            f|   samira@yahoo.com|     borivali|             teacher|      null|\n",
      "|  4|       vidhan|         wani|null|            m| vidhan@hotmail.com|    bhayandar|automation developer|       1.5|\n",
      "|  5|      abhijit|     panpatil|null|            m|  abhijit@gmail.com|      palghar|       Missing Value|       4.5|\n",
      "|  6|      namrata|    deshamukh|28.0|            f|  manrata@yahoo.com|     borivali| front end developer|       2.6|\n",
      "|  7|         neha|         raut|27.0|            f|   neha@hotmail.com|        virar|             teacher|       4.8|\n",
      "|  8|      shubham|         neve|26.0|            m|shubham@hotmail.com|      palghar|automation developer|       3.5|\n",
      "|  9|      darshan|Missing Value|27.0|Missing Value|  darshan@gmail.com|        malad|       .net devloper|       3.4|\n",
      "| 10|         anuj|        kumar|28.0|            m|     anuj@yahoo.com|   nalasopara|   backend developer|       4.7|\n",
      "| 11|     harshali|        desai|27.0|            f| harshali@gmail.com|     borivali|      java developer|       4.1|\n",
      "| 12|       nitesh|      kanojia|26.0|            m|   nitesh@gmail.com|        vasai|        data analyst|       2.3|\n",
      "| 13|       nitesh|       angare|26.0|            m| nitesh_a@gmail.com|        virar|        bi developer|       2.0|\n",
      "| 14|        vidit|Missing Value|null|            m|    vidit@yahoo.com|     borivali|    business analyst|       4.0|\n",
      "| 15|     shradhha|       mahale|28.0|            f| shraddha@yahoo.com|      palghar|   backend developer|       3.1|\n",
      "| 16|        jinal|         jain|30.0|            f|    jinal@gmail.com|        malad|     software tester|       3.2|\n",
      "| 17|        rohit|Missing Value|28.0|            m|    rohit@gmail.com|        virar| front end developer|       2.7|\n",
      "| 18|     siddhesh|Missing Value|28.0|            m| siddhesh@yahoo.com|        virar| front end developer|       2.7|\n",
      "| 19|        nidhi|      divecha|28.0|            f|  nidhi@hotmail.cpm|        vasai|             teacher|       3.2|\n",
      "| 20|        harsh|      divecha|30.0|            m|    harsh@yahoo.com|        vasai|   software security|       4.1|\n",
      "| 21|       snehal|        matre|27.0|            f|   snehal@gmail.com|    bhayandar|             teacher|       2.4|\n",
      "| 22|        medha|        patil|32.0|            f|    medha@yahoo.com|     borivali|       .net devloper|       3.6|\n",
      "| 23|        sonal|      gondane|null|            f|    sonal@gmail.com|     borivali|             teacher|       4.3|\n",
      "| 24|Missing Value|Missing Value|32.0|Missing Value|      Missing Value|Missing Value|       Missing Value|      null|\n",
      "| 25|        nayan|Missing Value|null|            m|      Missing Value|        virar|             maneger|       4.5|\n",
      "| 26|    sudhanshu|        kumar|32.0|            m|sudhanshu@gmail.com|        dadar|             teacher|       5.6|\n",
      "| 27|        kirsh|         naik|32.0|            m|      Missing Value|        dadar|             teacher|       5.0|\n",
      "| 28|         raju|     narvekar|null|Missing Value|   raju@hotmail.com|        parel|       Missing Value|       5.0|\n",
      "| 29|         sonu|        gawde|35.0|            m|      Missing Value|Missing Value|     software tester|      null|\n",
      "| 30|Missing Value|        desai|null|            f|      Missing Value|        vasai|    business analyst|      null|\n",
      "| 31|     utkarsha|        kadam|null|            f| utkarsha@gmail.com|        virar|             teacher|      null|\n",
      "| 32|Missing Value|        parab|30.0|            m|      Missing Value|      palghar|       Missing Value|       2.0|\n",
      "+---+-------------+-------------+----+-------------+-------------------+-------------+--------------------+----------+\n",
      "\n"
     ]
    }
   ],
   "source": [
    "# fill the missing values\n",
    "ps_df.na.fill('Missing Value').show(40)"
   ]
  },
  {
   "cell_type": "code",
   "execution_count": 24,
   "metadata": {},
   "outputs": [
    {
     "name": "stdout",
     "output_type": "stream",
     "text": [
      "+---+-------------+---------+----+-------------+-------------------+----------+--------------------+----------+\n",
      "|_c0|         Name|    Sname| Age|       Gender|           Email_ID|  Adderess|             Profile|Experience|\n",
      "+---+-------------+---------+----+-------------+-------------------+----------+--------------------+----------+\n",
      "|  0|        kiran|  mungkar|29.0|            m|    kiran@gmail.com|     virar|        data analyst|       1.8|\n",
      "|  1|        kapil|  nargund|27.0|            m|    kapil@gmail.com|     vasai|        data analyst|       3.2|\n",
      "|  2|        vinod|    kadam|31.0|            m|    vinod#gmail.com|  borivali|             teacher|       2.8|\n",
      "|  3|Missing Value|      sha|28.0|            f|   samira@yahoo.com|  borivali|             teacher|      null|\n",
      "|  4|       vidhan|     wani|null|            m| vidhan@hotmail.com| bhayandar|automation developer|       1.5|\n",
      "|  5|      abhijit| panpatil|null|            m|  abhijit@gmail.com|   palghar|                null|       4.5|\n",
      "|  6|      namrata|deshamukh|28.0|            f|  manrata@yahoo.com|  borivali| front end developer|       2.6|\n",
      "|  7|         neha|     raut|27.0|            f|   neha@hotmail.com|     virar|             teacher|       4.8|\n",
      "|  8|      shubham|     neve|26.0|            m|shubham@hotmail.com|   palghar|automation developer|       3.5|\n",
      "|  9|      darshan|     null|27.0|Missing Value|  darshan@gmail.com|     malad|       .net devloper|       3.4|\n",
      "| 10|         anuj|    kumar|28.0|            m|     anuj@yahoo.com|nalasopara|   backend developer|       4.7|\n",
      "| 11|     harshali|    desai|27.0|            f| harshali@gmail.com|  borivali|      java developer|       4.1|\n",
      "| 12|       nitesh|  kanojia|26.0|            m|   nitesh@gmail.com|     vasai|        data analyst|       2.3|\n",
      "| 13|       nitesh|   angare|26.0|            m| nitesh_a@gmail.com|     virar|        bi developer|       2.0|\n",
      "| 14|        vidit|     null|null|            m|    vidit@yahoo.com|  borivali|    business analyst|       4.0|\n",
      "| 15|     shradhha|   mahale|28.0|            f| shraddha@yahoo.com|   palghar|   backend developer|       3.1|\n",
      "| 16|        jinal|     jain|30.0|            f|    jinal@gmail.com|     malad|     software tester|       3.2|\n",
      "| 17|        rohit|     null|28.0|            m|    rohit@gmail.com|     virar| front end developer|       2.7|\n",
      "| 18|     siddhesh|     null|28.0|            m| siddhesh@yahoo.com|     virar| front end developer|       2.7|\n",
      "| 19|        nidhi|  divecha|28.0|            f|  nidhi@hotmail.cpm|     vasai|             teacher|       3.2|\n",
      "| 20|        harsh|  divecha|30.0|            m|    harsh@yahoo.com|     vasai|   software security|       4.1|\n",
      "| 21|       snehal|    matre|27.0|            f|   snehal@gmail.com| bhayandar|             teacher|       2.4|\n",
      "| 22|        medha|    patil|32.0|            f|    medha@yahoo.com|  borivali|       .net devloper|       3.6|\n",
      "| 23|        sonal|  gondane|null|            f|    sonal@gmail.com|  borivali|             teacher|       4.3|\n",
      "| 24|Missing Value|     null|32.0|Missing Value|               null|      null|                null|      null|\n",
      "| 25|        nayan|     null|null|            m|               null|     virar|             maneger|       4.5|\n",
      "| 26|    sudhanshu|    kumar|32.0|            m|sudhanshu@gmail.com|     dadar|             teacher|       5.6|\n",
      "| 27|        kirsh|     naik|32.0|            m|               null|     dadar|             teacher|       5.0|\n",
      "| 28|         raju| narvekar|null|Missing Value|   raju@hotmail.com|     parel|                null|       5.0|\n",
      "| 29|         sonu|    gawde|35.0|            m|               null|      null|     software tester|      null|\n",
      "| 30|Missing Value|    desai|null|            f|               null|     vasai|    business analyst|      null|\n",
      "| 31|     utkarsha|    kadam|null|            f| utkarsha@gmail.com|     virar|             teacher|      null|\n",
      "| 32|Missing Value|    parab|30.0|            m|               null|   palghar|                null|       2.0|\n",
      "+---+-------------+---------+----+-------------+-------------------+----------+--------------------+----------+\n",
      "\n"
     ]
    }
   ],
   "source": [
    "ps_df.na.fill('Missing Value', ['Name', 'Gender']).show(40)"
   ]
  },
  {
   "cell_type": "code",
   "execution_count": 30,
   "metadata": {},
   "outputs": [
    {
     "name": "stdout",
     "output_type": "stream",
     "text": [
      "+---+---------+---------+----+------+-------------------+----------+--------------------+----------+--------+---------------+\n",
      "|_c0|     Name|    Sname| Age|Gender|           Email_ID|  Adderess|             Profile|Experience|Age_Impu|Experience_Impu|\n",
      "+---+---------+---------+----+------+-------------------+----------+--------------------+----------+--------+---------------+\n",
      "|  0|    kiran|  mungkar|29.0|     m|    kiran@gmail.com|     virar|        data analyst|       1.8|    29.0|            1.8|\n",
      "|  1|    kapil|  nargund|27.0|     m|    kapil@gmail.com|     vasai|        data analyst|       3.2|    27.0|            3.2|\n",
      "|  2|    vinod|    kadam|31.0|     m|    vinod#gmail.com|  borivali|             teacher|       2.8|    31.0|            2.8|\n",
      "|  3|     null|      sha|28.0|     f|   samira@yahoo.com|  borivali|             teacher|      null|    28.0|            3.2|\n",
      "|  4|   vidhan|     wani|null|     m| vidhan@hotmail.com| bhayandar|automation developer|       1.5|    28.0|            1.5|\n",
      "|  5|  abhijit| panpatil|null|     m|  abhijit@gmail.com|   palghar|                null|       4.5|    28.0|            4.5|\n",
      "|  6|  namrata|deshamukh|28.0|     f|  manrata@yahoo.com|  borivali| front end developer|       2.6|    28.0|            2.6|\n",
      "|  7|     neha|     raut|27.0|     f|   neha@hotmail.com|     virar|             teacher|       4.8|    27.0|            4.8|\n",
      "|  8|  shubham|     neve|26.0|     m|shubham@hotmail.com|   palghar|automation developer|       3.5|    26.0|            3.5|\n",
      "|  9|  darshan|     null|27.0|  null|  darshan@gmail.com|     malad|       .net devloper|       3.4|    27.0|            3.4|\n",
      "| 10|     anuj|    kumar|28.0|     m|     anuj@yahoo.com|nalasopara|   backend developer|       4.7|    28.0|            4.7|\n",
      "| 11| harshali|    desai|27.0|     f| harshali@gmail.com|  borivali|      java developer|       4.1|    27.0|            4.1|\n",
      "| 12|   nitesh|  kanojia|26.0|     m|   nitesh@gmail.com|     vasai|        data analyst|       2.3|    26.0|            2.3|\n",
      "| 13|   nitesh|   angare|26.0|     m| nitesh_a@gmail.com|     virar|        bi developer|       2.0|    26.0|            2.0|\n",
      "| 14|    vidit|     null|null|     m|    vidit@yahoo.com|  borivali|    business analyst|       4.0|    28.0|            4.0|\n",
      "| 15| shradhha|   mahale|28.0|     f| shraddha@yahoo.com|   palghar|   backend developer|       3.1|    28.0|            3.1|\n",
      "| 16|    jinal|     jain|30.0|     f|    jinal@gmail.com|     malad|     software tester|       3.2|    30.0|            3.2|\n",
      "| 17|    rohit|     null|28.0|     m|    rohit@gmail.com|     virar| front end developer|       2.7|    28.0|            2.7|\n",
      "| 18| siddhesh|     null|28.0|     m| siddhesh@yahoo.com|     virar| front end developer|       2.7|    28.0|            2.7|\n",
      "| 19|    nidhi|  divecha|28.0|     f|  nidhi@hotmail.cpm|     vasai|             teacher|       3.2|    28.0|            3.2|\n",
      "| 20|    harsh|  divecha|30.0|     m|    harsh@yahoo.com|     vasai|   software security|       4.1|    30.0|            4.1|\n",
      "| 21|   snehal|    matre|27.0|     f|   snehal@gmail.com| bhayandar|             teacher|       2.4|    27.0|            2.4|\n",
      "| 22|    medha|    patil|32.0|     f|    medha@yahoo.com|  borivali|       .net devloper|       3.6|    32.0|            3.6|\n",
      "| 23|    sonal|  gondane|null|     f|    sonal@gmail.com|  borivali|             teacher|       4.3|    28.0|            4.3|\n",
      "| 24|     null|     null|32.0|  null|               null|      null|                null|      null|    32.0|            3.2|\n",
      "| 25|    nayan|     null|null|     m|               null|     virar|             maneger|       4.5|    28.0|            4.5|\n",
      "| 26|sudhanshu|    kumar|32.0|     m|sudhanshu@gmail.com|     dadar|             teacher|       5.6|    32.0|            5.6|\n",
      "| 27|    kirsh|     naik|32.0|     m|               null|     dadar|             teacher|       5.0|    32.0|            5.0|\n",
      "| 28|     raju| narvekar|null|  null|   raju@hotmail.com|     parel|                null|       5.0|    28.0|            5.0|\n",
      "| 29|     sonu|    gawde|35.0|     m|               null|      null|     software tester|      null|    35.0|            3.2|\n",
      "| 30|     null|    desai|null|     f|               null|     vasai|    business analyst|      null|    28.0|            3.2|\n",
      "| 31| utkarsha|    kadam|null|     f| utkarsha@gmail.com|     virar|             teacher|      null|    28.0|            3.2|\n",
      "| 32|     null|    parab|30.0|     m|               null|   palghar|                null|       2.0|    30.0|            2.0|\n",
      "+---+---------+---------+----+------+-------------------+----------+--------------------+----------+--------+---------------+\n",
      "\n"
     ]
    }
   ],
   "source": [
    "# fill null value by using imputer function\n",
    "from pyspark.ml.feature import Imputer\n",
    "\n",
    "imputer = Imputer(inputCols = ['Age', 'Experience'], \n",
    "                  outputCols = [c+'_Impu' for c in ['Age', 'Experience']]\n",
    "                 ).setStrategy('median') # 'mean' 'median' 'mode'\n",
    "\n",
    "# add imputer columns to database\n",
    "imputer.fit(ps_df).transform(ps_df).show(40)\n",
    "\n",
    "# https://spark.apache.org/docs/latest/api/python/reference/api/pyspark.ml.feature.Imputer.html#pyspark.ml.feature.Imputer.strategy"
   ]
  },
  {
   "cell_type": "markdown",
   "metadata": {},
   "source": [
    "# Pyspark Filter Operations"
   ]
  },
  {
   "cell_type": "markdown",
   "metadata": {},
   "source": [
    "- Filter Opration\n",
    "- &, |, ==\n",
    "- ~"
   ]
  },
  {
   "cell_type": "code",
   "execution_count": 33,
   "metadata": {},
   "outputs": [
    {
     "name": "stdout",
     "output_type": "stream",
     "text": [
      "+---+--------+---------+---+------+-------------------+----------+--------------------+----------+\n",
      "|_c0|    Name|    Sname|Age|Gender|           Email_ID|  Adderess|             Profile|Experience|\n",
      "+---+--------+---------+---+------+-------------------+----------+--------------------+----------+\n",
      "|  0|   kiran|  mungkar| 29|     m|    kiran@gmail.com|     virar|        data analyst|       1.8|\n",
      "|  1|   kapil|  nargund| 27|     m|    kapil@gmail.com|     vasai|        data analyst|       3.2|\n",
      "|  2|   vinod|    kadam| 31|     m|    vinod#gmail.com|  borivali|             teacher|       2.8|\n",
      "|  3|  samira|      sha| 28|     f|   samira@yahoo.com|  borivali|             teacher|       2.8|\n",
      "|  4|  vidhan|     wani| 27|     m| vidhan@hotmail.com| bhayandar|automation developer|       1.5|\n",
      "|  5| abhijit| panpatil| 27|     m|  abhijit@gmail.com|   palghar|shell scripting e...|       4.5|\n",
      "|  6| namrata|deshamukh| 28|     f|  manrata@yahoo.com|  borivali| front end developer|       2.6|\n",
      "|  7|    neha|     raut| 27|     f|   neha@hotmail.com|     virar|             teacher|       4.8|\n",
      "|  8| shubham|     neve| 26|     m|shubham@hotmail.com|   palghar|automation developer|       3.5|\n",
      "|  9| darshan|      sha| 27|     m|  darshan@gmail.com|     malad|       .net devloper|       3.4|\n",
      "| 10|    anuj|    kumar| 28|     m|     anuj@yahoo.com|nalasopara|   backend developer|       4.7|\n",
      "| 11|harshali|    desai| 27|     f| harshali@gmail.com|  borivali|      java developer|       4.1|\n",
      "| 12|  nitesh|  kanojia| 26|     m|   nitesh@gmail.com|     vasai|        data analyst|       2.3|\n",
      "| 13|  nitesh|   angare| 26|     m| nitesh_a@gmail.com|     virar|        bi developer|       2.0|\n",
      "| 14|   vidit|      sha| 29|     m|    vidit@yahoo.com|  borivali|    business analyst|       4.0|\n",
      "| 15|shradhha|   mahale| 28|     f| shraddha@yahoo.com|   palghar|   backend developer|       3.1|\n",
      "| 16|   jinal|     jain| 30|     f|    jinal@gmail.com|     malad|     software tester|       3.2|\n",
      "| 17|   rohit|    kumar| 28|     m|    rohit@gmail.com|     virar| front end developer|       2.7|\n",
      "| 18|siddhesh|    patil| 28|     m| siddhesh@yahoo.com|     virar| front end developer|       2.7|\n",
      "| 19|   nidhi|  divecha| 28|     f|  nidhi@hotmail.cpm|     vasai|             teacher|       3.2|\n",
      "+---+--------+---------+---+------+-------------------+----------+--------------------+----------+\n",
      "only showing top 20 rows\n",
      "\n"
     ]
    }
   ],
   "source": [
    "ps_df = spark.read.csv('test.csv', header=True, inferSchema=True)\n",
    "ps_df.show()"
   ]
  },
  {
   "cell_type": "code",
   "execution_count": 35,
   "metadata": {},
   "outputs": [
    {
     "name": "stdout",
     "output_type": "stream",
     "text": [
      "+---+--------+---------+---+------+-------------------+----------+--------------------+----------+\n",
      "|_c0|    Name|    Sname|Age|Gender|           Email_ID|  Adderess|             Profile|Experience|\n",
      "+---+--------+---------+---+------+-------------------+----------+--------------------+----------+\n",
      "|  1|   kapil|  nargund| 27|     m|    kapil@gmail.com|     vasai|        data analyst|       3.2|\n",
      "|  3|  samira|      sha| 28|     f|   samira@yahoo.com|  borivali|             teacher|       2.8|\n",
      "|  4|  vidhan|     wani| 27|     m| vidhan@hotmail.com| bhayandar|automation developer|       1.5|\n",
      "|  5| abhijit| panpatil| 27|     m|  abhijit@gmail.com|   palghar|shell scripting e...|       4.5|\n",
      "|  6| namrata|deshamukh| 28|     f|  manrata@yahoo.com|  borivali| front end developer|       2.6|\n",
      "|  7|    neha|     raut| 27|     f|   neha@hotmail.com|     virar|             teacher|       4.8|\n",
      "|  8| shubham|     neve| 26|     m|shubham@hotmail.com|   palghar|automation developer|       3.5|\n",
      "|  9| darshan|      sha| 27|     m|  darshan@gmail.com|     malad|       .net devloper|       3.4|\n",
      "| 10|    anuj|    kumar| 28|     m|     anuj@yahoo.com|nalasopara|   backend developer|       4.7|\n",
      "| 11|harshali|    desai| 27|     f| harshali@gmail.com|  borivali|      java developer|       4.1|\n",
      "| 12|  nitesh|  kanojia| 26|     m|   nitesh@gmail.com|     vasai|        data analyst|       2.3|\n",
      "| 13|  nitesh|   angare| 26|     m| nitesh_a@gmail.com|     virar|        bi developer|       2.0|\n",
      "| 15|shradhha|   mahale| 28|     f| shraddha@yahoo.com|   palghar|   backend developer|       3.1|\n",
      "| 17|   rohit|    kumar| 28|     m|    rohit@gmail.com|     virar| front end developer|       2.7|\n",
      "| 18|siddhesh|    patil| 28|     m| siddhesh@yahoo.com|     virar| front end developer|       2.7|\n",
      "| 19|   nidhi|  divecha| 28|     f|  nidhi@hotmail.cpm|     vasai|             teacher|       3.2|\n",
      "| 21|  snehal|    matre| 27|     f|   snehal@gmail.com| bhayandar|             teacher|       2.4|\n",
      "+---+--------+---------+---+------+-------------------+----------+--------------------+----------+\n",
      "\n"
     ]
    }
   ],
   "source": [
    "# apply filter operation\n",
    "# 1. find data who's age is less than and equal to 28\n",
    "ps_df.filter(\"Age<=28\").show()"
   ]
  },
  {
   "cell_type": "code",
   "execution_count": 36,
   "metadata": {},
   "outputs": [
    {
     "name": "stdout",
     "output_type": "stream",
     "text": [
      "+--------+---+\n",
      "|    Name|Age|\n",
      "+--------+---+\n",
      "|   kapil| 27|\n",
      "|  samira| 28|\n",
      "|  vidhan| 27|\n",
      "| abhijit| 27|\n",
      "| namrata| 28|\n",
      "|    neha| 27|\n",
      "| shubham| 26|\n",
      "| darshan| 27|\n",
      "|    anuj| 28|\n",
      "|harshali| 27|\n",
      "|  nitesh| 26|\n",
      "|  nitesh| 26|\n",
      "|shradhha| 28|\n",
      "|   rohit| 28|\n",
      "|siddhesh| 28|\n",
      "|   nidhi| 28|\n",
      "|  snehal| 27|\n",
      "+--------+---+\n",
      "\n"
     ]
    }
   ],
   "source": [
    "# show only name and age columns\n",
    "ps_df.filter(\"Age<=28\").select(['Name', 'Age']).show()"
   ]
  },
  {
   "cell_type": "code",
   "execution_count": 37,
   "metadata": {},
   "outputs": [
    {
     "name": "stdout",
     "output_type": "stream",
     "text": [
      "+---+--------+---------+---+------+-------------------+----------+--------------------+----------+\n",
      "|_c0|    Name|    Sname|Age|Gender|           Email_ID|  Adderess|             Profile|Experience|\n",
      "+---+--------+---------+---+------+-------------------+----------+--------------------+----------+\n",
      "|  1|   kapil|  nargund| 27|     m|    kapil@gmail.com|     vasai|        data analyst|       3.2|\n",
      "|  3|  samira|      sha| 28|     f|   samira@yahoo.com|  borivali|             teacher|       2.8|\n",
      "|  4|  vidhan|     wani| 27|     m| vidhan@hotmail.com| bhayandar|automation developer|       1.5|\n",
      "|  5| abhijit| panpatil| 27|     m|  abhijit@gmail.com|   palghar|shell scripting e...|       4.5|\n",
      "|  6| namrata|deshamukh| 28|     f|  manrata@yahoo.com|  borivali| front end developer|       2.6|\n",
      "|  7|    neha|     raut| 27|     f|   neha@hotmail.com|     virar|             teacher|       4.8|\n",
      "|  8| shubham|     neve| 26|     m|shubham@hotmail.com|   palghar|automation developer|       3.5|\n",
      "|  9| darshan|      sha| 27|     m|  darshan@gmail.com|     malad|       .net devloper|       3.4|\n",
      "| 10|    anuj|    kumar| 28|     m|     anuj@yahoo.com|nalasopara|   backend developer|       4.7|\n",
      "| 11|harshali|    desai| 27|     f| harshali@gmail.com|  borivali|      java developer|       4.1|\n",
      "| 12|  nitesh|  kanojia| 26|     m|   nitesh@gmail.com|     vasai|        data analyst|       2.3|\n",
      "| 13|  nitesh|   angare| 26|     m| nitesh_a@gmail.com|     virar|        bi developer|       2.0|\n",
      "| 15|shradhha|   mahale| 28|     f| shraddha@yahoo.com|   palghar|   backend developer|       3.1|\n",
      "| 17|   rohit|    kumar| 28|     m|    rohit@gmail.com|     virar| front end developer|       2.7|\n",
      "| 18|siddhesh|    patil| 28|     m| siddhesh@yahoo.com|     virar| front end developer|       2.7|\n",
      "| 19|   nidhi|  divecha| 28|     f|  nidhi@hotmail.cpm|     vasai|             teacher|       3.2|\n",
      "| 21|  snehal|    matre| 27|     f|   snehal@gmail.com| bhayandar|             teacher|       2.4|\n",
      "+---+--------+---------+---+------+-------------------+----------+--------------------+----------+\n",
      "\n"
     ]
    }
   ],
   "source": [
    "ps_df.filter(ps_df[\"Age\"]<=28).show() # same output in diffrent way"
   ]
  },
  {
   "cell_type": "code",
   "execution_count": 39,
   "metadata": {},
   "outputs": [
    {
     "name": "stdout",
     "output_type": "stream",
     "text": [
      "+---+--------+--------+---+------+-------------------+----------+--------------------+----------+\n",
      "|_c0|    Name|   Sname|Age|Gender|           Email_ID|  Adderess|             Profile|Experience|\n",
      "+---+--------+--------+---+------+-------------------+----------+--------------------+----------+\n",
      "|  1|   kapil| nargund| 27|     m|    kapil@gmail.com|     vasai|        data analyst|       3.2|\n",
      "|  5| abhijit|panpatil| 27|     m|  abhijit@gmail.com|   palghar|shell scripting e...|       4.5|\n",
      "|  7|    neha|    raut| 27|     f|   neha@hotmail.com|     virar|             teacher|       4.8|\n",
      "|  8| shubham|    neve| 26|     m|shubham@hotmail.com|   palghar|automation developer|       3.5|\n",
      "|  9| darshan|     sha| 27|     m|  darshan@gmail.com|     malad|       .net devloper|       3.4|\n",
      "| 10|    anuj|   kumar| 28|     m|     anuj@yahoo.com|nalasopara|   backend developer|       4.7|\n",
      "| 11|harshali|   desai| 27|     f| harshali@gmail.com|  borivali|      java developer|       4.1|\n",
      "| 15|shradhha|  mahale| 28|     f| shraddha@yahoo.com|   palghar|   backend developer|       3.1|\n",
      "| 19|   nidhi| divecha| 28|     f|  nidhi@hotmail.cpm|     vasai|             teacher|       3.2|\n",
      "+---+--------+--------+---+------+-------------------+----------+--------------------+----------+\n",
      "\n"
     ]
    }
   ],
   "source": [
    "# multiple condition in one filter\n",
    "# 2. find data who's age is less than and equal to 28 and experience is greater than 3 year.\n",
    "ps_df.filter((ps_df[\"Age\"]<=28) & (ps_df[\"Experience\"]>3)).show()"
   ]
  },
  {
   "cell_type": "code",
   "execution_count": 40,
   "metadata": {},
   "outputs": [
    {
     "name": "stdout",
     "output_type": "stream",
     "text": [
      "+---+--------+---------+---+------+-------------------+----------+--------------------+----------+\n",
      "|_c0|    Name|    Sname|Age|Gender|           Email_ID|  Adderess|             Profile|Experience|\n",
      "+---+--------+---------+---+------+-------------------+----------+--------------------+----------+\n",
      "|  1|   kapil|  nargund| 27|     m|    kapil@gmail.com|     vasai|        data analyst|       3.2|\n",
      "|  2|   vinod|    kadam| 31|     m|    vinod#gmail.com|  borivali|             teacher|       2.8|\n",
      "|  3|  samira|      sha| 28|     f|   samira@yahoo.com|  borivali|             teacher|       2.8|\n",
      "|  4|  vidhan|     wani| 27|     m| vidhan@hotmail.com| bhayandar|automation developer|       1.5|\n",
      "|  5| abhijit| panpatil| 27|     m|  abhijit@gmail.com|   palghar|shell scripting e...|       4.5|\n",
      "|  6| namrata|deshamukh| 28|     f|  manrata@yahoo.com|  borivali| front end developer|       2.6|\n",
      "|  7|    neha|     raut| 27|     f|   neha@hotmail.com|     virar|             teacher|       4.8|\n",
      "|  8| shubham|     neve| 26|     m|shubham@hotmail.com|   palghar|automation developer|       3.5|\n",
      "|  9| darshan|      sha| 27|     m|  darshan@gmail.com|     malad|       .net devloper|       3.4|\n",
      "| 10|    anuj|    kumar| 28|     m|     anuj@yahoo.com|nalasopara|   backend developer|       4.7|\n",
      "| 11|harshali|    desai| 27|     f| harshali@gmail.com|  borivali|      java developer|       4.1|\n",
      "| 12|  nitesh|  kanojia| 26|     m|   nitesh@gmail.com|     vasai|        data analyst|       2.3|\n",
      "| 13|  nitesh|   angare| 26|     m| nitesh_a@gmail.com|     virar|        bi developer|       2.0|\n",
      "| 15|shradhha|   mahale| 28|     f| shraddha@yahoo.com|   palghar|   backend developer|       3.1|\n",
      "| 17|   rohit|    kumar| 28|     m|    rohit@gmail.com|     virar| front end developer|       2.7|\n",
      "| 18|siddhesh|    patil| 28|     m| siddhesh@yahoo.com|     virar| front end developer|       2.7|\n",
      "| 19|   nidhi|  divecha| 28|     f|  nidhi@hotmail.cpm|     vasai|             teacher|       3.2|\n",
      "| 21|  snehal|    matre| 27|     f|   snehal@gmail.com| bhayandar|             teacher|       2.4|\n",
      "| 22|   medha|    patil| 32|     f|    medha@yahoo.com|  borivali|       .net devloper|       3.6|\n",
      "+---+--------+---------+---+------+-------------------+----------+--------------------+----------+\n",
      "\n"
     ]
    }
   ],
   "source": [
    "# 3. find data who's age is less than and equal to 28 or greater than 30.\n",
    "ps_df.filter((ps_df[\"Age\"]<=28) | (ps_df[\"Age\"]>30)).show()"
   ]
  },
  {
   "cell_type": "code",
   "execution_count": 41,
   "metadata": {},
   "outputs": [
    {
     "name": "stdout",
     "output_type": "stream",
     "text": [
      "+---+-----+-------+---+------+---------------+--------+-----------------+----------+\n",
      "|_c0| Name|  Sname|Age|Gender|       Email_ID|Adderess|          Profile|Experience|\n",
      "+---+-----+-------+---+------+---------------+--------+-----------------+----------+\n",
      "|  0|kiran|mungkar| 29|     m|kiran@gmail.com|   virar|     data analyst|       1.8|\n",
      "| 14|vidit|    sha| 29|     m|vidit@yahoo.com|borivali| business analyst|       4.0|\n",
      "| 16|jinal|   jain| 30|     f|jinal@gmail.com|   malad|  software tester|       3.2|\n",
      "| 20|harsh|divecha| 30|     m|harsh@yahoo.com|   vasai|software security|       4.1|\n",
      "| 23|sonal|gondane| 30|     f|sonal@gmail.com|borivali|          teacher|       4.3|\n",
      "+---+-----+-------+---+------+---------------+--------+-----------------+----------+\n",
      "\n"
     ]
    }
   ],
   "source": [
    "# 3. find data who's age is not less than and equal to 28 or greater than 30.\n",
    "ps_df.filter(~((ps_df[\"Age\"]<=28) | (ps_df[\"Age\"]>30))).show()"
   ]
  },
  {
   "cell_type": "markdown",
   "metadata": {},
   "source": [
    "# Pyspark GroupBy And Aggregate Functions"
   ]
  },
  {
   "cell_type": "code",
   "execution_count": 1,
   "metadata": {},
   "outputs": [],
   "source": [
    "# https://www.analyticsvidhya.com/blog/2022/05/data-preprocessing-using-pyspark-handling-missing-values/\n",
    "# read excel and convert to csv\n",
    "import pandas as pd\n",
    "# read .xlsx\n",
    "df = pd.read_excel('test2.xlsx')\n",
    "# to save in .csv\n",
    "df.to_csv('test2.csv')"
   ]
  },
  {
   "cell_type": "code",
   "execution_count": 2,
   "metadata": {},
   "outputs": [
    {
     "name": "stdout",
     "output_type": "stream",
     "text": [
      "+---+---------+---------+---+------+-------------------+----------+--------------------+----------+------+\n",
      "|_c0|     Name|    Sname|Age|Gender|           Email_ID|  Adderess|             Profile|Experience|Salary|\n",
      "+---+---------+---------+---+------+-------------------+----------+--------------------+----------+------+\n",
      "|  0|    kiran|  mungkar| 29|     m|    kiran@gmail.com|     virar|        data analyst|       1.8| 94892|\n",
      "|  1|    kapil|  nargund| 27|     m|    kapil@gmail.com|     vasai|        data analyst|       3.2| 93239|\n",
      "|  2|    vinod|    kadam| 31|     m|    vinod#gmail.com|  borivali|             teacher|       2.8| 83308|\n",
      "|  3|   samira|     shah| 28|     f|   samira@yahoo.com|  borivali|             teacher|       2.7| 39953|\n",
      "|  4|   vidhan|     wani| 27|     m| vidhan@hotmail.com| bhayandar|automation developer|       1.5| 70240|\n",
      "|  5|  abhijit| panpatil| 27|     m|  abhijit@gmail.com|   palghar|automation developer|       4.5| 88133|\n",
      "|  6|  namrata|deshamukh| 28|     f|  manrata@yahoo.com|  borivali| front end developer|       2.6| 60974|\n",
      "|  7|     neha|     raut| 27|     f|   neha@hotmail.com|     virar|             teacher|       4.8| 47786|\n",
      "|  8|  shubham|     neve| 26|     m|shubham@hotmail.com|   palghar|automation developer|       3.5| 63061|\n",
      "|  9|  darshan|    gohil| 27|     m|  darshan@gmail.com|     malad|       .net devloper|       3.4| 54650|\n",
      "| 10|     anuj|    kumar| 28|     m|     anuj@yahoo.com|nalasopara|   backend developer|       4.7| 49022|\n",
      "| 11| harshali|    desai| 27|     f| harshali@gmail.com|  borivali|      java developer|       4.1| 31332|\n",
      "| 12|   nitesh|  kanojia| 26|     m|   nitesh@gmail.com|     vasai|        data analyst|       2.3| 68010|\n",
      "| 13|   nitesh|   angare| 26|     m| nitesh_a@gmail.com|     virar|        bi developer|       2.0| 86432|\n",
      "| 14|    vidit|     shah| 29|     m|    vidit@yahoo.com|     malad|    business analyst|       4.0| 40603|\n",
      "| 15| shradhha|   mahale| 28|     f| shraddha@yahoo.com|   palghar|   backend developer|       3.1| 89113|\n",
      "| 16|    jinal|     jain| 30|     f|    jinal@gmail.com|     malad|     software tester|       3.2| 78918|\n",
      "| 17|    rohit|   shetty| 28|     m|    rohit@gmail.com|     malad| front end developer|       2.7| 31957|\n",
      "| 18| siddhesh|    patil| 28|     m| siddhesh@yahoo.com|     virar| front end developer|       2.7| 71443|\n",
      "| 19|    nidhi|  divecha| 28|     f|  nidhi@hotmail.cpm|     vasai|             teacher|       3.2| 36965|\n",
      "| 20|    harsh|  divecha| 30|     m|    harsh@yahoo.com|     vasai|   software security|       4.1| 69140|\n",
      "| 21|   snehal|    matre| 27|     f|   snehal@gmail.com| bhayandar|             teacher|       2.4| 73167|\n",
      "| 22|    medha|    patil| 32|     f|    medha@yahoo.com|  borivali|       .net devloper|       3.6| 54845|\n",
      "| 23|    sonal|  gondane| 31|     f|    sonal@gmail.com|  borivali|             teacher|       4.3| 32050|\n",
      "| 24|    sunny|   savita| 32|     m|    sunny@gmail.com| bhayandar|             teacher|       3.9| 70028|\n",
      "| 25|    nayan|korgawkar| 29|     m|  nayan@hotmail.com|     virar|             maneger|       4.5| 55938|\n",
      "| 26|sudhanshu|    kumar| 32|     m|sudhanshu@gmail.com|     dadar|             teacher|       5.6| 69432|\n",
      "| 27|    kirsh|     naik| 32|     m|    krish@gmail.com|     dadar|             teacher|       5.0| 88794|\n",
      "| 28|     raju| narvekar| 34|     m|   raju@hotmail.com|     parel|             maneger|       5.0| 72535|\n",
      "| 29|     sonu|    gawde| 35|     m|     sonu@yahoo.com|     virar|     software tester|       3.1| 51803|\n",
      "| 30|   sonali|    desai| 28|     f|   sonali@yahoo.com|     malad|    business analyst|       2.5| 43783|\n",
      "| 31| utkarsha|    kadam| 29|     f| utkarsha@gmail.com|     virar|             teacher|       4.5| 33415|\n",
      "| 32|    pawan|    parab| 30|     m|    pawan@yahoo.com|   palghar|             maneger|       2.0| 38595|\n",
      "+---+---------+---------+---+------+-------------------+----------+--------------------+----------+------+\n",
      "\n"
     ]
    }
   ],
   "source": [
    "# connect seseeion\n",
    "from pyspark.sql import SparkSession\n",
    "spark = SparkSession.builder.appName('Practrice').getOrCreate()\n",
    "\n",
    "# read .csv file \n",
    "ps_df = spark.read.csv('test2.csv', header=True, inferSchema=True)\n",
    "ps_df.show(40)"
   ]
  },
  {
   "cell_type": "code",
   "execution_count": 3,
   "metadata": {},
   "outputs": [
    {
     "name": "stdout",
     "output_type": "stream",
     "text": [
      "root\n",
      " |-- _c0: integer (nullable = true)\n",
      " |-- Name: string (nullable = true)\n",
      " |-- Sname: string (nullable = true)\n",
      " |-- Age: integer (nullable = true)\n",
      " |-- Gender: string (nullable = true)\n",
      " |-- Email_ID: string (nullable = true)\n",
      " |-- Adderess: string (nullable = true)\n",
      " |-- Profile: string (nullable = true)\n",
      " |-- Experience: double (nullable = true)\n",
      " |-- Salary: integer (nullable = true)\n",
      "\n"
     ]
    }
   ],
   "source": [
    "ps_df.printSchema()"
   ]
  },
  {
   "cell_type": "code",
   "execution_count": 7,
   "metadata": {},
   "outputs": [
    {
     "name": "stdout",
     "output_type": "stream",
     "text": [
      "+--------------------+-----------+\n",
      "|             Profile|sum(Salary)|\n",
      "+--------------------+-----------+\n",
      "|             teacher|     574898|\n",
      "|     software tester|     130721|\n",
      "|       .net devloper|     109495|\n",
      "|   software security|      69140|\n",
      "|automation developer|     221434|\n",
      "|    business analyst|      84386|\n",
      "|        data analyst|     256141|\n",
      "|        bi developer|      86432|\n",
      "|      java developer|      31332|\n",
      "|   backend developer|     138135|\n",
      "|             maneger|     167068|\n",
      "| front end developer|     164374|\n",
      "+--------------------+-----------+\n",
      "\n"
     ]
    }
   ],
   "source": [
    "# groupby\n",
    "# sum od salary by profile\n",
    "ps_df.groupBy('Profile').sum('Salary').show()"
   ]
  },
  {
   "cell_type": "code",
   "execution_count": 8,
   "metadata": {},
   "outputs": [
    {
     "name": "stdout",
     "output_type": "stream",
     "text": [
      "+--------------------+------------------+\n",
      "|             Profile|       avg(Salary)|\n",
      "+--------------------+------------------+\n",
      "|             teacher|           57489.8|\n",
      "|     software tester|           65360.5|\n",
      "|       .net devloper|           54747.5|\n",
      "|   software security|           69140.0|\n",
      "|automation developer| 73811.33333333333|\n",
      "|    business analyst|           42193.0|\n",
      "|        data analyst| 85380.33333333333|\n",
      "|        bi developer|           86432.0|\n",
      "|      java developer|           31332.0|\n",
      "|   backend developer|           69067.5|\n",
      "|             maneger|55689.333333333336|\n",
      "| front end developer|54791.333333333336|\n",
      "+--------------------+------------------+\n",
      "\n"
     ]
    }
   ],
   "source": [
    "ps_df.groupBy('Profile').mean('Salary').show()"
   ]
  },
  {
   "cell_type": "code",
   "execution_count": 9,
   "metadata": {},
   "outputs": [
    {
     "name": "stdout",
     "output_type": "stream",
     "text": [
      "+--------------------+-----+\n",
      "|             Profile|count|\n",
      "+--------------------+-----+\n",
      "|             teacher|   10|\n",
      "|     software tester|    2|\n",
      "|       .net devloper|    2|\n",
      "|   software security|    1|\n",
      "|automation developer|    3|\n",
      "|    business analyst|    2|\n",
      "|        data analyst|    3|\n",
      "|        bi developer|    1|\n",
      "|      java developer|    1|\n",
      "|   backend developer|    2|\n",
      "|             maneger|    3|\n",
      "| front end developer|    3|\n",
      "+--------------------+-----+\n",
      "\n"
     ]
    }
   ],
   "source": [
    "ps_df.groupBy('Profile').count().show()"
   ]
  },
  {
   "cell_type": "code",
   "execution_count": 11,
   "metadata": {},
   "outputs": [
    {
     "name": "stdout",
     "output_type": "stream",
     "text": [
      "+-----------+\n",
      "|sum(Salary)|\n",
      "+-----------+\n",
      "|    2033556|\n",
      "+-----------+\n",
      "\n"
     ]
    }
   ],
   "source": [
    "ps_df.agg({'Salary':'sum'}).show()"
   ]
  },
  {
   "cell_type": "code",
   "execution_count": 17,
   "metadata": {},
   "outputs": [
    {
     "name": "stdout",
     "output_type": "stream",
     "text": [
      "+-----------+\n",
      "|max(Salary)|\n",
      "+-----------+\n",
      "|      94892|\n",
      "+-----------+\n",
      "\n"
     ]
    }
   ],
   "source": [
    "ps_df.agg({'Salary':'max'}).show()"
   ]
  },
  {
   "cell_type": "code",
   "execution_count": 22,
   "metadata": {},
   "outputs": [
    {
     "name": "stdout",
     "output_type": "stream",
     "text": [
      "+--------------------+-----------+\n",
      "|             Profile|max(Salary)|\n",
      "+--------------------+-----------+\n",
      "|             teacher|      88794|\n",
      "|     software tester|      78918|\n",
      "|       .net devloper|      54845|\n",
      "|   software security|      69140|\n",
      "|automation developer|      88133|\n",
      "|    business analyst|      43783|\n",
      "|        data analyst|      94892|\n",
      "|        bi developer|      86432|\n",
      "|      java developer|      31332|\n",
      "|   backend developer|      89113|\n",
      "|             maneger|      72535|\n",
      "| front end developer|      71443|\n",
      "+--------------------+-----------+\n",
      "\n"
     ]
    }
   ],
   "source": [
    "ps_df.groupBy('Profile').max('Salary').show()"
   ]
  },
  {
   "cell_type": "code",
   "execution_count": 27,
   "metadata": {},
   "outputs": [
    {
     "name": "stdout",
     "output_type": "stream",
     "text": [
      "+--------------------+------------------+\n",
      "|             Profile|       avg(Salary)|\n",
      "+--------------------+------------------+\n",
      "|             teacher|           57489.8|\n",
      "|     software tester|           65360.5|\n",
      "|       .net devloper|           54747.5|\n",
      "|   software security|           69140.0|\n",
      "|automation developer| 73811.33333333333|\n",
      "|    business analyst|           42193.0|\n",
      "|        data analyst| 85380.33333333333|\n",
      "|        bi developer|           86432.0|\n",
      "|      java developer|           31332.0|\n",
      "|   backend developer|           69067.5|\n",
      "|             maneger|55689.333333333336|\n",
      "| front end developer|54791.333333333336|\n",
      "+--------------------+------------------+\n",
      "\n"
     ]
    }
   ],
   "source": [
    "ps_df.groupBy('Profile').agg({'Salary':'Avg'}).show()"
   ]
  },
  {
   "cell_type": "code",
   "execution_count": 1,
   "metadata": {},
   "outputs": [],
   "source": [
    "import pandas as pd"
   ]
  },
  {
   "cell_type": "code",
   "execution_count": 2,
   "metadata": {},
   "outputs": [
    {
     "name": "stderr",
     "output_type": "stream",
     "text": [
      "c:\\users\\munge\\appdata\\local\\programs\\python\\python36\\lib\\site-packages\\IPython\\core\\interactiveshell.py:3072: DtypeWarning: Columns (0,123,124,125,128,129,130,133,139,140,141) have mixed types.Specify dtype option on import or set low_memory=False.\n",
      "  interactivity=interactivity, compiler=compiler, result=result)\n"
     ]
    },
    {
     "data": {
      "text/html": [
       "<div>\n",
       "<style scoped>\n",
       "    .dataframe tbody tr th:only-of-type {\n",
       "        vertical-align: middle;\n",
       "    }\n",
       "\n",
       "    .dataframe tbody tr th {\n",
       "        vertical-align: top;\n",
       "    }\n",
       "\n",
       "    .dataframe thead th {\n",
       "        text-align: right;\n",
       "    }\n",
       "</style>\n",
       "<table border=\"1\" class=\"dataframe\">\n",
       "  <thead>\n",
       "    <tr style=\"text-align: right;\">\n",
       "      <th></th>\n",
       "      <th>id</th>\n",
       "      <th>member_id</th>\n",
       "      <th>loan_amnt</th>\n",
       "      <th>funded_amnt</th>\n",
       "      <th>funded_amnt_inv</th>\n",
       "      <th>term</th>\n",
       "      <th>int_rate</th>\n",
       "      <th>installment</th>\n",
       "      <th>grade</th>\n",
       "      <th>sub_grade</th>\n",
       "      <th>...</th>\n",
       "      <th>hardship_payoff_balance_amount</th>\n",
       "      <th>hardship_last_payment_amount</th>\n",
       "      <th>disbursement_method</th>\n",
       "      <th>debt_settlement_flag</th>\n",
       "      <th>debt_settlement_flag_date</th>\n",
       "      <th>settlement_status</th>\n",
       "      <th>settlement_date</th>\n",
       "      <th>settlement_amount</th>\n",
       "      <th>settlement_percentage</th>\n",
       "      <th>settlement_term</th>\n",
       "    </tr>\n",
       "  </thead>\n",
       "  <tbody>\n",
       "    <tr>\n",
       "      <th>0</th>\n",
       "      <td>NaN</td>\n",
       "      <td>NaN</td>\n",
       "      <td>10000.0</td>\n",
       "      <td>10000.0</td>\n",
       "      <td>10000.0</td>\n",
       "      <td>36 months</td>\n",
       "      <td>10.33%</td>\n",
       "      <td>324.23</td>\n",
       "      <td>B</td>\n",
       "      <td>B1</td>\n",
       "      <td>...</td>\n",
       "      <td>NaN</td>\n",
       "      <td>NaN</td>\n",
       "      <td>DirectPay</td>\n",
       "      <td>N</td>\n",
       "      <td>NaN</td>\n",
       "      <td>NaN</td>\n",
       "      <td>NaN</td>\n",
       "      <td>NaN</td>\n",
       "      <td>NaN</td>\n",
       "      <td>NaN</td>\n",
       "    </tr>\n",
       "    <tr>\n",
       "      <th>1</th>\n",
       "      <td>NaN</td>\n",
       "      <td>NaN</td>\n",
       "      <td>2500.0</td>\n",
       "      <td>2500.0</td>\n",
       "      <td>2500.0</td>\n",
       "      <td>36 months</td>\n",
       "      <td>13.56%</td>\n",
       "      <td>84.92</td>\n",
       "      <td>C</td>\n",
       "      <td>C1</td>\n",
       "      <td>...</td>\n",
       "      <td>NaN</td>\n",
       "      <td>NaN</td>\n",
       "      <td>Cash</td>\n",
       "      <td>N</td>\n",
       "      <td>NaN</td>\n",
       "      <td>NaN</td>\n",
       "      <td>NaN</td>\n",
       "      <td>NaN</td>\n",
       "      <td>NaN</td>\n",
       "      <td>NaN</td>\n",
       "    </tr>\n",
       "    <tr>\n",
       "      <th>2</th>\n",
       "      <td>NaN</td>\n",
       "      <td>NaN</td>\n",
       "      <td>12000.0</td>\n",
       "      <td>12000.0</td>\n",
       "      <td>12000.0</td>\n",
       "      <td>60 months</td>\n",
       "      <td>13.56%</td>\n",
       "      <td>276.49</td>\n",
       "      <td>C</td>\n",
       "      <td>C1</td>\n",
       "      <td>...</td>\n",
       "      <td>NaN</td>\n",
       "      <td>NaN</td>\n",
       "      <td>Cash</td>\n",
       "      <td>N</td>\n",
       "      <td>NaN</td>\n",
       "      <td>NaN</td>\n",
       "      <td>NaN</td>\n",
       "      <td>NaN</td>\n",
       "      <td>NaN</td>\n",
       "      <td>NaN</td>\n",
       "    </tr>\n",
       "    <tr>\n",
       "      <th>3</th>\n",
       "      <td>NaN</td>\n",
       "      <td>NaN</td>\n",
       "      <td>15000.0</td>\n",
       "      <td>15000.0</td>\n",
       "      <td>14975.0</td>\n",
       "      <td>60 months</td>\n",
       "      <td>14.47%</td>\n",
       "      <td>352.69</td>\n",
       "      <td>C</td>\n",
       "      <td>C2</td>\n",
       "      <td>...</td>\n",
       "      <td>NaN</td>\n",
       "      <td>NaN</td>\n",
       "      <td>Cash</td>\n",
       "      <td>N</td>\n",
       "      <td>NaN</td>\n",
       "      <td>NaN</td>\n",
       "      <td>NaN</td>\n",
       "      <td>NaN</td>\n",
       "      <td>NaN</td>\n",
       "      <td>NaN</td>\n",
       "    </tr>\n",
       "    <tr>\n",
       "      <th>4</th>\n",
       "      <td>NaN</td>\n",
       "      <td>NaN</td>\n",
       "      <td>16000.0</td>\n",
       "      <td>16000.0</td>\n",
       "      <td>16000.0</td>\n",
       "      <td>60 months</td>\n",
       "      <td>17.97%</td>\n",
       "      <td>406.04</td>\n",
       "      <td>D</td>\n",
       "      <td>D1</td>\n",
       "      <td>...</td>\n",
       "      <td>NaN</td>\n",
       "      <td>NaN</td>\n",
       "      <td>Cash</td>\n",
       "      <td>N</td>\n",
       "      <td>NaN</td>\n",
       "      <td>NaN</td>\n",
       "      <td>NaN</td>\n",
       "      <td>NaN</td>\n",
       "      <td>NaN</td>\n",
       "      <td>NaN</td>\n",
       "    </tr>\n",
       "    <tr>\n",
       "      <th>...</th>\n",
       "      <td>...</td>\n",
       "      <td>...</td>\n",
       "      <td>...</td>\n",
       "      <td>...</td>\n",
       "      <td>...</td>\n",
       "      <td>...</td>\n",
       "      <td>...</td>\n",
       "      <td>...</td>\n",
       "      <td>...</td>\n",
       "      <td>...</td>\n",
       "      <td>...</td>\n",
       "      <td>...</td>\n",
       "      <td>...</td>\n",
       "      <td>...</td>\n",
       "      <td>...</td>\n",
       "      <td>...</td>\n",
       "      <td>...</td>\n",
       "      <td>...</td>\n",
       "      <td>...</td>\n",
       "      <td>...</td>\n",
       "      <td>...</td>\n",
       "    </tr>\n",
       "    <tr>\n",
       "      <th>128411</th>\n",
       "      <td>NaN</td>\n",
       "      <td>NaN</td>\n",
       "      <td>10000.0</td>\n",
       "      <td>10000.0</td>\n",
       "      <td>10000.0</td>\n",
       "      <td>36 months</td>\n",
       "      <td>16.91%</td>\n",
       "      <td>356.08</td>\n",
       "      <td>C</td>\n",
       "      <td>C5</td>\n",
       "      <td>...</td>\n",
       "      <td>NaN</td>\n",
       "      <td>NaN</td>\n",
       "      <td>Cash</td>\n",
       "      <td>N</td>\n",
       "      <td>NaN</td>\n",
       "      <td>NaN</td>\n",
       "      <td>NaN</td>\n",
       "      <td>NaN</td>\n",
       "      <td>NaN</td>\n",
       "      <td>NaN</td>\n",
       "    </tr>\n",
       "    <tr>\n",
       "      <th>128412</th>\n",
       "      <td>NaN</td>\n",
       "      <td>NaN</td>\n",
       "      <td>NaN</td>\n",
       "      <td>NaN</td>\n",
       "      <td>NaN</td>\n",
       "      <td>NaN</td>\n",
       "      <td>NaN</td>\n",
       "      <td>NaN</td>\n",
       "      <td>NaN</td>\n",
       "      <td>NaN</td>\n",
       "      <td>...</td>\n",
       "      <td>NaN</td>\n",
       "      <td>NaN</td>\n",
       "      <td>NaN</td>\n",
       "      <td>NaN</td>\n",
       "      <td>NaN</td>\n",
       "      <td>NaN</td>\n",
       "      <td>NaN</td>\n",
       "      <td>NaN</td>\n",
       "      <td>NaN</td>\n",
       "      <td>NaN</td>\n",
       "    </tr>\n",
       "    <tr>\n",
       "      <th>128413</th>\n",
       "      <td>NaN</td>\n",
       "      <td>NaN</td>\n",
       "      <td>NaN</td>\n",
       "      <td>NaN</td>\n",
       "      <td>NaN</td>\n",
       "      <td>NaN</td>\n",
       "      <td>NaN</td>\n",
       "      <td>NaN</td>\n",
       "      <td>NaN</td>\n",
       "      <td>NaN</td>\n",
       "      <td>...</td>\n",
       "      <td>NaN</td>\n",
       "      <td>NaN</td>\n",
       "      <td>NaN</td>\n",
       "      <td>NaN</td>\n",
       "      <td>NaN</td>\n",
       "      <td>NaN</td>\n",
       "      <td>NaN</td>\n",
       "      <td>NaN</td>\n",
       "      <td>NaN</td>\n",
       "      <td>NaN</td>\n",
       "    </tr>\n",
       "    <tr>\n",
       "      <th>128414</th>\n",
       "      <td>Total amount funded in policy code 1: 2050909275</td>\n",
       "      <td>NaN</td>\n",
       "      <td>NaN</td>\n",
       "      <td>NaN</td>\n",
       "      <td>NaN</td>\n",
       "      <td>NaN</td>\n",
       "      <td>NaN</td>\n",
       "      <td>NaN</td>\n",
       "      <td>NaN</td>\n",
       "      <td>NaN</td>\n",
       "      <td>...</td>\n",
       "      <td>NaN</td>\n",
       "      <td>NaN</td>\n",
       "      <td>NaN</td>\n",
       "      <td>NaN</td>\n",
       "      <td>NaN</td>\n",
       "      <td>NaN</td>\n",
       "      <td>NaN</td>\n",
       "      <td>NaN</td>\n",
       "      <td>NaN</td>\n",
       "      <td>NaN</td>\n",
       "    </tr>\n",
       "    <tr>\n",
       "      <th>128415</th>\n",
       "      <td>Total amount funded in policy code 2: 820109297</td>\n",
       "      <td>NaN</td>\n",
       "      <td>NaN</td>\n",
       "      <td>NaN</td>\n",
       "      <td>NaN</td>\n",
       "      <td>NaN</td>\n",
       "      <td>NaN</td>\n",
       "      <td>NaN</td>\n",
       "      <td>NaN</td>\n",
       "      <td>NaN</td>\n",
       "      <td>...</td>\n",
       "      <td>NaN</td>\n",
       "      <td>NaN</td>\n",
       "      <td>NaN</td>\n",
       "      <td>NaN</td>\n",
       "      <td>NaN</td>\n",
       "      <td>NaN</td>\n",
       "      <td>NaN</td>\n",
       "      <td>NaN</td>\n",
       "      <td>NaN</td>\n",
       "      <td>NaN</td>\n",
       "    </tr>\n",
       "  </tbody>\n",
       "</table>\n",
       "<p>128416 rows × 145 columns</p>\n",
       "</div>"
      ],
      "text/plain": [
       "                                                      id  member_id  \\\n",
       "0                                                    NaN        NaN   \n",
       "1                                                    NaN        NaN   \n",
       "2                                                    NaN        NaN   \n",
       "3                                                    NaN        NaN   \n",
       "4                                                    NaN        NaN   \n",
       "...                                                  ...        ...   \n",
       "128411                                               NaN        NaN   \n",
       "128412                                               NaN        NaN   \n",
       "128413                                               NaN        NaN   \n",
       "128414  Total amount funded in policy code 1: 2050909275        NaN   \n",
       "128415   Total amount funded in policy code 2: 820109297        NaN   \n",
       "\n",
       "        loan_amnt  funded_amnt  funded_amnt_inv        term int_rate  \\\n",
       "0         10000.0      10000.0          10000.0   36 months   10.33%   \n",
       "1          2500.0       2500.0           2500.0   36 months   13.56%   \n",
       "2         12000.0      12000.0          12000.0   60 months   13.56%   \n",
       "3         15000.0      15000.0          14975.0   60 months   14.47%   \n",
       "4         16000.0      16000.0          16000.0   60 months   17.97%   \n",
       "...           ...          ...              ...         ...      ...   \n",
       "128411    10000.0      10000.0          10000.0   36 months   16.91%   \n",
       "128412        NaN          NaN              NaN         NaN      NaN   \n",
       "128413        NaN          NaN              NaN         NaN      NaN   \n",
       "128414        NaN          NaN              NaN         NaN      NaN   \n",
       "128415        NaN          NaN              NaN         NaN      NaN   \n",
       "\n",
       "        installment grade sub_grade  ... hardship_payoff_balance_amount  \\\n",
       "0            324.23     B        B1  ...                            NaN   \n",
       "1             84.92     C        C1  ...                            NaN   \n",
       "2            276.49     C        C1  ...                            NaN   \n",
       "3            352.69     C        C2  ...                            NaN   \n",
       "4            406.04     D        D1  ...                            NaN   \n",
       "...             ...   ...       ...  ...                            ...   \n",
       "128411       356.08     C        C5  ...                            NaN   \n",
       "128412          NaN   NaN       NaN  ...                            NaN   \n",
       "128413          NaN   NaN       NaN  ...                            NaN   \n",
       "128414          NaN   NaN       NaN  ...                            NaN   \n",
       "128415          NaN   NaN       NaN  ...                            NaN   \n",
       "\n",
       "       hardship_last_payment_amount disbursement_method  debt_settlement_flag  \\\n",
       "0                               NaN           DirectPay                     N   \n",
       "1                               NaN                Cash                     N   \n",
       "2                               NaN                Cash                     N   \n",
       "3                               NaN                Cash                     N   \n",
       "4                               NaN                Cash                     N   \n",
       "...                             ...                 ...                   ...   \n",
       "128411                          NaN                Cash                     N   \n",
       "128412                          NaN                 NaN                   NaN   \n",
       "128413                          NaN                 NaN                   NaN   \n",
       "128414                          NaN                 NaN                   NaN   \n",
       "128415                          NaN                 NaN                   NaN   \n",
       "\n",
       "       debt_settlement_flag_date settlement_status settlement_date  \\\n",
       "0                            NaN               NaN             NaN   \n",
       "1                            NaN               NaN             NaN   \n",
       "2                            NaN               NaN             NaN   \n",
       "3                            NaN               NaN             NaN   \n",
       "4                            NaN               NaN             NaN   \n",
       "...                          ...               ...             ...   \n",
       "128411                       NaN               NaN             NaN   \n",
       "128412                       NaN               NaN             NaN   \n",
       "128413                       NaN               NaN             NaN   \n",
       "128414                       NaN               NaN             NaN   \n",
       "128415                       NaN               NaN             NaN   \n",
       "\n",
       "       settlement_amount  settlement_percentage  settlement_term  \n",
       "0                    NaN                    NaN              NaN  \n",
       "1                    NaN                    NaN              NaN  \n",
       "2                    NaN                    NaN              NaN  \n",
       "3                    NaN                    NaN              NaN  \n",
       "4                    NaN                    NaN              NaN  \n",
       "...                  ...                    ...              ...  \n",
       "128411               NaN                    NaN              NaN  \n",
       "128412               NaN                    NaN              NaN  \n",
       "128413               NaN                    NaN              NaN  \n",
       "128414               NaN                    NaN              NaN  \n",
       "128415               NaN                    NaN              NaN  \n",
       "\n",
       "[128416 rows x 145 columns]"
      ]
     },
     "execution_count": 2,
     "metadata": {},
     "output_type": "execute_result"
    }
   ],
   "source": [
    "df = pd.read_csv(\"LoanStats_2018Q4.csv\")\n",
    "df"
   ]
  },
  {
   "cell_type": "code",
   "execution_count": 3,
   "metadata": {},
   "outputs": [
    {
     "data": {
      "text/plain": [
       "51366.4"
      ]
     },
     "execution_count": 3,
     "metadata": {},
     "output_type": "execute_result"
    }
   ],
   "source": [
    "len(df)*0.4"
   ]
  },
  {
   "cell_type": "code",
   "execution_count": 6,
   "metadata": {},
   "outputs": [],
   "source": [
    "df.iloc[:10000].to_csv(\"demo10000.csv\", index=False)"
   ]
  },
  {
   "cell_type": "code",
   "execution_count": null,
   "metadata": {},
   "outputs": [],
   "source": []
  }
 ],
 "metadata": {
  "kernelspec": {
   "display_name": "Python 3",
   "language": "python",
   "name": "python3"
  },
  "language_info": {
   "codemirror_mode": {
    "name": "ipython",
    "version": 3
   },
   "file_extension": ".py",
   "mimetype": "text/x-python",
   "name": "python",
   "nbconvert_exporter": "python",
   "pygments_lexer": "ipython3",
   "version": "3.6.7"
  }
 },
 "nbformat": 4,
 "nbformat_minor": 2
}
