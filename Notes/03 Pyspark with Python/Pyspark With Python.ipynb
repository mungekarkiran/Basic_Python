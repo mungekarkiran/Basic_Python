{
 "cells": [
  {
   "cell_type": "markdown",
   "metadata": {},
   "source": [
    "# Pyspark Introduction and Installation"
   ]
  },
  {
   "cell_type": "markdown",
   "metadata": {},
   "source": [
    "https://spark.apache.org/"
   ]
  },
  {
   "cell_type": "code",
   "execution_count": 1,
   "metadata": {},
   "outputs": [
    {
     "name": "stdout",
     "output_type": "stream",
     "text": [
      "Requirement already satisfied: pyspark in c:\\users\\munge\\appdata\\local\\programs\\python\\python36\\lib\\site-packages (2.4.4)\n",
      "Requirement already satisfied: py4j==0.10.7 in c:\\users\\munge\\appdata\\local\\programs\\python\\python36\\lib\\site-packages (from pyspark) (0.10.7)\n"
     ]
    },
    {
     "name": "stderr",
     "output_type": "stream",
     "text": [
      "WARNING: Ignoring invalid distribution -ycryptodome (c:\\users\\munge\\appdata\\local\\programs\\python\\python36\\lib\\site-packages)\n",
      "WARNING: Ignoring invalid distribution -ycryptodome (c:\\users\\munge\\appdata\\local\\programs\\python\\python36\\lib\\site-packages)\n",
      "WARNING: Ignoring invalid distribution -ycryptodome (c:\\users\\munge\\appdata\\local\\programs\\python\\python36\\lib\\site-packages)\n",
      "WARNING: Ignoring invalid distribution -ycryptodome (c:\\users\\munge\\appdata\\local\\programs\\python\\python36\\lib\\site-packages)\n",
      "WARNING: Ignoring invalid distribution -ycryptodome (c:\\users\\munge\\appdata\\local\\programs\\python\\python36\\lib\\site-packages)\n"
     ]
    }
   ],
   "source": [
    "# install pyspark library\n",
    "!pip install pyspark"
   ]
  },
  {
   "cell_type": "code",
   "execution_count": 3,
   "metadata": {},
   "outputs": [],
   "source": [
    "# load library\n",
    "import pyspark as ps\n",
    "import pandas as pd"
   ]
  },
  {
   "cell_type": "code",
   "execution_count": 19,
   "metadata": {},
   "outputs": [
    {
     "data": {
      "text/html": [
       "<div>\n",
       "<style scoped>\n",
       "    .dataframe tbody tr th:only-of-type {\n",
       "        vertical-align: middle;\n",
       "    }\n",
       "\n",
       "    .dataframe tbody tr th {\n",
       "        vertical-align: top;\n",
       "    }\n",
       "\n",
       "    .dataframe thead th {\n",
       "        text-align: right;\n",
       "    }\n",
       "</style>\n",
       "<table border=\"1\" class=\"dataframe\">\n",
       "  <thead>\n",
       "    <tr style=\"text-align: right;\">\n",
       "      <th></th>\n",
       "      <th>Name</th>\n",
       "      <th>Sname</th>\n",
       "      <th>Age</th>\n",
       "      <th>Gender</th>\n",
       "      <th>Email_ID</th>\n",
       "      <th>Adderess</th>\n",
       "      <th>Profile</th>\n",
       "      <th>Experience</th>\n",
       "    </tr>\n",
       "  </thead>\n",
       "  <tbody>\n",
       "    <tr>\n",
       "      <th>0</th>\n",
       "      <td>kiran</td>\n",
       "      <td>mungkar</td>\n",
       "      <td>29</td>\n",
       "      <td>m</td>\n",
       "      <td>kiran@gmail.com</td>\n",
       "      <td>virar</td>\n",
       "      <td>data analyst</td>\n",
       "      <td>1.8</td>\n",
       "    </tr>\n",
       "    <tr>\n",
       "      <th>1</th>\n",
       "      <td>kapil</td>\n",
       "      <td>nargund</td>\n",
       "      <td>27</td>\n",
       "      <td>m</td>\n",
       "      <td>kapil@gmail.com</td>\n",
       "      <td>vasai</td>\n",
       "      <td>data analyst</td>\n",
       "      <td>3.2</td>\n",
       "    </tr>\n",
       "    <tr>\n",
       "      <th>2</th>\n",
       "      <td>samira</td>\n",
       "      <td>sha</td>\n",
       "      <td>28</td>\n",
       "      <td>f</td>\n",
       "      <td>samira@yahoo.com</td>\n",
       "      <td>borivali</td>\n",
       "      <td>teacher</td>\n",
       "      <td>2.8</td>\n",
       "    </tr>\n",
       "    <tr>\n",
       "      <th>3</th>\n",
       "      <td>vidhan</td>\n",
       "      <td>wani</td>\n",
       "      <td>27</td>\n",
       "      <td>m</td>\n",
       "      <td>vidhan@hotmail.com</td>\n",
       "      <td>bhayandar</td>\n",
       "      <td>automation developer</td>\n",
       "      <td>1.5</td>\n",
       "    </tr>\n",
       "    <tr>\n",
       "      <th>4</th>\n",
       "      <td>abhijit</td>\n",
       "      <td>panpatil</td>\n",
       "      <td>27</td>\n",
       "      <td>m</td>\n",
       "      <td>abhijit@gmail.com</td>\n",
       "      <td>palghar</td>\n",
       "      <td>shell scripting engineer</td>\n",
       "      <td>4.5</td>\n",
       "    </tr>\n",
       "    <tr>\n",
       "      <th>5</th>\n",
       "      <td>namrata</td>\n",
       "      <td>deshamukh</td>\n",
       "      <td>28</td>\n",
       "      <td>f</td>\n",
       "      <td>manrata@yahoo.com</td>\n",
       "      <td>borivali</td>\n",
       "      <td>front end developer</td>\n",
       "      <td>2.6</td>\n",
       "    </tr>\n",
       "    <tr>\n",
       "      <th>6</th>\n",
       "      <td>neha</td>\n",
       "      <td>raut</td>\n",
       "      <td>27</td>\n",
       "      <td>f</td>\n",
       "      <td>neha@hotmail.com</td>\n",
       "      <td>virar</td>\n",
       "      <td>teacher</td>\n",
       "      <td>4.8</td>\n",
       "    </tr>\n",
       "    <tr>\n",
       "      <th>7</th>\n",
       "      <td>shubham</td>\n",
       "      <td>neve</td>\n",
       "      <td>26</td>\n",
       "      <td>m</td>\n",
       "      <td>shubham@hotmail.com</td>\n",
       "      <td>palghar</td>\n",
       "      <td>automation developer</td>\n",
       "      <td>3.5</td>\n",
       "    </tr>\n",
       "    <tr>\n",
       "      <th>8</th>\n",
       "      <td>darshan</td>\n",
       "      <td>sha</td>\n",
       "      <td>27</td>\n",
       "      <td>m</td>\n",
       "      <td>darshan@gmail.com</td>\n",
       "      <td>malad</td>\n",
       "      <td>.net devloper</td>\n",
       "      <td>3.4</td>\n",
       "    </tr>\n",
       "    <tr>\n",
       "      <th>9</th>\n",
       "      <td>anuj</td>\n",
       "      <td>kumar</td>\n",
       "      <td>28</td>\n",
       "      <td>m</td>\n",
       "      <td>anuj@yahoo.com</td>\n",
       "      <td>nalasopara</td>\n",
       "      <td>backend developer</td>\n",
       "      <td>4.7</td>\n",
       "    </tr>\n",
       "    <tr>\n",
       "      <th>10</th>\n",
       "      <td>harshali</td>\n",
       "      <td>desai</td>\n",
       "      <td>27</td>\n",
       "      <td>f</td>\n",
       "      <td>harshali@gmail.com</td>\n",
       "      <td>borivali</td>\n",
       "      <td>java developer</td>\n",
       "      <td>4.1</td>\n",
       "    </tr>\n",
       "    <tr>\n",
       "      <th>11</th>\n",
       "      <td>nitesh</td>\n",
       "      <td>kanojia</td>\n",
       "      <td>26</td>\n",
       "      <td>m</td>\n",
       "      <td>nitesh@gmail.com</td>\n",
       "      <td>vasai</td>\n",
       "      <td>data analyst</td>\n",
       "      <td>2.3</td>\n",
       "    </tr>\n",
       "    <tr>\n",
       "      <th>12</th>\n",
       "      <td>nitesh</td>\n",
       "      <td>angare</td>\n",
       "      <td>26</td>\n",
       "      <td>m</td>\n",
       "      <td>nitesh_a@gmail.com</td>\n",
       "      <td>virar</td>\n",
       "      <td>bi developer</td>\n",
       "      <td>2.0</td>\n",
       "    </tr>\n",
       "    <tr>\n",
       "      <th>13</th>\n",
       "      <td>vidit</td>\n",
       "      <td>sha</td>\n",
       "      <td>29</td>\n",
       "      <td>m</td>\n",
       "      <td>vidit@yahoo.com</td>\n",
       "      <td>borivali</td>\n",
       "      <td>business analyst</td>\n",
       "      <td>4.0</td>\n",
       "    </tr>\n",
       "    <tr>\n",
       "      <th>14</th>\n",
       "      <td>shradhha</td>\n",
       "      <td>mahale</td>\n",
       "      <td>28</td>\n",
       "      <td>f</td>\n",
       "      <td>shraddha@yahoo.com</td>\n",
       "      <td>palghar</td>\n",
       "      <td>backend developer</td>\n",
       "      <td>3.1</td>\n",
       "    </tr>\n",
       "    <tr>\n",
       "      <th>15</th>\n",
       "      <td>jinal</td>\n",
       "      <td>jain</td>\n",
       "      <td>30</td>\n",
       "      <td>f</td>\n",
       "      <td>jinal@gmail.com</td>\n",
       "      <td>malad</td>\n",
       "      <td>software tester</td>\n",
       "      <td>3.2</td>\n",
       "    </tr>\n",
       "    <tr>\n",
       "      <th>16</th>\n",
       "      <td>rohit</td>\n",
       "      <td>kumar</td>\n",
       "      <td>28</td>\n",
       "      <td>m</td>\n",
       "      <td>rohit@gmail.com</td>\n",
       "      <td>virar</td>\n",
       "      <td>front end developer</td>\n",
       "      <td>2.7</td>\n",
       "    </tr>\n",
       "    <tr>\n",
       "      <th>17</th>\n",
       "      <td>siddhesh</td>\n",
       "      <td>patil</td>\n",
       "      <td>28</td>\n",
       "      <td>m</td>\n",
       "      <td>siddhesh@yahoo.com</td>\n",
       "      <td>virar</td>\n",
       "      <td>front end developer</td>\n",
       "      <td>2.7</td>\n",
       "    </tr>\n",
       "    <tr>\n",
       "      <th>18</th>\n",
       "      <td>nidhi</td>\n",
       "      <td>divecha</td>\n",
       "      <td>28</td>\n",
       "      <td>f</td>\n",
       "      <td>nidhi@hotmail.cpm</td>\n",
       "      <td>vasai</td>\n",
       "      <td>teacher</td>\n",
       "      <td>3.2</td>\n",
       "    </tr>\n",
       "    <tr>\n",
       "      <th>19</th>\n",
       "      <td>harsh</td>\n",
       "      <td>divecha</td>\n",
       "      <td>30</td>\n",
       "      <td>m</td>\n",
       "      <td>harsh@yahoo.com</td>\n",
       "      <td>vasai</td>\n",
       "      <td>software security</td>\n",
       "      <td>4.1</td>\n",
       "    </tr>\n",
       "    <tr>\n",
       "      <th>20</th>\n",
       "      <td>snehal</td>\n",
       "      <td>matre</td>\n",
       "      <td>27</td>\n",
       "      <td>f</td>\n",
       "      <td>snehal@gmail.com</td>\n",
       "      <td>bhayandar</td>\n",
       "      <td>teacher</td>\n",
       "      <td>2.4</td>\n",
       "    </tr>\n",
       "    <tr>\n",
       "      <th>21</th>\n",
       "      <td>medha</td>\n",
       "      <td>patil</td>\n",
       "      <td>32</td>\n",
       "      <td>f</td>\n",
       "      <td>medha@yahoo.com</td>\n",
       "      <td>borivali</td>\n",
       "      <td>.net devloper</td>\n",
       "      <td>3.6</td>\n",
       "    </tr>\n",
       "    <tr>\n",
       "      <th>22</th>\n",
       "      <td>sonal</td>\n",
       "      <td>gondane</td>\n",
       "      <td>30</td>\n",
       "      <td>f</td>\n",
       "      <td>sonal@gmail.com</td>\n",
       "      <td>borivali</td>\n",
       "      <td>teacher</td>\n",
       "      <td>4.3</td>\n",
       "    </tr>\n",
       "  </tbody>\n",
       "</table>\n",
       "</div>"
      ],
      "text/plain": [
       "        Name      Sname  Age Gender             Email_ID    Adderess  \\\n",
       "0      kiran    mungkar   29      m      kiran@gmail.com       virar   \n",
       "1      kapil    nargund   27      m      kapil@gmail.com       vasai   \n",
       "2     samira        sha   28      f     samira@yahoo.com    borivali   \n",
       "3     vidhan       wani   27      m   vidhan@hotmail.com   bhayandar   \n",
       "4    abhijit   panpatil   27      m    abhijit@gmail.com     palghar   \n",
       "5    namrata  deshamukh   28      f    manrata@yahoo.com    borivali   \n",
       "6       neha       raut   27      f     neha@hotmail.com       virar   \n",
       "7    shubham       neve   26      m  shubham@hotmail.com     palghar   \n",
       "8    darshan        sha   27      m    darshan@gmail.com       malad   \n",
       "9       anuj      kumar   28      m       anuj@yahoo.com  nalasopara   \n",
       "10  harshali      desai   27      f   harshali@gmail.com    borivali   \n",
       "11    nitesh    kanojia   26      m     nitesh@gmail.com       vasai   \n",
       "12    nitesh     angare   26      m   nitesh_a@gmail.com       virar   \n",
       "13     vidit        sha   29      m      vidit@yahoo.com    borivali   \n",
       "14  shradhha     mahale   28      f   shraddha@yahoo.com     palghar   \n",
       "15     jinal       jain   30      f      jinal@gmail.com       malad   \n",
       "16     rohit      kumar   28      m      rohit@gmail.com       virar   \n",
       "17  siddhesh      patil   28      m   siddhesh@yahoo.com       virar   \n",
       "18     nidhi    divecha   28      f    nidhi@hotmail.cpm       vasai   \n",
       "19     harsh    divecha   30      m      harsh@yahoo.com       vasai   \n",
       "20    snehal      matre   27      f     snehal@gmail.com   bhayandar   \n",
       "21     medha      patil   32      f      medha@yahoo.com    borivali   \n",
       "22     sonal    gondane   30      f      sonal@gmail.com    borivali   \n",
       "\n",
       "                     Profile  Experience  \n",
       "0               data analyst         1.8  \n",
       "1               data analyst         3.2  \n",
       "2                    teacher         2.8  \n",
       "3       automation developer         1.5  \n",
       "4   shell scripting engineer         4.5  \n",
       "5        front end developer         2.6  \n",
       "6                    teacher         4.8  \n",
       "7       automation developer         3.5  \n",
       "8              .net devloper         3.4  \n",
       "9          backend developer         4.7  \n",
       "10            java developer         4.1  \n",
       "11              data analyst         2.3  \n",
       "12              bi developer         2.0  \n",
       "13          business analyst         4.0  \n",
       "14         backend developer         3.1  \n",
       "15           software tester         3.2  \n",
       "16       front end developer         2.7  \n",
       "17       front end developer         2.7  \n",
       "18                   teacher         3.2  \n",
       "19         software security         4.1  \n",
       "20                   teacher         2.4  \n",
       "21             .net devloper         3.6  \n",
       "22                   teacher         4.3  "
      ]
     },
     "execution_count": 19,
     "metadata": {},
     "output_type": "execute_result"
    }
   ],
   "source": [
    "# read data file using pandas\n",
    "pd_df = pd.read_excel(\"test.xlsx\")\n",
    "pd_df.to_csv(\"test.csv\")\n",
    "pd_df"
   ]
  },
  {
   "cell_type": "markdown",
   "metadata": {},
   "source": [
    "# To work with spark 1st start the spark session"
   ]
  },
  {
   "cell_type": "code",
   "execution_count": 8,
   "metadata": {},
   "outputs": [],
   "source": [
    "# load SparkSession\n",
    "from pyspark.sql import SparkSession"
   ]
  },
  {
   "cell_type": "code",
   "execution_count": 9,
   "metadata": {},
   "outputs": [
    {
     "data": {
      "text/html": [
       "\n",
       "            <div>\n",
       "                <p><b>SparkSession - in-memory</b></p>\n",
       "                \n",
       "        <div>\n",
       "            <p><b>SparkContext</b></p>\n",
       "\n",
       "            <p><a href=\"http://DESKTOP-H7M3LBL:4040\">Spark UI</a></p>\n",
       "\n",
       "            <dl>\n",
       "              <dt>Version</dt>\n",
       "                <dd><code>v2.4.4</code></dd>\n",
       "              <dt>Master</dt>\n",
       "                <dd><code>local[*]</code></dd>\n",
       "              <dt>AppName</dt>\n",
       "                <dd><code>practice</code></dd>\n",
       "            </dl>\n",
       "        </div>\n",
       "        \n",
       "            </div>\n",
       "        "
      ],
      "text/plain": [
       "<pyspark.sql.session.SparkSession at 0x222ea456f60>"
      ]
     },
     "execution_count": 9,
     "metadata": {},
     "output_type": "execute_result"
    }
   ],
   "source": [
    "spark = SparkSession.builder.appName('practice').getOrCreate() \n",
    "# give session a name ie. 'practice'\n",
    "# and then create spark session\n",
    "spark"
   ]
  },
  {
   "cell_type": "markdown",
   "metadata": {},
   "source": [
    "when you working on local you can see only one cluster nut when you working on cloud you can create multiple cluster and instances"
   ]
  },
  {
   "cell_type": "code",
   "execution_count": 20,
   "metadata": {},
   "outputs": [
    {
     "data": {
      "text/plain": [
       "DataFrame[_c0: string, _c1: string, _c2: string, _c3: string, _c4: string, _c5: string, _c6: string, _c7: string, _c8: string]"
      ]
     },
     "execution_count": 20,
     "metadata": {},
     "output_type": "execute_result"
    }
   ],
   "source": [
    "# read data file using sparks\n",
    "ps_df = spark.read.csv('test.csv')\n",
    "ps_df"
   ]
  },
  {
   "cell_type": "code",
   "execution_count": 21,
   "metadata": {},
   "outputs": [
    {
     "name": "stdout",
     "output_type": "stream",
     "text": [
      "+----+--------+---------+---+------+-------------------+----------+--------------------+----------+\n",
      "| _c0|     _c1|      _c2|_c3|   _c4|                _c5|       _c6|                 _c7|       _c8|\n",
      "+----+--------+---------+---+------+-------------------+----------+--------------------+----------+\n",
      "|null|    Name|    Sname|Age|Gender|           Email_ID|  Adderess|             Profile|Experience|\n",
      "|   0|   kiran|  mungkar| 29|     m|    kiran@gmail.com|     virar|        data analyst|       1.8|\n",
      "|   1|   kapil|  nargund| 27|     m|    kapil@gmail.com|     vasai|        data analyst|       3.2|\n",
      "|   2|  samira|      sha| 28|     f|   samira@yahoo.com|  borivali|             teacher|       2.8|\n",
      "|   3|  vidhan|     wani| 27|     m| vidhan@hotmail.com| bhayandar|automation developer|       1.5|\n",
      "|   4| abhijit| panpatil| 27|     m|  abhijit@gmail.com|   palghar|shell scripting e...|       4.5|\n",
      "|   5| namrata|deshamukh| 28|     f|  manrata@yahoo.com|  borivali| front end developer|       2.6|\n",
      "|   6|    neha|     raut| 27|     f|   neha@hotmail.com|     virar|             teacher|       4.8|\n",
      "|   7| shubham|     neve| 26|     m|shubham@hotmail.com|   palghar|automation developer|       3.5|\n",
      "|   8| darshan|      sha| 27|     m|  darshan@gmail.com|     malad|       .net devloper|       3.4|\n",
      "|   9|    anuj|    kumar| 28|     m|     anuj@yahoo.com|nalasopara|   backend developer|       4.7|\n",
      "|  10|harshali|    desai| 27|     f| harshali@gmail.com|  borivali|      java developer|       4.1|\n",
      "|  11|  nitesh|  kanojia| 26|     m|   nitesh@gmail.com|     vasai|        data analyst|       2.3|\n",
      "|  12|  nitesh|   angare| 26|     m| nitesh_a@gmail.com|     virar|        bi developer|       2.0|\n",
      "|  13|   vidit|      sha| 29|     m|    vidit@yahoo.com|  borivali|    business analyst|       4.0|\n",
      "|  14|shradhha|   mahale| 28|     f| shraddha@yahoo.com|   palghar|   backend developer|       3.1|\n",
      "|  15|   jinal|     jain| 30|     f|    jinal@gmail.com|     malad|     software tester|       3.2|\n",
      "|  16|   rohit|    kumar| 28|     m|    rohit@gmail.com|     virar| front end developer|       2.7|\n",
      "|  17|siddhesh|    patil| 28|     m| siddhesh@yahoo.com|     virar| front end developer|       2.7|\n",
      "|  18|   nidhi|  divecha| 28|     f|  nidhi@hotmail.cpm|     vasai|             teacher|       3.2|\n",
      "+----+--------+---------+---+------+-------------------+----------+--------------------+----------+\n",
      "only showing top 20 rows\n",
      "\n"
     ]
    }
   ],
   "source": [
    "ps_df.show()"
   ]
  },
  {
   "cell_type": "code",
   "execution_count": 23,
   "metadata": {},
   "outputs": [
    {
     "data": {
      "text/plain": [
       "DataFrame[_c0: string, Name: string, Sname: string, Age: string, Gender: string, Email_ID: string, Adderess: string, Profile: string, Experience: string]"
      ]
     },
     "execution_count": 23,
     "metadata": {},
     "output_type": "execute_result"
    }
   ],
   "source": [
    "# to show / select the 1st row as header\n",
    "ps_df = spark.read.option(\"header\", \"true\").csv(\"test.csv\")\n",
    "ps_df"
   ]
  },
  {
   "cell_type": "code",
   "execution_count": 25,
   "metadata": {},
   "outputs": [
    {
     "name": "stdout",
     "output_type": "stream",
     "text": [
      "+---+--------+---------+---+------+-------------------+----------+--------------------+----------+\n",
      "|_c0|    Name|    Sname|Age|Gender|           Email_ID|  Adderess|             Profile|Experience|\n",
      "+---+--------+---------+---+------+-------------------+----------+--------------------+----------+\n",
      "|  0|   kiran|  mungkar| 29|     m|    kiran@gmail.com|     virar|        data analyst|       1.8|\n",
      "|  1|   kapil|  nargund| 27|     m|    kapil@gmail.com|     vasai|        data analyst|       3.2|\n",
      "|  2|  samira|      sha| 28|     f|   samira@yahoo.com|  borivali|             teacher|       2.8|\n",
      "|  3|  vidhan|     wani| 27|     m| vidhan@hotmail.com| bhayandar|automation developer|       1.5|\n",
      "|  4| abhijit| panpatil| 27|     m|  abhijit@gmail.com|   palghar|shell scripting e...|       4.5|\n",
      "|  5| namrata|deshamukh| 28|     f|  manrata@yahoo.com|  borivali| front end developer|       2.6|\n",
      "|  6|    neha|     raut| 27|     f|   neha@hotmail.com|     virar|             teacher|       4.8|\n",
      "|  7| shubham|     neve| 26|     m|shubham@hotmail.com|   palghar|automation developer|       3.5|\n",
      "|  8| darshan|      sha| 27|     m|  darshan@gmail.com|     malad|       .net devloper|       3.4|\n",
      "|  9|    anuj|    kumar| 28|     m|     anuj@yahoo.com|nalasopara|   backend developer|       4.7|\n",
      "| 10|harshali|    desai| 27|     f| harshali@gmail.com|  borivali|      java developer|       4.1|\n",
      "| 11|  nitesh|  kanojia| 26|     m|   nitesh@gmail.com|     vasai|        data analyst|       2.3|\n",
      "| 12|  nitesh|   angare| 26|     m| nitesh_a@gmail.com|     virar|        bi developer|       2.0|\n",
      "| 13|   vidit|      sha| 29|     m|    vidit@yahoo.com|  borivali|    business analyst|       4.0|\n",
      "| 14|shradhha|   mahale| 28|     f| shraddha@yahoo.com|   palghar|   backend developer|       3.1|\n",
      "| 15|   jinal|     jain| 30|     f|    jinal@gmail.com|     malad|     software tester|       3.2|\n",
      "| 16|   rohit|    kumar| 28|     m|    rohit@gmail.com|     virar| front end developer|       2.7|\n",
      "| 17|siddhesh|    patil| 28|     m| siddhesh@yahoo.com|     virar| front end developer|       2.7|\n",
      "| 18|   nidhi|  divecha| 28|     f|  nidhi@hotmail.cpm|     vasai|             teacher|       3.2|\n",
      "| 19|   harsh|  divecha| 30|     m|    harsh@yahoo.com|     vasai|   software security|       4.1|\n",
      "+---+--------+---------+---+------+-------------------+----------+--------------------+----------+\n",
      "only showing top 20 rows\n",
      "\n"
     ]
    }
   ],
   "source": [
    "ps_df.show()"
   ]
  },
  {
   "cell_type": "code",
   "execution_count": 27,
   "metadata": {},
   "outputs": [
    {
     "data": {
      "text/plain": [
       "(pyspark.sql.dataframe.DataFrame, pandas.core.frame.DataFrame)"
      ]
     },
     "execution_count": 27,
     "metadata": {},
     "output_type": "execute_result"
    }
   ],
   "source": [
    "# check the data type \n",
    "type(ps_df), type(pd_df) "
   ]
  },
  {
   "cell_type": "code",
   "execution_count": 28,
   "metadata": {},
   "outputs": [
    {
     "data": {
      "text/plain": [
       "Row(_c0='0', Name='kiran', Sname='mungkar', Age='29', Gender='m', Email_ID='kiran@gmail.com', Adderess='virar', Profile='data analyst', Experience='1.8')"
      ]
     },
     "execution_count": 28,
     "metadata": {},
     "output_type": "execute_result"
    }
   ],
   "source": [
    "# to show few / 1st row information\n",
    "ps_df.head()"
   ]
  },
  {
   "cell_type": "code",
   "execution_count": 29,
   "metadata": {},
   "outputs": [
    {
     "name": "stdout",
     "output_type": "stream",
     "text": [
      "root\n",
      " |-- _c0: string (nullable = true)\n",
      " |-- Name: string (nullable = true)\n",
      " |-- Sname: string (nullable = true)\n",
      " |-- Age: string (nullable = true)\n",
      " |-- Gender: string (nullable = true)\n",
      " |-- Email_ID: string (nullable = true)\n",
      " |-- Adderess: string (nullable = true)\n",
      " |-- Profile: string (nullable = true)\n",
      " |-- Experience: string (nullable = true)\n",
      "\n"
     ]
    }
   ],
   "source": [
    "# to show information about collumns\n",
    "ps_df.printSchema()"
   ]
  },
  {
   "cell_type": "code",
   "execution_count": null,
   "metadata": {},
   "outputs": [],
   "source": []
  }
 ],
 "metadata": {
  "kernelspec": {
   "display_name": "Python 3",
   "language": "python",
   "name": "python3"
  },
  "language_info": {
   "codemirror_mode": {
    "name": "ipython",
    "version": 3
   },
   "file_extension": ".py",
   "mimetype": "text/x-python",
   "name": "python",
   "nbconvert_exporter": "python",
   "pygments_lexer": "ipython3",
   "version": "3.6.7"
  }
 },
 "nbformat": 4,
 "nbformat_minor": 2
}
