{
 "cells": [
  {
   "cell_type": "markdown",
   "metadata": {},
   "source": [
    "#### https://www.youtube.com/watch?v=RqepKuZ5PZE&t=1544s "
   ]
  },
  {
   "cell_type": "markdown",
   "metadata": {},
   "source": [
    "# Steps"
   ]
  },
  {
   "cell_type": "markdown",
   "metadata": {},
   "source": [
    "## Installation and setup"
   ]
  },
  {
   "cell_type": "code",
   "execution_count": 1,
   "metadata": {},
   "outputs": [],
   "source": [
    "# !pip install selenium\n",
    "# !pip install -U selenium \n",
    "from selenium import webdriver\n",
    "import time"
   ]
  },
  {
   "cell_type": "markdown",
   "metadata": {},
   "source": [
    "## Web Drivers Command"
   ]
  },
  {
   "cell_type": "code",
   "execution_count": 3,
   "metadata": {},
   "outputs": [],
   "source": [
    "driver = webdriver.Chrome(executable_path=\"D:\\chromedriver\\chromedriver.exe\")\n",
    "driver.get(\"http://yahoo.com\")"
   ]
  },
  {
   "cell_type": "code",
   "execution_count": 4,
   "metadata": {},
   "outputs": [],
   "source": [
    "driver.get(\"https://masterprograming.com/\")"
   ]
  },
  {
   "cell_type": "code",
   "execution_count": 5,
   "metadata": {},
   "outputs": [],
   "source": [
    "# write script \n",
    "script = \"alert('Welcome To MasterPrograming')\"\n",
    "\n",
    "# generate a alert via javascript \n",
    "\n",
    "# Asynchronously Executes JavaScript in the current window/frame.\n",
    "driver.execute_async_script(script)"
   ]
  },
  {
   "cell_type": "code",
   "execution_count": 6,
   "metadata": {},
   "outputs": [],
   "source": [
    "# https://masterprograming.com/web-driver-commands-in-selenium/"
   ]
  },
  {
   "cell_type": "code",
   "execution_count": 8,
   "metadata": {},
   "outputs": [],
   "source": [
    "# Synchronously Executes JavaScript in the current window/frame.\n",
    "driver.execute_script(script)"
   ]
  },
  {
   "cell_type": "code",
   "execution_count": 9,
   "metadata": {},
   "outputs": [
    {
     "data": {
      "text/plain": [
       "'Home » Master Programming'"
      ]
     },
     "execution_count": 9,
     "metadata": {},
     "output_type": "execute_result"
    }
   ],
   "source": [
    "# Returns the title of the current page.\n",
    "driver.title"
   ]
  },
  {
   "cell_type": "code",
   "execution_count": 10,
   "metadata": {},
   "outputs": [],
   "source": [
    "# Closes the current window.\n",
    "# driver.close()"
   ]
  },
  {
   "cell_type": "code",
   "execution_count": 11,
   "metadata": {},
   "outputs": [],
   "source": [
    "# Quits the driver and closes every associated window.\n",
    "# driver.quit()"
   ]
  },
  {
   "cell_type": "code",
   "execution_count": 12,
   "metadata": {},
   "outputs": [],
   "source": [
    "driver.refresh()"
   ]
  },
  {
   "cell_type": "code",
   "execution_count": 13,
   "metadata": {},
   "outputs": [],
   "source": [
    "# Invokes the window manager-specific ‘full screen’ operation\n",
    "driver.fullscreen_window()"
   ]
  },
  {
   "cell_type": "code",
   "execution_count": 14,
   "metadata": {},
   "outputs": [],
   "source": [
    "driver.maximize_window()"
   ]
  },
  {
   "cell_type": "code",
   "execution_count": 15,
   "metadata": {},
   "outputs": [],
   "source": [
    "driver.minimize_window()"
   ]
  },
  {
   "cell_type": "code",
   "execution_count": 16,
   "metadata": {},
   "outputs": [
    {
     "data": {
      "text/plain": [
       "{'height': 708, 'width': 1050, 'x': 1000, 'y': 80}"
      ]
     },
     "execution_count": 16,
     "metadata": {},
     "output_type": "execute_result"
    }
   ],
   "source": [
    "# Sets the x, y position of the current window. (window.moveTo)\n",
    "driver.set_window_position(1000,80)"
   ]
  },
  {
   "cell_type": "code",
   "execution_count": 17,
   "metadata": {},
   "outputs": [
    {
     "data": {
      "text/plain": [
       "'https://masterprograming.com/'"
      ]
     },
     "execution_count": 17,
     "metadata": {},
     "output_type": "execute_result"
    }
   ],
   "source": [
    "# Gets the URL of the current page.\n",
    "driver.current_url"
   ]
  },
  {
   "cell_type": "code",
   "execution_count": 59,
   "metadata": {},
   "outputs": [
    {
     "data": {
      "text/plain": [
       "'<html lang=\"en-GB\" prefix=\"og: http://ogp.me/ns#\" class=\"jetpack-lazy-images-js-enabled\" style=\"transform: none;\"><head><meta charset=\"UTF-8\"><meta name=\"viewport\" content=\"width=device-width, initial-scale=1\"><link rel=\"profile\" href=\"https://gmpg.org/xfn/11\"><link media=\"all\" href=\"https://masterprograming.com/wp-content/cache/autoptimize/css/autoptimize_0155c92e360624541a1e9d3954a0de14.css\" rel=\"stylesheet\"><title>Home » Master Programming</title><meta name=\"robots\" content=\"max-image-preview:large\"> <meta name=\"google-site-verification\" content=\"Dsr_HoZub1FTRa_BGIQ-9WQlKSwC_PF2oNYGUg91cPc\"><meta name=\"msvalidate.01\" content=\"2585878F5105D4377514EE79575B494F\"> <meta name=\"description\" content=\"Master programming is a website that enables people that aren’t well versed in english to learn programming languages like Python, C, C++, JAVA, Css, HTML, PHP in HINDI.\"><link rel=\"canonical\" href=\"https://masterprograming.com/\"><meta property=\"og:locale\" content=\"en_GB\"><meta property=\"og:type\" content=\"website\"><meta property=\"og:title\" content=\"Home » Master Programming\"><meta property=\"og:description\" content=\"Master programming is a website that enables people that aren’t well versed in english to learn programming languages like Python, C, C++, JAVA, Css, HTML, PHP in HINDI.\"><meta property=\"og:url\" content=\"https://masterprograming.com/\"><meta property=\"og:site_name\" content=\"Master Programming\"><meta name=\"twitter:card\" content=\"summary_large_image\"><meta name=\"twitter:description\" content=\"Master programming is a website that enables people that aren’t well versed in english to learn programming languages like Python, C, C++, JAVA, Css, HTML, PHP in HINDI.\"><meta name=\"twitter:title\" content=\"Home » Master Programming\"><meta name=\"twitter:image\" content=\"https://masterprograming.com/wp-content/uploads/2019/11/python-programming-in-hindi.png\"> <script type=\"text/javascript\" async=\"\" src=\"https://www.google-analytics.com/gtm/js?id=GTM-5WJ8VCB&amp;t=gtag_UA_140173704_1&amp;cid=1702764321.1659702289&amp;aip=true\"></script><script async=\"\" src=\"https://www.googletagmanager.com/gtm.js?id=GTM-N5H32Z6\"></script><script type=\"text/javascript\" async=\"\" src=\"https://www.google-analytics.com/analytics.js\"></script><script type=\"application/ld+json\">{\"@context\":\"https://schema.org\",\"@type\":\"WebSite\",\"@id\":\"https://masterprograming.com/#website\",\"url\":\"https://masterprograming.com/\",\"name\":\"Master Programming\",\"potentialAction\":{\"@type\":\"SearchAction\",\"target\":\"https://masterprograming.com/?s={search_term_string}\",\"query-input\":\"required name=search_term_string\"}}</script> <script type=\"application/ld+json\">{\"@context\":\"https://schema.org\",\"@type\":\"Person\",\"url\":\"https://masterprograming.com/\",\"sameAs\":[\"https://www.facebook.com/masterprogrammingbydanish\",\"https://www.instagram.com/masterprograming/\",\"https://www.youtube.com/channel/UCbsVWeymfqS8yCfDmTgex4A\",\"http://in.pinterest.com/masterprograming\"],\"@id\":\"#person\",\"name\":\"Danish Ali\"}</script> <link rel=\"dns-prefetch\" href=\"//www.googletagmanager.com\"><link rel=\"dns-prefetch\" href=\"//fonts.googleapis.com\"><link rel=\"dns-prefetch\" href=\"//i0.wp.com\"><link rel=\"dns-prefetch\" href=\"//c0.wp.com\"><link href=\"https://sp-ao.shortpixel.ai\" rel=\"preconnect\"><link rel=\"alternate\" type=\"application/rss+xml\" title=\"Master Programming » Feed\" href=\"https://masterprograming.com/feed/\"><link rel=\"alternate\" type=\"application/rss+xml\" title=\"Master Programming » Comments Feed\" href=\"https://masterprograming.com/comments/feed/\"><link rel=\"stylesheet\" id=\"news-portal-fonts-css\" href=\"https://fonts.googleapis.com/css?family=Roboto+Condensed%3A300italic%2C400italic%2C700italic%2C400%2C300%2C700%7CRoboto%3A300%2C400%2C400i%2C500%2C700%7CTitillium+Web%3A400%2C600%2C700%2C300&amp;subset=latin%2Clatin-ext\" type=\"text/css\" media=\"all\"> <script type=\"text/javascript\" src=\"https://masterprograming.com/wp-includes/js/jquery/jquery.min.js\" id=\"jquery-core-js\"></script>  <script async=\"\" type=\"text/javascript\" src=\"https://www.googletagmanager.com/gtag/js?id=UA-140173704-1\" id=\"google_gtagjs-js\"></script> <link rel=\"EditURI\" type=\"application/rsd+xml\" title=\"RSD\" href=\"https://masterprograming.com/xmlrpc.php?rsd\"><link rel=\"wlwmanifest\" type=\"application/wlwmanifest+xml\" href=\"https://masterprograming.com/wp-includes/wlwmanifest.xml\"><link rel=\"shortlink\" href=\"https://wp.me/PciAJE-Vd\"><link rel=\"alternate\" type=\"application/json+oembed\" href=\"https://masterprograming.com/wp-json/oembed/1.0/embed?url=https%3A%2F%2Fmasterprograming.com%2F\"><link rel=\"alternate\" type=\"text/xml+oembed\" href=\"https://masterprograming.com/wp-json/oembed/1.0/embed?url=https%3A%2F%2Fmasterprograming.com%2F&amp;format=xml\"><meta name=\"generator\" content=\"Site Kit by Google 1.80.0\"> <script type=\"text/javascript\">!function(e,n){\"function\"==typeof define&&define.amd?define([],n(\"adsenseLoader\")):\"object\"==typeof exports?module.exports=n(\"adsenseLoader\"):e.adsenseLoader=n(\"adsenseLoader\")}(this,function(e){\"use strict\";var n=250,t={laziness:1,onLoad:!1},o=function(e,n){var t,o={};for(t in e)Object.prototype.hasOwnProperty.call(e,t)&&(o[t]=e[t]);for(t in n)Object.prototype.hasOwnProperty.call(n,t)&&(o[t]=n[t]);return o},r=function(e,n){var t,o;return function(){var r=this,a=arguments,i=+new Date;t&&i<t+e?(clearTimeout(o),o=setTimeout(function(){t=i,n.apply(r,a)},e)):(t=i,n.apply(r,a))}},a=[],i=[],s=[],d=function(){if(!a.length)return!0;var e=window.pageYOffset,n=window.innerHeight;a.forEach(function(t){var o,r,d=(o=t,r=o.getBoundingClientRect(),{top:r.top+document.body.scrollTop,left:r.left+document.body.scrollLeft}).top,f=t._adsenseLoaderData.options.laziness+1;if(d-e>n*f||e-d-t.offsetHeight-n*f>0)return!0;a=u(a,t),t._adsenseLoaderData.width=c(t),function(e,n){e.classList?e.classList.add(n):e.className+=\" \"+n}(t.querySelector(\"ins\"),\"adsbygoogle\"),i.push(t),\"undefined\"!=typeof adsbygoogle?function(e){(adsbygoogle=window.adsbygoogle||[]).push({});var n=e._adsenseLoaderData.options.onLoad;\"function\"==typeof n&&e.querySelector(\"iframe\")&&e.querySelector(\"iframe\").addEventListener(\"load\",function(){n(e)})}(t):s.push(t)})},c=function(e){return parseInt(window.getComputedStyle(e,\":before\").getPropertyValue(\"content\").slice(1,-1)||9999)},u=function(e,n){return e.filter(function(e){return e!==n})},f=function(e,n){return e._adsenseLoaderData={originalHTML:e.innerHTML,options:n},e.adsenseLoader=function(n){\"destroy\"==n&&(a=u(a,e),i=u(i,e),s=u(i,e),e.innerHTML=e._adsenseLoaderData.originalHTML)},e};function l(e,n){\"string\"==typeof e?e=document.querySelectorAll(e):void 0===e.length&&(e=[e]),n=o(t,n),[].forEach.call(e,function(e){e=f(e,n),a.push(e)}),this.elements=e,d()}return window.addEventListener(\"scroll\",r(n,d)),window.addEventListener(\"resize\",r(n,d)),window.addEventListener(\"resize\",r(n,function(){if(!i.length)return!0;var e=!1;i.forEach(function(n){n.querySelector(\"ins\").classList.contains(\"adsbygoogle\")||n._adsenseLoaderData.width==c(n)||(e=!0,i=u(i,n),n.innerHTML=n._adsenseLoaderData.originalHTML,a.push(n))}),e&&d()})),l.prototype={destroy:function(){this.elements.forEach(function(e){e.adsenseLoader(\"destroy\")})}},window.adsenseLoaderConfig=function(e){void 0!==e.throttle&&(n=e.throttle)},l});</script> <script src=\"https://pagead2.googlesyndication.com/pagead/js/adsbygoogle.js\" type=\"text/javascript\"></script> <meta name=\"google-adsense-platform-account\" content=\"ca-host-pub-2644536267352236\"><meta name=\"google-adsense-platform-domain\" content=\"sitekit.withgoogle.com\"> <meta name=\"onesignal\" content=\"wordpress-plugin\">  <link rel=\"icon\" href=\"https://i0.wp.com/masterprograming.com/wp-content/uploads/2019/09/cropped-68397977_112874713402326_179067902513643520_n.jpg?fit=32%2C32&amp;ssl=1\" sizes=\"32x32\"><link rel=\"icon\" href=\"https://i0.wp.com/masterprograming.com/wp-content/uploads/2019/09/cropped-68397977_112874713402326_179067902513643520_n.jpg?fit=192%2C192&amp;ssl=1\" sizes=\"192x192\"><link rel=\"apple-touch-icon\" href=\"https://i0.wp.com/masterprograming.com/wp-content/uploads/2019/09/cropped-68397977_112874713402326_179067902513643520_n.jpg?fit=180%2C180&amp;ssl=1\"><meta name=\"msapplication-TileImage\" content=\"https://i0.wp.com/masterprograming.com/wp-content/uploads/2019/09/cropped-68397977_112874713402326_179067902513643520_n.jpg?fit=270%2C270&amp;ssl=1\"> <meta http-equiv=\"origin-trial\" content=\"AzoawhTRDevLR66Y6MROu167EDncFPBvcKOaQispTo9ouEt5LvcBjnRFqiAByRT+2cDHG1Yj4dXwpLeIhc98/gIAAACFeyJvcmlnaW4iOiJodHRwczovL2RvdWJsZWNsaWNrLm5ldDo0NDMiLCJmZWF0dXJlIjoiUHJpdmFjeVNhbmRib3hBZHNBUElzIiwiZXhwaXJ5IjoxNjYxMjk5MTk5LCJpc1N1YmRvbWFpbiI6dHJ1ZSwiaXNUaGlyZFBhcnR5Ijp0cnVlfQ==\"><meta http-equiv=\"origin-trial\" content=\"A6+nc62kbJgC46ypOwRsNW6RkDn2x7tgRh0wp7jb3DtFF7oEhu1hhm4rdZHZ6zXvnKZLlYcBlQUImC4d3kKihAcAAACLeyJvcmlnaW4iOiJodHRwczovL2dvb2dsZXN5bmRpY2F0aW9uLmNvbTo0NDMiLCJmZWF0dXJlIjoiUHJpdmFjeVNhbmRib3hBZHNBUElzIiwiZXhwaXJ5IjoxNjYxMjk5MTk5LCJpc1N1YmRvbWFpbiI6dHJ1ZSwiaXNUaGlyZFBhcnR5Ijp0cnVlfQ==\"><meta http-equiv=\"origin-trial\" content=\"A/9La288e7MDEU2ifusFnMg1C2Ij6uoa/Z/ylwJIXSsWfK37oESIPbxbt4IU86OGqDEPnNVruUiMjfKo65H/CQwAAACLeyJvcmlnaW4iOiJodHRwczovL2dvb2dsZXRhZ3NlcnZpY2VzLmNvbTo0NDMiLCJmZWF0dXJlIjoiUHJpdmFjeVNhbmRib3hBZHNBUElzIiwiZXhwaXJ5IjoxNjYxMjk5MTk5LCJpc1N1YmRvbWFpbiI6dHJ1ZSwiaXNUaGlyZFBhcnR5Ijp0cnVlfQ==\"><script src=\"https://cdn.onesignal.com/sdks/OneSignalPageSDKES6.js?v=151513\" async=\"\"></script><style id=\"theia-sticky-sidebar-stylesheet-TSS\">.theiaStickySidebar:after {content: \"\"; display: table; clear: both;}</style><link rel=\"stylesheet\" href=\"https://onesignal.com/sdks/OneSignalSDKStyles.css?v=2\"></head><body class=\"home page-template-default page page-id-3547 group-blog no-sidebar boxed_layout wppb-body wppb-body-page wppb-body-page-3547 wppb-body-single-3547\" style=\"transform: none;\">  <noscript> <iframe src=\"https://www.googletagmanager.com/ns.html?id=GTM-N5H32Z6\" height=\"0\" width=\"0\" style=\"display:none;visibility:hidden\"></iframe> </noscript>  <svg xmlns=\"http://www.w3.org/2000/svg\" viewBox=\"0 0 0 0\" width=\"0\" height=\"0\" focusable=\"false\" role=\"none\" style=\"visibility: hidden; position: absolute; left: -9999px; overflow: hidden;\"><defs><filter id=\"wp-duotone-dark-grayscale\"><feColorMatrix color-interpolation-filters=\"sRGB\" type=\"matrix\" values=\" .299 .587 .114 0 0 .299 .587 .114 0 0 .299 .587 .114 0 0 .299 .587 .114 0 0 \"></feColorMatrix><feComponentTransfer color-interpolation-filters=\"sRGB\"><feFuncR type=\"table\" tableValues=\"0 0.49803921568627\"></feFuncR><feFuncG type=\"table\" tableValues=\"0 0.49803921568627\"></feFuncG><feFuncB type=\"table\" tableValues=\"0 0.49803921568627\"></feFuncB><feFuncA type=\"table\" tableValues=\"1 1\"></feFuncA></feComponentTransfer><feComposite in2=\"SourceGraphic\" operator=\"in\"></feComposite></filter></defs></svg><svg xmlns=\"http://www.w3.org/2000/svg\" viewBox=\"0 0 0 0\" width=\"0\" height=\"0\" focusable=\"false\" role=\"none\" style=\"visibility: hidden; position: absolute; left: -9999px; overflow: hidden;\"><defs><filter id=\"wp-duotone-grayscale\"><feColorMatrix color-interpolation-filters=\"sRGB\" type=\"matrix\" values=\" .299 .587 .114 0 0 .299 .587 .114 0 0 .299 .587 .114 0 0 .299 .587 .114 0 0 \"></feColorMatrix><feComponentTransfer color-interpolation-filters=\"sRGB\"><feFuncR type=\"table\" tableValues=\"0 1\"></feFuncR><feFuncG type=\"table\" tableValues=\"0 1\"></feFuncG><feFuncB type=\"table\" tableValues=\"0 1\"></feFuncB><feFuncA type=\"table\" tableValues=\"1 1\"></feFuncA></feComponentTransfer><feComposite in2=\"SourceGraphic\" operator=\"in\"></feComposite></filter></defs></svg><svg xmlns=\"http://www.w3.org/2000/svg\" viewBox=\"0 0 0 0\" width=\"0\" height=\"0\" focusable=\"false\" role=\"none\" style=\"visibility: hidden; position: absolute; left: -9999px; overflow: hidden;\"><defs><filter id=\"wp-duotone-purple-yellow\"><feColorMatrix color-interpolation-filters=\"sRGB\" type=\"matrix\" values=\" .299 .587 .114 0 0 .299 .587 .114 0 0 .299 .587 .114 0 0 .299 .587 .114 0 0 \"></feColorMatrix><feComponentTransfer color-interpolation-filters=\"sRGB\"><feFuncR type=\"table\" tableValues=\"0.54901960784314 0.98823529411765\"></feFuncR><feFuncG type=\"table\" tableValues=\"0 1\"></feFuncG><feFuncB type=\"table\" tableValues=\"0.71764705882353 0.25490196078431\"></feFuncB><feFuncA type=\"table\" tableValues=\"1 1\"></feFuncA></feComponentTransfer><feComposite in2=\"SourceGraphic\" operator=\"in\"></feComposite></filter></defs></svg><svg xmlns=\"http://www.w3.org/2000/svg\" viewBox=\"0 0 0 0\" width=\"0\" height=\"0\" focusable=\"false\" role=\"none\" style=\"visibility: hidden; position: absolute; left: -9999px; overflow: hidden;\"><defs><filter id=\"wp-duotone-blue-red\"><feColorMatrix color-interpolation-filters=\"sRGB\" type=\"matrix\" values=\" .299 .587 .114 0 0 .299 .587 .114 0 0 .299 .587 .114 0 0 .299 .587 .114 0 0 \"></feColorMatrix><feComponentTransfer color-interpolation-filters=\"sRGB\"><feFuncR type=\"table\" tableValues=\"0 1\"></feFuncR><feFuncG type=\"table\" tableValues=\"0 0.27843137254902\"></feFuncG><feFuncB type=\"table\" tableValues=\"0.5921568627451 0.27843137254902\"></feFuncB><feFuncA type=\"table\" tableValues=\"1 1\"></feFuncA></feComponentTransfer><feComposite in2=\"SourceGraphic\" operator=\"in\"></feComposite></filter></defs></svg><svg xmlns=\"http://www.w3.org/2000/svg\" viewBox=\"0 0 0 0\" width=\"0\" height=\"0\" focusable=\"false\" role=\"none\" style=\"visibility: hidden; position: absolute; left: -9999px; overflow: hidden;\"><defs><filter id=\"wp-duotone-midnight\"><feColorMatrix color-interpolation-filters=\"sRGB\" type=\"matrix\" values=\" .299 .587 .114 0 0 .299 .587 .114 0 0 .299 .587 .114 0 0 .299 .587 .114 0 0 \"></feColorMatrix><feComponentTransfer color-interpolation-filters=\"sRGB\"><feFuncR type=\"table\" tableValues=\"0 0\"></feFuncR><feFuncG type=\"table\" tableValues=\"0 0.64705882352941\"></feFuncG><feFuncB type=\"table\" tableValues=\"0 1\"></feFuncB><feFuncA type=\"table\" tableValues=\"1 1\"></feFuncA></feComponentTransfer><feComposite in2=\"SourceGraphic\" operator=\"in\"></feComposite></filter></defs></svg><svg xmlns=\"http://www.w3.org/2000/svg\" viewBox=\"0 0 0 0\" width=\"0\" height=\"0\" focusable=\"false\" role=\"none\" style=\"visibility: hidden; position: absolute; left: -9999px; overflow: hidden;\"><defs><filter id=\"wp-duotone-magenta-yellow\"><feColorMatrix color-interpolation-filters=\"sRGB\" type=\"matrix\" values=\" .299 .587 .114 0 0 .299 .587 .114 0 0 .299 .587 .114 0 0 .299 .587 .114 0 0 \"></feColorMatrix><feComponentTransfer color-interpolation-filters=\"sRGB\"><feFuncR type=\"table\" tableValues=\"0.78039215686275 1\"></feFuncR><feFuncG type=\"table\" tableValues=\"0 0.94901960784314\"></feFuncG><feFuncB type=\"table\" tableValues=\"0.35294117647059 0.47058823529412\"></feFuncB><feFuncA type=\"table\" tableValues=\"1 1\"></feFuncA></feComponentTransfer><feComposite in2=\"SourceGraphic\" operator=\"in\"></feComposite></filter></defs></svg><svg xmlns=\"http://www.w3.org/2000/svg\" viewBox=\"0 0 0 0\" width=\"0\" height=\"0\" focusable=\"false\" role=\"none\" style=\"visibility: hidden; position: absolute; left: -9999px; overflow: hidden;\"><defs><filter id=\"wp-duotone-purple-green\"><feColorMatrix color-interpolation-filters=\"sRGB\" type=\"matrix\" values=\" .299 .587 .114 0 0 .299 .587 .114 0 0 .299 .587 .114 0 0 .299 .587 .114 0 0 \"></feColorMatrix><feComponentTransfer color-interpolation-filters=\"sRGB\"><feFuncR type=\"table\" tableValues=\"0.65098039215686 0.40392156862745\"></feFuncR><feFuncG type=\"table\" tableValues=\"0 1\"></feFuncG><feFuncB type=\"table\" tableValues=\"0.44705882352941 0.4\"></feFuncB><feFuncA type=\"table\" tableValues=\"1 1\"></feFuncA></feComponentTransfer><feComposite in2=\"SourceGraphic\" operator=\"in\"></feComposite></filter></defs></svg><svg xmlns=\"http://www.w3.org/2000/svg\" viewBox=\"0 0 0 0\" width=\"0\" height=\"0\" focusable=\"false\" role=\"none\" style=\"visibility: hidden; position: absolute; left: -9999px; overflow: hidden;\"><defs><filter id=\"wp-duotone-blue-orange\"><feColorMatrix color-interpolation-filters=\"sRGB\" type=\"matrix\" values=\" .299 .587 .114 0 0 .299 .587 .114 0 0 .299 .587 .114 0 0 .299 .587 .114 0 0 \"></feColorMatrix><feComponentTransfer color-interpolation-filters=\"sRGB\"><feFuncR type=\"table\" tableValues=\"0.098039215686275 1\"></feFuncR><feFuncG type=\"table\" tableValues=\"0 0.66274509803922\"></feFuncG><feFuncB type=\"table\" tableValues=\"0.84705882352941 0.41960784313725\"></feFuncB><feFuncA type=\"table\" tableValues=\"1 1\"></feFuncA></feComponentTransfer><feComposite in2=\"SourceGraphic\" operator=\"in\"></feComposite></filter></defs></svg><div id=\"page\" class=\"site\" style=\"transform: none;\"> <a class=\"skip-link screen-reader-text\" href=\"#content\">Skip to content</a><header id=\"masthead\" class=\"site-header\" role=\"banner\"><div class=\"np-logo-section-wrapper\"><div class=\"mt-container\"><div class=\"site-branding\"><h1 class=\"site-title\"><a href=\"https://masterprograming.com/\" rel=\"home\">Master Programming</a></h1><p class=\"site-description\">Learn Programming In Hindi</p></div><div class=\"np-header-ads-area\"><section id=\"news_portal_social_media-3\" class=\"widget news_portal_social_media\"><div class=\"np-aside-social-wrapper\"><div class=\"mt-social-icons-wrapper\"> <span class=\"social-link\"><a href=\"https://www.facebook.com/masterprogrammingbydanish\" target=\"_blank\"><i class=\"fa fa-facebook-f\"></i></a></span><span class=\"social-link\"><a href=\"https://www.instagram.com/masterprograming/\" target=\"_blank\"><i class=\"fa fa-instagram\"></i></a></span><span class=\"social-link\"><a href=\"https://www.youtube.com/channel/UCbsVWeymfqS8yCfDmTgex4A\" target=\"_blank\"><i class=\"fa fa-youtube-square\"></i></a></span><span class=\"social-link\"><a href=\"https://www.linkedin.com/in/mp-danishali/\" target=\"_blank\"><i class=\"fa fa-linkedin-square\"></i></a></span></div></div></section></div></div></div><div id=\"np-menu-wrap\" class=\"np-header-menu-wrapper\"><div class=\"np-header-menu-block-wrap\"><div class=\"mt-container\"><div class=\"np-home-icon\"> <a href=\"https://masterprograming.com/\" rel=\"home\"> <i class=\"fa fa-home\"> </i> </a></div><div class=\"mt-header-menu-wrap\"> <a href=\"javascript:void(0)\" class=\"menu-toggle hide\"><i class=\"fa fa-navicon\"> </i> </a><nav id=\"site-navigation\" class=\"main-navigation\" role=\"navigation\"><div class=\"menu-main-menu-container\"><ul id=\"primary-menu\" class=\"menu nav-menu\" aria-expanded=\"false\"><li id=\"menu-item-11332\" class=\"menu-item menu-item-type-custom menu-item-object-custom menu-item-has-children menu-item-11332\"><a href=\"#\">Tutorial</a><a class=\"sub-toggle\" href=\"javascript:void(0);\"><i class=\"fa fa-angle-right\"></i></a><ul class=\"sub-menu\"><li id=\"menu-item-1430\" class=\"menu-item menu-item-type-post_type menu-item-object-page menu-item-1430\"><a href=\"https://masterprograming.com/c-language/\">C Language</a></li><li id=\"menu-item-3145\" class=\"menu-item menu-item-type-post_type menu-item-object-page menu-item-3145\"><a href=\"https://masterprograming.com/c-plus-plus/\">C++</a></li><li id=\"menu-item-1420\" class=\"menu-item menu-item-type-post_type menu-item-object-page menu-item-1420\"><a href=\"https://masterprograming.com/python/\">Python</a></li><li id=\"menu-item-4879\" class=\"menu-item menu-item-type-post_type menu-item-object-page menu-item-4879\"><a href=\"https://masterprograming.com/php/\">PHP</a></li><li id=\"menu-item-7607\" class=\"menu-item menu-item-type-post_type menu-item-object-page menu-item-7607\"><a href=\"https://masterprograming.com/java/\">Java</a></li><li id=\"menu-item-2875\" class=\"menu-item menu-item-type-post_type menu-item-object-page menu-item-2875\"><a href=\"https://masterprograming.com/html-in-hindi/\">HTML</a></li></ul></li><li id=\"menu-item-11333\" class=\"menu-item menu-item-type-custom menu-item-object-custom menu-item-has-children menu-item-11333\"><a href=\"#\">Category Tutorial</a><a class=\"sub-toggle\" href=\"javascript:void(0);\"><i class=\"fa fa-angle-right\"></i></a><ul class=\"sub-menu\"><li id=\"menu-item-192\" class=\"menu-item menu-item-type-taxonomy menu-item-object-category menu-item-192\"><a href=\"https://masterprograming.com/category/css/\">CSS</a></li><li id=\"menu-item-6228\" class=\"menu-item menu-item-type-taxonomy menu-item-object-category menu-item-6228\"><a href=\"https://masterprograming.com/category/javascript/\">JavaScript</a></li><li id=\"menu-item-9755\" class=\"menu-item menu-item-type-taxonomy menu-item-object-category menu-item-9755\"><a href=\"https://masterprograming.com/category/data-structure/\">Data Structure</a></li><li id=\"menu-item-9756\" class=\"menu-item menu-item-type-taxonomy menu-item-object-category menu-item-9756\"><a href=\"https://masterprograming.com/category/typescript/\">TypeScript</a></li></ul></li><li id=\"menu-item-11334\" class=\"menu-item menu-item-type-custom menu-item-object-custom menu-item-has-children menu-item-11334\"><a href=\"#\">Library Tutorial</a><a class=\"sub-toggle\" href=\"javascript:void(0);\"><i class=\"fa fa-angle-right\"></i></a><ul class=\"sub-menu\"><li id=\"menu-item-11335\" class=\"menu-item menu-item-type-custom menu-item-object-custom menu-item-11335\"><a href=\"https://masterprograming.com/python-numpy-tutorial-in-hindi/\">Numpy</a></li><li id=\"menu-item-11336\" class=\"menu-item menu-item-type-custom menu-item-object-custom menu-item-11336\"><a href=\"https://masterprograming.com/python-pandas-tutorial-in-hindi/\">Pandas</a></li><li id=\"menu-item-11337\" class=\"menu-item menu-item-type-custom menu-item-object-custom menu-item-11337\"><a href=\"https://masterprograming.com/django-tutorial-in-hindi/\">Django</a></li><li id=\"menu-item-11338\" class=\"menu-item menu-item-type-custom menu-item-object-custom menu-item-11338\"><a href=\"https://masterprograming.com/python-hacking-tutorial-in-hindi/\">Hacking</a></li><li id=\"menu-item-11339\" class=\"menu-item menu-item-type-custom menu-item-object-custom menu-item-11339\"><a href=\"https://masterprograming.com/python-selenium-in-hindi-selenium-tutorial-in-hindi/\">Selenium</a></li><li id=\"menu-item-11340\" class=\"menu-item menu-item-type-custom menu-item-object-custom menu-item-11340\"><a href=\"https://masterprograming.com/python-tkinter-tutorial-in-hindi/\">Tkinter</a></li><li id=\"menu-item-12603\" class=\"menu-item menu-item-type-taxonomy menu-item-object-category menu-item-12603\"><a href=\"https://masterprograming.com/category/python-opencv/\">OpenCV</a></li></ul></li><li id=\"menu-item-1808\" class=\"menu-item menu-item-type-taxonomy menu-item-object-category menu-item-1808\"><a href=\"https://masterprograming.com/category/programming-blog/\">Programming Blog</a></li><li id=\"menu-item-11341\" class=\"menu-item menu-item-type-custom menu-item-object-custom menu-item-11341\"><a href=\"https://course.masterprograming.com/\">Courses</a></li><li id=\"menu-item-11474\" class=\"menu-item menu-item-type-post_type menu-item-object-page menu-item-11474\"><a href=\"https://masterprograming.com/contact-us/\">Contact us</a></li></ul></div></nav></div><div class=\"np-header-search-wrapper\"> <span class=\"search-main\"><a href=\"javascript:void(0)\"><i class=\"fa fa-search\"></i></a></span><div class=\"search-form-main np-clearfix\"><form role=\"search\" method=\"get\" class=\"search-form\" action=\"https://masterprograming.com/\"> <label> <span class=\"screen-reader-text\">Search for:</span> <input type=\"search\" class=\"search-field\" placeholder=\"Search …\" value=\"\" name=\"s\"> </label> <input type=\"submit\" class=\"search-submit\" value=\"Search\"></form></div></div></div></div></div></header><div id=\"content\" class=\"site-content\" style=\"transform: none;\"><div class=\"mt-container\" style=\"transform: none;\"><div class=\"mt-single-content-wrapper\" style=\"transform: none;\"><div id=\"primary\" class=\"content-area\" style=\"position: relative; overflow: visible; box-sizing: border-box; min-height: 1px;\"><div class=\"theiaStickySidebar\" style=\"padding-top: 1px; padding-bottom: 1px; position: static; transform: none;\"><main id=\"main\" class=\"site-main\" role=\"main\"><article id=\"post-3547\" class=\"post-3547 page type-page status-publish hentry type-wppb wppb-page wppb-page-3547\"><header class=\"entry-header\"><h1 class=\"entry-title\">Home</h1></header><div class=\"entry-content\"><div id=\"wppb-builder-container\" class=\"wppb-builder-container\"><div class=\"wppb-row-parent  wppb-row-1622135934646 \"><div class=\"wppb-container \"><div class=\"wppb-row\"><div class=\"wppb-column-parent wppb-column-parent-view wppb-col-1622135934650  \"><div class=\"wppb-column\"><div class=\"wppb-builder-addons\"><div class=\"wppb-builder-addon wppb-addon-1622135934651\" data-addon-id=\"1622135934651\"><div class=\"wppb-addon\"><div class=\"wppb-headline-addon\"><div class=\"wppb-headline-content\"><h2 class=\"wppb-addon-title\">Welcome To MasterPrograming.com</h2></div></div></div></div><div class=\"wppb-builder-addon wppb-addon-1622135934652\" data-addon-id=\"1622135934652\"><div class=\"wppb-addon\"><div class=\"wppb-text-block-addon\"><div class=\"wppb-text-block-content 0\"><h5 class=\"w3-text-dark-grey\"><strong>Master programming is a website that enables people that aren’t well versed in English to learn programming languages like Python, C, C++, JAVA, CSS, HTML, JavaScript, PHP in HINDI. Masterprograming.com provides all the Programming Language education for ABSOLUTELY FREE OF COST.</strong></h5></div></div></div></div></div></div></div></div></div></div><div class=\"wppb-row-parent  wppb-row-1622108747274 \"><div class=\"wppb-container \"><div class=\"wppb-row\"><div class=\"wppb-column-parent wppb-column-parent-view wppb-col-1622108747275  \"><div class=\"wppb-column\"><div class=\"wppb-builder-addons\"><div class=\"wppb-builder-addon wppb-addon-1622108747276\" data-addon-id=\"1622108747276\"><div class=\"wppb-addon\"><div class=\"wppb-headline-addon\"><div class=\"wppb-headline-content\"><h2 class=\"wppb-addon-title\"><a href=\"https://masterprograming.com/register-for-online-classes/\">Register for Live Classes</a></h2></div></div></div></div></div></div></div><div class=\"wppb-column-parent wppb-column-parent-view wppb-col-1622108747277  \"><div class=\"wppb-column\"><div class=\"wppb-builder-addons\"><div class=\"wppb-builder-addon wppb-addon-1622108747278\" data-addon-id=\"1622108747278\"><div class=\"wppb-addon\"><div class=\"wppb-addon wppb-button-addon\"><div class=\"wppb-button-addon-content\"><a href=\"https://masterprograming.com/contact-us\" target=\"_self\" class=\"wppb-btn-addons  wppb-btn-success wppb-btn-rounded wppb-btn-custom wppb-btn-full-no\">Enroll Now</a></div></div></div></div></div></div></div><div class=\"wppb-column-parent wppb-column-parent-view wppb-col-1640940807786  \"><div class=\"wppb-column\"><div class=\"wppb-builder-addons\"><div class=\"wppb-builder-addon wppb-addon-1640940807787\" data-addon-id=\"1640940807787\"><div class=\"wppb-addon\"><div class=\"wppb-addon wppb-button-addon\"><div class=\"wppb-button-addon-content\"><a href=\"https://www.instamojo.com/@masterprograming\" target=\"_blank\" class=\"wppb-btn-addons  wppb-btn-custom wppb-btn-rounded wppb-btn-custom wppb-btn-full-no\">Donate me</a></div></div></div></div></div></div></div><div class=\"wppb-column-parent wppb-column-parent-view wppb-col-1622365779411  \"><div class=\"wppb-column\"><div class=\"wppb-builder-addons\"><div class=\"wppb-builder-addon wppb-addon-1622365779412\" data-addon-id=\"1622365779412\"><div class=\"wppb-addon\"><div class=\"wppb-addon wppb-button-addon\"><div class=\"wppb-button-addon-content\"><a href=\"https://play.google.com/store/apps/details?id=com.masterprograming.app.wpnewz\" target=\"_self\" class=\"wppb-btn-addons  wppb-btn-custom wppb-btn-rounded wppb-btn-custom wppb-btn-full-no\">Download App</a></div></div></div></div></div></div></div></div></div></div><div class=\"wppb-row-parent  wppb-row-1622106614213 \"><div class=\"wppb-container \"><div class=\"wppb-row\"><div class=\"wppb-column-parent wppb-column-parent-view wppb-col-1622106614211  \"><div class=\"wppb-column\"><div class=\"wppb-builder-addons\"><div class=\"wppb-builder-addon wppb-addon-1622106658252\" data-addon-id=\"1622106658252\"><div class=\"wppb-addon\"><div class=\"wppb-headline-addon\"><div class=\"wppb-headline-content\"><h2 class=\"wppb-addon-title\">Python</h2></div></div></div></div><div class=\"wppb-builder-addon wppb-addon-1622106792610\" data-addon-id=\"1622106792610\"><div class=\"wppb-addon\"><div class=\"wppb-text-block-addon\"><div class=\"wppb-text-block-content 0\"><p style=\"text-align: center\">A popular programming language</p></div></div></div></div><div class=\"wppb-builder-addon wppb-addon-1622106876674\" data-addon-id=\"1622106876674\"><div class=\"wppb-addon\"><div class=\"wppb-addon wppb-button-addon\"><div class=\"wppb-button-addon-content\"><a href=\"https://masterprograming.com/python-a-to-z-full-course/\" target=\"_self\" class=\"wppb-btn-addons  wppb-btn-custom wppb-btn-round wppb-btn-large\">Learn Python</a></div></div></div></div></div></div></div><div class=\"wppb-column-parent wppb-column-parent-view wppb-col-1622106614212  \"><div class=\"wppb-column\"><div class=\"wppb-builder-addons\"><div class=\"wppb-builder-addon wppb-addon-1622107935804\" data-addon-id=\"1622107935804\"><div class=\"wppb-addon\"><div class=\"wppb-headline-addon\"><div class=\"wppb-headline-content\"><h4 class=\"wppb-addon-title\">Python Example</h4></div></div></div></div><div class=\"wppb-builder-addon wppb-addon-1622108909181\" data-addon-id=\"1622108909181\"><div class=\"wppb-addon\"><div class=\"wppb-text-block-addon\"><div class=\"wppb-text-block-content 0\"><p>print(\"Hello\", How Are You ?\")</p><p>print(\"Welcome To MasterPrograming.com\")</p></div></div></div></div></div></div></div></div></div></div><div class=\"wppb-row-parent  wppb-row-1622108745938 \"><div class=\"wppb-container \"><div class=\"wppb-row\"><div class=\"wppb-column-parent wppb-column-parent-view wppb-col-1622108745943  \"><div class=\"wppb-column\"><div class=\"wppb-builder-addons\"><div class=\"wppb-builder-addon wppb-addon-1622108745944\" data-addon-id=\"1622108745944\"><div class=\"wppb-addon\"><div class=\"wppb-headline-addon\"><div class=\"wppb-headline-content\"><h4 class=\"wppb-addon-title\">HTML Example</h4></div></div></div></div><div class=\"wppb-builder-addon wppb-addon-1622108745945\" data-addon-id=\"1622108745945\"><div class=\"wppb-addon\"><div class=\"wppb-text-block-addon\"><div class=\"wppb-text-block-content 0\"><p>&lt;h1&gt;Hello, How Are You ?&lt;/h1&gt;</p><p>&lt;p&gt;Welcome To MasterPrograming.com&lt;/p&gt;</p></div></div></div></div></div></div></div><div class=\"wppb-column-parent wppb-column-parent-view wppb-col-1622108745939  \"><div class=\"wppb-column\"><div class=\"wppb-builder-addons\"><div class=\"wppb-builder-addon wppb-addon-1622108745940\" data-addon-id=\"1622108745940\"><div class=\"wppb-addon\"><div class=\"wppb-headline-addon\"><div class=\"wppb-headline-content\"><h2 class=\"wppb-addon-title\">HTML</h2></div></div></div></div><div class=\"wppb-builder-addon wppb-addon-1622108745941\" data-addon-id=\"1622108745941\"><div class=\"wppb-addon\"><div class=\"wppb-text-block-addon\"><div class=\"wppb-text-block-content 0\"><p style=\"text-align: center\">The language for building web pages</p></div></div></div></div><div class=\"wppb-builder-addon wppb-addon-1622108745942\" data-addon-id=\"1622108745942\"><div class=\"wppb-addon\"><div class=\"wppb-addon wppb-button-addon\"><div class=\"wppb-button-addon-content\"><a href=\"https://masterprograming.com/html-in-hindi/\" target=\"_self\" class=\"wppb-btn-addons  wppb-btn-custom wppb-btn-round wppb-btn-large\">Learn HTML</a></div></div></div></div></div></div></div></div></div></div><div class=\"wppb-row-parent  wppb-row-1622108746114 \"><div class=\"wppb-container \"><div class=\"wppb-row\"><div class=\"wppb-column-parent wppb-column-parent-view wppb-col-1622108746115  \"><div class=\"wppb-column\"><div class=\"wppb-builder-addons\"><div class=\"wppb-builder-addon wppb-addon-1622108746116\" data-addon-id=\"1622108746116\"><div class=\"wppb-addon\"><div class=\"wppb-headline-addon\"><div class=\"wppb-headline-content\"><h2 class=\"wppb-addon-title\">C++</h2></div></div></div></div><div class=\"wppb-builder-addon wppb-addon-1622108746117\" data-addon-id=\"1622108746117\"><div class=\"wppb-addon\"><div class=\"wppb-text-block-addon\"><div class=\"wppb-text-block-content 0\"><p style=\"text-align: center\">C++ is a general-purpose programming language</p></div></div></div></div><div class=\"wppb-builder-addon wppb-addon-1622108746118\" data-addon-id=\"1622108746118\"><div class=\"wppb-addon\"><div class=\"wppb-addon wppb-button-addon\"><div class=\"wppb-button-addon-content\"><a href=\"https://masterprograming.com/c-plus-plus/\" target=\"_self\" class=\"wppb-btn-addons  wppb-btn-custom wppb-btn-round wppb-btn-large\">Learn C++ Langauge</a></div></div></div></div></div></div></div><div class=\"wppb-column-parent wppb-column-parent-view wppb-col-1622108746119  \"><div class=\"wppb-column\"><div class=\"wppb-builder-addons\"><div class=\"wppb-builder-addon wppb-addon-1622108746120\" data-addon-id=\"1622108746120\"><div class=\"wppb-addon\"><div class=\"wppb-headline-addon\"><div class=\"wppb-headline-content\"><h4 class=\"wppb-addon-title\">C++ Example</h4></div></div></div></div><div class=\"wppb-builder-addon wppb-addon-1622108746121\" data-addon-id=\"1622108746121\"><div class=\"wppb-addon\"><div class=\"wppb-text-block-addon\"><div class=\"wppb-text-block-content 0\"><p>cout&lt;&lt;\"Hello, How Are You ?\";</p><p>cout&lt;&lt;\"Welcome To MasterPrograming.com\";</p></div></div></div></div></div></div></div></div></div></div><div class=\"wppb-row-parent  wppb-row-1622108746338 \"><div class=\"wppb-container \"><div class=\"wppb-row\"><div class=\"wppb-column-parent wppb-column-parent-view wppb-col-1622108746343  \"><div class=\"wppb-column\"><div class=\"wppb-builder-addons\"><div class=\"wppb-builder-addon wppb-addon-1622108746344\" data-addon-id=\"1622108746344\"><div class=\"wppb-addon\"><div class=\"wppb-headline-addon\"><div class=\"wppb-headline-content\"><h4 class=\"wppb-addon-title\">PHP Example</h4></div></div></div></div><div class=\"wppb-builder-addon wppb-addon-1622108746345\" data-addon-id=\"1622108746345\"><div class=\"wppb-addon\"><div class=\"wppb-text-block-addon\"><div class=\"wppb-text-block-content 0\"><p>echo \"Hello, How Are You ?\";</p><p>echo \"Welcome To MasterPrograming.com\";</p></div></div></div></div></div></div></div><div class=\"wppb-column-parent wppb-column-parent-view wppb-col-1622108746507  \"><div class=\"wppb-column\"><div class=\"wppb-builder-addons\"><div class=\"wppb-builder-addon wppb-addon-1622108746508\" data-addon-id=\"1622108746508\"><div class=\"wppb-addon\"><div class=\"wppb-headline-addon\"><div class=\"wppb-headline-content\"><h2 class=\"wppb-addon-title\">PHP</h2></div></div></div></div><div class=\"wppb-builder-addon wppb-addon-1622108746509\" data-addon-id=\"1622108746509\"><div class=\"wppb-addon\"><div class=\"wppb-text-block-addon\"><div class=\"wppb-text-block-content 0\"><h5 class=\"w3-text-dark-grey\">A web server programming language</h5></div></div></div></div><div class=\"wppb-builder-addon wppb-addon-1622108746510\" data-addon-id=\"1622108746510\"><div class=\"wppb-addon\"><div class=\"wppb-addon wppb-button-addon\"><div class=\"wppb-button-addon-content\"><a href=\"https://masterprograming.com/php/\" target=\"_self\" class=\"wppb-btn-addons  wppb-btn-custom wppb-btn-round wppb-btn-large\">Learn PHP Langauge</a></div></div></div></div></div></div></div></div></div></div><div class=\"wppb-row-parent  wppb-row-1622108746486 \"><div class=\"wppb-container \"><div class=\"wppb-row\"><div class=\"wppb-column-parent wppb-column-parent-view wppb-col-1622108746485  \"><div class=\"wppb-column\"><div class=\"wppb-builder-addons\"><div class=\"wppb-builder-addon wppb-addon-1622108746340\" data-addon-id=\"1622108746340\"><div class=\"wppb-addon\"><div class=\"wppb-headline-addon\"><div class=\"wppb-headline-content\"><h2 class=\"wppb-addon-title\">C</h2></div></div></div></div><div class=\"wppb-builder-addon wppb-addon-1622108746341\" data-addon-id=\"1622108746341\"><div class=\"wppb-addon\"><div class=\"wppb-text-block-addon\"><div class=\"wppb-text-block-content 0\"><h5 class=\"w3-text-dark-grey\">A programming language</h5></div></div></div></div><div class=\"wppb-builder-addon wppb-addon-1622108746342\" data-addon-id=\"1622108746342\"><div class=\"wppb-addon\"><div class=\"wppb-addon wppb-button-addon\"><div class=\"wppb-button-addon-content\"><a href=\"https://masterprograming.com/c-language/\" target=\"_self\" class=\"wppb-btn-addons  wppb-btn-custom wppb-btn-round wppb-btn-large\">Learn C Langauge</a></div></div></div></div></div></div></div><div class=\"wppb-column-parent wppb-column-parent-view wppb-col-1622108746632  \"><div class=\"wppb-column\"><div class=\"wppb-builder-addons\"><div class=\"wppb-builder-addon wppb-addon-1622108746633\" data-addon-id=\"1622108746633\"><div class=\"wppb-addon\"><div class=\"wppb-headline-addon\"><div class=\"wppb-headline-content\"><h2 class=\"wppb-addon-title\">Java</h2></div></div></div></div><div class=\"wppb-builder-addon wppb-addon-1622108746634\" data-addon-id=\"1622108746634\"><div class=\"wppb-addon\"><div class=\"wppb-text-block-addon\"><div class=\"wppb-text-block-content 0\"><h5 class=\"w3-text-dark-grey\">A programming language</h5></div></div></div></div><div class=\"wppb-builder-addon wppb-addon-1622108746635\" data-addon-id=\"1622108746635\"><div class=\"wppb-addon\"><div class=\"wppb-addon wppb-button-addon\"><div class=\"wppb-button-addon-content\"><a href=\"https://masterprograming.com/java/\" target=\"_self\" class=\"wppb-btn-addons  wppb-btn-custom wppb-btn-round wppb-btn-large\">Learn Java Langauge</a></div></div></div></div></div></div></div></div></div></div><div class=\"wppb-row-parent  wppb-row-1622108746694 \"><div class=\"wppb-container \"><div class=\"wppb-row\"><div class=\"wppb-column-parent wppb-column-parent-view wppb-col-1622108746695  \"><div class=\"wppb-column\"><div class=\"wppb-builder-addons\"><div class=\"wppb-builder-addon wppb-addon-1622108746696\" data-addon-id=\"1622108746696\"><div class=\"wppb-addon\"><div class=\"wppb-headline-addon\"><div class=\"wppb-headline-content\"><h2 class=\"wppb-addon-title\">CSS</h2></div></div></div></div><div class=\"wppb-builder-addon wppb-addon-1622108746697\" data-addon-id=\"1622108746697\"><div class=\"wppb-addon\"><div class=\"wppb-text-block-addon\"><div class=\"wppb-text-block-content 0\"><h5 class=\"w3-text-dark-grey\">The language for styling web pages</h5></div></div></div></div><div class=\"wppb-builder-addon wppb-addon-1622108746698\" data-addon-id=\"1622108746698\"><div class=\"wppb-addon\"><div class=\"wppb-addon wppb-button-addon\"><div class=\"wppb-button-addon-content\"><a href=\"https://masterprograming.com/css-full-course-in-hindi/\" target=\"_self\" class=\"wppb-btn-addons  wppb-btn-custom wppb-btn-round wppb-btn-large\">Learn CSS</a></div></div></div></div></div></div></div><div class=\"wppb-column-parent wppb-column-parent-view wppb-col-1622108746699  \"><div class=\"wppb-column\"><div class=\"wppb-builder-addons\"><div class=\"wppb-builder-addon wppb-addon-1622108746700\" data-addon-id=\"1622108746700\"><div class=\"wppb-addon\"><div class=\"wppb-headline-addon\"><div class=\"wppb-headline-content\"><h2 class=\"wppb-addon-title\">JavaScript</h2></div></div></div></div><div class=\"wppb-builder-addon wppb-addon-1622108746701\" data-addon-id=\"1622108746701\"><div class=\"wppb-addon\"><div class=\"wppb-text-block-addon\"><div class=\"wppb-text-block-content 0\"><h5 class=\"w3-text-dark-grey\">The language for programming web pages</h5></div></div></div></div><div class=\"wppb-builder-addon wppb-addon-1622108746702\" data-addon-id=\"1622108746702\"><div class=\"wppb-addon\"><div class=\"wppb-addon wppb-button-addon\"><div class=\"wppb-button-addon-content\"><a href=\"https://masterprograming.com/javascript-tutorial-in-hindi/\" target=\"_self\" class=\"wppb-btn-addons  wppb-btn-custom wppb-btn-round wppb-btn-large\">Learn JavaScript</a></div></div></div></div></div></div></div></div></div></div><div class=\"wppb-row-parent  wppb-row-1622108746771 \"><div class=\"wppb-container \"><div class=\"wppb-row\"><div class=\"wppb-column-parent wppb-column-parent-view wppb-col-1622108746772  \"><div class=\"wppb-column\"><div class=\"wppb-builder-addons\"><div class=\"wppb-builder-addon wppb-addon-1622108746773\" data-addon-id=\"1622108746773\"><div class=\"wppb-addon\"><div class=\"wppb-headline-addon\"><div class=\"wppb-headline-content\"><h2 class=\"wppb-addon-title\">Data Structure</h2></div></div></div></div><div class=\"wppb-builder-addon wppb-addon-1622108746774\" data-addon-id=\"1622108746774\"><div class=\"wppb-addon\"><div class=\"wppb-text-block-addon\"><div class=\"wppb-text-block-content 0\"><h5 class=\"w3-text-dark-grey\">Build Your Logic&nbsp;</h5></div></div></div></div><div class=\"wppb-builder-addon wppb-addon-1622108746775\" data-addon-id=\"1622108746775\"><div class=\"wppb-addon\"><div class=\"wppb-addon wppb-button-addon\"><div class=\"wppb-button-addon-content\"><a href=\"https://masterprograming.com/data-structure-and-algorithms-tutorial-in-hindi/\" target=\"_self\" class=\"wppb-btn-addons  wppb-btn-custom wppb-btn-round wppb-btn-large\">Learn Data Structure</a></div></div></div></div></div></div></div><div class=\"wppb-column-parent wppb-column-parent-view wppb-col-1622108746776  \"><div class=\"wppb-column\"><div class=\"wppb-builder-addons\"><div class=\"wppb-builder-addon wppb-addon-1622108746777\" data-addon-id=\"1622108746777\"><div class=\"wppb-addon\"><div class=\"wppb-headline-addon\"><div class=\"wppb-headline-content\"><h2 class=\"wppb-addon-title\">TypeScript</h2></div></div></div></div><div class=\"wppb-builder-addon wppb-addon-1622108746778\" data-addon-id=\"1622108746778\"><div class=\"wppb-addon\"><div class=\"wppb-text-block-addon\"><div class=\"wppb-text-block-content 0\"><h5 class=\"w3-text-dark-grey\">A Programming Language</h5></div></div></div></div><div class=\"wppb-builder-addon wppb-addon-1622108746779\" data-addon-id=\"1622108746779\"><div class=\"wppb-addon\"><div class=\"wppb-addon wppb-button-addon\"><div class=\"wppb-button-addon-content\"><a href=\"https://masterprograming.com/category/typescript/\" target=\"_self\" class=\"wppb-btn-addons  wppb-btn-custom wppb-btn-round wppb-btn-large\">Learn TypeScript</a></div></div></div></div></div></div></div></div></div></div><div class=\"wppb-row-parent  wppb-row-1622108747387 \"><div class=\"wppb-container \"><div class=\"wppb-row\"><div class=\"wppb-column-parent wppb-column-parent-view wppb-col-1622108747388  \"><div class=\"wppb-column\"><div class=\"wppb-builder-addons\"><div class=\"wppb-builder-addon wppb-addon-1622108747389\" data-addon-id=\"1622108747389\"><div class=\"wppb-addon\"><div class=\"wppb-headline-addon\"><div class=\"wppb-headline-content\"><h2 class=\"wppb-addon-title\">Explore Our Video Courses</h2></div></div></div></div></div></div></div><div class=\"wppb-column-parent wppb-column-parent-view wppb-col-1622108747390  \"><div class=\"wppb-column\"><div class=\"wppb-builder-addons\"><div class=\"wppb-builder-addon wppb-addon-1622108747391\" data-addon-id=\"1622108747391\"><div class=\"wppb-addon\"><div class=\"wppb-addon wppb-button-addon\"><div class=\"wppb-button-addon-content\"><a href=\"https://course.masterprograming.com/\" target=\"_blank\" class=\"wppb-btn-addons  wppb-btn-custom wppb-btn-rounded wppb-btn-custom wppb-btn-full-no\">Get Started</a></div></div></div></div></div></div></div></div></div></div><div class=\"wppb-row-parent  wppb-row-1622135934816 \"><div class=\"wppb-container \"><div class=\"wppb-row\"><div class=\"wppb-column-parent wppb-column-parent-view wppb-col-1622135934813  \"><div class=\"wppb-column\"><div class=\"wppb-builder-addons\"><div class=\"wppb-builder-addon wppb-addon-1622136414401\" data-addon-id=\"1622136414401\"><div class=\"wppb-addon\"><div class=\"wppb-addon wppb-button-addon\"><div class=\"wppb-button-addon-content\"><a href=\"https://masterprograming.com/python-numpy-tutorial-in-hindi/\" target=\"_self\" class=\"wppb-btn-addons  wppb-btn-success wppb-btn-rounded wppb-btn-large wppb-btn-no\">Numpy</a></div></div></div></div></div></div></div><div class=\"wppb-column-parent wppb-column-parent-view wppb-col-1622135934819  \"><div class=\"wppb-column\"><div class=\"wppb-builder-addons\"><div class=\"wppb-builder-addon wppb-addon-1622136444221\" data-addon-id=\"1622136444221\"><div class=\"wppb-addon\"><div class=\"wppb-addon wppb-button-addon\"><div class=\"wppb-button-addon-content\"><a href=\"https://masterprograming.com/python-pandas-tutorial-in-hindi/\" target=\"_self\" class=\"wppb-btn-addons  wppb-btn-primary wppb-btn-rounded wppb-btn-large wppb-btn-no\">Pandas</a></div></div></div></div></div></div></div><div class=\"wppb-column-parent wppb-column-parent-view wppb-col-1622135934818  \"><div class=\"wppb-column\"><div class=\"wppb-builder-addons\"><div class=\"wppb-builder-addon wppb-addon-1622136478603\" data-addon-id=\"1622136478603\"><div class=\"wppb-addon\"><div class=\"wppb-addon wppb-button-addon\"><div class=\"wppb-button-addon-content\"><a href=\"https://masterprograming.com/django-tutorial-in-hindi/\" target=\"_self\" class=\"wppb-btn-addons  wppb-btn-danger wppb-btn-rounded wppb-btn-large wppb-btn-no\">Django</a></div></div></div></div></div></div></div><div class=\"wppb-column-parent wppb-column-parent-view wppb-col-1622135934817  \"><div class=\"wppb-column\"><div class=\"wppb-builder-addons\"><div class=\"wppb-builder-addon wppb-addon-1622136504575\" data-addon-id=\"1622136504575\"><div class=\"wppb-addon\"><div class=\"wppb-addon wppb-button-addon\"><div class=\"wppb-button-addon-content\"><a href=\"https://masterprograming.com/python-hacking-tutorial-in-hindi/\" target=\"_self\" class=\"wppb-btn-addons  wppb-btn-info wppb-btn-rounded wppb-btn-large wppb-btn-no\">Hacking</a></div></div></div></div></div></div></div><div class=\"wppb-column-parent wppb-column-parent-view wppb-col-1622135934814  \"><div class=\"wppb-column\"><div class=\"wppb-builder-addons\"><div class=\"wppb-builder-addon wppb-addon-1622136539697\" data-addon-id=\"1622136539697\"><div class=\"wppb-addon\"><div class=\"wppb-addon wppb-button-addon\"><div class=\"wppb-button-addon-content\"><a href=\"https://masterprograming.com/python-selenium-in-hindi-selenium-tutorial-in-hindi/\" target=\"_self\" class=\"wppb-btn-addons  wppb-btn-success wppb-btn-rounded wppb-btn-large wppb-btn-no\">Selenium</a></div></div></div></div></div></div></div><div class=\"wppb-column-parent wppb-column-parent-view wppb-col-1622135934815  \"><div class=\"wppb-column\"><div class=\"wppb-builder-addons\"><div class=\"wppb-builder-addon wppb-addon-1622136561951\" data-addon-id=\"1622136561951\"><div class=\"wppb-addon\"><div class=\"wppb-addon wppb-button-addon\"><div class=\"wppb-button-addon-content\"><a href=\"https://masterprograming.com/python-tkinter-tutorial-in-hindi/\" target=\"_self\" class=\"wppb-btn-addons  wppb-btn-light wppb-btn-rounded wppb-btn-large wppb-btn-no\">Tkinter</a></div></div></div></div></div></div></div></div></div></div><div class=\"wppb-row-parent  wppb-row-1622225137184 \"><div class=\"wppb-container \"><div class=\"wppb-row\"><div class=\"wppb-column-parent wppb-column-parent-view wppb-col-1622225137185  \"><div class=\"wppb-column\"><div class=\"wppb-builder-addons\"><div class=\"wppb-builder-addon wppb-addon-1622225137186\" data-addon-id=\"1622225137186\"><div class=\"wppb-addon\"><div class=\"wppb-headline-addon\"><div class=\"wppb-headline-content\"><h2 class=\"wppb-addon-title\">Programming Blog</h2></div></div></div></div><div class=\"wppb-builder-addon wppb-addon-1622225137188\" data-addon-id=\"1622225137188\"><div class=\"wppb-addon\"><div class=\"wppb-addon wppb-button-addon\"><div class=\"wppb-button-addon-content\"><a href=\"https://masterprograming.com/category/programming-blog/\" target=\"_self\" class=\"wppb-btn-addons  wppb-btn-custom wppb-btn-round wppb-btn-large\">Blog Posts</a></div></div></div></div></div></div></div></div></div></div></div></div></article></main></div></div></div></div></div><footer id=\"colophon\" class=\"site-footer\" role=\"contentinfo\"><div class=\"bottom-footer np-clearfix\"><div class=\"mt-container\"><div class=\"site-info\"> <span class=\"np-copyright-text\"> MasterPrograming </span> <span class=\"sep\"> | </span> Theme: News Portal by <a href=\"https://mysterythemes.com/\" rel=\"designer\" target=\"_blank\">Mystery Themes</a>.</div><nav id=\"footer-navigation\" class=\"footer-navigation\" role=\"navigation\"><div class=\"menu-amp-menu-container\"><ul id=\"footer-menu\" class=\"menu\"><li id=\"menu-item-9400\" class=\"menu-item menu-item-type-post_type menu-item-object-page menu-item-9400\"><a href=\"https://masterprograming.com/c-language/\">C Language</a></li><li id=\"menu-item-9409\" class=\"menu-item menu-item-type-post_type menu-item-object-page menu-item-9409\"><a href=\"https://masterprograming.com/c-plus-plus/\">C++</a></li><li id=\"menu-item-9407\" class=\"menu-item menu-item-type-post_type menu-item-object-page menu-item-9407\"><a href=\"https://masterprograming.com/python/\">Python</a></li><li id=\"menu-item-9406\" class=\"menu-item menu-item-type-post_type menu-item-object-page menu-item-9406\"><a href=\"https://masterprograming.com/php/\">PHP</a></li><li id=\"menu-item-9404\" class=\"menu-item menu-item-type-post_type menu-item-object-page menu-item-9404\"><a href=\"https://masterprograming.com/java/\">Java</a></li><li id=\"menu-item-9401\" class=\"menu-item menu-item-type-post_type menu-item-object-page menu-item-9401\"><a href=\"https://masterprograming.com/css/\">CSS</a></li><li id=\"menu-item-9403\" class=\"menu-item menu-item-type-post_type menu-item-object-page menu-item-9403\"><a href=\"https://masterprograming.com/html-in-hindi/\">HTML</a></li><li id=\"menu-item-9405\" class=\"menu-item menu-item-type-post_type menu-item-object-page menu-item-9405\"><a href=\"https://masterprograming.com/javascript/\">JavaScript</a></li><li id=\"menu-item-9402\" class=\"menu-item menu-item-type-post_type menu-item-object-page menu-item-9402\"><a href=\"https://masterprograming.com/data-science/\">Data Science</a></li><li id=\"menu-item-9415\" class=\"menu-item menu-item-type-taxonomy menu-item-object-category menu-item-9415\"><a href=\"https://masterprograming.com/category/typescript/\">TypeScript</a></li><li id=\"menu-item-9411\" class=\"menu-item menu-item-type-taxonomy menu-item-object-category menu-item-9411\"><a href=\"https://masterprograming.com/category/data-structure/\">Data Structure</a></li><li id=\"menu-item-9410\" class=\"menu-item menu-item-type-taxonomy menu-item-object-category menu-item-9410\"><a href=\"https://masterprograming.com/category/programming-blog/\">Programming Blog</a></li><li id=\"menu-item-9414\" class=\"menu-item menu-item-type-taxonomy menu-item-object-category menu-item-9414\"><a href=\"https://masterprograming.com/category/paid-projects/\">Paid Projects</a></li></ul></div></nav></div></div> </footer><div id=\"np-scrollup\" class=\"animated arrow-hide\"><i class=\"fa fa-chevron-up\"></i></div></div> <noscript><style>.lazyload{display:none;}</style></noscript><script data-noptimize=\"1\" type=\"text/javascript\">window.lazySizesConfig=window.lazySizesConfig||{};window.lazySizesConfig.loadMode=1;</script><script async=\"\" data-noptimize=\"1\" src=\"https://masterprograming.com/wp-content/plugins/autoptimize/classes/external/js/lazysizes.min.js\" type=\"text/javascript\"></script> <script type=\"text/javascript\" src=\"https://masterprograming.com/wp-includes/js/dist/vendor/regenerator-runtime.min.js\" id=\"regenerator-runtime-js\"></script> <script type=\"text/javascript\" src=\"https://masterprograming.com/wp-includes/js/dist/vendor/wp-polyfill.min.js\" id=\"wp-polyfill-js\"></script> <script async=\"async\" type=\"text/javascript\" src=\"https://cdn.onesignal.com/sdks/OneSignalSDK.js\" id=\"remote_sdk-js\"></script> <script src=\"https://stats.wp.com/e-202231.js\" defer=\"\" type=\"text/javascript\"></script> <script type=\"text/javascript\">_stq = window._stq || [];\\n\\t_stq.push([ \\'view\\', {v:\\'ext\\',j:\\'1:11.2\\',blog:\\'181747150\\',post:\\'3547\\',tz:\\'5.5\\',srv:\\'masterprograming.com\\'} ]);\\n\\t_stq.push([ \\'clickTrackerInit\\', \\'181747150\\', \\'3547\\' ]);</script> <script defer=\"\" src=\"https://masterprograming.com/wp-content/cache/autoptimize/js/autoptimize_f90ce87cc4c16a234b3d5e645dc013dc.js\" type=\"text/javascript\"></script><script defer=\"\" src=\"https://static.cloudflareinsights.com/beacon.min.js/v652eace1692a40cfa3763df669d7439c1639079717194\" integrity=\"sha512-Gi7xpJR8tSkrpF7aordPZQlW2DLtzUlZcumS8dMQjwDHEnw9I7ZLyiOj/6tZStRBGtGgN6ceN6cMH8z7etPGlw==\" data-cf-beacon=\"{&quot;rayId&quot;:&quot;735fb45a4fada3e9&quot;,&quot;version&quot;:&quot;2022.6.0&quot;,&quot;r&quot;:1,&quot;token&quot;:&quot;da5bd21bee1b4aa5b622cc2c30a19b5b&quot;,&quot;si&quot;:100}\" crossorigin=\"anonymous\"></script>\\n\\n<img src=\"https://pixel.wp.com/g.gif?v=ext&amp;j=1%3A11.2&amp;blog=181747150&amp;post=3547&amp;tz=5.5&amp;srv=masterprograming.com&amp;host=masterprograming.com&amp;ref=&amp;fcp=1255&amp;rand=0.4450122473581988\" alt=\"\" width=\"6\" height=\"5\" id=\"wpstats\"><div id=\"onesignal-bell-container\" class=\"onesignal-bell-container onesignal-reset onesignal-bell-container-bottom-right\"><div id=\"onesignal-bell-launcher\" class=\"onesignal-bell-launcher onesignal-bell-launcher-md onesignal-bell-launcher-bottom-right onesignal-bell-launcher-theme-default onesignal-bell-launcher-active\"><div class=\"onesignal-bell-launcher-button\"><svg class=\"onesignal-bell-svg\" xmlns=\"http://www.w3.org/2000/svg\" width=\"99.7\" height=\"99.7\" viewBox=\"0 0 99.7 99.7\" style=\"filter: drop-shadow(0 2px 4px rgba(34,36,38,0.35));; -webkit-filter: drop-shadow(0 2px 4px rgba(34,36,38,0.35));;\"><circle class=\"background\" cx=\"49.9\" cy=\"49.9\" r=\"49.9\" style=\"\"></circle><path class=\"foreground\" d=\"M50.1 66.2H27.7s-2-.2-2-2.1c0-1.9 1.7-2 1.7-2s6.7-3.2 6.7-5.5S33 52.7 33 43.3s6-16.6 13.2-16.6c0 0 1-2.4 3.9-2.4 2.8 0 3.8 2.4 3.8 2.4 7.2 0 13.2 7.2 13.2 16.6s-1 11-1 13.3c0 2.3 6.7 5.5 6.7 5.5s1.7.1 1.7 2c0 1.8-2.1 2.1-2.1 2.1H50.1zm-7.2 2.3h14.5s-1 6.3-7.2 6.3-7.3-6.3-7.3-6.3z\" style=\"\"></path><ellipse class=\"stroke\" cx=\"49.9\" cy=\"49.9\" rx=\"37.4\" ry=\"36.9\" style=\"\"></ellipse></svg></div><div class=\"onesignal-bell-launcher-badge\" style=\"filter: drop-shadow(0 2px 4px rgba(34,36,38,0));; -webkit-filter: drop-shadow(0 2px 4px rgba(34,36,38,0));;\"></div><div class=\"onesignal-bell-launcher-message\"><div class=\"onesignal-bell-launcher-message-body\"></div></div><div class=\"onesignal-bell-launcher-dialog\" style=\"filter: drop-shadow(0px 2px 2px rgba(34,36,38,.15));; -webkit-filter: drop-shadow(0px 2px 2px rgba(34,36,38,.15));;\"><div class=\"onesignal-bell-launcher-dialog-body\"></div></div></div></div></body><iframe id=\"google_esf\" name=\"google_esf\" src=\"https://googleads.g.doubleclick.net/pagead/html/r20220803/r20190131/zrt_lookup.html\" style=\"display: none;\"></iframe></html>'"
      ]
     },
     "execution_count": 59,
     "metadata": {},
     "output_type": "execute_result"
    }
   ],
   "source": [
    "# Gets the source of the current page.\n",
    "driver.page_source"
   ]
  },
  {
   "cell_type": "markdown",
   "metadata": {},
   "source": [
    "## Navigational Command"
   ]
  },
  {
   "cell_type": "code",
   "execution_count": 20,
   "metadata": {},
   "outputs": [],
   "source": [
    "driver.back()"
   ]
  },
  {
   "cell_type": "code",
   "execution_count": 21,
   "metadata": {},
   "outputs": [],
   "source": [
    "driver.forward()"
   ]
  },
  {
   "cell_type": "markdown",
   "metadata": {},
   "source": [
    "## Conditional Command"
   ]
  },
  {
   "cell_type": "code",
   "execution_count": 24,
   "metadata": {},
   "outputs": [
    {
     "name": "stdout",
     "output_type": "stream",
     "text": [
      "False\n",
      "True\n"
     ]
    }
   ],
   "source": [
    "driver.get(\"https://masterprograming.com/contact-us/\")\n",
    "time.sleep(5)\n",
    "\n",
    "# <input type=\"search\" class=\"search-field\" placeholder=\"Search …\" value=\"\" name=\"s\">\n",
    "\n",
    "# .find_element_by_name\n",
    "var = driver.find_element_by_name(\"s\")\n",
    "\n",
    "# .is_displayed()\n",
    "print(var.is_displayed())\n",
    "\n",
    "# .is_enabled()\n",
    "print(var.is_enabled())"
   ]
  },
  {
   "cell_type": "code",
   "execution_count": 26,
   "metadata": {},
   "outputs": [
    {
     "name": "stdout",
     "output_type": "stream",
     "text": [
      "False\n",
      "False\n"
     ]
    }
   ],
   "source": [
    "# https://www.w3schools.com/html/html_form_input_types.asp\n",
    "driver.get(\"https://www.w3schools.com/html/html_form_input_types.asp\")\n",
    "time.sleep(1)\n",
    "\n",
    "# <input type=\"radio\" id=\"css\" name=\"fav_language\" value=\"CSS\">\n",
    "\n",
    "# .find_element_by_id\n",
    "var = driver.find_element_by_id(\"css\")\n",
    "\n",
    "# .is_selected()\n",
    "print(var.is_selected())\n",
    "\n",
    "# .find_element_by_name\n",
    "var1 = driver.find_element_by_name(\"fav_language\")\n",
    "\n",
    "# .is_selected()\n",
    "print(var1.is_selected())\n"
   ]
  },
  {
   "cell_type": "markdown",
   "metadata": {},
   "source": [
    "## Implicit And Explicit wait"
   ]
  },
  {
   "cell_type": "code",
   "execution_count": 12,
   "metadata": {},
   "outputs": [
    {
     "name": "stdout",
     "output_type": "stream",
     "text": [
      "Jab Website Ka Navigation Load Ho Gaya To Me Exit Ho Gaya Hu.... hahaha \n"
     ]
    }
   ],
   "source": [
    "# https://masterprograming.com/webdriver-implicit-and-explicit-wait-in-hindi/\n",
    "\n",
    "from selenium import webdriver\n",
    "from selenium.webdriver.common.by import By\n",
    "from selenium.webdriver.support.ui import WebDriverWait\n",
    "from selenium.webdriver.support import expected_conditions as EC\n",
    "\n",
    "driver = webdriver.Chrome(executable_path=\"D:\\chromedriver\\chromedriver.exe\")\n",
    "\n",
    "driver.get(\"https://masterprograming.com/\")\n",
    "\n",
    "try:\n",
    "    element = WebDriverWait(driver, 10).until(\n",
    "        EC.presence_of_element_located((By.ID, \"site-navigation\"))\n",
    "    )\n",
    "    print(\"Jab Website Ka Navigation Load Ho Gaya To Me Exit Ho Gaya Hu.... hahaha \")\n",
    "finally:\n",
    "    driver.quit()"
   ]
  },
  {
   "cell_type": "code",
   "execution_count": 14,
   "metadata": {},
   "outputs": [
    {
     "name": "stdout",
     "output_type": "stream",
     "text": [
      "Bhai Sab Kuch Sahi Hai....\n"
     ]
    }
   ],
   "source": [
    "from selenium import webdriver\n",
    "\n",
    "driver = webdriver.Chrome(executable_path=\"D:\\chromedriver\\chromedriver.exe\")\n",
    "driver.implicitly_wait(10) # seconds\n",
    "driver.get(\"https://masterprograming.com/\")\n",
    "myDynamicElement = driver.find_element_by_id(\"site-navigation\")\n",
    "print(\"Bhai Sab Kuch Sahi Hai....\")\n",
    "\n",
    "driver.quit()"
   ]
  },
  {
   "cell_type": "markdown",
   "metadata": {},
   "source": [
    "## Input Box And Text Box"
   ]
  },
  {
   "cell_type": "code",
   "execution_count": 2,
   "metadata": {},
   "outputs": [
    {
     "name": "stdout",
     "output_type": "stream",
     "text": [
      "Done\n"
     ]
    }
   ],
   "source": [
    "from selenium import webdriver\n",
    "import time\n",
    "\n",
    "# from selenium.webdriver.common.by import By\n",
    "# from selenium.webdriver.support.ui import WebDriverWait\n",
    "# from selenium.webdriver.support import expected_conditions as EC\n",
    "\n",
    "chrome_options = webdriver.ChromeOptions()\n",
    "chrome_options.add_experimental_option('useAutomationExtension', False)\n",
    "driver = webdriver.Chrome(executable_path=\"D:\\chromedriver\\chromedriver.exe\", options=chrome_options)\n",
    "\n",
    "# driver = webdriver.Chrome(executable_path=\"D:\\chromedriver\\chromedriver.exe\")\n",
    "\n",
    "driver.get(\"https://www.careeraddition.com/contact/\")\n",
    "\n",
    "driver.maximize_window()\n",
    "\n",
    "# <input type=\"text\" name=\"name\" placeholder=\"Your Name*\" required=\"\">\n",
    "name_input_box = driver.find_element_by_name(\"name\")\n",
    "name_input_box.send_keys(\"Hello1\")\n",
    "\n",
    "# <input type=\"email\" name=\"email\" placeholder=\"Email*\" required=\"\">\n",
    "email_input_box = driver.find_element_by_name(\"email\")\n",
    "email_input_box.send_keys(\"Hello1@gmail.com\")\n",
    "\n",
    "# <textarea name=\"message\" placeholder=\"Message*\"></textarea>\n",
    "message_input_box = driver.find_element_by_name(\"message\")\n",
    "message_input_box.send_keys(\"Hello1@gmail.com is testing ...\")\n",
    "\n",
    "# <button type=\"submit\" class=\"btn btn-primary btn-style mt-3\">Submit</button>\n",
    "# <button type=\"submit\" class=\"btn btn-primary btn-style mt-3\">Submit</button>\n",
    "submit_button = driver.find_element_by_tag_name(\"button\")\n",
    "# submit_button.click()\n",
    "\n",
    "# from selenium.webdriver.common.action_chains import ActionChains\n",
    "# driver.implicitly_wait(10)\n",
    "# ActionChains(driver).move_to_element(submit_button).click(submit_button).perform()\n",
    "\n",
    "# submit_button = WebDriverWait(driver, 10).until(\n",
    "#     EC.element_to_be_clickable((By.CSS_SELECTOR, 'button.btn'))\n",
    "# )\n",
    "# submit_button.click()\n",
    "\n",
    "driver.execute_script(\"arguments[0].scrollIntoView();\", submit_button)\n",
    "driver.execute_script(\"arguments[0].click();\", submit_button)\n",
    "\n",
    "time.sleep(10)\n",
    "\n",
    "print(\"Done\")\n",
    "\n",
    "# driver.quit()"
   ]
  },
  {
   "cell_type": "code",
   "execution_count": 36,
   "metadata": {},
   "outputs": [
    {
     "name": "stdout",
     "output_type": "stream",
     "text": [
      "Submit\n",
      "<selenium.webdriver.remote.webelement.WebElement (session=\"c686dd0c99bb1d3cf5887ad1f3b7e856\", element=\"22689901-56af-4897-8ca3-464ab250f3a7\")>\n"
     ]
    }
   ],
   "source": [
    "from selenium import webdriver\n",
    "import time\n",
    "\n",
    "driver = webdriver.Chrome(executable_path=\"D:\\chromedriver\\chromedriver.exe\")\n",
    "\n",
    "driver.get(\"https://www.careeraddition.com/contact/\")\n",
    "\n",
    "# <input type=\"text\" name=\"name\" placeholder=\"Your Name*\" required=\"\">\n",
    "name_input_box = driver.find_element_by_name(\"name\")\n",
    "name_input_box.send_keys(\"Hello1\")\n",
    "\n",
    "# <input type=\"email\" name=\"email\" placeholder=\"Email*\" required=\"\">\n",
    "email_input_box = driver.find_element_by_name(\"email\")\n",
    "email_input_box.send_keys(\"Hello1@gmail.com\")\n",
    "\n",
    "# <textarea name=\"message\" placeholder=\"Message*\"></textarea>\n",
    "message_input_box = driver.find_element_by_name(\"message\")\n",
    "message_input_box.send_keys(\"Hello1@gmail.com is testing ...\")\n",
    "\n",
    "# <button type=\"submit\" class=\"btn btn-primary btn-style mt-3\">Submit</button>\n",
    "# submit_button = driver.find_elements_by_tag_name(\"button\")\n",
    "# submit_button = driver.find_element_by_css_selector(\".btn.btn-primary.btn-style.mt-3\")\n",
    "# submit_button = driver.find_element_by_css_selector(\"button.btn\")\n",
    "# submit_button = driver.find_element_by_xpath('//*[@id=\"contact\"]/div/div/div/div/div[1]/div/form/button')\n",
    "# submit_button = driver.find_element_by_xpath('/html/body/section[2]/div/div/div/div/div[1]/div/form/button')\n",
    "# submit_button = driver.find_element_by_css_selector(\"button[name='filePath'][type='submit']\")\n",
    "submit_button = driver.find_element_by_css_selector(\"button[type='submit']\")\n",
    "# submit_button = driver.find_element_by_partial_link_text(\"submit\")\n",
    "\n",
    "print(submit_button.text)\n",
    "# submit_button.click()\n",
    "\n",
    "# from selenium.webdriver import ActionChains\n",
    "# ActionChains(driver).click(submit_button).perform()\n",
    "\n",
    "from selenium.webdriver.common.keys import Keys #need to send keystrokes\n",
    "\n",
    "# submit_button = self.driver.find_element_by_name('checkout')\n",
    "\n",
    "submit_button.send_keys(\"\\n\") #send enter for links, buttons\n",
    "\n",
    "\n",
    "print(submit_button) \n",
    "# print(len(submit_button))\n",
    "# 12\n",
    "\n",
    "# for btn in range(len(submit_button)):\n",
    "#     try:\n",
    "#         print(submit_button[btn].text())\n",
    "#         print(btn)\n",
    "#     except:\n",
    "#         pass\n",
    "        \n",
    "\n",
    "\n",
    "time.sleep(10)\n",
    "\n",
    "print(\"Done\")\n",
    "\n",
    "driver.quit()"
   ]
  },
  {
   "cell_type": "markdown",
   "metadata": {},
   "source": [
    "# Solution\n",
    "\n",
    "### https://stackoverflow.com/questions/37879010/selenium-debugging-element-is-not-clickable-at-point-x-y"
   ]
  },
  {
   "cell_type": "code",
   "execution_count": 44,
   "metadata": {},
   "outputs": [
    {
     "name": "stdout",
     "output_type": "stream",
     "text": [
      "Submit\n",
      "Done\n"
     ]
    }
   ],
   "source": [
    "from selenium import webdriver\n",
    "from selenium.webdriver.common.keys import Keys #need to send keystrokes\n",
    "import time\n",
    "\n",
    "driver = webdriver.Chrome(executable_path=\"D:\\chromedriver\\chromedriver.exe\")\n",
    "\n",
    "driver.get(\"https://www.careeraddition.com/contact/\")\n",
    "\n",
    "# <input type=\"text\" name=\"name\" placeholder=\"Your Name*\" required=\"\">\n",
    "name_input_box = driver.find_element_by_name(\"name\")\n",
    "name_input_box.send_keys(\"Hello1\")\n",
    "\n",
    "# <input type=\"email\" name=\"email\" placeholder=\"Email*\" required=\"\">\n",
    "email_input_box = driver.find_element_by_name(\"email\")\n",
    "email_input_box.send_keys(\"Hello1@gmail.com\")\n",
    "\n",
    "# <textarea name=\"message\" placeholder=\"Message*\"></textarea>\n",
    "message_input_box = driver.find_element_by_name(\"message\")\n",
    "message_input_box.send_keys(\"Hello1@gmail.com is testing ...\")\n",
    "\n",
    "# all working\n",
    "# <button type=\"submit\" class=\"btn btn-primary btn-style mt-3\">Submit</button>\n",
    "# submit_button = driver.find_element_by_css_selector(\".btn.btn-primary.btn-style.mt-3\")\n",
    "# submit_button = driver.find_element_by_css_selector(\"button.btn\")\n",
    "submit_button = driver.find_element_by_xpath('//*[@id=\"contact\"]/div/div/div/div/div[1]/div/form/button')\n",
    "# submit_button = driver.find_element_by_xpath('/html/body/section[2]/div/div/div/div/div[1]/div/form/button')\n",
    "# submit_button = driver.find_element_by_css_selector(\"button[type='submit']\")\n",
    "\n",
    "print(submit_button.text)\n",
    "\n",
    "submit_button.send_keys(\"\\n\") #send enter for links, buttons\n",
    "# or \n",
    "# submit_button.send_keys(Keys.SPACE) #for checkbox etc\n",
    "\n",
    "time.sleep(5)\n",
    "\n",
    "print(\"Done\")\n",
    "\n",
    "driver.quit()"
   ]
  },
  {
   "cell_type": "markdown",
   "metadata": {},
   "source": [
    "## Radio Button And Check Box "
   ]
  },
  {
   "cell_type": "markdown",
   "metadata": {},
   "source": [
    "### https://fs2.formsite.com/meherpavan/form2/index.html?1537702596407"
   ]
  },
  {
   "cell_type": "code",
   "execution_count": 7,
   "metadata": {},
   "outputs": [
    {
     "name": "stdout",
     "output_type": "stream",
     "text": [
      "Done\n"
     ]
    }
   ],
   "source": [
    "from selenium import webdriver\n",
    "from selenium.webdriver.common.keys import Keys #need to send keystrokes\n",
    "import time\n",
    "\n",
    "driver = webdriver.Chrome(executable_path=\"D:\\chromedriver\\chromedriver.exe\")\n",
    "\n",
    "driver.get(\"https://fs2.formsite.com/meherpavan/form2/index.html?1537702596407\")\n",
    "\n",
    "# <input type=\"radio\" name=\"RESULT_RadioButton-7\" class=\"multiple_choice\" id=\"RESULT_RadioButton-7_0\" value=\"Radio-0\">\n",
    "male_radio_button = driver.find_element_by_id(\"RESULT_RadioButton-7_0\") # find element by id\n",
    "\n",
    "# male_radio_button.click() # Not work every time\n",
    "male_radio_button.send_keys(Keys.SPACE) \n",
    "\n",
    "# wait for 2 sec.\n",
    "time.sleep(2)\n",
    "\n",
    "# <input type=\"radio\" name=\"RESULT_RadioButton-7\" class=\"multiple_choice\" id=\"RESULT_RadioButton-7_1\" value=\"Radio-1\">\n",
    "female_radio_button = driver.find_element_by_id(\"RESULT_RadioButton-7_1\") # find element by id\n",
    "\n",
    "# female_radio_button.click() # Not work every time\n",
    "female_radio_button.send_keys(Keys.SPACE) \n",
    "\n",
    "\n",
    "\n",
    "time.sleep(5)\n",
    "\n",
    "print(\"Done\")\n",
    "\n",
    "driver.quit()"
   ]
  },
  {
   "cell_type": "code",
   "execution_count": null,
   "metadata": {},
   "outputs": [],
   "source": []
  }
 ],
 "metadata": {
  "kernelspec": {
   "display_name": "Python 3",
   "language": "python",
   "name": "python3"
  },
  "language_info": {
   "codemirror_mode": {
    "name": "ipython",
    "version": 3
   },
   "file_extension": ".py",
   "mimetype": "text/x-python",
   "name": "python",
   "nbconvert_exporter": "python",
   "pygments_lexer": "ipython3",
   "version": "3.6.7"
  }
 },
 "nbformat": 4,
 "nbformat_minor": 5
}
