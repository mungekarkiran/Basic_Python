{
 "cells": [
  {
   "cell_type": "markdown",
   "id": "2ebf7df2",
   "metadata": {},
   "source": [
    "# Dictionaries\n",
    "\n",
    "1. Introduction to Dictionaries\n",
    "2. Creating Dictionaries\n",
    "3. Accessing Dictionary Elements\n",
    "4. Modifying Dictionary Elements\n",
    "5. Dictionary Methods\n",
    "6. Iterating Over Dictionaries\n",
    "7. Nested Dictionaries\n",
    "8. Dictionary Comprehensions\n",
    "9. Practical Examples and Common Errors\n",
    "\n",
    "### Introduction to Dictionaries\n",
    "\n",
    "Dictionaries are unordered collections of items. They store data in key-value pairs. Keys must be unique and immutable (e.g., strings, numbers, or tuples), while values can be of any type."
   ]
  },
  {
   "cell_type": "code",
   "execution_count": 2,
   "id": "a4df82d5",
   "metadata": {},
   "outputs": [
    {
     "name": "stdout",
     "output_type": "stream",
     "text": [
      "{}\n",
      "<class 'dict'>\n"
     ]
    }
   ],
   "source": [
    "## Creating Dictionaries\n",
    "empty_dict={}\n",
    "print(empty_dict)\n",
    "print(type(empty_dict))"
   ]
  },
  {
   "cell_type": "code",
   "execution_count": 3,
   "id": "eee63762",
   "metadata": {},
   "outputs": [
    {
     "data": {
      "text/plain": [
       "{}"
      ]
     },
     "execution_count": 3,
     "metadata": {},
     "output_type": "execute_result"
    }
   ],
   "source": [
    "empty_dict=dict()\n",
    "empty_dict"
   ]
  },
  {
   "cell_type": "code",
   "execution_count": 4,
   "id": "2f7b3629",
   "metadata": {},
   "outputs": [
    {
     "name": "stdout",
     "output_type": "stream",
     "text": [
      "{'name': 'Kamal', 'age': 32, 'grade': 24}\n",
      "<class 'dict'>\n"
     ]
    }
   ],
   "source": [
    "student={\"name\":\"Kamal\",\"age\":32,\"grade\":24}\n",
    "print(student)\n",
    "print(type(student))"
   ]
  },
  {
   "cell_type": "code",
   "execution_count": 6,
   "id": "61d8762e",
   "metadata": {},
   "outputs": [
    {
     "name": "stdout",
     "output_type": "stream",
     "text": [
      "{'name': 24, 'age': 32}\n"
     ]
    }
   ],
   "source": [
    "# Single key is slways used\n",
    "student={\"name\":\"Kamal\",\"age\":32,\"name\":24}\n",
    "print(student)"
   ]
  },
  {
   "cell_type": "code",
   "execution_count": 8,
   "id": "00df0cd7",
   "metadata": {},
   "outputs": [
    {
     "name": "stdout",
     "output_type": "stream",
     "text": [
      "{'name': 'Kamal', 'age': 32, 'grade': 'A'}\n"
     ]
    }
   ],
   "source": [
    "## accessing Dictionary Elements\n",
    "student={\"name\":\"Kamal\",\"age\":32,\"grade\":'A'}\n",
    "print(student)"
   ]
  },
  {
   "cell_type": "code",
   "execution_count": 10,
   "id": "82c5ff72",
   "metadata": {},
   "outputs": [
    {
     "name": "stdout",
     "output_type": "stream",
     "text": [
      "A\n",
      "32\n"
     ]
    }
   ],
   "source": [
    "## Accessing Dictionary elements\n",
    "print(student['grade'])\n",
    "print(student['age'])"
   ]
  },
  {
   "cell_type": "code",
   "execution_count": 11,
   "id": "d4356a28",
   "metadata": {},
   "outputs": [
    {
     "name": "stdout",
     "output_type": "stream",
     "text": [
      "A\n",
      "None\n",
      "Not Available\n"
     ]
    }
   ],
   "source": [
    "## Accessing using get() method\n",
    "print(student.get('grade'))\n",
    "print(student.get('last_name'))\n",
    "print(student.get('last_name',\"Not Available\"))\n"
   ]
  },
  {
   "cell_type": "code",
   "execution_count": 12,
   "id": "3fdb652f",
   "metadata": {},
   "outputs": [
    {
     "name": "stdout",
     "output_type": "stream",
     "text": [
      "{'name': 'Kamal', 'age': 32, 'grade': 'A'}\n"
     ]
    }
   ],
   "source": [
    "## Modifying Dicitonary Elements\n",
    "## Dictionary are mutable, so you can add, update or delete elements\n",
    "print(student)"
   ]
  },
  {
   "cell_type": "code",
   "execution_count": 13,
   "id": "2e7c65f9",
   "metadata": {},
   "outputs": [
    {
     "name": "stdout",
     "output_type": "stream",
     "text": [
      "{'name': 'Kamal', 'age': 33, 'grade': 'A'}\n",
      "{'name': 'Kamal', 'age': 33, 'grade': 'A', 'address': 'India'}\n"
     ]
    }
   ],
   "source": [
    "student[\"age\"]=33  ##update value for the key\n",
    "print(student)\n",
    "\n",
    "student[\"address\"]=\"India\" ## added a new key and value\n",
    "print(student)"
   ]
  },
  {
   "cell_type": "code",
   "execution_count": 14,
   "id": "972f4142",
   "metadata": {},
   "outputs": [
    {
     "name": "stdout",
     "output_type": "stream",
     "text": [
      "{'name': 'Kamal', 'age': 33, 'address': 'India'}\n"
     ]
    }
   ],
   "source": [
    "del student['grade'] ## delete key and value pair\n",
    "print(student)"
   ]
  },
  {
   "cell_type": "code",
   "execution_count": 15,
   "id": "bcb8019f",
   "metadata": {},
   "outputs": [
    {
     "name": "stdout",
     "output_type": "stream",
     "text": [
      "dict_keys(['name', 'age', 'address'])\n",
      "dict_values(['Kamal', 33, 'India'])\n",
      "dict_items([('name', 'Kamal'), ('age', 33), ('address', 'India')])\n"
     ]
    }
   ],
   "source": [
    "## Dictionary methods\n",
    "\n",
    "keys=student.keys() ##get all the keys\n",
    "print(keys)\n",
    "\n",
    "values=student.values() ##get all values\n",
    "print(values)\n",
    "\n",
    "items=student.items() ##get all key value pairs\n",
    "print(items)"
   ]
  },
  {
   "cell_type": "code",
   "execution_count": 16,
   "id": "cd3e5e8c",
   "metadata": {},
   "outputs": [
    {
     "name": "stdout",
     "output_type": "stream",
     "text": [
      "{'name': 'Kamal', 'age': 33, 'address': 'India'}\n",
      "{'name': 'Kamal', 'age': 33, 'address': 'India'}\n"
     ]
    }
   ],
   "source": [
    "## shallow copy (shallow copy and deep copy)\n",
    "student_copy=student\n",
    "print(student)\n",
    "print(student_copy)"
   ]
  },
  {
   "cell_type": "code",
   "execution_count": 17,
   "id": "e33ec07a",
   "metadata": {},
   "outputs": [
    {
     "name": "stdout",
     "output_type": "stream",
     "text": [
      "{'name': 'Krish2', 'age': 33, 'address': 'India'}\n",
      "{'name': 'Krish2', 'age': 33, 'address': 'India'}\n"
     ]
    }
   ],
   "source": [
    "student[\"name\"]=\"Krish2\"\n",
    "print(student)\n",
    "print(student_copy)"
   ]
  },
  {
   "cell_type": "code",
   "execution_count": 19,
   "id": "bc4806d5",
   "metadata": {},
   "outputs": [
    {
     "name": "stdout",
     "output_type": "stream",
     "text": [
      "{'name': 'KRish3', 'age': 33, 'address': 'India'}\n",
      "{'name': 'KRish3', 'age': 33, 'address': 'India'}\n"
     ]
    }
   ],
   "source": [
    "student_copy1=student.copy() ## shallow copy\n",
    "print(student_copy1)\n",
    "print(student)"
   ]
  },
  {
   "cell_type": "code",
   "execution_count": null,
   "id": "f5d84d83",
   "metadata": {},
   "outputs": [],
   "source": [
    "student[\"name\"]=\"KRish3\"\n",
    "print(student_copy1)\n",
    "print(student)"
   ]
  }
 ],
 "metadata": {
  "kernelspec": {
   "display_name": "Python 3 (ipykernel)",
   "language": "python",
   "name": "python3"
  },
  "language_info": {
   "codemirror_mode": {
    "name": "ipython",
    "version": 3
   },
   "file_extension": ".py",
   "mimetype": "text/x-python",
   "name": "python",
   "nbconvert_exporter": "python",
   "pygments_lexer": "ipython3",
   "version": "3.10.11"
  }
 },
 "nbformat": 4,
 "nbformat_minor": 5
}
