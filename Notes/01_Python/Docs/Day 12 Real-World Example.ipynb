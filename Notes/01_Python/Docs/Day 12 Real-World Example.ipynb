{
 "cells": [
  {
   "cell_type": "markdown",
   "id": "82246bb3",
   "metadata": {},
   "source": [
    "# RealWorld Examples\n",
    "\n",
    "## Example 1: Manage a TODO List "
   ]
  },
  {
   "cell_type": "code",
   "execution_count": 5,
   "id": "fbea2178",
   "metadata": {},
   "outputs": [
    {
     "name": "stdout",
     "output_type": "stream",
     "text": [
      "Your TODO's are :\n",
      "1: task1\n",
      "2: task2\n",
      "3: task3\n",
      "4: task4\n",
      "=*==*==*==*==*==*==*==*==*==*==*==*==*==*==*==*==*==*==*==*==*==*==*==*==*==*==*==*==*==*=\n",
      "Enter your choice: \n",
      "1. Add new task. \n",
      "2. Remode task. \n",
      "3. Exit. \n",
      "2\n",
      "Your TODO's are :\n",
      "1: task1\n",
      "2: task2\n",
      "3: task3\n",
      "4: task4\n",
      "Enter your task index: 2\n",
      "Task removed.\n",
      "Your TODO's are :\n",
      "1: task1\n",
      "2: task2\n",
      "3: task4\n",
      "=*==*==*==*==*==*==*==*==*==*==*==*==*==*==*==*==*==*==*==*==*==*==*==*==*==*==*==*==*==*=\n",
      "Enter your choice: \n",
      "1. Add new task. \n",
      "2. Remode task. \n",
      "3. Exit. \n",
      "2\n",
      "Your TODO's are :\n",
      "1: task1\n",
      "2: task2\n",
      "3: task4\n",
      "Enter your task index: 1\n",
      "Task removed.\n",
      "Your TODO's are :\n",
      "1: task1\n",
      "2: task4\n",
      "=*==*==*==*==*==*==*==*==*==*==*==*==*==*==*==*==*==*==*==*==*==*==*==*==*==*==*==*==*==*=\n",
      "Enter your choice: \n",
      "1. Add new task. \n",
      "2. Remode task. \n",
      "3. Exit. \n",
      "3\n"
     ]
    }
   ],
   "source": [
    "TODO_list = ['Go for walk.', 'Check mails.', 'Check ETL pipleline.']\n",
    "\n",
    "while True:\n",
    "    \n",
    "    if TODO_list:\n",
    "        print(f\"Your TODO's are :\")\n",
    "        for idx, todo in enumerate(TODO_list):\n",
    "            print(f\"{idx+1}: {todo}\")\n",
    "        print(\"=*=\"*30)    \n",
    "        \n",
    "    choice = int(input(\"Enter your choice: \\n1. Add new task. \\n2. Remode task. \\n3. Exit. \\n\"))\n",
    "    if choice == 1:\n",
    "        task = input(\"Enter your task: \")\n",
    "        if task not in TODO_list:\n",
    "            TODO_list.append()\n",
    "        else:\n",
    "            print(f\"The task '{task}' is already in TODO list.\")\n",
    "            \n",
    "    elif choice == 2:\n",
    "        print(f\"Your TODO's are :\")\n",
    "        for idx, todo in enumerate(TODO_list):\n",
    "            print(f\"{idx+1}: {todo}\")\n",
    "        task_idx = int(input(\"Enter your task index: \"))\n",
    "        TODO_list.remove(TODO_list[task_idx-1])\n",
    "        print(f\"Your task removed.\")\n",
    "        \n",
    "    elif choice == 3:\n",
    "        break\n",
    "        \n",
    "    else:\n",
    "        print(f\"Wrong input. Try again!!!\")\n",
    "        \n",
    "        "
   ]
  },
  {
   "cell_type": "markdown",
   "id": "f3396f0a",
   "metadata": {},
   "source": [
    "## Example 2: Organizing Student Grades"
   ]
  },
  {
   "cell_type": "code",
   "execution_count": null,
   "id": "d9674243",
   "metadata": {},
   "outputs": [],
   "source": []
  },
  {
   "cell_type": "markdown",
   "id": "2e4b0bb4",
   "metadata": {},
   "source": [
    "##  Example 3: Managing an Inventory "
   ]
  },
  {
   "cell_type": "code",
   "execution_count": null,
   "id": "4181651a",
   "metadata": {},
   "outputs": [],
   "source": []
  },
  {
   "cell_type": "markdown",
   "id": "0900d5c9",
   "metadata": {},
   "source": [
    "##  Example 4: Collecting User Feedback"
   ]
  },
  {
   "cell_type": "code",
   "execution_count": null,
   "id": "01005730",
   "metadata": {},
   "outputs": [],
   "source": []
  }
 ],
 "metadata": {
  "kernelspec": {
   "display_name": "Python 3 (ipykernel)",
   "language": "python",
   "name": "python3"
  },
  "language_info": {
   "codemirror_mode": {
    "name": "ipython",
    "version": 3
   },
   "file_extension": ".py",
   "mimetype": "text/x-python",
   "name": "python",
   "nbconvert_exporter": "python",
   "pygments_lexer": "ipython3",
   "version": "3.10.11"
  }
 },
 "nbformat": 4,
 "nbformat_minor": 5
}
