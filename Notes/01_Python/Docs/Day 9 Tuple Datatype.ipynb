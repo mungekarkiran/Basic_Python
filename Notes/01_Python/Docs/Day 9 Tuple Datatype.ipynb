{
 "cells": [
  {
   "cell_type": "markdown",
   "id": "33a7f213",
   "metadata": {},
   "source": [
    "# Tuples\n",
    "\n",
    "1. Introduction to Tuples\n",
    "2. Creating Tuples\n",
    "3. Accessing Tuple Elements\n",
    "4. Tuple Operations\n",
    "5. Immutable Nature of Tuples\n",
    "6. Tuple Methods\n",
    "7. Packing and Unpacking Tuples\n",
    "8. Nested Tuples\n",
    "9. Practical Examples and Common Errors\n",
    "10. Introduction to Tuples\n",
    "\n",
    "### Explanation:\n",
    "\n",
    "Tuples are ordered collections of items that are immutable. They are similar to lists, but their immutability makes them different."
   ]
  },
  {
   "cell_type": "code",
   "execution_count": 1,
   "id": "d1d75e96",
   "metadata": {},
   "outputs": [
    {
     "name": "stdout",
     "output_type": "stream",
     "text": [
      "()\n",
      "<class 'tuple'>\n"
     ]
    }
   ],
   "source": [
    "## creating a tuple\n",
    "empty_tuple=()\n",
    "print(empty_tuple)\n",
    "print(type(empty_tuple))"
   ]
  },
  {
   "cell_type": "code",
   "execution_count": 2,
   "id": "011302dc",
   "metadata": {},
   "outputs": [
    {
     "name": "stdout",
     "output_type": "stream",
     "text": [
      "<class 'list'>\n",
      "<class 'tuple'>\n"
     ]
    }
   ],
   "source": [
    "lst=list()\n",
    "print(type(lst))\n",
    "\n",
    "tpl=tuple()\n",
    "print(type(tpl))"
   ]
  },
  {
   "cell_type": "code",
   "execution_count": 3,
   "id": "0d58f65c",
   "metadata": {},
   "outputs": [
    {
     "data": {
      "text/plain": [
       "(1, 2, 3, 4, 5, 6)"
      ]
     },
     "execution_count": 3,
     "metadata": {},
     "output_type": "execute_result"
    }
   ],
   "source": [
    "numbers=tuple([1,2,3,4,5,6])\n",
    "numbers"
   ]
  },
  {
   "cell_type": "code",
   "execution_count": 4,
   "id": "c79254b6",
   "metadata": {},
   "outputs": [
    {
     "data": {
      "text/plain": [
       "[1, 2, 3, 4, 5, 6]"
      ]
     },
     "execution_count": 4,
     "metadata": {},
     "output_type": "execute_result"
    }
   ],
   "source": [
    "list((1,2,3,4,5,6))"
   ]
  },
  {
   "cell_type": "code",
   "execution_count": 5,
   "id": "e7ca0023",
   "metadata": {},
   "outputs": [
    {
     "name": "stdout",
     "output_type": "stream",
     "text": [
      "(1, 'Hello World', 3.14, True)\n"
     ]
    }
   ],
   "source": [
    "mixed_tuple=(1,\"Hello World\",3.14, True)\n",
    "print(mixed_tuple)"
   ]
  },
  {
   "cell_type": "code",
   "execution_count": 7,
   "id": "e96bc9e2",
   "metadata": {},
   "outputs": [
    {
     "name": "stdout",
     "output_type": "stream",
     "text": [
      "(1, 2, 3, 4, 5, 6)\n",
      "3\n",
      "6\n",
      "(1, 2, 3, 4)\n",
      "(6, 5, 4, 3, 2, 1)\n"
     ]
    }
   ],
   "source": [
    "## Accessing Tuple Elements\n",
    "print(numbers)\n",
    "\n",
    "print(numbers[2])\n",
    "print(numbers[-1])\n",
    "\n",
    "print(numbers[0:4])\n",
    "print(numbers[::-1])"
   ]
  },
  {
   "cell_type": "code",
   "execution_count": 8,
   "id": "4a289fe2",
   "metadata": {},
   "outputs": [
    {
     "name": "stdout",
     "output_type": "stream",
     "text": [
      "(1, 2, 3, 4, 5, 6, 1, 'Hello World', 3.14, True)\n"
     ]
    }
   ],
   "source": [
    "## Tuple Operations\n",
    "concatenation_tuple = numbers + mixed_tuple\n",
    "print(concatenation_tuple)"
   ]
  },
  {
   "cell_type": "code",
   "execution_count": 10,
   "id": "b9774451",
   "metadata": {},
   "outputs": [
    {
     "name": "stdout",
     "output_type": "stream",
     "text": [
      "(1, 'Hello World', 3.14, True, 1, 'Hello World', 3.14, True, 1, 'Hello World', 3.14, True)\n",
      "(1, 2, 3, 4, 5, 6, 1, 2, 3, 4, 5, 6, 1, 2, 3, 4, 5, 6)\n"
     ]
    }
   ],
   "source": [
    "print(mixed_tuple * 3)\n",
    "print(numbers *3)"
   ]
  },
  {
   "cell_type": "code",
   "execution_count": 11,
   "id": "a29532a9",
   "metadata": {},
   "outputs": [
    {
     "name": "stdout",
     "output_type": "stream",
     "text": [
      "[1, 2, 3, 4, 5]\n",
      "[1, 'Shashikala', 3, 4, 5]\n"
     ]
    }
   ],
   "source": [
    "## Immutable Nature Of Tuples\n",
    "## Tuples are immutable, meaning their elements cannot be changed once assigned.\n",
    "\n",
    "lst=[1,2,3,4,5]\n",
    "print(lst)\n",
    "\n",
    "lst[1]=\"Shashikala\"\n",
    "print(lst)"
   ]
  },
  {
   "cell_type": "code",
   "execution_count": 12,
   "id": "1fdac7fb",
   "metadata": {},
   "outputs": [
    {
     "ename": "TypeError",
     "evalue": "'tuple' object does not support item assignment",
     "output_type": "error",
     "traceback": [
      "\u001b[1;31m---------------------------------------------------------------------------\u001b[0m",
      "\u001b[1;31mTypeError\u001b[0m                                 Traceback (most recent call last)",
      "Cell \u001b[1;32mIn[12], line 1\u001b[0m\n\u001b[1;32m----> 1\u001b[0m \u001b[43mnumbers\u001b[49m\u001b[43m[\u001b[49m\u001b[38;5;241;43m1\u001b[39;49m\u001b[43m]\u001b[49m\u001b[38;5;241m=\u001b[39m\u001b[38;5;124m\"\u001b[39m\u001b[38;5;124mSundar\u001b[39m\u001b[38;5;124m\"\u001b[39m\n",
      "\u001b[1;31mTypeError\u001b[0m: 'tuple' object does not support item assignment"
     ]
    }
   ],
   "source": [
    "numbers[1]=\"Sundar\""
   ]
  },
  {
   "cell_type": "code",
   "execution_count": 13,
   "id": "469365f7",
   "metadata": {},
   "outputs": [
    {
     "data": {
      "text/plain": [
       "(1, 2, 3, 4, 5, 6)"
      ]
     },
     "execution_count": 13,
     "metadata": {},
     "output_type": "execute_result"
    }
   ],
   "source": [
    "numbers"
   ]
  },
  {
   "cell_type": "code",
   "execution_count": 14,
   "id": "728cef31",
   "metadata": {},
   "outputs": [
    {
     "name": "stdout",
     "output_type": "stream",
     "text": [
      "1\n",
      "2\n"
     ]
    }
   ],
   "source": [
    "## Tuple Methods\n",
    "print(numbers.count(1))\n",
    "print(numbers.index(3))"
   ]
  },
  {
   "cell_type": "code",
   "execution_count": 15,
   "id": "f7fdc5fe",
   "metadata": {},
   "outputs": [
    {
     "name": "stdout",
     "output_type": "stream",
     "text": [
      "(1, 'Hello', 3.14)\n"
     ]
    }
   ],
   "source": [
    "## Packing and Unpacking tuple\n",
    "## packing\n",
    "packed_tuple = 1,\"Hello\",3.14\n",
    "print(packed_tuple)"
   ]
  },
  {
   "cell_type": "code",
   "execution_count": 16,
   "id": "10af98d7",
   "metadata": {},
   "outputs": [
    {
     "name": "stdout",
     "output_type": "stream",
     "text": [
      "1\n",
      "Hello\n",
      "3.14\n"
     ]
    }
   ],
   "source": [
    "##unpacking a tuple\n",
    "a,b,c=packed_tuple\n",
    "print(a)\n",
    "print(b)\n",
    "print(c)"
   ]
  },
  {
   "cell_type": "code",
   "execution_count": 17,
   "id": "fe17c3fe",
   "metadata": {},
   "outputs": [
    {
     "name": "stdout",
     "output_type": "stream",
     "text": [
      "1\n",
      "[2, 3, 4, 5]\n",
      "6\n"
     ]
    }
   ],
   "source": [
    "## Unpacking with *\n",
    "numbers=(1,2,3,4,5,6)\n",
    "first,*middle,last=numbers\n",
    "print(first)\n",
    "print(middle)\n",
    "print(last)"
   ]
  },
  {
   "cell_type": "code",
   "execution_count": 20,
   "id": "8be633de",
   "metadata": {},
   "outputs": [
    {
     "name": "stdout",
     "output_type": "stream",
     "text": [
      "[1, 2, 3]\n",
      "[1, 'Hello', 3.14]\n"
     ]
    }
   ],
   "source": [
    "## Nested List\n",
    "lst=[[1,2,3,4],[6,7,8,9],[1,\"Hello\",3.14,\"c\"]]\n",
    "\n",
    "print(lst[0][0:3])\n",
    "print(lst[2][0:3])"
   ]
  },
  {
   "cell_type": "code",
   "execution_count": 21,
   "id": "6255ed9f",
   "metadata": {},
   "outputs": [
    {
     "name": "stdout",
     "output_type": "stream",
     "text": [
      "(1, 2, 3)\n",
      "c\n"
     ]
    }
   ],
   "source": [
    "## Nested Tuple\n",
    "nested_tuple = ((1, 2, 3), (\"a\", \"b\", \"c\"), (True, False))\n",
    "\n",
    "## access the elements inside a tuple\n",
    "print(nested_tuple[0])\n",
    "print(nested_tuple[1][2])"
   ]
  },
  {
   "cell_type": "code",
   "execution_count": 22,
   "id": "2dd25678",
   "metadata": {},
   "outputs": [
    {
     "name": "stdout",
     "output_type": "stream",
     "text": [
      "1 2 3 \n",
      "a b c \n",
      "True False \n"
     ]
    }
   ],
   "source": [
    "## iterating over nested tuples\n",
    "for sub_tuple in nested_tuple:\n",
    "    for item in sub_tuple:\n",
    "        print(item,end=\" \")\n",
    "    print()"
   ]
  },
  {
   "cell_type": "markdown",
   "id": "d7ec65f3",
   "metadata": {},
   "source": [
    "### Conclusion\n",
    "Tuples are versatile and useful in many real-world scenarios where an immutable and ordered collection of items is required. They are commonly used in data structures, function arguments and return values, and as dictionary keys. Understanding how to leverage tuples effectively can improve the efficiency and readability of your Python code."
   ]
  },
  {
   "cell_type": "markdown",
   "id": "4520fa1c",
   "metadata": {},
   "source": [
    "# Tuple Assignment And Practise Code\n",
    "\n",
    "### Assignment 1: Creating and Accessing Tuples\n",
    "\n",
    "Create a tuple with the first 10 positive integers. Print the tuple."
   ]
  },
  {
   "cell_type": "code",
   "execution_count": 1,
   "id": "5edd5c96",
   "metadata": {},
   "outputs": [
    {
     "name": "stdout",
     "output_type": "stream",
     "text": [
      "(0, 1, 2, 3, 4, 5, 6, 7, 8, 9, 10)\n"
     ]
    }
   ],
   "source": [
    "import random\n",
    "\n",
    "tpl = tuple(num for num in range(11))\n",
    "print(tpl)"
   ]
  },
  {
   "cell_type": "markdown",
   "id": "5e140681",
   "metadata": {},
   "source": [
    "### Assignment 2: Accessing Tuple Elements\n",
    "\n",
    "Print the first, middle, and last elements of the tuple created in Assignment 1."
   ]
  },
  {
   "cell_type": "code",
   "execution_count": 2,
   "id": "278b72a1",
   "metadata": {},
   "outputs": [
    {
     "name": "stdout",
     "output_type": "stream",
     "text": [
      "First element : 0 \n",
      "Middle element : 5 \n",
      "Last element : 10\n"
     ]
    }
   ],
   "source": [
    "first, middle, last = tpl[0], tpl[len(tpl)//2], tpl[-1]\n",
    "print(f\"First element : {first} \\nMiddle element : {middle} \\nLast element : {last}\")"
   ]
  },
  {
   "cell_type": "markdown",
   "id": "bb78b285",
   "metadata": {},
   "source": [
    "### Assignment 3: Tuple Slicing\n",
    "\n",
    "Print the first three elements, the last three elements, and the elements from index 2 to 5 of the tuple created in Assignment 1."
   ]
  },
  {
   "cell_type": "code",
   "execution_count": 5,
   "id": "ce6fc964",
   "metadata": {},
   "outputs": [
    {
     "name": "stdout",
     "output_type": "stream",
     "text": [
      "First 3 element : (0, 1, 2) \n",
      "Middle_2_to_5 element : (2, 3, 4, 5) \n",
      "Last 3 element : (8, 9, 10)\n"
     ]
    }
   ],
   "source": [
    "first_3, middle_2_to_5, last_3 = tpl[:3], tpl[2:6], tpl[-3:]\n",
    "print(f\"First 3 element : {first_3} \\nMiddle_2_to_5 element : {middle_2_to_5} \\nLast 3 element : {last_3}\")"
   ]
  },
  {
   "cell_type": "markdown",
   "id": "8d00d2fa",
   "metadata": {},
   "source": [
    "### Assignment 4: Nested Tuples\n",
    "\n",
    "Create a nested tuple representing a 3x3 matrix and print the matrix. Access and print the element at the second row and third column."
   ]
  },
  {
   "cell_type": "code",
   "execution_count": 8,
   "id": "d221ade2",
   "metadata": {},
   "outputs": [
    {
     "name": "stdout",
     "output_type": "stream",
     "text": [
      "(1, 2, 3)\n",
      "(4, 5, 6)\n",
      "(7, 8, 9)\n",
      "Element at the second row and third column : 6\n"
     ]
    }
   ],
   "source": [
    "matrix_tpl = ((1,2,3), (4,5,6), (7,8,9))\n",
    "\n",
    "print(\"Matrix : \")\n",
    "for row in matrix_tpl:\n",
    "    print(row)\n",
    "\n",
    "print(f\"Element at the second row and third column : {matrix_tpl[1][2]}\")"
   ]
  },
  {
   "cell_type": "markdown",
   "id": "664f0910",
   "metadata": {},
   "source": [
    "### Assignment 5: Tuple Concatenation\n",
    "\n",
    "Concatenate two tuples: (1, 2, 3) and (4, 5, 6). Print the resulting tuple."
   ]
  },
  {
   "cell_type": "code",
   "execution_count": 9,
   "id": "3acebd23",
   "metadata": {},
   "outputs": [
    {
     "name": "stdout",
     "output_type": "stream",
     "text": [
      "Concatenate tuple : (1, 2, 3, 4, 5, 6)\n"
     ]
    }
   ],
   "source": [
    "tpl1, tpl2 = (1, 2, 3) , (4, 5, 6)\n",
    "print(f\"Concatenate tuple : {tpl1 + tpl2}\")"
   ]
  },
  {
   "cell_type": "markdown",
   "id": "db5ab98f",
   "metadata": {},
   "source": [
    "### Assignment 6: Tuple Methods\n",
    "\n",
    "Create a tuple with duplicate elements and count the occurrences of an element. Find the index of the first occurrence of an element in the tuple."
   ]
  },
  {
   "cell_type": "code",
   "execution_count": 17,
   "id": "5629652f",
   "metadata": {},
   "outputs": [
    {
     "name": "stdout",
     "output_type": "stream",
     "text": [
      "Duplicate elements tuple : (4, 4, 6, 4, 4, 4, 5, 2, 4, 2, 5, 2, 2, 3, 4, 6, 5, 2, 1, 1)\n",
      "Occurrences of 4 : 7\n",
      "Index of the first occurrence of 1 : 18\n"
     ]
    }
   ],
   "source": [
    "duplicate_elements_tpl = (4, 4, 6, 4, 4, 4, 5, 2, 4, 2, 5, 2, 2, 3, 4, 6, 5, 2, 1, 1) \n",
    "# tuple(random.randint(1,6) for _ in range(20))\n",
    "print(f\"Duplicate elements tuple : {duplicate_elements_tpl}\")\n",
    "print(f\"Occurrences of 4 : {duplicate_elements_tpl.count(4)}\")\n",
    "print(f\"Index of the first occurrence of 1 : {duplicate_elements_tpl.index(1)}\")"
   ]
  },
  {
   "cell_type": "markdown",
   "id": "42ef1a2d",
   "metadata": {},
   "source": [
    "### Assignment 7: Unpacking Tuples\n",
    "\n",
    "Create a tuple with 5 elements and unpack it into 5 variables. Print the variables.\n"
   ]
  },
  {
   "cell_type": "code",
   "execution_count": 20,
   "id": "77133a66",
   "metadata": {},
   "outputs": [
    {
     "name": "stdout",
     "output_type": "stream",
     "text": [
      "Unpack variables : 1, 3, 4, 5, 2\n"
     ]
    }
   ],
   "source": [
    "tpl1, tpl2, tpl3, tpl4, tpl5 = (1, 3, 4, 5, 2)\n",
    "print(f\"Unpack variables : {tpl1}, {tpl2}, {tpl3}, {tpl4}, {tpl5}\")"
   ]
  },
  {
   "cell_type": "markdown",
   "id": "815bb5ba",
   "metadata": {},
   "source": [
    "### Assignment 8: Tuple Conversion\n",
    "\n",
    "Convert a list of the first 5 positive integers to a tuple. Print the tuple."
   ]
  },
  {
   "cell_type": "code",
   "execution_count": 21,
   "id": "d05d2122",
   "metadata": {},
   "outputs": [
    {
     "name": "stdout",
     "output_type": "stream",
     "text": [
      "List : [1, 3, 4, 5, 2] \n",
      "Tuple : (1, 3, 4, 5, 2)\n"
     ]
    }
   ],
   "source": [
    "lst_5 = [1, 3, 4, 5, 2]\n",
    "tpl_5 = tuple(lst_5)\n",
    "print(f\"List : {lst_5} \\nTuple : {tpl_5}\")"
   ]
  },
  {
   "cell_type": "markdown",
   "id": "4ceecd4e",
   "metadata": {},
   "source": [
    "### Assignment 9: Tuple of Tuples\n",
    "\n",
    "Create a tuple containing 3 tuples, each with 3 elements. Print the tuple of tuples."
   ]
  },
  {
   "cell_type": "code",
   "execution_count": 24,
   "id": "78ef4ea0",
   "metadata": {},
   "outputs": [
    {
     "name": "stdout",
     "output_type": "stream",
     "text": [
      "((1, 2, 3), (4, 5, 6), (7, 8, 9))\n"
     ]
    }
   ],
   "source": [
    "matrix_tpl = ((1,2,3), (4,5,6), (7,8,9))\n",
    "print(matrix_tpl)"
   ]
  },
  {
   "cell_type": "markdown",
   "id": "665cf482",
   "metadata": {},
   "source": [
    "### Assignment 10: Tuple and List\n",
    "\n",
    "Create a tuple with the first 5 positive integers. Convert it to a list, append the number 6, and convert it back to a tuple. Print the resulting tuple."
   ]
  },
  {
   "cell_type": "code",
   "execution_count": 26,
   "id": "00b99287",
   "metadata": {},
   "outputs": [
    {
     "name": "stdout",
     "output_type": "stream",
     "text": [
      "Original tuple : (1, 2, 3, 4, 5)\n",
      "Result tuple : (1, 2, 3, 4, 5, 6)\n"
     ]
    }
   ],
   "source": [
    "tpl = (1,2,3,4,5)\n",
    "print(f\"Original tuple : {tpl}\")\n",
    "lst = list(tpl)\n",
    "lst.append(6)\n",
    "tpl = tuple(lst)\n",
    "print(f\"Result tuple : {tpl}\")"
   ]
  },
  {
   "cell_type": "markdown",
   "id": "c0b330a7",
   "metadata": {},
   "source": [
    "### Assignment 11: Tuple and String\n",
    "\n",
    "Create a tuple with the characters of a string. Join the tuple elements into a single string. Print the string."
   ]
  },
  {
   "cell_type": "code",
   "execution_count": 30,
   "id": "70796a2f",
   "metadata": {},
   "outputs": [
    {
     "name": "stdout",
     "output_type": "stream",
     "text": [
      "Tuple with characters : ('H', 'e', 'l', 'l', 'o')\n",
      "String : Hello\n"
     ]
    }
   ],
   "source": [
    "my_str = 'Hello'\n",
    "str_tpl = tuple(my_str) # ('a', 'b', 'c', 'd', 'e', 'f')\n",
    "print(f\"Tuple with characters : {str_tpl}\")\n",
    "onestr = ''.join(str_tpl)\n",
    "print(f\"String : {onestr}\")"
   ]
  },
  {
   "cell_type": "markdown",
   "id": "25e7a0f0",
   "metadata": {},
   "source": [
    "### Assignment 12: Tuple and Dictionary\n",
    "\n",
    "Create a dictionary with tuple keys and integer values. Print the dictionary.\n"
   ]
  },
  {
   "cell_type": "code",
   "execution_count": 32,
   "id": "b4de243a",
   "metadata": {},
   "outputs": [
    {
     "name": "stdout",
     "output_type": "stream",
     "text": [
      "{1: 1, 2: 23, 3: 123, (1, 2): 1234, (2, 3): 12345}\n"
     ]
    }
   ],
   "source": [
    "dict1 = {\n",
    "    (1): 1,\n",
    "    (2): 23,\n",
    "    (3): 123,\n",
    "    (1, 2): 1234,\n",
    "    (2, 3): 12345\n",
    "}\n",
    "\n",
    "print(dict1)"
   ]
  },
  {
   "cell_type": "markdown",
   "id": "3cbe5458",
   "metadata": {},
   "source": [
    "### Assignment 13: Nested Tuple Iteration\n",
    "\n",
    "Create a nested tuple and iterate over the elements, printing each element.\n"
   ]
  },
  {
   "cell_type": "code",
   "execution_count": 33,
   "id": "c292cd44",
   "metadata": {},
   "outputs": [
    {
     "name": "stdout",
     "output_type": "stream",
     "text": [
      "1\n",
      "2\n",
      "3\n",
      "4\n",
      "5\n",
      "6\n",
      "7\n",
      "8\n",
      "9\n"
     ]
    }
   ],
   "source": [
    "nested_tpl = ((1,2,3), (4,5,6), (7,8,9))\n",
    "\n",
    "for row in nested_tpl:\n",
    "    for elem in row:\n",
    "        print(elem)"
   ]
  },
  {
   "cell_type": "markdown",
   "id": "ca07a68b",
   "metadata": {},
   "source": [
    "### Assignment 14: Tuple and Set\n",
    "\n",
    "Create a tuple with duplicate elements. Convert it to a set to remove duplicates and print the resulting set.\n"
   ]
  },
  {
   "cell_type": "code",
   "execution_count": 34,
   "id": "bc92664e",
   "metadata": {},
   "outputs": [
    {
     "name": "stdout",
     "output_type": "stream",
     "text": [
      "Duplicate elements tuple : (4, 4, 6, 4, 4, 4, 5, 2, 4, 2, 5, 2, 2, 3, 4, 6, 5, 2, 1, 1)\n",
      "Without duplicate elements tuple : (1, 2, 3, 4, 5, 6)\n"
     ]
    }
   ],
   "source": [
    "duplicate_elements_tpl = (4, 4, 6, 4, 4, 4, 5, 2, 4, 2, 5, 2, 2, 3, 4, 6, 5, 2, 1, 1) \n",
    "set_elements_tpl = tuple(set(duplicate_elements_tpl))\n",
    "print(f\"Duplicate elements tuple : {duplicate_elements_tpl}\")\n",
    "print(f\"Without duplicate elements tuple : {set_elements_tpl}\")"
   ]
  },
  {
   "cell_type": "markdown",
   "id": "493276ff",
   "metadata": {},
   "source": [
    "### Assignment 15: Tuple Functions\n",
    "\n",
    "Write functions that take a tuple and return the minimum, maximum, and sum of the elements. Print the results for a sample tuple."
   ]
  },
  {
   "cell_type": "code",
   "execution_count": 38,
   "id": "a34192dc",
   "metadata": {},
   "outputs": [
    {
     "name": "stdout",
     "output_type": "stream",
     "text": [
      "Min : 1 \n",
      "Max : 6 \n",
      "Sum : 21\n"
     ]
    }
   ],
   "source": [
    "def min_max_sum(tpl):\n",
    "    print(f\"Min : {min(tpl)} \\nMax : {max(tpl)} \\nSum : {sum(tpl)}\")\n",
    "\n",
    "min_max_sum(set_elements_tpl)"
   ]
  },
  {
   "cell_type": "code",
   "execution_count": null,
   "id": "5b2a33ef",
   "metadata": {},
   "outputs": [],
   "source": []
  }
 ],
 "metadata": {
  "kernelspec": {
   "display_name": "Python 3 (ipykernel)",
   "language": "python",
   "name": "python3"
  },
  "language_info": {
   "codemirror_mode": {
    "name": "ipython",
    "version": 3
   },
   "file_extension": ".py",
   "mimetype": "text/x-python",
   "name": "python",
   "nbconvert_exporter": "python",
   "pygments_lexer": "ipython3",
   "version": "3.10.11"
  }
 },
 "nbformat": 4,
 "nbformat_minor": 5
}
