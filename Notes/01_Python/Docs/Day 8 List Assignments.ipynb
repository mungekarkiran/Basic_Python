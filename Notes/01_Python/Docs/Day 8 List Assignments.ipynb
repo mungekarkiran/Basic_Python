{
 "cells": [
  {
   "cell_type": "markdown",
   "id": "42e9a02e",
   "metadata": {},
   "source": [
    "# Create a list of the first 20 positive integers. Print the list."
   ]
  },
  {
   "cell_type": "code",
   "execution_count": 2,
   "id": "75435fcd",
   "metadata": {},
   "outputs": [
    {
     "name": "stdout",
     "output_type": "stream",
     "text": [
      "[1, 2, 3, 4, 5, 6, 7, 8, 9, 10, 11, 12, 13, 14, 15, 16, 17, 18, 19, 20]\n"
     ]
    }
   ],
   "source": [
    "lst = list(range(1,21))\n",
    "print(lst)"
   ]
  },
  {
   "cell_type": "markdown",
   "id": "a08369d0",
   "metadata": {},
   "source": [
    "# Print the first, middle, and last elements of the list created in Assignment 1."
   ]
  },
  {
   "cell_type": "code",
   "execution_count": 3,
   "id": "9f5d300c",
   "metadata": {},
   "outputs": [
    {
     "name": "stdout",
     "output_type": "stream",
     "text": [
      "First element : 1 \n",
      "Middle element : 11 \n",
      "Last element : 20\n"
     ]
    }
   ],
   "source": [
    "print(f\"First element : {lst[0]} \\nMiddle element : {lst[len(lst)//2]} \\nLast element : {lst[-1]}\")"
   ]
  },
  {
   "cell_type": "markdown",
   "id": "e74ee4cc",
   "metadata": {},
   "source": [
    "# Print the first five elements, the last five elements, and the elements from index 5 to 15 of the list created in Assignment 1."
   ]
  },
  {
   "cell_type": "code",
   "execution_count": 5,
   "id": "eb31f8d1",
   "metadata": {},
   "outputs": [
    {
     "name": "stdout",
     "output_type": "stream",
     "text": [
      "First five elements : [1, 2, 3, 4, 5] \n",
      "Last five elements : [16, 17, 18, 19, 20] \n",
      "Elements from index 5 to 15 : [6, 7, 8, 9, 10, 11, 12, 13, 14, 15, 16]\n"
     ]
    }
   ],
   "source": [
    "print(f\"First five elements : {lst[:5]} \\nLast five elements : {lst[-5:]} \\nElements from index 5 to 15 : {lst[5:16]}\")"
   ]
  },
  {
   "cell_type": "code",
   "execution_count": null,
   "id": "29439897",
   "metadata": {},
   "outputs": [],
   "source": []
  }
 ],
 "metadata": {
  "kernelspec": {
   "display_name": "Python 3 (ipykernel)",
   "language": "python",
   "name": "python3"
  },
  "language_info": {
   "codemirror_mode": {
    "name": "ipython",
    "version": 3
   },
   "file_extension": ".py",
   "mimetype": "text/x-python",
   "name": "python",
   "nbconvert_exporter": "python",
   "pygments_lexer": "ipython3",
   "version": "3.10.11"
  }
 },
 "nbformat": 4,
 "nbformat_minor": 5
}
