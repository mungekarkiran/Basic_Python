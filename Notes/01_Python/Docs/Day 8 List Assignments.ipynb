{
 "cells": [
  {
   "cell_type": "markdown",
   "id": "42e9a02e",
   "metadata": {},
   "source": [
    "### Assignment 1: Creating and Accessing Lists\n",
    "\n",
    "Create a list of the first 20 positive integers. Print the list."
   ]
  },
  {
   "cell_type": "code",
   "execution_count": 1,
   "id": "75435fcd",
   "metadata": {},
   "outputs": [
    {
     "name": "stdout",
     "output_type": "stream",
     "text": [
      "[1, 2, 3, 4, 5, 6, 7, 8, 9, 10, 11, 12, 13, 14, 15, 16, 17, 18, 19, 20]\n"
     ]
    }
   ],
   "source": [
    "lst = list(range(1,21))\n",
    "print(lst)"
   ]
  },
  {
   "cell_type": "markdown",
   "id": "a08369d0",
   "metadata": {},
   "source": [
    "### Assignment 2: Accessing List Elements\n",
    "\n",
    "Print the first, middle, and last elements of the list created in Assignment 1."
   ]
  },
  {
   "cell_type": "code",
   "execution_count": 2,
   "id": "9f5d300c",
   "metadata": {},
   "outputs": [
    {
     "name": "stdout",
     "output_type": "stream",
     "text": [
      "First element : 1 \n",
      "Middle element : 11 \n",
      "Last element : 20\n"
     ]
    }
   ],
   "source": [
    "print(f\"First element : {lst[0]} \\nMiddle element : {lst[len(lst)//2]} \\nLast element : {lst[-1]}\")"
   ]
  },
  {
   "cell_type": "markdown",
   "id": "e74ee4cc",
   "metadata": {},
   "source": [
    "### Assignment 3: List Slicing\n",
    "\n",
    "Print the first five elements, the last five elements, and the elements from index 5 to 15 of the list created in Assignment 1."
   ]
  },
  {
   "cell_type": "code",
   "execution_count": 3,
   "id": "eb31f8d1",
   "metadata": {},
   "outputs": [
    {
     "name": "stdout",
     "output_type": "stream",
     "text": [
      "First five elements : [1, 2, 3, 4, 5] \n",
      "Last five elements : [16, 17, 18, 19, 20] \n",
      "Elements from index 5 to 15 : [6, 7, 8, 9, 10, 11, 12, 13, 14, 15, 16]\n"
     ]
    }
   ],
   "source": [
    "print(f\"First five elements : {lst[:5]} \\nLast five elements : {lst[-5:]} \\nElements from index 5 to 15 : {lst[5:16]}\")"
   ]
  },
  {
   "cell_type": "markdown",
   "id": "f17b3c24",
   "metadata": {},
   "source": [
    "### Assignment 4: List Comprehensions\n",
    "\n",
    "Create a new list containing the squares of the first 10 positive integers using a list comprehension. Print the new list."
   ]
  },
  {
   "cell_type": "code",
   "execution_count": 4,
   "id": "a17de67a",
   "metadata": {},
   "outputs": [
    {
     "name": "stdout",
     "output_type": "stream",
     "text": [
      "[1, 4, 9, 16, 25, 36, 49, 64, 81, 100]\n"
     ]
    }
   ],
   "source": [
    "square_lst = [i**2 for i in range(1,11)]\n",
    "print(square_lst)"
   ]
  },
  {
   "cell_type": "markdown",
   "id": "cb1a39a2",
   "metadata": {},
   "source": [
    "### Assignment 5: Filtering Lists\n",
    "\n",
    "Create a new list containing only the even numbers from the list created in Assignment 1 using a list comprehension. Print the new list."
   ]
  },
  {
   "cell_type": "code",
   "execution_count": 5,
   "id": "854d0603",
   "metadata": {},
   "outputs": [
    {
     "name": "stdout",
     "output_type": "stream",
     "text": [
      "[2, 4, 6, 8, 10, 12, 14, 16, 18, 20]\n"
     ]
    }
   ],
   "source": [
    "even_lst = [i for i in lst if i%2==0]\n",
    "print(even_lst)"
   ]
  },
  {
   "cell_type": "markdown",
   "id": "950ccea6",
   "metadata": {},
   "source": [
    "### Assignment 6: List Methods\n",
    "\n",
    "Create a list of random numbers and sort it in ascending and descending order. Remove the duplicates from the list and print the modified list."
   ]
  },
  {
   "cell_type": "code",
   "execution_count": 10,
   "id": "e6d44561",
   "metadata": {},
   "outputs": [
    {
     "name": "stdout",
     "output_type": "stream",
     "text": [
      "Random list : [1, 2, 6, 5, 4, 5, 2, 2, 4, 4]\n",
      "Ascending list : [1, 2, 2, 2, 4, 4, 4, 5, 5, 6]\n",
      "Descending list : [6, 5, 5, 4, 4, 4, 2, 2, 2, 1]\n",
      "Unique list : [1, 2, 4, 5, 6]\n"
     ]
    }
   ],
   "source": [
    "import random\n",
    "\n",
    "random_lst = [random.randint(1, 6) for _ in range(10)]\n",
    "print(f\"Random list : {random_lst}\")\n",
    "\n",
    "ascending_lst = sorted(random_lst)\n",
    "print(f\"Ascending list : {ascending_lst}\")\n",
    "\n",
    "descending_lst = sorted(random_lst, reverse=True)\n",
    "print(f\"Descending list : {descending_lst}\")\n",
    "\n",
    "unique_lst = list(set(random_lst))\n",
    "print(f\"Unique list : {unique_lst}\")"
   ]
  },
  {
   "cell_type": "markdown",
   "id": "c50695b5",
   "metadata": {},
   "source": [
    "### Assignment 7: Nested Lists\n",
    "\n",
    "Create a nested list representing a 3x3 matrix and print the matrix. Access and print the element at the second row and third column."
   ]
  },
  {
   "cell_type": "code",
   "execution_count": 15,
   "id": "fd45a405",
   "metadata": {},
   "outputs": [
    {
     "name": "stdout",
     "output_type": "stream",
     "text": [
      "[[14, 17, 1], [10, 5, 4], [5, 14, 1]]\n",
      "Element at the second row and third column : 4\n"
     ]
    }
   ],
   "source": [
    "matrix = []\n",
    "for _ in range(1,4):\n",
    "    rows = []\n",
    "    for _ in range(1,4):\n",
    "        rows.append(random.randint(1, 20))\n",
    "    matrix.append(rows)\n",
    "print(matrix)\n",
    "print(f\"Element at the second row and third column : {matrix[1][2]}\")"
   ]
  },
  {
   "cell_type": "markdown",
   "id": "1c69bf32",
   "metadata": {},
   "source": [
    "### Assignment 8: List of Dictionaries\n",
    "\n",
    "Create a list of dictionaries where each dictionary represents a student with keys 'name' and 'score'. Sort the list of dictionaries by the 'score' in descending order and print the sorted list.\n"
   ]
  },
  {
   "cell_type": "code",
   "execution_count": 19,
   "id": "17c11f4b",
   "metadata": {},
   "outputs": [
    {
     "name": "stdout",
     "output_type": "stream",
     "text": [
      "Sorted students by score in descending order:\n",
      "{'name': 'nalini', 'score': 92}\n",
      "{'name': 'samir', 'score': 82}\n",
      "{'name': 'saroj', 'score': 76}\n",
      "{'name': 'aman', 'score': 75}\n",
      "{'name': 'john', 'score': 67}\n",
      "{'name': 'simran', 'score': 52}\n",
      "{'name': 'chandan', 'score': 36}\n"
     ]
    }
   ],
   "source": [
    "student_lst = [\n",
    "    {'name': 'john', 'score': 67},\n",
    "    {'name': 'simran', 'score': 52},\n",
    "    {'name': 'samir', 'score': 82},\n",
    "    {'name': 'saroj', 'score': 76},\n",
    "    {'name': 'aman', 'score': 75},\n",
    "    {'name': 'nalini', 'score': 92},\n",
    "    {'name': 'chandan', 'score': 36},\n",
    "]\n",
    "\n",
    "sorted_lst = sorted(student_lst, key=lambda a: a['score'], reverse=True)\n",
    "# print(sorted_lst)\n",
    "\n",
    "print(\"Sorted students by score in descending order:\")\n",
    "for student in sorted_lst:\n",
    "    print(student)"
   ]
  },
  {
   "cell_type": "markdown",
   "id": "5aa22b3a",
   "metadata": {},
   "source": [
    "### Assignment 9: Matrix Transposition\n",
    "\n",
    "Write a function that takes a 3x3 matrix (nested list) as input and returns its transpose. Print the original and transposed matrices."
   ]
  },
  {
   "cell_type": "code",
   "execution_count": 28,
   "id": "504d3dc2",
   "metadata": {},
   "outputs": [
    {
     "name": "stdout",
     "output_type": "stream",
     "text": [
      "matrix_input : <class 'list'> \n",
      "[[14, 17, 1], [10, 5, 4], [5, 14, 1]]\n",
      "\n",
      "\n",
      "[[14, 10, 5], [17, 5, 14], [1, 4, 1]]\n"
     ]
    }
   ],
   "source": [
    "matrix_input = [[14, 17, 1], [10, 5, 4], [5, 14, 1]] # eval(input('Enter 3x3 matix : '))\n",
    "print(f\"matrix_input : {type(matrix_input)} \\n{matrix_input}\")\n",
    "\n",
    "print('\\n')\n",
    "\n",
    "transpose_matrix = []\n",
    "for row in range(len(matrix_input)):\n",
    "    transpose_row = []\n",
    "    for col in range(len(matrix_input[row])):\n",
    "        transpose_row.append(matrix_input[col][row])\n",
    "    transpose_matrix.append(transpose_row)\n",
    "print(transpose_matrix)"
   ]
  },
  {
   "cell_type": "code",
   "execution_count": 30,
   "id": "1f3c06d2",
   "metadata": {},
   "outputs": [
    {
     "name": "stdout",
     "output_type": "stream",
     "text": [
      "Original matrix: \n",
      "[14, 17, 1]\n",
      "[10, 5, 4]\n",
      "[5, 14, 1]\n",
      "Transpose matrix: \n",
      "[14, 10, 5]\n",
      "[17, 5, 14]\n",
      "[1, 4, 1]\n"
     ]
    }
   ],
   "source": [
    "def transpose_matrix(matrix):\n",
    "    transpose_matrix = [[matrix[col][row] for col in range(len(matrix[row]))] for row in range(len(matrix))]\n",
    "    return transpose_matrix\n",
    "\n",
    "matrix_input = [[14, 17, 1], [10, 5, 4], [5, 14, 1]]\n",
    "transpose = transpose_matrix(matrix_input)\n",
    "\n",
    "print(f\"Original matrix: \")\n",
    "for row in matrix_input:\n",
    "    print(row)\n",
    "    \n",
    "print(f\"Transpose matrix: \")\n",
    "for row in transpose:\n",
    "    print(row)"
   ]
  },
  {
   "cell_type": "markdown",
   "id": "77a7eb7d",
   "metadata": {},
   "source": [
    "### Assignment 10: Flattening a Nested List\n",
    "\n",
    "Write a function that takes a nested list and flattens it into a single list. Print the original and flattened lists."
   ]
  },
  {
   "cell_type": "code",
   "execution_count": 33,
   "id": "8a46015c",
   "metadata": {},
   "outputs": [
    {
     "name": "stdout",
     "output_type": "stream",
     "text": [
      "[14, 17, 1, 10, 5, 4, 5, 14, 1]\n"
     ]
    }
   ],
   "source": [
    "# def flatten(nested_lst):\n",
    "#     flatten_lst = [item for lst in nested_lst for item in lst]\n",
    "#     return flatten_lst\n",
    "\n",
    "# def flatten(nested_lst):\n",
    "#     flatten_lst = []\n",
    "#     for lst in nested_lst:\n",
    "#         flatten_lst.extend(lst)\n",
    "#     return flatten_lst\n",
    "\n",
    "def flatten(nested_lst):\n",
    "    flatten_lst = []\n",
    "    _ = [flatten_lst.extend(lst) for lst in nested_lst]\n",
    "    return flatten_lst\n",
    "\n",
    "flatten_lst = flatten(matrix_input)\n",
    "print(flatten_lst)"
   ]
  },
  {
   "cell_type": "markdown",
   "id": "a3e0b087",
   "metadata": {},
   "source": [
    "### Assignment 11: List Manipulation\n",
    "\n",
    "Create a list of the first 10 positive integers. Remove the elements at indices 2, 4, and 6, and insert the element '99' at index 5. Print the modified list."
   ]
  },
  {
   "cell_type": "code",
   "execution_count": 55,
   "id": "6b056e11",
   "metadata": {},
   "outputs": [
    {
     "name": "stdout",
     "output_type": "stream",
     "text": [
      "Positive numbers : [41, 10, 30, 36, 5, 47, 46, 11, 45, 5]\n",
      "Removed element list: [41, 10, 36, 47, 11, 45, 5]\n",
      "__________________________________________________\n",
      "Inserted list : [41, 10, 36, 47, 11, 99, 45, 5]\n",
      "__________________________________________________\n"
     ]
    }
   ],
   "source": [
    "# positive_lst = [41, 10, 30, 36, 5, 47, 46, 11, 45, 5] # [random.randint(1, 50) for _ in range(10)]\n",
    "# print(f\"Positive numbers : {positive_lst}\")\n",
    "# positive_lst.remove(positive_lst[6])\n",
    "# positive_lst.remove(positive_lst[4])\n",
    "# positive_lst.remove(positive_lst[2])\n",
    "# print(f\"Removed element list: {positive_lst}\")\n",
    "# print('_'*50)\n",
    "\n",
    "# positive_lst = [41, 10, 30, 36, 5, 47, 46, 11, 45, 5] # [random.randint(1, 50) for _ in range(10)]\n",
    "# print(f\"Positive numbers : {positive_lst}\")\n",
    "# positive_lst.pop(6)\n",
    "# positive_lst.pop(4)\n",
    "# positive_lst.pop(2)\n",
    "# print(f\"Removed element list: {positive_lst}\")\n",
    "# print('_'*50)\n",
    "\n",
    "positive_lst = [41, 10, 30, 36, 5, 47, 46, 11, 45, 5] # [random.randint(1, 50) for _ in range(10)]\n",
    "print(f\"Positive numbers : {positive_lst}\")\n",
    "del positive_lst[6]\n",
    "del positive_lst[4]\n",
    "del positive_lst[2]\n",
    "print(f\"Removed element list: {positive_lst}\")\n",
    "print('_'*50)\n",
    "\n",
    "positive_lst.insert(5, 99)\n",
    "print(f\"Inserted list : {positive_lst}\")\n",
    "print('_'*50)\n"
   ]
  },
  {
   "cell_type": "markdown",
   "id": "e7e91f8a",
   "metadata": {},
   "source": [
    "### Assignment 12: List Zipping\n",
    "\n",
    "Create two lists of the same length. Use the `zip` function to combine these lists into a list of tuples and print the result."
   ]
  },
  {
   "cell_type": "code",
   "execution_count": 58,
   "id": "132d242e",
   "metadata": {},
   "outputs": [
    {
     "name": "stdout",
     "output_type": "stream",
     "text": [
      "[(4, 30), (16, 17), (4, 3), (31, 38), (25, 14), (19, 17), (33, 25), (12, 3), (45, 13), (40, 22)]\n"
     ]
    }
   ],
   "source": [
    "lst1 = [random.randint(1, 50) for _ in range(10)]\n",
    "lst2 = [random.randint(1, 50) for _ in range(10)]\n",
    "# lst3 = [(i, j) for i,j in zip(lst1, lst2)]\n",
    "lst3 = list(zip(lst1, lst2))\n",
    "print(lst3)"
   ]
  },
  {
   "cell_type": "markdown",
   "id": "a4304066",
   "metadata": {},
   "source": [
    "### Assignment 13: List Reversal\n",
    "\n",
    "Write a function that takes a list and returns a new list with the elements in reverse order. Print the original and reversed lists."
   ]
  },
  {
   "cell_type": "code",
   "execution_count": null,
   "id": "3bfb0c11",
   "metadata": {},
   "outputs": [],
   "source": [
    "def reverse_order():\n",
    "    "
   ]
  }
 ],
 "metadata": {
  "kernelspec": {
   "display_name": "Python 3 (ipykernel)",
   "language": "python",
   "name": "python3"
  },
  "language_info": {
   "codemirror_mode": {
    "name": "ipython",
    "version": 3
   },
   "file_extension": ".py",
   "mimetype": "text/x-python",
   "name": "python",
   "nbconvert_exporter": "python",
   "pygments_lexer": "ipython3",
   "version": "3.10.11"
  }
 },
 "nbformat": 4,
 "nbformat_minor": 5
}
