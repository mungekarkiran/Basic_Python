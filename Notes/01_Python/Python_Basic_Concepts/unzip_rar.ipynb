{
 "cells": [
  {
   "cell_type": "code",
   "execution_count": 1,
   "metadata": {},
   "outputs": [
    {
     "name": "stdout",
     "output_type": "stream",
     "text": [
      "Collecting rarfile\n",
      "  Downloading rarfile-4.2-py3-none-any.whl (29 kB)\n",
      "Installing collected packages: rarfile\n",
      "Successfully installed rarfile-4.2\n"
     ]
    },
    {
     "name": "stderr",
     "output_type": "stream",
     "text": [
      "\n",
      "[notice] A new release of pip is available: 23.0.1 -> 24.3.1\n",
      "[notice] To update, run: python.exe -m pip install --upgrade pip\n"
     ]
    }
   ],
   "source": [
    "# To unzip a .rar file in Python on Windows, you can use the pylibunrar or rarfile library. Below is a function that uses the rarfile library to extract .rar files.\n",
    "!pip install rarfile"
   ]
  },
  {
   "cell_type": "code",
   "execution_count": 2,
   "metadata": {},
   "outputs": [
    {
     "ename": "Exception",
     "evalue": "Failed to extract 'rar_file.rar'. Error: Cannot find working tool",
     "output_type": "error",
     "traceback": [
      "\u001b[1;31m---------------------------------------------------------------------------\u001b[0m",
      "\u001b[1;31mRarCannotExec\u001b[0m                             Traceback (most recent call last)",
      "Cell \u001b[1;32mIn[2], line 30\u001b[0m, in \u001b[0;36mextract_rar_file\u001b[1;34m(rar_path, extract_to)\u001b[0m\n\u001b[0;32m     28\u001b[0m \u001b[38;5;28;01mwith\u001b[39;00m rarfile\u001b[38;5;241m.\u001b[39mRarFile(rar_path) \u001b[38;5;28;01mas\u001b[39;00m rf:\n\u001b[0;32m     29\u001b[0m     \u001b[38;5;66;03m# Extract all files\u001b[39;00m\n\u001b[1;32m---> 30\u001b[0m     \u001b[43mrf\u001b[49m\u001b[38;5;241;43m.\u001b[39;49m\u001b[43mextractall\u001b[49m\u001b[43m(\u001b[49m\u001b[43mpath\u001b[49m\u001b[38;5;241;43m=\u001b[39;49m\u001b[43mextract_to\u001b[49m\u001b[43m)\u001b[49m\n\u001b[0;32m     31\u001b[0m     \u001b[38;5;28mprint\u001b[39m(\u001b[38;5;124mf\u001b[39m\u001b[38;5;124m\"\u001b[39m\u001b[38;5;124mSuccessfully extracted \u001b[39m\u001b[38;5;124m'\u001b[39m\u001b[38;5;132;01m{\u001b[39;00mrar_path\u001b[38;5;132;01m}\u001b[39;00m\u001b[38;5;124m'\u001b[39m\u001b[38;5;124m to \u001b[39m\u001b[38;5;124m'\u001b[39m\u001b[38;5;132;01m{\u001b[39;00mextract_to\u001b[38;5;132;01m}\u001b[39;00m\u001b[38;5;124m'\u001b[39m\u001b[38;5;124m\"\u001b[39m)\n",
      "File \u001b[1;32mc:\\Users\\Kiran\\AppData\\Local\\Programs\\Python\\Python310\\lib\\site-packages\\rarfile.py:886\u001b[0m, in \u001b[0;36mRarFile.extractall\u001b[1;34m(self, path, members, pwd)\u001b[0m\n\u001b[0;32m    885\u001b[0m inf \u001b[38;5;241m=\u001b[39m \u001b[38;5;28mself\u001b[39m\u001b[38;5;241m.\u001b[39mgetinfo(m)\n\u001b[1;32m--> 886\u001b[0m dst \u001b[38;5;241m=\u001b[39m \u001b[38;5;28;43mself\u001b[39;49m\u001b[38;5;241;43m.\u001b[39;49m\u001b[43m_extract_one\u001b[49m\u001b[43m(\u001b[49m\u001b[43minf\u001b[49m\u001b[43m,\u001b[49m\u001b[43m \u001b[49m\u001b[43mpath\u001b[49m\u001b[43m,\u001b[49m\u001b[43m \u001b[49m\u001b[43mpwd\u001b[49m\u001b[43m,\u001b[49m\u001b[43m \u001b[49m\u001b[38;5;129;43;01mnot\u001b[39;49;00m\u001b[43m \u001b[49m\u001b[43minf\u001b[49m\u001b[38;5;241;43m.\u001b[39;49m\u001b[43mis_dir\u001b[49m\u001b[43m(\u001b[49m\u001b[43m)\u001b[49m\u001b[43m)\u001b[49m\n\u001b[0;32m    887\u001b[0m \u001b[38;5;28;01mif\u001b[39;00m inf\u001b[38;5;241m.\u001b[39mis_dir():\n",
      "File \u001b[1;32mc:\\Users\\Kiran\\AppData\\Local\\Programs\\Python\\Python310\\lib\\site-packages\\rarfile.py:951\u001b[0m, in \u001b[0;36mRarFile._extract_one\u001b[1;34m(self, info, path, pwd, set_attrs)\u001b[0m\n\u001b[0;32m    950\u001b[0m \u001b[38;5;28;01mif\u001b[39;00m info\u001b[38;5;241m.\u001b[39mis_file():\n\u001b[1;32m--> 951\u001b[0m     \u001b[38;5;28;01mreturn\u001b[39;00m \u001b[38;5;28;43mself\u001b[39;49m\u001b[38;5;241;43m.\u001b[39;49m\u001b[43m_make_file\u001b[49m\u001b[43m(\u001b[49m\u001b[43minfo\u001b[49m\u001b[43m,\u001b[49m\u001b[43m \u001b[49m\u001b[43mdstfn\u001b[49m\u001b[43m,\u001b[49m\u001b[43m \u001b[49m\u001b[43mpwd\u001b[49m\u001b[43m,\u001b[49m\u001b[43m \u001b[49m\u001b[43mset_attrs\u001b[49m\u001b[43m)\u001b[49m\n\u001b[0;32m    952\u001b[0m \u001b[38;5;28;01mif\u001b[39;00m info\u001b[38;5;241m.\u001b[39mis_dir():\n",
      "File \u001b[1;32mc:\\Users\\Kiran\\AppData\\Local\\Programs\\Python\\Python310\\lib\\site-packages\\rarfile.py:964\u001b[0m, in \u001b[0;36mRarFile._make_file\u001b[1;34m(self, info, dstfn, pwd, set_attrs)\u001b[0m\n\u001b[0;32m    963\u001b[0m     \u001b[38;5;28;01mreturn\u001b[39;00m \u001b[38;5;28mself\u001b[39m\u001b[38;5;241m.\u001b[39m_create_helper(name, flags, info)\n\u001b[1;32m--> 964\u001b[0m \u001b[38;5;28;01mwith\u001b[39;00m \u001b[38;5;28;43mself\u001b[39;49m\u001b[38;5;241;43m.\u001b[39;49m\u001b[43mopen\u001b[49m\u001b[43m(\u001b[49m\u001b[43minfo\u001b[49m\u001b[43m,\u001b[49m\u001b[43m \u001b[49m\u001b[38;5;124;43m\"\u001b[39;49m\u001b[38;5;124;43mr\u001b[39;49m\u001b[38;5;124;43m\"\u001b[39;49m\u001b[43m,\u001b[49m\u001b[43m \u001b[49m\u001b[43mpwd\u001b[49m\u001b[43m)\u001b[49m \u001b[38;5;28;01mas\u001b[39;00m src:\n\u001b[0;32m    965\u001b[0m     \u001b[38;5;28;01mwith\u001b[39;00m \u001b[38;5;28mopen\u001b[39m(dstfn, \u001b[38;5;124m\"\u001b[39m\u001b[38;5;124mwb\u001b[39m\u001b[38;5;124m\"\u001b[39m, opener\u001b[38;5;241m=\u001b[39mhelper) \u001b[38;5;28;01mas\u001b[39;00m dst:\n",
      "File \u001b[1;32mc:\\Users\\Kiran\\AppData\\Local\\Programs\\Python\\Python310\\lib\\site-packages\\rarfile.py:822\u001b[0m, in \u001b[0;36mRarFile.open\u001b[1;34m(self, name, mode, pwd)\u001b[0m\n\u001b[0;32m    820\u001b[0m     pwd \u001b[38;5;241m=\u001b[39m \u001b[38;5;28;01mNone\u001b[39;00m\n\u001b[1;32m--> 822\u001b[0m \u001b[38;5;28;01mreturn\u001b[39;00m \u001b[38;5;28;43mself\u001b[39;49m\u001b[38;5;241;43m.\u001b[39;49m\u001b[43m_file_parser\u001b[49m\u001b[38;5;241;43m.\u001b[39;49m\u001b[43mopen\u001b[49m\u001b[43m(\u001b[49m\u001b[43minf\u001b[49m\u001b[43m,\u001b[49m\u001b[43m \u001b[49m\u001b[43mpwd\u001b[49m\u001b[43m)\u001b[49m\n",
      "File \u001b[1;32mc:\\Users\\Kiran\\AppData\\Local\\Programs\\Python\\Python310\\lib\\site-packages\\rarfile.py:1299\u001b[0m, in \u001b[0;36mCommonParser.open\u001b[1;34m(self, inf, pwd)\u001b[0m\n\u001b[0;32m   1298\u001b[0m \u001b[38;5;28;01melif\u001b[39;00m use_hack:\n\u001b[1;32m-> 1299\u001b[0m     \u001b[38;5;28;01mreturn\u001b[39;00m \u001b[38;5;28;43mself\u001b[39;49m\u001b[38;5;241;43m.\u001b[39;49m\u001b[43m_open_hack\u001b[49m\u001b[43m(\u001b[49m\u001b[43minf\u001b[49m\u001b[43m,\u001b[49m\u001b[43m \u001b[49m\u001b[43mpwd\u001b[49m\u001b[43m)\u001b[49m\n\u001b[0;32m   1300\u001b[0m \u001b[38;5;28;01melif\u001b[39;00m is_filelike(\u001b[38;5;28mself\u001b[39m\u001b[38;5;241m.\u001b[39m_rarfile):\n",
      "File \u001b[1;32mc:\\Users\\Kiran\\AppData\\Local\\Programs\\Python\\Python310\\lib\\site-packages\\rarfile.py:2177\u001b[0m, in \u001b[0;36mRAR5Parser._open_hack\u001b[1;34m(self, inf, pwd)\u001b[0m\n\u001b[0;32m   2176\u001b[0m endarc_hdr \u001b[38;5;241m=\u001b[39m S_LONG\u001b[38;5;241m.\u001b[39mpack(crc32(endarc_hdr)) \u001b[38;5;241m+\u001b[39m endarc_hdr\n\u001b[1;32m-> 2177\u001b[0m \u001b[38;5;28;01mreturn\u001b[39;00m \u001b[38;5;28;43mself\u001b[39;49m\u001b[38;5;241;43m.\u001b[39;49m\u001b[43m_open_hack_core\u001b[49m\u001b[43m(\u001b[49m\u001b[43minf\u001b[49m\u001b[43m,\u001b[49m\u001b[43m \u001b[49m\u001b[43mpwd\u001b[49m\u001b[43m,\u001b[49m\u001b[43m \u001b[49m\u001b[43mRAR5_ID\u001b[49m\u001b[43m \u001b[49m\u001b[38;5;241;43m+\u001b[39;49m\u001b[43m \u001b[49m\u001b[43mmain_hdr\u001b[49m\u001b[43m,\u001b[49m\u001b[43m \u001b[49m\u001b[43mendarc_hdr\u001b[49m\u001b[43m)\u001b[49m\n",
      "File \u001b[1;32mc:\\Users\\Kiran\\AppData\\Local\\Programs\\Python\\Python310\\lib\\site-packages\\rarfile.py:1339\u001b[0m, in \u001b[0;36mCommonParser._open_hack_core\u001b[1;34m(self, inf, pwd, prefix, suffix)\u001b[0m\n\u001b[0;32m   1337\u001b[0m     \u001b[38;5;28;01mraise\u001b[39;00m\n\u001b[1;32m-> 1339\u001b[0m \u001b[38;5;28;01mreturn\u001b[39;00m \u001b[38;5;28;43mself\u001b[39;49m\u001b[38;5;241;43m.\u001b[39;49m\u001b[43m_open_unrar\u001b[49m\u001b[43m(\u001b[49m\u001b[43mtmpname\u001b[49m\u001b[43m,\u001b[49m\u001b[43m \u001b[49m\u001b[43minf\u001b[49m\u001b[43m,\u001b[49m\u001b[43m \u001b[49m\u001b[43mpwd\u001b[49m\u001b[43m,\u001b[49m\u001b[43m \u001b[49m\u001b[43mtmpname\u001b[49m\u001b[43m)\u001b[49m\n",
      "File \u001b[1;32mc:\\Users\\Kiran\\AppData\\Local\\Programs\\Python\\Python310\\lib\\site-packages\\rarfile.py:1350\u001b[0m, in \u001b[0;36mCommonParser._open_unrar\u001b[1;34m(self, rarfile, inf, pwd, tmpfile, force_file)\u001b[0m\n\u001b[0;32m   1348\u001b[0m \u001b[38;5;250m\u001b[39m\u001b[38;5;124;03m\"\"\"Extract using unrar\u001b[39;00m\n\u001b[0;32m   1349\u001b[0m \u001b[38;5;124;03m\"\"\"\u001b[39;00m\n\u001b[1;32m-> 1350\u001b[0m setup \u001b[38;5;241m=\u001b[39m \u001b[43mtool_setup\u001b[49m\u001b[43m(\u001b[49m\u001b[43m)\u001b[49m\n\u001b[0;32m   1352\u001b[0m \u001b[38;5;66;03m# not giving filename avoids encoding related problems\u001b[39;00m\n",
      "File \u001b[1;32mc:\\Users\\Kiran\\AppData\\Local\\Programs\\Python\\Python310\\lib\\site-packages\\rarfile.py:3495\u001b[0m, in \u001b[0;36mtool_setup\u001b[1;34m(unrar, unar, bsdtar, sevenzip, sevenzip2, force)\u001b[0m\n\u001b[0;32m   3494\u001b[0m \u001b[38;5;28;01mif\u001b[39;00m CURRENT_SETUP \u001b[38;5;129;01mis\u001b[39;00m \u001b[38;5;28;01mNone\u001b[39;00m:\n\u001b[1;32m-> 3495\u001b[0m     \u001b[38;5;28;01mraise\u001b[39;00m RarCannotExec(\u001b[38;5;124m\"\u001b[39m\u001b[38;5;124mCannot find working tool\u001b[39m\u001b[38;5;124m\"\u001b[39m)\n\u001b[0;32m   3496\u001b[0m \u001b[38;5;28;01mreturn\u001b[39;00m CURRENT_SETUP\n",
      "\u001b[1;31mRarCannotExec\u001b[0m: Cannot find working tool",
      "\nDuring handling of the above exception, another exception occurred:\n",
      "\u001b[1;31mException\u001b[0m                                 Traceback (most recent call last)",
      "Cell \u001b[1;32mIn[2], line 39\u001b[0m\n\u001b[0;32m     37\u001b[0m rar_file_path \u001b[38;5;241m=\u001b[39m \u001b[38;5;124m\"\u001b[39m\u001b[38;5;124mrar_file.rar\u001b[39m\u001b[38;5;124m\"\u001b[39m  \u001b[38;5;66;03m# Replace with your .rar file path\u001b[39;00m\n\u001b[0;32m     38\u001b[0m extraction_directory \u001b[38;5;241m=\u001b[39m \u001b[38;5;124m\"\u001b[39m\u001b[38;5;124mrar_folder\u001b[39m\u001b[38;5;124m\"\u001b[39m  \u001b[38;5;66;03m# Replace with the output folder\u001b[39;00m\n\u001b[1;32m---> 39\u001b[0m \u001b[43mextract_rar_file\u001b[49m\u001b[43m(\u001b[49m\u001b[43mrar_file_path\u001b[49m\u001b[43m,\u001b[49m\u001b[43m \u001b[49m\u001b[43mextraction_directory\u001b[49m\u001b[43m)\u001b[49m\n",
      "Cell \u001b[1;32mIn[2], line 33\u001b[0m, in \u001b[0;36mextract_rar_file\u001b[1;34m(rar_path, extract_to)\u001b[0m\n\u001b[0;32m     31\u001b[0m         \u001b[38;5;28mprint\u001b[39m(\u001b[38;5;124mf\u001b[39m\u001b[38;5;124m\"\u001b[39m\u001b[38;5;124mSuccessfully extracted \u001b[39m\u001b[38;5;124m'\u001b[39m\u001b[38;5;132;01m{\u001b[39;00mrar_path\u001b[38;5;132;01m}\u001b[39;00m\u001b[38;5;124m'\u001b[39m\u001b[38;5;124m to \u001b[39m\u001b[38;5;124m'\u001b[39m\u001b[38;5;132;01m{\u001b[39;00mextract_to\u001b[38;5;132;01m}\u001b[39;00m\u001b[38;5;124m'\u001b[39m\u001b[38;5;124m\"\u001b[39m)\n\u001b[0;32m     32\u001b[0m \u001b[38;5;28;01mexcept\u001b[39;00m rarfile\u001b[38;5;241m.\u001b[39mError \u001b[38;5;28;01mas\u001b[39;00m e:\n\u001b[1;32m---> 33\u001b[0m     \u001b[38;5;28;01mraise\u001b[39;00m \u001b[38;5;167;01mException\u001b[39;00m(\u001b[38;5;124mf\u001b[39m\u001b[38;5;124m\"\u001b[39m\u001b[38;5;124mFailed to extract \u001b[39m\u001b[38;5;124m'\u001b[39m\u001b[38;5;132;01m{\u001b[39;00mrar_path\u001b[38;5;132;01m}\u001b[39;00m\u001b[38;5;124m'\u001b[39m\u001b[38;5;124m. Error: \u001b[39m\u001b[38;5;132;01m{\u001b[39;00me\u001b[38;5;132;01m}\u001b[39;00m\u001b[38;5;124m\"\u001b[39m)\n",
      "\u001b[1;31mException\u001b[0m: Failed to extract 'rar_file.rar'. Error: Cannot find working tool"
     ]
    }
   ],
   "source": [
    "import rarfile\n",
    "import os\n",
    "\n",
    "def extract_rar_file(rar_path, extract_to):\n",
    "    \"\"\"\n",
    "    Extracts a .rar file to the specified directory.\n",
    "\n",
    "    Args:\n",
    "        rar_path (str): Path to the .rar file.\n",
    "        extract_to (str): Directory where the files should be extracted.\n",
    "\n",
    "    Raises:\n",
    "        FileNotFoundError: If the .rar file is not found.\n",
    "        Exception: If extraction fails.\n",
    "    \"\"\"\n",
    "    # Check if the .rar file exists\n",
    "    if not os.path.exists(rar_path):\n",
    "        raise FileNotFoundError(f\"The file '{rar_path}' does not exist.\")\n",
    "    \n",
    "    # Ensure the output directory exists\n",
    "    os.makedirs(extract_to, exist_ok=True)\n",
    "    \n",
    "    # Set up the rarfile library to use the unrar executable\n",
    "    rarfile.UNRAR_TOOL = \"unrar\"  # Ensure `unrar` is installed and in PATH\n",
    "    \n",
    "    try:\n",
    "        # Open the rar file\n",
    "        with rarfile.RarFile(rar_path) as rf:\n",
    "            # Extract all files\n",
    "            rf.extractall(path=extract_to)\n",
    "            print(f\"Successfully extracted '{rar_path}' to '{extract_to}'\")\n",
    "    except rarfile.Error as e:\n",
    "        raise Exception(f\"Failed to extract '{rar_path}'. Error: {e}\")\n",
    "\n",
    "# Example usage\n",
    "if __name__ == \"__main__\":\n",
    "    rar_file_path = \"rar_file.rar\"  # Replace with your .rar file path\n",
    "    extraction_directory = \"rar_folder\"  # Replace with the output folder\n",
    "    extract_rar_file(rar_file_path, extraction_directory)\n"
   ]
  },
  {
   "cell_type": "code",
   "execution_count": 1,
   "metadata": {},
   "outputs": [
    {
     "name": "stderr",
     "output_type": "stream",
     "text": [
      "'unrar' is not recognized as an internal or external command,\n",
      "operable program or batch file.\n"
     ]
    }
   ],
   "source": [
    "!unrar\n",
    "# !choco install unrar"
   ]
  },
  {
   "cell_type": "code",
   "execution_count": 4,
   "metadata": {},
   "outputs": [
    {
     "name": "stdout",
     "output_type": "stream",
     "text": [
      "Successfully extracted 'rar_file.rar' to 'rar_folder'\n"
     ]
    }
   ],
   "source": [
    "import rarfile\n",
    "import os\n",
    "\n",
    "def extract_rar_file(rar_path, extract_to, unrar_path=\"C:\\\\Program Files\\\\WinRAR\\\\UnRAR.exe\"):\n",
    "    \"\"\"\n",
    "    Extracts a .rar file to the specified directory.\n",
    "\n",
    "    Args:\n",
    "        rar_path (str): Path to the .rar file.\n",
    "        extract_to (str): Directory where the files should be extracted.\n",
    "        unrar_path (str): Full path to the unrar executable.\n",
    "\n",
    "    Raises:\n",
    "        FileNotFoundError: If the .rar file is not found.\n",
    "        Exception: If extraction fails.\n",
    "    \"\"\"\n",
    "    # Check if the .rar file exists\n",
    "    if not os.path.exists(rar_path):\n",
    "        raise FileNotFoundError(f\"The file '{rar_path}' does not exist.\")\n",
    "    \n",
    "    # Ensure the output directory exists\n",
    "    os.makedirs(extract_to, exist_ok=True)\n",
    "    \n",
    "    # Set the rarfile tool path\n",
    "    rarfile.UNRAR_TOOL = unrar_path\n",
    "    \n",
    "    try:\n",
    "        # Open the rar file\n",
    "        with rarfile.RarFile(rar_path) as rf:\n",
    "            # Extract all files\n",
    "            rf.extractall(path=extract_to)\n",
    "            print(f\"Successfully extracted '{rar_path}' to '{extract_to}'\")\n",
    "    except rarfile.Error as e:\n",
    "        raise Exception(f\"Failed to extract '{rar_path}'. Error: {e}\")\n",
    "\n",
    "if __name__ == \"__main__\":\n",
    "    rar_file_path = \"rar_file.rar\"  # Replace with your .rar file path\n",
    "    extraction_directory = \"rar_folder\"  # Replace with the output folder\n",
    "    unrar_executable = \"C:\\\\Program Files\\\\WinRAR\\\\UnRAR.exe\"  # Update with the full path\n",
    "    extract_rar_file(rar_file_path, extraction_directory, unrar_executable)\n"
   ]
  },
  {
   "cell_type": "code",
   "execution_count": null,
   "metadata": {},
   "outputs": [],
   "source": []
  }
 ],
 "metadata": {
  "kernelspec": {
   "display_name": "Python 3",
   "language": "python",
   "name": "python3"
  },
  "language_info": {
   "codemirror_mode": {
    "name": "ipython",
    "version": 3
   },
   "file_extension": ".py",
   "mimetype": "text/x-python",
   "name": "python",
   "nbconvert_exporter": "python",
   "pygments_lexer": "ipython3",
   "version": "3.10.11"
  }
 },
 "nbformat": 4,
 "nbformat_minor": 2
}
