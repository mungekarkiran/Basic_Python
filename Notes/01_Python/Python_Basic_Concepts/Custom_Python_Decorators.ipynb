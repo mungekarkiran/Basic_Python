{
 "cells": [
  {
   "cell_type": "markdown",
   "metadata": {},
   "source": [
    "# 5 Custom Python Decorators For Your Projects\n",
    "\n",
    "https://www.youtube.com/watch?v=xI4TJyd8FGk"
   ]
  },
  {
   "cell_type": "code",
   "execution_count": 2,
   "metadata": {},
   "outputs": [
    {
     "name": "stdout",
     "output_type": "stream",
     "text": [
      "25\n",
      "25\n",
      "25\n",
      "25\n",
      "25\n"
     ]
    }
   ],
   "source": [
    "# cache decorator\n",
    "\n",
    "import time \n",
    "from functools import cache\n",
    "\n",
    "@cache\n",
    "def process_input(n):\n",
    "    # do some calculation\n",
    "    time.sleep(2)\n",
    "    return n**2\n",
    "\n",
    "print(process_input(5))\n",
    "print(process_input(5))\n",
    "print(process_input(5))\n",
    "print(process_input(5))\n",
    "print(process_input(5))"
   ]
  },
  {
   "cell_type": "code",
   "execution_count": 6,
   "metadata": {},
   "outputs": [
    {
     "name": "stdout",
     "output_type": "stream",
     "text": [
      "4\n",
      "time taken: 2.0127\n"
     ]
    }
   ],
   "source": [
    "# taken time finder decorator\n",
    "\n",
    "# old way \n",
    "import time \n",
    "\n",
    "def process_input(n):\n",
    "    # do some calculation\n",
    "    time.sleep(2)\n",
    "    return n**2\n",
    "\n",
    "start = time.perf_counter()\n",
    "print(process_input(2))\n",
    "end = time.perf_counter()\n",
    "print(f\"time taken: {(end - start):.4f}\")"
   ]
  },
  {
   "cell_type": "code",
   "execution_count": 7,
   "metadata": {},
   "outputs": [
    {
     "name": "stdout",
     "output_type": "stream",
     "text": [
      "time taken: 2.0117\n",
      "4\n"
     ]
    }
   ],
   "source": [
    "# decorator way\n",
    "import time \n",
    "\n",
    "def time_logger(fun):\n",
    "    def wrapper(*args, **kwargs):\n",
    "        start = time.perf_counter()\n",
    "        result = fun(*args, **kwargs)\n",
    "        end = time.perf_counter()\n",
    "        print(f\"time taken: {(end - start):.4f}\")\n",
    "        return result\n",
    "    return wrapper\n",
    "\n",
    "@time_logger\n",
    "def process_input(n):\n",
    "    # do some calculation\n",
    "    time.sleep(2)\n",
    "    return n**2\n",
    "\n",
    "print(process_input(2))"
   ]
  },
  {
   "cell_type": "code",
   "execution_count": 15,
   "metadata": {},
   "outputs": [
    {
     "name": "stdout",
     "output_type": "stream",
     "text": [
      "Success!\n"
     ]
    }
   ],
   "source": [
    "# retry decorator\n",
    "\n",
    "# old way\n",
    "import random\n",
    "import time\n",
    "\n",
    "def error_prone_function():\n",
    "    if random.random() < 0.9:\n",
    "        raise ValueError('Error!')\n",
    "    else:\n",
    "        print(\"Success!\")\n",
    "\n",
    "while 1:\n",
    "    try:\n",
    "        error_prone_function()\n",
    "        break\n",
    "    except ValueError as e:\n",
    "        time.sleep(1) # make sence in casae of api call\n"
   ]
  },
  {
   "cell_type": "code",
   "execution_count": 18,
   "metadata": {},
   "outputs": [
    {
     "name": "stdout",
     "output_type": "stream",
     "text": [
      "Failed (1/5)\n",
      "Failed (2/5)\n",
      "Failed (3/5)\n",
      "Success!\n"
     ]
    }
   ],
   "source": [
    "# decorator way\n",
    "import random\n",
    "import time\n",
    "\n",
    "def retry(retries=3, exception=Exception, delay=2):\n",
    "    def decorator(func):\n",
    "        def wrapper(*args, **kwargs):\n",
    "            attempts = 0\n",
    "            while attempts < retries:\n",
    "                try:\n",
    "                    return func(*args, **kwargs)\n",
    "                except Exception as e:\n",
    "                    attempts += 1\n",
    "                    print(f\"Failed ({attempts}/{retries})\")\n",
    "                    time.sleep(delay)\n",
    "            raise exception\n",
    "        return wrapper\n",
    "    return decorator\n",
    "\n",
    "@retry(retries=5, exception=ValueError, delay=1)\n",
    "def error_prone_function():\n",
    "    if random.random() < 0.9:\n",
    "        raise ValueError('Error!')\n",
    "    else:\n",
    "        print(\"Success!\")\n",
    "\n",
    "error_prone_function()"
   ]
  },
  {
   "cell_type": "code",
   "execution_count": 19,
   "metadata": {},
   "outputs": [
    {
     "name": "stdout",
     "output_type": "stream",
     "text": [
      "10hello\n"
     ]
    }
   ],
   "source": [
    "# type checker decorator\n",
    "\n",
    "# old way\n",
    "import random\n",
    "import time\n",
    "\n",
    "def add(a: int, b: int): # Its just hint, not checking\n",
    "    return a + b\n",
    "\n",
    "print(add('10', 'hello'))"
   ]
  },
  {
   "cell_type": "code",
   "execution_count": 25,
   "metadata": {},
   "outputs": [
    {
     "name": "stdout",
     "output_type": "stream",
     "text": [
      "30\n"
     ]
    }
   ],
   "source": [
    "# decorator way\n",
    "\n",
    "def type_check(*expected_types):\n",
    "    def decorator(func):\n",
    "        def wrapper(*args, **kwargs):\n",
    "            for arg, expected_type in zip(args, expected_types):\n",
    "                if not isinstance(arg, expected_type):\n",
    "                    raise TypeError(f\"Expected {expected_type} but got {type(arg)}\")\n",
    "            return func(*args, **kwargs)\n",
    "        return wrapper\n",
    "    return decorator \n",
    "\n",
    "@type_check(int, int)\n",
    "def add(a: int, b: int): # Its just hint, not checking\n",
    "    return a + b\n",
    "\n",
    "# print(add('10', 'hello'))\n",
    "# print(add(10, 'hello'))\n",
    "print(add(10, 20))"
   ]
  },
  {
   "cell_type": "code",
   "execution_count": 27,
   "metadata": {},
   "outputs": [
    {
     "name": "stdout",
     "output_type": "stream",
     "text": [
      "Calling function add with args (10, 20) and kwargs {}\n",
      "Result was 30\n"
     ]
    },
    {
     "data": {
      "text/plain": [
       "30"
      ]
     },
     "execution_count": 27,
     "metadata": {},
     "output_type": "execute_result"
    }
   ],
   "source": [
    "# debug decorator\n",
    "\n",
    "def debug(func):\n",
    "    def wrapper(*args, **kwargs):\n",
    "        print(f\"Calling function {func.__name__} with args {args} and kwargs {kwargs}\")\n",
    "        result = func(*args, **kwargs)\n",
    "        print(f\"Result was {result}\")\n",
    "        return result\n",
    "    return wrapper\n",
    "\n",
    "@debug\n",
    "def add(a: int, b: int): # Its just hint, not checking\n",
    "    return a + b\n",
    "\n",
    "add(10, 20)"
   ]
  },
  {
   "cell_type": "code",
   "execution_count": 31,
   "metadata": {},
   "outputs": [
    {
     "name": "stdout",
     "output_type": "stream",
     "text": [
      "Fetching data...\n",
      "Recived data!!!\n",
      "Fetching data...\n",
      "Recived data!!!\n",
      "Fetching data...\n",
      "Recived data!!!\n"
     ]
    },
    {
     "ename": "RuntimeError",
     "evalue": "Rate limit exceded. Try again later.",
     "output_type": "error",
     "traceback": [
      "\u001b[1;31m---------------------------------------------------------------------------\u001b[0m",
      "\u001b[1;31mRuntimeError\u001b[0m                              Traceback (most recent call last)",
      "Cell \u001b[1;32mIn[31], line 31\u001b[0m\n\u001b[0;32m     29\u001b[0m fetch_data()\n\u001b[0;32m     30\u001b[0m fetch_data()\n\u001b[1;32m---> 31\u001b[0m \u001b[43mfetch_data\u001b[49m\u001b[43m(\u001b[49m\u001b[43m)\u001b[49m\n\u001b[0;32m     32\u001b[0m fetch_data()\n\u001b[0;32m     33\u001b[0m fetch_data()\n",
      "Cell \u001b[1;32mIn[31], line 14\u001b[0m, in \u001b[0;36mrate_limiter.<locals>.decorator.<locals>.wrapper\u001b[1;34m(*args, **kwargs)\u001b[0m\n\u001b[0;32m     11\u001b[0m last_calls \u001b[38;5;241m=\u001b[39m [call_time \u001b[38;5;28;01mfor\u001b[39;00m call_time \u001b[38;5;129;01min\u001b[39;00m last_calls \u001b[38;5;28;01mif\u001b[39;00m now \u001b[38;5;241m-\u001b[39m call_time \u001b[38;5;241m<\u001b[39m period]\n\u001b[0;32m     13\u001b[0m \u001b[38;5;28;01mif\u001b[39;00m \u001b[38;5;28mlen\u001b[39m(last_calls) \u001b[38;5;241m>\u001b[39m calls:\n\u001b[1;32m---> 14\u001b[0m     \u001b[38;5;28;01mraise\u001b[39;00m \u001b[38;5;167;01mRuntimeError\u001b[39;00m(\u001b[38;5;124m\"\u001b[39m\u001b[38;5;124mRate limit exceded. Try again later.\u001b[39m\u001b[38;5;124m\"\u001b[39m)\n\u001b[0;32m     16\u001b[0m last_calls\u001b[38;5;241m.\u001b[39mappend(now)\n\u001b[0;32m     18\u001b[0m \u001b[38;5;28;01mreturn\u001b[39;00m func(\u001b[38;5;241m*\u001b[39margs, \u001b[38;5;241m*\u001b[39m\u001b[38;5;241m*\u001b[39mkwargs)\n",
      "\u001b[1;31mRuntimeError\u001b[0m: Rate limit exceded. Try again later."
     ]
    }
   ],
   "source": [
    "# fetch limiter decorator\n",
    "\n",
    "def rate_limiter(calls, period):\n",
    "    def decorator(func):\n",
    "        last_calls = []\n",
    "        def wrapper(*args, **kwargs):\n",
    "            nonlocal last_calls\n",
    "\n",
    "            now = time.time()\n",
    "\n",
    "            last_calls = [call_time for call_time in last_calls if now - call_time < period]\n",
    "\n",
    "            if len(last_calls) > calls:\n",
    "                raise RuntimeError(\"Rate limit exceded. Try again later.\")\n",
    "            \n",
    "            last_calls.append(now)\n",
    "\n",
    "            return func(*args, **kwargs)\n",
    "        return wrapper\n",
    "    return decorator\n",
    "\n",
    "@rate_limiter(calls=2, period=5)\n",
    "def fetch_data():\n",
    "    print('Fetching data...')\n",
    "    time.sleep(1)\n",
    "    print('Recived data!!!')\n",
    "\n",
    "fetch_data()\n",
    "fetch_data()\n",
    "fetch_data()\n",
    "fetch_data()\n",
    "fetch_data()\n",
    "fetch_data()"
   ]
  },
  {
   "cell_type": "code",
   "execution_count": null,
   "metadata": {},
   "outputs": [],
   "source": []
  }
 ],
 "metadata": {
  "kernelspec": {
   "display_name": "Python 3",
   "language": "python",
   "name": "python3"
  },
  "language_info": {
   "codemirror_mode": {
    "name": "ipython",
    "version": 3
   },
   "file_extension": ".py",
   "mimetype": "text/x-python",
   "name": "python",
   "nbconvert_exporter": "python",
   "pygments_lexer": "ipython3",
   "version": "3.10.11"
  }
 },
 "nbformat": 4,
 "nbformat_minor": 2
}
