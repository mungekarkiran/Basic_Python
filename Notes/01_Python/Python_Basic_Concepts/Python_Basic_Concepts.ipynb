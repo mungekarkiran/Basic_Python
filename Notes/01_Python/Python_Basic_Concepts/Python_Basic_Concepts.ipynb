{
 "cells": [
  {
   "cell_type": "markdown",
   "id": "edebaa4d",
   "metadata": {},
   "source": [
    "# Python Course Introduction: Assignment"
   ]
  },
  {
   "cell_type": "markdown",
   "id": "c8ce63b4",
   "metadata": {},
   "source": [
    "1. What is Python?\n",
    ">Python is a computer programming language often used to build websites and software, automate tasks, and analyze data. Python is a general-purpose language, not specialized for any specific problems, and used to create various programmes.\n",
    "Python is an interpreted, object-oriented, high-level programming language with dynamic semantics. \n",
    "\n",
    "2. What are the key features of Python?\n",
    ">- Easy to Code\n",
    ">- Open Source & Free Software\n",
    ">- Support for GUI\n",
    ">- Object-Oriented Methodology\n",
    ">- High-Level Language\n",
    ">- Highly Portable Language\n",
    ">- Integrated by nature\n",
    ">- Extremely Dynamic\n",
    ">- Extensive Array of Libraries\n",
    ">- Supportive of Other Languages\n",
    ">- Community Support\n",
    ">- Multipurpose\n",
    ">- Machine Learning\n",
    "\n",
    "3. Explain the difference between Python 2 and Python 3.\n",
    ">- Unicode. By default, Python 3 encodes strings using Unicode rather than ASCII.\n",
    ">- Range functions. Python 3’s range() function replaced Python 2’s xrange() function, improving performance when iterating over sequences.\n",
    ">- Exception handling. Python 3’s exceptions are enclosed in parentheses, while Python 2’s exceptions are enclosed in notations.\n",
    ">- Integer division. In Python 3, the result of an integer division is a float value. In Python 2, the decimals are truncated.\n",
    ">- Annotations. Python 3 supports type annotations, whereas Python 2 does not. This feature can help with reading and maintaining code.\n",
    ">- Print statement. Python 3 replaces the print statement with a print function.\n",
    ">- Syntax. Python 3’s syntax is considered easier to understand and more readable than Python 2’s, which uses more complex syntax.\n",
    ">- Backward compatibility. Python 3 is not backward compatible with Python 2, whereas Python 2 is backward compatible with previous versions of Python; in other words, code written for Python 1.x can still run on Python 2 without significant modifications.\n",
    "\n",
    "4. How is memory managed in Python?\n",
    "> Classify memory management in Python in one of two ways: dynamic allocation or static allocation. Dynamic allocation occurs as the program is running. This means that as the program operates, it can dynamically determine where to allocate memory while reusing and releasing it. Static memory allocation happens before the running of a program, predetermining the amount and distribution of the memory, and without the ability to reuse memory.\n",
    "\n",
    "5. Write a Python code snippet to swap two variables without using a temporary variable.\n",
    "> \n",
    ">```\n",
    ">a, b = 10, 20\n",
    ">a, b = b, a\n",
    ">```"
   ]
  },
  {
   "cell_type": "markdown",
   "id": "343b872e",
   "metadata": {},
   "source": [
    "6. What are Python Decorators?\n",
    "> A decorator is a design pattern in Python that allows a user to add new functionality to an existing object without modifying its structure. Decorators are typically applied to functions, and they play a crucial role in enhancing or modifying the behavior of functions."
   ]
  },
  {
   "cell_type": "markdown",
   "id": "8baca1a1",
   "metadata": {},
   "source": [
    "7. Explain the concept of Python Generators.\n",
    "> A generator function in Python is defined like a normal function, but whenever it needs to generate a value, it does so with the yield keyword rather than return. If the body of a def contains yield, the function automatically becomes a Python generator function.\n",
    "```\n",
    "# A simple generator for Fibonacci Numbers \n",
    "def fib(limit): \n",
    "\t# Initialize first two Fibonacci Numbers \n",
    "\ta, b = 0, 1\n",
    "\t# One by one yield next Fibonacci Number \n",
    "\twhile a < limit: \n",
    "\t\tyield a \n",
    "\t\ta, b = b, a + b \n",
    "# Create a generator object \n",
    "x = fib(5) \n",
    "# Iterating over the generator object using next \n",
    "# In Python 3, __next__() \n",
    "print(next(x)) \n",
    "print(next(x)) \n",
    "print(next(x)) \n",
    "print(next(x)) \n",
    "print(next(x)) \n",
    "# Iterating over the generator object using for \n",
    "# in loop. \n",
    "print(\"\\nUsing for in loop\") \n",
    "for i in fib(5):\n",
    "    print(i)\n",
    "```"
   ]
  },
  {
   "cell_type": "markdown",
   "id": "5283c5a6",
   "metadata": {},
   "source": [
    "8. Write a Python function to check if a given number is prime.\n",
    "```\n",
    "Input:  n = 11\n",
    "Output: True\n",
    "Input:  n = 1\n",
    "Output: False\n",
    "Explanation: A prime number is a natural number greater than 1 that\n",
    " has no positive divisors other than 1 and itself.\n",
    "  The first few prime numbers are {2, 3, 5, 7, 11, ….}. \n",
    "```\n",
    ">\n",
    "```\n",
    "num = 11\n",
    "# If given number is greater than 1\n",
    "if num > 1:\n",
    "    # Iterate from 2 to n // 2\n",
    "    for i in range(2, (num//2)+1):\n",
    "        # If num is divisible by any number between\n",
    "        # 2 and n / 2, it is not prime\n",
    "        if (num % i) == 0:\n",
    "            print(num, \"is not a prime number\")\n",
    "            break\n",
    "    else:\n",
    "        print(num, \"is a prime number\")\n",
    "else:\n",
    "    print(num, \"is not a prime number\")\n",
    "```\n",
    ">\n",
    "```\n",
    "from math import sqrt\n",
    "# n is the number to be check whether it is prime or not\n",
    "n = 1\n",
    "# this flag maintains status whether the n is prime or not\n",
    "prime_flag = 0\n",
    "if(n > 1):\n",
    "    for i in range(2, int(sqrt(n)) + 1):\n",
    "        if (n % i == 0):\n",
    "            prime_flag = 1\n",
    "            break\n",
    "    if (prime_flag == 0):\n",
    "        print(\"True\")\n",
    "    else:\n",
    "        print(\"False\")\n",
    "else:\n",
    "    print(\"False\")\n",
    "```\n",
    ">\n",
    "```\n",
    "def find_prime(n):\n",
    "    if n > 1:\n",
    "        for i in range(2, int(n//2) + 1):\n",
    "            if n%i == 0:\n",
    "                return False\n",
    "        return True\n",
    "find_prime(10)\n",
    "```"
   ]
  },
  {
   "cell_type": "markdown",
   "id": "c1e37c14",
   "metadata": {},
   "source": [
    "9. What is the difference between list and tuple in Python?\n",
    "| List | Tuple | \n",
    "|----------|----------|\n",
    "| Lists are mutable | Tuples are immutable |\n",
    "| The implication of iterations is Time-consuming | The implication of iterations is comparatively Faster |\n",
    "| The list is better for performing operations, such as insertion and deletion. | A Tuple data type is appropriate for accessing the elements |\n",
    "| Lists consume more memory | Tuple consumes less memory as compared to the list |\n",
    "| Lists have several built-in methods | Tuple does not have many built-in methods. |\n",
    "| Unexpected changes and errors are more likely to occur | Because tuples don’t change they are far less error-prone. |\n"
   ]
  },
  {
   "cell_type": "markdown",
   "id": "332cdfee",
   "metadata": {},
   "source": [
    "10. Explain the use of 'self' in Python classes.\n",
    "> The use of “self” in Python is important for several reasons: Accessing instance variables and methods: “self” is used to access and manipulate the instance variables and methods within a class. Without “self,” it would be impossible to differentiate between instance variables and class variables or methods."
   ]
  },
  {
   "cell_type": "code",
   "execution_count": 30,
   "id": "0f4e1ea9",
   "metadata": {},
   "outputs": [
    {
     "name": "stdout",
     "output_type": "stream",
     "text": [
      "17 % 2 = 1\n",
      "17 % 3 = 2\n",
      "17 % 4 = 1\n"
     ]
    }
   ],
   "source": [
    "n = 17\n",
    "for i in range(2, int(sqrt(n)) + 1):\n",
    "    print(f\"{n} % {i} = {n%i}\")"
   ]
  },
  {
   "cell_type": "markdown",
   "id": "f58bf411",
   "metadata": {},
   "source": [
    "11. What is a Python virtual environment? How is it created?\n",
    "> A virtual environment is created on top of an existing Python installation, known as the virtual environment's “base” Python, and may optionally be isolated from the packages in the base environment, so only those explicitly installed in the virtual environment are available.\n",
    "\n",
    "```\n",
    "- Installing virtualenv\n",
    "pip install virtualenv\n",
    "\n",
    "- Test your installation\n",
    "virtualenv --version\n",
    "\n",
    "- create a virtualenv \n",
    "virtualenv venv\n",
    "\n",
    "- activate it\n",
    "venv\\Scripts\\activate\n",
    "(set-executionpolicy remotesigned)\n",
    "\n",
    "- deactivate the virtual environment\n",
    "deactivate\n",
    "\n",
    "> pip freeze >> requirments.txt\n",
    "- ex. : pip install numpy==1.15.4\n",
    "- pip install -r .\\requirments.txt\n",
    "```\n"
   ]
  },
  {
   "cell_type": "markdown",
   "id": "544ea3ea",
   "metadata": {},
   "source": [
    "12. Write a Python code snippet to reverse a string.\n",
    "```\n",
    "s = 'String'\n",
    "s[::-1]\n",
    "```"
   ]
  },
  {
   "cell_type": "markdown",
   "id": "5228210b",
   "metadata": {},
   "source": [
    "13. Explain the purpose of PEP 8 in Python.\n",
    "> PEP 8, sometimes spelled PEP8 or PEP-8, is a document that provides guidelines and best practices on how to write Python code. It was written in 2001 by Guido van Rossum, Barry Warsaw, and Alyssa Coghlan. The primary focus of PEP 8 is to improve the readability and consistency of Python code."
   ]
  },
  {
   "cell_type": "markdown",
   "id": "5e130020",
   "metadata": {},
   "source": [
    "14. What is the output of the following code snippet: print('Python'[-3:])?\n",
    "> hon"
   ]
  },
  {
   "cell_type": "code",
   "execution_count": 41,
   "id": "f2452fd4",
   "metadata": {},
   "outputs": [
    {
     "data": {
      "text/plain": [
       "True"
      ]
     },
     "execution_count": 41,
     "metadata": {},
     "output_type": "execute_result"
    }
   ],
   "source": [
    "bool('False')"
   ]
  },
  {
   "cell_type": "code",
   "execution_count": 42,
   "id": "8263447a",
   "metadata": {},
   "outputs": [
    {
     "data": {
      "text/plain": [
       "False"
      ]
     },
     "execution_count": 42,
     "metadata": {},
     "output_type": "execute_result"
    }
   ],
   "source": [
    "5 == True "
   ]
  },
  {
   "cell_type": "code",
   "execution_count": 43,
   "id": "567224fa",
   "metadata": {},
   "outputs": [
    {
     "data": {
      "text/plain": [
       "2.3333333333333335"
      ]
     },
     "execution_count": 43,
     "metadata": {},
     "output_type": "execute_result"
    }
   ],
   "source": [
    "7 / 3 "
   ]
  },
  {
   "cell_type": "code",
   "execution_count": null,
   "id": "6247b642",
   "metadata": {},
   "outputs": [],
   "source": []
  },
  {
   "cell_type": "code",
   "execution_count": null,
   "id": "435ba680",
   "metadata": {},
   "outputs": [],
   "source": [
    "# I am a new to Jupyter Notebook too, must say that their documentation is awful as they say what we can do instead of HOW to do it. I have opened already made '.ipynb' notebook and figured it out, I will list a couple of them from unexplained documentation:\n",
    "\n",
    "# Make text ITALIC: *Italic*\n",
    "# Make text BOLD: **Bold**\n",
    "# List item as a bullet: dash and space -\n",
    "# List item as a number: Simple as number and dot 1.\n",
    "# Indenting text: Greater than and space >\n",
    "# Inline code span: Back quotation mark \" ` \"\n",
    "# Block of code: Triple back quotation marks \" ``` \"\n",
    "# Link a section: [Title of Section](#title-of-section)\n",
    "# Hyperlink: [Text](URL)\n",
    "# I hope everyone has found their solution."
   ]
  },
  {
   "cell_type": "code",
   "execution_count": null,
   "id": "dab599e8",
   "metadata": {},
   "outputs": [],
   "source": []
  },
  {
   "cell_type": "markdown",
   "id": "5d956363",
   "metadata": {},
   "source": [
    "# if elif and else "
   ]
  },
  {
   "cell_type": "markdown",
   "id": "ba3942ee",
   "metadata": {},
   "source": [
    "### 1. Can we start from `elif` ?\n",
    "> No, we have to start from if only"
   ]
  },
  {
   "cell_type": "code",
   "execution_count": 1,
   "id": "2905b217",
   "metadata": {},
   "outputs": [
    {
     "ename": "SyntaxError",
     "evalue": "invalid syntax (3553911958.py, line 3)",
     "output_type": "error",
     "traceback": [
      "\u001b[1;36m  Cell \u001b[1;32mIn[1], line 3\u001b[1;36m\u001b[0m\n\u001b[1;33m    elif a > b:\u001b[0m\n\u001b[1;37m    ^\u001b[0m\n\u001b[1;31mSyntaxError\u001b[0m\u001b[1;31m:\u001b[0m invalid syntax\n"
     ]
    }
   ],
   "source": [
    "a, b = 10, 20\n",
    "\n",
    "elif a > b:\n",
    "    print('a > b')\n",
    "else:\n",
    "    print('a < b')"
   ]
  },
  {
   "cell_type": "markdown",
   "id": "bb0057e5",
   "metadata": {},
   "source": [
    "# Problem Statement: Shipping Cost Calculator\n",
    "You need to write a program that calculates the shipping cost of a package based on its weight. The shipping cost is determined by the following rules:\n",
    "> 1. If the weight is less than or equal to 1 kg, the cost is `$5.00`.\n",
    "> 2. If the weight is greater than 1 kg but less than or equal to 3 kg, the cost is `$10.00`.\n",
    "> 3. If the weight is greater than 3 kg but less than or equal to 5 kg, the cost is `$15.00`.\n",
    "> 4. If the weight is greater than 5 kg but less than or equal to 10 kg, the cost is `$25.00`. \n",
    "> 5. If the weight is greater than 10 kg, the cost is `$50.00`."
   ]
  },
  {
   "cell_type": "code",
   "execution_count": 3,
   "id": "fbd51012",
   "metadata": {},
   "outputs": [
    {
     "name": "stdout",
     "output_type": "stream",
     "text": [
      "Enter weight : 7\n",
      "the cost is $25.00\n"
     ]
    }
   ],
   "source": [
    "weight = float(input('Enter weight : '))\n",
    "\n",
    "if weight <= 1:\n",
    "    print('the cost is $5.00')\n",
    "elif 1 < weight <= 3:\n",
    "    print('the cost is $10.00')\n",
    "elif 3 < weight <= 5:\n",
    "    print('the cost is $15.00')\n",
    "elif 5 < weight <= 10:\n",
    "    print('the cost is $25.00')\n",
    "else:\n",
    "    print('the cost is $50.00')"
   ]
  },
  {
   "cell_type": "markdown",
   "id": "88bad3df",
   "metadata": {},
   "source": [
    "# ATM function"
   ]
  },
  {
   "cell_type": "code",
   "execution_count": 6,
   "id": "4ff47c13",
   "metadata": {},
   "outputs": [
    {
     "name": "stdout",
     "output_type": "stream",
     "text": [
      "\n",
      "ATM Menu\n",
      "1. Check Balance\n",
      "2. Deposit Money\n",
      "3. Withdraw Money\n",
      "4. Exit\n",
      "Enter your choice: 3\n",
      "Enter the amount to withdraw: 10\n",
      "$10.0 has been withdrawn. New balance is: $990.0\n",
      "\n",
      "ATM Menu\n",
      "1. Check Balance\n",
      "2. Deposit Money\n",
      "3. Withdraw Money\n",
      "4. Exit\n",
      "Enter your choice: 4\n",
      "Thank you for using the ATM. Goodbye!\n"
     ]
    }
   ],
   "source": [
    "def atm():\n",
    "    balance = 1000 # Initial balance\n",
    "    while True:\n",
    "        print(\"\\nATM Menu\")\n",
    "        print(\"1. Check Balance\")\n",
    "        print(\"2. Deposit Money\")\n",
    "        print(\"3. Withdraw Money\")\n",
    "        print(\"4. Exit\")\n",
    "\n",
    "        choice = int(input(\"Enter your choice: \"))\n",
    "        if choice == 1:\n",
    "            # Check balance\n",
    "            print (f\"Your current balance is: ${balance}\")\n",
    "        elif choice == 2:\n",
    "            # Deposit money\n",
    "            amount = float(input(\"Enter the amount to deposit: \"))\n",
    "            if amount > 0:\n",
    "                balance += amount\n",
    "                print (f\"${amount} has been deposited. New balance is: ${balance}\")\n",
    "        elif choice == 3:\n",
    "            # Withdraw money\n",
    "            amount = float(input(\"Enter the amount to withdraw: \"))\n",
    "            if amount > 0:\n",
    "                if amount <= balance:\n",
    "                    balance -= amount\n",
    "                    print(f\"${amount} has been withdrawn. New balance is: ${balance}\")\n",
    "                else:\n",
    "                    print(\"Insufficient balance.\")\n",
    "            else:\n",
    "                print(\"Invalid amount. Please enter a positive number.\")\n",
    "        elif choice == 4:\n",
    "            # Exit\n",
    "            print(\"Thank you for using the ATM. Goodbye!\")\n",
    "            break\n",
    "        else:\n",
    "            print(\"Invalid choice. Please select a valid option.\")\n",
    "atm()"
   ]
  },
  {
   "cell_type": "markdown",
   "id": "95540ec4",
   "metadata": {},
   "source": [
    "# Break and Continue"
   ]
  },
  {
   "cell_type": "code",
   "execution_count": 14,
   "id": "3957af08",
   "metadata": {},
   "outputs": [
    {
     "name": "stdout",
     "output_type": "stream",
     "text": [
      "result of the ball number 1 : 2\n",
      "you have 1 legal balls\n",
      "result of the ball number 2 : 1\n",
      "you have 2 legal balls\n",
      "result of the ball number 3 : 1\n",
      "you have 3 legal balls\n",
      "result of the ball number 4 : 8\n",
      "this is wide ball\n",
      "result of the ball number 5 : 8\n",
      "this is wide ball\n",
      "result of the ball number 6 : 4\n",
      "you have 4 legal balls\n",
      "result of the ball number 7 : 4\n",
      "you have 5 legal balls\n",
      "result of the ball number 8 : 6\n",
      "you have 6 legal balls\n",
      "end of the over\n"
     ]
    }
   ],
   "source": [
    "def count_legal_balls():\n",
    "    legal_ball = 0\n",
    "    ball_number = 1\n",
    "    \n",
    "    while legal_ball < 6:\n",
    "        ball = int(input(f\"result of the ball number {ball_number} : \"))\n",
    "        ball_number += 1\n",
    "        \n",
    "        if ball ==8:\n",
    "            print(\"this is wide ball\")\n",
    "            continue\n",
    "            \n",
    "        legal_ball += 1\n",
    "        print(f\"you have {legal_ball} legal balls\")\n",
    "        \n",
    "    print(\"end of the over\")\n",
    "count_legal_balls()"
   ]
  },
  {
   "cell_type": "markdown",
   "id": "bf814a6e",
   "metadata": {},
   "source": [
    "# fibonacci"
   ]
  },
  {
   "cell_type": "code",
   "execution_count": 20,
   "id": "a272c7fd",
   "metadata": {},
   "outputs": [
    {
     "data": {
      "text/plain": [
       "3"
      ]
     },
     "execution_count": 20,
     "metadata": {},
     "output_type": "execute_result"
    }
   ],
   "source": [
    "def fibonacci(n):\n",
    "    \"\"\"\n",
    "    The Fibonacci sequence is the series of numbers \n",
    "    where each number is the sum of the two preceding numbers. \n",
    "    For example, 0, 1, 1, 2, 3, 5, 8, 13, 21, 34, 55, \n",
    "    89, 144, 233, 377, 610, …\n",
    "    \"\"\"\n",
    "    if n <= 0:\n",
    "        print('input should be positive number')\n",
    "    elif n == 1:\n",
    "        return 0\n",
    "    elif n == 2:\n",
    "        return 1\n",
    "    else:\n",
    "        return fibonacci(n-1) + fibonacci(n-2)\n",
    "n_th = 5\n",
    "fibonacci(n_th)"
   ]
  },
  {
   "cell_type": "code",
   "execution_count": null,
   "id": "34838df1",
   "metadata": {},
   "outputs": [],
   "source": []
  },
  {
   "cell_type": "code",
   "execution_count": null,
   "id": "765eea55",
   "metadata": {},
   "outputs": [],
   "source": []
  }
 ],
 "metadata": {
  "kernelspec": {
   "display_name": "Python 3 (ipykernel)",
   "language": "python",
   "name": "python3"
  },
  "language_info": {
   "codemirror_mode": {
    "name": "ipython",
    "version": 3
   },
   "file_extension": ".py",
   "mimetype": "text/x-python",
   "name": "python",
   "nbconvert_exporter": "python",
   "pygments_lexer": "ipython3",
   "version": "3.10.11"
  }
 },
 "nbformat": 4,
 "nbformat_minor": 5
}
