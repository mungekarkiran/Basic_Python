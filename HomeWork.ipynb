{
 "cells": [
  {
   "cell_type": "markdown",
   "metadata": {},
   "source": [
    "# 1. You have to write a function which will take string and return a len of it without using a in-built function len."
   ]
  },
  {
   "cell_type": "code",
   "execution_count": 6,
   "metadata": {},
   "outputs": [],
   "source": [
    "def len_of_string(a):\n",
    "    '''\n",
    "    This function is used to return the lenth of the string only.\n",
    "    \n",
    "    len_of_string(a)\n",
    "    \n",
    "    Input:\n",
    "    -- a: A variable to hold the input value.\n",
    "    \n",
    "    Output:\n",
    "    -- It return the length of given string only, else it will print the error and return None (Nothing).\n",
    "    \n",
    "    '''\n",
    "    \n",
    "    if type(a)==str:\n",
    "        c=0\n",
    "        for i in a:\n",
    "            c+=1\n",
    "        return c\n",
    "    else:\n",
    "        print('Error : object is not in the form of string. ')\n"
   ]
  },
  {
   "cell_type": "code",
   "execution_count": 7,
   "metadata": {},
   "outputs": [
    {
     "data": {
      "text/plain": [
       "12"
      ]
     },
     "execution_count": 7,
     "metadata": {},
     "output_type": "execute_result"
    }
   ],
   "source": [
    "len_of_string('hello python')"
   ]
  },
  {
   "cell_type": "code",
   "execution_count": 8,
   "metadata": {},
   "outputs": [
    {
     "data": {
      "text/plain": [
       "22"
      ]
     },
     "execution_count": 8,
     "metadata": {},
     "output_type": "execute_result"
    }
   ],
   "source": [
    "len_of_string('hello python 789654123')"
   ]
  },
  {
   "cell_type": "code",
   "execution_count": 9,
   "metadata": {},
   "outputs": [
    {
     "name": "stdout",
     "output_type": "stream",
     "text": [
      "Error : object is not in the form of string. \n"
     ]
    }
   ],
   "source": [
    "len_of_string(123)"
   ]
  },
  {
   "cell_type": "code",
   "execution_count": 10,
   "metadata": {},
   "outputs": [
    {
     "name": "stdout",
     "output_type": "stream",
     "text": [
      "Error : object is not in the form of string. \n"
     ]
    }
   ],
   "source": [
    "len_of_string(['123','456','789'])"
   ]
  },
  {
   "cell_type": "code",
   "execution_count": null,
   "metadata": {},
   "outputs": [],
   "source": []
  },
  {
   "cell_type": "markdown",
   "metadata": {},
   "source": [
    "# 2. Write a function which will be able to print an index of all premitive element which you will pass. "
   ]
  },
  {
   "cell_type": "code",
   "execution_count": 28,
   "metadata": {},
   "outputs": [],
   "source": [
    "def index_of_element(b):\n",
    "    '''\n",
    "    This function is used to print an index of all premitive element.\n",
    "    \n",
    "    index_of_element(b)\n",
    "    \n",
    "    Input:\n",
    "    -- b: A variable to hold the input value or a premitive element like string, list, tuple, dictionary, etc.\n",
    "    \n",
    "    Output:\n",
    "    -- This function is print the index value of each element and return None (Norhing).\n",
    "    \n",
    "    '''\n",
    "    \n",
    "    if type(b)==str or type(b)==list or type(b)==tuple:\n",
    "        print(f'The given input \"{b}\" is type of {type(b)}.\\n')\n",
    "        for ind in range(len(b)):\n",
    "            print(f'Value {b[ind]} is on an index : {ind}. ')\n",
    "    elif type(b)==dict:\n",
    "        print(f'The given input \"{b}\" is type of {type(b)}.\\n')\n",
    "        k = list(b.keys())\n",
    "        for ind in range(len(k)):\n",
    "            print(f'Value {b[k[ind]]} is on an index : {k[ind]}. ')\n",
    "    elif type(b)==set:\n",
    "        print(f'The given input \"{b}\" is type of {type(b)}.\\n')\n",
    "        print('Error : \"set\" object does not support indexing. ')\n",
    "    else:\n",
    "        print(f'The given input \"{b}\" is type of {type(b)}.\\n')\n",
    "    "
   ]
  },
  {
   "cell_type": "code",
   "execution_count": 29,
   "metadata": {},
   "outputs": [
    {
     "name": "stdout",
     "output_type": "stream",
     "text": [
      "The given input \"common language\" is type of <class 'str'>.\n",
      "\n",
      "Value c is on an index : 0. \n",
      "Value o is on an index : 1. \n",
      "Value m is on an index : 2. \n",
      "Value m is on an index : 3. \n",
      "Value o is on an index : 4. \n",
      "Value n is on an index : 5. \n",
      "Value   is on an index : 6. \n",
      "Value l is on an index : 7. \n",
      "Value a is on an index : 8. \n",
      "Value n is on an index : 9. \n",
      "Value g is on an index : 10. \n",
      "Value u is on an index : 11. \n",
      "Value a is on an index : 12. \n",
      "Value g is on an index : 13. \n",
      "Value e is on an index : 14. \n"
     ]
    }
   ],
   "source": [
    "index_of_element('common language')"
   ]
  },
  {
   "cell_type": "code",
   "execution_count": 30,
   "metadata": {},
   "outputs": [
    {
     "name": "stdout",
     "output_type": "stream",
     "text": [
      "The given input \"[15, 35, 36, 2, 6, 8, 4, 5, 55, 77]\" is type of <class 'list'>.\n",
      "\n",
      "Value 15 is on an index : 0. \n",
      "Value 35 is on an index : 1. \n",
      "Value 36 is on an index : 2. \n",
      "Value 2 is on an index : 3. \n",
      "Value 6 is on an index : 4. \n",
      "Value 8 is on an index : 5. \n",
      "Value 4 is on an index : 6. \n",
      "Value 5 is on an index : 7. \n",
      "Value 55 is on an index : 8. \n",
      "Value 77 is on an index : 9. \n"
     ]
    }
   ],
   "source": [
    "index_of_element([15,35,36,2,6,8,4,5,55,77])"
   ]
  },
  {
   "cell_type": "code",
   "execution_count": 31,
   "metadata": {},
   "outputs": [
    {
     "name": "stdout",
     "output_type": "stream",
     "text": [
      "The given input \"['qrt', 'qfd', 'asq', 'qsd', 'qwe']\" is type of <class 'list'>.\n",
      "\n",
      "Value qrt is on an index : 0. \n",
      "Value qfd is on an index : 1. \n",
      "Value asq is on an index : 2. \n",
      "Value qsd is on an index : 3. \n",
      "Value qwe is on an index : 4. \n"
     ]
    }
   ],
   "source": [
    "index_of_element(['qrt','qfd','asq','qsd','qwe'])"
   ]
  },
  {
   "cell_type": "code",
   "execution_count": 32,
   "metadata": {},
   "outputs": [
    {
     "name": "stdout",
     "output_type": "stream",
     "text": [
      "The given input \"['qrt', 'qfd', 'asq', 'qsd', [15, 36, 9, 44]]\" is type of <class 'list'>.\n",
      "\n",
      "Value qrt is on an index : 0. \n",
      "Value qfd is on an index : 1. \n",
      "Value asq is on an index : 2. \n",
      "Value qsd is on an index : 3. \n",
      "Value [15, 36, 9, 44] is on an index : 4. \n"
     ]
    }
   ],
   "source": [
    "index_of_element(['qrt','qfd','asq','qsd',[15,36,9,44]])"
   ]
  },
  {
   "cell_type": "code",
   "execution_count": 33,
   "metadata": {},
   "outputs": [
    {
     "name": "stdout",
     "output_type": "stream",
     "text": [
      "The given input \"('qrt', 'qfd', 'asq', 'qsd')\" is type of <class 'tuple'>.\n",
      "\n",
      "Value qrt is on an index : 0. \n",
      "Value qfd is on an index : 1. \n",
      "Value asq is on an index : 2. \n",
      "Value qsd is on an index : 3. \n"
     ]
    }
   ],
   "source": [
    "index_of_element(('qrt','qfd','asq','qsd'))"
   ]
  },
  {
   "cell_type": "code",
   "execution_count": 34,
   "metadata": {},
   "outputs": [
    {
     "name": "stdout",
     "output_type": "stream",
     "text": [
      "The given input \"{'qrt': 'qfd', 'asq': 'qsd'}\" is type of <class 'dict'>.\n",
      "\n",
      "Value qfd is on an index : qrt. \n",
      "Value qsd is on an index : asq. \n"
     ]
    }
   ],
   "source": [
    "index_of_element({'qrt':'qfd','asq':'qsd'})"
   ]
  },
  {
   "cell_type": "code",
   "execution_count": 35,
   "metadata": {},
   "outputs": [
    {
     "name": "stdout",
     "output_type": "stream",
     "text": [
      "The given input \"{12: 'qfd', 23: 'qsd', 1: 'ieo', 3: 'dpp'}\" is type of <class 'dict'>.\n",
      "\n",
      "Value qfd is on an index : 12. \n",
      "Value qsd is on an index : 23. \n",
      "Value ieo is on an index : 1. \n",
      "Value dpp is on an index : 3. \n"
     ]
    }
   ],
   "source": [
    "index_of_element({12:'qfd',23:'qsd',1:'ieo',3:'dpp'})"
   ]
  },
  {
   "cell_type": "code",
   "execution_count": 36,
   "metadata": {},
   "outputs": [
    {
     "name": "stdout",
     "output_type": "stream",
     "text": [
      "The given input \"{'qrt', 'qfd', 'qsd', 'asq'}\" is type of <class 'set'>.\n",
      "\n",
      "Error : \"set\" object does not support indexing. \n"
     ]
    }
   ],
   "source": [
    "index_of_element({'qrt','qfd','asq','qsd'})"
   ]
  },
  {
   "cell_type": "code",
   "execution_count": null,
   "metadata": {},
   "outputs": [],
   "source": []
  },
  {
   "cell_type": "markdown",
   "metadata": {},
   "source": [
    "# 3. Write a function which will take input as a dict and give me out as a list of all the values even in case of 2 level nesting it should work . "
   ]
  },
  {
   "cell_type": "code",
   "execution_count": null,
   "metadata": {},
   "outputs": [],
   "source": [
    "def dict_to_list(d):\n",
    "    '''\n",
    "    This function is used to return a list of values from the dictionary even in case of 2 level nesting.\n",
    "    \n",
    "    dict_to_list(d)\n",
    "    \n",
    "    Input:\n",
    "    -- d: \n",
    "    \n",
    "    '''"
   ]
  }
 ],
 "metadata": {
  "kernelspec": {
   "display_name": "Python 3",
   "language": "python",
   "name": "python3"
  },
  "language_info": {
   "codemirror_mode": {
    "name": "ipython",
    "version": 3
   },
   "file_extension": ".py",
   "mimetype": "text/x-python",
   "name": "python",
   "nbconvert_exporter": "python",
   "pygments_lexer": "ipython3",
   "version": "3.6.7"
  }
 },
 "nbformat": 4,
 "nbformat_minor": 2
}
