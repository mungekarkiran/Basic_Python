{
 "cells": [
  {
   "cell_type": "markdown",
   "metadata": {},
   "source": [
    "# 1. You have to write a function which will take string and return a len of it without using a in-built function len."
   ]
  },
  {
   "cell_type": "code",
   "execution_count": 6,
   "metadata": {},
   "outputs": [],
   "source": [
    "def len_of_string(a):\n",
    "    '''\n",
    "    This function is used to return the lenth of the string only.\n",
    "    \n",
    "    len_of_string(a)\n",
    "    \n",
    "    Input:\n",
    "    -- a: A variable to hold the input value.\n",
    "    \n",
    "    Output:\n",
    "    -- It return the length of given string only, else it will print the error and return None (Nothing).\n",
    "    \n",
    "    '''\n",
    "    \n",
    "    if type(a)==str:\n",
    "        c=0\n",
    "        for i in a:\n",
    "            c+=1\n",
    "        return c\n",
    "    else:\n",
    "        print('Error : object is not in the form of string. ')\n"
   ]
  },
  {
   "cell_type": "code",
   "execution_count": 7,
   "metadata": {},
   "outputs": [
    {
     "data": {
      "text/plain": [
       "12"
      ]
     },
     "execution_count": 7,
     "metadata": {},
     "output_type": "execute_result"
    }
   ],
   "source": [
    "len_of_string('hello python')"
   ]
  },
  {
   "cell_type": "code",
   "execution_count": 8,
   "metadata": {},
   "outputs": [
    {
     "data": {
      "text/plain": [
       "22"
      ]
     },
     "execution_count": 8,
     "metadata": {},
     "output_type": "execute_result"
    }
   ],
   "source": [
    "len_of_string('hello python 789654123')"
   ]
  },
  {
   "cell_type": "code",
   "execution_count": 9,
   "metadata": {},
   "outputs": [
    {
     "name": "stdout",
     "output_type": "stream",
     "text": [
      "Error : object is not in the form of string. \n"
     ]
    }
   ],
   "source": [
    "len_of_string(123)"
   ]
  },
  {
   "cell_type": "code",
   "execution_count": 10,
   "metadata": {},
   "outputs": [
    {
     "name": "stdout",
     "output_type": "stream",
     "text": [
      "Error : object is not in the form of string. \n"
     ]
    }
   ],
   "source": [
    "len_of_string(['123','456','789'])"
   ]
  },
  {
   "cell_type": "code",
   "execution_count": null,
   "metadata": {},
   "outputs": [],
   "source": []
  },
  {
   "cell_type": "markdown",
   "metadata": {},
   "source": [
    "# 2. Write a function which will be able to print an index of all premitive element which you will pass. "
   ]
  },
  {
   "cell_type": "code",
   "execution_count": 28,
   "metadata": {},
   "outputs": [],
   "source": [
    "def index_of_element(b):\n",
    "    '''\n",
    "    This function is used to print an index of all premitive element.\n",
    "    \n",
    "    index_of_element(b)\n",
    "    \n",
    "    Input:\n",
    "    -- b: A variable to hold the input value or a premitive element like string, list, tuple, dictionary, etc.\n",
    "    \n",
    "    Output:\n",
    "    -- This function is print the index value of each element and return None (Norhing).\n",
    "    \n",
    "    '''\n",
    "    \n",
    "    if type(b)==str or type(b)==list or type(b)==tuple:\n",
    "        print(f'The given input \"{b}\" is type of {type(b)}.\\n')\n",
    "        for ind in range(len(b)):\n",
    "            print(f'Value {b[ind]} is on an index : {ind}. ')\n",
    "    elif type(b)==dict:\n",
    "        print(f'The given input \"{b}\" is type of {type(b)}.\\n')\n",
    "        k = list(b.keys())\n",
    "        for ind in range(len(k)):\n",
    "            print(f'Value {b[k[ind]]} is on an index : {k[ind]}. ')\n",
    "    elif type(b)==set:\n",
    "        print(f'The given input \"{b}\" is type of {type(b)}.\\n')\n",
    "        print('Error : \"set\" object does not support indexing. ')\n",
    "    else:\n",
    "        print(f'The given input \"{b}\" is type of {type(b)}.\\n')\n",
    "    "
   ]
  },
  {
   "cell_type": "code",
   "execution_count": 29,
   "metadata": {},
   "outputs": [
    {
     "name": "stdout",
     "output_type": "stream",
     "text": [
      "The given input \"common language\" is type of <class 'str'>.\n",
      "\n",
      "Value c is on an index : 0. \n",
      "Value o is on an index : 1. \n",
      "Value m is on an index : 2. \n",
      "Value m is on an index : 3. \n",
      "Value o is on an index : 4. \n",
      "Value n is on an index : 5. \n",
      "Value   is on an index : 6. \n",
      "Value l is on an index : 7. \n",
      "Value a is on an index : 8. \n",
      "Value n is on an index : 9. \n",
      "Value g is on an index : 10. \n",
      "Value u is on an index : 11. \n",
      "Value a is on an index : 12. \n",
      "Value g is on an index : 13. \n",
      "Value e is on an index : 14. \n"
     ]
    }
   ],
   "source": [
    "index_of_element('common language')"
   ]
  },
  {
   "cell_type": "code",
   "execution_count": 30,
   "metadata": {},
   "outputs": [
    {
     "name": "stdout",
     "output_type": "stream",
     "text": [
      "The given input \"[15, 35, 36, 2, 6, 8, 4, 5, 55, 77]\" is type of <class 'list'>.\n",
      "\n",
      "Value 15 is on an index : 0. \n",
      "Value 35 is on an index : 1. \n",
      "Value 36 is on an index : 2. \n",
      "Value 2 is on an index : 3. \n",
      "Value 6 is on an index : 4. \n",
      "Value 8 is on an index : 5. \n",
      "Value 4 is on an index : 6. \n",
      "Value 5 is on an index : 7. \n",
      "Value 55 is on an index : 8. \n",
      "Value 77 is on an index : 9. \n"
     ]
    }
   ],
   "source": [
    "index_of_element([15,35,36,2,6,8,4,5,55,77])"
   ]
  },
  {
   "cell_type": "code",
   "execution_count": 31,
   "metadata": {},
   "outputs": [
    {
     "name": "stdout",
     "output_type": "stream",
     "text": [
      "The given input \"['qrt', 'qfd', 'asq', 'qsd', 'qwe']\" is type of <class 'list'>.\n",
      "\n",
      "Value qrt is on an index : 0. \n",
      "Value qfd is on an index : 1. \n",
      "Value asq is on an index : 2. \n",
      "Value qsd is on an index : 3. \n",
      "Value qwe is on an index : 4. \n"
     ]
    }
   ],
   "source": [
    "index_of_element(['qrt','qfd','asq','qsd','qwe'])"
   ]
  },
  {
   "cell_type": "code",
   "execution_count": 32,
   "metadata": {},
   "outputs": [
    {
     "name": "stdout",
     "output_type": "stream",
     "text": [
      "The given input \"['qrt', 'qfd', 'asq', 'qsd', [15, 36, 9, 44]]\" is type of <class 'list'>.\n",
      "\n",
      "Value qrt is on an index : 0. \n",
      "Value qfd is on an index : 1. \n",
      "Value asq is on an index : 2. \n",
      "Value qsd is on an index : 3. \n",
      "Value [15, 36, 9, 44] is on an index : 4. \n"
     ]
    }
   ],
   "source": [
    "index_of_element(['qrt','qfd','asq','qsd',[15,36,9,44]])"
   ]
  },
  {
   "cell_type": "code",
   "execution_count": 33,
   "metadata": {},
   "outputs": [
    {
     "name": "stdout",
     "output_type": "stream",
     "text": [
      "The given input \"('qrt', 'qfd', 'asq', 'qsd')\" is type of <class 'tuple'>.\n",
      "\n",
      "Value qrt is on an index : 0. \n",
      "Value qfd is on an index : 1. \n",
      "Value asq is on an index : 2. \n",
      "Value qsd is on an index : 3. \n"
     ]
    }
   ],
   "source": [
    "index_of_element(('qrt','qfd','asq','qsd'))"
   ]
  },
  {
   "cell_type": "code",
   "execution_count": 34,
   "metadata": {},
   "outputs": [
    {
     "name": "stdout",
     "output_type": "stream",
     "text": [
      "The given input \"{'qrt': 'qfd', 'asq': 'qsd'}\" is type of <class 'dict'>.\n",
      "\n",
      "Value qfd is on an index : qrt. \n",
      "Value qsd is on an index : asq. \n"
     ]
    }
   ],
   "source": [
    "index_of_element({'qrt':'qfd','asq':'qsd'})"
   ]
  },
  {
   "cell_type": "code",
   "execution_count": 35,
   "metadata": {},
   "outputs": [
    {
     "name": "stdout",
     "output_type": "stream",
     "text": [
      "The given input \"{12: 'qfd', 23: 'qsd', 1: 'ieo', 3: 'dpp'}\" is type of <class 'dict'>.\n",
      "\n",
      "Value qfd is on an index : 12. \n",
      "Value qsd is on an index : 23. \n",
      "Value ieo is on an index : 1. \n",
      "Value dpp is on an index : 3. \n"
     ]
    }
   ],
   "source": [
    "index_of_element({12:'qfd',23:'qsd',1:'ieo',3:'dpp'})"
   ]
  },
  {
   "cell_type": "code",
   "execution_count": 36,
   "metadata": {},
   "outputs": [
    {
     "name": "stdout",
     "output_type": "stream",
     "text": [
      "The given input \"{'qrt', 'qfd', 'qsd', 'asq'}\" is type of <class 'set'>.\n",
      "\n",
      "Error : \"set\" object does not support indexing. \n"
     ]
    }
   ],
   "source": [
    "index_of_element({'qrt','qfd','asq','qsd'})"
   ]
  },
  {
   "cell_type": "code",
   "execution_count": null,
   "metadata": {},
   "outputs": [],
   "source": []
  },
  {
   "cell_type": "markdown",
   "metadata": {},
   "source": [
    "# 3. Write a function which will take input as a dict and give me out as a list of all the values even in case of 2 level nesting it should work . "
   ]
  },
  {
   "cell_type": "code",
   "execution_count": 76,
   "metadata": {},
   "outputs": [],
   "source": [
    "def dict_to_list(d):\n",
    "    '''\n",
    "    This function is used to return a list of values from the dictionary even in case of 2 level nesting.\n",
    "    \n",
    "    dict_to_list(d)\n",
    "    \n",
    "    Input:\n",
    "    -- d: A variable to hold the input value of type dictionary only.\n",
    "    \n",
    "    Output:\n",
    "    -- This function return a list of values from the dictionary even in case of 2 level nesting.\n",
    "    \n",
    "    '''\n",
    "    \n",
    "    l=[]\n",
    "    if type(d)==dict:\n",
    "        for ind in d.values():\n",
    "            if type(ind)==dict:\n",
    "                for i in ind.values():\n",
    "                    l.append(i)\n",
    "            elif type(ind)==list or type(ind)==tuple:\n",
    "                for j in ind:\n",
    "                    l.append(j)\n",
    "            else:\n",
    "                l.append(ind)\n",
    "                \n",
    "        return l\n",
    "    else:\n",
    "        print(f'Error: input is type of {type(d)}; only type dictionary is accepted. ')"
   ]
  },
  {
   "cell_type": "code",
   "execution_count": 77,
   "metadata": {},
   "outputs": [
    {
     "data": {
      "text/plain": [
       "['w', 'r', 'y', 'i']"
      ]
     },
     "execution_count": 77,
     "metadata": {},
     "output_type": "execute_result"
    }
   ],
   "source": [
    "dict_to_list({'q':'w','e':'r','t':'y','u':'i'})"
   ]
  },
  {
   "cell_type": "code",
   "execution_count": 78,
   "metadata": {},
   "outputs": [
    {
     "data": {
      "text/plain": [
       "['w', 'r', 'y', 'i', 1, 2, 3, 4, 5, 11, 12, 13, 14, 15, 16, 20]"
      ]
     },
     "execution_count": 78,
     "metadata": {},
     "output_type": "execute_result"
    }
   ],
   "source": [
    "dict_to_list({'q':'w','e':'r','t':'y','u':'i','o':{'a':1,'s':2,'d':3,'f':4,'g':5},'h':[11,12,13,14,15,16],'j':20})"
   ]
  },
  {
   "cell_type": "code",
   "execution_count": 79,
   "metadata": {},
   "outputs": [
    {
     "data": {
      "text/plain": [
       "['w', 'r', 'y', 'i', 1, 2, 3, 4, 5, 11, 12, 13, 14, 15, 16, 123, 125, 148]"
      ]
     },
     "execution_count": 79,
     "metadata": {},
     "output_type": "execute_result"
    }
   ],
   "source": [
    "dict_to_list({'q':'w','e':'r','t':'y','u':'i','o':{'a':1,'s':2,'d':3,'f':4,'g':5},'h':[11,12,13,14,15,16],'j':{101:123,102:125,103:148}})"
   ]
  },
  {
   "cell_type": "code",
   "execution_count": 80,
   "metadata": {},
   "outputs": [
    {
     "name": "stdout",
     "output_type": "stream",
     "text": [
      "Error: input is type of <class 'str'>; only type dictionary is accepted. \n"
     ]
    }
   ],
   "source": [
    "dict_to_list('hello boy')"
   ]
  },
  {
   "cell_type": "code",
   "execution_count": 81,
   "metadata": {},
   "outputs": [
    {
     "name": "stdout",
     "output_type": "stream",
     "text": [
      "Error: input is type of <class 'list'>; only type dictionary is accepted. \n"
     ]
    }
   ],
   "source": [
    "dict_to_list([1,2,3,4,5])"
   ]
  },
  {
   "cell_type": "code",
   "execution_count": null,
   "metadata": {},
   "outputs": [],
   "source": []
  },
  {
   "cell_type": "markdown",
   "metadata": {},
   "source": [
    "# 4. Write a function which will take another function as an input and return me an output."
   ]
  },
  {
   "cell_type": "code",
   "execution_count": 82,
   "metadata": {},
   "outputs": [
    {
     "name": "stdout",
     "output_type": "stream",
     "text": [
      "This is function 1.\n",
      "This is function 2.\n"
     ]
    }
   ],
   "source": [
    "def fun1():\n",
    "    '''\n",
    "    This function is used to print 'This is function 1.'.\n",
    "    '''\n",
    "    \n",
    "    print('This is function 1.')\n",
    "\n",
    "def fun2(f1):\n",
    "    '''\n",
    "    This function is used to print 'This is function 2.' and accept a function as a input.\n",
    "    '''\n",
    "#     if type(f1)==function:\n",
    "    f1()\n",
    "#     else:\n",
    "#         print('Error: the input value is not a type of function. ')\n",
    "        \n",
    "    print('This is function 2.')\n",
    "    \n",
    "\n",
    "fun2(fun1)"
   ]
  },
  {
   "cell_type": "code",
   "execution_count": 83,
   "metadata": {},
   "outputs": [
    {
     "name": "stdout",
     "output_type": "stream",
     "text": [
      "Error: input is type of <class 'list'>; only type dictionary is accepted. \n"
     ]
    },
    {
     "ename": "TypeError",
     "evalue": "'NoneType' object is not callable",
     "output_type": "error",
     "traceback": [
      "\u001b[1;31m---------------------------------------------------------------------------\u001b[0m",
      "\u001b[1;31mTypeError\u001b[0m                                 Traceback (most recent call last)",
      "\u001b[1;32m<ipython-input-83-ae5da6f45b0a>\u001b[0m in \u001b[0;36m<module>\u001b[1;34m\u001b[0m\n\u001b[1;32m----> 1\u001b[1;33m \u001b[0mfun2\u001b[0m\u001b[1;33m(\u001b[0m\u001b[0mdict_to_list\u001b[0m\u001b[1;33m(\u001b[0m\u001b[1;33m[\u001b[0m\u001b[1;36m1\u001b[0m\u001b[1;33m,\u001b[0m\u001b[1;36m2\u001b[0m\u001b[1;33m,\u001b[0m\u001b[1;36m3\u001b[0m\u001b[1;33m,\u001b[0m\u001b[1;36m4\u001b[0m\u001b[1;33m,\u001b[0m\u001b[1;36m5\u001b[0m\u001b[1;33m]\u001b[0m\u001b[1;33m)\u001b[0m\u001b[1;33m)\u001b[0m\u001b[1;33m\u001b[0m\u001b[1;33m\u001b[0m\u001b[0m\n\u001b[0m",
      "\u001b[1;32m<ipython-input-82-e0f0607687bc>\u001b[0m in \u001b[0;36mfun2\u001b[1;34m(f1)\u001b[0m\n\u001b[0;32m     11\u001b[0m     '''\n\u001b[0;32m     12\u001b[0m \u001b[1;31m#     if type(f1)==function:\u001b[0m\u001b[1;33m\u001b[0m\u001b[1;33m\u001b[0m\u001b[1;33m\u001b[0m\u001b[0m\n\u001b[1;32m---> 13\u001b[1;33m     \u001b[0mf1\u001b[0m\u001b[1;33m(\u001b[0m\u001b[1;33m)\u001b[0m\u001b[1;33m\u001b[0m\u001b[1;33m\u001b[0m\u001b[0m\n\u001b[0m\u001b[0;32m     14\u001b[0m \u001b[1;31m#     else:\u001b[0m\u001b[1;33m\u001b[0m\u001b[1;33m\u001b[0m\u001b[1;33m\u001b[0m\u001b[0m\n\u001b[0;32m     15\u001b[0m \u001b[1;31m#         print('Error: the input value is not a type of function. ')\u001b[0m\u001b[1;33m\u001b[0m\u001b[1;33m\u001b[0m\u001b[1;33m\u001b[0m\u001b[0m\n",
      "\u001b[1;31mTypeError\u001b[0m: 'NoneType' object is not callable"
     ]
    }
   ],
   "source": [
    "fun2(dict_to_list([1,2,3,4,5]))"
   ]
  },
  {
   "cell_type": "code",
   "execution_count": null,
   "metadata": {},
   "outputs": [],
   "source": []
  },
  {
   "cell_type": "markdown",
   "metadata": {},
   "source": [
    "# 5. Write a function which will take multiple list as a input and give me concatnation of all the element as an output."
   ]
  },
  {
   "cell_type": "code",
   "execution_count": 84,
   "metadata": {},
   "outputs": [],
   "source": [
    "def concat_list(*args):\n",
    "    '''\n",
    "    This function is used to concat all the elements from multiple list.\n",
    "    \n",
    "    Input:\n",
    "    -- args: It takes 'n' numbers of input in the form of list.\n",
    "    \n",
    "    Output:\n",
    "    -- This function return the concatinated list.\n",
    "    \n",
    "    '''\n",
    "    li1 = []\n",
    "    for i in args:\n",
    "        if type(i) == list:\n",
    "            li1.extend(i)\n",
    "        else:\n",
    "            print(f'Error: the input element {i} is not in the form of list. ')            \n",
    "    \n",
    "    return li1\n"
   ]
  },
  {
   "cell_type": "code",
   "execution_count": 85,
   "metadata": {},
   "outputs": [
    {
     "data": {
      "text/plain": [
       "[1,\n",
       " 2,\n",
       " 3,\n",
       " 4,\n",
       " 5,\n",
       " 'a',\n",
       " 'ab',\n",
       " 'ac',\n",
       " 'ad',\n",
       " 'ae',\n",
       " 'af',\n",
       " 11,\n",
       " 12,\n",
       " 13,\n",
       " 'qw',\n",
       " 'er',\n",
       " 'ty']"
      ]
     },
     "execution_count": 85,
     "metadata": {},
     "output_type": "execute_result"
    }
   ],
   "source": [
    "concat_list([1,2,3,4,5],['a','ab','ac','ad','ae','af'],[11,12,13,'qw','er','ty'])"
   ]
  },
  {
   "cell_type": "code",
   "execution_count": 86,
   "metadata": {},
   "outputs": [
    {
     "name": "stdout",
     "output_type": "stream",
     "text": [
      "Error: the input element qwe is not in the form of list. \n",
      "Error: the input element (0, 22, 33) is not in the form of list. \n"
     ]
    },
    {
     "data": {
      "text/plain": [
       "[1,\n",
       " 2,\n",
       " 3,\n",
       " 4,\n",
       " 5,\n",
       " 'a',\n",
       " 'ab',\n",
       " 'ac',\n",
       " 'ad',\n",
       " 'ae',\n",
       " 'af',\n",
       " 11,\n",
       " 12,\n",
       " 13,\n",
       " 'qw',\n",
       " 'er',\n",
       " 'ty']"
      ]
     },
     "execution_count": 86,
     "metadata": {},
     "output_type": "execute_result"
    }
   ],
   "source": [
    "concat_list([1,2,3,4,5],['a','ab','ac','ad','ae','af'],'qwe',[11,12,13,'qw','er','ty'],(0,22,33))"
   ]
  },
  {
   "cell_type": "code",
   "execution_count": null,
   "metadata": {},
   "outputs": [],
   "source": []
  },
  {
   "cell_type": "markdown",
   "metadata": {},
   "source": [
    "# 6. Write a function which will be able to take a list as an input return an index of each element like a inbuilt index function but even if we have repetative element it should return index."
   ]
  },
  {
   "cell_type": "code",
   "execution_count": 87,
   "metadata": {},
   "outputs": [],
   "source": [
    "def index_of_element(l):\n",
    "    '''\n",
    "    This function is used to \n",
    "    '''"
   ]
  },
  {
   "cell_type": "code",
   "execution_count": null,
   "metadata": {},
   "outputs": [],
   "source": []
  }
 ],
 "metadata": {
  "kernelspec": {
   "display_name": "Python 3",
   "language": "python",
   "name": "python3"
  },
  "language_info": {
   "codemirror_mode": {
    "name": "ipython",
    "version": 3
   },
   "file_extension": ".py",
   "mimetype": "text/x-python",
   "name": "python",
   "nbconvert_exporter": "python",
   "pygments_lexer": "ipython3",
   "version": "3.6.7"
  }
 },
 "nbformat": 4,
 "nbformat_minor": 2
}
