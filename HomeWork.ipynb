{
 "cells": [
  {
   "cell_type": "markdown",
   "metadata": {},
   "source": [
    "# 1. You have to write a function which will take string and return a len of it without using a in-built function len."
   ]
  },
  {
   "cell_type": "code",
   "execution_count": 6,
   "metadata": {},
   "outputs": [],
   "source": [
    "def len_of_string(a):\n",
    "    '''\n",
    "    This function is used to return the lenth of the string only.\n",
    "    \n",
    "    len_of_string(a)\n",
    "    \n",
    "    Input:\n",
    "    -- a: A variable to hold the input value.\n",
    "    \n",
    "    Output:\n",
    "    -- It return the length of given string only, else it will print the error and return None (Nothing).\n",
    "    \n",
    "    '''\n",
    "    \n",
    "    if type(a)==str:\n",
    "        c=0\n",
    "        for i in a:\n",
    "            c+=1\n",
    "        return c\n",
    "    else:\n",
    "        print('Error : object is not in the form of string. ')\n"
   ]
  },
  {
   "cell_type": "code",
   "execution_count": 7,
   "metadata": {},
   "outputs": [
    {
     "data": {
      "text/plain": [
       "12"
      ]
     },
     "execution_count": 7,
     "metadata": {},
     "output_type": "execute_result"
    }
   ],
   "source": [
    "len_of_string('hello python')"
   ]
  },
  {
   "cell_type": "code",
   "execution_count": 8,
   "metadata": {},
   "outputs": [
    {
     "data": {
      "text/plain": [
       "22"
      ]
     },
     "execution_count": 8,
     "metadata": {},
     "output_type": "execute_result"
    }
   ],
   "source": [
    "len_of_string('hello python 789654123')"
   ]
  },
  {
   "cell_type": "code",
   "execution_count": 9,
   "metadata": {},
   "outputs": [
    {
     "name": "stdout",
     "output_type": "stream",
     "text": [
      "Error : object is not in the form of string. \n"
     ]
    }
   ],
   "source": [
    "len_of_string(123)"
   ]
  },
  {
   "cell_type": "code",
   "execution_count": 10,
   "metadata": {},
   "outputs": [
    {
     "name": "stdout",
     "output_type": "stream",
     "text": [
      "Error : object is not in the form of string. \n"
     ]
    }
   ],
   "source": [
    "len_of_string(['123','456','789'])"
   ]
  },
  {
   "cell_type": "code",
   "execution_count": null,
   "metadata": {},
   "outputs": [],
   "source": []
  },
  {
   "cell_type": "markdown",
   "metadata": {},
   "source": [
    "# 2. Write a function which will be able to print an index of all premitive element which you will pass. "
   ]
  },
  {
   "cell_type": "code",
   "execution_count": 28,
   "metadata": {},
   "outputs": [],
   "source": [
    "def index_of_element(b):\n",
    "    '''\n",
    "    This function is used to print an index of all premitive element.\n",
    "    \n",
    "    index_of_element(b)\n",
    "    \n",
    "    Input:\n",
    "    -- b: A variable to hold the input value or a premitive element like string, list, tuple, dictionary, etc.\n",
    "    \n",
    "    Output:\n",
    "    -- This function is print the index value of each element and return None (Norhing).\n",
    "    \n",
    "    '''\n",
    "    \n",
    "    if type(b)==str or type(b)==list or type(b)==tuple:\n",
    "        print(f'The given input \"{b}\" is type of {type(b)}.\\n')\n",
    "        for ind in range(len(b)):\n",
    "            print(f'Value {b[ind]} is on an index : {ind}. ')\n",
    "    elif type(b)==dict:\n",
    "        print(f'The given input \"{b}\" is type of {type(b)}.\\n')\n",
    "        k = list(b.keys())\n",
    "        for ind in range(len(k)):\n",
    "            print(f'Value {b[k[ind]]} is on an index : {k[ind]}. ')\n",
    "    elif type(b)==set:\n",
    "        print(f'The given input \"{b}\" is type of {type(b)}.\\n')\n",
    "        print('Error : \"set\" object does not support indexing. ')\n",
    "    else:\n",
    "        print(f'The given input \"{b}\" is type of {type(b)}.\\n')\n",
    "    "
   ]
  },
  {
   "cell_type": "code",
   "execution_count": 29,
   "metadata": {},
   "outputs": [
    {
     "name": "stdout",
     "output_type": "stream",
     "text": [
      "The given input \"common language\" is type of <class 'str'>.\n",
      "\n",
      "Value c is on an index : 0. \n",
      "Value o is on an index : 1. \n",
      "Value m is on an index : 2. \n",
      "Value m is on an index : 3. \n",
      "Value o is on an index : 4. \n",
      "Value n is on an index : 5. \n",
      "Value   is on an index : 6. \n",
      "Value l is on an index : 7. \n",
      "Value a is on an index : 8. \n",
      "Value n is on an index : 9. \n",
      "Value g is on an index : 10. \n",
      "Value u is on an index : 11. \n",
      "Value a is on an index : 12. \n",
      "Value g is on an index : 13. \n",
      "Value e is on an index : 14. \n"
     ]
    }
   ],
   "source": [
    "index_of_element('common language')"
   ]
  },
  {
   "cell_type": "code",
   "execution_count": 30,
   "metadata": {},
   "outputs": [
    {
     "name": "stdout",
     "output_type": "stream",
     "text": [
      "The given input \"[15, 35, 36, 2, 6, 8, 4, 5, 55, 77]\" is type of <class 'list'>.\n",
      "\n",
      "Value 15 is on an index : 0. \n",
      "Value 35 is on an index : 1. \n",
      "Value 36 is on an index : 2. \n",
      "Value 2 is on an index : 3. \n",
      "Value 6 is on an index : 4. \n",
      "Value 8 is on an index : 5. \n",
      "Value 4 is on an index : 6. \n",
      "Value 5 is on an index : 7. \n",
      "Value 55 is on an index : 8. \n",
      "Value 77 is on an index : 9. \n"
     ]
    }
   ],
   "source": [
    "index_of_element([15,35,36,2,6,8,4,5,55,77])"
   ]
  },
  {
   "cell_type": "code",
   "execution_count": 31,
   "metadata": {},
   "outputs": [
    {
     "name": "stdout",
     "output_type": "stream",
     "text": [
      "The given input \"['qrt', 'qfd', 'asq', 'qsd', 'qwe']\" is type of <class 'list'>.\n",
      "\n",
      "Value qrt is on an index : 0. \n",
      "Value qfd is on an index : 1. \n",
      "Value asq is on an index : 2. \n",
      "Value qsd is on an index : 3. \n",
      "Value qwe is on an index : 4. \n"
     ]
    }
   ],
   "source": [
    "index_of_element(['qrt','qfd','asq','qsd','qwe'])"
   ]
  },
  {
   "cell_type": "code",
   "execution_count": 32,
   "metadata": {},
   "outputs": [
    {
     "name": "stdout",
     "output_type": "stream",
     "text": [
      "The given input \"['qrt', 'qfd', 'asq', 'qsd', [15, 36, 9, 44]]\" is type of <class 'list'>.\n",
      "\n",
      "Value qrt is on an index : 0. \n",
      "Value qfd is on an index : 1. \n",
      "Value asq is on an index : 2. \n",
      "Value qsd is on an index : 3. \n",
      "Value [15, 36, 9, 44] is on an index : 4. \n"
     ]
    }
   ],
   "source": [
    "index_of_element(['qrt','qfd','asq','qsd',[15,36,9,44]])"
   ]
  },
  {
   "cell_type": "code",
   "execution_count": 33,
   "metadata": {},
   "outputs": [
    {
     "name": "stdout",
     "output_type": "stream",
     "text": [
      "The given input \"('qrt', 'qfd', 'asq', 'qsd')\" is type of <class 'tuple'>.\n",
      "\n",
      "Value qrt is on an index : 0. \n",
      "Value qfd is on an index : 1. \n",
      "Value asq is on an index : 2. \n",
      "Value qsd is on an index : 3. \n"
     ]
    }
   ],
   "source": [
    "index_of_element(('qrt','qfd','asq','qsd'))"
   ]
  },
  {
   "cell_type": "code",
   "execution_count": 34,
   "metadata": {},
   "outputs": [
    {
     "name": "stdout",
     "output_type": "stream",
     "text": [
      "The given input \"{'qrt': 'qfd', 'asq': 'qsd'}\" is type of <class 'dict'>.\n",
      "\n",
      "Value qfd is on an index : qrt. \n",
      "Value qsd is on an index : asq. \n"
     ]
    }
   ],
   "source": [
    "index_of_element({'qrt':'qfd','asq':'qsd'})"
   ]
  },
  {
   "cell_type": "code",
   "execution_count": 35,
   "metadata": {},
   "outputs": [
    {
     "name": "stdout",
     "output_type": "stream",
     "text": [
      "The given input \"{12: 'qfd', 23: 'qsd', 1: 'ieo', 3: 'dpp'}\" is type of <class 'dict'>.\n",
      "\n",
      "Value qfd is on an index : 12. \n",
      "Value qsd is on an index : 23. \n",
      "Value ieo is on an index : 1. \n",
      "Value dpp is on an index : 3. \n"
     ]
    }
   ],
   "source": [
    "index_of_element({12:'qfd',23:'qsd',1:'ieo',3:'dpp'})"
   ]
  },
  {
   "cell_type": "code",
   "execution_count": 36,
   "metadata": {},
   "outputs": [
    {
     "name": "stdout",
     "output_type": "stream",
     "text": [
      "The given input \"{'qrt', 'qfd', 'qsd', 'asq'}\" is type of <class 'set'>.\n",
      "\n",
      "Error : \"set\" object does not support indexing. \n"
     ]
    }
   ],
   "source": [
    "index_of_element({'qrt','qfd','asq','qsd'})"
   ]
  },
  {
   "cell_type": "code",
   "execution_count": null,
   "metadata": {},
   "outputs": [],
   "source": []
  },
  {
   "cell_type": "markdown",
   "metadata": {},
   "source": [
    "# 3. Write a function which will take input as a dict and give me out as a list of all the values even in case of 2 level nesting it should work . "
   ]
  },
  {
   "cell_type": "code",
   "execution_count": 76,
   "metadata": {},
   "outputs": [],
   "source": [
    "def dict_to_list(d):\n",
    "    '''\n",
    "    This function is used to return a list of values from the dictionary even in case of 2 level nesting.\n",
    "    \n",
    "    dict_to_list(d)\n",
    "    \n",
    "    Input:\n",
    "    -- d: A variable to hold the input value of type dictionary only.\n",
    "    \n",
    "    Output:\n",
    "    -- This function return a list of values from the dictionary even in case of 2 level nesting.\n",
    "    \n",
    "    '''\n",
    "    \n",
    "    l=[]\n",
    "    if type(d)==dict:\n",
    "        for ind in d.values():\n",
    "            if type(ind)==dict:\n",
    "                for i in ind.values():\n",
    "                    l.append(i)\n",
    "            elif type(ind)==list or type(ind)==tuple:\n",
    "                for j in ind:\n",
    "                    l.append(j)\n",
    "            else:\n",
    "                l.append(ind)\n",
    "                \n",
    "        return l\n",
    "    else:\n",
    "        print(f'Error: input is type of {type(d)}; only type dictionary is accepted. ')"
   ]
  },
  {
   "cell_type": "code",
   "execution_count": 77,
   "metadata": {},
   "outputs": [
    {
     "data": {
      "text/plain": [
       "['w', 'r', 'y', 'i']"
      ]
     },
     "execution_count": 77,
     "metadata": {},
     "output_type": "execute_result"
    }
   ],
   "source": [
    "dict_to_list({'q':'w','e':'r','t':'y','u':'i'})"
   ]
  },
  {
   "cell_type": "code",
   "execution_count": 78,
   "metadata": {},
   "outputs": [
    {
     "data": {
      "text/plain": [
       "['w', 'r', 'y', 'i', 1, 2, 3, 4, 5, 11, 12, 13, 14, 15, 16, 20]"
      ]
     },
     "execution_count": 78,
     "metadata": {},
     "output_type": "execute_result"
    }
   ],
   "source": [
    "dict_to_list({'q':'w','e':'r','t':'y','u':'i','o':{'a':1,'s':2,'d':3,'f':4,'g':5},'h':[11,12,13,14,15,16],'j':20})"
   ]
  },
  {
   "cell_type": "code",
   "execution_count": 79,
   "metadata": {},
   "outputs": [
    {
     "data": {
      "text/plain": [
       "['w', 'r', 'y', 'i', 1, 2, 3, 4, 5, 11, 12, 13, 14, 15, 16, 123, 125, 148]"
      ]
     },
     "execution_count": 79,
     "metadata": {},
     "output_type": "execute_result"
    }
   ],
   "source": [
    "dict_to_list({'q':'w','e':'r','t':'y','u':'i','o':{'a':1,'s':2,'d':3,'f':4,'g':5},'h':[11,12,13,14,15,16],'j':{101:123,102:125,103:148}})"
   ]
  },
  {
   "cell_type": "code",
   "execution_count": 80,
   "metadata": {},
   "outputs": [
    {
     "name": "stdout",
     "output_type": "stream",
     "text": [
      "Error: input is type of <class 'str'>; only type dictionary is accepted. \n"
     ]
    }
   ],
   "source": [
    "dict_to_list('hello boy')"
   ]
  },
  {
   "cell_type": "code",
   "execution_count": 81,
   "metadata": {},
   "outputs": [
    {
     "name": "stdout",
     "output_type": "stream",
     "text": [
      "Error: input is type of <class 'list'>; only type dictionary is accepted. \n"
     ]
    }
   ],
   "source": [
    "dict_to_list([1,2,3,4,5])"
   ]
  },
  {
   "cell_type": "code",
   "execution_count": null,
   "metadata": {},
   "outputs": [],
   "source": []
  },
  {
   "cell_type": "markdown",
   "metadata": {},
   "source": [
    "# 4. Write a function which will take another function as an input and return me an output."
   ]
  },
  {
   "cell_type": "code",
   "execution_count": 82,
   "metadata": {},
   "outputs": [
    {
     "name": "stdout",
     "output_type": "stream",
     "text": [
      "This is function 1.\n",
      "This is function 2.\n"
     ]
    }
   ],
   "source": [
    "def fun1():\n",
    "    '''\n",
    "    This function is used to print 'This is function 1.'.\n",
    "    '''\n",
    "    \n",
    "    print('This is function 1.')\n",
    "\n",
    "def fun2(f1):\n",
    "    '''\n",
    "    This function is used to print 'This is function 2.' and accept a function as a input.\n",
    "    '''\n",
    "#     if type(f1)==function:\n",
    "    f1()\n",
    "#     else:\n",
    "#         print('Error: the input value is not a type of function. ')\n",
    "        \n",
    "    print('This is function 2.')\n",
    "    \n",
    "\n",
    "fun2(fun1)"
   ]
  },
  {
   "cell_type": "code",
   "execution_count": 83,
   "metadata": {},
   "outputs": [
    {
     "name": "stdout",
     "output_type": "stream",
     "text": [
      "Error: input is type of <class 'list'>; only type dictionary is accepted. \n"
     ]
    },
    {
     "ename": "TypeError",
     "evalue": "'NoneType' object is not callable",
     "output_type": "error",
     "traceback": [
      "\u001b[1;31m---------------------------------------------------------------------------\u001b[0m",
      "\u001b[1;31mTypeError\u001b[0m                                 Traceback (most recent call last)",
      "\u001b[1;32m<ipython-input-83-ae5da6f45b0a>\u001b[0m in \u001b[0;36m<module>\u001b[1;34m\u001b[0m\n\u001b[1;32m----> 1\u001b[1;33m \u001b[0mfun2\u001b[0m\u001b[1;33m(\u001b[0m\u001b[0mdict_to_list\u001b[0m\u001b[1;33m(\u001b[0m\u001b[1;33m[\u001b[0m\u001b[1;36m1\u001b[0m\u001b[1;33m,\u001b[0m\u001b[1;36m2\u001b[0m\u001b[1;33m,\u001b[0m\u001b[1;36m3\u001b[0m\u001b[1;33m,\u001b[0m\u001b[1;36m4\u001b[0m\u001b[1;33m,\u001b[0m\u001b[1;36m5\u001b[0m\u001b[1;33m]\u001b[0m\u001b[1;33m)\u001b[0m\u001b[1;33m)\u001b[0m\u001b[1;33m\u001b[0m\u001b[1;33m\u001b[0m\u001b[0m\n\u001b[0m",
      "\u001b[1;32m<ipython-input-82-e0f0607687bc>\u001b[0m in \u001b[0;36mfun2\u001b[1;34m(f1)\u001b[0m\n\u001b[0;32m     11\u001b[0m     '''\n\u001b[0;32m     12\u001b[0m \u001b[1;31m#     if type(f1)==function:\u001b[0m\u001b[1;33m\u001b[0m\u001b[1;33m\u001b[0m\u001b[1;33m\u001b[0m\u001b[0m\n\u001b[1;32m---> 13\u001b[1;33m     \u001b[0mf1\u001b[0m\u001b[1;33m(\u001b[0m\u001b[1;33m)\u001b[0m\u001b[1;33m\u001b[0m\u001b[1;33m\u001b[0m\u001b[0m\n\u001b[0m\u001b[0;32m     14\u001b[0m \u001b[1;31m#     else:\u001b[0m\u001b[1;33m\u001b[0m\u001b[1;33m\u001b[0m\u001b[1;33m\u001b[0m\u001b[0m\n\u001b[0;32m     15\u001b[0m \u001b[1;31m#         print('Error: the input value is not a type of function. ')\u001b[0m\u001b[1;33m\u001b[0m\u001b[1;33m\u001b[0m\u001b[1;33m\u001b[0m\u001b[0m\n",
      "\u001b[1;31mTypeError\u001b[0m: 'NoneType' object is not callable"
     ]
    }
   ],
   "source": [
    "fun2(dict_to_list([1,2,3,4,5]))"
   ]
  },
  {
   "cell_type": "code",
   "execution_count": null,
   "metadata": {},
   "outputs": [],
   "source": []
  },
  {
   "cell_type": "markdown",
   "metadata": {},
   "source": [
    "# 5. Write a function which will take multiple list as a input and give me concatnation of all the element as an output."
   ]
  },
  {
   "cell_type": "code",
   "execution_count": 84,
   "metadata": {},
   "outputs": [],
   "source": [
    "def concat_list(*args):\n",
    "    '''\n",
    "    This function is used to concat all the elements from multiple list.\n",
    "    \n",
    "    concat_list(*args)\n",
    "    \n",
    "    Input:\n",
    "    -- args: It takes 'n' numbers of input in the form of list.\n",
    "    \n",
    "    Output:\n",
    "    -- This function return the concatinated list.\n",
    "    \n",
    "    '''\n",
    "    li1 = []\n",
    "    for i in args:\n",
    "        if type(i) == list:\n",
    "            li1.extend(i)\n",
    "        else:\n",
    "            print(f'Error: the input element {i} is not in the form of list. ')            \n",
    "    \n",
    "    return li1\n"
   ]
  },
  {
   "cell_type": "code",
   "execution_count": 85,
   "metadata": {},
   "outputs": [
    {
     "data": {
      "text/plain": [
       "[1,\n",
       " 2,\n",
       " 3,\n",
       " 4,\n",
       " 5,\n",
       " 'a',\n",
       " 'ab',\n",
       " 'ac',\n",
       " 'ad',\n",
       " 'ae',\n",
       " 'af',\n",
       " 11,\n",
       " 12,\n",
       " 13,\n",
       " 'qw',\n",
       " 'er',\n",
       " 'ty']"
      ]
     },
     "execution_count": 85,
     "metadata": {},
     "output_type": "execute_result"
    }
   ],
   "source": [
    "concat_list([1,2,3,4,5],['a','ab','ac','ad','ae','af'],[11,12,13,'qw','er','ty'])"
   ]
  },
  {
   "cell_type": "code",
   "execution_count": 86,
   "metadata": {},
   "outputs": [
    {
     "name": "stdout",
     "output_type": "stream",
     "text": [
      "Error: the input element qwe is not in the form of list. \n",
      "Error: the input element (0, 22, 33) is not in the form of list. \n"
     ]
    },
    {
     "data": {
      "text/plain": [
       "[1,\n",
       " 2,\n",
       " 3,\n",
       " 4,\n",
       " 5,\n",
       " 'a',\n",
       " 'ab',\n",
       " 'ac',\n",
       " 'ad',\n",
       " 'ae',\n",
       " 'af',\n",
       " 11,\n",
       " 12,\n",
       " 13,\n",
       " 'qw',\n",
       " 'er',\n",
       " 'ty']"
      ]
     },
     "execution_count": 86,
     "metadata": {},
     "output_type": "execute_result"
    }
   ],
   "source": [
    "concat_list([1,2,3,4,5],['a','ab','ac','ad','ae','af'],'qwe',[11,12,13,'qw','er','ty'],(0,22,33))"
   ]
  },
  {
   "cell_type": "code",
   "execution_count": null,
   "metadata": {},
   "outputs": [],
   "source": []
  },
  {
   "cell_type": "markdown",
   "metadata": {},
   "source": [
    "# 6. Write a function which will be able to take a list as an input return an index of each element like a inbuilt index function but even if we have repetative element it should return index."
   ]
  },
  {
   "cell_type": "code",
   "execution_count": 88,
   "metadata": {},
   "outputs": [],
   "source": [
    "def index_of_element(l):\n",
    "    '''\n",
    "    This function is used to return the index value of each element.\n",
    "    \n",
    "    index_of_element(l)\n",
    "    \n",
    "    Input:\n",
    "    -- l: It take a list as a input.\n",
    "    \n",
    "    Output:\n",
    "    -- This function is print the index value of each element in a list.\n",
    "    \n",
    "    '''\n",
    "    if type(l) == list:\n",
    "        for ind in range(len(l)):\n",
    "            print(f'Element \"{l[ind]}\" is on index value : {ind}.')\n",
    "    else:\n",
    "        print(f'Error: the input element {l} is not in the form of list. ') "
   ]
  },
  {
   "cell_type": "code",
   "execution_count": 89,
   "metadata": {},
   "outputs": [
    {
     "name": "stdout",
     "output_type": "stream",
     "text": [
      "Element \"123\" is on index value : 0.\n",
      "Element \"345\" is on index value : 1.\n",
      "Element \"456\" is on index value : 2.\n",
      "Element \"987\" is on index value : 3.\n",
      "Element \"560\" is on index value : 4.\n"
     ]
    }
   ],
   "source": [
    "index_of_element([123,345,456,987,560])"
   ]
  },
  {
   "cell_type": "code",
   "execution_count": 90,
   "metadata": {},
   "outputs": [
    {
     "name": "stdout",
     "output_type": "stream",
     "text": [
      "Error: the input element (123, 345, 456, 987, 560) is not in the form of list. \n"
     ]
    }
   ],
   "source": [
    "index_of_element((123,345,456,987,560))"
   ]
  },
  {
   "cell_type": "code",
   "execution_count": 91,
   "metadata": {},
   "outputs": [
    {
     "name": "stdout",
     "output_type": "stream",
     "text": [
      "Error: the input element {987, 456, 560, 345, 123} is not in the form of list. \n"
     ]
    }
   ],
   "source": [
    "index_of_element({123,345,456,987,560})"
   ]
  },
  {
   "cell_type": "code",
   "execution_count": null,
   "metadata": {},
   "outputs": [],
   "source": []
  },
  {
   "cell_type": "markdown",
   "metadata": {},
   "source": [
    "# 7. Write a function which will return list of all the file name from a directory.  "
   ]
  },
  {
   "cell_type": "code",
   "execution_count": 135,
   "metadata": {},
   "outputs": [],
   "source": [
    "def list_of_file_names(dir_path):\n",
    "    '''\n",
    "    \n",
    "    '''\n",
    "    import glob,os\n",
    "    \n",
    "    if os.path.exists(dir_path):\n",
    "        l = []\n",
    "        for f in glob.glob(dir_path+'/*'):\n",
    "            if '.' in os.path.split(f)[-1]: \n",
    "                print(os.path.split(f)[-1])\n",
    "                l.append(os.path.split(f)[-1])\n",
    "            else:\n",
    "                print('Error: no file found. ')\n",
    "    else:\n",
    "        print('Error: no such directory found. ')\n"
   ]
  },
  {
   "cell_type": "code",
   "execution_count": 138,
   "metadata": {},
   "outputs": [
    {
     "name": "stdout",
     "output_type": "stream",
     "text": [
      "dataset_link.txt.txt\n",
      "resume_dataset.csv\n",
      "UpdatedResumeDataSet.csv\n"
     ]
    }
   ],
   "source": [
    "list_of_file_names(r'D:\\test\\Basic_Python\\Project Resume 09122021\\dataset')"
   ]
  },
  {
   "cell_type": "code",
   "execution_count": 129,
   "metadata": {},
   "outputs": [],
   "source": [
    "\n",
    "# path = r'D:\\test'\n",
    "# for f in glob.glob(path+'/*'):\n",
    "#     if '.' in os.path.split(f)[-1]: \n",
    "#         print(os.path.split(f)[-1])\n",
    "        \n",
    "        \n",
    "\n",
    "#     print(os.path.basename(dir_path))\n",
    "\n",
    "\n",
    "\n",
    "# from os import listdir\n",
    "# from os.path import isfile, join\n",
    "\n",
    "# mypath = 'D:\\\\test'\n",
    "\n",
    "# onlyfiles = [f for f in listdir(mypath) if isfile(join(mypath, f))]\n",
    "\n",
    "# onlyfiles\n",
    "\n"
   ]
  },
  {
   "cell_type": "code",
   "execution_count": null,
   "metadata": {},
   "outputs": [],
   "source": []
  },
  {
   "cell_type": "markdown",
   "metadata": {},
   "source": [
    "# 8. Write a function which will be able to show your system configuration. "
   ]
  },
  {
   "cell_type": "code",
   "execution_count": null,
   "metadata": {},
   "outputs": [],
   "source": []
  },
  {
   "cell_type": "code",
   "execution_count": null,
   "metadata": {},
   "outputs": [],
   "source": []
  },
  {
   "cell_type": "code",
   "execution_count": null,
   "metadata": {},
   "outputs": [],
   "source": []
  },
  {
   "cell_type": "code",
   "execution_count": null,
   "metadata": {},
   "outputs": [],
   "source": []
  },
  {
   "cell_type": "code",
   "execution_count": null,
   "metadata": {},
   "outputs": [],
   "source": []
  },
  {
   "cell_type": "code",
   "execution_count": null,
   "metadata": {},
   "outputs": [],
   "source": []
  },
  {
   "cell_type": "code",
   "execution_count": null,
   "metadata": {},
   "outputs": [],
   "source": []
  },
  {
   "cell_type": "code",
   "execution_count": null,
   "metadata": {},
   "outputs": [],
   "source": []
  },
  {
   "cell_type": "code",
   "execution_count": null,
   "metadata": {},
   "outputs": [],
   "source": []
  },
  {
   "cell_type": "code",
   "execution_count": null,
   "metadata": {},
   "outputs": [],
   "source": []
  },
  {
   "cell_type": "code",
   "execution_count": null,
   "metadata": {},
   "outputs": [],
   "source": []
  },
  {
   "cell_type": "code",
   "execution_count": null,
   "metadata": {},
   "outputs": [],
   "source": []
  },
  {
   "cell_type": "code",
   "execution_count": null,
   "metadata": {},
   "outputs": [],
   "source": []
  },
  {
   "cell_type": "code",
   "execution_count": null,
   "metadata": {},
   "outputs": [],
   "source": []
  },
  {
   "cell_type": "code",
   "execution_count": null,
   "metadata": {},
   "outputs": [],
   "source": []
  },
  {
   "cell_type": "code",
   "execution_count": null,
   "metadata": {},
   "outputs": [],
   "source": []
  },
  {
   "cell_type": "code",
   "execution_count": null,
   "metadata": {},
   "outputs": [],
   "source": []
  },
  {
   "cell_type": "code",
   "execution_count": null,
   "metadata": {},
   "outputs": [],
   "source": []
  },
  {
   "cell_type": "code",
   "execution_count": null,
   "metadata": {},
   "outputs": [],
   "source": []
  },
  {
   "cell_type": "code",
   "execution_count": null,
   "metadata": {},
   "outputs": [],
   "source": []
  },
  {
   "cell_type": "code",
   "execution_count": null,
   "metadata": {},
   "outputs": [],
   "source": []
  },
  {
   "cell_type": "code",
   "execution_count": null,
   "metadata": {},
   "outputs": [],
   "source": []
  },
  {
   "cell_type": "code",
   "execution_count": null,
   "metadata": {},
   "outputs": [],
   "source": []
  },
  {
   "cell_type": "code",
   "execution_count": null,
   "metadata": {},
   "outputs": [],
   "source": []
  },
  {
   "cell_type": "code",
   "execution_count": null,
   "metadata": {},
   "outputs": [],
   "source": []
  },
  {
   "cell_type": "markdown",
   "metadata": {},
   "source": [
    "# 08012022"
   ]
  },
  {
   "cell_type": "code",
   "execution_count": 139,
   "metadata": {},
   "outputs": [],
   "source": [
    "def t(*args, a):\n",
    "    return args, a"
   ]
  },
  {
   "cell_type": "code",
   "execution_count": 140,
   "metadata": {},
   "outputs": [
    {
     "ename": "TypeError",
     "evalue": "t() missing 1 required keyword-only argument: 'a'",
     "output_type": "error",
     "traceback": [
      "\u001b[1;31m---------------------------------------------------------------------------\u001b[0m",
      "\u001b[1;31mTypeError\u001b[0m                                 Traceback (most recent call last)",
      "\u001b[1;32m<ipython-input-140-bcd65684e2cc>\u001b[0m in \u001b[0;36m<module>\u001b[1;34m\u001b[0m\n\u001b[1;32m----> 1\u001b[1;33m \u001b[0mt\u001b[0m\u001b[1;33m(\u001b[0m\u001b[1;36m12\u001b[0m\u001b[1;33m,\u001b[0m\u001b[1;36m23\u001b[0m\u001b[1;33m,\u001b[0m\u001b[1;36m34\u001b[0m\u001b[1;33m)\u001b[0m\u001b[1;33m\u001b[0m\u001b[1;33m\u001b[0m\u001b[0m\n\u001b[0m",
      "\u001b[1;31mTypeError\u001b[0m: t() missing 1 required keyword-only argument: 'a'"
     ]
    }
   ],
   "source": [
    "t(12,23,34)"
   ]
  },
  {
   "cell_type": "code",
   "execution_count": 141,
   "metadata": {},
   "outputs": [
    {
     "data": {
      "text/plain": [
       "((12, 23), 34)"
      ]
     },
     "execution_count": 141,
     "metadata": {},
     "output_type": "execute_result"
    }
   ],
   "source": [
    "t(12,23,a=34)"
   ]
  },
  {
   "cell_type": "code",
   "execution_count": 143,
   "metadata": {},
   "outputs": [],
   "source": [
    "def t1(*kiran, a):\n",
    "    return kiran, a"
   ]
  },
  {
   "cell_type": "code",
   "execution_count": 144,
   "metadata": {},
   "outputs": [
    {
     "data": {
      "text/plain": [
       "((12, 23, 12, 23, 12, 23, 12, 23), 34)"
      ]
     },
     "execution_count": 144,
     "metadata": {},
     "output_type": "execute_result"
    }
   ],
   "source": [
    "t1(12,23,12,23,12,23,12,23,a=34)"
   ]
  },
  {
   "cell_type": "code",
   "execution_count": 150,
   "metadata": {},
   "outputs": [],
   "source": [
    "def t2(a, *kiran):\n",
    "    return a, kiran"
   ]
  },
  {
   "cell_type": "code",
   "execution_count": 151,
   "metadata": {
    "scrolled": true
   },
   "outputs": [
    {
     "ename": "SyntaxError",
     "evalue": "positional argument follows keyword argument (<ipython-input-151-dde774033a2b>, line 1)",
     "output_type": "error",
     "traceback": [
      "\u001b[1;36m  File \u001b[1;32m\"<ipython-input-151-dde774033a2b>\"\u001b[1;36m, line \u001b[1;32m1\u001b[0m\n\u001b[1;33m    t2(a=12,23,34,56,67,78)\u001b[0m\n\u001b[1;37m           ^\u001b[0m\n\u001b[1;31mSyntaxError\u001b[0m\u001b[1;31m:\u001b[0m positional argument follows keyword argument\n"
     ]
    }
   ],
   "source": [
    "t2(a=12,23,34,56,67,78)"
   ]
  },
  {
   "cell_type": "code",
   "execution_count": 152,
   "metadata": {},
   "outputs": [
    {
     "data": {
      "text/plain": [
       "(12, (23, 34, 56, 67, 78))"
      ]
     },
     "execution_count": 152,
     "metadata": {},
     "output_type": "execute_result"
    }
   ],
   "source": [
    "t2(12,23,34,56,67,78)"
   ]
  },
  {
   "cell_type": "code",
   "execution_count": 148,
   "metadata": {},
   "outputs": [],
   "source": [
    "def t3(**kwargs):\n",
    "    return kwargs"
   ]
  },
  {
   "cell_type": "code",
   "execution_count": 153,
   "metadata": {},
   "outputs": [
    {
     "ename": "TypeError",
     "evalue": "t3() takes 0 positional arguments but 6 were given",
     "output_type": "error",
     "traceback": [
      "\u001b[1;31m---------------------------------------------------------------------------\u001b[0m",
      "\u001b[1;31mTypeError\u001b[0m                                 Traceback (most recent call last)",
      "\u001b[1;32m<ipython-input-153-782dd5a25185>\u001b[0m in \u001b[0;36m<module>\u001b[1;34m\u001b[0m\n\u001b[1;32m----> 1\u001b[1;33m \u001b[0mt3\u001b[0m\u001b[1;33m(\u001b[0m\u001b[1;36m12\u001b[0m\u001b[1;33m,\u001b[0m\u001b[1;36m23\u001b[0m\u001b[1;33m,\u001b[0m\u001b[1;36m34\u001b[0m\u001b[1;33m,\u001b[0m\u001b[1;36m56\u001b[0m\u001b[1;33m,\u001b[0m\u001b[1;36m67\u001b[0m\u001b[1;33m,\u001b[0m\u001b[1;36m78\u001b[0m\u001b[1;33m)\u001b[0m\u001b[1;33m\u001b[0m\u001b[1;33m\u001b[0m\u001b[0m\n\u001b[0m",
      "\u001b[1;31mTypeError\u001b[0m: t3() takes 0 positional arguments but 6 were given"
     ]
    }
   ],
   "source": [
    "t3(12,23,34,56,67,78)"
   ]
  },
  {
   "cell_type": "code",
   "execution_count": 154,
   "metadata": {},
   "outputs": [
    {
     "data": {
      "text/plain": [
       "{'a': 12, 'b': 23, 'c': 34}"
      ]
     },
     "execution_count": 154,
     "metadata": {},
     "output_type": "execute_result"
    }
   ],
   "source": [
    "t3(a=12,b=23,c=34)"
   ]
  },
  {
   "cell_type": "code",
   "execution_count": 155,
   "metadata": {},
   "outputs": [],
   "source": [
    "def t4(a, **kiran):\n",
    "    return a, kiran"
   ]
  },
  {
   "cell_type": "code",
   "execution_count": 160,
   "metadata": {},
   "outputs": [
    {
     "data": {
      "text/plain": [
       "(12, {'q': 3, 'v': 4, 'b': 45})"
      ]
     },
     "execution_count": 160,
     "metadata": {},
     "output_type": "execute_result"
    }
   ],
   "source": [
    "t4(12,q=3,v=4,b=45)"
   ]
  },
  {
   "cell_type": "code",
   "execution_count": 161,
   "metadata": {},
   "outputs": [
    {
     "ename": "SyntaxError",
     "evalue": "invalid syntax (<ipython-input-161-359fcc032c4f>, line 1)",
     "output_type": "error",
     "traceback": [
      "\u001b[1;36m  File \u001b[1;32m\"<ipython-input-161-359fcc032c4f>\"\u001b[1;36m, line \u001b[1;32m1\u001b[0m\n\u001b[1;33m    def t5(a, **k1, *k2):\u001b[0m\n\u001b[1;37m                    ^\u001b[0m\n\u001b[1;31mSyntaxError\u001b[0m\u001b[1;31m:\u001b[0m invalid syntax\n"
     ]
    }
   ],
   "source": [
    "def t5(a, **k1, *k2):\n",
    "    return a,k1,k2"
   ]
  },
  {
   "cell_type": "code",
   "execution_count": 162,
   "metadata": {},
   "outputs": [],
   "source": [
    "def t5(a, *k1, **k2):\n",
    "    return a,k1,k2"
   ]
  },
  {
   "cell_type": "code",
   "execution_count": 164,
   "metadata": {},
   "outputs": [
    {
     "data": {
      "text/plain": [
       "(15, ('asd', [123, 3456, 4567], 56, 37), {'q': 2222, 'w': 33333})"
      ]
     },
     "execution_count": 164,
     "metadata": {},
     "output_type": "execute_result"
    }
   ],
   "source": [
    "t5(15,'asd',[123,3456,4567],56,37,q=2222,w=33333)"
   ]
  },
  {
   "cell_type": "code",
   "execution_count": null,
   "metadata": {},
   "outputs": [],
   "source": []
  },
  {
   "cell_type": "code",
   "execution_count": 165,
   "metadata": {},
   "outputs": [],
   "source": [
    "a = lambda a,b : a+b"
   ]
  },
  {
   "cell_type": "code",
   "execution_count": 166,
   "metadata": {},
   "outputs": [
    {
     "data": {
      "text/plain": [
       "35"
      ]
     },
     "execution_count": 166,
     "metadata": {},
     "output_type": "execute_result"
    }
   ],
   "source": [
    "a(12,23)"
   ]
  },
  {
   "cell_type": "code",
   "execution_count": 167,
   "metadata": {},
   "outputs": [],
   "source": [
    "z = lambda a,b : (a+b,a*b)"
   ]
  },
  {
   "cell_type": "code",
   "execution_count": 168,
   "metadata": {},
   "outputs": [
    {
     "data": {
      "text/plain": [
       "(46, 408)"
      ]
     },
     "execution_count": 168,
     "metadata": {},
     "output_type": "execute_result"
    }
   ],
   "source": [
    "z(12,34)"
   ]
  },
  {
   "cell_type": "code",
   "execution_count": 172,
   "metadata": {},
   "outputs": [],
   "source": [
    "x = lambda a: (i for i in a)\n",
    "x('123')\n",
    "# output:\n",
    "# <generator object <lambda>.<locals>.<genexpr> at 0x000001FFC34EBAF0>"
   ]
  },
  {
   "cell_type": "code",
   "execution_count": 176,
   "metadata": {},
   "outputs": [
    {
     "data": {
      "text/plain": [
       "['1', '2', '3']"
      ]
     },
     "execution_count": 176,
     "metadata": {},
     "output_type": "execute_result"
    }
   ],
   "source": [
    "x = lambda a: [i for i in a]\n",
    "x('123')"
   ]
  },
  {
   "cell_type": "code",
   "execution_count": 179,
   "metadata": {},
   "outputs": [
    {
     "ename": "TypeError",
     "evalue": "'list' object is not an iterator",
     "output_type": "error",
     "traceback": [
      "\u001b[1;31m---------------------------------------------------------------------------\u001b[0m",
      "\u001b[1;31mTypeError\u001b[0m                                 Traceback (most recent call last)",
      "\u001b[1;32m<ipython-input-179-2cc353fd094e>\u001b[0m in \u001b[0;36m<module>\u001b[1;34m\u001b[0m\n\u001b[1;32m----> 1\u001b[1;33m \u001b[0mnext\u001b[0m\u001b[1;33m(\u001b[0m\u001b[1;33m[\u001b[0m\u001b[1;34m'1'\u001b[0m\u001b[1;33m,\u001b[0m \u001b[1;34m'2'\u001b[0m\u001b[1;33m,\u001b[0m \u001b[1;34m'3'\u001b[0m\u001b[1;33m]\u001b[0m\u001b[1;33m)\u001b[0m\u001b[1;33m\u001b[0m\u001b[1;33m\u001b[0m\u001b[0m\n\u001b[0m",
      "\u001b[1;31mTypeError\u001b[0m: 'list' object is not an iterator"
     ]
    }
   ],
   "source": [
    "next(['1', '2', '3'])"
   ]
  },
  {
   "cell_type": "code",
   "execution_count": 180,
   "metadata": {},
   "outputs": [],
   "source": [
    "c = iter(['1', '2', '3'])"
   ]
  },
  {
   "cell_type": "code",
   "execution_count": 185,
   "metadata": {},
   "outputs": [
    {
     "data": {
      "text/plain": [
       "<list_iterator at 0x1ffc349f128>"
      ]
     },
     "execution_count": 185,
     "metadata": {},
     "output_type": "execute_result"
    }
   ],
   "source": [
    "c"
   ]
  },
  {
   "cell_type": "code",
   "execution_count": 181,
   "metadata": {},
   "outputs": [
    {
     "data": {
      "text/plain": [
       "'1'"
      ]
     },
     "execution_count": 181,
     "metadata": {},
     "output_type": "execute_result"
    }
   ],
   "source": [
    "next(c)"
   ]
  },
  {
   "cell_type": "code",
   "execution_count": 182,
   "metadata": {},
   "outputs": [
    {
     "data": {
      "text/plain": [
       "'2'"
      ]
     },
     "execution_count": 182,
     "metadata": {},
     "output_type": "execute_result"
    }
   ],
   "source": [
    "next(c)"
   ]
  },
  {
   "cell_type": "code",
   "execution_count": 183,
   "metadata": {},
   "outputs": [
    {
     "data": {
      "text/plain": [
       "'3'"
      ]
     },
     "execution_count": 183,
     "metadata": {},
     "output_type": "execute_result"
    }
   ],
   "source": [
    "next(c)"
   ]
  },
  {
   "cell_type": "code",
   "execution_count": 184,
   "metadata": {},
   "outputs": [
    {
     "ename": "StopIteration",
     "evalue": "",
     "output_type": "error",
     "traceback": [
      "\u001b[1;31m---------------------------------------------------------------------------\u001b[0m",
      "\u001b[1;31mStopIteration\u001b[0m                             Traceback (most recent call last)",
      "\u001b[1;32m<ipython-input-184-e846efec376d>\u001b[0m in \u001b[0;36m<module>\u001b[1;34m\u001b[0m\n\u001b[1;32m----> 1\u001b[1;33m \u001b[0mnext\u001b[0m\u001b[1;33m(\u001b[0m\u001b[0mc\u001b[0m\u001b[1;33m)\u001b[0m\u001b[1;33m\u001b[0m\u001b[1;33m\u001b[0m\u001b[0m\n\u001b[0m",
      "\u001b[1;31mStopIteration\u001b[0m: "
     ]
    }
   ],
   "source": [
    "next(c)"
   ]
  },
  {
   "cell_type": "code",
   "execution_count": 192,
   "metadata": {},
   "outputs": [],
   "source": [
    "a = lambda li, l : [l*i for i in li] "
   ]
  },
  {
   "cell_type": "code",
   "execution_count": 194,
   "metadata": {},
   "outputs": [
    {
     "data": {
      "text/plain": [
       "[2, 4, 6]"
      ]
     },
     "execution_count": 194,
     "metadata": {},
     "output_type": "execute_result"
    }
   ],
   "source": [
    "a([1,2,3],2)"
   ]
  },
  {
   "cell_type": "code",
   "execution_count": null,
   "metadata": {},
   "outputs": [],
   "source": []
  }
 ],
 "metadata": {
  "kernelspec": {
   "display_name": "Python 3",
   "language": "python",
   "name": "python3"
  },
  "language_info": {
   "codemirror_mode": {
    "name": "ipython",
    "version": 3
   },
   "file_extension": ".py",
   "mimetype": "text/x-python",
   "name": "python",
   "nbconvert_exporter": "python",
   "pygments_lexer": "ipython3",
   "version": "3.6.7"
  }
 },
 "nbformat": 4,
 "nbformat_minor": 2
}
