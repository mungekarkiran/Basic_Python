{
 "cells": [
  {
   "cell_type": "code",
   "execution_count": 2,
   "id": "c5014c37",
   "metadata": {},
   "outputs": [
    {
     "ename": "LinAlgError",
     "evalue": "singular matrix",
     "output_type": "error",
     "traceback": [
      "\u001b[0;31m---------------------------------------------------------------------------\u001b[0m",
      "\u001b[0;31mLinAlgError\u001b[0m                               Traceback (most recent call last)",
      "Input \u001b[0;32mIn [2]\u001b[0m, in \u001b[0;36m<cell line: 40>\u001b[0;34m()\u001b[0m\n\u001b[1;32m     40\u001b[0m \u001b[38;5;28;01mfor\u001b[39;00m k \u001b[38;5;129;01min\u001b[39;00m \u001b[38;5;28mrange\u001b[39m(\u001b[38;5;241m1\u001b[39m,sig\u001b[38;5;241m.\u001b[39msize\u001b[38;5;241m-\u001b[39m\u001b[38;5;241m2\u001b[39m) :\n\u001b[1;32m     41\u001b[0m     G\u001b[38;5;241m=\u001b[39mnp\u001b[38;5;241m.\u001b[39marray([[x[\u001b[38;5;241m1\u001b[39m][\u001b[38;5;241m0\u001b[39m], x[\u001b[38;5;241m0\u001b[39m][\u001b[38;5;241m0\u001b[39m], \u001b[38;5;241m-\u001b[39m\u001b[38;5;241m1\u001b[39m]])\n\u001b[0;32m---> 43\u001b[0m     K1 \u001b[38;5;241m=\u001b[39m P\u001b[38;5;241m*\u001b[39mG\u001b[38;5;241m.\u001b[39mT\u001b[38;5;241m*\u001b[39m(\u001b[43mla\u001b[49m\u001b[38;5;241;43m.\u001b[39;49m\u001b[43minv\u001b[49m\u001b[43m(\u001b[49m\u001b[43mG\u001b[49m\u001b[38;5;241;43m*\u001b[39;49m\u001b[43mP\u001b[49m\u001b[38;5;241;43m*\u001b[39;49m\u001b[43mG\u001b[49m\u001b[38;5;241;43m.\u001b[39;49m\u001b[43mT\u001b[49m\u001b[38;5;241;43m+\u001b[39;49m\u001b[38;5;241;43m1\u001b[39;49m\u001b[43m)\u001b[49m\u001b[38;5;241m*\u001b[39m\u001b[38;5;241m1\u001b[39m)\n\u001b[1;32m     44\u001b[0m     K \u001b[38;5;241m=\u001b[39m np\u001b[38;5;241m.\u001b[39mdiag(K1)\n\u001b[1;32m     45\u001b[0m     K \u001b[38;5;241m=\u001b[39m np\u001b[38;5;241m.\u001b[39mexpand_dims(K, axis\u001b[38;5;241m=\u001b[39m\u001b[38;5;241m1\u001b[39m)\n",
      "File \u001b[0;32m/Library/Frameworks/Python.framework/Versions/3.10/lib/python3.10/site-packages/scipy/linalg/_basic.py:968\u001b[0m, in \u001b[0;36minv\u001b[0;34m(a, overwrite_a, check_finite)\u001b[0m\n\u001b[1;32m    966\u001b[0m     inv_a, info \u001b[38;5;241m=\u001b[39m getri(lu, piv, lwork\u001b[38;5;241m=\u001b[39mlwork, overwrite_lu\u001b[38;5;241m=\u001b[39m\u001b[38;5;241m1\u001b[39m)\n\u001b[1;32m    967\u001b[0m \u001b[38;5;28;01mif\u001b[39;00m info \u001b[38;5;241m>\u001b[39m \u001b[38;5;241m0\u001b[39m:\n\u001b[0;32m--> 968\u001b[0m     \u001b[38;5;28;01mraise\u001b[39;00m LinAlgError(\u001b[38;5;124m\"\u001b[39m\u001b[38;5;124msingular matrix\u001b[39m\u001b[38;5;124m\"\u001b[39m)\n\u001b[1;32m    969\u001b[0m \u001b[38;5;28;01mif\u001b[39;00m info \u001b[38;5;241m<\u001b[39m \u001b[38;5;241m0\u001b[39m:\n\u001b[1;32m    970\u001b[0m     \u001b[38;5;28;01mraise\u001b[39;00m \u001b[38;5;167;01mValueError\u001b[39;00m(\u001b[38;5;124m'\u001b[39m\u001b[38;5;124millegal value in \u001b[39m\u001b[38;5;132;01m%d\u001b[39;00m\u001b[38;5;124m-th argument of internal \u001b[39m\u001b[38;5;124m'\u001b[39m\n\u001b[1;32m    971\u001b[0m                      \u001b[38;5;124m'\u001b[39m\u001b[38;5;124mgetrf|getri\u001b[39m\u001b[38;5;124m'\u001b[39m \u001b[38;5;241m%\u001b[39m \u001b[38;5;241m-\u001b[39minfo)\n",
      "\u001b[0;31mLinAlgError\u001b[0m: singular matrix"
     ]
    }
   ],
   "source": [
    "import matplotlib.pyplot as plt\n",
    "import numpy as np\n",
    "import numpy.linalg as la\n",
    "import scipy.linalg as la\n",
    "from scipy.fft import fft, fftfreq\n",
    "from scipy import signal\n",
    "\n",
    "def standard_scaler(x, mean, standard_deviation):\n",
    "    z = (x - mean) / standard_deviation\n",
    "    return z \n",
    "\n",
    "sig = np.loadtxt('Healthy_Motor_50Hz_4thApr2022.txt')\n",
    "\n",
    "Fs=5000\n",
    "Ts=1/Fs\n",
    "Fmax=Fs/2\n",
    "\n",
    "# Initial values of wo and phio\n",
    "wo=2*np.pi\n",
    "phio=np.pi/7\n",
    "\n",
    "# Initial values of the covariance matrix\n",
    "P=10*np.eye(3, dtype=int);\n",
    "\n",
    "Ao=1.0;\n",
    "\n",
    "x=np.array([3*np.cos(wo*Ts), Ao*np.cos(phio), Ao*np.cos(phio-wo*Ts)]).T;\n",
    "x = np.expand_dims(x, axis=1)\n",
    "\n",
    "# normalise the signal\n",
    "mean = np.mean(sig)\n",
    "standard_deviation = np.std(sig)\n",
    "\n",
    "y = [standard_scaler(i, mean, standard_deviation) for i in sig]\n",
    "\n",
    "# 5000 samples are there\n",
    "yhat = np.zeros(sig.size)\n",
    "wehat = np.zeros(sig.size)\n",
    "\n",
    "for k in range(1,sig.size-2) :\n",
    "    G=np.array([[x[1][0], x[0][0], -1]])\n",
    "\n",
    "    K1 = P*G.T*(la.inv(G*P*G.T+1)*1)\n",
    "    K = np.diag(K1)\n",
    "    K = np.expand_dims(K, axis=1)\n",
    "    \n",
    "    yhat[k]=x[0][0]*x[1][0]-x[2][0]\n",
    "\n",
    "    c = K*(y[k]-yhat[k])\n",
    "    x=x+c\n",
    "    \n",
    "    P=P-K*G*P;\n",
    "    F=np.array([[1, 0, 0], [x[1][0], x[0][0], -1], [0, 1, 0]])\n",
    "    P=F*P*F.T\n",
    "    x=np.array([x[1], [x[0][0]*x[1][0]-x[2][0]], x[1]])\n",
    "\n",
    "    if (x[0][0] > 2.).all():\n",
    "        x[0][0]=2\n",
    "    elif (x[0][0] < 0).all():\n",
    "        x[0][0]=0\n",
    "        \n",
    "    wehat[k]=np.arccos(x[0][0]/2)/(Ts)\n",
    "    \n",
    "    \n",
    "plt.plot(wehat.T/(2*np.pi))\n",
    "plt.show()"
   ]
  },
  {
   "cell_type": "code",
   "execution_count": null,
   "id": "3bb89d68",
   "metadata": {},
   "outputs": [],
   "source": []
  }
 ],
 "metadata": {
  "kernelspec": {
   "display_name": "Python 3 (ipykernel)",
   "language": "python",
   "name": "python3"
  },
  "language_info": {
   "codemirror_mode": {
    "name": "ipython",
    "version": 3
   },
   "file_extension": ".py",
   "mimetype": "text/x-python",
   "name": "python",
   "nbconvert_exporter": "python",
   "pygments_lexer": "ipython3",
   "version": "3.8.10"
  }
 },
 "nbformat": 4,
 "nbformat_minor": 5
}
