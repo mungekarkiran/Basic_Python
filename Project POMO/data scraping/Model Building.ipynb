{
 "cells": [
  {
   "cell_type": "code",
   "execution_count": 36,
   "metadata": {},
   "outputs": [],
   "source": [
    "import numpy as np\n",
    "import pandas as pd\n",
    "pd.pandas.set_option('display.max_columns',None)\n",
    "\n",
    "import seaborn as sns\n",
    "sns.set(font_scale=1.2)\n",
    "\n",
    "import matplotlib.pyplot as plt\n",
    "plt.rcParams['figure.figsize'] = (12,8)\n",
    "%matplotlib inline\n",
    "\n",
    "from sklearn.model_selection import train_test_split\n",
    "\n",
    "from sklearn import metrics\n",
    "from sklearn.metrics import accuracy_score\n",
    "from sklearn.metrics import log_loss\n",
    "from sklearn.metrics import cohen_kappa_score\n",
    "from sklearn.metrics import precision_score\n",
    "from sklearn.metrics import recall_score\n",
    "from sklearn.metrics import f1_score\n",
    "\n",
    "from sklearn.metrics import confusion_matrix\n",
    "\n",
    "import pickle\n",
    "import re\n",
    "\n",
    "from sklearn.linear_model import LogisticRegression  \n",
    "from sklearn.neighbors import KNeighborsClassifier \n",
    "from sklearn.naive_bayes import GaussianNB\n",
    "from sklearn.tree import DecisionTreeClassifier\n",
    "from sklearn.ensemble import RandomForestClassifier\n",
    "from sklearn.ensemble import GradientBoostingClassifier\n",
    "from sklearn.ensemble import AdaBoostClassifier\n",
    "\n",
    "import warnings\n",
    "warnings.filterwarnings(\"ignore\", category=FutureWarning)"
   ]
  },
  {
   "cell_type": "markdown",
   "metadata": {},
   "source": [
    "# Load dataset"
   ]
  },
  {
   "cell_type": "code",
   "execution_count": 6,
   "metadata": {},
   "outputs": [
    {
     "data": {
      "text/html": [
       "<div>\n",
       "<style scoped>\n",
       "    .dataframe tbody tr th:only-of-type {\n",
       "        vertical-align: middle;\n",
       "    }\n",
       "\n",
       "    .dataframe tbody tr th {\n",
       "        vertical-align: top;\n",
       "    }\n",
       "\n",
       "    .dataframe thead th {\n",
       "        text-align: right;\n",
       "    }\n",
       "</style>\n",
       "<table border=\"1\" class=\"dataframe\">\n",
       "  <thead>\n",
       "    <tr style=\"text-align: right;\">\n",
       "      <th></th>\n",
       "      <th>observation</th>\n",
       "      <th>date</th>\n",
       "      <th>month</th>\n",
       "      <th>year</th>\n",
       "      <th>tempC_7to8</th>\n",
       "      <th>tempC_1to2</th>\n",
       "      <th>tempC_6to7</th>\n",
       "      <th>tempC_avg(0C)</th>\n",
       "      <th>Relative humidity_7to8</th>\n",
       "      <th>Relative humidity_1to2</th>\n",
       "      <th>Relative humidity_6to7</th>\n",
       "      <th>Relative humidity_avg(%)</th>\n",
       "      <th>windspeedKmph_7to8</th>\n",
       "      <th>windspeedKmph_1to2</th>\n",
       "      <th>windspeedKmph_6to7</th>\n",
       "      <th>windspeedKmph_avg(Km/h)</th>\n",
       "      <th>pressureMB_7to8</th>\n",
       "      <th>pressureMB_1to2</th>\n",
       "      <th>pressureMB_6to7</th>\n",
       "      <th>pressureMB_avg</th>\n",
       "      <th>precipMM_7to8</th>\n",
       "      <th>precipMM_1to2</th>\n",
       "      <th>precipMM_6to7</th>\n",
       "      <th>precipMM_avg(mm)</th>\n",
       "      <th>weatherDesc_7to8</th>\n",
       "      <th>weatherDesc_1to2</th>\n",
       "      <th>weatherDesc_6to7</th>\n",
       "      <th>weatherDesc</th>\n",
       "      <th>Sunshine Hours</th>\n",
       "      <th>%_soil_moisure</th>\n",
       "      <th>soil_pH</th>\n",
       "      <th>water_pH</th>\n",
       "      <th>water_TDS_mgpl</th>\n",
       "      <th>Label (Disease Yes/No)</th>\n",
       "      <th>Type of Disease (Bacterial Blight/Telya)</th>\n",
       "      <th>Anthracnose</th>\n",
       "      <th>Fruit Spot/ Rot</th>\n",
       "      <th>Fusarium Wilt</th>\n",
       "      <th>Fruit Borer / Blight Blora</th>\n",
       "    </tr>\n",
       "  </thead>\n",
       "  <tbody>\n",
       "    <tr>\n",
       "      <th>0</th>\n",
       "      <td>2010-01-01</td>\n",
       "      <td>1</td>\n",
       "      <td>1</td>\n",
       "      <td>2010</td>\n",
       "      <td>20</td>\n",
       "      <td>30</td>\n",
       "      <td>20</td>\n",
       "      <td>23</td>\n",
       "      <td>42</td>\n",
       "      <td>33</td>\n",
       "      <td>59</td>\n",
       "      <td>44</td>\n",
       "      <td>9</td>\n",
       "      <td>2</td>\n",
       "      <td>4</td>\n",
       "      <td>5</td>\n",
       "      <td>1015</td>\n",
       "      <td>1012</td>\n",
       "      <td>1013</td>\n",
       "      <td>1013</td>\n",
       "      <td>0.0</td>\n",
       "      <td>0.0</td>\n",
       "      <td>0.0</td>\n",
       "      <td>0.0</td>\n",
       "      <td>5</td>\n",
       "      <td>5</td>\n",
       "      <td>5</td>\n",
       "      <td>5</td>\n",
       "      <td>9.8</td>\n",
       "      <td>45</td>\n",
       "      <td>6.91</td>\n",
       "      <td>7.18</td>\n",
       "      <td>1709.0</td>\n",
       "      <td>0</td>\n",
       "      <td>0</td>\n",
       "      <td>0</td>\n",
       "      <td>0</td>\n",
       "      <td>0</td>\n",
       "      <td>0</td>\n",
       "    </tr>\n",
       "    <tr>\n",
       "      <th>1</th>\n",
       "      <td>2010-01-02</td>\n",
       "      <td>2</td>\n",
       "      <td>1</td>\n",
       "      <td>2010</td>\n",
       "      <td>23</td>\n",
       "      <td>29</td>\n",
       "      <td>23</td>\n",
       "      <td>25</td>\n",
       "      <td>49</td>\n",
       "      <td>40</td>\n",
       "      <td>62</td>\n",
       "      <td>50</td>\n",
       "      <td>9</td>\n",
       "      <td>3</td>\n",
       "      <td>3</td>\n",
       "      <td>5</td>\n",
       "      <td>1015</td>\n",
       "      <td>1013</td>\n",
       "      <td>1015</td>\n",
       "      <td>1014</td>\n",
       "      <td>0.0</td>\n",
       "      <td>0.0</td>\n",
       "      <td>0.0</td>\n",
       "      <td>0.0</td>\n",
       "      <td>5</td>\n",
       "      <td>4</td>\n",
       "      <td>4</td>\n",
       "      <td>4</td>\n",
       "      <td>9.8</td>\n",
       "      <td>45</td>\n",
       "      <td>6.77</td>\n",
       "      <td>7.66</td>\n",
       "      <td>1707.0</td>\n",
       "      <td>1</td>\n",
       "      <td>1</td>\n",
       "      <td>1</td>\n",
       "      <td>0</td>\n",
       "      <td>0</td>\n",
       "      <td>0</td>\n",
       "    </tr>\n",
       "    <tr>\n",
       "      <th>2</th>\n",
       "      <td>2010-01-03</td>\n",
       "      <td>3</td>\n",
       "      <td>1</td>\n",
       "      <td>2010</td>\n",
       "      <td>24</td>\n",
       "      <td>27</td>\n",
       "      <td>21</td>\n",
       "      <td>24</td>\n",
       "      <td>61</td>\n",
       "      <td>50</td>\n",
       "      <td>78</td>\n",
       "      <td>63</td>\n",
       "      <td>4</td>\n",
       "      <td>8</td>\n",
       "      <td>6</td>\n",
       "      <td>6</td>\n",
       "      <td>1017</td>\n",
       "      <td>1014</td>\n",
       "      <td>1015</td>\n",
       "      <td>1015</td>\n",
       "      <td>0.0</td>\n",
       "      <td>0.0</td>\n",
       "      <td>0.0</td>\n",
       "      <td>0.0</td>\n",
       "      <td>4</td>\n",
       "      <td>4</td>\n",
       "      <td>4</td>\n",
       "      <td>4</td>\n",
       "      <td>9.8</td>\n",
       "      <td>41</td>\n",
       "      <td>6.76</td>\n",
       "      <td>7.44</td>\n",
       "      <td>1707.0</td>\n",
       "      <td>0</td>\n",
       "      <td>0</td>\n",
       "      <td>0</td>\n",
       "      <td>0</td>\n",
       "      <td>0</td>\n",
       "      <td>0</td>\n",
       "    </tr>\n",
       "    <tr>\n",
       "      <th>3</th>\n",
       "      <td>2010-01-04</td>\n",
       "      <td>4</td>\n",
       "      <td>1</td>\n",
       "      <td>2010</td>\n",
       "      <td>23</td>\n",
       "      <td>29</td>\n",
       "      <td>20</td>\n",
       "      <td>24</td>\n",
       "      <td>57</td>\n",
       "      <td>30</td>\n",
       "      <td>52</td>\n",
       "      <td>46</td>\n",
       "      <td>5</td>\n",
       "      <td>7</td>\n",
       "      <td>6</td>\n",
       "      <td>6</td>\n",
       "      <td>1016</td>\n",
       "      <td>1012</td>\n",
       "      <td>1013</td>\n",
       "      <td>1013</td>\n",
       "      <td>0.0</td>\n",
       "      <td>0.0</td>\n",
       "      <td>0.0</td>\n",
       "      <td>0.0</td>\n",
       "      <td>5</td>\n",
       "      <td>5</td>\n",
       "      <td>5</td>\n",
       "      <td>5</td>\n",
       "      <td>9.8</td>\n",
       "      <td>43</td>\n",
       "      <td>7.10</td>\n",
       "      <td>7.43</td>\n",
       "      <td>1708.0</td>\n",
       "      <td>0</td>\n",
       "      <td>0</td>\n",
       "      <td>0</td>\n",
       "      <td>0</td>\n",
       "      <td>0</td>\n",
       "      <td>0</td>\n",
       "    </tr>\n",
       "    <tr>\n",
       "      <th>4</th>\n",
       "      <td>2010-01-05</td>\n",
       "      <td>5</td>\n",
       "      <td>1</td>\n",
       "      <td>2010</td>\n",
       "      <td>22</td>\n",
       "      <td>30</td>\n",
       "      <td>21</td>\n",
       "      <td>24</td>\n",
       "      <td>48</td>\n",
       "      <td>34</td>\n",
       "      <td>54</td>\n",
       "      <td>45</td>\n",
       "      <td>6</td>\n",
       "      <td>2</td>\n",
       "      <td>4</td>\n",
       "      <td>4</td>\n",
       "      <td>1013</td>\n",
       "      <td>1010</td>\n",
       "      <td>1012</td>\n",
       "      <td>1011</td>\n",
       "      <td>0.0</td>\n",
       "      <td>0.0</td>\n",
       "      <td>0.0</td>\n",
       "      <td>0.0</td>\n",
       "      <td>5</td>\n",
       "      <td>5</td>\n",
       "      <td>5</td>\n",
       "      <td>5</td>\n",
       "      <td>9.8</td>\n",
       "      <td>44</td>\n",
       "      <td>6.53</td>\n",
       "      <td>8.05</td>\n",
       "      <td>1709.0</td>\n",
       "      <td>0</td>\n",
       "      <td>0</td>\n",
       "      <td>0</td>\n",
       "      <td>0</td>\n",
       "      <td>0</td>\n",
       "      <td>0</td>\n",
       "    </tr>\n",
       "  </tbody>\n",
       "</table>\n",
       "</div>"
      ],
      "text/plain": [
       "  observation  date  month  year  tempC_7to8  tempC_1to2  tempC_6to7  \\\n",
       "0  2010-01-01     1      1  2010          20          30          20   \n",
       "1  2010-01-02     2      1  2010          23          29          23   \n",
       "2  2010-01-03     3      1  2010          24          27          21   \n",
       "3  2010-01-04     4      1  2010          23          29          20   \n",
       "4  2010-01-05     5      1  2010          22          30          21   \n",
       "\n",
       "   tempC_avg(0C)  Relative humidity_7to8  Relative humidity_1to2  \\\n",
       "0             23                      42                      33   \n",
       "1             25                      49                      40   \n",
       "2             24                      61                      50   \n",
       "3             24                      57                      30   \n",
       "4             24                      48                      34   \n",
       "\n",
       "   Relative humidity_6to7  Relative humidity_avg(%)  windspeedKmph_7to8  \\\n",
       "0                      59                        44                   9   \n",
       "1                      62                        50                   9   \n",
       "2                      78                        63                   4   \n",
       "3                      52                        46                   5   \n",
       "4                      54                        45                   6   \n",
       "\n",
       "   windspeedKmph_1to2  windspeedKmph_6to7  windspeedKmph_avg(Km/h)  \\\n",
       "0                   2                   4                        5   \n",
       "1                   3                   3                        5   \n",
       "2                   8                   6                        6   \n",
       "3                   7                   6                        6   \n",
       "4                   2                   4                        4   \n",
       "\n",
       "   pressureMB_7to8  pressureMB_1to2  pressureMB_6to7  pressureMB_avg  \\\n",
       "0             1015             1012             1013            1013   \n",
       "1             1015             1013             1015            1014   \n",
       "2             1017             1014             1015            1015   \n",
       "3             1016             1012             1013            1013   \n",
       "4             1013             1010             1012            1011   \n",
       "\n",
       "   precipMM_7to8  precipMM_1to2  precipMM_6to7  precipMM_avg(mm)  \\\n",
       "0            0.0            0.0            0.0               0.0   \n",
       "1            0.0            0.0            0.0               0.0   \n",
       "2            0.0            0.0            0.0               0.0   \n",
       "3            0.0            0.0            0.0               0.0   \n",
       "4            0.0            0.0            0.0               0.0   \n",
       "\n",
       "   weatherDesc_7to8  weatherDesc_1to2  weatherDesc_6to7  weatherDesc  \\\n",
       "0                 5                 5                 5            5   \n",
       "1                 5                 4                 4            4   \n",
       "2                 4                 4                 4            4   \n",
       "3                 5                 5                 5            5   \n",
       "4                 5                 5                 5            5   \n",
       "\n",
       "   Sunshine Hours  %_soil_moisure  soil_pH  water_pH  water_TDS_mgpl  \\\n",
       "0             9.8              45     6.91      7.18          1709.0   \n",
       "1             9.8              45     6.77      7.66          1707.0   \n",
       "2             9.8              41     6.76      7.44          1707.0   \n",
       "3             9.8              43     7.10      7.43          1708.0   \n",
       "4             9.8              44     6.53      8.05          1709.0   \n",
       "\n",
       "   Label (Disease Yes/No)  Type of Disease (Bacterial Blight/Telya)  \\\n",
       "0                       0                                         0   \n",
       "1                       1                                         1   \n",
       "2                       0                                         0   \n",
       "3                       0                                         0   \n",
       "4                       0                                         0   \n",
       "\n",
       "   Anthracnose  Fruit Spot/ Rot  Fusarium Wilt  Fruit Borer / Blight Blora  \n",
       "0            0                0              0                           0  \n",
       "1            1                0              0                           0  \n",
       "2            0                0              0                           0  \n",
       "3            0                0              0                           0  \n",
       "4            0                0              0                           0  "
      ]
     },
     "execution_count": 6,
     "metadata": {},
     "output_type": "execute_result"
    }
   ],
   "source": [
    "df = pd.read_csv(r'part6\\Historical Weather Data 2010-2021_preprocessed_1.csv')\n",
    "df.head()"
   ]
  },
  {
   "cell_type": "code",
   "execution_count": 7,
   "metadata": {},
   "outputs": [
    {
     "name": "stdout",
     "output_type": "stream",
     "text": [
      "['observation', 'date', 'month', 'year', 'tempC_7to8', 'tempC_1to2', 'tempC_6to7', 'tempC_avg(0C)', 'Relative humidity_7to8', 'Relative humidity_1to2', 'Relative humidity_6to7', 'Relative humidity_avg(%)', 'windspeedKmph_7to8', 'windspeedKmph_1to2', 'windspeedKmph_6to7', 'windspeedKmph_avg(Km/h)', 'pressureMB_7to8', 'pressureMB_1to2', 'pressureMB_6to7', 'pressureMB_avg', 'precipMM_7to8', 'precipMM_1to2', 'precipMM_6to7', 'precipMM_avg(mm)', 'weatherDesc_7to8', 'weatherDesc_1to2', 'weatherDesc_6to7', 'weatherDesc', 'Sunshine Hours', '%_soil_moisure', 'soil_pH', 'water_pH', 'water_TDS_mgpl', 'Label (Disease Yes/No)', 'Type of Disease (Bacterial Blight/Telya)', 'Anthracnose', 'Fruit Spot/ Rot', 'Fusarium Wilt', 'Fruit Borer / Blight Blora']\n"
     ]
    }
   ],
   "source": [
    "# columns name \n",
    "print(list(df.columns))"
   ]
  },
  {
   "cell_type": "code",
   "execution_count": 8,
   "metadata": {},
   "outputs": [
    {
     "name": "stdout",
     "output_type": "stream",
     "text": [
      "<class 'pandas.core.frame.DataFrame'>\n",
      "RangeIndex: 4227 entries, 0 to 4226\n",
      "Data columns (total 39 columns):\n",
      " #   Column                                    Non-Null Count  Dtype  \n",
      "---  ------                                    --------------  -----  \n",
      " 0   observation                               4227 non-null   object \n",
      " 1   date                                      4227 non-null   int64  \n",
      " 2   month                                     4227 non-null   int64  \n",
      " 3   year                                      4227 non-null   int64  \n",
      " 4   tempC_7to8                                4227 non-null   int64  \n",
      " 5   tempC_1to2                                4227 non-null   int64  \n",
      " 6   tempC_6to7                                4227 non-null   int64  \n",
      " 7   tempC_avg(0C)                             4227 non-null   int64  \n",
      " 8   Relative humidity_7to8                    4227 non-null   int64  \n",
      " 9   Relative humidity_1to2                    4227 non-null   int64  \n",
      " 10  Relative humidity_6to7                    4227 non-null   int64  \n",
      " 11  Relative humidity_avg(%)                  4227 non-null   int64  \n",
      " 12  windspeedKmph_7to8                        4227 non-null   int64  \n",
      " 13  windspeedKmph_1to2                        4227 non-null   int64  \n",
      " 14  windspeedKmph_6to7                        4227 non-null   int64  \n",
      " 15  windspeedKmph_avg(Km/h)                   4227 non-null   int64  \n",
      " 16  pressureMB_7to8                           4227 non-null   int64  \n",
      " 17  pressureMB_1to2                           4227 non-null   int64  \n",
      " 18  pressureMB_6to7                           4227 non-null   int64  \n",
      " 19  pressureMB_avg                            4227 non-null   int64  \n",
      " 20  precipMM_7to8                             4227 non-null   float64\n",
      " 21  precipMM_1to2                             4227 non-null   float64\n",
      " 22  precipMM_6to7                             4227 non-null   float64\n",
      " 23  precipMM_avg(mm)                          4227 non-null   float64\n",
      " 24  weatherDesc_7to8                          4227 non-null   int64  \n",
      " 25  weatherDesc_1to2                          4227 non-null   int64  \n",
      " 26  weatherDesc_6to7                          4227 non-null   int64  \n",
      " 27  weatherDesc                               4227 non-null   int64  \n",
      " 28  Sunshine Hours                            4227 non-null   float64\n",
      " 29  %_soil_moisure                            4227 non-null   int64  \n",
      " 30  soil_pH                                   4227 non-null   float64\n",
      " 31  water_pH                                  4227 non-null   float64\n",
      " 32  water_TDS_mgpl                            4227 non-null   float64\n",
      " 33  Label (Disease Yes/No)                    4227 non-null   int64  \n",
      " 34  Type of Disease (Bacterial Blight/Telya)  4227 non-null   int64  \n",
      " 35  Anthracnose                               4227 non-null   int64  \n",
      " 36  Fruit Spot/ Rot                           4227 non-null   int64  \n",
      " 37  Fusarium Wilt                             4227 non-null   int64  \n",
      " 38  Fruit Borer / Blight Blora                4227 non-null   int64  \n",
      "dtypes: float64(8), int64(30), object(1)\n",
      "memory usage: 1.3+ MB\n"
     ]
    }
   ],
   "source": [
    "df.info()"
   ]
  },
  {
   "cell_type": "markdown",
   "metadata": {},
   "source": [
    "# Build model for binary classifier"
   ]
  },
  {
   "cell_type": "code",
   "execution_count": 38,
   "metadata": {},
   "outputs": [],
   "source": [
    "def builModels(X, Y, classifierModel):\n",
    "    \n",
    "    X_train, X_test, y_train, y_test = train_test_split(X,Y, test_size = 0.3, random_state = 42, stratify = Y)\n",
    "    \n",
    "    classifierModel.fit(X_train, y_train)  \n",
    "    \n",
    "    y_pred = classifierModel.predict(X_test)\n",
    "    \n",
    "    print(\"Accuracy_score:\", round((accuracy_score(y_test, y_pred))*100,2),'%')\n",
    "\n",
    "    print(\"Loss:\", round((1-accuracy_score(y_test, y_pred))*100,2),'%')\n",
    "    \n",
    "    print(\"Precision:\", round((precision_score(y_test, y_pred))*100,2),'%')\n",
    "    \n",
    "    print(\"Recall:\", round((recall_score(y_test, y_pred))*100,2),'%')\n",
    "    \n",
    "    print(\"f1_score:\", round((f1_score(y_test, y_pred))*100,2),'%')\n",
    "    \n",
    "    print(\"Cohen_kappa_score:\", round((cohen_kappa_score(y_test, y_pred))*100,2),'%')\n",
    "\n",
    "    print(\"Classification_report:\\n\",metrics.classification_report(y_test, y_pred))\n",
    "\n",
    "    print(\"confusion_matrix:\\n\", confusion_matrix(y_test, y_pred))\n",
    "\n",
    "\n",
    "    fig, ax = plt.subplots()\n",
    "    fig.set_size_inches(6,4) # WH\n",
    "    sns.heatmap(confusion_matrix(y_test, y_pred), \n",
    "               annot=True,\n",
    "                     linewidths = 2,\n",
    "                    linecolor = \"blue\",\n",
    "                    center=0)\n",
    "    plt.show()\n",
    "    \n",
    "    return classifierModel, {'Accuracy': round((accuracy_score(y_test, y_pred))*100,2), \n",
    "                             'Loss': round((1-accuracy_score(y_test, y_pred))*100,2), \n",
    "                             'Precision': round((precision_score(y_test, y_pred))*100,2), \n",
    "                             'Recall': round((recall_score(y_test, y_pred))*100,2),\n",
    "                             'f1_score': round((f1_score(y_test, y_pred))*100,2),\n",
    "                             'Cohen_kappa': round((cohen_kappa_score(y_test, y_pred))*100,2)}"
   ]
  },
  {
   "cell_type": "code",
   "execution_count": 39,
   "metadata": {},
   "outputs": [],
   "source": [
    "X = df[['tempC_avg(0C)', 'Relative humidity_avg(%)', 'windspeedKmph_avg(Km/h)', 'pressureMB_avg', \n",
    "        'precipMM_avg(mm)', 'weatherDesc', 'Sunshine Hours', '%_soil_moisure']]\n",
    "Y1 = df[['Label (Disease Yes/No)']]\n",
    "Y2 = df[['Type of Disease (Bacterial Blight/Telya)']]\n",
    "Y3 = df[['Anthracnose']]\n",
    "Y4 = df[['Fruit Spot/ Rot']]\n",
    "Y5 = df[['Fusarium Wilt']]\n",
    "Y6 = df[['Fruit Borer / Blight Blora']]"
   ]
  },
  {
   "cell_type": "markdown",
   "metadata": {},
   "source": [
    "# Classifier's"
   ]
  },
  {
   "cell_type": "code",
   "execution_count": 40,
   "metadata": {},
   "outputs": [],
   "source": [
    "lr_Classifier = LogisticRegression(max_iter=1000, random_state=3757)  \n",
    "knn_Classifier = KNeighborsClassifier(n_jobs=-1, n_neighbors=5, p=2, weights='uniform')  \n",
    "nb_Classifier = GaussianNB(priors=None, var_smoothing=1e-09)\n",
    "dt_Classifier = DecisionTreeClassifier(random_state=3757)\n",
    "rf_Classifier = RandomForestClassifier(n_jobs=-1, random_state=3757)\n",
    "gb_Classifier = GradientBoostingClassifier(random_state=3757)\n",
    "ab_Classifier = AdaBoostClassifier(random_state=3757)\n",
    "\n",
    "classifiers = [lr_Classifier, knn_Classifier, nb_Classifier, dt_Classifier, \n",
    "               rf_Classifier, gb_Classifier, ab_Classifier]\n",
    "Y_name = [Y1, Y2, Y3, Y4, Y5, Y6]\n",
    "model_name = ['lr_Classifier', 'knn_Classifier', 'nb_Classifier', 'dt_Classifier', \n",
    "              'rf_Classifier', 'gb_Classifier', 'ab_Classifier']"
   ]
  },
  {
   "cell_type": "code",
   "execution_count": 44,
   "metadata": {
    "scrolled": true
   },
   "outputs": [
    {
     "name": "stdout",
     "output_type": "stream",
     "text": [
      "Column : Label (Disease Yes/No)\n",
      "Model : lr_Classifier\n"
     ]
    },
    {
     "name": "stderr",
     "output_type": "stream",
     "text": [
      "c:\\users\\munge\\appdata\\local\\programs\\python\\python36\\lib\\site-packages\\sklearn\\utils\\validation.py:63: DataConversionWarning: A column-vector y was passed when a 1d array was expected. Please change the shape of y to (n_samples, ), for example using ravel().\n",
      "  return f(*args, **kwargs)\n"
     ]
    },
    {
     "name": "stdout",
     "output_type": "stream",
     "text": [
      "Accuracy_score: 89.52 %\n",
      "Loss: 10.48 %\n",
      "Precision: 89.24 %\n",
      "Recall: 85.01 %\n",
      "f1_score: 87.07 %\n",
      "Cohen_kappa_score: 78.27 %\n",
      "Classification_report:\n",
      "               precision    recall  f1-score   support\n",
      "\n",
      "           0       0.90      0.93      0.91       742\n",
      "           1       0.89      0.85      0.87       527\n",
      "\n",
      "    accuracy                           0.90      1269\n",
      "   macro avg       0.89      0.89      0.89      1269\n",
      "weighted avg       0.90      0.90      0.89      1269\n",
      "\n",
      "confusion_matrix:\n",
      " [[688  54]\n",
      " [ 79 448]]\n"
     ]
    },
    {
     "data": {
      "image/png": "[encoded data removed]",
      "text/plain": [
       "<Figure size 432x288 with 2 Axes>"
      ]
     },
     "metadata": {
      "needs_background": "light"
     },
     "output_type": "display_data"
    },
    {
     "name": "stdout",
     "output_type": "stream",
     "text": [
      "File saved : Label_Disease_Yes_No__lr_Classifier.pkl\n",
      "data : {'Accuracy': 89.52, 'Loss': 10.48, 'Precision': 89.24, 'Recall': 85.01, 'f1_score': 87.07, 'Cohen_kappa': 78.27, 'Feature_name': 'Label (Disease Yes/No)', 'Model_name': 'lr_Classifier', 'Filename': 'Label_Disease_Yes_No__lr_Classifier.pkl'}\n",
      "Model : knn_Classifier\n"
     ]
    },
    {
     "name": "stderr",
     "output_type": "stream",
     "text": [
      "c:\\users\\munge\\appdata\\local\\programs\\python\\python36\\lib\\site-packages\\sklearn\\neighbors\\_classification.py:179: DataConversionWarning: A column-vector y was passed when a 1d array was expected. Please change the shape of y to (n_samples,), for example using ravel().\n",
      "  return self._fit(X, y)\n"
     ]
    },
    {
     "name": "stdout",
     "output_type": "stream",
     "text": [
      "Accuracy_score: 88.26 %\n",
      "Loss: 11.74 %\n",
      "Precision: 89.87 %\n",
      "Recall: 80.83 %\n",
      "f1_score: 85.11 %\n",
      "Cohen_kappa_score: 75.47 %\n",
      "Classification_report:\n",
      "               precision    recall  f1-score   support\n",
      "\n",
      "           0       0.87      0.94      0.90       742\n",
      "           1       0.90      0.81      0.85       527\n",
      "\n",
      "    accuracy                           0.88      1269\n",
      "   macro avg       0.89      0.87      0.88      1269\n",
      "weighted avg       0.88      0.88      0.88      1269\n",
      "\n",
      "confusion_matrix:\n",
      " [[694  48]\n",
      " [101 426]]\n"
     ]
    },
    {
     "data": {
      "image/png": "[encoded data removed]",
      "text/plain": [
       "<Figure size 432x288 with 2 Axes>"
      ]
     },
     "metadata": {
      "needs_background": "light"
     },
     "output_type": "display_data"
    },
    {
     "name": "stdout",
     "output_type": "stream",
     "text": [
      "File saved : Label_Disease_Yes_No__knn_Classifier.pkl\n",
      "data : {'Accuracy': 88.26, 'Loss': 11.74, 'Precision': 89.87, 'Recall': 80.83, 'f1_score': 85.11, 'Cohen_kappa': 75.47, 'Feature_name': 'Label (Disease Yes/No)', 'Model_name': 'knn_Classifier', 'Filename': 'Label_Disease_Yes_No__knn_Classifier.pkl'}\n",
      "Model : nb_Classifier\n",
      "Accuracy_score: 86.84 %\n",
      "Loss: 13.16 %\n",
      "Precision: 89.47 %\n",
      "Recall: 77.42 %\n",
      "f1_score: 83.01 %\n",
      "Cohen_kappa_score: 72.36 %\n",
      "Classification_report:\n",
      "               precision    recall  f1-score   support\n",
      "\n",
      "           0       0.85      0.94      0.89       742\n",
      "           1       0.89      0.77      0.83       527\n",
      "\n",
      "    accuracy                           0.87      1269\n",
      "   macro avg       0.87      0.85      0.86      1269\n",
      "weighted avg       0.87      0.87      0.87      1269\n",
      "\n",
      "confusion_matrix:\n",
      " [[694  48]\n",
      " [119 408]]\n"
     ]
    },
    {
     "name": "stderr",
     "output_type": "stream",
     "text": [
      "c:\\users\\munge\\appdata\\local\\programs\\python\\python36\\lib\\site-packages\\sklearn\\utils\\validation.py:63: DataConversionWarning: A column-vector y was passed when a 1d array was expected. Please change the shape of y to (n_samples, ), for example using ravel().\n",
      "  return f(*args, **kwargs)\n"
     ]
    },
    {
     "data": {
      "image/png": "[encoded data removed]",
      "text/plain": [
       "<Figure size 432x288 with 2 Axes>"
      ]
     },
     "metadata": {
      "needs_background": "light"
     },
     "output_type": "display_data"
    },
    {
     "name": "stdout",
     "output_type": "stream",
     "text": [
      "File saved : Label_Disease_Yes_No__nb_Classifier.pkl\n",
      "data : {'Accuracy': 86.84, 'Loss': 13.16, 'Precision': 89.47, 'Recall': 77.42, 'f1_score': 83.01, 'Cohen_kappa': 72.36, 'Feature_name': 'Label (Disease Yes/No)', 'Model_name': 'nb_Classifier', 'Filename': 'Label_Disease_Yes_No__nb_Classifier.pkl'}\n",
      "Model : dt_Classifier\n",
      "Accuracy_score: 93.46 %\n",
      "Loss: 6.54 %\n",
      "Precision: 94.4 %\n",
      "Recall: 89.56 %\n",
      "f1_score: 91.92 %\n",
      "Cohen_kappa_score: 86.43 %\n",
      "Classification_report:\n",
      "               precision    recall  f1-score   support\n",
      "\n",
      "           0       0.93      0.96      0.95       742\n",
      "           1       0.94      0.90      0.92       527\n",
      "\n",
      "    accuracy                           0.93      1269\n",
      "   macro avg       0.94      0.93      0.93      1269\n",
      "weighted avg       0.93      0.93      0.93      1269\n",
      "\n",
      "confusion_matrix:\n",
      " [[714  28]\n",
      " [ 55 472]]\n"
     ]
    },
    {
     "data": {
      "image/png": "[encoded data removed]",
      "text/plain": [
       "<Figure size 432x288 with 2 Axes>"
      ]
     },
     "metadata": {
      "needs_background": "light"
     },
     "output_type": "display_data"
    },
    {
     "name": "stdout",
     "output_type": "stream",
     "text": [
      "File saved : Label_Disease_Yes_No__dt_Classifier.pkl\n",
      "data : {'Accuracy': 93.46, 'Loss': 6.54, 'Precision': 94.4, 'Recall': 89.56, 'f1_score': 91.92, 'Cohen_kappa': 86.43, 'Feature_name': 'Label (Disease Yes/No)', 'Model_name': 'dt_Classifier', 'Filename': 'Label_Disease_Yes_No__dt_Classifier.pkl'}\n",
      "Model : rf_Classifier\n"
     ]
    },
    {
     "name": "stderr",
     "output_type": "stream",
     "text": [
      "c:\\users\\munge\\appdata\\local\\programs\\python\\python36\\lib\\site-packages\\ipykernel_launcher.py:5: DataConversionWarning: A column-vector y was passed when a 1d array was expected. Please change the shape of y to (n_samples,), for example using ravel().\n",
      "  \"\"\"\n"
     ]
    },
    {
     "name": "stdout",
     "output_type": "stream",
     "text": [
      "Accuracy_score: 96.53 %\n",
      "Loss: 3.47 %\n",
      "Precision: 94.81 %\n",
      "Recall: 96.96 %\n",
      "f1_score: 95.87 %\n",
      "Cohen_kappa_score: 92.88 %\n",
      "Classification_report:\n",
      "               precision    recall  f1-score   support\n",
      "\n",
      "           0       0.98      0.96      0.97       742\n",
      "           1       0.95      0.97      0.96       527\n",
      "\n",
      "    accuracy                           0.97      1269\n",
      "   macro avg       0.96      0.97      0.96      1269\n",
      "weighted avg       0.97      0.97      0.97      1269\n",
      "\n",
      "confusion_matrix:\n",
      " [[714  28]\n",
      " [ 16 511]]\n"
     ]
    },
    {
     "data": {
      "image/png": "[encoded data removed]",
      "text/plain": [
       "<Figure size 432x288 with 2 Axes>"
      ]
     },
     "metadata": {
      "needs_background": "light"
     },
     "output_type": "display_data"
    },
    {
     "name": "stdout",
     "output_type": "stream",
     "text": [
      "File saved : Label_Disease_Yes_No__rf_Classifier.pkl\n",
      "data : {'Accuracy': 96.53, 'Loss': 3.47, 'Precision': 94.81, 'Recall': 96.96, 'f1_score': 95.87, 'Cohen_kappa': 92.88, 'Feature_name': 'Label (Disease Yes/No)', 'Model_name': 'rf_Classifier', 'Filename': 'Label_Disease_Yes_No__rf_Classifier.pkl'}\n",
      "Model : gb_Classifier\n"
     ]
    },
    {
     "name": "stderr",
     "output_type": "stream",
     "text": [
      "c:\\users\\munge\\appdata\\local\\programs\\python\\python36\\lib\\site-packages\\sklearn\\utils\\validation.py:63: DataConversionWarning: A column-vector y was passed when a 1d array was expected. Please change the shape of y to (n_samples, ), for example using ravel().\n",
      "  return f(*args, **kwargs)\n"
     ]
    },
    {
     "name": "stdout",
     "output_type": "stream",
     "text": [
      "Accuracy_score: 96.45 %\n",
      "Loss: 3.55 %\n",
      "Precision: 94.8 %\n",
      "Recall: 96.77 %\n",
      "f1_score: 95.77 %\n",
      "Cohen_kappa_score: 92.72 %\n",
      "Classification_report:\n",
      "               precision    recall  f1-score   support\n",
      "\n",
      "           0       0.98      0.96      0.97       742\n",
      "           1       0.95      0.97      0.96       527\n",
      "\n",
      "    accuracy                           0.96      1269\n",
      "   macro avg       0.96      0.97      0.96      1269\n",
      "weighted avg       0.96      0.96      0.96      1269\n",
      "\n",
      "confusion_matrix:\n",
      " [[714  28]\n",
      " [ 17 510]]\n"
     ]
    },
    {
     "data": {
      "image/png": "[encoded data removed]",
      "text/plain": [
       "<Figure size 432x288 with 2 Axes>"
      ]
     },
     "metadata": {
      "needs_background": "light"
     },
     "output_type": "display_data"
    },
    {
     "name": "stdout",
     "output_type": "stream",
     "text": [
      "File saved : Label_Disease_Yes_No__gb_Classifier.pkl\n",
      "data : {'Accuracy': 96.45, 'Loss': 3.55, 'Precision': 94.8, 'Recall': 96.77, 'f1_score': 95.77, 'Cohen_kappa': 92.72, 'Feature_name': 'Label (Disease Yes/No)', 'Model_name': 'gb_Classifier', 'Filename': 'Label_Disease_Yes_No__gb_Classifier.pkl'}\n",
      "Model : ab_Classifier\n"
     ]
    },
    {
     "name": "stderr",
     "output_type": "stream",
     "text": [
      "c:\\users\\munge\\appdata\\local\\programs\\python\\python36\\lib\\site-packages\\sklearn\\utils\\validation.py:63: DataConversionWarning: A column-vector y was passed when a 1d array was expected. Please change the shape of y to (n_samples, ), for example using ravel().\n",
      "  return f(*args, **kwargs)\n"
     ]
    },
    {
     "name": "stdout",
     "output_type": "stream",
     "text": [
      "Accuracy_score: 95.11 %\n",
      "Loss: 4.89 %\n",
      "Precision: 94.12 %\n",
      "Recall: 94.12 %\n",
      "f1_score: 94.12 %\n",
      "Cohen_kappa_score: 89.94 %\n",
      "Classification_report:\n",
      "               precision    recall  f1-score   support\n",
      "\n",
      "           0       0.96      0.96      0.96       742\n",
      "           1       0.94      0.94      0.94       527\n",
      "\n",
      "    accuracy                           0.95      1269\n",
      "   macro avg       0.95      0.95      0.95      1269\n",
      "weighted avg       0.95      0.95      0.95      1269\n",
      "\n",
      "confusion_matrix:\n",
      " [[711  31]\n",
      " [ 31 496]]\n"
     ]
    },
    {
     "data": {
      "image/png": "[encoded data removed]",
      "text/plain": [
       "<Figure size 432x288 with 2 Axes>"
      ]
     },
     "metadata": {
      "needs_background": "light"
     },
     "output_type": "display_data"
    },
    {
     "name": "stdout",
     "output_type": "stream",
     "text": [
      "File saved : Label_Disease_Yes_No__ab_Classifier.pkl\n",
      "data : {'Accuracy': 95.11, 'Loss': 4.89, 'Precision': 94.12, 'Recall': 94.12, 'f1_score': 94.12, 'Cohen_kappa': 89.94, 'Feature_name': 'Label (Disease Yes/No)', 'Model_name': 'ab_Classifier', 'Filename': 'Label_Disease_Yes_No__ab_Classifier.pkl'}\n",
      "Column : Type of Disease (Bacterial Blight/Telya)\n",
      "Model : lr_Classifier\n"
     ]
    },
    {
     "name": "stderr",
     "output_type": "stream",
     "text": [
      "c:\\users\\munge\\appdata\\local\\programs\\python\\python36\\lib\\site-packages\\sklearn\\utils\\validation.py:63: DataConversionWarning: A column-vector y was passed when a 1d array was expected. Please change the shape of y to (n_samples, ), for example using ravel().\n",
      "  return f(*args, **kwargs)\n"
     ]
    },
    {
     "name": "stdout",
     "output_type": "stream",
     "text": [
      "Accuracy_score: 84.4 %\n",
      "Loss: 15.6 %\n",
      "Precision: 78.95 %\n",
      "Recall: 59.66 %\n",
      "f1_score: 67.96 %\n",
      "Cohen_kappa_score: 57.91 %\n",
      "Classification_report:\n",
      "               precision    recall  f1-score   support\n",
      "\n",
      "           0       0.86      0.94      0.90       917\n",
      "           1       0.79      0.60      0.68       352\n",
      "\n",
      "    accuracy                           0.84      1269\n",
      "   macro avg       0.82      0.77      0.79      1269\n",
      "weighted avg       0.84      0.84      0.84      1269\n",
      "\n",
      "confusion_matrix:\n",
      " [[861  56]\n",
      " [142 210]]\n"
     ]
    },
    {
     "data": {
      "image/png": "[encoded data removed]",
      "text/plain": [
       "<Figure size 432x288 with 2 Axes>"
      ]
     },
     "metadata": {
      "needs_background": "light"
     },
     "output_type": "display_data"
    },
    {
     "name": "stdout",
     "output_type": "stream",
     "text": [
      "File saved : Type_of_Disease_Bacterial_Blight_Telya__lr_Classifier.pkl\n",
      "data : {'Accuracy': 84.4, 'Loss': 15.6, 'Precision': 78.95, 'Recall': 59.66, 'f1_score': 67.96, 'Cohen_kappa': 57.91, 'Feature_name': 'Type of Disease (Bacterial Blight/Telya)', 'Model_name': 'lr_Classifier', 'Filename': 'Type_of_Disease_Bacterial_Blight_Telya__lr_Classifier.pkl'}\n",
      "Model : knn_Classifier\n"
     ]
    },
    {
     "name": "stderr",
     "output_type": "stream",
     "text": [
      "c:\\users\\munge\\appdata\\local\\programs\\python\\python36\\lib\\site-packages\\sklearn\\neighbors\\_classification.py:179: DataConversionWarning: A column-vector y was passed when a 1d array was expected. Please change the shape of y to (n_samples,), for example using ravel().\n",
      "  return self._fit(X, y)\n"
     ]
    },
    {
     "name": "stdout",
     "output_type": "stream",
     "text": [
      "Accuracy_score: 87.86 %\n",
      "Loss: 12.14 %\n",
      "Precision: 83.45 %\n",
      "Recall: 70.17 %\n",
      "f1_score: 76.23 %\n",
      "Cohen_kappa_score: 68.17 %\n",
      "Classification_report:\n",
      "               precision    recall  f1-score   support\n",
      "\n",
      "           0       0.89      0.95      0.92       917\n",
      "           1       0.83      0.70      0.76       352\n",
      "\n",
      "    accuracy                           0.88      1269\n",
      "   macro avg       0.86      0.82      0.84      1269\n",
      "weighted avg       0.88      0.88      0.88      1269\n",
      "\n",
      "confusion_matrix:\n",
      " [[868  49]\n",
      " [105 247]]\n"
     ]
    },
    {
     "data": {
      "image/png": "[encoded data removed]",
      "text/plain": [
       "<Figure size 432x288 with 2 Axes>"
      ]
     },
     "metadata": {
      "needs_background": "light"
     },
     "output_type": "display_data"
    },
    {
     "name": "stdout",
     "output_type": "stream",
     "text": [
      "File saved : Type_of_Disease_Bacterial_Blight_Telya__knn_Classifier.pkl\n",
      "data : {'Accuracy': 87.86, 'Loss': 12.14, 'Precision': 83.45, 'Recall': 70.17, 'f1_score': 76.23, 'Cohen_kappa': 68.17, 'Feature_name': 'Type of Disease (Bacterial Blight/Telya)', 'Model_name': 'knn_Classifier', 'Filename': 'Type_of_Disease_Bacterial_Blight_Telya__knn_Classifier.pkl'}\n",
      "Model : nb_Classifier\n",
      "Accuracy_score: 74.39 %\n",
      "Loss: 25.61 %\n",
      "Precision: 53.08 %\n",
      "Recall: 66.19 %\n",
      "f1_score: 58.91 %\n",
      "Cohen_kappa_score: 40.63 %\n",
      "Classification_report:\n",
      "               precision    recall  f1-score   support\n",
      "\n",
      "           0       0.86      0.78      0.81       917\n",
      "           1       0.53      0.66      0.59       352\n",
      "\n",
      "    accuracy                           0.74      1269\n",
      "   macro avg       0.69      0.72      0.70      1269\n",
      "weighted avg       0.77      0.74      0.75      1269\n",
      "\n",
      "confusion_matrix:\n",
      " [[711 206]\n",
      " [119 233]]\n"
     ]
    },
    {
     "name": "stderr",
     "output_type": "stream",
     "text": [
      "c:\\users\\munge\\appdata\\local\\programs\\python\\python36\\lib\\site-packages\\sklearn\\utils\\validation.py:63: DataConversionWarning: A column-vector y was passed when a 1d array was expected. Please change the shape of y to (n_samples, ), for example using ravel().\n",
      "  return f(*args, **kwargs)\n"
     ]
    },
    {
     "data": {
      "image/png": "[encoded data removed]",
      "text/plain": [
       "<Figure size 432x288 with 2 Axes>"
      ]
     },
     "metadata": {
      "needs_background": "light"
     },
     "output_type": "display_data"
    },
    {
     "name": "stdout",
     "output_type": "stream",
     "text": [
      "File saved : Type_of_Disease_Bacterial_Blight_Telya__nb_Classifier.pkl\n",
      "data : {'Accuracy': 74.39, 'Loss': 25.61, 'Precision': 53.08, 'Recall': 66.19, 'f1_score': 58.91, 'Cohen_kappa': 40.63, 'Feature_name': 'Type of Disease (Bacterial Blight/Telya)', 'Model_name': 'nb_Classifier', 'Filename': 'Type_of_Disease_Bacterial_Blight_Telya__nb_Classifier.pkl'}\n",
      "Model : dt_Classifier\n",
      "Accuracy_score: 96.3 %\n",
      "Loss: 3.7 %\n",
      "Precision: 94.46 %\n",
      "Recall: 92.05 %\n",
      "f1_score: 93.24 %\n",
      "Cohen_kappa_score: 90.69 %\n",
      "Classification_report:\n",
      "               precision    recall  f1-score   support\n",
      "\n",
      "           0       0.97      0.98      0.97       917\n",
      "           1       0.94      0.92      0.93       352\n",
      "\n",
      "    accuracy                           0.96      1269\n",
      "   macro avg       0.96      0.95      0.95      1269\n",
      "weighted avg       0.96      0.96      0.96      1269\n",
      "\n",
      "confusion_matrix:\n",
      " [[898  19]\n",
      " [ 28 324]]\n"
     ]
    },
    {
     "data": {
      "image/png": "[encoded data removed]",
      "text/plain": [
       "<Figure size 432x288 with 2 Axes>"
      ]
     },
     "metadata": {
      "needs_background": "light"
     },
     "output_type": "display_data"
    },
    {
     "name": "stdout",
     "output_type": "stream",
     "text": [
      "File saved : Type_of_Disease_Bacterial_Blight_Telya__dt_Classifier.pkl\n",
      "data : {'Accuracy': 96.3, 'Loss': 3.7, 'Precision': 94.46, 'Recall': 92.05, 'f1_score': 93.24, 'Cohen_kappa': 90.69, 'Feature_name': 'Type of Disease (Bacterial Blight/Telya)', 'Model_name': 'dt_Classifier', 'Filename': 'Type_of_Disease_Bacterial_Blight_Telya__dt_Classifier.pkl'}\n",
      "Model : rf_Classifier\n"
     ]
    },
    {
     "name": "stderr",
     "output_type": "stream",
     "text": [
      "c:\\users\\munge\\appdata\\local\\programs\\python\\python36\\lib\\site-packages\\ipykernel_launcher.py:5: DataConversionWarning: A column-vector y was passed when a 1d array was expected. Please change the shape of y to (n_samples,), for example using ravel().\n",
      "  \"\"\"\n"
     ]
    },
    {
     "name": "stdout",
     "output_type": "stream",
     "text": [
      "Accuracy_score: 97.87 %\n",
      "Loss: 2.13 %\n",
      "Precision: 96.83 %\n",
      "Recall: 95.45 %\n",
      "f1_score: 96.14 %\n",
      "Cohen_kappa_score: 94.67 %\n",
      "Classification_report:\n",
      "               precision    recall  f1-score   support\n",
      "\n",
      "           0       0.98      0.99      0.99       917\n",
      "           1       0.97      0.95      0.96       352\n",
      "\n",
      "    accuracy                           0.98      1269\n",
      "   macro avg       0.98      0.97      0.97      1269\n",
      "weighted avg       0.98      0.98      0.98      1269\n",
      "\n",
      "confusion_matrix:\n",
      " [[906  11]\n",
      " [ 16 336]]\n"
     ]
    },
    {
     "data": {
      "image/png": "[encoded data removed]",
      "text/plain": [
       "<Figure size 432x288 with 2 Axes>"
      ]
     },
     "metadata": {
      "needs_background": "light"
     },
     "output_type": "display_data"
    },
    {
     "name": "stdout",
     "output_type": "stream",
     "text": [
      "File saved : Type_of_Disease_Bacterial_Blight_Telya__rf_Classifier.pkl\n",
      "data : {'Accuracy': 97.87, 'Loss': 2.13, 'Precision': 96.83, 'Recall': 95.45, 'f1_score': 96.14, 'Cohen_kappa': 94.67, 'Feature_name': 'Type of Disease (Bacterial Blight/Telya)', 'Model_name': 'rf_Classifier', 'Filename': 'Type_of_Disease_Bacterial_Blight_Telya__rf_Classifier.pkl'}\n",
      "Model : gb_Classifier\n"
     ]
    },
    {
     "name": "stderr",
     "output_type": "stream",
     "text": [
      "c:\\users\\munge\\appdata\\local\\programs\\python\\python36\\lib\\site-packages\\sklearn\\utils\\validation.py:63: DataConversionWarning: A column-vector y was passed when a 1d array was expected. Please change the shape of y to (n_samples, ), for example using ravel().\n",
      "  return f(*args, **kwargs)\n"
     ]
    },
    {
     "name": "stdout",
     "output_type": "stream",
     "text": [
      "Accuracy_score: 97.56 %\n",
      "Loss: 2.44 %\n",
      "Precision: 95.99 %\n",
      "Recall: 95.17 %\n",
      "f1_score: 95.58 %\n",
      "Cohen_kappa_score: 93.89 %\n",
      "Classification_report:\n",
      "               precision    recall  f1-score   support\n",
      "\n",
      "           0       0.98      0.98      0.98       917\n",
      "           1       0.96      0.95      0.96       352\n",
      "\n",
      "    accuracy                           0.98      1269\n",
      "   macro avg       0.97      0.97      0.97      1269\n",
      "weighted avg       0.98      0.98      0.98      1269\n",
      "\n",
      "confusion_matrix:\n",
      " [[903  14]\n",
      " [ 17 335]]\n"
     ]
    },
    {
     "data": {
      "image/png": "[encoded data removed]",
      "text/plain": [
       "<Figure size 432x288 with 2 Axes>"
      ]
     },
     "metadata": {
      "needs_background": "light"
     },
     "output_type": "display_data"
    },
    {
     "name": "stdout",
     "output_type": "stream",
     "text": [
      "File saved : Type_of_Disease_Bacterial_Blight_Telya__gb_Classifier.pkl\n",
      "data : {'Accuracy': 97.56, 'Loss': 2.44, 'Precision': 95.99, 'Recall': 95.17, 'f1_score': 95.58, 'Cohen_kappa': 93.89, 'Feature_name': 'Type of Disease (Bacterial Blight/Telya)', 'Model_name': 'gb_Classifier', 'Filename': 'Type_of_Disease_Bacterial_Blight_Telya__gb_Classifier.pkl'}\n",
      "Model : ab_Classifier\n"
     ]
    },
    {
     "name": "stderr",
     "output_type": "stream",
     "text": [
      "c:\\users\\munge\\appdata\\local\\programs\\python\\python36\\lib\\site-packages\\sklearn\\utils\\validation.py:63: DataConversionWarning: A column-vector y was passed when a 1d array was expected. Please change the shape of y to (n_samples, ), for example using ravel().\n",
      "  return f(*args, **kwargs)\n"
     ]
    },
    {
     "name": "stdout",
     "output_type": "stream",
     "text": [
      "Accuracy_score: 97.56 %\n",
      "Loss: 2.44 %\n",
      "Precision: 97.07 %\n",
      "Recall: 94.03 %\n",
      "f1_score: 95.53 %\n",
      "Cohen_kappa_score: 93.85 %\n",
      "Classification_report:\n",
      "               precision    recall  f1-score   support\n",
      "\n",
      "           0       0.98      0.99      0.98       917\n",
      "           1       0.97      0.94      0.96       352\n",
      "\n",
      "    accuracy                           0.98      1269\n",
      "   macro avg       0.97      0.96      0.97      1269\n",
      "weighted avg       0.98      0.98      0.98      1269\n",
      "\n",
      "confusion_matrix:\n",
      " [[907  10]\n",
      " [ 21 331]]\n"
     ]
    },
    {
     "data": {
      "image/png": "[encoded data removed]",
      "text/plain": [
       "<Figure size 432x288 with 2 Axes>"
      ]
     },
     "metadata": {
      "needs_background": "light"
     },
     "output_type": "display_data"
    },
    {
     "name": "stdout",
     "output_type": "stream",
     "text": [
      "File saved : Type_of_Disease_Bacterial_Blight_Telya__ab_Classifier.pkl\n",
      "data : {'Accuracy': 97.56, 'Loss': 2.44, 'Precision': 97.07, 'Recall': 94.03, 'f1_score': 95.53, 'Cohen_kappa': 93.85, 'Feature_name': 'Type of Disease (Bacterial Blight/Telya)', 'Model_name': 'ab_Classifier', 'Filename': 'Type_of_Disease_Bacterial_Blight_Telya__ab_Classifier.pkl'}\n",
      "Column : Anthracnose\n",
      "Model : lr_Classifier\n"
     ]
    },
    {
     "name": "stderr",
     "output_type": "stream",
     "text": [
      "c:\\users\\munge\\appdata\\local\\programs\\python\\python36\\lib\\site-packages\\sklearn\\utils\\validation.py:63: DataConversionWarning: A column-vector y was passed when a 1d array was expected. Please change the shape of y to (n_samples, ), for example using ravel().\n",
      "  return f(*args, **kwargs)\n"
     ]
    },
    {
     "name": "stdout",
     "output_type": "stream",
     "text": [
      "Accuracy_score: 82.98 %\n",
      "Loss: 17.02 %\n",
      "Precision: 39.68 %\n",
      "Recall: 12.32 %\n",
      "f1_score: 18.8 %\n",
      "Cohen_kappa_score: 12.14 %\n",
      "Classification_report:\n",
      "               precision    recall  f1-score   support\n",
      "\n",
      "           0       0.85      0.96      0.90      1066\n",
      "           1       0.40      0.12      0.19       203\n",
      "\n",
      "    accuracy                           0.83      1269\n",
      "   macro avg       0.62      0.54      0.55      1269\n",
      "weighted avg       0.78      0.83      0.79      1269\n",
      "\n",
      "confusion_matrix:\n",
      " [[1028   38]\n",
      " [ 178   25]]\n"
     ]
    },
    {
     "data": {
      "image/png": "[encoded data removed]",
      "text/plain": [
       "<Figure size 432x288 with 2 Axes>"
      ]
     },
     "metadata": {
      "needs_background": "light"
     },
     "output_type": "display_data"
    },
    {
     "name": "stdout",
     "output_type": "stream",
     "text": [
      "File saved : Anthracnose_lr_Classifier.pkl\n",
      "data : {'Accuracy': 82.98, 'Loss': 17.02, 'Precision': 39.68, 'Recall': 12.32, 'f1_score': 18.8, 'Cohen_kappa': 12.14, 'Feature_name': 'Anthracnose', 'Model_name': 'lr_Classifier', 'Filename': 'Anthracnose_lr_Classifier.pkl'}\n",
      "Model : knn_Classifier\n"
     ]
    },
    {
     "name": "stderr",
     "output_type": "stream",
     "text": [
      "c:\\users\\munge\\appdata\\local\\programs\\python\\python36\\lib\\site-packages\\sklearn\\neighbors\\_classification.py:179: DataConversionWarning: A column-vector y was passed when a 1d array was expected. Please change the shape of y to (n_samples,), for example using ravel().\n",
      "  return self._fit(X, y)\n"
     ]
    },
    {
     "name": "stdout",
     "output_type": "stream",
     "text": [
      "Accuracy_score: 94.72 %\n",
      "Loss: 5.28 %\n",
      "Precision: 83.33 %\n",
      "Recall: 83.74 %\n",
      "f1_score: 83.54 %\n",
      "Cohen_kappa_score: 80.39 %\n",
      "Classification_report:\n",
      "               precision    recall  f1-score   support\n",
      "\n",
      "           0       0.97      0.97      0.97      1066\n",
      "           1       0.83      0.84      0.84       203\n",
      "\n",
      "    accuracy                           0.95      1269\n",
      "   macro avg       0.90      0.90      0.90      1269\n",
      "weighted avg       0.95      0.95      0.95      1269\n",
      "\n",
      "confusion_matrix:\n",
      " [[1032   34]\n",
      " [  33  170]]\n"
     ]
    },
    {
     "data": {
      "image/png": "[encoded data removed]",
      "text/plain": [
       "<Figure size 432x288 with 2 Axes>"
      ]
     },
     "metadata": {
      "needs_background": "light"
     },
     "output_type": "display_data"
    },
    {
     "name": "stdout",
     "output_type": "stream",
     "text": [
      "File saved : Anthracnose_knn_Classifier.pkl\n",
      "data : {'Accuracy': 94.72, 'Loss': 5.28, 'Precision': 83.33, 'Recall': 83.74, 'f1_score': 83.54, 'Cohen_kappa': 80.39, 'Feature_name': 'Anthracnose', 'Model_name': 'knn_Classifier', 'Filename': 'Anthracnose_knn_Classifier.pkl'}\n",
      "Model : nb_Classifier\n",
      "Accuracy_score: 80.06 %\n",
      "Loss: 19.94 %\n",
      "Precision: 43.49 %\n",
      "Recall: 82.27 %\n",
      "f1_score: 56.9 %\n",
      "Cohen_kappa_score: 45.49 %\n",
      "Classification_report:\n",
      "               precision    recall  f1-score   support\n",
      "\n",
      "           0       0.96      0.80      0.87      1066\n",
      "           1       0.43      0.82      0.57       203\n",
      "\n",
      "    accuracy                           0.80      1269\n",
      "   macro avg       0.70      0.81      0.72      1269\n",
      "weighted avg       0.88      0.80      0.82      1269\n",
      "\n",
      "confusion_matrix:\n",
      " [[849 217]\n",
      " [ 36 167]]\n"
     ]
    },
    {
     "name": "stderr",
     "output_type": "stream",
     "text": [
      "c:\\users\\munge\\appdata\\local\\programs\\python\\python36\\lib\\site-packages\\sklearn\\utils\\validation.py:63: DataConversionWarning: A column-vector y was passed when a 1d array was expected. Please change the shape of y to (n_samples, ), for example using ravel().\n",
      "  return f(*args, **kwargs)\n"
     ]
    },
    {
     "data": {
      "image/png": "[encoded data removed]",
      "text/plain": [
       "<Figure size 432x288 with 2 Axes>"
      ]
     },
     "metadata": {
      "needs_background": "light"
     },
     "output_type": "display_data"
    },
    {
     "name": "stdout",
     "output_type": "stream",
     "text": [
      "File saved : Anthracnose_nb_Classifier.pkl\n",
      "data : {'Accuracy': 80.06, 'Loss': 19.94, 'Precision': 43.49, 'Recall': 82.27, 'f1_score': 56.9, 'Cohen_kappa': 45.49, 'Feature_name': 'Anthracnose', 'Model_name': 'nb_Classifier', 'Filename': 'Anthracnose_nb_Classifier.pkl'}\n",
      "Model : dt_Classifier\n",
      "Accuracy_score: 97.56 %\n",
      "Loss: 2.44 %\n",
      "Precision: 95.26 %\n",
      "Recall: 89.16 %\n",
      "f1_score: 92.11 %\n",
      "Cohen_kappa_score: 90.67 %\n",
      "Classification_report:\n",
      "               precision    recall  f1-score   support\n",
      "\n",
      "           0       0.98      0.99      0.99      1066\n",
      "           1       0.95      0.89      0.92       203\n",
      "\n",
      "    accuracy                           0.98      1269\n",
      "   macro avg       0.97      0.94      0.95      1269\n",
      "weighted avg       0.98      0.98      0.98      1269\n",
      "\n",
      "confusion_matrix:\n",
      " [[1057    9]\n",
      " [  22  181]]\n"
     ]
    },
    {
     "data": {
      "image/png": "[encoded data removed]",
      "text/plain": [
       "<Figure size 432x288 with 2 Axes>"
      ]
     },
     "metadata": {
      "needs_background": "light"
     },
     "output_type": "display_data"
    },
    {
     "name": "stdout",
     "output_type": "stream",
     "text": [
      "File saved : Anthracnose_dt_Classifier.pkl\n",
      "data : {'Accuracy': 97.56, 'Loss': 2.44, 'Precision': 95.26, 'Recall': 89.16, 'f1_score': 92.11, 'Cohen_kappa': 90.67, 'Feature_name': 'Anthracnose', 'Model_name': 'dt_Classifier', 'Filename': 'Anthracnose_dt_Classifier.pkl'}\n",
      "Model : rf_Classifier\n"
     ]
    },
    {
     "name": "stderr",
     "output_type": "stream",
     "text": [
      "c:\\users\\munge\\appdata\\local\\programs\\python\\python36\\lib\\site-packages\\ipykernel_launcher.py:5: DataConversionWarning: A column-vector y was passed when a 1d array was expected. Please change the shape of y to (n_samples,), for example using ravel().\n",
      "  \"\"\"\n"
     ]
    },
    {
     "name": "stdout",
     "output_type": "stream",
     "text": [
      "Accuracy_score: 98.66 %\n",
      "Loss: 1.34 %\n",
      "Precision: 97.45 %\n",
      "Recall: 94.09 %\n",
      "f1_score: 95.74 %\n",
      "Cohen_kappa_score: 94.94 %\n",
      "Classification_report:\n",
      "               precision    recall  f1-score   support\n",
      "\n",
      "           0       0.99      1.00      0.99      1066\n",
      "           1       0.97      0.94      0.96       203\n",
      "\n",
      "    accuracy                           0.99      1269\n",
      "   macro avg       0.98      0.97      0.97      1269\n",
      "weighted avg       0.99      0.99      0.99      1269\n",
      "\n",
      "confusion_matrix:\n",
      " [[1061    5]\n",
      " [  12  191]]\n"
     ]
    },
    {
     "data": {
      "image/png": "[encoded data removed]",
      "text/plain": [
       "<Figure size 432x288 with 2 Axes>"
      ]
     },
     "metadata": {
      "needs_background": "light"
     },
     "output_type": "display_data"
    },
    {
     "name": "stdout",
     "output_type": "stream",
     "text": [
      "File saved : Anthracnose_rf_Classifier.pkl\n",
      "data : {'Accuracy': 98.66, 'Loss': 1.34, 'Precision': 97.45, 'Recall': 94.09, 'f1_score': 95.74, 'Cohen_kappa': 94.94, 'Feature_name': 'Anthracnose', 'Model_name': 'rf_Classifier', 'Filename': 'Anthracnose_rf_Classifier.pkl'}\n",
      "Model : gb_Classifier\n"
     ]
    },
    {
     "name": "stderr",
     "output_type": "stream",
     "text": [
      "c:\\users\\munge\\appdata\\local\\programs\\python\\python36\\lib\\site-packages\\sklearn\\utils\\validation.py:63: DataConversionWarning: A column-vector y was passed when a 1d array was expected. Please change the shape of y to (n_samples, ), for example using ravel().\n",
      "  return f(*args, **kwargs)\n"
     ]
    },
    {
     "name": "stdout",
     "output_type": "stream",
     "text": [
      "Accuracy_score: 98.19 %\n",
      "Loss: 1.81 %\n",
      "Precision: 94.55 %\n",
      "Recall: 94.09 %\n",
      "f1_score: 94.32 %\n",
      "Cohen_kappa_score: 93.24 %\n",
      "Classification_report:\n",
      "               precision    recall  f1-score   support\n",
      "\n",
      "           0       0.99      0.99      0.99      1066\n",
      "           1       0.95      0.94      0.94       203\n",
      "\n",
      "    accuracy                           0.98      1269\n",
      "   macro avg       0.97      0.97      0.97      1269\n",
      "weighted avg       0.98      0.98      0.98      1269\n",
      "\n",
      "confusion_matrix:\n",
      " [[1055   11]\n",
      " [  12  191]]\n"
     ]
    },
    {
     "data": {
      "image/png": "[encoded data removed]",
      "text/plain": [
       "<Figure size 432x288 with 2 Axes>"
      ]
     },
     "metadata": {
      "needs_background": "light"
     },
     "output_type": "display_data"
    },
    {
     "name": "stdout",
     "output_type": "stream",
     "text": [
      "File saved : Anthracnose_gb_Classifier.pkl\n",
      "data : {'Accuracy': 98.19, 'Loss': 1.81, 'Precision': 94.55, 'Recall': 94.09, 'f1_score': 94.32, 'Cohen_kappa': 93.24, 'Feature_name': 'Anthracnose', 'Model_name': 'gb_Classifier', 'Filename': 'Anthracnose_gb_Classifier.pkl'}\n",
      "Model : ab_Classifier\n"
     ]
    },
    {
     "name": "stderr",
     "output_type": "stream",
     "text": [
      "c:\\users\\munge\\appdata\\local\\programs\\python\\python36\\lib\\site-packages\\sklearn\\utils\\validation.py:63: DataConversionWarning: A column-vector y was passed when a 1d array was expected. Please change the shape of y to (n_samples, ), for example using ravel().\n",
      "  return f(*args, **kwargs)\n"
     ]
    },
    {
     "name": "stdout",
     "output_type": "stream",
     "text": [
      "Accuracy_score: 98.03 %\n",
      "Loss: 1.97 %\n",
      "Precision: 94.06 %\n",
      "Recall: 93.6 %\n",
      "f1_score: 93.83 %\n",
      "Cohen_kappa_score: 92.66 %\n",
      "Classification_report:\n",
      "               precision    recall  f1-score   support\n",
      "\n",
      "           0       0.99      0.99      0.99      1066\n",
      "           1       0.94      0.94      0.94       203\n",
      "\n",
      "    accuracy                           0.98      1269\n",
      "   macro avg       0.96      0.96      0.96      1269\n",
      "weighted avg       0.98      0.98      0.98      1269\n",
      "\n",
      "confusion_matrix:\n",
      " [[1054   12]\n",
      " [  13  190]]\n"
     ]
    },
    {
     "data": {
      "image/png": "[encoded data removed]",
      "text/plain": [
       "<Figure size 432x288 with 2 Axes>"
      ]
     },
     "metadata": {
      "needs_background": "light"
     },
     "output_type": "display_data"
    },
    {
     "name": "stdout",
     "output_type": "stream",
     "text": [
      "File saved : Anthracnose_ab_Classifier.pkl\n",
      "data : {'Accuracy': 98.03, 'Loss': 1.97, 'Precision': 94.06, 'Recall': 93.6, 'f1_score': 93.83, 'Cohen_kappa': 92.66, 'Feature_name': 'Anthracnose', 'Model_name': 'ab_Classifier', 'Filename': 'Anthracnose_ab_Classifier.pkl'}\n",
      "Column : Fruit Spot/ Rot\n",
      "Model : lr_Classifier\n"
     ]
    },
    {
     "name": "stderr",
     "output_type": "stream",
     "text": [
      "c:\\users\\munge\\appdata\\local\\programs\\python\\python36\\lib\\site-packages\\sklearn\\utils\\validation.py:63: DataConversionWarning: A column-vector y was passed when a 1d array was expected. Please change the shape of y to (n_samples, ), for example using ravel().\n",
      "  return f(*args, **kwargs)\n"
     ]
    },
    {
     "name": "stdout",
     "output_type": "stream",
     "text": [
      "Accuracy_score: 97.95 %\n",
      "Loss: 2.05 %\n",
      "Precision: 92.48 %\n",
      "Recall: 88.49 %\n",
      "f1_score: 90.44 %\n",
      "Cohen_kappa_score: 89.29 %\n",
      "Classification_report:\n",
      "               precision    recall  f1-score   support\n",
      "\n",
      "           0       0.99      0.99      0.99      1130\n",
      "           1       0.92      0.88      0.90       139\n",
      "\n",
      "    accuracy                           0.98      1269\n",
      "   macro avg       0.96      0.94      0.95      1269\n",
      "weighted avg       0.98      0.98      0.98      1269\n",
      "\n",
      "confusion_matrix:\n",
      " [[1120   10]\n",
      " [  16  123]]\n"
     ]
    },
    {
     "data": {
      "image/png": "[encoded data removed]",
      "text/plain": [
       "<Figure size 432x288 with 2 Axes>"
      ]
     },
     "metadata": {
      "needs_background": "light"
     },
     "output_type": "display_data"
    },
    {
     "name": "stdout",
     "output_type": "stream",
     "text": [
      "File saved : Fruit_Spot_Rot_lr_Classifier.pkl\n",
      "data : {'Accuracy': 97.95, 'Loss': 2.05, 'Precision': 92.48, 'Recall': 88.49, 'f1_score': 90.44, 'Cohen_kappa': 89.29, 'Feature_name': 'Fruit Spot/ Rot', 'Model_name': 'lr_Classifier', 'Filename': 'Fruit_Spot_Rot_lr_Classifier.pkl'}\n",
      "Model : knn_Classifier\n"
     ]
    },
    {
     "name": "stderr",
     "output_type": "stream",
     "text": [
      "c:\\users\\munge\\appdata\\local\\programs\\python\\python36\\lib\\site-packages\\sklearn\\neighbors\\_classification.py:179: DataConversionWarning: A column-vector y was passed when a 1d array was expected. Please change the shape of y to (n_samples,), for example using ravel().\n",
      "  return self._fit(X, y)\n"
     ]
    },
    {
     "name": "stdout",
     "output_type": "stream",
     "text": [
      "Accuracy_score: 99.13 %\n",
      "Loss: 0.87 %\n",
      "Precision: 93.84 %\n",
      "Recall: 98.56 %\n",
      "f1_score: 96.14 %\n",
      "Cohen_kappa_score: 95.65 %\n",
      "Classification_report:\n",
      "               precision    recall  f1-score   support\n",
      "\n",
      "           0       1.00      0.99      1.00      1130\n",
      "           1       0.94      0.99      0.96       139\n",
      "\n",
      "    accuracy                           0.99      1269\n",
      "   macro avg       0.97      0.99      0.98      1269\n",
      "weighted avg       0.99      0.99      0.99      1269\n",
      "\n",
      "confusion_matrix:\n",
      " [[1121    9]\n",
      " [   2  137]]\n"
     ]
    },
    {
     "data": {
      "image/png": "[encoded data removed]",
      "text/plain": [
       "<Figure size 432x288 with 2 Axes>"
      ]
     },
     "metadata": {
      "needs_background": "light"
     },
     "output_type": "display_data"
    },
    {
     "name": "stdout",
     "output_type": "stream",
     "text": [
      "File saved : Fruit_Spot_Rot_knn_Classifier.pkl\n",
      "data : {'Accuracy': 99.13, 'Loss': 0.87, 'Precision': 93.84, 'Recall': 98.56, 'f1_score': 96.14, 'Cohen_kappa': 95.65, 'Feature_name': 'Fruit Spot/ Rot', 'Model_name': 'knn_Classifier', 'Filename': 'Fruit_Spot_Rot_knn_Classifier.pkl'}\n",
      "Model : nb_Classifier\n",
      "Accuracy_score: 92.28 %\n",
      "Loss: 7.72 %\n",
      "Precision: 58.8 %\n",
      "Recall: 98.56 %\n",
      "f1_score: 73.66 %\n",
      "Cohen_kappa_score: 69.47 %\n",
      "Classification_report:\n",
      "               precision    recall  f1-score   support\n",
      "\n",
      "           0       1.00      0.92      0.95      1130\n",
      "           1       0.59      0.99      0.74       139\n",
      "\n",
      "    accuracy                           0.92      1269\n",
      "   macro avg       0.79      0.95      0.85      1269\n",
      "weighted avg       0.95      0.92      0.93      1269\n",
      "\n",
      "confusion_matrix:\n",
      " [[1034   96]\n",
      " [   2  137]]\n"
     ]
    },
    {
     "name": "stderr",
     "output_type": "stream",
     "text": [
      "c:\\users\\munge\\appdata\\local\\programs\\python\\python36\\lib\\site-packages\\sklearn\\utils\\validation.py:63: DataConversionWarning: A column-vector y was passed when a 1d array was expected. Please change the shape of y to (n_samples, ), for example using ravel().\n",
      "  return f(*args, **kwargs)\n"
     ]
    },
    {
     "data": {
      "image/png": "[encoded data removed]",
      "text/plain": [
       "<Figure size 432x288 with 2 Axes>"
      ]
     },
     "metadata": {
      "needs_background": "light"
     },
     "output_type": "display_data"
    },
    {
     "name": "stdout",
     "output_type": "stream",
     "text": [
      "File saved : Fruit_Spot_Rot_nb_Classifier.pkl\n",
      "data : {'Accuracy': 92.28, 'Loss': 7.72, 'Precision': 58.8, 'Recall': 98.56, 'f1_score': 73.66, 'Cohen_kappa': 69.47, 'Feature_name': 'Fruit Spot/ Rot', 'Model_name': 'nb_Classifier', 'Filename': 'Fruit_Spot_Rot_nb_Classifier.pkl'}\n",
      "Model : dt_Classifier\n",
      "Accuracy_score: 99.84 %\n",
      "Loss: 0.16 %\n",
      "Precision: 100.0 %\n",
      "Recall: 98.56 %\n",
      "f1_score: 99.28 %\n",
      "Cohen_kappa_score: 99.19 %\n",
      "Classification_report:\n",
      "               precision    recall  f1-score   support\n",
      "\n",
      "           0       1.00      1.00      1.00      1130\n",
      "           1       1.00      0.99      0.99       139\n",
      "\n",
      "    accuracy                           1.00      1269\n",
      "   macro avg       1.00      0.99      1.00      1269\n",
      "weighted avg       1.00      1.00      1.00      1269\n",
      "\n",
      "confusion_matrix:\n",
      " [[1130    0]\n",
      " [   2  137]]\n"
     ]
    },
    {
     "data": {
      "image/png": "[encoded data removed]",
      "text/plain": [
       "<Figure size 432x288 with 2 Axes>"
      ]
     },
     "metadata": {
      "needs_background": "light"
     },
     "output_type": "display_data"
    },
    {
     "name": "stdout",
     "output_type": "stream",
     "text": [
      "File saved : Fruit_Spot_Rot_dt_Classifier.pkl\n",
      "data : {'Accuracy': 99.84, 'Loss': 0.16, 'Precision': 100.0, 'Recall': 98.56, 'f1_score': 99.28, 'Cohen_kappa': 99.19, 'Feature_name': 'Fruit Spot/ Rot', 'Model_name': 'dt_Classifier', 'Filename': 'Fruit_Spot_Rot_dt_Classifier.pkl'}\n",
      "Model : rf_Classifier\n"
     ]
    },
    {
     "name": "stderr",
     "output_type": "stream",
     "text": [
      "c:\\users\\munge\\appdata\\local\\programs\\python\\python36\\lib\\site-packages\\ipykernel_launcher.py:5: DataConversionWarning: A column-vector y was passed when a 1d array was expected. Please change the shape of y to (n_samples,), for example using ravel().\n",
      "  \"\"\"\n"
     ]
    },
    {
     "name": "stdout",
     "output_type": "stream",
     "text": [
      "Accuracy_score: 99.92 %\n",
      "Loss: 0.08 %\n",
      "Precision: 100.0 %\n",
      "Recall: 99.28 %\n",
      "f1_score: 99.64 %\n",
      "Cohen_kappa_score: 99.59 %\n",
      "Classification_report:\n",
      "               precision    recall  f1-score   support\n",
      "\n",
      "           0       1.00      1.00      1.00      1130\n",
      "           1       1.00      0.99      1.00       139\n",
      "\n",
      "    accuracy                           1.00      1269\n",
      "   macro avg       1.00      1.00      1.00      1269\n",
      "weighted avg       1.00      1.00      1.00      1269\n",
      "\n",
      "confusion_matrix:\n",
      " [[1130    0]\n",
      " [   1  138]]\n"
     ]
    },
    {
     "data": {
      "image/png": "[encoded data removed]",
      "text/plain": [
       "<Figure size 432x288 with 2 Axes>"
      ]
     },
     "metadata": {
      "needs_background": "light"
     },
     "output_type": "display_data"
    },
    {
     "name": "stdout",
     "output_type": "stream",
     "text": [
      "File saved : Fruit_Spot_Rot_rf_Classifier.pkl\n",
      "data : {'Accuracy': 99.92, 'Loss': 0.08, 'Precision': 100.0, 'Recall': 99.28, 'f1_score': 99.64, 'Cohen_kappa': 99.59, 'Feature_name': 'Fruit Spot/ Rot', 'Model_name': 'rf_Classifier', 'Filename': 'Fruit_Spot_Rot_rf_Classifier.pkl'}\n",
      "Model : gb_Classifier\n"
     ]
    },
    {
     "name": "stderr",
     "output_type": "stream",
     "text": [
      "c:\\users\\munge\\appdata\\local\\programs\\python\\python36\\lib\\site-packages\\sklearn\\utils\\validation.py:63: DataConversionWarning: A column-vector y was passed when a 1d array was expected. Please change the shape of y to (n_samples, ), for example using ravel().\n",
      "  return f(*args, **kwargs)\n"
     ]
    },
    {
     "name": "stdout",
     "output_type": "stream",
     "text": [
      "Accuracy_score: 99.84 %\n",
      "Loss: 0.16 %\n",
      "Precision: 100.0 %\n",
      "Recall: 98.56 %\n",
      "f1_score: 99.28 %\n",
      "Cohen_kappa_score: 99.19 %\n",
      "Classification_report:\n",
      "               precision    recall  f1-score   support\n",
      "\n",
      "           0       1.00      1.00      1.00      1130\n",
      "           1       1.00      0.99      0.99       139\n",
      "\n",
      "    accuracy                           1.00      1269\n",
      "   macro avg       1.00      0.99      1.00      1269\n",
      "weighted avg       1.00      1.00      1.00      1269\n",
      "\n",
      "confusion_matrix:\n",
      " [[1130    0]\n",
      " [   2  137]]\n"
     ]
    },
    {
     "data": {
      "image/png": "[encoded data removed]",
      "text/plain": [
       "<Figure size 432x288 with 2 Axes>"
      ]
     },
     "metadata": {
      "needs_background": "light"
     },
     "output_type": "display_data"
    },
    {
     "name": "stdout",
     "output_type": "stream",
     "text": [
      "File saved : Fruit_Spot_Rot_gb_Classifier.pkl\n",
      "data : {'Accuracy': 99.84, 'Loss': 0.16, 'Precision': 100.0, 'Recall': 98.56, 'f1_score': 99.28, 'Cohen_kappa': 99.19, 'Feature_name': 'Fruit Spot/ Rot', 'Model_name': 'gb_Classifier', 'Filename': 'Fruit_Spot_Rot_gb_Classifier.pkl'}\n",
      "Model : ab_Classifier\n"
     ]
    },
    {
     "name": "stderr",
     "output_type": "stream",
     "text": [
      "c:\\users\\munge\\appdata\\local\\programs\\python\\python36\\lib\\site-packages\\sklearn\\utils\\validation.py:63: DataConversionWarning: A column-vector y was passed when a 1d array was expected. Please change the shape of y to (n_samples, ), for example using ravel().\n",
      "  return f(*args, **kwargs)\n"
     ]
    },
    {
     "name": "stdout",
     "output_type": "stream",
     "text": [
      "Accuracy_score: 99.76 %\n",
      "Loss: 0.24 %\n",
      "Precision: 99.28 %\n",
      "Recall: 98.56 %\n",
      "f1_score: 98.92 %\n",
      "Cohen_kappa_score: 98.78 %\n",
      "Classification_report:\n",
      "               precision    recall  f1-score   support\n",
      "\n",
      "           0       1.00      1.00      1.00      1130\n",
      "           1       0.99      0.99      0.99       139\n",
      "\n",
      "    accuracy                           1.00      1269\n",
      "   macro avg       1.00      0.99      0.99      1269\n",
      "weighted avg       1.00      1.00      1.00      1269\n",
      "\n",
      "confusion_matrix:\n",
      " [[1129    1]\n",
      " [   2  137]]\n"
     ]
    },
    {
     "data": {
      "image/png": "[encoded data removed]",
      "text/plain": [
       "<Figure size 432x288 with 2 Axes>"
      ]
     },
     "metadata": {
      "needs_background": "light"
     },
     "output_type": "display_data"
    },
    {
     "name": "stdout",
     "output_type": "stream",
     "text": [
      "File saved : Fruit_Spot_Rot_ab_Classifier.pkl\n",
      "data : {'Accuracy': 99.76, 'Loss': 0.24, 'Precision': 99.28, 'Recall': 98.56, 'f1_score': 98.92, 'Cohen_kappa': 98.78, 'Feature_name': 'Fruit Spot/ Rot', 'Model_name': 'ab_Classifier', 'Filename': 'Fruit_Spot_Rot_ab_Classifier.pkl'}\n",
      "Column : Fusarium Wilt\n",
      "Model : lr_Classifier\n"
     ]
    },
    {
     "name": "stderr",
     "output_type": "stream",
     "text": [
      "c:\\users\\munge\\appdata\\local\\programs\\python\\python36\\lib\\site-packages\\sklearn\\utils\\validation.py:63: DataConversionWarning: A column-vector y was passed when a 1d array was expected. Please change the shape of y to (n_samples, ), for example using ravel().\n",
      "  return f(*args, **kwargs)\n"
     ]
    },
    {
     "name": "stdout",
     "output_type": "stream",
     "text": [
      "Accuracy_score: 99.84 %\n",
      "Loss: 0.16 %\n",
      "Precision: 100.0 %\n",
      "Recall: 93.55 %\n",
      "f1_score: 96.67 %\n",
      "Cohen_kappa_score: 96.59 %\n",
      "Classification_report:\n",
      "               precision    recall  f1-score   support\n",
      "\n",
      "           0       1.00      1.00      1.00      1238\n",
      "           1       1.00      0.94      0.97        31\n",
      "\n",
      "    accuracy                           1.00      1269\n",
      "   macro avg       1.00      0.97      0.98      1269\n",
      "weighted avg       1.00      1.00      1.00      1269\n",
      "\n",
      "confusion_matrix:\n",
      " [[1238    0]\n",
      " [   2   29]]\n"
     ]
    },
    {
     "data": {
      "image/png": "[encoded data removed]",
      "text/plain": [
       "<Figure size 432x288 with 2 Axes>"
      ]
     },
     "metadata": {
      "needs_background": "light"
     },
     "output_type": "display_data"
    },
    {
     "name": "stdout",
     "output_type": "stream",
     "text": [
      "File saved : Fusarium_Wilt_lr_Classifier.pkl\n",
      "data : {'Accuracy': 99.84, 'Loss': 0.16, 'Precision': 100.0, 'Recall': 93.55, 'f1_score': 96.67, 'Cohen_kappa': 96.59, 'Feature_name': 'Fusarium Wilt', 'Model_name': 'lr_Classifier', 'Filename': 'Fusarium_Wilt_lr_Classifier.pkl'}\n",
      "Model : knn_Classifier\n"
     ]
    },
    {
     "name": "stderr",
     "output_type": "stream",
     "text": [
      "c:\\users\\munge\\appdata\\local\\programs\\python\\python36\\lib\\site-packages\\sklearn\\neighbors\\_classification.py:179: DataConversionWarning: A column-vector y was passed when a 1d array was expected. Please change the shape of y to (n_samples,), for example using ravel().\n",
      "  return self._fit(X, y)\n"
     ]
    },
    {
     "name": "stdout",
     "output_type": "stream",
     "text": [
      "Accuracy_score: 99.05 %\n",
      "Loss: 0.95 %\n",
      "Precision: 100.0 %\n",
      "Recall: 61.29 %\n",
      "f1_score: 76.0 %\n",
      "Cohen_kappa_score: 75.55 %\n",
      "Classification_report:\n",
      "               precision    recall  f1-score   support\n",
      "\n",
      "           0       0.99      1.00      1.00      1238\n",
      "           1       1.00      0.61      0.76        31\n",
      "\n",
      "    accuracy                           0.99      1269\n",
      "   macro avg       1.00      0.81      0.88      1269\n",
      "weighted avg       0.99      0.99      0.99      1269\n",
      "\n",
      "confusion_matrix:\n",
      " [[1238    0]\n",
      " [  12   19]]\n"
     ]
    },
    {
     "data": {
      "image/png": "[encoded data removed]",
      "text/plain": [
       "<Figure size 432x288 with 2 Axes>"
      ]
     },
     "metadata": {
      "needs_background": "light"
     },
     "output_type": "display_data"
    },
    {
     "name": "stdout",
     "output_type": "stream",
     "text": [
      "File saved : Fusarium_Wilt_knn_Classifier.pkl\n",
      "data : {'Accuracy': 99.05, 'Loss': 0.95, 'Precision': 100.0, 'Recall': 61.29, 'f1_score': 76.0, 'Cohen_kappa': 75.55, 'Feature_name': 'Fusarium Wilt', 'Model_name': 'knn_Classifier', 'Filename': 'Fusarium_Wilt_knn_Classifier.pkl'}\n",
      "Model : nb_Classifier\n",
      "Accuracy_score: 93.93 %\n",
      "Loss: 6.07 %\n",
      "Precision: 27.88 %\n",
      "Recall: 93.55 %\n",
      "f1_score: 42.96 %\n",
      "Cohen_kappa_score: 40.73 %\n",
      "Classification_report:\n",
      "               precision    recall  f1-score   support\n",
      "\n",
      "           0       1.00      0.94      0.97      1238\n",
      "           1       0.28      0.94      0.43        31\n",
      "\n",
      "    accuracy                           0.94      1269\n",
      "   macro avg       0.64      0.94      0.70      1269\n",
      "weighted avg       0.98      0.94      0.95      1269\n",
      "\n",
      "confusion_matrix:\n",
      " [[1163   75]\n",
      " [   2   29]]\n"
     ]
    },
    {
     "name": "stderr",
     "output_type": "stream",
     "text": [
      "c:\\users\\munge\\appdata\\local\\programs\\python\\python36\\lib\\site-packages\\sklearn\\utils\\validation.py:63: DataConversionWarning: A column-vector y was passed when a 1d array was expected. Please change the shape of y to (n_samples, ), for example using ravel().\n",
      "  return f(*args, **kwargs)\n"
     ]
    },
    {
     "data": {
      "image/png": "[encoded data removed]",
      "text/plain": [
       "<Figure size 432x288 with 2 Axes>"
      ]
     },
     "metadata": {
      "needs_background": "light"
     },
     "output_type": "display_data"
    },
    {
     "name": "stdout",
     "output_type": "stream",
     "text": [
      "File saved : Fusarium_Wilt_nb_Classifier.pkl\n",
      "data : {'Accuracy': 93.93, 'Loss': 6.07, 'Precision': 27.88, 'Recall': 93.55, 'f1_score': 42.96, 'Cohen_kappa': 40.73, 'Feature_name': 'Fusarium Wilt', 'Model_name': 'nb_Classifier', 'Filename': 'Fusarium_Wilt_nb_Classifier.pkl'}\n",
      "Model : dt_Classifier\n",
      "Accuracy_score: 99.92 %\n",
      "Loss: 0.08 %\n",
      "Precision: 100.0 %\n",
      "Recall: 96.77 %\n",
      "f1_score: 98.36 %\n",
      "Cohen_kappa_score: 98.32 %\n",
      "Classification_report:\n",
      "               precision    recall  f1-score   support\n",
      "\n",
      "           0       1.00      1.00      1.00      1238\n",
      "           1       1.00      0.97      0.98        31\n",
      "\n",
      "    accuracy                           1.00      1269\n",
      "   macro avg       1.00      0.98      0.99      1269\n",
      "weighted avg       1.00      1.00      1.00      1269\n",
      "\n",
      "confusion_matrix:\n",
      " [[1238    0]\n",
      " [   1   30]]\n"
     ]
    },
    {
     "data": {
      "image/png": "[encoded data removed]",
      "text/plain": [
       "<Figure size 432x288 with 2 Axes>"
      ]
     },
     "metadata": {
      "needs_background": "light"
     },
     "output_type": "display_data"
    },
    {
     "name": "stdout",
     "output_type": "stream",
     "text": [
      "File saved : Fusarium_Wilt_dt_Classifier.pkl\n",
      "data : {'Accuracy': 99.92, 'Loss': 0.08, 'Precision': 100.0, 'Recall': 96.77, 'f1_score': 98.36, 'Cohen_kappa': 98.32, 'Feature_name': 'Fusarium Wilt', 'Model_name': 'dt_Classifier', 'Filename': 'Fusarium_Wilt_dt_Classifier.pkl'}\n",
      "Model : rf_Classifier\n"
     ]
    },
    {
     "name": "stderr",
     "output_type": "stream",
     "text": [
      "c:\\users\\munge\\appdata\\local\\programs\\python\\python36\\lib\\site-packages\\ipykernel_launcher.py:5: DataConversionWarning: A column-vector y was passed when a 1d array was expected. Please change the shape of y to (n_samples,), for example using ravel().\n",
      "  \"\"\"\n"
     ]
    },
    {
     "name": "stdout",
     "output_type": "stream",
     "text": [
      "Accuracy_score: 99.84 %\n",
      "Loss: 0.16 %\n",
      "Precision: 100.0 %\n",
      "Recall: 93.55 %\n",
      "f1_score: 96.67 %\n",
      "Cohen_kappa_score: 96.59 %\n",
      "Classification_report:\n",
      "               precision    recall  f1-score   support\n",
      "\n",
      "           0       1.00      1.00      1.00      1238\n",
      "           1       1.00      0.94      0.97        31\n",
      "\n",
      "    accuracy                           1.00      1269\n",
      "   macro avg       1.00      0.97      0.98      1269\n",
      "weighted avg       1.00      1.00      1.00      1269\n",
      "\n",
      "confusion_matrix:\n",
      " [[1238    0]\n",
      " [   2   29]]\n"
     ]
    },
    {
     "data": {
      "image/png": "[encoded data removed]",
      "text/plain": [
       "<Figure size 432x288 with 2 Axes>"
      ]
     },
     "metadata": {
      "needs_background": "light"
     },
     "output_type": "display_data"
    },
    {
     "name": "stdout",
     "output_type": "stream",
     "text": [
      "File saved : Fusarium_Wilt_rf_Classifier.pkl\n",
      "data : {'Accuracy': 99.84, 'Loss': 0.16, 'Precision': 100.0, 'Recall': 93.55, 'f1_score': 96.67, 'Cohen_kappa': 96.59, 'Feature_name': 'Fusarium Wilt', 'Model_name': 'rf_Classifier', 'Filename': 'Fusarium_Wilt_rf_Classifier.pkl'}\n",
      "Model : gb_Classifier\n"
     ]
    },
    {
     "name": "stderr",
     "output_type": "stream",
     "text": [
      "c:\\users\\munge\\appdata\\local\\programs\\python\\python36\\lib\\site-packages\\sklearn\\utils\\validation.py:63: DataConversionWarning: A column-vector y was passed when a 1d array was expected. Please change the shape of y to (n_samples, ), for example using ravel().\n",
      "  return f(*args, **kwargs)\n"
     ]
    },
    {
     "name": "stdout",
     "output_type": "stream",
     "text": [
      "Accuracy_score: 99.84 %\n",
      "Loss: 0.16 %\n",
      "Precision: 100.0 %\n",
      "Recall: 93.55 %\n",
      "f1_score: 96.67 %\n",
      "Cohen_kappa_score: 96.59 %\n",
      "Classification_report:\n",
      "               precision    recall  f1-score   support\n",
      "\n",
      "           0       1.00      1.00      1.00      1238\n",
      "           1       1.00      0.94      0.97        31\n",
      "\n",
      "    accuracy                           1.00      1269\n",
      "   macro avg       1.00      0.97      0.98      1269\n",
      "weighted avg       1.00      1.00      1.00      1269\n",
      "\n",
      "confusion_matrix:\n",
      " [[1238    0]\n",
      " [   2   29]]\n"
     ]
    },
    {
     "data": {
      "image/png": "[encoded data removed]",
      "text/plain": [
       "<Figure size 432x288 with 2 Axes>"
      ]
     },
     "metadata": {
      "needs_background": "light"
     },
     "output_type": "display_data"
    },
    {
     "name": "stdout",
     "output_type": "stream",
     "text": [
      "File saved : Fusarium_Wilt_gb_Classifier.pkl\n",
      "data : {'Accuracy': 99.84, 'Loss': 0.16, 'Precision': 100.0, 'Recall': 93.55, 'f1_score': 96.67, 'Cohen_kappa': 96.59, 'Feature_name': 'Fusarium Wilt', 'Model_name': 'gb_Classifier', 'Filename': 'Fusarium_Wilt_gb_Classifier.pkl'}\n",
      "Model : ab_Classifier\n"
     ]
    },
    {
     "name": "stderr",
     "output_type": "stream",
     "text": [
      "c:\\users\\munge\\appdata\\local\\programs\\python\\python36\\lib\\site-packages\\sklearn\\utils\\validation.py:63: DataConversionWarning: A column-vector y was passed when a 1d array was expected. Please change the shape of y to (n_samples, ), for example using ravel().\n",
      "  return f(*args, **kwargs)\n"
     ]
    },
    {
     "name": "stdout",
     "output_type": "stream",
     "text": [
      "Accuracy_score: 99.84 %\n",
      "Loss: 0.16 %\n",
      "Precision: 100.0 %\n",
      "Recall: 93.55 %\n",
      "f1_score: 96.67 %\n",
      "Cohen_kappa_score: 96.59 %\n",
      "Classification_report:\n",
      "               precision    recall  f1-score   support\n",
      "\n",
      "           0       1.00      1.00      1.00      1238\n",
      "           1       1.00      0.94      0.97        31\n",
      "\n",
      "    accuracy                           1.00      1269\n",
      "   macro avg       1.00      0.97      0.98      1269\n",
      "weighted avg       1.00      1.00      1.00      1269\n",
      "\n",
      "confusion_matrix:\n",
      " [[1238    0]\n",
      " [   2   29]]\n"
     ]
    },
    {
     "data": {
      "image/png": "[encoded data removed]",
      "text/plain": [
       "<Figure size 432x288 with 2 Axes>"
      ]
     },
     "metadata": {
      "needs_background": "light"
     },
     "output_type": "display_data"
    },
    {
     "name": "stdout",
     "output_type": "stream",
     "text": [
      "File saved : Fusarium_Wilt_ab_Classifier.pkl\n",
      "data : {'Accuracy': 99.84, 'Loss': 0.16, 'Precision': 100.0, 'Recall': 93.55, 'f1_score': 96.67, 'Cohen_kappa': 96.59, 'Feature_name': 'Fusarium Wilt', 'Model_name': 'ab_Classifier', 'Filename': 'Fusarium_Wilt_ab_Classifier.pkl'}\n",
      "Column : Fruit Borer / Blight Blora\n",
      "Model : lr_Classifier\n"
     ]
    },
    {
     "name": "stderr",
     "output_type": "stream",
     "text": [
      "c:\\users\\munge\\appdata\\local\\programs\\python\\python36\\lib\\site-packages\\sklearn\\utils\\validation.py:63: DataConversionWarning: A column-vector y was passed when a 1d array was expected. Please change the shape of y to (n_samples, ), for example using ravel().\n",
      "  return f(*args, **kwargs)\n"
     ]
    },
    {
     "name": "stdout",
     "output_type": "stream",
     "text": [
      "Accuracy_score: 95.59 %\n",
      "Loss: 4.41 %\n",
      "Precision: 86.29 %\n",
      "Recall: 90.68 %\n",
      "f1_score: 88.43 %\n",
      "Cohen_kappa_score: 85.71 %\n",
      "Classification_report:\n",
      "               precision    recall  f1-score   support\n",
      "\n",
      "           0       0.98      0.97      0.97      1033\n",
      "           1       0.86      0.91      0.88       236\n",
      "\n",
      "    accuracy                           0.96      1269\n",
      "   macro avg       0.92      0.94      0.93      1269\n",
      "weighted avg       0.96      0.96      0.96      1269\n",
      "\n",
      "confusion_matrix:\n",
      " [[999  34]\n",
      " [ 22 214]]\n"
     ]
    },
    {
     "data": {
      "image/png": "[encoded data removed]",
      "text/plain": [
       "<Figure size 432x288 with 2 Axes>"
      ]
     },
     "metadata": {
      "needs_background": "light"
     },
     "output_type": "display_data"
    },
    {
     "name": "stdout",
     "output_type": "stream",
     "text": [
      "File saved : Fruit_Borer_Blight_Blora_lr_Classifier.pkl\n",
      "data : {'Accuracy': 95.59, 'Loss': 4.41, 'Precision': 86.29, 'Recall': 90.68, 'f1_score': 88.43, 'Cohen_kappa': 85.71, 'Feature_name': 'Fruit Borer / Blight Blora', 'Model_name': 'lr_Classifier', 'Filename': 'Fruit_Borer_Blight_Blora_lr_Classifier.pkl'}\n",
      "Model : knn_Classifier\n",
      "Accuracy_score:"
     ]
    },
    {
     "name": "stderr",
     "output_type": "stream",
     "text": [
      "c:\\users\\munge\\appdata\\local\\programs\\python\\python36\\lib\\site-packages\\sklearn\\neighbors\\_classification.py:179: DataConversionWarning: A column-vector y was passed when a 1d array was expected. Please change the shape of y to (n_samples,), for example using ravel().\n",
      "  return self._fit(X, y)\n"
     ]
    },
    {
     "name": "stdout",
     "output_type": "stream",
     "text": [
      " 98.19 %\n",
      "Loss: 1.81 %\n",
      "Precision: 93.12 %\n",
      "Recall: 97.46 %\n",
      "f1_score: 95.24 %\n",
      "Cohen_kappa_score: 94.12 %\n",
      "Classification_report:\n",
      "               precision    recall  f1-score   support\n",
      "\n",
      "           0       0.99      0.98      0.99      1033\n",
      "           1       0.93      0.97      0.95       236\n",
      "\n",
      "    accuracy                           0.98      1269\n",
      "   macro avg       0.96      0.98      0.97      1269\n",
      "weighted avg       0.98      0.98      0.98      1269\n",
      "\n",
      "confusion_matrix:\n",
      " [[1016   17]\n",
      " [   6  230]]\n"
     ]
    },
    {
     "data": {
      "image/png": "[encoded data removed]",
      "text/plain": [
       "<Figure size 432x288 with 2 Axes>"
      ]
     },
     "metadata": {
      "needs_background": "light"
     },
     "output_type": "display_data"
    },
    {
     "name": "stdout",
     "output_type": "stream",
     "text": [
      "File saved : Fruit_Borer_Blight_Blora_knn_Classifier.pkl\n",
      "data : {'Accuracy': 98.19, 'Loss': 1.81, 'Precision': 93.12, 'Recall': 97.46, 'f1_score': 95.24, 'Cohen_kappa': 94.12, 'Feature_name': 'Fruit Borer / Blight Blora', 'Model_name': 'knn_Classifier', 'Filename': 'Fruit_Borer_Blight_Blora_knn_Classifier.pkl'}\n",
      "Model : nb_Classifier\n",
      "Accuracy_score: 91.73 %\n",
      "Loss: 8.27 %\n",
      "Precision: 70.03 %\n",
      "Recall: 97.03 %\n",
      "f1_score: 81.35 %\n",
      "Cohen_kappa_score: 76.21 %\n",
      "Classification_report:\n",
      "               precision    recall  f1-score   support\n",
      "\n",
      "           0       0.99      0.91      0.95      1033\n",
      "           1       0.70      0.97      0.81       236\n",
      "\n",
      "    accuracy                           0.92      1269\n",
      "   macro avg       0.85      0.94      0.88      1269\n",
      "weighted avg       0.94      0.92      0.92      1269\n",
      "\n",
      "confusion_matrix:\n",
      " [[935  98]\n",
      " [  7 229]]\n"
     ]
    },
    {
     "name": "stderr",
     "output_type": "stream",
     "text": [
      "c:\\users\\munge\\appdata\\local\\programs\\python\\python36\\lib\\site-packages\\sklearn\\utils\\validation.py:63: DataConversionWarning: A column-vector y was passed when a 1d array was expected. Please change the shape of y to (n_samples, ), for example using ravel().\n",
      "  return f(*args, **kwargs)\n"
     ]
    },
    {
     "data": {
      "image/png": "[encoded data removed]",
      "text/plain": [
       "<Figure size 432x288 with 2 Axes>"
      ]
     },
     "metadata": {
      "needs_background": "light"
     },
     "output_type": "display_data"
    },
    {
     "name": "stdout",
     "output_type": "stream",
     "text": [
      "File saved : Fruit_Borer_Blight_Blora_nb_Classifier.pkl\n",
      "data : {'Accuracy': 91.73, 'Loss': 8.27, 'Precision': 70.03, 'Recall': 97.03, 'f1_score': 81.35, 'Cohen_kappa': 76.21, 'Feature_name': 'Fruit Borer / Blight Blora', 'Model_name': 'nb_Classifier', 'Filename': 'Fruit_Borer_Blight_Blora_nb_Classifier.pkl'}\n",
      "Model : dt_Classifier\n",
      "Accuracy_score: 99.76 %\n",
      "Loss: 0.24 %\n",
      "Precision: 99.57 %\n",
      "Recall: 99.15 %\n",
      "f1_score: 99.36 %\n",
      "Cohen_kappa_score: 99.22 %\n",
      "Classification_report:\n",
      "               precision    recall  f1-score   support\n",
      "\n",
      "           0       1.00      1.00      1.00      1033\n",
      "           1       1.00      0.99      0.99       236\n",
      "\n",
      "    accuracy                           1.00      1269\n",
      "   macro avg       1.00      1.00      1.00      1269\n",
      "weighted avg       1.00      1.00      1.00      1269\n",
      "\n",
      "confusion_matrix:\n",
      " [[1032    1]\n",
      " [   2  234]]\n"
     ]
    },
    {
     "data": {
      "image/png": "[encoded data removed]",
      "text/plain": [
       "<Figure size 432x288 with 2 Axes>"
      ]
     },
     "metadata": {
      "needs_background": "light"
     },
     "output_type": "display_data"
    },
    {
     "name": "stdout",
     "output_type": "stream",
     "text": [
      "File saved : Fruit_Borer_Blight_Blora_dt_Classifier.pkl\n",
      "data : {'Accuracy': 99.76, 'Loss': 0.24, 'Precision': 99.57, 'Recall': 99.15, 'f1_score': 99.36, 'Cohen_kappa': 99.22, 'Feature_name': 'Fruit Borer / Blight Blora', 'Model_name': 'dt_Classifier', 'Filename': 'Fruit_Borer_Blight_Blora_dt_Classifier.pkl'}\n",
      "Model : rf_Classifier\n"
     ]
    },
    {
     "name": "stderr",
     "output_type": "stream",
     "text": [
      "c:\\users\\munge\\appdata\\local\\programs\\python\\python36\\lib\\site-packages\\ipykernel_launcher.py:5: DataConversionWarning: A column-vector y was passed when a 1d array was expected. Please change the shape of y to (n_samples,), for example using ravel().\n",
      "  \"\"\"\n"
     ]
    },
    {
     "name": "stdout",
     "output_type": "stream",
     "text": [
      "Accuracy_score: 99.68 %\n",
      "Loss: 0.32 %\n",
      "Precision: 99.15 %\n",
      "Recall: 99.15 %\n",
      "f1_score: 99.15 %\n",
      "Cohen_kappa_score: 98.96 %\n",
      "Classification_report:\n",
      "               precision    recall  f1-score   support\n",
      "\n",
      "           0       1.00      1.00      1.00      1033\n",
      "           1       0.99      0.99      0.99       236\n",
      "\n",
      "    accuracy                           1.00      1269\n",
      "   macro avg       0.99      0.99      0.99      1269\n",
      "weighted avg       1.00      1.00      1.00      1269\n",
      "\n",
      "confusion_matrix:\n",
      " [[1031    2]\n",
      " [   2  234]]\n"
     ]
    },
    {
     "data": {
      "image/png": "[encoded data removed]",
      "text/plain": [
       "<Figure size 432x288 with 2 Axes>"
      ]
     },
     "metadata": {
      "needs_background": "light"
     },
     "output_type": "display_data"
    },
    {
     "name": "stdout",
     "output_type": "stream",
     "text": [
      "File saved : Fruit_Borer_Blight_Blora_rf_Classifier.pkl\n",
      "data : {'Accuracy': 99.68, 'Loss': 0.32, 'Precision': 99.15, 'Recall': 99.15, 'f1_score': 99.15, 'Cohen_kappa': 98.96, 'Feature_name': 'Fruit Borer / Blight Blora', 'Model_name': 'rf_Classifier', 'Filename': 'Fruit_Borer_Blight_Blora_rf_Classifier.pkl'}\n",
      "Model : gb_Classifier\n"
     ]
    },
    {
     "name": "stderr",
     "output_type": "stream",
     "text": [
      "c:\\users\\munge\\appdata\\local\\programs\\python\\python36\\lib\\site-packages\\sklearn\\utils\\validation.py:63: DataConversionWarning: A column-vector y was passed when a 1d array was expected. Please change the shape of y to (n_samples, ), for example using ravel().\n",
      "  return f(*args, **kwargs)\n"
     ]
    },
    {
     "name": "stdout",
     "output_type": "stream",
     "text": [
      "Accuracy_score: 99.68 %\n",
      "Loss: 0.32 %\n",
      "Precision: 99.15 %\n",
      "Recall: 99.15 %\n",
      "f1_score: 99.15 %\n",
      "Cohen_kappa_score: 98.96 %\n",
      "Classification_report:\n",
      "               precision    recall  f1-score   support\n",
      "\n",
      "           0       1.00      1.00      1.00      1033\n",
      "           1       0.99      0.99      0.99       236\n",
      "\n",
      "    accuracy                           1.00      1269\n",
      "   macro avg       0.99      0.99      0.99      1269\n",
      "weighted avg       1.00      1.00      1.00      1269\n",
      "\n",
      "confusion_matrix:\n",
      " [[1031    2]\n",
      " [   2  234]]\n"
     ]
    },
    {
     "data": {
      "image/png": "[encoded data removed]",
      "text/plain": [
       "<Figure size 432x288 with 2 Axes>"
      ]
     },
     "metadata": {
      "needs_background": "light"
     },
     "output_type": "display_data"
    },
    {
     "name": "stdout",
     "output_type": "stream",
     "text": [
      "File saved : Fruit_Borer_Blight_Blora_gb_Classifier.pkl\n",
      "data : {'Accuracy': 99.68, 'Loss': 0.32, 'Precision': 99.15, 'Recall': 99.15, 'f1_score': 99.15, 'Cohen_kappa': 98.96, 'Feature_name': 'Fruit Borer / Blight Blora', 'Model_name': 'gb_Classifier', 'Filename': 'Fruit_Borer_Blight_Blora_gb_Classifier.pkl'}\n",
      "Model : ab_Classifier\n"
     ]
    },
    {
     "name": "stderr",
     "output_type": "stream",
     "text": [
      "c:\\users\\munge\\appdata\\local\\programs\\python\\python36\\lib\\site-packages\\sklearn\\utils\\validation.py:63: DataConversionWarning: A column-vector y was passed when a 1d array was expected. Please change the shape of y to (n_samples, ), for example using ravel().\n",
      "  return f(*args, **kwargs)\n"
     ]
    },
    {
     "name": "stdout",
     "output_type": "stream",
     "text": [
      "Accuracy_score: 99.76 %\n",
      "Loss: 0.24 %\n",
      "Precision: 99.57 %\n",
      "Recall: 99.15 %\n",
      "f1_score: 99.36 %\n",
      "Cohen_kappa_score: 99.22 %\n",
      "Classification_report:\n",
      "               precision    recall  f1-score   support\n",
      "\n",
      "           0       1.00      1.00      1.00      1033\n",
      "           1       1.00      0.99      0.99       236\n",
      "\n",
      "    accuracy                           1.00      1269\n",
      "   macro avg       1.00      1.00      1.00      1269\n",
      "weighted avg       1.00      1.00      1.00      1269\n",
      "\n",
      "confusion_matrix:\n",
      " [[1032    1]\n",
      " [   2  234]]\n"
     ]
    },
    {
     "data": {
      "image/png": "[encoded data removed]",
      "text/plain": [
       "<Figure size 432x288 with 2 Axes>"
      ]
     },
     "metadata": {
      "needs_background": "light"
     },
     "output_type": "display_data"
    },
    {
     "name": "stdout",
     "output_type": "stream",
     "text": [
      "File saved : Fruit_Borer_Blight_Blora_ab_Classifier.pkl\n",
      "data : {'Accuracy': 99.76, 'Loss': 0.24, 'Precision': 99.57, 'Recall': 99.15, 'f1_score': 99.36, 'Cohen_kappa': 99.22, 'Feature_name': 'Fruit Borer / Blight Blora', 'Model_name': 'ab_Classifier', 'Filename': 'Fruit_Borer_Blight_Blora_ab_Classifier.pkl'}\n"
     ]
    },
    {
     "data": {
      "text/html": [
       "<div>\n",
       "<style scoped>\n",
       "    .dataframe tbody tr th:only-of-type {\n",
       "        vertical-align: middle;\n",
       "    }\n",
       "\n",
       "    .dataframe tbody tr th {\n",
       "        vertical-align: top;\n",
       "    }\n",
       "\n",
       "    .dataframe thead th {\n",
       "        text-align: right;\n",
       "    }\n",
       "</style>\n",
       "<table border=\"1\" class=\"dataframe\">\n",
       "  <thead>\n",
       "    <tr style=\"text-align: right;\">\n",
       "      <th></th>\n",
       "      <th>Accuracy</th>\n",
       "      <th>Cohen_kappa</th>\n",
       "      <th>Feature_name</th>\n",
       "      <th>Filename</th>\n",
       "      <th>Loss</th>\n",
       "      <th>Model_name</th>\n",
       "      <th>Precision</th>\n",
       "      <th>Recall</th>\n",
       "      <th>f1_score</th>\n",
       "    </tr>\n",
       "  </thead>\n",
       "  <tbody>\n",
       "    <tr>\n",
       "      <th>0</th>\n",
       "      <td>89.52</td>\n",
       "      <td>78.27</td>\n",
       "      <td>Label (Disease Yes/No)</td>\n",
       "      <td>Label_Disease_Yes_No__lr_Classifier.pkl</td>\n",
       "      <td>10.48</td>\n",
       "      <td>lr_Classifier</td>\n",
       "      <td>89.24</td>\n",
       "      <td>85.01</td>\n",
       "      <td>87.07</td>\n",
       "    </tr>\n",
       "    <tr>\n",
       "      <th>1</th>\n",
       "      <td>88.26</td>\n",
       "      <td>75.47</td>\n",
       "      <td>Label (Disease Yes/No)</td>\n",
       "      <td>Label_Disease_Yes_No__knn_Classifier.pkl</td>\n",
       "      <td>11.74</td>\n",
       "      <td>knn_Classifier</td>\n",
       "      <td>89.87</td>\n",
       "      <td>80.83</td>\n",
       "      <td>85.11</td>\n",
       "    </tr>\n",
       "    <tr>\n",
       "      <th>2</th>\n",
       "      <td>86.84</td>\n",
       "      <td>72.36</td>\n",
       "      <td>Label (Disease Yes/No)</td>\n",
       "      <td>Label_Disease_Yes_No__nb_Classifier.pkl</td>\n",
       "      <td>13.16</td>\n",
       "      <td>nb_Classifier</td>\n",
       "      <td>89.47</td>\n",
       "      <td>77.42</td>\n",
       "      <td>83.01</td>\n",
       "    </tr>\n",
       "    <tr>\n",
       "      <th>3</th>\n",
       "      <td>93.46</td>\n",
       "      <td>86.43</td>\n",
       "      <td>Label (Disease Yes/No)</td>\n",
       "      <td>Label_Disease_Yes_No__dt_Classifier.pkl</td>\n",
       "      <td>6.54</td>\n",
       "      <td>dt_Classifier</td>\n",
       "      <td>94.40</td>\n",
       "      <td>89.56</td>\n",
       "      <td>91.92</td>\n",
       "    </tr>\n",
       "    <tr>\n",
       "      <th>4</th>\n",
       "      <td>96.53</td>\n",
       "      <td>92.88</td>\n",
       "      <td>Label (Disease Yes/No)</td>\n",
       "      <td>Label_Disease_Yes_No__rf_Classifier.pkl</td>\n",
       "      <td>3.47</td>\n",
       "      <td>rf_Classifier</td>\n",
       "      <td>94.81</td>\n",
       "      <td>96.96</td>\n",
       "      <td>95.87</td>\n",
       "    </tr>\n",
       "    <tr>\n",
       "      <th>5</th>\n",
       "      <td>96.45</td>\n",
       "      <td>92.72</td>\n",
       "      <td>Label (Disease Yes/No)</td>\n",
       "      <td>Label_Disease_Yes_No__gb_Classifier.pkl</td>\n",
       "      <td>3.55</td>\n",
       "      <td>gb_Classifier</td>\n",
       "      <td>94.80</td>\n",
       "      <td>96.77</td>\n",
       "      <td>95.77</td>\n",
       "    </tr>\n",
       "    <tr>\n",
       "      <th>6</th>\n",
       "      <td>95.11</td>\n",
       "      <td>89.94</td>\n",
       "      <td>Label (Disease Yes/No)</td>\n",
       "      <td>Label_Disease_Yes_No__ab_Classifier.pkl</td>\n",
       "      <td>4.89</td>\n",
       "      <td>ab_Classifier</td>\n",
       "      <td>94.12</td>\n",
       "      <td>94.12</td>\n",
       "      <td>94.12</td>\n",
       "    </tr>\n",
       "    <tr>\n",
       "      <th>7</th>\n",
       "      <td>84.40</td>\n",
       "      <td>57.91</td>\n",
       "      <td>Type of Disease (Bacterial Blight/Telya)</td>\n",
       "      <td>Type_of_Disease_Bacterial_Blight_Telya__lr_Cla...</td>\n",
       "      <td>15.60</td>\n",
       "      <td>lr_Classifier</td>\n",
       "      <td>78.95</td>\n",
       "      <td>59.66</td>\n",
       "      <td>67.96</td>\n",
       "    </tr>\n",
       "    <tr>\n",
       "      <th>8</th>\n",
       "      <td>87.86</td>\n",
       "      <td>68.17</td>\n",
       "      <td>Type of Disease (Bacterial Blight/Telya)</td>\n",
       "      <td>Type_of_Disease_Bacterial_Blight_Telya__knn_Cl...</td>\n",
       "      <td>12.14</td>\n",
       "      <td>knn_Classifier</td>\n",
       "      <td>83.45</td>\n",
       "      <td>70.17</td>\n",
       "      <td>76.23</td>\n",
       "    </tr>\n",
       "    <tr>\n",
       "      <th>9</th>\n",
       "      <td>74.39</td>\n",
       "      <td>40.63</td>\n",
       "      <td>Type of Disease (Bacterial Blight/Telya)</td>\n",
       "      <td>Type_of_Disease_Bacterial_Blight_Telya__nb_Cla...</td>\n",
       "      <td>25.61</td>\n",
       "      <td>nb_Classifier</td>\n",
       "      <td>53.08</td>\n",
       "      <td>66.19</td>\n",
       "      <td>58.91</td>\n",
       "    </tr>\n",
       "    <tr>\n",
       "      <th>10</th>\n",
       "      <td>96.30</td>\n",
       "      <td>90.69</td>\n",
       "      <td>Type of Disease (Bacterial Blight/Telya)</td>\n",
       "      <td>Type_of_Disease_Bacterial_Blight_Telya__dt_Cla...</td>\n",
       "      <td>3.70</td>\n",
       "      <td>dt_Classifier</td>\n",
       "      <td>94.46</td>\n",
       "      <td>92.05</td>\n",
       "      <td>93.24</td>\n",
       "    </tr>\n",
       "    <tr>\n",
       "      <th>11</th>\n",
       "      <td>97.87</td>\n",
       "      <td>94.67</td>\n",
       "      <td>Type of Disease (Bacterial Blight/Telya)</td>\n",
       "      <td>Type_of_Disease_Bacterial_Blight_Telya__rf_Cla...</td>\n",
       "      <td>2.13</td>\n",
       "      <td>rf_Classifier</td>\n",
       "      <td>96.83</td>\n",
       "      <td>95.45</td>\n",
       "      <td>96.14</td>\n",
       "    </tr>\n",
       "    <tr>\n",
       "      <th>12</th>\n",
       "      <td>97.56</td>\n",
       "      <td>93.89</td>\n",
       "      <td>Type of Disease (Bacterial Blight/Telya)</td>\n",
       "      <td>Type_of_Disease_Bacterial_Blight_Telya__gb_Cla...</td>\n",
       "      <td>2.44</td>\n",
       "      <td>gb_Classifier</td>\n",
       "      <td>95.99</td>\n",
       "      <td>95.17</td>\n",
       "      <td>95.58</td>\n",
       "    </tr>\n",
       "    <tr>\n",
       "      <th>13</th>\n",
       "      <td>97.56</td>\n",
       "      <td>93.85</td>\n",
       "      <td>Type of Disease (Bacterial Blight/Telya)</td>\n",
       "      <td>Type_of_Disease_Bacterial_Blight_Telya__ab_Cla...</td>\n",
       "      <td>2.44</td>\n",
       "      <td>ab_Classifier</td>\n",
       "      <td>97.07</td>\n",
       "      <td>94.03</td>\n",
       "      <td>95.53</td>\n",
       "    </tr>\n",
       "    <tr>\n",
       "      <th>14</th>\n",
       "      <td>82.98</td>\n",
       "      <td>12.14</td>\n",
       "      <td>Anthracnose</td>\n",
       "      <td>Anthracnose_lr_Classifier.pkl</td>\n",
       "      <td>17.02</td>\n",
       "      <td>lr_Classifier</td>\n",
       "      <td>39.68</td>\n",
       "      <td>12.32</td>\n",
       "      <td>18.80</td>\n",
       "    </tr>\n",
       "    <tr>\n",
       "      <th>15</th>\n",
       "      <td>94.72</td>\n",
       "      <td>80.39</td>\n",
       "      <td>Anthracnose</td>\n",
       "      <td>Anthracnose_knn_Classifier.pkl</td>\n",
       "      <td>5.28</td>\n",
       "      <td>knn_Classifier</td>\n",
       "      <td>83.33</td>\n",
       "      <td>83.74</td>\n",
       "      <td>83.54</td>\n",
       "    </tr>\n",
       "    <tr>\n",
       "      <th>16</th>\n",
       "      <td>80.06</td>\n",
       "      <td>45.49</td>\n",
       "      <td>Anthracnose</td>\n",
       "      <td>Anthracnose_nb_Classifier.pkl</td>\n",
       "      <td>19.94</td>\n",
       "      <td>nb_Classifier</td>\n",
       "      <td>43.49</td>\n",
       "      <td>82.27</td>\n",
       "      <td>56.90</td>\n",
       "    </tr>\n",
       "    <tr>\n",
       "      <th>17</th>\n",
       "      <td>97.56</td>\n",
       "      <td>90.67</td>\n",
       "      <td>Anthracnose</td>\n",
       "      <td>Anthracnose_dt_Classifier.pkl</td>\n",
       "      <td>2.44</td>\n",
       "      <td>dt_Classifier</td>\n",
       "      <td>95.26</td>\n",
       "      <td>89.16</td>\n",
       "      <td>92.11</td>\n",
       "    </tr>\n",
       "    <tr>\n",
       "      <th>18</th>\n",
       "      <td>98.66</td>\n",
       "      <td>94.94</td>\n",
       "      <td>Anthracnose</td>\n",
       "      <td>Anthracnose_rf_Classifier.pkl</td>\n",
       "      <td>1.34</td>\n",
       "      <td>rf_Classifier</td>\n",
       "      <td>97.45</td>\n",
       "      <td>94.09</td>\n",
       "      <td>95.74</td>\n",
       "    </tr>\n",
       "    <tr>\n",
       "      <th>19</th>\n",
       "      <td>98.19</td>\n",
       "      <td>93.24</td>\n",
       "      <td>Anthracnose</td>\n",
       "      <td>Anthracnose_gb_Classifier.pkl</td>\n",
       "      <td>1.81</td>\n",
       "      <td>gb_Classifier</td>\n",
       "      <td>94.55</td>\n",
       "      <td>94.09</td>\n",
       "      <td>94.32</td>\n",
       "    </tr>\n",
       "    <tr>\n",
       "      <th>20</th>\n",
       "      <td>98.03</td>\n",
       "      <td>92.66</td>\n",
       "      <td>Anthracnose</td>\n",
       "      <td>Anthracnose_ab_Classifier.pkl</td>\n",
       "      <td>1.97</td>\n",
       "      <td>ab_Classifier</td>\n",
       "      <td>94.06</td>\n",
       "      <td>93.60</td>\n",
       "      <td>93.83</td>\n",
       "    </tr>\n",
       "    <tr>\n",
       "      <th>21</th>\n",
       "      <td>97.95</td>\n",
       "      <td>89.29</td>\n",
       "      <td>Fruit Spot/ Rot</td>\n",
       "      <td>Fruit_Spot_Rot_lr_Classifier.pkl</td>\n",
       "      <td>2.05</td>\n",
       "      <td>lr_Classifier</td>\n",
       "      <td>92.48</td>\n",
       "      <td>88.49</td>\n",
       "      <td>90.44</td>\n",
       "    </tr>\n",
       "    <tr>\n",
       "      <th>22</th>\n",
       "      <td>99.13</td>\n",
       "      <td>95.65</td>\n",
       "      <td>Fruit Spot/ Rot</td>\n",
       "      <td>Fruit_Spot_Rot_knn_Classifier.pkl</td>\n",
       "      <td>0.87</td>\n",
       "      <td>knn_Classifier</td>\n",
       "      <td>93.84</td>\n",
       "      <td>98.56</td>\n",
       "      <td>96.14</td>\n",
       "    </tr>\n",
       "    <tr>\n",
       "      <th>23</th>\n",
       "      <td>92.28</td>\n",
       "      <td>69.47</td>\n",
       "      <td>Fruit Spot/ Rot</td>\n",
       "      <td>Fruit_Spot_Rot_nb_Classifier.pkl</td>\n",
       "      <td>7.72</td>\n",
       "      <td>nb_Classifier</td>\n",
       "      <td>58.80</td>\n",
       "      <td>98.56</td>\n",
       "      <td>73.66</td>\n",
       "    </tr>\n",
       "    <tr>\n",
       "      <th>24</th>\n",
       "      <td>99.84</td>\n",
       "      <td>99.19</td>\n",
       "      <td>Fruit Spot/ Rot</td>\n",
       "      <td>Fruit_Spot_Rot_dt_Classifier.pkl</td>\n",
       "      <td>0.16</td>\n",
       "      <td>dt_Classifier</td>\n",
       "      <td>100.00</td>\n",
       "      <td>98.56</td>\n",
       "      <td>99.28</td>\n",
       "    </tr>\n",
       "    <tr>\n",
       "      <th>25</th>\n",
       "      <td>99.92</td>\n",
       "      <td>99.59</td>\n",
       "      <td>Fruit Spot/ Rot</td>\n",
       "      <td>Fruit_Spot_Rot_rf_Classifier.pkl</td>\n",
       "      <td>0.08</td>\n",
       "      <td>rf_Classifier</td>\n",
       "      <td>100.00</td>\n",
       "      <td>99.28</td>\n",
       "      <td>99.64</td>\n",
       "    </tr>\n",
       "    <tr>\n",
       "      <th>26</th>\n",
       "      <td>99.84</td>\n",
       "      <td>99.19</td>\n",
       "      <td>Fruit Spot/ Rot</td>\n",
       "      <td>Fruit_Spot_Rot_gb_Classifier.pkl</td>\n",
       "      <td>0.16</td>\n",
       "      <td>gb_Classifier</td>\n",
       "      <td>100.00</td>\n",
       "      <td>98.56</td>\n",
       "      <td>99.28</td>\n",
       "    </tr>\n",
       "    <tr>\n",
       "      <th>27</th>\n",
       "      <td>99.76</td>\n",
       "      <td>98.78</td>\n",
       "      <td>Fruit Spot/ Rot</td>\n",
       "      <td>Fruit_Spot_Rot_ab_Classifier.pkl</td>\n",
       "      <td>0.24</td>\n",
       "      <td>ab_Classifier</td>\n",
       "      <td>99.28</td>\n",
       "      <td>98.56</td>\n",
       "      <td>98.92</td>\n",
       "    </tr>\n",
       "    <tr>\n",
       "      <th>28</th>\n",
       "      <td>99.84</td>\n",
       "      <td>96.59</td>\n",
       "      <td>Fusarium Wilt</td>\n",
       "      <td>Fusarium_Wilt_lr_Classifier.pkl</td>\n",
       "      <td>0.16</td>\n",
       "      <td>lr_Classifier</td>\n",
       "      <td>100.00</td>\n",
       "      <td>93.55</td>\n",
       "      <td>96.67</td>\n",
       "    </tr>\n",
       "    <tr>\n",
       "      <th>29</th>\n",
       "      <td>99.05</td>\n",
       "      <td>75.55</td>\n",
       "      <td>Fusarium Wilt</td>\n",
       "      <td>Fusarium_Wilt_knn_Classifier.pkl</td>\n",
       "      <td>0.95</td>\n",
       "      <td>knn_Classifier</td>\n",
       "      <td>100.00</td>\n",
       "      <td>61.29</td>\n",
       "      <td>76.00</td>\n",
       "    </tr>\n",
       "    <tr>\n",
       "      <th>30</th>\n",
       "      <td>93.93</td>\n",
       "      <td>40.73</td>\n",
       "      <td>Fusarium Wilt</td>\n",
       "      <td>Fusarium_Wilt_nb_Classifier.pkl</td>\n",
       "      <td>6.07</td>\n",
       "      <td>nb_Classifier</td>\n",
       "      <td>27.88</td>\n",
       "      <td>93.55</td>\n",
       "      <td>42.96</td>\n",
       "    </tr>\n",
       "    <tr>\n",
       "      <th>31</th>\n",
       "      <td>99.92</td>\n",
       "      <td>98.32</td>\n",
       "      <td>Fusarium Wilt</td>\n",
       "      <td>Fusarium_Wilt_dt_Classifier.pkl</td>\n",
       "      <td>0.08</td>\n",
       "      <td>dt_Classifier</td>\n",
       "      <td>100.00</td>\n",
       "      <td>96.77</td>\n",
       "      <td>98.36</td>\n",
       "    </tr>\n",
       "    <tr>\n",
       "      <th>32</th>\n",
       "      <td>99.84</td>\n",
       "      <td>96.59</td>\n",
       "      <td>Fusarium Wilt</td>\n",
       "      <td>Fusarium_Wilt_rf_Classifier.pkl</td>\n",
       "      <td>0.16</td>\n",
       "      <td>rf_Classifier</td>\n",
       "      <td>100.00</td>\n",
       "      <td>93.55</td>\n",
       "      <td>96.67</td>\n",
       "    </tr>\n",
       "    <tr>\n",
       "      <th>33</th>\n",
       "      <td>99.84</td>\n",
       "      <td>96.59</td>\n",
       "      <td>Fusarium Wilt</td>\n",
       "      <td>Fusarium_Wilt_gb_Classifier.pkl</td>\n",
       "      <td>0.16</td>\n",
       "      <td>gb_Classifier</td>\n",
       "      <td>100.00</td>\n",
       "      <td>93.55</td>\n",
       "      <td>96.67</td>\n",
       "    </tr>\n",
       "    <tr>\n",
       "      <th>34</th>\n",
       "      <td>99.84</td>\n",
       "      <td>96.59</td>\n",
       "      <td>Fusarium Wilt</td>\n",
       "      <td>Fusarium_Wilt_ab_Classifier.pkl</td>\n",
       "      <td>0.16</td>\n",
       "      <td>ab_Classifier</td>\n",
       "      <td>100.00</td>\n",
       "      <td>93.55</td>\n",
       "      <td>96.67</td>\n",
       "    </tr>\n",
       "    <tr>\n",
       "      <th>35</th>\n",
       "      <td>95.59</td>\n",
       "      <td>85.71</td>\n",
       "      <td>Fruit Borer / Blight Blora</td>\n",
       "      <td>Fruit_Borer_Blight_Blora_lr_Classifier.pkl</td>\n",
       "      <td>4.41</td>\n",
       "      <td>lr_Classifier</td>\n",
       "      <td>86.29</td>\n",
       "      <td>90.68</td>\n",
       "      <td>88.43</td>\n",
       "    </tr>\n",
       "    <tr>\n",
       "      <th>36</th>\n",
       "      <td>98.19</td>\n",
       "      <td>94.12</td>\n",
       "      <td>Fruit Borer / Blight Blora</td>\n",
       "      <td>Fruit_Borer_Blight_Blora_knn_Classifier.pkl</td>\n",
       "      <td>1.81</td>\n",
       "      <td>knn_Classifier</td>\n",
       "      <td>93.12</td>\n",
       "      <td>97.46</td>\n",
       "      <td>95.24</td>\n",
       "    </tr>\n",
       "    <tr>\n",
       "      <th>37</th>\n",
       "      <td>91.73</td>\n",
       "      <td>76.21</td>\n",
       "      <td>Fruit Borer / Blight Blora</td>\n",
       "      <td>Fruit_Borer_Blight_Blora_nb_Classifier.pkl</td>\n",
       "      <td>8.27</td>\n",
       "      <td>nb_Classifier</td>\n",
       "      <td>70.03</td>\n",
       "      <td>97.03</td>\n",
       "      <td>81.35</td>\n",
       "    </tr>\n",
       "    <tr>\n",
       "      <th>38</th>\n",
       "      <td>99.76</td>\n",
       "      <td>99.22</td>\n",
       "      <td>Fruit Borer / Blight Blora</td>\n",
       "      <td>Fruit_Borer_Blight_Blora_dt_Classifier.pkl</td>\n",
       "      <td>0.24</td>\n",
       "      <td>dt_Classifier</td>\n",
       "      <td>99.57</td>\n",
       "      <td>99.15</td>\n",
       "      <td>99.36</td>\n",
       "    </tr>\n",
       "    <tr>\n",
       "      <th>39</th>\n",
       "      <td>99.68</td>\n",
       "      <td>98.96</td>\n",
       "      <td>Fruit Borer / Blight Blora</td>\n",
       "      <td>Fruit_Borer_Blight_Blora_rf_Classifier.pkl</td>\n",
       "      <td>0.32</td>\n",
       "      <td>rf_Classifier</td>\n",
       "      <td>99.15</td>\n",
       "      <td>99.15</td>\n",
       "      <td>99.15</td>\n",
       "    </tr>\n",
       "    <tr>\n",
       "      <th>40</th>\n",
       "      <td>99.68</td>\n",
       "      <td>98.96</td>\n",
       "      <td>Fruit Borer / Blight Blora</td>\n",
       "      <td>Fruit_Borer_Blight_Blora_gb_Classifier.pkl</td>\n",
       "      <td>0.32</td>\n",
       "      <td>gb_Classifier</td>\n",
       "      <td>99.15</td>\n",
       "      <td>99.15</td>\n",
       "      <td>99.15</td>\n",
       "    </tr>\n",
       "    <tr>\n",
       "      <th>41</th>\n",
       "      <td>99.76</td>\n",
       "      <td>99.22</td>\n",
       "      <td>Fruit Borer / Blight Blora</td>\n",
       "      <td>Fruit_Borer_Blight_Blora_ab_Classifier.pkl</td>\n",
       "      <td>0.24</td>\n",
       "      <td>ab_Classifier</td>\n",
       "      <td>99.57</td>\n",
       "      <td>99.15</td>\n",
       "      <td>99.36</td>\n",
       "    </tr>\n",
       "  </tbody>\n",
       "</table>\n",
       "</div>"
      ],
      "text/plain": [
       "    Accuracy  Cohen_kappa                              Feature_name  \\\n",
       "0      89.52        78.27                    Label (Disease Yes/No)   \n",
       "1      88.26        75.47                    Label (Disease Yes/No)   \n",
       "2      86.84        72.36                    Label (Disease Yes/No)   \n",
       "3      93.46        86.43                    Label (Disease Yes/No)   \n",
       "4      96.53        92.88                    Label (Disease Yes/No)   \n",
       "5      96.45        92.72                    Label (Disease Yes/No)   \n",
       "6      95.11        89.94                    Label (Disease Yes/No)   \n",
       "7      84.40        57.91  Type of Disease (Bacterial Blight/Telya)   \n",
       "8      87.86        68.17  Type of Disease (Bacterial Blight/Telya)   \n",
       "9      74.39        40.63  Type of Disease (Bacterial Blight/Telya)   \n",
       "10     96.30        90.69  Type of Disease (Bacterial Blight/Telya)   \n",
       "11     97.87        94.67  Type of Disease (Bacterial Blight/Telya)   \n",
       "12     97.56        93.89  Type of Disease (Bacterial Blight/Telya)   \n",
       "13     97.56        93.85  Type of Disease (Bacterial Blight/Telya)   \n",
       "14     82.98        12.14                               Anthracnose   \n",
       "15     94.72        80.39                               Anthracnose   \n",
       "16     80.06        45.49                               Anthracnose   \n",
       "17     97.56        90.67                               Anthracnose   \n",
       "18     98.66        94.94                               Anthracnose   \n",
       "19     98.19        93.24                               Anthracnose   \n",
       "20     98.03        92.66                               Anthracnose   \n",
       "21     97.95        89.29                           Fruit Spot/ Rot   \n",
       "22     99.13        95.65                           Fruit Spot/ Rot   \n",
       "23     92.28        69.47                           Fruit Spot/ Rot   \n",
       "24     99.84        99.19                           Fruit Spot/ Rot   \n",
       "25     99.92        99.59                           Fruit Spot/ Rot   \n",
       "26     99.84        99.19                           Fruit Spot/ Rot   \n",
       "27     99.76        98.78                           Fruit Spot/ Rot   \n",
       "28     99.84        96.59                             Fusarium Wilt   \n",
       "29     99.05        75.55                             Fusarium Wilt   \n",
       "30     93.93        40.73                             Fusarium Wilt   \n",
       "31     99.92        98.32                             Fusarium Wilt   \n",
       "32     99.84        96.59                             Fusarium Wilt   \n",
       "33     99.84        96.59                             Fusarium Wilt   \n",
       "34     99.84        96.59                             Fusarium Wilt   \n",
       "35     95.59        85.71                Fruit Borer / Blight Blora   \n",
       "36     98.19        94.12                Fruit Borer / Blight Blora   \n",
       "37     91.73        76.21                Fruit Borer / Blight Blora   \n",
       "38     99.76        99.22                Fruit Borer / Blight Blora   \n",
       "39     99.68        98.96                Fruit Borer / Blight Blora   \n",
       "40     99.68        98.96                Fruit Borer / Blight Blora   \n",
       "41     99.76        99.22                Fruit Borer / Blight Blora   \n",
       "\n",
       "                                             Filename   Loss      Model_name  \\\n",
       "0             Label_Disease_Yes_No__lr_Classifier.pkl  10.48   lr_Classifier   \n",
       "1            Label_Disease_Yes_No__knn_Classifier.pkl  11.74  knn_Classifier   \n",
       "2             Label_Disease_Yes_No__nb_Classifier.pkl  13.16   nb_Classifier   \n",
       "3             Label_Disease_Yes_No__dt_Classifier.pkl   6.54   dt_Classifier   \n",
       "4             Label_Disease_Yes_No__rf_Classifier.pkl   3.47   rf_Classifier   \n",
       "5             Label_Disease_Yes_No__gb_Classifier.pkl   3.55   gb_Classifier   \n",
       "6             Label_Disease_Yes_No__ab_Classifier.pkl   4.89   ab_Classifier   \n",
       "7   Type_of_Disease_Bacterial_Blight_Telya__lr_Cla...  15.60   lr_Classifier   \n",
       "8   Type_of_Disease_Bacterial_Blight_Telya__knn_Cl...  12.14  knn_Classifier   \n",
       "9   Type_of_Disease_Bacterial_Blight_Telya__nb_Cla...  25.61   nb_Classifier   \n",
       "10  Type_of_Disease_Bacterial_Blight_Telya__dt_Cla...   3.70   dt_Classifier   \n",
       "11  Type_of_Disease_Bacterial_Blight_Telya__rf_Cla...   2.13   rf_Classifier   \n",
       "12  Type_of_Disease_Bacterial_Blight_Telya__gb_Cla...   2.44   gb_Classifier   \n",
       "13  Type_of_Disease_Bacterial_Blight_Telya__ab_Cla...   2.44   ab_Classifier   \n",
       "14                      Anthracnose_lr_Classifier.pkl  17.02   lr_Classifier   \n",
       "15                     Anthracnose_knn_Classifier.pkl   5.28  knn_Classifier   \n",
       "16                      Anthracnose_nb_Classifier.pkl  19.94   nb_Classifier   \n",
       "17                      Anthracnose_dt_Classifier.pkl   2.44   dt_Classifier   \n",
       "18                      Anthracnose_rf_Classifier.pkl   1.34   rf_Classifier   \n",
       "19                      Anthracnose_gb_Classifier.pkl   1.81   gb_Classifier   \n",
       "20                      Anthracnose_ab_Classifier.pkl   1.97   ab_Classifier   \n",
       "21                   Fruit_Spot_Rot_lr_Classifier.pkl   2.05   lr_Classifier   \n",
       "22                  Fruit_Spot_Rot_knn_Classifier.pkl   0.87  knn_Classifier   \n",
       "23                   Fruit_Spot_Rot_nb_Classifier.pkl   7.72   nb_Classifier   \n",
       "24                   Fruit_Spot_Rot_dt_Classifier.pkl   0.16   dt_Classifier   \n",
       "25                   Fruit_Spot_Rot_rf_Classifier.pkl   0.08   rf_Classifier   \n",
       "26                   Fruit_Spot_Rot_gb_Classifier.pkl   0.16   gb_Classifier   \n",
       "27                   Fruit_Spot_Rot_ab_Classifier.pkl   0.24   ab_Classifier   \n",
       "28                    Fusarium_Wilt_lr_Classifier.pkl   0.16   lr_Classifier   \n",
       "29                   Fusarium_Wilt_knn_Classifier.pkl   0.95  knn_Classifier   \n",
       "30                    Fusarium_Wilt_nb_Classifier.pkl   6.07   nb_Classifier   \n",
       "31                    Fusarium_Wilt_dt_Classifier.pkl   0.08   dt_Classifier   \n",
       "32                    Fusarium_Wilt_rf_Classifier.pkl   0.16   rf_Classifier   \n",
       "33                    Fusarium_Wilt_gb_Classifier.pkl   0.16   gb_Classifier   \n",
       "34                    Fusarium_Wilt_ab_Classifier.pkl   0.16   ab_Classifier   \n",
       "35         Fruit_Borer_Blight_Blora_lr_Classifier.pkl   4.41   lr_Classifier   \n",
       "36        Fruit_Borer_Blight_Blora_knn_Classifier.pkl   1.81  knn_Classifier   \n",
       "37         Fruit_Borer_Blight_Blora_nb_Classifier.pkl   8.27   nb_Classifier   \n",
       "38         Fruit_Borer_Blight_Blora_dt_Classifier.pkl   0.24   dt_Classifier   \n",
       "39         Fruit_Borer_Blight_Blora_rf_Classifier.pkl   0.32   rf_Classifier   \n",
       "40         Fruit_Borer_Blight_Blora_gb_Classifier.pkl   0.32   gb_Classifier   \n",
       "41         Fruit_Borer_Blight_Blora_ab_Classifier.pkl   0.24   ab_Classifier   \n",
       "\n",
       "    Precision  Recall  f1_score  \n",
       "0       89.24   85.01     87.07  \n",
       "1       89.87   80.83     85.11  \n",
       "2       89.47   77.42     83.01  \n",
       "3       94.40   89.56     91.92  \n",
       "4       94.81   96.96     95.87  \n",
       "5       94.80   96.77     95.77  \n",
       "6       94.12   94.12     94.12  \n",
       "7       78.95   59.66     67.96  \n",
       "8       83.45   70.17     76.23  \n",
       "9       53.08   66.19     58.91  \n",
       "10      94.46   92.05     93.24  \n",
       "11      96.83   95.45     96.14  \n",
       "12      95.99   95.17     95.58  \n",
       "13      97.07   94.03     95.53  \n",
       "14      39.68   12.32     18.80  \n",
       "15      83.33   83.74     83.54  \n",
       "16      43.49   82.27     56.90  \n",
       "17      95.26   89.16     92.11  \n",
       "18      97.45   94.09     95.74  \n",
       "19      94.55   94.09     94.32  \n",
       "20      94.06   93.60     93.83  \n",
       "21      92.48   88.49     90.44  \n",
       "22      93.84   98.56     96.14  \n",
       "23      58.80   98.56     73.66  \n",
       "24     100.00   98.56     99.28  \n",
       "25     100.00   99.28     99.64  \n",
       "26     100.00   98.56     99.28  \n",
       "27      99.28   98.56     98.92  \n",
       "28     100.00   93.55     96.67  \n",
       "29     100.00   61.29     76.00  \n",
       "30      27.88   93.55     42.96  \n",
       "31     100.00   96.77     98.36  \n",
       "32     100.00   93.55     96.67  \n",
       "33     100.00   93.55     96.67  \n",
       "34     100.00   93.55     96.67  \n",
       "35      86.29   90.68     88.43  \n",
       "36      93.12   97.46     95.24  \n",
       "37      70.03   97.03     81.35  \n",
       "38      99.57   99.15     99.36  \n",
       "39      99.15   99.15     99.15  \n",
       "40      99.15   99.15     99.15  \n",
       "41      99.57   99.15     99.36  "
      ]
     },
     "execution_count": 44,
     "metadata": {},
     "output_type": "execute_result"
    }
   ],
   "source": [
    "\n",
    "result_df = pd.DataFrame()\n",
    "\n",
    "for Y in Y_name:\n",
    "    print(f'Column : {list(Y.columns)[0]}')\n",
    "    for cls in range(len(classifiers)):\n",
    "        print(f'Model : {model_name[cls]}')\n",
    "        model, data = builModels(X, Y, classifiers[cls])\n",
    "\n",
    "        # save the model to disk\n",
    "        filename = f'{list(Y.columns)[0]}_{model_name[cls]}'\n",
    "        filename = re.sub('\\W+','_', filename )+'.pkl'\n",
    "        pickle.dump(model, open(filename, 'wb'))\n",
    "        print(f'File saved : {filename}')\n",
    "        \n",
    "        data['Feature_name'] = list(Y.columns)[0]\n",
    "        data['Model_name'] = model_name[cls]\n",
    "        data['Filename'] = filename\n",
    "        \n",
    "        print(f'data : {data}')\n",
    "        \n",
    "        result_df = result_df.append(data, ignore_index=True)\n",
    "        \n",
    "\n",
    "# result_df"
   ]
  },
  {
   "cell_type": "code",
   "execution_count": 47,
   "metadata": {
    "scrolled": false
   },
   "outputs": [
    {
     "data": {
      "text/html": [
       "<div>\n",
       "<style scoped>\n",
       "    .dataframe tbody tr th:only-of-type {\n",
       "        vertical-align: middle;\n",
       "    }\n",
       "\n",
       "    .dataframe tbody tr th {\n",
       "        vertical-align: top;\n",
       "    }\n",
       "\n",
       "    .dataframe thead th {\n",
       "        text-align: right;\n",
       "    }\n",
       "</style>\n",
       "<table border=\"1\" class=\"dataframe\">\n",
       "  <thead>\n",
       "    <tr style=\"text-align: right;\">\n",
       "      <th></th>\n",
       "      <th>Feature_name</th>\n",
       "      <th>Model_name</th>\n",
       "      <th>Accuracy</th>\n",
       "      <th>Loss</th>\n",
       "      <th>Precision</th>\n",
       "      <th>Recall</th>\n",
       "      <th>f1_score</th>\n",
       "      <th>Cohen_kappa</th>\n",
       "      <th>Filename</th>\n",
       "    </tr>\n",
       "  </thead>\n",
       "  <tbody>\n",
       "    <tr>\n",
       "      <th>0</th>\n",
       "      <td>Label (Disease Yes/No)</td>\n",
       "      <td>lr_Classifier</td>\n",
       "      <td>89.52</td>\n",
       "      <td>10.48</td>\n",
       "      <td>89.24</td>\n",
       "      <td>85.01</td>\n",
       "      <td>87.07</td>\n",
       "      <td>78.27</td>\n",
       "      <td>Label_Disease_Yes_No__lr_Classifier.pkl</td>\n",
       "    </tr>\n",
       "    <tr>\n",
       "      <th>1</th>\n",
       "      <td>Label (Disease Yes/No)</td>\n",
       "      <td>knn_Classifier</td>\n",
       "      <td>88.26</td>\n",
       "      <td>11.74</td>\n",
       "      <td>89.87</td>\n",
       "      <td>80.83</td>\n",
       "      <td>85.11</td>\n",
       "      <td>75.47</td>\n",
       "      <td>Label_Disease_Yes_No__knn_Classifier.pkl</td>\n",
       "    </tr>\n",
       "    <tr>\n",
       "      <th>2</th>\n",
       "      <td>Label (Disease Yes/No)</td>\n",
       "      <td>nb_Classifier</td>\n",
       "      <td>86.84</td>\n",
       "      <td>13.16</td>\n",
       "      <td>89.47</td>\n",
       "      <td>77.42</td>\n",
       "      <td>83.01</td>\n",
       "      <td>72.36</td>\n",
       "      <td>Label_Disease_Yes_No__nb_Classifier.pkl</td>\n",
       "    </tr>\n",
       "    <tr>\n",
       "      <th>3</th>\n",
       "      <td>Label (Disease Yes/No)</td>\n",
       "      <td>dt_Classifier</td>\n",
       "      <td>93.46</td>\n",
       "      <td>6.54</td>\n",
       "      <td>94.40</td>\n",
       "      <td>89.56</td>\n",
       "      <td>91.92</td>\n",
       "      <td>86.43</td>\n",
       "      <td>Label_Disease_Yes_No__dt_Classifier.pkl</td>\n",
       "    </tr>\n",
       "    <tr>\n",
       "      <th>4</th>\n",
       "      <td>Label (Disease Yes/No)</td>\n",
       "      <td>rf_Classifier</td>\n",
       "      <td>96.53</td>\n",
       "      <td>3.47</td>\n",
       "      <td>94.81</td>\n",
       "      <td>96.96</td>\n",
       "      <td>95.87</td>\n",
       "      <td>92.88</td>\n",
       "      <td>Label_Disease_Yes_No__rf_Classifier.pkl</td>\n",
       "    </tr>\n",
       "    <tr>\n",
       "      <th>5</th>\n",
       "      <td>Label (Disease Yes/No)</td>\n",
       "      <td>gb_Classifier</td>\n",
       "      <td>96.45</td>\n",
       "      <td>3.55</td>\n",
       "      <td>94.80</td>\n",
       "      <td>96.77</td>\n",
       "      <td>95.77</td>\n",
       "      <td>92.72</td>\n",
       "      <td>Label_Disease_Yes_No__gb_Classifier.pkl</td>\n",
       "    </tr>\n",
       "    <tr>\n",
       "      <th>6</th>\n",
       "      <td>Label (Disease Yes/No)</td>\n",
       "      <td>ab_Classifier</td>\n",
       "      <td>95.11</td>\n",
       "      <td>4.89</td>\n",
       "      <td>94.12</td>\n",
       "      <td>94.12</td>\n",
       "      <td>94.12</td>\n",
       "      <td>89.94</td>\n",
       "      <td>Label_Disease_Yes_No__ab_Classifier.pkl</td>\n",
       "    </tr>\n",
       "    <tr>\n",
       "      <th>7</th>\n",
       "      <td>Type of Disease (Bacterial Blight/Telya)</td>\n",
       "      <td>lr_Classifier</td>\n",
       "      <td>84.40</td>\n",
       "      <td>15.60</td>\n",
       "      <td>78.95</td>\n",
       "      <td>59.66</td>\n",
       "      <td>67.96</td>\n",
       "      <td>57.91</td>\n",
       "      <td>Type_of_Disease_Bacterial_Blight_Telya__lr_Cla...</td>\n",
       "    </tr>\n",
       "    <tr>\n",
       "      <th>8</th>\n",
       "      <td>Type of Disease (Bacterial Blight/Telya)</td>\n",
       "      <td>knn_Classifier</td>\n",
       "      <td>87.86</td>\n",
       "      <td>12.14</td>\n",
       "      <td>83.45</td>\n",
       "      <td>70.17</td>\n",
       "      <td>76.23</td>\n",
       "      <td>68.17</td>\n",
       "      <td>Type_of_Disease_Bacterial_Blight_Telya__knn_Cl...</td>\n",
       "    </tr>\n",
       "    <tr>\n",
       "      <th>9</th>\n",
       "      <td>Type of Disease (Bacterial Blight/Telya)</td>\n",
       "      <td>nb_Classifier</td>\n",
       "      <td>74.39</td>\n",
       "      <td>25.61</td>\n",
       "      <td>53.08</td>\n",
       "      <td>66.19</td>\n",
       "      <td>58.91</td>\n",
       "      <td>40.63</td>\n",
       "      <td>Type_of_Disease_Bacterial_Blight_Telya__nb_Cla...</td>\n",
       "    </tr>\n",
       "    <tr>\n",
       "      <th>10</th>\n",
       "      <td>Type of Disease (Bacterial Blight/Telya)</td>\n",
       "      <td>dt_Classifier</td>\n",
       "      <td>96.30</td>\n",
       "      <td>3.70</td>\n",
       "      <td>94.46</td>\n",
       "      <td>92.05</td>\n",
       "      <td>93.24</td>\n",
       "      <td>90.69</td>\n",
       "      <td>Type_of_Disease_Bacterial_Blight_Telya__dt_Cla...</td>\n",
       "    </tr>\n",
       "    <tr>\n",
       "      <th>11</th>\n",
       "      <td>Type of Disease (Bacterial Blight/Telya)</td>\n",
       "      <td>rf_Classifier</td>\n",
       "      <td>97.87</td>\n",
       "      <td>2.13</td>\n",
       "      <td>96.83</td>\n",
       "      <td>95.45</td>\n",
       "      <td>96.14</td>\n",
       "      <td>94.67</td>\n",
       "      <td>Type_of_Disease_Bacterial_Blight_Telya__rf_Cla...</td>\n",
       "    </tr>\n",
       "    <tr>\n",
       "      <th>12</th>\n",
       "      <td>Type of Disease (Bacterial Blight/Telya)</td>\n",
       "      <td>gb_Classifier</td>\n",
       "      <td>97.56</td>\n",
       "      <td>2.44</td>\n",
       "      <td>95.99</td>\n",
       "      <td>95.17</td>\n",
       "      <td>95.58</td>\n",
       "      <td>93.89</td>\n",
       "      <td>Type_of_Disease_Bacterial_Blight_Telya__gb_Cla...</td>\n",
       "    </tr>\n",
       "    <tr>\n",
       "      <th>13</th>\n",
       "      <td>Type of Disease (Bacterial Blight/Telya)</td>\n",
       "      <td>ab_Classifier</td>\n",
       "      <td>97.56</td>\n",
       "      <td>2.44</td>\n",
       "      <td>97.07</td>\n",
       "      <td>94.03</td>\n",
       "      <td>95.53</td>\n",
       "      <td>93.85</td>\n",
       "      <td>Type_of_Disease_Bacterial_Blight_Telya__ab_Cla...</td>\n",
       "    </tr>\n",
       "    <tr>\n",
       "      <th>14</th>\n",
       "      <td>Anthracnose</td>\n",
       "      <td>lr_Classifier</td>\n",
       "      <td>82.98</td>\n",
       "      <td>17.02</td>\n",
       "      <td>39.68</td>\n",
       "      <td>12.32</td>\n",
       "      <td>18.80</td>\n",
       "      <td>12.14</td>\n",
       "      <td>Anthracnose_lr_Classifier.pkl</td>\n",
       "    </tr>\n",
       "    <tr>\n",
       "      <th>15</th>\n",
       "      <td>Anthracnose</td>\n",
       "      <td>knn_Classifier</td>\n",
       "      <td>94.72</td>\n",
       "      <td>5.28</td>\n",
       "      <td>83.33</td>\n",
       "      <td>83.74</td>\n",
       "      <td>83.54</td>\n",
       "      <td>80.39</td>\n",
       "      <td>Anthracnose_knn_Classifier.pkl</td>\n",
       "    </tr>\n",
       "    <tr>\n",
       "      <th>16</th>\n",
       "      <td>Anthracnose</td>\n",
       "      <td>nb_Classifier</td>\n",
       "      <td>80.06</td>\n",
       "      <td>19.94</td>\n",
       "      <td>43.49</td>\n",
       "      <td>82.27</td>\n",
       "      <td>56.90</td>\n",
       "      <td>45.49</td>\n",
       "      <td>Anthracnose_nb_Classifier.pkl</td>\n",
       "    </tr>\n",
       "    <tr>\n",
       "      <th>17</th>\n",
       "      <td>Anthracnose</td>\n",
       "      <td>dt_Classifier</td>\n",
       "      <td>97.56</td>\n",
       "      <td>2.44</td>\n",
       "      <td>95.26</td>\n",
       "      <td>89.16</td>\n",
       "      <td>92.11</td>\n",
       "      <td>90.67</td>\n",
       "      <td>Anthracnose_dt_Classifier.pkl</td>\n",
       "    </tr>\n",
       "    <tr>\n",
       "      <th>18</th>\n",
       "      <td>Anthracnose</td>\n",
       "      <td>rf_Classifier</td>\n",
       "      <td>98.66</td>\n",
       "      <td>1.34</td>\n",
       "      <td>97.45</td>\n",
       "      <td>94.09</td>\n",
       "      <td>95.74</td>\n",
       "      <td>94.94</td>\n",
       "      <td>Anthracnose_rf_Classifier.pkl</td>\n",
       "    </tr>\n",
       "    <tr>\n",
       "      <th>19</th>\n",
       "      <td>Anthracnose</td>\n",
       "      <td>gb_Classifier</td>\n",
       "      <td>98.19</td>\n",
       "      <td>1.81</td>\n",
       "      <td>94.55</td>\n",
       "      <td>94.09</td>\n",
       "      <td>94.32</td>\n",
       "      <td>93.24</td>\n",
       "      <td>Anthracnose_gb_Classifier.pkl</td>\n",
       "    </tr>\n",
       "    <tr>\n",
       "      <th>20</th>\n",
       "      <td>Anthracnose</td>\n",
       "      <td>ab_Classifier</td>\n",
       "      <td>98.03</td>\n",
       "      <td>1.97</td>\n",
       "      <td>94.06</td>\n",
       "      <td>93.60</td>\n",
       "      <td>93.83</td>\n",
       "      <td>92.66</td>\n",
       "      <td>Anthracnose_ab_Classifier.pkl</td>\n",
       "    </tr>\n",
       "    <tr>\n",
       "      <th>21</th>\n",
       "      <td>Fruit Spot/ Rot</td>\n",
       "      <td>lr_Classifier</td>\n",
       "      <td>97.95</td>\n",
       "      <td>2.05</td>\n",
       "      <td>92.48</td>\n",
       "      <td>88.49</td>\n",
       "      <td>90.44</td>\n",
       "      <td>89.29</td>\n",
       "      <td>Fruit_Spot_Rot_lr_Classifier.pkl</td>\n",
       "    </tr>\n",
       "    <tr>\n",
       "      <th>22</th>\n",
       "      <td>Fruit Spot/ Rot</td>\n",
       "      <td>knn_Classifier</td>\n",
       "      <td>99.13</td>\n",
       "      <td>0.87</td>\n",
       "      <td>93.84</td>\n",
       "      <td>98.56</td>\n",
       "      <td>96.14</td>\n",
       "      <td>95.65</td>\n",
       "      <td>Fruit_Spot_Rot_knn_Classifier.pkl</td>\n",
       "    </tr>\n",
       "    <tr>\n",
       "      <th>23</th>\n",
       "      <td>Fruit Spot/ Rot</td>\n",
       "      <td>nb_Classifier</td>\n",
       "      <td>92.28</td>\n",
       "      <td>7.72</td>\n",
       "      <td>58.80</td>\n",
       "      <td>98.56</td>\n",
       "      <td>73.66</td>\n",
       "      <td>69.47</td>\n",
       "      <td>Fruit_Spot_Rot_nb_Classifier.pkl</td>\n",
       "    </tr>\n",
       "    <tr>\n",
       "      <th>24</th>\n",
       "      <td>Fruit Spot/ Rot</td>\n",
       "      <td>dt_Classifier</td>\n",
       "      <td>99.84</td>\n",
       "      <td>0.16</td>\n",
       "      <td>100.00</td>\n",
       "      <td>98.56</td>\n",
       "      <td>99.28</td>\n",
       "      <td>99.19</td>\n",
       "      <td>Fruit_Spot_Rot_dt_Classifier.pkl</td>\n",
       "    </tr>\n",
       "    <tr>\n",
       "      <th>25</th>\n",
       "      <td>Fruit Spot/ Rot</td>\n",
       "      <td>rf_Classifier</td>\n",
       "      <td>99.92</td>\n",
       "      <td>0.08</td>\n",
       "      <td>100.00</td>\n",
       "      <td>99.28</td>\n",
       "      <td>99.64</td>\n",
       "      <td>99.59</td>\n",
       "      <td>Fruit_Spot_Rot_rf_Classifier.pkl</td>\n",
       "    </tr>\n",
       "    <tr>\n",
       "      <th>26</th>\n",
       "      <td>Fruit Spot/ Rot</td>\n",
       "      <td>gb_Classifier</td>\n",
       "      <td>99.84</td>\n",
       "      <td>0.16</td>\n",
       "      <td>100.00</td>\n",
       "      <td>98.56</td>\n",
       "      <td>99.28</td>\n",
       "      <td>99.19</td>\n",
       "      <td>Fruit_Spot_Rot_gb_Classifier.pkl</td>\n",
       "    </tr>\n",
       "    <tr>\n",
       "      <th>27</th>\n",
       "      <td>Fruit Spot/ Rot</td>\n",
       "      <td>ab_Classifier</td>\n",
       "      <td>99.76</td>\n",
       "      <td>0.24</td>\n",
       "      <td>99.28</td>\n",
       "      <td>98.56</td>\n",
       "      <td>98.92</td>\n",
       "      <td>98.78</td>\n",
       "      <td>Fruit_Spot_Rot_ab_Classifier.pkl</td>\n",
       "    </tr>\n",
       "    <tr>\n",
       "      <th>28</th>\n",
       "      <td>Fusarium Wilt</td>\n",
       "      <td>lr_Classifier</td>\n",
       "      <td>99.84</td>\n",
       "      <td>0.16</td>\n",
       "      <td>100.00</td>\n",
       "      <td>93.55</td>\n",
       "      <td>96.67</td>\n",
       "      <td>96.59</td>\n",
       "      <td>Fusarium_Wilt_lr_Classifier.pkl</td>\n",
       "    </tr>\n",
       "    <tr>\n",
       "      <th>29</th>\n",
       "      <td>Fusarium Wilt</td>\n",
       "      <td>knn_Classifier</td>\n",
       "      <td>99.05</td>\n",
       "      <td>0.95</td>\n",
       "      <td>100.00</td>\n",
       "      <td>61.29</td>\n",
       "      <td>76.00</td>\n",
       "      <td>75.55</td>\n",
       "      <td>Fusarium_Wilt_knn_Classifier.pkl</td>\n",
       "    </tr>\n",
       "    <tr>\n",
       "      <th>30</th>\n",
       "      <td>Fusarium Wilt</td>\n",
       "      <td>nb_Classifier</td>\n",
       "      <td>93.93</td>\n",
       "      <td>6.07</td>\n",
       "      <td>27.88</td>\n",
       "      <td>93.55</td>\n",
       "      <td>42.96</td>\n",
       "      <td>40.73</td>\n",
       "      <td>Fusarium_Wilt_nb_Classifier.pkl</td>\n",
       "    </tr>\n",
       "    <tr>\n",
       "      <th>31</th>\n",
       "      <td>Fusarium Wilt</td>\n",
       "      <td>dt_Classifier</td>\n",
       "      <td>99.92</td>\n",
       "      <td>0.08</td>\n",
       "      <td>100.00</td>\n",
       "      <td>96.77</td>\n",
       "      <td>98.36</td>\n",
       "      <td>98.32</td>\n",
       "      <td>Fusarium_Wilt_dt_Classifier.pkl</td>\n",
       "    </tr>\n",
       "    <tr>\n",
       "      <th>32</th>\n",
       "      <td>Fusarium Wilt</td>\n",
       "      <td>rf_Classifier</td>\n",
       "      <td>99.84</td>\n",
       "      <td>0.16</td>\n",
       "      <td>100.00</td>\n",
       "      <td>93.55</td>\n",
       "      <td>96.67</td>\n",
       "      <td>96.59</td>\n",
       "      <td>Fusarium_Wilt_rf_Classifier.pkl</td>\n",
       "    </tr>\n",
       "    <tr>\n",
       "      <th>33</th>\n",
       "      <td>Fusarium Wilt</td>\n",
       "      <td>gb_Classifier</td>\n",
       "      <td>99.84</td>\n",
       "      <td>0.16</td>\n",
       "      <td>100.00</td>\n",
       "      <td>93.55</td>\n",
       "      <td>96.67</td>\n",
       "      <td>96.59</td>\n",
       "      <td>Fusarium_Wilt_gb_Classifier.pkl</td>\n",
       "    </tr>\n",
       "    <tr>\n",
       "      <th>34</th>\n",
       "      <td>Fusarium Wilt</td>\n",
       "      <td>ab_Classifier</td>\n",
       "      <td>99.84</td>\n",
       "      <td>0.16</td>\n",
       "      <td>100.00</td>\n",
       "      <td>93.55</td>\n",
       "      <td>96.67</td>\n",
       "      <td>96.59</td>\n",
       "      <td>Fusarium_Wilt_ab_Classifier.pkl</td>\n",
       "    </tr>\n",
       "    <tr>\n",
       "      <th>35</th>\n",
       "      <td>Fruit Borer / Blight Blora</td>\n",
       "      <td>lr_Classifier</td>\n",
       "      <td>95.59</td>\n",
       "      <td>4.41</td>\n",
       "      <td>86.29</td>\n",
       "      <td>90.68</td>\n",
       "      <td>88.43</td>\n",
       "      <td>85.71</td>\n",
       "      <td>Fruit_Borer_Blight_Blora_lr_Classifier.pkl</td>\n",
       "    </tr>\n",
       "    <tr>\n",
       "      <th>36</th>\n",
       "      <td>Fruit Borer / Blight Blora</td>\n",
       "      <td>knn_Classifier</td>\n",
       "      <td>98.19</td>\n",
       "      <td>1.81</td>\n",
       "      <td>93.12</td>\n",
       "      <td>97.46</td>\n",
       "      <td>95.24</td>\n",
       "      <td>94.12</td>\n",
       "      <td>Fruit_Borer_Blight_Blora_knn_Classifier.pkl</td>\n",
       "    </tr>\n",
       "    <tr>\n",
       "      <th>37</th>\n",
       "      <td>Fruit Borer / Blight Blora</td>\n",
       "      <td>nb_Classifier</td>\n",
       "      <td>91.73</td>\n",
       "      <td>8.27</td>\n",
       "      <td>70.03</td>\n",
       "      <td>97.03</td>\n",
       "      <td>81.35</td>\n",
       "      <td>76.21</td>\n",
       "      <td>Fruit_Borer_Blight_Blora_nb_Classifier.pkl</td>\n",
       "    </tr>\n",
       "    <tr>\n",
       "      <th>38</th>\n",
       "      <td>Fruit Borer / Blight Blora</td>\n",
       "      <td>dt_Classifier</td>\n",
       "      <td>99.76</td>\n",
       "      <td>0.24</td>\n",
       "      <td>99.57</td>\n",
       "      <td>99.15</td>\n",
       "      <td>99.36</td>\n",
       "      <td>99.22</td>\n",
       "      <td>Fruit_Borer_Blight_Blora_dt_Classifier.pkl</td>\n",
       "    </tr>\n",
       "    <tr>\n",
       "      <th>39</th>\n",
       "      <td>Fruit Borer / Blight Blora</td>\n",
       "      <td>rf_Classifier</td>\n",
       "      <td>99.68</td>\n",
       "      <td>0.32</td>\n",
       "      <td>99.15</td>\n",
       "      <td>99.15</td>\n",
       "      <td>99.15</td>\n",
       "      <td>98.96</td>\n",
       "      <td>Fruit_Borer_Blight_Blora_rf_Classifier.pkl</td>\n",
       "    </tr>\n",
       "    <tr>\n",
       "      <th>40</th>\n",
       "      <td>Fruit Borer / Blight Blora</td>\n",
       "      <td>gb_Classifier</td>\n",
       "      <td>99.68</td>\n",
       "      <td>0.32</td>\n",
       "      <td>99.15</td>\n",
       "      <td>99.15</td>\n",
       "      <td>99.15</td>\n",
       "      <td>98.96</td>\n",
       "      <td>Fruit_Borer_Blight_Blora_gb_Classifier.pkl</td>\n",
       "    </tr>\n",
       "    <tr>\n",
       "      <th>41</th>\n",
       "      <td>Fruit Borer / Blight Blora</td>\n",
       "      <td>ab_Classifier</td>\n",
       "      <td>99.76</td>\n",
       "      <td>0.24</td>\n",
       "      <td>99.57</td>\n",
       "      <td>99.15</td>\n",
       "      <td>99.36</td>\n",
       "      <td>99.22</td>\n",
       "      <td>Fruit_Borer_Blight_Blora_ab_Classifier.pkl</td>\n",
       "    </tr>\n",
       "  </tbody>\n",
       "</table>\n",
       "</div>"
      ],
      "text/plain": [
       "                                Feature_name      Model_name  Accuracy   Loss  \\\n",
       "0                     Label (Disease Yes/No)   lr_Classifier     89.52  10.48   \n",
       "1                     Label (Disease Yes/No)  knn_Classifier     88.26  11.74   \n",
       "2                     Label (Disease Yes/No)   nb_Classifier     86.84  13.16   \n",
       "3                     Label (Disease Yes/No)   dt_Classifier     93.46   6.54   \n",
       "4                     Label (Disease Yes/No)   rf_Classifier     96.53   3.47   \n",
       "5                     Label (Disease Yes/No)   gb_Classifier     96.45   3.55   \n",
       "6                     Label (Disease Yes/No)   ab_Classifier     95.11   4.89   \n",
       "7   Type of Disease (Bacterial Blight/Telya)   lr_Classifier     84.40  15.60   \n",
       "8   Type of Disease (Bacterial Blight/Telya)  knn_Classifier     87.86  12.14   \n",
       "9   Type of Disease (Bacterial Blight/Telya)   nb_Classifier     74.39  25.61   \n",
       "10  Type of Disease (Bacterial Blight/Telya)   dt_Classifier     96.30   3.70   \n",
       "11  Type of Disease (Bacterial Blight/Telya)   rf_Classifier     97.87   2.13   \n",
       "12  Type of Disease (Bacterial Blight/Telya)   gb_Classifier     97.56   2.44   \n",
       "13  Type of Disease (Bacterial Blight/Telya)   ab_Classifier     97.56   2.44   \n",
       "14                               Anthracnose   lr_Classifier     82.98  17.02   \n",
       "15                               Anthracnose  knn_Classifier     94.72   5.28   \n",
       "16                               Anthracnose   nb_Classifier     80.06  19.94   \n",
       "17                               Anthracnose   dt_Classifier     97.56   2.44   \n",
       "18                               Anthracnose   rf_Classifier     98.66   1.34   \n",
       "19                               Anthracnose   gb_Classifier     98.19   1.81   \n",
       "20                               Anthracnose   ab_Classifier     98.03   1.97   \n",
       "21                           Fruit Spot/ Rot   lr_Classifier     97.95   2.05   \n",
       "22                           Fruit Spot/ Rot  knn_Classifier     99.13   0.87   \n",
       "23                           Fruit Spot/ Rot   nb_Classifier     92.28   7.72   \n",
       "24                           Fruit Spot/ Rot   dt_Classifier     99.84   0.16   \n",
       "25                           Fruit Spot/ Rot   rf_Classifier     99.92   0.08   \n",
       "26                           Fruit Spot/ Rot   gb_Classifier     99.84   0.16   \n",
       "27                           Fruit Spot/ Rot   ab_Classifier     99.76   0.24   \n",
       "28                             Fusarium Wilt   lr_Classifier     99.84   0.16   \n",
       "29                             Fusarium Wilt  knn_Classifier     99.05   0.95   \n",
       "30                             Fusarium Wilt   nb_Classifier     93.93   6.07   \n",
       "31                             Fusarium Wilt   dt_Classifier     99.92   0.08   \n",
       "32                             Fusarium Wilt   rf_Classifier     99.84   0.16   \n",
       "33                             Fusarium Wilt   gb_Classifier     99.84   0.16   \n",
       "34                             Fusarium Wilt   ab_Classifier     99.84   0.16   \n",
       "35                Fruit Borer / Blight Blora   lr_Classifier     95.59   4.41   \n",
       "36                Fruit Borer / Blight Blora  knn_Classifier     98.19   1.81   \n",
       "37                Fruit Borer / Blight Blora   nb_Classifier     91.73   8.27   \n",
       "38                Fruit Borer / Blight Blora   dt_Classifier     99.76   0.24   \n",
       "39                Fruit Borer / Blight Blora   rf_Classifier     99.68   0.32   \n",
       "40                Fruit Borer / Blight Blora   gb_Classifier     99.68   0.32   \n",
       "41                Fruit Borer / Blight Blora   ab_Classifier     99.76   0.24   \n",
       "\n",
       "    Precision  Recall  f1_score  Cohen_kappa  \\\n",
       "0       89.24   85.01     87.07        78.27   \n",
       "1       89.87   80.83     85.11        75.47   \n",
       "2       89.47   77.42     83.01        72.36   \n",
       "3       94.40   89.56     91.92        86.43   \n",
       "4       94.81   96.96     95.87        92.88   \n",
       "5       94.80   96.77     95.77        92.72   \n",
       "6       94.12   94.12     94.12        89.94   \n",
       "7       78.95   59.66     67.96        57.91   \n",
       "8       83.45   70.17     76.23        68.17   \n",
       "9       53.08   66.19     58.91        40.63   \n",
       "10      94.46   92.05     93.24        90.69   \n",
       "11      96.83   95.45     96.14        94.67   \n",
       "12      95.99   95.17     95.58        93.89   \n",
       "13      97.07   94.03     95.53        93.85   \n",
       "14      39.68   12.32     18.80        12.14   \n",
       "15      83.33   83.74     83.54        80.39   \n",
       "16      43.49   82.27     56.90        45.49   \n",
       "17      95.26   89.16     92.11        90.67   \n",
       "18      97.45   94.09     95.74        94.94   \n",
       "19      94.55   94.09     94.32        93.24   \n",
       "20      94.06   93.60     93.83        92.66   \n",
       "21      92.48   88.49     90.44        89.29   \n",
       "22      93.84   98.56     96.14        95.65   \n",
       "23      58.80   98.56     73.66        69.47   \n",
       "24     100.00   98.56     99.28        99.19   \n",
       "25     100.00   99.28     99.64        99.59   \n",
       "26     100.00   98.56     99.28        99.19   \n",
       "27      99.28   98.56     98.92        98.78   \n",
       "28     100.00   93.55     96.67        96.59   \n",
       "29     100.00   61.29     76.00        75.55   \n",
       "30      27.88   93.55     42.96        40.73   \n",
       "31     100.00   96.77     98.36        98.32   \n",
       "32     100.00   93.55     96.67        96.59   \n",
       "33     100.00   93.55     96.67        96.59   \n",
       "34     100.00   93.55     96.67        96.59   \n",
       "35      86.29   90.68     88.43        85.71   \n",
       "36      93.12   97.46     95.24        94.12   \n",
       "37      70.03   97.03     81.35        76.21   \n",
       "38      99.57   99.15     99.36        99.22   \n",
       "39      99.15   99.15     99.15        98.96   \n",
       "40      99.15   99.15     99.15        98.96   \n",
       "41      99.57   99.15     99.36        99.22   \n",
       "\n",
       "                                             Filename  \n",
       "0             Label_Disease_Yes_No__lr_Classifier.pkl  \n",
       "1            Label_Disease_Yes_No__knn_Classifier.pkl  \n",
       "2             Label_Disease_Yes_No__nb_Classifier.pkl  \n",
       "3             Label_Disease_Yes_No__dt_Classifier.pkl  \n",
       "4             Label_Disease_Yes_No__rf_Classifier.pkl  \n",
       "5             Label_Disease_Yes_No__gb_Classifier.pkl  \n",
       "6             Label_Disease_Yes_No__ab_Classifier.pkl  \n",
       "7   Type_of_Disease_Bacterial_Blight_Telya__lr_Cla...  \n",
       "8   Type_of_Disease_Bacterial_Blight_Telya__knn_Cl...  \n",
       "9   Type_of_Disease_Bacterial_Blight_Telya__nb_Cla...  \n",
       "10  Type_of_Disease_Bacterial_Blight_Telya__dt_Cla...  \n",
       "11  Type_of_Disease_Bacterial_Blight_Telya__rf_Cla...  \n",
       "12  Type_of_Disease_Bacterial_Blight_Telya__gb_Cla...  \n",
       "13  Type_of_Disease_Bacterial_Blight_Telya__ab_Cla...  \n",
       "14                      Anthracnose_lr_Classifier.pkl  \n",
       "15                     Anthracnose_knn_Classifier.pkl  \n",
       "16                      Anthracnose_nb_Classifier.pkl  \n",
       "17                      Anthracnose_dt_Classifier.pkl  \n",
       "18                      Anthracnose_rf_Classifier.pkl  \n",
       "19                      Anthracnose_gb_Classifier.pkl  \n",
       "20                      Anthracnose_ab_Classifier.pkl  \n",
       "21                   Fruit_Spot_Rot_lr_Classifier.pkl  \n",
       "22                  Fruit_Spot_Rot_knn_Classifier.pkl  \n",
       "23                   Fruit_Spot_Rot_nb_Classifier.pkl  \n",
       "24                   Fruit_Spot_Rot_dt_Classifier.pkl  \n",
       "25                   Fruit_Spot_Rot_rf_Classifier.pkl  \n",
       "26                   Fruit_Spot_Rot_gb_Classifier.pkl  \n",
       "27                   Fruit_Spot_Rot_ab_Classifier.pkl  \n",
       "28                    Fusarium_Wilt_lr_Classifier.pkl  \n",
       "29                   Fusarium_Wilt_knn_Classifier.pkl  \n",
       "30                    Fusarium_Wilt_nb_Classifier.pkl  \n",
       "31                    Fusarium_Wilt_dt_Classifier.pkl  \n",
       "32                    Fusarium_Wilt_rf_Classifier.pkl  \n",
       "33                    Fusarium_Wilt_gb_Classifier.pkl  \n",
       "34                    Fusarium_Wilt_ab_Classifier.pkl  \n",
       "35         Fruit_Borer_Blight_Blora_lr_Classifier.pkl  \n",
       "36        Fruit_Borer_Blight_Blora_knn_Classifier.pkl  \n",
       "37         Fruit_Borer_Blight_Blora_nb_Classifier.pkl  \n",
       "38         Fruit_Borer_Blight_Blora_dt_Classifier.pkl  \n",
       "39         Fruit_Borer_Blight_Blora_rf_Classifier.pkl  \n",
       "40         Fruit_Borer_Blight_Blora_gb_Classifier.pkl  \n",
       "41         Fruit_Borer_Blight_Blora_ab_Classifier.pkl  "
      ]
     },
     "execution_count": 47,
     "metadata": {},
     "output_type": "execute_result"
    }
   ],
   "source": [
    "result_df1 = result_df[['Feature_name', 'Model_name', 'Accuracy', 'Loss', 'Precision', 'Recall', 'f1_score', 'Cohen_kappa', 'Filename']]\n",
    "result_df1"
   ]
  },
  {
   "cell_type": "code",
   "execution_count": 49,
   "metadata": {},
   "outputs": [],
   "source": [
    "result_df1.to_csv('part6//Model_result.csv', index=False)"
   ]
  },
  {
   "cell_type": "code",
   "execution_count": null,
   "metadata": {},
   "outputs": [],
   "source": []
  },
  {
   "cell_type": "markdown",
   "metadata": {},
   "source": [
    "# Build model for multi-label classifier"
   ]
  },
  {
   "cell_type": "code",
   "execution_count": 57,
   "metadata": {},
   "outputs": [],
   "source": [
    "# https://scikit-learn.org/stable/modules/multiclass.html\n",
    "\n",
    "from sklearn.multioutput import MultiOutputClassifier\n",
    "from sklearn.ensemble import RandomForestClassifier\n",
    "\n",
    "from sklearn.metrics import hamming_loss"
   ]
  },
  {
   "cell_type": "code",
   "execution_count": 53,
   "metadata": {},
   "outputs": [],
   "source": [
    "X = df[['tempC_avg(0C)', 'Relative humidity_avg(%)', 'windspeedKmph_avg(Km/h)', 'pressureMB_avg', \n",
    "        'precipMM_avg(mm)', 'weatherDesc', 'Sunshine Hours', '%_soil_moisure']]\n",
    "Y = df[['Type of Disease (Bacterial Blight/Telya)', 'Anthracnose', 'Fruit Spot/ Rot', \n",
    "        'Fusarium Wilt', 'Fruit Borer / Blight Blora']]\n",
    "\n",
    "X_train, X_test, y_train, y_test = train_test_split(X,Y, test_size = 0.3, random_state = 42)"
   ]
  },
  {
   "cell_type": "code",
   "execution_count": 62,
   "metadata": {},
   "outputs": [],
   "source": [
    "# forest = RandomForestClassifier(random_state=1)\n",
    "# multi_target_forest = MultiOutputClassifier(forest, n_jobs=2)\n",
    "# predicted = multi_target_forest.fit(X_train, y_train).predict(X_test)\n",
    "# print(accuracy_score(y_test, predicted))\n",
    "# print(hamming_loss(y_test, predicted))"
   ]
  },
  {
   "cell_type": "code",
   "execution_count": 77,
   "metadata": {},
   "outputs": [],
   "source": [
    "def builMultiLabelModels(X_train, X_test, y_train, y_test, classifierModel):\n",
    "    \n",
    "    multiLabelModel = MultiOutputClassifier(classifierModel, n_jobs=2)\n",
    "    # https://stackoverflow.com/questions/32761556/python-scikit-learn-n-jobs\n",
    "    \n",
    "    classifierModel = multiLabelModel.fit(X_train, y_train)\n",
    "    \n",
    "    y_pred = classifierModel.predict(X_test)\n",
    "    \n",
    "    print(y_pred)\n",
    "    \n",
    "    print(\"Accuracy_score:\", round((accuracy_score(y_test, y_pred))*100,2),'%')\n",
    "\n",
    "    print(\"Loss:\", round((1-accuracy_score(y_test, y_pred))*100,2),'%')\n",
    "    \n",
    "    print(\"Hamming_loss:\", round((hamming_loss(y_test, y_pred))*100,2),'%')\n",
    "    # https://scikit-learn.org/stable/modules/generated/sklearn.metrics.hamming_loss.html\n",
    "        \n",
    "#     print(\"Precision:\", round((precision_score(y_test, y_pred))*100,2),'%')\n",
    "    \n",
    "#     print(\"Recall:\", round((recall_score(y_test, y_pred))*100,2),'%')\n",
    "    \n",
    "#     print(\"f1_score:\", round((f1_score(y_test, y_pred))*100,2),'%')\n",
    "    \n",
    "#     print(\"Cohen_kappa_score:\", round((cohen_kappa_score(y_test, y_pred))*100,2),'%')\n",
    "\n",
    "    print(\"Classification_report:\\n\",metrics.classification_report(y_test, y_pred))\n",
    "\n",
    "#     print(\"confusion_matrix:\\n\", confusion_matrix(y_test, y_pred))\n",
    "\n",
    "\n",
    "#     fig, ax = plt.subplots()\n",
    "#     fig.set_size_inches(6,4) # WH\n",
    "#     sns.heatmap(confusion_matrix(y_test, y_pred), \n",
    "#                annot=True,\n",
    "#                      linewidths = 2,\n",
    "#                     linecolor = \"blue\",\n",
    "#                     center=0)\n",
    "#     plt.show()\n",
    "    \n",
    "    return classifierModel, {'Accuracy': round((accuracy_score(y_test, y_pred))*100,2), \n",
    "                             'Loss': round((1-accuracy_score(y_test, y_pred))*100,2), \n",
    "                             'Hamming_loss': round((hamming_loss(y_test, y_pred))*100,2)\n",
    "#                              'Precision': round((precision_score(y_test, y_pred))*100,2), \n",
    "#                              'Recall': round((recall_score(y_test, y_pred))*100,2),\n",
    "#                              'f1_score': round((f1_score(y_test, y_pred))*100,2),\n",
    "#                              'Cohen_kappa': round((cohen_kappa_score(y_test, y_pred))*100,2)\n",
    "                            }"
   ]
  },
  {
   "cell_type": "code",
   "execution_count": 79,
   "metadata": {
    "scrolled": true
   },
   "outputs": [
    {
     "name": "stdout",
     "output_type": "stream",
     "text": [
      "Model : lr_Classifier\n",
      "[[0 0 0 0 0]\n",
      " [1 0 0 0 0]\n",
      " [0 0 0 0 0]\n",
      " ...\n",
      " [1 1 0 0 0]\n",
      " [0 0 0 0 0]\n",
      " [0 0 0 0 1]]\n",
      "Accuracy_score: 72.42 %\n",
      "Loss: 27.58 %\n",
      "Hamming_loss: 7.38 %\n",
      "Classification_report:\n",
      "               precision    recall  f1-score   support\n",
      "\n",
      "           0       0.72      0.60      0.66       319\n",
      "           1       0.39      0.18      0.24       164\n",
      "           2       0.89      0.91      0.90       162\n",
      "           3       1.00      0.95      0.97        38\n",
      "           4       0.87      0.92      0.90       243\n",
      "\n",
      "   micro avg       0.79      0.68      0.73       926\n",
      "   macro avg       0.78      0.71      0.73       926\n",
      "weighted avg       0.74      0.68      0.70       926\n",
      " samples avg       0.29      0.28      0.27       926\n",
      "\n",
      "File saved : MultiLabelModel_lr_Classifier.pkl\n",
      "data : {'Accuracy': 72.42, 'Loss': 27.58, 'Hamming_loss': 7.38, 'Model_name': 'lr_Classifier', 'Filename': 'MultiLabelModel_lr_Classifier.pkl'}\n",
      "Model : knn_Classifier\n"
     ]
    },
    {
     "name": "stderr",
     "output_type": "stream",
     "text": [
      "c:\\users\\munge\\appdata\\local\\programs\\python\\python36\\lib\\site-packages\\sklearn\\metrics\\_classification.py:1248: UndefinedMetricWarning: Precision and F-score are ill-defined and being set to 0.0 in samples with no predicted labels. Use `zero_division` parameter to control this behavior.\n",
      "  _warn_prf(average, modifier, msg_start, len(result))\n",
      "c:\\users\\munge\\appdata\\local\\programs\\python\\python36\\lib\\site-packages\\sklearn\\metrics\\_classification.py:1248: UndefinedMetricWarning: Recall and F-score are ill-defined and being set to 0.0 in samples with no true labels. Use `zero_division` parameter to control this behavior.\n",
      "  _warn_prf(average, modifier, msg_start, len(result))\n"
     ]
    },
    {
     "name": "stdout",
     "output_type": "stream",
     "text": [
      "[[0 0 0 0 0]\n",
      " [0 0 0 0 0]\n",
      " [0 0 0 0 0]\n",
      " ...\n",
      " [1 1 0 0 0]\n",
      " [0 0 0 0 0]\n",
      " [0 0 0 0 1]]\n",
      "Accuracy_score: 84.24 %\n",
      "Loss: 15.76 %\n",
      "Hamming_loss: 3.96 %\n",
      "Classification_report:\n",
      "               precision    recall  f1-score   support\n",
      "\n",
      "           0       0.81      0.71      0.76       319\n",
      "           1       0.79      0.90      0.84       164\n",
      "           2       0.95      0.97      0.96       162\n",
      "           3       0.89      0.66      0.76        38\n",
      "           4       0.93      0.98      0.96       243\n",
      "\n",
      "   micro avg       0.87      0.86      0.86       926\n",
      "   macro avg       0.88      0.84      0.85       926\n",
      "weighted avg       0.87      0.86      0.86       926\n",
      " samples avg       0.34      0.35      0.34       926\n",
      "\n",
      "File saved : MultiLabelModel_knn_Classifier.pkl\n",
      "data : {'Accuracy': 84.24, 'Loss': 15.76, 'Hamming_loss': 3.96, 'Model_name': 'knn_Classifier', 'Filename': 'MultiLabelModel_knn_Classifier.pkl'}\n",
      "Model : nb_Classifier\n"
     ]
    },
    {
     "name": "stderr",
     "output_type": "stream",
     "text": [
      "c:\\users\\munge\\appdata\\local\\programs\\python\\python36\\lib\\site-packages\\sklearn\\metrics\\_classification.py:1248: UndefinedMetricWarning: Precision and F-score are ill-defined and being set to 0.0 in samples with no predicted labels. Use `zero_division` parameter to control this behavior.\n",
      "  _warn_prf(average, modifier, msg_start, len(result))\n",
      "c:\\users\\munge\\appdata\\local\\programs\\python\\python36\\lib\\site-packages\\sklearn\\metrics\\_classification.py:1248: UndefinedMetricWarning: Recall and F-score are ill-defined and being set to 0.0 in samples with no true labels. Use `zero_division` parameter to control this behavior.\n",
      "  _warn_prf(average, modifier, msg_start, len(result))\n"
     ]
    },
    {
     "name": "stdout",
     "output_type": "stream",
     "text": [
      "[[0 0 0 0 0]\n",
      " [0 0 0 0 0]\n",
      " [0 0 0 0 0]\n",
      " ...\n",
      " [1 1 0 0 0]\n",
      " [0 0 0 0 0]\n",
      " [1 0 0 0 1]]\n",
      "Accuracy_score: 62.57 %\n",
      "Loss: 37.43 %\n",
      "Hamming_loss: 14.56 %\n",
      "Classification_report:\n",
      "               precision    recall  f1-score   support\n",
      "\n",
      "           0       0.48      0.67      0.56       319\n",
      "           1       0.37      0.82      0.51       164\n",
      "           2       0.60      0.99      0.75       162\n",
      "           3       0.24      0.89      0.38        38\n",
      "           4       0.72      0.96      0.82       243\n",
      "\n",
      "   micro avg       0.50      0.84      0.63       926\n",
      "   macro avg       0.48      0.87      0.60       926\n",
      "weighted avg       0.53      0.84      0.64       926\n",
      " samples avg       0.20      0.33      0.23       926\n",
      "\n",
      "File saved : MultiLabelModel_nb_Classifier.pkl\n",
      "data : {'Accuracy': 62.57, 'Loss': 37.43, 'Hamming_loss': 14.56, 'Model_name': 'nb_Classifier', 'Filename': 'MultiLabelModel_nb_Classifier.pkl'}\n",
      "Model : dt_Classifier\n"
     ]
    },
    {
     "name": "stderr",
     "output_type": "stream",
     "text": [
      "c:\\users\\munge\\appdata\\local\\programs\\python\\python36\\lib\\site-packages\\sklearn\\metrics\\_classification.py:1248: UndefinedMetricWarning: Precision and F-score are ill-defined and being set to 0.0 in samples with no predicted labels. Use `zero_division` parameter to control this behavior.\n",
      "  _warn_prf(average, modifier, msg_start, len(result))\n",
      "c:\\users\\munge\\appdata\\local\\programs\\python\\python36\\lib\\site-packages\\sklearn\\metrics\\_classification.py:1248: UndefinedMetricWarning: Recall and F-score are ill-defined and being set to 0.0 in samples with no true labels. Use `zero_division` parameter to control this behavior.\n",
      "  _warn_prf(average, modifier, msg_start, len(result))\n"
     ]
    },
    {
     "name": "stdout",
     "output_type": "stream",
     "text": [
      "[[0 0 0 0 0]\n",
      " [0 0 0 0 0]\n",
      " [0 0 0 0 0]\n",
      " ...\n",
      " [1 1 0 0 0]\n",
      " [0 0 0 0 0]\n",
      " [0 0 0 0 1]]\n",
      "Accuracy_score: 92.91 %\n",
      "Loss: 7.09 %\n",
      "Hamming_loss: 1.58 %\n",
      "Classification_report:\n",
      "               precision    recall  f1-score   support\n",
      "\n",
      "           0       0.91      0.97      0.94       319\n",
      "           1       0.89      0.88      0.89       164\n",
      "           2       0.94      1.00      0.97       162\n",
      "           3       0.88      0.95      0.91        38\n",
      "           4       0.98      1.00      0.99       243\n",
      "\n",
      "   micro avg       0.93      0.97      0.95       926\n",
      "   macro avg       0.92      0.96      0.94       926\n",
      "weighted avg       0.93      0.97      0.95       926\n",
      " samples avg       0.40      0.41      0.40       926\n",
      "\n",
      "File saved : MultiLabelModel_dt_Classifier.pkl\n",
      "data : {'Accuracy': 92.91, 'Loss': 7.09, 'Hamming_loss': 1.58, 'Model_name': 'dt_Classifier', 'Filename': 'MultiLabelModel_dt_Classifier.pkl'}\n",
      "Model : rf_Classifier\n"
     ]
    },
    {
     "name": "stderr",
     "output_type": "stream",
     "text": [
      "c:\\users\\munge\\appdata\\local\\programs\\python\\python36\\lib\\site-packages\\sklearn\\metrics\\_classification.py:1248: UndefinedMetricWarning: Precision and F-score are ill-defined and being set to 0.0 in samples with no predicted labels. Use `zero_division` parameter to control this behavior.\n",
      "  _warn_prf(average, modifier, msg_start, len(result))\n",
      "c:\\users\\munge\\appdata\\local\\programs\\python\\python36\\lib\\site-packages\\sklearn\\metrics\\_classification.py:1248: UndefinedMetricWarning: Recall and F-score are ill-defined and being set to 0.0 in samples with no true labels. Use `zero_division` parameter to control this behavior.\n",
      "  _warn_prf(average, modifier, msg_start, len(result))\n"
     ]
    },
    {
     "name": "stdout",
     "output_type": "stream",
     "text": [
      "[[0 0 0 0 0]\n",
      " [0 0 0 0 0]\n",
      " [0 0 0 0 0]\n",
      " ...\n",
      " [1 1 0 0 0]\n",
      " [0 0 0 0 0]\n",
      " [0 0 0 0 1]]\n",
      "Accuracy_score: 95.82 %\n",
      "Loss: 4.18 %\n",
      "Hamming_loss: 0.88 %\n",
      "Classification_report:\n",
      "               precision    recall  f1-score   support\n",
      "\n",
      "           0       0.96      0.98      0.97       319\n",
      "           1       0.91      0.95      0.93       164\n",
      "           2       0.96      1.00      0.98       162\n",
      "           3       1.00      0.92      0.96        38\n",
      "           4       0.99      1.00      0.99       243\n",
      "\n",
      "   micro avg       0.96      0.98      0.97       926\n",
      "   macro avg       0.97      0.97      0.97       926\n",
      "weighted avg       0.96      0.98      0.97       926\n",
      " samples avg       0.41      0.41      0.41       926\n",
      "\n"
     ]
    },
    {
     "name": "stderr",
     "output_type": "stream",
     "text": [
      "c:\\users\\munge\\appdata\\local\\programs\\python\\python36\\lib\\site-packages\\sklearn\\metrics\\_classification.py:1248: UndefinedMetricWarning: Precision and F-score are ill-defined and being set to 0.0 in samples with no predicted labels. Use `zero_division` parameter to control this behavior.\n",
      "  _warn_prf(average, modifier, msg_start, len(result))\n",
      "c:\\users\\munge\\appdata\\local\\programs\\python\\python36\\lib\\site-packages\\sklearn\\metrics\\_classification.py:1248: UndefinedMetricWarning: Recall and F-score are ill-defined and being set to 0.0 in samples with no true labels. Use `zero_division` parameter to control this behavior.\n",
      "  _warn_prf(average, modifier, msg_start, len(result))\n"
     ]
    },
    {
     "name": "stdout",
     "output_type": "stream",
     "text": [
      "File saved : MultiLabelModel_rf_Classifier.pkl\n",
      "data : {'Accuracy': 95.82, 'Loss': 4.18, 'Hamming_loss': 0.88, 'Model_name': 'rf_Classifier', 'Filename': 'MultiLabelModel_rf_Classifier.pkl'}\n",
      "Model : gb_Classifier\n",
      "[[0 0 0 0 0]\n",
      " [0 0 0 0 0]\n",
      " [0 0 0 0 0]\n",
      " ...\n",
      " [1 1 0 0 0]\n",
      " [0 0 0 0 0]\n",
      " [0 0 0 0 1]]\n",
      "Accuracy_score: 95.74 %\n",
      "Loss: 4.26 %\n",
      "Hamming_loss: 0.99 %\n",
      "Classification_report:\n",
      "               precision    recall  f1-score   support\n",
      "\n",
      "           0       0.96      0.97      0.96       319\n",
      "           1       0.88      0.95      0.91       164\n",
      "           2       0.98      1.00      0.99       162\n",
      "           3       1.00      0.95      0.97        38\n",
      "           4       0.99      1.00      0.99       243\n",
      "\n",
      "   micro avg       0.95      0.98      0.97       926\n",
      "   macro avg       0.96      0.97      0.97       926\n",
      "weighted avg       0.96      0.98      0.97       926\n",
      " samples avg       0.40      0.41      0.40       926\n",
      "\n"
     ]
    },
    {
     "name": "stderr",
     "output_type": "stream",
     "text": [
      "c:\\users\\munge\\appdata\\local\\programs\\python\\python36\\lib\\site-packages\\sklearn\\metrics\\_classification.py:1248: UndefinedMetricWarning: Precision and F-score are ill-defined and being set to 0.0 in samples with no predicted labels. Use `zero_division` parameter to control this behavior.\n",
      "  _warn_prf(average, modifier, msg_start, len(result))\n",
      "c:\\users\\munge\\appdata\\local\\programs\\python\\python36\\lib\\site-packages\\sklearn\\metrics\\_classification.py:1248: UndefinedMetricWarning: Recall and F-score are ill-defined and being set to 0.0 in samples with no true labels. Use `zero_division` parameter to control this behavior.\n",
      "  _warn_prf(average, modifier, msg_start, len(result))\n"
     ]
    },
    {
     "name": "stdout",
     "output_type": "stream",
     "text": [
      "File saved : MultiLabelModel_gb_Classifier.pkl\n",
      "data : {'Accuracy': 95.74, 'Loss': 4.26, 'Hamming_loss': 0.99, 'Model_name': 'gb_Classifier', 'Filename': 'MultiLabelModel_gb_Classifier.pkl'}\n",
      "Model : ab_Classifier\n",
      "[[0 0 0 0 0]\n",
      " [0 0 0 0 0]\n",
      " [0 0 0 0 0]\n",
      " ...\n",
      " [1 1 0 0 0]\n",
      " [0 0 0 0 0]\n",
      " [0 0 0 0 1]]\n",
      "Accuracy_score: 95.35 %\n",
      "Loss: 4.65 %\n",
      "Hamming_loss: 1.06 %\n",
      "Classification_report:\n",
      "               precision    recall  f1-score   support\n",
      "\n",
      "           0       0.96      0.95      0.95       319\n",
      "           1       0.87      0.97      0.92       164\n",
      "           2       0.98      1.00      0.99       162\n",
      "           3       1.00      0.95      0.97        38\n",
      "           4       1.00      1.00      1.00       243\n",
      "\n",
      "   micro avg       0.96      0.97      0.96       926\n",
      "   macro avg       0.96      0.97      0.97       926\n",
      "weighted avg       0.96      0.97      0.96       926\n",
      " samples avg       0.40      0.41      0.40       926\n",
      "\n",
      "File saved : MultiLabelModel_ab_Classifier.pkl\n",
      "data : {'Accuracy': 95.35, 'Loss': 4.65, 'Hamming_loss': 1.06, 'Model_name': 'ab_Classifier', 'Filename': 'MultiLabelModel_ab_Classifier.pkl'}\n"
     ]
    },
    {
     "name": "stderr",
     "output_type": "stream",
     "text": [
      "c:\\users\\munge\\appdata\\local\\programs\\python\\python36\\lib\\site-packages\\sklearn\\metrics\\_classification.py:1248: UndefinedMetricWarning: Precision and F-score are ill-defined and being set to 0.0 in samples with no predicted labels. Use `zero_division` parameter to control this behavior.\n",
      "  _warn_prf(average, modifier, msg_start, len(result))\n",
      "c:\\users\\munge\\appdata\\local\\programs\\python\\python36\\lib\\site-packages\\sklearn\\metrics\\_classification.py:1248: UndefinedMetricWarning: Recall and F-score are ill-defined and being set to 0.0 in samples with no true labels. Use `zero_division` parameter to control this behavior.\n",
      "  _warn_prf(average, modifier, msg_start, len(result))\n"
     ]
    },
    {
     "data": {
      "text/html": [
       "<div>\n",
       "<style scoped>\n",
       "    .dataframe tbody tr th:only-of-type {\n",
       "        vertical-align: middle;\n",
       "    }\n",
       "\n",
       "    .dataframe tbody tr th {\n",
       "        vertical-align: top;\n",
       "    }\n",
       "\n",
       "    .dataframe thead th {\n",
       "        text-align: right;\n",
       "    }\n",
       "</style>\n",
       "<table border=\"1\" class=\"dataframe\">\n",
       "  <thead>\n",
       "    <tr style=\"text-align: right;\">\n",
       "      <th></th>\n",
       "      <th>Accuracy</th>\n",
       "      <th>Filename</th>\n",
       "      <th>Hamming_loss</th>\n",
       "      <th>Loss</th>\n",
       "      <th>Model_name</th>\n",
       "    </tr>\n",
       "  </thead>\n",
       "  <tbody>\n",
       "    <tr>\n",
       "      <th>0</th>\n",
       "      <td>72.42</td>\n",
       "      <td>MultiLabelModel_lr_Classifier.pkl</td>\n",
       "      <td>7.38</td>\n",
       "      <td>27.58</td>\n",
       "      <td>lr_Classifier</td>\n",
       "    </tr>\n",
       "    <tr>\n",
       "      <th>1</th>\n",
       "      <td>84.24</td>\n",
       "      <td>MultiLabelModel_knn_Classifier.pkl</td>\n",
       "      <td>3.96</td>\n",
       "      <td>15.76</td>\n",
       "      <td>knn_Classifier</td>\n",
       "    </tr>\n",
       "    <tr>\n",
       "      <th>2</th>\n",
       "      <td>62.57</td>\n",
       "      <td>MultiLabelModel_nb_Classifier.pkl</td>\n",
       "      <td>14.56</td>\n",
       "      <td>37.43</td>\n",
       "      <td>nb_Classifier</td>\n",
       "    </tr>\n",
       "    <tr>\n",
       "      <th>3</th>\n",
       "      <td>92.91</td>\n",
       "      <td>MultiLabelModel_dt_Classifier.pkl</td>\n",
       "      <td>1.58</td>\n",
       "      <td>7.09</td>\n",
       "      <td>dt_Classifier</td>\n",
       "    </tr>\n",
       "    <tr>\n",
       "      <th>4</th>\n",
       "      <td>95.82</td>\n",
       "      <td>MultiLabelModel_rf_Classifier.pkl</td>\n",
       "      <td>0.88</td>\n",
       "      <td>4.18</td>\n",
       "      <td>rf_Classifier</td>\n",
       "    </tr>\n",
       "    <tr>\n",
       "      <th>5</th>\n",
       "      <td>95.74</td>\n",
       "      <td>MultiLabelModel_gb_Classifier.pkl</td>\n",
       "      <td>0.99</td>\n",
       "      <td>4.26</td>\n",
       "      <td>gb_Classifier</td>\n",
       "    </tr>\n",
       "    <tr>\n",
       "      <th>6</th>\n",
       "      <td>95.35</td>\n",
       "      <td>MultiLabelModel_ab_Classifier.pkl</td>\n",
       "      <td>1.06</td>\n",
       "      <td>4.65</td>\n",
       "      <td>ab_Classifier</td>\n",
       "    </tr>\n",
       "  </tbody>\n",
       "</table>\n",
       "</div>"
      ],
      "text/plain": [
       "   Accuracy                            Filename  Hamming_loss   Loss  \\\n",
       "0     72.42   MultiLabelModel_lr_Classifier.pkl          7.38  27.58   \n",
       "1     84.24  MultiLabelModel_knn_Classifier.pkl          3.96  15.76   \n",
       "2     62.57   MultiLabelModel_nb_Classifier.pkl         14.56  37.43   \n",
       "3     92.91   MultiLabelModel_dt_Classifier.pkl          1.58   7.09   \n",
       "4     95.82   MultiLabelModel_rf_Classifier.pkl          0.88   4.18   \n",
       "5     95.74   MultiLabelModel_gb_Classifier.pkl          0.99   4.26   \n",
       "6     95.35   MultiLabelModel_ab_Classifier.pkl          1.06   4.65   \n",
       "\n",
       "       Model_name  \n",
       "0   lr_Classifier  \n",
       "1  knn_Classifier  \n",
       "2   nb_Classifier  \n",
       "3   dt_Classifier  \n",
       "4   rf_Classifier  \n",
       "5   gb_Classifier  \n",
       "6   ab_Classifier  "
      ]
     },
     "execution_count": 79,
     "metadata": {},
     "output_type": "execute_result"
    }
   ],
   "source": [
    "\n",
    "result_df = pd.DataFrame()\n",
    "\n",
    "for cls in range(len(classifiers)):\n",
    "    print(f'Model : {model_name[cls]}')\n",
    "    model, data = builMultiLabelModels(X_train, X_test, y_train, y_test, classifiers[cls])\n",
    "\n",
    "    # save the model to disk\n",
    "    filename = f'MultiLabelModel_{model_name[cls]}'\n",
    "    filename = re.sub('\\W+','_', filename )+'.pkl'\n",
    "    pickle.dump(model, open(filename, 'wb'))\n",
    "    print(f'File saved : {filename}')\n",
    "\n",
    "    data['Model_name'] = model_name[cls]\n",
    "    data['Filename'] = filename\n",
    "\n",
    "    print(f'data : {data}')\n",
    "\n",
    "    result_df = result_df.append(data, ignore_index=True)\n",
    "\n",
    "result_df"
   ]
  },
  {
   "cell_type": "code",
   "execution_count": 80,
   "metadata": {},
   "outputs": [
    {
     "data": {
      "text/html": [
       "<div>\n",
       "<style scoped>\n",
       "    .dataframe tbody tr th:only-of-type {\n",
       "        vertical-align: middle;\n",
       "    }\n",
       "\n",
       "    .dataframe tbody tr th {\n",
       "        vertical-align: top;\n",
       "    }\n",
       "\n",
       "    .dataframe thead th {\n",
       "        text-align: right;\n",
       "    }\n",
       "</style>\n",
       "<table border=\"1\" class=\"dataframe\">\n",
       "  <thead>\n",
       "    <tr style=\"text-align: right;\">\n",
       "      <th></th>\n",
       "      <th>Model_name</th>\n",
       "      <th>Accuracy</th>\n",
       "      <th>Loss</th>\n",
       "      <th>Hamming_loss</th>\n",
       "      <th>Filename</th>\n",
       "    </tr>\n",
       "  </thead>\n",
       "  <tbody>\n",
       "    <tr>\n",
       "      <th>0</th>\n",
       "      <td>lr_Classifier</td>\n",
       "      <td>72.42</td>\n",
       "      <td>27.58</td>\n",
       "      <td>7.38</td>\n",
       "      <td>MultiLabelModel_lr_Classifier.pkl</td>\n",
       "    </tr>\n",
       "    <tr>\n",
       "      <th>1</th>\n",
       "      <td>knn_Classifier</td>\n",
       "      <td>84.24</td>\n",
       "      <td>15.76</td>\n",
       "      <td>3.96</td>\n",
       "      <td>MultiLabelModel_knn_Classifier.pkl</td>\n",
       "    </tr>\n",
       "    <tr>\n",
       "      <th>2</th>\n",
       "      <td>nb_Classifier</td>\n",
       "      <td>62.57</td>\n",
       "      <td>37.43</td>\n",
       "      <td>14.56</td>\n",
       "      <td>MultiLabelModel_nb_Classifier.pkl</td>\n",
       "    </tr>\n",
       "    <tr>\n",
       "      <th>3</th>\n",
       "      <td>dt_Classifier</td>\n",
       "      <td>92.91</td>\n",
       "      <td>7.09</td>\n",
       "      <td>1.58</td>\n",
       "      <td>MultiLabelModel_dt_Classifier.pkl</td>\n",
       "    </tr>\n",
       "    <tr>\n",
       "      <th>4</th>\n",
       "      <td>rf_Classifier</td>\n",
       "      <td>95.82</td>\n",
       "      <td>4.18</td>\n",
       "      <td>0.88</td>\n",
       "      <td>MultiLabelModel_rf_Classifier.pkl</td>\n",
       "    </tr>\n",
       "    <tr>\n",
       "      <th>5</th>\n",
       "      <td>gb_Classifier</td>\n",
       "      <td>95.74</td>\n",
       "      <td>4.26</td>\n",
       "      <td>0.99</td>\n",
       "      <td>MultiLabelModel_gb_Classifier.pkl</td>\n",
       "    </tr>\n",
       "    <tr>\n",
       "      <th>6</th>\n",
       "      <td>ab_Classifier</td>\n",
       "      <td>95.35</td>\n",
       "      <td>4.65</td>\n",
       "      <td>1.06</td>\n",
       "      <td>MultiLabelModel_ab_Classifier.pkl</td>\n",
       "    </tr>\n",
       "  </tbody>\n",
       "</table>\n",
       "</div>"
      ],
      "text/plain": [
       "       Model_name  Accuracy   Loss  Hamming_loss  \\\n",
       "0   lr_Classifier     72.42  27.58          7.38   \n",
       "1  knn_Classifier     84.24  15.76          3.96   \n",
       "2   nb_Classifier     62.57  37.43         14.56   \n",
       "3   dt_Classifier     92.91   7.09          1.58   \n",
       "4   rf_Classifier     95.82   4.18          0.88   \n",
       "5   gb_Classifier     95.74   4.26          0.99   \n",
       "6   ab_Classifier     95.35   4.65          1.06   \n",
       "\n",
       "                             Filename  \n",
       "0   MultiLabelModel_lr_Classifier.pkl  \n",
       "1  MultiLabelModel_knn_Classifier.pkl  \n",
       "2   MultiLabelModel_nb_Classifier.pkl  \n",
       "3   MultiLabelModel_dt_Classifier.pkl  \n",
       "4   MultiLabelModel_rf_Classifier.pkl  \n",
       "5   MultiLabelModel_gb_Classifier.pkl  \n",
       "6   MultiLabelModel_ab_Classifier.pkl  "
      ]
     },
     "execution_count": 80,
     "metadata": {},
     "output_type": "execute_result"
    }
   ],
   "source": [
    "result_df1 = result_df[['Model_name', 'Accuracy', 'Loss', 'Hamming_loss', 'Filename']]\n",
    "result_df1"
   ]
  },
  {
   "cell_type": "code",
   "execution_count": 81,
   "metadata": {},
   "outputs": [],
   "source": [
    "result_df1.to_csv('part6//MultiLabelModel_result.csv', index=False)"
   ]
  },
  {
   "cell_type": "code",
   "execution_count": null,
   "metadata": {},
   "outputs": [],
   "source": []
  },
  {
   "cell_type": "markdown",
   "metadata": {},
   "source": [
    "# Build multilabel using ANN"
   ]
  },
  {
   "cell_type": "code",
   "execution_count": 84,
   "metadata": {},
   "outputs": [],
   "source": [
    "from keras.models import Sequential\n",
    "from keras.layers import Dense"
   ]
  },
  {
   "cell_type": "code",
   "execution_count": 112,
   "metadata": {
    "scrolled": true
   },
   "outputs": [
    {
     "name": "stdout",
     "output_type": "stream",
     "text": [
      "Epoch 1/50\n",
      "93/93 [==============================] - 1s 5ms/step - loss: 0.5558 - accuracy: 0.1422 - val_loss: 0.3925 - val_accuracy: 0.8314\n",
      "Epoch 2/50\n",
      "93/93 [==============================] - 0s 2ms/step - loss: 0.3744 - accuracy: 0.8499 - val_loss: 0.2514 - val_accuracy: 0.8353\n",
      "Epoch 3/50\n",
      "93/93 [==============================] - 0s 2ms/step - loss: 0.2565 - accuracy: 0.7939 - val_loss: 0.2156 - val_accuracy: 0.6872\n",
      "Epoch 4/50\n",
      "93/93 [==============================] - 0s 2ms/step - loss: 0.2202 - accuracy: 0.7411 - val_loss: 0.1965 - val_accuracy: 0.6761\n",
      "Epoch 5/50\n",
      "93/93 [==============================] - 0s 2ms/step - loss: 0.2036 - accuracy: 0.6902 - val_loss: 0.1934 - val_accuracy: 0.8290\n",
      "Epoch 6/50\n",
      "93/93 [==============================] - 0s 2ms/step - loss: 0.2148 - accuracy: 0.7267 - val_loss: 0.1963 - val_accuracy: 0.7463\n",
      "Epoch 7/50\n",
      "93/93 [==============================] - 0s 2ms/step - loss: 0.1990 - accuracy: 0.6955 - val_loss: 0.1834 - val_accuracy: 0.7297\n",
      "Epoch 8/50\n",
      "93/93 [==============================] - 0s 2ms/step - loss: 0.1926 - accuracy: 0.6983 - val_loss: 0.2034 - val_accuracy: 0.6856\n",
      "Epoch 9/50\n",
      "93/93 [==============================] - 0s 2ms/step - loss: 0.1933 - accuracy: 0.7115 - val_loss: 0.2337 - val_accuracy: 0.7242\n",
      "Epoch 10/50\n",
      "93/93 [==============================] - 0s 2ms/step - loss: 0.1930 - accuracy: 0.7443 - val_loss: 0.2124 - val_accuracy: 0.7778\n",
      "Epoch 11/50\n",
      "93/93 [==============================] - 0s 2ms/step - loss: 0.1953 - accuracy: 0.7518 - val_loss: 0.2044 - val_accuracy: 0.7447\n",
      "Epoch 12/50\n",
      "93/93 [==============================] - 0s 3ms/step - loss: 0.2009 - accuracy: 0.7502 - val_loss: 0.1854 - val_accuracy: 0.8038\n",
      "Epoch 13/50\n",
      "93/93 [==============================] - 0s 2ms/step - loss: 0.1888 - accuracy: 0.7677 - val_loss: 0.1934 - val_accuracy: 0.8069\n",
      "Epoch 14/50\n",
      "93/93 [==============================] - 0s 2ms/step - loss: 0.1920 - accuracy: 0.7639 - val_loss: 0.1771 - val_accuracy: 0.7833\n",
      "Epoch 15/50\n",
      "93/93 [==============================] - 0s 2ms/step - loss: 0.1906 - accuracy: 0.7476 - val_loss: 0.1799 - val_accuracy: 0.7833\n",
      "Epoch 16/50\n",
      "93/93 [==============================] - 0s 2ms/step - loss: 0.1871 - accuracy: 0.7430 - val_loss: 0.1818 - val_accuracy: 0.7786\n",
      "Epoch 17/50\n",
      "93/93 [==============================] - 0s 2ms/step - loss: 0.1836 - accuracy: 0.7704 - val_loss: 0.1753 - val_accuracy: 0.7730\n",
      "Epoch 18/50\n",
      "93/93 [==============================] - 0s 2ms/step - loss: 0.1800 - accuracy: 0.7396 - val_loss: 0.1897 - val_accuracy: 0.7628\n",
      "Epoch 19/50\n",
      "93/93 [==============================] - 0s 2ms/step - loss: 0.1929 - accuracy: 0.7744 - val_loss: 0.1906 - val_accuracy: 0.7557\n",
      "Epoch 20/50\n",
      "93/93 [==============================] - 0s 2ms/step - loss: 0.1805 - accuracy: 0.7643 - val_loss: 0.1782 - val_accuracy: 0.7825\n",
      "Epoch 21/50\n",
      "93/93 [==============================] - 0s 2ms/step - loss: 0.1770 - accuracy: 0.7838 - val_loss: 0.1968 - val_accuracy: 0.7691\n",
      "Epoch 22/50\n",
      "93/93 [==============================] - 0s 2ms/step - loss: 0.1897 - accuracy: 0.7707 - val_loss: 0.1815 - val_accuracy: 0.7533\n",
      "Epoch 23/50\n",
      "93/93 [==============================] - 0s 3ms/step - loss: 0.1876 - accuracy: 0.7721 - val_loss: 0.1733 - val_accuracy: 0.7896\n",
      "Epoch 24/50\n",
      "93/93 [==============================] - 0s 2ms/step - loss: 0.1901 - accuracy: 0.7700 - val_loss: 0.1759 - val_accuracy: 0.8652\n",
      "Epoch 25/50\n",
      "93/93 [==============================] - 0s 2ms/step - loss: 0.1744 - accuracy: 0.7932 - val_loss: 0.1862 - val_accuracy: 0.7849\n",
      "Epoch 26/50\n",
      "93/93 [==============================] - 0s 2ms/step - loss: 0.1824 - accuracy: 0.7826 - val_loss: 0.1873 - val_accuracy: 0.7518\n",
      "Epoch 27/50\n",
      "93/93 [==============================] - 0s 3ms/step - loss: 0.1857 - accuracy: 0.7587 - val_loss: 0.1742 - val_accuracy: 0.7983\n",
      "Epoch 28/50\n",
      "93/93 [==============================] - 0s 2ms/step - loss: 0.1831 - accuracy: 0.7943 - val_loss: 0.1884 - val_accuracy: 0.7368\n",
      "Epoch 29/50\n",
      "93/93 [==============================] - 0s 2ms/step - loss: 0.1946 - accuracy: 0.7669 - val_loss: 0.1782 - val_accuracy: 0.8676\n",
      "Epoch 30/50\n",
      "93/93 [==============================] - 0s 2ms/step - loss: 0.1794 - accuracy: 0.8042 - val_loss: 0.1730 - val_accuracy: 0.7983\n",
      "Epoch 31/50\n",
      "93/93 [==============================] - 0s 2ms/step - loss: 0.1777 - accuracy: 0.7683 - val_loss: 0.1736 - val_accuracy: 0.7691\n",
      "Epoch 32/50\n",
      "93/93 [==============================] - 0s 2ms/step - loss: 0.1807 - accuracy: 0.7663 - val_loss: 0.1802 - val_accuracy: 0.7549\n",
      "Epoch 33/50\n",
      "93/93 [==============================] - 0s 2ms/step - loss: 0.1801 - accuracy: 0.7911 - val_loss: 0.1886 - val_accuracy: 0.7998\n",
      "Epoch 34/50\n",
      "93/93 [==============================] - 0s 2ms/step - loss: 0.1809 - accuracy: 0.8026 - val_loss: 0.1896 - val_accuracy: 0.8172\n",
      "Epoch 35/50\n",
      "93/93 [==============================] - 0s 2ms/step - loss: 0.1864 - accuracy: 0.7733 - val_loss: 0.1977 - val_accuracy: 0.7738\n",
      "Epoch 36/50\n",
      "93/93 [==============================] - 0s 3ms/step - loss: 0.1918 - accuracy: 0.7822 - val_loss: 0.1770 - val_accuracy: 0.7242\n",
      "Epoch 37/50\n",
      "93/93 [==============================] - 0s 2ms/step - loss: 0.1769 - accuracy: 0.7908 - val_loss: 0.1694 - val_accuracy: 0.8621\n",
      "Epoch 38/50\n",
      "93/93 [==============================] - 0s 2ms/step - loss: 0.1751 - accuracy: 0.8106 - val_loss: 0.1815 - val_accuracy: 0.8385\n",
      "Epoch 39/50\n",
      "93/93 [==============================] - 0s 2ms/step - loss: 0.1793 - accuracy: 0.7860 - val_loss: 0.1731 - val_accuracy: 0.8132\n",
      "Epoch 40/50\n",
      "93/93 [==============================] - 0s 2ms/step - loss: 0.1794 - accuracy: 0.7981 - val_loss: 0.1821 - val_accuracy: 0.7983\n",
      "Epoch 41/50\n",
      "93/93 [==============================] - 0s 2ms/step - loss: 0.1791 - accuracy: 0.7969 - val_loss: 0.2002 - val_accuracy: 0.8014\n",
      "Epoch 42/50\n",
      "93/93 [==============================] - 0s 3ms/step - loss: 0.1749 - accuracy: 0.7743 - val_loss: 0.1904 - val_accuracy: 0.7715\n",
      "Epoch 43/50\n",
      "93/93 [==============================] - 0s 3ms/step - loss: 0.1775 - accuracy: 0.8224 - val_loss: 0.1723 - val_accuracy: 0.7951\n",
      "Epoch 44/50\n",
      "93/93 [==============================] - 0s 2ms/step - loss: 0.1727 - accuracy: 0.7865 - val_loss: 0.1794 - val_accuracy: 0.7226\n",
      "Epoch 45/50\n",
      "93/93 [==============================] - 0s 3ms/step - loss: 0.1753 - accuracy: 0.8135 - val_loss: 0.1754 - val_accuracy: 0.7597\n",
      "Epoch 46/50\n",
      "93/93 [==============================] - 0s 3ms/step - loss: 0.1750 - accuracy: 0.7744 - val_loss: 0.1676 - val_accuracy: 0.8006\n",
      "Epoch 47/50\n",
      "93/93 [==============================] - 0s 3ms/step - loss: 0.1883 - accuracy: 0.8412 - val_loss: 0.1714 - val_accuracy: 0.8054\n",
      "Epoch 48/50\n",
      "93/93 [==============================] - 0s 4ms/step - loss: 0.1755 - accuracy: 0.8266 - val_loss: 0.1869 - val_accuracy: 0.7234\n",
      "Epoch 49/50\n",
      "93/93 [==============================] - 0s 3ms/step - loss: 0.1851 - accuracy: 0.7939 - val_loss: 0.1740 - val_accuracy: 0.7912\n",
      "Epoch 50/50\n",
      "93/93 [==============================] - 0s 4ms/step - loss: 0.1747 - accuracy: 0.7941 - val_loss: 0.1883 - val_accuracy: 0.7597\n"
     ]
    },
    {
     "data": {
      "text/plain": [
       "<tensorflow.python.keras.callbacks.History at 0x21b93d99be0>"
      ]
     },
     "execution_count": 112,
     "metadata": {},
     "output_type": "execute_result"
    }
   ],
   "source": [
    "model = Sequential()\n",
    "\n",
    "model.add(Dense(20, input_dim=8, kernel_initializer='he_uniform', activation='relu'))\n",
    "\n",
    "for i in range(10):\n",
    "    model.add(Dense(20, activation='relu'))\n",
    "    model.add(Dense(20, activation='relu'))\n",
    "\n",
    "model.add(Dense(5, activation='sigmoid'))\n",
    "\n",
    "model.compile(loss='binary_crossentropy', optimizer='adam', metrics=['accuracy'])\n",
    "\n",
    "model.fit(X_train, y_train, verbose=1, epochs=50, validation_data=(X_test, y_test))\n"
   ]
  },
  {
   "cell_type": "code",
   "execution_count": 114,
   "metadata": {},
   "outputs": [
    {
     "name": "stdout",
     "output_type": "stream",
     "text": [
      "Accuracy: 72.1 %\n"
     ]
    }
   ],
   "source": [
    "y_pred = model.predict(X_test)\n",
    "# round probabilities to class labels\n",
    "y_pred = y_pred.round()\n",
    "# calculate accuracy\n",
    "acc = accuracy_score(y_test, y_pred)\n",
    "# store result\n",
    "print(f'Accuracy: {round(acc*100,2)} %')"
   ]
  },
  {
   "cell_type": "code",
   "execution_count": 119,
   "metadata": {},
   "outputs": [
    {
     "data": {
      "text/plain": [
       "array([[1., 0., 0., 0., 1.]], dtype=float32)"
      ]
     },
     "execution_count": 119,
     "metadata": {},
     "output_type": "execute_result"
    }
   ],
   "source": [
    "y_pred = model.predict([[25, 83, 21, 1001, 0.16, 3, 6, 52]])\n",
    "y_pred = y_pred.round()\n",
    "y_pred"
   ]
  },
  {
   "cell_type": "code",
   "execution_count": 125,
   "metadata": {},
   "outputs": [
    {
     "data": {
      "text/plain": [
       "[25.0, 83.0, 21.0, 1001.0, 0.166666666666666, 3.0, 6.2, 52.0]"
      ]
     },
     "execution_count": 125,
     "metadata": {},
     "output_type": "execute_result"
    }
   ],
   "source": [
    "# list(X_train.iloc[0].values)"
   ]
  },
  {
   "cell_type": "code",
   "execution_count": 136,
   "metadata": {},
   "outputs": [
    {
     "data": {
      "text/plain": [
       "([1.0, 0.0, 0.0, 0.0, 1.0], [1.0, 1.0, 0.0, 0.0, 1.0])"
      ]
     },
     "execution_count": 136,
     "metadata": {},
     "output_type": "execute_result"
    }
   ],
   "source": [
    "data = list(X_train.iloc[0].values)\n",
    "y_pred = model.predict([data])\n",
    "y_pred = y_pred.round()\n",
    "list(y_pred[0]), list(y_train.iloc[0].values*1.0)"
   ]
  },
  {
   "cell_type": "code",
   "execution_count": null,
   "metadata": {},
   "outputs": [],
   "source": [
    "10001 => 17  || 11001 => 25 || 10011"
   ]
  },
  {
   "cell_type": "code",
   "execution_count": null,
   "metadata": {},
   "outputs": [],
   "source": [
    "Binary relevance\n",
    "Classifier chains\n",
    "Label powerset"
   ]
  }
 ],
 "metadata": {
  "kernelspec": {
   "display_name": "Python 3",
   "language": "python",
   "name": "python3"
  },
  "language_info": {
   "codemirror_mode": {
    "name": "ipython",
    "version": 3
   },
   "file_extension": ".py",
   "mimetype": "text/x-python",
   "name": "python",
   "nbconvert_exporter": "python",
   "pygments_lexer": "ipython3",
   "version": "3.6.7"
  }
 },
 "nbformat": 4,
 "nbformat_minor": 2
}
