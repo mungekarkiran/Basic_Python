{
 "cells": [
  {
   "cell_type": "code",
   "execution_count": null,
   "id": "32856bd2",
   "metadata": {},
   "outputs": [],
   "source": [
    "!pip install cryptocode"
   ]
  },
  {
   "cell_type": "code",
   "execution_count": null,
   "id": "d6b8828a",
   "metadata": {},
   "outputs": [],
   "source": [
    "import cryptocode\n",
    "\n",
    "encoded = cryptocode.encrypt(\"mystring\",\"mypassword\")\n",
    "## And then to decode it:\n",
    "decoded = cryptocode.decrypt(encoded, \"mypassword\")"
   ]
  },
  {
   "cell_type": "code",
   "execution_count": null,
   "id": "e40f6432",
   "metadata": {},
   "outputs": [],
   "source": [
    "encoded"
   ]
  },
  {
   "cell_type": "code",
   "execution_count": null,
   "id": "008b3f0f",
   "metadata": {},
   "outputs": [],
   "source": [
    "decoded"
   ]
  },
  {
   "cell_type": "code",
   "execution_count": 1,
   "id": "03715fbd",
   "metadata": {},
   "outputs": [
    {
     "name": "stdout",
     "output_type": "stream",
     "text": [
      "rCWfNz+wizln1Gr5UKPmVG8nsXu/X7VyvspILwIeWqRuMnU=*rP7kFAO7z/9nmzvYVVbOhw==*cPrgcz3UHpL25hc4KmQQDA==*ei4gdO6g2JgYJZpZQRTYvA==\n"
     ]
    }
   ],
   "source": [
    "import cryptocode\n",
    "\n",
    "userid = 'client1'\n",
    "password = 'somepwd'\n",
    "\n",
    "secret = userid+password\n",
    "\n",
    "owner = 'superuser'\n",
    "client = 'localuser'\n",
    "\n",
    "ownpass = 'something'\n",
    "\n",
    "api1 = 'http://127.0.0.1:5000/api/get_entry'\n",
    "api2 = 'http://127.0.0.1:5000/api/get_SL'\n",
    "api3 = 'http://127.0.0.1:5000/api/get_exit'\n",
    "api4 = 'http://127.0.0.1:5000/api/trade_cut'\n",
    "\n",
    "secret_key = cryptocode.encrypt(secret,password)\n",
    "\n",
    "ownerkey = cryptocode.encrypt(owner,ownpass)\n",
    "clientkey = cryptocode.encrypt(client,ownpass)\n",
    "\n",
    "api1key = cryptocode.encrypt(api1,ownpass)\n",
    "api2key = cryptocode.encrypt(api2,ownpass)\n",
    "api3key = cryptocode.encrypt(api3,ownpass)\n",
    "api4key = cryptocode.encrypt(api4,ownpass)\n",
    "\n",
    "print(api4key)"
   ]
  },
  {
   "cell_type": "code",
   "execution_count": 2,
   "id": "1e5d7d9a",
   "metadata": {},
   "outputs": [
    {
     "name": "stdout",
     "output_type": "stream",
     "text": [
      "api1key :  U1YzY6t4UqtVl357UqprXul4DcoOuryb6W1ABEx7TlrIkfY=*R1GSSv5QmUHeNs9RugZDYw==*6Z+V1ayYf339Ud4q9+ix9Q==*NHdku+cZH7v7uICaYMFBNA==\n",
      "api2key :  JZKhLgdxjTmesXL2ty/oWIQE33/kWuomZZYLO654SDY=*GgMrRk6FGglU6EaJykyh5A==*JdLC2Z+M4f2WC7aDKi5P7A==*lUZJkIgzn4oT6dGd+iCJfw==\n",
      "api3key :  ja2XB0STp0PTTY0aye+mHZWz1Vee07DD8/iNRLGInXn6JQ==*bR7pjrfsYDQALi2UsfsH2A==*VSbncxfniQdkr4PWw1kkJw==*up4FuWK1lTXbcRsvpsjwdA==\n",
      "api4key :  rCWfNz+wizln1Gr5UKPmVG8nsXu/X7VyvspILwIeWqRuMnU=*rP7kFAO7z/9nmzvYVVbOhw==*cPrgcz3UHpL25hc4KmQQDA==*ei4gdO6g2JgYJZpZQRTYvA==\n",
      "secret_key :  1OJmShtEyw9E3TylWQs=*yd+eSHuKB7ck/QzzI0IkjA==*3SguGdCTfCucOb/iFPKOJQ==*IATAJYqL0bXFOg3kHbkcQA==\n",
      "ownerkey :  vwEbfjFfVJCf*2bcb7NVgUuE3wegJNJeeLQ==*14uQ4FeJMXdbFzfh0NlxWg==*WT7Rf3UuooA++M+YY9UicA==\n",
      "clientkey :  Ye+/pXdpAWI4*WG0wE65AF6gYmmQdiEcJRQ==*zw0lLFBewxefqVJN7a5hMg==*JHQQC6reu21P+V5T6VHlxw==\n"
     ]
    }
   ],
   "source": [
    "print('api1key : ', api1key)\n",
    "print('api2key : ', api2key)\n",
    "print('api3key : ', api3key)\n",
    "print('api4key : ', api4key)\n",
    "\n",
    "print('secret_key : ', secret_key)\n",
    "print('ownerkey : ', ownerkey)\n",
    "print('clientkey : ', clientkey)"
   ]
  },
  {
   "cell_type": "code",
   "execution_count": 3,
   "id": "d890dc4e",
   "metadata": {},
   "outputs": [],
   "source": [
    "auth = {\n",
    "    \"userid\":userid,\n",
    "    \"password\":password,\n",
    "    \"secret_key\":secret_key,\n",
    "}"
   ]
  },
  {
   "cell_type": "code",
   "execution_count": 4,
   "id": "a316c97d",
   "metadata": {},
   "outputs": [],
   "source": [
    "superapi = {\n",
    "    api1key:api1,\n",
    "    api2key:api2,\n",
    "    api3key:api3,\n",
    "    api4key:api4,\n",
    "}\n",
    "\n",
    "localapi = {\n",
    "    api1key:api1,\n",
    "    api2key:api2,\n",
    "}"
   ]
  },
  {
   "cell_type": "code",
   "execution_count": 5,
   "id": "338c0d4d",
   "metadata": {},
   "outputs": [
    {
     "name": "stdout",
     "output_type": "stream",
     "text": [
      "Enter secret key : 1OJmShtEyw9E3TylWQs=*yd+eSHuKB7ck/QzzI0IkjA==*3SguGdCTfCucOb/iFPKOJQ==*IATAJYqL0bXFOg3kHbkcQA==\n",
      "Enter user key : Ye+/pXdpAWI4*WG0wE65AF6gYmmQdiEcJRQ==*zw0lLFBewxefqVJN7a5hMg==*JHQQC6reu21P+V5T6VHlxw==\n",
      "Enter api key : U1YzY6t4UqtVl357UqprXul4DcoOuryb6W1ABEx7TlrIkfY=*R1GSSv5QmUHeNs9RugZDYw==*6Z+V1ayYf339Ud4q9+ix9Q==*NHdku+cZH7v7uICaYMFBNA==\n"
     ]
    }
   ],
   "source": [
    "x = input('Enter secret key : ')\n",
    "y = input('Enter user key : ')\n",
    "z = input('Enter api key : ')"
   ]
  },
  {
   "cell_type": "code",
   "execution_count": 6,
   "id": "a7fcf446",
   "metadata": {},
   "outputs": [
    {
     "data": {
      "text/plain": [
       "('1OJmShtEyw9E3TylWQs=*yd+eSHuKB7ck/QzzI0IkjA==*3SguGdCTfCucOb/iFPKOJQ==*IATAJYqL0bXFOg3kHbkcQA==',\n",
       " 'Ye+/pXdpAWI4*WG0wE65AF6gYmmQdiEcJRQ==*zw0lLFBewxefqVJN7a5hMg==*JHQQC6reu21P+V5T6VHlxw==',\n",
       " 'U1YzY6t4UqtVl357UqprXul4DcoOuryb6W1ABEx7TlrIkfY=*R1GSSv5QmUHeNs9RugZDYw==*6Z+V1ayYf339Ud4q9+ix9Q==*NHdku+cZH7v7uICaYMFBNA==')"
      ]
     },
     "execution_count": 6,
     "metadata": {},
     "output_type": "execute_result"
    }
   ],
   "source": [
    "x, y, z"
   ]
  },
  {
   "cell_type": "code",
   "execution_count": 7,
   "id": "64a35efc",
   "metadata": {},
   "outputs": [],
   "source": [
    "access_dict = {\n",
    "    ownerkey:owner,\n",
    "    clientkey:client\n",
    "}"
   ]
  },
  {
   "cell_type": "code",
   "execution_count": 8,
   "id": "c4fbc491",
   "metadata": {},
   "outputs": [],
   "source": [
    "p = {\"asset_name\":\"KNC-PERP\", \"service_flag\":\"backtest\"}\n",
    "\n",
    "def check(x, y, z):\n",
    "    if x == auth['secret_key']:\n",
    "        print('client authenticated')\n",
    "        if access_dict[y] == 'superuser':\n",
    "            print('you are super user')\n",
    "            # for get_entry\n",
    "            param = p\n",
    "\n",
    "            response = requests.post(superapi[z] ,json=param)\n",
    "\n",
    "            print(' -- > ', response.json())\n",
    "        else:\n",
    "            print('you are normal user')\n",
    "            # for get_entry\n",
    "            param = p\n",
    "\n",
    "            response = requests.post(localapi[z] ,json=param)\n",
    "\n",
    "            print(' -- > ', response.json())\n",
    "            \n",
    "    else:\n",
    "        print('client auth failed')"
   ]
  },
  {
   "cell_type": "code",
   "execution_count": 9,
   "id": "8f50a521",
   "metadata": {
    "scrolled": false
   },
   "outputs": [
    {
     "name": "stdout",
     "output_type": "stream",
     "text": [
      "client authenticated\n",
      "you are normal user\n",
      " -- >  {'asset_name': 'KNC-PERP', 'entry_close': 1.9243000000000001, 'entry_date': '2022-06-05 16:08:00'}\n"
     ]
    }
   ],
   "source": [
    "import requests, json\n",
    "\n",
    "check(x,y,z)"
   ]
  },
  {
   "cell_type": "code",
   "execution_count": null,
   "id": "ff5401ef",
   "metadata": {},
   "outputs": [],
   "source": []
  }
 ],
 "metadata": {
  "kernelspec": {
   "display_name": "Python 3 (ipykernel)",
   "language": "python",
   "name": "python3"
  },
  "language_info": {
   "codemirror_mode": {
    "name": "ipython",
    "version": 3
   },
   "file_extension": ".py",
   "mimetype": "text/x-python",
   "name": "python",
   "nbconvert_exporter": "python",
   "pygments_lexer": "ipython3",
   "version": "3.8.10"
  }
 },
 "nbformat": 4,
 "nbformat_minor": 5
}
