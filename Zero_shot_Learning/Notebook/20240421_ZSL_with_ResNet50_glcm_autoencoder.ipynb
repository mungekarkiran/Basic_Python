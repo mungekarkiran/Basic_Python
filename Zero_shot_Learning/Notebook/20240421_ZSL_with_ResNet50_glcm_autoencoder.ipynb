{
 "cells": [
  {
   "cell_type": "markdown",
   "id": "65cce1cf",
   "metadata": {},
   "source": [
    "# Create animals list"
   ]
  },
  {
   "cell_type": "code",
   "execution_count": 31,
   "id": "52574876",
   "metadata": {},
   "outputs": [],
   "source": [
    "import os, re\n",
    "\n",
    "animals = []\n",
    "\n",
    "file_path = os.path.join('..', 'Dataset', 'artefact1', 'classes.txt')\n",
    "if os.path.exists(file_path):\n",
    "    data = open(file_path, \"r\")\n",
    "    for i in data:\n",
    "        if len(re.findall(\"[a-zA-Z]+\", i)) > 1:\n",
    "            animals.extend(re.findall(\"[a-zA-Z]+\", i))\n",
    "            animals.append(re.findall(\"[a-zA-Z]+\", i)[0] + ' ' + re.findall(\"[a-zA-Z]+\", i)[1])\n",
    "            animals.append(re.findall(\"[a-zA-Z]+\", i)[0] + '_' + re.findall(\"[a-zA-Z]+\", i)[1])\n",
    "        else:\n",
    "            animals.append(re.findall(\"[a-zA-Z]+\", i)[0])\n",
    "            \n",
    "more_animals = ['african_buffalo', 'alligator', 'amphibian', 'amur_leopard', 'ants', 'bear', \n",
    "                'blue_whale', 'bobcat', 'bull', 'cat', 'chimp', 'chimpanzee', 'cow', 'dog', \n",
    "                'dolphin', 'water_buffalo', 'elephant', 'frog', 'giant', 'giant_panda', \n",
    "                'goat', 'gorilla', 'horse', 'killer_whale', 'lion', 'lizard', 'monkey', \n",
    "                'mouse', 'orangutan', 'ox', 'panda', 'polar_bear', 'rabbit', 'rat', 'rhino', \n",
    "                'rhinoceros', 'seal', 'siamese_cat', 'skunk', 'spider_monkey', 'squirrel', \n",
    "                'tiger', 'turtle', 'walrus', 'whale']\n",
    "for i in more_animals:\n",
    "    if len(re.findall(\"[a-zA-Z]+\", i)) > 1:\n",
    "        if re.findall(\"[a-zA-Z]+\", i)[0] not in animals:\n",
    "            animals.append(re.findall(\"[a-zA-Z]+\", i)[0])\n",
    "            if re.findall(\"[a-zA-Z]+\", i)[1] not in animals:\n",
    "                animals.append(re.findall(\"[a-zA-Z]+\", i)[1])\n",
    "                if re.findall(\"[a-zA-Z]+\", i)[0] + '_' + re.findall(\"[a-zA-Z]+\", i)[1] not in animals:\n",
    "                    animals.append(re.findall(\"[a-zA-Z]+\", i)[0] + ' ' + re.findall(\"[a-zA-Z]+\", i)[1])\n",
    "                    animals.append(re.findall(\"[a-zA-Z]+\", i)[0] + '_' + re.findall(\"[a-zA-Z]+\", i)[1])\n",
    "    else:\n",
    "        if re.findall(\"[a-zA-Z]+\", i)[0] not in animals:\n",
    "            animals.append(re.findall(\"[a-zA-Z]+\", i)[0])\n",
    "\n",
    "file_path = os.path.join('..', 'Dataset', 'artefact1', 'animals.txt')\n",
    "f = open(file_path, \"a\")\n",
    "for i in animals:\n",
    "    f.write(i)\n",
    "    f.write('\\n')\n",
    "f.close()"
   ]
  },
  {
   "cell_type": "markdown",
   "id": "8fd4e583",
   "metadata": {},
   "source": [
    "# Autoencoder"
   ]
  },
  {
   "cell_type": "code",
   "execution_count": 36,
   "id": "9c9b78f0",
   "metadata": {},
   "outputs": [],
   "source": [
    "import numpy as np\n",
    "import urllib.request\n",
    "from gensim.utils import simple_preprocess\n",
    "\n",
    "# Download GloVe embeddings\n",
    "# glove_url = \"http://nlp.stanford.edu/data/glove.6B.zip\"\n",
    "# urllib.request.urlretrieve(glove_url, \"glove.6B.zip\")\n",
    "\n",
    "# import zipfile\n",
    "# with zipfile.ZipFile(\"glove.6B.zip\", \"r\") as zip_ref:\n",
    "#     zip_ref.extractall(\"glove.6B\")"
   ]
  },
  {
   "cell_type": "code",
   "execution_count": 44,
   "id": "201f201a",
   "metadata": {},
   "outputs": [
    {
     "name": "stdout",
     "output_type": "stream",
     "text": [
      "embeddings_index : <class 'dict'> \n",
      "\n",
      "sentence_embeddings : <class 'numpy.ndarray'> \n",
      "\n"
     ]
    }
   ],
   "source": [
    "# Example custom dataset\n",
    "# custom_sentences = [\n",
    "#     'african_buffalo', 'alligator', 'amphibian', 'amur_leopard', \n",
    "#     'ants', 'bear', 'bird', 'blue_whale', 'bobcat', 'cat', 'chimp', \n",
    "#     'chimpanzee', 'cow', 'dog', 'dolphin', 'domestic_water_buffalo', \n",
    "#     'eagle', 'elephant', 'fish', 'frog', 'giant', 'giant_panda', 'goat', \n",
    "#     'gorilla', 'hen', 'horse', 'killer_whale', 'lion', 'lizard', 'monkey', \n",
    "#     'mouse', 'orangutan', 'ostrich', 'ox', 'panda', 'polar_bear', 'rabbit', \n",
    "#     'rat', 'rhino', 'rhinoceros', 'rhinoceroses', 'seal', 'sealskin', \n",
    "#     'siamese_cat', 'skunk', 'spider_monkey', 'squirrel', 'tiger', 'turtle', \n",
    "#     'walrus', 'whale', 'bird', 'fish', 'lion', 'tiger', 'bull'\n",
    "# ]\n",
    "animals_list_file_path = os.path.join('..', 'Dataset', 'artefact1', 'animals.txt')\n",
    "with open(animals_list_file_path, \"r\") as f:\n",
    "    custom_sentences = [line[:-1] for line in f]\n",
    "\n",
    "# Load GloVe embeddings\n",
    "def load_glove_embeddings(file_path):\n",
    "    embeddings_index = {}\n",
    "    with open(file_path, 'r', encoding='utf8') as f:\n",
    "        for line in f:\n",
    "            values = line.split()\n",
    "            word = values[0]\n",
    "            coefs = np.asarray(values[1:], dtype='float32')\n",
    "            embeddings_index[word] = coefs\n",
    "    return embeddings_index\n",
    "\n",
    "embeddings_index = load_glove_embeddings(\"glove.6B/glove.6B.300d.txt\")  # Using 50d GloVe embeddings\n",
    "print(f\"embeddings_index : {type(embeddings_index)} \\n\")\n",
    "\n",
    "# Convert sentences to embeddings\n",
    "def sentence_to_embedding(sentence, embeddings_index):\n",
    "    words = simple_preprocess(sentence)\n",
    "    valid_words = [embeddings_index[word] for word in words if word in embeddings_index]\n",
    "    if valid_words:\n",
    "        return np.mean(valid_words, axis=0)\n",
    "    else:\n",
    "        return np.zeros(300) # Using 50d GloVe embeddings\n",
    "\n",
    "sentence_embeddings = np.array([sentence_to_embedding(sentence, embeddings_index) for sentence in custom_sentences])\n",
    "print(f\"sentence_embeddings : {type(sentence_embeddings)} \\n\")"
   ]
  },
  {
   "cell_type": "code",
   "execution_count": 45,
   "id": "5c1cd791",
   "metadata": {},
   "outputs": [
    {
     "name": "stdout",
     "output_type": "stream",
     "text": [
      "WARNING:tensorflow:From C:\\ProjectWork\\Basic_Python\\Zero_shot_Learning\\venv_zsl\\lib\\site-packages\\keras\\src\\backend.py:1398: The name tf.executing_eagerly_outside_functions is deprecated. Please use tf.compat.v1.executing_eagerly_outside_functions instead.\n",
      "\n",
      "WARNING:tensorflow:From C:\\ProjectWork\\Basic_Python\\Zero_shot_Learning\\venv_zsl\\lib\\site-packages\\keras\\src\\optimizers\\__init__.py:309: The name tf.train.Optimizer is deprecated. Please use tf.compat.v1.train.Optimizer instead.\n",
      "\n"
     ]
    }
   ],
   "source": [
    "from tensorflow.keras.models import Model\n",
    "from tensorflow.keras.layers import Input, Dense\n",
    "\n",
    "# Define the size of the input and latent space\n",
    "input_dim = 300 # 50  # Dimension of GloVe embeddings\n",
    "latent_dim = 16  # Dimension of latent space\n",
    "\n",
    "# Input layer\n",
    "input_layer = Input(shape=(input_dim,))\n",
    "\n",
    "# Encoder layers\n",
    "encoded = Dense(32, activation='relu')(input_layer)\n",
    "encoded = Dense(latent_dim, activation='relu')(encoded)\n",
    "\n",
    "# Decoder layers\n",
    "decoded = Dense(32, activation='relu')(encoded)\n",
    "decoded = Dense(input_dim, activation='sigmoid')(decoded)\n",
    "\n",
    "# Autoencoder model\n",
    "autoencoder = Model(input_layer, decoded)\n",
    "\n",
    "# Encoder model\n",
    "encoder = Model(input_layer, encoded)\n",
    "\n",
    "# Compile the autoencoder\n",
    "autoencoder.compile(optimizer='adam', loss='mse')\n"
   ]
  },
  {
   "cell_type": "code",
   "execution_count": 48,
   "id": "56a8e346",
   "metadata": {},
   "outputs": [
    {
     "name": "stdout",
     "output_type": "stream",
     "text": [
      "Model: \"model\"\n",
      "_________________________________________________________________\n",
      " Layer (type)                Output Shape              Param #   \n",
      "=================================================================\n",
      " input_1 (InputLayer)        [(None, 300)]             0         \n",
      "                                                                 \n",
      " dense (Dense)               (None, 32)                9632      \n",
      "                                                                 \n",
      " dense_1 (Dense)             (None, 16)                528       \n",
      "                                                                 \n",
      " dense_2 (Dense)             (None, 32)                544       \n",
      "                                                                 \n",
      " dense_3 (Dense)             (None, 300)               9900      \n",
      "                                                                 \n",
      "=================================================================\n",
      "Total params: 20604 (80.48 KB)\n",
      "Trainable params: 20604 (80.48 KB)\n",
      "Non-trainable params: 0 (0.00 Byte)\n",
      "_________________________________________________________________\n"
     ]
    }
   ],
   "source": [
    "autoencoder.summary() "
   ]
  },
  {
   "cell_type": "code",
   "execution_count": 65,
   "id": "649400ff",
   "metadata": {
    "scrolled": true
   },
   "outputs": [
    {
     "name": "stdout",
     "output_type": "stream",
     "text": [
      "Epoch 1/50\n",
      "16/16 [==============================] - 0s 8ms/step - loss: 0.0687 - val_loss: 0.1275\n",
      "Epoch 2/50\n",
      "16/16 [==============================] - 0s 4ms/step - loss: 0.0684 - val_loss: 0.1272\n",
      "Epoch 3/50\n",
      "16/16 [==============================] - 0s 4ms/step - loss: 0.0683 - val_loss: 0.1273\n",
      "Epoch 4/50\n",
      "16/16 [==============================] - 0s 4ms/step - loss: 0.0683 - val_loss: 0.1273\n",
      "Epoch 5/50\n",
      "16/16 [==============================] - 0s 5ms/step - loss: 0.0682 - val_loss: 0.1273\n",
      "Epoch 6/50\n",
      "16/16 [==============================] - 0s 5ms/step - loss: 0.0682 - val_loss: 0.1273\n",
      "Epoch 7/50\n",
      "16/16 [==============================] - 0s 4ms/step - loss: 0.0682 - val_loss: 0.1272\n",
      "Epoch 8/50\n",
      "16/16 [==============================] - 0s 5ms/step - loss: 0.0682 - val_loss: 0.1273\n",
      "Epoch 9/50\n",
      "16/16 [==============================] - 0s 4ms/step - loss: 0.0682 - val_loss: 0.1273\n",
      "Epoch 10/50\n",
      "16/16 [==============================] - 0s 4ms/step - loss: 0.0682 - val_loss: 0.1273\n",
      "Epoch 11/50\n",
      "16/16 [==============================] - 0s 5ms/step - loss: 0.0682 - val_loss: 0.1273\n",
      "Epoch 12/50\n",
      "16/16 [==============================] - 0s 4ms/step - loss: 0.0682 - val_loss: 0.1273\n",
      "Epoch 13/50\n",
      "16/16 [==============================] - 0s 5ms/step - loss: 0.0682 - val_loss: 0.1273\n",
      "Epoch 14/50\n",
      "16/16 [==============================] - 0s 4ms/step - loss: 0.0682 - val_loss: 0.1274\n",
      "Epoch 15/50\n",
      "16/16 [==============================] - 0s 4ms/step - loss: 0.0682 - val_loss: 0.1274\n",
      "Epoch 16/50\n",
      "16/16 [==============================] - 0s 4ms/step - loss: 0.0682 - val_loss: 0.1274\n",
      "Epoch 17/50\n",
      "16/16 [==============================] - 0s 4ms/step - loss: 0.0682 - val_loss: 0.1274\n",
      "Epoch 18/50\n",
      "16/16 [==============================] - 0s 4ms/step - loss: 0.0682 - val_loss: 0.1274\n",
      "Epoch 19/50\n",
      "16/16 [==============================] - 0s 4ms/step - loss: 0.0682 - val_loss: 0.1274\n",
      "Epoch 20/50\n",
      "16/16 [==============================] - 0s 4ms/step - loss: 0.0682 - val_loss: 0.1275\n",
      "Epoch 21/50\n",
      "16/16 [==============================] - 0s 4ms/step - loss: 0.0682 - val_loss: 0.1275\n",
      "Epoch 22/50\n",
      "16/16 [==============================] - 0s 4ms/step - loss: 0.0682 - val_loss: 0.1275\n",
      "Epoch 23/50\n",
      "16/16 [==============================] - 0s 4ms/step - loss: 0.0682 - val_loss: 0.1275\n",
      "Epoch 24/50\n",
      "16/16 [==============================] - 0s 4ms/step - loss: 0.0682 - val_loss: 0.1275\n",
      "Epoch 25/50\n",
      "16/16 [==============================] - 0s 4ms/step - loss: 0.0682 - val_loss: 0.1275\n",
      "Epoch 26/50\n",
      "16/16 [==============================] - 0s 4ms/step - loss: 0.0682 - val_loss: 0.1276\n",
      "Epoch 27/50\n",
      "16/16 [==============================] - 0s 5ms/step - loss: 0.0681 - val_loss: 0.1276\n",
      "Epoch 28/50\n",
      "16/16 [==============================] - 0s 4ms/step - loss: 0.0682 - val_loss: 0.1276\n",
      "Epoch 29/50\n",
      "16/16 [==============================] - 0s 4ms/step - loss: 0.0681 - val_loss: 0.1276\n",
      "Epoch 30/50\n",
      "16/16 [==============================] - 0s 4ms/step - loss: 0.0681 - val_loss: 0.1276\n",
      "Epoch 31/50\n",
      "16/16 [==============================] - 0s 4ms/step - loss: 0.0681 - val_loss: 0.1276\n",
      "Epoch 32/50\n",
      "16/16 [==============================] - 0s 4ms/step - loss: 0.0681 - val_loss: 0.1277\n",
      "Epoch 33/50\n",
      "16/16 [==============================] - 0s 4ms/step - loss: 0.0681 - val_loss: 0.1276\n",
      "Epoch 34/50\n",
      "16/16 [==============================] - 0s 4ms/step - loss: 0.0681 - val_loss: 0.1277\n",
      "Epoch 35/50\n",
      "16/16 [==============================] - 0s 4ms/step - loss: 0.0681 - val_loss: 0.1277\n",
      "Epoch 36/50\n",
      "16/16 [==============================] - 0s 4ms/step - loss: 0.0681 - val_loss: 0.1277\n",
      "Epoch 37/50\n",
      "16/16 [==============================] - 0s 6ms/step - loss: 0.0681 - val_loss: 0.1277\n",
      "Epoch 38/50\n",
      "16/16 [==============================] - 0s 4ms/step - loss: 0.0681 - val_loss: 0.1277\n",
      "Epoch 39/50\n",
      "16/16 [==============================] - 0s 4ms/step - loss: 0.0681 - val_loss: 0.1278\n",
      "Epoch 40/50\n",
      "16/16 [==============================] - 0s 4ms/step - loss: 0.0681 - val_loss: 0.1278\n",
      "Epoch 41/50\n",
      "16/16 [==============================] - 0s 5ms/step - loss: 0.0681 - val_loss: 0.1278\n",
      "Epoch 42/50\n",
      "16/16 [==============================] - 0s 4ms/step - loss: 0.0681 - val_loss: 0.1278\n",
      "Epoch 43/50\n",
      "16/16 [==============================] - 0s 4ms/step - loss: 0.0681 - val_loss: 0.1278\n",
      "Epoch 44/50\n",
      "16/16 [==============================] - 0s 4ms/step - loss: 0.0681 - val_loss: 0.1278\n",
      "Epoch 45/50\n",
      "16/16 [==============================] - 0s 4ms/step - loss: 0.0681 - val_loss: 0.1278\n",
      "Epoch 46/50\n",
      "16/16 [==============================] - 0s 4ms/step - loss: 0.0681 - val_loss: 0.1278\n",
      "Epoch 47/50\n",
      "16/16 [==============================] - 0s 5ms/step - loss: 0.0681 - val_loss: 0.1279\n",
      "Epoch 48/50\n",
      "16/16 [==============================] - 0s 4ms/step - loss: 0.0681 - val_loss: 0.1279\n",
      "Epoch 49/50\n",
      "16/16 [==============================] - 0s 4ms/step - loss: 0.0681 - val_loss: 0.1279\n",
      "Epoch 50/50\n",
      "16/16 [==============================] - 0s 4ms/step - loss: 0.0681 - val_loss: 0.1279\n"
     ]
    },
    {
     "data": {
      "text/plain": [
       "<keras.src.callbacks.History at 0x1e502a4e950>"
      ]
     },
     "execution_count": 65,
     "metadata": {},
     "output_type": "execute_result"
    }
   ],
   "source": [
    "# Train the autoencoder\n",
    "autoencoder.fit(sentence_embeddings, sentence_embeddings, epochs=50, batch_size=5, shuffle=True, validation_split=0.2)"
   ]
  },
  {
   "cell_type": "code",
   "execution_count": 66,
   "id": "fa5f715f",
   "metadata": {},
   "outputs": [
    {
     "data": {
      "image/png": "[encoded data removed]",
      "text/plain": [
       "<Figure size 640x480 with 1 Axes>"
      ]
     },
     "metadata": {},
     "output_type": "display_data"
    }
   ],
   "source": [
    "import matplotlib.pyplot as plt\n",
    "\n",
    "# summarize history for loss\n",
    "plt.plot(autoencoder.history.history['loss'])\n",
    "plt.plot(autoencoder.history.history['val_loss'])\n",
    "plt.title('model loss')\n",
    "plt.ylabel('loss')\n",
    "plt.xlabel('epoch')\n",
    "plt.legend(['train', 'test'], loc='upper left')\n",
    "plt.show()"
   ]
  },
  {
   "cell_type": "code",
   "execution_count": 67,
   "id": "ea0028c0",
   "metadata": {},
   "outputs": [
    {
     "name": "stdout",
     "output_type": "stream",
     "text": [
      "3/3 [==============================] - 0s 4ms/step\n"
     ]
    }
   ],
   "source": [
    "# Encode sentences to get their latent representations\n",
    "sentence_latents = encoder.predict(sentence_embeddings)\n",
    "# print(f\"sentence_latents : {sentence_latents}\")\n",
    "\n",
    "# Create a dictionary to map sentences to their latent representations\n",
    "sentence_to_latent = {i: sentence_latents[i] for i in range(len(custom_sentences))}\n",
    "# print(f\"sentence_to_latent : {sentence_to_latent}\")"
   ]
  },
  {
   "cell_type": "code",
   "execution_count": 68,
   "id": "30350c30",
   "metadata": {
    "scrolled": true
   },
   "outputs": [
    {
     "data": {
      "text/plain": [
       "(array([8.0372    , 4.5084567 , 4.340227  , 0.        , 0.34305197,\n",
       "        5.381548  , 3.1030684 , 5.6626935 , 2.590073  , 0.        ,\n",
       "        0.        , 3.3931522 , 2.9133062 , 0.        , 0.        ,\n",
       "        0.        ], dtype=float32),\n",
       " 'cat')"
      ]
     },
     "execution_count": 68,
     "metadata": {},
     "output_type": "execute_result"
    }
   ],
   "source": [
    "sentence_to_latent[12], custom_sentences[12]"
   ]
  },
  {
   "cell_type": "code",
   "execution_count": 69,
   "id": "69470688",
   "metadata": {},
   "outputs": [
    {
     "data": {
      "text/plain": [
       "['antelope',\n",
       " 'grizzly',\n",
       " 'bear',\n",
       " 'grizzly bear',\n",
       " 'grizzly_bear',\n",
       " 'killer',\n",
       " 'whale',\n",
       " 'killer whale',\n",
       " 'killer_whale',\n",
       " 'beaver',\n",
       " 'dalmatian',\n",
       " 'persian',\n",
       " 'cat',\n",
       " 'persian cat',\n",
       " 'persian_cat',\n",
       " 'horse',\n",
       " 'german',\n",
       " 'shepherd',\n",
       " 'german shepherd',\n",
       " 'german_shepherd',\n",
       " 'blue',\n",
       " 'whale',\n",
       " 'blue whale',\n",
       " 'blue_whale',\n",
       " 'siamese',\n",
       " 'cat',\n",
       " 'siamese cat',\n",
       " 'siamese_cat',\n",
       " 'skunk',\n",
       " 'mole',\n",
       " 'tiger',\n",
       " 'hippopotamus',\n",
       " 'leopard',\n",
       " 'moose',\n",
       " 'spider',\n",
       " 'monkey',\n",
       " 'spider monkey',\n",
       " 'spider_monkey',\n",
       " 'humpback',\n",
       " 'whale',\n",
       " 'humpback whale',\n",
       " 'humpback_whale',\n",
       " 'elephant',\n",
       " 'gorilla',\n",
       " 'ox',\n",
       " 'fox',\n",
       " 'sheep',\n",
       " 'seal',\n",
       " 'chimpanzee',\n",
       " 'hamster',\n",
       " 'squirrel',\n",
       " 'rhinoceros',\n",
       " 'rabbit',\n",
       " 'bat',\n",
       " 'giraffe',\n",
       " 'wolf',\n",
       " 'chihuahua',\n",
       " 'rat',\n",
       " 'weasel',\n",
       " 'otter',\n",
       " 'buffalo',\n",
       " 'zebra',\n",
       " 'giant',\n",
       " 'panda',\n",
       " 'giant panda',\n",
       " 'giant_panda',\n",
       " 'deer',\n",
       " 'bobcat',\n",
       " 'pig',\n",
       " 'lion',\n",
       " 'mouse',\n",
       " 'polar',\n",
       " 'bear',\n",
       " 'polar bear',\n",
       " 'polar_bear',\n",
       " 'collie',\n",
       " 'walrus',\n",
       " 'raccoon',\n",
       " 'cow',\n",
       " 'dolphin',\n",
       " 'african',\n",
       " 'alligator',\n",
       " 'amphibian',\n",
       " 'amur',\n",
       " 'ants',\n",
       " 'bull',\n",
       " 'chimp',\n",
       " 'dog',\n",
       " 'water',\n",
       " 'frog',\n",
       " 'goat',\n",
       " 'lizard',\n",
       " 'orangutan',\n",
       " 'rhino',\n",
       " 'turtle']"
      ]
     },
     "execution_count": 69,
     "metadata": {},
     "output_type": "execute_result"
    }
   ],
   "source": [
    "custom_sentences"
   ]
  },
  {
   "cell_type": "code",
   "execution_count": 70,
   "id": "b4c4a563",
   "metadata": {},
   "outputs": [
    {
     "name": "stdout",
     "output_type": "stream",
     "text": [
      "Most similar sentences to the first sentence:\n",
      "Sentence: grizzly_bear - Similarity: 1\n",
      "Sentence: persian_cat - Similarity: 1\n",
      "Sentence: german_shepherd - Similarity: 1\n",
      "Sentence: blue_whale - Similarity: 1\n",
      "Sentence: siamese_cat - Similarity: 1\n",
      "Sentence: spider_monkey - Similarity: 1\n",
      "Sentence: humpback_whale - Similarity: 1\n",
      "Sentence: giant_panda - Similarity: 1\n",
      "Sentence: polar_bear - Similarity: 1\n",
      "Sentence: water - Similarity: 0.9901264309883118\n"
     ]
    }
   ],
   "source": [
    "from scipy.spatial.distance import cosine\n",
    "\n",
    "def find_similar_sentences(target_sentence_index, sentence_to_latent, top_n=10):\n",
    "    target_latent = sentence_to_latent[target_sentence_index]\n",
    "    similarities = []\n",
    "    for index, latent in sentence_to_latent.items():\n",
    "        if index != target_sentence_index:\n",
    "            similarity = 1 - cosine(target_latent, latent)\n",
    "            similarities.append((index, similarity))\n",
    "    similarities.sort(key=lambda x: x[1], reverse=True)\n",
    "    return similarities[:top_n]\n",
    "\n",
    "# Find sentences similar to the first sentence\n",
    "similar_sentences = find_similar_sentences(8, sentence_to_latent)\n",
    "print(\"Most similar sentences to the first sentence:\")\n",
    "for index, score in similar_sentences:\n",
    "    print(f\"Sentence: {custom_sentences[index]} - Similarity: {score}\")\n"
   ]
  },
  {
   "cell_type": "code",
   "execution_count": null,
   "id": "4f53bd14",
   "metadata": {},
   "outputs": [],
   "source": []
  }
 ],
 "metadata": {
  "kernelspec": {
   "display_name": "Python 3 (ipykernel)",
   "language": "python",
   "name": "python3"
  },
  "language_info": {
   "codemirror_mode": {
    "name": "ipython",
    "version": 3
   },
   "file_extension": ".py",
   "mimetype": "text/x-python",
   "name": "python",
   "nbconvert_exporter": "python",
   "pygments_lexer": "ipython3",
   "version": "3.10.11"
  }
 },
 "nbformat": 4,
 "nbformat_minor": 5
}
