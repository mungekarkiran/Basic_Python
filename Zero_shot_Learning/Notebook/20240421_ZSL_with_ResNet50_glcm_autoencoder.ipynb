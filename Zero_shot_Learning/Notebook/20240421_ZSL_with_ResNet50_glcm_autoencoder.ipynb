{
 "cells": [
  {
   "cell_type": "markdown",
   "id": "8fd4e583",
   "metadata": {},
   "source": [
    "# Autoencoder"
   ]
  },
  {
   "cell_type": "code",
   "execution_count": 2,
   "id": "9c9b78f0",
   "metadata": {},
   "outputs": [],
   "source": [
    "import numpy as np\n",
    "import urllib.request\n",
    "from gensim.utils import simple_preprocess\n",
    "\n",
    "# Download GloVe embeddings\n",
    "# glove_url = \"http://nlp.stanford.edu/data/glove.6B.zip\"\n",
    "# urllib.request.urlretrieve(glove_url, \"glove.6B.zip\")\n",
    "\n",
    "# import zipfile\n",
    "# with zipfile.ZipFile(\"glove.6B.zip\", \"r\") as zip_ref:\n",
    "#     zip_ref.extractall(\"glove.6B\")"
   ]
  },
  {
   "cell_type": "code",
   "execution_count": null,
   "id": "201f201a",
   "metadata": {},
   "outputs": [],
   "source": [
    "# Example custom dataset\n",
    "custom_sentences = [\n",
    "    'african_buffalo', 'alligator', 'amphibian', 'amur_leopard', \n",
    "    'ants', 'bear', 'bird', 'blue_whale', 'bobcat', 'cat', 'chimp', \n",
    "    'chimpanzee', 'cow', 'dog', 'dolphin', 'domestic_water_buffalo', \n",
    "    'eagle', 'elephant', 'fish', 'frog', 'giant', 'giant_panda', 'goat', \n",
    "    'gorilla', 'hen', 'horse', 'killer_whale', 'lion', 'lizard', 'monkey', \n",
    "    'mouse', 'orangutan', 'ostrich', 'ox', 'panda', 'polar_bear', 'rabbit', \n",
    "    'rat', 'rhino', 'rhinoceros', 'rhinoceroses', 'seal', 'sealskin', \n",
    "    'siamese_cat', 'skunk', 'spider_monkey', 'squirrel', 'tiger', 'turtle', \n",
    "    'walrus', 'whale', 'bird', 'fish', 'lion', 'tiger', 'bull'\n",
    "]\n",
    "\n",
    "# Load GloVe embeddings\n",
    "def load_glove_embeddings(file_path):\n",
    "    embeddings_index = {}\n",
    "    with open(file_path, 'r', encoding='utf8') as f:\n",
    "        for line in f:\n",
    "            values = line.split()\n",
    "            word = values[0]\n",
    "            coefs = np.asarray(values[1:], dtype='float32')\n",
    "            embeddings_index[word] = coefs\n",
    "    return embeddings_index\n",
    "\n",
    "embeddings_index = load_glove_embeddings(\"glove.6B/glove.6B.50d.txt\")  # Using 50d GloVe embeddings\n",
    "print(f\"embeddings_index : {type(embeddings_index)} \\n\")\n",
    "\n",
    "# Convert sentences to embeddings\n",
    "def sentence_to_embedding(sentence, embeddings_index):\n",
    "    words = simple_preprocess(sentence)\n",
    "    valid_words = [embeddings_index[word] for word in words if word in embeddings_index]\n",
    "    if valid_words:\n",
    "        return np.mean(valid_words, axis=0)\n",
    "    else:\n",
    "        return np.zeros(50)\n",
    "\n",
    "sentence_embeddings = np.array([sentence_to_embedding(sentence, embeddings_index) for sentence in custom_sentences])\n",
    "print(f\"sentence_embeddings : {type(embeddings_index)} \\n\")"
   ]
  },
  {
   "cell_type": "code",
   "execution_count": null,
   "id": "5c1cd791",
   "metadata": {},
   "outputs": [],
   "source": []
  },
  {
   "cell_type": "code",
   "execution_count": 5,
   "id": "649400ff",
   "metadata": {},
   "outputs": [
    {
     "data": {
      "text/plain": [
       "['african_buffalo',\n",
       " 'alligator',\n",
       " 'amphibian',\n",
       " 'amur_leopard',\n",
       " 'ants',\n",
       " 'bear',\n",
       " 'bird',\n",
       " 'blue_whale',\n",
       " 'bobcat',\n",
       " 'bull',\n",
       " 'cat',\n",
       " 'chimp',\n",
       " 'chimpanzee',\n",
       " 'cow',\n",
       " 'dog',\n",
       " 'dolphin',\n",
       " 'domestic_water_buffalo',\n",
       " 'eagle',\n",
       " 'elephant',\n",
       " 'fish',\n",
       " 'frog',\n",
       " 'giant',\n",
       " 'giant_panda',\n",
       " 'goat',\n",
       " 'gorilla',\n",
       " 'hen',\n",
       " 'horse',\n",
       " 'killer_whale',\n",
       " 'lion',\n",
       " 'lizard',\n",
       " 'monkey',\n",
       " 'mouse',\n",
       " 'orangutan',\n",
       " 'ostrich',\n",
       " 'ox',\n",
       " 'panda',\n",
       " 'polar_bear',\n",
       " 'rabbit',\n",
       " 'rat',\n",
       " 'rhino',\n",
       " 'rhinoceros',\n",
       " 'rhinoceroses',\n",
       " 'seal',\n",
       " 'sealskin',\n",
       " 'siamese_cat',\n",
       " 'skunk',\n",
       " 'spider_monkey',\n",
       " 'squirrel',\n",
       " 'tiger',\n",
       " 'turtle',\n",
       " 'walrus',\n",
       " 'whale']"
      ]
     },
     "execution_count": 5,
     "metadata": {},
     "output_type": "execute_result"
    }
   ],
   "source": [
    "l1 = set([\n",
    "    'african_buffalo', 'alligator', 'amphibian', 'amur_leopard', \n",
    "    'ants', 'bear', 'bird', 'blue_whale', 'bobcat', 'cat', 'chimp', \n",
    "    'chimpanzee', 'cow', 'dog', 'dolphin', 'domestic_water_buffalo', \n",
    "    'eagle', 'elephant', 'fish', 'frog', 'giant', 'giant_panda', 'goat', \n",
    "    'gorilla', 'hen', 'horse', 'killer_whale', 'lion', 'lizard', 'monkey', \n",
    "    'mouse', 'orangutan', 'ostrich', 'ox', 'panda', 'polar_bear', 'rabbit', \n",
    "    'rat', 'rhino', 'rhinoceros', 'rhinoceroses', 'seal', 'sealskin', \n",
    "    'siamese_cat', 'skunk', 'spider_monkey', 'squirrel', 'tiger', 'turtle', \n",
    "    'walrus', 'whale', 'bird', 'fish', 'lion', 'tiger', 'bull'\n",
    "])\n",
    "\n",
    "l1 = list(l1)\n",
    "\n",
    "sorted(l1)"
   ]
  },
  {
   "cell_type": "code",
   "execution_count": null,
   "id": "52574876",
   "metadata": {},
   "outputs": [],
   "source": []
  },
  {
   "cell_type": "code",
   "execution_count": null,
   "id": "fa5f715f",
   "metadata": {},
   "outputs": [],
   "source": []
  }
 ],
 "metadata": {
  "kernelspec": {
   "display_name": "Python 3 (ipykernel)",
   "language": "python",
   "name": "python3"
  },
  "language_info": {
   "codemirror_mode": {
    "name": "ipython",
    "version": 3
   },
   "file_extension": ".py",
   "mimetype": "text/x-python",
   "name": "python",
   "nbconvert_exporter": "python",
   "pygments_lexer": "ipython3",
   "version": "3.10.11"
  }
 },
 "nbformat": 4,
 "nbformat_minor": 5
}
