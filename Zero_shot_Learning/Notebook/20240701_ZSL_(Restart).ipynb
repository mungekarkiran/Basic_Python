{
 "cells": [
  {
   "cell_type": "markdown",
   "id": "aaedca56",
   "metadata": {},
   "source": [
    "Zero-shot learning (ZSL) is a machine learning paradigm where a model is trained to recognize objects or perform tasks that it has never seen before during training. Instead of relying solely on labeled examples for every possible category, ZSL leverages auxiliary information (such as semantic attributes, descriptions, or relationships) to make predictions about unseen classes."
   ]
  },
  {
   "cell_type": "markdown",
   "id": "914570e9",
   "metadata": {},
   "source": [
    "# Code for Zero-Shot Learning"
   ]
  },
  {
   "cell_type": "code",
   "execution_count": null,
   "id": "444d73a4",
   "metadata": {},
   "outputs": [],
   "source": [
    "import numpy as np\n",
    "import tensorflow as tf\n",
    "from tensorflow.keras.applications import ResNet50\n",
    "from sklearn.preprocessing import normalize\n",
    "from scipy.spatial.distance import cdist\n",
    "import fasttext\n",
    "\n",
    "# Load a pre-trained ResNet50 model\n",
    "model = ResNet50(weights='imagenet', include_top=False, pooling='avg')\n",
    "\n",
    "# Function to extract visual features\n",
    "def extract_features(image_path):\n",
    "    image = tf.keras.preprocessing.image.load_img(image_path, target_size=(224, 224))\n",
    "    image = tf.keras.preprocessing.image.img_to_array(image)\n",
    "    image = np.expand_dims(image, axis=0)\n",
    "    image = tf.keras.applications.resnet50.preprocess_input(image)\n",
    "    features = model.predict(image)\n",
    "    return features\n",
    "\n",
    "# Load FastText word vectors\n",
    "fasttext_model = fasttext.load_model('cc.en.300.bin')\n",
    "# from gensim.models.keyedvectors import KeyedVectors\n",
    "# import gensim.downloader as api\n",
    "# fast_text_vectors = api.load(\"fasttext-wiki-news-subwords-300\")\n",
    "# fast_text_vectors.save('fstwk_1.d2v')\n",
    "# fast_text_vectors = KeyedVectors.load(\"fstwk_1.d2v\")\n",
    "\n",
    "# Example seen and unseen classes\n",
    "seen_classes = ['cat', 'dog', 'horse']\n",
    "unseen_classes = ['lion', 'tiger', 'elephant']\n",
    "\n",
    "# Get word vectors for classes\n",
    "def get_class_vectors(classes):\n",
    "    return np.array([fasttext_model.get_word_vector(cls) for cls in classes])\n",
    "\n",
    "# Normalize the word vectors\n",
    "seen_vectors = normalize(get_class_vectors(seen_classes))\n",
    "unseen_vectors = normalize(get_class_vectors(unseen_classes))\n",
    "\n",
    "# Function to perform zero-shot classification\n",
    "def zero_shot_classify(image_path):\n",
    "    features = extract_features(image_path)\n",
    "    features = normalize(features)\n",
    "    distances = cdist(features, unseen_vectors, metric='cosine')\n",
    "    return unseen_classes[np.argmin(distances)]\n",
    "\n",
    "# Example usage\n",
    "image_path = 'path_to_image_of_an_unseen_animal.jpg'\n",
    "predicted_class = zero_shot_classify(image_path)\n",
    "print(f'Predicted class: {predicted_class}')\n"
   ]
  }
 ],
 "metadata": {
  "kernelspec": {
   "display_name": "Python 3 (ipykernel)",
   "language": "python",
   "name": "python3"
  },
  "language_info": {
   "codemirror_mode": {
    "name": "ipython",
    "version": 3
   },
   "file_extension": ".py",
   "mimetype": "text/x-python",
   "name": "python",
   "nbconvert_exporter": "python",
   "pygments_lexer": "ipython3",
   "version": "3.10.11"
  }
 },
 "nbformat": 4,
 "nbformat_minor": 5
}
