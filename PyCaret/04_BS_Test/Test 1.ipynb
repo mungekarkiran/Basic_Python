{
 "cells": [
  {
   "cell_type": "code",
   "execution_count": 18,
   "id": "20758026",
   "metadata": {},
   "outputs": [],
   "source": [
    "import pandas as pd\n",
    "import numpy as np\n",
    "\n",
    "import matplotlib.pyplot as plt\n",
    "%matplotlib inline\n",
    "\n",
    "import seaborn as sns"
   ]
  },
  {
   "cell_type": "code",
   "execution_count": 2,
   "id": "b6700f3b",
   "metadata": {},
   "outputs": [
    {
     "data": {
      "text/html": [
       "<div>\n",
       "<style scoped>\n",
       "    .dataframe tbody tr th:only-of-type {\n",
       "        vertical-align: middle;\n",
       "    }\n",
       "\n",
       "    .dataframe tbody tr th {\n",
       "        vertical-align: top;\n",
       "    }\n",
       "\n",
       "    .dataframe thead th {\n",
       "        text-align: right;\n",
       "    }\n",
       "</style>\n",
       "<table border=\"1\" class=\"dataframe\">\n",
       "  <thead>\n",
       "    <tr style=\"text-align: right;\">\n",
       "      <th></th>\n",
       "      <th>ASCII Code</th>\n",
       "      <th>Binary Signal</th>\n",
       "    </tr>\n",
       "  </thead>\n",
       "  <tbody>\n",
       "    <tr>\n",
       "      <th>0</th>\n",
       "      <td>64428</td>\n",
       "      <td>1</td>\n",
       "    </tr>\n",
       "    <tr>\n",
       "      <th>1</th>\n",
       "      <td>32714</td>\n",
       "      <td>0</td>\n",
       "    </tr>\n",
       "    <tr>\n",
       "      <th>2</th>\n",
       "      <td>75036</td>\n",
       "      <td>1</td>\n",
       "    </tr>\n",
       "    <tr>\n",
       "      <th>3</th>\n",
       "      <td>16234</td>\n",
       "      <td>0</td>\n",
       "    </tr>\n",
       "    <tr>\n",
       "      <th>4</th>\n",
       "      <td>76468</td>\n",
       "      <td>0</td>\n",
       "    </tr>\n",
       "  </tbody>\n",
       "</table>\n",
       "</div>"
      ],
      "text/plain": [
       "   ASCII Code  Binary Signal\n",
       "0       64428              1\n",
       "1       32714              0\n",
       "2       75036              1\n",
       "3       16234              0\n",
       "4       76468              0"
      ]
     },
     "execution_count": 2,
     "metadata": {},
     "output_type": "execute_result"
    }
   ],
   "source": [
    "d = pd.read_csv('Covert_new.csv')\n",
    "d.head()"
   ]
  },
  {
   "cell_type": "code",
   "execution_count": 3,
   "id": "9732fae3",
   "metadata": {},
   "outputs": [
    {
     "data": {
      "text/plain": [
       "(5000, 2)"
      ]
     },
     "execution_count": 3,
     "metadata": {},
     "output_type": "execute_result"
    }
   ],
   "source": [
    "d.shape"
   ]
  },
  {
   "cell_type": "code",
   "execution_count": 4,
   "id": "5cc48871",
   "metadata": {},
   "outputs": [
    {
     "data": {
      "text/plain": [
       "ASCII Code       0\n",
       "Binary Signal    0\n",
       "dtype: int64"
      ]
     },
     "execution_count": 4,
     "metadata": {},
     "output_type": "execute_result"
    }
   ],
   "source": [
    "d.isna().sum() "
   ]
  },
  {
   "cell_type": "code",
   "execution_count": 14,
   "id": "1d534ad1",
   "metadata": {},
   "outputs": [
    {
     "data": {
      "text/plain": [
       "Binary Signal\n",
       "0    4000\n",
       "1    1000\n",
       "Name: count, dtype: int64"
      ]
     },
     "execution_count": 14,
     "metadata": {},
     "output_type": "execute_result"
    }
   ],
   "source": [
    "d['Binary Signal'].value_counts()"
   ]
  },
  {
   "cell_type": "code",
   "execution_count": 20,
   "id": "d082c1bb",
   "metadata": {},
   "outputs": [
    {
     "data": {
      "image/png": "[encoded data removed]",
      "text/plain": [
       "<Figure size 640x480 with 1 Axes>"
      ]
     },
     "metadata": {},
     "output_type": "display_data"
    }
   ],
   "source": [
    "# Count Plot (a.k.a. Bar Plot)\n",
    "sns.countplot(x='Binary Signal', data=d)\n",
    " \n",
    "# Rotate x-labels\n",
    "plt.xticks(rotation=-45)\n",
    "plt.show()"
   ]
  },
  {
   "cell_type": "code",
   "execution_count": 23,
   "id": "2f2a31df",
   "metadata": {},
   "outputs": [],
   "source": [
    "# !pip install imblearn"
   ]
  },
  {
   "cell_type": "code",
   "execution_count": 22,
   "id": "36d5fa37",
   "metadata": {},
   "outputs": [],
   "source": [
    "from imblearn.under_sampling import RandomUnderSampler "
   ]
  },
  {
   "cell_type": "code",
   "execution_count": 28,
   "id": "e8975edd",
   "metadata": {},
   "outputs": [
    {
     "name": "stdout",
     "output_type": "stream",
     "text": [
      "(5000, 1) (5000,)\n"
     ]
    }
   ],
   "source": [
    "USdf = d.copy()\n",
    "X1 = USdf.drop(\"Binary Signal\",axis=1)\n",
    "Y1 = USdf['Binary Signal']\n",
    "print(X1.shape,Y1.shape)"
   ]
  },
  {
   "cell_type": "code",
   "execution_count": 29,
   "id": "4bcb97ab",
   "metadata": {},
   "outputs": [
    {
     "name": "stdout",
     "output_type": "stream",
     "text": [
      "(2000, 1) (2000,)\n"
     ]
    }
   ],
   "source": [
    "nm = RandomUnderSampler() # NearMiss()\n",
    "X1_res,Y1_res = nm.fit_resample(X1,Y1)\n",
    "print(X1_res.shape, Y1_res.shape)"
   ]
  },
  {
   "cell_type": "code",
   "execution_count": 30,
   "id": "88823f65",
   "metadata": {},
   "outputs": [
    {
     "data": {
      "text/plain": [
       "(2000, 2)"
      ]
     },
     "execution_count": 30,
     "metadata": {},
     "output_type": "execute_result"
    }
   ],
   "source": [
    "UnderSampling = pd.DataFrame(columns=['data','label'])\n",
    "UnderSampling['data'] = X1_res\n",
    "UnderSampling['label'] = Y1_res\n",
    "UnderSampling.shape"
   ]
  },
  {
   "cell_type": "code",
   "execution_count": null,
   "id": "c7e029e4",
   "metadata": {},
   "outputs": [],
   "source": []
  },
  {
   "cell_type": "code",
   "execution_count": 32,
   "id": "3f57db93",
   "metadata": {},
   "outputs": [],
   "source": [
    "from imblearn.over_sampling import SMOTE"
   ]
  },
  {
   "cell_type": "code",
   "execution_count": 33,
   "id": "e86e8674",
   "metadata": {},
   "outputs": [
    {
     "name": "stdout",
     "output_type": "stream",
     "text": [
      "(5000, 1) (5000,)\n"
     ]
    }
   ],
   "source": [
    "OSdf = d.copy()\n",
    "X1 = OSdf.drop(\"Binary Signal\",axis=1)\n",
    "Y1 = OSdf['Binary Signal']\n",
    "print(X1.shape,Y1.shape)"
   ]
  },
  {
   "cell_type": "code",
   "execution_count": 35,
   "id": "2e4d51ce",
   "metadata": {},
   "outputs": [
    {
     "name": "stdout",
     "output_type": "stream",
     "text": [
      "(8000, 1) (8000,)\n"
     ]
    }
   ],
   "source": [
    "oversample = SMOTE()\n",
    "X1_res,Y1_res = oversample.fit_resample(X1,Y1)\n",
    "print(X1_res.shape, Y1_res.shape)"
   ]
  },
  {
   "cell_type": "code",
   "execution_count": 36,
   "id": "4b50c053",
   "metadata": {},
   "outputs": [
    {
     "data": {
      "text/plain": [
       "(8000, 2)"
      ]
     },
     "execution_count": 36,
     "metadata": {},
     "output_type": "execute_result"
    }
   ],
   "source": [
    "OverSampling = pd.DataFrame(columns=['data','label'])\n",
    "OverSampling['data'] = X1_res\n",
    "OverSampling['label'] = Y1_res\n",
    "OverSampling.shape"
   ]
  },
  {
   "cell_type": "code",
   "execution_count": null,
   "id": "a86046ef",
   "metadata": {},
   "outputs": [],
   "source": []
  },
  {
   "cell_type": "code",
   "execution_count": 37,
   "id": "e9c797be",
   "metadata": {},
   "outputs": [],
   "source": [
    "from pycaret.classification import *"
   ]
  },
  {
   "cell_type": "code",
   "execution_count": 38,
   "id": "ef77779f",
   "metadata": {},
   "outputs": [
    {
     "data": {
      "text/html": [
       "<style type=\"text/css\">\n",
       "#T_fa51a_row8_col1 {\n",
       "  background-color: lightgreen;\n",
       "}\n",
       "</style>\n",
       "<table id=\"T_fa51a\">\n",
       "  <thead>\n",
       "    <tr>\n",
       "      <th class=\"blank level0\" >&nbsp;</th>\n",
       "      <th id=\"T_fa51a_level0_col0\" class=\"col_heading level0 col0\" >Description</th>\n",
       "      <th id=\"T_fa51a_level0_col1\" class=\"col_heading level0 col1\" >Value</th>\n",
       "    </tr>\n",
       "  </thead>\n",
       "  <tbody>\n",
       "    <tr>\n",
       "      <th id=\"T_fa51a_level0_row0\" class=\"row_heading level0 row0\" >0</th>\n",
       "      <td id=\"T_fa51a_row0_col0\" class=\"data row0 col0\" >Session id</td>\n",
       "      <td id=\"T_fa51a_row0_col1\" class=\"data row0 col1\" >1348</td>\n",
       "    </tr>\n",
       "    <tr>\n",
       "      <th id=\"T_fa51a_level0_row1\" class=\"row_heading level0 row1\" >1</th>\n",
       "      <td id=\"T_fa51a_row1_col0\" class=\"data row1 col0\" >Target</td>\n",
       "      <td id=\"T_fa51a_row1_col1\" class=\"data row1 col1\" >label</td>\n",
       "    </tr>\n",
       "    <tr>\n",
       "      <th id=\"T_fa51a_level0_row2\" class=\"row_heading level0 row2\" >2</th>\n",
       "      <td id=\"T_fa51a_row2_col0\" class=\"data row2 col0\" >Target type</td>\n",
       "      <td id=\"T_fa51a_row2_col1\" class=\"data row2 col1\" >Binary</td>\n",
       "    </tr>\n",
       "    <tr>\n",
       "      <th id=\"T_fa51a_level0_row3\" class=\"row_heading level0 row3\" >3</th>\n",
       "      <td id=\"T_fa51a_row3_col0\" class=\"data row3 col0\" >Original data shape</td>\n",
       "      <td id=\"T_fa51a_row3_col1\" class=\"data row3 col1\" >(2000, 2)</td>\n",
       "    </tr>\n",
       "    <tr>\n",
       "      <th id=\"T_fa51a_level0_row4\" class=\"row_heading level0 row4\" >4</th>\n",
       "      <td id=\"T_fa51a_row4_col0\" class=\"data row4 col0\" >Transformed data shape</td>\n",
       "      <td id=\"T_fa51a_row4_col1\" class=\"data row4 col1\" >(2000, 2)</td>\n",
       "    </tr>\n",
       "    <tr>\n",
       "      <th id=\"T_fa51a_level0_row5\" class=\"row_heading level0 row5\" >5</th>\n",
       "      <td id=\"T_fa51a_row5_col0\" class=\"data row5 col0\" >Transformed train set shape</td>\n",
       "      <td id=\"T_fa51a_row5_col1\" class=\"data row5 col1\" >(1400, 2)</td>\n",
       "    </tr>\n",
       "    <tr>\n",
       "      <th id=\"T_fa51a_level0_row6\" class=\"row_heading level0 row6\" >6</th>\n",
       "      <td id=\"T_fa51a_row6_col0\" class=\"data row6 col0\" >Transformed test set shape</td>\n",
       "      <td id=\"T_fa51a_row6_col1\" class=\"data row6 col1\" >(600, 2)</td>\n",
       "    </tr>\n",
       "    <tr>\n",
       "      <th id=\"T_fa51a_level0_row7\" class=\"row_heading level0 row7\" >7</th>\n",
       "      <td id=\"T_fa51a_row7_col0\" class=\"data row7 col0\" >Numeric features</td>\n",
       "      <td id=\"T_fa51a_row7_col1\" class=\"data row7 col1\" >1</td>\n",
       "    </tr>\n",
       "    <tr>\n",
       "      <th id=\"T_fa51a_level0_row8\" class=\"row_heading level0 row8\" >8</th>\n",
       "      <td id=\"T_fa51a_row8_col0\" class=\"data row8 col0\" >Preprocess</td>\n",
       "      <td id=\"T_fa51a_row8_col1\" class=\"data row8 col1\" >True</td>\n",
       "    </tr>\n",
       "    <tr>\n",
       "      <th id=\"T_fa51a_level0_row9\" class=\"row_heading level0 row9\" >9</th>\n",
       "      <td id=\"T_fa51a_row9_col0\" class=\"data row9 col0\" >Imputation type</td>\n",
       "      <td id=\"T_fa51a_row9_col1\" class=\"data row9 col1\" >simple</td>\n",
       "    </tr>\n",
       "    <tr>\n",
       "      <th id=\"T_fa51a_level0_row10\" class=\"row_heading level0 row10\" >10</th>\n",
       "      <td id=\"T_fa51a_row10_col0\" class=\"data row10 col0\" >Numeric imputation</td>\n",
       "      <td id=\"T_fa51a_row10_col1\" class=\"data row10 col1\" >mean</td>\n",
       "    </tr>\n",
       "    <tr>\n",
       "      <th id=\"T_fa51a_level0_row11\" class=\"row_heading level0 row11\" >11</th>\n",
       "      <td id=\"T_fa51a_row11_col0\" class=\"data row11 col0\" >Categorical imputation</td>\n",
       "      <td id=\"T_fa51a_row11_col1\" class=\"data row11 col1\" >mode</td>\n",
       "    </tr>\n",
       "    <tr>\n",
       "      <th id=\"T_fa51a_level0_row12\" class=\"row_heading level0 row12\" >12</th>\n",
       "      <td id=\"T_fa51a_row12_col0\" class=\"data row12 col0\" >Fold Generator</td>\n",
       "      <td id=\"T_fa51a_row12_col1\" class=\"data row12 col1\" >StratifiedKFold</td>\n",
       "    </tr>\n",
       "    <tr>\n",
       "      <th id=\"T_fa51a_level0_row13\" class=\"row_heading level0 row13\" >13</th>\n",
       "      <td id=\"T_fa51a_row13_col0\" class=\"data row13 col0\" >Fold Number</td>\n",
       "      <td id=\"T_fa51a_row13_col1\" class=\"data row13 col1\" >10</td>\n",
       "    </tr>\n",
       "    <tr>\n",
       "      <th id=\"T_fa51a_level0_row14\" class=\"row_heading level0 row14\" >14</th>\n",
       "      <td id=\"T_fa51a_row14_col0\" class=\"data row14 col0\" >CPU Jobs</td>\n",
       "      <td id=\"T_fa51a_row14_col1\" class=\"data row14 col1\" >-1</td>\n",
       "    </tr>\n",
       "    <tr>\n",
       "      <th id=\"T_fa51a_level0_row15\" class=\"row_heading level0 row15\" >15</th>\n",
       "      <td id=\"T_fa51a_row15_col0\" class=\"data row15 col0\" >Use GPU</td>\n",
       "      <td id=\"T_fa51a_row15_col1\" class=\"data row15 col1\" >False</td>\n",
       "    </tr>\n",
       "    <tr>\n",
       "      <th id=\"T_fa51a_level0_row16\" class=\"row_heading level0 row16\" >16</th>\n",
       "      <td id=\"T_fa51a_row16_col0\" class=\"data row16 col0\" >Log Experiment</td>\n",
       "      <td id=\"T_fa51a_row16_col1\" class=\"data row16 col1\" >False</td>\n",
       "    </tr>\n",
       "    <tr>\n",
       "      <th id=\"T_fa51a_level0_row17\" class=\"row_heading level0 row17\" >17</th>\n",
       "      <td id=\"T_fa51a_row17_col0\" class=\"data row17 col0\" >Experiment Name</td>\n",
       "      <td id=\"T_fa51a_row17_col1\" class=\"data row17 col1\" >clf-default-name</td>\n",
       "    </tr>\n",
       "    <tr>\n",
       "      <th id=\"T_fa51a_level0_row18\" class=\"row_heading level0 row18\" >18</th>\n",
       "      <td id=\"T_fa51a_row18_col0\" class=\"data row18 col0\" >USI</td>\n",
       "      <td id=\"T_fa51a_row18_col1\" class=\"data row18 col1\" >4c05</td>\n",
       "    </tr>\n",
       "  </tbody>\n",
       "</table>\n"
      ],
      "text/plain": [
       "<pandas.io.formats.style.Styler at 0x230e3a9ba00>"
      ]
     },
     "metadata": {},
     "output_type": "display_data"
    }
   ],
   "source": [
    "originaldata = setup(data = UnderSampling, target = 'label')"
   ]
  },
  {
   "cell_type": "code",
   "execution_count": 39,
   "id": "bbfd9ffd",
   "metadata": {},
   "outputs": [
    {
     "data": {
      "text/html": [],
      "text/plain": [
       "<IPython.core.display.HTML object>"
      ]
     },
     "metadata": {},
     "output_type": "display_data"
    },
    {
     "data": {
      "text/html": [
       "<style type=\"text/css\">\n",
       "#T_1e763 th {\n",
       "  text-align: left;\n",
       "}\n",
       "#T_1e763_row0_col0, #T_1e763_row1_col0, #T_1e763_row1_col1, #T_1e763_row1_col2, #T_1e763_row1_col3, #T_1e763_row1_col4, #T_1e763_row1_col5, #T_1e763_row1_col6, #T_1e763_row1_col7, #T_1e763_row2_col0, #T_1e763_row2_col1, #T_1e763_row2_col2, #T_1e763_row2_col3, #T_1e763_row2_col4, #T_1e763_row2_col5, #T_1e763_row2_col6, #T_1e763_row2_col7, #T_1e763_row3_col0, #T_1e763_row3_col1, #T_1e763_row3_col2, #T_1e763_row3_col3, #T_1e763_row3_col4, #T_1e763_row3_col5, #T_1e763_row3_col6, #T_1e763_row3_col7, #T_1e763_row4_col0, #T_1e763_row4_col1, #T_1e763_row4_col2, #T_1e763_row4_col3, #T_1e763_row4_col4, #T_1e763_row4_col5, #T_1e763_row4_col6, #T_1e763_row4_col7, #T_1e763_row5_col0, #T_1e763_row5_col1, #T_1e763_row5_col2, #T_1e763_row5_col3, #T_1e763_row5_col4, #T_1e763_row5_col5, #T_1e763_row5_col6, #T_1e763_row5_col7, #T_1e763_row6_col0, #T_1e763_row6_col1, #T_1e763_row6_col2, #T_1e763_row6_col3, #T_1e763_row6_col4, #T_1e763_row6_col5, #T_1e763_row6_col6, #T_1e763_row6_col7, #T_1e763_row7_col0, #T_1e763_row7_col1, #T_1e763_row7_col2, #T_1e763_row7_col3, #T_1e763_row7_col4, #T_1e763_row7_col5, #T_1e763_row7_col6, #T_1e763_row7_col7, #T_1e763_row8_col0, #T_1e763_row8_col1, #T_1e763_row8_col2, #T_1e763_row8_col3, #T_1e763_row8_col4, #T_1e763_row8_col5, #T_1e763_row8_col6, #T_1e763_row8_col7, #T_1e763_row9_col0, #T_1e763_row9_col1, #T_1e763_row9_col2, #T_1e763_row9_col3, #T_1e763_row9_col4, #T_1e763_row9_col5, #T_1e763_row9_col6, #T_1e763_row9_col7, #T_1e763_row10_col0, #T_1e763_row10_col1, #T_1e763_row10_col2, #T_1e763_row10_col3, #T_1e763_row10_col4, #T_1e763_row10_col5, #T_1e763_row10_col6, #T_1e763_row10_col7, #T_1e763_row11_col0, #T_1e763_row11_col1, #T_1e763_row11_col2, #T_1e763_row11_col3, #T_1e763_row11_col4, #T_1e763_row11_col5, #T_1e763_row11_col6, #T_1e763_row11_col7, #T_1e763_row12_col0, #T_1e763_row12_col1, #T_1e763_row12_col2, #T_1e763_row12_col3, #T_1e763_row12_col4, #T_1e763_row12_col5, #T_1e763_row12_col6, #T_1e763_row12_col7, #T_1e763_row13_col0, #T_1e763_row13_col1, #T_1e763_row13_col2, #T_1e763_row13_col3, #T_1e763_row13_col4, #T_1e763_row13_col5, #T_1e763_row13_col6, #T_1e763_row13_col7 {\n",
       "  text-align: left;\n",
       "}\n",
       "#T_1e763_row0_col1, #T_1e763_row0_col2, #T_1e763_row0_col3, #T_1e763_row0_col4, #T_1e763_row0_col5, #T_1e763_row0_col6, #T_1e763_row0_col7 {\n",
       "  text-align: left;\n",
       "  background-color: yellow;\n",
       "}\n",
       "#T_1e763_row0_col8, #T_1e763_row1_col8, #T_1e763_row2_col8, #T_1e763_row3_col8, #T_1e763_row5_col8, #T_1e763_row6_col8, #T_1e763_row7_col8, #T_1e763_row8_col8, #T_1e763_row9_col8, #T_1e763_row10_col8, #T_1e763_row11_col8, #T_1e763_row12_col8, #T_1e763_row13_col8 {\n",
       "  text-align: left;\n",
       "  background-color: lightgrey;\n",
       "}\n",
       "#T_1e763_row4_col8 {\n",
       "  text-align: left;\n",
       "  background-color: yellow;\n",
       "  background-color: lightgrey;\n",
       "}\n",
       "</style>\n",
       "<table id=\"T_1e763\">\n",
       "  <thead>\n",
       "    <tr>\n",
       "      <th class=\"blank level0\" >&nbsp;</th>\n",
       "      <th id=\"T_1e763_level0_col0\" class=\"col_heading level0 col0\" >Model</th>\n",
       "      <th id=\"T_1e763_level0_col1\" class=\"col_heading level0 col1\" >Accuracy</th>\n",
       "      <th id=\"T_1e763_level0_col2\" class=\"col_heading level0 col2\" >AUC</th>\n",
       "      <th id=\"T_1e763_level0_col3\" class=\"col_heading level0 col3\" >Recall</th>\n",
       "      <th id=\"T_1e763_level0_col4\" class=\"col_heading level0 col4\" >Prec.</th>\n",
       "      <th id=\"T_1e763_level0_col5\" class=\"col_heading level0 col5\" >F1</th>\n",
       "      <th id=\"T_1e763_level0_col6\" class=\"col_heading level0 col6\" >Kappa</th>\n",
       "      <th id=\"T_1e763_level0_col7\" class=\"col_heading level0 col7\" >MCC</th>\n",
       "      <th id=\"T_1e763_level0_col8\" class=\"col_heading level0 col8\" >TT (Sec)</th>\n",
       "    </tr>\n",
       "  </thead>\n",
       "  <tbody>\n",
       "    <tr>\n",
       "      <th id=\"T_1e763_level0_row0\" class=\"row_heading level0 row0\" >ada</th>\n",
       "      <td id=\"T_1e763_row0_col0\" class=\"data row0 col0\" >Ada Boost Classifier</td>\n",
       "      <td id=\"T_1e763_row0_col1\" class=\"data row0 col1\" >0.5300</td>\n",
       "      <td id=\"T_1e763_row0_col2\" class=\"data row0 col2\" >0.5219</td>\n",
       "      <td id=\"T_1e763_row0_col3\" class=\"data row0 col3\" >0.5557</td>\n",
       "      <td id=\"T_1e763_row0_col4\" class=\"data row0 col4\" >0.5291</td>\n",
       "      <td id=\"T_1e763_row0_col5\" class=\"data row0 col5\" >0.5411</td>\n",
       "      <td id=\"T_1e763_row0_col6\" class=\"data row0 col6\" >0.0600</td>\n",
       "      <td id=\"T_1e763_row0_col7\" class=\"data row0 col7\" >0.0602</td>\n",
       "      <td id=\"T_1e763_row0_col8\" class=\"data row0 col8\" >0.1180</td>\n",
       "    </tr>\n",
       "    <tr>\n",
       "      <th id=\"T_1e763_level0_row1\" class=\"row_heading level0 row1\" >lr</th>\n",
       "      <td id=\"T_1e763_row1_col0\" class=\"data row1 col0\" >Logistic Regression</td>\n",
       "      <td id=\"T_1e763_row1_col1\" class=\"data row1 col1\" >0.5150</td>\n",
       "      <td id=\"T_1e763_row1_col2\" class=\"data row1 col2\" >0.5202</td>\n",
       "      <td id=\"T_1e763_row1_col3\" class=\"data row1 col3\" >0.5186</td>\n",
       "      <td id=\"T_1e763_row1_col4\" class=\"data row1 col4\" >0.5141</td>\n",
       "      <td id=\"T_1e763_row1_col5\" class=\"data row1 col5\" >0.5158</td>\n",
       "      <td id=\"T_1e763_row1_col6\" class=\"data row1 col6\" >0.0300</td>\n",
       "      <td id=\"T_1e763_row1_col7\" class=\"data row1 col7\" >0.0301</td>\n",
       "      <td id=\"T_1e763_row1_col8\" class=\"data row1 col8\" >0.6190</td>\n",
       "    </tr>\n",
       "    <tr>\n",
       "      <th id=\"T_1e763_level0_row2\" class=\"row_heading level0 row2\" >ridge</th>\n",
       "      <td id=\"T_1e763_row2_col0\" class=\"data row2 col0\" >Ridge Classifier</td>\n",
       "      <td id=\"T_1e763_row2_col1\" class=\"data row2 col1\" >0.5150</td>\n",
       "      <td id=\"T_1e763_row2_col2\" class=\"data row2 col2\" >0.5202</td>\n",
       "      <td id=\"T_1e763_row2_col3\" class=\"data row2 col3\" >0.5186</td>\n",
       "      <td id=\"T_1e763_row2_col4\" class=\"data row2 col4\" >0.5141</td>\n",
       "      <td id=\"T_1e763_row2_col5\" class=\"data row2 col5\" >0.5158</td>\n",
       "      <td id=\"T_1e763_row2_col6\" class=\"data row2 col6\" >0.0300</td>\n",
       "      <td id=\"T_1e763_row2_col7\" class=\"data row2 col7\" >0.0301</td>\n",
       "      <td id=\"T_1e763_row2_col8\" class=\"data row2 col8\" >0.0260</td>\n",
       "    </tr>\n",
       "    <tr>\n",
       "      <th id=\"T_1e763_level0_row3\" class=\"row_heading level0 row3\" >lda</th>\n",
       "      <td id=\"T_1e763_row3_col0\" class=\"data row3 col0\" >Linear Discriminant Analysis</td>\n",
       "      <td id=\"T_1e763_row3_col1\" class=\"data row3 col1\" >0.5150</td>\n",
       "      <td id=\"T_1e763_row3_col2\" class=\"data row3 col2\" >0.5202</td>\n",
       "      <td id=\"T_1e763_row3_col3\" class=\"data row3 col3\" >0.5186</td>\n",
       "      <td id=\"T_1e763_row3_col4\" class=\"data row3 col4\" >0.5141</td>\n",
       "      <td id=\"T_1e763_row3_col5\" class=\"data row3 col5\" >0.5158</td>\n",
       "      <td id=\"T_1e763_row3_col6\" class=\"data row3 col6\" >0.0300</td>\n",
       "      <td id=\"T_1e763_row3_col7\" class=\"data row3 col7\" >0.0301</td>\n",
       "      <td id=\"T_1e763_row3_col8\" class=\"data row3 col8\" >0.0260</td>\n",
       "    </tr>\n",
       "    <tr>\n",
       "      <th id=\"T_1e763_level0_row4\" class=\"row_heading level0 row4\" >nb</th>\n",
       "      <td id=\"T_1e763_row4_col0\" class=\"data row4 col0\" >Naive Bayes</td>\n",
       "      <td id=\"T_1e763_row4_col1\" class=\"data row4 col1\" >0.5114</td>\n",
       "      <td id=\"T_1e763_row4_col2\" class=\"data row4 col2\" >0.5202</td>\n",
       "      <td id=\"T_1e763_row4_col3\" class=\"data row4 col3\" >0.5271</td>\n",
       "      <td id=\"T_1e763_row4_col4\" class=\"data row4 col4\" >0.5102</td>\n",
       "      <td id=\"T_1e763_row4_col5\" class=\"data row4 col5\" >0.5167</td>\n",
       "      <td id=\"T_1e763_row4_col6\" class=\"data row4 col6\" >0.0229</td>\n",
       "      <td id=\"T_1e763_row4_col7\" class=\"data row4 col7\" >0.0232</td>\n",
       "      <td id=\"T_1e763_row4_col8\" class=\"data row4 col8\" >0.0180</td>\n",
       "    </tr>\n",
       "    <tr>\n",
       "      <th id=\"T_1e763_level0_row5\" class=\"row_heading level0 row5\" >qda</th>\n",
       "      <td id=\"T_1e763_row5_col0\" class=\"data row5 col0\" >Quadratic Discriminant Analysis</td>\n",
       "      <td id=\"T_1e763_row5_col1\" class=\"data row5 col1\" >0.5114</td>\n",
       "      <td id=\"T_1e763_row5_col2\" class=\"data row5 col2\" >0.5202</td>\n",
       "      <td id=\"T_1e763_row5_col3\" class=\"data row5 col3\" >0.5271</td>\n",
       "      <td id=\"T_1e763_row5_col4\" class=\"data row5 col4\" >0.5102</td>\n",
       "      <td id=\"T_1e763_row5_col5\" class=\"data row5 col5\" >0.5167</td>\n",
       "      <td id=\"T_1e763_row5_col6\" class=\"data row5 col6\" >0.0229</td>\n",
       "      <td id=\"T_1e763_row5_col7\" class=\"data row5 col7\" >0.0232</td>\n",
       "      <td id=\"T_1e763_row5_col8\" class=\"data row5 col8\" >0.0270</td>\n",
       "    </tr>\n",
       "    <tr>\n",
       "      <th id=\"T_1e763_level0_row6\" class=\"row_heading level0 row6\" >svm</th>\n",
       "      <td id=\"T_1e763_row6_col0\" class=\"data row6 col0\" >SVM - Linear Kernel</td>\n",
       "      <td id=\"T_1e763_row6_col1\" class=\"data row6 col1\" >0.5000</td>\n",
       "      <td id=\"T_1e763_row6_col2\" class=\"data row6 col2\" >0.4829</td>\n",
       "      <td id=\"T_1e763_row6_col3\" class=\"data row6 col3\" >0.3000</td>\n",
       "      <td id=\"T_1e763_row6_col4\" class=\"data row6 col4\" >0.1500</td>\n",
       "      <td id=\"T_1e763_row6_col5\" class=\"data row6 col5\" >0.2000</td>\n",
       "      <td id=\"T_1e763_row6_col6\" class=\"data row6 col6\" >0.0000</td>\n",
       "      <td id=\"T_1e763_row6_col7\" class=\"data row6 col7\" >0.0000</td>\n",
       "      <td id=\"T_1e763_row6_col8\" class=\"data row6 col8\" >0.0290</td>\n",
       "    </tr>\n",
       "    <tr>\n",
       "      <th id=\"T_1e763_level0_row7\" class=\"row_heading level0 row7\" >dummy</th>\n",
       "      <td id=\"T_1e763_row7_col0\" class=\"data row7 col0\" >Dummy Classifier</td>\n",
       "      <td id=\"T_1e763_row7_col1\" class=\"data row7 col1\" >0.5000</td>\n",
       "      <td id=\"T_1e763_row7_col2\" class=\"data row7 col2\" >0.5000</td>\n",
       "      <td id=\"T_1e763_row7_col3\" class=\"data row7 col3\" >0.0000</td>\n",
       "      <td id=\"T_1e763_row7_col4\" class=\"data row7 col4\" >0.0000</td>\n",
       "      <td id=\"T_1e763_row7_col5\" class=\"data row7 col5\" >0.0000</td>\n",
       "      <td id=\"T_1e763_row7_col6\" class=\"data row7 col6\" >0.0000</td>\n",
       "      <td id=\"T_1e763_row7_col7\" class=\"data row7 col7\" >0.0000</td>\n",
       "      <td id=\"T_1e763_row7_col8\" class=\"data row7 col8\" >0.0230</td>\n",
       "    </tr>\n",
       "    <tr>\n",
       "      <th id=\"T_1e763_level0_row8\" class=\"row_heading level0 row8\" >gbc</th>\n",
       "      <td id=\"T_1e763_row8_col0\" class=\"data row8 col0\" >Gradient Boosting Classifier</td>\n",
       "      <td id=\"T_1e763_row8_col1\" class=\"data row8 col1\" >0.4957</td>\n",
       "      <td id=\"T_1e763_row8_col2\" class=\"data row8 col2\" >0.4957</td>\n",
       "      <td id=\"T_1e763_row8_col3\" class=\"data row8 col3\" >0.5071</td>\n",
       "      <td id=\"T_1e763_row8_col4\" class=\"data row8 col4\" >0.4961</td>\n",
       "      <td id=\"T_1e763_row8_col5\" class=\"data row8 col5\" >0.5000</td>\n",
       "      <td id=\"T_1e763_row8_col6\" class=\"data row8 col6\" >-0.0086</td>\n",
       "      <td id=\"T_1e763_row8_col7\" class=\"data row8 col7\" >-0.0085</td>\n",
       "      <td id=\"T_1e763_row8_col8\" class=\"data row8 col8\" >0.1510</td>\n",
       "    </tr>\n",
       "    <tr>\n",
       "      <th id=\"T_1e763_level0_row9\" class=\"row_heading level0 row9\" >dt</th>\n",
       "      <td id=\"T_1e763_row9_col0\" class=\"data row9 col0\" >Decision Tree Classifier</td>\n",
       "      <td id=\"T_1e763_row9_col1\" class=\"data row9 col1\" >0.4886</td>\n",
       "      <td id=\"T_1e763_row9_col2\" class=\"data row9 col2\" >0.4875</td>\n",
       "      <td id=\"T_1e763_row9_col3\" class=\"data row9 col3\" >0.4943</td>\n",
       "      <td id=\"T_1e763_row9_col4\" class=\"data row9 col4\" >0.4877</td>\n",
       "      <td id=\"T_1e763_row9_col5\" class=\"data row9 col5\" >0.4901</td>\n",
       "      <td id=\"T_1e763_row9_col6\" class=\"data row9 col6\" >-0.0229</td>\n",
       "      <td id=\"T_1e763_row9_col7\" class=\"data row9 col7\" >-0.0229</td>\n",
       "      <td id=\"T_1e763_row9_col8\" class=\"data row9 col8\" >0.0200</td>\n",
       "    </tr>\n",
       "    <tr>\n",
       "      <th id=\"T_1e763_level0_row10\" class=\"row_heading level0 row10\" >et</th>\n",
       "      <td id=\"T_1e763_row10_col0\" class=\"data row10 col0\" >Extra Trees Classifier</td>\n",
       "      <td id=\"T_1e763_row10_col1\" class=\"data row10 col1\" >0.4886</td>\n",
       "      <td id=\"T_1e763_row10_col2\" class=\"data row10 col2\" >0.4720</td>\n",
       "      <td id=\"T_1e763_row10_col3\" class=\"data row10 col3\" >0.4886</td>\n",
       "      <td id=\"T_1e763_row10_col4\" class=\"data row10 col4\" >0.4879</td>\n",
       "      <td id=\"T_1e763_row10_col5\" class=\"data row10 col5\" >0.4877</td>\n",
       "      <td id=\"T_1e763_row10_col6\" class=\"data row10 col6\" >-0.0229</td>\n",
       "      <td id=\"T_1e763_row10_col7\" class=\"data row10 col7\" >-0.0229</td>\n",
       "      <td id=\"T_1e763_row10_col8\" class=\"data row10 col8\" >0.2020</td>\n",
       "    </tr>\n",
       "    <tr>\n",
       "      <th id=\"T_1e763_level0_row11\" class=\"row_heading level0 row11\" >rf</th>\n",
       "      <td id=\"T_1e763_row11_col0\" class=\"data row11 col0\" >Random Forest Classifier</td>\n",
       "      <td id=\"T_1e763_row11_col1\" class=\"data row11 col1\" >0.4864</td>\n",
       "      <td id=\"T_1e763_row11_col2\" class=\"data row11 col2\" >0.4739</td>\n",
       "      <td id=\"T_1e763_row11_col3\" class=\"data row11 col3\" >0.4929</td>\n",
       "      <td id=\"T_1e763_row11_col4\" class=\"data row11 col4\" >0.4855</td>\n",
       "      <td id=\"T_1e763_row11_col5\" class=\"data row11 col5\" >0.4884</td>\n",
       "      <td id=\"T_1e763_row11_col6\" class=\"data row11 col6\" >-0.0271</td>\n",
       "      <td id=\"T_1e763_row11_col7\" class=\"data row11 col7\" >-0.0272</td>\n",
       "      <td id=\"T_1e763_row11_col8\" class=\"data row11 col8\" >0.2920</td>\n",
       "    </tr>\n",
       "    <tr>\n",
       "      <th id=\"T_1e763_level0_row12\" class=\"row_heading level0 row12\" >knn</th>\n",
       "      <td id=\"T_1e763_row12_col0\" class=\"data row12 col0\" >K Neighbors Classifier</td>\n",
       "      <td id=\"T_1e763_row12_col1\" class=\"data row12 col1\" >0.4793</td>\n",
       "      <td id=\"T_1e763_row12_col2\" class=\"data row12 col2\" >0.4793</td>\n",
       "      <td id=\"T_1e763_row12_col3\" class=\"data row12 col3\" >0.4929</td>\n",
       "      <td id=\"T_1e763_row12_col4\" class=\"data row12 col4\" >0.4795</td>\n",
       "      <td id=\"T_1e763_row12_col5\" class=\"data row12 col5\" >0.4851</td>\n",
       "      <td id=\"T_1e763_row12_col6\" class=\"data row12 col6\" >-0.0414</td>\n",
       "      <td id=\"T_1e763_row12_col7\" class=\"data row12 col7\" >-0.0417</td>\n",
       "      <td id=\"T_1e763_row12_col8\" class=\"data row12 col8\" >0.0380</td>\n",
       "    </tr>\n",
       "    <tr>\n",
       "      <th id=\"T_1e763_level0_row13\" class=\"row_heading level0 row13\" >lightgbm</th>\n",
       "      <td id=\"T_1e763_row13_col0\" class=\"data row13 col0\" >Light Gradient Boosting Machine</td>\n",
       "      <td id=\"T_1e763_row13_col1\" class=\"data row13 col1\" >0.4729</td>\n",
       "      <td id=\"T_1e763_row13_col2\" class=\"data row13 col2\" >0.4758</td>\n",
       "      <td id=\"T_1e763_row13_col3\" class=\"data row13 col3\" >0.5000</td>\n",
       "      <td id=\"T_1e763_row13_col4\" class=\"data row13 col4\" >0.4734</td>\n",
       "      <td id=\"T_1e763_row13_col5\" class=\"data row13 col5\" >0.4859</td>\n",
       "      <td id=\"T_1e763_row13_col6\" class=\"data row13 col6\" >-0.0543</td>\n",
       "      <td id=\"T_1e763_row13_col7\" class=\"data row13 col7\" >-0.0544</td>\n",
       "      <td id=\"T_1e763_row13_col8\" class=\"data row13 col8\" >0.1870</td>\n",
       "    </tr>\n",
       "  </tbody>\n",
       "</table>\n"
      ],
      "text/plain": [
       "<pandas.io.formats.style.Styler at 0x230e3ba9f30>"
      ]
     },
     "metadata": {},
     "output_type": "display_data"
    },
    {
     "data": {
      "text/html": [],
      "text/plain": [
       "<IPython.core.display.HTML object>"
      ]
     },
     "metadata": {},
     "output_type": "display_data"
    }
   ],
   "source": [
    "best = compare_models()"
   ]
  },
  {
   "cell_type": "code",
   "execution_count": null,
   "id": "fcb222f8",
   "metadata": {},
   "outputs": [],
   "source": []
  },
  {
   "cell_type": "code",
   "execution_count": 40,
   "id": "e5f35769",
   "metadata": {},
   "outputs": [
    {
     "data": {
      "text/html": [
       "<style type=\"text/css\">\n",
       "#T_316e6_row8_col1 {\n",
       "  background-color: lightgreen;\n",
       "}\n",
       "</style>\n",
       "<table id=\"T_316e6\">\n",
       "  <thead>\n",
       "    <tr>\n",
       "      <th class=\"blank level0\" >&nbsp;</th>\n",
       "      <th id=\"T_316e6_level0_col0\" class=\"col_heading level0 col0\" >Description</th>\n",
       "      <th id=\"T_316e6_level0_col1\" class=\"col_heading level0 col1\" >Value</th>\n",
       "    </tr>\n",
       "  </thead>\n",
       "  <tbody>\n",
       "    <tr>\n",
       "      <th id=\"T_316e6_level0_row0\" class=\"row_heading level0 row0\" >0</th>\n",
       "      <td id=\"T_316e6_row0_col0\" class=\"data row0 col0\" >Session id</td>\n",
       "      <td id=\"T_316e6_row0_col1\" class=\"data row0 col1\" >7347</td>\n",
       "    </tr>\n",
       "    <tr>\n",
       "      <th id=\"T_316e6_level0_row1\" class=\"row_heading level0 row1\" >1</th>\n",
       "      <td id=\"T_316e6_row1_col0\" class=\"data row1 col0\" >Target</td>\n",
       "      <td id=\"T_316e6_row1_col1\" class=\"data row1 col1\" >label</td>\n",
       "    </tr>\n",
       "    <tr>\n",
       "      <th id=\"T_316e6_level0_row2\" class=\"row_heading level0 row2\" >2</th>\n",
       "      <td id=\"T_316e6_row2_col0\" class=\"data row2 col0\" >Target type</td>\n",
       "      <td id=\"T_316e6_row2_col1\" class=\"data row2 col1\" >Binary</td>\n",
       "    </tr>\n",
       "    <tr>\n",
       "      <th id=\"T_316e6_level0_row3\" class=\"row_heading level0 row3\" >3</th>\n",
       "      <td id=\"T_316e6_row3_col0\" class=\"data row3 col0\" >Original data shape</td>\n",
       "      <td id=\"T_316e6_row3_col1\" class=\"data row3 col1\" >(8000, 2)</td>\n",
       "    </tr>\n",
       "    <tr>\n",
       "      <th id=\"T_316e6_level0_row4\" class=\"row_heading level0 row4\" >4</th>\n",
       "      <td id=\"T_316e6_row4_col0\" class=\"data row4 col0\" >Transformed data shape</td>\n",
       "      <td id=\"T_316e6_row4_col1\" class=\"data row4 col1\" >(8000, 2)</td>\n",
       "    </tr>\n",
       "    <tr>\n",
       "      <th id=\"T_316e6_level0_row5\" class=\"row_heading level0 row5\" >5</th>\n",
       "      <td id=\"T_316e6_row5_col0\" class=\"data row5 col0\" >Transformed train set shape</td>\n",
       "      <td id=\"T_316e6_row5_col1\" class=\"data row5 col1\" >(5600, 2)</td>\n",
       "    </tr>\n",
       "    <tr>\n",
       "      <th id=\"T_316e6_level0_row6\" class=\"row_heading level0 row6\" >6</th>\n",
       "      <td id=\"T_316e6_row6_col0\" class=\"data row6 col0\" >Transformed test set shape</td>\n",
       "      <td id=\"T_316e6_row6_col1\" class=\"data row6 col1\" >(2400, 2)</td>\n",
       "    </tr>\n",
       "    <tr>\n",
       "      <th id=\"T_316e6_level0_row7\" class=\"row_heading level0 row7\" >7</th>\n",
       "      <td id=\"T_316e6_row7_col0\" class=\"data row7 col0\" >Numeric features</td>\n",
       "      <td id=\"T_316e6_row7_col1\" class=\"data row7 col1\" >1</td>\n",
       "    </tr>\n",
       "    <tr>\n",
       "      <th id=\"T_316e6_level0_row8\" class=\"row_heading level0 row8\" >8</th>\n",
       "      <td id=\"T_316e6_row8_col0\" class=\"data row8 col0\" >Preprocess</td>\n",
       "      <td id=\"T_316e6_row8_col1\" class=\"data row8 col1\" >True</td>\n",
       "    </tr>\n",
       "    <tr>\n",
       "      <th id=\"T_316e6_level0_row9\" class=\"row_heading level0 row9\" >9</th>\n",
       "      <td id=\"T_316e6_row9_col0\" class=\"data row9 col0\" >Imputation type</td>\n",
       "      <td id=\"T_316e6_row9_col1\" class=\"data row9 col1\" >simple</td>\n",
       "    </tr>\n",
       "    <tr>\n",
       "      <th id=\"T_316e6_level0_row10\" class=\"row_heading level0 row10\" >10</th>\n",
       "      <td id=\"T_316e6_row10_col0\" class=\"data row10 col0\" >Numeric imputation</td>\n",
       "      <td id=\"T_316e6_row10_col1\" class=\"data row10 col1\" >mean</td>\n",
       "    </tr>\n",
       "    <tr>\n",
       "      <th id=\"T_316e6_level0_row11\" class=\"row_heading level0 row11\" >11</th>\n",
       "      <td id=\"T_316e6_row11_col0\" class=\"data row11 col0\" >Categorical imputation</td>\n",
       "      <td id=\"T_316e6_row11_col1\" class=\"data row11 col1\" >mode</td>\n",
       "    </tr>\n",
       "    <tr>\n",
       "      <th id=\"T_316e6_level0_row12\" class=\"row_heading level0 row12\" >12</th>\n",
       "      <td id=\"T_316e6_row12_col0\" class=\"data row12 col0\" >Fold Generator</td>\n",
       "      <td id=\"T_316e6_row12_col1\" class=\"data row12 col1\" >StratifiedKFold</td>\n",
       "    </tr>\n",
       "    <tr>\n",
       "      <th id=\"T_316e6_level0_row13\" class=\"row_heading level0 row13\" >13</th>\n",
       "      <td id=\"T_316e6_row13_col0\" class=\"data row13 col0\" >Fold Number</td>\n",
       "      <td id=\"T_316e6_row13_col1\" class=\"data row13 col1\" >10</td>\n",
       "    </tr>\n",
       "    <tr>\n",
       "      <th id=\"T_316e6_level0_row14\" class=\"row_heading level0 row14\" >14</th>\n",
       "      <td id=\"T_316e6_row14_col0\" class=\"data row14 col0\" >CPU Jobs</td>\n",
       "      <td id=\"T_316e6_row14_col1\" class=\"data row14 col1\" >-1</td>\n",
       "    </tr>\n",
       "    <tr>\n",
       "      <th id=\"T_316e6_level0_row15\" class=\"row_heading level0 row15\" >15</th>\n",
       "      <td id=\"T_316e6_row15_col0\" class=\"data row15 col0\" >Use GPU</td>\n",
       "      <td id=\"T_316e6_row15_col1\" class=\"data row15 col1\" >False</td>\n",
       "    </tr>\n",
       "    <tr>\n",
       "      <th id=\"T_316e6_level0_row16\" class=\"row_heading level0 row16\" >16</th>\n",
       "      <td id=\"T_316e6_row16_col0\" class=\"data row16 col0\" >Log Experiment</td>\n",
       "      <td id=\"T_316e6_row16_col1\" class=\"data row16 col1\" >False</td>\n",
       "    </tr>\n",
       "    <tr>\n",
       "      <th id=\"T_316e6_level0_row17\" class=\"row_heading level0 row17\" >17</th>\n",
       "      <td id=\"T_316e6_row17_col0\" class=\"data row17 col0\" >Experiment Name</td>\n",
       "      <td id=\"T_316e6_row17_col1\" class=\"data row17 col1\" >clf-default-name</td>\n",
       "    </tr>\n",
       "    <tr>\n",
       "      <th id=\"T_316e6_level0_row18\" class=\"row_heading level0 row18\" >18</th>\n",
       "      <td id=\"T_316e6_row18_col0\" class=\"data row18 col0\" >USI</td>\n",
       "      <td id=\"T_316e6_row18_col1\" class=\"data row18 col1\" >79ca</td>\n",
       "    </tr>\n",
       "  </tbody>\n",
       "</table>\n"
      ],
      "text/plain": [
       "<pandas.io.formats.style.Styler at 0x230e3c1fb20>"
      ]
     },
     "metadata": {},
     "output_type": "display_data"
    }
   ],
   "source": [
    "originaldata = setup(data = OverSampling, target = 'label')"
   ]
  },
  {
   "cell_type": "code",
   "execution_count": 41,
   "id": "719d710e",
   "metadata": {},
   "outputs": [
    {
     "data": {
      "text/html": [],
      "text/plain": [
       "<IPython.core.display.HTML object>"
      ]
     },
     "metadata": {},
     "output_type": "display_data"
    },
    {
     "data": {
      "text/html": [
       "<style type=\"text/css\">\n",
       "#T_95c1b th {\n",
       "  text-align: left;\n",
       "}\n",
       "#T_95c1b_row0_col0, #T_95c1b_row0_col2, #T_95c1b_row0_col4, #T_95c1b_row1_col0, #T_95c1b_row1_col2, #T_95c1b_row1_col3, #T_95c1b_row1_col5, #T_95c1b_row1_col7, #T_95c1b_row2_col0, #T_95c1b_row2_col1, #T_95c1b_row2_col3, #T_95c1b_row2_col4, #T_95c1b_row2_col5, #T_95c1b_row2_col6, #T_95c1b_row2_col7, #T_95c1b_row3_col0, #T_95c1b_row3_col1, #T_95c1b_row3_col2, #T_95c1b_row3_col3, #T_95c1b_row3_col4, #T_95c1b_row3_col5, #T_95c1b_row3_col6, #T_95c1b_row3_col7, #T_95c1b_row4_col0, #T_95c1b_row4_col1, #T_95c1b_row4_col2, #T_95c1b_row4_col3, #T_95c1b_row4_col4, #T_95c1b_row4_col5, #T_95c1b_row4_col6, #T_95c1b_row4_col7, #T_95c1b_row5_col0, #T_95c1b_row5_col1, #T_95c1b_row5_col2, #T_95c1b_row5_col3, #T_95c1b_row5_col4, #T_95c1b_row5_col5, #T_95c1b_row5_col6, #T_95c1b_row5_col7, #T_95c1b_row6_col0, #T_95c1b_row6_col1, #T_95c1b_row6_col2, #T_95c1b_row6_col3, #T_95c1b_row6_col4, #T_95c1b_row6_col5, #T_95c1b_row6_col6, #T_95c1b_row6_col7, #T_95c1b_row7_col0, #T_95c1b_row7_col1, #T_95c1b_row7_col2, #T_95c1b_row7_col3, #T_95c1b_row7_col4, #T_95c1b_row7_col5, #T_95c1b_row7_col6, #T_95c1b_row7_col7, #T_95c1b_row8_col0, #T_95c1b_row8_col1, #T_95c1b_row8_col2, #T_95c1b_row8_col3, #T_95c1b_row8_col4, #T_95c1b_row8_col5, #T_95c1b_row8_col6, #T_95c1b_row8_col7, #T_95c1b_row9_col0, #T_95c1b_row9_col1, #T_95c1b_row9_col2, #T_95c1b_row9_col3, #T_95c1b_row9_col4, #T_95c1b_row9_col5, #T_95c1b_row9_col6, #T_95c1b_row9_col7, #T_95c1b_row10_col0, #T_95c1b_row10_col1, #T_95c1b_row10_col2, #T_95c1b_row10_col3, #T_95c1b_row10_col4, #T_95c1b_row10_col5, #T_95c1b_row10_col6, #T_95c1b_row10_col7, #T_95c1b_row11_col0, #T_95c1b_row11_col1, #T_95c1b_row11_col2, #T_95c1b_row11_col3, #T_95c1b_row11_col4, #T_95c1b_row11_col5, #T_95c1b_row11_col6, #T_95c1b_row11_col7, #T_95c1b_row12_col0, #T_95c1b_row12_col1, #T_95c1b_row12_col2, #T_95c1b_row12_col3, #T_95c1b_row12_col4, #T_95c1b_row12_col5, #T_95c1b_row12_col6, #T_95c1b_row12_col7, #T_95c1b_row13_col0, #T_95c1b_row13_col1, #T_95c1b_row13_col2, #T_95c1b_row13_col3, #T_95c1b_row13_col4, #T_95c1b_row13_col5, #T_95c1b_row13_col6, #T_95c1b_row13_col7 {\n",
       "  text-align: left;\n",
       "}\n",
       "#T_95c1b_row0_col1, #T_95c1b_row0_col3, #T_95c1b_row0_col5, #T_95c1b_row0_col6, #T_95c1b_row0_col7, #T_95c1b_row1_col1, #T_95c1b_row1_col4, #T_95c1b_row1_col6, #T_95c1b_row2_col2 {\n",
       "  text-align: left;\n",
       "  background-color: yellow;\n",
       "}\n",
       "#T_95c1b_row0_col8, #T_95c1b_row1_col8, #T_95c1b_row2_col8, #T_95c1b_row3_col8, #T_95c1b_row4_col8, #T_95c1b_row5_col8, #T_95c1b_row6_col8, #T_95c1b_row7_col8, #T_95c1b_row8_col8, #T_95c1b_row9_col8, #T_95c1b_row10_col8, #T_95c1b_row11_col8, #T_95c1b_row12_col8 {\n",
       "  text-align: left;\n",
       "  background-color: lightgrey;\n",
       "}\n",
       "#T_95c1b_row13_col8 {\n",
       "  text-align: left;\n",
       "  background-color: yellow;\n",
       "  background-color: lightgrey;\n",
       "}\n",
       "</style>\n",
       "<table id=\"T_95c1b\">\n",
       "  <thead>\n",
       "    <tr>\n",
       "      <th class=\"blank level0\" >&nbsp;</th>\n",
       "      <th id=\"T_95c1b_level0_col0\" class=\"col_heading level0 col0\" >Model</th>\n",
       "      <th id=\"T_95c1b_level0_col1\" class=\"col_heading level0 col1\" >Accuracy</th>\n",
       "      <th id=\"T_95c1b_level0_col2\" class=\"col_heading level0 col2\" >AUC</th>\n",
       "      <th id=\"T_95c1b_level0_col3\" class=\"col_heading level0 col3\" >Recall</th>\n",
       "      <th id=\"T_95c1b_level0_col4\" class=\"col_heading level0 col4\" >Prec.</th>\n",
       "      <th id=\"T_95c1b_level0_col5\" class=\"col_heading level0 col5\" >F1</th>\n",
       "      <th id=\"T_95c1b_level0_col6\" class=\"col_heading level0 col6\" >Kappa</th>\n",
       "      <th id=\"T_95c1b_level0_col7\" class=\"col_heading level0 col7\" >MCC</th>\n",
       "      <th id=\"T_95c1b_level0_col8\" class=\"col_heading level0 col8\" >TT (Sec)</th>\n",
       "    </tr>\n",
       "  </thead>\n",
       "  <tbody>\n",
       "    <tr>\n",
       "      <th id=\"T_95c1b_level0_row0\" class=\"row_heading level0 row0\" >knn</th>\n",
       "      <td id=\"T_95c1b_row0_col0\" class=\"data row0 col0\" >K Neighbors Classifier</td>\n",
       "      <td id=\"T_95c1b_row0_col1\" class=\"data row0 col1\" >0.5968</td>\n",
       "      <td id=\"T_95c1b_row0_col2\" class=\"data row0 col2\" >0.6407</td>\n",
       "      <td id=\"T_95c1b_row0_col3\" class=\"data row0 col3\" >0.6343</td>\n",
       "      <td id=\"T_95c1b_row0_col4\" class=\"data row0 col4\" >0.5901</td>\n",
       "      <td id=\"T_95c1b_row0_col5\" class=\"data row0 col5\" >0.6112</td>\n",
       "      <td id=\"T_95c1b_row0_col6\" class=\"data row0 col6\" >0.1936</td>\n",
       "      <td id=\"T_95c1b_row0_col7\" class=\"data row0 col7\" >0.1942</td>\n",
       "      <td id=\"T_95c1b_row0_col8\" class=\"data row0 col8\" >0.0970</td>\n",
       "    </tr>\n",
       "    <tr>\n",
       "      <th id=\"T_95c1b_level0_row1\" class=\"row_heading level0 row1\" >et</th>\n",
       "      <td id=\"T_95c1b_row1_col0\" class=\"data row1 col0\" >Extra Trees Classifier</td>\n",
       "      <td id=\"T_95c1b_row1_col1\" class=\"data row1 col1\" >0.5968</td>\n",
       "      <td id=\"T_95c1b_row1_col2\" class=\"data row1 col2\" >0.6221</td>\n",
       "      <td id=\"T_95c1b_row1_col3\" class=\"data row1 col3\" >0.5986</td>\n",
       "      <td id=\"T_95c1b_row1_col4\" class=\"data row1 col4\" >0.5965</td>\n",
       "      <td id=\"T_95c1b_row1_col5\" class=\"data row1 col5\" >0.5974</td>\n",
       "      <td id=\"T_95c1b_row1_col6\" class=\"data row1 col6\" >0.1936</td>\n",
       "      <td id=\"T_95c1b_row1_col7\" class=\"data row1 col7\" >0.1937</td>\n",
       "      <td id=\"T_95c1b_row1_col8\" class=\"data row1 col8\" >0.3980</td>\n",
       "    </tr>\n",
       "    <tr>\n",
       "      <th id=\"T_95c1b_level0_row2\" class=\"row_heading level0 row2\" >rf</th>\n",
       "      <td id=\"T_95c1b_row2_col0\" class=\"data row2 col0\" >Random Forest Classifier</td>\n",
       "      <td id=\"T_95c1b_row2_col1\" class=\"data row2 col1\" >0.5954</td>\n",
       "      <td id=\"T_95c1b_row2_col2\" class=\"data row2 col2\" >0.6428</td>\n",
       "      <td id=\"T_95c1b_row2_col3\" class=\"data row2 col3\" >0.6000</td>\n",
       "      <td id=\"T_95c1b_row2_col4\" class=\"data row2 col4\" >0.5945</td>\n",
       "      <td id=\"T_95c1b_row2_col5\" class=\"data row2 col5\" >0.5971</td>\n",
       "      <td id=\"T_95c1b_row2_col6\" class=\"data row2 col6\" >0.1907</td>\n",
       "      <td id=\"T_95c1b_row2_col7\" class=\"data row2 col7\" >0.1908</td>\n",
       "      <td id=\"T_95c1b_row2_col8\" class=\"data row2 col8\" >0.8750</td>\n",
       "    </tr>\n",
       "    <tr>\n",
       "      <th id=\"T_95c1b_level0_row3\" class=\"row_heading level0 row3\" >dt</th>\n",
       "      <td id=\"T_95c1b_row3_col0\" class=\"data row3 col0\" >Decision Tree Classifier</td>\n",
       "      <td id=\"T_95c1b_row3_col1\" class=\"data row3 col1\" >0.5936</td>\n",
       "      <td id=\"T_95c1b_row3_col2\" class=\"data row3 col2\" >0.5966</td>\n",
       "      <td id=\"T_95c1b_row3_col3\" class=\"data row3 col3\" >0.5879</td>\n",
       "      <td id=\"T_95c1b_row3_col4\" class=\"data row3 col4\" >0.5946</td>\n",
       "      <td id=\"T_95c1b_row3_col5\" class=\"data row3 col5\" >0.5910</td>\n",
       "      <td id=\"T_95c1b_row3_col6\" class=\"data row3 col6\" >0.1871</td>\n",
       "      <td id=\"T_95c1b_row3_col7\" class=\"data row3 col7\" >0.1872</td>\n",
       "      <td id=\"T_95c1b_row3_col8\" class=\"data row3 col8\" >0.0400</td>\n",
       "    </tr>\n",
       "    <tr>\n",
       "      <th id=\"T_95c1b_level0_row4\" class=\"row_heading level0 row4\" >gbc</th>\n",
       "      <td id=\"T_95c1b_row4_col0\" class=\"data row4 col0\" >Gradient Boosting Classifier</td>\n",
       "      <td id=\"T_95c1b_row4_col1\" class=\"data row4 col1\" >0.5711</td>\n",
       "      <td id=\"T_95c1b_row4_col2\" class=\"data row4 col2\" >0.6044</td>\n",
       "      <td id=\"T_95c1b_row4_col3\" class=\"data row4 col3\" >0.5704</td>\n",
       "      <td id=\"T_95c1b_row4_col4\" class=\"data row4 col4\" >0.5713</td>\n",
       "      <td id=\"T_95c1b_row4_col5\" class=\"data row4 col5\" >0.5704</td>\n",
       "      <td id=\"T_95c1b_row4_col6\" class=\"data row4 col6\" >0.1421</td>\n",
       "      <td id=\"T_95c1b_row4_col7\" class=\"data row4 col7\" >0.1424</td>\n",
       "      <td id=\"T_95c1b_row4_col8\" class=\"data row4 col8\" >0.3320</td>\n",
       "    </tr>\n",
       "    <tr>\n",
       "      <th id=\"T_95c1b_level0_row5\" class=\"row_heading level0 row5\" >lightgbm</th>\n",
       "      <td id=\"T_95c1b_row5_col0\" class=\"data row5 col0\" >Light Gradient Boosting Machine</td>\n",
       "      <td id=\"T_95c1b_row5_col1\" class=\"data row5 col1\" >0.5652</td>\n",
       "      <td id=\"T_95c1b_row5_col2\" class=\"data row5 col2\" >0.5935</td>\n",
       "      <td id=\"T_95c1b_row5_col3\" class=\"data row5 col3\" >0.5593</td>\n",
       "      <td id=\"T_95c1b_row5_col4\" class=\"data row5 col4\" >0.5661</td>\n",
       "      <td id=\"T_95c1b_row5_col5\" class=\"data row5 col5\" >0.5623</td>\n",
       "      <td id=\"T_95c1b_row5_col6\" class=\"data row5 col6\" >0.1304</td>\n",
       "      <td id=\"T_95c1b_row5_col7\" class=\"data row5 col7\" >0.1305</td>\n",
       "      <td id=\"T_95c1b_row5_col8\" class=\"data row5 col8\" >0.1860</td>\n",
       "    </tr>\n",
       "    <tr>\n",
       "      <th id=\"T_95c1b_level0_row6\" class=\"row_heading level0 row6\" >ada</th>\n",
       "      <td id=\"T_95c1b_row6_col0\" class=\"data row6 col0\" >Ada Boost Classifier</td>\n",
       "      <td id=\"T_95c1b_row6_col1\" class=\"data row6 col1\" >0.5373</td>\n",
       "      <td id=\"T_95c1b_row6_col2\" class=\"data row6 col2\" >0.5480</td>\n",
       "      <td id=\"T_95c1b_row6_col3\" class=\"data row6 col3\" >0.5232</td>\n",
       "      <td id=\"T_95c1b_row6_col4\" class=\"data row6 col4\" >0.5391</td>\n",
       "      <td id=\"T_95c1b_row6_col5\" class=\"data row6 col5\" >0.5294</td>\n",
       "      <td id=\"T_95c1b_row6_col6\" class=\"data row6 col6\" >0.0746</td>\n",
       "      <td id=\"T_95c1b_row6_col7\" class=\"data row6 col7\" >0.0751</td>\n",
       "      <td id=\"T_95c1b_row6_col8\" class=\"data row6 col8\" >0.1700</td>\n",
       "    </tr>\n",
       "    <tr>\n",
       "      <th id=\"T_95c1b_level0_row7\" class=\"row_heading level0 row7\" >nb</th>\n",
       "      <td id=\"T_95c1b_row7_col0\" class=\"data row7 col0\" >Naive Bayes</td>\n",
       "      <td id=\"T_95c1b_row7_col1\" class=\"data row7 col1\" >0.5009</td>\n",
       "      <td id=\"T_95c1b_row7_col2\" class=\"data row7 col2\" >0.5024</td>\n",
       "      <td id=\"T_95c1b_row7_col3\" class=\"data row7 col3\" >0.6125</td>\n",
       "      <td id=\"T_95c1b_row7_col4\" class=\"data row7 col4\" >0.5007</td>\n",
       "      <td id=\"T_95c1b_row7_col5\" class=\"data row7 col5\" >0.5502</td>\n",
       "      <td id=\"T_95c1b_row7_col6\" class=\"data row7 col6\" >0.0018</td>\n",
       "      <td id=\"T_95c1b_row7_col7\" class=\"data row7 col7\" >0.0018</td>\n",
       "      <td id=\"T_95c1b_row7_col8\" class=\"data row7 col8\" >0.0260</td>\n",
       "    </tr>\n",
       "    <tr>\n",
       "      <th id=\"T_95c1b_level0_row8\" class=\"row_heading level0 row8\" >qda</th>\n",
       "      <td id=\"T_95c1b_row8_col0\" class=\"data row8 col0\" >Quadratic Discriminant Analysis</td>\n",
       "      <td id=\"T_95c1b_row8_col1\" class=\"data row8 col1\" >0.5009</td>\n",
       "      <td id=\"T_95c1b_row8_col2\" class=\"data row8 col2\" >0.5024</td>\n",
       "      <td id=\"T_95c1b_row8_col3\" class=\"data row8 col3\" >0.6125</td>\n",
       "      <td id=\"T_95c1b_row8_col4\" class=\"data row8 col4\" >0.5007</td>\n",
       "      <td id=\"T_95c1b_row8_col5\" class=\"data row8 col5\" >0.5502</td>\n",
       "      <td id=\"T_95c1b_row8_col6\" class=\"data row8 col6\" >0.0018</td>\n",
       "      <td id=\"T_95c1b_row8_col7\" class=\"data row8 col7\" >0.0018</td>\n",
       "      <td id=\"T_95c1b_row8_col8\" class=\"data row8 col8\" >0.0270</td>\n",
       "    </tr>\n",
       "    <tr>\n",
       "      <th id=\"T_95c1b_level0_row9\" class=\"row_heading level0 row9\" >svm</th>\n",
       "      <td id=\"T_95c1b_row9_col0\" class=\"data row9 col0\" >SVM - Linear Kernel</td>\n",
       "      <td id=\"T_95c1b_row9_col1\" class=\"data row9 col1\" >0.5000</td>\n",
       "      <td id=\"T_95c1b_row9_col2\" class=\"data row9 col2\" >0.5006</td>\n",
       "      <td id=\"T_95c1b_row9_col3\" class=\"data row9 col3\" >0.4000</td>\n",
       "      <td id=\"T_95c1b_row9_col4\" class=\"data row9 col4\" >0.2000</td>\n",
       "      <td id=\"T_95c1b_row9_col5\" class=\"data row9 col5\" >0.2667</td>\n",
       "      <td id=\"T_95c1b_row9_col6\" class=\"data row9 col6\" >0.0000</td>\n",
       "      <td id=\"T_95c1b_row9_col7\" class=\"data row9 col7\" >0.0000</td>\n",
       "      <td id=\"T_95c1b_row9_col8\" class=\"data row9 col8\" >0.0510</td>\n",
       "    </tr>\n",
       "    <tr>\n",
       "      <th id=\"T_95c1b_level0_row10\" class=\"row_heading level0 row10\" >dummy</th>\n",
       "      <td id=\"T_95c1b_row10_col0\" class=\"data row10 col0\" >Dummy Classifier</td>\n",
       "      <td id=\"T_95c1b_row10_col1\" class=\"data row10 col1\" >0.5000</td>\n",
       "      <td id=\"T_95c1b_row10_col2\" class=\"data row10 col2\" >0.5000</td>\n",
       "      <td id=\"T_95c1b_row10_col3\" class=\"data row10 col3\" >0.0000</td>\n",
       "      <td id=\"T_95c1b_row10_col4\" class=\"data row10 col4\" >0.0000</td>\n",
       "      <td id=\"T_95c1b_row10_col5\" class=\"data row10 col5\" >0.0000</td>\n",
       "      <td id=\"T_95c1b_row10_col6\" class=\"data row10 col6\" >0.0000</td>\n",
       "      <td id=\"T_95c1b_row10_col7\" class=\"data row10 col7\" >0.0000</td>\n",
       "      <td id=\"T_95c1b_row10_col8\" class=\"data row10 col8\" >0.0270</td>\n",
       "    </tr>\n",
       "    <tr>\n",
       "      <th id=\"T_95c1b_level0_row11\" class=\"row_heading level0 row11\" >lr</th>\n",
       "      <td id=\"T_95c1b_row11_col0\" class=\"data row11 col0\" >Logistic Regression</td>\n",
       "      <td id=\"T_95c1b_row11_col1\" class=\"data row11 col1\" >0.4907</td>\n",
       "      <td id=\"T_95c1b_row11_col2\" class=\"data row11 col2\" >0.4848</td>\n",
       "      <td id=\"T_95c1b_row11_col3\" class=\"data row11 col3\" >0.3389</td>\n",
       "      <td id=\"T_95c1b_row11_col4\" class=\"data row11 col4\" >0.2900</td>\n",
       "      <td id=\"T_95c1b_row11_col5\" class=\"data row11 col5\" >0.3059</td>\n",
       "      <td id=\"T_95c1b_row11_col6\" class=\"data row11 col6\" >-0.0186</td>\n",
       "      <td id=\"T_95c1b_row11_col7\" class=\"data row11 col7\" >-0.0186</td>\n",
       "      <td id=\"T_95c1b_row11_col8\" class=\"data row11 col8\" >0.0310</td>\n",
       "    </tr>\n",
       "    <tr>\n",
       "      <th id=\"T_95c1b_level0_row12\" class=\"row_heading level0 row12\" >ridge</th>\n",
       "      <td id=\"T_95c1b_row12_col0\" class=\"data row12 col0\" >Ridge Classifier</td>\n",
       "      <td id=\"T_95c1b_row12_col1\" class=\"data row12 col1\" >0.4905</td>\n",
       "      <td id=\"T_95c1b_row12_col2\" class=\"data row12 col2\" >0.4848</td>\n",
       "      <td id=\"T_95c1b_row12_col3\" class=\"data row12 col3\" >0.4954</td>\n",
       "      <td id=\"T_95c1b_row12_col4\" class=\"data row12 col4\" >0.4899</td>\n",
       "      <td id=\"T_95c1b_row12_col5\" class=\"data row12 col5\" >0.4924</td>\n",
       "      <td id=\"T_95c1b_row12_col6\" class=\"data row12 col6\" >-0.0189</td>\n",
       "      <td id=\"T_95c1b_row12_col7\" class=\"data row12 col7\" >-0.0190</td>\n",
       "      <td id=\"T_95c1b_row12_col8\" class=\"data row12 col8\" >0.0260</td>\n",
       "    </tr>\n",
       "    <tr>\n",
       "      <th id=\"T_95c1b_level0_row13\" class=\"row_heading level0 row13\" >lda</th>\n",
       "      <td id=\"T_95c1b_row13_col0\" class=\"data row13 col0\" >Linear Discriminant Analysis</td>\n",
       "      <td id=\"T_95c1b_row13_col1\" class=\"data row13 col1\" >0.4905</td>\n",
       "      <td id=\"T_95c1b_row13_col2\" class=\"data row13 col2\" >0.4848</td>\n",
       "      <td id=\"T_95c1b_row13_col3\" class=\"data row13 col3\" >0.4954</td>\n",
       "      <td id=\"T_95c1b_row13_col4\" class=\"data row13 col4\" >0.4899</td>\n",
       "      <td id=\"T_95c1b_row13_col5\" class=\"data row13 col5\" >0.4924</td>\n",
       "      <td id=\"T_95c1b_row13_col6\" class=\"data row13 col6\" >-0.0189</td>\n",
       "      <td id=\"T_95c1b_row13_col7\" class=\"data row13 col7\" >-0.0190</td>\n",
       "      <td id=\"T_95c1b_row13_col8\" class=\"data row13 col8\" >0.0250</td>\n",
       "    </tr>\n",
       "  </tbody>\n",
       "</table>\n"
      ],
      "text/plain": [
       "<pandas.io.formats.style.Styler at 0x230e3c1db40>"
      ]
     },
     "metadata": {},
     "output_type": "display_data"
    },
    {
     "data": {
      "text/html": [],
      "text/plain": [
       "<IPython.core.display.HTML object>"
      ]
     },
     "metadata": {},
     "output_type": "display_data"
    }
   ],
   "source": [
    "best = compare_models()"
   ]
  },
  {
   "cell_type": "code",
   "execution_count": null,
   "id": "736060fb",
   "metadata": {},
   "outputs": [],
   "source": []
  }
 ],
 "metadata": {
  "kernelspec": {
   "display_name": "Python 3 (ipykernel)",
   "language": "python",
   "name": "python3"
  },
  "language_info": {
   "codemirror_mode": {
    "name": "ipython",
    "version": 3
   },
   "file_extension": ".py",
   "mimetype": "text/x-python",
   "name": "python",
   "nbconvert_exporter": "python",
   "pygments_lexer": "ipython3",
   "version": "3.10.11"
  }
 },
 "nbformat": 4,
 "nbformat_minor": 5
}
