{
 "cells": [
  {
   "cell_type": "code",
   "execution_count": 51,
   "id": "e7438158",
   "metadata": {},
   "outputs": [],
   "source": [
    "import time, os, glob\n",
    "\n",
    "import pandas as pd\n",
    "import numpy as np\n",
    "\n",
    "# for ploting\n",
    "import plotly.express as px\n",
    "import plotly.graph_objects as go\n",
    "from plotly.subplots import make_subplots\n",
    "\n",
    "import seaborn as sns\n",
    "import matplotlib.pyplot as plt"
   ]
  },
  {
   "cell_type": "code",
   "execution_count": 2,
   "id": "fcaf228a",
   "metadata": {},
   "outputs": [
    {
     "data": {
      "text/html": [
       "<div>\n",
       "<style scoped>\n",
       "    .dataframe tbody tr th:only-of-type {\n",
       "        vertical-align: middle;\n",
       "    }\n",
       "\n",
       "    .dataframe tbody tr th {\n",
       "        vertical-align: top;\n",
       "    }\n",
       "\n",
       "    .dataframe thead th {\n",
       "        text-align: right;\n",
       "    }\n",
       "</style>\n",
       "<table border=\"1\" class=\"dataframe\">\n",
       "  <thead>\n",
       "    <tr style=\"text-align: right;\">\n",
       "      <th></th>\n",
       "      <th>Category</th>\n",
       "      <th>Resume</th>\n",
       "      <th>cleaned_resume</th>\n",
       "      <th>Category_name</th>\n",
       "    </tr>\n",
       "  </thead>\n",
       "  <tbody>\n",
       "    <tr>\n",
       "      <th>0</th>\n",
       "      <td>6</td>\n",
       "      <td>Skills * Programming Languages: Python (pandas...</td>\n",
       "      <td>Skills Programming Languages Python pandas num...</td>\n",
       "      <td>Data Science</td>\n",
       "    </tr>\n",
       "    <tr>\n",
       "      <th>1</th>\n",
       "      <td>6</td>\n",
       "      <td>Education Details \\r\\nMay 2013 to May 2017 B.E...</td>\n",
       "      <td>Education Details May 2013 to May 2017 B E UIT...</td>\n",
       "      <td>Data Science</td>\n",
       "    </tr>\n",
       "    <tr>\n",
       "      <th>2</th>\n",
       "      <td>6</td>\n",
       "      <td>Areas of Interest Deep Learning, Control Syste...</td>\n",
       "      <td>Areas of Interest Deep Learning Control System...</td>\n",
       "      <td>Data Science</td>\n",
       "    </tr>\n",
       "    <tr>\n",
       "      <th>3</th>\n",
       "      <td>6</td>\n",
       "      <td>Skills â¢ R â¢ Python â¢ SAP HANA â¢ Table...</td>\n",
       "      <td>Skills R Python SAP HANA Tableau SAP HANA SQL ...</td>\n",
       "      <td>Data Science</td>\n",
       "    </tr>\n",
       "    <tr>\n",
       "      <th>4</th>\n",
       "      <td>6</td>\n",
       "      <td>Education Details \\r\\n MCA   YMCAUST,  Faridab...</td>\n",
       "      <td>Education Details MCA YMCAUST Faridabad Haryan...</td>\n",
       "      <td>Data Science</td>\n",
       "    </tr>\n",
       "  </tbody>\n",
       "</table>\n",
       "</div>"
      ],
      "text/plain": [
       "   Category                                             Resume  \\\n",
       "0         6  Skills * Programming Languages: Python (pandas...   \n",
       "1         6  Education Details \\r\\nMay 2013 to May 2017 B.E...   \n",
       "2         6  Areas of Interest Deep Learning, Control Syste...   \n",
       "3         6  Skills â¢ R â¢ Python â¢ SAP HANA â¢ Table...   \n",
       "4         6  Education Details \\r\\n MCA   YMCAUST,  Faridab...   \n",
       "\n",
       "                                      cleaned_resume Category_name  \n",
       "0  Skills Programming Languages Python pandas num...  Data Science  \n",
       "1  Education Details May 2013 to May 2017 B E UIT...  Data Science  \n",
       "2  Areas of Interest Deep Learning Control System...  Data Science  \n",
       "3  Skills R Python SAP HANA Tableau SAP HANA SQL ...  Data Science  \n",
       "4  Education Details MCA YMCAUST Faridabad Haryan...  Data Science  "
      ]
     },
     "execution_count": 2,
     "metadata": {},
     "output_type": "execute_result"
    }
   ],
   "source": [
    "df = pd.read_csv(r'dataset/resume.csv')\n",
    "df.head()"
   ]
  },
  {
   "cell_type": "code",
   "execution_count": 3,
   "id": "3d3f273c",
   "metadata": {},
   "outputs": [
    {
     "data": {
      "text/plain": [
       "(962, 4)"
      ]
     },
     "execution_count": 3,
     "metadata": {},
     "output_type": "execute_result"
    }
   ],
   "source": [
    "df.shape"
   ]
  },
  {
   "cell_type": "code",
   "execution_count": 28,
   "id": "1aa3899a",
   "metadata": {},
   "outputs": [
    {
     "data": {
      "text/html": [
       "<div>\n",
       "<style scoped>\n",
       "    .dataframe tbody tr th:only-of-type {\n",
       "        vertical-align: middle;\n",
       "    }\n",
       "\n",
       "    .dataframe tbody tr th {\n",
       "        vertical-align: top;\n",
       "    }\n",
       "\n",
       "    .dataframe thead th {\n",
       "        text-align: right;\n",
       "    }\n",
       "</style>\n",
       "<table border=\"1\" class=\"dataframe\">\n",
       "  <thead>\n",
       "    <tr style=\"text-align: right;\">\n",
       "      <th></th>\n",
       "      <th>Category</th>\n",
       "      <th>Count</th>\n",
       "    </tr>\n",
       "  </thead>\n",
       "  <tbody>\n",
       "    <tr>\n",
       "      <th>0</th>\n",
       "      <td>Java Developer</td>\n",
       "      <td>84</td>\n",
       "    </tr>\n",
       "    <tr>\n",
       "      <th>1</th>\n",
       "      <td>Testing</td>\n",
       "      <td>70</td>\n",
       "    </tr>\n",
       "    <tr>\n",
       "      <th>2</th>\n",
       "      <td>DevOps Engineer</td>\n",
       "      <td>55</td>\n",
       "    </tr>\n",
       "    <tr>\n",
       "      <th>3</th>\n",
       "      <td>Python Developer</td>\n",
       "      <td>48</td>\n",
       "    </tr>\n",
       "    <tr>\n",
       "      <th>4</th>\n",
       "      <td>Web Designing</td>\n",
       "      <td>45</td>\n",
       "    </tr>\n",
       "    <tr>\n",
       "      <th>5</th>\n",
       "      <td>HR</td>\n",
       "      <td>44</td>\n",
       "    </tr>\n",
       "    <tr>\n",
       "      <th>6</th>\n",
       "      <td>Hadoop</td>\n",
       "      <td>42</td>\n",
       "    </tr>\n",
       "    <tr>\n",
       "      <th>7</th>\n",
       "      <td>Blockchain</td>\n",
       "      <td>40</td>\n",
       "    </tr>\n",
       "    <tr>\n",
       "      <th>8</th>\n",
       "      <td>ETL Developer</td>\n",
       "      <td>40</td>\n",
       "    </tr>\n",
       "    <tr>\n",
       "      <th>9</th>\n",
       "      <td>Operations Manager</td>\n",
       "      <td>40</td>\n",
       "    </tr>\n",
       "    <tr>\n",
       "      <th>10</th>\n",
       "      <td>Data Science</td>\n",
       "      <td>40</td>\n",
       "    </tr>\n",
       "    <tr>\n",
       "      <th>11</th>\n",
       "      <td>Sales</td>\n",
       "      <td>40</td>\n",
       "    </tr>\n",
       "    <tr>\n",
       "      <th>12</th>\n",
       "      <td>Mechanical Engineer</td>\n",
       "      <td>40</td>\n",
       "    </tr>\n",
       "    <tr>\n",
       "      <th>13</th>\n",
       "      <td>Arts</td>\n",
       "      <td>36</td>\n",
       "    </tr>\n",
       "    <tr>\n",
       "      <th>14</th>\n",
       "      <td>Database</td>\n",
       "      <td>33</td>\n",
       "    </tr>\n",
       "    <tr>\n",
       "      <th>15</th>\n",
       "      <td>Electrical Engineering</td>\n",
       "      <td>30</td>\n",
       "    </tr>\n",
       "    <tr>\n",
       "      <th>16</th>\n",
       "      <td>Health and fitness</td>\n",
       "      <td>30</td>\n",
       "    </tr>\n",
       "    <tr>\n",
       "      <th>17</th>\n",
       "      <td>PMO</td>\n",
       "      <td>30</td>\n",
       "    </tr>\n",
       "    <tr>\n",
       "      <th>18</th>\n",
       "      <td>Business Analyst</td>\n",
       "      <td>28</td>\n",
       "    </tr>\n",
       "    <tr>\n",
       "      <th>19</th>\n",
       "      <td>DotNet Developer</td>\n",
       "      <td>28</td>\n",
       "    </tr>\n",
       "    <tr>\n",
       "      <th>20</th>\n",
       "      <td>Automation Testing</td>\n",
       "      <td>26</td>\n",
       "    </tr>\n",
       "    <tr>\n",
       "      <th>21</th>\n",
       "      <td>Network Security Engineer</td>\n",
       "      <td>25</td>\n",
       "    </tr>\n",
       "    <tr>\n",
       "      <th>22</th>\n",
       "      <td>SAP Developer</td>\n",
       "      <td>24</td>\n",
       "    </tr>\n",
       "    <tr>\n",
       "      <th>23</th>\n",
       "      <td>Civil Engineer</td>\n",
       "      <td>24</td>\n",
       "    </tr>\n",
       "    <tr>\n",
       "      <th>24</th>\n",
       "      <td>Advocate</td>\n",
       "      <td>20</td>\n",
       "    </tr>\n",
       "  </tbody>\n",
       "</table>\n",
       "</div>"
      ],
      "text/plain": [
       "                     Category  Count\n",
       "0              Java Developer     84\n",
       "1                     Testing     70\n",
       "2             DevOps Engineer     55\n",
       "3            Python Developer     48\n",
       "4               Web Designing     45\n",
       "5                          HR     44\n",
       "6                      Hadoop     42\n",
       "7                  Blockchain     40\n",
       "8               ETL Developer     40\n",
       "9          Operations Manager     40\n",
       "10               Data Science     40\n",
       "11                      Sales     40\n",
       "12        Mechanical Engineer     40\n",
       "13                       Arts     36\n",
       "14                   Database     33\n",
       "15     Electrical Engineering     30\n",
       "16         Health and fitness     30\n",
       "17                        PMO     30\n",
       "18           Business Analyst     28\n",
       "19           DotNet Developer     28\n",
       "20         Automation Testing     26\n",
       "21  Network Security Engineer     25\n",
       "22              SAP Developer     24\n",
       "23             Civil Engineer     24\n",
       "24                   Advocate     20"
      ]
     },
     "execution_count": 28,
     "metadata": {},
     "output_type": "execute_result"
    }
   ],
   "source": [
    "Category, Count = list(df['Category_name'].value_counts().index), list(df['Category_name'].value_counts().values)\n",
    "df2 = pd.DataFrame(data = list(zip(Category, Count)), columns=['Category', 'Count'])\n",
    "df2"
   ]
  },
  {
   "cell_type": "code",
   "execution_count": 11,
   "id": "d52fdb91",
   "metadata": {},
   "outputs": [],
   "source": [
    "# sns.countplot(x ='Category_name', data = df)\n",
    "# # Show the plot\n",
    "# plt.show()"
   ]
  },
  {
   "cell_type": "code",
   "execution_count": 10,
   "id": "98c3997b",
   "metadata": {},
   "outputs": [
    {
     "data": {
      "application/vnd.plotly.v1+json": {
       "config": {
        "plotlyServerURL": "https://plot.ly"
       },
       "data": [
        {
         "alignmentgroup": "True",
         "bingroup": "x",
         "hovertemplate": "Category_name=%{x}<br>count=%{y}<extra></extra>",
         "legendgroup": "Data Science",
         "marker": {
          "color": "#636efa",
          "pattern": {
           "shape": ""
          }
         },
         "name": "Data Science",
         "offsetgroup": "Data Science",
         "orientation": "v",
         "showlegend": true,
         "type": "histogram",
         "x": [
          "Data Science",
          "Data Science",
          "Data Science",
          "Data Science",
          "Data Science",
          "Data Science",
          "Data Science",
          "Data Science",
          "Data Science",
          "Data Science",
          "Data Science",
          "Data Science",
          "Data Science",
          "Data Science",
          "Data Science",
          "Data Science",
          "Data Science",
          "Data Science",
          "Data Science",
          "Data Science",
          "Data Science",
          "Data Science",
          "Data Science",
          "Data Science",
          "Data Science",
          "Data Science",
          "Data Science",
          "Data Science",
          "Data Science",
          "Data Science",
          "Data Science",
          "Data Science",
          "Data Science",
          "Data Science",
          "Data Science",
          "Data Science",
          "Data Science",
          "Data Science",
          "Data Science",
          "Data Science"
         ],
         "xaxis": "x",
         "yaxis": "y"
        },
        {
         "alignmentgroup": "True",
         "bingroup": "x",
         "hovertemplate": "Category_name=%{x}<br>count=%{y}<extra></extra>",
         "legendgroup": "HR",
         "marker": {
          "color": "#EF553B",
          "pattern": {
           "shape": ""
          }
         },
         "name": "HR",
         "offsetgroup": "HR",
         "orientation": "v",
         "showlegend": true,
         "type": "histogram",
         "x": [
          "HR",
          "HR",
          "HR",
          "HR",
          "HR",
          "HR",
          "HR",
          "HR",
          "HR",
          "HR",
          "HR",
          "HR",
          "HR",
          "HR",
          "HR",
          "HR",
          "HR",
          "HR",
          "HR",
          "HR",
          "HR",
          "HR",
          "HR",
          "HR",
          "HR",
          "HR",
          "HR",
          "HR",
          "HR",
          "HR",
          "HR",
          "HR",
          "HR",
          "HR",
          "HR",
          "HR",
          "HR",
          "HR",
          "HR",
          "HR",
          "HR",
          "HR",
          "HR",
          "HR"
         ],
         "xaxis": "x",
         "yaxis": "y"
        },
        {
         "alignmentgroup": "True",
         "bingroup": "x",
         "hovertemplate": "Category_name=%{x}<br>count=%{y}<extra></extra>",
         "legendgroup": "Advocate",
         "marker": {
          "color": "#00cc96",
          "pattern": {
           "shape": ""
          }
         },
         "name": "Advocate",
         "offsetgroup": "Advocate",
         "orientation": "v",
         "showlegend": true,
         "type": "histogram",
         "x": [
          "Advocate",
          "Advocate",
          "Advocate",
          "Advocate",
          "Advocate",
          "Advocate",
          "Advocate",
          "Advocate",
          "Advocate",
          "Advocate",
          "Advocate",
          "Advocate",
          "Advocate",
          "Advocate",
          "Advocate",
          "Advocate",
          "Advocate",
          "Advocate",
          "Advocate",
          "Advocate"
         ],
         "xaxis": "x",
         "yaxis": "y"
        },
        {
         "alignmentgroup": "True",
         "bingroup": "x",
         "hovertemplate": "Category_name=%{x}<br>count=%{y}<extra></extra>",
         "legendgroup": "Arts",
         "marker": {
          "color": "#ab63fa",
          "pattern": {
           "shape": ""
          }
         },
         "name": "Arts",
         "offsetgroup": "Arts",
         "orientation": "v",
         "showlegend": true,
         "type": "histogram",
         "x": [
          "Arts",
          "Arts",
          "Arts",
          "Arts",
          "Arts",
          "Arts",
          "Arts",
          "Arts",
          "Arts",
          "Arts",
          "Arts",
          "Arts",
          "Arts",
          "Arts",
          "Arts",
          "Arts",
          "Arts",
          "Arts",
          "Arts",
          "Arts",
          "Arts",
          "Arts",
          "Arts",
          "Arts",
          "Arts",
          "Arts",
          "Arts",
          "Arts",
          "Arts",
          "Arts",
          "Arts",
          "Arts",
          "Arts",
          "Arts",
          "Arts",
          "Arts"
         ],
         "xaxis": "x",
         "yaxis": "y"
        },
        {
         "alignmentgroup": "True",
         "bingroup": "x",
         "hovertemplate": "Category_name=%{x}<br>count=%{y}<extra></extra>",
         "legendgroup": "Web Designing",
         "marker": {
          "color": "#FFA15A",
          "pattern": {
           "shape": ""
          }
         },
         "name": "Web Designing",
         "offsetgroup": "Web Designing",
         "orientation": "v",
         "showlegend": true,
         "type": "histogram",
         "x": [
          "Web Designing",
          "Web Designing",
          "Web Designing",
          "Web Designing",
          "Web Designing",
          "Web Designing",
          "Web Designing",
          "Web Designing",
          "Web Designing",
          "Web Designing",
          "Web Designing",
          "Web Designing",
          "Web Designing",
          "Web Designing",
          "Web Designing",
          "Web Designing",
          "Web Designing",
          "Web Designing",
          "Web Designing",
          "Web Designing",
          "Web Designing",
          "Web Designing",
          "Web Designing",
          "Web Designing",
          "Web Designing",
          "Web Designing",
          "Web Designing",
          "Web Designing",
          "Web Designing",
          "Web Designing",
          "Web Designing",
          "Web Designing",
          "Web Designing",
          "Web Designing",
          "Web Designing",
          "Web Designing",
          "Web Designing",
          "Web Designing",
          "Web Designing",
          "Web Designing",
          "Web Designing",
          "Web Designing",
          "Web Designing",
          "Web Designing",
          "Web Designing"
         ],
         "xaxis": "x",
         "yaxis": "y"
        },
        {
         "alignmentgroup": "True",
         "bingroup": "x",
         "hovertemplate": "Category_name=%{x}<br>count=%{y}<extra></extra>",
         "legendgroup": "Mechanical Engineer",
         "marker": {
          "color": "#19d3f3",
          "pattern": {
           "shape": ""
          }
         },
         "name": "Mechanical Engineer",
         "offsetgroup": "Mechanical Engineer",
         "orientation": "v",
         "showlegend": true,
         "type": "histogram",
         "x": [
          "Mechanical Engineer",
          "Mechanical Engineer",
          "Mechanical Engineer",
          "Mechanical Engineer",
          "Mechanical Engineer",
          "Mechanical Engineer",
          "Mechanical Engineer",
          "Mechanical Engineer",
          "Mechanical Engineer",
          "Mechanical Engineer",
          "Mechanical Engineer",
          "Mechanical Engineer",
          "Mechanical Engineer",
          "Mechanical Engineer",
          "Mechanical Engineer",
          "Mechanical Engineer",
          "Mechanical Engineer",
          "Mechanical Engineer",
          "Mechanical Engineer",
          "Mechanical Engineer",
          "Mechanical Engineer",
          "Mechanical Engineer",
          "Mechanical Engineer",
          "Mechanical Engineer",
          "Mechanical Engineer",
          "Mechanical Engineer",
          "Mechanical Engineer",
          "Mechanical Engineer",
          "Mechanical Engineer",
          "Mechanical Engineer",
          "Mechanical Engineer",
          "Mechanical Engineer",
          "Mechanical Engineer",
          "Mechanical Engineer",
          "Mechanical Engineer",
          "Mechanical Engineer",
          "Mechanical Engineer",
          "Mechanical Engineer",
          "Mechanical Engineer",
          "Mechanical Engineer"
         ],
         "xaxis": "x",
         "yaxis": "y"
        },
        {
         "alignmentgroup": "True",
         "bingroup": "x",
         "hovertemplate": "Category_name=%{x}<br>count=%{y}<extra></extra>",
         "legendgroup": "Sales",
         "marker": {
          "color": "#FF6692",
          "pattern": {
           "shape": ""
          }
         },
         "name": "Sales",
         "offsetgroup": "Sales",
         "orientation": "v",
         "showlegend": true,
         "type": "histogram",
         "x": [
          "Sales",
          "Sales",
          "Sales",
          "Sales",
          "Sales",
          "Sales",
          "Sales",
          "Sales",
          "Sales",
          "Sales",
          "Sales",
          "Sales",
          "Sales",
          "Sales",
          "Sales",
          "Sales",
          "Sales",
          "Sales",
          "Sales",
          "Sales",
          "Sales",
          "Sales",
          "Sales",
          "Sales",
          "Sales",
          "Sales",
          "Sales",
          "Sales",
          "Sales",
          "Sales",
          "Sales",
          "Sales",
          "Sales",
          "Sales",
          "Sales",
          "Sales",
          "Sales",
          "Sales",
          "Sales",
          "Sales"
         ],
         "xaxis": "x",
         "yaxis": "y"
        },
        {
         "alignmentgroup": "True",
         "bingroup": "x",
         "hovertemplate": "Category_name=%{x}<br>count=%{y}<extra></extra>",
         "legendgroup": "Health and fitness",
         "marker": {
          "color": "#B6E880",
          "pattern": {
           "shape": ""
          }
         },
         "name": "Health and fitness",
         "offsetgroup": "Health and fitness",
         "orientation": "v",
         "showlegend": true,
         "type": "histogram",
         "x": [
          "Health and fitness",
          "Health and fitness",
          "Health and fitness",
          "Health and fitness",
          "Health and fitness",
          "Health and fitness",
          "Health and fitness",
          "Health and fitness",
          "Health and fitness",
          "Health and fitness",
          "Health and fitness",
          "Health and fitness",
          "Health and fitness",
          "Health and fitness",
          "Health and fitness",
          "Health and fitness",
          "Health and fitness",
          "Health and fitness",
          "Health and fitness",
          "Health and fitness",
          "Health and fitness",
          "Health and fitness",
          "Health and fitness",
          "Health and fitness",
          "Health and fitness",
          "Health and fitness",
          "Health and fitness",
          "Health and fitness",
          "Health and fitness",
          "Health and fitness"
         ],
         "xaxis": "x",
         "yaxis": "y"
        },
        {
         "alignmentgroup": "True",
         "bingroup": "x",
         "hovertemplate": "Category_name=%{x}<br>count=%{y}<extra></extra>",
         "legendgroup": "Civil Engineer",
         "marker": {
          "color": "#FF97FF",
          "pattern": {
           "shape": ""
          }
         },
         "name": "Civil Engineer",
         "offsetgroup": "Civil Engineer",
         "orientation": "v",
         "showlegend": true,
         "type": "histogram",
         "x": [
          "Civil Engineer",
          "Civil Engineer",
          "Civil Engineer",
          "Civil Engineer",
          "Civil Engineer",
          "Civil Engineer",
          "Civil Engineer",
          "Civil Engineer",
          "Civil Engineer",
          "Civil Engineer",
          "Civil Engineer",
          "Civil Engineer",
          "Civil Engineer",
          "Civil Engineer",
          "Civil Engineer",
          "Civil Engineer",
          "Civil Engineer",
          "Civil Engineer",
          "Civil Engineer",
          "Civil Engineer",
          "Civil Engineer",
          "Civil Engineer",
          "Civil Engineer",
          "Civil Engineer"
         ],
         "xaxis": "x",
         "yaxis": "y"
        },
        {
         "alignmentgroup": "True",
         "bingroup": "x",
         "hovertemplate": "Category_name=%{x}<br>count=%{y}<extra></extra>",
         "legendgroup": "Java Developer",
         "marker": {
          "color": "#FECB52",
          "pattern": {
           "shape": ""
          }
         },
         "name": "Java Developer",
         "offsetgroup": "Java Developer",
         "orientation": "v",
         "showlegend": true,
         "type": "histogram",
         "x": [
          "Java Developer",
          "Java Developer",
          "Java Developer",
          "Java Developer",
          "Java Developer",
          "Java Developer",
          "Java Developer",
          "Java Developer",
          "Java Developer",
          "Java Developer",
          "Java Developer",
          "Java Developer",
          "Java Developer",
          "Java Developer",
          "Java Developer",
          "Java Developer",
          "Java Developer",
          "Java Developer",
          "Java Developer",
          "Java Developer",
          "Java Developer",
          "Java Developer",
          "Java Developer",
          "Java Developer",
          "Java Developer",
          "Java Developer",
          "Java Developer",
          "Java Developer",
          "Java Developer",
          "Java Developer",
          "Java Developer",
          "Java Developer",
          "Java Developer",
          "Java Developer",
          "Java Developer",
          "Java Developer",
          "Java Developer",
          "Java Developer",
          "Java Developer",
          "Java Developer",
          "Java Developer",
          "Java Developer",
          "Java Developer",
          "Java Developer",
          "Java Developer",
          "Java Developer",
          "Java Developer",
          "Java Developer",
          "Java Developer",
          "Java Developer",
          "Java Developer",
          "Java Developer",
          "Java Developer",
          "Java Developer",
          "Java Developer",
          "Java Developer",
          "Java Developer",
          "Java Developer",
          "Java Developer",
          "Java Developer",
          "Java Developer",
          "Java Developer",
          "Java Developer",
          "Java Developer",
          "Java Developer",
          "Java Developer",
          "Java Developer",
          "Java Developer",
          "Java Developer",
          "Java Developer",
          "Java Developer",
          "Java Developer",
          "Java Developer",
          "Java Developer",
          "Java Developer",
          "Java Developer",
          "Java Developer",
          "Java Developer",
          "Java Developer",
          "Java Developer",
          "Java Developer",
          "Java Developer",
          "Java Developer",
          "Java Developer"
         ],
         "xaxis": "x",
         "yaxis": "y"
        },
        {
         "alignmentgroup": "True",
         "bingroup": "x",
         "hovertemplate": "Category_name=%{x}<br>count=%{y}<extra></extra>",
         "legendgroup": "Business Analyst",
         "marker": {
          "color": "#636efa",
          "pattern": {
           "shape": ""
          }
         },
         "name": "Business Analyst",
         "offsetgroup": "Business Analyst",
         "orientation": "v",
         "showlegend": true,
         "type": "histogram",
         "x": [
          "Business Analyst",
          "Business Analyst",
          "Business Analyst",
          "Business Analyst",
          "Business Analyst",
          "Business Analyst",
          "Business Analyst",
          "Business Analyst",
          "Business Analyst",
          "Business Analyst",
          "Business Analyst",
          "Business Analyst",
          "Business Analyst",
          "Business Analyst",
          "Business Analyst",
          "Business Analyst",
          "Business Analyst",
          "Business Analyst",
          "Business Analyst",
          "Business Analyst",
          "Business Analyst",
          "Business Analyst",
          "Business Analyst",
          "Business Analyst",
          "Business Analyst",
          "Business Analyst",
          "Business Analyst",
          "Business Analyst"
         ],
         "xaxis": "x",
         "yaxis": "y"
        },
        {
         "alignmentgroup": "True",
         "bingroup": "x",
         "hovertemplate": "Category_name=%{x}<br>count=%{y}<extra></extra>",
         "legendgroup": "SAP Developer",
         "marker": {
          "color": "#EF553B",
          "pattern": {
           "shape": ""
          }
         },
         "name": "SAP Developer",
         "offsetgroup": "SAP Developer",
         "orientation": "v",
         "showlegend": true,
         "type": "histogram",
         "x": [
          "SAP Developer",
          "SAP Developer",
          "SAP Developer",
          "SAP Developer",
          "SAP Developer",
          "SAP Developer",
          "SAP Developer",
          "SAP Developer",
          "SAP Developer",
          "SAP Developer",
          "SAP Developer",
          "SAP Developer",
          "SAP Developer",
          "SAP Developer",
          "SAP Developer",
          "SAP Developer",
          "SAP Developer",
          "SAP Developer",
          "SAP Developer",
          "SAP Developer",
          "SAP Developer",
          "SAP Developer",
          "SAP Developer",
          "SAP Developer"
         ],
         "xaxis": "x",
         "yaxis": "y"
        },
        {
         "alignmentgroup": "True",
         "bingroup": "x",
         "hovertemplate": "Category_name=%{x}<br>count=%{y}<extra></extra>",
         "legendgroup": "Automation Testing",
         "marker": {
          "color": "#00cc96",
          "pattern": {
           "shape": ""
          }
         },
         "name": "Automation Testing",
         "offsetgroup": "Automation Testing",
         "orientation": "v",
         "showlegend": true,
         "type": "histogram",
         "x": [
          "Automation Testing",
          "Automation Testing",
          "Automation Testing",
          "Automation Testing",
          "Automation Testing",
          "Automation Testing",
          "Automation Testing",
          "Automation Testing",
          "Automation Testing",
          "Automation Testing",
          "Automation Testing",
          "Automation Testing",
          "Automation Testing",
          "Automation Testing",
          "Automation Testing",
          "Automation Testing",
          "Automation Testing",
          "Automation Testing",
          "Automation Testing",
          "Automation Testing",
          "Automation Testing",
          "Automation Testing",
          "Automation Testing",
          "Automation Testing",
          "Automation Testing",
          "Automation Testing"
         ],
         "xaxis": "x",
         "yaxis": "y"
        },
        {
         "alignmentgroup": "True",
         "bingroup": "x",
         "hovertemplate": "Category_name=%{x}<br>count=%{y}<extra></extra>",
         "legendgroup": "Electrical Engineering",
         "marker": {
          "color": "#ab63fa",
          "pattern": {
           "shape": ""
          }
         },
         "name": "Electrical Engineering",
         "offsetgroup": "Electrical Engineering",
         "orientation": "v",
         "showlegend": true,
         "type": "histogram",
         "x": [
          "Electrical Engineering",
          "Electrical Engineering",
          "Electrical Engineering",
          "Electrical Engineering",
          "Electrical Engineering",
          "Electrical Engineering",
          "Electrical Engineering",
          "Electrical Engineering",
          "Electrical Engineering",
          "Electrical Engineering",
          "Electrical Engineering",
          "Electrical Engineering",
          "Electrical Engineering",
          "Electrical Engineering",
          "Electrical Engineering",
          "Electrical Engineering",
          "Electrical Engineering",
          "Electrical Engineering",
          "Electrical Engineering",
          "Electrical Engineering",
          "Electrical Engineering",
          "Electrical Engineering",
          "Electrical Engineering",
          "Electrical Engineering",
          "Electrical Engineering",
          "Electrical Engineering",
          "Electrical Engineering",
          "Electrical Engineering",
          "Electrical Engineering",
          "Electrical Engineering"
         ],
         "xaxis": "x",
         "yaxis": "y"
        },
        {
         "alignmentgroup": "True",
         "bingroup": "x",
         "hovertemplate": "Category_name=%{x}<br>count=%{y}<extra></extra>",
         "legendgroup": "Operations Manager",
         "marker": {
          "color": "#FFA15A",
          "pattern": {
           "shape": ""
          }
         },
         "name": "Operations Manager",
         "offsetgroup": "Operations Manager",
         "orientation": "v",
         "showlegend": true,
         "type": "histogram",
         "x": [
          "Operations Manager",
          "Operations Manager",
          "Operations Manager",
          "Operations Manager",
          "Operations Manager",
          "Operations Manager",
          "Operations Manager",
          "Operations Manager",
          "Operations Manager",
          "Operations Manager",
          "Operations Manager",
          "Operations Manager",
          "Operations Manager",
          "Operations Manager",
          "Operations Manager",
          "Operations Manager",
          "Operations Manager",
          "Operations Manager",
          "Operations Manager",
          "Operations Manager",
          "Operations Manager",
          "Operations Manager",
          "Operations Manager",
          "Operations Manager",
          "Operations Manager",
          "Operations Manager",
          "Operations Manager",
          "Operations Manager",
          "Operations Manager",
          "Operations Manager",
          "Operations Manager",
          "Operations Manager",
          "Operations Manager",
          "Operations Manager",
          "Operations Manager",
          "Operations Manager",
          "Operations Manager",
          "Operations Manager",
          "Operations Manager",
          "Operations Manager"
         ],
         "xaxis": "x",
         "yaxis": "y"
        },
        {
         "alignmentgroup": "True",
         "bingroup": "x",
         "hovertemplate": "Category_name=%{x}<br>count=%{y}<extra></extra>",
         "legendgroup": "Python Developer",
         "marker": {
          "color": "#19d3f3",
          "pattern": {
           "shape": ""
          }
         },
         "name": "Python Developer",
         "offsetgroup": "Python Developer",
         "orientation": "v",
         "showlegend": true,
         "type": "histogram",
         "x": [
          "Python Developer",
          "Python Developer",
          "Python Developer",
          "Python Developer",
          "Python Developer",
          "Python Developer",
          "Python Developer",
          "Python Developer",
          "Python Developer",
          "Python Developer",
          "Python Developer",
          "Python Developer",
          "Python Developer",
          "Python Developer",
          "Python Developer",
          "Python Developer",
          "Python Developer",
          "Python Developer",
          "Python Developer",
          "Python Developer",
          "Python Developer",
          "Python Developer",
          "Python Developer",
          "Python Developer",
          "Python Developer",
          "Python Developer",
          "Python Developer",
          "Python Developer",
          "Python Developer",
          "Python Developer",
          "Python Developer",
          "Python Developer",
          "Python Developer",
          "Python Developer",
          "Python Developer",
          "Python Developer",
          "Python Developer",
          "Python Developer",
          "Python Developer",
          "Python Developer",
          "Python Developer",
          "Python Developer",
          "Python Developer",
          "Python Developer",
          "Python Developer",
          "Python Developer",
          "Python Developer",
          "Python Developer"
         ],
         "xaxis": "x",
         "yaxis": "y"
        },
        {
         "alignmentgroup": "True",
         "bingroup": "x",
         "hovertemplate": "Category_name=%{x}<br>count=%{y}<extra></extra>",
         "legendgroup": "DevOps Engineer",
         "marker": {
          "color": "#FF6692",
          "pattern": {
           "shape": ""
          }
         },
         "name": "DevOps Engineer",
         "offsetgroup": "DevOps Engineer",
         "orientation": "v",
         "showlegend": true,
         "type": "histogram",
         "x": [
          "DevOps Engineer",
          "DevOps Engineer",
          "DevOps Engineer",
          "DevOps Engineer",
          "DevOps Engineer",
          "DevOps Engineer",
          "DevOps Engineer",
          "DevOps Engineer",
          "DevOps Engineer",
          "DevOps Engineer",
          "DevOps Engineer",
          "DevOps Engineer",
          "DevOps Engineer",
          "DevOps Engineer",
          "DevOps Engineer",
          "DevOps Engineer",
          "DevOps Engineer",
          "DevOps Engineer",
          "DevOps Engineer",
          "DevOps Engineer",
          "DevOps Engineer",
          "DevOps Engineer",
          "DevOps Engineer",
          "DevOps Engineer",
          "DevOps Engineer",
          "DevOps Engineer",
          "DevOps Engineer",
          "DevOps Engineer",
          "DevOps Engineer",
          "DevOps Engineer",
          "DevOps Engineer",
          "DevOps Engineer",
          "DevOps Engineer",
          "DevOps Engineer",
          "DevOps Engineer",
          "DevOps Engineer",
          "DevOps Engineer",
          "DevOps Engineer",
          "DevOps Engineer",
          "DevOps Engineer",
          "DevOps Engineer",
          "DevOps Engineer",
          "DevOps Engineer",
          "DevOps Engineer",
          "DevOps Engineer",
          "DevOps Engineer",
          "DevOps Engineer",
          "DevOps Engineer",
          "DevOps Engineer",
          "DevOps Engineer",
          "DevOps Engineer",
          "DevOps Engineer",
          "DevOps Engineer",
          "DevOps Engineer",
          "DevOps Engineer"
         ],
         "xaxis": "x",
         "yaxis": "y"
        },
        {
         "alignmentgroup": "True",
         "bingroup": "x",
         "hovertemplate": "Category_name=%{x}<br>count=%{y}<extra></extra>",
         "legendgroup": "Network Security Engineer",
         "marker": {
          "color": "#B6E880",
          "pattern": {
           "shape": ""
          }
         },
         "name": "Network Security Engineer",
         "offsetgroup": "Network Security Engineer",
         "orientation": "v",
         "showlegend": true,
         "type": "histogram",
         "x": [
          "Network Security Engineer",
          "Network Security Engineer",
          "Network Security Engineer",
          "Network Security Engineer",
          "Network Security Engineer",
          "Network Security Engineer",
          "Network Security Engineer",
          "Network Security Engineer",
          "Network Security Engineer",
          "Network Security Engineer",
          "Network Security Engineer",
          "Network Security Engineer",
          "Network Security Engineer",
          "Network Security Engineer",
          "Network Security Engineer",
          "Network Security Engineer",
          "Network Security Engineer",
          "Network Security Engineer",
          "Network Security Engineer",
          "Network Security Engineer",
          "Network Security Engineer",
          "Network Security Engineer",
          "Network Security Engineer",
          "Network Security Engineer",
          "Network Security Engineer"
         ],
         "xaxis": "x",
         "yaxis": "y"
        },
        {
         "alignmentgroup": "True",
         "bingroup": "x",
         "hovertemplate": "Category_name=%{x}<br>count=%{y}<extra></extra>",
         "legendgroup": "PMO",
         "marker": {
          "color": "#FF97FF",
          "pattern": {
           "shape": ""
          }
         },
         "name": "PMO",
         "offsetgroup": "PMO",
         "orientation": "v",
         "showlegend": true,
         "type": "histogram",
         "x": [
          "PMO",
          "PMO",
          "PMO",
          "PMO",
          "PMO",
          "PMO",
          "PMO",
          "PMO",
          "PMO",
          "PMO",
          "PMO",
          "PMO",
          "PMO",
          "PMO",
          "PMO",
          "PMO",
          "PMO",
          "PMO",
          "PMO",
          "PMO",
          "PMO",
          "PMO",
          "PMO",
          "PMO",
          "PMO",
          "PMO",
          "PMO",
          "PMO",
          "PMO",
          "PMO"
         ],
         "xaxis": "x",
         "yaxis": "y"
        },
        {
         "alignmentgroup": "True",
         "bingroup": "x",
         "hovertemplate": "Category_name=%{x}<br>count=%{y}<extra></extra>",
         "legendgroup": "Database",
         "marker": {
          "color": "#FECB52",
          "pattern": {
           "shape": ""
          }
         },
         "name": "Database",
         "offsetgroup": "Database",
         "orientation": "v",
         "showlegend": true,
         "type": "histogram",
         "x": [
          "Database",
          "Database",
          "Database",
          "Database",
          "Database",
          "Database",
          "Database",
          "Database",
          "Database",
          "Database",
          "Database",
          "Database",
          "Database",
          "Database",
          "Database",
          "Database",
          "Database",
          "Database",
          "Database",
          "Database",
          "Database",
          "Database",
          "Database",
          "Database",
          "Database",
          "Database",
          "Database",
          "Database",
          "Database",
          "Database",
          "Database",
          "Database",
          "Database"
         ],
         "xaxis": "x",
         "yaxis": "y"
        },
        {
         "alignmentgroup": "True",
         "bingroup": "x",
         "hovertemplate": "Category_name=%{x}<br>count=%{y}<extra></extra>",
         "legendgroup": "Hadoop",
         "marker": {
          "color": "#636efa",
          "pattern": {
           "shape": ""
          }
         },
         "name": "Hadoop",
         "offsetgroup": "Hadoop",
         "orientation": "v",
         "showlegend": true,
         "type": "histogram",
         "x": [
          "Hadoop",
          "Hadoop",
          "Hadoop",
          "Hadoop",
          "Hadoop",
          "Hadoop",
          "Hadoop",
          "Hadoop",
          "Hadoop",
          "Hadoop",
          "Hadoop",
          "Hadoop",
          "Hadoop",
          "Hadoop",
          "Hadoop",
          "Hadoop",
          "Hadoop",
          "Hadoop",
          "Hadoop",
          "Hadoop",
          "Hadoop",
          "Hadoop",
          "Hadoop",
          "Hadoop",
          "Hadoop",
          "Hadoop",
          "Hadoop",
          "Hadoop",
          "Hadoop",
          "Hadoop",
          "Hadoop",
          "Hadoop",
          "Hadoop",
          "Hadoop",
          "Hadoop",
          "Hadoop",
          "Hadoop",
          "Hadoop",
          "Hadoop",
          "Hadoop",
          "Hadoop",
          "Hadoop"
         ],
         "xaxis": "x",
         "yaxis": "y"
        },
        {
         "alignmentgroup": "True",
         "bingroup": "x",
         "hovertemplate": "Category_name=%{x}<br>count=%{y}<extra></extra>",
         "legendgroup": "ETL Developer",
         "marker": {
          "color": "#EF553B",
          "pattern": {
           "shape": ""
          }
         },
         "name": "ETL Developer",
         "offsetgroup": "ETL Developer",
         "orientation": "v",
         "showlegend": true,
         "type": "histogram",
         "x": [
          "ETL Developer",
          "ETL Developer",
          "ETL Developer",
          "ETL Developer",
          "ETL Developer",
          "ETL Developer",
          "ETL Developer",
          "ETL Developer",
          "ETL Developer",
          "ETL Developer",
          "ETL Developer",
          "ETL Developer",
          "ETL Developer",
          "ETL Developer",
          "ETL Developer",
          "ETL Developer",
          "ETL Developer",
          "ETL Developer",
          "ETL Developer",
          "ETL Developer",
          "ETL Developer",
          "ETL Developer",
          "ETL Developer",
          "ETL Developer",
          "ETL Developer",
          "ETL Developer",
          "ETL Developer",
          "ETL Developer",
          "ETL Developer",
          "ETL Developer",
          "ETL Developer",
          "ETL Developer",
          "ETL Developer",
          "ETL Developer",
          "ETL Developer",
          "ETL Developer",
          "ETL Developer",
          "ETL Developer",
          "ETL Developer",
          "ETL Developer"
         ],
         "xaxis": "x",
         "yaxis": "y"
        },
        {
         "alignmentgroup": "True",
         "bingroup": "x",
         "hovertemplate": "Category_name=%{x}<br>count=%{y}<extra></extra>",
         "legendgroup": "DotNet Developer",
         "marker": {
          "color": "#00cc96",
          "pattern": {
           "shape": ""
          }
         },
         "name": "DotNet Developer",
         "offsetgroup": "DotNet Developer",
         "orientation": "v",
         "showlegend": true,
         "type": "histogram",
         "x": [
          "DotNet Developer",
          "DotNet Developer",
          "DotNet Developer",
          "DotNet Developer",
          "DotNet Developer",
          "DotNet Developer",
          "DotNet Developer",
          "DotNet Developer",
          "DotNet Developer",
          "DotNet Developer",
          "DotNet Developer",
          "DotNet Developer",
          "DotNet Developer",
          "DotNet Developer",
          "DotNet Developer",
          "DotNet Developer",
          "DotNet Developer",
          "DotNet Developer",
          "DotNet Developer",
          "DotNet Developer",
          "DotNet Developer",
          "DotNet Developer",
          "DotNet Developer",
          "DotNet Developer",
          "DotNet Developer",
          "DotNet Developer",
          "DotNet Developer",
          "DotNet Developer"
         ],
         "xaxis": "x",
         "yaxis": "y"
        },
        {
         "alignmentgroup": "True",
         "bingroup": "x",
         "hovertemplate": "Category_name=%{x}<br>count=%{y}<extra></extra>",
         "legendgroup": "Blockchain",
         "marker": {
          "color": "#ab63fa",
          "pattern": {
           "shape": ""
          }
         },
         "name": "Blockchain",
         "offsetgroup": "Blockchain",
         "orientation": "v",
         "showlegend": true,
         "type": "histogram",
         "x": [
          "Blockchain",
          "Blockchain",
          "Blockchain",
          "Blockchain",
          "Blockchain",
          "Blockchain",
          "Blockchain",
          "Blockchain",
          "Blockchain",
          "Blockchain",
          "Blockchain",
          "Blockchain",
          "Blockchain",
          "Blockchain",
          "Blockchain",
          "Blockchain",
          "Blockchain",
          "Blockchain",
          "Blockchain",
          "Blockchain",
          "Blockchain",
          "Blockchain",
          "Blockchain",
          "Blockchain",
          "Blockchain",
          "Blockchain",
          "Blockchain",
          "Blockchain",
          "Blockchain",
          "Blockchain",
          "Blockchain",
          "Blockchain",
          "Blockchain",
          "Blockchain",
          "Blockchain",
          "Blockchain",
          "Blockchain",
          "Blockchain",
          "Blockchain",
          "Blockchain"
         ],
         "xaxis": "x",
         "yaxis": "y"
        },
        {
         "alignmentgroup": "True",
         "bingroup": "x",
         "hovertemplate": "Category_name=%{x}<br>count=%{y}<extra></extra>",
         "legendgroup": "Testing",
         "marker": {
          "color": "#FFA15A",
          "pattern": {
           "shape": ""
          }
         },
         "name": "Testing",
         "offsetgroup": "Testing",
         "orientation": "v",
         "showlegend": true,
         "type": "histogram",
         "x": [
          "Testing",
          "Testing",
          "Testing",
          "Testing",
          "Testing",
          "Testing",
          "Testing",
          "Testing",
          "Testing",
          "Testing",
          "Testing",
          "Testing",
          "Testing",
          "Testing",
          "Testing",
          "Testing",
          "Testing",
          "Testing",
          "Testing",
          "Testing",
          "Testing",
          "Testing",
          "Testing",
          "Testing",
          "Testing",
          "Testing",
          "Testing",
          "Testing",
          "Testing",
          "Testing",
          "Testing",
          "Testing",
          "Testing",
          "Testing",
          "Testing",
          "Testing",
          "Testing",
          "Testing",
          "Testing",
          "Testing",
          "Testing",
          "Testing",
          "Testing",
          "Testing",
          "Testing",
          "Testing",
          "Testing",
          "Testing",
          "Testing",
          "Testing",
          "Testing",
          "Testing",
          "Testing",
          "Testing",
          "Testing",
          "Testing",
          "Testing",
          "Testing",
          "Testing",
          "Testing",
          "Testing",
          "Testing",
          "Testing",
          "Testing",
          "Testing",
          "Testing",
          "Testing",
          "Testing",
          "Testing",
          "Testing"
         ],
         "xaxis": "x",
         "yaxis": "y"
        }
       ],
       "layout": {
        "barmode": "relative",
        "legend": {
         "title": {
          "text": "Category_name"
         },
         "tracegroupgap": 0
        },
        "margin": {
         "t": 60
        },
        "template": {
         "data": {
          "bar": [
           {
            "error_x": {
             "color": "#2a3f5f"
            },
            "error_y": {
             "color": "#2a3f5f"
            },
            "marker": {
             "line": {
              "color": "#E5ECF6",
              "width": 0.5
             },
             "pattern": {
              "fillmode": "overlay",
              "size": 10,
              "solidity": 0.2
             }
            },
            "type": "bar"
           }
          ],
          "barpolar": [
           {
            "marker": {
             "line": {
              "color": "#E5ECF6",
              "width": 0.5
             },
             "pattern": {
              "fillmode": "overlay",
              "size": 10,
              "solidity": 0.2
             }
            },
            "type": "barpolar"
           }
          ],
          "carpet": [
           {
            "aaxis": {
             "endlinecolor": "#2a3f5f",
             "gridcolor": "white",
             "linecolor": "white",
             "minorgridcolor": "white",
             "startlinecolor": "#2a3f5f"
            },
            "baxis": {
             "endlinecolor": "#2a3f5f",
             "gridcolor": "white",
             "linecolor": "white",
             "minorgridcolor": "white",
             "startlinecolor": "#2a3f5f"
            },
            "type": "carpet"
           }
          ],
          "choropleth": [
           {
            "colorbar": {
             "outlinewidth": 0,
             "ticks": ""
            },
            "type": "choropleth"
           }
          ],
          "contour": [
           {
            "colorbar": {
             "outlinewidth": 0,
             "ticks": ""
            },
            "colorscale": [
             [
              0,
              "#0d0887"
             ],
             [
              0.1111111111111111,
              "#46039f"
             ],
             [
              0.2222222222222222,
              "#7201a8"
             ],
             [
              0.3333333333333333,
              "#9c179e"
             ],
             [
              0.4444444444444444,
              "#bd3786"
             ],
             [
              0.5555555555555556,
              "#d8576b"
             ],
             [
              0.6666666666666666,
              "#ed7953"
             ],
             [
              0.7777777777777778,
              "#fb9f3a"
             ],
             [
              0.8888888888888888,
              "#fdca26"
             ],
             [
              1,
              "#f0f921"
             ]
            ],
            "type": "contour"
           }
          ],
          "contourcarpet": [
           {
            "colorbar": {
             "outlinewidth": 0,
             "ticks": ""
            },
            "type": "contourcarpet"
           }
          ],
          "heatmap": [
           {
            "colorbar": {
             "outlinewidth": 0,
             "ticks": ""
            },
            "colorscale": [
             [
              0,
              "#0d0887"
             ],
             [
              0.1111111111111111,
              "#46039f"
             ],
             [
              0.2222222222222222,
              "#7201a8"
             ],
             [
              0.3333333333333333,
              "#9c179e"
             ],
             [
              0.4444444444444444,
              "#bd3786"
             ],
             [
              0.5555555555555556,
              "#d8576b"
             ],
             [
              0.6666666666666666,
              "#ed7953"
             ],
             [
              0.7777777777777778,
              "#fb9f3a"
             ],
             [
              0.8888888888888888,
              "#fdca26"
             ],
             [
              1,
              "#f0f921"
             ]
            ],
            "type": "heatmap"
           }
          ],
          "heatmapgl": [
           {
            "colorbar": {
             "outlinewidth": 0,
             "ticks": ""
            },
            "colorscale": [
             [
              0,
              "#0d0887"
             ],
             [
              0.1111111111111111,
              "#46039f"
             ],
             [
              0.2222222222222222,
              "#7201a8"
             ],
             [
              0.3333333333333333,
              "#9c179e"
             ],
             [
              0.4444444444444444,
              "#bd3786"
             ],
             [
              0.5555555555555556,
              "#d8576b"
             ],
             [
              0.6666666666666666,
              "#ed7953"
             ],
             [
              0.7777777777777778,
              "#fb9f3a"
             ],
             [
              0.8888888888888888,
              "#fdca26"
             ],
             [
              1,
              "#f0f921"
             ]
            ],
            "type": "heatmapgl"
           }
          ],
          "histogram": [
           {
            "marker": {
             "pattern": {
              "fillmode": "overlay",
              "size": 10,
              "solidity": 0.2
             }
            },
            "type": "histogram"
           }
          ],
          "histogram2d": [
           {
            "colorbar": {
             "outlinewidth": 0,
             "ticks": ""
            },
            "colorscale": [
             [
              0,
              "#0d0887"
             ],
             [
              0.1111111111111111,
              "#46039f"
             ],
             [
              0.2222222222222222,
              "#7201a8"
             ],
             [
              0.3333333333333333,
              "#9c179e"
             ],
             [
              0.4444444444444444,
              "#bd3786"
             ],
             [
              0.5555555555555556,
              "#d8576b"
             ],
             [
              0.6666666666666666,
              "#ed7953"
             ],
             [
              0.7777777777777778,
              "#fb9f3a"
             ],
             [
              0.8888888888888888,
              "#fdca26"
             ],
             [
              1,
              "#f0f921"
             ]
            ],
            "type": "histogram2d"
           }
          ],
          "histogram2dcontour": [
           {
            "colorbar": {
             "outlinewidth": 0,
             "ticks": ""
            },
            "colorscale": [
             [
              0,
              "#0d0887"
             ],
             [
              0.1111111111111111,
              "#46039f"
             ],
             [
              0.2222222222222222,
              "#7201a8"
             ],
             [
              0.3333333333333333,
              "#9c179e"
             ],
             [
              0.4444444444444444,
              "#bd3786"
             ],
             [
              0.5555555555555556,
              "#d8576b"
             ],
             [
              0.6666666666666666,
              "#ed7953"
             ],
             [
              0.7777777777777778,
              "#fb9f3a"
             ],
             [
              0.8888888888888888,
              "#fdca26"
             ],
             [
              1,
              "#f0f921"
             ]
            ],
            "type": "histogram2dcontour"
           }
          ],
          "mesh3d": [
           {
            "colorbar": {
             "outlinewidth": 0,
             "ticks": ""
            },
            "type": "mesh3d"
           }
          ],
          "parcoords": [
           {
            "line": {
             "colorbar": {
              "outlinewidth": 0,
              "ticks": ""
             }
            },
            "type": "parcoords"
           }
          ],
          "pie": [
           {
            "automargin": true,
            "type": "pie"
           }
          ],
          "scatter": [
           {
            "marker": {
             "colorbar": {
              "outlinewidth": 0,
              "ticks": ""
             }
            },
            "type": "scatter"
           }
          ],
          "scatter3d": [
           {
            "line": {
             "colorbar": {
              "outlinewidth": 0,
              "ticks": ""
             }
            },
            "marker": {
             "colorbar": {
              "outlinewidth": 0,
              "ticks": ""
             }
            },
            "type": "scatter3d"
           }
          ],
          "scattercarpet": [
           {
            "marker": {
             "colorbar": {
              "outlinewidth": 0,
              "ticks": ""
             }
            },
            "type": "scattercarpet"
           }
          ],
          "scattergeo": [
           {
            "marker": {
             "colorbar": {
              "outlinewidth": 0,
              "ticks": ""
             }
            },
            "type": "scattergeo"
           }
          ],
          "scattergl": [
           {
            "marker": {
             "colorbar": {
              "outlinewidth": 0,
              "ticks": ""
             }
            },
            "type": "scattergl"
           }
          ],
          "scattermapbox": [
           {
            "marker": {
             "colorbar": {
              "outlinewidth": 0,
              "ticks": ""
             }
            },
            "type": "scattermapbox"
           }
          ],
          "scatterpolar": [
           {
            "marker": {
             "colorbar": {
              "outlinewidth": 0,
              "ticks": ""
             }
            },
            "type": "scatterpolar"
           }
          ],
          "scatterpolargl": [
           {
            "marker": {
             "colorbar": {
              "outlinewidth": 0,
              "ticks": ""
             }
            },
            "type": "scatterpolargl"
           }
          ],
          "scatterternary": [
           {
            "marker": {
             "colorbar": {
              "outlinewidth": 0,
              "ticks": ""
             }
            },
            "type": "scatterternary"
           }
          ],
          "surface": [
           {
            "colorbar": {
             "outlinewidth": 0,
             "ticks": ""
            },
            "colorscale": [
             [
              0,
              "#0d0887"
             ],
             [
              0.1111111111111111,
              "#46039f"
             ],
             [
              0.2222222222222222,
              "#7201a8"
             ],
             [
              0.3333333333333333,
              "#9c179e"
             ],
             [
              0.4444444444444444,
              "#bd3786"
             ],
             [
              0.5555555555555556,
              "#d8576b"
             ],
             [
              0.6666666666666666,
              "#ed7953"
             ],
             [
              0.7777777777777778,
              "#fb9f3a"
             ],
             [
              0.8888888888888888,
              "#fdca26"
             ],
             [
              1,
              "#f0f921"
             ]
            ],
            "type": "surface"
           }
          ],
          "table": [
           {
            "cells": {
             "fill": {
              "color": "#EBF0F8"
             },
             "line": {
              "color": "white"
             }
            },
            "header": {
             "fill": {
              "color": "#C8D4E3"
             },
             "line": {
              "color": "white"
             }
            },
            "type": "table"
           }
          ]
         },
         "layout": {
          "annotationdefaults": {
           "arrowcolor": "#2a3f5f",
           "arrowhead": 0,
           "arrowwidth": 1
          },
          "autotypenumbers": "strict",
          "coloraxis": {
           "colorbar": {
            "outlinewidth": 0,
            "ticks": ""
           }
          },
          "colorscale": {
           "diverging": [
            [
             0,
             "#8e0152"
            ],
            [
             0.1,
             "#c51b7d"
            ],
            [
             0.2,
             "#de77ae"
            ],
            [
             0.3,
             "#f1b6da"
            ],
            [
             0.4,
             "#fde0ef"
            ],
            [
             0.5,
             "#f7f7f7"
            ],
            [
             0.6,
             "#e6f5d0"
            ],
            [
             0.7,
             "#b8e186"
            ],
            [
             0.8,
             "#7fbc41"
            ],
            [
             0.9,
             "#4d9221"
            ],
            [
             1,
             "#276419"
            ]
           ],
           "sequential": [
            [
             0,
             "#0d0887"
            ],
            [
             0.1111111111111111,
             "#46039f"
            ],
            [
             0.2222222222222222,
             "#7201a8"
            ],
            [
             0.3333333333333333,
             "#9c179e"
            ],
            [
             0.4444444444444444,
             "#bd3786"
            ],
            [
             0.5555555555555556,
             "#d8576b"
            ],
            [
             0.6666666666666666,
             "#ed7953"
            ],
            [
             0.7777777777777778,
             "#fb9f3a"
            ],
            [
             0.8888888888888888,
             "#fdca26"
            ],
            [
             1,
             "#f0f921"
            ]
           ],
           "sequentialminus": [
            [
             0,
             "#0d0887"
            ],
            [
             0.1111111111111111,
             "#46039f"
            ],
            [
             0.2222222222222222,
             "#7201a8"
            ],
            [
             0.3333333333333333,
             "#9c179e"
            ],
            [
             0.4444444444444444,
             "#bd3786"
            ],
            [
             0.5555555555555556,
             "#d8576b"
            ],
            [
             0.6666666666666666,
             "#ed7953"
            ],
            [
             0.7777777777777778,
             "#fb9f3a"
            ],
            [
             0.8888888888888888,
             "#fdca26"
            ],
            [
             1,
             "#f0f921"
            ]
           ]
          },
          "colorway": [
           "#636efa",
           "#EF553B",
           "#00cc96",
           "#ab63fa",
           "#FFA15A",
           "#19d3f3",
           "#FF6692",
           "#B6E880",
           "#FF97FF",
           "#FECB52"
          ],
          "font": {
           "color": "#2a3f5f"
          },
          "geo": {
           "bgcolor": "white",
           "lakecolor": "white",
           "landcolor": "#E5ECF6",
           "showlakes": true,
           "showland": true,
           "subunitcolor": "white"
          },
          "hoverlabel": {
           "align": "left"
          },
          "hovermode": "closest",
          "mapbox": {
           "style": "light"
          },
          "paper_bgcolor": "white",
          "plot_bgcolor": "#E5ECF6",
          "polar": {
           "angularaxis": {
            "gridcolor": "white",
            "linecolor": "white",
            "ticks": ""
           },
           "bgcolor": "#E5ECF6",
           "radialaxis": {
            "gridcolor": "white",
            "linecolor": "white",
            "ticks": ""
           }
          },
          "scene": {
           "xaxis": {
            "backgroundcolor": "#E5ECF6",
            "gridcolor": "white",
            "gridwidth": 2,
            "linecolor": "white",
            "showbackground": true,
            "ticks": "",
            "zerolinecolor": "white"
           },
           "yaxis": {
            "backgroundcolor": "#E5ECF6",
            "gridcolor": "white",
            "gridwidth": 2,
            "linecolor": "white",
            "showbackground": true,
            "ticks": "",
            "zerolinecolor": "white"
           },
           "zaxis": {
            "backgroundcolor": "#E5ECF6",
            "gridcolor": "white",
            "gridwidth": 2,
            "linecolor": "white",
            "showbackground": true,
            "ticks": "",
            "zerolinecolor": "white"
           }
          },
          "shapedefaults": {
           "line": {
            "color": "#2a3f5f"
           }
          },
          "ternary": {
           "aaxis": {
            "gridcolor": "white",
            "linecolor": "white",
            "ticks": ""
           },
           "baxis": {
            "gridcolor": "white",
            "linecolor": "white",
            "ticks": ""
           },
           "bgcolor": "#E5ECF6",
           "caxis": {
            "gridcolor": "white",
            "linecolor": "white",
            "ticks": ""
           }
          },
          "title": {
           "x": 0.05
          },
          "xaxis": {
           "automargin": true,
           "gridcolor": "white",
           "linecolor": "white",
           "ticks": "",
           "title": {
            "standoff": 15
           },
           "zerolinecolor": "white",
           "zerolinewidth": 2
          },
          "yaxis": {
           "automargin": true,
           "gridcolor": "white",
           "linecolor": "white",
           "ticks": "",
           "title": {
            "standoff": 15
           },
           "zerolinecolor": "white",
           "zerolinewidth": 2
          }
         }
        },
        "xaxis": {
         "anchor": "y",
         "categoryarray": [
          "Data Science",
          "HR",
          "Advocate",
          "Arts",
          "Web Designing",
          "Mechanical Engineer",
          "Sales",
          "Health and fitness",
          "Civil Engineer",
          "Java Developer",
          "Business Analyst",
          "SAP Developer",
          "Automation Testing",
          "Electrical Engineering",
          "Operations Manager",
          "Python Developer",
          "DevOps Engineer",
          "Network Security Engineer",
          "PMO",
          "Database",
          "Hadoop",
          "ETL Developer",
          "DotNet Developer",
          "Blockchain",
          "Testing"
         ],
         "categoryorder": "array",
         "domain": [
          0,
          1
         ],
         "title": {
          "text": "Category_name"
         }
        },
        "yaxis": {
         "anchor": "x",
         "domain": [
          0,
          1
         ],
         "title": {
          "text": "count"
         }
        }
       }
      },
      "text/html": [
       "<div>                            <div id=\"ba9c5b82-d250-4c2e-a4f6-4094a0c87fb6\" class=\"plotly-graph-div\" style=\"height:525px; width:100%;\"></div>            <script type=\"text/javascript\">                require([\"plotly\"], function(Plotly) {                    window.PLOTLYENV=window.PLOTLYENV || {};                                    if (document.getElementById(\"ba9c5b82-d250-4c2e-a4f6-4094a0c87fb6\")) {                    Plotly.newPlot(                        \"ba9c5b82-d250-4c2e-a4f6-4094a0c87fb6\",                        [{\"alignmentgroup\":\"True\",\"bingroup\":\"x\",\"hovertemplate\":\"Category_name=%{x}<br>count=%{y}<extra></extra>\",\"legendgroup\":\"Data Science\",\"marker\":{\"color\":\"#636efa\",\"pattern\":{\"shape\":\"\"}},\"name\":\"Data Science\",\"offsetgroup\":\"Data Science\",\"orientation\":\"v\",\"showlegend\":true,\"x\":[\"Data Science\",\"Data Science\",\"Data Science\",\"Data Science\",\"Data Science\",\"Data Science\",\"Data Science\",\"Data Science\",\"Data Science\",\"Data Science\",\"Data Science\",\"Data Science\",\"Data Science\",\"Data Science\",\"Data Science\",\"Data Science\",\"Data Science\",\"Data Science\",\"Data Science\",\"Data Science\",\"Data Science\",\"Data Science\",\"Data Science\",\"Data Science\",\"Data Science\",\"Data Science\",\"Data Science\",\"Data Science\",\"Data Science\",\"Data Science\",\"Data Science\",\"Data Science\",\"Data Science\",\"Data Science\",\"Data Science\",\"Data Science\",\"Data Science\",\"Data Science\",\"Data Science\",\"Data Science\"],\"xaxis\":\"x\",\"yaxis\":\"y\",\"type\":\"histogram\"},{\"alignmentgroup\":\"True\",\"bingroup\":\"x\",\"hovertemplate\":\"Category_name=%{x}<br>count=%{y}<extra></extra>\",\"legendgroup\":\"HR\",\"marker\":{\"color\":\"#EF553B\",\"pattern\":{\"shape\":\"\"}},\"name\":\"HR\",\"offsetgroup\":\"HR\",\"orientation\":\"v\",\"showlegend\":true,\"x\":[\"HR\",\"HR\",\"HR\",\"HR\",\"HR\",\"HR\",\"HR\",\"HR\",\"HR\",\"HR\",\"HR\",\"HR\",\"HR\",\"HR\",\"HR\",\"HR\",\"HR\",\"HR\",\"HR\",\"HR\",\"HR\",\"HR\",\"HR\",\"HR\",\"HR\",\"HR\",\"HR\",\"HR\",\"HR\",\"HR\",\"HR\",\"HR\",\"HR\",\"HR\",\"HR\",\"HR\",\"HR\",\"HR\",\"HR\",\"HR\",\"HR\",\"HR\",\"HR\",\"HR\"],\"xaxis\":\"x\",\"yaxis\":\"y\",\"type\":\"histogram\"},{\"alignmentgroup\":\"True\",\"bingroup\":\"x\",\"hovertemplate\":\"Category_name=%{x}<br>count=%{y}<extra></extra>\",\"legendgroup\":\"Advocate\",\"marker\":{\"color\":\"#00cc96\",\"pattern\":{\"shape\":\"\"}},\"name\":\"Advocate\",\"offsetgroup\":\"Advocate\",\"orientation\":\"v\",\"showlegend\":true,\"x\":[\"Advocate\",\"Advocate\",\"Advocate\",\"Advocate\",\"Advocate\",\"Advocate\",\"Advocate\",\"Advocate\",\"Advocate\",\"Advocate\",\"Advocate\",\"Advocate\",\"Advocate\",\"Advocate\",\"Advocate\",\"Advocate\",\"Advocate\",\"Advocate\",\"Advocate\",\"Advocate\"],\"xaxis\":\"x\",\"yaxis\":\"y\",\"type\":\"histogram\"},{\"alignmentgroup\":\"True\",\"bingroup\":\"x\",\"hovertemplate\":\"Category_name=%{x}<br>count=%{y}<extra></extra>\",\"legendgroup\":\"Arts\",\"marker\":{\"color\":\"#ab63fa\",\"pattern\":{\"shape\":\"\"}},\"name\":\"Arts\",\"offsetgroup\":\"Arts\",\"orientation\":\"v\",\"showlegend\":true,\"x\":[\"Arts\",\"Arts\",\"Arts\",\"Arts\",\"Arts\",\"Arts\",\"Arts\",\"Arts\",\"Arts\",\"Arts\",\"Arts\",\"Arts\",\"Arts\",\"Arts\",\"Arts\",\"Arts\",\"Arts\",\"Arts\",\"Arts\",\"Arts\",\"Arts\",\"Arts\",\"Arts\",\"Arts\",\"Arts\",\"Arts\",\"Arts\",\"Arts\",\"Arts\",\"Arts\",\"Arts\",\"Arts\",\"Arts\",\"Arts\",\"Arts\",\"Arts\"],\"xaxis\":\"x\",\"yaxis\":\"y\",\"type\":\"histogram\"},{\"alignmentgroup\":\"True\",\"bingroup\":\"x\",\"hovertemplate\":\"Category_name=%{x}<br>count=%{y}<extra></extra>\",\"legendgroup\":\"Web Designing\",\"marker\":{\"color\":\"#FFA15A\",\"pattern\":{\"shape\":\"\"}},\"name\":\"Web Designing\",\"offsetgroup\":\"Web Designing\",\"orientation\":\"v\",\"showlegend\":true,\"x\":[\"Web Designing\",\"Web Designing\",\"Web Designing\",\"Web Designing\",\"Web Designing\",\"Web Designing\",\"Web Designing\",\"Web Designing\",\"Web Designing\",\"Web Designing\",\"Web Designing\",\"Web Designing\",\"Web Designing\",\"Web Designing\",\"Web Designing\",\"Web Designing\",\"Web Designing\",\"Web Designing\",\"Web Designing\",\"Web Designing\",\"Web Designing\",\"Web Designing\",\"Web Designing\",\"Web Designing\",\"Web Designing\",\"Web Designing\",\"Web Designing\",\"Web Designing\",\"Web Designing\",\"Web Designing\",\"Web Designing\",\"Web Designing\",\"Web Designing\",\"Web Designing\",\"Web Designing\",\"Web Designing\",\"Web Designing\",\"Web Designing\",\"Web Designing\",\"Web Designing\",\"Web Designing\",\"Web Designing\",\"Web Designing\",\"Web Designing\",\"Web Designing\"],\"xaxis\":\"x\",\"yaxis\":\"y\",\"type\":\"histogram\"},{\"alignmentgroup\":\"True\",\"bingroup\":\"x\",\"hovertemplate\":\"Category_name=%{x}<br>count=%{y}<extra></extra>\",\"legendgroup\":\"Mechanical Engineer\",\"marker\":{\"color\":\"#19d3f3\",\"pattern\":{\"shape\":\"\"}},\"name\":\"Mechanical Engineer\",\"offsetgroup\":\"Mechanical Engineer\",\"orientation\":\"v\",\"showlegend\":true,\"x\":[\"Mechanical Engineer\",\"Mechanical Engineer\",\"Mechanical Engineer\",\"Mechanical Engineer\",\"Mechanical Engineer\",\"Mechanical Engineer\",\"Mechanical Engineer\",\"Mechanical Engineer\",\"Mechanical Engineer\",\"Mechanical Engineer\",\"Mechanical Engineer\",\"Mechanical Engineer\",\"Mechanical Engineer\",\"Mechanical Engineer\",\"Mechanical Engineer\",\"Mechanical Engineer\",\"Mechanical Engineer\",\"Mechanical Engineer\",\"Mechanical Engineer\",\"Mechanical Engineer\",\"Mechanical Engineer\",\"Mechanical Engineer\",\"Mechanical Engineer\",\"Mechanical Engineer\",\"Mechanical Engineer\",\"Mechanical Engineer\",\"Mechanical Engineer\",\"Mechanical Engineer\",\"Mechanical Engineer\",\"Mechanical Engineer\",\"Mechanical Engineer\",\"Mechanical Engineer\",\"Mechanical Engineer\",\"Mechanical Engineer\",\"Mechanical Engineer\",\"Mechanical Engineer\",\"Mechanical Engineer\",\"Mechanical Engineer\",\"Mechanical Engineer\",\"Mechanical Engineer\"],\"xaxis\":\"x\",\"yaxis\":\"y\",\"type\":\"histogram\"},{\"alignmentgroup\":\"True\",\"bingroup\":\"x\",\"hovertemplate\":\"Category_name=%{x}<br>count=%{y}<extra></extra>\",\"legendgroup\":\"Sales\",\"marker\":{\"color\":\"#FF6692\",\"pattern\":{\"shape\":\"\"}},\"name\":\"Sales\",\"offsetgroup\":\"Sales\",\"orientation\":\"v\",\"showlegend\":true,\"x\":[\"Sales\",\"Sales\",\"Sales\",\"Sales\",\"Sales\",\"Sales\",\"Sales\",\"Sales\",\"Sales\",\"Sales\",\"Sales\",\"Sales\",\"Sales\",\"Sales\",\"Sales\",\"Sales\",\"Sales\",\"Sales\",\"Sales\",\"Sales\",\"Sales\",\"Sales\",\"Sales\",\"Sales\",\"Sales\",\"Sales\",\"Sales\",\"Sales\",\"Sales\",\"Sales\",\"Sales\",\"Sales\",\"Sales\",\"Sales\",\"Sales\",\"Sales\",\"Sales\",\"Sales\",\"Sales\",\"Sales\"],\"xaxis\":\"x\",\"yaxis\":\"y\",\"type\":\"histogram\"},{\"alignmentgroup\":\"True\",\"bingroup\":\"x\",\"hovertemplate\":\"Category_name=%{x}<br>count=%{y}<extra></extra>\",\"legendgroup\":\"Health and fitness\",\"marker\":{\"color\":\"#B6E880\",\"pattern\":{\"shape\":\"\"}},\"name\":\"Health and fitness\",\"offsetgroup\":\"Health and fitness\",\"orientation\":\"v\",\"showlegend\":true,\"x\":[\"Health and fitness\",\"Health and fitness\",\"Health and fitness\",\"Health and fitness\",\"Health and fitness\",\"Health and fitness\",\"Health and fitness\",\"Health and fitness\",\"Health and fitness\",\"Health and fitness\",\"Health and fitness\",\"Health and fitness\",\"Health and fitness\",\"Health and fitness\",\"Health and fitness\",\"Health and fitness\",\"Health and fitness\",\"Health and fitness\",\"Health and fitness\",\"Health and fitness\",\"Health and fitness\",\"Health and fitness\",\"Health and fitness\",\"Health and fitness\",\"Health and fitness\",\"Health and fitness\",\"Health and fitness\",\"Health and fitness\",\"Health and fitness\",\"Health and fitness\"],\"xaxis\":\"x\",\"yaxis\":\"y\",\"type\":\"histogram\"},{\"alignmentgroup\":\"True\",\"bingroup\":\"x\",\"hovertemplate\":\"Category_name=%{x}<br>count=%{y}<extra></extra>\",\"legendgroup\":\"Civil Engineer\",\"marker\":{\"color\":\"#FF97FF\",\"pattern\":{\"shape\":\"\"}},\"name\":\"Civil Engineer\",\"offsetgroup\":\"Civil Engineer\",\"orientation\":\"v\",\"showlegend\":true,\"x\":[\"Civil Engineer\",\"Civil Engineer\",\"Civil Engineer\",\"Civil Engineer\",\"Civil Engineer\",\"Civil Engineer\",\"Civil Engineer\",\"Civil Engineer\",\"Civil Engineer\",\"Civil Engineer\",\"Civil Engineer\",\"Civil Engineer\",\"Civil Engineer\",\"Civil Engineer\",\"Civil Engineer\",\"Civil Engineer\",\"Civil Engineer\",\"Civil Engineer\",\"Civil Engineer\",\"Civil Engineer\",\"Civil Engineer\",\"Civil Engineer\",\"Civil Engineer\",\"Civil Engineer\"],\"xaxis\":\"x\",\"yaxis\":\"y\",\"type\":\"histogram\"},{\"alignmentgroup\":\"True\",\"bingroup\":\"x\",\"hovertemplate\":\"Category_name=%{x}<br>count=%{y}<extra></extra>\",\"legendgroup\":\"Java Developer\",\"marker\":{\"color\":\"#FECB52\",\"pattern\":{\"shape\":\"\"}},\"name\":\"Java Developer\",\"offsetgroup\":\"Java Developer\",\"orientation\":\"v\",\"showlegend\":true,\"x\":[\"Java Developer\",\"Java Developer\",\"Java Developer\",\"Java Developer\",\"Java Developer\",\"Java Developer\",\"Java Developer\",\"Java Developer\",\"Java Developer\",\"Java Developer\",\"Java Developer\",\"Java Developer\",\"Java Developer\",\"Java Developer\",\"Java Developer\",\"Java Developer\",\"Java Developer\",\"Java Developer\",\"Java Developer\",\"Java Developer\",\"Java Developer\",\"Java Developer\",\"Java Developer\",\"Java Developer\",\"Java Developer\",\"Java Developer\",\"Java Developer\",\"Java Developer\",\"Java Developer\",\"Java Developer\",\"Java Developer\",\"Java Developer\",\"Java Developer\",\"Java Developer\",\"Java Developer\",\"Java Developer\",\"Java Developer\",\"Java Developer\",\"Java Developer\",\"Java Developer\",\"Java Developer\",\"Java Developer\",\"Java Developer\",\"Java Developer\",\"Java Developer\",\"Java Developer\",\"Java Developer\",\"Java Developer\",\"Java Developer\",\"Java Developer\",\"Java Developer\",\"Java Developer\",\"Java Developer\",\"Java Developer\",\"Java Developer\",\"Java Developer\",\"Java Developer\",\"Java Developer\",\"Java Developer\",\"Java Developer\",\"Java Developer\",\"Java Developer\",\"Java Developer\",\"Java Developer\",\"Java Developer\",\"Java Developer\",\"Java Developer\",\"Java Developer\",\"Java Developer\",\"Java Developer\",\"Java Developer\",\"Java Developer\",\"Java Developer\",\"Java Developer\",\"Java Developer\",\"Java Developer\",\"Java Developer\",\"Java Developer\",\"Java Developer\",\"Java Developer\",\"Java Developer\",\"Java Developer\",\"Java Developer\",\"Java Developer\"],\"xaxis\":\"x\",\"yaxis\":\"y\",\"type\":\"histogram\"},{\"alignmentgroup\":\"True\",\"bingroup\":\"x\",\"hovertemplate\":\"Category_name=%{x}<br>count=%{y}<extra></extra>\",\"legendgroup\":\"Business Analyst\",\"marker\":{\"color\":\"#636efa\",\"pattern\":{\"shape\":\"\"}},\"name\":\"Business Analyst\",\"offsetgroup\":\"Business Analyst\",\"orientation\":\"v\",\"showlegend\":true,\"x\":[\"Business Analyst\",\"Business Analyst\",\"Business Analyst\",\"Business Analyst\",\"Business Analyst\",\"Business Analyst\",\"Business Analyst\",\"Business Analyst\",\"Business Analyst\",\"Business Analyst\",\"Business Analyst\",\"Business Analyst\",\"Business Analyst\",\"Business Analyst\",\"Business Analyst\",\"Business Analyst\",\"Business Analyst\",\"Business Analyst\",\"Business Analyst\",\"Business Analyst\",\"Business Analyst\",\"Business Analyst\",\"Business Analyst\",\"Business Analyst\",\"Business Analyst\",\"Business Analyst\",\"Business Analyst\",\"Business Analyst\"],\"xaxis\":\"x\",\"yaxis\":\"y\",\"type\":\"histogram\"},{\"alignmentgroup\":\"True\",\"bingroup\":\"x\",\"hovertemplate\":\"Category_name=%{x}<br>count=%{y}<extra></extra>\",\"legendgroup\":\"SAP Developer\",\"marker\":{\"color\":\"#EF553B\",\"pattern\":{\"shape\":\"\"}},\"name\":\"SAP Developer\",\"offsetgroup\":\"SAP Developer\",\"orientation\":\"v\",\"showlegend\":true,\"x\":[\"SAP Developer\",\"SAP Developer\",\"SAP Developer\",\"SAP Developer\",\"SAP Developer\",\"SAP Developer\",\"SAP Developer\",\"SAP Developer\",\"SAP Developer\",\"SAP Developer\",\"SAP Developer\",\"SAP Developer\",\"SAP Developer\",\"SAP Developer\",\"SAP Developer\",\"SAP Developer\",\"SAP Developer\",\"SAP Developer\",\"SAP Developer\",\"SAP Developer\",\"SAP Developer\",\"SAP Developer\",\"SAP Developer\",\"SAP Developer\"],\"xaxis\":\"x\",\"yaxis\":\"y\",\"type\":\"histogram\"},{\"alignmentgroup\":\"True\",\"bingroup\":\"x\",\"hovertemplate\":\"Category_name=%{x}<br>count=%{y}<extra></extra>\",\"legendgroup\":\"Automation Testing\",\"marker\":{\"color\":\"#00cc96\",\"pattern\":{\"shape\":\"\"}},\"name\":\"Automation Testing\",\"offsetgroup\":\"Automation Testing\",\"orientation\":\"v\",\"showlegend\":true,\"x\":[\"Automation Testing\",\"Automation Testing\",\"Automation Testing\",\"Automation Testing\",\"Automation Testing\",\"Automation Testing\",\"Automation Testing\",\"Automation Testing\",\"Automation Testing\",\"Automation Testing\",\"Automation Testing\",\"Automation Testing\",\"Automation Testing\",\"Automation Testing\",\"Automation Testing\",\"Automation Testing\",\"Automation Testing\",\"Automation Testing\",\"Automation Testing\",\"Automation Testing\",\"Automation Testing\",\"Automation Testing\",\"Automation Testing\",\"Automation Testing\",\"Automation Testing\",\"Automation Testing\"],\"xaxis\":\"x\",\"yaxis\":\"y\",\"type\":\"histogram\"},{\"alignmentgroup\":\"True\",\"bingroup\":\"x\",\"hovertemplate\":\"Category_name=%{x}<br>count=%{y}<extra></extra>\",\"legendgroup\":\"Electrical Engineering\",\"marker\":{\"color\":\"#ab63fa\",\"pattern\":{\"shape\":\"\"}},\"name\":\"Electrical Engineering\",\"offsetgroup\":\"Electrical Engineering\",\"orientation\":\"v\",\"showlegend\":true,\"x\":[\"Electrical Engineering\",\"Electrical Engineering\",\"Electrical Engineering\",\"Electrical Engineering\",\"Electrical Engineering\",\"Electrical Engineering\",\"Electrical Engineering\",\"Electrical Engineering\",\"Electrical Engineering\",\"Electrical Engineering\",\"Electrical Engineering\",\"Electrical Engineering\",\"Electrical Engineering\",\"Electrical Engineering\",\"Electrical Engineering\",\"Electrical Engineering\",\"Electrical Engineering\",\"Electrical Engineering\",\"Electrical Engineering\",\"Electrical Engineering\",\"Electrical Engineering\",\"Electrical Engineering\",\"Electrical Engineering\",\"Electrical Engineering\",\"Electrical Engineering\",\"Electrical Engineering\",\"Electrical Engineering\",\"Electrical Engineering\",\"Electrical Engineering\",\"Electrical Engineering\"],\"xaxis\":\"x\",\"yaxis\":\"y\",\"type\":\"histogram\"},{\"alignmentgroup\":\"True\",\"bingroup\":\"x\",\"hovertemplate\":\"Category_name=%{x}<br>count=%{y}<extra></extra>\",\"legendgroup\":\"Operations Manager\",\"marker\":{\"color\":\"#FFA15A\",\"pattern\":{\"shape\":\"\"}},\"name\":\"Operations Manager\",\"offsetgroup\":\"Operations Manager\",\"orientation\":\"v\",\"showlegend\":true,\"x\":[\"Operations Manager\",\"Operations Manager\",\"Operations Manager\",\"Operations Manager\",\"Operations Manager\",\"Operations Manager\",\"Operations Manager\",\"Operations Manager\",\"Operations Manager\",\"Operations Manager\",\"Operations Manager\",\"Operations Manager\",\"Operations Manager\",\"Operations Manager\",\"Operations Manager\",\"Operations Manager\",\"Operations Manager\",\"Operations Manager\",\"Operations Manager\",\"Operations Manager\",\"Operations Manager\",\"Operations Manager\",\"Operations Manager\",\"Operations Manager\",\"Operations Manager\",\"Operations Manager\",\"Operations Manager\",\"Operations Manager\",\"Operations Manager\",\"Operations Manager\",\"Operations Manager\",\"Operations Manager\",\"Operations Manager\",\"Operations Manager\",\"Operations Manager\",\"Operations Manager\",\"Operations Manager\",\"Operations Manager\",\"Operations Manager\",\"Operations Manager\"],\"xaxis\":\"x\",\"yaxis\":\"y\",\"type\":\"histogram\"},{\"alignmentgroup\":\"True\",\"bingroup\":\"x\",\"hovertemplate\":\"Category_name=%{x}<br>count=%{y}<extra></extra>\",\"legendgroup\":\"Python Developer\",\"marker\":{\"color\":\"#19d3f3\",\"pattern\":{\"shape\":\"\"}},\"name\":\"Python Developer\",\"offsetgroup\":\"Python Developer\",\"orientation\":\"v\",\"showlegend\":true,\"x\":[\"Python Developer\",\"Python Developer\",\"Python Developer\",\"Python Developer\",\"Python Developer\",\"Python Developer\",\"Python Developer\",\"Python Developer\",\"Python Developer\",\"Python Developer\",\"Python Developer\",\"Python Developer\",\"Python Developer\",\"Python Developer\",\"Python Developer\",\"Python Developer\",\"Python Developer\",\"Python Developer\",\"Python Developer\",\"Python Developer\",\"Python Developer\",\"Python Developer\",\"Python Developer\",\"Python Developer\",\"Python Developer\",\"Python Developer\",\"Python Developer\",\"Python Developer\",\"Python Developer\",\"Python Developer\",\"Python Developer\",\"Python Developer\",\"Python Developer\",\"Python Developer\",\"Python Developer\",\"Python Developer\",\"Python Developer\",\"Python Developer\",\"Python Developer\",\"Python Developer\",\"Python Developer\",\"Python Developer\",\"Python Developer\",\"Python Developer\",\"Python Developer\",\"Python Developer\",\"Python Developer\",\"Python Developer\"],\"xaxis\":\"x\",\"yaxis\":\"y\",\"type\":\"histogram\"},{\"alignmentgroup\":\"True\",\"bingroup\":\"x\",\"hovertemplate\":\"Category_name=%{x}<br>count=%{y}<extra></extra>\",\"legendgroup\":\"DevOps Engineer\",\"marker\":{\"color\":\"#FF6692\",\"pattern\":{\"shape\":\"\"}},\"name\":\"DevOps Engineer\",\"offsetgroup\":\"DevOps Engineer\",\"orientation\":\"v\",\"showlegend\":true,\"x\":[\"DevOps Engineer\",\"DevOps Engineer\",\"DevOps Engineer\",\"DevOps Engineer\",\"DevOps Engineer\",\"DevOps Engineer\",\"DevOps Engineer\",\"DevOps Engineer\",\"DevOps Engineer\",\"DevOps Engineer\",\"DevOps Engineer\",\"DevOps Engineer\",\"DevOps Engineer\",\"DevOps Engineer\",\"DevOps Engineer\",\"DevOps Engineer\",\"DevOps Engineer\",\"DevOps Engineer\",\"DevOps Engineer\",\"DevOps Engineer\",\"DevOps Engineer\",\"DevOps Engineer\",\"DevOps Engineer\",\"DevOps Engineer\",\"DevOps Engineer\",\"DevOps Engineer\",\"DevOps Engineer\",\"DevOps Engineer\",\"DevOps Engineer\",\"DevOps Engineer\",\"DevOps Engineer\",\"DevOps Engineer\",\"DevOps Engineer\",\"DevOps Engineer\",\"DevOps Engineer\",\"DevOps Engineer\",\"DevOps Engineer\",\"DevOps Engineer\",\"DevOps Engineer\",\"DevOps Engineer\",\"DevOps Engineer\",\"DevOps Engineer\",\"DevOps Engineer\",\"DevOps Engineer\",\"DevOps Engineer\",\"DevOps Engineer\",\"DevOps Engineer\",\"DevOps Engineer\",\"DevOps Engineer\",\"DevOps Engineer\",\"DevOps Engineer\",\"DevOps Engineer\",\"DevOps Engineer\",\"DevOps Engineer\",\"DevOps Engineer\"],\"xaxis\":\"x\",\"yaxis\":\"y\",\"type\":\"histogram\"},{\"alignmentgroup\":\"True\",\"bingroup\":\"x\",\"hovertemplate\":\"Category_name=%{x}<br>count=%{y}<extra></extra>\",\"legendgroup\":\"Network Security Engineer\",\"marker\":{\"color\":\"#B6E880\",\"pattern\":{\"shape\":\"\"}},\"name\":\"Network Security Engineer\",\"offsetgroup\":\"Network Security Engineer\",\"orientation\":\"v\",\"showlegend\":true,\"x\":[\"Network Security Engineer\",\"Network Security Engineer\",\"Network Security Engineer\",\"Network Security Engineer\",\"Network Security Engineer\",\"Network Security Engineer\",\"Network Security Engineer\",\"Network Security Engineer\",\"Network Security Engineer\",\"Network Security Engineer\",\"Network Security Engineer\",\"Network Security Engineer\",\"Network Security Engineer\",\"Network Security Engineer\",\"Network Security Engineer\",\"Network Security Engineer\",\"Network Security Engineer\",\"Network Security Engineer\",\"Network Security Engineer\",\"Network Security Engineer\",\"Network Security Engineer\",\"Network Security Engineer\",\"Network Security Engineer\",\"Network Security Engineer\",\"Network Security Engineer\"],\"xaxis\":\"x\",\"yaxis\":\"y\",\"type\":\"histogram\"},{\"alignmentgroup\":\"True\",\"bingroup\":\"x\",\"hovertemplate\":\"Category_name=%{x}<br>count=%{y}<extra></extra>\",\"legendgroup\":\"PMO\",\"marker\":{\"color\":\"#FF97FF\",\"pattern\":{\"shape\":\"\"}},\"name\":\"PMO\",\"offsetgroup\":\"PMO\",\"orientation\":\"v\",\"showlegend\":true,\"x\":[\"PMO\",\"PMO\",\"PMO\",\"PMO\",\"PMO\",\"PMO\",\"PMO\",\"PMO\",\"PMO\",\"PMO\",\"PMO\",\"PMO\",\"PMO\",\"PMO\",\"PMO\",\"PMO\",\"PMO\",\"PMO\",\"PMO\",\"PMO\",\"PMO\",\"PMO\",\"PMO\",\"PMO\",\"PMO\",\"PMO\",\"PMO\",\"PMO\",\"PMO\",\"PMO\"],\"xaxis\":\"x\",\"yaxis\":\"y\",\"type\":\"histogram\"},{\"alignmentgroup\":\"True\",\"bingroup\":\"x\",\"hovertemplate\":\"Category_name=%{x}<br>count=%{y}<extra></extra>\",\"legendgroup\":\"Database\",\"marker\":{\"color\":\"#FECB52\",\"pattern\":{\"shape\":\"\"}},\"name\":\"Database\",\"offsetgroup\":\"Database\",\"orientation\":\"v\",\"showlegend\":true,\"x\":[\"Database\",\"Database\",\"Database\",\"Database\",\"Database\",\"Database\",\"Database\",\"Database\",\"Database\",\"Database\",\"Database\",\"Database\",\"Database\",\"Database\",\"Database\",\"Database\",\"Database\",\"Database\",\"Database\",\"Database\",\"Database\",\"Database\",\"Database\",\"Database\",\"Database\",\"Database\",\"Database\",\"Database\",\"Database\",\"Database\",\"Database\",\"Database\",\"Database\"],\"xaxis\":\"x\",\"yaxis\":\"y\",\"type\":\"histogram\"},{\"alignmentgroup\":\"True\",\"bingroup\":\"x\",\"hovertemplate\":\"Category_name=%{x}<br>count=%{y}<extra></extra>\",\"legendgroup\":\"Hadoop\",\"marker\":{\"color\":\"#636efa\",\"pattern\":{\"shape\":\"\"}},\"name\":\"Hadoop\",\"offsetgroup\":\"Hadoop\",\"orientation\":\"v\",\"showlegend\":true,\"x\":[\"Hadoop\",\"Hadoop\",\"Hadoop\",\"Hadoop\",\"Hadoop\",\"Hadoop\",\"Hadoop\",\"Hadoop\",\"Hadoop\",\"Hadoop\",\"Hadoop\",\"Hadoop\",\"Hadoop\",\"Hadoop\",\"Hadoop\",\"Hadoop\",\"Hadoop\",\"Hadoop\",\"Hadoop\",\"Hadoop\",\"Hadoop\",\"Hadoop\",\"Hadoop\",\"Hadoop\",\"Hadoop\",\"Hadoop\",\"Hadoop\",\"Hadoop\",\"Hadoop\",\"Hadoop\",\"Hadoop\",\"Hadoop\",\"Hadoop\",\"Hadoop\",\"Hadoop\",\"Hadoop\",\"Hadoop\",\"Hadoop\",\"Hadoop\",\"Hadoop\",\"Hadoop\",\"Hadoop\"],\"xaxis\":\"x\",\"yaxis\":\"y\",\"type\":\"histogram\"},{\"alignmentgroup\":\"True\",\"bingroup\":\"x\",\"hovertemplate\":\"Category_name=%{x}<br>count=%{y}<extra></extra>\",\"legendgroup\":\"ETL Developer\",\"marker\":{\"color\":\"#EF553B\",\"pattern\":{\"shape\":\"\"}},\"name\":\"ETL Developer\",\"offsetgroup\":\"ETL Developer\",\"orientation\":\"v\",\"showlegend\":true,\"x\":[\"ETL Developer\",\"ETL Developer\",\"ETL Developer\",\"ETL Developer\",\"ETL Developer\",\"ETL Developer\",\"ETL Developer\",\"ETL Developer\",\"ETL Developer\",\"ETL Developer\",\"ETL Developer\",\"ETL Developer\",\"ETL Developer\",\"ETL Developer\",\"ETL Developer\",\"ETL Developer\",\"ETL Developer\",\"ETL Developer\",\"ETL Developer\",\"ETL Developer\",\"ETL Developer\",\"ETL Developer\",\"ETL Developer\",\"ETL Developer\",\"ETL Developer\",\"ETL Developer\",\"ETL Developer\",\"ETL Developer\",\"ETL Developer\",\"ETL Developer\",\"ETL Developer\",\"ETL Developer\",\"ETL Developer\",\"ETL Developer\",\"ETL Developer\",\"ETL Developer\",\"ETL Developer\",\"ETL Developer\",\"ETL Developer\",\"ETL Developer\"],\"xaxis\":\"x\",\"yaxis\":\"y\",\"type\":\"histogram\"},{\"alignmentgroup\":\"True\",\"bingroup\":\"x\",\"hovertemplate\":\"Category_name=%{x}<br>count=%{y}<extra></extra>\",\"legendgroup\":\"DotNet Developer\",\"marker\":{\"color\":\"#00cc96\",\"pattern\":{\"shape\":\"\"}},\"name\":\"DotNet Developer\",\"offsetgroup\":\"DotNet Developer\",\"orientation\":\"v\",\"showlegend\":true,\"x\":[\"DotNet Developer\",\"DotNet Developer\",\"DotNet Developer\",\"DotNet Developer\",\"DotNet Developer\",\"DotNet Developer\",\"DotNet Developer\",\"DotNet Developer\",\"DotNet Developer\",\"DotNet Developer\",\"DotNet Developer\",\"DotNet Developer\",\"DotNet Developer\",\"DotNet Developer\",\"DotNet Developer\",\"DotNet Developer\",\"DotNet Developer\",\"DotNet Developer\",\"DotNet Developer\",\"DotNet Developer\",\"DotNet Developer\",\"DotNet Developer\",\"DotNet Developer\",\"DotNet Developer\",\"DotNet Developer\",\"DotNet Developer\",\"DotNet Developer\",\"DotNet Developer\"],\"xaxis\":\"x\",\"yaxis\":\"y\",\"type\":\"histogram\"},{\"alignmentgroup\":\"True\",\"bingroup\":\"x\",\"hovertemplate\":\"Category_name=%{x}<br>count=%{y}<extra></extra>\",\"legendgroup\":\"Blockchain\",\"marker\":{\"color\":\"#ab63fa\",\"pattern\":{\"shape\":\"\"}},\"name\":\"Blockchain\",\"offsetgroup\":\"Blockchain\",\"orientation\":\"v\",\"showlegend\":true,\"x\":[\"Blockchain\",\"Blockchain\",\"Blockchain\",\"Blockchain\",\"Blockchain\",\"Blockchain\",\"Blockchain\",\"Blockchain\",\"Blockchain\",\"Blockchain\",\"Blockchain\",\"Blockchain\",\"Blockchain\",\"Blockchain\",\"Blockchain\",\"Blockchain\",\"Blockchain\",\"Blockchain\",\"Blockchain\",\"Blockchain\",\"Blockchain\",\"Blockchain\",\"Blockchain\",\"Blockchain\",\"Blockchain\",\"Blockchain\",\"Blockchain\",\"Blockchain\",\"Blockchain\",\"Blockchain\",\"Blockchain\",\"Blockchain\",\"Blockchain\",\"Blockchain\",\"Blockchain\",\"Blockchain\",\"Blockchain\",\"Blockchain\",\"Blockchain\",\"Blockchain\"],\"xaxis\":\"x\",\"yaxis\":\"y\",\"type\":\"histogram\"},{\"alignmentgroup\":\"True\",\"bingroup\":\"x\",\"hovertemplate\":\"Category_name=%{x}<br>count=%{y}<extra></extra>\",\"legendgroup\":\"Testing\",\"marker\":{\"color\":\"#FFA15A\",\"pattern\":{\"shape\":\"\"}},\"name\":\"Testing\",\"offsetgroup\":\"Testing\",\"orientation\":\"v\",\"showlegend\":true,\"x\":[\"Testing\",\"Testing\",\"Testing\",\"Testing\",\"Testing\",\"Testing\",\"Testing\",\"Testing\",\"Testing\",\"Testing\",\"Testing\",\"Testing\",\"Testing\",\"Testing\",\"Testing\",\"Testing\",\"Testing\",\"Testing\",\"Testing\",\"Testing\",\"Testing\",\"Testing\",\"Testing\",\"Testing\",\"Testing\",\"Testing\",\"Testing\",\"Testing\",\"Testing\",\"Testing\",\"Testing\",\"Testing\",\"Testing\",\"Testing\",\"Testing\",\"Testing\",\"Testing\",\"Testing\",\"Testing\",\"Testing\",\"Testing\",\"Testing\",\"Testing\",\"Testing\",\"Testing\",\"Testing\",\"Testing\",\"Testing\",\"Testing\",\"Testing\",\"Testing\",\"Testing\",\"Testing\",\"Testing\",\"Testing\",\"Testing\",\"Testing\",\"Testing\",\"Testing\",\"Testing\",\"Testing\",\"Testing\",\"Testing\",\"Testing\",\"Testing\",\"Testing\",\"Testing\",\"Testing\",\"Testing\",\"Testing\"],\"xaxis\":\"x\",\"yaxis\":\"y\",\"type\":\"histogram\"}],                        {\"template\":{\"data\":{\"bar\":[{\"error_x\":{\"color\":\"#2a3f5f\"},\"error_y\":{\"color\":\"#2a3f5f\"},\"marker\":{\"line\":{\"color\":\"#E5ECF6\",\"width\":0.5},\"pattern\":{\"fillmode\":\"overlay\",\"size\":10,\"solidity\":0.2}},\"type\":\"bar\"}],\"barpolar\":[{\"marker\":{\"line\":{\"color\":\"#E5ECF6\",\"width\":0.5},\"pattern\":{\"fillmode\":\"overlay\",\"size\":10,\"solidity\":0.2}},\"type\":\"barpolar\"}],\"carpet\":[{\"aaxis\":{\"endlinecolor\":\"#2a3f5f\",\"gridcolor\":\"white\",\"linecolor\":\"white\",\"minorgridcolor\":\"white\",\"startlinecolor\":\"#2a3f5f\"},\"baxis\":{\"endlinecolor\":\"#2a3f5f\",\"gridcolor\":\"white\",\"linecolor\":\"white\",\"minorgridcolor\":\"white\",\"startlinecolor\":\"#2a3f5f\"},\"type\":\"carpet\"}],\"choropleth\":[{\"colorbar\":{\"outlinewidth\":0,\"ticks\":\"\"},\"type\":\"choropleth\"}],\"contour\":[{\"colorbar\":{\"outlinewidth\":0,\"ticks\":\"\"},\"colorscale\":[[0.0,\"#0d0887\"],[0.1111111111111111,\"#46039f\"],[0.2222222222222222,\"#7201a8\"],[0.3333333333333333,\"#9c179e\"],[0.4444444444444444,\"#bd3786\"],[0.5555555555555556,\"#d8576b\"],[0.6666666666666666,\"#ed7953\"],[0.7777777777777778,\"#fb9f3a\"],[0.8888888888888888,\"#fdca26\"],[1.0,\"#f0f921\"]],\"type\":\"contour\"}],\"contourcarpet\":[{\"colorbar\":{\"outlinewidth\":0,\"ticks\":\"\"},\"type\":\"contourcarpet\"}],\"heatmap\":[{\"colorbar\":{\"outlinewidth\":0,\"ticks\":\"\"},\"colorscale\":[[0.0,\"#0d0887\"],[0.1111111111111111,\"#46039f\"],[0.2222222222222222,\"#7201a8\"],[0.3333333333333333,\"#9c179e\"],[0.4444444444444444,\"#bd3786\"],[0.5555555555555556,\"#d8576b\"],[0.6666666666666666,\"#ed7953\"],[0.7777777777777778,\"#fb9f3a\"],[0.8888888888888888,\"#fdca26\"],[1.0,\"#f0f921\"]],\"type\":\"heatmap\"}],\"heatmapgl\":[{\"colorbar\":{\"outlinewidth\":0,\"ticks\":\"\"},\"colorscale\":[[0.0,\"#0d0887\"],[0.1111111111111111,\"#46039f\"],[0.2222222222222222,\"#7201a8\"],[0.3333333333333333,\"#9c179e\"],[0.4444444444444444,\"#bd3786\"],[0.5555555555555556,\"#d8576b\"],[0.6666666666666666,\"#ed7953\"],[0.7777777777777778,\"#fb9f3a\"],[0.8888888888888888,\"#fdca26\"],[1.0,\"#f0f921\"]],\"type\":\"heatmapgl\"}],\"histogram\":[{\"marker\":{\"pattern\":{\"fillmode\":\"overlay\",\"size\":10,\"solidity\":0.2}},\"type\":\"histogram\"}],\"histogram2d\":[{\"colorbar\":{\"outlinewidth\":0,\"ticks\":\"\"},\"colorscale\":[[0.0,\"#0d0887\"],[0.1111111111111111,\"#46039f\"],[0.2222222222222222,\"#7201a8\"],[0.3333333333333333,\"#9c179e\"],[0.4444444444444444,\"#bd3786\"],[0.5555555555555556,\"#d8576b\"],[0.6666666666666666,\"#ed7953\"],[0.7777777777777778,\"#fb9f3a\"],[0.8888888888888888,\"#fdca26\"],[1.0,\"#f0f921\"]],\"type\":\"histogram2d\"}],\"histogram2dcontour\":[{\"colorbar\":{\"outlinewidth\":0,\"ticks\":\"\"},\"colorscale\":[[0.0,\"#0d0887\"],[0.1111111111111111,\"#46039f\"],[0.2222222222222222,\"#7201a8\"],[0.3333333333333333,\"#9c179e\"],[0.4444444444444444,\"#bd3786\"],[0.5555555555555556,\"#d8576b\"],[0.6666666666666666,\"#ed7953\"],[0.7777777777777778,\"#fb9f3a\"],[0.8888888888888888,\"#fdca26\"],[1.0,\"#f0f921\"]],\"type\":\"histogram2dcontour\"}],\"mesh3d\":[{\"colorbar\":{\"outlinewidth\":0,\"ticks\":\"\"},\"type\":\"mesh3d\"}],\"parcoords\":[{\"line\":{\"colorbar\":{\"outlinewidth\":0,\"ticks\":\"\"}},\"type\":\"parcoords\"}],\"pie\":[{\"automargin\":true,\"type\":\"pie\"}],\"scatter\":[{\"marker\":{\"colorbar\":{\"outlinewidth\":0,\"ticks\":\"\"}},\"type\":\"scatter\"}],\"scatter3d\":[{\"line\":{\"colorbar\":{\"outlinewidth\":0,\"ticks\":\"\"}},\"marker\":{\"colorbar\":{\"outlinewidth\":0,\"ticks\":\"\"}},\"type\":\"scatter3d\"}],\"scattercarpet\":[{\"marker\":{\"colorbar\":{\"outlinewidth\":0,\"ticks\":\"\"}},\"type\":\"scattercarpet\"}],\"scattergeo\":[{\"marker\":{\"colorbar\":{\"outlinewidth\":0,\"ticks\":\"\"}},\"type\":\"scattergeo\"}],\"scattergl\":[{\"marker\":{\"colorbar\":{\"outlinewidth\":0,\"ticks\":\"\"}},\"type\":\"scattergl\"}],\"scattermapbox\":[{\"marker\":{\"colorbar\":{\"outlinewidth\":0,\"ticks\":\"\"}},\"type\":\"scattermapbox\"}],\"scatterpolar\":[{\"marker\":{\"colorbar\":{\"outlinewidth\":0,\"ticks\":\"\"}},\"type\":\"scatterpolar\"}],\"scatterpolargl\":[{\"marker\":{\"colorbar\":{\"outlinewidth\":0,\"ticks\":\"\"}},\"type\":\"scatterpolargl\"}],\"scatterternary\":[{\"marker\":{\"colorbar\":{\"outlinewidth\":0,\"ticks\":\"\"}},\"type\":\"scatterternary\"}],\"surface\":[{\"colorbar\":{\"outlinewidth\":0,\"ticks\":\"\"},\"colorscale\":[[0.0,\"#0d0887\"],[0.1111111111111111,\"#46039f\"],[0.2222222222222222,\"#7201a8\"],[0.3333333333333333,\"#9c179e\"],[0.4444444444444444,\"#bd3786\"],[0.5555555555555556,\"#d8576b\"],[0.6666666666666666,\"#ed7953\"],[0.7777777777777778,\"#fb9f3a\"],[0.8888888888888888,\"#fdca26\"],[1.0,\"#f0f921\"]],\"type\":\"surface\"}],\"table\":[{\"cells\":{\"fill\":{\"color\":\"#EBF0F8\"},\"line\":{\"color\":\"white\"}},\"header\":{\"fill\":{\"color\":\"#C8D4E3\"},\"line\":{\"color\":\"white\"}},\"type\":\"table\"}]},\"layout\":{\"annotationdefaults\":{\"arrowcolor\":\"#2a3f5f\",\"arrowhead\":0,\"arrowwidth\":1},\"autotypenumbers\":\"strict\",\"coloraxis\":{\"colorbar\":{\"outlinewidth\":0,\"ticks\":\"\"}},\"colorscale\":{\"diverging\":[[0,\"#8e0152\"],[0.1,\"#c51b7d\"],[0.2,\"#de77ae\"],[0.3,\"#f1b6da\"],[0.4,\"#fde0ef\"],[0.5,\"#f7f7f7\"],[0.6,\"#e6f5d0\"],[0.7,\"#b8e186\"],[0.8,\"#7fbc41\"],[0.9,\"#4d9221\"],[1,\"#276419\"]],\"sequential\":[[0.0,\"#0d0887\"],[0.1111111111111111,\"#46039f\"],[0.2222222222222222,\"#7201a8\"],[0.3333333333333333,\"#9c179e\"],[0.4444444444444444,\"#bd3786\"],[0.5555555555555556,\"#d8576b\"],[0.6666666666666666,\"#ed7953\"],[0.7777777777777778,\"#fb9f3a\"],[0.8888888888888888,\"#fdca26\"],[1.0,\"#f0f921\"]],\"sequentialminus\":[[0.0,\"#0d0887\"],[0.1111111111111111,\"#46039f\"],[0.2222222222222222,\"#7201a8\"],[0.3333333333333333,\"#9c179e\"],[0.4444444444444444,\"#bd3786\"],[0.5555555555555556,\"#d8576b\"],[0.6666666666666666,\"#ed7953\"],[0.7777777777777778,\"#fb9f3a\"],[0.8888888888888888,\"#fdca26\"],[1.0,\"#f0f921\"]]},\"colorway\":[\"#636efa\",\"#EF553B\",\"#00cc96\",\"#ab63fa\",\"#FFA15A\",\"#19d3f3\",\"#FF6692\",\"#B6E880\",\"#FF97FF\",\"#FECB52\"],\"font\":{\"color\":\"#2a3f5f\"},\"geo\":{\"bgcolor\":\"white\",\"lakecolor\":\"white\",\"landcolor\":\"#E5ECF6\",\"showlakes\":true,\"showland\":true,\"subunitcolor\":\"white\"},\"hoverlabel\":{\"align\":\"left\"},\"hovermode\":\"closest\",\"mapbox\":{\"style\":\"light\"},\"paper_bgcolor\":\"white\",\"plot_bgcolor\":\"#E5ECF6\",\"polar\":{\"angularaxis\":{\"gridcolor\":\"white\",\"linecolor\":\"white\",\"ticks\":\"\"},\"bgcolor\":\"#E5ECF6\",\"radialaxis\":{\"gridcolor\":\"white\",\"linecolor\":\"white\",\"ticks\":\"\"}},\"scene\":{\"xaxis\":{\"backgroundcolor\":\"#E5ECF6\",\"gridcolor\":\"white\",\"gridwidth\":2,\"linecolor\":\"white\",\"showbackground\":true,\"ticks\":\"\",\"zerolinecolor\":\"white\"},\"yaxis\":{\"backgroundcolor\":\"#E5ECF6\",\"gridcolor\":\"white\",\"gridwidth\":2,\"linecolor\":\"white\",\"showbackground\":true,\"ticks\":\"\",\"zerolinecolor\":\"white\"},\"zaxis\":{\"backgroundcolor\":\"#E5ECF6\",\"gridcolor\":\"white\",\"gridwidth\":2,\"linecolor\":\"white\",\"showbackground\":true,\"ticks\":\"\",\"zerolinecolor\":\"white\"}},\"shapedefaults\":{\"line\":{\"color\":\"#2a3f5f\"}},\"ternary\":{\"aaxis\":{\"gridcolor\":\"white\",\"linecolor\":\"white\",\"ticks\":\"\"},\"baxis\":{\"gridcolor\":\"white\",\"linecolor\":\"white\",\"ticks\":\"\"},\"bgcolor\":\"#E5ECF6\",\"caxis\":{\"gridcolor\":\"white\",\"linecolor\":\"white\",\"ticks\":\"\"}},\"title\":{\"x\":0.05},\"xaxis\":{\"automargin\":true,\"gridcolor\":\"white\",\"linecolor\":\"white\",\"ticks\":\"\",\"title\":{\"standoff\":15},\"zerolinecolor\":\"white\",\"zerolinewidth\":2},\"yaxis\":{\"automargin\":true,\"gridcolor\":\"white\",\"linecolor\":\"white\",\"ticks\":\"\",\"title\":{\"standoff\":15},\"zerolinecolor\":\"white\",\"zerolinewidth\":2}}},\"xaxis\":{\"anchor\":\"y\",\"domain\":[0.0,1.0],\"title\":{\"text\":\"Category_name\"},\"categoryorder\":\"array\",\"categoryarray\":[\"Data Science\",\"HR\",\"Advocate\",\"Arts\",\"Web Designing\",\"Mechanical Engineer\",\"Sales\",\"Health and fitness\",\"Civil Engineer\",\"Java Developer\",\"Business Analyst\",\"SAP Developer\",\"Automation Testing\",\"Electrical Engineering\",\"Operations Manager\",\"Python Developer\",\"DevOps Engineer\",\"Network Security Engineer\",\"PMO\",\"Database\",\"Hadoop\",\"ETL Developer\",\"DotNet Developer\",\"Blockchain\",\"Testing\"]},\"yaxis\":{\"anchor\":\"x\",\"domain\":[0.0,1.0],\"title\":{\"text\":\"count\"}},\"legend\":{\"title\":{\"text\":\"Category_name\"},\"tracegroupgap\":0},\"margin\":{\"t\":60},\"barmode\":\"relative\"},                        {\"responsive\": true}                    ).then(function(){\n",
       "                            \n",
       "var gd = document.getElementById('ba9c5b82-d250-4c2e-a4f6-4094a0c87fb6');\n",
       "var x = new MutationObserver(function (mutations, observer) {{\n",
       "        var display = window.getComputedStyle(gd).display;\n",
       "        if (!display || display === 'none') {{\n",
       "            console.log([gd, 'removed!']);\n",
       "            Plotly.purge(gd);\n",
       "            observer.disconnect();\n",
       "        }}\n",
       "}});\n",
       "\n",
       "// Listen for the removal of the full notebook cells\n",
       "var notebookContainer = gd.closest('#notebook-container');\n",
       "if (notebookContainer) {{\n",
       "    x.observe(notebookContainer, {childList: true});\n",
       "}}\n",
       "\n",
       "// Listen for the clearing of the current output cell\n",
       "var outputEl = gd.closest('.output');\n",
       "if (outputEl) {{\n",
       "    x.observe(outputEl, {childList: true});\n",
       "}}\n",
       "\n",
       "                        })                };                });            </script>        </div>"
      ]
     },
     "metadata": {},
     "output_type": "display_data"
    }
   ],
   "source": [
    "px.histogram(df, x='Category_name', color=\"Category_name\") # barmode='group'"
   ]
  },
  {
   "cell_type": "code",
   "execution_count": 34,
   "id": "d2cfada3",
   "metadata": {
    "scrolled": false
   },
   "outputs": [
    {
     "data": {
      "application/vnd.plotly.v1+json": {
       "config": {
        "plotlyServerURL": "https://plot.ly"
       },
       "data": [
        {
         "domain": {
          "x": [
           0,
           1
          ],
          "y": [
           0,
           1
          ]
         },
         "hovertemplate": "Category=%{label}<br>Count=%{value}<extra></extra>",
         "labels": [
          "Java Developer",
          "Testing",
          "DevOps Engineer",
          "Python Developer",
          "Web Designing",
          "HR",
          "Hadoop",
          "Blockchain",
          "ETL Developer",
          "Operations Manager",
          "Data Science",
          "Sales",
          "Mechanical Engineer",
          "Arts",
          "Database",
          "Electrical Engineering",
          "Health and fitness",
          "PMO",
          "Business Analyst",
          "DotNet Developer",
          "Automation Testing",
          "Network Security Engineer",
          "SAP Developer",
          "Civil Engineer",
          "Advocate"
         ],
         "legendgroup": "",
         "name": "",
         "showlegend": true,
         "textinfo": "percent+label",
         "textposition": "inside",
         "type": "pie",
         "values": [
          84,
          70,
          55,
          48,
          45,
          44,
          42,
          40,
          40,
          40,
          40,
          40,
          40,
          36,
          33,
          30,
          30,
          30,
          28,
          28,
          26,
          25,
          24,
          24,
          20
         ]
        }
       ],
       "layout": {
        "legend": {
         "tracegroupgap": 0
        },
        "template": {
         "data": {
          "bar": [
           {
            "error_x": {
             "color": "#2a3f5f"
            },
            "error_y": {
             "color": "#2a3f5f"
            },
            "marker": {
             "line": {
              "color": "#E5ECF6",
              "width": 0.5
             },
             "pattern": {
              "fillmode": "overlay",
              "size": 10,
              "solidity": 0.2
             }
            },
            "type": "bar"
           }
          ],
          "barpolar": [
           {
            "marker": {
             "line": {
              "color": "#E5ECF6",
              "width": 0.5
             },
             "pattern": {
              "fillmode": "overlay",
              "size": 10,
              "solidity": 0.2
             }
            },
            "type": "barpolar"
           }
          ],
          "carpet": [
           {
            "aaxis": {
             "endlinecolor": "#2a3f5f",
             "gridcolor": "white",
             "linecolor": "white",
             "minorgridcolor": "white",
             "startlinecolor": "#2a3f5f"
            },
            "baxis": {
             "endlinecolor": "#2a3f5f",
             "gridcolor": "white",
             "linecolor": "white",
             "minorgridcolor": "white",
             "startlinecolor": "#2a3f5f"
            },
            "type": "carpet"
           }
          ],
          "choropleth": [
           {
            "colorbar": {
             "outlinewidth": 0,
             "ticks": ""
            },
            "type": "choropleth"
           }
          ],
          "contour": [
           {
            "colorbar": {
             "outlinewidth": 0,
             "ticks": ""
            },
            "colorscale": [
             [
              0,
              "#0d0887"
             ],
             [
              0.1111111111111111,
              "#46039f"
             ],
             [
              0.2222222222222222,
              "#7201a8"
             ],
             [
              0.3333333333333333,
              "#9c179e"
             ],
             [
              0.4444444444444444,
              "#bd3786"
             ],
             [
              0.5555555555555556,
              "#d8576b"
             ],
             [
              0.6666666666666666,
              "#ed7953"
             ],
             [
              0.7777777777777778,
              "#fb9f3a"
             ],
             [
              0.8888888888888888,
              "#fdca26"
             ],
             [
              1,
              "#f0f921"
             ]
            ],
            "type": "contour"
           }
          ],
          "contourcarpet": [
           {
            "colorbar": {
             "outlinewidth": 0,
             "ticks": ""
            },
            "type": "contourcarpet"
           }
          ],
          "heatmap": [
           {
            "colorbar": {
             "outlinewidth": 0,
             "ticks": ""
            },
            "colorscale": [
             [
              0,
              "#0d0887"
             ],
             [
              0.1111111111111111,
              "#46039f"
             ],
             [
              0.2222222222222222,
              "#7201a8"
             ],
             [
              0.3333333333333333,
              "#9c179e"
             ],
             [
              0.4444444444444444,
              "#bd3786"
             ],
             [
              0.5555555555555556,
              "#d8576b"
             ],
             [
              0.6666666666666666,
              "#ed7953"
             ],
             [
              0.7777777777777778,
              "#fb9f3a"
             ],
             [
              0.8888888888888888,
              "#fdca26"
             ],
             [
              1,
              "#f0f921"
             ]
            ],
            "type": "heatmap"
           }
          ],
          "heatmapgl": [
           {
            "colorbar": {
             "outlinewidth": 0,
             "ticks": ""
            },
            "colorscale": [
             [
              0,
              "#0d0887"
             ],
             [
              0.1111111111111111,
              "#46039f"
             ],
             [
              0.2222222222222222,
              "#7201a8"
             ],
             [
              0.3333333333333333,
              "#9c179e"
             ],
             [
              0.4444444444444444,
              "#bd3786"
             ],
             [
              0.5555555555555556,
              "#d8576b"
             ],
             [
              0.6666666666666666,
              "#ed7953"
             ],
             [
              0.7777777777777778,
              "#fb9f3a"
             ],
             [
              0.8888888888888888,
              "#fdca26"
             ],
             [
              1,
              "#f0f921"
             ]
            ],
            "type": "heatmapgl"
           }
          ],
          "histogram": [
           {
            "marker": {
             "pattern": {
              "fillmode": "overlay",
              "size": 10,
              "solidity": 0.2
             }
            },
            "type": "histogram"
           }
          ],
          "histogram2d": [
           {
            "colorbar": {
             "outlinewidth": 0,
             "ticks": ""
            },
            "colorscale": [
             [
              0,
              "#0d0887"
             ],
             [
              0.1111111111111111,
              "#46039f"
             ],
             [
              0.2222222222222222,
              "#7201a8"
             ],
             [
              0.3333333333333333,
              "#9c179e"
             ],
             [
              0.4444444444444444,
              "#bd3786"
             ],
             [
              0.5555555555555556,
              "#d8576b"
             ],
             [
              0.6666666666666666,
              "#ed7953"
             ],
             [
              0.7777777777777778,
              "#fb9f3a"
             ],
             [
              0.8888888888888888,
              "#fdca26"
             ],
             [
              1,
              "#f0f921"
             ]
            ],
            "type": "histogram2d"
           }
          ],
          "histogram2dcontour": [
           {
            "colorbar": {
             "outlinewidth": 0,
             "ticks": ""
            },
            "colorscale": [
             [
              0,
              "#0d0887"
             ],
             [
              0.1111111111111111,
              "#46039f"
             ],
             [
              0.2222222222222222,
              "#7201a8"
             ],
             [
              0.3333333333333333,
              "#9c179e"
             ],
             [
              0.4444444444444444,
              "#bd3786"
             ],
             [
              0.5555555555555556,
              "#d8576b"
             ],
             [
              0.6666666666666666,
              "#ed7953"
             ],
             [
              0.7777777777777778,
              "#fb9f3a"
             ],
             [
              0.8888888888888888,
              "#fdca26"
             ],
             [
              1,
              "#f0f921"
             ]
            ],
            "type": "histogram2dcontour"
           }
          ],
          "mesh3d": [
           {
            "colorbar": {
             "outlinewidth": 0,
             "ticks": ""
            },
            "type": "mesh3d"
           }
          ],
          "parcoords": [
           {
            "line": {
             "colorbar": {
              "outlinewidth": 0,
              "ticks": ""
             }
            },
            "type": "parcoords"
           }
          ],
          "pie": [
           {
            "automargin": true,
            "type": "pie"
           }
          ],
          "scatter": [
           {
            "marker": {
             "colorbar": {
              "outlinewidth": 0,
              "ticks": ""
             }
            },
            "type": "scatter"
           }
          ],
          "scatter3d": [
           {
            "line": {
             "colorbar": {
              "outlinewidth": 0,
              "ticks": ""
             }
            },
            "marker": {
             "colorbar": {
              "outlinewidth": 0,
              "ticks": ""
             }
            },
            "type": "scatter3d"
           }
          ],
          "scattercarpet": [
           {
            "marker": {
             "colorbar": {
              "outlinewidth": 0,
              "ticks": ""
             }
            },
            "type": "scattercarpet"
           }
          ],
          "scattergeo": [
           {
            "marker": {
             "colorbar": {
              "outlinewidth": 0,
              "ticks": ""
             }
            },
            "type": "scattergeo"
           }
          ],
          "scattergl": [
           {
            "marker": {
             "colorbar": {
              "outlinewidth": 0,
              "ticks": ""
             }
            },
            "type": "scattergl"
           }
          ],
          "scattermapbox": [
           {
            "marker": {
             "colorbar": {
              "outlinewidth": 0,
              "ticks": ""
             }
            },
            "type": "scattermapbox"
           }
          ],
          "scatterpolar": [
           {
            "marker": {
             "colorbar": {
              "outlinewidth": 0,
              "ticks": ""
             }
            },
            "type": "scatterpolar"
           }
          ],
          "scatterpolargl": [
           {
            "marker": {
             "colorbar": {
              "outlinewidth": 0,
              "ticks": ""
             }
            },
            "type": "scatterpolargl"
           }
          ],
          "scatterternary": [
           {
            "marker": {
             "colorbar": {
              "outlinewidth": 0,
              "ticks": ""
             }
            },
            "type": "scatterternary"
           }
          ],
          "surface": [
           {
            "colorbar": {
             "outlinewidth": 0,
             "ticks": ""
            },
            "colorscale": [
             [
              0,
              "#0d0887"
             ],
             [
              0.1111111111111111,
              "#46039f"
             ],
             [
              0.2222222222222222,
              "#7201a8"
             ],
             [
              0.3333333333333333,
              "#9c179e"
             ],
             [
              0.4444444444444444,
              "#bd3786"
             ],
             [
              0.5555555555555556,
              "#d8576b"
             ],
             [
              0.6666666666666666,
              "#ed7953"
             ],
             [
              0.7777777777777778,
              "#fb9f3a"
             ],
             [
              0.8888888888888888,
              "#fdca26"
             ],
             [
              1,
              "#f0f921"
             ]
            ],
            "type": "surface"
           }
          ],
          "table": [
           {
            "cells": {
             "fill": {
              "color": "#EBF0F8"
             },
             "line": {
              "color": "white"
             }
            },
            "header": {
             "fill": {
              "color": "#C8D4E3"
             },
             "line": {
              "color": "white"
             }
            },
            "type": "table"
           }
          ]
         },
         "layout": {
          "annotationdefaults": {
           "arrowcolor": "#2a3f5f",
           "arrowhead": 0,
           "arrowwidth": 1
          },
          "autotypenumbers": "strict",
          "coloraxis": {
           "colorbar": {
            "outlinewidth": 0,
            "ticks": ""
           }
          },
          "colorscale": {
           "diverging": [
            [
             0,
             "#8e0152"
            ],
            [
             0.1,
             "#c51b7d"
            ],
            [
             0.2,
             "#de77ae"
            ],
            [
             0.3,
             "#f1b6da"
            ],
            [
             0.4,
             "#fde0ef"
            ],
            [
             0.5,
             "#f7f7f7"
            ],
            [
             0.6,
             "#e6f5d0"
            ],
            [
             0.7,
             "#b8e186"
            ],
            [
             0.8,
             "#7fbc41"
            ],
            [
             0.9,
             "#4d9221"
            ],
            [
             1,
             "#276419"
            ]
           ],
           "sequential": [
            [
             0,
             "#0d0887"
            ],
            [
             0.1111111111111111,
             "#46039f"
            ],
            [
             0.2222222222222222,
             "#7201a8"
            ],
            [
             0.3333333333333333,
             "#9c179e"
            ],
            [
             0.4444444444444444,
             "#bd3786"
            ],
            [
             0.5555555555555556,
             "#d8576b"
            ],
            [
             0.6666666666666666,
             "#ed7953"
            ],
            [
             0.7777777777777778,
             "#fb9f3a"
            ],
            [
             0.8888888888888888,
             "#fdca26"
            ],
            [
             1,
             "#f0f921"
            ]
           ],
           "sequentialminus": [
            [
             0,
             "#0d0887"
            ],
            [
             0.1111111111111111,
             "#46039f"
            ],
            [
             0.2222222222222222,
             "#7201a8"
            ],
            [
             0.3333333333333333,
             "#9c179e"
            ],
            [
             0.4444444444444444,
             "#bd3786"
            ],
            [
             0.5555555555555556,
             "#d8576b"
            ],
            [
             0.6666666666666666,
             "#ed7953"
            ],
            [
             0.7777777777777778,
             "#fb9f3a"
            ],
            [
             0.8888888888888888,
             "#fdca26"
            ],
            [
             1,
             "#f0f921"
            ]
           ]
          },
          "colorway": [
           "#636efa",
           "#EF553B",
           "#00cc96",
           "#ab63fa",
           "#FFA15A",
           "#19d3f3",
           "#FF6692",
           "#B6E880",
           "#FF97FF",
           "#FECB52"
          ],
          "font": {
           "color": "#2a3f5f"
          },
          "geo": {
           "bgcolor": "white",
           "lakecolor": "white",
           "landcolor": "#E5ECF6",
           "showlakes": true,
           "showland": true,
           "subunitcolor": "white"
          },
          "hoverlabel": {
           "align": "left"
          },
          "hovermode": "closest",
          "mapbox": {
           "style": "light"
          },
          "paper_bgcolor": "white",
          "plot_bgcolor": "#E5ECF6",
          "polar": {
           "angularaxis": {
            "gridcolor": "white",
            "linecolor": "white",
            "ticks": ""
           },
           "bgcolor": "#E5ECF6",
           "radialaxis": {
            "gridcolor": "white",
            "linecolor": "white",
            "ticks": ""
           }
          },
          "scene": {
           "xaxis": {
            "backgroundcolor": "#E5ECF6",
            "gridcolor": "white",
            "gridwidth": 2,
            "linecolor": "white",
            "showbackground": true,
            "ticks": "",
            "zerolinecolor": "white"
           },
           "yaxis": {
            "backgroundcolor": "#E5ECF6",
            "gridcolor": "white",
            "gridwidth": 2,
            "linecolor": "white",
            "showbackground": true,
            "ticks": "",
            "zerolinecolor": "white"
           },
           "zaxis": {
            "backgroundcolor": "#E5ECF6",
            "gridcolor": "white",
            "gridwidth": 2,
            "linecolor": "white",
            "showbackground": true,
            "ticks": "",
            "zerolinecolor": "white"
           }
          },
          "shapedefaults": {
           "line": {
            "color": "#2a3f5f"
           }
          },
          "ternary": {
           "aaxis": {
            "gridcolor": "white",
            "linecolor": "white",
            "ticks": ""
           },
           "baxis": {
            "gridcolor": "white",
            "linecolor": "white",
            "ticks": ""
           },
           "bgcolor": "#E5ECF6",
           "caxis": {
            "gridcolor": "white",
            "linecolor": "white",
            "ticks": ""
           }
          },
          "title": {
           "x": 0.05
          },
          "xaxis": {
           "automargin": true,
           "gridcolor": "white",
           "linecolor": "white",
           "ticks": "",
           "title": {
            "standoff": 15
           },
           "zerolinecolor": "white",
           "zerolinewidth": 2
          },
          "yaxis": {
           "automargin": true,
           "gridcolor": "white",
           "linecolor": "white",
           "ticks": "",
           "title": {
            "standoff": 15
           },
           "zerolinecolor": "white",
           "zerolinewidth": 2
          }
         }
        },
        "title": {
         "text": "Category Count"
        }
       }
      },
      "text/html": [
       "<div>                            <div id=\"8ea50c82-f6d5-406f-bf58-40526fb2ade0\" class=\"plotly-graph-div\" style=\"height:525px; width:100%;\"></div>            <script type=\"text/javascript\">                require([\"plotly\"], function(Plotly) {                    window.PLOTLYENV=window.PLOTLYENV || {};                                    if (document.getElementById(\"8ea50c82-f6d5-406f-bf58-40526fb2ade0\")) {                    Plotly.newPlot(                        \"8ea50c82-f6d5-406f-bf58-40526fb2ade0\",                        [{\"domain\":{\"x\":[0.0,1.0],\"y\":[0.0,1.0]},\"hovertemplate\":\"Category=%{label}<br>Count=%{value}<extra></extra>\",\"labels\":[\"Java Developer\",\"Testing\",\"DevOps Engineer\",\"Python Developer\",\"Web Designing\",\"HR\",\"Hadoop\",\"Blockchain\",\"ETL Developer\",\"Operations Manager\",\"Data Science\",\"Sales\",\"Mechanical Engineer\",\"Arts\",\"Database\",\"Electrical Engineering\",\"Health and fitness\",\"PMO\",\"Business Analyst\",\"DotNet Developer\",\"Automation Testing\",\"Network Security Engineer\",\"SAP Developer\",\"Civil Engineer\",\"Advocate\"],\"legendgroup\":\"\",\"name\":\"\",\"showlegend\":true,\"values\":[84,70,55,48,45,44,42,40,40,40,40,40,40,36,33,30,30,30,28,28,26,25,24,24,20],\"type\":\"pie\",\"textinfo\":\"percent+label\",\"textposition\":\"inside\"}],                        {\"template\":{\"data\":{\"bar\":[{\"error_x\":{\"color\":\"#2a3f5f\"},\"error_y\":{\"color\":\"#2a3f5f\"},\"marker\":{\"line\":{\"color\":\"#E5ECF6\",\"width\":0.5},\"pattern\":{\"fillmode\":\"overlay\",\"size\":10,\"solidity\":0.2}},\"type\":\"bar\"}],\"barpolar\":[{\"marker\":{\"line\":{\"color\":\"#E5ECF6\",\"width\":0.5},\"pattern\":{\"fillmode\":\"overlay\",\"size\":10,\"solidity\":0.2}},\"type\":\"barpolar\"}],\"carpet\":[{\"aaxis\":{\"endlinecolor\":\"#2a3f5f\",\"gridcolor\":\"white\",\"linecolor\":\"white\",\"minorgridcolor\":\"white\",\"startlinecolor\":\"#2a3f5f\"},\"baxis\":{\"endlinecolor\":\"#2a3f5f\",\"gridcolor\":\"white\",\"linecolor\":\"white\",\"minorgridcolor\":\"white\",\"startlinecolor\":\"#2a3f5f\"},\"type\":\"carpet\"}],\"choropleth\":[{\"colorbar\":{\"outlinewidth\":0,\"ticks\":\"\"},\"type\":\"choropleth\"}],\"contour\":[{\"colorbar\":{\"outlinewidth\":0,\"ticks\":\"\"},\"colorscale\":[[0.0,\"#0d0887\"],[0.1111111111111111,\"#46039f\"],[0.2222222222222222,\"#7201a8\"],[0.3333333333333333,\"#9c179e\"],[0.4444444444444444,\"#bd3786\"],[0.5555555555555556,\"#d8576b\"],[0.6666666666666666,\"#ed7953\"],[0.7777777777777778,\"#fb9f3a\"],[0.8888888888888888,\"#fdca26\"],[1.0,\"#f0f921\"]],\"type\":\"contour\"}],\"contourcarpet\":[{\"colorbar\":{\"outlinewidth\":0,\"ticks\":\"\"},\"type\":\"contourcarpet\"}],\"heatmap\":[{\"colorbar\":{\"outlinewidth\":0,\"ticks\":\"\"},\"colorscale\":[[0.0,\"#0d0887\"],[0.1111111111111111,\"#46039f\"],[0.2222222222222222,\"#7201a8\"],[0.3333333333333333,\"#9c179e\"],[0.4444444444444444,\"#bd3786\"],[0.5555555555555556,\"#d8576b\"],[0.6666666666666666,\"#ed7953\"],[0.7777777777777778,\"#fb9f3a\"],[0.8888888888888888,\"#fdca26\"],[1.0,\"#f0f921\"]],\"type\":\"heatmap\"}],\"heatmapgl\":[{\"colorbar\":{\"outlinewidth\":0,\"ticks\":\"\"},\"colorscale\":[[0.0,\"#0d0887\"],[0.1111111111111111,\"#46039f\"],[0.2222222222222222,\"#7201a8\"],[0.3333333333333333,\"#9c179e\"],[0.4444444444444444,\"#bd3786\"],[0.5555555555555556,\"#d8576b\"],[0.6666666666666666,\"#ed7953\"],[0.7777777777777778,\"#fb9f3a\"],[0.8888888888888888,\"#fdca26\"],[1.0,\"#f0f921\"]],\"type\":\"heatmapgl\"}],\"histogram\":[{\"marker\":{\"pattern\":{\"fillmode\":\"overlay\",\"size\":10,\"solidity\":0.2}},\"type\":\"histogram\"}],\"histogram2d\":[{\"colorbar\":{\"outlinewidth\":0,\"ticks\":\"\"},\"colorscale\":[[0.0,\"#0d0887\"],[0.1111111111111111,\"#46039f\"],[0.2222222222222222,\"#7201a8\"],[0.3333333333333333,\"#9c179e\"],[0.4444444444444444,\"#bd3786\"],[0.5555555555555556,\"#d8576b\"],[0.6666666666666666,\"#ed7953\"],[0.7777777777777778,\"#fb9f3a\"],[0.8888888888888888,\"#fdca26\"],[1.0,\"#f0f921\"]],\"type\":\"histogram2d\"}],\"histogram2dcontour\":[{\"colorbar\":{\"outlinewidth\":0,\"ticks\":\"\"},\"colorscale\":[[0.0,\"#0d0887\"],[0.1111111111111111,\"#46039f\"],[0.2222222222222222,\"#7201a8\"],[0.3333333333333333,\"#9c179e\"],[0.4444444444444444,\"#bd3786\"],[0.5555555555555556,\"#d8576b\"],[0.6666666666666666,\"#ed7953\"],[0.7777777777777778,\"#fb9f3a\"],[0.8888888888888888,\"#fdca26\"],[1.0,\"#f0f921\"]],\"type\":\"histogram2dcontour\"}],\"mesh3d\":[{\"colorbar\":{\"outlinewidth\":0,\"ticks\":\"\"},\"type\":\"mesh3d\"}],\"parcoords\":[{\"line\":{\"colorbar\":{\"outlinewidth\":0,\"ticks\":\"\"}},\"type\":\"parcoords\"}],\"pie\":[{\"automargin\":true,\"type\":\"pie\"}],\"scatter\":[{\"marker\":{\"colorbar\":{\"outlinewidth\":0,\"ticks\":\"\"}},\"type\":\"scatter\"}],\"scatter3d\":[{\"line\":{\"colorbar\":{\"outlinewidth\":0,\"ticks\":\"\"}},\"marker\":{\"colorbar\":{\"outlinewidth\":0,\"ticks\":\"\"}},\"type\":\"scatter3d\"}],\"scattercarpet\":[{\"marker\":{\"colorbar\":{\"outlinewidth\":0,\"ticks\":\"\"}},\"type\":\"scattercarpet\"}],\"scattergeo\":[{\"marker\":{\"colorbar\":{\"outlinewidth\":0,\"ticks\":\"\"}},\"type\":\"scattergeo\"}],\"scattergl\":[{\"marker\":{\"colorbar\":{\"outlinewidth\":0,\"ticks\":\"\"}},\"type\":\"scattergl\"}],\"scattermapbox\":[{\"marker\":{\"colorbar\":{\"outlinewidth\":0,\"ticks\":\"\"}},\"type\":\"scattermapbox\"}],\"scatterpolar\":[{\"marker\":{\"colorbar\":{\"outlinewidth\":0,\"ticks\":\"\"}},\"type\":\"scatterpolar\"}],\"scatterpolargl\":[{\"marker\":{\"colorbar\":{\"outlinewidth\":0,\"ticks\":\"\"}},\"type\":\"scatterpolargl\"}],\"scatterternary\":[{\"marker\":{\"colorbar\":{\"outlinewidth\":0,\"ticks\":\"\"}},\"type\":\"scatterternary\"}],\"surface\":[{\"colorbar\":{\"outlinewidth\":0,\"ticks\":\"\"},\"colorscale\":[[0.0,\"#0d0887\"],[0.1111111111111111,\"#46039f\"],[0.2222222222222222,\"#7201a8\"],[0.3333333333333333,\"#9c179e\"],[0.4444444444444444,\"#bd3786\"],[0.5555555555555556,\"#d8576b\"],[0.6666666666666666,\"#ed7953\"],[0.7777777777777778,\"#fb9f3a\"],[0.8888888888888888,\"#fdca26\"],[1.0,\"#f0f921\"]],\"type\":\"surface\"}],\"table\":[{\"cells\":{\"fill\":{\"color\":\"#EBF0F8\"},\"line\":{\"color\":\"white\"}},\"header\":{\"fill\":{\"color\":\"#C8D4E3\"},\"line\":{\"color\":\"white\"}},\"type\":\"table\"}]},\"layout\":{\"annotationdefaults\":{\"arrowcolor\":\"#2a3f5f\",\"arrowhead\":0,\"arrowwidth\":1},\"autotypenumbers\":\"strict\",\"coloraxis\":{\"colorbar\":{\"outlinewidth\":0,\"ticks\":\"\"}},\"colorscale\":{\"diverging\":[[0,\"#8e0152\"],[0.1,\"#c51b7d\"],[0.2,\"#de77ae\"],[0.3,\"#f1b6da\"],[0.4,\"#fde0ef\"],[0.5,\"#f7f7f7\"],[0.6,\"#e6f5d0\"],[0.7,\"#b8e186\"],[0.8,\"#7fbc41\"],[0.9,\"#4d9221\"],[1,\"#276419\"]],\"sequential\":[[0.0,\"#0d0887\"],[0.1111111111111111,\"#46039f\"],[0.2222222222222222,\"#7201a8\"],[0.3333333333333333,\"#9c179e\"],[0.4444444444444444,\"#bd3786\"],[0.5555555555555556,\"#d8576b\"],[0.6666666666666666,\"#ed7953\"],[0.7777777777777778,\"#fb9f3a\"],[0.8888888888888888,\"#fdca26\"],[1.0,\"#f0f921\"]],\"sequentialminus\":[[0.0,\"#0d0887\"],[0.1111111111111111,\"#46039f\"],[0.2222222222222222,\"#7201a8\"],[0.3333333333333333,\"#9c179e\"],[0.4444444444444444,\"#bd3786\"],[0.5555555555555556,\"#d8576b\"],[0.6666666666666666,\"#ed7953\"],[0.7777777777777778,\"#fb9f3a\"],[0.8888888888888888,\"#fdca26\"],[1.0,\"#f0f921\"]]},\"colorway\":[\"#636efa\",\"#EF553B\",\"#00cc96\",\"#ab63fa\",\"#FFA15A\",\"#19d3f3\",\"#FF6692\",\"#B6E880\",\"#FF97FF\",\"#FECB52\"],\"font\":{\"color\":\"#2a3f5f\"},\"geo\":{\"bgcolor\":\"white\",\"lakecolor\":\"white\",\"landcolor\":\"#E5ECF6\",\"showlakes\":true,\"showland\":true,\"subunitcolor\":\"white\"},\"hoverlabel\":{\"align\":\"left\"},\"hovermode\":\"closest\",\"mapbox\":{\"style\":\"light\"},\"paper_bgcolor\":\"white\",\"plot_bgcolor\":\"#E5ECF6\",\"polar\":{\"angularaxis\":{\"gridcolor\":\"white\",\"linecolor\":\"white\",\"ticks\":\"\"},\"bgcolor\":\"#E5ECF6\",\"radialaxis\":{\"gridcolor\":\"white\",\"linecolor\":\"white\",\"ticks\":\"\"}},\"scene\":{\"xaxis\":{\"backgroundcolor\":\"#E5ECF6\",\"gridcolor\":\"white\",\"gridwidth\":2,\"linecolor\":\"white\",\"showbackground\":true,\"ticks\":\"\",\"zerolinecolor\":\"white\"},\"yaxis\":{\"backgroundcolor\":\"#E5ECF6\",\"gridcolor\":\"white\",\"gridwidth\":2,\"linecolor\":\"white\",\"showbackground\":true,\"ticks\":\"\",\"zerolinecolor\":\"white\"},\"zaxis\":{\"backgroundcolor\":\"#E5ECF6\",\"gridcolor\":\"white\",\"gridwidth\":2,\"linecolor\":\"white\",\"showbackground\":true,\"ticks\":\"\",\"zerolinecolor\":\"white\"}},\"shapedefaults\":{\"line\":{\"color\":\"#2a3f5f\"}},\"ternary\":{\"aaxis\":{\"gridcolor\":\"white\",\"linecolor\":\"white\",\"ticks\":\"\"},\"baxis\":{\"gridcolor\":\"white\",\"linecolor\":\"white\",\"ticks\":\"\"},\"bgcolor\":\"#E5ECF6\",\"caxis\":{\"gridcolor\":\"white\",\"linecolor\":\"white\",\"ticks\":\"\"}},\"title\":{\"x\":0.05},\"xaxis\":{\"automargin\":true,\"gridcolor\":\"white\",\"linecolor\":\"white\",\"ticks\":\"\",\"title\":{\"standoff\":15},\"zerolinecolor\":\"white\",\"zerolinewidth\":2},\"yaxis\":{\"automargin\":true,\"gridcolor\":\"white\",\"linecolor\":\"white\",\"ticks\":\"\",\"title\":{\"standoff\":15},\"zerolinecolor\":\"white\",\"zerolinewidth\":2}}},\"legend\":{\"tracegroupgap\":0},\"title\":{\"text\":\"Category Count\"}},                        {\"responsive\": true}                    ).then(function(){\n",
       "                            \n",
       "var gd = document.getElementById('8ea50c82-f6d5-406f-bf58-40526fb2ade0');\n",
       "var x = new MutationObserver(function (mutations, observer) {{\n",
       "        var display = window.getComputedStyle(gd).display;\n",
       "        if (!display || display === 'none') {{\n",
       "            console.log([gd, 'removed!']);\n",
       "            Plotly.purge(gd);\n",
       "            observer.disconnect();\n",
       "        }}\n",
       "}});\n",
       "\n",
       "// Listen for the removal of the full notebook cells\n",
       "var notebookContainer = gd.closest('#notebook-container');\n",
       "if (notebookContainer) {{\n",
       "    x.observe(notebookContainer, {childList: true});\n",
       "}}\n",
       "\n",
       "// Listen for the clearing of the current output cell\n",
       "var outputEl = gd.closest('.output');\n",
       "if (outputEl) {{\n",
       "    x.observe(outputEl, {childList: true});\n",
       "}}\n",
       "\n",
       "                        })                };                });            </script>        </div>"
      ]
     },
     "metadata": {},
     "output_type": "display_data"
    }
   ],
   "source": [
    "fig = px.pie(df2, values='Count', names='Category', title='Category Count')\n",
    "fig.update_traces(textposition='inside', textinfo='percent+label')\n",
    "fig.show()"
   ]
  },
  {
   "cell_type": "code",
   "execution_count": 38,
   "id": "47e48a0a",
   "metadata": {},
   "outputs": [
    {
     "data": {
      "application/vnd.plotly.v1+json": {
       "config": {
        "plotlyServerURL": "https://plot.ly"
       },
       "data": [
        {
         "hole": 0.4,
         "labels": [
          "Java Developer",
          "Testing",
          "DevOps Engineer",
          "Python Developer",
          "Web Designing",
          "HR",
          "Hadoop",
          "Blockchain",
          "ETL Developer",
          "Operations Manager",
          "Data Science",
          "Sales",
          "Mechanical Engineer",
          "Arts",
          "Database",
          "Electrical Engineering",
          "Health and fitness",
          "PMO",
          "Business Analyst",
          "DotNet Developer",
          "Automation Testing",
          "Network Security Engineer",
          "SAP Developer",
          "Civil Engineer",
          "Advocate"
         ],
         "textinfo": "percent+label",
         "textposition": "inside",
         "type": "pie",
         "values": [
          84,
          70,
          55,
          48,
          45,
          44,
          42,
          40,
          40,
          40,
          40,
          40,
          40,
          36,
          33,
          30,
          30,
          30,
          28,
          28,
          26,
          25,
          24,
          24,
          20
         ]
        }
       ],
       "layout": {
        "template": {
         "data": {
          "bar": [
           {
            "error_x": {
             "color": "#2a3f5f"
            },
            "error_y": {
             "color": "#2a3f5f"
            },
            "marker": {
             "line": {
              "color": "#E5ECF6",
              "width": 0.5
             },
             "pattern": {
              "fillmode": "overlay",
              "size": 10,
              "solidity": 0.2
             }
            },
            "type": "bar"
           }
          ],
          "barpolar": [
           {
            "marker": {
             "line": {
              "color": "#E5ECF6",
              "width": 0.5
             },
             "pattern": {
              "fillmode": "overlay",
              "size": 10,
              "solidity": 0.2
             }
            },
            "type": "barpolar"
           }
          ],
          "carpet": [
           {
            "aaxis": {
             "endlinecolor": "#2a3f5f",
             "gridcolor": "white",
             "linecolor": "white",
             "minorgridcolor": "white",
             "startlinecolor": "#2a3f5f"
            },
            "baxis": {
             "endlinecolor": "#2a3f5f",
             "gridcolor": "white",
             "linecolor": "white",
             "minorgridcolor": "white",
             "startlinecolor": "#2a3f5f"
            },
            "type": "carpet"
           }
          ],
          "choropleth": [
           {
            "colorbar": {
             "outlinewidth": 0,
             "ticks": ""
            },
            "type": "choropleth"
           }
          ],
          "contour": [
           {
            "colorbar": {
             "outlinewidth": 0,
             "ticks": ""
            },
            "colorscale": [
             [
              0,
              "#0d0887"
             ],
             [
              0.1111111111111111,
              "#46039f"
             ],
             [
              0.2222222222222222,
              "#7201a8"
             ],
             [
              0.3333333333333333,
              "#9c179e"
             ],
             [
              0.4444444444444444,
              "#bd3786"
             ],
             [
              0.5555555555555556,
              "#d8576b"
             ],
             [
              0.6666666666666666,
              "#ed7953"
             ],
             [
              0.7777777777777778,
              "#fb9f3a"
             ],
             [
              0.8888888888888888,
              "#fdca26"
             ],
             [
              1,
              "#f0f921"
             ]
            ],
            "type": "contour"
           }
          ],
          "contourcarpet": [
           {
            "colorbar": {
             "outlinewidth": 0,
             "ticks": ""
            },
            "type": "contourcarpet"
           }
          ],
          "heatmap": [
           {
            "colorbar": {
             "outlinewidth": 0,
             "ticks": ""
            },
            "colorscale": [
             [
              0,
              "#0d0887"
             ],
             [
              0.1111111111111111,
              "#46039f"
             ],
             [
              0.2222222222222222,
              "#7201a8"
             ],
             [
              0.3333333333333333,
              "#9c179e"
             ],
             [
              0.4444444444444444,
              "#bd3786"
             ],
             [
              0.5555555555555556,
              "#d8576b"
             ],
             [
              0.6666666666666666,
              "#ed7953"
             ],
             [
              0.7777777777777778,
              "#fb9f3a"
             ],
             [
              0.8888888888888888,
              "#fdca26"
             ],
             [
              1,
              "#f0f921"
             ]
            ],
            "type": "heatmap"
           }
          ],
          "heatmapgl": [
           {
            "colorbar": {
             "outlinewidth": 0,
             "ticks": ""
            },
            "colorscale": [
             [
              0,
              "#0d0887"
             ],
             [
              0.1111111111111111,
              "#46039f"
             ],
             [
              0.2222222222222222,
              "#7201a8"
             ],
             [
              0.3333333333333333,
              "#9c179e"
             ],
             [
              0.4444444444444444,
              "#bd3786"
             ],
             [
              0.5555555555555556,
              "#d8576b"
             ],
             [
              0.6666666666666666,
              "#ed7953"
             ],
             [
              0.7777777777777778,
              "#fb9f3a"
             ],
             [
              0.8888888888888888,
              "#fdca26"
             ],
             [
              1,
              "#f0f921"
             ]
            ],
            "type": "heatmapgl"
           }
          ],
          "histogram": [
           {
            "marker": {
             "pattern": {
              "fillmode": "overlay",
              "size": 10,
              "solidity": 0.2
             }
            },
            "type": "histogram"
           }
          ],
          "histogram2d": [
           {
            "colorbar": {
             "outlinewidth": 0,
             "ticks": ""
            },
            "colorscale": [
             [
              0,
              "#0d0887"
             ],
             [
              0.1111111111111111,
              "#46039f"
             ],
             [
              0.2222222222222222,
              "#7201a8"
             ],
             [
              0.3333333333333333,
              "#9c179e"
             ],
             [
              0.4444444444444444,
              "#bd3786"
             ],
             [
              0.5555555555555556,
              "#d8576b"
             ],
             [
              0.6666666666666666,
              "#ed7953"
             ],
             [
              0.7777777777777778,
              "#fb9f3a"
             ],
             [
              0.8888888888888888,
              "#fdca26"
             ],
             [
              1,
              "#f0f921"
             ]
            ],
            "type": "histogram2d"
           }
          ],
          "histogram2dcontour": [
           {
            "colorbar": {
             "outlinewidth": 0,
             "ticks": ""
            },
            "colorscale": [
             [
              0,
              "#0d0887"
             ],
             [
              0.1111111111111111,
              "#46039f"
             ],
             [
              0.2222222222222222,
              "#7201a8"
             ],
             [
              0.3333333333333333,
              "#9c179e"
             ],
             [
              0.4444444444444444,
              "#bd3786"
             ],
             [
              0.5555555555555556,
              "#d8576b"
             ],
             [
              0.6666666666666666,
              "#ed7953"
             ],
             [
              0.7777777777777778,
              "#fb9f3a"
             ],
             [
              0.8888888888888888,
              "#fdca26"
             ],
             [
              1,
              "#f0f921"
             ]
            ],
            "type": "histogram2dcontour"
           }
          ],
          "mesh3d": [
           {
            "colorbar": {
             "outlinewidth": 0,
             "ticks": ""
            },
            "type": "mesh3d"
           }
          ],
          "parcoords": [
           {
            "line": {
             "colorbar": {
              "outlinewidth": 0,
              "ticks": ""
             }
            },
            "type": "parcoords"
           }
          ],
          "pie": [
           {
            "automargin": true,
            "type": "pie"
           }
          ],
          "scatter": [
           {
            "marker": {
             "colorbar": {
              "outlinewidth": 0,
              "ticks": ""
             }
            },
            "type": "scatter"
           }
          ],
          "scatter3d": [
           {
            "line": {
             "colorbar": {
              "outlinewidth": 0,
              "ticks": ""
             }
            },
            "marker": {
             "colorbar": {
              "outlinewidth": 0,
              "ticks": ""
             }
            },
            "type": "scatter3d"
           }
          ],
          "scattercarpet": [
           {
            "marker": {
             "colorbar": {
              "outlinewidth": 0,
              "ticks": ""
             }
            },
            "type": "scattercarpet"
           }
          ],
          "scattergeo": [
           {
            "marker": {
             "colorbar": {
              "outlinewidth": 0,
              "ticks": ""
             }
            },
            "type": "scattergeo"
           }
          ],
          "scattergl": [
           {
            "marker": {
             "colorbar": {
              "outlinewidth": 0,
              "ticks": ""
             }
            },
            "type": "scattergl"
           }
          ],
          "scattermapbox": [
           {
            "marker": {
             "colorbar": {
              "outlinewidth": 0,
              "ticks": ""
             }
            },
            "type": "scattermapbox"
           }
          ],
          "scatterpolar": [
           {
            "marker": {
             "colorbar": {
              "outlinewidth": 0,
              "ticks": ""
             }
            },
            "type": "scatterpolar"
           }
          ],
          "scatterpolargl": [
           {
            "marker": {
             "colorbar": {
              "outlinewidth": 0,
              "ticks": ""
             }
            },
            "type": "scatterpolargl"
           }
          ],
          "scatterternary": [
           {
            "marker": {
             "colorbar": {
              "outlinewidth": 0,
              "ticks": ""
             }
            },
            "type": "scatterternary"
           }
          ],
          "surface": [
           {
            "colorbar": {
             "outlinewidth": 0,
             "ticks": ""
            },
            "colorscale": [
             [
              0,
              "#0d0887"
             ],
             [
              0.1111111111111111,
              "#46039f"
             ],
             [
              0.2222222222222222,
              "#7201a8"
             ],
             [
              0.3333333333333333,
              "#9c179e"
             ],
             [
              0.4444444444444444,
              "#bd3786"
             ],
             [
              0.5555555555555556,
              "#d8576b"
             ],
             [
              0.6666666666666666,
              "#ed7953"
             ],
             [
              0.7777777777777778,
              "#fb9f3a"
             ],
             [
              0.8888888888888888,
              "#fdca26"
             ],
             [
              1,
              "#f0f921"
             ]
            ],
            "type": "surface"
           }
          ],
          "table": [
           {
            "cells": {
             "fill": {
              "color": "#EBF0F8"
             },
             "line": {
              "color": "white"
             }
            },
            "header": {
             "fill": {
              "color": "#C8D4E3"
             },
             "line": {
              "color": "white"
             }
            },
            "type": "table"
           }
          ]
         },
         "layout": {
          "annotationdefaults": {
           "arrowcolor": "#2a3f5f",
           "arrowhead": 0,
           "arrowwidth": 1
          },
          "autotypenumbers": "strict",
          "coloraxis": {
           "colorbar": {
            "outlinewidth": 0,
            "ticks": ""
           }
          },
          "colorscale": {
           "diverging": [
            [
             0,
             "#8e0152"
            ],
            [
             0.1,
             "#c51b7d"
            ],
            [
             0.2,
             "#de77ae"
            ],
            [
             0.3,
             "#f1b6da"
            ],
            [
             0.4,
             "#fde0ef"
            ],
            [
             0.5,
             "#f7f7f7"
            ],
            [
             0.6,
             "#e6f5d0"
            ],
            [
             0.7,
             "#b8e186"
            ],
            [
             0.8,
             "#7fbc41"
            ],
            [
             0.9,
             "#4d9221"
            ],
            [
             1,
             "#276419"
            ]
           ],
           "sequential": [
            [
             0,
             "#0d0887"
            ],
            [
             0.1111111111111111,
             "#46039f"
            ],
            [
             0.2222222222222222,
             "#7201a8"
            ],
            [
             0.3333333333333333,
             "#9c179e"
            ],
            [
             0.4444444444444444,
             "#bd3786"
            ],
            [
             0.5555555555555556,
             "#d8576b"
            ],
            [
             0.6666666666666666,
             "#ed7953"
            ],
            [
             0.7777777777777778,
             "#fb9f3a"
            ],
            [
             0.8888888888888888,
             "#fdca26"
            ],
            [
             1,
             "#f0f921"
            ]
           ],
           "sequentialminus": [
            [
             0,
             "#0d0887"
            ],
            [
             0.1111111111111111,
             "#46039f"
            ],
            [
             0.2222222222222222,
             "#7201a8"
            ],
            [
             0.3333333333333333,
             "#9c179e"
            ],
            [
             0.4444444444444444,
             "#bd3786"
            ],
            [
             0.5555555555555556,
             "#d8576b"
            ],
            [
             0.6666666666666666,
             "#ed7953"
            ],
            [
             0.7777777777777778,
             "#fb9f3a"
            ],
            [
             0.8888888888888888,
             "#fdca26"
            ],
            [
             1,
             "#f0f921"
            ]
           ]
          },
          "colorway": [
           "#636efa",
           "#EF553B",
           "#00cc96",
           "#ab63fa",
           "#FFA15A",
           "#19d3f3",
           "#FF6692",
           "#B6E880",
           "#FF97FF",
           "#FECB52"
          ],
          "font": {
           "color": "#2a3f5f"
          },
          "geo": {
           "bgcolor": "white",
           "lakecolor": "white",
           "landcolor": "#E5ECF6",
           "showlakes": true,
           "showland": true,
           "subunitcolor": "white"
          },
          "hoverlabel": {
           "align": "left"
          },
          "hovermode": "closest",
          "mapbox": {
           "style": "light"
          },
          "paper_bgcolor": "white",
          "plot_bgcolor": "#E5ECF6",
          "polar": {
           "angularaxis": {
            "gridcolor": "white",
            "linecolor": "white",
            "ticks": ""
           },
           "bgcolor": "#E5ECF6",
           "radialaxis": {
            "gridcolor": "white",
            "linecolor": "white",
            "ticks": ""
           }
          },
          "scene": {
           "xaxis": {
            "backgroundcolor": "#E5ECF6",
            "gridcolor": "white",
            "gridwidth": 2,
            "linecolor": "white",
            "showbackground": true,
            "ticks": "",
            "zerolinecolor": "white"
           },
           "yaxis": {
            "backgroundcolor": "#E5ECF6",
            "gridcolor": "white",
            "gridwidth": 2,
            "linecolor": "white",
            "showbackground": true,
            "ticks": "",
            "zerolinecolor": "white"
           },
           "zaxis": {
            "backgroundcolor": "#E5ECF6",
            "gridcolor": "white",
            "gridwidth": 2,
            "linecolor": "white",
            "showbackground": true,
            "ticks": "",
            "zerolinecolor": "white"
           }
          },
          "shapedefaults": {
           "line": {
            "color": "#2a3f5f"
           }
          },
          "ternary": {
           "aaxis": {
            "gridcolor": "white",
            "linecolor": "white",
            "ticks": ""
           },
           "baxis": {
            "gridcolor": "white",
            "linecolor": "white",
            "ticks": ""
           },
           "bgcolor": "#E5ECF6",
           "caxis": {
            "gridcolor": "white",
            "linecolor": "white",
            "ticks": ""
           }
          },
          "title": {
           "x": 0.05
          },
          "xaxis": {
           "automargin": true,
           "gridcolor": "white",
           "linecolor": "white",
           "ticks": "",
           "title": {
            "standoff": 15
           },
           "zerolinecolor": "white",
           "zerolinewidth": 2
          },
          "yaxis": {
           "automargin": true,
           "gridcolor": "white",
           "linecolor": "white",
           "ticks": "",
           "title": {
            "standoff": 15
           },
           "zerolinecolor": "white",
           "zerolinewidth": 2
          }
         }
        }
       }
      },
      "text/html": [
       "<div>                            <div id=\"160ad243-03f3-415d-ace6-fdc4044ba2a6\" class=\"plotly-graph-div\" style=\"height:525px; width:100%;\"></div>            <script type=\"text/javascript\">                require([\"plotly\"], function(Plotly) {                    window.PLOTLYENV=window.PLOTLYENV || {};                                    if (document.getElementById(\"160ad243-03f3-415d-ace6-fdc4044ba2a6\")) {                    Plotly.newPlot(                        \"160ad243-03f3-415d-ace6-fdc4044ba2a6\",                        [{\"hole\":0.4,\"labels\":[\"Java Developer\",\"Testing\",\"DevOps Engineer\",\"Python Developer\",\"Web Designing\",\"HR\",\"Hadoop\",\"Blockchain\",\"ETL Developer\",\"Operations Manager\",\"Data Science\",\"Sales\",\"Mechanical Engineer\",\"Arts\",\"Database\",\"Electrical Engineering\",\"Health and fitness\",\"PMO\",\"Business Analyst\",\"DotNet Developer\",\"Automation Testing\",\"Network Security Engineer\",\"SAP Developer\",\"Civil Engineer\",\"Advocate\"],\"values\":[84,70,55,48,45,44,42,40,40,40,40,40,40,36,33,30,30,30,28,28,26,25,24,24,20],\"type\":\"pie\",\"textinfo\":\"percent+label\",\"textposition\":\"inside\"}],                        {\"template\":{\"data\":{\"bar\":[{\"error_x\":{\"color\":\"#2a3f5f\"},\"error_y\":{\"color\":\"#2a3f5f\"},\"marker\":{\"line\":{\"color\":\"#E5ECF6\",\"width\":0.5},\"pattern\":{\"fillmode\":\"overlay\",\"size\":10,\"solidity\":0.2}},\"type\":\"bar\"}],\"barpolar\":[{\"marker\":{\"line\":{\"color\":\"#E5ECF6\",\"width\":0.5},\"pattern\":{\"fillmode\":\"overlay\",\"size\":10,\"solidity\":0.2}},\"type\":\"barpolar\"}],\"carpet\":[{\"aaxis\":{\"endlinecolor\":\"#2a3f5f\",\"gridcolor\":\"white\",\"linecolor\":\"white\",\"minorgridcolor\":\"white\",\"startlinecolor\":\"#2a3f5f\"},\"baxis\":{\"endlinecolor\":\"#2a3f5f\",\"gridcolor\":\"white\",\"linecolor\":\"white\",\"minorgridcolor\":\"white\",\"startlinecolor\":\"#2a3f5f\"},\"type\":\"carpet\"}],\"choropleth\":[{\"colorbar\":{\"outlinewidth\":0,\"ticks\":\"\"},\"type\":\"choropleth\"}],\"contour\":[{\"colorbar\":{\"outlinewidth\":0,\"ticks\":\"\"},\"colorscale\":[[0.0,\"#0d0887\"],[0.1111111111111111,\"#46039f\"],[0.2222222222222222,\"#7201a8\"],[0.3333333333333333,\"#9c179e\"],[0.4444444444444444,\"#bd3786\"],[0.5555555555555556,\"#d8576b\"],[0.6666666666666666,\"#ed7953\"],[0.7777777777777778,\"#fb9f3a\"],[0.8888888888888888,\"#fdca26\"],[1.0,\"#f0f921\"]],\"type\":\"contour\"}],\"contourcarpet\":[{\"colorbar\":{\"outlinewidth\":0,\"ticks\":\"\"},\"type\":\"contourcarpet\"}],\"heatmap\":[{\"colorbar\":{\"outlinewidth\":0,\"ticks\":\"\"},\"colorscale\":[[0.0,\"#0d0887\"],[0.1111111111111111,\"#46039f\"],[0.2222222222222222,\"#7201a8\"],[0.3333333333333333,\"#9c179e\"],[0.4444444444444444,\"#bd3786\"],[0.5555555555555556,\"#d8576b\"],[0.6666666666666666,\"#ed7953\"],[0.7777777777777778,\"#fb9f3a\"],[0.8888888888888888,\"#fdca26\"],[1.0,\"#f0f921\"]],\"type\":\"heatmap\"}],\"heatmapgl\":[{\"colorbar\":{\"outlinewidth\":0,\"ticks\":\"\"},\"colorscale\":[[0.0,\"#0d0887\"],[0.1111111111111111,\"#46039f\"],[0.2222222222222222,\"#7201a8\"],[0.3333333333333333,\"#9c179e\"],[0.4444444444444444,\"#bd3786\"],[0.5555555555555556,\"#d8576b\"],[0.6666666666666666,\"#ed7953\"],[0.7777777777777778,\"#fb9f3a\"],[0.8888888888888888,\"#fdca26\"],[1.0,\"#f0f921\"]],\"type\":\"heatmapgl\"}],\"histogram\":[{\"marker\":{\"pattern\":{\"fillmode\":\"overlay\",\"size\":10,\"solidity\":0.2}},\"type\":\"histogram\"}],\"histogram2d\":[{\"colorbar\":{\"outlinewidth\":0,\"ticks\":\"\"},\"colorscale\":[[0.0,\"#0d0887\"],[0.1111111111111111,\"#46039f\"],[0.2222222222222222,\"#7201a8\"],[0.3333333333333333,\"#9c179e\"],[0.4444444444444444,\"#bd3786\"],[0.5555555555555556,\"#d8576b\"],[0.6666666666666666,\"#ed7953\"],[0.7777777777777778,\"#fb9f3a\"],[0.8888888888888888,\"#fdca26\"],[1.0,\"#f0f921\"]],\"type\":\"histogram2d\"}],\"histogram2dcontour\":[{\"colorbar\":{\"outlinewidth\":0,\"ticks\":\"\"},\"colorscale\":[[0.0,\"#0d0887\"],[0.1111111111111111,\"#46039f\"],[0.2222222222222222,\"#7201a8\"],[0.3333333333333333,\"#9c179e\"],[0.4444444444444444,\"#bd3786\"],[0.5555555555555556,\"#d8576b\"],[0.6666666666666666,\"#ed7953\"],[0.7777777777777778,\"#fb9f3a\"],[0.8888888888888888,\"#fdca26\"],[1.0,\"#f0f921\"]],\"type\":\"histogram2dcontour\"}],\"mesh3d\":[{\"colorbar\":{\"outlinewidth\":0,\"ticks\":\"\"},\"type\":\"mesh3d\"}],\"parcoords\":[{\"line\":{\"colorbar\":{\"outlinewidth\":0,\"ticks\":\"\"}},\"type\":\"parcoords\"}],\"pie\":[{\"automargin\":true,\"type\":\"pie\"}],\"scatter\":[{\"marker\":{\"colorbar\":{\"outlinewidth\":0,\"ticks\":\"\"}},\"type\":\"scatter\"}],\"scatter3d\":[{\"line\":{\"colorbar\":{\"outlinewidth\":0,\"ticks\":\"\"}},\"marker\":{\"colorbar\":{\"outlinewidth\":0,\"ticks\":\"\"}},\"type\":\"scatter3d\"}],\"scattercarpet\":[{\"marker\":{\"colorbar\":{\"outlinewidth\":0,\"ticks\":\"\"}},\"type\":\"scattercarpet\"}],\"scattergeo\":[{\"marker\":{\"colorbar\":{\"outlinewidth\":0,\"ticks\":\"\"}},\"type\":\"scattergeo\"}],\"scattergl\":[{\"marker\":{\"colorbar\":{\"outlinewidth\":0,\"ticks\":\"\"}},\"type\":\"scattergl\"}],\"scattermapbox\":[{\"marker\":{\"colorbar\":{\"outlinewidth\":0,\"ticks\":\"\"}},\"type\":\"scattermapbox\"}],\"scatterpolar\":[{\"marker\":{\"colorbar\":{\"outlinewidth\":0,\"ticks\":\"\"}},\"type\":\"scatterpolar\"}],\"scatterpolargl\":[{\"marker\":{\"colorbar\":{\"outlinewidth\":0,\"ticks\":\"\"}},\"type\":\"scatterpolargl\"}],\"scatterternary\":[{\"marker\":{\"colorbar\":{\"outlinewidth\":0,\"ticks\":\"\"}},\"type\":\"scatterternary\"}],\"surface\":[{\"colorbar\":{\"outlinewidth\":0,\"ticks\":\"\"},\"colorscale\":[[0.0,\"#0d0887\"],[0.1111111111111111,\"#46039f\"],[0.2222222222222222,\"#7201a8\"],[0.3333333333333333,\"#9c179e\"],[0.4444444444444444,\"#bd3786\"],[0.5555555555555556,\"#d8576b\"],[0.6666666666666666,\"#ed7953\"],[0.7777777777777778,\"#fb9f3a\"],[0.8888888888888888,\"#fdca26\"],[1.0,\"#f0f921\"]],\"type\":\"surface\"}],\"table\":[{\"cells\":{\"fill\":{\"color\":\"#EBF0F8\"},\"line\":{\"color\":\"white\"}},\"header\":{\"fill\":{\"color\":\"#C8D4E3\"},\"line\":{\"color\":\"white\"}},\"type\":\"table\"}]},\"layout\":{\"annotationdefaults\":{\"arrowcolor\":\"#2a3f5f\",\"arrowhead\":0,\"arrowwidth\":1},\"autotypenumbers\":\"strict\",\"coloraxis\":{\"colorbar\":{\"outlinewidth\":0,\"ticks\":\"\"}},\"colorscale\":{\"diverging\":[[0,\"#8e0152\"],[0.1,\"#c51b7d\"],[0.2,\"#de77ae\"],[0.3,\"#f1b6da\"],[0.4,\"#fde0ef\"],[0.5,\"#f7f7f7\"],[0.6,\"#e6f5d0\"],[0.7,\"#b8e186\"],[0.8,\"#7fbc41\"],[0.9,\"#4d9221\"],[1,\"#276419\"]],\"sequential\":[[0.0,\"#0d0887\"],[0.1111111111111111,\"#46039f\"],[0.2222222222222222,\"#7201a8\"],[0.3333333333333333,\"#9c179e\"],[0.4444444444444444,\"#bd3786\"],[0.5555555555555556,\"#d8576b\"],[0.6666666666666666,\"#ed7953\"],[0.7777777777777778,\"#fb9f3a\"],[0.8888888888888888,\"#fdca26\"],[1.0,\"#f0f921\"]],\"sequentialminus\":[[0.0,\"#0d0887\"],[0.1111111111111111,\"#46039f\"],[0.2222222222222222,\"#7201a8\"],[0.3333333333333333,\"#9c179e\"],[0.4444444444444444,\"#bd3786\"],[0.5555555555555556,\"#d8576b\"],[0.6666666666666666,\"#ed7953\"],[0.7777777777777778,\"#fb9f3a\"],[0.8888888888888888,\"#fdca26\"],[1.0,\"#f0f921\"]]},\"colorway\":[\"#636efa\",\"#EF553B\",\"#00cc96\",\"#ab63fa\",\"#FFA15A\",\"#19d3f3\",\"#FF6692\",\"#B6E880\",\"#FF97FF\",\"#FECB52\"],\"font\":{\"color\":\"#2a3f5f\"},\"geo\":{\"bgcolor\":\"white\",\"lakecolor\":\"white\",\"landcolor\":\"#E5ECF6\",\"showlakes\":true,\"showland\":true,\"subunitcolor\":\"white\"},\"hoverlabel\":{\"align\":\"left\"},\"hovermode\":\"closest\",\"mapbox\":{\"style\":\"light\"},\"paper_bgcolor\":\"white\",\"plot_bgcolor\":\"#E5ECF6\",\"polar\":{\"angularaxis\":{\"gridcolor\":\"white\",\"linecolor\":\"white\",\"ticks\":\"\"},\"bgcolor\":\"#E5ECF6\",\"radialaxis\":{\"gridcolor\":\"white\",\"linecolor\":\"white\",\"ticks\":\"\"}},\"scene\":{\"xaxis\":{\"backgroundcolor\":\"#E5ECF6\",\"gridcolor\":\"white\",\"gridwidth\":2,\"linecolor\":\"white\",\"showbackground\":true,\"ticks\":\"\",\"zerolinecolor\":\"white\"},\"yaxis\":{\"backgroundcolor\":\"#E5ECF6\",\"gridcolor\":\"white\",\"gridwidth\":2,\"linecolor\":\"white\",\"showbackground\":true,\"ticks\":\"\",\"zerolinecolor\":\"white\"},\"zaxis\":{\"backgroundcolor\":\"#E5ECF6\",\"gridcolor\":\"white\",\"gridwidth\":2,\"linecolor\":\"white\",\"showbackground\":true,\"ticks\":\"\",\"zerolinecolor\":\"white\"}},\"shapedefaults\":{\"line\":{\"color\":\"#2a3f5f\"}},\"ternary\":{\"aaxis\":{\"gridcolor\":\"white\",\"linecolor\":\"white\",\"ticks\":\"\"},\"baxis\":{\"gridcolor\":\"white\",\"linecolor\":\"white\",\"ticks\":\"\"},\"bgcolor\":\"#E5ECF6\",\"caxis\":{\"gridcolor\":\"white\",\"linecolor\":\"white\",\"ticks\":\"\"}},\"title\":{\"x\":0.05},\"xaxis\":{\"automargin\":true,\"gridcolor\":\"white\",\"linecolor\":\"white\",\"ticks\":\"\",\"title\":{\"standoff\":15},\"zerolinecolor\":\"white\",\"zerolinewidth\":2},\"yaxis\":{\"automargin\":true,\"gridcolor\":\"white\",\"linecolor\":\"white\",\"ticks\":\"\",\"title\":{\"standoff\":15},\"zerolinecolor\":\"white\",\"zerolinewidth\":2}}}},                        {\"responsive\": true}                    ).then(function(){\n",
       "                            \n",
       "var gd = document.getElementById('160ad243-03f3-415d-ace6-fdc4044ba2a6');\n",
       "var x = new MutationObserver(function (mutations, observer) {{\n",
       "        var display = window.getComputedStyle(gd).display;\n",
       "        if (!display || display === 'none') {{\n",
       "            console.log([gd, 'removed!']);\n",
       "            Plotly.purge(gd);\n",
       "            observer.disconnect();\n",
       "        }}\n",
       "}});\n",
       "\n",
       "// Listen for the removal of the full notebook cells\n",
       "var notebookContainer = gd.closest('#notebook-container');\n",
       "if (notebookContainer) {{\n",
       "    x.observe(notebookContainer, {childList: true});\n",
       "}}\n",
       "\n",
       "// Listen for the clearing of the current output cell\n",
       "var outputEl = gd.closest('.output');\n",
       "if (outputEl) {{\n",
       "    x.observe(outputEl, {childList: true});\n",
       "}}\n",
       "\n",
       "                        })                };                });            </script>        </div>"
      ]
     },
     "metadata": {},
     "output_type": "display_data"
    }
   ],
   "source": [
    "# Use `hole` to create a donut-like pie chart\n",
    "fig = go.Figure(data=[go.Pie(labels=df2['Category'], values=df2['Count'], hole=.4)])\n",
    "fig.update_traces(textposition='inside', textinfo='percent+label')\n",
    "fig.show()"
   ]
  },
  {
   "cell_type": "code",
   "execution_count": null,
   "id": "d14faefc",
   "metadata": {},
   "outputs": [],
   "source": []
  },
  {
   "cell_type": "code",
   "execution_count": 40,
   "id": "7b2ac555",
   "metadata": {},
   "outputs": [
    {
     "data": {
      "text/html": [
       "<div>\n",
       "<style scoped>\n",
       "    .dataframe tbody tr th:only-of-type {\n",
       "        vertical-align: middle;\n",
       "    }\n",
       "\n",
       "    .dataframe tbody tr th {\n",
       "        vertical-align: top;\n",
       "    }\n",
       "\n",
       "    .dataframe thead th {\n",
       "        text-align: right;\n",
       "    }\n",
       "</style>\n",
       "<table border=\"1\" class=\"dataframe\">\n",
       "  <thead>\n",
       "    <tr style=\"text-align: right;\">\n",
       "      <th></th>\n",
       "      <th>EXT1</th>\n",
       "      <th>EXT2</th>\n",
       "      <th>EXT3</th>\n",
       "      <th>EXT4</th>\n",
       "      <th>EXT5</th>\n",
       "      <th>EXT6</th>\n",
       "      <th>EXT7</th>\n",
       "      <th>EXT8</th>\n",
       "      <th>EXT9</th>\n",
       "      <th>EXT10</th>\n",
       "      <th>...</th>\n",
       "      <th>dateload</th>\n",
       "      <th>screenw</th>\n",
       "      <th>screenh</th>\n",
       "      <th>introelapse</th>\n",
       "      <th>testelapse</th>\n",
       "      <th>endelapse</th>\n",
       "      <th>IPC</th>\n",
       "      <th>country</th>\n",
       "      <th>lat_appx_lots_of_err</th>\n",
       "      <th>long_appx_lots_of_err</th>\n",
       "    </tr>\n",
       "  </thead>\n",
       "  <tbody>\n",
       "    <tr>\n",
       "      <th>0</th>\n",
       "      <td>4.0</td>\n",
       "      <td>1.0</td>\n",
       "      <td>5.0</td>\n",
       "      <td>2.0</td>\n",
       "      <td>5.0</td>\n",
       "      <td>1.0</td>\n",
       "      <td>5.0</td>\n",
       "      <td>2.0</td>\n",
       "      <td>4.0</td>\n",
       "      <td>1.0</td>\n",
       "      <td>...</td>\n",
       "      <td>2016-03-03 02:01:01</td>\n",
       "      <td>768.0</td>\n",
       "      <td>1024.0</td>\n",
       "      <td>9.0</td>\n",
       "      <td>234.0</td>\n",
       "      <td>6</td>\n",
       "      <td>1</td>\n",
       "      <td>GB</td>\n",
       "      <td>51.5448</td>\n",
       "      <td>0.1991</td>\n",
       "    </tr>\n",
       "    <tr>\n",
       "      <th>1</th>\n",
       "      <td>3.0</td>\n",
       "      <td>5.0</td>\n",
       "      <td>3.0</td>\n",
       "      <td>4.0</td>\n",
       "      <td>3.0</td>\n",
       "      <td>3.0</td>\n",
       "      <td>2.0</td>\n",
       "      <td>5.0</td>\n",
       "      <td>1.0</td>\n",
       "      <td>5.0</td>\n",
       "      <td>...</td>\n",
       "      <td>2016-03-03 02:01:20</td>\n",
       "      <td>1360.0</td>\n",
       "      <td>768.0</td>\n",
       "      <td>12.0</td>\n",
       "      <td>179.0</td>\n",
       "      <td>11</td>\n",
       "      <td>1</td>\n",
       "      <td>MY</td>\n",
       "      <td>3.1698</td>\n",
       "      <td>101.706</td>\n",
       "    </tr>\n",
       "    <tr>\n",
       "      <th>2</th>\n",
       "      <td>2.0</td>\n",
       "      <td>3.0</td>\n",
       "      <td>4.0</td>\n",
       "      <td>4.0</td>\n",
       "      <td>3.0</td>\n",
       "      <td>2.0</td>\n",
       "      <td>1.0</td>\n",
       "      <td>3.0</td>\n",
       "      <td>2.0</td>\n",
       "      <td>5.0</td>\n",
       "      <td>...</td>\n",
       "      <td>2016-03-03 02:01:56</td>\n",
       "      <td>1366.0</td>\n",
       "      <td>768.0</td>\n",
       "      <td>3.0</td>\n",
       "      <td>186.0</td>\n",
       "      <td>7</td>\n",
       "      <td>1</td>\n",
       "      <td>GB</td>\n",
       "      <td>54.9119</td>\n",
       "      <td>-1.3833</td>\n",
       "    </tr>\n",
       "    <tr>\n",
       "      <th>3</th>\n",
       "      <td>2.0</td>\n",
       "      <td>2.0</td>\n",
       "      <td>2.0</td>\n",
       "      <td>3.0</td>\n",
       "      <td>4.0</td>\n",
       "      <td>2.0</td>\n",
       "      <td>2.0</td>\n",
       "      <td>4.0</td>\n",
       "      <td>1.0</td>\n",
       "      <td>4.0</td>\n",
       "      <td>...</td>\n",
       "      <td>2016-03-03 02:02:02</td>\n",
       "      <td>1920.0</td>\n",
       "      <td>1200.0</td>\n",
       "      <td>186.0</td>\n",
       "      <td>219.0</td>\n",
       "      <td>7</td>\n",
       "      <td>1</td>\n",
       "      <td>GB</td>\n",
       "      <td>51.75</td>\n",
       "      <td>-1.25</td>\n",
       "    </tr>\n",
       "    <tr>\n",
       "      <th>4</th>\n",
       "      <td>3.0</td>\n",
       "      <td>3.0</td>\n",
       "      <td>3.0</td>\n",
       "      <td>3.0</td>\n",
       "      <td>5.0</td>\n",
       "      <td>3.0</td>\n",
       "      <td>3.0</td>\n",
       "      <td>5.0</td>\n",
       "      <td>3.0</td>\n",
       "      <td>4.0</td>\n",
       "      <td>...</td>\n",
       "      <td>2016-03-03 02:02:57</td>\n",
       "      <td>1366.0</td>\n",
       "      <td>768.0</td>\n",
       "      <td>8.0</td>\n",
       "      <td>315.0</td>\n",
       "      <td>17</td>\n",
       "      <td>2</td>\n",
       "      <td>KE</td>\n",
       "      <td>1.0</td>\n",
       "      <td>38.0</td>\n",
       "    </tr>\n",
       "  </tbody>\n",
       "</table>\n",
       "<p>5 rows × 110 columns</p>\n",
       "</div>"
      ],
      "text/plain": [
       "   EXT1  EXT2  EXT3  EXT4  EXT5  EXT6  EXT7  EXT8  EXT9  EXT10  ...  \\\n",
       "0   4.0   1.0   5.0   2.0   5.0   1.0   5.0   2.0   4.0    1.0  ...   \n",
       "1   3.0   5.0   3.0   4.0   3.0   3.0   2.0   5.0   1.0    5.0  ...   \n",
       "2   2.0   3.0   4.0   4.0   3.0   2.0   1.0   3.0   2.0    5.0  ...   \n",
       "3   2.0   2.0   2.0   3.0   4.0   2.0   2.0   4.0   1.0    4.0  ...   \n",
       "4   3.0   3.0   3.0   3.0   5.0   3.0   3.0   5.0   3.0    4.0  ...   \n",
       "\n",
       "              dateload  screenw  screenh  introelapse  testelapse  endelapse  \\\n",
       "0  2016-03-03 02:01:01    768.0   1024.0          9.0       234.0          6   \n",
       "1  2016-03-03 02:01:20   1360.0    768.0         12.0       179.0         11   \n",
       "2  2016-03-03 02:01:56   1366.0    768.0          3.0       186.0          7   \n",
       "3  2016-03-03 02:02:02   1920.0   1200.0        186.0       219.0          7   \n",
       "4  2016-03-03 02:02:57   1366.0    768.0          8.0       315.0         17   \n",
       "\n",
       "   IPC  country  lat_appx_lots_of_err  long_appx_lots_of_err  \n",
       "0    1       GB               51.5448                 0.1991  \n",
       "1    1       MY                3.1698                101.706  \n",
       "2    1       GB               54.9119                -1.3833  \n",
       "3    1       GB                 51.75                  -1.25  \n",
       "4    2       KE                   1.0                   38.0  \n",
       "\n",
       "[5 rows x 110 columns]"
      ]
     },
     "execution_count": 40,
     "metadata": {},
     "output_type": "execute_result"
    }
   ],
   "source": [
    "df = pd.read_csv(r'dataset/data-final.csv', sep='\\t')\n",
    "df.head()"
   ]
  },
  {
   "cell_type": "code",
   "execution_count": 41,
   "id": "9ee2fb23",
   "metadata": {},
   "outputs": [
    {
     "data": {
      "text/plain": [
       "(1015341, 110)"
      ]
     },
     "execution_count": 41,
     "metadata": {},
     "output_type": "execute_result"
    }
   ],
   "source": [
    "df.shape"
   ]
  },
  {
   "cell_type": "code",
   "execution_count": 49,
   "id": "68ca00fd",
   "metadata": {},
   "outputs": [],
   "source": [
    "dfs = np.array_split(df, 50)"
   ]
  },
  {
   "cell_type": "code",
   "execution_count": 53,
   "id": "9e95ee76",
   "metadata": {},
   "outputs": [],
   "source": [
    "os.makedirs(\"dataset/data_final\", exist_ok=True)"
   ]
  },
  {
   "cell_type": "code",
   "execution_count": 55,
   "id": "f238348e",
   "metadata": {},
   "outputs": [],
   "source": [
    "for data_index in range(len(dfs)):\n",
    "    dfs[data_index].to_csv(\"dataset/data_final/data_final_\"+str(data_index)+\".csv\", index=False)"
   ]
  },
  {
   "cell_type": "code",
   "execution_count": null,
   "id": "2031beb1",
   "metadata": {},
   "outputs": [],
   "source": []
  },
  {
   "cell_type": "code",
   "execution_count": null,
   "id": "9ce6e137",
   "metadata": {},
   "outputs": [],
   "source": []
  },
  {
   "cell_type": "code",
   "execution_count": null,
   "id": "cc91590d",
   "metadata": {},
   "outputs": [],
   "source": []
  },
  {
   "cell_type": "code",
   "execution_count": null,
   "id": "06b5558c",
   "metadata": {},
   "outputs": [],
   "source": []
  },
  {
   "cell_type": "code",
   "execution_count": null,
   "id": "422b65cb",
   "metadata": {},
   "outputs": [],
   "source": []
  },
  {
   "cell_type": "code",
   "execution_count": null,
   "id": "b89e4134",
   "metadata": {},
   "outputs": [],
   "source": []
  },
  {
   "cell_type": "code",
   "execution_count": null,
   "id": "64812e9e",
   "metadata": {},
   "outputs": [],
   "source": []
  },
  {
   "cell_type": "code",
   "execution_count": null,
   "id": "8ac26afc",
   "metadata": {},
   "outputs": [],
   "source": [
    "Python Program For Converting Roman Numerals To Decimal\n",
    "Input: IX\n",
    "Output: 9\n",
    "IX is a Roman symbol which represents 9 "
   ]
  }
 ],
 "metadata": {
  "kernelspec": {
   "display_name": "Python 3 (ipykernel)",
   "language": "python",
   "name": "python3"
  },
  "language_info": {
   "codemirror_mode": {
    "name": "ipython",
    "version": 3
   },
   "file_extension": ".py",
   "mimetype": "text/x-python",
   "name": "python",
   "nbconvert_exporter": "python",
   "pygments_lexer": "ipython3",
   "version": "3.8.10"
  }
 },
 "nbformat": 4,
 "nbformat_minor": 5
}
