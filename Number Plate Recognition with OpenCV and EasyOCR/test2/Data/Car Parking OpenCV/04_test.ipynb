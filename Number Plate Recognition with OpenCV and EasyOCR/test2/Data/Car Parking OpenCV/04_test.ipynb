{
 "cells": [
  {
   "cell_type": "code",
   "execution_count": null,
   "id": "5f7e10e8",
   "metadata": {},
   "outputs": [],
   "source": [
    "!pip install matplotlib"
   ]
  },
  {
   "cell_type": "code",
   "execution_count": null,
   "id": "454aeb77",
   "metadata": {},
   "outputs": [],
   "source": [
    "import numpy as np\n",
    "import cv2\n",
    "import easyocr\n",
    "import imutils\n",
    "import matplotlib.pyplot as plt\n",
    "%matplotlib inline\n",
    "\n",
    "# capture live video strime\n",
    "URL = \"http://192.168.0.91:8080/video\"\n",
    "capture = cv2.VideoCapture(URL)\n",
    "reader = easyocr.Reader(['en'])\n",
    "\n",
    "while 1:\n",
    "\n",
    "    # read video strime\n",
    "    _, frame = capture.read()\n",
    "\n",
    "    # Convert colored image into grayscale formate\n",
    "    gray = cv2.cvtColor(frame, cv2.COLOR_BGR2GRAY)\n",
    "\n",
    "    # Apply Filter and Edge Detection\n",
    "    bfilter = cv2.bilateralFilter(gray, 11, 17, 17) # Noise reduction\n",
    "    edged = cv2.Canny(bfilter, 30, 200) # Edge detection\n",
    "\n",
    "    # Find Contours and Apply Mask\n",
    "    keypoints = cv2.findContours(edged.copy(), cv2.RETR_TREE, cv2.CHAIN_APPROX_SIMPLE)\n",
    "    contours = imutils.grab_contours(keypoints)\n",
    "    contours = sorted(contours, key = cv2.contourArea,reverse=True)[:10]\n",
    "\n",
    "    location = None\n",
    "    for contour in contours:\n",
    "        approx = cv2.approxPolyDP(contour,10,True)\n",
    "        if len(approx) == 4:\n",
    "            location = approx\n",
    "            break\n",
    "\n",
    "    mask = np.zeros(gray.shape, np.uint8)\n",
    "    new_image = cv2.drawContours(mask, [location], 0, 255, -1)\n",
    "    new_image = cv2.bitwise_and(frame, frame, mask=mask)\n",
    "\n",
    "    (x, y) = np.where(mask == 255)\n",
    "    (x1, y1) = (np.min(x), np.min(y))\n",
    "    (x2, y2) = (np.max(x), np.max(y))\n",
    "    cropped_image = gray[x1:x2+1, y1:y2+1]\n",
    "    \n",
    "#     plt.imshow(cv2.cvtColor(cropped_image, cv2.COLOR_BGR2RGB))\n",
    "\n",
    "    # use easy ocr to read text\n",
    "    result = reader.readtext(cropped_image)\n",
    "    print(f\"Number Plate : {result}\")\n",
    "\n",
    "    # show the video strime\n",
    "    cv2.imshow('LiveStrimeScreen', frame)\n",
    "\n",
    "\n",
    "    # to stop the strime\n",
    "    if cv2.waitKey(1) == ord(\"q\"):\n",
    "        break\n",
    "\n",
    "# close the resorces\n",
    "capture.release()\n",
    "cv2.destroyAllWindows()"
   ]
  },
  {
   "cell_type": "code",
   "execution_count": null,
   "id": "0c58d62e",
   "metadata": {},
   "outputs": [],
   "source": []
  }
 ],
 "metadata": {
  "kernelspec": {
   "display_name": "Python 3 (ipykernel)",
   "language": "python",
   "name": "python3"
  },
  "language_info": {
   "codemirror_mode": {
    "name": "ipython",
    "version": 3
   },
   "file_extension": ".py",
   "mimetype": "text/x-python",
   "name": "python",
   "nbconvert_exporter": "python",
   "pygments_lexer": "ipython3",
   "version": "3.9.12"
  }
 },
 "nbformat": 4,
 "nbformat_minor": 5
}
