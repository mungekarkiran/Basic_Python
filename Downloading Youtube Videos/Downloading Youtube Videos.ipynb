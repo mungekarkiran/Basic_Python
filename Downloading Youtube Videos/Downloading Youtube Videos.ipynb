{
 "cells": [
  {
   "cell_type": "code",
   "execution_count": 31,
   "metadata": {},
   "outputs": [
    {
     "data": {
      "text/plain": [
       "'D:\\\\test\\\\Basic_Python\\\\Downloading Youtube Videos\\\\Video/Ajay-Atul Devotional songsAjay Atul Special Part 2ClassicAll time FavouriteMarathi Songs.mp4'"
      ]
     },
     "execution_count": 31,
     "metadata": {},
     "output_type": "execute_result"
    }
   ],
   "source": [
    "import pytube\n",
    "\n",
    "url = 'https://www.youtube.com/watch?v=ljCJ01aSctY&t=104s'\n",
    "\n",
    "youtube = pytube.YouTube(url)\n",
    "video = youtube.streams.get_highest_resolution()\n",
    "video.download('Video/')"
   ]
  },
  {
   "cell_type": "code",
   "execution_count": 32,
   "metadata": {},
   "outputs": [
    {
     "name": "stderr",
     "output_type": "stream",
     "text": [
      "\r",
      "chunk:   0%|                                                                       | 0/67915 [00:00<?, ?it/s, now=None]"
     ]
    },
    {
     "name": "stdout",
     "output_type": "stream",
     "text": [
      "MoviePy - Writing audio in Audio/ Ajay-Atul Devotional songsAjay Atul Special Part 2ClassicAll time FavouriteMarathi Songs.mp3\n"
     ]
    },
    {
     "name": "stderr",
     "output_type": "stream",
     "text": [
      "                                                                                                                       \r"
     ]
    },
    {
     "name": "stdout",
     "output_type": "stream",
     "text": [
      "MoviePy - Done.\n"
     ]
    }
   ],
   "source": [
    "import moviepy.editor as mp\n",
    "\n",
    "number = \"\"\n",
    "name = \"Ajay-Atul Devotional songsAjay Atul Special Part 2ClassicAll time FavouriteMarathi Songs\"\n",
    "my_clip = mp.VideoFileClip(rf\"Video/{name}.mp4\")\n",
    "my_clip.audio.write_audiofile(rf\"Audio/{number} {name}.mp3\")"
   ]
  },
  {
   "cell_type": "code",
   "execution_count": null,
   "metadata": {},
   "outputs": [],
   "source": [
    "# https://www.youtube.com/watch?v=825aWCM7K_g&list=PL9n0l8rSshSkpSrSjD1PGbDk1p0d5mne-&index=5\n",
    "# https://pypi.org/project/pytube3/\n",
    "\n",
    "# !pip install pytube"
   ]
  },
  {
   "cell_type": "code",
   "execution_count": null,
   "metadata": {},
   "outputs": [],
   "source": [
    "# import pytube"
   ]
  },
  {
   "cell_type": "code",
   "execution_count": null,
   "metadata": {},
   "outputs": [],
   "source": [
    "# url = \"https://youtu.be/X83cDfwtFpw\""
   ]
  },
  {
   "cell_type": "code",
   "execution_count": null,
   "metadata": {},
   "outputs": [],
   "source": [
    "# youtube = pytube.YouTube(url)"
   ]
  },
  {
   "cell_type": "code",
   "execution_count": null,
   "metadata": {},
   "outputs": [],
   "source": [
    "# pytube.YouTube('https://www.youtube.com/watch?v=9v3jABCh_L4').streams.get_highest_resolution().download()"
   ]
  },
  {
   "cell_type": "code",
   "execution_count": null,
   "metadata": {},
   "outputs": [],
   "source": [
    "# # importing the module\n",
    "# from pytube import YouTube\n",
    "\n",
    "# # where to save\n",
    "# SAVE_PATH = \"Video/\" \n",
    "\n",
    "# # link of the video to be downloaded\n",
    "# link=\"http://103.87.212.46/Data/movies1/bollywood/2022/phone%20bhoot/Phone%20Bhoot%20%282022%29%201080p%20DVDRip.mp4\"# download the video\n",
    "\n",
    "# try:\n",
    "#     # object creation using YouTube\n",
    "#     # which was imported in the beginning\n",
    "#     yt = YouTube(link)\n",
    "# except:\n",
    "#     print(\"Connection Error\") #to handle exception\n",
    "\n",
    "# d_video = yt.streams.get_highest_resolution() \n",
    "\n",
    "# try:\n",
    "#     # downloading the video\n",
    "#     d_video.download(SAVE_PATH)\n",
    "# except:\n",
    "#     print(\"Some Error!\")\n",
    "# print('Task Completed!')\n"
   ]
  },
  {
   "cell_type": "code",
   "execution_count": null,
   "metadata": {},
   "outputs": [],
   "source": []
  }
 ],
 "metadata": {
  "kernelspec": {
   "display_name": "Python 3",
   "language": "python",
   "name": "python3"
  },
  "language_info": {
   "codemirror_mode": {
    "name": "ipython",
    "version": 3
   },
   "file_extension": ".py",
   "mimetype": "text/x-python",
   "name": "python",
   "nbconvert_exporter": "python",
   "pygments_lexer": "ipython3",
   "version": "3.6.7"
  },
  "vscode": {
   "interpreter": {
    "hash": "d9c9f810be48f5a6d36a39dedf5b599964b855af479ef5af15b81f905ca17cb6"
   }
  }
 },
 "nbformat": 4,
 "nbformat_minor": 2
}
