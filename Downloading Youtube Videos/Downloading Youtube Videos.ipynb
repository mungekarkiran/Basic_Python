{
 "cells": [
  {
   "cell_type": "code",
   "execution_count": 1,
   "metadata": {},
   "outputs": [
    {
     "ename": "AttributeError",
     "evalue": "'NoneType' object has no attribute 'span'",
     "output_type": "error",
     "traceback": [
      "\u001b[1;31m---------------------------------------------------------------------------\u001b[0m",
      "\u001b[1;31mAttributeError\u001b[0m                            Traceback (most recent call last)",
      "\u001b[1;32m<ipython-input-1-1aa61f0c725c>\u001b[0m in \u001b[0;36m<module>\u001b[1;34m\u001b[0m\n\u001b[0;32m     11\u001b[0m \u001b[1;31m# download video\u001b[0m\u001b[1;33m\u001b[0m\u001b[1;33m\u001b[0m\u001b[1;33m\u001b[0m\u001b[0m\n\u001b[0;32m     12\u001b[0m \u001b[0myoutube\u001b[0m \u001b[1;33m=\u001b[0m \u001b[0mpytube\u001b[0m\u001b[1;33m.\u001b[0m\u001b[0mYouTube\u001b[0m\u001b[1;33m(\u001b[0m\u001b[0murl\u001b[0m\u001b[1;33m)\u001b[0m\u001b[1;33m\u001b[0m\u001b[1;33m\u001b[0m\u001b[0m\n\u001b[1;32m---> 13\u001b[1;33m \u001b[0mvideo\u001b[0m \u001b[1;33m=\u001b[0m \u001b[0myoutube\u001b[0m\u001b[1;33m.\u001b[0m\u001b[0mstreams\u001b[0m\u001b[1;33m.\u001b[0m\u001b[0mget_highest_resolution\u001b[0m\u001b[1;33m(\u001b[0m\u001b[1;33m)\u001b[0m \u001b[1;31m# get the highest resolution video\u001b[0m\u001b[1;33m\u001b[0m\u001b[1;33m\u001b[0m\u001b[0m\n\u001b[0m\u001b[0;32m     14\u001b[0m \u001b[0mvideo\u001b[0m\u001b[1;33m.\u001b[0m\u001b[0mdownload\u001b[0m\u001b[1;33m(\u001b[0m\u001b[0mvideo_folder_path\u001b[0m\u001b[1;33m)\u001b[0m \u001b[1;31m# save video\u001b[0m\u001b[1;33m\u001b[0m\u001b[1;33m\u001b[0m\u001b[0m\n\u001b[0;32m     15\u001b[0m \u001b[1;33m\u001b[0m\u001b[0m\n",
      "\u001b[1;32mc:\\users\\munge\\appdata\\local\\programs\\python\\python36\\lib\\site-packages\\pytube\\__main__.py\u001b[0m in \u001b[0;36mstreams\u001b[1;34m(self)\u001b[0m\n\u001b[0;32m    294\u001b[0m         \"\"\"\n\u001b[0;32m    295\u001b[0m         \u001b[0mself\u001b[0m\u001b[1;33m.\u001b[0m\u001b[0mcheck_availability\u001b[0m\u001b[1;33m(\u001b[0m\u001b[1;33m)\u001b[0m\u001b[1;33m\u001b[0m\u001b[1;33m\u001b[0m\u001b[0m\n\u001b[1;32m--> 296\u001b[1;33m         \u001b[1;32mreturn\u001b[0m \u001b[0mStreamQuery\u001b[0m\u001b[1;33m(\u001b[0m\u001b[0mself\u001b[0m\u001b[1;33m.\u001b[0m\u001b[0mfmt_streams\u001b[0m\u001b[1;33m)\u001b[0m\u001b[1;33m\u001b[0m\u001b[1;33m\u001b[0m\u001b[0m\n\u001b[0m\u001b[0;32m    297\u001b[0m \u001b[1;33m\u001b[0m\u001b[0m\n\u001b[0;32m    298\u001b[0m     \u001b[1;33m@\u001b[0m\u001b[0mproperty\u001b[0m\u001b[1;33m\u001b[0m\u001b[1;33m\u001b[0m\u001b[0m\n",
      "\u001b[1;32mc:\\users\\munge\\appdata\\local\\programs\\python\\python36\\lib\\site-packages\\pytube\\__main__.py\u001b[0m in \u001b[0;36mfmt_streams\u001b[1;34m(self)\u001b[0m\n\u001b[0;32m    179\u001b[0m         \u001b[1;31m# https://github.com/pytube/pytube/issues/1054\u001b[0m\u001b[1;33m\u001b[0m\u001b[1;33m\u001b[0m\u001b[1;33m\u001b[0m\u001b[0m\n\u001b[0;32m    180\u001b[0m         \u001b[1;32mtry\u001b[0m\u001b[1;33m:\u001b[0m\u001b[1;33m\u001b[0m\u001b[1;33m\u001b[0m\u001b[0m\n\u001b[1;32m--> 181\u001b[1;33m             \u001b[0mextract\u001b[0m\u001b[1;33m.\u001b[0m\u001b[0mapply_signature\u001b[0m\u001b[1;33m(\u001b[0m\u001b[0mstream_manifest\u001b[0m\u001b[1;33m,\u001b[0m \u001b[0mself\u001b[0m\u001b[1;33m.\u001b[0m\u001b[0mvid_info\u001b[0m\u001b[1;33m,\u001b[0m \u001b[0mself\u001b[0m\u001b[1;33m.\u001b[0m\u001b[0mjs\u001b[0m\u001b[1;33m)\u001b[0m\u001b[1;33m\u001b[0m\u001b[1;33m\u001b[0m\u001b[0m\n\u001b[0m\u001b[0;32m    182\u001b[0m         \u001b[1;32mexcept\u001b[0m \u001b[0mexceptions\u001b[0m\u001b[1;33m.\u001b[0m\u001b[0mExtractError\u001b[0m\u001b[1;33m:\u001b[0m\u001b[1;33m\u001b[0m\u001b[1;33m\u001b[0m\u001b[0m\n\u001b[0;32m    183\u001b[0m             \u001b[1;31m# To force an update to the js file, we clear the cache and retry\u001b[0m\u001b[1;33m\u001b[0m\u001b[1;33m\u001b[0m\u001b[1;33m\u001b[0m\u001b[0m\n",
      "\u001b[1;32mc:\\users\\munge\\appdata\\local\\programs\\python\\python36\\lib\\site-packages\\pytube\\extract.py\u001b[0m in \u001b[0;36mapply_signature\u001b[1;34m(stream_manifest, vid_info, js)\u001b[0m\n\u001b[0;32m    407\u001b[0m \u001b[1;33m\u001b[0m\u001b[0m\n\u001b[0;32m    408\u001b[0m     \"\"\"\n\u001b[1;32m--> 409\u001b[1;33m     \u001b[0mcipher\u001b[0m \u001b[1;33m=\u001b[0m \u001b[0mCipher\u001b[0m\u001b[1;33m(\u001b[0m\u001b[0mjs\u001b[0m\u001b[1;33m=\u001b[0m\u001b[0mjs\u001b[0m\u001b[1;33m)\u001b[0m\u001b[1;33m\u001b[0m\u001b[1;33m\u001b[0m\u001b[0m\n\u001b[0m\u001b[0;32m    410\u001b[0m \u001b[1;33m\u001b[0m\u001b[0m\n\u001b[0;32m    411\u001b[0m     \u001b[1;32mfor\u001b[0m \u001b[0mi\u001b[0m\u001b[1;33m,\u001b[0m \u001b[0mstream\u001b[0m \u001b[1;32min\u001b[0m \u001b[0menumerate\u001b[0m\u001b[1;33m(\u001b[0m\u001b[0mstream_manifest\u001b[0m\u001b[1;33m)\u001b[0m\u001b[1;33m:\u001b[0m\u001b[1;33m\u001b[0m\u001b[1;33m\u001b[0m\u001b[0m\n",
      "\u001b[1;32mc:\\users\\munge\\appdata\\local\\programs\\python\\python36\\lib\\site-packages\\pytube\\cipher.py\u001b[0m in \u001b[0;36m__init__\u001b[1;34m(self, js)\u001b[0m\n\u001b[0;32m     41\u001b[0m         ]\n\u001b[0;32m     42\u001b[0m \u001b[1;33m\u001b[0m\u001b[0m\n\u001b[1;32m---> 43\u001b[1;33m         \u001b[0mself\u001b[0m\u001b[1;33m.\u001b[0m\u001b[0mthrottling_plan\u001b[0m \u001b[1;33m=\u001b[0m \u001b[0mget_throttling_plan\u001b[0m\u001b[1;33m(\u001b[0m\u001b[0mjs\u001b[0m\u001b[1;33m)\u001b[0m\u001b[1;33m\u001b[0m\u001b[1;33m\u001b[0m\u001b[0m\n\u001b[0m\u001b[0;32m     44\u001b[0m         \u001b[0mself\u001b[0m\u001b[1;33m.\u001b[0m\u001b[0mthrottling_array\u001b[0m \u001b[1;33m=\u001b[0m \u001b[0mget_throttling_function_array\u001b[0m\u001b[1;33m(\u001b[0m\u001b[0mjs\u001b[0m\u001b[1;33m)\u001b[0m\u001b[1;33m\u001b[0m\u001b[1;33m\u001b[0m\u001b[0m\n\u001b[0;32m     45\u001b[0m \u001b[1;33m\u001b[0m\u001b[0m\n",
      "\u001b[1;32mc:\\users\\munge\\appdata\\local\\programs\\python\\python36\\lib\\site-packages\\pytube\\cipher.py\u001b[0m in \u001b[0;36mget_throttling_plan\u001b[1;34m(js)\u001b[0m\n\u001b[0;32m    409\u001b[0m     \u001b[0mmatch\u001b[0m \u001b[1;33m=\u001b[0m \u001b[0mplan_regex\u001b[0m\u001b[1;33m.\u001b[0m\u001b[0msearch\u001b[0m\u001b[1;33m(\u001b[0m\u001b[0mraw_code\u001b[0m\u001b[1;33m)\u001b[0m\u001b[1;33m\u001b[0m\u001b[1;33m\u001b[0m\u001b[0m\n\u001b[0;32m    410\u001b[0m \u001b[1;33m\u001b[0m\u001b[0m\n\u001b[1;32m--> 411\u001b[1;33m     \u001b[0mtransform_plan_raw\u001b[0m \u001b[1;33m=\u001b[0m \u001b[0mfind_object_from_startpoint\u001b[0m\u001b[1;33m(\u001b[0m\u001b[0mraw_code\u001b[0m\u001b[1;33m,\u001b[0m \u001b[0mmatch\u001b[0m\u001b[1;33m.\u001b[0m\u001b[0mspan\u001b[0m\u001b[1;33m(\u001b[0m\u001b[1;33m)\u001b[0m\u001b[1;33m[\u001b[0m\u001b[1;36m1\u001b[0m\u001b[1;33m]\u001b[0m \u001b[1;33m-\u001b[0m \u001b[1;36m1\u001b[0m\u001b[1;33m)\u001b[0m\u001b[1;33m\u001b[0m\u001b[1;33m\u001b[0m\u001b[0m\n\u001b[0m\u001b[0;32m    412\u001b[0m \u001b[1;33m\u001b[0m\u001b[0m\n\u001b[0;32m    413\u001b[0m     \u001b[1;31m# Steps are either c[x](c[y]) or c[x](c[y],c[z])\u001b[0m\u001b[1;33m\u001b[0m\u001b[1;33m\u001b[0m\u001b[1;33m\u001b[0m\u001b[0m\n",
      "\u001b[1;31mAttributeError\u001b[0m: 'NoneType' object has no attribute 'span'"
     ]
    }
   ],
   "source": [
    "# lib's\n",
    "import os\n",
    "import pytube\n",
    "import moviepy.editor as mp\n",
    "\n",
    "# variable's\n",
    "url = 'https://youtu.be/3u7MQz1EyPY'\n",
    "video_folder_path =  'Video'\n",
    "audio_folder_path =  'Audio'\n",
    "\n",
    "# download video\n",
    "youtube = pytube.YouTube(url)\n",
    "video = youtube.streams.get_highest_resolution() # get the highest resolution video\n",
    "video.download(video_folder_path) # save video\n",
    "\n",
    "# download audio\n",
    "my_clip = mp.VideoFileClip(os.path.join(video_folder_path,video.default_filename)) # load the video file\n",
    "my_clip.audio.write_audiofile(f\"{os.path.join(audio_folder_path,video.default_filename)[:-4]}.mp3\") # save the audio file"
   ]
  },
  {
   "cell_type": "code",
   "execution_count": null,
   "metadata": {},
   "outputs": [],
   "source": []
  },
  {
   "cell_type": "code",
   "execution_count": null,
   "metadata": {},
   "outputs": [],
   "source": [
    "# import pytube\n",
    "\n",
    "# url = 'https://www.youtube.com/watch?v=ImIy9Rya0dI'\n",
    "\n",
    "# youtube = pytube.YouTube(url)\n",
    "# video = youtube.streams.get_highest_resolution()\n",
    "# video.download('Video/')"
   ]
  },
  {
   "cell_type": "code",
   "execution_count": null,
   "metadata": {},
   "outputs": [],
   "source": [
    "# import moviepy.editor as mp\n",
    "\n",
    "# number = \"B1\"\n",
    "# name = \"How to Mind Management Not Time Management by David Kadavy  Kitab City\"\n",
    "# my_clip = mp.VideoFileClip(rf\"Video/{name}.mp4\")\n",
    "# my_clip.audio.write_audiofile(rf\"Audio/{number} {name}.mp3\")"
   ]
  },
  {
   "cell_type": "code",
   "execution_count": null,
   "metadata": {},
   "outputs": [],
   "source": [
    "# https://www.youtube.com/watch?v=825aWCM7K_g&list=PL9n0l8rSshSkpSrSjD1PGbDk1p0d5mne-&index=5\n",
    "# https://pypi.org/project/pytube3/\n",
    "\n",
    "# !pip install pytube"
   ]
  },
  {
   "cell_type": "code",
   "execution_count": null,
   "metadata": {},
   "outputs": [],
   "source": [
    "# import pytube"
   ]
  },
  {
   "cell_type": "code",
   "execution_count": null,
   "metadata": {},
   "outputs": [],
   "source": [
    "# url = \"https://youtu.be/X83cDfwtFpw\""
   ]
  },
  {
   "cell_type": "code",
   "execution_count": null,
   "metadata": {},
   "outputs": [],
   "source": [
    "# youtube = pytube.YouTube(url)"
   ]
  },
  {
   "cell_type": "code",
   "execution_count": null,
   "metadata": {},
   "outputs": [],
   "source": [
    "# pytube.YouTube('https://www.youtube.com/watch?v=9v3jABCh_L4').streams.get_highest_resolution().download()"
   ]
  },
  {
   "cell_type": "code",
   "execution_count": null,
   "metadata": {},
   "outputs": [],
   "source": [
    "# # importing the module\n",
    "# from pytube import YouTube\n",
    "\n",
    "# # where to save\n",
    "# SAVE_PATH = \"Video/\" \n",
    "\n",
    "# # link of the video to be downloaded\n",
    "# link=\"http://103.87.212.46/Data/movies1/bollywood/2022/phone%20bhoot/Phone%20Bhoot%20%282022%29%201080p%20DVDRip.mp4\"# download the video\n",
    "\n",
    "# try:\n",
    "#     # object creation using YouTube\n",
    "#     # which was imported in the beginning\n",
    "#     yt = YouTube(link)\n",
    "# except:\n",
    "#     print(\"Connection Error\") #to handle exception\n",
    "\n",
    "# d_video = yt.streams.get_highest_resolution() \n",
    "\n",
    "# try:\n",
    "#     # downloading the video\n",
    "#     d_video.download(SAVE_PATH)\n",
    "# except:\n",
    "#     print(\"Some Error!\")\n",
    "# print('Task Completed!')\n"
   ]
  },
  {
   "cell_type": "code",
   "execution_count": null,
   "metadata": {},
   "outputs": [],
   "source": []
  }
 ],
 "metadata": {
  "kernelspec": {
   "display_name": "Python 3",
   "language": "python",
   "name": "python3"
  },
  "language_info": {
   "codemirror_mode": {
    "name": "ipython",
    "version": 3
   },
   "file_extension": ".py",
   "mimetype": "text/x-python",
   "name": "python",
   "nbconvert_exporter": "python",
   "pygments_lexer": "ipython3",
   "version": "3.6.7"
  },
  "vscode": {
   "interpreter": {
    "hash": "d9c9f810be48f5a6d36a39dedf5b599964b855af479ef5af15b81f905ca17cb6"
   }
  }
 },
 "nbformat": 4,
 "nbformat_minor": 2
}
