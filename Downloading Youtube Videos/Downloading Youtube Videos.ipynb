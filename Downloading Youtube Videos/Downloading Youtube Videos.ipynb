{
 "cells": [
  {
   "cell_type": "code",
   "execution_count": 15,
   "metadata": {},
   "outputs": [],
   "source": [
    "# https://www.youtube.com/watch?v=825aWCM7K_g&list=PL9n0l8rSshSkpSrSjD1PGbDk1p0d5mne-&index=5\n",
    "# https://pypi.org/project/pytube3/\n",
    "\n",
    "# !pip install pytube"
   ]
  },
  {
   "cell_type": "code",
   "execution_count": 1,
   "metadata": {},
   "outputs": [],
   "source": [
    "import pytube"
   ]
  },
  {
   "cell_type": "code",
   "execution_count": 2,
   "metadata": {},
   "outputs": [],
   "source": [
    "url = \"https://youtu.be/X83cDfwtFpw\""
   ]
  },
  {
   "cell_type": "code",
   "execution_count": 3,
   "metadata": {},
   "outputs": [],
   "source": [
    "youtube = pytube.YouTube(url)"
   ]
  },
  {
   "cell_type": "code",
   "execution_count": 5,
   "metadata": {},
   "outputs": [
    {
     "data": {
      "text/plain": [
       "'D:\\\\test\\\\Basic_Python\\\\Downloading Youtube Videos\\\\How to use Stable Diffusion v20 on Colab with Gradio UI using Diffusers.mp4'"
      ]
     },
     "execution_count": 5,
     "metadata": {},
     "output_type": "execute_result"
    }
   ],
   "source": [
    "pytube.YouTube('https://www.youtube.com/watch?v=9v3jABCh_L4').streams.get_highest_resolution().download()"
   ]
  },
  {
   "cell_type": "code",
   "execution_count": 7,
   "metadata": {},
   "outputs": [
    {
     "data": {
      "text/plain": [
       "'D:\\\\test\\\\Basic_Python\\\\Downloading Youtube Videos\\\\Video/Types of Laptop Stands and their Ergonomics (Watch This Before you Buy!).mp4'"
      ]
     },
     "execution_count": 7,
     "metadata": {},
     "output_type": "execute_result"
    }
   ],
   "source": [
    "import pytube\n",
    "\n",
    "url = 'https://www.youtube.com/watch?v=_0UpZNzU2NI'\n",
    "\n",
    "youtube = pytube.YouTube(url)\n",
    "video = youtube.streams.get_highest_resolution()\n",
    "video.download('Video/')"
   ]
  },
  {
   "cell_type": "code",
   "execution_count": 14,
   "metadata": {},
   "outputs": [
    {
     "name": "stdout",
     "output_type": "stream",
     "text": [
      "Connection Error\n",
      "Task Completed!\n"
     ]
    }
   ],
   "source": [
    "# importing the module\n",
    "from pytube import YouTube\n",
    "\n",
    "# where to save\n",
    "SAVE_PATH = \"Video/\" \n",
    "\n",
    "# link of the video to be downloaded\n",
    "link=\"http://103.87.212.46/Data/movies1/bollywood/2022/phone%20bhoot/Phone%20Bhoot%20%282022%29%201080p%20DVDRip.mp4\"# download the video\n",
    "\n",
    "try:\n",
    "    # object creation using YouTube\n",
    "    # which was imported in the beginning\n",
    "    yt = YouTube(link)\n",
    "except:\n",
    "    print(\"Connection Error\") #to handle exception\n",
    "\n",
    "d_video = yt.streams.get_highest_resolution() \n",
    "\n",
    "try:\n",
    "    # downloading the video\n",
    "    d_video.download(SAVE_PATH)\n",
    "except:\n",
    "    print(\"Some Error!\")\n",
    "print('Task Completed!')\n"
   ]
  },
  {
   "cell_type": "code",
   "execution_count": null,
   "metadata": {},
   "outputs": [],
   "source": []
  }
 ],
 "metadata": {
  "kernelspec": {
   "display_name": "Python 3.6.7 64-bit",
   "language": "python",
   "name": "python3"
  },
  "language_info": {
   "codemirror_mode": {
    "name": "ipython",
    "version": 3
   },
   "file_extension": ".py",
   "mimetype": "text/x-python",
   "name": "python",
   "nbconvert_exporter": "python",
   "pygments_lexer": "ipython3",
   "version": "3.6.7"
  },
  "vscode": {
   "interpreter": {
    "hash": "d9c9f810be48f5a6d36a39dedf5b599964b855af479ef5af15b81f905ca17cb6"
   }
  }
 },
 "nbformat": 4,
 "nbformat_minor": 2
}
