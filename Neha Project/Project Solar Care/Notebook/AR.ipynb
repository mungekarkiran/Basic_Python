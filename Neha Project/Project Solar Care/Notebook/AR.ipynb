{
 "cells": [
  {
   "cell_type": "code",
   "execution_count": 15,
   "id": "07c3221f",
   "metadata": {},
   "outputs": [],
   "source": [
    "import os\n",
    "from scipy import stats\n",
    "from statsmodels.tsa.ar_model import AutoReg\n",
    "import pickle\n",
    "\n",
    "import pandas as pd\n",
    "import numpy as np\n",
    "\n",
    "import seaborn as sns\n",
    "import matplotlib.pyplot as plt\n",
    "%matplotlib inline"
   ]
  },
  {
   "cell_type": "code",
   "execution_count": 2,
   "id": "b4ff8bea",
   "metadata": {},
   "outputs": [
    {
     "data": {
      "text/html": [
       "<div>\n",
       "<style scoped>\n",
       "    .dataframe tbody tr th:only-of-type {\n",
       "        vertical-align: middle;\n",
       "    }\n",
       "\n",
       "    .dataframe tbody tr th {\n",
       "        vertical-align: top;\n",
       "    }\n",
       "\n",
       "    .dataframe thead th {\n",
       "        text-align: right;\n",
       "    }\n",
       "</style>\n",
       "<table border=\"1\" class=\"dataframe\">\n",
       "  <thead>\n",
       "    <tr style=\"text-align: right;\">\n",
       "      <th></th>\n",
       "      <th>datetime</th>\n",
       "      <th>temp</th>\n",
       "      <th>dew</th>\n",
       "      <th>humidity</th>\n",
       "      <th>windspeed</th>\n",
       "    </tr>\n",
       "  </thead>\n",
       "  <tbody>\n",
       "    <tr>\n",
       "      <th>0</th>\n",
       "      <td>2023-08-10T00:00:00</td>\n",
       "      <td>28.0</td>\n",
       "      <td>26.0</td>\n",
       "      <td>88.92</td>\n",
       "      <td>16.6</td>\n",
       "    </tr>\n",
       "    <tr>\n",
       "      <th>1</th>\n",
       "      <td>2023-08-10T01:00:00</td>\n",
       "      <td>28.0</td>\n",
       "      <td>26.0</td>\n",
       "      <td>88.92</td>\n",
       "      <td>14.8</td>\n",
       "    </tr>\n",
       "    <tr>\n",
       "      <th>2</th>\n",
       "      <td>2023-08-10T02:00:00</td>\n",
       "      <td>27.9</td>\n",
       "      <td>25.2</td>\n",
       "      <td>85.28</td>\n",
       "      <td>6.9</td>\n",
       "    </tr>\n",
       "    <tr>\n",
       "      <th>3</th>\n",
       "      <td>2023-08-10T03:00:00</td>\n",
       "      <td>28.0</td>\n",
       "      <td>26.0</td>\n",
       "      <td>88.92</td>\n",
       "      <td>7.6</td>\n",
       "    </tr>\n",
       "    <tr>\n",
       "      <th>4</th>\n",
       "      <td>2023-08-10T04:00:00</td>\n",
       "      <td>28.0</td>\n",
       "      <td>26.0</td>\n",
       "      <td>88.92</td>\n",
       "      <td>14.8</td>\n",
       "    </tr>\n",
       "  </tbody>\n",
       "</table>\n",
       "</div>"
      ],
      "text/plain": [
       "              datetime  temp   dew  humidity  windspeed\n",
       "0  2023-08-10T00:00:00  28.0  26.0     88.92       16.6\n",
       "1  2023-08-10T01:00:00  28.0  26.0     88.92       14.8\n",
       "2  2023-08-10T02:00:00  27.9  25.2     85.28        6.9\n",
       "3  2023-08-10T03:00:00  28.0  26.0     88.92        7.6\n",
       "4  2023-08-10T04:00:00  28.0  26.0     88.92       14.8"
      ]
     },
     "execution_count": 2,
     "metadata": {},
     "output_type": "execute_result"
    }
   ],
   "source": [
    "# Load the data from a CSV file\n",
    "file_path = os.path.join('..', 'Dataset', 'data.csv')\n",
    "df = pd.read_csv(file_path)\n",
    "\n",
    "# Display the first few rows of the dataframe\n",
    "df.head()"
   ]
  },
  {
   "cell_type": "code",
   "execution_count": 3,
   "id": "6fc2cf47",
   "metadata": {},
   "outputs": [
    {
     "data": {
      "text/html": [
       "<div>\n",
       "<style scoped>\n",
       "    .dataframe tbody tr th:only-of-type {\n",
       "        vertical-align: middle;\n",
       "    }\n",
       "\n",
       "    .dataframe tbody tr th {\n",
       "        vertical-align: top;\n",
       "    }\n",
       "\n",
       "    .dataframe thead th {\n",
       "        text-align: right;\n",
       "    }\n",
       "</style>\n",
       "<table border=\"1\" class=\"dataframe\">\n",
       "  <thead>\n",
       "    <tr style=\"text-align: right;\">\n",
       "      <th></th>\n",
       "      <th>temp</th>\n",
       "      <th>dew</th>\n",
       "      <th>humidity</th>\n",
       "      <th>windspeed</th>\n",
       "    </tr>\n",
       "    <tr>\n",
       "      <th>datetime</th>\n",
       "      <th></th>\n",
       "      <th></th>\n",
       "      <th></th>\n",
       "      <th></th>\n",
       "    </tr>\n",
       "  </thead>\n",
       "  <tbody>\n",
       "    <tr>\n",
       "      <th>2023-08-10 00:00:00</th>\n",
       "      <td>28.0</td>\n",
       "      <td>26.0</td>\n",
       "      <td>88.92</td>\n",
       "      <td>16.6</td>\n",
       "    </tr>\n",
       "    <tr>\n",
       "      <th>2023-08-10 01:00:00</th>\n",
       "      <td>28.0</td>\n",
       "      <td>26.0</td>\n",
       "      <td>88.92</td>\n",
       "      <td>14.8</td>\n",
       "    </tr>\n",
       "    <tr>\n",
       "      <th>2023-08-10 02:00:00</th>\n",
       "      <td>27.9</td>\n",
       "      <td>25.2</td>\n",
       "      <td>85.28</td>\n",
       "      <td>6.9</td>\n",
       "    </tr>\n",
       "    <tr>\n",
       "      <th>2023-08-10 03:00:00</th>\n",
       "      <td>28.0</td>\n",
       "      <td>26.0</td>\n",
       "      <td>88.92</td>\n",
       "      <td>7.6</td>\n",
       "    </tr>\n",
       "    <tr>\n",
       "      <th>2023-08-10 04:00:00</th>\n",
       "      <td>28.0</td>\n",
       "      <td>26.0</td>\n",
       "      <td>88.92</td>\n",
       "      <td>14.8</td>\n",
       "    </tr>\n",
       "    <tr>\n",
       "      <th>2023-08-10 05:00:00</th>\n",
       "      <td>28.0</td>\n",
       "      <td>25.3</td>\n",
       "      <td>85.29</td>\n",
       "      <td>3.9</td>\n",
       "    </tr>\n",
       "    <tr>\n",
       "      <th>2023-08-10 06:00:00</th>\n",
       "      <td>27.0</td>\n",
       "      <td>26.0</td>\n",
       "      <td>94.27</td>\n",
       "      <td>9.4</td>\n",
       "    </tr>\n",
       "    <tr>\n",
       "      <th>2023-08-10 07:00:00</th>\n",
       "      <td>28.0</td>\n",
       "      <td>25.7</td>\n",
       "      <td>87.28</td>\n",
       "      <td>13.1</td>\n",
       "    </tr>\n",
       "    <tr>\n",
       "      <th>2023-08-10 08:00:00</th>\n",
       "      <td>28.1</td>\n",
       "      <td>26.0</td>\n",
       "      <td>88.71</td>\n",
       "      <td>5.5</td>\n",
       "    </tr>\n",
       "    <tr>\n",
       "      <th>2023-08-10 09:00:00</th>\n",
       "      <td>29.0</td>\n",
       "      <td>26.7</td>\n",
       "      <td>87.36</td>\n",
       "      <td>21.2</td>\n",
       "    </tr>\n",
       "    <tr>\n",
       "      <th>2023-08-10 10:00:00</th>\n",
       "      <td>30.0</td>\n",
       "      <td>26.0</td>\n",
       "      <td>79.19</td>\n",
       "      <td>23.1</td>\n",
       "    </tr>\n",
       "    <tr>\n",
       "      <th>2023-08-10 11:00:00</th>\n",
       "      <td>29.4</td>\n",
       "      <td>25.2</td>\n",
       "      <td>78.02</td>\n",
       "      <td>14.9</td>\n",
       "    </tr>\n",
       "    <tr>\n",
       "      <th>2023-08-10 12:00:00</th>\n",
       "      <td>29.0</td>\n",
       "      <td>25.3</td>\n",
       "      <td>80.55</td>\n",
       "      <td>15.5</td>\n",
       "    </tr>\n",
       "    <tr>\n",
       "      <th>2023-08-10 13:00:00</th>\n",
       "      <td>30.0</td>\n",
       "      <td>25.0</td>\n",
       "      <td>74.63</td>\n",
       "      <td>16.0</td>\n",
       "    </tr>\n",
       "    <tr>\n",
       "      <th>2023-08-10 14:00:00</th>\n",
       "      <td>30.3</td>\n",
       "      <td>25.7</td>\n",
       "      <td>76.34</td>\n",
       "      <td>11.4</td>\n",
       "    </tr>\n",
       "    <tr>\n",
       "      <th>2023-08-10 15:00:00</th>\n",
       "      <td>29.7</td>\n",
       "      <td>26.4</td>\n",
       "      <td>82.43</td>\n",
       "      <td>21.8</td>\n",
       "    </tr>\n",
       "    <tr>\n",
       "      <th>2023-08-10 16:00:00</th>\n",
       "      <td>30.0</td>\n",
       "      <td>26.4</td>\n",
       "      <td>80.95</td>\n",
       "      <td>14.7</td>\n",
       "    </tr>\n",
       "    <tr>\n",
       "      <th>2023-08-10 17:00:00</th>\n",
       "      <td>29.5</td>\n",
       "      <td>25.2</td>\n",
       "      <td>77.75</td>\n",
       "      <td>14.7</td>\n",
       "    </tr>\n",
       "    <tr>\n",
       "      <th>2023-08-10 18:00:00</th>\n",
       "      <td>29.0</td>\n",
       "      <td>26.0</td>\n",
       "      <td>83.89</td>\n",
       "      <td>18.4</td>\n",
       "    </tr>\n",
       "    <tr>\n",
       "      <th>2023-08-10 19:00:00</th>\n",
       "      <td>29.0</td>\n",
       "      <td>26.0</td>\n",
       "      <td>83.90</td>\n",
       "      <td>18.4</td>\n",
       "    </tr>\n",
       "    <tr>\n",
       "      <th>2023-08-10 20:00:00</th>\n",
       "      <td>28.2</td>\n",
       "      <td>25.2</td>\n",
       "      <td>83.84</td>\n",
       "      <td>9.3</td>\n",
       "    </tr>\n",
       "    <tr>\n",
       "      <th>2023-08-10 21:00:00</th>\n",
       "      <td>28.0</td>\n",
       "      <td>26.0</td>\n",
       "      <td>88.92</td>\n",
       "      <td>13.0</td>\n",
       "    </tr>\n",
       "    <tr>\n",
       "      <th>2023-08-10 22:00:00</th>\n",
       "      <td>28.0</td>\n",
       "      <td>26.0</td>\n",
       "      <td>88.92</td>\n",
       "      <td>18.4</td>\n",
       "    </tr>\n",
       "    <tr>\n",
       "      <th>2023-08-10 23:00:00</th>\n",
       "      <td>28.1</td>\n",
       "      <td>25.5</td>\n",
       "      <td>85.89</td>\n",
       "      <td>3.9</td>\n",
       "    </tr>\n",
       "  </tbody>\n",
       "</table>\n",
       "</div>"
      ],
      "text/plain": [
       "                     temp   dew  humidity  windspeed\n",
       "datetime                                            \n",
       "2023-08-10 00:00:00  28.0  26.0     88.92       16.6\n",
       "2023-08-10 01:00:00  28.0  26.0     88.92       14.8\n",
       "2023-08-10 02:00:00  27.9  25.2     85.28        6.9\n",
       "2023-08-10 03:00:00  28.0  26.0     88.92        7.6\n",
       "2023-08-10 04:00:00  28.0  26.0     88.92       14.8\n",
       "2023-08-10 05:00:00  28.0  25.3     85.29        3.9\n",
       "2023-08-10 06:00:00  27.0  26.0     94.27        9.4\n",
       "2023-08-10 07:00:00  28.0  25.7     87.28       13.1\n",
       "2023-08-10 08:00:00  28.1  26.0     88.71        5.5\n",
       "2023-08-10 09:00:00  29.0  26.7     87.36       21.2\n",
       "2023-08-10 10:00:00  30.0  26.0     79.19       23.1\n",
       "2023-08-10 11:00:00  29.4  25.2     78.02       14.9\n",
       "2023-08-10 12:00:00  29.0  25.3     80.55       15.5\n",
       "2023-08-10 13:00:00  30.0  25.0     74.63       16.0\n",
       "2023-08-10 14:00:00  30.3  25.7     76.34       11.4\n",
       "2023-08-10 15:00:00  29.7  26.4     82.43       21.8\n",
       "2023-08-10 16:00:00  30.0  26.4     80.95       14.7\n",
       "2023-08-10 17:00:00  29.5  25.2     77.75       14.7\n",
       "2023-08-10 18:00:00  29.0  26.0     83.89       18.4\n",
       "2023-08-10 19:00:00  29.0  26.0     83.90       18.4\n",
       "2023-08-10 20:00:00  28.2  25.2     83.84        9.3\n",
       "2023-08-10 21:00:00  28.0  26.0     88.92       13.0\n",
       "2023-08-10 22:00:00  28.0  26.0     88.92       18.4\n",
       "2023-08-10 23:00:00  28.1  25.5     85.89        3.9"
      ]
     },
     "execution_count": 3,
     "metadata": {},
     "output_type": "execute_result"
    }
   ],
   "source": [
    "# Convert 'datetime' to a datetime object\n",
    "df['datetime'] = pd.to_datetime(df['datetime'])\n",
    "\n",
    "# Set 'datetime' as the index\n",
    "df.set_index('datetime', inplace=True)\n",
    "\n",
    "df.head(24)"
   ]
  },
  {
   "cell_type": "markdown",
   "id": "e5fb4d62",
   "metadata": {},
   "source": [
    "# Autoregression (AR)\n",
    "\n",
    "The autoregression (AR) method predicts the subsequent value in a sequence using a linear combination of previous observations. \n",
    "\n",
    "The notation for the model involves specifying the order of the model p as a parameter to the AR function, e.g. AR(p). For example, AR(1) is a first-order autoregression model.\n",
    "\n",
    "The method is best suited for single-variable time series that lack trend and seasonal components."
   ]
  },
  {
   "cell_type": "markdown",
   "id": "acfe0db1",
   "metadata": {},
   "source": [
    "# Example"
   ]
  },
  {
   "cell_type": "code",
   "execution_count": 12,
   "id": "70d2a5a9",
   "metadata": {},
   "outputs": [
    {
     "name": "stdout",
     "output_type": "stream",
     "text": [
      "[1.606475804265477, 2.0528871624728824, 3.3510638250265448, 4.202126575633575, 5.051321878267424, 6.31653823300866, 7.6671867703547925, 8.734160150056017, 9.071272411026088, 10.379800148235828, 11.286836069892617, 12.709544165448182, 13.717618142854894, 14.290551946699402, 15.657681722404902, 16.515763868857462, 17.316320904301264, 18.034532376062163, 19.0563946058564, 20.275738820569632, 21.966319075151024, 22.78623361960754, 23.786944699858573, 24.83829198862782, 25.166330827979863, 26.029495509389555, 27.472675521865554, 28.90124173011169, 29.15887157445701, 30.0563947078498, 31.474449283025518, 32.709465905299155, 33.48344671745039, 34.952621285457376, 35.56584538384878, 36.940563640529504, 37.559522933822024, 38.801677997236574, 39.39895019280923, 40.510843204063306, 41.23401905645023, 42.2017498690267, 43.793294398911165, 44.05559857234898, 45.32846628558527, 46.51815811322434, 47.20998094441331, 48.64709070278121, 49.92186543388154, 50.770735550370084, 51.761985358416936, 52.63128179852884, 53.26011661758838, 54.221383430412324, 55.32456129053488, 56.2963984708489, 57.41311950522239, 58.9537160552078, 59.80025715564731, 60.56518500271053, 61.487350996229374, 62.93418244310537, 63.618519704169465, 64.18388629307763, 65.37757417176589, 66.38879945591763, 67.04412083980328, 68.34019315105796, 69.21677827185893, 70.46853757229083, 71.15119820160643, 72.14693842270529, 73.41373825651065, 74.56331093857963, 75.72134019695504, 76.26275548716377, 77.94269272357027, 78.14235251310406, 79.44348864234857, 80.09927626459776, 81.78213952364752, 82.75555298442319, 83.14939231285784, 84.31684441077728, 85.44543351645028, 86.67448730693515, 87.48600638488189, 88.07404436257875, 89.32200898578367, 90.70302642770943, 91.74262185063391, 92.54780920865768, 93.38981617960947, 94.96791706176099, 95.18414498205576, 96.99681834080182, 97.05285953460347, 98.61655554614501, 99.46926736758859]\n"
     ]
    },
    {
     "data": {
      "image/png": "[encoded data removed]",
      "text/plain": [
       "<Figure size 640x480 with 1 Axes>"
      ]
     },
     "metadata": {},
     "output_type": "display_data"
    },
    {
     "name": "stdout",
     "output_type": "stream",
     "text": [
      "[100.46784276]\n"
     ]
    }
   ],
   "source": [
    "# AR example\n",
    "from statsmodels.tsa.ar_model import AutoReg\n",
    "from random import random\n",
    "\n",
    "# contrived dataset\n",
    "data = [x + random() for x in range(1, 100)]\n",
    "print(f\"data : {data}\")\n",
    "\n",
    "plt.plot(data)\n",
    "plt.show()\n",
    "\n",
    "# fit model\n",
    "model = AutoReg(data, lags=1)\n",
    "model_fit = model.fit()\n",
    "\n",
    "# make prediction\n",
    "yhat = model_fit.predict(len(data), len(data))\n",
    "print(yhat)\n"
   ]
  },
  {
   "cell_type": "code",
   "execution_count": null,
   "id": "e36a4fa9",
   "metadata": {},
   "outputs": [],
   "source": []
  },
  {
   "cell_type": "code",
   "execution_count": 13,
   "id": "d38cc59b",
   "metadata": {},
   "outputs": [
    {
     "name": "stderr",
     "output_type": "stream",
     "text": [
      "C:\\ProjectWork\\Basic_Python\\Neha Project\\Project Solar Care\\solar_venv\\lib\\site-packages\\statsmodels\\tsa\\base\\tsa_model.py:473: ValueWarning: No frequency information was provided, so inferred frequency H will be used.\n",
      "  self._init_dates(dates, freq)\n"
     ]
    }
   ],
   "source": [
    "# Split data into training and test sets (use the last 24 hours as test set)\n",
    "train_data = df['temp'][:-24]\n",
    "test_data = df['temp'][-24:]\n",
    "\n",
    "# Train the Autoregression model\n",
    "model = AutoReg(train_data, lags=24)  # 24 lag hours\n",
    "model_fitted = model.fit()\n"
   ]
  },
  {
   "cell_type": "code",
   "execution_count": 17,
   "id": "3e04ef8e",
   "metadata": {},
   "outputs": [
    {
     "name": "stdout",
     "output_type": "stream",
     "text": [
      "Model trained and saved.\n",
      "Model loaded.\n"
     ]
    }
   ],
   "source": [
    "# Save the trained model\n",
    "with open('temperature_ar_model.pkl', 'wb') as f:\n",
    "    pickle.dump(model_fitted, f)\n",
    "\n",
    "print(\"Model trained and saved.\")\n",
    "\n",
    "# Load the model for prediction\n",
    "with open('temperature_ar_model.pkl', 'rb') as f:\n",
    "    loaded_model = pickle.load(f)\n",
    "    \n",
    "print(\"Model loaded.\")"
   ]
  },
  {
   "cell_type": "code",
   "execution_count": 31,
   "id": "68d7d491",
   "metadata": {},
   "outputs": [
    {
     "name": "stdout",
     "output_type": "stream",
     "text": [
      "Next 24-hour temperature predictions : \n",
      "\n",
      "2024-08-26 00:00:00    27.7\n",
      "2024-08-26 01:00:00    27.3\n",
      "2024-08-26 02:00:00    26.9\n",
      "2024-08-26 03:00:00    27.0\n",
      "2024-08-26 04:00:00    26.8\n",
      "2024-08-26 05:00:00    26.4\n",
      "2024-08-26 06:00:00    26.8\n",
      "2024-08-26 07:00:00    27.2\n",
      "2024-08-26 08:00:00    27.2\n",
      "2024-08-26 09:00:00    27.5\n",
      "2024-08-26 10:00:00    27.9\n",
      "2024-08-26 11:00:00    28.0\n",
      "2024-08-26 12:00:00    27.8\n",
      "2024-08-26 13:00:00    27.8\n",
      "2024-08-26 14:00:00    27.7\n",
      "2024-08-26 15:00:00    27.4\n",
      "2024-08-26 16:00:00    27.3\n",
      "2024-08-26 17:00:00    27.5\n",
      "2024-08-26 18:00:00    27.6\n",
      "2024-08-26 19:00:00    27.6\n",
      "2024-08-26 20:00:00    27.8\n",
      "2024-08-26 21:00:00    27.9\n",
      "2024-08-26 22:00:00    27.9\n",
      "2024-08-26 23:00:00    27.8\n",
      "Freq: H, dtype: float64\n"
     ]
    },
    {
     "name": "stderr",
     "output_type": "stream",
     "text": [
      "C:\\ProjectWork\\Basic_Python\\Neha Project\\Project Solar Care\\solar_venv\\lib\\site-packages\\statsmodels\\tsa\\deterministic.py:308: UserWarning: Only PeriodIndexes, DatetimeIndexes with a frequency set, RangesIndexes, and Index with a unit increment support extending. The index is set will contain the position relative to the data length.\n",
      "  fcast_index = self._extend_index(index, steps, forecast_index)\n"
     ]
    }
   ],
   "source": [
    "# Make predictions for the next 24 hours\n",
    "predictions = loaded_model.predict(start=len(train_data), end=len(train_data) + 23)\n",
    "\n",
    "# Display the predictions\n",
    "print(\"Next 24-hour temperature predictions : \\n\")\n",
    "print(round(predictions,1))"
   ]
  },
  {
   "cell_type": "code",
   "execution_count": 25,
   "id": "5f7474ec",
   "metadata": {},
   "outputs": [
    {
     "data": {
      "text/plain": [
       "(9168, 9191)"
      ]
     },
     "execution_count": 25,
     "metadata": {},
     "output_type": "execute_result"
    }
   ],
   "source": [
    "len(train_data), len(train_data) + 23"
   ]
  },
  {
   "cell_type": "code",
   "execution_count": 29,
   "id": "2afb6326",
   "metadata": {},
   "outputs": [
    {
     "name": "stdout",
     "output_type": "stream",
     "text": [
      "Next 24-hour temperature predictions : \n",
      "\n",
      "2024-08-26 20:00:00    27.8\n",
      "2024-08-26 21:00:00    27.9\n",
      "2024-08-26 22:00:00    27.9\n",
      "2024-08-26 23:00:00    27.8\n",
      "2024-08-27 00:00:00    27.7\n",
      "2024-08-27 01:00:00    27.5\n",
      "2024-08-27 02:00:00    27.2\n",
      "2024-08-27 03:00:00    27.0\n",
      "2024-08-27 04:00:00    27.0\n",
      "2024-08-27 05:00:00    26.9\n",
      "2024-08-27 06:00:00    26.9\n",
      "2024-08-27 07:00:00    27.1\n",
      "2024-08-27 08:00:00    27.3\n",
      "2024-08-27 09:00:00    27.5\n",
      "2024-08-27 10:00:00    27.7\n",
      "2024-08-27 11:00:00    27.8\n",
      "2024-08-27 12:00:00    27.8\n",
      "2024-08-27 13:00:00    27.8\n",
      "2024-08-27 14:00:00    27.7\n",
      "2024-08-27 15:00:00    27.6\n",
      "2024-08-27 16:00:00    27.6\n",
      "Freq: H, dtype: float64\n"
     ]
    },
    {
     "name": "stderr",
     "output_type": "stream",
     "text": [
      "C:\\ProjectWork\\Basic_Python\\Neha Project\\Project Solar Care\\solar_venv\\lib\\site-packages\\statsmodels\\tsa\\deterministic.py:308: UserWarning: Only PeriodIndexes, DatetimeIndexes with a frequency set, RangesIndexes, and Index with a unit increment support extending. The index is set will contain the position relative to the data length.\n",
      "  fcast_index = self._extend_index(index, steps, forecast_index)\n"
     ]
    }
   ],
   "source": [
    "# Make predictions for the next 24 hours\n",
    "predictions = loaded_model.predict(start=len(train_data) + 20, end=len(train_data) + 40)\n",
    "\n",
    "# Display the predictions\n",
    "print(\"Next 24-hour temperature predictions : \\n\")\n",
    "print(round(predictions,1))"
   ]
  },
  {
   "cell_type": "code",
   "execution_count": 30,
   "id": "3ec7ed74",
   "metadata": {},
   "outputs": [
    {
     "data": {
      "text/plain": [
       "datetime\n",
       "2024-08-26 00:00:00    28.0\n",
       "2024-08-26 01:00:00    28.0\n",
       "2024-08-26 02:00:00    28.0\n",
       "2024-08-26 03:00:00    28.0\n",
       "2024-08-26 04:00:00    28.0\n",
       "2024-08-26 05:00:00    28.0\n",
       "2024-08-26 06:00:00    28.0\n",
       "2024-08-26 07:00:00    28.0\n",
       "2024-08-26 08:00:00    28.0\n",
       "2024-08-26 09:00:00    28.5\n",
       "2024-08-26 10:00:00    28.9\n",
       "2024-08-26 11:00:00    28.9\n",
       "2024-08-26 12:00:00    28.9\n",
       "2024-08-26 13:00:00    28.9\n",
       "2024-08-26 14:00:00    28.9\n",
       "2024-08-26 15:00:00    28.9\n",
       "2024-08-26 16:00:00    28.9\n",
       "2024-08-26 17:00:00    28.9\n",
       "2024-08-26 18:00:00    28.0\n",
       "2024-08-26 19:00:00    28.0\n",
       "2024-08-26 20:00:00    28.0\n",
       "2024-08-26 21:00:00    28.0\n",
       "2024-08-26 22:00:00    27.0\n",
       "2024-08-26 23:00:00    28.0\n",
       "Name: temp, dtype: float64"
      ]
     },
     "execution_count": 30,
     "metadata": {},
     "output_type": "execute_result"
    }
   ],
   "source": [
    "test_data"
   ]
  },
  {
   "cell_type": "code",
   "execution_count": 34,
   "id": "73dc95cc",
   "metadata": {},
   "outputs": [
    {
     "data": {
      "text/plain": [
       "(array([28. , 28. , 28. , 28. , 28. , 28. , 28. , 28. , 28. , 28.5, 28.9,\n",
       "        28.9, 28.9, 28.9, 28.9, 28.9, 28.9, 28.9, 28. , 28. , 28. , 28. ,\n",
       "        27. , 28. ]),\n",
       " array([27.7, 27.3, 26.9, 27. , 26.8, 26.4, 26.8, 27.2, 27.2, 27.5, 27.9,\n",
       "        28. , 27.8, 27.8, 27.7, 27.4, 27.3, 27.5, 27.6, 27.6, 27.8, 27.9,\n",
       "        27.9, 27.8]))"
      ]
     },
     "execution_count": 34,
     "metadata": {},
     "output_type": "execute_result"
    }
   ],
   "source": [
    "np.array(round(test_data,1)), np.array(round(predictions,1))"
   ]
  },
  {
   "cell_type": "code",
   "execution_count": 35,
   "id": "1be25540",
   "metadata": {},
   "outputs": [
    {
     "name": "stdout",
     "output_type": "stream",
     "text": [
      "Evaluation Results:\n",
      "MAE: 0.90\n",
      "MSE: 1.01\n",
      "RMSE: 1.00\n",
      "MAPE: 3.19\n"
     ]
    }
   ],
   "source": [
    "import numpy as np\n",
    "\n",
    "def evaluate_time_series(actual, predicted):\n",
    "    \"\"\"\n",
    "    Evaluate the performance of time series predictions using common error metrics.\n",
    "    \n",
    "    Parameters:\n",
    "    actual (array-like): The actual values of the time series.\n",
    "    predicted (array-like): The predicted values of the time series.\n",
    "    \n",
    "    Returns:\n",
    "    dict: A dictionary containing MAE, MSE, RMSE, and MAPE values.\n",
    "    \"\"\"\n",
    "    # Convert inputs to numpy arrays if they are not already\n",
    "    actual = np.array(actual)\n",
    "    predicted = np.array(predicted)\n",
    "    \n",
    "    # Calculate error metrics\n",
    "    mae = np.mean(np.abs(actual - predicted))\n",
    "    mse = np.mean((actual - predicted) ** 2)\n",
    "    rmse = np.sqrt(mse)\n",
    "    mape = np.mean(np.abs((actual - predicted) / actual)) * 100\n",
    "    \n",
    "    # Return a dictionary of the results\n",
    "    return {\n",
    "        'MAE': mae,\n",
    "        'MSE': mse,\n",
    "        'RMSE': rmse,\n",
    "        'MAPE': mape\n",
    "    }\n",
    "\n",
    "# Usage\n",
    "actual_values = round(test_data,1)\n",
    "predicted_values = round(predictions,1)\n",
    "\n",
    "results = evaluate_time_series(actual_values, predicted_values)\n",
    "print(\"Evaluation Results:\")\n",
    "for metric, value in results.items():\n",
    "    print(f\"{metric}: {value:.2f}\")\n"
   ]
  },
  {
   "cell_type": "code",
   "execution_count": 40,
   "id": "36b124f5",
   "metadata": {},
   "outputs": [
    {
     "name": "stdout",
     "output_type": "stream",
     "text": [
      "Temperature predictions from 2024-08-01 00:00:00 to 2024-08-02 00:00:00 : \n",
      "\n",
      "2024-08-01 00:00:00    27.8\n",
      "2024-08-01 01:00:00    27.7\n",
      "2024-08-01 02:00:00    27.8\n",
      "2024-08-01 03:00:00    27.0\n",
      "2024-08-01 04:00:00    27.0\n",
      "2024-08-01 05:00:00    26.8\n",
      "2024-08-01 06:00:00    27.3\n",
      "2024-08-01 07:00:00    27.4\n",
      "2024-08-01 08:00:00    28.1\n",
      "2024-08-01 09:00:00    28.5\n",
      "2024-08-01 10:00:00    29.5\n",
      "2024-08-01 11:00:00    29.9\n",
      "2024-08-01 12:00:00    29.8\n",
      "2024-08-01 13:00:00    30.4\n",
      "2024-08-01 14:00:00    29.9\n",
      "2024-08-01 15:00:00    29.5\n",
      "2024-08-01 16:00:00    29.2\n",
      "2024-08-01 17:00:00    29.3\n",
      "2024-08-01 18:00:00    28.8\n",
      "2024-08-01 19:00:00    28.3\n",
      "2024-08-01 20:00:00    27.7\n",
      "2024-08-01 21:00:00    28.0\n",
      "2024-08-01 22:00:00    27.6\n",
      "2024-08-01 23:00:00    27.1\n",
      "2024-08-02 00:00:00    27.3\n",
      "Freq: H, dtype: float64\n"
     ]
    }
   ],
   "source": [
    "# Make predictions using specific datetime strings\n",
    "start_date = '2024-08-01 00:00:00'\n",
    "end_date = '2024-08-02 00:00:00'\n",
    "\n",
    "predictions = loaded_model.predict(start=start_date, end=end_date)\n",
    "\n",
    "# Display the predictions\n",
    "print(\"Temperature predictions from {} to {} : \\n\".format(start_date, end_date))\n",
    "print(round(predictions,1))"
   ]
  },
  {
   "cell_type": "markdown",
   "id": "7c79cfe0",
   "metadata": {},
   "source": [
    "# Moving Average (MA)\n",
    "\n",
    "The Moving Average (MA) method models predict the next step in the sequence as a linear function of the residual errors from a mean process at prior time steps.\n",
    "\n",
    "It’s important to note that a Moving Average model is different from calculating the moving average of the time series.\n",
    "\n",
    "The notation for the model involves specifying the order of the model q as a parameter to the MA function, e.g. MA(q). For example, MA(1) is a first-order moving average model.\n",
    "\n",
    "The method is suitable for univariate time series without trend and seasonal components.\n",
    "\n",
    "We can use the ARIMA class to create an MA model and set a zeroth-order AR model. We must specify the order of the MA model in the order argument."
   ]
  },
  {
   "cell_type": "code",
   "execution_count": 41,
   "id": "8240c5db",
   "metadata": {},
   "outputs": [
    {
     "name": "stderr",
     "output_type": "stream",
     "text": [
      "C:\\ProjectWork\\Basic_Python\\Neha Project\\Project Solar Care\\solar_venv\\lib\\site-packages\\statsmodels\\tsa\\base\\tsa_model.py:473: ValueWarning: No frequency information was provided, so inferred frequency H will be used.\n",
      "  self._init_dates(dates, freq)\n",
      "C:\\ProjectWork\\Basic_Python\\Neha Project\\Project Solar Care\\solar_venv\\lib\\site-packages\\statsmodels\\tsa\\base\\tsa_model.py:473: ValueWarning: No frequency information was provided, so inferred frequency H will be used.\n",
      "  self._init_dates(dates, freq)\n",
      "C:\\ProjectWork\\Basic_Python\\Neha Project\\Project Solar Care\\solar_venv\\lib\\site-packages\\statsmodels\\tsa\\base\\tsa_model.py:473: ValueWarning: No frequency information was provided, so inferred frequency H will be used.\n",
      "  self._init_dates(dates, freq)\n"
     ]
    }
   ],
   "source": [
    "# MA example\n",
    "from statsmodels.tsa.arima.model import ARIMA\n",
    "\n",
    "# fit model\n",
    "model = ARIMA(train_data, order=(0, 0, 1))\n",
    "model_fit = model.fit()\n"
   ]
  },
  {
   "cell_type": "code",
   "execution_count": 42,
   "id": "cf383eea",
   "metadata": {},
   "outputs": [
    {
     "name": "stdout",
     "output_type": "stream",
     "text": [
      "Model trained and saved.\n",
      "Model loaded.\n"
     ]
    }
   ],
   "source": [
    "\n",
    "# Save the trained model\n",
    "with open('temperature_ma_model.pkl', 'wb') as f:\n",
    "    pickle.dump(model_fitted, f)\n",
    "\n",
    "print(\"Model trained and saved.\")\n",
    "\n",
    "# Load the model for prediction\n",
    "with open('temperature_ma_model.pkl', 'rb') as f:\n",
    "    loaded_model = pickle.load(f)\n",
    "    \n",
    "print(\"Model loaded.\")\n",
    "\n"
   ]
  },
  {
   "cell_type": "code",
   "execution_count": 43,
   "id": "49434616",
   "metadata": {},
   "outputs": [
    {
     "name": "stdout",
     "output_type": "stream",
     "text": [
      "Temperature predictions from 2024-08-01 00:00:00 to 2024-08-02 00:00:00 : \n",
      "\n",
      "2024-08-26 00:00:00    27.7\n",
      "2024-08-26 01:00:00    27.3\n",
      "2024-08-26 02:00:00    26.9\n",
      "2024-08-26 03:00:00    27.0\n",
      "2024-08-26 04:00:00    26.8\n",
      "2024-08-26 05:00:00    26.4\n",
      "2024-08-26 06:00:00    26.8\n",
      "2024-08-26 07:00:00    27.2\n",
      "2024-08-26 08:00:00    27.2\n",
      "2024-08-26 09:00:00    27.5\n",
      "2024-08-26 10:00:00    27.9\n",
      "2024-08-26 11:00:00    28.0\n",
      "2024-08-26 12:00:00    27.8\n",
      "2024-08-26 13:00:00    27.8\n",
      "2024-08-26 14:00:00    27.7\n",
      "2024-08-26 15:00:00    27.4\n",
      "2024-08-26 16:00:00    27.3\n",
      "2024-08-26 17:00:00    27.5\n",
      "2024-08-26 18:00:00    27.6\n",
      "2024-08-26 19:00:00    27.6\n",
      "2024-08-26 20:00:00    27.8\n",
      "2024-08-26 21:00:00    27.9\n",
      "2024-08-26 22:00:00    27.9\n",
      "2024-08-26 23:00:00    27.8\n",
      "Freq: H, dtype: float64\n"
     ]
    },
    {
     "name": "stderr",
     "output_type": "stream",
     "text": [
      "C:\\ProjectWork\\Basic_Python\\Neha Project\\Project Solar Care\\solar_venv\\lib\\site-packages\\statsmodels\\tsa\\deterministic.py:308: UserWarning: Only PeriodIndexes, DatetimeIndexes with a frequency set, RangesIndexes, and Index with a unit increment support extending. The index is set will contain the position relative to the data length.\n",
      "  fcast_index = self._extend_index(index, steps, forecast_index)\n"
     ]
    }
   ],
   "source": [
    "# make prediction\n",
    "predictions = loaded_model.predict(start=len(train_data), end=len(train_data) + 23)\n",
    "\n",
    "# Display the predictions\n",
    "print(\"Temperature predictions from {} to {} : \\n\".format(start_date, end_date))\n",
    "print(round(predictions,1))"
   ]
  },
  {
   "cell_type": "code",
   "execution_count": 44,
   "id": "4e32a511",
   "metadata": {},
   "outputs": [
    {
     "name": "stdout",
     "output_type": "stream",
     "text": [
      "Evaluation Results:\n",
      "MAE: 0.90\n",
      "MSE: 1.01\n",
      "RMSE: 1.00\n",
      "MAPE: 3.19\n"
     ]
    }
   ],
   "source": [
    "# Usage\n",
    "actual_values = round(test_data,1)\n",
    "predicted_values = round(predictions,1)\n",
    "\n",
    "results = evaluate_time_series(actual_values, predicted_values)\n",
    "print(\"Evaluation Results:\")\n",
    "for metric, value in results.items():\n",
    "    print(f\"{metric}: {value:.2f}\")\n"
   ]
  },
  {
   "cell_type": "code",
   "execution_count": null,
   "id": "900b12c7",
   "metadata": {},
   "outputs": [],
   "source": []
  }
 ],
 "metadata": {
  "kernelspec": {
   "display_name": "Python 3 (ipykernel)",
   "language": "python",
   "name": "python3"
  },
  "language_info": {
   "codemirror_mode": {
    "name": "ipython",
    "version": 3
   },
   "file_extension": ".py",
   "mimetype": "text/x-python",
   "name": "python",
   "nbconvert_exporter": "python",
   "pygments_lexer": "ipython3",
   "version": "3.10.11"
  }
 },
 "nbformat": 4,
 "nbformat_minor": 5
}
