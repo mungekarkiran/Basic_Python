{
 "cells": [
  {
   "cell_type": "code",
   "execution_count": 15,
   "id": "befac703",
   "metadata": {},
   "outputs": [],
   "source": [
    "import numpy as np\n",
    "import pandas as pd\n",
    "import os\n",
    "from glob import glob\n",
    "from keras.models import load_model\n",
    "from PIL import Image\n",
    "import shutil\n",
    "import time\n",
    "import tqdm"
   ]
  },
  {
   "cell_type": "code",
   "execution_count": 16,
   "id": "2683332a",
   "metadata": {},
   "outputs": [
    {
     "name": "stdout",
     "output_type": "stream",
     "text": [
      "Model: \"sequential\"\n",
      "_________________________________________________________________\n",
      " Layer (type)                Output Shape              Param #   \n",
      "=================================================================\n",
      " conv2d (Conv2D)             (None, 46, 46, 128)       1280      \n",
      "                                                                 \n",
      " max_pooling2d (MaxPooling2  (None, 15, 15, 128)       0         \n",
      " D)                                                              \n",
      "                                                                 \n",
      " conv2d_1 (Conv2D)           (None, 11, 11, 128)       409728    \n",
      "                                                                 \n",
      " max_pooling2d_1 (MaxPoolin  (None, 3, 3, 128)         0         \n",
      " g2D)                                                            \n",
      "                                                                 \n",
      " flatten (Flatten)           (None, 1152)              0         \n",
      "                                                                 \n",
      " dense (Dense)               (None, 1024)              1180672   \n",
      "                                                                 \n",
      " dropout (Dropout)           (None, 1024)              0         \n",
      "                                                                 \n",
      " dense_1 (Dense)             (None, 512)               524800    \n",
      "                                                                 \n",
      " dense_2 (Dense)             (None, 256)               131328    \n",
      "                                                                 \n",
      " dense_3 (Dense)             (None, 7)                 1799      \n",
      "                                                                 \n",
      "=================================================================\n",
      "Total params: 2249607 (8.58 MB)\n",
      "Trainable params: 2249607 (8.58 MB)\n",
      "Non-trainable params: 0 (0.00 Byte)\n",
      "_________________________________________________________________\n"
     ]
    }
   ],
   "source": [
    "model = load_model('models/model_17_0.559_1.183.h5') # /content/model_18_0.636_0.994.h5\n",
    "model.summary()"
   ]
  },
  {
   "cell_type": "code",
   "execution_count": 24,
   "id": "68035ac6",
   "metadata": {
    "scrolled": true
   },
   "outputs": [
    {
     "name": "stderr",
     "output_type": "stream",
     "text": [
      "\r",
      "  0%|                                                                                                                                         | 0/4002 [00:00<?, ?it/s]"
     ]
    },
    {
     "name": "stdout",
     "output_type": "stream",
     "text": [
      "dataset\\data\\6\\10007.jpg\n",
      "1/1 [==============================] - 0s 36ms/step\n",
      "dataset\\data\\6\\10009.jpg\n",
      "1/1 [==============================] - 0s 21ms/step\n"
     ]
    },
    {
     "name": "stderr",
     "output_type": "stream",
     "text": [
      "\r",
      "  0%|                                                                                                                                 | 2/4002 [00:00<05:48, 11.48it/s]"
     ]
    },
    {
     "name": "stdout",
     "output_type": "stream",
     "text": [
      "dataset\\data\\6\\10011.jpg\n",
      "1/1 [==============================] - 0s 21ms/step\n",
      "dataset\\data\\6\\10013.jpg\n",
      "1/1 [==============================] - 0s 25ms/step\n"
     ]
    },
    {
     "name": "stderr",
     "output_type": "stream",
     "text": [
      "\r",
      "  0%|▏                                                                                                                                | 4/4002 [00:00<06:01, 11.07it/s]"
     ]
    },
    {
     "name": "stdout",
     "output_type": "stream",
     "text": [
      "dataset\\data\\6\\10056.jpg\n",
      "1/1 [==============================] - 0s 26ms/step\n",
      "dataset\\data\\6\\10061.jpg\n",
      "1/1 [==============================] - 0s 31ms/step\n"
     ]
    },
    {
     "name": "stderr",
     "output_type": "stream",
     "text": [
      "\r",
      "  0%|▏                                                                                                                                | 6/4002 [00:00<05:54, 11.28it/s]"
     ]
    },
    {
     "name": "stdout",
     "output_type": "stream",
     "text": [
      "dataset\\data\\6\\10076.jpg\n",
      "1/1 [==============================] - 0s 35ms/step\n",
      "dataset\\data\\6\\10080.jpg\n",
      "1/1 [==============================] - 0s 20ms/step\n"
     ]
    },
    {
     "name": "stderr",
     "output_type": "stream",
     "text": [
      "\r",
      "  0%|▎                                                                                                                                | 8/4002 [00:00<05:37, 11.83it/s]"
     ]
    },
    {
     "name": "stdout",
     "output_type": "stream",
     "text": [
      "dataset\\data\\6\\10082.jpg\n",
      "1/1 [==============================] - 0s 28ms/step\n",
      "dataset\\data\\6\\10087.jpg\n",
      "1/1 [==============================] - 0s 20ms/step\n"
     ]
    },
    {
     "name": "stderr",
     "output_type": "stream",
     "text": [
      "\r",
      "  0%|▎                                                                                                                               | 10/4002 [00:00<05:23, 12.33it/s]"
     ]
    },
    {
     "name": "stdout",
     "output_type": "stream",
     "text": [
      "dataset\\data\\6\\10097.jpg\n",
      "1/1 [==============================] - 0s 26ms/step\n",
      "dataset\\data\\6\\10144.jpg\n",
      "1/1 [==============================] - 0s 28ms/step\n"
     ]
    },
    {
     "name": "stderr",
     "output_type": "stream",
     "text": [
      "\r",
      "  0%|▍                                                                                                                               | 12/4002 [00:00<05:18, 12.53it/s]"
     ]
    },
    {
     "name": "stdout",
     "output_type": "stream",
     "text": [
      "dataset\\data\\6\\10162.jpg\n",
      "1/1 [==============================] - 0s 31ms/step\n",
      "dataset\\data\\6\\10184.jpg\n",
      "1/1 [==============================] - 0s 35ms/step\n"
     ]
    },
    {
     "name": "stderr",
     "output_type": "stream",
     "text": [
      "\r",
      "  0%|▍                                                                                                                               | 14/4002 [00:01<05:40, 11.71it/s]"
     ]
    },
    {
     "name": "stdout",
     "output_type": "stream",
     "text": [
      "dataset\\data\\6\\10185.jpg\n",
      "1/1 [==============================] - 0s 30ms/step\n",
      "dataset\\data\\6\\10211.jpg\n",
      "1/1 [==============================] - 0s 25ms/step\n"
     ]
    },
    {
     "name": "stderr",
     "output_type": "stream",
     "text": [
      "\r",
      "  0%|▌                                                                                                                               | 16/4002 [00:01<05:48, 11.44it/s]"
     ]
    },
    {
     "name": "stdout",
     "output_type": "stream",
     "text": [
      "dataset\\data\\6\\10213.jpg\n",
      "1/1 [==============================] - 0s 26ms/step\n",
      "dataset\\data\\6\\10227.jpg\n",
      "1/1 [==============================] - 0s 28ms/step\n"
     ]
    },
    {
     "name": "stderr",
     "output_type": "stream",
     "text": [
      "\r",
      "  0%|▌                                                                                                                               | 18/4002 [00:01<05:35, 11.86it/s]"
     ]
    },
    {
     "name": "stdout",
     "output_type": "stream",
     "text": [
      "dataset\\data\\6\\10232.jpg\n",
      "1/1 [==============================] - 0s 35ms/step\n",
      "dataset\\data\\6\\10241.jpg\n",
      "1/1 [==============================] - 0s 41ms/step\n"
     ]
    },
    {
     "name": "stderr",
     "output_type": "stream",
     "text": [
      "\r",
      "  0%|▋                                                                                                                               | 20/4002 [00:01<06:14, 10.64it/s]"
     ]
    },
    {
     "name": "stdout",
     "output_type": "stream",
     "text": [
      "dataset\\data\\6\\10246.jpg\n",
      "1/1 [==============================] - 0s 30ms/step\n",
      "dataset\\data\\6\\10249.jpg\n",
      "1/1 [==============================] - 0s 16ms/step\n"
     ]
    },
    {
     "name": "stderr",
     "output_type": "stream",
     "text": [
      "\r",
      "  1%|▋                                                                                                                               | 22/4002 [00:01<06:18, 10.52it/s]"
     ]
    },
    {
     "name": "stdout",
     "output_type": "stream",
     "text": [
      "dataset\\data\\6\\10256.jpg\n",
      "1/1 [==============================] - 0s 38ms/step\n",
      "dataset\\data\\6\\10259.jpg\n",
      "1/1 [==============================] - 0s 30ms/step\n"
     ]
    },
    {
     "name": "stderr",
     "output_type": "stream",
     "text": [
      "\r",
      "  1%|▊                                                                                                                               | 24/4002 [00:02<05:59, 11.07it/s]"
     ]
    },
    {
     "name": "stdout",
     "output_type": "stream",
     "text": [
      "dataset\\data\\6\\10260.jpg\n",
      "1/1 [==============================] - 0s 33ms/step\n",
      "dataset\\data\\6\\10261.jpg\n",
      "1/1 [==============================] - 0s 21ms/step\n"
     ]
    },
    {
     "name": "stderr",
     "output_type": "stream",
     "text": [
      "\r",
      "  1%|▊                                                                                                                               | 26/4002 [00:02<05:44, 11.52it/s]"
     ]
    },
    {
     "name": "stdout",
     "output_type": "stream",
     "text": [
      "dataset\\data\\6\\10268.jpg\n",
      "1/1 [==============================] - 0s 31ms/step\n",
      "dataset\\data\\6\\1028.jpg\n",
      "1/1 [==============================] - 0s 33ms/step\n"
     ]
    },
    {
     "name": "stderr",
     "output_type": "stream",
     "text": [
      "\r",
      "  1%|▉                                                                                                                               | 28/4002 [00:02<05:41, 11.64it/s]"
     ]
    },
    {
     "name": "stdout",
     "output_type": "stream",
     "text": [
      "dataset\\data\\6\\10282.jpg\n",
      "1/1 [==============================] - 0s 28ms/step\n",
      "dataset\\data\\6\\10288.jpg\n",
      "1/1 [==============================] - 0s 36ms/step\n"
     ]
    },
    {
     "name": "stderr",
     "output_type": "stream",
     "text": [
      "\r",
      "  1%|▉                                                                                                                               | 30/4002 [00:02<05:39, 11.68it/s]"
     ]
    },
    {
     "name": "stdout",
     "output_type": "stream",
     "text": [
      "dataset\\data\\6\\10306.jpg\n",
      "1/1 [==============================] - 0s 19ms/step\n",
      "dataset\\data\\6\\1033.jpg\n",
      "1/1 [==============================] - 0s 27ms/step\n"
     ]
    },
    {
     "name": "stderr",
     "output_type": "stream",
     "text": [
      "\r",
      "  1%|█                                                                                                                               | 32/4002 [00:02<05:48, 11.41it/s]"
     ]
    },
    {
     "name": "stdout",
     "output_type": "stream",
     "text": [
      "dataset\\data\\6\\10333.jpg\n",
      "1/1 [==============================] - 0s 24ms/step\n",
      "dataset\\data\\6\\10337.jpg\n",
      "1/1 [==============================] - 0s 19ms/step\n"
     ]
    },
    {
     "name": "stderr",
     "output_type": "stream",
     "text": [
      "\r",
      "  1%|█                                                                                                                               | 34/4002 [00:02<05:39, 11.68it/s]"
     ]
    },
    {
     "name": "stdout",
     "output_type": "stream",
     "text": [
      "dataset\\data\\6\\10356.jpg\n",
      "1/1 [==============================] - 0s 31ms/step\n",
      "dataset\\data\\6\\10357.jpg\n",
      "1/1 [==============================] - 0s 29ms/step\n"
     ]
    },
    {
     "name": "stderr",
     "output_type": "stream",
     "text": [
      "\r",
      "  1%|█▏                                                                                                                              | 36/4002 [00:03<05:33, 11.90it/s]"
     ]
    },
    {
     "name": "stdout",
     "output_type": "stream",
     "text": [
      "dataset\\data\\6\\10360.jpg\n",
      "1/1 [==============================] - 0s 37ms/step\n",
      "dataset\\data\\6\\10365.jpg\n",
      "1/1 [==============================] - 0s 31ms/step\n"
     ]
    },
    {
     "name": "stderr",
     "output_type": "stream",
     "text": [
      "\r",
      "  1%|█▏                                                                                                                              | 38/4002 [00:03<05:39, 11.66it/s]"
     ]
    },
    {
     "name": "stdout",
     "output_type": "stream",
     "text": [
      "dataset\\data\\6\\10372.jpg\n",
      "1/1 [==============================] - 0s 73ms/step\n",
      "dataset\\data\\6\\10374.jpg\n",
      "1/1 [==============================] - 0s 45ms/step\n"
     ]
    },
    {
     "name": "stderr",
     "output_type": "stream",
     "text": [
      "\r",
      "  1%|█▎                                                                                                                              | 40/4002 [00:03<06:33, 10.06it/s]"
     ]
    },
    {
     "name": "stdout",
     "output_type": "stream",
     "text": [
      "dataset\\data\\6\\10391.jpg\n",
      "1/1 [==============================] - 0s 29ms/step\n",
      "dataset\\data\\6\\10392.jpg\n",
      "1/1 [==============================] - 0s 35ms/step\n"
     ]
    },
    {
     "name": "stderr",
     "output_type": "stream",
     "text": [
      "\r",
      "  1%|█▎                                                                                                                              | 42/4002 [00:03<06:44,  9.78it/s]"
     ]
    },
    {
     "name": "stdout",
     "output_type": "stream",
     "text": [
      "dataset\\data\\6\\10395.jpg\n",
      "1/1 [==============================] - 0s 22ms/step\n",
      "dataset\\data\\6\\1040.jpg\n",
      "1/1 [==============================] - 0s 23ms/step\n"
     ]
    },
    {
     "name": "stderr",
     "output_type": "stream",
     "text": [
      "\r",
      "  1%|█▍                                                                                                                              | 44/4002 [00:03<06:10, 10.69it/s]"
     ]
    },
    {
     "name": "stdout",
     "output_type": "stream",
     "text": [
      "dataset\\data\\6\\10402.jpg\n",
      "1/1 [==============================] - 0s 33ms/step\n",
      "dataset\\data\\6\\10408.jpg\n",
      "1/1 [==============================] - 0s 13ms/step\n"
     ]
    },
    {
     "name": "stderr",
     "output_type": "stream",
     "text": [
      "\r",
      "  1%|█▍                                                                                                                              | 46/4002 [00:04<05:59, 11.02it/s]"
     ]
    },
    {
     "name": "stdout",
     "output_type": "stream",
     "text": [
      "dataset\\data\\6\\10410.jpg\n",
      "1/1 [==============================] - 0s 17ms/step\n",
      "dataset\\data\\6\\10411.jpg\n",
      "1/1 [==============================] - 0s 29ms/step\n"
     ]
    },
    {
     "name": "stderr",
     "output_type": "stream",
     "text": [
      "\r",
      "  1%|█▌                                                                                                                              | 48/4002 [00:04<05:51, 11.24it/s]"
     ]
    },
    {
     "name": "stdout",
     "output_type": "stream",
     "text": [
      "dataset\\data\\6\\10417.jpg\n",
      "1/1 [==============================] - 0s 17ms/step\n",
      "dataset\\data\\6\\1042.jpg\n",
      "1/1 [==============================] - 0s 30ms/step\n"
     ]
    },
    {
     "name": "stderr",
     "output_type": "stream",
     "text": [
      "\r",
      "  1%|█▌                                                                                                                              | 50/4002 [00:04<05:40, 11.62it/s]"
     ]
    },
    {
     "name": "stdout",
     "output_type": "stream",
     "text": [
      "dataset\\data\\6\\1043.jpg\n",
      "1/1 [==============================] - 0s 26ms/step\n",
      "dataset\\data\\6\\10444.jpg\n",
      "1/1 [==============================] - 0s 15ms/step\n"
     ]
    },
    {
     "name": "stderr",
     "output_type": "stream",
     "text": [
      "\r",
      "  1%|█▋                                                                                                                              | 52/4002 [00:04<05:32, 11.89it/s]"
     ]
    },
    {
     "name": "stdout",
     "output_type": "stream",
     "text": [
      "dataset\\data\\6\\10446.jpg\n",
      "1/1 [==============================] - 0s 31ms/step\n",
      "dataset\\data\\6\\10473.jpg\n",
      "1/1 [==============================] - 0s 18ms/step\n"
     ]
    },
    {
     "name": "stderr",
     "output_type": "stream",
     "text": [
      "\r",
      "  1%|█▋                                                                                                                              | 54/4002 [00:04<05:28, 12.03it/s]"
     ]
    },
    {
     "name": "stdout",
     "output_type": "stream",
     "text": [
      "dataset\\data\\6\\10491.jpg\n",
      "1/1 [==============================] - 0s 27ms/step\n",
      "dataset\\data\\6\\1050.jpg\n",
      "1/1 [==============================] - 0s 17ms/step\n"
     ]
    },
    {
     "name": "stderr",
     "output_type": "stream",
     "text": [
      "\r",
      "  1%|█▊                                                                                                                              | 56/4002 [00:04<05:19, 12.35it/s]"
     ]
    },
    {
     "name": "stdout",
     "output_type": "stream",
     "text": [
      "dataset\\data\\6\\10505.jpg\n",
      "1/1 [==============================] - 0s 28ms/step\n",
      "dataset\\data\\6\\10527.jpg\n",
      "1/1 [==============================] - 0s 29ms/step\n"
     ]
    },
    {
     "name": "stderr",
     "output_type": "stream",
     "text": [
      "\r",
      "  1%|█▊                                                                                                                              | 58/4002 [00:05<05:16, 12.45it/s]"
     ]
    },
    {
     "name": "stdout",
     "output_type": "stream",
     "text": [
      "dataset\\data\\6\\10530.jpg\n",
      "1/1 [==============================] - 0s 28ms/step\n",
      "dataset\\data\\6\\10545.jpg\n",
      "1/1 [==============================] - 0s 30ms/step\n"
     ]
    },
    {
     "name": "stderr",
     "output_type": "stream",
     "text": [
      "\r",
      "  1%|█▉                                                                                                                              | 60/4002 [00:05<05:18, 12.39it/s]"
     ]
    },
    {
     "name": "stdout",
     "output_type": "stream",
     "text": [
      "dataset\\data\\6\\10556.jpg\n",
      "1/1 [==============================] - 0s 17ms/step\n",
      "dataset\\data\\6\\10566.jpg\n",
      "1/1 [==============================] - 0s 26ms/step\n"
     ]
    },
    {
     "name": "stderr",
     "output_type": "stream",
     "text": [
      "\r",
      "  2%|█▉                                                                                                                              | 62/4002 [00:05<05:17, 12.41it/s]"
     ]
    },
    {
     "name": "stdout",
     "output_type": "stream",
     "text": [
      "dataset\\data\\6\\10575.jpg\n",
      "1/1 [==============================] - 0s 25ms/step\n",
      "dataset\\data\\6\\10576.jpg\n",
      "1/1 [==============================] - 0s 25ms/step\n"
     ]
    },
    {
     "name": "stderr",
     "output_type": "stream",
     "text": [
      "\r",
      "  2%|██                                                                                                                              | 64/4002 [00:05<05:14, 12.52it/s]"
     ]
    },
    {
     "name": "stdout",
     "output_type": "stream",
     "text": [
      "dataset\\data\\6\\10579.jpg\n",
      "1/1 [==============================] - 0s 27ms/step\n",
      "dataset\\data\\6\\10580.jpg\n",
      "1/1 [==============================] - 0s 32ms/step\n"
     ]
    },
    {
     "name": "stderr",
     "output_type": "stream",
     "text": [
      "\r",
      "  2%|██                                                                                                                              | 66/4002 [00:05<05:12, 12.60it/s]"
     ]
    },
    {
     "name": "stdout",
     "output_type": "stream",
     "text": [
      "dataset\\data\\6\\10585.jpg\n",
      "1/1 [==============================] - 0s 29ms/step\n",
      "dataset\\data\\6\\1059.jpg\n",
      "1/1 [==============================] - 0s 29ms/step\n"
     ]
    },
    {
     "name": "stderr",
     "output_type": "stream",
     "text": [
      "\r",
      "  2%|██▏                                                                                                                             | 68/4002 [00:05<05:15, 12.47it/s]"
     ]
    },
    {
     "name": "stdout",
     "output_type": "stream",
     "text": [
      "dataset\\data\\6\\10602.jpg\n",
      "1/1 [==============================] - 0s 15ms/step\n",
      "dataset\\data\\6\\10625.jpg\n",
      "1/1 [==============================] - 0s 26ms/step\n"
     ]
    },
    {
     "name": "stderr",
     "output_type": "stream",
     "text": [
      "\r",
      "  2%|██▏                                                                                                                             | 70/4002 [00:05<05:09, 12.71it/s]"
     ]
    },
    {
     "name": "stdout",
     "output_type": "stream",
     "text": [
      "dataset\\data\\6\\10627.jpg\n",
      "1/1 [==============================] - 0s 31ms/step\n",
      "dataset\\data\\6\\10628.jpg\n",
      "1/1 [==============================] - 0s 30ms/step\n"
     ]
    },
    {
     "name": "stderr",
     "output_type": "stream",
     "text": [
      "\r",
      "  2%|██▎                                                                                                                             | 72/4002 [00:06<05:22, 12.17it/s]"
     ]
    },
    {
     "name": "stdout",
     "output_type": "stream",
     "text": [
      "dataset\\data\\6\\10643.jpg\n",
      "1/1 [==============================] - 0s 27ms/step\n",
      "dataset\\data\\6\\10668.jpg\n",
      "1/1 [==============================] - 0s 28ms/step\n"
     ]
    },
    {
     "name": "stderr",
     "output_type": "stream",
     "text": [
      "\r",
      "  2%|██▎                                                                                                                             | 74/4002 [00:06<05:12, 12.57it/s]"
     ]
    },
    {
     "name": "stdout",
     "output_type": "stream",
     "text": [
      "dataset\\data\\6\\10672.jpg\n",
      "1/1 [==============================] - 0s 24ms/step\n",
      "dataset\\data\\6\\1070.jpg\n",
      "1/1 [==============================] - 0s 29ms/step\n"
     ]
    },
    {
     "name": "stderr",
     "output_type": "stream",
     "text": [
      "\r",
      "  2%|██▍                                                                                                                             | 76/4002 [00:06<05:13, 12.50it/s]"
     ]
    },
    {
     "name": "stdout",
     "output_type": "stream",
     "text": [
      "dataset\\data\\6\\10700.jpg\n",
      "1/1 [==============================] - 0s 27ms/step\n",
      "dataset\\data\\6\\10701.jpg\n",
      "1/1 [==============================] - 0s 29ms/step\n"
     ]
    },
    {
     "name": "stderr",
     "output_type": "stream",
     "text": [
      "\r",
      "  2%|██▍                                                                                                                             | 78/4002 [00:06<05:11, 12.60it/s]"
     ]
    },
    {
     "name": "stdout",
     "output_type": "stream",
     "text": [
      "dataset\\data\\6\\10710.jpg\n",
      "1/1 [==============================] - 0s 33ms/step\n",
      "dataset\\data\\6\\10723.jpg\n",
      "1/1 [==============================] - 0s 27ms/step\n"
     ]
    },
    {
     "name": "stderr",
     "output_type": "stream",
     "text": [
      "\r",
      "  2%|██▌                                                                                                                             | 80/4002 [00:06<05:05, 12.84it/s]"
     ]
    },
    {
     "name": "stdout",
     "output_type": "stream",
     "text": [
      "dataset\\data\\6\\10734.jpg\n",
      "1/1 [==============================] - 0s 33ms/step\n",
      "dataset\\data\\6\\10744.jpg\n",
      "1/1 [==============================] - 0s 17ms/step\n"
     ]
    },
    {
     "name": "stderr",
     "output_type": "stream",
     "text": [
      "\r",
      "  2%|██▌                                                                                                                             | 82/4002 [00:06<05:11, 12.60it/s]"
     ]
    },
    {
     "name": "stdout",
     "output_type": "stream",
     "text": [
      "dataset\\data\\6\\10751.jpg\n",
      "1/1 [==============================] - 0s 32ms/step\n",
      "dataset\\data\\6\\10755.jpg\n",
      "1/1 [==============================] - 0s 30ms/step\n"
     ]
    },
    {
     "name": "stderr",
     "output_type": "stream",
     "text": [
      "\r",
      "  2%|██▋                                                                                                                             | 84/4002 [00:07<05:07, 12.74it/s]"
     ]
    },
    {
     "name": "stdout",
     "output_type": "stream",
     "text": [
      "dataset\\data\\6\\10760.jpg\n",
      "1/1 [==============================] - 0s 32ms/step\n",
      "dataset\\data\\6\\10762.jpg\n",
      "1/1 [==============================] - 0s 17ms/step\n"
     ]
    },
    {
     "name": "stderr",
     "output_type": "stream",
     "text": [
      "\r",
      "  2%|██▊                                                                                                                             | 86/4002 [00:07<05:10, 12.59it/s]"
     ]
    },
    {
     "name": "stdout",
     "output_type": "stream",
     "text": [
      "dataset\\data\\6\\10768.jpg\n",
      "1/1 [==============================] - 0s 26ms/step\n",
      "dataset\\data\\6\\10779.jpg\n",
      "1/1 [==============================] - 0s 33ms/step\n"
     ]
    },
    {
     "name": "stderr",
     "output_type": "stream",
     "text": [
      "\r",
      "  2%|██▊                                                                                                                             | 88/4002 [00:07<05:10, 12.61it/s]"
     ]
    },
    {
     "name": "stdout",
     "output_type": "stream",
     "text": [
      "dataset\\data\\6\\10788.jpg\n",
      "1/1 [==============================] - 0s 29ms/step\n",
      "dataset\\data\\6\\10800.jpg\n",
      "1/1 [==============================] - 0s 36ms/step\n"
     ]
    },
    {
     "name": "stderr",
     "output_type": "stream",
     "text": [
      "\r",
      "  2%|██▉                                                                                                                             | 90/4002 [00:07<05:16, 12.37it/s]"
     ]
    },
    {
     "name": "stdout",
     "output_type": "stream",
     "text": [
      "dataset\\data\\6\\10813.jpg\n",
      "1/1 [==============================] - 0s 36ms/step\n",
      "dataset\\data\\6\\10820.jpg\n",
      "1/1 [==============================] - 0s 42ms/step\n"
     ]
    },
    {
     "name": "stderr",
     "output_type": "stream",
     "text": [
      "\r",
      "  2%|██▉                                                                                                                             | 92/4002 [00:07<06:05, 10.70it/s]"
     ]
    },
    {
     "name": "stdout",
     "output_type": "stream",
     "text": [
      "dataset\\data\\6\\10837.jpg\n",
      "1/1 [==============================] - 0s 48ms/step\n",
      "dataset\\data\\6\\1084.jpg\n",
      "1/1 [==============================] - 0s 47ms/step\n"
     ]
    },
    {
     "name": "stderr",
     "output_type": "stream",
     "text": [
      "\r",
      "  2%|███                                                                                                                             | 94/4002 [00:08<06:29, 10.03it/s]"
     ]
    },
    {
     "name": "stdout",
     "output_type": "stream",
     "text": [
      "dataset\\data\\6\\10847.jpg\n",
      "1/1 [==============================] - 0s 66ms/step\n",
      "dataset\\data\\6\\10849.jpg\n",
      "1/1 [==============================] - 0s 43ms/step\n"
     ]
    },
    {
     "name": "stderr",
     "output_type": "stream",
     "text": [
      "\r",
      "  2%|███                                                                                                                             | 96/4002 [00:08<07:02,  9.24it/s]"
     ]
    },
    {
     "name": "stdout",
     "output_type": "stream",
     "text": [
      "dataset\\data\\6\\10853.jpg\n",
      "1/1 [==============================] - 0s 38ms/step\n"
     ]
    },
    {
     "name": "stderr",
     "output_type": "stream",
     "text": [
      "\r",
      "  2%|███                                                                                                                             | 97/4002 [00:08<07:07,  9.13it/s]"
     ]
    },
    {
     "name": "stdout",
     "output_type": "stream",
     "text": [
      "dataset\\data\\6\\10855.jpg\n",
      "1/1 [==============================] - 0s 41ms/step\n"
     ]
    },
    {
     "name": "stderr",
     "output_type": "stream",
     "text": [
      "\r",
      "  2%|███▏                                                                                                                            | 98/4002 [00:08<07:07,  9.13it/s]"
     ]
    },
    {
     "name": "stdout",
     "output_type": "stream",
     "text": [
      "dataset\\data\\6\\10866.jpg\n",
      "1/1 [==============================] - 0s 52ms/step\n"
     ]
    },
    {
     "name": "stderr",
     "output_type": "stream",
     "text": [
      "\r",
      "  2%|███▏                                                                                                                            | 99/4002 [00:08<07:21,  8.83it/s]"
     ]
    },
    {
     "name": "stdout",
     "output_type": "stream",
     "text": [
      "dataset\\data\\6\\1087.jpg\n",
      "1/1 [==============================] - 0s 39ms/step\n"
     ]
    },
    {
     "name": "stderr",
     "output_type": "stream",
     "text": [
      "\r",
      "  2%|███▏                                                                                                                           | 100/4002 [00:08<07:24,  8.77it/s]"
     ]
    },
    {
     "name": "stdout",
     "output_type": "stream",
     "text": [
      "dataset\\data\\6\\10873.jpg\n",
      "1/1 [==============================] - 0s 38ms/step\n",
      "dataset\\data\\6\\10883.jpg\n",
      "1/1 [==============================] - 0s 60ms/step\n"
     ]
    },
    {
     "name": "stderr",
     "output_type": "stream",
     "text": [
      "\r",
      "  3%|███▏                                                                                                                           | 102/4002 [00:09<07:36,  8.55it/s]"
     ]
    },
    {
     "name": "stdout",
     "output_type": "stream",
     "text": [
      "dataset\\data\\6\\10886.jpg\n",
      "1/1 [==============================] - 0s 41ms/step\n"
     ]
    },
    {
     "name": "stderr",
     "output_type": "stream",
     "text": [
      "\r",
      "  3%|███▎                                                                                                                           | 103/4002 [00:09<07:42,  8.43it/s]"
     ]
    },
    {
     "name": "stdout",
     "output_type": "stream",
     "text": [
      "dataset\\data\\6\\10909.jpg\n",
      "1/1 [==============================] - 0s 26ms/step\n"
     ]
    },
    {
     "name": "stderr",
     "output_type": "stream",
     "text": [
      "\r",
      "  3%|███▎                                                                                                                           | 104/4002 [00:09<07:36,  8.55it/s]"
     ]
    },
    {
     "name": "stdout",
     "output_type": "stream",
     "text": [
      "dataset\\data\\6\\10931.jpg\n",
      "1/1 [==============================] - 0s 58ms/step\n"
     ]
    },
    {
     "name": "stderr",
     "output_type": "stream",
     "text": [
      "\r",
      "  3%|███▎                                                                                                                           | 105/4002 [00:09<07:41,  8.45it/s]"
     ]
    },
    {
     "name": "stdout",
     "output_type": "stream",
     "text": [
      "dataset\\data\\6\\10932.jpg\n",
      "1/1 [==============================] - 0s 31ms/step\n"
     ]
    },
    {
     "name": "stderr",
     "output_type": "stream",
     "text": [
      "\r",
      "  3%|███▎                                                                                                                           | 106/4002 [00:09<08:07,  8.00it/s]"
     ]
    },
    {
     "name": "stdout",
     "output_type": "stream",
     "text": [
      "dataset\\data\\6\\10950.jpg\n",
      "1/1 [==============================] - 0s 33ms/step\n",
      "dataset\\data\\6\\10955.jpg\n",
      "1/1 [==============================] - 0s 37ms/step\n"
     ]
    },
    {
     "name": "stderr",
     "output_type": "stream",
     "text": [
      "\r",
      "  3%|███▍                                                                                                                           | 108/4002 [00:09<07:08,  9.09it/s]"
     ]
    },
    {
     "name": "stdout",
     "output_type": "stream",
     "text": [
      "dataset\\data\\6\\10957.jpg\n",
      "1/1 [==============================] - 0s 16ms/step\n",
      "dataset\\data\\6\\10958.jpg\n",
      "1/1 [==============================] - 0s 29ms/step\n"
     ]
    },
    {
     "name": "stderr",
     "output_type": "stream",
     "text": [
      "\r",
      "  3%|███▍                                                                                                                           | 110/4002 [00:09<06:22, 10.18it/s]"
     ]
    },
    {
     "name": "stdout",
     "output_type": "stream",
     "text": [
      "dataset\\data\\6\\10963.jpg\n",
      "1/1 [==============================] - 0s 30ms/step\n",
      "dataset\\data\\6\\10964.jpg\n",
      "1/1 [==============================] - 0s 37ms/step\n"
     ]
    },
    {
     "name": "stderr",
     "output_type": "stream",
     "text": [
      "\r",
      "  3%|███▌                                                                                                                           | 112/4002 [00:10<06:20, 10.23it/s]"
     ]
    },
    {
     "name": "stdout",
     "output_type": "stream",
     "text": [
      "dataset\\data\\6\\10966.jpg\n",
      "1/1 [==============================] - 0s 38ms/step\n",
      "dataset\\data\\6\\10967.jpg\n",
      "1/1 [==============================] - 0s 39ms/step\n"
     ]
    },
    {
     "name": "stderr",
     "output_type": "stream",
     "text": [
      "\r",
      "  3%|███▌                                                                                                                           | 114/4002 [00:10<07:00,  9.25it/s]"
     ]
    },
    {
     "name": "stdout",
     "output_type": "stream",
     "text": [
      "dataset\\data\\6\\10977.jpg\n",
      "1/1 [==============================] - 0s 87ms/step\n"
     ]
    },
    {
     "name": "stderr",
     "output_type": "stream",
     "text": [
      "\r",
      "  3%|███▋                                                                                                                           | 115/4002 [00:10<08:35,  7.54it/s]"
     ]
    },
    {
     "name": "stdout",
     "output_type": "stream",
     "text": [
      "dataset\\data\\6\\10991.jpg\n",
      "1/1 [==============================] - 0s 96ms/step\n"
     ]
    },
    {
     "name": "stderr",
     "output_type": "stream",
     "text": [
      "\r",
      "  3%|███▋                                                                                                                           | 116/4002 [00:10<10:30,  6.17it/s]"
     ]
    },
    {
     "name": "stdout",
     "output_type": "stream",
     "text": [
      "dataset\\data\\6\\11000.jpg\n",
      "1/1 [==============================] - 0s 62ms/step\n"
     ]
    },
    {
     "name": "stderr",
     "output_type": "stream",
     "text": [
      "\r",
      "  3%|███▋                                                                                                                           | 117/4002 [00:11<12:41,  5.10it/s]"
     ]
    },
    {
     "name": "stdout",
     "output_type": "stream",
     "text": [
      "dataset\\data\\6\\11016.jpg\n",
      "1/1 [==============================] - 0s 51ms/step\n"
     ]
    },
    {
     "name": "stderr",
     "output_type": "stream",
     "text": [
      "\r",
      "  3%|███▋                                                                                                                           | 118/4002 [00:11<12:11,  5.31it/s]"
     ]
    },
    {
     "name": "stdout",
     "output_type": "stream",
     "text": [
      "dataset\\data\\6\\11027.jpg\n",
      "1/1 [==============================] - 0s 79ms/step\n"
     ]
    },
    {
     "name": "stderr",
     "output_type": "stream",
     "text": [
      "\r",
      "  3%|███▊                                                                                                                           | 119/4002 [00:11<13:29,  4.80it/s]"
     ]
    },
    {
     "name": "stdout",
     "output_type": "stream",
     "text": [
      "dataset\\data\\6\\11043.jpg\n",
      "1/1 [==============================] - 0s 92ms/step\n"
     ]
    },
    {
     "name": "stderr",
     "output_type": "stream",
     "text": [
      "\r",
      "  3%|███▊                                                                                                                           | 120/4002 [00:11<15:15,  4.24it/s]"
     ]
    },
    {
     "name": "stdout",
     "output_type": "stream",
     "text": [
      "dataset\\data\\6\\11047.jpg\n",
      "1/1 [==============================] - 0s 65ms/step\n"
     ]
    },
    {
     "name": "stderr",
     "output_type": "stream",
     "text": [
      "\r",
      "  3%|███▊                                                                                                                           | 121/4002 [00:12<14:41,  4.40it/s]"
     ]
    },
    {
     "name": "stdout",
     "output_type": "stream",
     "text": [
      "dataset\\data\\6\\11061.jpg\n",
      "1/1 [==============================] - 0s 16ms/step\n"
     ]
    },
    {
     "name": "stderr",
     "output_type": "stream",
     "text": [
      "\r",
      "  3%|███▊                                                                                                                           | 122/4002 [00:12<12:21,  5.23it/s]"
     ]
    },
    {
     "name": "stdout",
     "output_type": "stream",
     "text": [
      "dataset\\data\\6\\1107.jpg\n",
      "1/1 [==============================] - 0s 28ms/step\n"
     ]
    },
    {
     "name": "stderr",
     "output_type": "stream",
     "text": [
      "\r",
      "  3%|███▉                                                                                                                           | 123/4002 [00:12<10:59,  5.88it/s]"
     ]
    },
    {
     "name": "stdout",
     "output_type": "stream",
     "text": [
      "dataset\\data\\6\\11089.jpg\n",
      "1/1 [==============================] - 0s 24ms/step\n",
      "dataset\\data\\6\\1109.jpg\n",
      "1/1 [==============================] - 0s 19ms/step\n"
     ]
    },
    {
     "name": "stderr",
     "output_type": "stream",
     "text": [
      "\r",
      "  3%|███▉                                                                                                                           | 125/4002 [00:12<08:16,  7.80it/s]"
     ]
    },
    {
     "name": "stdout",
     "output_type": "stream",
     "text": [
      "dataset\\data\\6\\11094.jpg\n",
      "1/1 [==============================] - 0s 34ms/step\n",
      "dataset\\data\\6\\11107.jpg\n",
      "1/1 [==============================] - 0s 30ms/step\n"
     ]
    },
    {
     "name": "stderr",
     "output_type": "stream",
     "text": [
      "\r",
      "  3%|████                                                                                                                           | 127/4002 [00:12<07:11,  8.97it/s]"
     ]
    },
    {
     "name": "stdout",
     "output_type": "stream",
     "text": [
      "dataset\\data\\6\\11111.jpg\n",
      "1/1 [==============================] - 0s 53ms/step\n"
     ]
    },
    {
     "name": "stderr",
     "output_type": "stream",
     "text": [
      "\r",
      "  3%|████                                                                                                                           | 128/4002 [00:12<07:09,  9.02it/s]"
     ]
    },
    {
     "name": "stdout",
     "output_type": "stream",
     "text": [
      "dataset\\data\\6\\11119.jpg\n",
      "1/1 [==============================] - 0s 14ms/step\n",
      "dataset\\data\\6\\11125.jpg\n",
      "1/1 [==============================] - 0s 20ms/step\n"
     ]
    },
    {
     "name": "stderr",
     "output_type": "stream",
     "text": [
      "\r",
      "  3%|████▏                                                                                                                          | 130/4002 [00:12<06:21, 10.15it/s]"
     ]
    },
    {
     "name": "stdout",
     "output_type": "stream",
     "text": [
      "dataset\\data\\6\\11126.jpg\n",
      "1/1 [==============================] - 0s 96ms/step\n",
      "dataset\\data\\6\\11132.jpg\n",
      "1/1 [==============================] - 0s 63ms/step\n"
     ]
    },
    {
     "name": "stderr",
     "output_type": "stream",
     "text": [
      "\r",
      "  3%|████▏                                                                                                                          | 132/4002 [00:13<08:14,  7.82it/s]"
     ]
    },
    {
     "name": "stdout",
     "output_type": "stream",
     "text": [
      "dataset\\data\\6\\11139.jpg\n",
      "1/1 [==============================] - 0s 50ms/step\n"
     ]
    },
    {
     "name": "stderr",
     "output_type": "stream",
     "text": [
      "\r",
      "  3%|████▏                                                                                                                          | 133/4002 [00:13<08:47,  7.33it/s]"
     ]
    },
    {
     "name": "stdout",
     "output_type": "stream",
     "text": [
      "dataset\\data\\6\\11179.jpg\n",
      "1/1 [==============================] - 0s 33ms/step\n",
      "dataset\\data\\6\\1118.jpg\n",
      "1/1 [==============================] - 0s 28ms/step\n"
     ]
    },
    {
     "name": "stderr",
     "output_type": "stream",
     "text": [
      "\r",
      "  3%|████▎                                                                                                                          | 135/4002 [00:13<07:43,  8.35it/s]"
     ]
    },
    {
     "name": "stdout",
     "output_type": "stream",
     "text": [
      "dataset\\data\\6\\11184.jpg\n",
      "1/1 [==============================] - 0s 12ms/step\n",
      "dataset\\data\\6\\11199.jpg\n",
      "1/1 [==============================] - 0s 29ms/step\n"
     ]
    },
    {
     "name": "stderr",
     "output_type": "stream",
     "text": [
      "\r",
      "  3%|████▎                                                                                                                          | 137/4002 [00:13<06:49,  9.44it/s]"
     ]
    },
    {
     "name": "stdout",
     "output_type": "stream",
     "text": [
      "dataset\\data\\6\\1120.jpg\n",
      "1/1 [==============================] - 0s 25ms/step\n",
      "dataset\\data\\6\\11201.jpg\n",
      "1/1 [==============================] - 0s 29ms/step\n"
     ]
    },
    {
     "name": "stderr",
     "output_type": "stream",
     "text": [
      "\r",
      "  3%|████▍                                                                                                                          | 139/4002 [00:13<06:13, 10.34it/s]"
     ]
    },
    {
     "name": "stdout",
     "output_type": "stream",
     "text": [
      "dataset\\data\\6\\11220.jpg\n",
      "1/1 [==============================] - 0s 31ms/step\n",
      "dataset\\data\\6\\11247.jpg\n",
      "1/1 [==============================] - 0s 30ms/step\n"
     ]
    },
    {
     "name": "stderr",
     "output_type": "stream",
     "text": [
      "\r",
      "  4%|████▍                                                                                                                          | 141/4002 [00:14<06:01, 10.68it/s]"
     ]
    },
    {
     "name": "stdout",
     "output_type": "stream",
     "text": [
      "dataset\\data\\6\\11257.jpg\n",
      "1/1 [==============================] - 0s 29ms/step\n",
      "dataset\\data\\6\\11261.jpg\n",
      "1/1 [==============================] - 0s 29ms/step\n"
     ]
    },
    {
     "name": "stderr",
     "output_type": "stream",
     "text": [
      "\r",
      "  4%|████▌                                                                                                                          | 143/4002 [00:14<05:49, 11.04it/s]"
     ]
    },
    {
     "name": "stdout",
     "output_type": "stream",
     "text": [
      "dataset\\data\\6\\11271.jpg\n",
      "1/1 [==============================] - 0s 44ms/step\n",
      "dataset\\data\\6\\11279.jpg\n",
      "1/1 [==============================] - 0s 28ms/step\n"
     ]
    },
    {
     "name": "stderr",
     "output_type": "stream",
     "text": [
      "\r",
      "  4%|████▌                                                                                                                          | 145/4002 [00:14<05:37, 11.42it/s]"
     ]
    },
    {
     "name": "stdout",
     "output_type": "stream",
     "text": [
      "dataset\\data\\6\\11297.jpg\n",
      "1/1 [==============================] - 0s 23ms/step\n",
      "dataset\\data\\6\\11302.jpg\n",
      "1/1 [==============================] - 0s 30ms/step\n"
     ]
    },
    {
     "name": "stderr",
     "output_type": "stream",
     "text": [
      "\r",
      "  4%|████▋                                                                                                                          | 147/4002 [00:14<05:33, 11.57it/s]"
     ]
    },
    {
     "name": "stdout",
     "output_type": "stream",
     "text": [
      "dataset\\data\\6\\11311.jpg\n",
      "1/1 [==============================] - 0s 28ms/step\n",
      "dataset\\data\\6\\1132.jpg\n",
      "1/1 [==============================] - 0s 32ms/step\n"
     ]
    },
    {
     "name": "stderr",
     "output_type": "stream",
     "text": [
      "\r",
      "  4%|████▋                                                                                                                          | 149/4002 [00:14<05:25, 11.83it/s]"
     ]
    },
    {
     "name": "stdout",
     "output_type": "stream",
     "text": [
      "dataset\\data\\6\\11324.jpg\n",
      "1/1 [==============================] - 0s 20ms/step\n",
      "dataset\\data\\6\\11328.jpg\n",
      "1/1 [==============================] - 0s 15ms/step\n"
     ]
    },
    {
     "name": "stderr",
     "output_type": "stream",
     "text": [
      "\r",
      "  4%|████▊                                                                                                                          | 151/4002 [00:14<05:21, 11.98it/s]"
     ]
    },
    {
     "name": "stdout",
     "output_type": "stream",
     "text": [
      "dataset\\data\\6\\11339.jpg\n",
      "1/1 [==============================] - 0s 29ms/step\n",
      "dataset\\data\\6\\11344.jpg\n",
      "1/1 [==============================] - 0s 24ms/step\n"
     ]
    },
    {
     "name": "stderr",
     "output_type": "stream",
     "text": [
      "\r",
      "  4%|████▊                                                                                                                          | 153/4002 [00:15<05:13, 12.28it/s]"
     ]
    },
    {
     "name": "stdout",
     "output_type": "stream",
     "text": [
      "dataset\\data\\6\\1135.jpg\n",
      "1/1 [==============================] - 0s 16ms/step\n",
      "dataset\\data\\6\\11364.jpg\n",
      "1/1 [==============================] - 0s 29ms/step\n"
     ]
    },
    {
     "name": "stderr",
     "output_type": "stream",
     "text": [
      "\r",
      "  4%|████▉                                                                                                                          | 155/4002 [00:15<05:09, 12.41it/s]"
     ]
    },
    {
     "name": "stdout",
     "output_type": "stream",
     "text": [
      "dataset\\data\\6\\11366.jpg\n",
      "1/1 [==============================] - 0s 30ms/step\n",
      "dataset\\data\\6\\11372.jpg\n",
      "1/1 [==============================] - 0s 29ms/step\n"
     ]
    },
    {
     "name": "stderr",
     "output_type": "stream",
     "text": [
      "\r",
      "  4%|████▉                                                                                                                          | 157/4002 [00:15<05:08, 12.46it/s]"
     ]
    },
    {
     "name": "stdout",
     "output_type": "stream",
     "text": [
      "dataset\\data\\6\\11374.jpg\n",
      "1/1 [==============================] - 0s 22ms/step\n",
      "dataset\\data\\6\\11393.jpg\n",
      "1/1 [==============================] - 0s 28ms/step\n"
     ]
    },
    {
     "name": "stderr",
     "output_type": "stream",
     "text": [
      "\r",
      "  4%|█████                                                                                                                          | 159/4002 [00:15<05:03, 12.68it/s]"
     ]
    },
    {
     "name": "stdout",
     "output_type": "stream",
     "text": [
      "dataset\\data\\6\\11404.jpg\n",
      "1/1 [==============================] - 0s 31ms/step\n",
      "dataset\\data\\6\\11407.jpg\n",
      "1/1 [==============================] - 0s 22ms/step\n"
     ]
    },
    {
     "name": "stderr",
     "output_type": "stream",
     "text": [
      "\r",
      "  4%|█████                                                                                                                          | 161/4002 [00:15<04:55, 12.98it/s]"
     ]
    },
    {
     "name": "stdout",
     "output_type": "stream",
     "text": [
      "dataset\\data\\6\\11414.jpg\n",
      "1/1 [==============================] - 0s 32ms/step\n",
      "dataset\\data\\6\\11418.jpg\n",
      "1/1 [==============================] - 0s 22ms/step\n"
     ]
    },
    {
     "name": "stderr",
     "output_type": "stream",
     "text": [
      "\r",
      "  4%|█████▏                                                                                                                         | 163/4002 [00:15<04:54, 13.05it/s]"
     ]
    },
    {
     "name": "stdout",
     "output_type": "stream",
     "text": [
      "dataset\\data\\6\\11429.jpg\n",
      "1/1 [==============================] - 0s 27ms/step\n",
      "dataset\\data\\6\\11433.jpg\n",
      "1/1 [==============================] - 0s 20ms/step\n"
     ]
    },
    {
     "name": "stderr",
     "output_type": "stream",
     "text": [
      "\r",
      "  4%|█████▏                                                                                                                         | 165/4002 [00:15<04:51, 13.17it/s]"
     ]
    },
    {
     "name": "stdout",
     "output_type": "stream",
     "text": [
      "dataset\\data\\6\\11443.jpg\n",
      "1/1 [==============================] - 0s 27ms/step\n",
      "dataset\\data\\6\\1145.jpg\n",
      "1/1 [==============================] - 0s 19ms/step\n"
     ]
    },
    {
     "name": "stderr",
     "output_type": "stream",
     "text": [
      "\r",
      "  4%|█████▎                                                                                                                         | 167/4002 [00:16<04:58, 12.85it/s]"
     ]
    },
    {
     "name": "stdout",
     "output_type": "stream",
     "text": [
      "dataset\\data\\6\\11451.jpg\n",
      "1/1 [==============================] - 0s 29ms/step\n",
      "dataset\\data\\6\\11459.jpg\n",
      "1/1 [==============================] - 0s 29ms/step\n"
     ]
    },
    {
     "name": "stderr",
     "output_type": "stream",
     "text": [
      "\r",
      "  4%|█████▎                                                                                                                         | 169/4002 [00:16<05:02, 12.65it/s]"
     ]
    },
    {
     "name": "stdout",
     "output_type": "stream",
     "text": [
      "dataset\\data\\6\\11466.jpg\n",
      "1/1 [==============================] - 0s 28ms/step\n",
      "dataset\\data\\6\\11496.jpg\n",
      "1/1 [==============================] - 0s 17ms/step\n"
     ]
    },
    {
     "name": "stderr",
     "output_type": "stream",
     "text": [
      "\r",
      "  4%|█████▍                                                                                                                         | 171/4002 [00:16<04:59, 12.80it/s]"
     ]
    },
    {
     "name": "stdout",
     "output_type": "stream",
     "text": [
      "dataset\\data\\6\\11497.jpg\n",
      "1/1 [==============================] - 0s 25ms/step\n",
      "dataset\\data\\6\\11506.jpg\n",
      "1/1 [==============================] - 0s 31ms/step\n"
     ]
    },
    {
     "name": "stderr",
     "output_type": "stream",
     "text": [
      "\r",
      "  4%|█████▍                                                                                                                         | 173/4002 [00:16<04:58, 12.83it/s]"
     ]
    },
    {
     "name": "stdout",
     "output_type": "stream",
     "text": [
      "dataset\\data\\6\\11512.jpg\n",
      "1/1 [==============================] - 0s 25ms/step\n",
      "dataset\\data\\6\\11519.jpg\n",
      "1/1 [==============================] - 0s 31ms/step\n"
     ]
    },
    {
     "name": "stderr",
     "output_type": "stream",
     "text": [
      "\r",
      "  4%|█████▌                                                                                                                         | 175/4002 [00:16<04:56, 12.93it/s]"
     ]
    },
    {
     "name": "stdout",
     "output_type": "stream",
     "text": [
      "dataset\\data\\6\\11527.jpg\n",
      "1/1 [==============================] - 0s 22ms/step\n",
      "dataset\\data\\6\\11556.jpg\n",
      "1/1 [==============================] - 0s 42ms/step\n"
     ]
    },
    {
     "name": "stderr",
     "output_type": "stream",
     "text": [
      "\r",
      "  4%|█████▌                                                                                                                         | 177/4002 [00:16<05:28, 11.63it/s]"
     ]
    },
    {
     "name": "stdout",
     "output_type": "stream",
     "text": [
      "dataset\\data\\6\\11569.jpg\n",
      "1/1 [==============================] - 0s 56ms/step\n",
      "dataset\\data\\6\\1157.jpg\n",
      "1/1 [==============================] - 0s 44ms/step\n"
     ]
    },
    {
     "name": "stderr",
     "output_type": "stream",
     "text": [
      "\r",
      "  4%|█████▋                                                                                                                         | 179/4002 [00:17<06:57,  9.15it/s]"
     ]
    },
    {
     "name": "stdout",
     "output_type": "stream",
     "text": [
      "dataset\\data\\6\\11574.jpg\n",
      "1/1 [==============================] - 0s 37ms/step\n",
      "dataset\\data\\6\\11576.jpg\n",
      "1/1 [==============================] - 0s 100ms/step\n"
     ]
    },
    {
     "name": "stderr",
     "output_type": "stream",
     "text": [
      "\r",
      "  5%|█████▋                                                                                                                         | 181/4002 [00:17<08:03,  7.90it/s]"
     ]
    },
    {
     "name": "stdout",
     "output_type": "stream",
     "text": [
      "dataset\\data\\6\\11589.jpg\n",
      "1/1 [==============================] - 0s 40ms/step\n"
     ]
    },
    {
     "name": "stderr",
     "output_type": "stream",
     "text": [
      "\r",
      "  5%|█████▊                                                                                                                         | 182/4002 [00:17<08:22,  7.60it/s]"
     ]
    },
    {
     "name": "stdout",
     "output_type": "stream",
     "text": [
      "dataset\\data\\6\\11593.jpg\n",
      "1/1 [==============================] - 0s 30ms/step\n",
      "dataset\\data\\6\\11605.jpg\n",
      "1/1 [==============================] - 0s 18ms/step\n"
     ]
    },
    {
     "name": "stderr",
     "output_type": "stream",
     "text": [
      "\r",
      "  5%|█████▊                                                                                                                         | 184/4002 [00:17<07:20,  8.66it/s]"
     ]
    },
    {
     "name": "stdout",
     "output_type": "stream",
     "text": [
      "dataset\\data\\6\\11615.jpg\n",
      "1/1 [==============================] - 0s 28ms/step\n",
      "dataset\\data\\6\\1162.jpg\n",
      "1/1 [==============================] - 0s 29ms/step\n"
     ]
    },
    {
     "name": "stderr",
     "output_type": "stream",
     "text": [
      "\r",
      "  5%|█████▉                                                                                                                         | 186/4002 [00:18<06:38,  9.58it/s]"
     ]
    },
    {
     "name": "stdout",
     "output_type": "stream",
     "text": [
      "dataset\\data\\6\\11631.jpg\n",
      "1/1 [==============================] - 0s 31ms/step\n",
      "dataset\\data\\6\\11633.jpg\n",
      "1/1 [==============================] - 0s 31ms/step\n"
     ]
    },
    {
     "name": "stderr",
     "output_type": "stream",
     "text": [
      "\r",
      "  5%|█████▉                                                                                                                         | 188/4002 [00:18<06:15, 10.16it/s]"
     ]
    },
    {
     "name": "stdout",
     "output_type": "stream",
     "text": [
      "dataset\\data\\6\\11667.jpg\n",
      "1/1 [==============================] - 0s 35ms/step\n",
      "dataset\\data\\6\\11668.jpg\n",
      "1/1 [==============================] - 0s 31ms/step\n"
     ]
    },
    {
     "name": "stderr",
     "output_type": "stream",
     "text": [
      "\r",
      "  5%|██████                                                                                                                         | 190/4002 [00:18<06:20, 10.02it/s]"
     ]
    },
    {
     "name": "stdout",
     "output_type": "stream",
     "text": [
      "dataset\\data\\6\\11670.jpg\n",
      "1/1 [==============================] - 0s 30ms/step\n",
      "dataset\\data\\6\\11684.jpg\n",
      "1/1 [==============================] - 0s 10ms/step\n"
     ]
    },
    {
     "name": "stderr",
     "output_type": "stream",
     "text": [
      "\r",
      "  5%|██████                                                                                                                         | 192/4002 [00:18<06:07, 10.36it/s]"
     ]
    },
    {
     "name": "stdout",
     "output_type": "stream",
     "text": [
      "dataset\\data\\6\\11692.jpg\n",
      "1/1 [==============================] - 0s 31ms/step\n",
      "dataset\\data\\6\\11709.jpg\n",
      "1/1 [==============================] - 0s 28ms/step\n"
     ]
    },
    {
     "name": "stderr",
     "output_type": "stream",
     "text": [
      "\r",
      "  5%|██████▏                                                                                                                        | 194/4002 [00:18<05:46, 10.98it/s]"
     ]
    },
    {
     "name": "stdout",
     "output_type": "stream",
     "text": [
      "dataset\\data\\6\\1172.jpg\n",
      "1/1 [==============================] - 0s 29ms/step\n",
      "dataset\\data\\6\\11721.jpg\n",
      "1/1 [==============================] - 0s 24ms/step\n"
     ]
    },
    {
     "name": "stderr",
     "output_type": "stream",
     "text": [
      "\r",
      "  5%|██████▏                                                                                                                        | 196/4002 [00:18<05:23, 11.75it/s]"
     ]
    },
    {
     "name": "stdout",
     "output_type": "stream",
     "text": [
      "dataset\\data\\6\\11730.jpg\n",
      "1/1 [==============================] - 0s 28ms/step\n",
      "dataset\\data\\6\\11734.jpg\n",
      "1/1 [==============================] - 0s 29ms/step\n"
     ]
    },
    {
     "name": "stderr",
     "output_type": "stream",
     "text": [
      "\r",
      "  5%|██████▎                                                                                                                        | 198/4002 [00:19<05:22, 11.80it/s]"
     ]
    },
    {
     "name": "stdout",
     "output_type": "stream",
     "text": [
      "dataset\\data\\6\\11737.jpg\n",
      "1/1 [==============================] - 0s 38ms/step\n",
      "dataset\\data\\6\\11740.jpg\n",
      "1/1 [==============================] - 0s 39ms/step\n"
     ]
    },
    {
     "name": "stderr",
     "output_type": "stream",
     "text": [
      "\r",
      "  5%|██████▎                                                                                                                        | 200/4002 [00:19<05:44, 11.02it/s]"
     ]
    },
    {
     "name": "stdout",
     "output_type": "stream",
     "text": [
      "dataset\\data\\6\\11741.jpg\n",
      "1/1 [==============================] - 0s 34ms/step\n",
      "dataset\\data\\6\\11757.jpg\n",
      "1/1 [==============================] - 0s 19ms/step\n"
     ]
    },
    {
     "name": "stderr",
     "output_type": "stream",
     "text": [
      "\r",
      "  5%|██████▍                                                                                                                        | 202/4002 [00:19<05:46, 10.96it/s]"
     ]
    },
    {
     "name": "stdout",
     "output_type": "stream",
     "text": [
      "dataset\\data\\6\\1176.jpg\n",
      "1/1 [==============================] - 0s 15ms/step\n",
      "dataset\\data\\6\\11786.jpg\n",
      "1/1 [==============================] - 0s 26ms/step\n"
     ]
    },
    {
     "name": "stderr",
     "output_type": "stream",
     "text": [
      "\r",
      "  5%|██████▍                                                                                                                        | 204/4002 [00:19<05:45, 11.00it/s]"
     ]
    },
    {
     "name": "stdout",
     "output_type": "stream",
     "text": [
      "dataset\\data\\6\\11811.jpg\n",
      "1/1 [==============================] - 0s 45ms/step\n",
      "dataset\\data\\6\\11824.jpg\n",
      "1/1 [==============================] - 0s 28ms/step\n"
     ]
    },
    {
     "name": "stderr",
     "output_type": "stream",
     "text": [
      "\r",
      "  5%|██████▌                                                                                                                        | 206/4002 [00:19<06:32,  9.67it/s]"
     ]
    },
    {
     "name": "stdout",
     "output_type": "stream",
     "text": [
      "dataset\\data\\6\\11831.jpg\n",
      "1/1 [==============================] - 0s 18ms/step\n",
      "dataset\\data\\6\\11848.jpg\n",
      "1/1 [==============================] - 0s 35ms/step\n"
     ]
    },
    {
     "name": "stderr",
     "output_type": "stream",
     "text": [
      "\r",
      "  5%|██████▌                                                                                                                        | 208/4002 [00:20<06:35,  9.59it/s]"
     ]
    },
    {
     "name": "stdout",
     "output_type": "stream",
     "text": [
      "dataset\\data\\6\\1185.jpg\n",
      "1/1 [==============================] - 0s 46ms/step\n"
     ]
    },
    {
     "name": "stderr",
     "output_type": "stream",
     "text": [
      "\r",
      "  5%|██████▋                                                                                                                        | 209/4002 [00:20<06:38,  9.52it/s]"
     ]
    },
    {
     "name": "stdout",
     "output_type": "stream",
     "text": [
      "dataset\\data\\6\\11865.jpg\n",
      "1/1 [==============================] - 0s 26ms/step\n",
      "dataset\\data\\6\\11895.jpg\n",
      "1/1 [==============================] - 0s 25ms/step\n"
     ]
    },
    {
     "name": "stderr",
     "output_type": "stream",
     "text": [
      "\r",
      "  5%|██████▋                                                                                                                        | 211/4002 [00:20<06:05, 10.37it/s]"
     ]
    },
    {
     "name": "stdout",
     "output_type": "stream",
     "text": [
      "dataset\\data\\6\\11896.jpg\n",
      "1/1 [==============================] - 0s 38ms/step\n",
      "dataset\\data\\6\\11902.jpg\n",
      "1/1 [==============================] - 0s 33ms/step\n"
     ]
    },
    {
     "name": "stderr",
     "output_type": "stream",
     "text": [
      "\r",
      "  5%|██████▊                                                                                                                        | 213/4002 [00:20<06:10, 10.23it/s]"
     ]
    },
    {
     "name": "stdout",
     "output_type": "stream",
     "text": [
      "dataset\\data\\6\\11910.jpg\n",
      "1/1 [==============================] - 0s 33ms/step\n",
      "dataset\\data\\6\\11911.jpg\n",
      "1/1 [==============================] - 0s 25ms/step\n"
     ]
    },
    {
     "name": "stderr",
     "output_type": "stream",
     "text": [
      "\r",
      "  5%|██████▊                                                                                                                        | 215/4002 [00:20<06:07, 10.30it/s]"
     ]
    },
    {
     "name": "stdout",
     "output_type": "stream",
     "text": [
      "dataset\\data\\6\\11932.jpg\n",
      "1/1 [==============================] - 0s 17ms/step\n",
      "dataset\\data\\6\\11969.jpg\n",
      "1/1 [==============================] - 0s 28ms/step\n"
     ]
    },
    {
     "name": "stderr",
     "output_type": "stream",
     "text": [
      "\r",
      "  5%|██████▉                                                                                                                        | 217/4002 [00:21<05:47, 10.88it/s]"
     ]
    },
    {
     "name": "stdout",
     "output_type": "stream",
     "text": [
      "dataset\\data\\6\\11976.jpg\n",
      "1/1 [==============================] - 0s 16ms/step\n",
      "dataset\\data\\6\\11979.jpg\n",
      "1/1 [==============================] - 0s 31ms/step\n"
     ]
    },
    {
     "name": "stderr",
     "output_type": "stream",
     "text": [
      "\r",
      "  5%|██████▉                                                                                                                        | 219/4002 [00:21<05:38, 11.19it/s]"
     ]
    },
    {
     "name": "stdout",
     "output_type": "stream",
     "text": [
      "dataset\\data\\6\\11980.jpg\n",
      "1/1 [==============================] - 0s 41ms/step\n",
      "dataset\\data\\6\\11987.jpg\n",
      "1/1 [==============================] - 0s 29ms/step\n"
     ]
    },
    {
     "name": "stderr",
     "output_type": "stream",
     "text": [
      "\r",
      "  6%|███████                                                                                                                        | 221/4002 [00:21<05:55, 10.63it/s]"
     ]
    },
    {
     "name": "stdout",
     "output_type": "stream",
     "text": [
      "dataset\\data\\6\\12004.jpg\n",
      "1/1 [==============================] - 0s 33ms/step\n",
      "dataset\\data\\6\\1201.jpg\n",
      "1/1 [==============================] - 0s 11ms/step\n"
     ]
    },
    {
     "name": "stderr",
     "output_type": "stream",
     "text": [
      "\r",
      "  6%|███████                                                                                                                        | 223/4002 [00:21<06:01, 10.45it/s]"
     ]
    },
    {
     "name": "stdout",
     "output_type": "stream",
     "text": [
      "dataset\\data\\6\\12010.jpg\n",
      "1/1 [==============================] - 0s 24ms/step\n",
      "dataset\\data\\6\\12018.jpg\n",
      "1/1 [==============================] - 0s 29ms/step\n"
     ]
    },
    {
     "name": "stderr",
     "output_type": "stream",
     "text": [
      "\r",
      "  6%|███████▏                                                                                                                       | 225/4002 [00:21<05:58, 10.53it/s]"
     ]
    },
    {
     "name": "stdout",
     "output_type": "stream",
     "text": [
      "dataset\\data\\6\\12032.jpg\n",
      "1/1 [==============================] - 0s 19ms/step\n",
      "dataset\\data\\6\\12046.jpg\n",
      "1/1 [==============================] - 0s 29ms/step\n"
     ]
    },
    {
     "name": "stderr",
     "output_type": "stream",
     "text": [
      "\r",
      "  6%|███████▏                                                                                                                       | 227/4002 [00:21<05:36, 11.21it/s]"
     ]
    },
    {
     "name": "stdout",
     "output_type": "stream",
     "text": [
      "dataset\\data\\6\\12052.jpg\n",
      "1/1 [==============================] - 0s 32ms/step\n",
      "dataset\\data\\6\\12056.jpg\n",
      "1/1 [==============================] - 0s 23ms/step\n"
     ]
    },
    {
     "name": "stderr",
     "output_type": "stream",
     "text": [
      "\r",
      "  6%|███████▎                                                                                                                       | 229/4002 [00:22<05:17, 11.90it/s]"
     ]
    },
    {
     "name": "stdout",
     "output_type": "stream",
     "text": [
      "dataset\\data\\6\\12060.jpg\n",
      "1/1 [==============================] - 0s 25ms/step\n",
      "dataset\\data\\6\\12080.jpg\n",
      "1/1 [==============================] - 0s 30ms/step\n"
     ]
    },
    {
     "name": "stderr",
     "output_type": "stream",
     "text": [
      "\r",
      "  6%|███████▎                                                                                                                       | 231/4002 [00:22<05:20, 11.75it/s]"
     ]
    },
    {
     "name": "stdout",
     "output_type": "stream",
     "text": [
      "dataset\\data\\6\\12082.jpg\n",
      "1/1 [==============================] - 0s 28ms/step\n",
      "dataset\\data\\6\\12086.jpg\n",
      "1/1 [==============================] - 0s 21ms/step\n"
     ]
    },
    {
     "name": "stderr",
     "output_type": "stream",
     "text": [
      "\r",
      "  6%|███████▍                                                                                                                       | 233/4002 [00:22<05:13, 12.04it/s]"
     ]
    },
    {
     "name": "stdout",
     "output_type": "stream",
     "text": [
      "dataset\\data\\6\\12093.jpg\n",
      "1/1 [==============================] - 0s 26ms/step\n",
      "dataset\\data\\6\\12102.jpg\n",
      "1/1 [==============================] - 0s 27ms/step\n"
     ]
    },
    {
     "name": "stderr",
     "output_type": "stream",
     "text": [
      "\r",
      "  6%|███████▍                                                                                                                       | 235/4002 [00:22<05:08, 12.23it/s]"
     ]
    },
    {
     "name": "stdout",
     "output_type": "stream",
     "text": [
      "dataset\\data\\6\\12107.jpg\n",
      "1/1 [==============================] - 0s 16ms/step\n",
      "dataset\\data\\6\\12127.jpg\n",
      "1/1 [==============================] - 0s 26ms/step\n"
     ]
    },
    {
     "name": "stderr",
     "output_type": "stream",
     "text": [
      "\r",
      "  6%|███████▌                                                                                                                       | 237/4002 [00:22<04:57, 12.64it/s]"
     ]
    },
    {
     "name": "stdout",
     "output_type": "stream",
     "text": [
      "dataset\\data\\6\\12131.jpg\n",
      "1/1 [==============================] - 0s 36ms/step\n",
      "dataset\\data\\6\\12134.jpg\n",
      "1/1 [==============================] - 0s 32ms/step\n"
     ]
    },
    {
     "name": "stderr",
     "output_type": "stream",
     "text": [
      "\r",
      "  6%|███████▌                                                                                                                       | 239/4002 [00:22<05:14, 11.95it/s]"
     ]
    },
    {
     "name": "stdout",
     "output_type": "stream",
     "text": [
      "dataset\\data\\6\\12135.jpg\n",
      "1/1 [==============================] - 0s 29ms/step\n",
      "dataset\\data\\6\\1214.jpg\n",
      "1/1 [==============================] - 0s 30ms/step\n"
     ]
    },
    {
     "name": "stderr",
     "output_type": "stream",
     "text": [
      "\r",
      "  6%|███████▋                                                                                                                       | 241/4002 [00:23<05:16, 11.88it/s]"
     ]
    },
    {
     "name": "stdout",
     "output_type": "stream",
     "text": [
      "dataset\\data\\6\\12148.jpg\n",
      "1/1 [==============================] - 0s 30ms/step\n",
      "dataset\\data\\6\\12176.jpg\n",
      "1/1 [==============================] - 0s 32ms/step\n"
     ]
    },
    {
     "name": "stderr",
     "output_type": "stream",
     "text": [
      "\r",
      "  6%|███████▋                                                                                                                       | 243/4002 [00:23<05:51, 10.71it/s]"
     ]
    },
    {
     "name": "stdout",
     "output_type": "stream",
     "text": [
      "dataset\\data\\6\\12178.jpg\n",
      "1/1 [==============================] - 0s 30ms/step\n",
      "dataset\\data\\6\\12195.jpg\n",
      "1/1 [==============================] - 0s 24ms/step\n"
     ]
    },
    {
     "name": "stderr",
     "output_type": "stream",
     "text": [
      "\r",
      "  6%|███████▊                                                                                                                       | 245/4002 [00:23<05:42, 10.96it/s]"
     ]
    },
    {
     "name": "stdout",
     "output_type": "stream",
     "text": [
      "dataset\\data\\6\\12201.jpg\n",
      "1/1 [==============================] - 0s 29ms/step\n",
      "dataset\\data\\6\\12219.jpg\n",
      "1/1 [==============================] - 0s 29ms/step\n"
     ]
    },
    {
     "name": "stderr",
     "output_type": "stream",
     "text": [
      "\r",
      "  6%|███████▊                                                                                                                       | 247/4002 [00:23<05:32, 11.29it/s]"
     ]
    },
    {
     "name": "stdout",
     "output_type": "stream",
     "text": [
      "dataset\\data\\6\\12224.jpg\n",
      "1/1 [==============================] - 0s 27ms/step\n",
      "dataset\\data\\6\\12226.jpg\n",
      "1/1 [==============================] - 0s 45ms/step\n"
     ]
    },
    {
     "name": "stderr",
     "output_type": "stream",
     "text": [
      "\r",
      "  6%|███████▉                                                                                                                       | 249/4002 [00:23<05:31, 11.31it/s]"
     ]
    },
    {
     "name": "stdout",
     "output_type": "stream",
     "text": [
      "dataset\\data\\6\\1224.jpg\n",
      "1/1 [==============================] - 0s 29ms/step\n",
      "dataset\\data\\6\\12253.jpg\n",
      "1/1 [==============================] - 0s 40ms/step\n"
     ]
    },
    {
     "name": "stderr",
     "output_type": "stream",
     "text": [
      "\r",
      "  6%|███████▉                                                                                                                       | 251/4002 [00:24<05:52, 10.64it/s]"
     ]
    },
    {
     "name": "stdout",
     "output_type": "stream",
     "text": [
      "dataset\\data\\6\\12276.jpg\n",
      "1/1 [==============================] - 0s 58ms/step\n",
      "dataset\\data\\6\\12285.jpg\n",
      "1/1 [==============================] - 0s 40ms/step\n"
     ]
    },
    {
     "name": "stderr",
     "output_type": "stream",
     "text": [
      "\r",
      "  6%|████████                                                                                                                       | 253/4002 [00:24<07:28,  8.37it/s]"
     ]
    },
    {
     "name": "stdout",
     "output_type": "stream",
     "text": [
      "dataset\\data\\6\\12287.jpg\n",
      "1/1 [==============================] - 0s 28ms/step\n"
     ]
    },
    {
     "name": "stderr",
     "output_type": "stream",
     "text": [
      "\r",
      "  6%|████████                                                                                                                       | 254/4002 [00:24<07:24,  8.44it/s]"
     ]
    },
    {
     "name": "stdout",
     "output_type": "stream",
     "text": [
      "dataset\\data\\6\\12299.jpg\n",
      "1/1 [==============================] - 0s 27ms/step\n",
      "dataset\\data\\6\\12312.jpg\n",
      "1/1 [==============================] - 0s 31ms/step\n"
     ]
    },
    {
     "name": "stderr",
     "output_type": "stream",
     "text": [
      "\r",
      "  6%|████████                                                                                                                       | 256/4002 [00:24<06:57,  8.97it/s]"
     ]
    },
    {
     "name": "stdout",
     "output_type": "stream",
     "text": [
      "dataset\\data\\6\\1232.jpg\n",
      "1/1 [==============================] - 0s 26ms/step\n",
      "dataset\\data\\6\\12320.jpg\n",
      "1/1 [==============================] - 0s 29ms/step\n"
     ]
    },
    {
     "name": "stderr",
     "output_type": "stream",
     "text": [
      "\r",
      "  6%|████████▏                                                                                                                      | 258/4002 [00:24<06:32,  9.54it/s]"
     ]
    },
    {
     "name": "stdout",
     "output_type": "stream",
     "text": [
      "dataset\\data\\6\\12330.jpg\n",
      "1/1 [==============================] - 0s 19ms/step\n",
      "dataset\\data\\6\\12338.jpg\n",
      "1/1 [==============================] - 0s 32ms/step\n"
     ]
    },
    {
     "name": "stderr",
     "output_type": "stream",
     "text": [
      "\r",
      "  6%|████████▎                                                                                                                      | 260/4002 [00:25<06:05, 10.25it/s]"
     ]
    },
    {
     "name": "stdout",
     "output_type": "stream",
     "text": [
      "dataset\\data\\6\\12341.jpg\n",
      "1/1 [==============================] - 0s 30ms/step\n",
      "dataset\\data\\6\\12342.jpg\n",
      "1/1 [==============================] - 0s 29ms/step\n"
     ]
    },
    {
     "name": "stderr",
     "output_type": "stream",
     "text": [
      "\r",
      "  7%|████████▎                                                                                                                      | 262/4002 [00:25<05:44, 10.87it/s]"
     ]
    },
    {
     "name": "stdout",
     "output_type": "stream",
     "text": [
      "dataset\\data\\6\\12358.jpg\n",
      "1/1 [==============================] - 0s 20ms/step\n",
      "dataset\\data\\6\\12368.jpg\n",
      "1/1 [==============================] - 0s 32ms/step\n"
     ]
    },
    {
     "name": "stderr",
     "output_type": "stream",
     "text": [
      "\r",
      "  7%|████████▍                                                                                                                      | 264/4002 [00:25<05:25, 11.48it/s]"
     ]
    },
    {
     "name": "stdout",
     "output_type": "stream",
     "text": [
      "dataset\\data\\6\\12371.jpg\n",
      "1/1 [==============================] - 0s 28ms/step\n",
      "dataset\\data\\6\\12373.jpg\n",
      "1/1 [==============================] - 0s 18ms/step\n"
     ]
    },
    {
     "name": "stderr",
     "output_type": "stream",
     "text": [
      "\r",
      "  7%|████████▍                                                                                                                      | 266/4002 [00:25<05:15, 11.84it/s]"
     ]
    },
    {
     "name": "stdout",
     "output_type": "stream",
     "text": [
      "dataset\\data\\6\\12385.jpg\n",
      "1/1 [==============================] - 0s 24ms/step\n",
      "dataset\\data\\6\\1239.jpg\n",
      "1/1 [==============================] - 0s 28ms/step\n"
     ]
    },
    {
     "name": "stderr",
     "output_type": "stream",
     "text": [
      "\r",
      "  7%|████████▌                                                                                                                      | 268/4002 [00:25<05:07, 12.15it/s]"
     ]
    },
    {
     "name": "stdout",
     "output_type": "stream",
     "text": [
      "dataset\\data\\6\\12409.jpg\n",
      "1/1 [==============================] - 0s 23ms/step\n",
      "dataset\\data\\6\\12412.jpg\n",
      "1/1 [==============================] - 0s 38ms/step\n"
     ]
    },
    {
     "name": "stderr",
     "output_type": "stream",
     "text": [
      "\r",
      "  7%|████████▌                                                                                                                      | 270/4002 [00:25<05:01, 12.38it/s]"
     ]
    },
    {
     "name": "stdout",
     "output_type": "stream",
     "text": [
      "dataset\\data\\6\\12425.jpg\n",
      "1/1 [==============================] - 0s 28ms/step\n",
      "dataset\\data\\6\\12453.jpg\n",
      "1/1 [==============================] - 0s 42ms/step\n"
     ]
    },
    {
     "name": "stderr",
     "output_type": "stream",
     "text": [
      "\r",
      "  7%|████████▋                                                                                                                      | 272/4002 [00:26<05:07, 12.14it/s]"
     ]
    },
    {
     "name": "stdout",
     "output_type": "stream",
     "text": [
      "dataset\\data\\6\\12454.jpg\n",
      "1/1 [==============================] - 0s 32ms/step\n",
      "dataset\\data\\6\\12458.jpg\n",
      "1/1 [==============================] - 0s 39ms/step\n"
     ]
    },
    {
     "name": "stderr",
     "output_type": "stream",
     "text": [
      "\r",
      "  7%|████████▋                                                                                                                      | 274/4002 [00:26<05:18, 11.72it/s]"
     ]
    },
    {
     "name": "stdout",
     "output_type": "stream",
     "text": [
      "dataset\\data\\6\\12461.jpg\n",
      "1/1 [==============================] - 0s 73ms/step\n",
      "dataset\\data\\6\\12463.jpg\n",
      "1/1 [==============================] - 0s 45ms/step\n"
     ]
    },
    {
     "name": "stderr",
     "output_type": "stream",
     "text": [
      "\r",
      "  7%|████████▊                                                                                                                      | 276/4002 [00:26<06:23,  9.72it/s]"
     ]
    },
    {
     "name": "stdout",
     "output_type": "stream",
     "text": [
      "dataset\\data\\6\\12467.jpg\n",
      "1/1 [==============================] - 0s 20ms/step\n",
      "dataset\\data\\6\\12470.jpg\n",
      "1/1 [==============================] - 0s 34ms/step\n"
     ]
    },
    {
     "name": "stderr",
     "output_type": "stream",
     "text": [
      "\r",
      "  7%|████████▊                                                                                                                      | 278/4002 [00:26<06:00, 10.32it/s]"
     ]
    },
    {
     "name": "stdout",
     "output_type": "stream",
     "text": [
      "dataset\\data\\6\\12473.jpg\n",
      "1/1 [==============================] - 0s 25ms/step\n",
      "dataset\\data\\6\\12486.jpg\n",
      "1/1 [==============================] - 0s 32ms/step\n"
     ]
    },
    {
     "name": "stderr",
     "output_type": "stream",
     "text": [
      "\r",
      "  7%|████████▉                                                                                                                      | 280/4002 [00:26<05:38, 10.99it/s]"
     ]
    },
    {
     "name": "stdout",
     "output_type": "stream",
     "text": [
      "dataset\\data\\6\\1249.jpg\n",
      "1/1 [==============================] - 0s 27ms/step\n",
      "dataset\\data\\6\\12490.jpg\n",
      "1/1 [==============================] - 0s 28ms/step\n"
     ]
    },
    {
     "name": "stderr",
     "output_type": "stream",
     "text": [
      "\r",
      "  7%|████████▉                                                                                                                      | 282/4002 [00:26<05:25, 11.44it/s]"
     ]
    },
    {
     "name": "stdout",
     "output_type": "stream",
     "text": [
      "dataset\\data\\6\\12504.jpg\n",
      "1/1 [==============================] - 0s 27ms/step\n",
      "dataset\\data\\6\\12505.jpg\n",
      "1/1 [==============================] - 0s 27ms/step\n"
     ]
    },
    {
     "name": "stderr",
     "output_type": "stream",
     "text": [
      "\r",
      "  7%|█████████                                                                                                                      | 284/4002 [00:27<05:13, 11.87it/s]"
     ]
    },
    {
     "name": "stdout",
     "output_type": "stream",
     "text": [
      "dataset\\data\\6\\12513.jpg\n",
      "1/1 [==============================] - 0s 25ms/step\n",
      "dataset\\data\\6\\12522.jpg\n",
      "1/1 [==============================] - 0s 29ms/step\n"
     ]
    },
    {
     "name": "stderr",
     "output_type": "stream",
     "text": [
      "\r",
      "  7%|█████████                                                                                                                      | 286/4002 [00:27<05:07, 12.08it/s]"
     ]
    },
    {
     "name": "stdout",
     "output_type": "stream",
     "text": [
      "dataset\\data\\6\\12523.jpg\n",
      "1/1 [==============================] - 0s 28ms/step\n",
      "dataset\\data\\6\\12529.jpg\n",
      "1/1 [==============================] - 0s 21ms/step\n"
     ]
    },
    {
     "name": "stderr",
     "output_type": "stream",
     "text": [
      "\r",
      "  7%|█████████▏                                                                                                                     | 288/4002 [00:27<05:02, 12.29it/s]"
     ]
    },
    {
     "name": "stdout",
     "output_type": "stream",
     "text": [
      "dataset\\data\\6\\12533.jpg\n",
      "1/1 [==============================] - 0s 28ms/step\n",
      "dataset\\data\\6\\12536.jpg\n",
      "1/1 [==============================] - 0s 28ms/step\n"
     ]
    },
    {
     "name": "stderr",
     "output_type": "stream",
     "text": [
      "\r",
      "  7%|█████████▏                                                                                                                     | 290/4002 [00:27<04:59, 12.37it/s]"
     ]
    },
    {
     "name": "stdout",
     "output_type": "stream",
     "text": [
      "dataset\\data\\6\\12538.jpg\n",
      "1/1 [==============================] - 0s 16ms/step\n",
      "dataset\\data\\6\\12541.jpg\n",
      "1/1 [==============================] - 0s 26ms/step\n"
     ]
    },
    {
     "name": "stderr",
     "output_type": "stream",
     "text": [
      "\r",
      "  7%|█████████▎                                                                                                                     | 292/4002 [00:27<04:49, 12.81it/s]"
     ]
    },
    {
     "name": "stdout",
     "output_type": "stream",
     "text": [
      "dataset\\data\\6\\12551.jpg\n",
      "1/1 [==============================] - 0s 31ms/step\n",
      "dataset\\data\\6\\12564.jpg\n",
      "1/1 [==============================] - 0s 20ms/step\n"
     ]
    },
    {
     "name": "stderr",
     "output_type": "stream",
     "text": [
      "\r",
      "  7%|█████████▎                                                                                                                     | 294/4002 [00:27<04:54, 12.59it/s]"
     ]
    },
    {
     "name": "stdout",
     "output_type": "stream",
     "text": [
      "dataset\\data\\6\\12567.jpg\n",
      "1/1 [==============================] - 0s 25ms/step\n",
      "dataset\\data\\6\\12587.jpg\n",
      "1/1 [==============================] - 0s 27ms/step\n"
     ]
    },
    {
     "name": "stderr",
     "output_type": "stream",
     "text": [
      "\r",
      "  7%|█████████▍                                                                                                                     | 296/4002 [00:28<04:50, 12.75it/s]"
     ]
    },
    {
     "name": "stdout",
     "output_type": "stream",
     "text": [
      "dataset\\data\\6\\12596.jpg\n",
      "1/1 [==============================] - 0s 25ms/step\n",
      "dataset\\data\\6\\12605.jpg\n",
      "1/1 [==============================] - 0s 28ms/step\n"
     ]
    },
    {
     "name": "stderr",
     "output_type": "stream",
     "text": [
      "\r",
      "  7%|█████████▍                                                                                                                     | 298/4002 [00:28<04:47, 12.88it/s]"
     ]
    },
    {
     "name": "stdout",
     "output_type": "stream",
     "text": [
      "dataset\\data\\6\\12607.jpg\n",
      "1/1 [==============================] - 0s 28ms/step\n",
      "dataset\\data\\6\\1261.jpg\n",
      "1/1 [==============================] - 0s 27ms/step\n"
     ]
    },
    {
     "name": "stderr",
     "output_type": "stream",
     "text": [
      "\r",
      "  7%|█████████▌                                                                                                                     | 300/4002 [00:28<04:53, 12.60it/s]"
     ]
    },
    {
     "name": "stdout",
     "output_type": "stream",
     "text": [
      "dataset\\data\\6\\12610.jpg\n",
      "1/1 [==============================] - 0s 28ms/step\n",
      "dataset\\data\\6\\12624.jpg\n",
      "1/1 [==============================] - 0s 21ms/step\n"
     ]
    },
    {
     "name": "stderr",
     "output_type": "stream",
     "text": [
      "\r",
      "  8%|█████████▌                                                                                                                     | 302/4002 [00:28<04:46, 12.91it/s]"
     ]
    },
    {
     "name": "stdout",
     "output_type": "stream",
     "text": [
      "dataset\\data\\6\\12626.jpg\n",
      "1/1 [==============================] - 0s 28ms/step\n",
      "dataset\\data\\6\\12631.jpg\n",
      "1/1 [==============================] - 0s 18ms/step\n"
     ]
    },
    {
     "name": "stderr",
     "output_type": "stream",
     "text": [
      "\r",
      "  8%|█████████▋                                                                                                                     | 304/4002 [00:28<04:52, 12.64it/s]"
     ]
    },
    {
     "name": "stdout",
     "output_type": "stream",
     "text": [
      "dataset\\data\\6\\12639.jpg\n",
      "1/1 [==============================] - 0s 27ms/step\n",
      "dataset\\data\\6\\12657.jpg\n",
      "1/1 [==============================] - 0s 32ms/step\n"
     ]
    },
    {
     "name": "stderr",
     "output_type": "stream",
     "text": [
      "\r",
      "  8%|█████████▋                                                                                                                     | 306/4002 [00:28<04:51, 12.68it/s]"
     ]
    },
    {
     "name": "stdout",
     "output_type": "stream",
     "text": [
      "dataset\\data\\6\\12662.jpg\n",
      "1/1 [==============================] - 0s 27ms/step\n",
      "dataset\\data\\6\\12677.jpg\n",
      "1/1 [==============================] - 0s 20ms/step\n"
     ]
    },
    {
     "name": "stderr",
     "output_type": "stream",
     "text": [
      "\r",
      "  8%|█████████▊                                                                                                                     | 308/4002 [00:28<04:53, 12.59it/s]"
     ]
    },
    {
     "name": "stdout",
     "output_type": "stream",
     "text": [
      "dataset\\data\\6\\12684.jpg\n",
      "1/1 [==============================] - 0s 25ms/step\n",
      "dataset\\data\\6\\12685.jpg\n",
      "1/1 [==============================] - 0s 30ms/step\n"
     ]
    },
    {
     "name": "stderr",
     "output_type": "stream",
     "text": [
      "\r",
      "  8%|█████████▊                                                                                                                     | 310/4002 [00:29<04:49, 12.76it/s]"
     ]
    },
    {
     "name": "stdout",
     "output_type": "stream",
     "text": [
      "dataset\\data\\6\\12703.jpg\n",
      "1/1 [==============================] - 0s 26ms/step\n",
      "dataset\\data\\6\\12713.jpg\n",
      "1/1 [==============================] - 0s 16ms/step\n"
     ]
    },
    {
     "name": "stderr",
     "output_type": "stream",
     "text": [
      "\r",
      "  8%|█████████▉                                                                                                                     | 312/4002 [00:29<04:44, 12.98it/s]"
     ]
    },
    {
     "name": "stdout",
     "output_type": "stream",
     "text": [
      "dataset\\data\\6\\12719.jpg\n",
      "1/1 [==============================] - 0s 28ms/step\n",
      "dataset\\data\\6\\12723.jpg\n",
      "1/1 [==============================] - 0s 30ms/step\n"
     ]
    },
    {
     "name": "stderr",
     "output_type": "stream",
     "text": [
      "\r",
      "  8%|█████████▉                                                                                                                     | 314/4002 [00:29<04:44, 12.97it/s]"
     ]
    },
    {
     "name": "stdout",
     "output_type": "stream",
     "text": [
      "dataset\\data\\6\\12745.jpg\n",
      "1/1 [==============================] - 0s 17ms/step\n",
      "dataset\\data\\6\\12748.jpg\n",
      "1/1 [==============================] - 0s 26ms/step\n"
     ]
    },
    {
     "name": "stderr",
     "output_type": "stream",
     "text": [
      "\r",
      "  8%|██████████                                                                                                                     | 316/4002 [00:29<04:58, 12.34it/s]"
     ]
    },
    {
     "name": "stdout",
     "output_type": "stream",
     "text": [
      "dataset\\data\\6\\12756.jpg\n",
      "1/1 [==============================] - 0s 24ms/step\n",
      "dataset\\data\\6\\12763.jpg\n",
      "1/1 [==============================] - 0s 18ms/step\n"
     ]
    },
    {
     "name": "stderr",
     "output_type": "stream",
     "text": [
      "\r",
      "  8%|██████████                                                                                                                     | 318/4002 [00:29<04:59, 12.32it/s]"
     ]
    },
    {
     "name": "stdout",
     "output_type": "stream",
     "text": [
      "dataset\\data\\6\\12768.jpg\n",
      "1/1 [==============================] - 0s 43ms/step\n",
      "dataset\\data\\6\\12771.jpg\n",
      "1/1 [==============================] - 0s 35ms/step\n"
     ]
    },
    {
     "name": "stderr",
     "output_type": "stream",
     "text": [
      "\r",
      "  8%|██████████▏                                                                                                                    | 320/4002 [00:30<05:29, 11.19it/s]"
     ]
    },
    {
     "name": "stdout",
     "output_type": "stream",
     "text": [
      "dataset\\data\\6\\1278.jpg\n",
      "1/1 [==============================] - 0s 30ms/step\n",
      "dataset\\data\\6\\12780.jpg\n",
      "1/1 [==============================] - 0s 21ms/step\n"
     ]
    },
    {
     "name": "stderr",
     "output_type": "stream",
     "text": [
      "\r",
      "  8%|██████████▏                                                                                                                    | 322/4002 [00:30<05:27, 11.25it/s]"
     ]
    },
    {
     "name": "stdout",
     "output_type": "stream",
     "text": [
      "dataset\\data\\6\\12782.jpg\n",
      "1/1 [==============================] - 0s 26ms/step\n",
      "dataset\\data\\6\\12792.jpg\n",
      "1/1 [==============================] - 0s 24ms/step\n"
     ]
    },
    {
     "name": "stderr",
     "output_type": "stream",
     "text": [
      "\r",
      "  8%|██████████▎                                                                                                                    | 324/4002 [00:30<05:08, 11.92it/s]"
     ]
    },
    {
     "name": "stdout",
     "output_type": "stream",
     "text": [
      "dataset\\data\\6\\12794.jpg\n",
      "1/1 [==============================] - 0s 28ms/step\n",
      "dataset\\data\\6\\128.jpg\n",
      "1/1 [==============================] - 0s 30ms/step\n"
     ]
    },
    {
     "name": "stderr",
     "output_type": "stream",
     "text": [
      "\r",
      "  8%|██████████▎                                                                                                                    | 326/4002 [00:30<05:11, 11.79it/s]"
     ]
    },
    {
     "name": "stdout",
     "output_type": "stream",
     "text": [
      "dataset\\data\\6\\12813.jpg\n",
      "1/1 [==============================] - 0s 27ms/step\n",
      "dataset\\data\\6\\12825.jpg\n",
      "1/1 [==============================] - 0s 27ms/step\n"
     ]
    },
    {
     "name": "stderr",
     "output_type": "stream",
     "text": [
      "\r",
      "  8%|██████████▍                                                                                                                    | 328/4002 [00:30<04:56, 12.39it/s]"
     ]
    },
    {
     "name": "stdout",
     "output_type": "stream",
     "text": [
      "dataset\\data\\6\\12829.jpg\n",
      "1/1 [==============================] - 0s 17ms/step\n",
      "dataset\\data\\6\\12844.jpg\n",
      "1/1 [==============================] - 0s 28ms/step\n"
     ]
    },
    {
     "name": "stderr",
     "output_type": "stream",
     "text": [
      "\r",
      "  8%|██████████▍                                                                                                                    | 330/4002 [00:30<04:53, 12.49it/s]"
     ]
    },
    {
     "name": "stdout",
     "output_type": "stream",
     "text": [
      "dataset\\data\\6\\12854.jpg\n",
      "1/1 [==============================] - 0s 27ms/step\n",
      "dataset\\data\\6\\12865.jpg\n",
      "1/1 [==============================] - 0s 16ms/step\n"
     ]
    },
    {
     "name": "stderr",
     "output_type": "stream",
     "text": [
      "\r",
      "  8%|██████████▌                                                                                                                    | 332/4002 [00:30<04:52, 12.54it/s]"
     ]
    },
    {
     "name": "stdout",
     "output_type": "stream",
     "text": [
      "dataset\\data\\6\\12877.jpg\n",
      "1/1 [==============================] - 0s 41ms/step\n",
      "dataset\\data\\6\\1289.jpg\n",
      "1/1 [==============================] - 0s 40ms/step\n"
     ]
    },
    {
     "name": "stderr",
     "output_type": "stream",
     "text": [
      "\r",
      "  8%|██████████▌                                                                                                                    | 334/4002 [00:31<05:22, 11.36it/s]"
     ]
    },
    {
     "name": "stdout",
     "output_type": "stream",
     "text": [
      "dataset\\data\\6\\12900.jpg\n",
      "1/1 [==============================] - 0s 44ms/step\n",
      "dataset\\data\\6\\12903.jpg\n",
      "1/1 [==============================] - 0s 42ms/step\n"
     ]
    },
    {
     "name": "stderr",
     "output_type": "stream",
     "text": [
      "\r",
      "  8%|██████████▋                                                                                                                    | 336/4002 [00:31<05:52, 10.41it/s]"
     ]
    },
    {
     "name": "stdout",
     "output_type": "stream",
     "text": [
      "dataset\\data\\6\\12907.jpg\n",
      "1/1 [==============================] - 0s 38ms/step\n",
      "dataset\\data\\6\\12908.jpg\n",
      "1/1 [==============================] - 0s 14ms/step\n"
     ]
    },
    {
     "name": "stderr",
     "output_type": "stream",
     "text": [
      "\r",
      "  8%|██████████▋                                                                                                                    | 338/4002 [00:31<05:48, 10.51it/s]"
     ]
    },
    {
     "name": "stdout",
     "output_type": "stream",
     "text": [
      "dataset\\data\\6\\12909.jpg\n",
      "1/1 [==============================] - 0s 26ms/step\n",
      "dataset\\data\\6\\1291.jpg\n",
      "1/1 [==============================] - 0s 32ms/step\n"
     ]
    },
    {
     "name": "stderr",
     "output_type": "stream",
     "text": [
      "\r",
      "  8%|██████████▊                                                                                                                    | 340/4002 [00:31<05:33, 10.97it/s]"
     ]
    },
    {
     "name": "stdout",
     "output_type": "stream",
     "text": [
      "dataset\\data\\6\\12911.jpg\n",
      "1/1 [==============================] - 0s 30ms/step\n",
      "dataset\\data\\6\\12918.jpg\n",
      "1/1 [==============================] - 0s 29ms/step\n"
     ]
    },
    {
     "name": "stderr",
     "output_type": "stream",
     "text": [
      "\r",
      "  9%|██████████▊                                                                                                                    | 342/4002 [00:31<05:23, 11.30it/s]"
     ]
    },
    {
     "name": "stdout",
     "output_type": "stream",
     "text": [
      "dataset\\data\\6\\12924.jpg\n",
      "1/1 [==============================] - 0s 28ms/step\n",
      "dataset\\data\\6\\12929.jpg\n",
      "1/1 [==============================] - 0s 27ms/step\n"
     ]
    },
    {
     "name": "stderr",
     "output_type": "stream",
     "text": [
      "\r",
      "  9%|██████████▉                                                                                                                    | 344/4002 [00:32<05:06, 11.95it/s]"
     ]
    },
    {
     "name": "stdout",
     "output_type": "stream",
     "text": [
      "dataset\\data\\6\\12930.jpg\n",
      "1/1 [==============================] - 0s 23ms/step\n",
      "dataset\\data\\6\\12942.jpg\n",
      "1/1 [==============================] - 0s 26ms/step\n"
     ]
    },
    {
     "name": "stderr",
     "output_type": "stream",
     "text": [
      "\r",
      "  9%|██████████▉                                                                                                                    | 346/4002 [00:32<04:56, 12.32it/s]"
     ]
    },
    {
     "name": "stdout",
     "output_type": "stream",
     "text": [
      "dataset\\data\\6\\12955.jpg\n",
      "1/1 [==============================] - 0s 26ms/step\n",
      "dataset\\data\\6\\12960.jpg\n",
      "1/1 [==============================] - 0s 33ms/step\n"
     ]
    },
    {
     "name": "stderr",
     "output_type": "stream",
     "text": [
      "\r",
      "  9%|███████████                                                                                                                    | 348/4002 [00:32<04:57, 12.28it/s]"
     ]
    },
    {
     "name": "stdout",
     "output_type": "stream",
     "text": [
      "dataset\\data\\6\\12973.jpg\n",
      "1/1 [==============================] - 0s 25ms/step\n",
      "dataset\\data\\6\\12974.jpg\n",
      "1/1 [==============================] - 0s 18ms/step\n"
     ]
    },
    {
     "name": "stderr",
     "output_type": "stream",
     "text": [
      "\r",
      "  9%|███████████                                                                                                                    | 350/4002 [00:32<04:50, 12.59it/s]"
     ]
    },
    {
     "name": "stdout",
     "output_type": "stream",
     "text": [
      "dataset\\data\\6\\12990.jpg\n",
      "1/1 [==============================] - 0s 27ms/step\n",
      "dataset\\data\\6\\12997.jpg\n",
      "1/1 [==============================] - 0s 32ms/step\n"
     ]
    },
    {
     "name": "stderr",
     "output_type": "stream",
     "text": [
      "\r",
      "  9%|███████████▏                                                                                                                   | 352/4002 [00:32<04:48, 12.66it/s]"
     ]
    },
    {
     "name": "stdout",
     "output_type": "stream",
     "text": [
      "dataset\\data\\6\\13004.jpg\n",
      "1/1 [==============================] - 0s 28ms/step\n",
      "dataset\\data\\6\\13009.jpg\n",
      "1/1 [==============================] - 0s 29ms/step\n"
     ]
    },
    {
     "name": "stderr",
     "output_type": "stream",
     "text": [
      "\r",
      "  9%|███████████▏                                                                                                                   | 354/4002 [00:32<04:52, 12.49it/s]"
     ]
    },
    {
     "name": "stdout",
     "output_type": "stream",
     "text": [
      "dataset\\data\\6\\13018.jpg\n",
      "1/1 [==============================] - 0s 20ms/step\n",
      "dataset\\data\\6\\13023.jpg\n",
      "1/1 [==============================] - 0s 27ms/step\n"
     ]
    },
    {
     "name": "stderr",
     "output_type": "stream",
     "text": [
      "\r",
      "  9%|███████████▎                                                                                                                   | 356/4002 [00:32<04:45, 12.77it/s]"
     ]
    },
    {
     "name": "stdout",
     "output_type": "stream",
     "text": [
      "dataset\\data\\6\\13031.jpg\n",
      "1/1 [==============================] - 0s 25ms/step\n",
      "dataset\\data\\6\\13033.jpg\n",
      "1/1 [==============================] - 0s 28ms/step\n"
     ]
    },
    {
     "name": "stderr",
     "output_type": "stream",
     "text": [
      "\r",
      "  9%|███████████▎                                                                                                                   | 358/4002 [00:33<04:40, 12.99it/s]"
     ]
    },
    {
     "name": "stdout",
     "output_type": "stream",
     "text": [
      "dataset\\data\\6\\13042.jpg\n",
      "1/1 [==============================] - 0s 28ms/step\n",
      "dataset\\data\\6\\13061.jpg\n",
      "1/1 [==============================] - 0s 34ms/step\n"
     ]
    },
    {
     "name": "stderr",
     "output_type": "stream",
     "text": [
      "\r",
      "  9%|███████████▍                                                                                                                   | 360/4002 [00:33<04:44, 12.81it/s]"
     ]
    },
    {
     "name": "stdout",
     "output_type": "stream",
     "text": [
      "dataset\\data\\6\\13068.jpg\n",
      "1/1 [==============================] - 0s 49ms/step\n",
      "dataset\\data\\6\\13077.jpg\n",
      "1/1 [==============================] - 0s 47ms/step\n"
     ]
    },
    {
     "name": "stderr",
     "output_type": "stream",
     "text": [
      "\r",
      "  9%|███████████▍                                                                                                                   | 362/4002 [00:33<05:48, 10.44it/s]"
     ]
    },
    {
     "name": "stdout",
     "output_type": "stream",
     "text": [
      "dataset\\data\\6\\13080.jpg\n",
      "1/1 [==============================] - 0s 34ms/step\n",
      "dataset\\data\\6\\13090.jpg\n",
      "1/1 [==============================] - 0s 20ms/step\n"
     ]
    },
    {
     "name": "stderr",
     "output_type": "stream",
     "text": [
      "\r",
      "  9%|███████████▌                                                                                                                   | 364/4002 [00:33<05:46, 10.49it/s]"
     ]
    },
    {
     "name": "stdout",
     "output_type": "stream",
     "text": [
      "dataset\\data\\6\\13101.jpg\n",
      "1/1 [==============================] - 0s 25ms/step\n",
      "dataset\\data\\6\\13104.jpg\n",
      "1/1 [==============================] - 0s 32ms/step\n"
     ]
    },
    {
     "name": "stderr",
     "output_type": "stream",
     "text": [
      "\r",
      "  9%|███████████▌                                                                                                                   | 366/4002 [00:33<05:31, 10.97it/s]"
     ]
    },
    {
     "name": "stdout",
     "output_type": "stream",
     "text": [
      "dataset\\data\\6\\13107.jpg\n",
      "1/1 [==============================] - 0s 31ms/step\n",
      "dataset\\data\\6\\13131.jpg\n",
      "1/1 [==============================] - 0s 25ms/step\n"
     ]
    },
    {
     "name": "stderr",
     "output_type": "stream",
     "text": [
      "\r",
      "  9%|███████████▋                                                                                                                   | 368/4002 [00:34<05:22, 11.26it/s]"
     ]
    },
    {
     "name": "stdout",
     "output_type": "stream",
     "text": [
      "dataset\\data\\6\\13145.jpg\n",
      "1/1 [==============================] - 0s 26ms/step\n",
      "dataset\\data\\6\\13165.jpg\n",
      "1/1 [==============================] - 0s 30ms/step\n"
     ]
    },
    {
     "name": "stderr",
     "output_type": "stream",
     "text": [
      "\r",
      "  9%|███████████▋                                                                                                                   | 370/4002 [00:34<05:25, 11.15it/s]"
     ]
    },
    {
     "name": "stdout",
     "output_type": "stream",
     "text": [
      "dataset\\data\\6\\13169.jpg\n",
      "1/1 [==============================] - 0s 31ms/step\n",
      "dataset\\data\\6\\13173.jpg\n",
      "1/1 [==============================] - 0s 24ms/step\n"
     ]
    },
    {
     "name": "stderr",
     "output_type": "stream",
     "text": [
      "\r",
      "  9%|███████████▊                                                                                                                   | 372/4002 [00:34<05:16, 11.47it/s]"
     ]
    },
    {
     "name": "stdout",
     "output_type": "stream",
     "text": [
      "dataset\\data\\6\\13177.jpg\n",
      "1/1 [==============================] - 0s 20ms/step\n",
      "dataset\\data\\6\\1318.jpg\n",
      "1/1 [==============================] - 0s 28ms/step\n"
     ]
    },
    {
     "name": "stderr",
     "output_type": "stream",
     "text": [
      "\r",
      "  9%|███████████▊                                                                                                                   | 374/4002 [00:34<05:05, 11.87it/s]"
     ]
    },
    {
     "name": "stdout",
     "output_type": "stream",
     "text": [
      "dataset\\data\\6\\13184.jpg\n",
      "1/1 [==============================] - 0s 31ms/step\n",
      "dataset\\data\\6\\13189.jpg\n",
      "1/1 [==============================] - 0s 163ms/step\n"
     ]
    },
    {
     "name": "stderr",
     "output_type": "stream",
     "text": [
      "\r",
      "  9%|███████████▉                                                                                                                   | 376/4002 [00:34<06:36,  9.14it/s]"
     ]
    },
    {
     "name": "stdout",
     "output_type": "stream",
     "text": [
      "dataset\\data\\6\\13192.jpg\n",
      "1/1 [==============================] - 0s 61ms/step\n",
      "dataset\\data\\6\\13194.jpg\n",
      "1/1 [==============================] - 0s 72ms/step\n"
     ]
    },
    {
     "name": "stderr",
     "output_type": "stream",
     "text": [
      "\r",
      "  9%|███████████▉                                                                                                                   | 378/4002 [00:35<10:02,  6.01it/s]"
     ]
    },
    {
     "name": "stdout",
     "output_type": "stream",
     "text": [
      "dataset\\data\\6\\132.jpg\n",
      "1/1 [==============================] - 0s 66ms/step\n"
     ]
    },
    {
     "name": "stderr",
     "output_type": "stream",
     "text": [
      "\r",
      "  9%|████████████                                                                                                                   | 379/4002 [00:35<10:08,  5.95it/s]"
     ]
    },
    {
     "name": "stdout",
     "output_type": "stream",
     "text": [
      "dataset\\data\\6\\1320.jpg\n",
      "1/1 [==============================] - 0s 75ms/step\n"
     ]
    },
    {
     "name": "stderr",
     "output_type": "stream",
     "text": [
      "\r",
      "  9%|████████████                                                                                                                   | 380/4002 [00:35<10:13,  5.91it/s]"
     ]
    },
    {
     "name": "stdout",
     "output_type": "stream",
     "text": [
      "dataset\\data\\6\\13202.jpg\n",
      "1/1 [==============================] - 0s 50ms/step\n"
     ]
    },
    {
     "name": "stderr",
     "output_type": "stream",
     "text": [
      "\r",
      " 10%|████████████                                                                                                                   | 381/4002 [00:36<11:03,  5.46it/s]"
     ]
    },
    {
     "name": "stdout",
     "output_type": "stream",
     "text": [
      "dataset\\data\\6\\13203.jpg\n",
      "1/1 [==============================] - 0s 44ms/step\n"
     ]
    },
    {
     "name": "stderr",
     "output_type": "stream",
     "text": [
      "\r",
      " 10%|████████████                                                                                                                   | 382/4002 [00:36<10:46,  5.60it/s]"
     ]
    },
    {
     "name": "stdout",
     "output_type": "stream",
     "text": [
      "dataset\\data\\6\\13205.jpg\n",
      "1/1 [==============================] - 0s 32ms/step\n"
     ]
    },
    {
     "name": "stderr",
     "output_type": "stream",
     "text": [
      "\r",
      " 10%|████████████▏                                                                                                                  | 383/4002 [00:36<10:10,  5.93it/s]"
     ]
    },
    {
     "name": "stdout",
     "output_type": "stream",
     "text": [
      "dataset\\data\\6\\13227.jpg\n",
      "1/1 [==============================] - 0s 63ms/step\n"
     ]
    },
    {
     "name": "stderr",
     "output_type": "stream",
     "text": [
      "\r",
      " 10%|████████████▏                                                                                                                  | 384/4002 [00:36<10:05,  5.98it/s]"
     ]
    },
    {
     "name": "stdout",
     "output_type": "stream",
     "text": [
      "dataset\\data\\6\\13230.jpg\n",
      "1/1 [==============================] - 0s 34ms/step\n"
     ]
    },
    {
     "name": "stderr",
     "output_type": "stream",
     "text": [
      "\r",
      " 10%|████████████▏                                                                                                                  | 385/4002 [00:36<09:43,  6.19it/s]"
     ]
    },
    {
     "name": "stdout",
     "output_type": "stream",
     "text": [
      "dataset\\data\\6\\13257.jpg\n",
      "1/1 [==============================] - 0s 38ms/step\n"
     ]
    },
    {
     "name": "stderr",
     "output_type": "stream",
     "text": [
      "\r",
      " 10%|████████████▏                                                                                                                  | 386/4002 [00:36<09:16,  6.50it/s]"
     ]
    },
    {
     "name": "stdout",
     "output_type": "stream",
     "text": [
      "dataset\\data\\6\\13268.jpg\n",
      "1/1 [==============================] - 0s 32ms/step\n"
     ]
    },
    {
     "name": "stderr",
     "output_type": "stream",
     "text": [
      "\r",
      " 10%|████████████▎                                                                                                                  | 387/4002 [00:36<08:46,  6.87it/s]"
     ]
    },
    {
     "name": "stdout",
     "output_type": "stream",
     "text": [
      "dataset\\data\\6\\1327.jpg\n",
      "1/1 [==============================] - 0s 36ms/step\n"
     ]
    },
    {
     "name": "stderr",
     "output_type": "stream",
     "text": [
      "\r",
      " 10%|████████████▎                                                                                                                  | 388/4002 [00:37<08:31,  7.07it/s]"
     ]
    },
    {
     "name": "stdout",
     "output_type": "stream",
     "text": [
      "dataset\\data\\6\\13274.jpg\n",
      "1/1 [==============================] - 0s 40ms/step\n"
     ]
    },
    {
     "name": "stderr",
     "output_type": "stream",
     "text": [
      "\r",
      " 10%|████████████▎                                                                                                                  | 388/4002 [00:37<05:46, 10.42it/s]"
     ]
    },
    {
     "name": "stdout",
     "output_type": "stream",
     "text": [
      "done\n"
     ]
    },
    {
     "name": "stderr",
     "output_type": "stream",
     "text": [
      "\n"
     ]
    }
   ],
   "source": [
    "img_path = r'dataset\\data\\6\\*.jpg'\n",
    "count = 0\n",
    "\n",
    "for img in tqdm.tqdm(glob(img_path)):\n",
    "    print(img)\n",
    "    \n",
    "    labels = img.split('\\\\')[-2]\n",
    "    img_file = img.split('\\\\')[-1]\n",
    "    \n",
    "    image = Image.open(img)\n",
    "    image = image.resize((48,48))\n",
    "    image = np.array(image)\n",
    "    \n",
    "    img_data = np.expand_dims(image, axis=0)\n",
    "    \n",
    "    classes = model.predict(img_data)\n",
    "    \n",
    "    li = list(classes[0])\n",
    "    y_pred = str(li.index(max(li)))\n",
    "    \n",
    "\n",
    "#     print('y_true : ', labels, ' y_pred : ', y_pred)\n",
    "#     print('y_true : ', type(labels), ' y_pred : ', type(y_pred))\n",
    "    \n",
    "    if labels == y_pred:\n",
    "        \n",
    "        folder_path = 'dataset\\\\data_cp\\\\'+labels\n",
    "        if not os.path.exists(folder_path):\n",
    "            os.makedirs(folder_path)\n",
    "        \n",
    "        source, destination = img, folder_path+'\\\\'+img_file\n",
    "#         print(source, destination)\n",
    "        shutil.copy2(source, destination)\n",
    "        count += 1\n",
    "#         time.sleep(0.3)\n",
    "    if count > 200:\n",
    "        break\n",
    "        \n",
    "#     break\n",
    "\n",
    "print('done')"
   ]
  },
  {
   "cell_type": "code",
   "execution_count": 27,
   "id": "648dbf05",
   "metadata": {},
   "outputs": [
    {
     "name": "stdout",
     "output_type": "stream",
     "text": [
      "Number of classes :  ['dataset/data_cp\\\\0', 'dataset/data_cp\\\\1', 'dataset/data_cp\\\\2', 'dataset/data_cp\\\\3', 'dataset/data_cp\\\\4', 'dataset/data_cp\\\\5', 'dataset/data_cp\\\\6']\n",
      "cur_path :  C:\\Project_Work\\Basic_Python\\Neha Project\\Facial Emotion Based Personality Prediction part3\\demo - to show which model and model acc\n",
      "path :  dataset/data_cp\\0\n",
      "path :  dataset/data_cp\\1\n",
      "path :  dataset/data_cp\\2\n",
      "path :  dataset/data_cp\\3\n",
      "path :  dataset/data_cp\\4\n",
      "path :  dataset/data_cp\\5\n",
      "path :  dataset/data_cp\\6\n",
      "loaded ...\n",
      "1/1 [==============================] - 0s 16ms/step\n",
      "y_true :  0  y_pred :  0\n",
      "1/1 [==============================] - 0s 24ms/step\n",
      "y_true :  0  y_pred :  0\n",
      "1/1 [==============================] - 0s 25ms/step\n",
      "y_true :  0  y_pred :  0\n",
      "1/1 [==============================] - 0s 29ms/step\n",
      "y_true :  0  y_pred :  0\n",
      "1/1 [==============================] - 0s 32ms/step\n",
      "y_true :  0  y_pred :  0\n",
      "1/1 [==============================] - 0s 34ms/step\n",
      "y_true :  0  y_pred :  0\n",
      "1/1 [==============================] - 0s 31ms/step\n",
      "y_true :  0  y_pred :  0\n",
      "1/1 [==============================] - 0s 19ms/step\n",
      "y_true :  0  y_pred :  0\n",
      "1/1 [==============================] - 0s 28ms/step\n",
      "y_true :  0  y_pred :  0\n",
      "1/1 [==============================] - 0s 32ms/step\n",
      "y_true :  0  y_pred :  0\n",
      "1/1 [==============================] - 0s 21ms/step\n",
      "y_true :  0  y_pred :  0\n",
      "1/1 [==============================] - 0s 34ms/step\n",
      "y_true :  0  y_pred :  0\n",
      "1/1 [==============================] - 0s 32ms/step\n",
      "y_true :  0  y_pred :  0\n",
      "1/1 [==============================] - 0s 18ms/step\n",
      "y_true :  0  y_pred :  0\n",
      "1/1 [==============================] - 0s 32ms/step\n",
      "y_true :  0  y_pred :  0\n",
      "1/1 [==============================] - 0s 31ms/step\n",
      "y_true :  0  y_pred :  0\n",
      "1/1 [==============================] - 0s 26ms/step\n",
      "y_true :  0  y_pred :  0\n",
      "1/1 [==============================] - 0s 33ms/step\n",
      "y_true :  0  y_pred :  0\n",
      "1/1 [==============================] - 0s 87ms/step\n",
      "y_true :  0  y_pred :  0\n",
      "1/1 [==============================] - 0s 31ms/step\n",
      "y_true :  0  y_pred :  0\n",
      "1/1 [==============================] - 0s 16ms/step\n",
      "y_true :  0  y_pred :  0\n",
      "1/1 [==============================] - 0s 39ms/step\n",
      "y_true :  0  y_pred :  0\n",
      "1/1 [==============================] - 0s 31ms/step\n",
      "y_true :  0  y_pred :  0\n",
      "1/1 [==============================] - 0s 33ms/step\n",
      "y_true :  0  y_pred :  0\n",
      "1/1 [==============================] - 0s 32ms/step\n",
      "y_true :  0  y_pred :  0\n",
      "1/1 [==============================] - 0s 29ms/step\n",
      "y_true :  0  y_pred :  0\n",
      "1/1 [==============================] - 0s 30ms/step\n",
      "y_true :  0  y_pred :  0\n",
      "1/1 [==============================] - 0s 25ms/step\n",
      "y_true :  0  y_pred :  0\n",
      "1/1 [==============================] - 0s 29ms/step\n",
      "y_true :  0  y_pred :  0\n",
      "1/1 [==============================] - 0s 32ms/step\n",
      "y_true :  0  y_pred :  0\n",
      "1/1 [==============================] - 0s 18ms/step\n",
      "y_true :  0  y_pred :  0\n",
      "1/1 [==============================] - 0s 29ms/step\n",
      "y_true :  0  y_pred :  0\n",
      "1/1 [==============================] - 0s 30ms/step\n",
      "y_true :  0  y_pred :  0\n",
      "1/1 [==============================] - 0s 24ms/step\n",
      "y_true :  0  y_pred :  0\n",
      "1/1 [==============================] - 0s 32ms/step\n",
      "y_true :  0  y_pred :  0\n",
      "1/1 [==============================] - 0s 29ms/step\n",
      "y_true :  0  y_pred :  0\n",
      "1/1 [==============================] - 0s 29ms/step\n",
      "y_true :  0  y_pred :  0\n",
      "1/1 [==============================] - 0s 30ms/step\n",
      "y_true :  0  y_pred :  0\n",
      "1/1 [==============================] - 0s 30ms/step\n",
      "y_true :  0  y_pred :  0\n",
      "1/1 [==============================] - 0s 33ms/step\n",
      "y_true :  0  y_pred :  0\n",
      "1/1 [==============================] - 0s 43ms/step\n",
      "y_true :  0  y_pred :  0\n",
      "1/1 [==============================] - 0s 66ms/step\n",
      "y_true :  0  y_pred :  0\n",
      "1/1 [==============================] - 0s 16ms/step\n",
      "y_true :  0  y_pred :  0\n",
      "1/1 [==============================] - 0s 23ms/step\n",
      "y_true :  0  y_pred :  0\n",
      "1/1 [==============================] - 0s 16ms/step\n",
      "y_true :  0  y_pred :  0\n",
      "1/1 [==============================] - 0s 29ms/step\n",
      "y_true :  0  y_pred :  0\n",
      "1/1 [==============================] - 0s 22ms/step\n",
      "y_true :  0  y_pred :  0\n",
      "1/1 [==============================] - 0s 19ms/step\n",
      "y_true :  0  y_pred :  0\n",
      "1/1 [==============================] - 0s 18ms/step\n",
      "y_true :  0  y_pred :  0\n",
      "1/1 [==============================] - 0s 16ms/step\n",
      "y_true :  0  y_pred :  0\n",
      "1/1 [==============================] - 0s 28ms/step\n",
      "y_true :  0  y_pred :  0\n",
      "1/1 [==============================] - 0s 24ms/step\n",
      "y_true :  0  y_pred :  0\n",
      "1/1 [==============================] - 0s 32ms/step\n",
      "y_true :  0  y_pred :  0\n",
      "1/1 [==============================] - 0s 28ms/step\n",
      "y_true :  0  y_pred :  0\n",
      "1/1 [==============================] - 0s 20ms/step\n",
      "y_true :  0  y_pred :  0\n",
      "1/1 [==============================] - 0s 20ms/step\n",
      "y_true :  0  y_pred :  0\n",
      "1/1 [==============================] - 0s 12ms/step\n",
      "y_true :  0  y_pred :  0\n",
      "1/1 [==============================] - 0s 26ms/step\n",
      "y_true :  0  y_pred :  0\n",
      "1/1 [==============================] - 0s 29ms/step\n",
      "y_true :  0  y_pred :  0\n",
      "1/1 [==============================] - 0s 28ms/step\n",
      "y_true :  0  y_pred :  0\n",
      "1/1 [==============================] - 0s 28ms/step\n",
      "y_true :  0  y_pred :  0\n",
      "1/1 [==============================] - 0s 28ms/step\n",
      "y_true :  0  y_pred :  0\n",
      "1/1 [==============================] - 0s 22ms/step\n",
      "y_true :  0  y_pred :  0\n",
      "1/1 [==============================] - 0s 20ms/step\n",
      "y_true :  0  y_pred :  0\n",
      "1/1 [==============================] - 0s 28ms/step\n",
      "y_true :  0  y_pred :  0\n",
      "1/1 [==============================] - 0s 26ms/step\n",
      "y_true :  0  y_pred :  0\n",
      "1/1 [==============================] - 0s 21ms/step\n",
      "y_true :  0  y_pred :  0\n",
      "1/1 [==============================] - 0s 27ms/step\n",
      "y_true :  0  y_pred :  0\n",
      "1/1 [==============================] - 0s 27ms/step\n",
      "y_true :  0  y_pred :  0\n",
      "1/1 [==============================] - 0s 19ms/step\n",
      "y_true :  0  y_pred :  0\n",
      "1/1 [==============================] - 0s 25ms/step\n",
      "y_true :  0  y_pred :  0\n",
      "1/1 [==============================] - 0s 19ms/step\n",
      "y_true :  0  y_pred :  0\n",
      "1/1 [==============================] - 0s 29ms/step\n",
      "y_true :  0  y_pred :  0\n",
      "1/1 [==============================] - 0s 24ms/step\n",
      "y_true :  0  y_pred :  0\n",
      "1/1 [==============================] - 0s 19ms/step\n",
      "y_true :  0  y_pred :  0\n",
      "1/1 [==============================] - 0s 26ms/step\n",
      "y_true :  0  y_pred :  0\n",
      "1/1 [==============================] - 0s 24ms/step\n",
      "y_true :  0  y_pred :  0\n",
      "1/1 [==============================] - 0s 21ms/step\n",
      "y_true :  0  y_pred :  0\n",
      "1/1 [==============================] - 0s 19ms/step\n",
      "y_true :  0  y_pred :  0\n",
      "1/1 [==============================] - 0s 26ms/step\n",
      "y_true :  0  y_pred :  0\n",
      "1/1 [==============================] - 0s 24ms/step\n",
      "y_true :  0  y_pred :  0\n",
      "1/1 [==============================] - 0s 27ms/step\n",
      "y_true :  0  y_pred :  0\n",
      "1/1 [==============================] - 0s 25ms/step\n",
      "y_true :  0  y_pred :  0\n",
      "1/1 [==============================] - 0s 28ms/step\n",
      "y_true :  0  y_pred :  0\n",
      "1/1 [==============================] - 0s 26ms/step\n",
      "y_true :  0  y_pred :  0\n",
      "1/1 [==============================] - 0s 34ms/step\n",
      "y_true :  0  y_pred :  0\n",
      "1/1 [==============================] - 0s 30ms/step\n",
      "y_true :  0  y_pred :  0\n",
      "1/1 [==============================] - 0s 29ms/step\n",
      "y_true :  0  y_pred :  0\n",
      "1/1 [==============================] - 0s 20ms/step\n",
      "y_true :  0  y_pred :  0\n",
      "1/1 [==============================] - 0s 26ms/step\n",
      "y_true :  0  y_pred :  0\n",
      "1/1 [==============================] - 0s 16ms/step\n",
      "y_true :  0  y_pred :  0\n",
      "1/1 [==============================] - 0s 28ms/step\n",
      "y_true :  0  y_pred :  0\n",
      "1/1 [==============================] - 0s 27ms/step\n",
      "y_true :  0  y_pred :  0\n",
      "1/1 [==============================] - 0s 22ms/step\n",
      "y_true :  0  y_pred :  0\n",
      "1/1 [==============================] - 0s 31ms/step\n",
      "y_true :  0  y_pred :  0\n",
      "1/1 [==============================] - 0s 25ms/step\n",
      "y_true :  0  y_pred :  0\n",
      "1/1 [==============================] - 0s 26ms/step\n",
      "y_true :  0  y_pred :  0\n",
      "1/1 [==============================] - 0s 15ms/step\n",
      "y_true :  0  y_pred :  0\n",
      "1/1 [==============================] - 0s 25ms/step\n",
      "y_true :  0  y_pred :  0\n",
      "1/1 [==============================] - 0s 32ms/step\n",
      "y_true :  0  y_pred :  0\n"
     ]
    },
    {
     "name": "stdout",
     "output_type": "stream",
     "text": [
      "1/1 [==============================] - 0s 33ms/step\n",
      "y_true :  0  y_pred :  0\n",
      "1/1 [==============================] - 0s 34ms/step\n",
      "y_true :  0  y_pred :  0\n",
      "1/1 [==============================] - 0s 25ms/step\n",
      "y_true :  0  y_pred :  0\n",
      "1/1 [==============================] - 0s 27ms/step\n",
      "y_true :  0  y_pred :  0\n",
      "1/1 [==============================] - 0s 21ms/step\n",
      "y_true :  0  y_pred :  0\n",
      "1/1 [==============================] - 0s 16ms/step\n",
      "y_true :  0  y_pred :  0\n",
      "1/1 [==============================] - 0s 13ms/step\n",
      "y_true :  0  y_pred :  0\n",
      "1/1 [==============================] - 0s 26ms/step\n",
      "y_true :  0  y_pred :  0\n",
      "1/1 [==============================] - 0s 20ms/step\n",
      "y_true :  0  y_pred :  0\n",
      "1/1 [==============================] - 0s 17ms/step\n",
      "y_true :  0  y_pred :  0\n",
      "1/1 [==============================] - 0s 26ms/step\n",
      "y_true :  0  y_pred :  0\n",
      "1/1 [==============================] - 0s 27ms/step\n",
      "y_true :  0  y_pred :  0\n",
      "1/1 [==============================] - 0s 23ms/step\n",
      "y_true :  0  y_pred :  0\n",
      "1/1 [==============================] - 0s 32ms/step\n",
      "y_true :  0  y_pred :  0\n",
      "1/1 [==============================] - 0s 23ms/step\n",
      "y_true :  0  y_pred :  0\n",
      "1/1 [==============================] - 0s 32ms/step\n",
      "y_true :  0  y_pred :  0\n",
      "1/1 [==============================] - 0s 25ms/step\n",
      "y_true :  0  y_pred :  0\n",
      "1/1 [==============================] - 0s 22ms/step\n",
      "y_true :  0  y_pred :  0\n",
      "1/1 [==============================] - 0s 20ms/step\n",
      "y_true :  0  y_pred :  0\n",
      "1/1 [==============================] - 0s 15ms/step\n",
      "y_true :  0  y_pred :  0\n",
      "1/1 [==============================] - 0s 38ms/step\n",
      "y_true :  0  y_pred :  0\n",
      "1/1 [==============================] - 0s 21ms/step\n",
      "y_true :  0  y_pred :  0\n",
      "1/1 [==============================] - 0s 24ms/step\n",
      "y_true :  0  y_pred :  0\n",
      "1/1 [==============================] - 0s 14ms/step\n",
      "y_true :  0  y_pred :  0\n",
      "1/1 [==============================] - 0s 33ms/step\n",
      "y_true :  0  y_pred :  0\n",
      "1/1 [==============================] - 0s 25ms/step\n",
      "y_true :  0  y_pred :  0\n",
      "1/1 [==============================] - 0s 17ms/step\n",
      "y_true :  0  y_pred :  0\n",
      "1/1 [==============================] - 0s 25ms/step\n",
      "y_true :  0  y_pred :  0\n",
      "1/1 [==============================] - 0s 33ms/step\n",
      "y_true :  0  y_pred :  0\n",
      "1/1 [==============================] - 0s 39ms/step\n",
      "y_true :  0  y_pred :  0\n",
      "1/1 [==============================] - 0s 49ms/step\n",
      "y_true :  0  y_pred :  0\n",
      "1/1 [==============================] - 0s 29ms/step\n",
      "y_true :  0  y_pred :  0\n",
      "1/1 [==============================] - 0s 28ms/step\n",
      "y_true :  0  y_pred :  0\n",
      "1/1 [==============================] - 0s 21ms/step\n",
      "y_true :  0  y_pred :  0\n",
      "1/1 [==============================] - 0s 21ms/step\n",
      "y_true :  0  y_pred :  0\n",
      "1/1 [==============================] - 0s 27ms/step\n",
      "y_true :  0  y_pred :  0\n",
      "1/1 [==============================] - 0s 30ms/step\n",
      "y_true :  0  y_pred :  0\n",
      "1/1 [==============================] - 0s 27ms/step\n",
      "y_true :  0  y_pred :  0\n",
      "1/1 [==============================] - 0s 19ms/step\n",
      "y_true :  0  y_pred :  0\n",
      "1/1 [==============================] - 0s 27ms/step\n",
      "y_true :  0  y_pred :  0\n",
      "1/1 [==============================] - 0s 19ms/step\n",
      "y_true :  0  y_pred :  0\n",
      "1/1 [==============================] - 0s 30ms/step\n",
      "y_true :  0  y_pred :  0\n",
      "1/1 [==============================] - 0s 20ms/step\n",
      "y_true :  0  y_pred :  0\n",
      "1/1 [==============================] - 0s 28ms/step\n",
      "y_true :  0  y_pred :  0\n",
      "1/1 [==============================] - 0s 20ms/step\n",
      "y_true :  0  y_pred :  0\n",
      "1/1 [==============================] - 0s 23ms/step\n",
      "y_true :  0  y_pred :  0\n",
      "1/1 [==============================] - 0s 27ms/step\n",
      "y_true :  0  y_pred :  0\n",
      "1/1 [==============================] - 0s 27ms/step\n",
      "y_true :  0  y_pred :  0\n",
      "1/1 [==============================] - 0s 29ms/step\n",
      "y_true :  0  y_pred :  0\n",
      "1/1 [==============================] - 0s 28ms/step\n",
      "y_true :  0  y_pred :  0\n",
      "1/1 [==============================] - 0s 19ms/step\n",
      "y_true :  0  y_pred :  0\n",
      "1/1 [==============================] - 0s 28ms/step\n",
      "y_true :  0  y_pred :  0\n",
      "1/1 [==============================] - 0s 33ms/step\n",
      "y_true :  0  y_pred :  0\n",
      "1/1 [==============================] - 0s 42ms/step\n",
      "y_true :  0  y_pred :  0\n",
      "1/1 [==============================] - 0s 44ms/step\n",
      "y_true :  0  y_pred :  0\n",
      "1/1 [==============================] - 0s 19ms/step\n",
      "y_true :  0  y_pred :  0\n",
      "1/1 [==============================] - 0s 12ms/step\n",
      "y_true :  0  y_pred :  0\n",
      "1/1 [==============================] - 0s 27ms/step\n",
      "y_true :  0  y_pred :  0\n",
      "1/1 [==============================] - 0s 26ms/step\n",
      "y_true :  0  y_pred :  0\n",
      "1/1 [==============================] - 0s 20ms/step\n",
      "y_true :  0  y_pred :  0\n",
      "1/1 [==============================] - 0s 13ms/step\n",
      "y_true :  0  y_pred :  0\n",
      "1/1 [==============================] - 0s 25ms/step\n",
      "y_true :  0  y_pred :  0\n",
      "1/1 [==============================] - 0s 26ms/step\n",
      "y_true :  0  y_pred :  0\n",
      "1/1 [==============================] - 0s 20ms/step\n",
      "y_true :  0  y_pred :  0\n",
      "1/1 [==============================] - 0s 29ms/step\n",
      "y_true :  0  y_pred :  0\n",
      "1/1 [==============================] - 0s 39ms/step\n",
      "y_true :  0  y_pred :  0\n",
      "1/1 [==============================] - 0s 33ms/step\n",
      "y_true :  0  y_pred :  0\n",
      "1/1 [==============================] - 0s 30ms/step\n",
      "y_true :  0  y_pred :  0\n",
      "1/1 [==============================] - 0s 21ms/step\n",
      "y_true :  0  y_pred :  0\n",
      "1/1 [==============================] - 0s 18ms/step\n",
      "y_true :  0  y_pred :  0\n",
      "1/1 [==============================] - 0s 26ms/step\n",
      "y_true :  0  y_pred :  0\n",
      "1/1 [==============================] - 0s 28ms/step\n",
      "y_true :  0  y_pred :  0\n",
      "1/1 [==============================] - 0s 17ms/step\n",
      "y_true :  0  y_pred :  0\n",
      "1/1 [==============================] - 0s 12ms/step\n",
      "y_true :  0  y_pred :  0\n",
      "1/1 [==============================] - 0s 38ms/step\n",
      "y_true :  0  y_pred :  0\n",
      "1/1 [==============================] - 0s 48ms/step\n",
      "y_true :  0  y_pred :  0\n",
      "1/1 [==============================] - 0s 18ms/step\n",
      "y_true :  0  y_pred :  0\n",
      "1/1 [==============================] - 0s 25ms/step\n",
      "y_true :  0  y_pred :  0\n",
      "1/1 [==============================] - 0s 11ms/step\n",
      "y_true :  0  y_pred :  0\n",
      "1/1 [==============================] - 0s 26ms/step\n",
      "y_true :  0  y_pred :  0\n",
      "1/1 [==============================] - 0s 27ms/step\n",
      "y_true :  0  y_pred :  0\n",
      "1/1 [==============================] - 0s 16ms/step\n",
      "y_true :  0  y_pred :  0\n",
      "1/1 [==============================] - 0s 23ms/step\n",
      "y_true :  0  y_pred :  0\n",
      "1/1 [==============================] - 0s 25ms/step\n",
      "y_true :  0  y_pred :  0\n",
      "1/1 [==============================] - 0s 18ms/step\n",
      "y_true :  0  y_pred :  0\n",
      "1/1 [==============================] - 0s 15ms/step\n",
      "y_true :  0  y_pred :  0\n",
      "1/1 [==============================] - 0s 26ms/step\n",
      "y_true :  0  y_pred :  0\n",
      "1/1 [==============================] - 0s 26ms/step\n",
      "y_true :  0  y_pred :  0\n",
      "1/1 [==============================] - 0s 26ms/step\n",
      "y_true :  0  y_pred :  0\n",
      "1/1 [==============================] - 0s 21ms/step\n",
      "y_true :  0  y_pred :  0\n",
      "1/1 [==============================] - 0s 27ms/step\n",
      "y_true :  0  y_pred :  0\n",
      "1/1 [==============================] - 0s 26ms/step\n",
      "y_true :  0  y_pred :  0\n",
      "1/1 [==============================] - 0s 21ms/step\n",
      "y_true :  0  y_pred :  0\n",
      "1/1 [==============================] - 0s 26ms/step\n",
      "y_true :  0  y_pred :  0\n",
      "1/1 [==============================] - 0s 27ms/step\n",
      "y_true :  0  y_pred :  0\n",
      "1/1 [==============================] - 0s 31ms/step\n",
      "y_true :  0  y_pred :  0\n",
      "1/1 [==============================] - 0s 27ms/step\n",
      "y_true :  0  y_pred :  0\n",
      "1/1 [==============================] - 0s 25ms/step\n",
      "y_true :  0  y_pred :  0\n",
      "1/1 [==============================] - 0s 14ms/step\n",
      "y_true :  0  y_pred :  0\n",
      "1/1 [==============================] - 0s 26ms/step\n",
      "y_true :  0  y_pred :  0\n",
      "1/1 [==============================] - 0s 26ms/step\n",
      "y_true :  0  y_pred :  0\n",
      "1/1 [==============================] - 0s 24ms/step\n",
      "y_true :  0  y_pred :  0\n",
      "1/1 [==============================] - 0s 13ms/step\n",
      "y_true :  0  y_pred :  0\n",
      "1/1 [==============================] - 0s 25ms/step\n",
      "y_true :  0  y_pred :  0\n",
      "1/1 [==============================] - 0s 27ms/step\n",
      "y_true :  0  y_pred :  0\n",
      "1/1 [==============================] - 0s 21ms/step\n",
      "y_true :  0  y_pred :  0\n"
     ]
    },
    {
     "name": "stdout",
     "output_type": "stream",
     "text": [
      "1/1 [==============================] - 0s 13ms/step\n",
      "y_true :  0  y_pred :  0\n",
      "1/1 [==============================] - 0s 26ms/step\n",
      "y_true :  0  y_pred :  0\n",
      "1/1 [==============================] - 0s 20ms/step\n",
      "y_true :  0  y_pred :  0\n",
      "1/1 [==============================] - 0s 39ms/step\n",
      "y_true :  0  y_pred :  0\n",
      "1/1 [==============================] - 0s 27ms/step\n",
      "y_true :  0  y_pred :  0\n",
      "1/1 [==============================] - 0s 25ms/step\n",
      "y_true :  0  y_pred :  0\n",
      "1/1 [==============================] - 0s 24ms/step\n",
      "y_true :  0  y_pred :  0\n",
      "1/1 [==============================] - 0s 20ms/step\n",
      "y_true :  0  y_pred :  0\n",
      "1/1 [==============================] - 0s 15ms/step\n",
      "y_true :  0  y_pred :  0\n",
      "1/1 [==============================] - 0s 26ms/step\n",
      "y_true :  0  y_pred :  0\n",
      "1/1 [==============================] - 0s 30ms/step\n",
      "y_true :  0  y_pred :  0\n",
      "1/1 [==============================] - 0s 34ms/step\n",
      "y_true :  0  y_pred :  0\n",
      "1/1 [==============================] - 0s 29ms/step\n",
      "y_true :  0  y_pred :  0\n",
      "1/1 [==============================] - 0s 29ms/step\n",
      "y_true :  0  y_pred :  0\n",
      "1/1 [==============================] - 0s 31ms/step\n",
      "y_true :  0  y_pred :  0\n",
      "1/1 [==============================] - 0s 34ms/step\n",
      "y_true :  0  y_pred :  0\n",
      "1/1 [==============================] - 0s 32ms/step\n",
      "y_true :  1  y_pred :  1\n",
      "1/1 [==============================] - 0s 33ms/step\n",
      "y_true :  1  y_pred :  4\n",
      "1/1 [==============================] - 0s 35ms/step\n",
      "y_true :  1  y_pred :  1\n",
      "1/1 [==============================] - 0s 42ms/step\n",
      "y_true :  1  y_pred :  2\n",
      "1/1 [==============================] - 0s 36ms/step\n",
      "y_true :  1  y_pred :  5\n",
      "1/1 [==============================] - 0s 31ms/step\n",
      "y_true :  1  y_pred :  1\n",
      "1/1 [==============================] - 0s 21ms/step\n",
      "y_true :  1  y_pred :  1\n",
      "1/1 [==============================] - 0s 30ms/step\n",
      "y_true :  1  y_pred :  1\n",
      "1/1 [==============================] - 0s 29ms/step\n",
      "y_true :  1  y_pred :  1\n",
      "1/1 [==============================] - 0s 18ms/step\n",
      "y_true :  1  y_pred :  1\n",
      "1/1 [==============================] - 0s 36ms/step\n",
      "y_true :  1  y_pred :  1\n",
      "1/1 [==============================] - 0s 32ms/step\n",
      "y_true :  1  y_pred :  1\n",
      "1/1 [==============================] - 0s 32ms/step\n",
      "y_true :  1  y_pred :  2\n",
      "1/1 [==============================] - 0s 28ms/step\n",
      "y_true :  1  y_pred :  0\n",
      "1/1 [==============================] - 0s 16ms/step\n",
      "y_true :  1  y_pred :  1\n",
      "1/1 [==============================] - 0s 15ms/step\n",
      "y_true :  1  y_pred :  1\n",
      "1/1 [==============================] - 0s 49ms/step\n",
      "y_true :  1  y_pred :  1\n",
      "1/1 [==============================] - 0s 33ms/step\n",
      "y_true :  1  y_pred :  2\n",
      "1/1 [==============================] - 0s 28ms/step\n",
      "y_true :  1  y_pred :  1\n",
      "1/1 [==============================] - 0s 35ms/step\n",
      "y_true :  1  y_pred :  1\n",
      "1/1 [==============================] - 0s 34ms/step\n",
      "y_true :  1  y_pred :  2\n",
      "1/1 [==============================] - 0s 45ms/step\n",
      "y_true :  1  y_pred :  1\n",
      "1/1 [==============================] - 0s 27ms/step\n",
      "y_true :  1  y_pred :  2\n",
      "1/1 [==============================] - 0s 11ms/step\n",
      "y_true :  1  y_pred :  1\n",
      "1/1 [==============================] - 0s 28ms/step\n",
      "y_true :  1  y_pred :  1\n",
      "1/1 [==============================] - 0s 25ms/step\n",
      "y_true :  1  y_pred :  2\n",
      "1/1 [==============================] - 0s 22ms/step\n",
      "y_true :  1  y_pred :  1\n",
      "1/1 [==============================] - 0s 30ms/step\n",
      "y_true :  1  y_pred :  1\n",
      "1/1 [==============================] - 0s 36ms/step\n",
      "y_true :  1  y_pred :  1\n",
      "1/1 [==============================] - 0s 28ms/step\n",
      "y_true :  1  y_pred :  1\n",
      "1/1 [==============================] - 0s 26ms/step\n",
      "y_true :  1  y_pred :  1\n",
      "1/1 [==============================] - 0s 29ms/step\n",
      "y_true :  1  y_pred :  1\n",
      "1/1 [==============================] - 0s 17ms/step\n",
      "y_true :  1  y_pred :  2\n",
      "1/1 [==============================] - 0s 26ms/step\n",
      "y_true :  1  y_pred :  1\n",
      "1/1 [==============================] - 0s 23ms/step\n",
      "y_true :  1  y_pred :  1\n",
      "1/1 [==============================] - 0s 19ms/step\n",
      "y_true :  1  y_pred :  1\n",
      "1/1 [==============================] - 0s 14ms/step\n",
      "y_true :  1  y_pred :  1\n",
      "1/1 [==============================] - 0s 24ms/step\n",
      "y_true :  1  y_pred :  1\n",
      "1/1 [==============================] - 0s 26ms/step\n",
      "y_true :  1  y_pred :  1\n",
      "1/1 [==============================] - 0s 26ms/step\n",
      "y_true :  1  y_pred :  1\n",
      "1/1 [==============================] - 0s 20ms/step\n",
      "y_true :  1  y_pred :  1\n",
      "1/1 [==============================] - 0s 29ms/step\n",
      "y_true :  1  y_pred :  1\n",
      "1/1 [==============================] - 0s 21ms/step\n",
      "y_true :  1  y_pred :  0\n",
      "1/1 [==============================] - 0s 32ms/step\n",
      "y_true :  1  y_pred :  1\n",
      "1/1 [==============================] - 0s 26ms/step\n",
      "y_true :  1  y_pred :  0\n",
      "1/1 [==============================] - 0s 24ms/step\n",
      "y_true :  1  y_pred :  5\n",
      "1/1 [==============================] - 0s 13ms/step\n",
      "y_true :  1  y_pred :  0\n",
      "1/1 [==============================] - 0s 27ms/step\n",
      "y_true :  1  y_pred :  0\n",
      "1/1 [==============================] - 0s 26ms/step\n",
      "y_true :  1  y_pred :  2\n",
      "1/1 [==============================] - 0s 20ms/step\n",
      "y_true :  1  y_pred :  1\n",
      "1/1 [==============================] - 0s 24ms/step\n",
      "y_true :  1  y_pred :  1\n",
      "1/1 [==============================] - 0s 27ms/step\n",
      "y_true :  1  y_pred :  1\n",
      "1/1 [==============================] - 0s 28ms/step\n",
      "y_true :  1  y_pred :  1\n",
      "1/1 [==============================] - 0s 15ms/step\n",
      "y_true :  1  y_pred :  2\n",
      "1/1 [==============================] - 0s 25ms/step\n",
      "y_true :  1  y_pred :  1\n",
      "1/1 [==============================] - 0s 25ms/step\n",
      "y_true :  1  y_pred :  1\n",
      "1/1 [==============================] - 0s 27ms/step\n",
      "y_true :  1  y_pred :  1\n",
      "1/1 [==============================] - 0s 20ms/step\n",
      "y_true :  1  y_pred :  1\n",
      "1/1 [==============================] - 0s 16ms/step\n",
      "y_true :  1  y_pred :  1\n",
      "1/1 [==============================] - 0s 26ms/step\n",
      "y_true :  1  y_pred :  0\n",
      "1/1 [==============================] - 0s 25ms/step\n",
      "y_true :  1  y_pred :  2\n",
      "1/1 [==============================] - 0s 18ms/step\n",
      "y_true :  1  y_pred :  1\n",
      "1/1 [==============================] - 0s 26ms/step\n",
      "y_true :  1  y_pred :  0\n",
      "1/1 [==============================] - 0s 26ms/step\n",
      "y_true :  1  y_pred :  1\n",
      "1/1 [==============================] - 0s 19ms/step\n",
      "y_true :  1  y_pred :  2\n",
      "1/1 [==============================] - 0s 17ms/step\n",
      "y_true :  1  y_pred :  3\n",
      "1/1 [==============================] - 0s 25ms/step\n",
      "y_true :  1  y_pred :  2\n",
      "1/1 [==============================] - 0s 29ms/step\n",
      "y_true :  1  y_pred :  0\n",
      "1/1 [==============================] - 0s 24ms/step\n",
      "y_true :  1  y_pred :  0\n",
      "1/1 [==============================] - 0s 24ms/step\n",
      "y_true :  1  y_pred :  2\n",
      "1/1 [==============================] - 0s 19ms/step\n",
      "y_true :  1  y_pred :  2\n",
      "1/1 [==============================] - 0s 26ms/step\n",
      "y_true :  1  y_pred :  2\n",
      "1/1 [==============================] - 0s 27ms/step\n",
      "y_true :  1  y_pred :  0\n",
      "1/1 [==============================] - 0s 22ms/step\n",
      "y_true :  1  y_pred :  1\n",
      "1/1 [==============================] - 0s 53ms/step\n",
      "y_true :  1  y_pred :  5\n",
      "1/1 [==============================] - 0s 41ms/step\n",
      "y_true :  1  y_pred :  1\n",
      "1/1 [==============================] - 0s 47ms/step\n",
      "y_true :  1  y_pred :  3\n",
      "1/1 [==============================] - 0s 26ms/step\n",
      "y_true :  1  y_pred :  1\n",
      "1/1 [==============================] - 0s 27ms/step\n",
      "y_true :  1  y_pred :  2\n",
      "1/1 [==============================] - 0s 27ms/step\n",
      "y_true :  1  y_pred :  0\n",
      "1/1 [==============================] - 0s 26ms/step\n",
      "y_true :  1  y_pred :  2\n",
      "1/1 [==============================] - 0s 15ms/step\n",
      "y_true :  1  y_pred :  1\n",
      "1/1 [==============================] - 0s 27ms/step\n",
      "y_true :  1  y_pred :  2\n",
      "1/1 [==============================] - 0s 26ms/step\n",
      "y_true :  1  y_pred :  2\n",
      "1/1 [==============================] - 0s 31ms/step\n",
      "y_true :  1  y_pred :  2\n",
      "1/1 [==============================] - 0s 34ms/step\n",
      "y_true :  1  y_pred :  1\n",
      "1/1 [==============================] - 0s 28ms/step\n",
      "y_true :  1  y_pred :  1\n",
      "1/1 [==============================] - 0s 30ms/step\n",
      "y_true :  1  y_pred :  1\n",
      "1/1 [==============================] - 0s 31ms/step\n",
      "y_true :  1  y_pred :  1\n",
      "1/1 [==============================] - 0s 42ms/step\n",
      "y_true :  1  y_pred :  1\n"
     ]
    },
    {
     "name": "stdout",
     "output_type": "stream",
     "text": [
      "1/1 [==============================] - 0s 26ms/step\n",
      "y_true :  1  y_pred :  1\n",
      "1/1 [==============================] - 0s 23ms/step\n",
      "y_true :  1  y_pred :  1\n",
      "1/1 [==============================] - 0s 20ms/step\n",
      "y_true :  1  y_pred :  1\n",
      "1/1 [==============================] - 0s 17ms/step\n",
      "y_true :  1  y_pred :  1\n",
      "1/1 [==============================] - 0s 27ms/step\n",
      "y_true :  1  y_pred :  0\n",
      "1/1 [==============================] - 0s 22ms/step\n",
      "y_true :  1  y_pred :  1\n",
      "1/1 [==============================] - 0s 16ms/step\n",
      "y_true :  1  y_pred :  1\n",
      "1/1 [==============================] - 0s 27ms/step\n",
      "y_true :  1  y_pred :  1\n",
      "1/1 [==============================] - 0s 27ms/step\n",
      "y_true :  1  y_pred :  1\n",
      "1/1 [==============================] - 0s 22ms/step\n",
      "y_true :  1  y_pred :  1\n",
      "1/1 [==============================] - 0s 14ms/step\n",
      "y_true :  2  y_pred :  2\n",
      "1/1 [==============================] - 0s 26ms/step\n",
      "y_true :  2  y_pred :  2\n",
      "1/1 [==============================] - 0s 26ms/step\n",
      "y_true :  2  y_pred :  2\n",
      "1/1 [==============================] - 0s 26ms/step\n",
      "y_true :  2  y_pred :  2\n",
      "1/1 [==============================] - 0s 22ms/step\n",
      "y_true :  2  y_pred :  2\n",
      "1/1 [==============================] - 0s 27ms/step\n",
      "y_true :  2  y_pred :  2\n",
      "1/1 [==============================] - 0s 31ms/step\n",
      "y_true :  2  y_pred :  2\n",
      "1/1 [==============================] - 0s 16ms/step\n",
      "y_true :  2  y_pred :  2\n",
      "1/1 [==============================] - 0s 30ms/step\n",
      "y_true :  2  y_pred :  2\n",
      "1/1 [==============================] - 0s 30ms/step\n",
      "y_true :  2  y_pred :  2\n",
      "1/1 [==============================] - 0s 23ms/step\n",
      "y_true :  2  y_pred :  2\n",
      "1/1 [==============================] - 0s 21ms/step\n",
      "y_true :  2  y_pred :  2\n",
      "1/1 [==============================] - 0s 34ms/step\n",
      "y_true :  2  y_pred :  2\n",
      "1/1 [==============================] - 0s 40ms/step\n",
      "y_true :  2  y_pred :  2\n",
      "1/1 [==============================] - 0s 25ms/step\n",
      "y_true :  2  y_pred :  2\n",
      "1/1 [==============================] - 0s 29ms/step\n",
      "y_true :  2  y_pred :  2\n",
      "1/1 [==============================] - 0s 29ms/step\n",
      "y_true :  2  y_pred :  2\n",
      "1/1 [==============================] - 0s 24ms/step\n",
      "y_true :  2  y_pred :  2\n",
      "1/1 [==============================] - 0s 32ms/step\n",
      "y_true :  2  y_pred :  2\n",
      "1/1 [==============================] - 0s 34ms/step\n",
      "y_true :  2  y_pred :  2\n",
      "1/1 [==============================] - 0s 40ms/step\n",
      "y_true :  2  y_pred :  2\n",
      "1/1 [==============================] - 0s 29ms/step\n",
      "y_true :  2  y_pred :  2\n",
      "1/1 [==============================] - 0s 45ms/step\n",
      "y_true :  2  y_pred :  2\n",
      "1/1 [==============================] - 0s 64ms/step\n",
      "y_true :  2  y_pred :  2\n",
      "1/1 [==============================] - 0s 45ms/step\n",
      "y_true :  2  y_pred :  2\n",
      "1/1 [==============================] - 0s 44ms/step\n",
      "y_true :  2  y_pred :  2\n",
      "1/1 [==============================] - 0s 41ms/step\n",
      "y_true :  2  y_pred :  2\n",
      "1/1 [==============================] - 0s 52ms/step\n",
      "y_true :  2  y_pred :  2\n",
      "1/1 [==============================] - 0s 52ms/step\n",
      "y_true :  2  y_pred :  2\n",
      "1/1 [==============================] - 0s 33ms/step\n",
      "y_true :  2  y_pred :  2\n",
      "1/1 [==============================] - 0s 32ms/step\n",
      "y_true :  2  y_pred :  2\n",
      "1/1 [==============================] - 0s 30ms/step\n",
      "y_true :  2  y_pred :  2\n",
      "1/1 [==============================] - 0s 21ms/step\n",
      "y_true :  2  y_pred :  2\n",
      "1/1 [==============================] - 0s 27ms/step\n",
      "y_true :  2  y_pred :  2\n",
      "1/1 [==============================] - 0s 26ms/step\n",
      "y_true :  2  y_pred :  2\n",
      "1/1 [==============================] - 0s 20ms/step\n",
      "y_true :  2  y_pred :  2\n",
      "1/1 [==============================] - 0s 23ms/step\n",
      "y_true :  2  y_pred :  2\n",
      "1/1 [==============================] - 0s 30ms/step\n",
      "y_true :  2  y_pred :  2\n",
      "1/1 [==============================] - 0s 30ms/step\n",
      "y_true :  2  y_pred :  2\n",
      "1/1 [==============================] - 0s 24ms/step\n",
      "y_true :  2  y_pred :  2\n",
      "1/1 [==============================] - 0s 23ms/step\n",
      "y_true :  2  y_pred :  2\n",
      "1/1 [==============================] - 0s 20ms/step\n",
      "y_true :  2  y_pred :  2\n",
      "1/1 [==============================] - 0s 16ms/step\n",
      "y_true :  2  y_pred :  2\n",
      "1/1 [==============================] - 0s 27ms/step\n",
      "y_true :  2  y_pred :  2\n",
      "1/1 [==============================] - 0s 32ms/step\n",
      "y_true :  2  y_pred :  2\n",
      "1/1 [==============================] - 0s 30ms/step\n",
      "y_true :  2  y_pred :  2\n",
      "1/1 [==============================] - 0s 40ms/step\n",
      "y_true :  2  y_pred :  2\n",
      "1/1 [==============================] - 0s 33ms/step\n",
      "y_true :  2  y_pred :  2\n",
      "1/1 [==============================] - 0s 37ms/step\n",
      "y_true :  2  y_pred :  2\n",
      "1/1 [==============================] - 0s 23ms/step\n",
      "y_true :  2  y_pred :  2\n",
      "1/1 [==============================] - 0s 26ms/step\n",
      "y_true :  2  y_pred :  2\n",
      "1/1 [==============================] - 0s 30ms/step\n",
      "y_true :  2  y_pred :  2\n",
      "1/1 [==============================] - 0s 19ms/step\n",
      "y_true :  2  y_pred :  2\n",
      "1/1 [==============================] - 0s 28ms/step\n",
      "y_true :  2  y_pred :  2\n",
      "1/1 [==============================] - 0s 28ms/step\n",
      "y_true :  2  y_pred :  2\n",
      "1/1 [==============================] - 0s 25ms/step\n",
      "y_true :  2  y_pred :  2\n",
      "1/1 [==============================] - 0s 28ms/step\n",
      "y_true :  2  y_pred :  2\n",
      "1/1 [==============================] - 0s 19ms/step\n",
      "y_true :  2  y_pred :  2\n",
      "1/1 [==============================] - 0s 29ms/step\n",
      "y_true :  2  y_pred :  2\n",
      "1/1 [==============================] - 0s 46ms/step\n",
      "y_true :  2  y_pred :  2\n",
      "1/1 [==============================] - 0s 40ms/step\n",
      "y_true :  2  y_pred :  2\n",
      "1/1 [==============================] - 0s 48ms/step\n",
      "y_true :  2  y_pred :  2\n",
      "1/1 [==============================] - 0s 34ms/step\n",
      "y_true :  2  y_pred :  2\n",
      "1/1 [==============================] - 0s 36ms/step\n",
      "y_true :  2  y_pred :  2\n",
      "1/1 [==============================] - 0s 33ms/step\n",
      "y_true :  2  y_pred :  2\n",
      "1/1 [==============================] - 0s 35ms/step\n",
      "y_true :  2  y_pred :  2\n",
      "1/1 [==============================] - 0s 28ms/step\n",
      "y_true :  2  y_pred :  2\n",
      "1/1 [==============================] - 0s 62ms/step\n",
      "y_true :  2  y_pred :  2\n",
      "1/1 [==============================] - 0s 41ms/step\n",
      "y_true :  2  y_pred :  2\n",
      "1/1 [==============================] - 0s 25ms/step\n",
      "y_true :  2  y_pred :  2\n",
      "1/1 [==============================] - 0s 17ms/step\n",
      "y_true :  2  y_pred :  2\n",
      "1/1 [==============================] - 0s 26ms/step\n",
      "y_true :  2  y_pred :  2\n",
      "1/1 [==============================] - 0s 32ms/step\n",
      "y_true :  2  y_pred :  2\n",
      "1/1 [==============================] - 0s 21ms/step\n",
      "y_true :  2  y_pred :  2\n",
      "1/1 [==============================] - 0s 23ms/step\n",
      "y_true :  2  y_pred :  2\n",
      "1/1 [==============================] - 0s 31ms/step\n",
      "y_true :  2  y_pred :  2\n",
      "1/1 [==============================] - 0s 31ms/step\n",
      "y_true :  2  y_pred :  2\n",
      "1/1 [==============================] - 0s 33ms/step\n",
      "y_true :  2  y_pred :  2\n",
      "1/1 [==============================] - 0s 38ms/step\n",
      "y_true :  2  y_pred :  2\n",
      "1/1 [==============================] - 0s 34ms/step\n",
      "y_true :  2  y_pred :  2\n",
      "1/1 [==============================] - 0s 26ms/step\n",
      "y_true :  2  y_pred :  2\n",
      "1/1 [==============================] - 0s 29ms/step\n",
      "y_true :  2  y_pred :  2\n",
      "1/1 [==============================] - 0s 25ms/step\n",
      "y_true :  2  y_pred :  2\n",
      "1/1 [==============================] - 0s 30ms/step\n",
      "y_true :  2  y_pred :  2\n",
      "1/1 [==============================] - 0s 25ms/step\n",
      "y_true :  2  y_pred :  2\n",
      "1/1 [==============================] - 0s 27ms/step\n",
      "y_true :  2  y_pred :  2\n",
      "1/1 [==============================] - 0s 30ms/step\n",
      "y_true :  2  y_pred :  2\n",
      "1/1 [==============================] - 0s 21ms/step\n",
      "y_true :  2  y_pred :  2\n",
      "1/1 [==============================] - 0s 31ms/step\n",
      "y_true :  2  y_pred :  2\n",
      "1/1 [==============================] - 0s 30ms/step\n",
      "y_true :  2  y_pred :  2\n",
      "1/1 [==============================] - 0s 32ms/step\n",
      "y_true :  2  y_pred :  2\n",
      "1/1 [==============================] - 0s 23ms/step\n",
      "y_true :  2  y_pred :  2\n",
      "1/1 [==============================] - 0s 23ms/step\n",
      "y_true :  2  y_pred :  2\n",
      "1/1 [==============================] - 0s 20ms/step\n",
      "y_true :  2  y_pred :  2\n",
      "1/1 [==============================] - 0s 18ms/step\n",
      "y_true :  2  y_pred :  2\n",
      "1/1 [==============================] - 0s 27ms/step\n",
      "y_true :  2  y_pred :  2\n"
     ]
    },
    {
     "name": "stdout",
     "output_type": "stream",
     "text": [
      "1/1 [==============================] - 0s 32ms/step\n",
      "y_true :  2  y_pred :  2\n",
      "1/1 [==============================] - 0s 13ms/step\n",
      "y_true :  2  y_pred :  2\n",
      "1/1 [==============================] - 0s 26ms/step\n",
      "y_true :  2  y_pred :  2\n",
      "1/1 [==============================] - 0s 16ms/step\n",
      "y_true :  2  y_pred :  2\n",
      "1/1 [==============================] - 0s 28ms/step\n",
      "y_true :  2  y_pred :  2\n",
      "1/1 [==============================] - 0s 21ms/step\n",
      "y_true :  2  y_pred :  2\n",
      "1/1 [==============================] - 0s 29ms/step\n",
      "y_true :  2  y_pred :  2\n",
      "1/1 [==============================] - 0s 21ms/step\n",
      "y_true :  2  y_pred :  2\n",
      "1/1 [==============================] - 0s 35ms/step\n",
      "y_true :  2  y_pred :  2\n",
      "1/1 [==============================] - 0s 31ms/step\n",
      "y_true :  2  y_pred :  2\n",
      "1/1 [==============================] - 0s 23ms/step\n",
      "y_true :  2  y_pred :  2\n",
      "1/1 [==============================] - 0s 24ms/step\n",
      "y_true :  2  y_pred :  2\n",
      "1/1 [==============================] - 0s 18ms/step\n",
      "y_true :  2  y_pred :  2\n",
      "1/1 [==============================] - 0s 27ms/step\n",
      "y_true :  2  y_pred :  2\n",
      "1/1 [==============================] - 0s 16ms/step\n",
      "y_true :  2  y_pred :  2\n",
      "1/1 [==============================] - 0s 26ms/step\n",
      "y_true :  2  y_pred :  2\n",
      "1/1 [==============================] - 0s 23ms/step\n",
      "y_true :  2  y_pred :  2\n",
      "1/1 [==============================] - 0s 17ms/step\n",
      "y_true :  2  y_pred :  2\n",
      "1/1 [==============================] - 0s 25ms/step\n",
      "y_true :  2  y_pred :  2\n",
      "1/1 [==============================] - 0s 15ms/step\n",
      "y_true :  2  y_pred :  2\n",
      "1/1 [==============================] - 0s 28ms/step\n",
      "y_true :  2  y_pred :  2\n",
      "1/1 [==============================] - 0s 16ms/step\n",
      "y_true :  2  y_pred :  2\n",
      "1/1 [==============================] - 0s 24ms/step\n",
      "y_true :  2  y_pred :  2\n",
      "1/1 [==============================] - 0s 28ms/step\n",
      "y_true :  2  y_pred :  2\n",
      "1/1 [==============================] - 0s 17ms/step\n",
      "y_true :  2  y_pred :  2\n",
      "1/1 [==============================] - 0s 26ms/step\n",
      "y_true :  2  y_pred :  2\n",
      "1/1 [==============================] - 0s 17ms/step\n",
      "y_true :  2  y_pred :  2\n",
      "1/1 [==============================] - 0s 27ms/step\n",
      "y_true :  2  y_pred :  2\n",
      "1/1 [==============================] - 0s 27ms/step\n",
      "y_true :  2  y_pred :  2\n",
      "1/1 [==============================] - 0s 18ms/step\n",
      "y_true :  2  y_pred :  2\n",
      "1/1 [==============================] - 0s 28ms/step\n",
      "y_true :  2  y_pred :  2\n",
      "1/1 [==============================] - 0s 24ms/step\n",
      "y_true :  2  y_pred :  2\n",
      "1/1 [==============================] - 0s 29ms/step\n",
      "y_true :  2  y_pred :  2\n",
      "1/1 [==============================] - 0s 29ms/step\n",
      "y_true :  2  y_pred :  2\n",
      "1/1 [==============================] - 0s 31ms/step\n",
      "y_true :  2  y_pred :  2\n",
      "1/1 [==============================] - 0s 21ms/step\n",
      "y_true :  2  y_pred :  2\n",
      "1/1 [==============================] - 0s 29ms/step\n",
      "y_true :  2  y_pred :  2\n",
      "1/1 [==============================] - 0s 25ms/step\n",
      "y_true :  2  y_pred :  2\n",
      "1/1 [==============================] - 0s 14ms/step\n",
      "y_true :  2  y_pred :  2\n",
      "1/1 [==============================] - 0s 28ms/step\n",
      "y_true :  2  y_pred :  2\n",
      "1/1 [==============================] - 0s 23ms/step\n",
      "y_true :  2  y_pred :  2\n",
      "1/1 [==============================] - 0s 29ms/step\n",
      "y_true :  2  y_pred :  2\n",
      "1/1 [==============================] - 0s 27ms/step\n",
      "y_true :  2  y_pred :  2\n",
      "1/1 [==============================] - 0s 30ms/step\n",
      "y_true :  2  y_pred :  2\n",
      "1/1 [==============================] - 0s 26ms/step\n",
      "y_true :  2  y_pred :  2\n",
      "1/1 [==============================] - 0s 31ms/step\n",
      "y_true :  2  y_pred :  2\n",
      "1/1 [==============================] - 0s 21ms/step\n",
      "y_true :  2  y_pred :  2\n",
      "1/1 [==============================] - 0s 39ms/step\n",
      "y_true :  2  y_pred :  2\n",
      "1/1 [==============================] - 0s 29ms/step\n",
      "y_true :  2  y_pred :  2\n",
      "1/1 [==============================] - 0s 27ms/step\n",
      "y_true :  2  y_pred :  2\n",
      "1/1 [==============================] - 0s 30ms/step\n",
      "y_true :  2  y_pred :  2\n",
      "1/1 [==============================] - 0s 26ms/step\n",
      "y_true :  2  y_pred :  2\n",
      "1/1 [==============================] - 0s 18ms/step\n",
      "y_true :  2  y_pred :  2\n",
      "1/1 [==============================] - 0s 28ms/step\n",
      "y_true :  2  y_pred :  2\n",
      "1/1 [==============================] - 0s 30ms/step\n",
      "y_true :  2  y_pred :  2\n",
      "1/1 [==============================] - 0s 24ms/step\n",
      "y_true :  2  y_pred :  2\n",
      "1/1 [==============================] - 0s 30ms/step\n",
      "y_true :  2  y_pred :  2\n",
      "1/1 [==============================] - 0s 23ms/step\n",
      "y_true :  2  y_pred :  2\n",
      "1/1 [==============================] - 0s 29ms/step\n",
      "y_true :  2  y_pred :  2\n",
      "1/1 [==============================] - 0s 23ms/step\n",
      "y_true :  2  y_pred :  2\n",
      "1/1 [==============================] - 0s 30ms/step\n",
      "y_true :  2  y_pred :  2\n",
      "1/1 [==============================] - 0s 26ms/step\n",
      "y_true :  2  y_pred :  2\n",
      "1/1 [==============================] - 0s 29ms/step\n",
      "y_true :  2  y_pred :  2\n",
      "1/1 [==============================] - 0s 29ms/step\n",
      "y_true :  2  y_pred :  2\n",
      "1/1 [==============================] - 0s 30ms/step\n",
      "y_true :  2  y_pred :  2\n",
      "1/1 [==============================] - 0s 23ms/step\n",
      "y_true :  2  y_pred :  2\n",
      "1/1 [==============================] - 0s 29ms/step\n",
      "y_true :  2  y_pred :  2\n",
      "1/1 [==============================] - 0s 54ms/step\n",
      "y_true :  2  y_pred :  2\n",
      "1/1 [==============================] - 0s 56ms/step\n",
      "y_true :  2  y_pred :  2\n",
      "1/1 [==============================] - 0s 10ms/step\n",
      "y_true :  2  y_pred :  2\n",
      "1/1 [==============================] - 0s 28ms/step\n",
      "y_true :  2  y_pred :  2\n",
      "1/1 [==============================] - 0s 20ms/step\n",
      "y_true :  2  y_pred :  2\n",
      "1/1 [==============================] - 0s 29ms/step\n",
      "y_true :  2  y_pred :  2\n",
      "1/1 [==============================] - 0s 30ms/step\n",
      "y_true :  2  y_pred :  2\n",
      "1/1 [==============================] - 0s 19ms/step\n",
      "y_true :  2  y_pred :  2\n",
      "1/1 [==============================] - 0s 29ms/step\n",
      "y_true :  2  y_pred :  2\n",
      "1/1 [==============================] - 0s 22ms/step\n",
      "y_true :  2  y_pred :  2\n",
      "1/1 [==============================] - 0s 26ms/step\n",
      "y_true :  2  y_pred :  2\n",
      "1/1 [==============================] - 0s 21ms/step\n",
      "y_true :  2  y_pred :  2\n",
      "1/1 [==============================] - 0s 29ms/step\n",
      "y_true :  2  y_pred :  2\n",
      "1/1 [==============================] - 0s 23ms/step\n",
      "y_true :  2  y_pred :  2\n",
      "1/1 [==============================] - 0s 31ms/step\n",
      "y_true :  2  y_pred :  2\n",
      "1/1 [==============================] - 0s 20ms/step\n",
      "y_true :  2  y_pred :  2\n",
      "1/1 [==============================] - 0s 26ms/step\n",
      "y_true :  2  y_pred :  2\n",
      "1/1 [==============================] - 0s 25ms/step\n",
      "y_true :  2  y_pred :  2\n",
      "1/1 [==============================] - 0s 31ms/step\n",
      "y_true :  2  y_pred :  2\n",
      "1/1 [==============================] - 0s 27ms/step\n",
      "y_true :  2  y_pred :  2\n",
      "1/1 [==============================] - 0s 30ms/step\n",
      "y_true :  2  y_pred :  2\n",
      "1/1 [==============================] - 0s 24ms/step\n",
      "y_true :  2  y_pred :  2\n",
      "1/1 [==============================] - 0s 28ms/step\n",
      "y_true :  2  y_pred :  2\n",
      "1/1 [==============================] - 0s 12ms/step\n",
      "y_true :  2  y_pred :  2\n",
      "1/1 [==============================] - 0s 28ms/step\n",
      "y_true :  2  y_pred :  2\n",
      "1/1 [==============================] - 0s 22ms/step\n",
      "y_true :  2  y_pred :  2\n",
      "1/1 [==============================] - 0s 30ms/step\n",
      "y_true :  2  y_pred :  2\n",
      "1/1 [==============================] - 0s 25ms/step\n",
      "y_true :  2  y_pred :  2\n",
      "1/1 [==============================] - 0s 29ms/step\n",
      "y_true :  2  y_pred :  2\n",
      "1/1 [==============================] - 0s 18ms/step\n",
      "y_true :  2  y_pred :  2\n",
      "1/1 [==============================] - 0s 27ms/step\n",
      "y_true :  2  y_pred :  2\n",
      "1/1 [==============================] - 0s 24ms/step\n",
      "y_true :  2  y_pred :  2\n",
      "1/1 [==============================] - 0s 33ms/step\n",
      "y_true :  2  y_pred :  2\n",
      "1/1 [==============================] - 0s 27ms/step\n",
      "y_true :  2  y_pred :  2\n",
      "1/1 [==============================] - 0s 27ms/step\n",
      "y_true :  2  y_pred :  2\n",
      "1/1 [==============================] - 0s 30ms/step\n",
      "y_true :  2  y_pred :  2\n",
      "1/1 [==============================] - 0s 13ms/step\n",
      "y_true :  2  y_pred :  2\n",
      "1/1 [==============================] - 0s 25ms/step\n",
      "y_true :  2  y_pred :  2\n",
      "1/1 [==============================] - 0s 32ms/step\n",
      "y_true :  3  y_pred :  3\n"
     ]
    },
    {
     "name": "stdout",
     "output_type": "stream",
     "text": [
      "1/1 [==============================] - 0s 21ms/step\n",
      "y_true :  3  y_pred :  3\n",
      "1/1 [==============================] - 0s 27ms/step\n",
      "y_true :  3  y_pred :  3\n",
      "1/1 [==============================] - 0s 24ms/step\n",
      "y_true :  3  y_pred :  3\n",
      "1/1 [==============================] - 0s 15ms/step\n",
      "y_true :  3  y_pred :  3\n",
      "1/1 [==============================] - 0s 27ms/step\n",
      "y_true :  3  y_pred :  3\n",
      "1/1 [==============================] - 0s 23ms/step\n",
      "y_true :  3  y_pred :  3\n",
      "1/1 [==============================] - 0s 30ms/step\n",
      "y_true :  3  y_pred :  3\n",
      "1/1 [==============================] - 0s 27ms/step\n",
      "y_true :  3  y_pred :  3\n",
      "1/1 [==============================] - 0s 18ms/step\n",
      "y_true :  3  y_pred :  3\n",
      "1/1 [==============================] - 0s 26ms/step\n",
      "y_true :  3  y_pred :  3\n",
      "1/1 [==============================] - 0s 24ms/step\n",
      "y_true :  3  y_pred :  3\n",
      "1/1 [==============================] - 0s 29ms/step\n",
      "y_true :  3  y_pred :  3\n",
      "1/1 [==============================] - 0s 23ms/step\n",
      "y_true :  3  y_pred :  3\n",
      "1/1 [==============================] - 0s 30ms/step\n",
      "y_true :  3  y_pred :  3\n",
      "1/1 [==============================] - 0s 27ms/step\n",
      "y_true :  3  y_pred :  3\n",
      "1/1 [==============================] - 0s 17ms/step\n",
      "y_true :  3  y_pred :  3\n",
      "1/1 [==============================] - 0s 26ms/step\n",
      "y_true :  3  y_pred :  3\n",
      "1/1 [==============================] - 0s 57ms/step\n",
      "y_true :  3  y_pred :  3\n",
      "1/1 [==============================] - 0s 16ms/step\n",
      "y_true :  3  y_pred :  3\n",
      "1/1 [==============================] - 0s 22ms/step\n",
      "y_true :  3  y_pred :  3\n",
      "1/1 [==============================] - 0s 30ms/step\n",
      "y_true :  3  y_pred :  3\n",
      "1/1 [==============================] - 0s 23ms/step\n",
      "y_true :  3  y_pred :  3\n",
      "1/1 [==============================] - 0s 32ms/step\n",
      "y_true :  3  y_pred :  3\n",
      "1/1 [==============================] - 0s 16ms/step\n",
      "y_true :  3  y_pred :  3\n",
      "1/1 [==============================] - 0s 30ms/step\n",
      "y_true :  3  y_pred :  3\n",
      "1/1 [==============================] - 0s 36ms/step\n",
      "y_true :  3  y_pred :  3\n",
      "1/1 [==============================] - 0s 24ms/step\n",
      "y_true :  3  y_pred :  3\n",
      "1/1 [==============================] - 0s 43ms/step\n",
      "y_true :  3  y_pred :  3\n",
      "1/1 [==============================] - 0s 25ms/step\n",
      "y_true :  3  y_pred :  3\n",
      "1/1 [==============================] - 0s 29ms/step\n",
      "y_true :  3  y_pred :  3\n",
      "1/1 [==============================] - 0s 10ms/step\n",
      "y_true :  3  y_pred :  3\n",
      "1/1 [==============================] - 0s 22ms/step\n",
      "y_true :  3  y_pred :  3\n",
      "1/1 [==============================] - 0s 29ms/step\n",
      "y_true :  3  y_pred :  3\n",
      "1/1 [==============================] - 0s 26ms/step\n",
      "y_true :  3  y_pred :  3\n",
      "1/1 [==============================] - 0s 21ms/step\n",
      "y_true :  3  y_pred :  3\n",
      "1/1 [==============================] - 0s 11ms/step\n",
      "y_true :  3  y_pred :  3\n",
      "1/1 [==============================] - 0s 27ms/step\n",
      "y_true :  3  y_pred :  3\n",
      "1/1 [==============================] - 0s 14ms/step\n",
      "y_true :  3  y_pred :  3\n",
      "1/1 [==============================] - 0s 28ms/step\n",
      "y_true :  3  y_pred :  3\n",
      "1/1 [==============================] - 0s 29ms/step\n",
      "y_true :  3  y_pred :  3\n",
      "1/1 [==============================] - 0s 27ms/step\n",
      "y_true :  3  y_pred :  3\n",
      "1/1 [==============================] - 0s 23ms/step\n",
      "y_true :  3  y_pred :  3\n",
      "1/1 [==============================] - 0s 30ms/step\n",
      "y_true :  3  y_pred :  3\n",
      "1/1 [==============================] - 0s 42ms/step\n",
      "y_true :  3  y_pred :  3\n",
      "1/1 [==============================] - 0s 27ms/step\n",
      "y_true :  3  y_pred :  3\n",
      "1/1 [==============================] - 0s 31ms/step\n",
      "y_true :  3  y_pred :  3\n",
      "1/1 [==============================] - 0s 13ms/step\n",
      "y_true :  3  y_pred :  3\n",
      "1/1 [==============================] - 0s 26ms/step\n",
      "y_true :  3  y_pred :  3\n",
      "1/1 [==============================] - 0s 20ms/step\n",
      "y_true :  3  y_pred :  3\n",
      "1/1 [==============================] - 0s 31ms/step\n",
      "y_true :  3  y_pred :  3\n",
      "1/1 [==============================] - 0s 29ms/step\n",
      "y_true :  3  y_pred :  3\n",
      "1/1 [==============================] - 0s 23ms/step\n",
      "y_true :  3  y_pred :  3\n",
      "1/1 [==============================] - 0s 30ms/step\n",
      "y_true :  3  y_pred :  3\n",
      "1/1 [==============================] - 0s 27ms/step\n",
      "y_true :  3  y_pred :  3\n",
      "1/1 [==============================] - 0s 30ms/step\n",
      "y_true :  3  y_pred :  3\n",
      "1/1 [==============================] - 0s 32ms/step\n",
      "y_true :  3  y_pred :  3\n",
      "1/1 [==============================] - 0s 31ms/step\n",
      "y_true :  3  y_pred :  3\n",
      "1/1 [==============================] - 0s 30ms/step\n",
      "y_true :  3  y_pred :  3\n",
      "1/1 [==============================] - 0s 31ms/step\n",
      "y_true :  3  y_pred :  3\n",
      "1/1 [==============================] - 0s 27ms/step\n",
      "y_true :  3  y_pred :  3\n",
      "1/1 [==============================] - 0s 33ms/step\n",
      "y_true :  3  y_pred :  3\n",
      "1/1 [==============================] - 0s 34ms/step\n",
      "y_true :  3  y_pred :  3\n",
      "1/1 [==============================] - 0s 38ms/step\n",
      "y_true :  3  y_pred :  3\n",
      "1/1 [==============================] - 0s 26ms/step\n",
      "y_true :  3  y_pred :  3\n",
      "1/1 [==============================] - 0s 29ms/step\n",
      "y_true :  3  y_pred :  3\n",
      "1/1 [==============================] - 0s 32ms/step\n",
      "y_true :  3  y_pred :  3\n",
      "1/1 [==============================] - 0s 33ms/step\n",
      "y_true :  3  y_pred :  3\n",
      "1/1 [==============================] - 0s 30ms/step\n",
      "y_true :  3  y_pred :  3\n",
      "1/1 [==============================] - 0s 18ms/step\n",
      "y_true :  3  y_pred :  3\n",
      "1/1 [==============================] - 0s 25ms/step\n",
      "y_true :  3  y_pred :  3\n",
      "1/1 [==============================] - 0s 29ms/step\n",
      "y_true :  3  y_pred :  3\n",
      "1/1 [==============================] - 0s 27ms/step\n",
      "y_true :  3  y_pred :  3\n",
      "1/1 [==============================] - 0s 17ms/step\n",
      "y_true :  3  y_pred :  3\n",
      "1/1 [==============================] - 0s 30ms/step\n",
      "y_true :  3  y_pred :  3\n",
      "1/1 [==============================] - 0s 24ms/step\n",
      "y_true :  3  y_pred :  3\n",
      "1/1 [==============================] - 0s 30ms/step\n",
      "y_true :  3  y_pred :  3\n",
      "1/1 [==============================] - 0s 27ms/step\n",
      "y_true :  3  y_pred :  3\n",
      "1/1 [==============================] - 0s 19ms/step\n",
      "y_true :  3  y_pred :  3\n",
      "1/1 [==============================] - 0s 29ms/step\n",
      "y_true :  3  y_pred :  3\n",
      "1/1 [==============================] - 0s 27ms/step\n",
      "y_true :  3  y_pred :  3\n",
      "1/1 [==============================] - 0s 31ms/step\n",
      "y_true :  3  y_pred :  3\n",
      "1/1 [==============================] - 0s 28ms/step\n",
      "y_true :  3  y_pred :  3\n",
      "1/1 [==============================] - 0s 30ms/step\n",
      "y_true :  3  y_pred :  3\n",
      "1/1 [==============================] - 0s 22ms/step\n",
      "y_true :  3  y_pred :  3\n",
      "1/1 [==============================] - 0s 29ms/step\n",
      "y_true :  3  y_pred :  3\n",
      "1/1 [==============================] - 0s 27ms/step\n",
      "y_true :  3  y_pred :  3\n",
      "1/1 [==============================] - 0s 18ms/step\n",
      "y_true :  3  y_pred :  3\n",
      "1/1 [==============================] - 0s 28ms/step\n",
      "y_true :  3  y_pred :  3\n",
      "1/1 [==============================] - 0s 23ms/step\n",
      "y_true :  3  y_pred :  3\n",
      "1/1 [==============================] - 0s 31ms/step\n",
      "y_true :  3  y_pred :  3\n",
      "1/1 [==============================] - 0s 24ms/step\n",
      "y_true :  3  y_pred :  3\n",
      "1/1 [==============================] - 0s 31ms/step\n",
      "y_true :  3  y_pred :  3\n",
      "1/1 [==============================] - 0s 48ms/step\n",
      "y_true :  3  y_pred :  3\n",
      "1/1 [==============================] - 0s 18ms/step\n",
      "y_true :  3  y_pred :  3\n",
      "1/1 [==============================] - 0s 19ms/step\n",
      "y_true :  3  y_pred :  3\n",
      "1/1 [==============================] - 0s 28ms/step\n",
      "y_true :  3  y_pred :  3\n",
      "1/1 [==============================] - 0s 19ms/step\n",
      "y_true :  3  y_pred :  3\n",
      "1/1 [==============================] - 0s 13ms/step\n",
      "y_true :  3  y_pred :  3\n",
      "1/1 [==============================] - 0s 30ms/step\n",
      "y_true :  3  y_pred :  3\n",
      "1/1 [==============================] - 0s 31ms/step\n",
      "y_true :  3  y_pred :  3\n",
      "1/1 [==============================] - 0s 19ms/step\n",
      "y_true :  3  y_pred :  3\n",
      "1/1 [==============================] - 0s 39ms/step\n",
      "y_true :  3  y_pred :  3\n",
      "1/1 [==============================] - 0s 35ms/step\n",
      "y_true :  3  y_pred :  3\n",
      "1/1 [==============================] - 0s 33ms/step\n",
      "y_true :  3  y_pred :  3\n",
      "1/1 [==============================] - 0s 30ms/step\n",
      "y_true :  3  y_pred :  3\n",
      "1/1 [==============================] - 0s 19ms/step\n",
      "y_true :  3  y_pred :  3\n"
     ]
    },
    {
     "name": "stdout",
     "output_type": "stream",
     "text": [
      "1/1 [==============================] - 0s 27ms/step\n",
      "y_true :  3  y_pred :  3\n",
      "1/1 [==============================] - 0s 21ms/step\n",
      "y_true :  3  y_pred :  3\n",
      "1/1 [==============================] - 0s 30ms/step\n",
      "y_true :  3  y_pred :  3\n",
      "1/1 [==============================] - 0s 23ms/step\n",
      "y_true :  3  y_pred :  3\n",
      "1/1 [==============================] - 0s 29ms/step\n",
      "y_true :  3  y_pred :  3\n",
      "1/1 [==============================] - 0s 27ms/step\n",
      "y_true :  3  y_pred :  3\n",
      "1/1 [==============================] - 0s 28ms/step\n",
      "y_true :  3  y_pred :  3\n",
      "1/1 [==============================] - 0s 50ms/step\n",
      "y_true :  3  y_pred :  3\n",
      "1/1 [==============================] - 0s 30ms/step\n",
      "y_true :  3  y_pred :  3\n",
      "1/1 [==============================] - 0s 34ms/step\n",
      "y_true :  3  y_pred :  3\n",
      "1/1 [==============================] - 0s 40ms/step\n",
      "y_true :  3  y_pred :  3\n",
      "1/1 [==============================] - 0s 31ms/step\n",
      "y_true :  3  y_pred :  3\n",
      "1/1 [==============================] - 0s 35ms/step\n",
      "y_true :  3  y_pred :  3\n",
      "1/1 [==============================] - 0s 30ms/step\n",
      "y_true :  3  y_pred :  3\n",
      "1/1 [==============================] - 0s 33ms/step\n",
      "y_true :  3  y_pred :  3\n",
      "1/1 [==============================] - 0s 36ms/step\n",
      "y_true :  3  y_pred :  3\n",
      "1/1 [==============================] - 0s 33ms/step\n",
      "y_true :  3  y_pred :  3\n",
      "1/1 [==============================] - 0s 26ms/step\n",
      "y_true :  3  y_pred :  3\n",
      "1/1 [==============================] - 0s 43ms/step\n",
      "y_true :  3  y_pred :  3\n",
      "1/1 [==============================] - 0s 54ms/step\n",
      "y_true :  3  y_pred :  3\n",
      "1/1 [==============================] - 0s 37ms/step\n",
      "y_true :  3  y_pred :  3\n",
      "1/1 [==============================] - 0s 34ms/step\n",
      "y_true :  3  y_pred :  3\n",
      "1/1 [==============================] - 0s 16ms/step\n",
      "y_true :  3  y_pred :  3\n",
      "1/1 [==============================] - 0s 31ms/step\n",
      "y_true :  3  y_pred :  3\n",
      "1/1 [==============================] - 0s 35ms/step\n",
      "y_true :  3  y_pred :  3\n",
      "1/1 [==============================] - 0s 33ms/step\n",
      "y_true :  3  y_pred :  3\n",
      "1/1 [==============================] - 0s 28ms/step\n",
      "y_true :  3  y_pred :  3\n",
      "1/1 [==============================] - 0s 39ms/step\n",
      "y_true :  3  y_pred :  3\n",
      "1/1 [==============================] - 0s 25ms/step\n",
      "y_true :  3  y_pred :  3\n",
      "1/1 [==============================] - 0s 27ms/step\n",
      "y_true :  3  y_pred :  3\n",
      "1/1 [==============================] - 0s 13ms/step\n",
      "y_true :  3  y_pred :  3\n",
      "1/1 [==============================] - 0s 62ms/step\n",
      "y_true :  3  y_pred :  3\n",
      "1/1 [==============================] - 0s 24ms/step\n",
      "y_true :  3  y_pred :  3\n",
      "1/1 [==============================] - 0s 14ms/step\n",
      "y_true :  3  y_pred :  3\n",
      "1/1 [==============================] - 0s 31ms/step\n",
      "y_true :  3  y_pred :  3\n",
      "1/1 [==============================] - 0s 34ms/step\n",
      "y_true :  3  y_pred :  3\n",
      "1/1 [==============================] - 0s 52ms/step\n",
      "y_true :  3  y_pred :  3\n",
      "1/1 [==============================] - 0s 16ms/step\n",
      "y_true :  3  y_pred :  3\n",
      "1/1 [==============================] - 0s 18ms/step\n",
      "y_true :  3  y_pred :  3\n",
      "1/1 [==============================] - 0s 29ms/step\n",
      "y_true :  3  y_pred :  3\n",
      "1/1 [==============================] - 0s 21ms/step\n",
      "y_true :  3  y_pred :  3\n",
      "1/1 [==============================] - 0s 17ms/step\n",
      "y_true :  3  y_pred :  3\n",
      "1/1 [==============================] - 0s 15ms/step\n",
      "y_true :  3  y_pred :  3\n",
      "1/1 [==============================] - 0s 25ms/step\n",
      "y_true :  3  y_pred :  3\n",
      "1/1 [==============================] - 0s 21ms/step\n",
      "y_true :  3  y_pred :  3\n",
      "1/1 [==============================] - 0s 17ms/step\n",
      "y_true :  3  y_pred :  3\n",
      "1/1 [==============================] - 0s 26ms/step\n",
      "y_true :  3  y_pred :  3\n",
      "1/1 [==============================] - 0s 23ms/step\n",
      "y_true :  3  y_pred :  3\n",
      "1/1 [==============================] - 0s 30ms/step\n",
      "y_true :  3  y_pred :  3\n",
      "1/1 [==============================] - 0s 25ms/step\n",
      "y_true :  3  y_pred :  3\n",
      "1/1 [==============================] - 0s 24ms/step\n",
      "y_true :  3  y_pred :  3\n",
      "1/1 [==============================] - 0s 26ms/step\n",
      "y_true :  3  y_pred :  3\n",
      "1/1 [==============================] - 0s 34ms/step\n",
      "y_true :  3  y_pred :  3\n",
      "1/1 [==============================] - 0s 18ms/step\n",
      "y_true :  3  y_pred :  3\n",
      "1/1 [==============================] - 0s 31ms/step\n",
      "y_true :  3  y_pred :  3\n",
      "1/1 [==============================] - 0s 24ms/step\n",
      "y_true :  3  y_pred :  3\n",
      "1/1 [==============================] - 0s 27ms/step\n",
      "y_true :  3  y_pred :  3\n",
      "1/1 [==============================] - 0s 27ms/step\n",
      "y_true :  3  y_pred :  3\n",
      "1/1 [==============================] - 0s 16ms/step\n",
      "y_true :  3  y_pred :  3\n",
      "1/1 [==============================] - 0s 25ms/step\n",
      "y_true :  3  y_pred :  3\n",
      "1/1 [==============================] - 0s 15ms/step\n",
      "y_true :  3  y_pred :  3\n",
      "1/1 [==============================] - 0s 29ms/step\n",
      "y_true :  3  y_pred :  3\n",
      "1/1 [==============================] - 0s 29ms/step\n",
      "y_true :  3  y_pred :  3\n",
      "1/1 [==============================] - 0s 25ms/step\n",
      "y_true :  3  y_pred :  3\n",
      "1/1 [==============================] - 0s 16ms/step\n",
      "y_true :  3  y_pred :  3\n",
      "1/1 [==============================] - 0s 27ms/step\n",
      "y_true :  3  y_pred :  3\n",
      "1/1 [==============================] - 0s 25ms/step\n",
      "y_true :  3  y_pred :  3\n",
      "1/1 [==============================] - 0s 28ms/step\n",
      "y_true :  3  y_pred :  3\n",
      "1/1 [==============================] - 0s 27ms/step\n",
      "y_true :  3  y_pred :  3\n",
      "1/1 [==============================] - 0s 29ms/step\n",
      "y_true :  3  y_pred :  3\n",
      "1/1 [==============================] - 0s 28ms/step\n",
      "y_true :  3  y_pred :  3\n",
      "1/1 [==============================] - 0s 17ms/step\n",
      "y_true :  3  y_pred :  3\n",
      "1/1 [==============================] - 0s 25ms/step\n",
      "y_true :  3  y_pred :  3\n",
      "1/1 [==============================] - 0s 23ms/step\n",
      "y_true :  3  y_pred :  3\n",
      "1/1 [==============================] - 0s 30ms/step\n",
      "y_true :  3  y_pred :  3\n",
      "1/1 [==============================] - 0s 25ms/step\n",
      "y_true :  3  y_pred :  3\n",
      "1/1 [==============================] - 0s 19ms/step\n",
      "y_true :  3  y_pred :  3\n",
      "1/1 [==============================] - 0s 26ms/step\n",
      "y_true :  3  y_pred :  3\n",
      "1/1 [==============================] - 0s 27ms/step\n",
      "y_true :  3  y_pred :  3\n",
      "1/1 [==============================] - 0s 23ms/step\n",
      "y_true :  3  y_pred :  3\n",
      "1/1 [==============================] - 0s 15ms/step\n",
      "y_true :  3  y_pred :  3\n",
      "1/1 [==============================] - 0s 19ms/step\n",
      "y_true :  3  y_pred :  3\n",
      "1/1 [==============================] - 0s 26ms/step\n",
      "y_true :  3  y_pred :  3\n",
      "1/1 [==============================] - 0s 47ms/step\n",
      "y_true :  3  y_pred :  3\n",
      "1/1 [==============================] - 0s 17ms/step\n",
      "y_true :  3  y_pred :  3\n",
      "1/1 [==============================] - 0s 31ms/step\n",
      "y_true :  3  y_pred :  3\n",
      "1/1 [==============================] - 0s 30ms/step\n",
      "y_true :  3  y_pred :  3\n",
      "1/1 [==============================] - 0s 31ms/step\n",
      "y_true :  3  y_pred :  3\n",
      "1/1 [==============================] - 0s 29ms/step\n",
      "y_true :  3  y_pred :  3\n",
      "1/1 [==============================] - 0s 27ms/step\n",
      "y_true :  3  y_pred :  3\n",
      "1/1 [==============================] - 0s 29ms/step\n",
      "y_true :  3  y_pred :  3\n",
      "1/1 [==============================] - 0s 33ms/step\n",
      "y_true :  3  y_pred :  3\n",
      "1/1 [==============================] - 0s 38ms/step\n",
      "y_true :  3  y_pred :  3\n",
      "1/1 [==============================] - 0s 28ms/step\n",
      "y_true :  3  y_pred :  3\n",
      "1/1 [==============================] - 0s 43ms/step\n",
      "y_true :  4  y_pred :  4\n",
      "1/1 [==============================] - 0s 13ms/step\n",
      "y_true :  4  y_pred :  4\n",
      "1/1 [==============================] - 0s 29ms/step\n",
      "y_true :  4  y_pred :  4\n",
      "1/1 [==============================] - 0s 28ms/step\n",
      "y_true :  4  y_pred :  4\n",
      "1/1 [==============================] - 0s 20ms/step\n",
      "y_true :  4  y_pred :  4\n",
      "1/1 [==============================] - 0s 16ms/step\n",
      "y_true :  4  y_pred :  4\n",
      "1/1 [==============================] - 0s 23ms/step\n",
      "y_true :  4  y_pred :  4\n",
      "1/1 [==============================] - 0s 29ms/step\n",
      "y_true :  4  y_pred :  4\n",
      "1/1 [==============================] - 0s 27ms/step\n",
      "y_true :  4  y_pred :  4\n",
      "1/1 [==============================] - 0s 42ms/step\n",
      "y_true :  4  y_pred :  4\n",
      "1/1 [==============================] - 0s 43ms/step\n",
      "y_true :  4  y_pred :  4\n",
      "1/1 [==============================] - 0s 54ms/step\n",
      "y_true :  4  y_pred :  4\n"
     ]
    },
    {
     "name": "stdout",
     "output_type": "stream",
     "text": [
      "1/1 [==============================] - 0s 19ms/step\n",
      "y_true :  4  y_pred :  4\n",
      "1/1 [==============================] - 0s 26ms/step\n",
      "y_true :  4  y_pred :  4\n",
      "1/1 [==============================] - 0s 39ms/step\n",
      "y_true :  4  y_pred :  4\n",
      "1/1 [==============================] - 0s 28ms/step\n",
      "y_true :  4  y_pred :  4\n",
      "1/1 [==============================] - 0s 98ms/step\n",
      "y_true :  4  y_pred :  4\n",
      "1/1 [==============================] - 0s 49ms/step\n",
      "y_true :  4  y_pred :  4\n",
      "1/1 [==============================] - 0s 54ms/step\n",
      "y_true :  4  y_pred :  4\n",
      "1/1 [==============================] - 0s 31ms/step\n",
      "y_true :  4  y_pred :  4\n",
      "1/1 [==============================] - 0s 47ms/step\n",
      "y_true :  4  y_pred :  4\n",
      "1/1 [==============================] - 0s 30ms/step\n",
      "y_true :  4  y_pred :  4\n",
      "1/1 [==============================] - 0s 25ms/step\n",
      "y_true :  4  y_pred :  4\n",
      "1/1 [==============================] - 0s 38ms/step\n",
      "y_true :  4  y_pred :  4\n",
      "1/1 [==============================] - 0s 60ms/step\n",
      "y_true :  4  y_pred :  4\n",
      "1/1 [==============================] - 0s 16ms/step\n",
      "y_true :  4  y_pred :  4\n",
      "1/1 [==============================] - 0s 25ms/step\n",
      "y_true :  4  y_pred :  4\n",
      "1/1 [==============================] - 0s 30ms/step\n",
      "y_true :  4  y_pred :  4\n",
      "1/1 [==============================] - 0s 17ms/step\n",
      "y_true :  4  y_pred :  4\n",
      "1/1 [==============================] - 0s 26ms/step\n",
      "y_true :  4  y_pred :  4\n",
      "1/1 [==============================] - 0s 16ms/step\n",
      "y_true :  4  y_pred :  4\n",
      "1/1 [==============================] - 0s 26ms/step\n",
      "y_true :  4  y_pred :  4\n",
      "1/1 [==============================] - 0s 25ms/step\n",
      "y_true :  4  y_pred :  4\n",
      "1/1 [==============================] - 0s 14ms/step\n",
      "y_true :  4  y_pred :  4\n",
      "1/1 [==============================] - 0s 36ms/step\n",
      "y_true :  4  y_pred :  4\n",
      "1/1 [==============================] - 0s 21ms/step\n",
      "y_true :  4  y_pred :  4\n",
      "1/1 [==============================] - 0s 25ms/step\n",
      "y_true :  4  y_pred :  4\n",
      "1/1 [==============================] - 0s 20ms/step\n",
      "y_true :  4  y_pred :  4\n",
      "1/1 [==============================] - 0s 28ms/step\n",
      "y_true :  4  y_pred :  4\n",
      "1/1 [==============================] - 0s 26ms/step\n",
      "y_true :  4  y_pred :  4\n",
      "1/1 [==============================] - 0s 17ms/step\n",
      "y_true :  4  y_pred :  4\n",
      "1/1 [==============================] - 0s 26ms/step\n",
      "y_true :  4  y_pred :  4\n",
      "1/1 [==============================] - 0s 28ms/step\n",
      "y_true :  4  y_pred :  4\n",
      "1/1 [==============================] - 0s 30ms/step\n",
      "y_true :  4  y_pred :  4\n",
      "1/1 [==============================] - 0s 31ms/step\n",
      "y_true :  4  y_pred :  4\n",
      "1/1 [==============================] - 0s 30ms/step\n",
      "y_true :  4  y_pred :  4\n",
      "1/1 [==============================] - 0s 32ms/step\n",
      "y_true :  4  y_pred :  4\n",
      "1/1 [==============================] - 0s 32ms/step\n",
      "y_true :  4  y_pred :  4\n",
      "1/1 [==============================] - 0s 28ms/step\n",
      "y_true :  4  y_pred :  4\n",
      "1/1 [==============================] - 0s 20ms/step\n",
      "y_true :  4  y_pred :  4\n",
      "1/1 [==============================] - 0s 31ms/step\n",
      "y_true :  4  y_pred :  4\n",
      "1/1 [==============================] - 0s 28ms/step\n",
      "y_true :  4  y_pred :  4\n",
      "1/1 [==============================] - 0s 27ms/step\n",
      "y_true :  4  y_pred :  4\n",
      "1/1 [==============================] - 0s 28ms/step\n",
      "y_true :  4  y_pred :  4\n",
      "1/1 [==============================] - 0s 33ms/step\n",
      "y_true :  4  y_pred :  4\n",
      "1/1 [==============================] - 0s 31ms/step\n",
      "y_true :  4  y_pred :  4\n",
      "1/1 [==============================] - 0s 27ms/step\n",
      "y_true :  4  y_pred :  4\n",
      "1/1 [==============================] - 0s 25ms/step\n",
      "y_true :  4  y_pred :  4\n",
      "1/1 [==============================] - 0s 19ms/step\n",
      "y_true :  4  y_pred :  4\n",
      "1/1 [==============================] - 0s 28ms/step\n",
      "y_true :  4  y_pred :  4\n",
      "1/1 [==============================] - 0s 30ms/step\n",
      "y_true :  4  y_pred :  4\n",
      "1/1 [==============================] - 0s 26ms/step\n",
      "y_true :  4  y_pred :  4\n",
      "1/1 [==============================] - 0s 94ms/step\n",
      "y_true :  4  y_pred :  4\n",
      "1/1 [==============================] - 0s 34ms/step\n",
      "y_true :  4  y_pred :  4\n",
      "1/1 [==============================] - 0s 30ms/step\n",
      "y_true :  4  y_pred :  4\n",
      "1/1 [==============================] - 0s 20ms/step\n",
      "y_true :  4  y_pred :  4\n",
      "1/1 [==============================] - 0s 27ms/step\n",
      "y_true :  4  y_pred :  4\n",
      "1/1 [==============================] - 0s 26ms/step\n",
      "y_true :  4  y_pred :  4\n",
      "1/1 [==============================] - 0s 29ms/step\n",
      "y_true :  4  y_pred :  4\n",
      "1/1 [==============================] - 0s 70ms/step\n",
      "y_true :  4  y_pred :  4\n",
      "1/1 [==============================] - 0s 82ms/step\n",
      "y_true :  4  y_pred :  4\n",
      "1/1 [==============================] - 0s 50ms/step\n",
      "y_true :  4  y_pred :  4\n",
      "1/1 [==============================] - 0s 52ms/step\n",
      "y_true :  4  y_pred :  4\n",
      "1/1 [==============================] - 0s 49ms/step\n",
      "y_true :  4  y_pred :  4\n",
      "1/1 [==============================] - 0s 51ms/step\n",
      "y_true :  4  y_pred :  4\n",
      "1/1 [==============================] - 0s 59ms/step\n",
      "y_true :  4  y_pred :  4\n",
      "1/1 [==============================] - 0s 34ms/step\n",
      "y_true :  4  y_pred :  4\n",
      "1/1 [==============================] - 0s 49ms/step\n",
      "y_true :  4  y_pred :  4\n",
      "1/1 [==============================] - 0s 40ms/step\n",
      "y_true :  4  y_pred :  4\n",
      "1/1 [==============================] - 0s 52ms/step\n",
      "y_true :  4  y_pred :  4\n",
      "1/1 [==============================] - 0s 52ms/step\n",
      "y_true :  4  y_pred :  4\n",
      "1/1 [==============================] - 0s 85ms/step\n",
      "y_true :  4  y_pred :  4\n",
      "1/1 [==============================] - 0s 113ms/step\n",
      "y_true :  4  y_pred :  4\n",
      "1/1 [==============================] - 0s 75ms/step\n",
      "y_true :  4  y_pred :  4\n",
      "1/1 [==============================] - 0s 197ms/step\n",
      "y_true :  4  y_pred :  4\n",
      "1/1 [==============================] - 0s 145ms/step\n",
      "y_true :  4  y_pred :  4\n",
      "1/1 [==============================] - 0s 59ms/step\n",
      "y_true :  4  y_pred :  4\n",
      "1/1 [==============================] - 0s 63ms/step\n",
      "y_true :  4  y_pred :  4\n",
      "1/1 [==============================] - 0s 88ms/step\n",
      "y_true :  4  y_pred :  4\n",
      "1/1 [==============================] - 0s 45ms/step\n",
      "y_true :  4  y_pred :  4\n",
      "1/1 [==============================] - 0s 113ms/step\n",
      "y_true :  4  y_pred :  4\n",
      "1/1 [==============================] - 0s 27ms/step\n",
      "y_true :  4  y_pred :  4\n",
      "1/1 [==============================] - 0s 30ms/step\n",
      "y_true :  4  y_pred :  4\n",
      "1/1 [==============================] - 0s 31ms/step\n",
      "y_true :  4  y_pred :  4\n",
      "1/1 [==============================] - 0s 27ms/step\n",
      "y_true :  4  y_pred :  4\n",
      "1/1 [==============================] - 0s 37ms/step\n",
      "y_true :  4  y_pred :  4\n",
      "1/1 [==============================] - 0s 33ms/step\n",
      "y_true :  4  y_pred :  4\n",
      "1/1 [==============================] - 0s 33ms/step\n",
      "y_true :  4  y_pred :  4\n",
      "1/1 [==============================] - 0s 33ms/step\n",
      "y_true :  4  y_pred :  4\n",
      "1/1 [==============================] - 0s 26ms/step\n",
      "y_true :  4  y_pred :  4\n",
      "1/1 [==============================] - 0s 26ms/step\n",
      "y_true :  4  y_pred :  4\n",
      "1/1 [==============================] - 0s 30ms/step\n",
      "y_true :  4  y_pred :  4\n",
      "1/1 [==============================] - 0s 28ms/step\n",
      "y_true :  4  y_pred :  4\n",
      "1/1 [==============================] - 0s 34ms/step\n",
      "y_true :  4  y_pred :  4\n",
      "1/1 [==============================] - 0s 25ms/step\n",
      "y_true :  4  y_pred :  4\n",
      "1/1 [==============================] - 0s 29ms/step\n",
      "y_true :  4  y_pred :  4\n",
      "1/1 [==============================] - 0s 29ms/step\n",
      "y_true :  4  y_pred :  4\n",
      "1/1 [==============================] - 0s 27ms/step\n",
      "y_true :  4  y_pred :  4\n",
      "1/1 [==============================] - 0s 65ms/step\n",
      "y_true :  4  y_pred :  4\n",
      "1/1 [==============================] - 0s 61ms/step\n",
      "y_true :  4  y_pred :  4\n",
      "1/1 [==============================] - 0s 79ms/step\n",
      "y_true :  4  y_pred :  4\n",
      "1/1 [==============================] - 0s 72ms/step\n",
      "y_true :  4  y_pred :  4\n",
      "1/1 [==============================] - 0s 85ms/step\n",
      "y_true :  4  y_pred :  4\n",
      "1/1 [==============================] - 0s 89ms/step\n",
      "y_true :  4  y_pred :  4\n",
      "1/1 [==============================] - 0s 38ms/step\n",
      "y_true :  4  y_pred :  4\n",
      "1/1 [==============================] - 0s 33ms/step\n",
      "y_true :  4  y_pred :  4\n",
      "1/1 [==============================] - 0s 38ms/step\n",
      "y_true :  4  y_pred :  4\n",
      "1/1 [==============================] - 0s 31ms/step\n",
      "y_true :  4  y_pred :  4\n"
     ]
    },
    {
     "name": "stdout",
     "output_type": "stream",
     "text": [
      "1/1 [==============================] - 0s 29ms/step\n",
      "y_true :  4  y_pred :  4\n",
      "1/1 [==============================] - 0s 34ms/step\n",
      "y_true :  4  y_pred :  4\n",
      "1/1 [==============================] - 0s 26ms/step\n",
      "y_true :  4  y_pred :  4\n",
      "1/1 [==============================] - 0s 30ms/step\n",
      "y_true :  4  y_pred :  4\n",
      "1/1 [==============================] - 0s 32ms/step\n",
      "y_true :  4  y_pred :  4\n",
      "1/1 [==============================] - 0s 27ms/step\n",
      "y_true :  4  y_pred :  4\n",
      "1/1 [==============================] - 0s 25ms/step\n",
      "y_true :  4  y_pred :  4\n",
      "1/1 [==============================] - 0s 31ms/step\n",
      "y_true :  4  y_pred :  4\n",
      "1/1 [==============================] - 0s 30ms/step\n",
      "y_true :  4  y_pred :  4\n",
      "1/1 [==============================] - 0s 28ms/step\n",
      "y_true :  4  y_pred :  4\n",
      "1/1 [==============================] - 0s 28ms/step\n",
      "y_true :  4  y_pred :  4\n",
      "1/1 [==============================] - 0s 30ms/step\n",
      "y_true :  4  y_pred :  4\n",
      "1/1 [==============================] - 0s 30ms/step\n",
      "y_true :  4  y_pred :  4\n",
      "1/1 [==============================] - 0s 29ms/step\n",
      "y_true :  4  y_pred :  4\n",
      "1/1 [==============================] - 0s 50ms/step\n",
      "y_true :  4  y_pred :  4\n",
      "1/1 [==============================] - 0s 34ms/step\n",
      "y_true :  4  y_pred :  4\n",
      "1/1 [==============================] - 0s 45ms/step\n",
      "y_true :  4  y_pred :  4\n",
      "1/1 [==============================] - 0s 38ms/step\n",
      "y_true :  4  y_pred :  4\n",
      "1/1 [==============================] - 0s 40ms/step\n",
      "y_true :  4  y_pred :  4\n",
      "1/1 [==============================] - 0s 43ms/step\n",
      "y_true :  4  y_pred :  4\n",
      "1/1 [==============================] - 0s 42ms/step\n",
      "y_true :  4  y_pred :  4\n",
      "1/1 [==============================] - 0s 47ms/step\n",
      "y_true :  4  y_pred :  4\n",
      "1/1 [==============================] - 0s 28ms/step\n",
      "y_true :  4  y_pred :  4\n",
      "1/1 [==============================] - 0s 37ms/step\n",
      "y_true :  4  y_pred :  4\n",
      "1/1 [==============================] - 0s 33ms/step\n",
      "y_true :  4  y_pred :  4\n",
      "1/1 [==============================] - 0s 30ms/step\n",
      "y_true :  4  y_pred :  4\n",
      "1/1 [==============================] - 0s 27ms/step\n",
      "y_true :  4  y_pred :  4\n",
      "1/1 [==============================] - 0s 28ms/step\n",
      "y_true :  4  y_pred :  4\n",
      "1/1 [==============================] - 0s 27ms/step\n",
      "y_true :  4  y_pred :  4\n",
      "1/1 [==============================] - 0s 31ms/step\n",
      "y_true :  4  y_pred :  4\n",
      "1/1 [==============================] - 0s 31ms/step\n",
      "y_true :  4  y_pred :  4\n",
      "1/1 [==============================] - 0s 29ms/step\n",
      "y_true :  4  y_pred :  4\n",
      "1/1 [==============================] - 0s 30ms/step\n",
      "y_true :  4  y_pred :  4\n",
      "1/1 [==============================] - 0s 33ms/step\n",
      "y_true :  4  y_pred :  4\n",
      "1/1 [==============================] - 0s 31ms/step\n",
      "y_true :  4  y_pred :  4\n",
      "1/1 [==============================] - 0s 26ms/step\n",
      "y_true :  4  y_pred :  4\n",
      "1/1 [==============================] - 0s 33ms/step\n",
      "y_true :  4  y_pred :  4\n",
      "1/1 [==============================] - 0s 28ms/step\n",
      "y_true :  4  y_pred :  4\n",
      "1/1 [==============================] - 0s 29ms/step\n",
      "y_true :  4  y_pred :  4\n",
      "1/1 [==============================] - 0s 27ms/step\n",
      "y_true :  4  y_pred :  4\n",
      "1/1 [==============================] - 0s 30ms/step\n",
      "y_true :  4  y_pred :  4\n",
      "1/1 [==============================] - 0s 41ms/step\n",
      "y_true :  4  y_pred :  4\n",
      "1/1 [==============================] - 0s 25ms/step\n",
      "y_true :  4  y_pred :  4\n",
      "1/1 [==============================] - 0s 27ms/step\n",
      "y_true :  4  y_pred :  4\n",
      "1/1 [==============================] - 0s 31ms/step\n",
      "y_true :  4  y_pred :  4\n",
      "1/1 [==============================] - 0s 31ms/step\n",
      "y_true :  4  y_pred :  4\n",
      "1/1 [==============================] - 0s 13ms/step\n",
      "y_true :  4  y_pred :  4\n",
      "1/1 [==============================] - 0s 23ms/step\n",
      "y_true :  4  y_pred :  4\n",
      "1/1 [==============================] - 0s 32ms/step\n",
      "y_true :  4  y_pred :  4\n",
      "1/1 [==============================] - 0s 32ms/step\n",
      "y_true :  4  y_pred :  4\n",
      "1/1 [==============================] - 0s 53ms/step\n",
      "y_true :  4  y_pred :  4\n",
      "1/1 [==============================] - 0s 86ms/step\n",
      "y_true :  4  y_pred :  4\n",
      "1/1 [==============================] - 0s 34ms/step\n",
      "y_true :  4  y_pred :  4\n",
      "1/1 [==============================] - 0s 33ms/step\n",
      "y_true :  4  y_pred :  4\n",
      "1/1 [==============================] - 0s 68ms/step\n",
      "y_true :  4  y_pred :  4\n",
      "1/1 [==============================] - 0s 63ms/step\n",
      "y_true :  4  y_pred :  4\n",
      "1/1 [==============================] - 0s 74ms/step\n",
      "y_true :  4  y_pred :  4\n",
      "1/1 [==============================] - 0s 78ms/step\n",
      "y_true :  4  y_pred :  4\n",
      "1/1 [==============================] - 0s 80ms/step\n",
      "y_true :  4  y_pred :  4\n",
      "1/1 [==============================] - 0s 53ms/step\n",
      "y_true :  4  y_pred :  4\n",
      "1/1 [==============================] - 0s 55ms/step\n",
      "y_true :  4  y_pred :  4\n",
      "1/1 [==============================] - 0s 46ms/step\n",
      "y_true :  4  y_pred :  4\n",
      "1/1 [==============================] - 0s 49ms/step\n",
      "y_true :  4  y_pred :  4\n",
      "1/1 [==============================] - 0s 51ms/step\n",
      "y_true :  4  y_pred :  4\n",
      "1/1 [==============================] - 0s 139ms/step\n",
      "y_true :  4  y_pred :  4\n",
      "1/1 [==============================] - 0s 55ms/step\n",
      "y_true :  4  y_pred :  4\n",
      "1/1 [==============================] - 0s 102ms/step\n",
      "y_true :  4  y_pred :  4\n",
      "1/1 [==============================] - 0s 109ms/step\n",
      "y_true :  4  y_pred :  4\n",
      "1/1 [==============================] - 0s 57ms/step\n",
      "y_true :  4  y_pred :  4\n",
      "1/1 [==============================] - 0s 21ms/step\n",
      "y_true :  4  y_pred :  4\n",
      "1/1 [==============================] - 0s 33ms/step\n",
      "y_true :  4  y_pred :  4\n",
      "1/1 [==============================] - 0s 20ms/step\n",
      "y_true :  4  y_pred :  4\n",
      "1/1 [==============================] - 0s 35ms/step\n",
      "y_true :  4  y_pred :  4\n",
      "1/1 [==============================] - 0s 37ms/step\n",
      "y_true :  4  y_pred :  4\n",
      "1/1 [==============================] - 0s 43ms/step\n",
      "y_true :  4  y_pred :  4\n",
      "1/1 [==============================] - 0s 29ms/step\n",
      "y_true :  4  y_pred :  4\n",
      "1/1 [==============================] - 0s 24ms/step\n",
      "y_true :  4  y_pred :  4\n",
      "1/1 [==============================] - 0s 17ms/step\n",
      "y_true :  4  y_pred :  4\n",
      "1/1 [==============================] - 0s 31ms/step\n",
      "y_true :  4  y_pred :  4\n",
      "1/1 [==============================] - 0s 29ms/step\n",
      "y_true :  4  y_pred :  4\n",
      "1/1 [==============================] - 0s 28ms/step\n",
      "y_true :  4  y_pred :  4\n",
      "1/1 [==============================] - 0s 30ms/step\n",
      "y_true :  4  y_pred :  4\n",
      "1/1 [==============================] - 0s 20ms/step\n",
      "y_true :  4  y_pred :  4\n",
      "1/1 [==============================] - 0s 29ms/step\n",
      "y_true :  5  y_pred :  5\n",
      "1/1 [==============================] - 0s 38ms/step\n",
      "y_true :  5  y_pred :  5\n",
      "1/1 [==============================] - 0s 25ms/step\n",
      "y_true :  5  y_pred :  5\n",
      "1/1 [==============================] - 0s 26ms/step\n",
      "y_true :  5  y_pred :  5\n",
      "1/1 [==============================] - 0s 28ms/step\n",
      "y_true :  5  y_pred :  5\n",
      "1/1 [==============================] - 0s 41ms/step\n",
      "y_true :  5  y_pred :  5\n",
      "1/1 [==============================] - 0s 31ms/step\n",
      "y_true :  5  y_pred :  5\n",
      "1/1 [==============================] - 0s 30ms/step\n",
      "y_true :  5  y_pred :  5\n",
      "1/1 [==============================] - 0s 14ms/step\n",
      "y_true :  5  y_pred :  5\n",
      "1/1 [==============================] - 0s 26ms/step\n",
      "y_true :  5  y_pred :  5\n",
      "1/1 [==============================] - 0s 30ms/step\n",
      "y_true :  5  y_pred :  5\n",
      "1/1 [==============================] - 0s 17ms/step\n",
      "y_true :  5  y_pred :  5\n",
      "1/1 [==============================] - 0s 28ms/step\n",
      "y_true :  5  y_pred :  5\n",
      "1/1 [==============================] - 0s 21ms/step\n",
      "y_true :  5  y_pred :  5\n",
      "1/1 [==============================] - 0s 30ms/step\n",
      "y_true :  5  y_pred :  5\n",
      "1/1 [==============================] - 0s 29ms/step\n",
      "y_true :  5  y_pred :  5\n",
      "1/1 [==============================] - 0s 26ms/step\n",
      "y_true :  5  y_pred :  5\n",
      "1/1 [==============================] - 0s 38ms/step\n",
      "y_true :  5  y_pred :  5\n",
      "1/1 [==============================] - 0s 25ms/step\n",
      "y_true :  5  y_pred :  5\n",
      "1/1 [==============================] - 0s 16ms/step\n",
      "y_true :  5  y_pred :  5\n",
      "1/1 [==============================] - 0s 31ms/step\n",
      "y_true :  5  y_pred :  5\n",
      "1/1 [==============================] - 0s 30ms/step\n",
      "y_true :  5  y_pred :  5\n",
      "1/1 [==============================] - 0s 23ms/step\n",
      "y_true :  5  y_pred :  5\n"
     ]
    },
    {
     "name": "stdout",
     "output_type": "stream",
     "text": [
      "1/1 [==============================] - 0s 28ms/step\n",
      "y_true :  5  y_pred :  5\n",
      "1/1 [==============================] - 0s 38ms/step\n",
      "y_true :  5  y_pred :  5\n",
      "1/1 [==============================] - 0s 28ms/step\n",
      "y_true :  5  y_pred :  5\n",
      "1/1 [==============================] - 0s 30ms/step\n",
      "y_true :  5  y_pred :  5\n",
      "1/1 [==============================] - 0s 29ms/step\n",
      "y_true :  5  y_pred :  5\n",
      "1/1 [==============================] - 0s 33ms/step\n",
      "y_true :  5  y_pred :  5\n",
      "1/1 [==============================] - 0s 45ms/step\n",
      "y_true :  5  y_pred :  5\n",
      "1/1 [==============================] - 0s 30ms/step\n",
      "y_true :  5  y_pred :  5\n",
      "1/1 [==============================] - 0s 60ms/step\n",
      "y_true :  5  y_pred :  5\n",
      "1/1 [==============================] - 0s 68ms/step\n",
      "y_true :  5  y_pred :  5\n",
      "1/1 [==============================] - 0s 50ms/step\n",
      "y_true :  5  y_pred :  5\n",
      "1/1 [==============================] - 0s 34ms/step\n",
      "y_true :  5  y_pred :  5\n",
      "1/1 [==============================] - 0s 37ms/step\n",
      "y_true :  5  y_pred :  5\n",
      "1/1 [==============================] - 0s 33ms/step\n",
      "y_true :  5  y_pred :  5\n",
      "1/1 [==============================] - 0s 42ms/step\n",
      "y_true :  5  y_pred :  5\n",
      "1/1 [==============================] - 0s 42ms/step\n",
      "y_true :  5  y_pred :  5\n",
      "1/1 [==============================] - 0s 57ms/step\n",
      "y_true :  5  y_pred :  5\n",
      "1/1 [==============================] - 0s 47ms/step\n",
      "y_true :  5  y_pred :  5\n",
      "1/1 [==============================] - 0s 47ms/step\n",
      "y_true :  5  y_pred :  5\n",
      "1/1 [==============================] - 0s 42ms/step\n",
      "y_true :  5  y_pred :  5\n",
      "1/1 [==============================] - 0s 29ms/step\n",
      "y_true :  5  y_pred :  5\n",
      "1/1 [==============================] - 0s 31ms/step\n",
      "y_true :  5  y_pred :  5\n",
      "1/1 [==============================] - 0s 37ms/step\n",
      "y_true :  5  y_pred :  5\n",
      "1/1 [==============================] - 0s 31ms/step\n",
      "y_true :  5  y_pred :  5\n",
      "1/1 [==============================] - 0s 33ms/step\n",
      "y_true :  5  y_pred :  5\n",
      "1/1 [==============================] - 0s 51ms/step\n",
      "y_true :  5  y_pred :  5\n",
      "1/1 [==============================] - 0s 59ms/step\n",
      "y_true :  5  y_pred :  5\n",
      "1/1 [==============================] - 0s 41ms/step\n",
      "y_true :  5  y_pred :  5\n",
      "1/1 [==============================] - 0s 43ms/step\n",
      "y_true :  5  y_pred :  5\n",
      "1/1 [==============================] - 0s 38ms/step\n",
      "y_true :  5  y_pred :  5\n",
      "1/1 [==============================] - 0s 37ms/step\n",
      "y_true :  5  y_pred :  5\n",
      "1/1 [==============================] - 0s 41ms/step\n",
      "y_true :  5  y_pred :  5\n",
      "1/1 [==============================] - 0s 34ms/step\n",
      "y_true :  5  y_pred :  5\n",
      "1/1 [==============================] - 0s 49ms/step\n",
      "y_true :  5  y_pred :  5\n",
      "1/1 [==============================] - 0s 38ms/step\n",
      "y_true :  5  y_pred :  5\n",
      "1/1 [==============================] - 0s 37ms/step\n",
      "y_true :  5  y_pred :  5\n",
      "1/1 [==============================] - 0s 59ms/step\n",
      "y_true :  5  y_pred :  5\n",
      "1/1 [==============================] - 0s 53ms/step\n",
      "y_true :  5  y_pred :  5\n",
      "1/1 [==============================] - 0s 52ms/step\n",
      "y_true :  5  y_pred :  5\n",
      "1/1 [==============================] - 0s 44ms/step\n",
      "y_true :  5  y_pred :  5\n",
      "1/1 [==============================] - 0s 42ms/step\n",
      "y_true :  5  y_pred :  5\n",
      "1/1 [==============================] - 0s 44ms/step\n",
      "y_true :  5  y_pred :  5\n",
      "1/1 [==============================] - 0s 45ms/step\n",
      "y_true :  5  y_pred :  5\n",
      "1/1 [==============================] - 0s 72ms/step\n",
      "y_true :  5  y_pred :  5\n",
      "1/1 [==============================] - 0s 56ms/step\n",
      "y_true :  5  y_pred :  5\n",
      "1/1 [==============================] - 0s 25ms/step\n",
      "y_true :  5  y_pred :  5\n",
      "1/1 [==============================] - 0s 20ms/step\n",
      "y_true :  5  y_pred :  5\n",
      "1/1 [==============================] - 0s 26ms/step\n",
      "y_true :  5  y_pred :  5\n",
      "1/1 [==============================] - 0s 28ms/step\n",
      "y_true :  5  y_pred :  5\n",
      "1/1 [==============================] - 0s 19ms/step\n",
      "y_true :  5  y_pred :  5\n",
      "1/1 [==============================] - 0s 27ms/step\n",
      "y_true :  5  y_pred :  5\n",
      "1/1 [==============================] - 0s 29ms/step\n",
      "y_true :  5  y_pred :  5\n",
      "1/1 [==============================] - 0s 31ms/step\n",
      "y_true :  5  y_pred :  5\n",
      "1/1 [==============================] - 0s 29ms/step\n",
      "y_true :  5  y_pred :  5\n",
      "1/1 [==============================] - 0s 29ms/step\n",
      "y_true :  5  y_pred :  5\n",
      "1/1 [==============================] - 0s 33ms/step\n",
      "y_true :  5  y_pred :  5\n",
      "1/1 [==============================] - 0s 38ms/step\n",
      "y_true :  5  y_pred :  5\n",
      "1/1 [==============================] - 0s 48ms/step\n",
      "y_true :  5  y_pred :  5\n",
      "1/1 [==============================] - 0s 46ms/step\n",
      "y_true :  5  y_pred :  5\n",
      "1/1 [==============================] - 0s 41ms/step\n",
      "y_true :  5  y_pred :  5\n",
      "1/1 [==============================] - 0s 41ms/step\n",
      "y_true :  5  y_pred :  5\n",
      "1/1 [==============================] - 0s 26ms/step\n",
      "y_true :  5  y_pred :  5\n",
      "1/1 [==============================] - 0s 35ms/step\n",
      "y_true :  5  y_pred :  5\n",
      "1/1 [==============================] - 0s 16ms/step\n",
      "y_true :  5  y_pred :  5\n",
      "1/1 [==============================] - 0s 28ms/step\n",
      "y_true :  5  y_pred :  5\n",
      "1/1 [==============================] - 0s 50ms/step\n",
      "y_true :  5  y_pred :  5\n",
      "1/1 [==============================] - 0s 53ms/step\n",
      "y_true :  5  y_pred :  5\n",
      "1/1 [==============================] - 0s 21ms/step\n",
      "y_true :  5  y_pred :  5\n",
      "1/1 [==============================] - 0s 32ms/step\n",
      "y_true :  5  y_pred :  5\n",
      "1/1 [==============================] - 0s 50ms/step\n",
      "y_true :  5  y_pred :  5\n",
      "1/1 [==============================] - 0s 63ms/step\n",
      "y_true :  5  y_pred :  5\n",
      "1/1 [==============================] - 0s 48ms/step\n",
      "y_true :  5  y_pred :  5\n",
      "1/1 [==============================] - 0s 57ms/step\n",
      "y_true :  5  y_pred :  5\n",
      "1/1 [==============================] - 0s 54ms/step\n",
      "y_true :  5  y_pred :  5\n",
      "1/1 [==============================] - 0s 41ms/step\n",
      "y_true :  5  y_pred :  5\n",
      "1/1 [==============================] - 0s 25ms/step\n",
      "y_true :  5  y_pred :  5\n",
      "1/1 [==============================] - 0s 23ms/step\n",
      "y_true :  5  y_pred :  5\n",
      "1/1 [==============================] - 0s 30ms/step\n",
      "y_true :  5  y_pred :  5\n",
      "1/1 [==============================] - 0s 19ms/step\n",
      "y_true :  5  y_pred :  5\n",
      "1/1 [==============================] - 0s 29ms/step\n",
      "y_true :  5  y_pred :  5\n",
      "1/1 [==============================] - 0s 29ms/step\n",
      "y_true :  5  y_pred :  5\n",
      "1/1 [==============================] - 0s 27ms/step\n",
      "y_true :  5  y_pred :  5\n",
      "1/1 [==============================] - 0s 44ms/step\n",
      "y_true :  5  y_pred :  5\n",
      "1/1 [==============================] - 0s 44ms/step\n",
      "y_true :  5  y_pred :  5\n",
      "1/1 [==============================] - 0s 34ms/step\n",
      "y_true :  5  y_pred :  5\n",
      "1/1 [==============================] - 0s 16ms/step\n",
      "y_true :  5  y_pred :  5\n",
      "1/1 [==============================] - 0s 39ms/step\n",
      "y_true :  5  y_pred :  5\n",
      "1/1 [==============================] - 0s 29ms/step\n",
      "y_true :  5  y_pred :  5\n",
      "1/1 [==============================] - 0s 21ms/step\n",
      "y_true :  5  y_pred :  5\n",
      "1/1 [==============================] - 0s 29ms/step\n",
      "y_true :  5  y_pred :  5\n",
      "1/1 [==============================] - 0s 26ms/step\n",
      "y_true :  5  y_pred :  5\n",
      "1/1 [==============================] - 0s 16ms/step\n",
      "y_true :  5  y_pred :  5\n",
      "1/1 [==============================] - 0s 27ms/step\n",
      "y_true :  5  y_pred :  5\n",
      "1/1 [==============================] - 0s 98ms/step\n",
      "y_true :  5  y_pred :  5\n",
      "1/1 [==============================] - 0s 23ms/step\n",
      "y_true :  5  y_pred :  5\n",
      "1/1 [==============================] - 0s 28ms/step\n",
      "y_true :  5  y_pred :  5\n",
      "1/1 [==============================] - 0s 27ms/step\n",
      "y_true :  5  y_pred :  5\n",
      "1/1 [==============================] - 0s 28ms/step\n",
      "y_true :  5  y_pred :  5\n",
      "1/1 [==============================] - 0s 17ms/step\n",
      "y_true :  5  y_pred :  5\n",
      "1/1 [==============================] - 0s 30ms/step\n",
      "y_true :  5  y_pred :  5\n",
      "1/1 [==============================] - 0s 23ms/step\n",
      "y_true :  5  y_pred :  5\n",
      "1/1 [==============================] - 0s 14ms/step\n",
      "y_true :  5  y_pred :  5\n",
      "1/1 [==============================] - 0s 26ms/step\n",
      "y_true :  5  y_pred :  5\n",
      "1/1 [==============================] - 0s 29ms/step\n",
      "y_true :  5  y_pred :  5\n",
      "1/1 [==============================] - 0s 16ms/step\n",
      "y_true :  5  y_pred :  5\n",
      "1/1 [==============================] - 0s 27ms/step\n",
      "y_true :  5  y_pred :  5\n"
     ]
    },
    {
     "name": "stdout",
     "output_type": "stream",
     "text": [
      "1/1 [==============================] - 0s 28ms/step\n",
      "y_true :  5  y_pred :  5\n",
      "1/1 [==============================] - 0s 21ms/step\n",
      "y_true :  5  y_pred :  5\n",
      "1/1 [==============================] - 0s 25ms/step\n",
      "y_true :  5  y_pred :  5\n",
      "1/1 [==============================] - 0s 26ms/step\n",
      "y_true :  5  y_pred :  5\n",
      "1/1 [==============================] - 0s 20ms/step\n",
      "y_true :  5  y_pred :  5\n",
      "1/1 [==============================] - 0s 10ms/step\n",
      "y_true :  5  y_pred :  5\n",
      "1/1 [==============================] - 0s 27ms/step\n",
      "y_true :  5  y_pred :  5\n",
      "1/1 [==============================] - 0s 38ms/step\n",
      "y_true :  5  y_pred :  5\n",
      "1/1 [==============================] - 0s 45ms/step\n",
      "y_true :  5  y_pred :  5\n",
      "1/1 [==============================] - 0s 29ms/step\n",
      "y_true :  5  y_pred :  5\n",
      "1/1 [==============================] - 0s 21ms/step\n",
      "y_true :  5  y_pred :  5\n",
      "1/1 [==============================] - 0s 16ms/step\n",
      "y_true :  5  y_pred :  5\n",
      "1/1 [==============================] - 0s 26ms/step\n",
      "y_true :  5  y_pred :  5\n",
      "1/1 [==============================] - 0s 35ms/step\n",
      "y_true :  5  y_pred :  5\n",
      "1/1 [==============================] - 0s 26ms/step\n",
      "y_true :  5  y_pred :  5\n",
      "1/1 [==============================] - 0s 31ms/step\n",
      "y_true :  5  y_pred :  5\n",
      "1/1 [==============================] - 0s 44ms/step\n",
      "y_true :  5  y_pred :  5\n",
      "1/1 [==============================] - 0s 28ms/step\n",
      "y_true :  5  y_pred :  5\n",
      "1/1 [==============================] - 0s 31ms/step\n",
      "y_true :  5  y_pred :  5\n",
      "1/1 [==============================] - 0s 15ms/step\n",
      "y_true :  5  y_pred :  5\n",
      "1/1 [==============================] - 0s 36ms/step\n",
      "y_true :  5  y_pred :  5\n",
      "1/1 [==============================] - 0s 20ms/step\n",
      "y_true :  5  y_pred :  5\n",
      "1/1 [==============================] - 0s 27ms/step\n",
      "y_true :  5  y_pred :  5\n",
      "1/1 [==============================] - 0s 30ms/step\n",
      "y_true :  5  y_pred :  5\n",
      "1/1 [==============================] - 0s 28ms/step\n",
      "y_true :  5  y_pred :  5\n",
      "1/1 [==============================] - 0s 39ms/step\n",
      "y_true :  5  y_pred :  5\n",
      "1/1 [==============================] - 0s 43ms/step\n",
      "y_true :  5  y_pred :  5\n",
      "1/1 [==============================] - 0s 47ms/step\n",
      "y_true :  5  y_pred :  5\n",
      "1/1 [==============================] - 0s 32ms/step\n",
      "y_true :  5  y_pred :  5\n",
      "1/1 [==============================] - 0s 18ms/step\n",
      "y_true :  5  y_pred :  5\n",
      "1/1 [==============================] - 0s 30ms/step\n",
      "y_true :  5  y_pred :  5\n",
      "1/1 [==============================] - 0s 30ms/step\n",
      "y_true :  5  y_pred :  5\n",
      "1/1 [==============================] - 0s 28ms/step\n",
      "y_true :  5  y_pred :  5\n",
      "1/1 [==============================] - 0s 31ms/step\n",
      "y_true :  5  y_pred :  5\n",
      "1/1 [==============================] - 0s 27ms/step\n",
      "y_true :  5  y_pred :  5\n",
      "1/1 [==============================] - 0s 29ms/step\n",
      "y_true :  5  y_pred :  5\n",
      "1/1 [==============================] - 0s 31ms/step\n",
      "y_true :  5  y_pred :  5\n",
      "1/1 [==============================] - 0s 30ms/step\n",
      "y_true :  5  y_pred :  5\n",
      "1/1 [==============================] - 0s 24ms/step\n",
      "y_true :  5  y_pred :  5\n",
      "1/1 [==============================] - 0s 29ms/step\n",
      "y_true :  5  y_pred :  5\n",
      "1/1 [==============================] - 0s 21ms/step\n",
      "y_true :  5  y_pred :  5\n",
      "1/1 [==============================] - 0s 28ms/step\n",
      "y_true :  5  y_pred :  5\n",
      "1/1 [==============================] - 0s 31ms/step\n",
      "y_true :  5  y_pred :  5\n",
      "1/1 [==============================] - 0s 30ms/step\n",
      "y_true :  5  y_pred :  5\n",
      "1/1 [==============================] - 0s 26ms/step\n",
      "y_true :  5  y_pred :  5\n",
      "1/1 [==============================] - 0s 29ms/step\n",
      "y_true :  5  y_pred :  5\n",
      "1/1 [==============================] - 0s 27ms/step\n",
      "y_true :  5  y_pred :  5\n",
      "1/1 [==============================] - 0s 20ms/step\n",
      "y_true :  5  y_pred :  5\n",
      "1/1 [==============================] - 0s 47ms/step\n",
      "y_true :  5  y_pred :  5\n",
      "1/1 [==============================] - 0s 25ms/step\n",
      "y_true :  5  y_pred :  5\n",
      "1/1 [==============================] - 0s 30ms/step\n",
      "y_true :  5  y_pred :  5\n",
      "1/1 [==============================] - 0s 28ms/step\n",
      "y_true :  5  y_pred :  5\n",
      "1/1 [==============================] - 0s 32ms/step\n",
      "y_true :  5  y_pred :  5\n",
      "1/1 [==============================] - 0s 29ms/step\n",
      "y_true :  5  y_pred :  5\n",
      "1/1 [==============================] - 0s 19ms/step\n",
      "y_true :  5  y_pred :  5\n",
      "1/1 [==============================] - 0s 37ms/step\n",
      "y_true :  5  y_pred :  5\n",
      "1/1 [==============================] - 0s 46ms/step\n",
      "y_true :  5  y_pred :  5\n",
      "1/1 [==============================] - 0s 61ms/step\n",
      "y_true :  5  y_pred :  5\n",
      "1/1 [==============================] - 0s 58ms/step\n",
      "y_true :  5  y_pred :  5\n",
      "1/1 [==============================] - 0s 47ms/step\n",
      "y_true :  5  y_pred :  5\n",
      "1/1 [==============================] - 0s 17ms/step\n",
      "y_true :  5  y_pred :  5\n",
      "1/1 [==============================] - 0s 20ms/step\n",
      "y_true :  5  y_pred :  5\n",
      "1/1 [==============================] - 0s 33ms/step\n",
      "y_true :  5  y_pred :  5\n",
      "1/1 [==============================] - 0s 39ms/step\n",
      "y_true :  5  y_pred :  5\n",
      "1/1 [==============================] - 0s 28ms/step\n",
      "y_true :  5  y_pred :  5\n",
      "1/1 [==============================] - 0s 26ms/step\n",
      "y_true :  5  y_pred :  5\n",
      "1/1 [==============================] - 0s 32ms/step\n",
      "y_true :  5  y_pred :  5\n",
      "1/1 [==============================] - 0s 25ms/step\n",
      "y_true :  5  y_pred :  5\n",
      "1/1 [==============================] - 0s 32ms/step\n",
      "y_true :  5  y_pred :  5\n",
      "1/1 [==============================] - 0s 22ms/step\n",
      "y_true :  5  y_pred :  5\n",
      "1/1 [==============================] - 0s 35ms/step\n",
      "y_true :  5  y_pred :  5\n",
      "1/1 [==============================] - 0s 29ms/step\n",
      "y_true :  5  y_pred :  5\n",
      "1/1 [==============================] - 0s 27ms/step\n",
      "y_true :  6  y_pred :  6\n",
      "1/1 [==============================] - 0s 29ms/step\n",
      "y_true :  6  y_pred :  6\n",
      "1/1 [==============================] - 0s 27ms/step\n",
      "y_true :  6  y_pred :  6\n",
      "1/1 [==============================] - 0s 20ms/step\n",
      "y_true :  6  y_pred :  6\n",
      "1/1 [==============================] - 0s 27ms/step\n",
      "y_true :  6  y_pred :  6\n",
      "1/1 [==============================] - 0s 19ms/step\n",
      "y_true :  6  y_pred :  6\n",
      "1/1 [==============================] - 0s 29ms/step\n",
      "y_true :  6  y_pred :  6\n",
      "1/1 [==============================] - 0s 19ms/step\n",
      "y_true :  6  y_pred :  6\n",
      "1/1 [==============================] - 0s 26ms/step\n",
      "y_true :  6  y_pred :  6\n",
      "1/1 [==============================] - 0s 25ms/step\n",
      "y_true :  6  y_pred :  6\n",
      "1/1 [==============================] - 0s 29ms/step\n",
      "y_true :  6  y_pred :  6\n",
      "1/1 [==============================] - 0s 26ms/step\n",
      "y_true :  6  y_pred :  6\n",
      "1/1 [==============================] - 0s 30ms/step\n",
      "y_true :  6  y_pred :  6\n",
      "1/1 [==============================] - 0s 23ms/step\n",
      "y_true :  6  y_pred :  6\n",
      "1/1 [==============================] - 0s 29ms/step\n",
      "y_true :  6  y_pred :  6\n",
      "1/1 [==============================] - 0s 27ms/step\n",
      "y_true :  6  y_pred :  6\n",
      "1/1 [==============================] - 0s 16ms/step\n",
      "y_true :  6  y_pred :  6\n",
      "1/1 [==============================] - 0s 27ms/step\n",
      "y_true :  6  y_pred :  6\n",
      "1/1 [==============================] - 0s 10ms/step\n",
      "y_true :  6  y_pred :  6\n",
      "1/1 [==============================] - 0s 16ms/step\n",
      "y_true :  6  y_pred :  6\n",
      "1/1 [==============================] - 0s 27ms/step\n",
      "y_true :  6  y_pred :  6\n",
      "1/1 [==============================] - 0s 15ms/step\n",
      "y_true :  6  y_pred :  6\n",
      "1/1 [==============================] - 0s 27ms/step\n",
      "y_true :  6  y_pred :  6\n",
      "1/1 [==============================] - 0s 21ms/step\n",
      "y_true :  6  y_pred :  6\n",
      "1/1 [==============================] - 0s 28ms/step\n",
      "y_true :  6  y_pred :  6\n",
      "1/1 [==============================] - 0s 26ms/step\n",
      "y_true :  6  y_pred :  6\n",
      "1/1 [==============================] - 0s 31ms/step\n",
      "y_true :  6  y_pred :  6\n",
      "1/1 [==============================] - 0s 27ms/step\n",
      "y_true :  6  y_pred :  6\n",
      "1/1 [==============================] - 0s 25ms/step\n",
      "y_true :  6  y_pred :  6\n",
      "1/1 [==============================] - 0s 26ms/step\n",
      "y_true :  6  y_pred :  6\n",
      "1/1 [==============================] - 0s 30ms/step\n",
      "y_true :  6  y_pred :  6\n",
      "1/1 [==============================] - 0s 28ms/step\n",
      "y_true :  6  y_pred :  6\n",
      "1/1 [==============================] - 0s 14ms/step\n",
      "y_true :  6  y_pred :  6\n",
      "1/1 [==============================] - 0s 38ms/step\n",
      "y_true :  6  y_pred :  6\n"
     ]
    },
    {
     "name": "stdout",
     "output_type": "stream",
     "text": [
      "1/1 [==============================] - 0s 27ms/step\n",
      "y_true :  6  y_pred :  6\n",
      "1/1 [==============================] - 0s 29ms/step\n",
      "y_true :  6  y_pred :  6\n",
      "1/1 [==============================] - 0s 26ms/step\n",
      "y_true :  6  y_pred :  6\n",
      "1/1 [==============================] - 0s 30ms/step\n",
      "y_true :  6  y_pred :  6\n",
      "1/1 [==============================] - 0s 23ms/step\n",
      "y_true :  6  y_pred :  6\n",
      "1/1 [==============================] - 0s 16ms/step\n",
      "y_true :  6  y_pred :  6\n",
      "1/1 [==============================] - 0s 25ms/step\n",
      "y_true :  6  y_pred :  6\n",
      "1/1 [==============================] - 0s 16ms/step\n",
      "y_true :  6  y_pred :  6\n",
      "1/1 [==============================] - 0s 26ms/step\n",
      "y_true :  6  y_pred :  6\n",
      "1/1 [==============================] - 0s 22ms/step\n",
      "y_true :  6  y_pred :  6\n",
      "1/1 [==============================] - 0s 29ms/step\n",
      "y_true :  6  y_pred :  6\n",
      "1/1 [==============================] - 0s 23ms/step\n",
      "y_true :  6  y_pred :  6\n",
      "1/1 [==============================] - 0s 28ms/step\n",
      "y_true :  6  y_pred :  6\n",
      "1/1 [==============================] - 0s 24ms/step\n",
      "y_true :  6  y_pred :  6\n",
      "1/1 [==============================] - 0s 15ms/step\n",
      "y_true :  6  y_pred :  6\n",
      "1/1 [==============================] - 0s 27ms/step\n",
      "y_true :  6  y_pred :  6\n",
      "1/1 [==============================] - 0s 22ms/step\n",
      "y_true :  6  y_pred :  6\n",
      "1/1 [==============================] - 0s 14ms/step\n",
      "y_true :  6  y_pred :  6\n",
      "1/1 [==============================] - 0s 27ms/step\n",
      "y_true :  6  y_pred :  6\n",
      "1/1 [==============================] - 0s 16ms/step\n",
      "y_true :  6  y_pred :  6\n",
      "1/1 [==============================] - 0s 30ms/step\n",
      "y_true :  6  y_pred :  6\n",
      "1/1 [==============================] - 0s 27ms/step\n",
      "y_true :  6  y_pred :  6\n",
      "1/1 [==============================] - 0s 24ms/step\n",
      "y_true :  6  y_pred :  6\n",
      "1/1 [==============================] - 0s 16ms/step\n",
      "y_true :  6  y_pred :  6\n",
      "1/1 [==============================] - 0s 26ms/step\n",
      "y_true :  6  y_pred :  6\n",
      "1/1 [==============================] - 0s 34ms/step\n",
      "y_true :  6  y_pred :  6\n",
      "1/1 [==============================] - 0s 51ms/step\n",
      "y_true :  6  y_pred :  6\n",
      "1/1 [==============================] - 0s 54ms/step\n",
      "y_true :  6  y_pred :  6\n",
      "1/1 [==============================] - 0s 33ms/step\n",
      "y_true :  6  y_pred :  6\n",
      "1/1 [==============================] - 0s 21ms/step\n",
      "y_true :  6  y_pred :  6\n",
      "1/1 [==============================] - 0s 55ms/step\n",
      "y_true :  6  y_pred :  6\n",
      "1/1 [==============================] - 0s 32ms/step\n",
      "y_true :  6  y_pred :  6\n",
      "1/1 [==============================] - 0s 14ms/step\n",
      "y_true :  6  y_pred :  6\n",
      "1/1 [==============================] - 0s 37ms/step\n",
      "y_true :  6  y_pred :  6\n",
      "1/1 [==============================] - 0s 50ms/step\n",
      "y_true :  6  y_pred :  6\n",
      "1/1 [==============================] - 0s 29ms/step\n",
      "y_true :  6  y_pred :  6\n",
      "1/1 [==============================] - 0s 41ms/step\n",
      "y_true :  6  y_pred :  6\n",
      "1/1 [==============================] - 0s 37ms/step\n",
      "y_true :  6  y_pred :  6\n",
      "1/1 [==============================] - 0s 20ms/step\n",
      "y_true :  6  y_pred :  6\n",
      "1/1 [==============================] - 0s 37ms/step\n",
      "y_true :  6  y_pred :  6\n",
      "1/1 [==============================] - 0s 42ms/step\n",
      "y_true :  6  y_pred :  6\n",
      "1/1 [==============================] - 0s 27ms/step\n",
      "y_true :  6  y_pred :  6\n",
      "1/1 [==============================] - 0s 21ms/step\n",
      "y_true :  6  y_pred :  6\n",
      "1/1 [==============================] - 0s 49ms/step\n",
      "y_true :  6  y_pred :  6\n",
      "1/1 [==============================] - 0s 59ms/step\n",
      "y_true :  6  y_pred :  6\n",
      "1/1 [==============================] - 0s 28ms/step\n",
      "y_true :  6  y_pred :  6\n",
      "1/1 [==============================] - 0s 31ms/step\n",
      "y_true :  6  y_pred :  6\n",
      "1/1 [==============================] - 0s 35ms/step\n",
      "y_true :  6  y_pred :  6\n",
      "1/1 [==============================] - 0s 47ms/step\n",
      "y_true :  6  y_pred :  6\n",
      "1/1 [==============================] - 0s 15ms/step\n",
      "y_true :  6  y_pred :  6\n",
      "1/1 [==============================] - 0s 43ms/step\n",
      "y_true :  6  y_pred :  6\n",
      "1/1 [==============================] - 0s 18ms/step\n",
      "y_true :  6  y_pred :  6\n",
      "1/1 [==============================] - 0s 28ms/step\n",
      "y_true :  6  y_pred :  6\n",
      "1/1 [==============================] - 0s 20ms/step\n",
      "y_true :  6  y_pred :  6\n",
      "1/1 [==============================] - 0s 30ms/step\n",
      "y_true :  6  y_pred :  6\n",
      "1/1 [==============================] - 0s 28ms/step\n",
      "y_true :  6  y_pred :  6\n",
      "1/1 [==============================] - 0s 30ms/step\n",
      "y_true :  6  y_pred :  6\n",
      "1/1 [==============================] - 0s 31ms/step\n",
      "y_true :  6  y_pred :  6\n",
      "1/1 [==============================] - 0s 32ms/step\n",
      "y_true :  6  y_pred :  6\n",
      "1/1 [==============================] - 0s 48ms/step\n",
      "y_true :  6  y_pred :  6\n",
      "1/1 [==============================] - 0s 30ms/step\n",
      "y_true :  6  y_pred :  6\n",
      "1/1 [==============================] - 0s 19ms/step\n",
      "y_true :  6  y_pred :  6\n",
      "1/1 [==============================] - 0s 29ms/step\n",
      "y_true :  6  y_pred :  6\n",
      "1/1 [==============================] - 0s 25ms/step\n",
      "y_true :  6  y_pred :  6\n",
      "1/1 [==============================] - 0s 31ms/step\n",
      "y_true :  6  y_pred :  6\n",
      "1/1 [==============================] - 0s 26ms/step\n",
      "y_true :  6  y_pred :  6\n",
      "1/1 [==============================] - 0s 31ms/step\n",
      "y_true :  6  y_pred :  6\n",
      "1/1 [==============================] - 0s 52ms/step\n",
      "y_true :  6  y_pred :  6\n",
      "1/1 [==============================] - 0s 15ms/step\n",
      "y_true :  6  y_pred :  6\n",
      "1/1 [==============================] - 0s 30ms/step\n",
      "y_true :  6  y_pred :  6\n",
      "1/1 [==============================] - 0s 27ms/step\n",
      "y_true :  6  y_pred :  6\n",
      "1/1 [==============================] - 0s 19ms/step\n",
      "y_true :  6  y_pred :  6\n",
      "1/1 [==============================] - 0s 27ms/step\n",
      "y_true :  6  y_pred :  6\n",
      "1/1 [==============================] - 0s 22ms/step\n",
      "y_true :  6  y_pred :  6\n",
      "1/1 [==============================] - 0s 31ms/step\n",
      "y_true :  6  y_pred :  6\n",
      "1/1 [==============================] - 0s 44ms/step\n",
      "y_true :  6  y_pred :  6\n",
      "1/1 [==============================] - 0s 21ms/step\n",
      "y_true :  6  y_pred :  6\n",
      "1/1 [==============================] - 0s 30ms/step\n",
      "y_true :  6  y_pred :  6\n",
      "1/1 [==============================] - 0s 34ms/step\n",
      "y_true :  6  y_pred :  6\n",
      "1/1 [==============================] - 0s 30ms/step\n",
      "y_true :  6  y_pred :  6\n",
      "1/1 [==============================] - 0s 30ms/step\n",
      "y_true :  6  y_pred :  6\n",
      "1/1 [==============================] - 0s 33ms/step\n",
      "y_true :  6  y_pred :  6\n",
      "1/1 [==============================] - 0s 28ms/step\n",
      "y_true :  6  y_pred :  6\n",
      "1/1 [==============================] - 0s 32ms/step\n",
      "y_true :  6  y_pred :  6\n",
      "1/1 [==============================] - 0s 28ms/step\n",
      "y_true :  6  y_pred :  6\n",
      "1/1 [==============================] - 0s 28ms/step\n",
      "y_true :  6  y_pred :  6\n",
      "1/1 [==============================] - 0s 12ms/step\n",
      "y_true :  6  y_pred :  6\n",
      "1/1 [==============================] - 0s 43ms/step\n",
      "y_true :  6  y_pred :  6\n",
      "1/1 [==============================] - 0s 25ms/step\n",
      "y_true :  6  y_pred :  6\n",
      "1/1 [==============================] - 0s 18ms/step\n",
      "y_true :  6  y_pred :  6\n",
      "1/1 [==============================] - 0s 26ms/step\n",
      "y_true :  6  y_pred :  6\n",
      "1/1 [==============================] - 0s 26ms/step\n",
      "y_true :  6  y_pred :  6\n",
      "1/1 [==============================] - 0s 30ms/step\n",
      "y_true :  6  y_pred :  6\n",
      "1/1 [==============================] - 0s 27ms/step\n",
      "y_true :  6  y_pred :  6\n",
      "1/1 [==============================] - 0s 27ms/step\n",
      "y_true :  6  y_pred :  6\n",
      "1/1 [==============================] - 0s 29ms/step\n",
      "y_true :  6  y_pred :  6\n",
      "1/1 [==============================] - 0s 28ms/step\n",
      "y_true :  6  y_pred :  6\n",
      "1/1 [==============================] - 0s 36ms/step\n",
      "y_true :  6  y_pred :  6\n",
      "1/1 [==============================] - 0s 32ms/step\n",
      "y_true :  6  y_pred :  6\n",
      "1/1 [==============================] - 0s 16ms/step\n",
      "y_true :  6  y_pred :  6\n",
      "1/1 [==============================] - 0s 30ms/step\n",
      "y_true :  6  y_pred :  6\n",
      "1/1 [==============================] - 0s 28ms/step\n",
      "y_true :  6  y_pred :  6\n",
      "1/1 [==============================] - 0s 34ms/step\n",
      "y_true :  6  y_pred :  6\n",
      "1/1 [==============================] - 0s 32ms/step\n",
      "y_true :  6  y_pred :  6\n",
      "1/1 [==============================] - 0s 29ms/step\n",
      "y_true :  6  y_pred :  6\n",
      "1/1 [==============================] - 0s 27ms/step\n",
      "y_true :  6  y_pred :  6\n"
     ]
    },
    {
     "name": "stdout",
     "output_type": "stream",
     "text": [
      "1/1 [==============================] - 0s 21ms/step\n",
      "y_true :  6  y_pred :  6\n",
      "1/1 [==============================] - 0s 25ms/step\n",
      "y_true :  6  y_pred :  6\n",
      "1/1 [==============================] - 0s 17ms/step\n",
      "y_true :  6  y_pred :  6\n",
      "1/1 [==============================] - 0s 29ms/step\n",
      "y_true :  6  y_pred :  6\n",
      "1/1 [==============================] - 0s 26ms/step\n",
      "y_true :  6  y_pred :  6\n",
      "1/1 [==============================] - 0s 20ms/step\n",
      "y_true :  6  y_pred :  6\n",
      "1/1 [==============================] - 0s 23ms/step\n",
      "y_true :  6  y_pred :  6\n",
      "1/1 [==============================] - 0s 28ms/step\n",
      "y_true :  6  y_pred :  6\n",
      "1/1 [==============================] - 0s 28ms/step\n",
      "y_true :  6  y_pred :  6\n",
      "1/1 [==============================] - 0s 41ms/step\n",
      "y_true :  6  y_pred :  6\n",
      "1/1 [==============================] - 0s 15ms/step\n",
      "y_true :  6  y_pred :  6\n",
      "1/1 [==============================] - 0s 22ms/step\n",
      "y_true :  6  y_pred :  6\n",
      "1/1 [==============================] - 0s 19ms/step\n",
      "y_true :  6  y_pred :  6\n",
      "1/1 [==============================] - 0s 27ms/step\n",
      "y_true :  6  y_pred :  6\n",
      "1/1 [==============================] - 0s 19ms/step\n",
      "y_true :  6  y_pred :  6\n",
      "1/1 [==============================] - 0s 28ms/step\n",
      "y_true :  6  y_pred :  6\n",
      "1/1 [==============================] - 0s 19ms/step\n",
      "y_true :  6  y_pred :  6\n",
      "1/1 [==============================] - 0s 40ms/step\n",
      "y_true :  6  y_pred :  6\n",
      "1/1 [==============================] - 0s 23ms/step\n",
      "y_true :  6  y_pred :  6\n",
      "1/1 [==============================] - 0s 18ms/step\n",
      "y_true :  6  y_pred :  6\n",
      "1/1 [==============================] - 0s 17ms/step\n",
      "y_true :  6  y_pred :  6\n",
      "1/1 [==============================] - 0s 26ms/step\n",
      "y_true :  6  y_pred :  6\n",
      "1/1 [==============================] - 0s 21ms/step\n",
      "y_true :  6  y_pred :  6\n",
      "1/1 [==============================] - 0s 27ms/step\n",
      "y_true :  6  y_pred :  6\n",
      "1/1 [==============================] - 0s 28ms/step\n",
      "y_true :  6  y_pred :  6\n",
      "1/1 [==============================] - 0s 26ms/step\n",
      "y_true :  6  y_pred :  6\n",
      "1/1 [==============================] - 0s 29ms/step\n",
      "y_true :  6  y_pred :  6\n",
      "1/1 [==============================] - 0s 24ms/step\n",
      "y_true :  6  y_pred :  6\n",
      "1/1 [==============================] - 0s 22ms/step\n",
      "y_true :  6  y_pred :  6\n",
      "1/1 [==============================] - 0s 13ms/step\n",
      "y_true :  6  y_pred :  6\n",
      "1/1 [==============================] - 0s 36ms/step\n",
      "y_true :  6  y_pred :  6\n",
      "1/1 [==============================] - 0s 17ms/step\n",
      "y_true :  6  y_pred :  6\n",
      "1/1 [==============================] - 0s 28ms/step\n",
      "y_true :  6  y_pred :  6\n",
      "1/1 [==============================] - 0s 26ms/step\n",
      "y_true :  6  y_pred :  6\n",
      "1/1 [==============================] - 0s 31ms/step\n",
      "y_true :  6  y_pred :  6\n",
      "1/1 [==============================] - 0s 40ms/step\n",
      "y_true :  6  y_pred :  6\n",
      "1/1 [==============================] - 0s 29ms/step\n",
      "y_true :  6  y_pred :  6\n",
      "1/1 [==============================] - 0s 28ms/step\n",
      "y_true :  6  y_pred :  6\n",
      "1/1 [==============================] - 0s 26ms/step\n",
      "y_true :  6  y_pred :  6\n",
      "1/1 [==============================] - 0s 34ms/step\n",
      "y_true :  6  y_pred :  6\n",
      "1/1 [==============================] - 0s 24ms/step\n",
      "y_true :  6  y_pred :  6\n",
      "1/1 [==============================] - 0s 28ms/step\n",
      "y_true :  6  y_pred :  6\n",
      "1/1 [==============================] - 0s 43ms/step\n",
      "y_true :  6  y_pred :  6\n",
      "1/1 [==============================] - 0s 63ms/step\n",
      "y_true :  6  y_pred :  6\n",
      "1/1 [==============================] - 0s 36ms/step\n",
      "y_true :  6  y_pred :  6\n",
      "1/1 [==============================] - 0s 33ms/step\n",
      "y_true :  6  y_pred :  6\n",
      "1/1 [==============================] - 0s 27ms/step\n",
      "y_true :  6  y_pred :  6\n",
      "1/1 [==============================] - 0s 26ms/step\n",
      "y_true :  6  y_pred :  6\n",
      "1/1 [==============================] - 0s 31ms/step\n",
      "y_true :  6  y_pred :  6\n",
      "1/1 [==============================] - 0s 21ms/step\n",
      "y_true :  6  y_pred :  6\n",
      "1/1 [==============================] - 0s 39ms/step\n",
      "y_true :  6  y_pred :  6\n",
      "1/1 [==============================] - 0s 41ms/step\n",
      "y_true :  6  y_pred :  6\n",
      "1/1 [==============================] - 0s 34ms/step\n",
      "y_true :  6  y_pred :  6\n",
      "1/1 [==============================] - 0s 32ms/step\n",
      "y_true :  6  y_pred :  6\n",
      "1/1 [==============================] - 0s 41ms/step\n",
      "y_true :  6  y_pred :  6\n",
      "1/1 [==============================] - 0s 23ms/step\n",
      "y_true :  6  y_pred :  6\n",
      "1/1 [==============================] - 0s 40ms/step\n",
      "y_true :  6  y_pred :  6\n",
      "1/1 [==============================] - 0s 30ms/step\n",
      "y_true :  6  y_pred :  6\n",
      "1/1 [==============================] - 0s 20ms/step\n",
      "y_true :  6  y_pred :  6\n",
      "1/1 [==============================] - 0s 26ms/step\n",
      "y_true :  6  y_pred :  6\n",
      "1/1 [==============================] - 0s 31ms/step\n",
      "y_true :  6  y_pred :  6\n",
      "done...\n"
     ]
    }
   ],
   "source": [
    "from keras.models import load_model\n",
    "import os\n",
    "\n",
    "# model = load_model('/content/model_17_0.559_1.183.h5') # /content/model_18_0.636_0.994.h5\n",
    "# model.summary()\n",
    "\n",
    "data = []\n",
    "labels = []\n",
    "classes = glob('dataset/data_cp/*') # data/train/* # data/test/*\n",
    "print('Number of classes : ', classes)\n",
    "cur_path = os.getcwd()\n",
    "print('cur_path : ', cur_path)\n",
    "\n",
    "\n",
    "from PIL import Image\n",
    "\n",
    "# Retrieving the images and their labels\n",
    "for i in classes: # range(len(classes)):\n",
    "    # path = os.path.join(cur_path,'images/images/validation',str(i))\n",
    "    path = os.path.join(str(i))\n",
    "    print('path : ',path)\n",
    "    images = os.listdir(path)\n",
    "    # print('images : ',images)\n",
    "\n",
    "    for a in images:\n",
    "        try:\n",
    "            image = Image.open(path + '/'+ a)\n",
    "            image = image.resize((48,48))\n",
    "            image = np.array(image)\n",
    "            data.append(image)\n",
    "            labels.append(i)\n",
    "        except:\n",
    "            print(\"Error loading image\")\n",
    "print('loaded ...')\n",
    "\n",
    "\n",
    "y_true = []\n",
    "y_pred = []\n",
    "\n",
    "for i in range(len(data)):\n",
    "    x = data[i]\n",
    "    x = np.expand_dims(x, axis=0)\n",
    "    img_data = x # preprocess_input(x)\n",
    "    classes = model.predict(img_data)\n",
    "    li = list(classes[0])\n",
    "    y_pred.append(li.index(max(li)))\n",
    "    y_true.append(int(labels[i][-1]))\n",
    "\n",
    "    print('y_true : ', y_true[i], ' y_pred : ', y_pred[i])\n",
    "\n",
    "print('done...')\n"
   ]
  },
  {
   "cell_type": "code",
   "execution_count": 28,
   "id": "b558269d",
   "metadata": {},
   "outputs": [
    {
     "name": "stdout",
     "output_type": "stream",
     "text": [
      "[[222   0   0   0   0   0   0]\n",
      " [ 12  62  20   2   1   3   0]\n",
      " [  0   0 201   0   0   0   0]\n",
      " [  0   0   0 201   0   0   0]\n",
      " [  0   0   0   0 201   0   0]\n",
      " [  0   0   0   0   0 201   0]\n",
      " [  0   0   0   0   0   0 201]] \n",
      "\n",
      "Accuracy: 0.971364 \n",
      "\n",
      "Error rate: 0.028636 \n",
      "\n",
      "classification_report \n",
      "\n",
      "               precision    recall  f1-score   support\n",
      "\n",
      "           0       0.95      1.00      0.97       222\n",
      "           1       1.00      0.62      0.77       100\n",
      "           2       0.91      1.00      0.95       201\n",
      "           3       0.99      1.00      1.00       201\n",
      "           4       1.00      1.00      1.00       201\n",
      "           5       0.99      1.00      0.99       201\n",
      "           6       1.00      1.00      1.00       201\n",
      "\n",
      "    accuracy                           0.97      1327\n",
      "   macro avg       0.98      0.95      0.95      1327\n",
      "weighted avg       0.97      0.97      0.97      1327\n",
      " \n",
      "\n",
      "Cohens kappa: 0.966283\n"
     ]
    },
    {
     "data": {
      "image/png": "[encoded data removed]",
      "text/plain": [
       "<Figure size 640x480 with 2 Axes>"
      ]
     },
     "metadata": {},
     "output_type": "display_data"
    }
   ],
   "source": [
    "  # confusion matrix\n",
    "from sklearn.metrics import confusion_matrix\n",
    "matrix = confusion_matrix(y_true,y_pred)\n",
    "print(matrix, '\\n')\n",
    "\n",
    "# accuracy: (tp + tn) / (p + n)\n",
    "from sklearn.metrics import accuracy_score\n",
    "accuracy = accuracy_score(y_true, y_pred)\n",
    "print('Accuracy: %f' % accuracy, '\\n')\n",
    "print('Error rate: %f' % (1-accuracy), '\\n')\n",
    "\n",
    "from sklearn.metrics import classification_report\n",
    "print(\"classification_report \\n\\n\", classification_report(y_true,y_pred), '\\n')\n",
    "\n",
    "# kappa\n",
    "from sklearn.metrics import cohen_kappa_score\n",
    "kappa = cohen_kappa_score(y_true,y_pred)\n",
    "print('Cohens kappa: %f' % kappa)\n",
    "\n",
    "# Commented out IPython magic to ensure Python compatibility.\n",
    "import matplotlib.pyplot as plt\n",
    "# %matplotlib inline\n",
    "import seaborn as sns\n",
    "\n",
    "plt.rcParams['font.size'] = 20\n",
    "bg_color = (0,0.77,0.77)\n",
    "plt.rcParams['figure.facecolor'] = bg_color\n",
    "plt.rcParams['axes.facecolor'] = bg_color\n",
    "\n",
    "fig, ax = plt.subplots(1)\n",
    "\n",
    "plt.text(1,-.3, \"Confusion Matrix\", fontsize = 25, color='Black', fontstyle='italic')\n",
    "\n",
    "ax = sns.heatmap(matrix, annot=True, annot_kws={'size':15}, fmt=\"d\",\n",
    "                 robust=True, linewidths=.9, cmap=\"RdYlBu\", square=True)\n",
    "# vmin=0, vmax=350,\n",
    "plt.savefig(\"model_VGG19.jpeg\", dpi=200, facecolor=bg_color, transparent=True)\n",
    "plt.show()\n"
   ]
  },
  {
   "cell_type": "code",
   "execution_count": 29,
   "id": "8ecfbd72",
   "metadata": {},
   "outputs": [
    {
     "name": "stderr",
     "output_type": "stream",
     "text": [
      "\n",
      "[notice] A new release of pip is available: 23.3.1 -> 24.0\n",
      "[notice] To update, run: python.exe -m pip install --upgrade pip\n"
     ]
    },
    {
     "name": "stdout",
     "output_type": "stream",
     "text": [
      "Requirement already satisfied: split-folders in c:\\users\\dell\\appdata\\local\\programs\\python\\python310\\lib\\site-packages (0.5.1)\n"
     ]
    },
    {
     "name": "stderr",
     "output_type": "stream",
     "text": [
      "Copying files: 1327 files [00:02, 602.87 files/s]\n"
     ]
    }
   ],
   "source": [
    "!pip install split-folders\n",
    "\n",
    "import splitfolders\n",
    "splitfolders.ratio(r\"dataset/data_cp\",\n",
    "                   'split_data',\n",
    "                   seed=1111,\n",
    "                   ratio=(0.7, 0.15, 0.15))"
   ]
  },
  {
   "cell_type": "code",
   "execution_count": null,
   "id": "b6f3a774",
   "metadata": {},
   "outputs": [],
   "source": []
  }
 ],
 "metadata": {
  "kernelspec": {
   "display_name": "Python 3 (ipykernel)",
   "language": "python",
   "name": "python3"
  },
  "language_info": {
   "codemirror_mode": {
    "name": "ipython",
    "version": 3
   },
   "file_extension": ".py",
   "mimetype": "text/x-python",
   "name": "python",
   "nbconvert_exporter": "python",
   "pygments_lexer": "ipython3",
   "version": "3.10.11"
  }
 },
 "nbformat": 4,
 "nbformat_minor": 5
}
