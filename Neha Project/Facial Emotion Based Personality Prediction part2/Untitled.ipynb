{
 "cells": [
  {
   "cell_type": "code",
   "execution_count": 1,
   "id": "f2760503",
   "metadata": {},
   "outputs": [],
   "source": [
    "import glob\n",
    "import cv2\n",
    "import time\n",
    "from datetime import datetime\n",
    "from tqdm import tqdm\n",
    "import face_recognition\n",
    "from PIL import Image\n",
    "import os"
   ]
  },
  {
   "cell_type": "code",
   "execution_count": null,
   "id": "5df50bb2",
   "metadata": {
    "scrolled": true
   },
   "outputs": [],
   "source": [
    "count = 0\n",
    "for file in tqdm(glob.glob(\"video_data/*.mp4\")):\n",
    "    print(file)\n",
    "    now = datetime.now().strftime(\"%Y%m%d_%H%M%S\")\n",
    "    vidcap = cv2.VideoCapture(file)\n",
    "    while 1:\n",
    "        success,image = vidcap.read()\n",
    "        if count%640 == 0:\n",
    "            try:\n",
    "                cv2.imwrite(f\"frames/video_{count}_{now}.jpg\", image)     # save frame as JPEG file   \n",
    "                time.sleep(1)\n",
    "            except Exception as e:\n",
    "                break\n",
    "        count += 1\n",
    "    time.sleep(5)\n",
    "    \n",
    "print(\"Done\")"
   ]
  },
  {
   "cell_type": "code",
   "execution_count": 4,
   "id": "84765499",
   "metadata": {},
   "outputs": [
    {
     "name": "stderr",
     "output_type": "stream",
     "text": [
      "100%|████████████████████████████████████████████████████████████████████████████████████████████████████████████████████████████████| 377/377 [09:48<00:00,  1.56s/it]\n"
     ]
    }
   ],
   "source": [
    "count = 0\n",
    "for file in tqdm(glob.glob(\"frames/*.jpg\")):\n",
    "#     print(file)\n",
    "    now = datetime.now().strftime(\"%Y%m%d_%H%M%S\")\n",
    "    image = face_recognition.load_image_file(file)\n",
    "    face_locations = face_recognition.face_locations(image)\n",
    "#     print(face_locations)\n",
    "#     print(f'there are {len(face_locations)} people in this image. ')\n",
    "\n",
    "    imgCount = 0\n",
    "    for face_location in face_locations:\n",
    "        top, right, bottom, left = face_location\n",
    "        try:\n",
    "            face_image = image[top-70:bottom+70, left-70:right+70]\n",
    "            pil_image = Image.fromarray(face_image)\n",
    "        except Exception as e:\n",
    "            face_image = image[top:bottom, left:right]\n",
    "            pil_image = Image.fromarray(face_image)\n",
    "        pil_image.save (f'face/ACW_{top}_{imgCount}_{bottom}_{now}.jpg')\n",
    "        imgCount += 1"
   ]
  },
  {
   "cell_type": "code",
   "execution_count": null,
   "id": "60eda3a6",
   "metadata": {},
   "outputs": [],
   "source": []
  },
  {
   "cell_type": "code",
   "execution_count": null,
   "id": "a54a72bf",
   "metadata": {},
   "outputs": [],
   "source": []
  }
 ],
 "metadata": {
  "kernelspec": {
   "display_name": "Python 3 (ipykernel)",
   "language": "python",
   "name": "python3"
  },
  "language_info": {
   "codemirror_mode": {
    "name": "ipython",
    "version": 3
   },
   "file_extension": ".py",
   "mimetype": "text/x-python",
   "name": "python",
   "nbconvert_exporter": "python",
   "pygments_lexer": "ipython3",
   "version": "3.10.10"
  }
 },
 "nbformat": 4,
 "nbformat_minor": 5
}
