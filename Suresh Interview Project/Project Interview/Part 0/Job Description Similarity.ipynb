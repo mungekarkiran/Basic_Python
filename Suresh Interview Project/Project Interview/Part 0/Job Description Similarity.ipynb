{
 "cells": [
  {
   "cell_type": "markdown",
   "metadata": {},
   "source": [
    "# Create a Program to see how similar a resume is to a job description. "
   ]
  },
  {
   "cell_type": "code",
   "execution_count": null,
   "metadata": {},
   "outputs": [],
   "source": [
    "# https://www.youtube.com/watch?v=bkigzpBLN6o&t=11s\n",
    "# https://www.youtube.com/watch?v=2vD6EAjhl54\n",
    "# !pip install docx2txt"
   ]
  },
  {
   "cell_type": "code",
   "execution_count": null,
   "metadata": {},
   "outputs": [],
   "source": [
    "import docx2txt"
   ]
  },
  {
   "cell_type": "code",
   "execution_count": null,
   "metadata": {},
   "outputs": [],
   "source": [
    "# load data (resume and JD in .docx formate)\n",
    "resume = docx2txt.process(r'dataset/kiran resume.docx')\n",
    "\n",
    "# print resume\n",
    "print(resume)\n"
   ]
  },
  {
   "cell_type": "code",
   "execution_count": null,
   "metadata": {
    "scrolled": true
   },
   "outputs": [],
   "source": [
    "job_decription = docx2txt.process(r'dataset/JD1.docx')\n",
    "\n",
    "# print JD\n",
    "print(job_decription)\n"
   ]
  },
  {
   "cell_type": "code",
   "execution_count": null,
   "metadata": {},
   "outputs": [],
   "source": [
    "# list of text\n",
    "text = [resume, job_decription]"
   ]
  },
  {
   "cell_type": "code",
   "execution_count": null,
   "metadata": {
    "scrolled": true
   },
   "outputs": [],
   "source": [
    "# CounterVectorizer\n",
    "from sklearn.feature_extraction.text import CountVectorizer\n",
    "cv = CountVectorizer()\n",
    "count_matrix = cv.fit_transform(text)\n",
    "\n",
    "# print count_matrix\n",
    "print(count_matrix)"
   ]
  },
  {
   "cell_type": "code",
   "execution_count": null,
   "metadata": {},
   "outputs": [],
   "source": [
    "from sklearn.metrics.pairwise import cosine_similarity\n",
    "\n",
    "# print similarity score\n",
    "similarity_score = cosine_similarity(count_matrix)\n",
    "print(similarity_score)"
   ]
  },
  {
   "cell_type": "code",
   "execution_count": null,
   "metadata": {},
   "outputs": [],
   "source": [
    "# get the match percent.\n",
    "match_percent = round(similarity_score[1][0]*100,2)\n",
    "print(f\"Your reseme maches about {match_percent}% of the Job Description.\")"
   ]
  },
  {
   "cell_type": "markdown",
   "metadata": {},
   "source": [
    "# Skills Extractor"
   ]
  },
  {
   "cell_type": "code",
   "execution_count": null,
   "metadata": {},
   "outputs": [],
   "source": [
    "# https://www.youtube.com/watch?v=8fVEMdHKmqM\n",
    "# https://github.com/OmkarPathak/pyresparser\n",
    "\n",
    "# !pip install python-docx\n",
    "# !pip install docx\n",
    "# !pip install pyresparser"
   ]
  },
  {
   "cell_type": "code",
   "execution_count": null,
   "metadata": {},
   "outputs": [],
   "source": [
    "# https://github.com/topics/pyresparser\n",
    "# https://github.com/p-sachin/Resume_Screening_Project\n",
    "# https://github.com/DhavalThkkar/Resume_Parser\n",
    "# https://github.com/Akash1070/AI-Resume-Analyser-With-NLP\n",
    "# https://github.com/OmkarPathak/pyresparser\n",
    "# https://omkarpathak.in/pyresparser/\n",
    "# https://snyk.io/advisor/python/pyresparser\n",
    "\n",
    "# https://stackoverflow.com/questions/54334304/spacy-cant-find-model-en-core-web-sm-on-windows-10-and-python-3-5-3-anacon\n",
    "# https://github.com/explosion/spaCy/issues/4577"
   ]
  },
  {
   "cell_type": "code",
   "execution_count": 5,
   "metadata": {},
   "outputs": [
    {
     "data": {
      "text/plain": [
       "<spacy.lang.en.English at 0x28374028d68>"
      ]
     },
     "execution_count": 5,
     "metadata": {},
     "output_type": "execute_result"
    }
   ],
   "source": [
    "# lib's\n",
    "\n",
    "import os\n",
    "from pyresparser import ResumeParser\n",
    "from docx import Document\n",
    "\n",
    "import spacy\n",
    "spacy.load(\"en_core_web_sm\")\n",
    "# spacy.load(\"en_core_web_lg\")"
   ]
  },
  {
   "cell_type": "code",
   "execution_count": 2,
   "metadata": {},
   "outputs": [],
   "source": [
    "# # spaCy\n",
    "# !python -m spacy download en_core_web_sm\n",
    "# !python -m spacy download en_core_web_lg\n",
    "\n",
    "# # nltk\n",
    "# !python -m nltk.downloader words\n",
    "# !python -m nltk.downloader stopwords"
   ]
  },
  {
   "cell_type": "code",
   "execution_count": 3,
   "metadata": {},
   "outputs": [],
   "source": [
    "# file format should be in .txt\n",
    "# filed = input()\n",
    "filed = r\"dataset\\kiran resume.docx\""
   ]
  },
  {
   "cell_type": "code",
   "execution_count": 8,
   "metadata": {},
   "outputs": [
    {
     "data": {
      "text/plain": [
       "{'name': 'KIRAN KRUSHNAKANT MUNGEKAR mungekarkiran05@gmail.com',\n",
       " 'email': 'mungekarkiran05@gmail.com',\n",
       " 'mobile_number': '8108412112',\n",
       " 'skills': ['Excel',\n",
       "  'Html',\n",
       "  'Postgresql',\n",
       "  'Api',\n",
       "  'Presentation',\n",
       "  'Machine learning',\n",
       "  'Time management',\n",
       "  'Ai',\n",
       "  'Database',\n",
       "  'Python',\n",
       "  'Rest',\n",
       "  'Ms excel',\n",
       "  'Nosql',\n",
       "  'C',\n",
       "  'Visual',\n",
       "  'Mysql',\n",
       "  'Mobile',\n",
       "  'Css',\n",
       "  'Statistical analysis',\n",
       "  'Java',\n",
       "  'Flask',\n",
       "  'Engineering',\n",
       "  'Research',\n",
       "  'Prototype',\n",
       "  'System',\n",
       "  'Sales',\n",
       "  'Analysis',\n",
       "  'Html5',\n",
       "  'Beautifulsoup',\n",
       "  'Jupyter',\n",
       "  'Selenium',\n",
       "  'Design',\n",
       "  'Django'],\n",
       " 'college_name': None,\n",
       " 'degree': ['Master of Engineering',\n",
       "  'M.E.)',\n",
       "  'B.E.)',\n",
       "  'Bachelor of Engineering'],\n",
       " 'designation': ['Data Analyst'],\n",
       " 'experience': None,\n",
       " 'company_names': ['Smart Car'],\n",
       " 'no_of_pages': None,\n",
       " 'total_experience': 0}"
      ]
     },
     "execution_count": 8,
     "metadata": {},
     "output_type": "execute_result"
    }
   ],
   "source": [
    "data = ResumeParser(filed).get_extracted_data()\n",
    "# print(data)\n",
    "data"
   ]
  },
  {
   "cell_type": "code",
   "execution_count": 4,
   "metadata": {},
   "outputs": [
    {
     "name": "stdout",
     "output_type": "stream",
     "text": [
      "{'name': 'KIRAN KRUSHNAKANT MUNGEKAR mungekarkiran05@gmail.com', 'email': 'mungekarkiran05@gmail.com', 'mobile_number': '8108412112', 'skills': ['Excel', 'Html', 'Postgresql', 'Api', 'Presentation', 'Machine learning', 'Time management', 'Ai', 'Database', 'Python', 'Rest', 'Ms excel', 'Nosql', 'C', 'Visual', 'Mysql', 'Mobile', 'Css', 'Statistical analysis', 'Java', 'Flask', 'Engineering', 'Research', 'Prototype', 'System', 'Sales', 'Analysis', 'Html5', 'Beautifulsoup', 'Jupyter', 'Selenium', 'Design', 'Django'], 'college_name': None, 'degree': ['Master of Engineering', 'M.E.)', 'B.E.)', 'Bachelor of Engineering'], 'designation': ['Data Analyst'], 'experience': None, 'company_names': ['Smart Car'], 'no_of_pages': None, 'total_experience': 0}\n"
     ]
    }
   ],
   "source": [
    "try:\n",
    "    doc = Document()\n",
    "    with open(filed, 'r') as file:\n",
    "        doc.add_paragraph(file.read())\n",
    "        doc.save(\"text.docx\")\n",
    "        data = ResumeParser(\"text.docx\").get_extracted_data()\n",
    "        print(data)\n",
    "except:\n",
    "    data = ResumeParser(filed).get_extracted_data()\n",
    "    print(data)"
   ]
  },
  {
   "cell_type": "code",
   "execution_count": 18,
   "metadata": {},
   "outputs": [],
   "source": [
    "# from pyresparser import ResumeParser\n",
    "# data = ResumeParser(r\"dataset\\kiran resume.docx\", skills_file=r\"dataset\\skills.csv\").get_extracted_data()\n",
    "# data"
   ]
  },
  {
   "cell_type": "code",
   "execution_count": null,
   "metadata": {},
   "outputs": [],
   "source": []
  },
  {
   "cell_type": "code",
   "execution_count": 19,
   "metadata": {},
   "outputs": [],
   "source": [
    "# https://www.youtube.com/watch?v=hqu5EYMLCUw"
   ]
  },
  {
   "cell_type": "code",
   "execution_count": null,
   "metadata": {},
   "outputs": [],
   "source": []
  },
  {
   "cell_type": "code",
   "execution_count": null,
   "metadata": {},
   "outputs": [],
   "source": []
  }
 ],
 "metadata": {
  "kernelspec": {
   "display_name": "Python 3",
   "language": "python",
   "name": "python3"
  },
  "language_info": {
   "codemirror_mode": {
    "name": "ipython",
    "version": 3
   },
   "file_extension": ".py",
   "mimetype": "text/x-python",
   "name": "python",
   "nbconvert_exporter": "python",
   "pygments_lexer": "ipython3",
   "version": "3.6.7"
  }
 },
 "nbformat": 4,
 "nbformat_minor": 2
}
