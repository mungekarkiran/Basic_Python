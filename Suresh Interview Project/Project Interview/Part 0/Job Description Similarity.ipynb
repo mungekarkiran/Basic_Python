{
 "cells": [
  {
   "cell_type": "markdown",
   "metadata": {},
   "source": [
    "# Create a Program to see how similar a resume is to a job description. "
   ]
  },
  {
   "cell_type": "code",
   "execution_count": null,
   "metadata": {},
   "outputs": [],
   "source": [
    "# https://www.youtube.com/watch?v=bkigzpBLN6o&t=11s\n",
    "# https://www.youtube.com/watch?v=2vD6EAjhl54\n",
    "# https://www.youtube.com/watch?v=m_CooIRM3UI&t=2s\n",
    "# !pip install docx2txt"
   ]
  },
  {
   "cell_type": "code",
   "execution_count": 37,
   "metadata": {},
   "outputs": [],
   "source": [
    "import docx2txt"
   ]
  },
  {
   "cell_type": "code",
   "execution_count": 38,
   "metadata": {},
   "outputs": [
    {
     "name": "stdout",
     "output_type": "stream",
     "text": [
      "KIRAN KRUSHNAKANT MUNGEKAR\n",
      "\n",
      "mungekarkiran05@gmail.com | +91-8108412112 | linkedin.com/in/kirankmungekar | github.com/mungekarkiran\n",
      "\n",
      "SUMMARY\n",
      "\n",
      "Seeking a position to utilize my skills and abilities to achieve professional growth while being flexible, as well as to enhance my skills in order to contribute to the company's growth.\n",
      "\n",
      "\n",
      "\n",
      "EXPERIENCE\n",
      "\n",
      "\t\tThinkgestalt.Tech | Data Analyst \tDecember 2020 - Present \n",
      "\n",
      "\t\tCollaborated with 2 data analyst and 1 project head to implement and analyse given data.\n",
      "\n",
      "Analyse, clean and visualize different factors influencing the financial domain.\n",
      "\n",
      "Determine and back-test the factors leading to risk of the financial application. \n",
      "\n",
      "Contribute towards the development and deployment micro-services module for rapid, frequent and reliable delivery of large, complex applications.\n",
      "\n",
      "Create Rest API’s using Flask and Django framework and help to integrate with different applications.\n",
      "\n",
      "Develop visually impactful report on Jupyter notebook to transform data into meaningful information as a proof of concept.\n",
      "\n",
      "\n",
      "\n",
      "PROJECTS\n",
      "\n",
      "Automated Trading System | Thinkgestalt.Tech\n",
      "\n",
      "Created module based on functional approach and OOPs concepts using Python for Statistical analysis and Logical implementation of the system, Plotly for visualization.\n",
      "\n",
      "Contribute towards the development and deployment of micro-services based Rest API's in Flask framework with MySQL and MongoDB (NoSQL) database.\n",
      "\n",
      "Create application using Python, Flask, Rest API, MySQL, MongoDB, Micro-services, Postman.\n",
      "\n",
      "\n",
      "\n",
      "Lead Generation for Sales | Thinkgestalt.Tech\n",
      "\n",
      "Data scraped from the web to reach out and offer our products and services to other companies on B2B and B2C level.\n",
      "\n",
      "Handled the web scraping part which helped the sales team to connect to clients hence contributing to increase the revenue of the company by 2%.\n",
      "\n",
      "Created module using Python, BeautifulSoup, Selenium and MS Excel.\n",
      "\n",
      "\n",
      "\n",
      "Aqua Drone to Collect Floating Waste | Thakur College of Engineering and Technology\n",
      "\n",
      "An embedded aqua drone prototype created as an AI module integrate with mobile app to control and monitor the boat.\n",
      "\n",
      "Created as a proof of concept (POC) and the aim is to integrate the deep learning model with embedded system and increase the accuracy by 5%.\n",
      "\n",
      "Created module using Python, Flask, Rest API, Deep Learning, Firebase, Computer Vision and Raspberry Pi.\n",
      "\n",
      "\n",
      "\n",
      "Car for Smart Cities - Smart Car | St. John College of Engineering and Management \n",
      "\n",
      "A module of self-driving cars created as a prototype with the help of deep learning and computer vision.\n",
      "\n",
      "Created as a proof of concept (POC) and the aim is to implement CNN that will automatically drive a vehicle in a real time scenario with 89.72% accuracy.\n",
      "\n",
      "Created module using Python, Deep Learning, Computer Vision, and Raspberry Pi.  \n",
      "\n",
      "\n",
      "\n",
      "\n",
      "\n",
      "SKILLS\n",
      "\n",
      "Languages and Software tools\n",
      "\n",
      "Data Analysis\n",
      "\n",
      "Strength\n",
      "\n",
      "Python, HTML, CSS,\n",
      "\n",
      "MySQL, PostgreSQL, SQLite, \n",
      "\n",
      "MongoDB, Firebase,\n",
      "\n",
      "Flask, Django,\n",
      "\n",
      "Rest API services, \n",
      "\n",
      "Visual studio code,\n",
      "\n",
      "Raspberry Pi, Arduino.\n",
      "\n",
      "\n",
      "\n",
      "Web Collection / Scraping, \n",
      "\n",
      "Data Visualization,\n",
      "\n",
      "Data Wrangling, Mathematical and Statistical Analysis, \n",
      "\n",
      "Data Pre-processing,\n",
      "\n",
      "Exploratory Data Analysis.\n",
      "\n",
      "Time Management,\n",
      "\n",
      " Good Explainer, \n",
      "\n",
      "Self-Motivation, \n",
      "\n",
      "Problem Solving,  \n",
      "\n",
      "Ability to work as an individual as well as in a team, Research.\n",
      "\n",
      "EDUCATION\n",
      "\n",
      "\tThakur College of Engineering and Technology | Master of Engineering (M.E.) \tMumbai | July 2019 - July 2021\n",
      "\n",
      "Master's in : Information Technology – (Data Science)\n",
      "\n",
      "CGPA : 9.78 / 10\n",
      "\n",
      "Relevant Work : Python, Flask, Django, Rest API, Machine Learning, Deep Learning.\n",
      "\n",
      "\n",
      "\n",
      "\tSt. John College of Engineering and Technology | Bachelor of Engineering (B.E.) \tMumbai | July 2015 - July 2018\n",
      "\n",
      "Bachelor's in : Information Technology\n",
      "\n",
      "CGPA : 7.87 / 10\n",
      "\n",
      "Relevant Work : Python, Flask, Rest API, Machine Learning, Deep Learning, Firebase, Raspberry Pi.\n",
      "\n",
      "\n",
      "\n",
      "\tSardar Vallabhbhai Patel Polytechnic | Diploma \tMumbai | July 2010 - July 2015\n",
      "\n",
      "Diploma in : Information Technology\n",
      "\n",
      "Grade : 65.74 %\n",
      "\n",
      "Relevant Work : Core Java, Embedded C, HTML5, CSS3, MySQL.\n",
      "\n",
      "\n",
      "\n",
      "\tUtkarsha Vidyalaya | SSC \tMaharashtra State Board | March 2010\n",
      "\n",
      "Grade : 72.00 %\n",
      "\n",
      "\n",
      "\n",
      "ACHIEVEMENT\n",
      "\n",
      "Participated in Paper Presentation - Design & Implementation of Car for Smart Cities - Intelligent Car Prototype (Springer Publication - Paper Code - 261)\n"
     ]
    }
   ],
   "source": [
    "# load data (resume and JD in .docx formate)\n",
    "resume = docx2txt.process(r'dataset/kiran resume.docx')\n",
    "\n",
    "# print resume\n",
    "print(resume)\n"
   ]
  },
  {
   "cell_type": "code",
   "execution_count": 39,
   "metadata": {
    "scrolled": true
   },
   "outputs": [
    {
     "name": "stdout",
     "output_type": "stream",
     "text": [
      "Data Scientist Intern - Summer 2023\n",
      "\n",
      "Ever dream of mining gold from big data? The LinkedIn Data Science team is looking for data junkies who love turning data into gold and who want to make an impact. You will work closely with our business partners in product, marketing and sales to mine insights from big data, and to impact business decisions. LinkedIn's reputable internship program is known for plentiful activities. Join us this summer!\n",
      "\n",
      "At LinkedIn, we trust each other to do our best work where it works best for us and our teams. This role offers a hybrid work option, meaning you can both work from home and commute to a LinkedIn office, depending on what’s best for you and when it is important for your team to be together.\n",
      "\n",
      "Responsibilities:\n",
      "• Analyze, mash-up, and mine massive amounts of data to extract useful business insights;\n",
      "• Work closely with data analytics staff and our business partners to analyze product performance and member engagement data to drive informed decisions;\n",
      "• Utilize data engineering tools to process big data in a scalable and automated fashion;\n",
      "• Design and build business KPI dashboards and data visualizations;\n",
      "• Develop presentation story and slides based on the analysis;\n",
      "• This is a full-time internship role based in Sunnyvale, CA, San Francisco, CA, or New York, NY\n",
      "• This internship will take place during Summer 2023\n",
      "\n",
      "\n",
      "Basic Qualifications:\n",
      "Currently pursuing a B.A./B.S. Degree or higher in a quantitative discipline: statistics, applied mathematics, operations research, computer science, management of information systems, engineering, economics or equivalent and returning to the program after the completion of the internship\n",
      "Experience with SQL or other relational databases.\n",
      "Experience in at least one programming language (eg. R, Python, Hive, Java, Ruby, Scala/Spark or Perl etc)\n",
      "\n",
      "Preferred Qualifications:\n",
      "Expected to complete degree by December 2024 or earlier\n",
      "Experience with data visualization tools (eg. Tableau, BI dashboarding, R visualization packages, etc.)\n",
      "Experience building front-end visualizations using JavaScript frameworks (eg. jQuery, Marionette, D3, or Highcharts).\n",
      "Experience in applied statistics and statistical modeling in at least one statistical software package, (eg. Advance R package, SAS, SPSS)\n",
      "Experience in Hadoop or other MapReduce paradigms and associated languages such as Pig and Hive;\n",
      "Ability to communicate findings clearly to both technical and non-technical audiences;\n",
      "Knowledge of Unix and Unix-like systems, git and review board.\n",
      "\n",
      "The pay range for this role is $50 to $60 USD per hour. Actual compensation packages are based on a wide array of factors unique to each candidate, including but not limited to skill set, years & depth of experience, certifications and specific office location. This may differ in other locations due to cost of labor considerations.\n",
      "\n",
      "\n",
      "Equal Opportunity Statement\n",
      "LinkedIn is committed to diversity in its workforce and is proud to be an equal opportunity employer. LinkedIn considers qualified applicants without regard to race, color, religion, creed, gender, national origin, age, disability, veteran status, marital status, pregnancy, sex, gender expression or identity, sexual orientation, citizenship, or any other legally protected class. LinkedIn is an Affirmative Action and Equal Opportunity Employer as described in our equal opportunity statement here: https://lnkd.in/equalemploymentopportunity2017. Please reference http://www1.eeoc.gov/employers/upload/eeoc_self_print_poster.pdf and https://www.dol.gov/ofccp/regs/compliance/posters/pdf/OFCCP_EEO_Supplement_Final_JRF_QA_508c.pdf for more information.\n",
      "\n",
      "LinkedIn is committed to offering an inclusive and accessible experience for all job seekers, including individuals with disabilities. Our goal is to foster an inclusive and accessible workplace where everyone has the opportunity to be successful.\n",
      "\n",
      "If you need a reasonable accommodation to search for a job opening, apply for a position, or participate in the interview process, connect with us at accommodations@linkedin.com and describe the specific accommodation requested for a disability-related limitation.\n",
      "\n",
      "Reasonable accommodations are modifications or adjustments to the application or hiring process that would enable you to fully participate in that process. Examples of reasonable accommodations include but are not limited to:\n",
      "\n",
      "-Documents in alternate formats or read aloud to you\n",
      "-Having interviews in an accessible location\n",
      "-Being accompanied by a service dog\n",
      "-Having a sign language interpreter present for the interview\n",
      "\n",
      "A request for an accommodation will be responded to within three business days. However, non-disability related requests, such as following up on an application, will not receive a response.\n",
      "\n",
      "LinkedIn will not discharge or in any other manner discriminate against employees or applicants because they have inquired about, discussed, or disclosed their own pay or the pay of another employee or applicant. However, employees who have access to the compensation information of other employees or applicants as a part of their essential job functions cannot disclose the pay of other employees or applicants to individuals who do not otherwise have access to compensation information, unless the disclosure is (a) in response to a formal complaint or charge, (b) in furtherance of an investigation, proceeding, hearing, or action, including an investigation conducted by LinkedIn, or (c) consistent with LinkedIn's legal duty to furnish information.\n",
      "\n",
      "Pay Transparency Policy Statement\n",
      "As a federal contractor, LinkedIn follows the Pay Transparency and non-discrimination provisions described at this link: https://lnkd.in/paytransparency.\n",
      "\n",
      "Global Data Privacy Notice for Job Candidates\n",
      "This document provides transparency around the way in which LinkedIn handles personal data of employees and job applicants: https://lnkd.in/GlobalDataPrivacyNotice\n"
     ]
    }
   ],
   "source": [
    "job_decription = docx2txt.process(r'dataset/JD1.docx')\n",
    "\n",
    "# print JD\n",
    "print(job_decription)\n"
   ]
  },
  {
   "cell_type": "code",
   "execution_count": 40,
   "metadata": {},
   "outputs": [],
   "source": [
    "# list of text\n",
    "text = [resume, job_decription]"
   ]
  },
  {
   "cell_type": "code",
   "execution_count": 41,
   "metadata": {
    "scrolled": true
   },
   "outputs": [
    {
     "name": "stdout",
     "output_type": "stream",
     "text": [
      "  (0, 339)\t1\n",
      "  (0, 344)\t1\n",
      "  (0, 400)\t1\n",
      "  (0, 402)\t1\n",
      "  (0, 268)\t1\n",
      "  (0, 121)\t3\n",
      "  (0, 20)\t1\n",
      "  (0, 17)\t1\n",
      "  (0, 360)\t1\n",
      "  (0, 306)\t9\n",
      "  (0, 340)\t1\n",
      "  (0, 264)\t1\n",
      "  (0, 401)\t1\n",
      "  (0, 575)\t1\n",
      "  (0, 541)\t1\n",
      "  (0, 462)\t1\n",
      "  (0, 597)\t19\n",
      "  (0, 615)\t1\n",
      "  (0, 403)\t2\n",
      "  (0, 551)\t3\n",
      "  (0, 53)\t30\n",
      "  (0, 21)\t1\n",
      "  (0, 30)\t1\n",
      "  (0, 478)\t1\n",
      "  (0, 274)\t2\n",
      "  :\t:\n",
      "  (1, 136)\t1\n",
      "  (1, 140)\t1\n",
      "  (1, 353)\t1\n",
      "  (1, 201)\t1\n",
      "  (1, 259)\t1\n",
      "  (1, 603)\t3\n",
      "  (1, 460)\t1\n",
      "  (1, 236)\t1\n",
      "  (1, 141)\t1\n",
      "  (1, 244)\t1\n",
      "  (1, 185)\t1\n",
      "  (1, 488)\t1\n",
      "  (1, 359)\t1\n",
      "  (1, 447)\t1\n",
      "  (1, 266)\t1\n",
      "  (1, 471)\t1\n",
      "  (1, 412)\t1\n",
      "  (1, 100)\t1\n",
      "  (1, 190)\t1\n",
      "  (1, 487)\t1\n",
      "  (1, 68)\t1\n",
      "  (1, 629)\t1\n",
      "  (1, 277)\t1\n",
      "  (1, 452)\t1\n",
      "  (1, 267)\t1\n"
     ]
    }
   ],
   "source": [
    "# CounterVectorizer\n",
    "from sklearn.feature_extraction.text import CountVectorizer\n",
    "cv = CountVectorizer()\n",
    "count_matrix = cv.fit_transform(text)\n",
    "\n",
    "# print count_matrix\n",
    "print(count_matrix)"
   ]
  },
  {
   "cell_type": "code",
   "execution_count": 42,
   "metadata": {},
   "outputs": [
    {
     "name": "stdout",
     "output_type": "stream",
     "text": [
      "[[1.         0.62322557]\n",
      " [0.62322557 1.        ]]\n"
     ]
    }
   ],
   "source": [
    "from sklearn.metrics.pairwise import cosine_similarity\n",
    "\n",
    "# print similarity score\n",
    "similarity_score = cosine_similarity(count_matrix)\n",
    "print(similarity_score)"
   ]
  },
  {
   "cell_type": "code",
   "execution_count": 43,
   "metadata": {},
   "outputs": [
    {
     "name": "stdout",
     "output_type": "stream",
     "text": [
      "Your reseme maches about 62.32% of the Job Description.\n"
     ]
    }
   ],
   "source": [
    "# get the match percent.\n",
    "match_percent = round(similarity_score[1][0]*100,2)\n",
    "print(f\"Your reseme maches about {match_percent}% of the Job Description.\")"
   ]
  },
  {
   "cell_type": "markdown",
   "metadata": {},
   "source": [
    "# Skills Extractor"
   ]
  },
  {
   "cell_type": "code",
   "execution_count": null,
   "metadata": {},
   "outputs": [],
   "source": [
    "# https://www.youtube.com/watch?v=8fVEMdHKmqM\n",
    "# https://github.com/OmkarPathak/pyresparser\n",
    "\n",
    "# !pip install python-docx\n",
    "# !pip install docx\n",
    "# !pip install pyresparser"
   ]
  },
  {
   "cell_type": "code",
   "execution_count": null,
   "metadata": {},
   "outputs": [],
   "source": [
    "# https://github.com/topics/pyresparser\n",
    "# https://github.com/p-sachin/Resume_Screening_Project\n",
    "# https://github.com/DhavalThkkar/Resume_Parser\n",
    "# https://github.com/Akash1070/AI-Resume-Analyser-With-NLP\n",
    "# https://github.com/OmkarPathak/pyresparser\n",
    "# https://omkarpathak.in/pyresparser/\n",
    "# https://snyk.io/advisor/python/pyresparser\n",
    "\n",
    "# https://stackoverflow.com/questions/54334304/spacy-cant-find-model-en-core-web-sm-on-windows-10-and-python-3-5-3-anacon\n",
    "# https://github.com/explosion/spaCy/issues/4577"
   ]
  },
  {
   "cell_type": "code",
   "execution_count": 46,
   "metadata": {},
   "outputs": [
    {
     "name": "stderr",
     "output_type": "stream",
     "text": [
      "c:\\users\\munge\\appdata\\local\\programs\\python\\python36\\lib\\site-packages\\pdfminer\\pdfdocument.py:22: CryptographyDeprecationWarning: Python 3.6 is no longer supported by the Python core team. Therefore, support for it is deprecated in cryptography and will be removed in a future release.\n",
      "  from cryptography.hazmat.backends import default_backend\n"
     ]
    },
    {
     "data": {
      "text/plain": [
       "<spacy.lang.en.English at 0x24e09469ef0>"
      ]
     },
     "execution_count": 46,
     "metadata": {},
     "output_type": "execute_result"
    }
   ],
   "source": [
    "# lib's\n",
    "\n",
    "import os\n",
    "from pyresparser import ResumeParser\n",
    "from docx import Document\n",
    "\n",
    "import spacy\n",
    "spacy.load(\"en_core_web_sm\")\n",
    "# spacy.load(\"en_core_web_lg\")"
   ]
  },
  {
   "cell_type": "code",
   "execution_count": 47,
   "metadata": {},
   "outputs": [],
   "source": [
    "# # spaCy\n",
    "# !python -m spacy download en_core_web_sm\n",
    "# !python -m spacy download en_core_web_lg\n",
    "\n",
    "# # nltk\n",
    "# !python -m nltk.downloader words\n",
    "# !python -m nltk.downloader stopwords"
   ]
  },
  {
   "cell_type": "code",
   "execution_count": 48,
   "metadata": {},
   "outputs": [],
   "source": [
    "# file format should be in .txt\n",
    "# filed = input()\n",
    "filed = r\"dataset\\kiran resume.docx\""
   ]
  },
  {
   "cell_type": "code",
   "execution_count": 49,
   "metadata": {},
   "outputs": [
    {
     "data": {
      "text/plain": [
       "{'name': 'KIRAN KRUSHNAKANT MUNGEKAR mungekarkiran05@gmail.com',\n",
       " 'email': 'mungekarkiran05@gmail.com',\n",
       " 'mobile_number': '8108412112',\n",
       " 'skills': ['Research',\n",
       "  'Html',\n",
       "  'Postgresql',\n",
       "  'C',\n",
       "  'Time management',\n",
       "  'Api',\n",
       "  'Css',\n",
       "  'Jupyter',\n",
       "  'Mobile',\n",
       "  'Visual',\n",
       "  'Beautifulsoup',\n",
       "  'Machine learning',\n",
       "  'Flask',\n",
       "  'Ai',\n",
       "  'Analysis',\n",
       "  'Prototype',\n",
       "  'Sales',\n",
       "  'Database',\n",
       "  'Django',\n",
       "  'Rest',\n",
       "  'Statistical analysis',\n",
       "  'Html5',\n",
       "  'Selenium',\n",
       "  'Presentation',\n",
       "  'System',\n",
       "  'Nosql',\n",
       "  'Design',\n",
       "  'Java',\n",
       "  'Ms excel',\n",
       "  'Python',\n",
       "  'Mysql',\n",
       "  'Excel',\n",
       "  'Engineering'],\n",
       " 'college_name': None,\n",
       " 'degree': ['Bachelor of Engineering',\n",
       "  'M.E.)',\n",
       "  'B.E.)',\n",
       "  'Master of Engineering'],\n",
       " 'designation': ['Data Analyst'],\n",
       " 'experience': None,\n",
       " 'company_names': ['Smart Car'],\n",
       " 'no_of_pages': None,\n",
       " 'total_experience': 0}"
      ]
     },
     "execution_count": 49,
     "metadata": {},
     "output_type": "execute_result"
    }
   ],
   "source": [
    "data = ResumeParser(filed).get_extracted_data()\n",
    "# print(data)\n",
    "data"
   ]
  },
  {
   "cell_type": "code",
   "execution_count": 50,
   "metadata": {},
   "outputs": [
    {
     "name": "stdout",
     "output_type": "stream",
     "text": [
      "{'name': 'KIRAN KRUSHNAKANT MUNGEKAR mungekarkiran05@gmail.com', 'email': 'mungekarkiran05@gmail.com', 'mobile_number': '8108412112', 'skills': ['Research', 'Html', 'Postgresql', 'C', 'Time management', 'Api', 'Css', 'Jupyter', 'Mobile', 'Visual', 'Beautifulsoup', 'Machine learning', 'Flask', 'Ai', 'Analysis', 'Prototype', 'Sales', 'Database', 'Django', 'Rest', 'Statistical analysis', 'Html5', 'Selenium', 'Presentation', 'System', 'Nosql', 'Design', 'Java', 'Ms excel', 'Python', 'Mysql', 'Excel', 'Engineering'], 'college_name': None, 'degree': ['Bachelor of Engineering', 'M.E.)', 'B.E.)', 'Master of Engineering'], 'designation': ['Data Analyst'], 'experience': None, 'company_names': ['Smart Car'], 'no_of_pages': None, 'total_experience': 0}\n"
     ]
    }
   ],
   "source": [
    "try:\n",
    "    doc = Document()\n",
    "    with open(filed, 'r') as file:\n",
    "        doc.add_paragraph(file.read())\n",
    "        doc.save(\"text.docx\")\n",
    "        data = ResumeParser(\"text.docx\").get_extracted_data()\n",
    "        print(data)\n",
    "except:\n",
    "    data = ResumeParser(filed).get_extracted_data()\n",
    "    print(data)"
   ]
  },
  {
   "cell_type": "code",
   "execution_count": null,
   "metadata": {},
   "outputs": [],
   "source": [
    "# from pyresparser import ResumeParser\n",
    "# data = ResumeParser(r\"dataset\\kiran resume.docx\", skills_file=r\"dataset\\skills.csv\").get_extracted_data()\n",
    "# data"
   ]
  },
  {
   "cell_type": "code",
   "execution_count": null,
   "metadata": {},
   "outputs": [],
   "source": []
  },
  {
   "cell_type": "code",
   "execution_count": null,
   "metadata": {},
   "outputs": [],
   "source": [
    "# https://www.youtube.com/watch?v=hqu5EYMLCUw"
   ]
  },
  {
   "cell_type": "code",
   "execution_count": null,
   "metadata": {},
   "outputs": [],
   "source": []
  },
  {
   "cell_type": "markdown",
   "metadata": {},
   "source": [
    "# Calculating Text Similarity in Python with NLP"
   ]
  },
  {
   "cell_type": "code",
   "execution_count": null,
   "metadata": {},
   "outputs": [],
   "source": [
    "# !python -m spacy download en_core_web_lg\n",
    "# !python -m spacy download en_core_web_md"
   ]
  },
  {
   "cell_type": "code",
   "execution_count": 1,
   "metadata": {},
   "outputs": [],
   "source": [
    "import spacy"
   ]
  },
  {
   "cell_type": "code",
   "execution_count": 2,
   "metadata": {},
   "outputs": [],
   "source": [
    "nlp = spacy.load(\"en_core_web_lg\")"
   ]
  },
  {
   "cell_type": "code",
   "execution_count": 3,
   "metadata": {},
   "outputs": [
    {
     "data": {
      "text/plain": [
       "(<spacy.lexeme.Lexeme at 0x14a338b01f8>,\n",
       " <spacy.lexeme.Lexeme at 0x14a1b82e0d8>)"
      ]
     },
     "execution_count": 3,
     "metadata": {},
     "output_type": "execute_result"
    }
   ],
   "source": [
    "w1 = 'red'\n",
    "w2 = 'blue'\n",
    "\n",
    "w1 = nlp.vocab[w1]\n",
    "w2 = nlp.vocab[w2]\n",
    "\n",
    "w1, w2"
   ]
  },
  {
   "cell_type": "code",
   "execution_count": 4,
   "metadata": {},
   "outputs": [
    {
     "data": {
      "text/plain": [
       "0.8438412"
      ]
     },
     "execution_count": 4,
     "metadata": {},
     "output_type": "execute_result"
    }
   ],
   "source": [
    "w1.similarity(w2)"
   ]
  },
  {
   "cell_type": "code",
   "execution_count": null,
   "metadata": {},
   "outputs": [],
   "source": []
  },
  {
   "cell_type": "code",
   "execution_count": 5,
   "metadata": {},
   "outputs": [],
   "source": [
    "s1 = nlp(\"I believe in the god of the Bible\")\n",
    "s2 = nlp(\"I trust in a higher power of chrisrianity\")\n",
    "s3 = nlp(\"This weekend John will drink a beer\")"
   ]
  },
  {
   "cell_type": "code",
   "execution_count": 6,
   "metadata": {},
   "outputs": [
    {
     "data": {
      "text/plain": [
       "0.8469442263923321"
      ]
     },
     "execution_count": 6,
     "metadata": {},
     "output_type": "execute_result"
    }
   ],
   "source": [
    "s1.similarity(s2)"
   ]
  },
  {
   "cell_type": "code",
   "execution_count": 7,
   "metadata": {},
   "outputs": [
    {
     "data": {
      "text/plain": [
       "0.7182935290755542"
      ]
     },
     "execution_count": 7,
     "metadata": {},
     "output_type": "execute_result"
    }
   ],
   "source": [
    "s1.similarity(s3)"
   ]
  },
  {
   "cell_type": "code",
   "execution_count": 8,
   "metadata": {},
   "outputs": [
    {
     "data": {
      "text/plain": [
       "0.692211795614116"
      ]
     },
     "execution_count": 8,
     "metadata": {},
     "output_type": "execute_result"
    }
   ],
   "source": [
    "s2.similarity(s3)"
   ]
  },
  {
   "cell_type": "code",
   "execution_count": 13,
   "metadata": {},
   "outputs": [],
   "source": [
    "s1 = nlp(\"Machine learning brings out the power of data in new ways, such as Facebook suggesting articles in your feed.\")\n",
    "s2 = nlp(\"This guide explains what machine learning is, how it is related to artificial intelligence, how it works and why it matters.\")\n",
    "s3 = nlp(\"Web development is the work involved in developing a website for the Internet (World Wide Web) or an intranet (a private network).\")"
   ]
  },
  {
   "cell_type": "code",
   "execution_count": 14,
   "metadata": {},
   "outputs": [
    {
     "data": {
      "text/plain": [
       "''"
      ]
     },
     "execution_count": 14,
     "metadata": {},
     "output_type": "execute_result"
    }
   ],
   "source": [
    "s1_verbs = \"\".join([token.lemma_ for token in s1 if token.pos == 'VERB'])\n",
    "s1_verbs"
   ]
  },
  {
   "cell_type": "code",
   "execution_count": 15,
   "metadata": {},
   "outputs": [],
   "source": [
    "s1_verbs = \"\".join([token.lemma_ for token in s1 if token.pos == 'VERB'])\n",
    "s1_adjs = \"\".join([token.lemma_ for token in s1 if token.pos == 'ADJ'])\n",
    "s1_nouns = \"\".join([token.lemma_ for token in s1 if token.pos == 'NOUN'])\n",
    "\n",
    "s2_verbs = \"\".join([token.lemma_ for token in s2 if token.pos == 'VERB'])\n",
    "s2_adjs = \"\".join([token.lemma_ for token in s2 if token.pos == 'ADJ'])\n",
    "s2_nouns = \"\".join([token.lemma_ for token in s2 if token.pos == 'NOUN'])\n",
    "\n",
    "s3_verbs = \"\".join([token.lemma_ for token in s3 if token.pos == 'VERB'])\n",
    "s3_adjs = \"\".join([token.lemma_ for token in s3 if token.pos == 'ADJ'])\n",
    "s3_nouns = \"\".join([token.lemma_ for token in s3 if token.pos == 'NOUN'])\n"
   ]
  },
  {
   "cell_type": "code",
   "execution_count": 16,
   "metadata": {},
   "outputs": [
    {
     "data": {
      "text/plain": [
       "(1.0, 1.0, 1.0)"
      ]
     },
     "execution_count": 16,
     "metadata": {},
     "output_type": "execute_result"
    }
   ],
   "source": [
    "nlp(s1_verbs).similarity(nlp(s2_verbs)), nlp(s1_verbs).similarity(nlp(s2_verbs)), nlp(s2_verbs).similarity(nlp(s3_verbs))"
   ]
  },
  {
   "cell_type": "code",
   "execution_count": 17,
   "metadata": {},
   "outputs": [
    {
     "data": {
      "text/plain": [
       "(1.0, 1.0, 1.0)"
      ]
     },
     "execution_count": 17,
     "metadata": {},
     "output_type": "execute_result"
    }
   ],
   "source": [
    "nlp(s1_adjs).similarity(nlp(s2_adjs)), nlp(s1_adjs).similarity(nlp(s2_adjs)), nlp(s2_adjs).similarity(nlp(s3_adjs))"
   ]
  },
  {
   "cell_type": "code",
   "execution_count": 18,
   "metadata": {},
   "outputs": [
    {
     "data": {
      "text/plain": [
       "(1.0, 1.0, 1.0)"
      ]
     },
     "execution_count": 18,
     "metadata": {},
     "output_type": "execute_result"
    }
   ],
   "source": [
    "nlp(s1_nouns).similarity(nlp(s2_nouns)), nlp(s1_nouns).similarity(nlp(s2_nouns)), nlp(s2_nouns).similarity(nlp(s3_nouns))"
   ]
  },
  {
   "cell_type": "code",
   "execution_count": null,
   "metadata": {},
   "outputs": [],
   "source": []
  },
  {
   "cell_type": "markdown",
   "metadata": {},
   "source": [
    "# Word Cloud"
   ]
  },
  {
   "cell_type": "code",
   "execution_count": 16,
   "metadata": {},
   "outputs": [],
   "source": [
    "# !pip install wikipedia\n",
    "# !pip install wordcloud"
   ]
  },
  {
   "cell_type": "code",
   "execution_count": 17,
   "metadata": {},
   "outputs": [],
   "source": [
    "import numpy as np\n",
    "import sys\n",
    "\n",
    "import wikipedia\n",
    "from wordcloud import WordCloud, STOPWORDS\n",
    "from PIL import Image"
   ]
  },
  {
   "cell_type": "code",
   "execution_count": 18,
   "metadata": {},
   "outputs": [
    {
     "data": {
      "text/plain": [
       "['Data analysis',\n",
       " 'Analyst',\n",
       " 'Business analyst',\n",
       " 'Data exploration',\n",
       " 'Data wrangling',\n",
       " 'Financial analyst',\n",
       " 'Steve Kornacki',\n",
       " 'Corporate Finance Institute',\n",
       " 'Big data',\n",
       " 'Lily Serna']"
      ]
     },
     "execution_count": 18,
     "metadata": {},
     "output_type": "execute_result"
    }
   ],
   "source": [
    "title = \"Data Analyst\"\n",
    "keywords = wikipedia.search(title)\n",
    "keywords"
   ]
  },
  {
   "cell_type": "code",
   "execution_count": 19,
   "metadata": {},
   "outputs": [
    {
     "data": {
      "text/plain": [
       "<WikipediaPage 'Data analysis'>"
      ]
     },
     "execution_count": 19,
     "metadata": {},
     "output_type": "execute_result"
    }
   ],
   "source": [
    "page = wikipedia.page(keywords[0])\n",
    "page"
   ]
  },
  {
   "cell_type": "code",
   "execution_count": 20,
   "metadata": {
    "scrolled": true
   },
   "outputs": [
    {
     "data": {
      "text/plain": [
       "'Data analysis  is a process of inspecting, cleansing, transforming, and modeling data with the goal of discovering useful information, informing conclusions, and supporting decision-making. Data analysis has multiple facets and approaches, encompassing diverse techniques under a variety of names, and is used in different business, science, and social science domains. In today\\'s business world, data analysis plays a role in making decisions more scientific and helping businesses operate more effectively.Data mining is a particular data analysis technique that focuses on statistical modeling and knowledge discovery for predictive rather than purely descriptive purposes, while business intelligence covers data analysis that relies heavily on aggregation, focusing mainly on business information. In statistical applications, data analysis can be divided into descriptive statistics, exploratory data analysis (EDA), and confirmatory data analysis (CDA). EDA focuses on discovering new features in the data while CDA focuses on confirming or falsifying existing hypotheses. Predictive analytics focuses on the application of statistical models for predictive forecasting or classification, while text analytics applies statistical, linguistic, and structural techniques to extract and classify information from textual sources, a species of unstructured data. All of the above are varieties of data analysis.Data integration is a precursor to data analysis, and data analysis is closely linked to data visualization and data dissemination.\\n\\n\\n== The process of data analysis ==\\n\\nAnalysis, refers to dividing a whole into its separate components for individual examination. Data analysis, is a process for obtaining raw data, and subsequently converting it into information useful for decision-making by users. Data, is collected and analyzed to answer questions, test hypotheses, or disprove theories.\\nStatistician John Tukey, defined data analysis in 1961, as:\"Procedures for analyzing data, techniques for interpreting the results of such procedures, ways of planning the gathering of data to make its analysis easier, more precise or more accurate, and all the machinery and results of (mathematical) statistics which apply to analyzing data.\"There are several phases that can be distinguished, described below. The phases are iterative, in that feedback from later phases may result in additional work in earlier phases. The CRISP framework, used in data mining, has similar steps.\\n\\n\\n=== Data requirements ===\\nThe data is necessary as inputs to the analysis, which is specified based upon the requirements of those directing the analytics (or customers, who will use the finished product of the analysis). The general type of entity upon which the data will be collected is referred to as an experimental unit (e.g., a person or population of people). Specific variables regarding a population (e.g., age and income) may be specified and obtained.  Data may be numerical or categorical (i.e., a text label for numbers).\\n\\n\\n=== Data collection ===\\nData is collected from a variety of sources. The requirements may be communicated by analysts to custodians of the data; such as, Information Technology personnel within an organization. The data may also be collected from sensors in the environment, including traffic cameras, satellites, recording devices, etc. It may also be obtained through interviews, downloads from online sources, or reading documentation.\\n\\n\\n=== Data processing ===\\n\\nData, when initially obtained, must be processed or organized for analysis. For instance, these may involve placing data into rows and columns in a table format (known as structured data) for further analysis, often through the use of spreadsheet or statistical software.\\n\\n\\n=== Data cleaning ===\\n\\nOnce processed and organized, the data may be incomplete, contain duplicates, or contain errors. The need for data cleaning will arise from problems in the way that the datum are entered and stored. Data cleaning is the process of preventing and correcting these errors. Common tasks include record matching, identifying inaccuracy of data, overall quality of existing data, deduplication, and column segmentation. Such data problems can also be identified through a variety of analytical techniques. For example; with financial information, the totals for particular variables may be compared against separately published numbers that are believed to be reliable. Unusual amounts, above or below predetermined thresholds, may also be reviewed.  There are several types of data cleaning, that are dependent upon the type of data in the set; this could be phone numbers, email addresses, employers, or other values. Quantitative data methods for outlier detection, can be used to get rid of data that appears to have a higher likelihood of being input incorrectly. Textual data spell checkers can be used to lessen the amount of mis-typed words. However, it is harder to tell if the words themselves are correct.\\n\\n\\n=== Exploratory data analysis ===\\nOnce the datasets are cleaned, they can then be analyzed. Analysts may apply a variety of techniques, referred to as exploratory data analysis, to begin understanding the messages contained within the obtained data. The process of data exploration may result in additional data cleaning or additional requests for data; thus, the initialization of the iterative phases mentioned in the lead paragraph of this section. Descriptive statistics, such as, the average or median, can be generated to aid in understanding the data. Data visualization is also a technique used, in which the analyst is able to examine the data in a graphical format in order to obtain additional insights, regarding the messages within the data.\\n\\n\\n=== Modeling and algorithms ===\\nMathematical formulas or models (also known as algorithms), may be applied to the data in order to identify relationships among the variables; for example, using correlation or causation. In general terms, models may be developed to evaluate a specific variable based on other variable(s) contained within the dataset, with some residual error depending on the implemented model\\'s accuracy (e.g., Data = Model + Error).Inferential statistics, includes utilizing techniques that measure the relationships between particular variables. For example, regression analysis may be used to model whether a change in advertising (independent variable X), provides an explanation for the variation in sales (dependent variable Y). In mathematical terms, Y (sales) is a function of X (advertising). It may be described as (Y = aX + b + error), where the model is designed such that (a) and (b) minimize the error when the model predicts Y for a given range of values of X. Analysts may also attempt to build models that are descriptive of the data, in an aim to simplify analysis and communicate results.\\n\\n\\n=== Data product ===\\nA data product is a computer application that takes data inputs and generates outputs, feeding them back into the environment. It may be based on a model or algorithm. For instance, an application that analyzes data about customer purchase history, and uses the results to recommend other purchases the customer might enjoy.\\n\\n\\n=== Communication ===\\n\\nOnce data is analyzed, it may be reported in many formats to the users of the analysis to support their requirements. The users may have feedback, which results in additional analysis. As such, much of the analytical cycle is iterative.When determining how to communicate the results, the analyst may consider implementing a variety of data visualization techniques to help communicate the message more clearly and efficiently to the audience. Data visualization uses information displays (graphics such as, tables and charts) to help communicate key messages contained in the data. Tables are a valuable tool by enabling the ability of a user to query and focus on specific numbers; while charts (e.g., bar charts or line charts), may help explain the quantitative messages contained in the data.\\n\\n\\n== Quantitative messages ==\\n\\nStephen Few described eight types of quantitative messages that users may attempt to understand or communicate from a set of data and the associated graphs used to help communicate the message. Customers specifying requirements and analysts performing the data analysis may consider these messages during the course of the process.\\nTime-series: A single variable is captured over a period of time, such as the unemployment rate over a 10-year period. A line chart may be used to demonstrate the trend.\\nRanking: Categorical subdivisions are ranked in ascending or descending order, such as a ranking of sales performance (the measure) by salespersons (the category, with each salesperson a categorical subdivision) during a single period.  A bar chart may be used to show the comparison across the salespersons.\\nPart-to-whole: Categorical subdivisions are measured as a ratio to the whole (i.e., a percentage out of 100%).  A pie chart or bar chart can show the comparison of ratios, such as the market share represented by competitors in a market.\\nDeviation: Categorical subdivisions are compared against a reference, such as a comparison of actual vs. budget expenses for several departments of a business for a given time period.  A bar chart can show the comparison of the actual versus the reference amount.\\nFrequency distribution: Shows the number of observations of a particular variable for a given interval, such as the number of years in which the stock market return is between intervals such as 0–10%, 11–20%, etc. A histogram, a type of bar chart, may be used for this analysis.\\nCorrelation: Comparison between observations represented by two variables (X,Y) to determine if they tend to move in the same or opposite directions. For example, plotting unemployment (X) and inflation (Y) for a sample of months. A scatter plot is typically used for this message.\\nNominal comparison: Comparing categorical subdivisions in no particular order, such as the sales volume by product code. A bar chart may be used for this comparison.\\nGeographic or geospatial: Comparison of a variable across a map or layout, such as the unemployment rate by state or the number of persons on the various floors of a building. A cartogram is a typical graphic used.\\n\\n\\n== Techniques for analyzing quantitative data ==\\n\\nAuthor Jonathan Koomey has recommended a series of best practices for understanding quantitative data.  These include:\\n\\nCheck raw data for anomalies prior to performing an analysis;\\nRe-perform important calculations, such as verifying columns of data that are formula driven;\\nConfirm main totals are the sum of subtotals;\\nCheck relationships between numbers that should be related in a predictable way, such as ratios over time;\\nNormalize numbers to make comparisons easier, such as analyzing amounts per person or relative to GDP or as an index value relative to a base year;\\nBreak problems into component parts by analyzing factors that led to the results, such as DuPont analysis of return on equity.For the variables under examination, analysts typically obtain descriptive statistics for them, such as the mean (average), median, and standard deviation. They may also analyze the distribution of the key variables to see how the individual values cluster around the mean.\\n The consultants at McKinsey and Company named a technique for breaking a quantitative problem down into its component parts called the MECE principle. Each layer can be broken down into its components; each of the sub-components must be mutually exclusive of each other and collectively add up to the layer above them. The relationship is referred to as \"Mutually Exclusive and Collectively Exhaustive\" or MECE.  For example, profit by definition can be broken down into total revenue and total cost. In turn, total revenue can be analyzed by its components, such as the revenue of divisions A, B, and C (which are mutually exclusive of each other) and should add to the total revenue (collectively exhaustive).Analysts may use robust statistical measurements to solve certain analytical problems. Hypothesis testing is used when a particular hypothesis about the true state of affairs is made by the analyst and data is gathered to determine whether that state of affairs is true or false. For example, the hypothesis might be that \"Unemployment has no effect on inflation\", which relates to an economics concept called the Phillips Curve. Hypothesis testing involves considering the likelihood of Type I and type II errors, which relate to whether the data supports accepting or rejecting the hypothesis.Regression analysis may be used when the analyst is trying to determine the extent to which independent variable X affects dependent variable Y (e.g., \"To what extent do changes in the unemployment rate (X) affect the inflation rate (Y)?\"). This is an attempt to model or fit an equation line or curve to the data, such that Y is a function of X.Necessary condition analysis (NCA) may be used when the analyst is trying to determine the extent to which independent variable X allows variable Y (e.g., \"To what extent is a certain unemployment rate (X) necessary for a certain inflation rate (Y)?\"). Whereas (multiple) regression analysis uses additive logic where each X-variable can produce the outcome and the X\\'s can compensate for each other (they are sufficient but not necessary), necessary condition analysis (NCA) uses necessity logic, where one or more X-variables allow the outcome to exist, but may not produce it (they are necessary but not sufficient). Each single necessary condition must be present and compensation is not possible.\\n\\n\\n== Analytical activities of data users ==\\nUsers may have particular data points of interest within a data set, as opposed to the general messaging outlined above. Such low-level user analytic activities are presented in the following table. The taxonomy can also be organized by three poles of activities: retrieving values, finding data points, and arranging data points.\\n\\n\\n== Barriers to effective analysis ==\\nBarriers to effective analysis may exist among the analysts performing the data analysis or among the audience. Distinguishing fact from opinion, cognitive biases, and innumeracy are all challenges to sound data analysis.\\n\\n\\n=== Confusing fact and opinion ===\\n\\nEffective analysis requires obtaining relevant facts to answer questions, support a conclusion or formal opinion, or test hypotheses. Facts by definition are irrefutable, meaning that any person involved in the analysis should be able to agree upon them. For example, in August 2010, the Congressional Budget Office (CBO) estimated that extending the Bush tax cuts of 2001 and 2003 for the 2011–2020 time period would add approximately $3.3 trillion to the national debt. Everyone should be able to agree that indeed this is what CBO reported; they can all examine the report. This makes it a fact. Whether persons agree or disagree with the CBO is their own opinion.As another example, the auditor of a public company must arrive at a formal opinion on whether financial statements of publicly traded corporations are \"fairly stated, in all material respects\". This requires extensive analysis of factual data and evidence to support their opinion. When making the leap from facts to opinions, there is always the possibility that the opinion is erroneous.\\n\\n\\n=== Cognitive biases ===\\nThere are a variety of cognitive biases that can adversely affect analysis. For example, confirmation bias is the tendency to search for or interpret information in a way that confirms one\\'s preconceptions. In addition, individuals may discredit information that does not support their views.Analysts may be trained specifically to be aware of these biases and how to overcome them. In his book Psychology of Intelligence Analysis, retired CIA analyst Richards Heuer wrote that analysts should clearly delineate their assumptions and chains of inference and specify the degree and source of the uncertainty involved in the conclusions. He emphasized procedures to help surface and debate alternative points of view.\\n\\n\\n=== Innumeracy ===\\nEffective analysts are generally adept with a variety of numerical techniques. However, audiences may not have such literacy with numbers or numeracy; they are said to be innumerate.  Persons communicating the data may also be attempting to mislead or misinform, deliberately using bad numerical techniques.For example, whether a number is rising or falling may not be the key factor. More important may be the number relative to another number, such as the size of government revenue or spending relative to the size of the economy (GDP) or the amount of cost relative to revenue in corporate financial statements. This numerical technique is referred to as normalization or common-sizing. There are many such techniques employed by analysts, whether adjusting for inflation (i.e., comparing real vs. nominal data) or considering population increases, demographics, etc. Analysts apply a variety of techniques to address the various quantitative messages described in the section above.Analysts may also analyze data under different assumptions or scenario. For example, when analysts perform financial statement analysis, they will often recast the financial statements under different assumptions to help arrive at an estimate of future cash flow, which they then discount to present value based on some interest rate, to determine the valuation of the company or its stock.  Similarly, the CBO analyzes the effects of various policy options on the government\\'s revenue, outlays and deficits, creating alternative future scenarios for key measures.\\n\\n\\n== Other topics ==\\n\\n\\n=== Smart buildings ===\\nA data analytics approach can be used in order to predict energy consumption in buildings. The different steps of the data analysis process are carried out in order to realise smart buildings, where the building management and control operations including heating, ventilation, air conditioning, lighting and security are realised automatically by miming the needs of the building users and optimising resources like energy and time.\\n\\n\\n=== Analytics and business intelligence ===\\n\\nAnalytics is the \"extensive use of data, statistical and quantitative analysis, explanatory and predictive models, and fact-based management to drive decisions and actions.\" It is a subset of business intelligence, which is a set of technologies and processes that uses data to understand and analyze business performance to drive decision-making .\\n\\n\\n=== Education ===\\n\\nIn education, most educators have access to a data system for the purpose of analyzing student data. These data systems present data to educators in an over-the-counter data format (embedding labels, supplemental documentation, and a help system and making key package/display and content decisions) to improve the accuracy of educators’ data analyses.\\n\\n\\n== Practitioner notes ==\\nThis section contains rather technical explanations that may assist practitioners but are beyond the typical scope of a Wikipedia article.\\n\\n\\n=== Initial data analysis ===\\nThe most important distinction between the initial data analysis phase and the main analysis phase, is that during initial data analysis one refrains from any analysis that is aimed at answering the original research question. The initial data analysis phase is guided by the following four questions:\\n\\n\\n==== Quality of data ====\\nThe quality of the data should be checked as early as possible. Data quality can be assessed in several ways, using different types of analysis: frequency counts, descriptive statistics (mean, standard deviation, median), normality (skewness, kurtosis, frequency histograms), normal imputation is needed.\\nAnalysis of extreme observations: outlying observations in the data are analyzed to see if they seem to disturb the distribution.\\nComparison and correction of differences in coding schemes: variables are compared with coding schemes of variables external to the data set, and possibly corrected if coding schemes are not comparable.\\nTest for common-method variance.The choice of analyses to assess the data quality during the initial data analysis phase depends on the analyses that will be conducted in the main analysis phase.\\n\\n\\n==== Quality of measurements ====\\nThe quality of the measurement instruments should only be checked during the initial data analysis phase when this is not the focus or research question of the study. One should check whether structure of measurement instruments corresponds to structure reported in the literature.\\nThere are two ways to assess measurement quality:\\n\\nConfirmatory factor analysis\\nAnalysis of homogeneity (internal consistency), which gives an indication of the reliability of a measurement instrument. During this analysis, one inspects the variances of the items and the scales, the Cronbach\\'s α of the scales, and the change in the Cronbach\\'s alpha when an item would be deleted from a scale\\n\\n\\n==== Initial transformations ====\\nAfter assessing the quality of the data and of the measurements, one might decide to impute missing data, or to perform initial transformations of one or more variables, although this can also be done during the main analysis phase.\\nPossible transformations of variables are:\\nSquare root transformation (if the distribution differs moderately from normal)\\nLog-transformation (if the distribution differs substantially from normal)\\nInverse transformation (if the distribution differs severely from normal)\\nMake categorical (ordinal / dichotomous) (if the distribution differs severely from normal, and no transformations help)\\n\\n\\n==== Did the implementation of the study fulfill the intentions of the research design? ====\\nOne should check the success of the randomization procedure, for instance by checking whether background and substantive variables are equally distributed within and across groups. If the study did not need or use a randomization procedure, one should check the success of the non-random sampling, for instance by checking whether all subgroups of the population of interest are represented in sample.Other possible data distortions that should be checked are:\\n\\ndropout (this should be identified during the initial data analysis phase)\\nItem non-response (whether this is random or not should be assessed during the initial data analysis phase)\\nTreatment quality (using manipulation checks).\\n\\n\\n==== Characteristics of data sample ====\\nIn any report or article, the structure of the sample must be accurately described. It is especially important to exactly determine the structure of the sample (and specifically the size of the subgroups) when subgroup analyses will be performed during the main analysis phase.The characteristics of the data sample can be assessed by looking at:\\n\\nBasic statistics of important variables\\nScatter plots\\nCorrelations and associations\\nCross-tabulations\\n\\n\\n==== Final stage of the initial data analysis ====\\nDuring the final stage, the findings of the initial data analysis are documented, and necessary, preferable, and possible corrective actions are taken.Also, the original plan for the main data analyses can and should be specified in more detail or rewritten. In order to do this, several decisions about the main data analyses can and should be made:\\n\\nIn the case of non-normals: should one transform variables; make variables categorical (ordinal/dichotomous); adapt the analysis method?\\nIn the case of missing data: should one neglect or impute the missing data; which imputation technique should be used?\\nIn the case of outliers: should one use robust analysis techniques?\\nIn case items do not fit the scale: should one adapt the measurement instrument by omitting items, or rather ensure comparability with other (uses of the) measurement instrument(s)?\\nIn the case of (too) small subgroups: should one drop the hypothesis about inter-group differences, or use small sample techniques, like exact tests or bootstrapping?\\nIn case the randomization procedure seems to be defective: can and should one calculate propensity scores and include them as covariates in the main analyses?\\n\\n\\n==== Analysis ====\\nSeveral analyses can be used during the initial data analysis phase:\\nUnivariate statistics (single variable)\\nBivariate associations (correlations)\\nGraphical techniques (scatter plots)It is important to take the measurement levels of the variables into account for the analyses, as special statistical techniques are available for each level:\\nNominal and ordinal variables\\nFrequency counts (numbers and percentages)\\nAssociations\\ncircumambulations (crosstabulations)\\nhierarchical loglinear analysis (restricted to a maximum of 8 variables)\\nloglinear analysis (to identify relevant/important variables and possible confounders)\\nExact tests or bootstrapping (in case subgroups are small)\\nComputation of new variables\\nContinuous variables\\nDistribution\\nStatistics (M, SD, variance, skewness, kurtosis)\\nStem-and-leaf displays\\nBox plots\\n\\n\\n==== Nonlinear analysis ====\\nNonlinear analysis is often necessary when the data is recorded from a nonlinear system. Nonlinear systems can exhibit complex dynamic effects including bifurcations, chaos, harmonics and subharmonics that cannot be analyzed using simple linear methods.  Nonlinear data analysis is closely related to nonlinear system identification.\\n\\n\\n=== Main data analysis ===\\nIn the main analysis phase, analyses aimed at answering the research question are performed as well as any other relevant analysis needed to write the first draft of the research report.\\n\\n\\n==== Exploratory and confirmatory approaches ====\\nIn the main analysis phase, either an exploratory or confirmatory approach can be adopted. Usually the approach is decided before data is collected. In an exploratory analysis no clear hypothesis is stated before analysing the data, and the data is searched for models that describe the data well. In a confirmatory analysis clear hypotheses about the data are tested.Exploratory data analysis should be interpreted carefully. When testing multiple models at once there is a high chance on finding at least one of them to be significant, but this can be due to a type 1 error. It is important to always adjust the significance level when testing multiple models with, for example, a Bonferroni correction. Also, one should not follow up an exploratory analysis with a confirmatory analysis in the same dataset. An exploratory analysis is used to find ideas for a theory, but not to test that theory as well. When a model is found exploratory in a dataset, then following up that analysis with a confirmatory analysis in the same dataset could simply mean that the results of the confirmatory analysis are due to the same type 1 error that resulted in the exploratory model in the first place. The confirmatory analysis therefore will not be more informative than the original exploratory analysis.\\n\\n\\n==== Stability of results ====\\nIt is important to obtain some indication about how generalizable the results are. While this is often difficult to check, one can look at the stability of the results. Are the results reliable and reproducible? There are two main ways of doing that.\\nCross-validation. By splitting the data into multiple parts, we can check if an analysis (like a fitted model) based on one part of the data generalizes to another part of the data as well. Cross-validation is generally inappropriate, though, if there are correlations within the data, e.g. with panel data. Hence other methods of validation sometimes need to be used. For more on this topic, see statistical model validation.\\nSensitivity analysis. A procedure to study the behavior of a system or model when global parameters are (systematically) varied. One way to do that is via bootstrapping.\\n\\n\\n== Free software for data analysis ==\\nNotable free software for data analysis include:\\n\\nDevInfo – A database system endorsed by the United Nations Development Group for monitoring and analyzing human development.\\nELKI – Data mining framework in Java with data mining oriented visualization functions.\\nKNIME – The Konstanz Information Miner, a user friendly and comprehensive data analytics framework.\\nOrange – A visual programming tool featuring interactive data visualization and methods for statistical data analysis, data mining, and machine learning.\\nPandas – Python library for data analysis.\\nPAW – FORTRAN/C data analysis framework developed at CERN.\\nR – A programming language and software environment for statistical computing and graphics.\\nROOT –  C++ data analysis framework developed at CERN.\\nSciPy – Python library for data analysis.\\nJulia - A programming language well-suited for numerical analysis and computational science.\\n\\n\\n== International data analysis contests ==\\nDifferent companies or organizations hold data analysis contests to encourage researchers to utilize their data or to solve a particular question using data analysis. A few examples of well-known international data analysis contests are as follows:\\nKaggle competition, which is held by Kaggle.\\nLTPP data analysis contest held by FHWA and ASCE.\\n\\n\\n== See also ==\\n\\n\\n== References ==\\n\\n\\n=== Citations ===\\n\\n\\n=== Bibliography ===\\nAdèr, Herman J. (2008a). \"Chapter 14: Phases and initial steps in data analysis\".  In Adèr, Herman J.; Mellenbergh, Gideon J.; Hand, David J (eds.). Advising on research methods : a consultant\\'s companion. Huizen, Netherlands: Johannes van Kessel Pub. pp. 333–356. ISBN 9789079418015. OCLC 905799857.\\nAdèr, Herman J. (2008b). \"Chapter 15: The main analysis phase\".  In Adèr, Herman J.; Mellenbergh, Gideon J.; Hand, David J (eds.). Advising on research methods : a consultant\\'s companion. Huizen, Netherlands: Johannes van Kessel Pub. pp. 357–386. ISBN 9789079418015. OCLC 905799857.\\nTabachnick, B.G. & Fidell, L.S. (2007). Chapter 4: Cleaning up your act. Screening data prior to analysis. In B.G. Tabachnick & L.S. Fidell (Eds.), Using Multivariate Statistics, Fifth Edition (pp. 60–116). Boston: Pearson Education, Inc. / Allyn and Bacon.\\n\\n\\n== Further reading ==\\n\\nAdèr, H.J. & Mellenbergh, G.J. (with contributions by D.J. Hand) (2008). Advising on Research Methods: A Consultant\\'s Companion. Huizen, the Netherlands: Johannes van Kessel Publishing.  ISBN 978-90-79418-01-5\\nChambers, John M.; Cleveland, William S.; Kleiner, Beat; Tukey, Paul A. (1983). Graphical Methods for Data Analysis, Wadsworth/Duxbury Press. ISBN 0-534-98052-X\\nFandango, Armando (2017). Python Data Analysis, 2nd Edition. Packt Publishers. ISBN 978-1787127487\\nJuran, Joseph M.; Godfrey, A. Blanton (1999). Juran\\'s Quality Handbook, 5th Edition. New York: McGraw Hill. ISBN 0-07-034003-X\\nLewis-Beck, Michael S. (1995). Data Analysis: an Introduction, Sage Publications Inc, ISBN 0-8039-5772-6\\nNIST/SEMATECH (2008) Handbook of Statistical Methods,\\nPyzdek, T, (2003). Quality Engineering Handbook, ISBN 0-8247-4614-7\\nRichard Veryard (1984). Pragmatic Data Analysis. Oxford : Blackwell Scientific Publications. ISBN 0-632-01311-7\\nTabachnick, B.G.; Fidell, L.S. (2007). Using Multivariate Statistics, 5th Edition. Boston: Pearson Education, Inc. / Allyn and Bacon, ISBN 978-0-205-45938-4'"
      ]
     },
     "execution_count": 20,
     "metadata": {},
     "output_type": "execute_result"
    }
   ],
   "source": [
    "content = page.content\n",
    "content"
   ]
  },
  {
   "cell_type": "code",
   "execution_count": 21,
   "metadata": {},
   "outputs": [],
   "source": [
    "stopwords = set(STOPWORDS)"
   ]
  },
  {
   "cell_type": "code",
   "execution_count": 34,
   "metadata": {},
   "outputs": [],
   "source": [
    "wordcloud = WordCloud(background_color = 'white',\n",
    "                      max_words = 200,\n",
    "                      stopwords = stopwords,\n",
    "                      width=600, \n",
    "                      height=400, \n",
    "                      prefer_horizontal=0.5)"
   ]
  },
  {
   "cell_type": "code",
   "execution_count": 35,
   "metadata": {},
   "outputs": [
    {
     "data": {
      "text/plain": [
       "<wordcloud.wordcloud.WordCloud at 0x24e7a305eb8>"
      ]
     },
     "execution_count": 35,
     "metadata": {},
     "output_type": "execute_result"
    }
   ],
   "source": [
    "wordcloud.generate(content)"
   ]
  },
  {
   "cell_type": "code",
   "execution_count": 36,
   "metadata": {},
   "outputs": [
    {
     "data": {
      "text/plain": [
       "<wordcloud.wordcloud.WordCloud at 0x24e7a305eb8>"
      ]
     },
     "execution_count": 36,
     "metadata": {},
     "output_type": "execute_result"
    }
   ],
   "source": [
    "wordcloud.to_file(\"output.jpg\")"
   ]
  },
  {
   "cell_type": "code",
   "execution_count": null,
   "metadata": {},
   "outputs": [],
   "source": []
  }
 ],
 "metadata": {
  "kernelspec": {
   "display_name": "Python 3",
   "language": "python",
   "name": "python3"
  },
  "language_info": {
   "codemirror_mode": {
    "name": "ipython",
    "version": 3
   },
   "file_extension": ".py",
   "mimetype": "text/x-python",
   "name": "python",
   "nbconvert_exporter": "python",
   "pygments_lexer": "ipython3",
   "version": "3.6.7"
  }
 },
 "nbformat": 4,
 "nbformat_minor": 2
}
