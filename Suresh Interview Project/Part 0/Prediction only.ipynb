{
 "cells": [
  {
   "cell_type": "code",
   "execution_count": 7,
   "metadata": {},
   "outputs": [
    {
     "name": "stderr",
     "output_type": "stream",
     "text": [
      "[nltk_data] Downloading package stopwords to\n",
      "[nltk_data]     C:\\Users\\munge\\AppData\\Roaming\\nltk_data...\n",
      "[nltk_data]   Package stopwords is already up-to-date!\n",
      "[nltk_data] Downloading package punkt to\n",
      "[nltk_data]     C:\\Users\\munge\\AppData\\Roaming\\nltk_data...\n",
      "[nltk_data]   Package punkt is already up-to-date!\n"
     ]
    }
   ],
   "source": [
    "import numpy as np\n",
    "import pandas as pd\n",
    "import seaborn as sns\n",
    "import matplotlib.pyplot as plt\n",
    "from matplotlib.gridspec import GridSpec\n",
    "\n",
    "import pickle\n",
    "from sklearn.naive_bayes import MultinomialNB\n",
    "from sklearn.multiclass import OneVsRestClassifier\n",
    "from sklearn.neighbors import KNeighborsClassifier\n",
    "from xgboost import XGBClassifier,plot_importance\n",
    "from sklearn.preprocessing import LabelEncoder\n",
    "from sklearn.feature_extraction.text import TfidfVectorizer\n",
    "from scipy.sparse import hstack\n",
    "from sklearn.model_selection import train_test_split\n",
    "\n",
    "from sklearn import metrics\n",
    "from sklearn.metrics import accuracy_score\n",
    "from pandas.plotting import scatter_matrix\n",
    "\n",
    "import re\n",
    "import nltk\n",
    "import string\n",
    "nltk.download('stopwords')\n",
    "nltk.download('punkt')\n",
    "from nltk.corpus import stopwords\n",
    "from wordcloud import WordCloud\n",
    "\n",
    "import PyPDF2\n",
    "\n",
    "\n",
    "import warnings\n",
    "warnings.filterwarnings('ignore')"
   ]
  },
  {
   "cell_type": "code",
   "execution_count": 8,
   "metadata": {},
   "outputs": [
    {
     "data": {
      "text/plain": [
       "XGBClassifier(base_score=0.5, booster='gbtree', colsample_bylevel=1,\n",
       "              colsample_bynode=1, colsample_bytree=1, enable_categorical=False,\n",
       "              gamma=0, gpu_id=-1, importance_type=None,\n",
       "              interaction_constraints='', learning_rate=0.300000012,\n",
       "              max_delta_step=0, max_depth=6, min_child_weight=1, missing=nan,\n",
       "              monotone_constraints='()', n_estimators=100, n_jobs=4,\n",
       "              num_parallel_tree=1, objective='multi:softprob', predictor='auto',\n",
       "              random_state=0, reg_alpha=0, reg_lambda=1, scale_pos_weight=None,\n",
       "              subsample=1, tree_method='exact', validate_parameters=1,\n",
       "              verbosity=None)"
      ]
     },
     "execution_count": 8,
     "metadata": {},
     "output_type": "execute_result"
    }
   ],
   "source": [
    "loaded_model = pickle.load(open('xgb_pro_job.pkl', 'rb')) \n",
    "loaded_model"
   ]
  },
  {
   "cell_type": "code",
   "execution_count": 9,
   "metadata": {},
   "outputs": [
    {
     "name": "stdout",
     "output_type": "stream",
     "text": [
      "Feature completed .....\n"
     ]
    }
   ],
   "source": [
    "resumeDataSet = pd.read_csv('resumeDataSet.csv')\n",
    "# display(resumeDataSet.head())\n",
    "\n",
    "requiredText = resumeDataSet['cleaned_resume'].values\n",
    "requiredTarget = resumeDataSet['Category'].values\n",
    "# print('requiredText : ',requiredText,'\\n')\n",
    "# print('requiredTarget : ',requiredTarget,'\\n')\n",
    "\n",
    "word_vectorizer = TfidfVectorizer(\n",
    "    sublinear_tf=True,\n",
    "    stop_words='english',\n",
    "    max_features=1500)\n",
    "word_vectorizer.fit(requiredText)\n",
    "WordFeatures = word_vectorizer.transform(requiredText)\n",
    "# print('WordFeatures : ',WordFeatures,'\\n')\n",
    "\n",
    "print (\"Feature completed .....\")\n",
    "\n",
    "# test_text = [t1] # Test_CVs['cleaned_resume'].values\n",
    "\n",
    "# # word_vectorizer = TfidfVectorizer(\n",
    "# #     sublinear_tf=True,\n",
    "# #     stop_words='english',\n",
    "# #     max_features=1500)\n",
    "# # word_vectorizer.fit(test_text)\n",
    "\n",
    "# WordFeatures = word_vectorizer.transform(test_text)\n",
    "# print('WordFeatures : \\n',WordFeatures)"
   ]
  },
  {
   "cell_type": "code",
   "execution_count": 10,
   "metadata": {},
   "outputs": [
    {
     "data": {
      "text/plain": [
       "\"Adams \\nAllen\\n \\n+91 \\n0000000000\\n \\n| \\nabc\\n@gmail.com | Mumbai | /in/\\nxxx\\n-\\nxxx\\n/\\n \\nBusiness Correspondent | Political Correspondent | Digital Journalist\\n \\nProfessional Summary\\n \\n \\nCreative and driven journalist with 5+ years of \\nprofessional \\nexperience. Great storytelling skills and \\na nose for the truth as \\nwell \\nan excellent track record as a staff reporter in print and digital media. Associated with various government sector \\ncompanie\\ns, ministries, state run organizations and government bodies across \\nxxx\\n. Seeking to leverage skills and \\nexperience to contribute to high quality journalism within India\\n \\nKey Areas\\n \\nBusiness Development, Political Relations, Reporting from Mantralaya Mumbai, Government relations, Guest coordination, \\nContent \\nwriting, \\nwriting\\n \\nfor social media\\n \\nWork History\\n \\n \\nBusiness Correspondent\\n \\nxxx\\n \\n| \\nFeb' 2021 \\n\\n \\nPresent\\n \\n\\n \\nReporting business stories from\\n \\nMantralaya in order to develop business communication with various ministries \\n \\n\\n \\nDeveloping contents related to Agriculture and rural sector\\n \\n\\n \\nMeeting and communicating with Agriculture business professionals to develop government communication, and \\npolitical\\n \\nrelations\\n \\nStaff Writer, Business Development Manager\\n \\nxxx\\n \\n| \\n\\n\\n \\n\\n \\n\\n \\nAssisted in managing campaigns of political and social issues\\n \\n\\n \\nLed the business development team and worked closely with clients\\n \\n\\n \\nWorked with the reporting team to \\ndevelop stories on a daily basis and in a 24/7 environment\\n \\n\\n \\nPitched story ideas for trending topics and created news series where applicable\\n \\n\\n \\nMaintained very high quality of outgoing news in both written and digital format\\n \\n\\n \\nConducting research on assigned top\\nics\\n \\n\\n \\nInterviewing individuals relevant to the article\\n \\n\\n \\nKeeping abreast of current events\\n \\nExecutive Editor\\n \\nxxx\\n \\n| \\nAug 2014 \\n-\\n \\nFeb 2015\\n \\n\\n \\nEditorial in\\n-\\ncharge of the news coverage for the news bulletin\\n \\n\\n \\nManaged and Led a team of reporters, technicians and dealt with\\n \\nmanagement\\n \\n\\n \\nCovered varieties \\nin hard news as well as health and wellbeing\\n \\n\\n \\nManaged all aspects of content production for digital properties\\n \\nSenior Sub \\n-\\n \\nEditor\\n \\nxxx\\n \\n| \\nJul' 2013 \\n-\\n \\nFeb' 2014\\n \\n\\n \\nR\\nesponsible for overseeing the content, accuracy, layout and \\ndesign of newspaper and magazine articles and \\nmaking sure that they are in keeping with house style\\n \\n\\n \\nSkilled in\\n \\nediting, translating and publishing news for Prahaar's English web portal\\n \\n\\n \\nProficiently in wrote\\n \\nheadlines, picture captions and story summaries\\n \\nw\\nhile editing reports and press \\nreleases\\n \\n\\n \\nRegular liaised with journalists, reporters and editors and verifying information and story details\\n \\n\\n \\nConstantly gathered and prepared routine information, including sports results and designing page layouts\\n \\n\\n \\nEnsured th\\nat stories are the right length and correctly placed on pages\\n \\n\\n \\nSized photographs and placing them within features\\n \\nSouth India Political Reporter\\n \\nxxx\\n \\n| \\nMar' 2012 \\n-\\n \\nApr' 2013\\n \\n\\n \\nResponsible for reporting on a geographic area such as a city/state\\n \\n\\n \\nProduced articles based on topics assigned \\n \\n\\n \\nAnalysed and interpreted documents and data; attended press conferences, briefings, and other live events; \\nand developed relationships with and interview sources to gather the information needed for an articles\\n \\n\\n \\nW\\nrote an articles to fit the style, tone, and needs of a particular media organization/platform (print /digital)\\n \\n\\n \\nWrote multiple versions of the same story for different platforms, print and online editions of a newspaper\\n \\nEditorial Intern, \\nxxx\\n \\n| \\nOct' 2011 \\n-\\n \\nDec' 2011\\n \\n \\nGovernment Sector Association\\n \\nAssociated with \\ngovernment sector companies, ministries, state run organizations and government bodies across \\nMaharashtra.\\n \\nClosely \\nworked with government bodies and private players in India. Some of the names are\\n \\nM\\ninistry of \\nHousing, Maharashtra Housing Developmen\\nt Agency, Konkan Mhada, Mumbai, \\nMinistry of Youth and Sports, Nehru \\nYuva Kendra, Pune Government of Uttar Pradesh, Ministry of \\nDefence\\n \\nfor \\nDefence corridor project Jhansi\\n \\n \\nSkills\\n \\nCommunication, Attention to details, Persistence, Research, Digital literacy, Logical Reasoning, Objectivity, \\nInvestigative Reporting, Problem Solving\\n \\nEducation\\n \\nPursuing Bachelor of Law (LLB) \\n-\\n \\nxxx\\n \\nMJMC Department of Journalism (SET Qualified)\\n, \\nxxx\\n \\nPG Dipl\\noma (Mass communication/Media Studies) \\n\\n \\nxxx\\n \\nMasters of Arts, \\nEnglish Lite\\nrature \\n-\\n \\nBritish/Common Wealth, \\nxxx\\n \\nBA Fergusson College\\n, \\nxxx\\n \\nReuters Training Course \\n \\n\\n \\nIntroduction to Digital Journalism \\n\\n \\nFacebook Journalism Project\\n \\n \\n\""
      ]
     },
     "execution_count": 10,
     "metadata": {},
     "output_type": "execute_result"
    }
   ],
   "source": [
    "\n",
    "pdfFileObj = open('Resume/1639482865701.pdf', 'rb')\n",
    "\n",
    "# creating a pdf reader object\n",
    "pdfReader = PyPDF2.PdfFileReader(pdfFileObj)\n",
    "\n",
    "text_data = '' \n",
    "for ind in range(pdfReader.numPages):\n",
    "#     print(ind)\n",
    "    \n",
    "    pageObj = pdfReader.getPage(ind)\n",
    "    data1=pageObj.extractText()\n",
    "#     print(data1)\n",
    "    text_data = text_data + data1\n",
    "    \n",
    "pdfFileObj.close()\n",
    "    \n",
    "text_data"
   ]
  },
  {
   "cell_type": "code",
   "execution_count": 11,
   "metadata": {},
   "outputs": [
    {
     "data": {
      "text/plain": [
       "'Adams Allen 91 0000000000 abc Mumbai in xxx xxx Business Correspondent Political Correspondent Digital Journalist Professional Summary Creative and driven journalist with 5 years of professional experience Great storytelling skills and a nose for the truth as well an excellent track record as a staff reporter in print and digital media Associated with various government sector companie s ministries state run organizations and government bodies across xxx Seeking to leverage skills and experience to contribute to high quality journalism within India Key Areas Business Development Political Relations Reporting from Mantralaya Mumbai Government relations Guest coordination Content writing writing for social media Work History Business Correspondent xxx Feb 2021 Present Reporting business stories from Mantralaya in order to develop business communication with various ministries Developing contents related to Agriculture and rural sector Meeting and communicating with Agriculture business professionals to develop government communication and political relations Staff Writer Business Development Manager xxx Assisted in managing campaigns of political and social issues Led the business development team and worked closely with clients Worked with the reporting team to develop stories on a daily basis and in a 24 7 environment Pitched story ideas for trending topics and created news series where applicable Maintained very high quality of outgoing news in both written and digital format Conducting research on assigned top ics Interviewing individuals relevant to the article Keeping abreast of current events Executive Editor xxx Aug 2014 Feb 2015 Editorial in charge of the news coverage for the news bulletin Managed and Led a team of reporters technicians and dealt with management Covered varieties in hard news as well as health and wellbeing Managed all aspects of content production for digital properties Senior Sub Editor xxx Jul 2013 Feb 2014 R esponsible for overseeing the content a uracy layout and design of newspaper and magazine articles and making sure that they are in keeping with house style Skilled in editing translating and publishing news for Prahaar s English web portal Proficiently in wrote headlines picture captions and story summaries w hile editing reports and press releases Regular liaised with journalists reporters and editors and verifying information and story details Constantly gathered and prepared routine information including sports results and designing page layouts Ensured th at stories are the right length and correctly placed on pages Sized photographs and placing them within features South India Political Reporter xxx Mar 2012 Apr 2013 Responsible for reporting on a geographic area such as a city state Produced articles based on topics assigned Analysed and interpreted documents and data attended press conferences briefings and other live events and developed relationships with and interview sources to gather the information needed for an articles W rote an articles to fit the style tone and needs of a particular media organization platform print digital Wrote multiple versions of the same story for different platforms print and online editions of a newspaper Editorial Intern xxx Oct 2011 Dec 2011 Government Sector Association Associated with government sector companies ministries state run organizations and government bodies across Maharashtra Closely worked with government bodies and private players in India Some of the names are M inistry of Housing Maharashtra Housing Developmen t Agency Konkan Mhada Mumbai Ministry of Youth and Sports Nehru Yuva Kendra Pune Government of Uttar Pradesh Ministry of Defence for Defence corridor project Jhansi Skills Communication Attention to details Persistence Research Digital literacy Logical Reasoning Objectivity Investigative Reporting Problem Solving Education Pursuing Bachelor of Law LLB xxx MJMC Department of Journalism SET Qualified xxx PG Dipl oma Mass communication Media Studies xxx Masters of Arts English Lite rature British Common Wealth xxx BA Fergusson College xxx Reuters Training Course Introduction to Digital Journalism Facebook Journalism Project '"
      ]
     },
     "execution_count": 11,
     "metadata": {},
     "output_type": "execute_result"
    }
   ],
   "source": [
    "def cleanResume(resumeText):\n",
    "    resumeText = re.sub('http\\S+\\s*', ' ', resumeText)  # remove URLs\n",
    "    resumeText = re.sub('RT|cc', ' ', resumeText)  # remove RT and cc\n",
    "    resumeText = re.sub('#\\S+', '', resumeText)  # remove hashtags\n",
    "    resumeText = re.sub('@\\S+', '  ', resumeText)  # remove mentions\n",
    "    resumeText = re.sub('[%s]' % re.escape(\"\"\"!\"#$%&'()*+,-./:;<=>?@[\\]^_`{|}~\"\"\"), ' ', resumeText)  # remove punctuations\n",
    "    resumeText = re.sub(r'[^\\x00-\\x7f]',r' ', resumeText) \n",
    "    resumeText = re.sub('\\s+', ' ', resumeText)  # remove extra whitespace\n",
    "    return resumeText\n",
    "\n",
    "t1 = cleanResume(text_data)\n",
    "t1"
   ]
  },
  {
   "cell_type": "code",
   "execution_count": 12,
   "metadata": {},
   "outputs": [
    {
     "name": "stdout",
     "output_type": "stream",
     "text": [
      "WordFeatures : \n",
      "   (0, 1498)\t0.05462668287406391\n",
      "  (0, 1493)\t0.12369758142340848\n",
      "  (0, 1492)\t0.06821691349225023\n",
      "  (0, 1491)\t0.0856979983542639\n",
      "  (0, 1484)\t0.07966205382675613\n",
      "  (0, 1483)\t0.03319629845208795\n",
      "  (0, 1473)\t0.042145430093373466\n",
      "  (0, 1451)\t0.06199507258612235\n",
      "  (0, 1446)\t0.076873091112219\n",
      "  (0, 1396)\t0.046764350096491235\n",
      "  (0, 1390)\t0.050734597207508086\n",
      "  (0, 1358)\t0.05891498320939219\n",
      "  (0, 1338)\t0.06821691349225023\n",
      "  (0, 1328)\t0.06854546201861722\n",
      "  (0, 1323)\t0.07534370654874947\n",
      "  (0, 1301)\t0.09486352629971143\n",
      "  (0, 1292)\t0.09868996900605054\n",
      "  (0, 1284)\t0.1244324377123846\n",
      "  (0, 1274)\t0.07103522969841719\n",
      "  (0, 1271)\t0.056197086906304095\n",
      "  (0, 1265)\t0.12369758142340848\n",
      "  (0, 1260)\t0.05884545074648726\n",
      "  (0, 1244)\t0.05636212881740661\n",
      "  (0, 1237)\t0.06956964496684999\n",
      "  (0, 1232)\t0.05555199305925502\n",
      "  :\t:\n",
      "  (0, 289)\t0.07439337595450653\n",
      "  (0, 271)\t0.0726342255781835\n",
      "  (0, 269)\t0.10425301858346789\n",
      "  (0, 268)\t0.06789439372066397\n",
      "  (0, 258)\t0.0335550218088545\n",
      "  (0, 245)\t0.11550127474590517\n",
      "  (0, 243)\t0.04426190137097387\n",
      "  (0, 195)\t0.11225881885006676\n",
      "  (0, 184)\t0.0791442243178025\n",
      "  (0, 158)\t0.049911451208650794\n",
      "  (0, 154)\t0.03677778741319725\n",
      "  (0, 144)\t0.04368824746941187\n",
      "  (0, 131)\t0.06523062625932675\n",
      "  (0, 123)\t0.07583886138783907\n",
      "  (0, 122)\t0.12595893474970876\n",
      "  (0, 117)\t0.1244324377123846\n",
      "  (0, 111)\t0.07142154930190578\n",
      "  (0, 109)\t0.06198027694044243\n",
      "  (0, 108)\t0.05774141140640694\n",
      "  (0, 31)\t0.05109952729282207\n",
      "  (0, 26)\t0.04019043552502012\n",
      "  (0, 25)\t0.0782188388503126\n",
      "  (0, 24)\t0.08489901969380007\n",
      "  (0, 23)\t0.04529108318193862\n",
      "  (0, 22)\t0.0893554674879971\n"
     ]
    }
   ],
   "source": [
    "\n",
    "test_text = [t1] # Test_CVs['cleaned_resume'].values\n",
    "\n",
    "# word_vectorizer = TfidfVectorizer(\n",
    "#     sublinear_tf=True,\n",
    "#     stop_words='english',\n",
    "#     max_features=1500)\n",
    "# word_vectorizer.fit(test_text)\n",
    "\n",
    "WordFeatures = word_vectorizer.transform(test_text)\n",
    "print('WordFeatures : \\n',WordFeatures)"
   ]
  },
  {
   "cell_type": "code",
   "execution_count": 13,
   "metadata": {},
   "outputs": [
    {
     "data": {
      "text/plain": [
       "(1, 1500)"
      ]
     },
     "execution_count": 13,
     "metadata": {},
     "output_type": "execute_result"
    }
   ],
   "source": [
    "WordFeatures.shape"
   ]
  },
  {
   "cell_type": "code",
   "execution_count": 15,
   "metadata": {},
   "outputs": [
    {
     "data": {
      "text/plain": [
       "array([4])"
      ]
     },
     "execution_count": 15,
     "metadata": {},
     "output_type": "execute_result"
    }
   ],
   "source": [
    "X_test2=WordFeatures\n",
    "y_pred2 = loaded_model.predict(X_test2)\n",
    "y_pred2"
   ]
  },
  {
   "cell_type": "code",
   "execution_count": 19,
   "metadata": {},
   "outputs": [],
   "source": [
    "resumeDataSet = pd.read_csv('dataset/UpdatedResumeDataSet.csv' ,encoding='utf-8')\n",
    "var_mod = ['Category']\n",
    "le = LabelEncoder()\n",
    "for i in var_mod:\n",
    "    resumeDataSet[i] = le.fit_transform(resumeDataSet[i])\n",
    "# print (\"CONVERTED THE CATEGORICAL VARIABLES INTO NUMERICALS\")\n",
    "# print('resumeDataSet : ')\n",
    "# resumeDataSet"
   ]
  },
  {
   "cell_type": "code",
   "execution_count": 20,
   "metadata": {
    "scrolled": true
   },
   "outputs": [
    {
     "data": {
      "text/plain": [
       "array(['Business Analyst'], dtype=object)"
      ]
     },
     "execution_count": 20,
     "metadata": {},
     "output_type": "execute_result"
    }
   ],
   "source": [
    "prediction= le.inverse_transform(y_pred2)\n",
    "prediction"
   ]
  },
  {
   "cell_type": "code",
   "execution_count": 31,
   "metadata": {},
   "outputs": [
    {
     "name": "stdout",
     "output_type": "stream",
     "text": [
      "[1.9691771, 3.9415262, 4.999068, 3.6352103, 11.063011, 3.3484497, 2.9400988, 3.4185786, 3.7576382, 3.7448828, 3.854957, 3.3922248, 4.0143256, 3.9664354, 3.2252734, 2.6033823, 3.8630333, 3.6618125, 6.1640034, 3.581186, 3.1516314, 2.9457014, 3.2234604, 2.006224, 7.528712] 11.063011\n"
     ]
    }
   ],
   "source": [
    "y_pred_1 = loaded_model.predict_proba(X_test2)\n",
    "li = list((y_pred_1*100)[0])\n",
    "print(list((y_pred_1*100)[0]), (y_pred_1*100)[0][y_pred2[0]])"
   ]
  },
  {
   "cell_type": "code",
   "execution_count": 34,
   "metadata": {},
   "outputs": [
    {
     "name": "stdout",
     "output_type": "stream",
     "text": [
      "['Advocate', 'Arts', 'Automation Testing', 'Blockchain', 'Business Analyst', 'Civil Engineer', 'Data Science', 'Database', 'DevOps Engineer', 'DotNet Developer', 'ETL Developer', 'Electrical Engineering', 'HR', 'Hadoop', 'Health and fitness', 'Java Developer', 'Mechanical Engineer', 'Network Security Engineer', 'Operations Manager', 'PMO', 'Python Developer', 'SAP Developer', 'Sales', 'Testing', 'Web Designing'] Business Analyst\n"
     ]
    }
   ],
   "source": [
    "print(list(le.classes_), list(le.classes_)[li.index(max(li))])"
   ]
  },
  {
   "cell_type": "code",
   "execution_count": null,
   "metadata": {},
   "outputs": [],
   "source": []
  },
  {
   "cell_type": "code",
   "execution_count": null,
   "metadata": {},
   "outputs": [],
   "source": []
  },
  {
   "cell_type": "code",
   "execution_count": null,
   "metadata": {},
   "outputs": [],
   "source": []
  },
  {
   "cell_type": "code",
   "execution_count": 35,
   "metadata": {},
   "outputs": [],
   "source": [
    "df = pd.read_csv('dataset/UpdatedResumeDataSet.csv' ,encoding='utf-8')\n",
    "df1 = pd.read_csv('resumeDataSet.csv')"
   ]
  },
  {
   "cell_type": "code",
   "execution_count": 36,
   "metadata": {},
   "outputs": [
    {
     "data": {
      "text/html": [
       "<div>\n",
       "<style scoped>\n",
       "    .dataframe tbody tr th:only-of-type {\n",
       "        vertical-align: middle;\n",
       "    }\n",
       "\n",
       "    .dataframe tbody tr th {\n",
       "        vertical-align: top;\n",
       "    }\n",
       "\n",
       "    .dataframe thead th {\n",
       "        text-align: right;\n",
       "    }\n",
       "</style>\n",
       "<table border=\"1\" class=\"dataframe\">\n",
       "  <thead>\n",
       "    <tr style=\"text-align: right;\">\n",
       "      <th></th>\n",
       "      <th>Category</th>\n",
       "      <th>Resume</th>\n",
       "    </tr>\n",
       "  </thead>\n",
       "  <tbody>\n",
       "    <tr>\n",
       "      <th>0</th>\n",
       "      <td>Data Science</td>\n",
       "      <td>Skills * Programming Languages: Python (pandas...</td>\n",
       "    </tr>\n",
       "    <tr>\n",
       "      <th>1</th>\n",
       "      <td>Data Science</td>\n",
       "      <td>Education Details \\r\\nMay 2013 to May 2017 B.E...</td>\n",
       "    </tr>\n",
       "    <tr>\n",
       "      <th>2</th>\n",
       "      <td>Data Science</td>\n",
       "      <td>Areas of Interest Deep Learning, Control Syste...</td>\n",
       "    </tr>\n",
       "    <tr>\n",
       "      <th>3</th>\n",
       "      <td>Data Science</td>\n",
       "      <td>Skills â¢ R â¢ Python â¢ SAP HANA â¢ Table...</td>\n",
       "    </tr>\n",
       "    <tr>\n",
       "      <th>4</th>\n",
       "      <td>Data Science</td>\n",
       "      <td>Education Details \\r\\n MCA   YMCAUST,  Faridab...</td>\n",
       "    </tr>\n",
       "    <tr>\n",
       "      <th>...</th>\n",
       "      <td>...</td>\n",
       "      <td>...</td>\n",
       "    </tr>\n",
       "    <tr>\n",
       "      <th>957</th>\n",
       "      <td>Testing</td>\n",
       "      <td>Computer Skills: â¢ Proficient in MS office (...</td>\n",
       "    </tr>\n",
       "    <tr>\n",
       "      <th>958</th>\n",
       "      <td>Testing</td>\n",
       "      <td>â Willingness to accept the challenges. â ...</td>\n",
       "    </tr>\n",
       "    <tr>\n",
       "      <th>959</th>\n",
       "      <td>Testing</td>\n",
       "      <td>PERSONAL SKILLS â¢ Quick learner, â¢ Eagerne...</td>\n",
       "    </tr>\n",
       "    <tr>\n",
       "      <th>960</th>\n",
       "      <td>Testing</td>\n",
       "      <td>COMPUTER SKILLS &amp; SOFTWARE KNOWLEDGE MS-Power ...</td>\n",
       "    </tr>\n",
       "    <tr>\n",
       "      <th>961</th>\n",
       "      <td>Testing</td>\n",
       "      <td>Skill Set OS Windows XP/7/8/8.1/10 Database MY...</td>\n",
       "    </tr>\n",
       "  </tbody>\n",
       "</table>\n",
       "<p>962 rows × 2 columns</p>\n",
       "</div>"
      ],
      "text/plain": [
       "         Category                                             Resume\n",
       "0    Data Science  Skills * Programming Languages: Python (pandas...\n",
       "1    Data Science  Education Details \\r\\nMay 2013 to May 2017 B.E...\n",
       "2    Data Science  Areas of Interest Deep Learning, Control Syste...\n",
       "3    Data Science  Skills â¢ R â¢ Python â¢ SAP HANA â¢ Table...\n",
       "4    Data Science  Education Details \\r\\n MCA   YMCAUST,  Faridab...\n",
       "..            ...                                                ...\n",
       "957       Testing  Computer Skills: â¢ Proficient in MS office (...\n",
       "958       Testing  â Willingness to accept the challenges. â ...\n",
       "959       Testing  PERSONAL SKILLS â¢ Quick learner, â¢ Eagerne...\n",
       "960       Testing  COMPUTER SKILLS & SOFTWARE KNOWLEDGE MS-Power ...\n",
       "961       Testing  Skill Set OS Windows XP/7/8/8.1/10 Database MY...\n",
       "\n",
       "[962 rows x 2 columns]"
      ]
     },
     "execution_count": 36,
     "metadata": {},
     "output_type": "execute_result"
    }
   ],
   "source": [
    "df"
   ]
  },
  {
   "cell_type": "code",
   "execution_count": 37,
   "metadata": {},
   "outputs": [
    {
     "data": {
      "text/html": [
       "<div>\n",
       "<style scoped>\n",
       "    .dataframe tbody tr th:only-of-type {\n",
       "        vertical-align: middle;\n",
       "    }\n",
       "\n",
       "    .dataframe tbody tr th {\n",
       "        vertical-align: top;\n",
       "    }\n",
       "\n",
       "    .dataframe thead th {\n",
       "        text-align: right;\n",
       "    }\n",
       "</style>\n",
       "<table border=\"1\" class=\"dataframe\">\n",
       "  <thead>\n",
       "    <tr style=\"text-align: right;\">\n",
       "      <th></th>\n",
       "      <th>Category</th>\n",
       "      <th>Resume</th>\n",
       "      <th>cleaned_resume</th>\n",
       "    </tr>\n",
       "  </thead>\n",
       "  <tbody>\n",
       "    <tr>\n",
       "      <th>0</th>\n",
       "      <td>6</td>\n",
       "      <td>Skills * Programming Languages: Python (pandas...</td>\n",
       "      <td>Skills Programming Languages Python pandas num...</td>\n",
       "    </tr>\n",
       "    <tr>\n",
       "      <th>1</th>\n",
       "      <td>6</td>\n",
       "      <td>Education Details \\r\\nMay 2013 to May 2017 B.E...</td>\n",
       "      <td>Education Details May 2013 to May 2017 B E UIT...</td>\n",
       "    </tr>\n",
       "    <tr>\n",
       "      <th>2</th>\n",
       "      <td>6</td>\n",
       "      <td>Areas of Interest Deep Learning, Control Syste...</td>\n",
       "      <td>Areas of Interest Deep Learning Control System...</td>\n",
       "    </tr>\n",
       "    <tr>\n",
       "      <th>3</th>\n",
       "      <td>6</td>\n",
       "      <td>Skills â¢ R â¢ Python â¢ SAP HANA â¢ Table...</td>\n",
       "      <td>Skills R Python SAP HANA Tableau SAP HANA SQL ...</td>\n",
       "    </tr>\n",
       "    <tr>\n",
       "      <th>4</th>\n",
       "      <td>6</td>\n",
       "      <td>Education Details \\r\\n MCA   YMCAUST,  Faridab...</td>\n",
       "      <td>Education Details MCA YMCAUST Faridabad Haryan...</td>\n",
       "    </tr>\n",
       "    <tr>\n",
       "      <th>...</th>\n",
       "      <td>...</td>\n",
       "      <td>...</td>\n",
       "      <td>...</td>\n",
       "    </tr>\n",
       "    <tr>\n",
       "      <th>957</th>\n",
       "      <td>23</td>\n",
       "      <td>Computer Skills: â¢ Proficient in MS office (...</td>\n",
       "      <td>Computer Skills Proficient in MS office Word B...</td>\n",
       "    </tr>\n",
       "    <tr>\n",
       "      <th>958</th>\n",
       "      <td>23</td>\n",
       "      <td>â Willingness to accept the challenges. â ...</td>\n",
       "      <td>Willingness to a ept the challenges Positive ...</td>\n",
       "    </tr>\n",
       "    <tr>\n",
       "      <th>959</th>\n",
       "      <td>23</td>\n",
       "      <td>PERSONAL SKILLS â¢ Quick learner, â¢ Eagerne...</td>\n",
       "      <td>PERSONAL SKILLS Quick learner Eagerness to lea...</td>\n",
       "    </tr>\n",
       "    <tr>\n",
       "      <th>960</th>\n",
       "      <td>23</td>\n",
       "      <td>COMPUTER SKILLS &amp; SOFTWARE KNOWLEDGE MS-Power ...</td>\n",
       "      <td>COMPUTER SKILLS SOFTWARE KNOWLEDGE MS Power Po...</td>\n",
       "    </tr>\n",
       "    <tr>\n",
       "      <th>961</th>\n",
       "      <td>23</td>\n",
       "      <td>Skill Set OS Windows XP/7/8/8.1/10 Database MY...</td>\n",
       "      <td>Skill Set OS Windows XP 7 8 8 1 10 Database MY...</td>\n",
       "    </tr>\n",
       "  </tbody>\n",
       "</table>\n",
       "<p>962 rows × 3 columns</p>\n",
       "</div>"
      ],
      "text/plain": [
       "     Category                                             Resume  \\\n",
       "0           6  Skills * Programming Languages: Python (pandas...   \n",
       "1           6  Education Details \\r\\nMay 2013 to May 2017 B.E...   \n",
       "2           6  Areas of Interest Deep Learning, Control Syste...   \n",
       "3           6  Skills â¢ R â¢ Python â¢ SAP HANA â¢ Table...   \n",
       "4           6  Education Details \\r\\n MCA   YMCAUST,  Faridab...   \n",
       "..        ...                                                ...   \n",
       "957        23  Computer Skills: â¢ Proficient in MS office (...   \n",
       "958        23  â Willingness to accept the challenges. â ...   \n",
       "959        23  PERSONAL SKILLS â¢ Quick learner, â¢ Eagerne...   \n",
       "960        23  COMPUTER SKILLS & SOFTWARE KNOWLEDGE MS-Power ...   \n",
       "961        23  Skill Set OS Windows XP/7/8/8.1/10 Database MY...   \n",
       "\n",
       "                                        cleaned_resume  \n",
       "0    Skills Programming Languages Python pandas num...  \n",
       "1    Education Details May 2013 to May 2017 B E UIT...  \n",
       "2    Areas of Interest Deep Learning Control System...  \n",
       "3    Skills R Python SAP HANA Tableau SAP HANA SQL ...  \n",
       "4    Education Details MCA YMCAUST Faridabad Haryan...  \n",
       "..                                                 ...  \n",
       "957  Computer Skills Proficient in MS office Word B...  \n",
       "958   Willingness to a ept the challenges Positive ...  \n",
       "959  PERSONAL SKILLS Quick learner Eagerness to lea...  \n",
       "960  COMPUTER SKILLS SOFTWARE KNOWLEDGE MS Power Po...  \n",
       "961  Skill Set OS Windows XP 7 8 8 1 10 Database MY...  \n",
       "\n",
       "[962 rows x 3 columns]"
      ]
     },
     "execution_count": 37,
     "metadata": {},
     "output_type": "execute_result"
    }
   ],
   "source": [
    "df1"
   ]
  },
  {
   "cell_type": "code",
   "execution_count": 38,
   "metadata": {},
   "outputs": [
    {
     "data": {
      "text/html": [
       "<div>\n",
       "<style scoped>\n",
       "    .dataframe tbody tr th:only-of-type {\n",
       "        vertical-align: middle;\n",
       "    }\n",
       "\n",
       "    .dataframe tbody tr th {\n",
       "        vertical-align: top;\n",
       "    }\n",
       "\n",
       "    .dataframe thead th {\n",
       "        text-align: right;\n",
       "    }\n",
       "</style>\n",
       "<table border=\"1\" class=\"dataframe\">\n",
       "  <thead>\n",
       "    <tr style=\"text-align: right;\">\n",
       "      <th></th>\n",
       "      <th>Category</th>\n",
       "      <th>Resume</th>\n",
       "      <th>cleaned_resume</th>\n",
       "      <th>Category_name</th>\n",
       "    </tr>\n",
       "  </thead>\n",
       "  <tbody>\n",
       "    <tr>\n",
       "      <th>0</th>\n",
       "      <td>6</td>\n",
       "      <td>Skills * Programming Languages: Python (pandas...</td>\n",
       "      <td>Skills Programming Languages Python pandas num...</td>\n",
       "      <td>Data Science</td>\n",
       "    </tr>\n",
       "    <tr>\n",
       "      <th>1</th>\n",
       "      <td>6</td>\n",
       "      <td>Education Details \\r\\nMay 2013 to May 2017 B.E...</td>\n",
       "      <td>Education Details May 2013 to May 2017 B E UIT...</td>\n",
       "      <td>Data Science</td>\n",
       "    </tr>\n",
       "    <tr>\n",
       "      <th>2</th>\n",
       "      <td>6</td>\n",
       "      <td>Areas of Interest Deep Learning, Control Syste...</td>\n",
       "      <td>Areas of Interest Deep Learning Control System...</td>\n",
       "      <td>Data Science</td>\n",
       "    </tr>\n",
       "    <tr>\n",
       "      <th>3</th>\n",
       "      <td>6</td>\n",
       "      <td>Skills â¢ R â¢ Python â¢ SAP HANA â¢ Table...</td>\n",
       "      <td>Skills R Python SAP HANA Tableau SAP HANA SQL ...</td>\n",
       "      <td>Data Science</td>\n",
       "    </tr>\n",
       "    <tr>\n",
       "      <th>4</th>\n",
       "      <td>6</td>\n",
       "      <td>Education Details \\r\\n MCA   YMCAUST,  Faridab...</td>\n",
       "      <td>Education Details MCA YMCAUST Faridabad Haryan...</td>\n",
       "      <td>Data Science</td>\n",
       "    </tr>\n",
       "    <tr>\n",
       "      <th>...</th>\n",
       "      <td>...</td>\n",
       "      <td>...</td>\n",
       "      <td>...</td>\n",
       "      <td>...</td>\n",
       "    </tr>\n",
       "    <tr>\n",
       "      <th>957</th>\n",
       "      <td>23</td>\n",
       "      <td>Computer Skills: â¢ Proficient in MS office (...</td>\n",
       "      <td>Computer Skills Proficient in MS office Word B...</td>\n",
       "      <td>Testing</td>\n",
       "    </tr>\n",
       "    <tr>\n",
       "      <th>958</th>\n",
       "      <td>23</td>\n",
       "      <td>â Willingness to accept the challenges. â ...</td>\n",
       "      <td>Willingness to a ept the challenges Positive ...</td>\n",
       "      <td>Testing</td>\n",
       "    </tr>\n",
       "    <tr>\n",
       "      <th>959</th>\n",
       "      <td>23</td>\n",
       "      <td>PERSONAL SKILLS â¢ Quick learner, â¢ Eagerne...</td>\n",
       "      <td>PERSONAL SKILLS Quick learner Eagerness to lea...</td>\n",
       "      <td>Testing</td>\n",
       "    </tr>\n",
       "    <tr>\n",
       "      <th>960</th>\n",
       "      <td>23</td>\n",
       "      <td>COMPUTER SKILLS &amp; SOFTWARE KNOWLEDGE MS-Power ...</td>\n",
       "      <td>COMPUTER SKILLS SOFTWARE KNOWLEDGE MS Power Po...</td>\n",
       "      <td>Testing</td>\n",
       "    </tr>\n",
       "    <tr>\n",
       "      <th>961</th>\n",
       "      <td>23</td>\n",
       "      <td>Skill Set OS Windows XP/7/8/8.1/10 Database MY...</td>\n",
       "      <td>Skill Set OS Windows XP 7 8 8 1 10 Database MY...</td>\n",
       "      <td>Testing</td>\n",
       "    </tr>\n",
       "  </tbody>\n",
       "</table>\n",
       "<p>962 rows × 4 columns</p>\n",
       "</div>"
      ],
      "text/plain": [
       "     Category                                             Resume  \\\n",
       "0           6  Skills * Programming Languages: Python (pandas...   \n",
       "1           6  Education Details \\r\\nMay 2013 to May 2017 B.E...   \n",
       "2           6  Areas of Interest Deep Learning, Control Syste...   \n",
       "3           6  Skills â¢ R â¢ Python â¢ SAP HANA â¢ Table...   \n",
       "4           6  Education Details \\r\\n MCA   YMCAUST,  Faridab...   \n",
       "..        ...                                                ...   \n",
       "957        23  Computer Skills: â¢ Proficient in MS office (...   \n",
       "958        23  â Willingness to accept the challenges. â ...   \n",
       "959        23  PERSONAL SKILLS â¢ Quick learner, â¢ Eagerne...   \n",
       "960        23  COMPUTER SKILLS & SOFTWARE KNOWLEDGE MS-Power ...   \n",
       "961        23  Skill Set OS Windows XP/7/8/8.1/10 Database MY...   \n",
       "\n",
       "                                        cleaned_resume Category_name  \n",
       "0    Skills Programming Languages Python pandas num...  Data Science  \n",
       "1    Education Details May 2013 to May 2017 B E UIT...  Data Science  \n",
       "2    Areas of Interest Deep Learning Control System...  Data Science  \n",
       "3    Skills R Python SAP HANA Tableau SAP HANA SQL ...  Data Science  \n",
       "4    Education Details MCA YMCAUST Faridabad Haryan...  Data Science  \n",
       "..                                                 ...           ...  \n",
       "957  Computer Skills Proficient in MS office Word B...       Testing  \n",
       "958   Willingness to a ept the challenges Positive ...       Testing  \n",
       "959  PERSONAL SKILLS Quick learner Eagerness to lea...       Testing  \n",
       "960  COMPUTER SKILLS SOFTWARE KNOWLEDGE MS Power Po...       Testing  \n",
       "961  Skill Set OS Windows XP 7 8 8 1 10 Database MY...       Testing  \n",
       "\n",
       "[962 rows x 4 columns]"
      ]
     },
     "execution_count": 38,
     "metadata": {},
     "output_type": "execute_result"
    }
   ],
   "source": [
    "df1['Category_name'] = df['Category']\n",
    "df1"
   ]
  },
  {
   "cell_type": "code",
   "execution_count": 39,
   "metadata": {},
   "outputs": [],
   "source": [
    "df1.to_csv('resume.csv', index=False)"
   ]
  },
  {
   "cell_type": "code",
   "execution_count": null,
   "metadata": {},
   "outputs": [],
   "source": []
  },
  {
   "cell_type": "code",
   "execution_count": null,
   "metadata": {},
   "outputs": [],
   "source": []
  }
 ],
 "metadata": {
  "kernelspec": {
   "display_name": "Python 3",
   "language": "python",
   "name": "python3"
  },
  "language_info": {
   "codemirror_mode": {
    "name": "ipython",
    "version": 3
   },
   "file_extension": ".py",
   "mimetype": "text/x-python",
   "name": "python",
   "nbconvert_exporter": "python",
   "pygments_lexer": "ipython3",
   "version": "3.6.7"
  }
 },
 "nbformat": 4,
 "nbformat_minor": 2
}
