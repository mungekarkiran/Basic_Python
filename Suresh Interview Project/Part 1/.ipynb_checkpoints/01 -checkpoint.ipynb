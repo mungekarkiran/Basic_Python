{
 "cells": [
  {
   "cell_type": "markdown",
   "metadata": {},
   "source": [
    "# Steps:\n",
    "\n",
    "## Personality System\n",
    "\n",
    "Five Personality Traits (OCEAN)\n",
    "\n",
    "- Openness to experience (inventive/curious vs. consistent/cautious)\n",
    "- Conscientiousness (efficient/organized vs. easy-going/careless)\n",
    "- Extroversion (outgoing/energetic vs. solitary/reserved)\n",
    "- Agreeableness (friendly/compassionate vs. challenging/detached)\n",
    "- Neuroticism (sensitive/nervous vs. secure/confident)\n",
    "\n",
    "Resources: \n",
    "- [wikipedia](https://en.wikipedia.org/wiki/Big_Five_personality_traits)\n",
    "- [ipip.ori.org](https://ipip.ori.org/newBigFive5broadKey.htm)\n",
    "- [How Accurately Can You Describe Yourself?](https://ipip.ori.org/new_ipip-50-item-scale.htm)\n",
    "\n",
    "### NOTES:\n",
    "    \n",
    "### https://www.kaggle.com/jagannathrk/resume-classification/notebook\n",
    "### https://www.kaggle.com/dhainjeamita/resumedataset\n",
    "### https://www.kaggle.com/jagannathrk/resume-classification\n",
    "### https://www.kaggle.com/dhainjeamita/resume-classification\n",
    "### https://www.kaggle.com/abdoragab/resume-classification\n",
    "    \n",
    "## Resume Classification\n",
    "\n",
    "### https://www.kaggle.com/jagannathrk/resume-classification/notebook\n",
    "### https://www.kaggle.com/mohamedabdelghani/baseline-modeling\n"
   ]
  },
  {
   "cell_type": "code",
   "execution_count": null,
   "metadata": {},
   "outputs": [],
   "source": []
  }
 ],
 "metadata": {
  "kernelspec": {
   "display_name": "Python 3",
   "language": "python",
   "name": "python3"
  },
  "language_info": {
   "codemirror_mode": {
    "name": "ipython",
    "version": 3
   },
   "file_extension": ".py",
   "mimetype": "text/x-python",
   "name": "python",
   "nbconvert_exporter": "python",
   "pygments_lexer": "ipython3",
   "version": "3.6.7"
  }
 },
 "nbformat": 4,
 "nbformat_minor": 2
}
