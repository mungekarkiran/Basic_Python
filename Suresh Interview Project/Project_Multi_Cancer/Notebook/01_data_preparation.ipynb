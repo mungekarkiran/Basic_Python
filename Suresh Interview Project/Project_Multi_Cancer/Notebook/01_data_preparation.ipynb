{
 "cells": [
  {
   "cell_type": "code",
   "execution_count": 1,
   "id": "05174768",
   "metadata": {},
   "outputs": [],
   "source": [
    "import glob\n",
    "import os\n",
    "import pandas as pd\n",
    "import numpy as np\n",
    "import tqdm"
   ]
  },
  {
   "cell_type": "code",
   "execution_count": 2,
   "id": "73aec497",
   "metadata": {},
   "outputs": [
    {
     "data": {
      "text/html": [
       "<div>\n",
       "<style scoped>\n",
       "    .dataframe tbody tr th:only-of-type {\n",
       "        vertical-align: middle;\n",
       "    }\n",
       "\n",
       "    .dataframe tbody tr th {\n",
       "        vertical-align: top;\n",
       "    }\n",
       "\n",
       "    .dataframe thead th {\n",
       "        text-align: right;\n",
       "    }\n",
       "</style>\n",
       "<table border=\"1\" class=\"dataframe\">\n",
       "  <thead>\n",
       "    <tr style=\"text-align: right;\">\n",
       "      <th></th>\n",
       "      <th>image_path</th>\n",
       "      <th>image_formate</th>\n",
       "      <th>image_name</th>\n",
       "      <th>image_lable</th>\n",
       "    </tr>\n",
       "  </thead>\n",
       "  <tbody>\n",
       "    <tr>\n",
       "      <th>0</th>\n",
       "      <td>..\\Dataset\\dataset1\\all_benign\\all_benign_0001...</td>\n",
       "      <td>jpg</td>\n",
       "      <td>all_benign_0001.jpg</td>\n",
       "      <td>all_benign</td>\n",
       "    </tr>\n",
       "    <tr>\n",
       "      <th>1</th>\n",
       "      <td>..\\Dataset\\dataset1\\all_benign\\all_benign_0002...</td>\n",
       "      <td>jpg</td>\n",
       "      <td>all_benign_0002.jpg</td>\n",
       "      <td>all_benign</td>\n",
       "    </tr>\n",
       "    <tr>\n",
       "      <th>2</th>\n",
       "      <td>..\\Dataset\\dataset1\\all_benign\\all_benign_0003...</td>\n",
       "      <td>jpg</td>\n",
       "      <td>all_benign_0003.jpg</td>\n",
       "      <td>all_benign</td>\n",
       "    </tr>\n",
       "    <tr>\n",
       "      <th>3</th>\n",
       "      <td>..\\Dataset\\dataset1\\all_benign\\all_benign_0004...</td>\n",
       "      <td>jpg</td>\n",
       "      <td>all_benign_0004.jpg</td>\n",
       "      <td>all_benign</td>\n",
       "    </tr>\n",
       "    <tr>\n",
       "      <th>4</th>\n",
       "      <td>..\\Dataset\\dataset1\\all_benign\\all_benign_0005...</td>\n",
       "      <td>jpg</td>\n",
       "      <td>all_benign_0005.jpg</td>\n",
       "      <td>all_benign</td>\n",
       "    </tr>\n",
       "    <tr>\n",
       "      <th>...</th>\n",
       "      <td>...</td>\n",
       "      <td>...</td>\n",
       "      <td>...</td>\n",
       "      <td>...</td>\n",
       "    </tr>\n",
       "    <tr>\n",
       "      <th>129997</th>\n",
       "      <td>..\\Dataset\\dataset1\\oral_scc\\oral_scc_4996.jpg</td>\n",
       "      <td>jpg</td>\n",
       "      <td>oral_scc_4996.jpg</td>\n",
       "      <td>oral_scc</td>\n",
       "    </tr>\n",
       "    <tr>\n",
       "      <th>129998</th>\n",
       "      <td>..\\Dataset\\dataset1\\oral_scc\\oral_scc_4997.jpg</td>\n",
       "      <td>jpg</td>\n",
       "      <td>oral_scc_4997.jpg</td>\n",
       "      <td>oral_scc</td>\n",
       "    </tr>\n",
       "    <tr>\n",
       "      <th>129999</th>\n",
       "      <td>..\\Dataset\\dataset1\\oral_scc\\oral_scc_4998.jpg</td>\n",
       "      <td>jpg</td>\n",
       "      <td>oral_scc_4998.jpg</td>\n",
       "      <td>oral_scc</td>\n",
       "    </tr>\n",
       "    <tr>\n",
       "      <th>130000</th>\n",
       "      <td>..\\Dataset\\dataset1\\oral_scc\\oral_scc_4999.jpg</td>\n",
       "      <td>jpg</td>\n",
       "      <td>oral_scc_4999.jpg</td>\n",
       "      <td>oral_scc</td>\n",
       "    </tr>\n",
       "    <tr>\n",
       "      <th>130001</th>\n",
       "      <td>..\\Dataset\\dataset1\\oral_scc\\oral_scc_5000.jpg</td>\n",
       "      <td>jpg</td>\n",
       "      <td>oral_scc_5000.jpg</td>\n",
       "      <td>oral_scc</td>\n",
       "    </tr>\n",
       "  </tbody>\n",
       "</table>\n",
       "<p>130002 rows × 4 columns</p>\n",
       "</div>"
      ],
      "text/plain": [
       "                                               image_path image_formate  \\\n",
       "0       ..\\Dataset\\dataset1\\all_benign\\all_benign_0001...           jpg   \n",
       "1       ..\\Dataset\\dataset1\\all_benign\\all_benign_0002...           jpg   \n",
       "2       ..\\Dataset\\dataset1\\all_benign\\all_benign_0003...           jpg   \n",
       "3       ..\\Dataset\\dataset1\\all_benign\\all_benign_0004...           jpg   \n",
       "4       ..\\Dataset\\dataset1\\all_benign\\all_benign_0005...           jpg   \n",
       "...                                                   ...           ...   \n",
       "129997     ..\\Dataset\\dataset1\\oral_scc\\oral_scc_4996.jpg           jpg   \n",
       "129998     ..\\Dataset\\dataset1\\oral_scc\\oral_scc_4997.jpg           jpg   \n",
       "129999     ..\\Dataset\\dataset1\\oral_scc\\oral_scc_4998.jpg           jpg   \n",
       "130000     ..\\Dataset\\dataset1\\oral_scc\\oral_scc_4999.jpg           jpg   \n",
       "130001     ..\\Dataset\\dataset1\\oral_scc\\oral_scc_5000.jpg           jpg   \n",
       "\n",
       "                 image_name image_lable  \n",
       "0       all_benign_0001.jpg  all_benign  \n",
       "1       all_benign_0002.jpg  all_benign  \n",
       "2       all_benign_0003.jpg  all_benign  \n",
       "3       all_benign_0004.jpg  all_benign  \n",
       "4       all_benign_0005.jpg  all_benign  \n",
       "...                     ...         ...  \n",
       "129997    oral_scc_4996.jpg    oral_scc  \n",
       "129998    oral_scc_4997.jpg    oral_scc  \n",
       "129999    oral_scc_4998.jpg    oral_scc  \n",
       "130000    oral_scc_4999.jpg    oral_scc  \n",
       "130001    oral_scc_5000.jpg    oral_scc  \n",
       "\n",
       "[130002 rows x 4 columns]"
      ]
     },
     "metadata": {},
     "output_type": "display_data"
    }
   ],
   "source": [
    "df = pd.DataFrame(columns=['image_path', 'image_formate', 'image_name', 'image_lable'])\n",
    "dataset_folder_path = os.path.join('..', 'Dataset', 'dataset1')\n",
    "\n",
    "for image in glob.glob(os.path.join(dataset_folder_path, '*', '*')):\n",
    "#     print(image.split('\\\\')[-1].split('.')[-1])\n",
    "    image_path = image\n",
    "    image_formate = image.split('\\\\')[-1].split('.')[-1]\n",
    "    image_name = image.split('\\\\')[-1]\n",
    "    image_folder = image.split('\\\\')[-2]\n",
    "    \n",
    "    data = {\n",
    "        'image_path': image_path, \n",
    "        'image_formate': image_formate, \n",
    "        'image_name': image_name, \n",
    "        'image_lable': image_folder\n",
    "    }\n",
    "    df.loc[len(df)] = data\n",
    "\n",
    "#     break\n",
    "\n",
    "display(df)"
   ]
  },
  {
   "cell_type": "markdown",
   "id": "24cdb452",
   "metadata": {},
   "source": [
    "### Links\n",
    "\n",
    "[LabelEncoder](https://scikit-learn.org/stable/modules/generated/sklearn.preprocessing.LabelEncoder.html)\n",
    "\n",
    "[LabelEncoder](https://www.analyticsvidhya.com/blog/2023/07/label-encoding-in-python/)\n",
    "\n",
    "[LabelEncoder](https://www.geeksforgeeks.org/ml-label-encoding-of-datasets-in-python/)\n"
   ]
  },
  {
   "cell_type": "code",
   "execution_count": 3,
   "id": "d2bf8013",
   "metadata": {},
   "outputs": [
    {
     "data": {
      "text/html": [
       "<div>\n",
       "<style scoped>\n",
       "    .dataframe tbody tr th:only-of-type {\n",
       "        vertical-align: middle;\n",
       "    }\n",
       "\n",
       "    .dataframe tbody tr th {\n",
       "        vertical-align: top;\n",
       "    }\n",
       "\n",
       "    .dataframe thead th {\n",
       "        text-align: right;\n",
       "    }\n",
       "</style>\n",
       "<table border=\"1\" class=\"dataframe\">\n",
       "  <thead>\n",
       "    <tr style=\"text-align: right;\">\n",
       "      <th></th>\n",
       "      <th>image_path</th>\n",
       "      <th>image_formate</th>\n",
       "      <th>image_name</th>\n",
       "      <th>image_lable</th>\n",
       "      <th>class</th>\n",
       "    </tr>\n",
       "  </thead>\n",
       "  <tbody>\n",
       "    <tr>\n",
       "      <th>0</th>\n",
       "      <td>..\\Dataset\\dataset1\\all_benign\\all_benign_0001...</td>\n",
       "      <td>jpg</td>\n",
       "      <td>all_benign_0001.jpg</td>\n",
       "      <td>all_benign</td>\n",
       "      <td>0</td>\n",
       "    </tr>\n",
       "    <tr>\n",
       "      <th>1</th>\n",
       "      <td>..\\Dataset\\dataset1\\all_benign\\all_benign_0002...</td>\n",
       "      <td>jpg</td>\n",
       "      <td>all_benign_0002.jpg</td>\n",
       "      <td>all_benign</td>\n",
       "      <td>0</td>\n",
       "    </tr>\n",
       "    <tr>\n",
       "      <th>2</th>\n",
       "      <td>..\\Dataset\\dataset1\\all_benign\\all_benign_0003...</td>\n",
       "      <td>jpg</td>\n",
       "      <td>all_benign_0003.jpg</td>\n",
       "      <td>all_benign</td>\n",
       "      <td>0</td>\n",
       "    </tr>\n",
       "    <tr>\n",
       "      <th>3</th>\n",
       "      <td>..\\Dataset\\dataset1\\all_benign\\all_benign_0004...</td>\n",
       "      <td>jpg</td>\n",
       "      <td>all_benign_0004.jpg</td>\n",
       "      <td>all_benign</td>\n",
       "      <td>0</td>\n",
       "    </tr>\n",
       "    <tr>\n",
       "      <th>4</th>\n",
       "      <td>..\\Dataset\\dataset1\\all_benign\\all_benign_0005...</td>\n",
       "      <td>jpg</td>\n",
       "      <td>all_benign_0005.jpg</td>\n",
       "      <td>all_benign</td>\n",
       "      <td>0</td>\n",
       "    </tr>\n",
       "    <tr>\n",
       "      <th>...</th>\n",
       "      <td>...</td>\n",
       "      <td>...</td>\n",
       "      <td>...</td>\n",
       "      <td>...</td>\n",
       "      <td>...</td>\n",
       "    </tr>\n",
       "    <tr>\n",
       "      <th>129997</th>\n",
       "      <td>..\\Dataset\\dataset1\\oral_scc\\oral_scc_4996.jpg</td>\n",
       "      <td>jpg</td>\n",
       "      <td>oral_scc_4996.jpg</td>\n",
       "      <td>oral_scc</td>\n",
       "      <td>25</td>\n",
       "    </tr>\n",
       "    <tr>\n",
       "      <th>129998</th>\n",
       "      <td>..\\Dataset\\dataset1\\oral_scc\\oral_scc_4997.jpg</td>\n",
       "      <td>jpg</td>\n",
       "      <td>oral_scc_4997.jpg</td>\n",
       "      <td>oral_scc</td>\n",
       "      <td>25</td>\n",
       "    </tr>\n",
       "    <tr>\n",
       "      <th>129999</th>\n",
       "      <td>..\\Dataset\\dataset1\\oral_scc\\oral_scc_4998.jpg</td>\n",
       "      <td>jpg</td>\n",
       "      <td>oral_scc_4998.jpg</td>\n",
       "      <td>oral_scc</td>\n",
       "      <td>25</td>\n",
       "    </tr>\n",
       "    <tr>\n",
       "      <th>130000</th>\n",
       "      <td>..\\Dataset\\dataset1\\oral_scc\\oral_scc_4999.jpg</td>\n",
       "      <td>jpg</td>\n",
       "      <td>oral_scc_4999.jpg</td>\n",
       "      <td>oral_scc</td>\n",
       "      <td>25</td>\n",
       "    </tr>\n",
       "    <tr>\n",
       "      <th>130001</th>\n",
       "      <td>..\\Dataset\\dataset1\\oral_scc\\oral_scc_5000.jpg</td>\n",
       "      <td>jpg</td>\n",
       "      <td>oral_scc_5000.jpg</td>\n",
       "      <td>oral_scc</td>\n",
       "      <td>25</td>\n",
       "    </tr>\n",
       "  </tbody>\n",
       "</table>\n",
       "<p>130002 rows × 5 columns</p>\n",
       "</div>"
      ],
      "text/plain": [
       "                                               image_path image_formate  \\\n",
       "0       ..\\Dataset\\dataset1\\all_benign\\all_benign_0001...           jpg   \n",
       "1       ..\\Dataset\\dataset1\\all_benign\\all_benign_0002...           jpg   \n",
       "2       ..\\Dataset\\dataset1\\all_benign\\all_benign_0003...           jpg   \n",
       "3       ..\\Dataset\\dataset1\\all_benign\\all_benign_0004...           jpg   \n",
       "4       ..\\Dataset\\dataset1\\all_benign\\all_benign_0005...           jpg   \n",
       "...                                                   ...           ...   \n",
       "129997     ..\\Dataset\\dataset1\\oral_scc\\oral_scc_4996.jpg           jpg   \n",
       "129998     ..\\Dataset\\dataset1\\oral_scc\\oral_scc_4997.jpg           jpg   \n",
       "129999     ..\\Dataset\\dataset1\\oral_scc\\oral_scc_4998.jpg           jpg   \n",
       "130000     ..\\Dataset\\dataset1\\oral_scc\\oral_scc_4999.jpg           jpg   \n",
       "130001     ..\\Dataset\\dataset1\\oral_scc\\oral_scc_5000.jpg           jpg   \n",
       "\n",
       "                 image_name image_lable  class  \n",
       "0       all_benign_0001.jpg  all_benign      0  \n",
       "1       all_benign_0002.jpg  all_benign      0  \n",
       "2       all_benign_0003.jpg  all_benign      0  \n",
       "3       all_benign_0004.jpg  all_benign      0  \n",
       "4       all_benign_0005.jpg  all_benign      0  \n",
       "...                     ...         ...    ...  \n",
       "129997    oral_scc_4996.jpg    oral_scc     25  \n",
       "129998    oral_scc_4997.jpg    oral_scc     25  \n",
       "129999    oral_scc_4998.jpg    oral_scc     25  \n",
       "130000    oral_scc_4999.jpg    oral_scc     25  \n",
       "130001    oral_scc_5000.jpg    oral_scc     25  \n",
       "\n",
       "[130002 rows x 5 columns]"
      ]
     },
     "metadata": {},
     "output_type": "display_data"
    }
   ],
   "source": [
    "from sklearn.preprocessing import LabelEncoder\n",
    "label_encoder = LabelEncoder()\n",
    "df['class']= label_encoder.fit_transform(df['image_lable']) \n",
    "display(df)"
   ]
  },
  {
   "cell_type": "code",
   "execution_count": 4,
   "id": "0a5a23d6",
   "metadata": {},
   "outputs": [],
   "source": [
    "data_file = os.path.join('..', 'Dataset', 'dataset1_label_and_classes.csv')\n",
    "df.to_csv(data_file, index=False)"
   ]
  },
  {
   "cell_type": "markdown",
   "id": "b0c4eb4b",
   "metadata": {},
   "source": [
    "### Split dataset"
   ]
  },
  {
   "cell_type": "code",
   "execution_count": 5,
   "id": "a11a6d07",
   "metadata": {},
   "outputs": [
    {
     "data": {
      "text/html": [
       "<div>\n",
       "<style scoped>\n",
       "    .dataframe tbody tr th:only-of-type {\n",
       "        vertical-align: middle;\n",
       "    }\n",
       "\n",
       "    .dataframe tbody tr th {\n",
       "        vertical-align: top;\n",
       "    }\n",
       "\n",
       "    .dataframe thead th {\n",
       "        text-align: right;\n",
       "    }\n",
       "</style>\n",
       "<table border=\"1\" class=\"dataframe\">\n",
       "  <thead>\n",
       "    <tr style=\"text-align: right;\">\n",
       "      <th></th>\n",
       "      <th>image_path</th>\n",
       "      <th>image_formate</th>\n",
       "      <th>image_name</th>\n",
       "      <th>image_lable</th>\n",
       "      <th>class</th>\n",
       "    </tr>\n",
       "  </thead>\n",
       "  <tbody>\n",
       "    <tr>\n",
       "      <th>0</th>\n",
       "      <td>..\\Dataset\\dataset1\\all_benign\\all_benign_0001...</td>\n",
       "      <td>jpg</td>\n",
       "      <td>all_benign_0001.jpg</td>\n",
       "      <td>all_benign</td>\n",
       "      <td>0</td>\n",
       "    </tr>\n",
       "    <tr>\n",
       "      <th>1</th>\n",
       "      <td>..\\Dataset\\dataset1\\all_benign\\all_benign_0002...</td>\n",
       "      <td>jpg</td>\n",
       "      <td>all_benign_0002.jpg</td>\n",
       "      <td>all_benign</td>\n",
       "      <td>0</td>\n",
       "    </tr>\n",
       "    <tr>\n",
       "      <th>2</th>\n",
       "      <td>..\\Dataset\\dataset1\\all_benign\\all_benign_0003...</td>\n",
       "      <td>jpg</td>\n",
       "      <td>all_benign_0003.jpg</td>\n",
       "      <td>all_benign</td>\n",
       "      <td>0</td>\n",
       "    </tr>\n",
       "    <tr>\n",
       "      <th>3</th>\n",
       "      <td>..\\Dataset\\dataset1\\all_benign\\all_benign_0004...</td>\n",
       "      <td>jpg</td>\n",
       "      <td>all_benign_0004.jpg</td>\n",
       "      <td>all_benign</td>\n",
       "      <td>0</td>\n",
       "    </tr>\n",
       "    <tr>\n",
       "      <th>4</th>\n",
       "      <td>..\\Dataset\\dataset1\\all_benign\\all_benign_0005...</td>\n",
       "      <td>jpg</td>\n",
       "      <td>all_benign_0005.jpg</td>\n",
       "      <td>all_benign</td>\n",
       "      <td>0</td>\n",
       "    </tr>\n",
       "  </tbody>\n",
       "</table>\n",
       "</div>"
      ],
      "text/plain": [
       "                                          image_path image_formate  \\\n",
       "0  ..\\Dataset\\dataset1\\all_benign\\all_benign_0001...           jpg   \n",
       "1  ..\\Dataset\\dataset1\\all_benign\\all_benign_0002...           jpg   \n",
       "2  ..\\Dataset\\dataset1\\all_benign\\all_benign_0003...           jpg   \n",
       "3  ..\\Dataset\\dataset1\\all_benign\\all_benign_0004...           jpg   \n",
       "4  ..\\Dataset\\dataset1\\all_benign\\all_benign_0005...           jpg   \n",
       "\n",
       "            image_name image_lable  class  \n",
       "0  all_benign_0001.jpg  all_benign      0  \n",
       "1  all_benign_0002.jpg  all_benign      0  \n",
       "2  all_benign_0003.jpg  all_benign      0  \n",
       "3  all_benign_0004.jpg  all_benign      0  \n",
       "4  all_benign_0005.jpg  all_benign      0  "
      ]
     },
     "execution_count": 5,
     "metadata": {},
     "output_type": "execute_result"
    }
   ],
   "source": [
    "df = pd.read_csv(data_file)\n",
    "df.head()"
   ]
  },
  {
   "cell_type": "code",
   "execution_count": 22,
   "id": "046963b9",
   "metadata": {},
   "outputs": [
    {
     "data": {
      "text/plain": [
       "(array([ 0,  1,  2,  3,  4,  5,  6,  7,  8,  9, 10, 11, 12, 13, 14, 15, 16,\n",
       "        17, 18, 19, 20, 21, 22, 23, 24, 25], dtype=int64),\n",
       " 26)"
      ]
     },
     "execution_count": 22,
     "metadata": {},
     "output_type": "execute_result"
    }
   ],
   "source": [
    "df['class'].unique(), len(df['class'].unique())"
   ]
  },
  {
   "cell_type": "code",
   "execution_count": 11,
   "id": "37cbcaf1",
   "metadata": {
    "scrolled": true
   },
   "outputs": [
    {
     "data": {
      "text/plain": [
       "class\n",
       "25    5001\n",
       "24    5001\n",
       "1     5000\n",
       "23    5000\n",
       "22    5000\n",
       "21    5000\n",
       "20    5000\n",
       "19    5000\n",
       "18    5000\n",
       "17    5000\n",
       "16    5000\n",
       "15    5000\n",
       "14    5000\n",
       "0     5000\n",
       "12    5000\n",
       "11    5000\n",
       "10    5000\n",
       "9     5000\n",
       "8     5000\n",
       "7     5000\n",
       "6     5000\n",
       "5     5000\n",
       "4     5000\n",
       "3     5000\n",
       "2     5000\n",
       "13    5000\n",
       "Name: count, dtype: int64"
      ]
     },
     "execution_count": 11,
     "metadata": {},
     "output_type": "execute_result"
    }
   ],
   "source": [
    "df['class'].value_counts()"
   ]
  },
  {
   "cell_type": "code",
   "execution_count": 18,
   "id": "c0d710a3",
   "metadata": {},
   "outputs": [],
   "source": [
    "from sklearn.model_selection import train_test_split\n",
    "\n",
    "train_val, test = train_test_split(df, random_state=104,test_size=0.2, shuffle=True)"
   ]
  },
  {
   "cell_type": "code",
   "execution_count": 19,
   "id": "b0cf08c6",
   "metadata": {},
   "outputs": [
    {
     "data": {
      "text/plain": [
       "((104001, 5), (26001, 5))"
      ]
     },
     "execution_count": 19,
     "metadata": {},
     "output_type": "execute_result"
    }
   ],
   "source": [
    "train_val.shape, test.shape"
   ]
  },
  {
   "cell_type": "code",
   "execution_count": 20,
   "id": "8e4fdcde",
   "metadata": {},
   "outputs": [
    {
     "data": {
      "text/plain": [
       "(array([12, 24, 21,  2,  6,  4, 23, 22,  8,  0, 20,  5,  1, 15, 13, 10,  9,\n",
       "        16, 19, 25, 14, 17,  3,  7, 11, 18], dtype=int64),\n",
       " 26)"
      ]
     },
     "execution_count": 20,
     "metadata": {},
     "output_type": "execute_result"
    }
   ],
   "source": [
    "test['class'].unique(), len(test['class'].unique())"
   ]
  },
  {
   "cell_type": "code",
   "execution_count": 21,
   "id": "8f86ba7a",
   "metadata": {
    "scrolled": true
   },
   "outputs": [
    {
     "data": {
      "text/plain": [
       "class\n",
       "6     1044\n",
       "7     1042\n",
       "20    1035\n",
       "18    1031\n",
       "2     1023\n",
       "3     1022\n",
       "0     1019\n",
       "1     1010\n",
       "9     1007\n",
       "10    1007\n",
       "15    1007\n",
       "21    1003\n",
       "12    1003\n",
       "24    1000\n",
       "11    1000\n",
       "13     997\n",
       "25     993\n",
       "22     984\n",
       "5      983\n",
       "19     981\n",
       "17     980\n",
       "14     974\n",
       "8      973\n",
       "16     964\n",
       "23     962\n",
       "4      957\n",
       "Name: count, dtype: int64"
      ]
     },
     "execution_count": 21,
     "metadata": {},
     "output_type": "execute_result"
    }
   ],
   "source": [
    "test['class'].value_counts()"
   ]
  },
  {
   "cell_type": "code",
   "execution_count": 23,
   "id": "0c5b9224",
   "metadata": {},
   "outputs": [
    {
     "data": {
      "text/plain": [
       "(array([ 3,  9, 14,  0, 11,  6, 21, 10,  8, 15,  1, 24,  4, 12,  2, 22, 19,\n",
       "        23, 18,  5, 13, 25, 17,  7, 16, 20], dtype=int64),\n",
       " 26)"
      ]
     },
     "execution_count": 23,
     "metadata": {},
     "output_type": "execute_result"
    }
   ],
   "source": [
    "train_val['class'].unique(), len(train_val['class'].unique())"
   ]
  },
  {
   "cell_type": "code",
   "execution_count": 24,
   "id": "fb85f093",
   "metadata": {
    "scrolled": true
   },
   "outputs": [
    {
     "data": {
      "text/plain": [
       "class\n",
       "4     4043\n",
       "23    4038\n",
       "16    4036\n",
       "8     4027\n",
       "14    4026\n",
       "17    4020\n",
       "19    4019\n",
       "5     4017\n",
       "22    4016\n",
       "25    4008\n",
       "13    4003\n",
       "24    4001\n",
       "11    4000\n",
       "12    3997\n",
       "21    3997\n",
       "9     3993\n",
       "15    3993\n",
       "10    3993\n",
       "1     3990\n",
       "0     3981\n",
       "3     3978\n",
       "2     3977\n",
       "18    3969\n",
       "20    3965\n",
       "7     3958\n",
       "6     3956\n",
       "Name: count, dtype: int64"
      ]
     },
     "execution_count": 24,
     "metadata": {},
     "output_type": "execute_result"
    }
   ],
   "source": [
    "train_val['class'].value_counts()"
   ]
  },
  {
   "cell_type": "code",
   "execution_count": 25,
   "id": "4654864b",
   "metadata": {},
   "outputs": [],
   "source": [
    "train_val_data_file = os.path.join('..', 'Dataset', 'train_val_data_dataset1_label_and_classes.csv')\n",
    "train_val.to_csv(train_val_data_file, index=False)\n",
    "\n",
    "test_data_file = os.path.join('..', 'Dataset', 'test_data_dataset1_label_and_classes.csv')\n",
    "test.to_csv(test_data_file, index=False)"
   ]
  },
  {
   "cell_type": "code",
   "execution_count": 44,
   "id": "1f168534",
   "metadata": {},
   "outputs": [],
   "source": [
    "train_val = pd.read_csv(train_val_data_file)\n",
    "X, y = train_val.drop('class',axis=1), train_val['class']\n",
    "X_train, X_test, y_train, y_test = train_test_split(X, y, test_size=0.4, random_state=104, shuffle=True, stratify=y)"
   ]
  },
  {
   "cell_type": "code",
   "execution_count": 45,
   "id": "f66b8ca8",
   "metadata": {},
   "outputs": [
    {
     "data": {
      "text/plain": [
       "((62400, 4), (41601, 4))"
      ]
     },
     "execution_count": 45,
     "metadata": {},
     "output_type": "execute_result"
    }
   ],
   "source": [
    "X_train.shape, X_test.shape"
   ]
  },
  {
   "cell_type": "code",
   "execution_count": 46,
   "id": "9e842018",
   "metadata": {},
   "outputs": [
    {
     "data": {
      "text/plain": [
       "<Axes: xlabel='image_lable'>"
      ]
     },
     "execution_count": 46,
     "metadata": {},
     "output_type": "execute_result"
    },
    {
     "data": {
      "image/png": "[encoded data removed]",
      "text/plain": [
       "<Figure size 640x480 with 1 Axes>"
      ]
     },
     "metadata": {},
     "output_type": "display_data"
    }
   ],
   "source": [
    "X_train['image_lable'].value_counts()[:].plot(kind='bar')"
   ]
  },
  {
   "cell_type": "code",
   "execution_count": 47,
   "id": "cce62f21",
   "metadata": {
    "scrolled": true
   },
   "outputs": [
    {
     "data": {
      "text/plain": [
       "image_lable\n",
       "brain_glioma        2426\n",
       "lymph_mcl           2423\n",
       "kidney_normal       2421\n",
       "breast_malignant    2416\n",
       "colon_aca           2415\n",
       "kidney_tumor        2412\n",
       "lung_bnt            2411\n",
       "brain_menin         2410\n",
       "lymph_fl            2409\n",
       "oral_scc            2405\n",
       "cervix_sfi          2402\n",
       "oral_normal         2401\n",
       "cervix_mep          2400\n",
       "lymph_cll           2398\n",
       "cervix_pab          2398\n",
       "colon_bnt           2396\n",
       "cervix_dyk          2396\n",
       "cervix_koc          2396\n",
       "all_early           2394\n",
       "all_benign          2389\n",
       "all_pro             2387\n",
       "all_pre             2386\n",
       "lung_aca            2381\n",
       "lung_scc            2379\n",
       "breast_benign       2375\n",
       "brain_tumor         2374\n",
       "Name: count, dtype: int64"
      ]
     },
     "execution_count": 47,
     "metadata": {},
     "output_type": "execute_result"
    }
   ],
   "source": [
    "X_train['image_lable'].value_counts()"
   ]
  },
  {
   "cell_type": "code",
   "execution_count": 48,
   "id": "357d2b9d",
   "metadata": {
    "scrolled": true
   },
   "outputs": [
    {
     "data": {
      "text/plain": [
       "<Axes: xlabel='image_lable'>"
      ]
     },
     "execution_count": 48,
     "metadata": {},
     "output_type": "execute_result"
    },
    {
     "data": {
      "image/png": "[encoded data removed]",
      "text/plain": [
       "<Figure size 640x480 with 1 Axes>"
      ]
     },
     "metadata": {},
     "output_type": "display_data"
    }
   ],
   "source": [
    "X_test['image_lable'].value_counts()[:].plot(kind='bar')"
   ]
  },
  {
   "cell_type": "code",
   "execution_count": 49,
   "id": "af093b8c",
   "metadata": {
    "scrolled": true
   },
   "outputs": [
    {
     "data": {
      "text/plain": [
       "image_lable\n",
       "brain_glioma        1617\n",
       "lymph_mcl           1615\n",
       "kidney_normal       1615\n",
       "breast_malignant    1611\n",
       "colon_aca           1611\n",
       "lung_bnt            1608\n",
       "kidney_tumor        1608\n",
       "brain_menin         1607\n",
       "lymph_fl            1607\n",
       "oral_scc            1603\n",
       "cervix_sfi          1601\n",
       "oral_normal         1600\n",
       "cervix_mep          1600\n",
       "cervix_pab          1599\n",
       "lymph_cll           1599\n",
       "cervix_koc          1597\n",
       "cervix_dyk          1597\n",
       "colon_bnt           1597\n",
       "all_early           1596\n",
       "all_benign          1592\n",
       "all_pre             1591\n",
       "all_pro             1591\n",
       "lung_aca            1588\n",
       "lung_scc            1586\n",
       "breast_benign       1583\n",
       "brain_tumor         1582\n",
       "Name: count, dtype: int64"
      ]
     },
     "execution_count": 49,
     "metadata": {},
     "output_type": "execute_result"
    }
   ],
   "source": [
    "X_test['image_lable'].value_counts()"
   ]
  },
  {
   "cell_type": "code",
   "execution_count": 55,
   "id": "7cabb30f",
   "metadata": {},
   "outputs": [],
   "source": [
    "training_data = pd.concat([X_train, y_train], axis=1)\n",
    "training_data_file = os.path.join('..', 'Dataset', 'training_data_dataset1_label_and_classes.csv')\n",
    "training_data.to_csv(training_data_file, index=False)\n",
    "\n",
    "testing_data = pd.concat([X_test, y_test], axis=1)\n",
    "testing_data_file = os.path.join('..', 'Dataset', 'testing_data_dataset1_label_and_classes.csv')\n",
    "testing_data.to_csv(testing_data_file, index=False)\n"
   ]
  },
  {
   "cell_type": "markdown",
   "id": "fe3c62bc",
   "metadata": {},
   "source": [
    "### Move Images"
   ]
  },
  {
   "cell_type": "code",
   "execution_count": 73,
   "id": "a0f6c3d1",
   "metadata": {},
   "outputs": [],
   "source": [
    "import shutil \n",
    "\n",
    "train_folder_name =  os.path.join('..', 'Dataset', 'data', 'train')\n",
    "os.makedirs(train_folder_name, exist_ok=True) \n",
    "\n",
    "for index, row in training_data.iterrows():\n",
    "    os.makedirs(os.path.join(train_folder_name, str(row['class'])), exist_ok=True) \n",
    "\n",
    "    source = row['image_path']\n",
    "    destination = os.path.join(train_folder_name, str(row['class']), row['image_name'])\n",
    "    shutil.copy2(source, destination) \n",
    "    \n",
    "#     break"
   ]
  },
  {
   "cell_type": "code",
   "execution_count": 75,
   "id": "4d356c35",
   "metadata": {},
   "outputs": [],
   "source": [
    "test_folder_name =  os.path.join('..', 'Dataset', 'data', 'test')\n",
    "os.makedirs(test_folder_name, exist_ok=True) \n",
    "\n",
    "for index, row in testing_data.iterrows():\n",
    "    os.makedirs(os.path.join(test_folder_name, str(row['class'])), exist_ok=True) \n",
    "    \n",
    "    source = row['image_path']\n",
    "    destination = os.path.join(test_folder_name, str(row['class']), row['image_name'])\n",
    "    shutil.copy2(source, destination) \n",
    "    \n",
    "#     break"
   ]
  },
  {
   "cell_type": "code",
   "execution_count": 81,
   "id": "676a8a62",
   "metadata": {},
   "outputs": [],
   "source": [
    "test_data = pd.read_csv(test_data_file)\n",
    "\n",
    "val_folder_name =  os.path.join('..', 'Dataset', 'data', 'val')\n",
    "os.makedirs(val_folder_name, exist_ok=True) \n",
    "\n",
    "for index, row in test_data.iterrows():\n",
    "    os.makedirs(os.path.join(val_folder_name, str(row['class'])), exist_ok=True) \n",
    "    \n",
    "    source = row['image_path']\n",
    "    destination = os.path.join(val_folder_name, str(row['class']), row['image_name'])\n",
    "    shutil.copy2(source, destination) \n",
    "    \n",
    "#     break"
   ]
  },
  {
   "cell_type": "code",
   "execution_count": null,
   "id": "0f88b57a",
   "metadata": {},
   "outputs": [],
   "source": []
  }
 ],
 "metadata": {
  "kernelspec": {
   "display_name": "Python 3 (ipykernel)",
   "language": "python",
   "name": "python3"
  },
  "language_info": {
   "codemirror_mode": {
    "name": "ipython",
    "version": 3
   },
   "file_extension": ".py",
   "mimetype": "text/x-python",
   "name": "python",
   "nbconvert_exporter": "python",
   "pygments_lexer": "ipython3",
   "version": "3.10.11"
  }
 },
 "nbformat": 4,
 "nbformat_minor": 5
}
