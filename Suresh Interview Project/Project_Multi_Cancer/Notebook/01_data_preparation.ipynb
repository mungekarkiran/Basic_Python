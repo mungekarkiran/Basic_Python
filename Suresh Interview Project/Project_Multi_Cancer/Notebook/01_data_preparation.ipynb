{
 "cells": [
  {
   "cell_type": "code",
   "execution_count": 1,
   "id": "05174768",
   "metadata": {},
   "outputs": [],
   "source": [
    "import glob\n",
    "import os\n",
    "import pandas as pd\n",
    "import numpy as np\n",
    "import tqdm"
   ]
  },
  {
   "cell_type": "code",
   "execution_count": 2,
   "id": "73aec497",
   "metadata": {},
   "outputs": [
    {
     "data": {
      "text/html": [
       "<div>\n",
       "<style scoped>\n",
       "    .dataframe tbody tr th:only-of-type {\n",
       "        vertical-align: middle;\n",
       "    }\n",
       "\n",
       "    .dataframe tbody tr th {\n",
       "        vertical-align: top;\n",
       "    }\n",
       "\n",
       "    .dataframe thead th {\n",
       "        text-align: right;\n",
       "    }\n",
       "</style>\n",
       "<table border=\"1\" class=\"dataframe\">\n",
       "  <thead>\n",
       "    <tr style=\"text-align: right;\">\n",
       "      <th></th>\n",
       "      <th>image_path</th>\n",
       "      <th>image_formate</th>\n",
       "      <th>image_name</th>\n",
       "      <th>image_lable</th>\n",
       "    </tr>\n",
       "  </thead>\n",
       "  <tbody>\n",
       "    <tr>\n",
       "      <th>0</th>\n",
       "      <td>..\\Dataset\\dataset1\\lymph_cll\\lymph_cll_0001.jpg</td>\n",
       "      <td>jpg</td>\n",
       "      <td>lymph_cll_0001.jpg</td>\n",
       "      <td>lymph_cll</td>\n",
       "    </tr>\n",
       "    <tr>\n",
       "      <th>1</th>\n",
       "      <td>..\\Dataset\\dataset1\\lymph_cll\\lymph_cll_0002.jpg</td>\n",
       "      <td>jpg</td>\n",
       "      <td>lymph_cll_0002.jpg</td>\n",
       "      <td>lymph_cll</td>\n",
       "    </tr>\n",
       "    <tr>\n",
       "      <th>2</th>\n",
       "      <td>..\\Dataset\\dataset1\\lymph_cll\\lymph_cll_0003.jpg</td>\n",
       "      <td>jpg</td>\n",
       "      <td>lymph_cll_0003.jpg</td>\n",
       "      <td>lymph_cll</td>\n",
       "    </tr>\n",
       "    <tr>\n",
       "      <th>3</th>\n",
       "      <td>..\\Dataset\\dataset1\\lymph_cll\\lymph_cll_0004.jpg</td>\n",
       "      <td>jpg</td>\n",
       "      <td>lymph_cll_0004.jpg</td>\n",
       "      <td>lymph_cll</td>\n",
       "    </tr>\n",
       "    <tr>\n",
       "      <th>4</th>\n",
       "      <td>..\\Dataset\\dataset1\\lymph_cll\\lymph_cll_0005.jpg</td>\n",
       "      <td>jpg</td>\n",
       "      <td>lymph_cll_0005.jpg</td>\n",
       "      <td>lymph_cll</td>\n",
       "    </tr>\n",
       "    <tr>\n",
       "      <th>...</th>\n",
       "      <td>...</td>\n",
       "      <td>...</td>\n",
       "      <td>...</td>\n",
       "      <td>...</td>\n",
       "    </tr>\n",
       "    <tr>\n",
       "      <th>14995</th>\n",
       "      <td>..\\Dataset\\dataset1\\lymph_mcl\\lymph_mcl_4996.jpg</td>\n",
       "      <td>jpg</td>\n",
       "      <td>lymph_mcl_4996.jpg</td>\n",
       "      <td>lymph_mcl</td>\n",
       "    </tr>\n",
       "    <tr>\n",
       "      <th>14996</th>\n",
       "      <td>..\\Dataset\\dataset1\\lymph_mcl\\lymph_mcl_4997.jpg</td>\n",
       "      <td>jpg</td>\n",
       "      <td>lymph_mcl_4997.jpg</td>\n",
       "      <td>lymph_mcl</td>\n",
       "    </tr>\n",
       "    <tr>\n",
       "      <th>14997</th>\n",
       "      <td>..\\Dataset\\dataset1\\lymph_mcl\\lymph_mcl_4998.jpg</td>\n",
       "      <td>jpg</td>\n",
       "      <td>lymph_mcl_4998.jpg</td>\n",
       "      <td>lymph_mcl</td>\n",
       "    </tr>\n",
       "    <tr>\n",
       "      <th>14998</th>\n",
       "      <td>..\\Dataset\\dataset1\\lymph_mcl\\lymph_mcl_4999.jpg</td>\n",
       "      <td>jpg</td>\n",
       "      <td>lymph_mcl_4999.jpg</td>\n",
       "      <td>lymph_mcl</td>\n",
       "    </tr>\n",
       "    <tr>\n",
       "      <th>14999</th>\n",
       "      <td>..\\Dataset\\dataset1\\lymph_mcl\\lymph_mcl_5000.jpg</td>\n",
       "      <td>jpg</td>\n",
       "      <td>lymph_mcl_5000.jpg</td>\n",
       "      <td>lymph_mcl</td>\n",
       "    </tr>\n",
       "  </tbody>\n",
       "</table>\n",
       "<p>15000 rows × 4 columns</p>\n",
       "</div>"
      ],
      "text/plain": [
       "                                             image_path image_formate  \\\n",
       "0      ..\\Dataset\\dataset1\\lymph_cll\\lymph_cll_0001.jpg           jpg   \n",
       "1      ..\\Dataset\\dataset1\\lymph_cll\\lymph_cll_0002.jpg           jpg   \n",
       "2      ..\\Dataset\\dataset1\\lymph_cll\\lymph_cll_0003.jpg           jpg   \n",
       "3      ..\\Dataset\\dataset1\\lymph_cll\\lymph_cll_0004.jpg           jpg   \n",
       "4      ..\\Dataset\\dataset1\\lymph_cll\\lymph_cll_0005.jpg           jpg   \n",
       "...                                                 ...           ...   \n",
       "14995  ..\\Dataset\\dataset1\\lymph_mcl\\lymph_mcl_4996.jpg           jpg   \n",
       "14996  ..\\Dataset\\dataset1\\lymph_mcl\\lymph_mcl_4997.jpg           jpg   \n",
       "14997  ..\\Dataset\\dataset1\\lymph_mcl\\lymph_mcl_4998.jpg           jpg   \n",
       "14998  ..\\Dataset\\dataset1\\lymph_mcl\\lymph_mcl_4999.jpg           jpg   \n",
       "14999  ..\\Dataset\\dataset1\\lymph_mcl\\lymph_mcl_5000.jpg           jpg   \n",
       "\n",
       "               image_name image_lable  \n",
       "0      lymph_cll_0001.jpg   lymph_cll  \n",
       "1      lymph_cll_0002.jpg   lymph_cll  \n",
       "2      lymph_cll_0003.jpg   lymph_cll  \n",
       "3      lymph_cll_0004.jpg   lymph_cll  \n",
       "4      lymph_cll_0005.jpg   lymph_cll  \n",
       "...                   ...         ...  \n",
       "14995  lymph_mcl_4996.jpg   lymph_mcl  \n",
       "14996  lymph_mcl_4997.jpg   lymph_mcl  \n",
       "14997  lymph_mcl_4998.jpg   lymph_mcl  \n",
       "14998  lymph_mcl_4999.jpg   lymph_mcl  \n",
       "14999  lymph_mcl_5000.jpg   lymph_mcl  \n",
       "\n",
       "[15000 rows x 4 columns]"
      ]
     },
     "metadata": {},
     "output_type": "display_data"
    }
   ],
   "source": [
    "df = pd.DataFrame(columns=['image_path', 'image_formate', 'image_name', 'image_lable'])\n",
    "dataset_folder_path = os.path.join('..', 'Dataset', 'dataset1')\n",
    "\n",
    "for image in glob.glob(os.path.join(dataset_folder_path, '*', '*')):\n",
    "#     print(image.split('\\\\')[-1].split('.')[-1])\n",
    "    image_path = image\n",
    "    image_formate = image.split('\\\\')[-1].split('.')[-1]\n",
    "    image_name = image.split('\\\\')[-1]\n",
    "    image_folder = image.split('\\\\')[-2]\n",
    "    \n",
    "    data = {\n",
    "        'image_path': image_path, \n",
    "        'image_formate': image_formate, \n",
    "        'image_name': image_name, \n",
    "        'image_lable': image_folder\n",
    "    }\n",
    "    df.loc[len(df)] = data\n",
    "\n",
    "#     break\n",
    "\n",
    "display(df)"
   ]
  },
  {
   "cell_type": "markdown",
   "id": "24cdb452",
   "metadata": {},
   "source": [
    "### Links\n",
    "\n",
    "[LabelEncoder](https://scikit-learn.org/stable/modules/generated/sklearn.preprocessing.LabelEncoder.html)\n",
    "\n",
    "[LabelEncoder](https://www.analyticsvidhya.com/blog/2023/07/label-encoding-in-python/)\n",
    "\n",
    "[LabelEncoder](https://www.geeksforgeeks.org/ml-label-encoding-of-datasets-in-python/)\n"
   ]
  },
  {
   "cell_type": "code",
   "execution_count": 3,
   "id": "d2bf8013",
   "metadata": {},
   "outputs": [
    {
     "data": {
      "text/html": [
       "<div>\n",
       "<style scoped>\n",
       "    .dataframe tbody tr th:only-of-type {\n",
       "        vertical-align: middle;\n",
       "    }\n",
       "\n",
       "    .dataframe tbody tr th {\n",
       "        vertical-align: top;\n",
       "    }\n",
       "\n",
       "    .dataframe thead th {\n",
       "        text-align: right;\n",
       "    }\n",
       "</style>\n",
       "<table border=\"1\" class=\"dataframe\">\n",
       "  <thead>\n",
       "    <tr style=\"text-align: right;\">\n",
       "      <th></th>\n",
       "      <th>image_path</th>\n",
       "      <th>image_formate</th>\n",
       "      <th>image_name</th>\n",
       "      <th>image_lable</th>\n",
       "      <th>class</th>\n",
       "    </tr>\n",
       "  </thead>\n",
       "  <tbody>\n",
       "    <tr>\n",
       "      <th>0</th>\n",
       "      <td>..\\Dataset\\dataset1\\lymph_cll\\lymph_cll_0001.jpg</td>\n",
       "      <td>jpg</td>\n",
       "      <td>lymph_cll_0001.jpg</td>\n",
       "      <td>lymph_cll</td>\n",
       "      <td>0</td>\n",
       "    </tr>\n",
       "    <tr>\n",
       "      <th>1</th>\n",
       "      <td>..\\Dataset\\dataset1\\lymph_cll\\lymph_cll_0002.jpg</td>\n",
       "      <td>jpg</td>\n",
       "      <td>lymph_cll_0002.jpg</td>\n",
       "      <td>lymph_cll</td>\n",
       "      <td>0</td>\n",
       "    </tr>\n",
       "    <tr>\n",
       "      <th>2</th>\n",
       "      <td>..\\Dataset\\dataset1\\lymph_cll\\lymph_cll_0003.jpg</td>\n",
       "      <td>jpg</td>\n",
       "      <td>lymph_cll_0003.jpg</td>\n",
       "      <td>lymph_cll</td>\n",
       "      <td>0</td>\n",
       "    </tr>\n",
       "    <tr>\n",
       "      <th>3</th>\n",
       "      <td>..\\Dataset\\dataset1\\lymph_cll\\lymph_cll_0004.jpg</td>\n",
       "      <td>jpg</td>\n",
       "      <td>lymph_cll_0004.jpg</td>\n",
       "      <td>lymph_cll</td>\n",
       "      <td>0</td>\n",
       "    </tr>\n",
       "    <tr>\n",
       "      <th>4</th>\n",
       "      <td>..\\Dataset\\dataset1\\lymph_cll\\lymph_cll_0005.jpg</td>\n",
       "      <td>jpg</td>\n",
       "      <td>lymph_cll_0005.jpg</td>\n",
       "      <td>lymph_cll</td>\n",
       "      <td>0</td>\n",
       "    </tr>\n",
       "    <tr>\n",
       "      <th>...</th>\n",
       "      <td>...</td>\n",
       "      <td>...</td>\n",
       "      <td>...</td>\n",
       "      <td>...</td>\n",
       "      <td>...</td>\n",
       "    </tr>\n",
       "    <tr>\n",
       "      <th>14995</th>\n",
       "      <td>..\\Dataset\\dataset1\\lymph_mcl\\lymph_mcl_4996.jpg</td>\n",
       "      <td>jpg</td>\n",
       "      <td>lymph_mcl_4996.jpg</td>\n",
       "      <td>lymph_mcl</td>\n",
       "      <td>2</td>\n",
       "    </tr>\n",
       "    <tr>\n",
       "      <th>14996</th>\n",
       "      <td>..\\Dataset\\dataset1\\lymph_mcl\\lymph_mcl_4997.jpg</td>\n",
       "      <td>jpg</td>\n",
       "      <td>lymph_mcl_4997.jpg</td>\n",
       "      <td>lymph_mcl</td>\n",
       "      <td>2</td>\n",
       "    </tr>\n",
       "    <tr>\n",
       "      <th>14997</th>\n",
       "      <td>..\\Dataset\\dataset1\\lymph_mcl\\lymph_mcl_4998.jpg</td>\n",
       "      <td>jpg</td>\n",
       "      <td>lymph_mcl_4998.jpg</td>\n",
       "      <td>lymph_mcl</td>\n",
       "      <td>2</td>\n",
       "    </tr>\n",
       "    <tr>\n",
       "      <th>14998</th>\n",
       "      <td>..\\Dataset\\dataset1\\lymph_mcl\\lymph_mcl_4999.jpg</td>\n",
       "      <td>jpg</td>\n",
       "      <td>lymph_mcl_4999.jpg</td>\n",
       "      <td>lymph_mcl</td>\n",
       "      <td>2</td>\n",
       "    </tr>\n",
       "    <tr>\n",
       "      <th>14999</th>\n",
       "      <td>..\\Dataset\\dataset1\\lymph_mcl\\lymph_mcl_5000.jpg</td>\n",
       "      <td>jpg</td>\n",
       "      <td>lymph_mcl_5000.jpg</td>\n",
       "      <td>lymph_mcl</td>\n",
       "      <td>2</td>\n",
       "    </tr>\n",
       "  </tbody>\n",
       "</table>\n",
       "<p>15000 rows × 5 columns</p>\n",
       "</div>"
      ],
      "text/plain": [
       "                                             image_path image_formate  \\\n",
       "0      ..\\Dataset\\dataset1\\lymph_cll\\lymph_cll_0001.jpg           jpg   \n",
       "1      ..\\Dataset\\dataset1\\lymph_cll\\lymph_cll_0002.jpg           jpg   \n",
       "2      ..\\Dataset\\dataset1\\lymph_cll\\lymph_cll_0003.jpg           jpg   \n",
       "3      ..\\Dataset\\dataset1\\lymph_cll\\lymph_cll_0004.jpg           jpg   \n",
       "4      ..\\Dataset\\dataset1\\lymph_cll\\lymph_cll_0005.jpg           jpg   \n",
       "...                                                 ...           ...   \n",
       "14995  ..\\Dataset\\dataset1\\lymph_mcl\\lymph_mcl_4996.jpg           jpg   \n",
       "14996  ..\\Dataset\\dataset1\\lymph_mcl\\lymph_mcl_4997.jpg           jpg   \n",
       "14997  ..\\Dataset\\dataset1\\lymph_mcl\\lymph_mcl_4998.jpg           jpg   \n",
       "14998  ..\\Dataset\\dataset1\\lymph_mcl\\lymph_mcl_4999.jpg           jpg   \n",
       "14999  ..\\Dataset\\dataset1\\lymph_mcl\\lymph_mcl_5000.jpg           jpg   \n",
       "\n",
       "               image_name image_lable  class  \n",
       "0      lymph_cll_0001.jpg   lymph_cll      0  \n",
       "1      lymph_cll_0002.jpg   lymph_cll      0  \n",
       "2      lymph_cll_0003.jpg   lymph_cll      0  \n",
       "3      lymph_cll_0004.jpg   lymph_cll      0  \n",
       "4      lymph_cll_0005.jpg   lymph_cll      0  \n",
       "...                   ...         ...    ...  \n",
       "14995  lymph_mcl_4996.jpg   lymph_mcl      2  \n",
       "14996  lymph_mcl_4997.jpg   lymph_mcl      2  \n",
       "14997  lymph_mcl_4998.jpg   lymph_mcl      2  \n",
       "14998  lymph_mcl_4999.jpg   lymph_mcl      2  \n",
       "14999  lymph_mcl_5000.jpg   lymph_mcl      2  \n",
       "\n",
       "[15000 rows x 5 columns]"
      ]
     },
     "metadata": {},
     "output_type": "display_data"
    }
   ],
   "source": [
    "from sklearn.preprocessing import LabelEncoder\n",
    "label_encoder = LabelEncoder()\n",
    "df['class']= label_encoder.fit_transform(df['image_lable']) \n",
    "display(df)"
   ]
  },
  {
   "cell_type": "code",
   "execution_count": 4,
   "id": "0a5a23d6",
   "metadata": {},
   "outputs": [],
   "source": [
    "data_file = os.path.join('..', 'Dataset', 'dataset1_label_and_classes.csv')\n",
    "df.to_csv(data_file, index=False)"
   ]
  },
  {
   "cell_type": "markdown",
   "id": "b0c4eb4b",
   "metadata": {},
   "source": [
    "### Split dataset"
   ]
  },
  {
   "cell_type": "code",
   "execution_count": 5,
   "id": "a11a6d07",
   "metadata": {},
   "outputs": [
    {
     "data": {
      "text/html": [
       "<div>\n",
       "<style scoped>\n",
       "    .dataframe tbody tr th:only-of-type {\n",
       "        vertical-align: middle;\n",
       "    }\n",
       "\n",
       "    .dataframe tbody tr th {\n",
       "        vertical-align: top;\n",
       "    }\n",
       "\n",
       "    .dataframe thead th {\n",
       "        text-align: right;\n",
       "    }\n",
       "</style>\n",
       "<table border=\"1\" class=\"dataframe\">\n",
       "  <thead>\n",
       "    <tr style=\"text-align: right;\">\n",
       "      <th></th>\n",
       "      <th>image_path</th>\n",
       "      <th>image_formate</th>\n",
       "      <th>image_name</th>\n",
       "      <th>image_lable</th>\n",
       "      <th>class</th>\n",
       "    </tr>\n",
       "  </thead>\n",
       "  <tbody>\n",
       "    <tr>\n",
       "      <th>0</th>\n",
       "      <td>..\\Dataset\\dataset1\\lymph_cll\\lymph_cll_0001.jpg</td>\n",
       "      <td>jpg</td>\n",
       "      <td>lymph_cll_0001.jpg</td>\n",
       "      <td>lymph_cll</td>\n",
       "      <td>0</td>\n",
       "    </tr>\n",
       "    <tr>\n",
       "      <th>1</th>\n",
       "      <td>..\\Dataset\\dataset1\\lymph_cll\\lymph_cll_0002.jpg</td>\n",
       "      <td>jpg</td>\n",
       "      <td>lymph_cll_0002.jpg</td>\n",
       "      <td>lymph_cll</td>\n",
       "      <td>0</td>\n",
       "    </tr>\n",
       "    <tr>\n",
       "      <th>2</th>\n",
       "      <td>..\\Dataset\\dataset1\\lymph_cll\\lymph_cll_0003.jpg</td>\n",
       "      <td>jpg</td>\n",
       "      <td>lymph_cll_0003.jpg</td>\n",
       "      <td>lymph_cll</td>\n",
       "      <td>0</td>\n",
       "    </tr>\n",
       "    <tr>\n",
       "      <th>3</th>\n",
       "      <td>..\\Dataset\\dataset1\\lymph_cll\\lymph_cll_0004.jpg</td>\n",
       "      <td>jpg</td>\n",
       "      <td>lymph_cll_0004.jpg</td>\n",
       "      <td>lymph_cll</td>\n",
       "      <td>0</td>\n",
       "    </tr>\n",
       "    <tr>\n",
       "      <th>4</th>\n",
       "      <td>..\\Dataset\\dataset1\\lymph_cll\\lymph_cll_0005.jpg</td>\n",
       "      <td>jpg</td>\n",
       "      <td>lymph_cll_0005.jpg</td>\n",
       "      <td>lymph_cll</td>\n",
       "      <td>0</td>\n",
       "    </tr>\n",
       "  </tbody>\n",
       "</table>\n",
       "</div>"
      ],
      "text/plain": [
       "                                         image_path image_formate  \\\n",
       "0  ..\\Dataset\\dataset1\\lymph_cll\\lymph_cll_0001.jpg           jpg   \n",
       "1  ..\\Dataset\\dataset1\\lymph_cll\\lymph_cll_0002.jpg           jpg   \n",
       "2  ..\\Dataset\\dataset1\\lymph_cll\\lymph_cll_0003.jpg           jpg   \n",
       "3  ..\\Dataset\\dataset1\\lymph_cll\\lymph_cll_0004.jpg           jpg   \n",
       "4  ..\\Dataset\\dataset1\\lymph_cll\\lymph_cll_0005.jpg           jpg   \n",
       "\n",
       "           image_name image_lable  class  \n",
       "0  lymph_cll_0001.jpg   lymph_cll      0  \n",
       "1  lymph_cll_0002.jpg   lymph_cll      0  \n",
       "2  lymph_cll_0003.jpg   lymph_cll      0  \n",
       "3  lymph_cll_0004.jpg   lymph_cll      0  \n",
       "4  lymph_cll_0005.jpg   lymph_cll      0  "
      ]
     },
     "execution_count": 5,
     "metadata": {},
     "output_type": "execute_result"
    }
   ],
   "source": [
    "df = pd.read_csv(data_file)\n",
    "df.head()"
   ]
  },
  {
   "cell_type": "code",
   "execution_count": 6,
   "id": "046963b9",
   "metadata": {},
   "outputs": [
    {
     "data": {
      "text/plain": [
       "(array([0, 1, 2], dtype=int64), 3)"
      ]
     },
     "execution_count": 6,
     "metadata": {},
     "output_type": "execute_result"
    }
   ],
   "source": [
    "df['class'].unique(), len(df['class'].unique())"
   ]
  },
  {
   "cell_type": "code",
   "execution_count": 7,
   "id": "37cbcaf1",
   "metadata": {
    "scrolled": true
   },
   "outputs": [
    {
     "data": {
      "text/plain": [
       "class\n",
       "0    5000\n",
       "1    5000\n",
       "2    5000\n",
       "Name: count, dtype: int64"
      ]
     },
     "execution_count": 7,
     "metadata": {},
     "output_type": "execute_result"
    }
   ],
   "source": [
    "df['class'].value_counts()"
   ]
  },
  {
   "cell_type": "code",
   "execution_count": 20,
   "id": "c0d710a3",
   "metadata": {},
   "outputs": [],
   "source": [
    "from sklearn.model_selection import train_test_split\n",
    "\n",
    "train_val, test = train_test_split(df, \n",
    "                                   random_state = 104, \n",
    "                                   test_size = 0.4,\n",
    "                                   stratify = df[\"class\"],\n",
    "                                   shuffle = True)"
   ]
  },
  {
   "cell_type": "code",
   "execution_count": 21,
   "id": "b0cf08c6",
   "metadata": {},
   "outputs": [
    {
     "data": {
      "text/plain": [
       "((9000, 5), (6000, 5))"
      ]
     },
     "execution_count": 21,
     "metadata": {},
     "output_type": "execute_result"
    }
   ],
   "source": [
    "train_val.shape, test.shape"
   ]
  },
  {
   "cell_type": "code",
   "execution_count": 22,
   "id": "8e4fdcde",
   "metadata": {},
   "outputs": [
    {
     "data": {
      "text/plain": [
       "(array([0, 1, 2], dtype=int64), 3)"
      ]
     },
     "execution_count": 22,
     "metadata": {},
     "output_type": "execute_result"
    }
   ],
   "source": [
    "test['class'].unique(), len(test['class'].unique())"
   ]
  },
  {
   "cell_type": "code",
   "execution_count": 23,
   "id": "8f86ba7a",
   "metadata": {
    "scrolled": true
   },
   "outputs": [
    {
     "data": {
      "text/plain": [
       "class\n",
       "0    2000\n",
       "1    2000\n",
       "2    2000\n",
       "Name: count, dtype: int64"
      ]
     },
     "execution_count": 23,
     "metadata": {},
     "output_type": "execute_result"
    }
   ],
   "source": [
    "test['class'].value_counts()"
   ]
  },
  {
   "cell_type": "code",
   "execution_count": 24,
   "id": "0c5b9224",
   "metadata": {},
   "outputs": [
    {
     "data": {
      "text/plain": [
       "(array([2, 1, 0], dtype=int64), 3)"
      ]
     },
     "execution_count": 24,
     "metadata": {},
     "output_type": "execute_result"
    }
   ],
   "source": [
    "train_val['class'].unique(), len(train_val['class'].unique())"
   ]
  },
  {
   "cell_type": "code",
   "execution_count": 25,
   "id": "fb85f093",
   "metadata": {
    "scrolled": true
   },
   "outputs": [
    {
     "data": {
      "text/plain": [
       "class\n",
       "2    3000\n",
       "1    3000\n",
       "0    3000\n",
       "Name: count, dtype: int64"
      ]
     },
     "execution_count": 25,
     "metadata": {},
     "output_type": "execute_result"
    }
   ],
   "source": [
    "train_val['class'].value_counts()"
   ]
  },
  {
   "cell_type": "code",
   "execution_count": 26,
   "id": "4654864b",
   "metadata": {},
   "outputs": [],
   "source": [
    "train_val_data_file = os.path.join('..', 'Dataset', 'train_val_data_dataset1_label_and_classes.csv')\n",
    "train_val.to_csv(train_val_data_file, index=False)\n",
    "\n",
    "test_data_file = os.path.join('..', 'Dataset', 'test_data_dataset1_label_and_classes.csv')\n",
    "test.to_csv(test_data_file, index=False)"
   ]
  },
  {
   "cell_type": "code",
   "execution_count": 27,
   "id": "1f168534",
   "metadata": {},
   "outputs": [],
   "source": [
    "train_val = pd.read_csv(train_val_data_file)\n",
    "X, y = train_val.drop('class',axis=1), train_val['class']\n",
    "X_train, X_test, y_train, y_test = train_test_split(X, y, test_size=0.4, random_state=104, shuffle=True, stratify=y)"
   ]
  },
  {
   "cell_type": "code",
   "execution_count": 28,
   "id": "f66b8ca8",
   "metadata": {},
   "outputs": [
    {
     "data": {
      "text/plain": [
       "((5400, 4), (3600, 4))"
      ]
     },
     "execution_count": 28,
     "metadata": {},
     "output_type": "execute_result"
    }
   ],
   "source": [
    "X_train.shape, X_test.shape"
   ]
  },
  {
   "cell_type": "code",
   "execution_count": 29,
   "id": "9e842018",
   "metadata": {},
   "outputs": [
    {
     "data": {
      "text/plain": [
       "<Axes: xlabel='image_lable'>"
      ]
     },
     "execution_count": 29,
     "metadata": {},
     "output_type": "execute_result"
    },
    {
     "data": {
      "image/png": "[encoded data removed]",
      "text/plain": [
       "<Figure size 640x480 with 1 Axes>"
      ]
     },
     "metadata": {},
     "output_type": "display_data"
    }
   ],
   "source": [
    "X_train['image_lable'].value_counts()[:].plot(kind='bar')"
   ]
  },
  {
   "cell_type": "code",
   "execution_count": 30,
   "id": "cce62f21",
   "metadata": {
    "scrolled": true
   },
   "outputs": [
    {
     "data": {
      "text/plain": [
       "image_lable\n",
       "lymph_cll    1800\n",
       "lymph_mcl    1800\n",
       "lymph_fl     1800\n",
       "Name: count, dtype: int64"
      ]
     },
     "execution_count": 30,
     "metadata": {},
     "output_type": "execute_result"
    }
   ],
   "source": [
    "X_train['image_lable'].value_counts()"
   ]
  },
  {
   "cell_type": "code",
   "execution_count": 31,
   "id": "357d2b9d",
   "metadata": {
    "scrolled": false
   },
   "outputs": [
    {
     "data": {
      "text/plain": [
       "<Axes: xlabel='image_lable'>"
      ]
     },
     "execution_count": 31,
     "metadata": {},
     "output_type": "execute_result"
    },
    {
     "data": {
      "image/png": "[encoded data removed]",
      "text/plain": [
       "<Figure size 640x480 with 1 Axes>"
      ]
     },
     "metadata": {},
     "output_type": "display_data"
    }
   ],
   "source": [
    "X_test['image_lable'].value_counts()[:].plot(kind='bar')"
   ]
  },
  {
   "cell_type": "code",
   "execution_count": 32,
   "id": "af093b8c",
   "metadata": {
    "scrolled": true
   },
   "outputs": [
    {
     "data": {
      "text/plain": [
       "image_lable\n",
       "lymph_fl     1200\n",
       "lymph_mcl    1200\n",
       "lymph_cll    1200\n",
       "Name: count, dtype: int64"
      ]
     },
     "execution_count": 32,
     "metadata": {},
     "output_type": "execute_result"
    }
   ],
   "source": [
    "X_test['image_lable'].value_counts()"
   ]
  },
  {
   "cell_type": "code",
   "execution_count": 33,
   "id": "7cabb30f",
   "metadata": {},
   "outputs": [],
   "source": [
    "training_data = pd.concat([X_train, y_train], axis=1)\n",
    "training_data_file = os.path.join('..', 'Dataset', 'training_data_dataset1_label_and_classes.csv')\n",
    "training_data.to_csv(training_data_file, index=False)\n",
    "\n",
    "testing_data = pd.concat([X_test, y_test], axis=1)\n",
    "testing_data_file = os.path.join('..', 'Dataset', 'testing_data_dataset1_label_and_classes.csv')\n",
    "testing_data.to_csv(testing_data_file, index=False)\n"
   ]
  },
  {
   "cell_type": "markdown",
   "id": "fe3c62bc",
   "metadata": {},
   "source": [
    "### Move Images"
   ]
  },
  {
   "cell_type": "code",
   "execution_count": 34,
   "id": "8a2bac1f",
   "metadata": {},
   "outputs": [
    {
     "data": {
      "text/html": [
       "<div>\n",
       "<style scoped>\n",
       "    .dataframe tbody tr th:only-of-type {\n",
       "        vertical-align: middle;\n",
       "    }\n",
       "\n",
       "    .dataframe tbody tr th {\n",
       "        vertical-align: top;\n",
       "    }\n",
       "\n",
       "    .dataframe thead th {\n",
       "        text-align: right;\n",
       "    }\n",
       "</style>\n",
       "<table border=\"1\" class=\"dataframe\">\n",
       "  <thead>\n",
       "    <tr style=\"text-align: right;\">\n",
       "      <th></th>\n",
       "      <th>image_path</th>\n",
       "      <th>image_formate</th>\n",
       "      <th>image_name</th>\n",
       "      <th>image_lable</th>\n",
       "      <th>class</th>\n",
       "    </tr>\n",
       "  </thead>\n",
       "  <tbody>\n",
       "    <tr>\n",
       "      <th>0</th>\n",
       "      <td>..\\Dataset\\dataset1\\lymph_cll\\lymph_cll_3986.jpg</td>\n",
       "      <td>jpg</td>\n",
       "      <td>lymph_cll_3986.jpg</td>\n",
       "      <td>lymph_cll</td>\n",
       "      <td>0</td>\n",
       "    </tr>\n",
       "    <tr>\n",
       "      <th>1</th>\n",
       "      <td>..\\Dataset\\dataset1\\lymph_fl\\lymph_fl_3375.jpg</td>\n",
       "      <td>jpg</td>\n",
       "      <td>lymph_fl_3375.jpg</td>\n",
       "      <td>lymph_fl</td>\n",
       "      <td>1</td>\n",
       "    </tr>\n",
       "    <tr>\n",
       "      <th>2</th>\n",
       "      <td>..\\Dataset\\dataset1\\lymph_cll\\lymph_cll_3232.jpg</td>\n",
       "      <td>jpg</td>\n",
       "      <td>lymph_cll_3232.jpg</td>\n",
       "      <td>lymph_cll</td>\n",
       "      <td>0</td>\n",
       "    </tr>\n",
       "    <tr>\n",
       "      <th>3</th>\n",
       "      <td>..\\Dataset\\dataset1\\lymph_fl\\lymph_fl_2002.jpg</td>\n",
       "      <td>jpg</td>\n",
       "      <td>lymph_fl_2002.jpg</td>\n",
       "      <td>lymph_fl</td>\n",
       "      <td>1</td>\n",
       "    </tr>\n",
       "    <tr>\n",
       "      <th>4</th>\n",
       "      <td>..\\Dataset\\dataset1\\lymph_fl\\lymph_fl_4204.jpg</td>\n",
       "      <td>jpg</td>\n",
       "      <td>lymph_fl_4204.jpg</td>\n",
       "      <td>lymph_fl</td>\n",
       "      <td>1</td>\n",
       "    </tr>\n",
       "  </tbody>\n",
       "</table>\n",
       "</div>"
      ],
      "text/plain": [
       "                                         image_path image_formate  \\\n",
       "0  ..\\Dataset\\dataset1\\lymph_cll\\lymph_cll_3986.jpg           jpg   \n",
       "1    ..\\Dataset\\dataset1\\lymph_fl\\lymph_fl_3375.jpg           jpg   \n",
       "2  ..\\Dataset\\dataset1\\lymph_cll\\lymph_cll_3232.jpg           jpg   \n",
       "3    ..\\Dataset\\dataset1\\lymph_fl\\lymph_fl_2002.jpg           jpg   \n",
       "4    ..\\Dataset\\dataset1\\lymph_fl\\lymph_fl_4204.jpg           jpg   \n",
       "\n",
       "           image_name image_lable  class  \n",
       "0  lymph_cll_3986.jpg   lymph_cll      0  \n",
       "1   lymph_fl_3375.jpg    lymph_fl      1  \n",
       "2  lymph_cll_3232.jpg   lymph_cll      0  \n",
       "3   lymph_fl_2002.jpg    lymph_fl      1  \n",
       "4   lymph_fl_4204.jpg    lymph_fl      1  "
      ]
     },
     "execution_count": 34,
     "metadata": {},
     "output_type": "execute_result"
    }
   ],
   "source": [
    "training_data_file = os.path.join('..', 'Dataset', 'test_data_dataset1_label_and_classes.csv')\n",
    "data = pd.read_csv(training_data_file)\n",
    "data.head()"
   ]
  },
  {
   "cell_type": "code",
   "execution_count": 36,
   "id": "e6495a65",
   "metadata": {},
   "outputs": [
    {
     "name": "stdout",
     "output_type": "stream",
     "text": [
      "(4800, 5) (1200, 5)\n",
      "(3216, 5) (1584, 5)\n"
     ]
    }
   ],
   "source": [
    "from sklearn.model_selection import train_test_split\n",
    "\n",
    "train_val, test = train_test_split(data, random_state=104, test_size=0.2, shuffle=True, stratify=data['class'])\n",
    "\n",
    "print(train_val.shape, test.shape)\n",
    "\n",
    "training_data, testing_data = train_test_split(train_val, random_state=104, \n",
    "                                               test_size=0.33, shuffle=True, \n",
    "                                               stratify=train_val['class'])\n",
    "\n",
    "print(training_data.shape, testing_data.shape)"
   ]
  },
  {
   "cell_type": "code",
   "execution_count": 37,
   "id": "a0f6c3d1",
   "metadata": {},
   "outputs": [],
   "source": [
    "import shutil \n",
    "\n",
    "train_folder_name =  os.path.join('..', 'Dataset', 'data', 'train')\n",
    "os.makedirs(train_folder_name, exist_ok=True) \n",
    "\n",
    "for index, row in training_data.iterrows():\n",
    "    os.makedirs(os.path.join(train_folder_name, str(row['class'])), exist_ok=True) \n",
    "\n",
    "    source = row['image_path']\n",
    "    destination = os.path.join(train_folder_name, str(row['class']), row['image_name'])\n",
    "    shutil.copy2(source, destination) \n",
    "    \n",
    "#     break"
   ]
  },
  {
   "cell_type": "code",
   "execution_count": 38,
   "id": "4d356c35",
   "metadata": {},
   "outputs": [],
   "source": [
    "test_folder_name =  os.path.join('..', 'Dataset', 'data', 'test')\n",
    "os.makedirs(test_folder_name, exist_ok=True) \n",
    "\n",
    "for index, row in testing_data.iterrows():\n",
    "    os.makedirs(os.path.join(test_folder_name, str(row['class'])), exist_ok=True) \n",
    "    \n",
    "    source = row['image_path']\n",
    "    destination = os.path.join(test_folder_name, str(row['class']), row['image_name'])\n",
    "    shutil.copy2(source, destination) \n",
    "    \n",
    "#     break"
   ]
  },
  {
   "cell_type": "code",
   "execution_count": 39,
   "id": "676a8a62",
   "metadata": {},
   "outputs": [],
   "source": [
    "test_data = test.copy() # pd.read_csv(test_data_file)\n",
    "\n",
    "val_folder_name =  os.path.join('..', 'Dataset', 'data', 'val')\n",
    "os.makedirs(val_folder_name, exist_ok=True) \n",
    "\n",
    "for index, row in test_data.iterrows():\n",
    "    os.makedirs(os.path.join(val_folder_name, str(row['class'])), exist_ok=True) \n",
    "    \n",
    "    source = row['image_path']\n",
    "    destination = os.path.join(val_folder_name, str(row['class']), row['image_name'])\n",
    "    shutil.copy2(source, destination) \n",
    "    \n",
    "#     break"
   ]
  },
  {
   "cell_type": "code",
   "execution_count": null,
   "id": "0f88b57a",
   "metadata": {},
   "outputs": [],
   "source": []
  }
 ],
 "metadata": {
  "kernelspec": {
   "display_name": "Python 3 (ipykernel)",
   "language": "python",
   "name": "python3"
  },
  "language_info": {
   "codemirror_mode": {
    "name": "ipython",
    "version": 3
   },
   "file_extension": ".py",
   "mimetype": "text/x-python",
   "name": "python",
   "nbconvert_exporter": "python",
   "pygments_lexer": "ipython3",
   "version": "3.10.11"
  }
 },
 "nbformat": 4,
 "nbformat_minor": 5
}
