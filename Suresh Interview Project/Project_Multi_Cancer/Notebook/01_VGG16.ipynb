{
 "cells": [
  {
   "cell_type": "code",
   "execution_count": 10,
   "id": "97c03d7d",
   "metadata": {},
   "outputs": [],
   "source": [
    "import os\n",
    "import glob\n",
    "import numpy as np\n",
    "import pandas as pd\n",
    "from pathlib import Path\n",
    "\n",
    "import matplotlib.pyplot as plt\n",
    "%matplotlib inline\n",
    "\n",
    "import tensorflow as tf\n",
    "from tensorflow.keras.preprocessing.image import ImageDataGenerator\n",
    "\n",
    "import keras\n",
    "from keras.models import Sequential, Model, load_model\n",
    "from keras.layers import Dense, Conv2D, MaxPooling2D, Dropout, Flatten, BatchNormalization\n",
    "from keras.optimizers import Adam, SGD\n",
    "from keras.callbacks import ModelCheckpoint, EarlyStopping, ReduceLROnPlateau, CSVLogger\n",
    "from keras.preprocessing import image\n",
    "\n",
    "from keras.applications import VGG16\n",
    "from keras.applications.vgg16 import preprocess_input, decode_predictions\n"
   ]
  },
  {
   "cell_type": "code",
   "execution_count": 6,
   "id": "3f8b08c6",
   "metadata": {},
   "outputs": [
    {
     "name": "stdout",
     "output_type": "stream",
     "text": [
      "Found 3216 images belonging to 3 classes.\n",
      "Found 1584 images belonging to 3 classes.\n"
     ]
    }
   ],
   "source": [
    "train_data_path = os.path.join('..', 'Dataset', 'data', 'train') # '/content/data/train'\n",
    "valid_data_path = os.path.join('..', 'Dataset', 'data', 'test') # '/content/data/test'\n",
    "\n",
    "train_data_agumentation = ImageDataGenerator(rescale = 1./255\n",
    "                                            #  shear_range = 0.2,\n",
    "                                            #  zoom_range = 0.2,\n",
    "                                            #  horizontal_flip = True,\n",
    "                                            #  vertical_flip = True\n",
    "                                             )\n",
    "\n",
    "val_data_agumentation = ImageDataGenerator(rescale = 1./255)\n",
    "\n",
    "\n",
    "# load training data\n",
    "train_data = train_data_agumentation.flow_from_directory(directory = train_data_path,\n",
    "                                                         target_size = (224,224),\n",
    "                                                         class_mode = 'categorical',\n",
    "                                                         batch_size = 64)\n",
    "\n",
    "val_data = val_data_agumentation.flow_from_directory(directory = valid_data_path,\n",
    "                                                     target_size = (224,224),\n",
    "                                                     class_mode = 'categorical',\n",
    "                                                     batch_size = 64)"
   ]
  },
  {
   "cell_type": "code",
   "execution_count": 13,
   "id": "7e1f56bd",
   "metadata": {},
   "outputs": [],
   "source": [
    "checkpoint_dir = 'checkpoints_vgg16'\n",
    "if not os.path.exists(checkpoint_dir):\n",
    "    os.makedirs(checkpoint_dir)\n",
    "\n",
    "checkpoint_filepath = os.path.join(checkpoint_dir,\n",
    "                                   \"model_epoch_{epoch:02d}_val_acc_{val_accuracy:.2f}_val_loss_{val_loss:.2f}.keras\")\n",
    "\n",
    "checkpoint = ModelCheckpoint(filepath = checkpoint_filepath,\n",
    "                             monitor = 'val_loss',\n",
    "                             verbose = 0,\n",
    "                             save_best_only = True,\n",
    "                             save_weights_only = False,\n",
    "                             mode = 'auto')\n",
    "\n",
    "early = EarlyStopping(monitor = 'val_loss',\n",
    "                      min_delta = 0,\n",
    "                      patience = 10,\n",
    "                      verbose = 0,\n",
    "                      mode = 'auto')\n",
    "\n",
    "reduceLR = ReduceLROnPlateau(monitor=\"val_loss\", \n",
    "                             factor=0.1,\n",
    "                             patience=10, \n",
    "                             verbose=0, \n",
    "                             mode=\"auto\",\n",
    "                             min_delta=0.0001, \n",
    "                             cooldown=0,\n",
    "                             min_lr=0.0)\n",
    "\n",
    "csv_logger = CSVLogger('training.log')\n",
    "\n",
    "callbacks_list = [checkpoint, reduceLR, csv_logger] #, early\n"
   ]
  },
  {
   "cell_type": "code",
   "execution_count": 14,
   "id": "b2741f76",
   "metadata": {},
   "outputs": [
    {
     "name": "stdout",
     "output_type": "stream",
     "text": [
      "Model: \"model_1\"\n",
      "_________________________________________________________________\n",
      " Layer (type)                Output Shape              Param #   \n",
      "=================================================================\n",
      " input_2 (InputLayer)        [(None, 224, 224, 3)]     0         \n",
      "                                                                 \n",
      " block1_conv1 (Conv2D)       (None, 224, 224, 64)      1792      \n",
      "                                                                 \n",
      " block1_conv2 (Conv2D)       (None, 224, 224, 64)      36928     \n",
      "                                                                 \n",
      " block1_pool (MaxPooling2D)  (None, 112, 112, 64)      0         \n",
      "                                                                 \n",
      " block2_conv1 (Conv2D)       (None, 112, 112, 128)     73856     \n",
      "                                                                 \n",
      " block2_conv2 (Conv2D)       (None, 112, 112, 128)     147584    \n",
      "                                                                 \n",
      " block2_pool (MaxPooling2D)  (None, 56, 56, 128)       0         \n",
      "                                                                 \n",
      " block3_conv1 (Conv2D)       (None, 56, 56, 256)       295168    \n",
      "                                                                 \n",
      " block3_conv2 (Conv2D)       (None, 56, 56, 256)       590080    \n",
      "                                                                 \n",
      " block3_conv3 (Conv2D)       (None, 56, 56, 256)       590080    \n",
      "                                                                 \n",
      " block3_pool (MaxPooling2D)  (None, 28, 28, 256)       0         \n",
      "                                                                 \n",
      " block4_conv1 (Conv2D)       (None, 28, 28, 512)       1180160   \n",
      "                                                                 \n",
      " block4_conv2 (Conv2D)       (None, 28, 28, 512)       2359808   \n",
      "                                                                 \n",
      " block4_conv3 (Conv2D)       (None, 28, 28, 512)       2359808   \n",
      "                                                                 \n",
      " block4_pool (MaxPooling2D)  (None, 14, 14, 512)       0         \n",
      "                                                                 \n",
      " block5_conv1 (Conv2D)       (None, 14, 14, 512)       2359808   \n",
      "                                                                 \n",
      " block5_conv2 (Conv2D)       (None, 14, 14, 512)       2359808   \n",
      "                                                                 \n",
      " block5_conv3 (Conv2D)       (None, 14, 14, 512)       2359808   \n",
      "                                                                 \n",
      " block5_pool (MaxPooling2D)  (None, 7, 7, 512)         0         \n",
      "                                                                 \n",
      " flatten_1 (Flatten)         (None, 25088)             0         \n",
      "                                                                 \n",
      " dense_1 (Dense)             (None, 3)                 75267     \n",
      "                                                                 \n",
      "=================================================================\n",
      "Total params: 14789955 (56.42 MB)\n",
      "Trainable params: 75267 (294.01 KB)\n",
      "Non-trainable params: 14714688 (56.13 MB)\n",
      "_________________________________________________________________\n"
     ]
    }
   ],
   "source": [
    "image_size = [224, 224]\n",
    "num_classes = len(glob.glob(train_data_path+'/*'))\n",
    "\n",
    "# Load the pre-trained model\n",
    "model = VGG16(input_shape = image_size + [3],\n",
    "              weights = 'imagenet',\n",
    "              include_top = False)\n",
    "\n",
    "# our layers - you can add more if you want\n",
    "x = Flatten()(model.output)\n",
    "\n",
    "output_layer = Dense(num_classes, activation='softmax')(x)\n",
    "\n",
    "# model.layers.trainable = False\n",
    "for layer in model.layers:\n",
    "    layer.trainable = False\n",
    "\n",
    "# create a model object\n",
    "model = Model(inputs = model.input, outputs = output_layer)\n",
    "model.summary()\n"
   ]
  },
  {
   "cell_type": "code",
   "execution_count": 15,
   "id": "5998d332",
   "metadata": {},
   "outputs": [],
   "source": [
    "#Initializing the hyperparameters\n",
    "sgd = SGD(learning_rate = 0.01, \n",
    "          momentum = 0.9, \n",
    "          nesterov = False)\n",
    "\n",
    "adam = Adam(learning_rate = 0.001, \n",
    "            beta_1 = 0.9,\n",
    "            beta_2 = 0.999,\n",
    "            epsilon = 1e-07)\n",
    "\n",
    "# compile the model with adam optimizer, categorical_croosentropy loss function\n",
    "# model.compile(optimizer = 'adam',\n",
    "#               loss = 'categorical_crossentropy',\n",
    "#               metrics = ['accuracy'])\n",
    "\n",
    "model.compile(optimizer = sgd,\n",
    "              loss = 'categorical_crossentropy',\n",
    "              metrics = ['accuracy'])\n",
    "\n",
    "# model.compile(optimizer = adam\n",
    "#               loss = 'categorical_crossentropy',\n",
    "#               metrics = ['accuracy'])\n"
   ]
  },
  {
   "cell_type": "code",
   "execution_count": 17,
   "id": "dc559105",
   "metadata": {},
   "outputs": [
    {
     "name": "stdout",
     "output_type": "stream",
     "text": [
      "Epoch 1/5\n",
      "51/51 [==============================] - 1123s 22s/step - loss: 5.9576 - accuracy: 0.5572 - val_loss: 6.6059 - val_accuracy: 0.5385 - lr: 0.0100\n",
      "Epoch 2/5\n",
      "51/51 [==============================] - 1109s 22s/step - loss: 16.1434 - accuracy: 0.4835 - val_loss: 5.5731 - val_accuracy: 0.5707 - lr: 0.0100\n",
      "Epoch 3/5\n",
      "51/51 [==============================] - 1111s 22s/step - loss: 5.2849 - accuracy: 0.5979 - val_loss: 28.0336 - val_accuracy: 0.3390 - lr: 0.0100\n",
      "Epoch 4/5\n",
      "51/51 [==============================] - 1060s 21s/step - loss: 7.1758 - accuracy: 0.5725 - val_loss: 4.1126 - val_accuracy: 0.5833 - lr: 0.0100\n",
      "Epoch 5/5\n",
      "51/51 [==============================] - 1067s 21s/step - loss: 10.3017 - accuracy: 0.5090 - val_loss: 29.0489 - val_accuracy: 0.3359 - lr: 0.0100\n"
     ]
    }
   ],
   "source": [
    "history = model.fit(train_data,\n",
    "                    batch_size = 32,\n",
    "                    epochs = 5,\n",
    "                    validation_data = val_data,\n",
    "                    callbacks = callbacks_list)"
   ]
  },
  {
   "cell_type": "code",
   "execution_count": null,
   "id": "b609b6e5",
   "metadata": {},
   "outputs": [],
   "source": []
  },
  {
   "cell_type": "code",
   "execution_count": null,
   "id": "7df99d55",
   "metadata": {},
   "outputs": [],
   "source": []
  },
  {
   "cell_type": "code",
   "execution_count": null,
   "id": "210b92a6",
   "metadata": {},
   "outputs": [],
   "source": []
  },
  {
   "cell_type": "code",
   "execution_count": null,
   "id": "84d765f5",
   "metadata": {},
   "outputs": [],
   "source": []
  },
  {
   "cell_type": "code",
   "execution_count": null,
   "id": "92bb0bdd",
   "metadata": {},
   "outputs": [],
   "source": [
    "# model.compile(optimizer = adam\n",
    "#               loss = 'categorical_crossentropy',\n",
    "#               metrics = ['accuracy'])\n",
    "\n",
    "# history_adam = model.fit(train_data, \n",
    "#                          batch_size = 32, \n",
    "#                          epochs = 5, \n",
    "#                          validation_data = val_data, \n",
    "#                          callbacks = callbacks_list)"
   ]
  }
 ],
 "metadata": {
  "kernelspec": {
   "display_name": "Python 3 (ipykernel)",
   "language": "python",
   "name": "python3"
  },
  "language_info": {
   "codemirror_mode": {
    "name": "ipython",
    "version": 3
   },
   "file_extension": ".py",
   "mimetype": "text/x-python",
   "name": "python",
   "nbconvert_exporter": "python",
   "pygments_lexer": "ipython3",
   "version": "3.10.11"
  }
 },
 "nbformat": 4,
 "nbformat_minor": 5
}
