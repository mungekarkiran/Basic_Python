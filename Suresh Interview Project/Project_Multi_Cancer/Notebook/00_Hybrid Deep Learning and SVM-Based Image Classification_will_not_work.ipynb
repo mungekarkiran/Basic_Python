{
 "cells": [
  {
   "cell_type": "markdown",
   "id": "7a816384",
   "metadata": {},
   "source": [
    "# Hybrid Deep Learning and SVM-Based Image Classification Framework"
   ]
  },
  {
   "cell_type": "code",
   "execution_count": 1,
   "id": "14b38b0a",
   "metadata": {},
   "outputs": [
    {
     "name": "stdout",
     "output_type": "stream",
     "text": [
      "WARNING:tensorflow:From C:\\ProjectWork\\Basic_Python\\Suresh Interview Project\\Project_Multi_Cancer\\venv_multican\\lib\\site-packages\\keras\\src\\losses.py:2976: The name tf.losses.sparse_softmax_cross_entropy is deprecated. Please use tf.compat.v1.losses.sparse_softmax_cross_entropy instead.\n",
      "\n"
     ]
    }
   ],
   "source": [
    "import tensorflow as tf\n",
    "from tensorflow.keras.applications import ResNet50\n",
    "from tensorflow.keras.preprocessing.image import ImageDataGenerator\n",
    "from sklearn.svm import SVC\n",
    "from sklearn.model_selection import train_test_split\n",
    "from sklearn.metrics import accuracy_score\n",
    "import pandas as pd\n",
    "import numpy as np\n",
    "import os\n"
   ]
  },
  {
   "cell_type": "code",
   "execution_count": 2,
   "id": "b353df57",
   "metadata": {},
   "outputs": [
    {
     "name": "stdout",
     "output_type": "stream",
     "text": [
      "WARNING:tensorflow:From C:\\ProjectWork\\Basic_Python\\Suresh Interview Project\\Project_Multi_Cancer\\venv_multican\\lib\\site-packages\\keras\\src\\backend.py:1398: The name tf.executing_eagerly_outside_functions is deprecated. Please use tf.compat.v1.executing_eagerly_outside_functions instead.\n",
      "\n",
      "WARNING:tensorflow:From C:\\ProjectWork\\Basic_Python\\Suresh Interview Project\\Project_Multi_Cancer\\venv_multican\\lib\\site-packages\\keras\\src\\layers\\normalization\\batch_normalization.py:979: The name tf.nn.fused_batch_norm is deprecated. Please use tf.compat.v1.nn.fused_batch_norm instead.\n",
      "\n"
     ]
    }
   ],
   "source": [
    "# Load the ResNet50 model pre-trained on ImageNet without the top layer\n",
    "base_model = ResNet50(weights='imagenet', include_top=False, pooling='avg', input_shape=(224, 224, 3))\n"
   ]
  },
  {
   "cell_type": "code",
   "execution_count": 3,
   "id": "2884acf9",
   "metadata": {},
   "outputs": [
    {
     "name": "stdout",
     "output_type": "stream",
     "text": [
      "Found 3216 images belonging to 3 classes.\n",
      "101/101 [==============================] - 616s 6s/step\n"
     ]
    }
   ],
   "source": [
    "# Directory containing the images\n",
    "dataset_directory = os.path.join('..', 'Dataset', 'data', 'train')\n",
    "\n",
    "# Preprocessing and augmentation\n",
    "datagen = ImageDataGenerator(rescale=1./255)\n",
    "\n",
    "# Load the images\n",
    "image_generator = datagen.flow_from_directory(dataset_directory, \n",
    "                                              target_size=(224, 224), \n",
    "                                              batch_size=32, \n",
    "                                              class_mode='categorical', \n",
    "                                              shuffle=False)\n",
    "\n",
    "# Extract features\n",
    "features = base_model.predict(image_generator)\n",
    "\n",
    "# Get labels\n",
    "labels = image_generator.classes\n"
   ]
  },
  {
   "cell_type": "code",
   "execution_count": 4,
   "id": "a09d809d",
   "metadata": {},
   "outputs": [],
   "source": [
    "# Convert features to a DataFrame\n",
    "df_features = pd.DataFrame(features)\n",
    "\n",
    "# Add labels to the DataFrame\n",
    "df_features['label'] = labels\n",
    "\n",
    "feature_dir = 'feature_csv'\n",
    "if not os.path.exists(feature_dir):\n",
    "    os.makedirs(feature_dir)\n",
    "\n",
    "file_name = 'resnet50_features.csv'\n",
    "# Save to CSV\n",
    "df_features.to_csv(os.path.join(feature_dir, file_name), index=False)\n"
   ]
  },
  {
   "cell_type": "code",
   "execution_count": 5,
   "id": "af464f52",
   "metadata": {},
   "outputs": [],
   "source": [
    "# Load the features and labels\n",
    "data = pd.read_csv(os.path.join(feature_dir, file_name))\n",
    "\n",
    "# Split the data into features and labels\n",
    "X = data.drop(columns=['label'])\n",
    "y = data['label']\n",
    "\n",
    "# Split the dataset into training and testing sets\n",
    "X_train, X_test, y_train, y_test = train_test_split(X, y, test_size=0.2, random_state=42, stratify=y)"
   ]
  },
  {
   "cell_type": "markdown",
   "id": "7f1370c3",
   "metadata": {},
   "source": [
    "0.59\n",
    "0.51\n",
    "0.52"
   ]
  },
  {
   "cell_type": "code",
   "execution_count": 6,
   "id": "36dd5c9f",
   "metadata": {},
   "outputs": [
    {
     "name": "stdout",
     "output_type": "stream",
     "text": [
      "Test Accuracy: 0.59\n"
     ]
    }
   ],
   "source": [
    "# Train an SVM classifier\n",
    "svm_classifier = SVC(kernel='linear')  # You can choose other kernels like 'linear', 'rbf', 'poly', etc.\n",
    "svm_classifier.fit(X_train, y_train)\n",
    "\n",
    "# Predict on the test set\n",
    "y_pred = svm_classifier.predict(X_test)\n",
    "\n",
    "# Evaluate the model\n",
    "accuracy = accuracy_score(y_test, y_pred)\n",
    "print(f'Test Accuracy: {accuracy:.2f}')"
   ]
  },
  {
   "cell_type": "code",
   "execution_count": 9,
   "id": "8922e296",
   "metadata": {},
   "outputs": [
    {
     "name": "stdout",
     "output_type": "stream",
     "text": [
      "Test Accuracy: 0.51\n"
     ]
    }
   ],
   "source": [
    "# Train an SVM classifier\n",
    "svm_classifier = SVC(kernel='rbf')  # You can choose other kernels like 'linear', 'rbf', 'poly', etc.\n",
    "svm_classifier.fit(X_train, y_train)\n",
    "\n",
    "# Predict on the test set\n",
    "y_pred = svm_classifier.predict(X_test)\n",
    "\n",
    "# Evaluate the model\n",
    "accuracy = accuracy_score(y_test, y_pred)\n",
    "print(f'Test Accuracy: {accuracy:.2f}')\n"
   ]
  },
  {
   "cell_type": "code",
   "execution_count": 10,
   "id": "95c1e6ad",
   "metadata": {},
   "outputs": [
    {
     "name": "stdout",
     "output_type": "stream",
     "text": [
      "Test Accuracy: 0.52\n"
     ]
    }
   ],
   "source": [
    "# Train an SVM classifier\n",
    "svm_classifier = SVC(kernel='poly')  # You can choose other kernels like 'linear', 'rbf', 'poly', etc.\n",
    "svm_classifier.fit(X_train, y_train)\n",
    "\n",
    "# Predict on the test set\n",
    "y_pred = svm_classifier.predict(X_test)\n",
    "\n",
    "# Evaluate the model\n",
    "accuracy = accuracy_score(y_test, y_pred)\n",
    "print(f'Test Accuracy: {accuracy:.2f}')\n"
   ]
  },
  {
   "cell_type": "code",
   "execution_count": null,
   "id": "d7ea4226",
   "metadata": {},
   "outputs": [],
   "source": []
  }
 ],
 "metadata": {
  "kernelspec": {
   "display_name": "Python 3 (ipykernel)",
   "language": "python",
   "name": "python3"
  },
  "language_info": {
   "codemirror_mode": {
    "name": "ipython",
    "version": 3
   },
   "file_extension": ".py",
   "mimetype": "text/x-python",
   "name": "python",
   "nbconvert_exporter": "python",
   "pygments_lexer": "ipython3",
   "version": "3.10.11"
  }
 },
 "nbformat": 4,
 "nbformat_minor": 5
}
