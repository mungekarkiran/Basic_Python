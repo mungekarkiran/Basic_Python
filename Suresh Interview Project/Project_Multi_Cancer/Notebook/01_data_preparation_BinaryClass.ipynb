{
 "cells": [
  {
   "cell_type": "code",
   "execution_count": 33,
   "id": "07527347",
   "metadata": {},
   "outputs": [],
   "source": [
    "import os\n",
    "import numpy as np\n",
    "import pandas as pd\n",
    "import glob\n",
    "import shutil\n",
    "import cv2\n",
    "import sys\n",
    "\n",
    "from sklearn.utils import shuffle\n",
    "\n",
    "from sklearn.model_selection import train_test_split\n",
    "\n",
    "import matplotlib.pyplot as plt\n",
    "%matplotlib inline\n",
    "import seaborn as sns\n",
    "\n",
    "import warnings\n",
    "warnings.filterwarnings('ignore')"
   ]
  },
  {
   "cell_type": "code",
   "execution_count": 10,
   "id": "d72b76f2",
   "metadata": {},
   "outputs": [
    {
     "data": {
      "text/html": [
       "<div>\n",
       "<style scoped>\n",
       "    .dataframe tbody tr th:only-of-type {\n",
       "        vertical-align: middle;\n",
       "    }\n",
       "\n",
       "    .dataframe tbody tr th {\n",
       "        vertical-align: top;\n",
       "    }\n",
       "\n",
       "    .dataframe thead th {\n",
       "        text-align: right;\n",
       "    }\n",
       "</style>\n",
       "<table border=\"1\" class=\"dataframe\">\n",
       "  <thead>\n",
       "    <tr style=\"text-align: right;\">\n",
       "      <th></th>\n",
       "      <th>id</th>\n",
       "      <th>label</th>\n",
       "    </tr>\n",
       "  </thead>\n",
       "  <tbody>\n",
       "    <tr>\n",
       "      <th>0</th>\n",
       "      <td>f38a6374c348f90b587e046aac6079959adf3835</td>\n",
       "      <td>0</td>\n",
       "    </tr>\n",
       "    <tr>\n",
       "      <th>1</th>\n",
       "      <td>c18f2d887b7ae4f6742ee445113fa1aef383ed77</td>\n",
       "      <td>1</td>\n",
       "    </tr>\n",
       "    <tr>\n",
       "      <th>2</th>\n",
       "      <td>755db6279dae599ebb4d39a9123cce439965282d</td>\n",
       "      <td>0</td>\n",
       "    </tr>\n",
       "    <tr>\n",
       "      <th>3</th>\n",
       "      <td>bc3f0c64fb968ff4a8bd33af6971ecae77c75e08</td>\n",
       "      <td>0</td>\n",
       "    </tr>\n",
       "    <tr>\n",
       "      <th>4</th>\n",
       "      <td>068aba587a4950175d04c680d38943fd488d6a9d</td>\n",
       "      <td>0</td>\n",
       "    </tr>\n",
       "  </tbody>\n",
       "</table>\n",
       "</div>"
      ],
      "text/plain": [
       "                                         id  label\n",
       "0  f38a6374c348f90b587e046aac6079959adf3835      0\n",
       "1  c18f2d887b7ae4f6742ee445113fa1aef383ed77      1\n",
       "2  755db6279dae599ebb4d39a9123cce439965282d      0\n",
       "3  bc3f0c64fb968ff4a8bd33af6971ecae77c75e08      0\n",
       "4  068aba587a4950175d04c680d38943fd488d6a9d      0"
      ]
     },
     "execution_count": 10,
     "metadata": {},
     "output_type": "execute_result"
    }
   ],
   "source": [
    "# Read CSV File\n",
    "hc_dir = os.path.join('..', 'Dataset', 'Histopathologic Cancer Detection')\n",
    "csv_file_path = os.path.join(hc_dir, 'train_labels.csv')\n",
    "df = pd.read_csv(csv_file_path)\n",
    "df.head()"
   ]
  },
  {
   "cell_type": "code",
   "execution_count": 11,
   "id": "078fc732",
   "metadata": {},
   "outputs": [
    {
     "data": {
      "text/plain": [
       "(220025, 2)"
      ]
     },
     "execution_count": 11,
     "metadata": {},
     "output_type": "execute_result"
    }
   ],
   "source": [
    "df.shape"
   ]
  },
  {
   "cell_type": "code",
   "execution_count": 12,
   "id": "b65d52d1",
   "metadata": {
    "scrolled": false
   },
   "outputs": [
    {
     "data": {
      "image/png": "[encoded data removed]",
      "text/plain": [
       "<Figure size 640x480 with 1 Axes>"
      ]
     },
     "metadata": {},
     "output_type": "display_data"
    },
    {
     "data": {
      "text/plain": [
       "label\n",
       "0    130908\n",
       "1     89117\n",
       "Name: count, dtype: int64"
      ]
     },
     "execution_count": 12,
     "metadata": {},
     "output_type": "execute_result"
    }
   ],
   "source": [
    "df['label'].value_counts().plot(kind='bar')\n",
    "plt.show()\n",
    "df['label'].value_counts()"
   ]
  },
  {
   "cell_type": "code",
   "execution_count": 14,
   "id": "4847ab24",
   "metadata": {},
   "outputs": [
    {
     "data": {
      "text/plain": [
       "(219973, 2)"
      ]
     },
     "execution_count": 14,
     "metadata": {},
     "output_type": "execute_result"
    }
   ],
   "source": [
    "ids_to_remove = ['00a6f3c301f5e6c1d205d1019e9d81ecb0a5fcb4', '00c084ee649e69c265a1fa8df4db3a0482d47f6c', \n",
    " '00d0d08345178614ba03d28e0e4253458fb0e690', '00eaf7533c3de0aeeeb4a2e4b759f63cae0cbab8', \n",
    " '0a3f067a2019ddcce944ffee336aeaa494ec2d7a', '0a6bebce3c7d416c0163fe042588dab3b5ec4672', \n",
    " '0a866cd7b1bba5135144e57c0f6430b1120a7b52', '0adee14a2e961131ebb01468ac284d1be89585a8', \n",
    " '0b2f343898d4024405b49ba444557805347c847a', '0b2e2a37723aeac9e826746c87f252dbf0c27d68', \n",
    " '0b8d0b00761d809288fe4de1fcfd2c5cea2b52b9', '0b63e8dad1f3b19d32800c2ca0b2dad42c772a6e', \n",
    " '0b899b3a24754b9edb228cad4cfda8cbc3ebe2b4', '0b5851c6efdac0e1d65287e1db8ec7201d38fac7', \n",
    " '0ba4ade4c70d8f954653367466b719e864692244', '0bf8f877a663c60b918209b5e5e427a37b04ef76', \n",
    " '0c9a27ba5f48da5c79d96f570ecce1617b72ba62', '0caf68fe013b33eba7d9912f2f6b2af5e458197f', \n",
    " '0cb38667936ea807ea52a01174714a63be93c8af', '0cb694966c215e0ef2ef23ed18608d6f91c4b217', \n",
    " '0d5c0cb3c049903b40454afe22effcfeb7e5e8f2', '0d015ee3e40aef06b8d34542f4d8d85f099c5aee', \n",
    " '0d18bf71c37e017b8a40e4ad339bb44cb4e79058', '0dd2c3df71e8c6fcb55e4ced4190dfaba91b4faf', \n",
    " '0e5dad902724226b3a83ee52ee35ad396e70af24', '0ec098ff7b836c3963bde5a3e56745a71e6967bd', \n",
    " '0f2e57b32b7df53da712adbcdfdd841c0a901813', '0f4fddb9c3702a60259cd5435f2ae9a4a9f5d8cb', \n",
    " '0f8b34b128c1edb788bcb573aa5c8e4c6b8908d5', '0f8f410f18454b5730bd1fb4cc71d61c653e1580', \n",
    " '0f36ff31542eb6afd62aa25e2bd6a40a29338168', '0f264f02753c0bd929b9da7bccbec10ffea7796c', \n",
    " '0f6293cf00c8532870071264e56f2b527627b82e', '0fafaba282d7f9aad6661e25e4ed45fcc66f5ebf', \n",
    " '0fb5d95f6a671122ddc571b421f4da2b737bc386', '01b860f1d81a393b8777b9b807d96f74ad9e2820', \n",
    " '1a0a38342e54207a7cc0ee5b56eb1795a9a6729d', '1a8399b630933a1973290416058a3fc382e41694', \n",
    " '1a6494669b784500aec831408da51b53244ac664', '1b864fe0f0c2d1a801da3cf7b888618dfd98f06b', \n",
    " '1be0022c832248989e4f804bd4807def41fedeb6', '1c0998a08643c80be4a49c3b26af6dc1a48c3be4', \n",
    " '1d8bdf879da2bc356474f4b0493e03d0f05db778', '1de2c60ac7b58f6b76643b7efa1f8789b20de8e0', \n",
    " '1f09840a8b95c14d6c4beb9008b1eb28458d3938', '02a4da6468773a754860d7a48f4849c3ce9b895a', \n",
    " '02fe9b5631ca4535c2a7fd68dcca0d0235e19307', '2b615f883ad5a8530ff0ae18df0d58dfda3c4ab9', \n",
    " '2ba88db8177758645796764af10fbcbe2ef03adc', '2bffa79fd60838c58e5cf8321c8fc98d1e08670d', \n",
    " '9369c7278ec8bcc6c880d99194de09fc2bd4efbe', 'dd6dfed324f9fcb6f93f46f32fc800f2ec196be2', \n",
    " '7bc3de585214a4ace7e311a99310aa5894f73f4d', '7ce935faf2d5c5ebf6d6ec81fff5a040af30f163',\n",
    " '7f98ff07383b8c5a1d2348930caf0d46ef640393', '16d32f03c77279d0f13526a0d8541b7064052809',\n",
    " '33a80667affb99e356f1c4e8262b87af68ab315a', '53c1f04277c9ce23bdbca4142cfd7378956433d7', \n",
    "                 '69e14e74a4bd3b141732e4ef7eab5c85fe6fcf80', '82ca753dbc584b2372b42079dbb24468970431eb',\n",
    "                '93e78df3b132331ec63c241fbac23282faceb1eb', '283a4bfdf80759f5ed83edd181fbfe5297b5277b',\n",
    "                '0312f2eefa9368ccb2a13ee22b6d8433fcffffe9', '821cc355adba224e44bb086a6d744af222627678', \n",
    "                 '876dfbe83e1a2d06b570051e2b8554596bc6da4e', '924e009f91bd5a9c92422a300c97bc8a5c9a95cd',\n",
    "                '8246de06c2a738f8466eecbf471e40f7fda6893f', '87267c974a911474b0cb9ca3559fc2fc797319e8',\n",
    "                '5737848e70454483694bcc7f72c76bf49bda8f41', 'a9cd935f4d7d0bd0f087c0929551d89158d8e4d9',\n",
    "                'acd619575f2e0fda2f3e01970352d1e1a862c4bc', 'c66e92f58cd9aefd4d1a6c04f154291fa179f99f',\n",
    "                'dfc49c8bba30fda27ddb2721a9117e156f414efc', 'e785275f995426d8308c877b32a1d78d1cdc5891', \n",
    "                'f76c339f595b0642ea5682a187916172693ce0b2']\n",
    "\n",
    "# Remove rows where the 'id' is in the ids_to_remove list\n",
    "df_filtered = df[~df['id'].isin(ids_to_remove)]\n",
    "\n",
    "df_filtered.shape"
   ]
  },
  {
   "cell_type": "code",
   "execution_count": 15,
   "id": "a8a6cf1e",
   "metadata": {},
   "outputs": [
    {
     "data": {
      "image/png": "[encoded data removed]",
      "text/plain": [
       "<Figure size 640x480 with 1 Axes>"
      ]
     },
     "metadata": {},
     "output_type": "display_data"
    },
    {
     "data": {
      "text/plain": [
       "label\n",
       "0    130857\n",
       "1     89116\n",
       "Name: count, dtype: int64"
      ]
     },
     "execution_count": 15,
     "metadata": {},
     "output_type": "execute_result"
    }
   ],
   "source": [
    "df_filtered['label'].value_counts().plot(kind='bar')\n",
    "plt.show()\n",
    "df_filtered['label'].value_counts()"
   ]
  },
  {
   "cell_type": "code",
   "execution_count": 36,
   "id": "e40ace22",
   "metadata": {},
   "outputs": [
    {
     "data": {
      "text/plain": [
       "label\n",
       "0    10000\n",
       "1    10000\n",
       "Name: count, dtype: int64"
      ]
     },
     "execution_count": 36,
     "metadata": {},
     "output_type": "execute_result"
    }
   ],
   "source": [
    "SAMPLE_SIZE = 10000\n",
    "\n",
    "# take a random sample of class 0 with size equal to num samples in class 1\n",
    "df_0 = df_filtered[df_filtered['label'] == 0].sample(SAMPLE_SIZE, random_state = 0)\n",
    "# filter out class 1\n",
    "df_1 = df_filtered[df_filtered['label'] == 1].sample(SAMPLE_SIZE, random_state = 0)\n",
    "\n",
    "# concat the dataframes\n",
    "df_data = pd.concat([df_0, df_1], axis = 0).reset_index(drop = True)\n",
    "\n",
    "# shuffle\n",
    "df_data = shuffle(df_data)\n",
    "\n",
    "df_data['label'].value_counts()"
   ]
  },
  {
   "cell_type": "code",
   "execution_count": 37,
   "id": "5be83085",
   "metadata": {},
   "outputs": [],
   "source": [
    "# train_test_split\n",
    "# stratify=y creates a balanced validation set.\n",
    "y_label = df_data['label']\n",
    "df_all, df_val = train_test_split(df_data, test_size = 0.1, random_state = 42, stratify = y_label)\n",
    "\n",
    "y_label = df_all['label']\n",
    "df_train, df_test = train_test_split(df_all, test_size = 0.4, random_state = 42, stratify = y_label)"
   ]
  },
  {
   "cell_type": "code",
   "execution_count": 38,
   "id": "07cc02d1",
   "metadata": {},
   "outputs": [
    {
     "data": {
      "text/plain": [
       "((10800, 2), (7200, 2), (2000, 2))"
      ]
     },
     "execution_count": 38,
     "metadata": {},
     "output_type": "execute_result"
    }
   ],
   "source": [
    "df_train.shape, df_test.shape, df_val.shape\n",
    "# df_all.shape, df_val.shape"
   ]
  },
  {
   "cell_type": "code",
   "execution_count": 39,
   "id": "b82c6cc5",
   "metadata": {
    "scrolled": false
   },
   "outputs": [],
   "source": [
    "# destination_dir = os.path.join('..', 'Dataset', 'Binary_class_dataset')\n",
    "\n",
    "# if not os.path.exists(destination_dir):\n",
    "#     os.makedirs(destination_dir)\n",
    "\n",
    "# cnt = 1\n",
    "# for row in df.itertuples():\n",
    "# #     print(row[1], row[2])\n",
    "#     image_name = f\"{row[1]}.tif\"\n",
    "#     category = str(row[2])\n",
    "    \n",
    "#     image_path = os.path.join(hc_dir, 'train', image_name)\n",
    "# #     image_path = os.path.join(hc_dir, 'test', image_name)\n",
    "# #     print(image_path)\n",
    "    \n",
    "#     category_folder = os.path.join(destination_dir, category)\n",
    "#     if not os.path.exists(category_folder):\n",
    "#         os.makedirs(category_folder)\n",
    "    \n",
    "#     source_path = image_path\n",
    "#     destination_path = os.path.join(category_folder, image_name)\n",
    "\n",
    "#     # Move the image to the appropriate category folder\n",
    "#     try:\n",
    "#         shutil.move(source_path, destination_path)\n",
    "#         print(f\"Moved {image_name} to {category_folder}\")\n",
    "#     except Exception as e:\n",
    "#         print(f\"Error moving {image_name}: {e}\")\n",
    "    \n",
    "# #     cnt += 1\n",
    "# #     if cnt > 10:\n",
    "# #         break"
   ]
  },
  {
   "cell_type": "code",
   "execution_count": 40,
   "id": "5c9465f9",
   "metadata": {},
   "outputs": [
    {
     "name": "stdout",
     "output_type": "stream",
     "text": [
      "Resized f29a8d6ecfa87751f1dbe34c0e9e75590a18b639.tif to 224x224 and saved.\n",
      "All training images processed.\n"
     ]
    }
   ],
   "source": [
    "# destination_dir = os.path.join('..', 'Dataset', 'Binary_class_dataset')\n",
    "\n",
    "# if not os.path.exists(destination_dir):\n",
    "#     os.makedirs(destination_dir)\n",
    "\n",
    "# cnt = 1\n",
    "# for row in df_train.itertuples():\n",
    "#     # print(row[1], row[2])\n",
    "#     image_name = f\"{row[1]}.tif\"\n",
    "#     category = str(row[2])\n",
    "    \n",
    "#     image_path = os.path.join(hc_dir, 'train', image_name)\n",
    "#     # print(image_path)\n",
    "\n",
    "#     # Read the image using OpenCV\n",
    "#     image = cv2.imread(image_path)\n",
    "\n",
    "#     if image is None:\n",
    "#         print(f\"Error loading image {image_name}\")\n",
    "#         continue\n",
    "\n",
    "#     # Resize the image to 224x224\n",
    "#     resized_image = cv2.resize(image, (224, 224))\n",
    "\n",
    "#     category_folder = os.path.join(destination_dir, 'train', category)\n",
    "#     if not os.path.exists(category_folder):\n",
    "#         os.makedirs(category_folder)\n",
    "    \n",
    "#     # Save the resized image to the destination directory\n",
    "#     # save_path = os.path.join(destination_dir, image_name)\n",
    "#     destination_path = os.path.join(category_folder, image_name)\n",
    "#     cv2.imwrite(destination_path, resized_image)\n",
    "#     # print(f\"Resized {image_name} to 224x224 and saved.\")\n",
    "    \n",
    "#     # Print status message and clear the line\n",
    "#     sys.stdout.write(f\"\\rResized {image_name} to 224x224 and saved.\")\n",
    "#     sys.stdout.flush()\n",
    "    \n",
    "# #     cnt += 1\n",
    "# #     if cnt > 10:\n",
    "# #         break\n",
    "\n",
    "# print(\"\\nAll training images processed.\")"
   ]
  },
  {
   "cell_type": "code",
   "execution_count": 41,
   "id": "68b90469",
   "metadata": {},
   "outputs": [
    {
     "name": "stdout",
     "output_type": "stream",
     "text": [
      "Resized 0af232baae8dfd204f2c42ea9bcc5a181ad64197.tif to 224x224 and saved.\n",
      "All testing images processed.\n"
     ]
    }
   ],
   "source": [
    "# destination_dir = os.path.join('..', 'Dataset', 'Binary_class_dataset')\n",
    "\n",
    "# if not os.path.exists(destination_dir):\n",
    "#     os.makedirs(destination_dir)\n",
    "\n",
    "# cnt = 1\n",
    "# for row in df_test.itertuples():\n",
    "#     # print(row[1], row[2])\n",
    "#     image_name = f\"{row[1]}.tif\"\n",
    "#     category = str(row[2])\n",
    "    \n",
    "#     image_path = os.path.join(hc_dir, 'train', image_name)\n",
    "#     # print(image_path)\n",
    "\n",
    "#     # Read the image using OpenCV\n",
    "#     image = cv2.imread(image_path)\n",
    "\n",
    "#     if image is None:\n",
    "#         print(f\"Error loading image {image_name}\")\n",
    "#         continue\n",
    "\n",
    "#     # Resize the image to 224x224\n",
    "#     resized_image = cv2.resize(image, (224, 224))\n",
    "\n",
    "#     category_folder = os.path.join(destination_dir, 'test', category)\n",
    "#     if not os.path.exists(category_folder):\n",
    "#         os.makedirs(category_folder)\n",
    "    \n",
    "#     # Save the resized image to the destination directory\n",
    "#     # save_path = os.path.join(destination_dir, image_name)\n",
    "#     destination_path = os.path.join(category_folder, image_name)\n",
    "#     cv2.imwrite(destination_path, resized_image)\n",
    "#     # print(f\"Resized {image_name} to 224x224 and saved.\")\n",
    "    \n",
    "#     # Print status message and clear the line\n",
    "#     sys.stdout.write(f\"\\rResized {image_name} to 224x224 and saved.\")\n",
    "#     sys.stdout.flush()\n",
    "    \n",
    "# #     cnt += 1\n",
    "# #     if cnt > 10:\n",
    "# #         break\n",
    "\n",
    "# print(\"\\nAll testing images processed.\")"
   ]
  },
  {
   "cell_type": "code",
   "execution_count": 42,
   "id": "17a10b18",
   "metadata": {},
   "outputs": [
    {
     "name": "stdout",
     "output_type": "stream",
     "text": [
      "Resized 9920bf156c06df5e8d5f3d82ddc22e32610223ad.tif to 224x224 and saved.\n",
      "All testing images processed.\n"
     ]
    }
   ],
   "source": [
    "# destination_dir = os.path.join('..', 'Dataset', 'Binary_class_dataset')\n",
    "\n",
    "# if not os.path.exists(destination_dir):\n",
    "#     os.makedirs(destination_dir)\n",
    "\n",
    "# cnt = 1\n",
    "# for row in df_val.itertuples():\n",
    "#     # print(row[1], row[2])\n",
    "#     image_name = f\"{row[1]}.tif\"\n",
    "#     category = str(row[2])\n",
    "    \n",
    "#     image_path = os.path.join(hc_dir, 'train', image_name)\n",
    "#     # print(image_path)\n",
    "\n",
    "#     # Read the image using OpenCV\n",
    "#     image = cv2.imread(image_path)\n",
    "\n",
    "#     if image is None:\n",
    "#         print(f\"Error loading image {image_name}\")\n",
    "#         continue\n",
    "\n",
    "#     # Resize the image to 224x224\n",
    "#     resized_image = cv2.resize(image, (224, 224))\n",
    "\n",
    "#     category_folder = os.path.join(destination_dir, 'val', category)\n",
    "#     if not os.path.exists(category_folder):\n",
    "#         os.makedirs(category_folder)\n",
    "    \n",
    "#     # Save the resized image to the destination directory\n",
    "#     # save_path = os.path.join(destination_dir, image_name)\n",
    "#     destination_path = os.path.join(category_folder, image_name)\n",
    "#     cv2.imwrite(destination_path, resized_image)\n",
    "#     # print(f\"Resized {image_name} to 224x224 and saved.\")\n",
    "    \n",
    "#     # Print status message and clear the line\n",
    "#     sys.stdout.write(f\"\\rResized {image_name} to 224x224 and saved.\")\n",
    "#     sys.stdout.flush()\n",
    "    \n",
    "# #     cnt += 1\n",
    "# #     if cnt > 10:\n",
    "# #         break\n",
    "\n",
    "# print(\"\\nAll testing images processed.\")"
   ]
  },
  {
   "cell_type": "code",
   "execution_count": 43,
   "id": "f2e58b17",
   "metadata": {},
   "outputs": [
    {
     "name": "stdout",
     "output_type": "stream",
     "text": [
      "train                                              id  label\n",
      "14889  1e130e0c0958e93e276945531e77f9d62669133e      1\n",
      "14824  29d953f45a35c2678e7039336eda04e5ab0bd393      1\n",
      "4353   a3296bf6887af6880d29281f6b08aeb131f9b457      0\n",
      "820    32d70942767a411140cdab49e6e062352488b2a2      0\n",
      "1237   fd7b792e3ffd250cb9099f98a3d145aa3afd3b4f      0\n",
      "...                                         ...    ...\n",
      "10020  b1ea8b8fb3b2dbfacd867348bd28a0681736601d      1\n",
      "7570   a681a0725baa9a2d31fc2657a49409245b53d12c      0\n",
      "14405  70d4e9894d86853b0453eacebafa3abc1fc8bbe6      1\n",
      "13144  3886fe864ee63a91ac7c2a44dff753c084b3ce86      1\n",
      "9773   f29a8d6ecfa87751f1dbe34c0e9e75590a18b639      0\n",
      "\n",
      "[10800 rows x 2 columns]\n",
      "test                                              id  label\n",
      "14891  2c9c09ebf2c53e560e100864775e6bf6c3b7c013      1\n",
      "9854   ecfb0f95a51c7d391d9effff8ea72841f2ecf4c6      0\n",
      "891    5c70927ef6cd8ae9f81da0e730ab5c4ecf3b5d3c      0\n",
      "9569   9c206aae322f515081b312139de402430f1de755      0\n",
      "16182  69972426050dea2afe9b40b60960dff1a82fba6a      1\n",
      "...                                         ...    ...\n",
      "10773  8db459f229d914d4ada493febe6367e6e86de92c      1\n",
      "6253   cbbbd83224914498212f26cd4e7eba52ff7ea811      0\n",
      "15632  2449b183be3af72f2fb26464642473bbaf618486      1\n",
      "13338  0d47aec703872f4fc527e23627002f954e1c6f72      1\n",
      "17746  0af232baae8dfd204f2c42ea9bcc5a181ad64197      1\n",
      "\n",
      "[7200 rows x 2 columns]\n",
      "val                                              id  label\n",
      "1573   da0c22555f6515cb208500b1f888b7201b06f489      0\n",
      "12820  b3fc70c66840e2b226ddc0a6a4ff6295bae1dbc6      1\n",
      "12266  902d3e28ed050d53c04b03e7febdb1c17d6ee0a1      1\n",
      "19539  5d3402b47bcce227435d51105a070995fa7f8a9f      1\n",
      "10957  e49b82e9e1891dab0d38baf8b4e749b9f4b04f0d      1\n",
      "...                                         ...    ...\n",
      "6797   d018515b60d28c00e285877a65c16e11e501961f      0\n",
      "14312  2023fec0a635ada826cc86110668495c71a1df8b      1\n",
      "19239  b5814f55b362ec70c9ff0dcc74b2c0d23820fd2e      1\n",
      "3265   12c5f82713493b52104b83915ae5c5572897da5c      0\n",
      "12615  9920bf156c06df5e8d5f3d82ddc22e32610223ad      1\n",
      "\n",
      "[2000 rows x 2 columns]\n"
     ]
    }
   ],
   "source": [
    "df_dict = {\n",
    "    'train' : df_train,\n",
    "    'test' : df_test,\n",
    "    'val' : df_val\n",
    "}\n",
    "\n",
    "def split_data(df_dict, image_size=(224,224)):\n",
    "    destination_dir = os.path.join('..', 'Dataset', 'Binary_class_dataset')\n",
    "\n",
    "    if not os.path.exists(destination_dir):\n",
    "        os.makedirs(destination_dir)\n",
    "    \n",
    "    for key in df_dict.keys():\n",
    "        folder_name = key\n",
    "        df = df_dict[key]\n",
    "        \n",
    "        for row in df.itertuples():\n",
    "            image_name = f\"{row[1]}.tif\"\n",
    "            category = str(row[2])\n",
    "\n",
    "            image_path = os.path.join(hc_dir, 'train', image_name)\n",
    "\n",
    "            # Read the image using OpenCV\n",
    "            image = cv2.imread(image_path)\n",
    "\n",
    "            if image is None:\n",
    "                print(f\"Error loading image {image_name}\")\n",
    "                continue\n",
    "\n",
    "            # Resize the image to 224x224\n",
    "            resized_image = cv2.resize(image, image_size)\n",
    "\n",
    "            category_folder = os.path.join(destination_dir, folder_name, category)\n",
    "            if not os.path.exists(category_folder):\n",
    "                os.makedirs(category_folder)\n",
    "\n",
    "            # Save the resized image to the destination directory\n",
    "            destination_path = os.path.join(category_folder, image_name)\n",
    "            cv2.imwrite(destination_path, resized_image)\n",
    "\n",
    "            # Print status message and clear the line\n",
    "            sys.stdout.write(f\"\\rResized {image_name} to 224x224 and saved.\")\n",
    "            sys.stdout.flush()\n",
    "\n",
    "        print(f\"\\nAll {folder_name} images processed.\")\n",
    "\n",
    "split_data(df_dict)"
   ]
  },
  {
   "cell_type": "code",
   "execution_count": null,
   "id": "9d5be923",
   "metadata": {},
   "outputs": [],
   "source": []
  }
 ],
 "metadata": {
  "kernelspec": {
   "display_name": "Python 3 (ipykernel)",
   "language": "python",
   "name": "python3"
  },
  "language_info": {
   "codemirror_mode": {
    "name": "ipython",
    "version": 3
   },
   "file_extension": ".py",
   "mimetype": "text/x-python",
   "name": "python",
   "nbconvert_exporter": "python",
   "pygments_lexer": "ipython3",
   "version": "3.10.11"
  }
 },
 "nbformat": 4,
 "nbformat_minor": 5
}
