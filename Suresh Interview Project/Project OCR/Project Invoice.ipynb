{
 "cells": [
  {
   "cell_type": "markdown",
   "metadata": {},
   "source": [
    "# OCR Basics-EasyOCR"
   ]
  },
  {
   "cell_type": "markdown",
   "metadata": {},
   "source": [
    "# Install and Import Dependencies"
   ]
  },
  {
   "cell_type": "code",
   "execution_count": null,
   "metadata": {},
   "outputs": [],
   "source": [
    "# !pip install torch torchvision torchaudio\n",
    "# !pip install easyocr\n",
    "\n",
    "# https://www.youtube.com/watch?v=ZVKaWPW9oQY&t=3s\n",
    "# https://github.com/nicknochnack/EasyOCR/blob/main/OCR%20Basics-EasyOCR.ipynb\n",
    "# https://www.youtube.com/watch?v=ic4chj-iMaI&t=294s\n",
    "# https://www.youtube.com/watch?v=oyqNdcbKhew \n",
    "# https://www.youtube.com/watch?v=owiqdzha_DE\n",
    "# https://www.youtube.com/watch?v=nnH55-zD38I\n",
    "# https://www.youtube.com/watch?v=aGcLSH9TTLU&t=1s\n",
    "# https://www.youtube.com/watch?v=6FGIPpvYBZw\n",
    "# \n",
    "\n",
    "\n",
    "\n",
    "# https://www.youtube.com/watch?v=y1ZrOs9s2QA\n",
    "# https://www.youtube.com/watch?v=NWeBJgVue9c\n"
   ]
  },
  {
   "cell_type": "code",
   "execution_count": null,
   "metadata": {},
   "outputs": [],
   "source": [
    "import numpy as np\n",
    "import easyocr\n",
    "import cv2\n",
    "import os\n",
    "from matplotlib import pyplot as plt"
   ]
  },
  {
   "cell_type": "markdown",
   "metadata": {},
   "source": [
    "# Read in images or video"
   ]
  },
  {
   "cell_type": "code",
   "execution_count": null,
   "metadata": {},
   "outputs": [],
   "source": [
    "# IMAGE_PATH = r\"Test Data/05.jpeg\"\n",
    "IMAGE_PATH = r\"Test Data/06.jpg\"\n",
    "\n",
    "img = cv2.imread(IMAGE_PATH)\n",
    "\n",
    "# https://www.geeksforgeeks.org/image-resizing-using-opencv-python/\n",
    "img = cv2.resize(img, (0, 0), fx = 0.6, fy = 0.6)\n",
    "# img = cv2.resize(img, (850, 850))\n",
    "# img = cv2.resize(img, (850, 850), interpolation = cv2.INTER_NEAREST)\n",
    "\n",
    "plt.imshow(img)\n",
    "plt.show()"
   ]
  },
  {
   "cell_type": "code",
   "execution_count": null,
   "metadata": {},
   "outputs": [],
   "source": [
    "# reader = easyocr.Reader(['en'])\n",
    "reader = easyocr.Reader(['en'], gpu=False)\n",
    "# result = reader.readtext(IMAGE_PATH)\n",
    "result = reader.readtext(img)\n",
    "result"
   ]
  },
  {
   "cell_type": "code",
   "execution_count": null,
   "metadata": {},
   "outputs": [],
   "source": [
    "# img = cv2.imread(IMAGE_PATH)\n",
    "spacer = 100\n",
    "font = cv2.FONT_HERSHEY_SIMPLEX\n",
    "for detection in result: \n",
    "    top_left = tuple(detection[0][0])\n",
    "    bottom_right = tuple(detection[0][2])\n",
    "    text = detection[1]\n",
    "    img = cv2.rectangle(img,top_left,bottom_right,(0,255,0),1)\n",
    "    img = cv2.putText(img,text,(20,spacer), font, 0.5,(0,255,0),1,cv2.LINE_AA)\n",
    "    spacer+=15\n",
    "    \n",
    "plt.imshow(img)\n",
    "plt.show()"
   ]
  },
  {
   "cell_type": "code",
   "execution_count": null,
   "metadata": {},
   "outputs": [],
   "source": [
    "# Filename\n",
    "filename = 'savedImage2.jpg'\n",
    "\n",
    "# Using cv2.imwrite() method\n",
    "# Saving the image\n",
    "cv2.imwrite(filename, img)\n",
    "  \n",
    "# List files and directories  \n",
    "# in 'C:/Users / Rajnish / Desktop / GeeksforGeeks'  \n",
    "print(\"After saving image:\")  \n",
    "print(os.listdir())\n",
    "\n",
    "print('Successfully saved')"
   ]
  },
  {
   "cell_type": "code",
   "execution_count": null,
   "metadata": {},
   "outputs": [],
   "source": []
  },
  {
   "cell_type": "code",
   "execution_count": null,
   "metadata": {},
   "outputs": [],
   "source": []
  },
  {
   "cell_type": "code",
   "execution_count": null,
   "metadata": {},
   "outputs": [],
   "source": [
    "# !pip install -q keras-ocr"
   ]
  },
  {
   "cell_type": "code",
   "execution_count": null,
   "metadata": {},
   "outputs": [],
   "source": [
    "import keras_ocr\n",
    "import matplotlib.pyplot as plt\n",
    "import cv2"
   ]
  },
  {
   "cell_type": "code",
   "execution_count": null,
   "metadata": {},
   "outputs": [],
   "source": [
    "pipeline = keras_ocr.pipeline.Pipeline()"
   ]
  },
  {
   "cell_type": "code",
   "execution_count": null,
   "metadata": {},
   "outputs": [],
   "source": [
    "IMAGE_PATH = r\"Test Data/06.jpg\"\n",
    "img = cv2.imread(IMAGE_PATH)\n",
    "img = cv2.resize(img, (0, 0), fx = 0.4, fy = 0.4)\n",
    "\n",
    "# images = [keras_ocr.tools.read(img)]\n",
    "\n",
    "image = [keras_ocr.tools.read(img)]"
   ]
  },
  {
   "cell_type": "code",
   "execution_count": null,
   "metadata": {},
   "outputs": [],
   "source": [
    "# len(images)\n",
    "len(image)"
   ]
  },
  {
   "cell_type": "code",
   "execution_count": null,
   "metadata": {},
   "outputs": [],
   "source": [
    "plt.figure(figsize = (10,20))\n",
    "# plt.imshow(images[0])\n",
    "plt.imshow(image)"
   ]
  },
  {
   "cell_type": "code",
   "execution_count": null,
   "metadata": {},
   "outputs": [],
   "source": [
    "prediction_groups = pipeline.recognize(image)"
   ]
  },
  {
   "cell_type": "code",
   "execution_count": null,
   "metadata": {},
   "outputs": [],
   "source": [
    "# fig, axs = plt.subplots(nrows=len(images), figsize=(10, 20))\n",
    "# for ax, image, predictions in zip(axs, images, prediction_groups):\n",
    "#     keras_ocr.tools.drawAnnotations(image=image, \n",
    "#                                     predictions=predictions, \n",
    "#                                     ax=ax)\n",
    "\n",
    "keras_ocr.tools.drawAnnotations(image=image, \n",
    "                                predictions=prediction_groups, \n",
    "                                )"
   ]
  },
  {
   "cell_type": "code",
   "execution_count": null,
   "metadata": {},
   "outputs": [],
   "source": []
  }
 ],
 "metadata": {
  "kernelspec": {
   "display_name": "Python 3",
   "language": "python",
   "name": "python3"
  },
  "language_info": {
   "codemirror_mode": {
    "name": "ipython",
    "version": 3
   },
   "file_extension": ".py",
   "mimetype": "text/x-python",
   "name": "python",
   "nbconvert_exporter": "python",
   "pygments_lexer": "ipython3",
   "version": "3.6.7"
  }
 },
 "nbformat": 4,
 "nbformat_minor": 2
}
