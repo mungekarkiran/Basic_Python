{
 "cells": [
  {
   "cell_type": "markdown",
   "metadata": {},
   "source": [
    "# OCR Basics-EasyOCR"
   ]
  },
  {
   "cell_type": "markdown",
   "metadata": {},
   "source": [
    "# Install and Import Dependencies"
   ]
  },
  {
   "cell_type": "code",
   "execution_count": 1,
   "metadata": {},
   "outputs": [],
   "source": [
    "# !pip install torch torchvision torchaudio\n",
    "# !pip install easyocr\n",
    "\n",
    "# https://www.youtube.com/watch?v=ZVKaWPW9oQY&t=3s\n",
    "# https://github.com/nicknochnack/EasyOCR/blob/main/OCR%20Basics-EasyOCR.ipynb\n",
    "# https://www.youtube.com/watch?v=ic4chj-iMaI&t=294s\n",
    "# https://www.youtube.com/watch?v=oyqNdcbKhew \n",
    "# https://www.youtube.com/watch?v=owiqdzha_DE\n",
    "# https://www.youtube.com/watch?v=nnH55-zD38I\n",
    "# https://www.youtube.com/watch?v=aGcLSH9TTLU&t=1s\n",
    "# https://www.youtube.com/watch?v=6FGIPpvYBZw\n",
    "# \n",
    "\n",
    "\n",
    "\n",
    "# https://www.youtube.com/watch?v=y1ZrOs9s2QA\n",
    "# https://www.youtube.com/watch?v=NWeBJgVue9c\n"
   ]
  },
  {
   "cell_type": "code",
   "execution_count": 2,
   "metadata": {},
   "outputs": [],
   "source": [
    "import numpy as np\n",
    "import easyocr\n",
    "import cv2\n",
    "import os\n",
    "from matplotlib import pyplot as plt"
   ]
  },
  {
   "cell_type": "markdown",
   "metadata": {},
   "source": [
    "# Read in images or video"
   ]
  },
  {
   "cell_type": "code",
   "execution_count": 3,
   "metadata": {},
   "outputs": [
    {
     "data": {
      "image/png": "[encoded data removed]",
      "text/plain": [
       "<Figure size 432x288 with 1 Axes>"
      ]
     },
     "metadata": {
      "needs_background": "light"
     },
     "output_type": "display_data"
    }
   ],
   "source": [
    "# IMAGE_PATH = r\"Test Data/05.jpeg\"\n",
    "IMAGE_PATH = r\"Test Data/06.jpg\"\n",
    "\n",
    "img = cv2.imread(IMAGE_PATH)\n",
    "\n",
    "# https://www.geeksforgeeks.org/image-resizing-using-opencv-python/\n",
    "img = cv2.resize(img, (0, 0), fx = 0.6, fy = 0.6)\n",
    "# img = cv2.resize(img, (850, 850))\n",
    "# img = cv2.resize(img, (850, 850), interpolation = cv2.INTER_NEAREST)\n",
    "\n",
    "plt.imshow(img)\n",
    "plt.show()"
   ]
  },
  {
   "cell_type": "code",
   "execution_count": 4,
   "metadata": {},
   "outputs": [
    {
     "name": "stderr",
     "output_type": "stream",
     "text": [
      "Using CPU. Note: This module is much faster with a GPU.\n"
     ]
    },
    {
     "data": {
      "text/plain": [
       "[([[806, 62], [936, 62], [936, 90], [806, 90]],\n",
       "  'Tax Invoice',\n",
       "  0.9997388160474691),\n",
       " ([[114, 100], [512, 100], [512, 153], [114, 153]],\n",
       "  'Firbu Ognam Pvt. Ltd:',\n",
       "  0.7716218146624702),\n",
       " ([[119, 155], [187, 155], [187, 175], [119, 175]],\n",
       "  'GST NO.',\n",
       "  0.7809763518610466),\n",
       " ([[200, 154], [342, 154], [342, 178], [200, 178]],\n",
       "  'QWFR45796296,',\n",
       "  0.9905975114966762),\n",
       " ([[359, 155], [429, 155], [429, 175], [359, 175]],\n",
       "  'PAN NO',\n",
       "  0.995705352081269),\n",
       " ([[442, 154], [562, 154], [562, 178], [442, 178]],\n",
       "  'ASSZDDGDS8,',\n",
       "  0.5522917083681711),\n",
       " ([[117, 181], [217, 181], [217, 201], [117, 201]],\n",
       "  'Office Addr.',\n",
       "  0.7359705032208584),\n",
       " ([[229, 180], [623, 180], [623, 201], [229, 201]],\n",
       "  '6118, PASEO DEL NORTE CARLASBAD, CA 92011,',\n",
       "  0.6733526596640224),\n",
       " ([[118, 206], [190, 206], [190, 230], [118, 230]],\n",
       "  'Email ID',\n",
       "  0.7905277917363159),\n",
       " ([[198, 204], [410, 204], [410, 234], [198, 234]],\n",
       "  'firbu_ognam@gmail.com',\n",
       "  0.9678735675657226),\n",
       " ([[67, 263], [171, 263], [171, 283], [67, 283]],\n",
       "  'Client Name',\n",
       "  0.9999653459134267),\n",
       " ([[181, 263], [325, 263], [325, 283], [181, 283]],\n",
       "  'Francis Lawrence',\n",
       "  0.9884839346428387),\n",
       " ([[643, 263], [739, 263], [739, 283], [643, 283]],\n",
       "  'Invoice No.',\n",
       "  0.9852953745877788),\n",
       " ([[751, 263], [827, 263], [827, 283], [751, 283]],\n",
       "  'G100234',\n",
       "  0.9228801458290916),\n",
       " ([[67, 311], [153, 311], [153, 331], [67, 331]],\n",
       "  'Address 1.',\n",
       "  0.7202702050829795),\n",
       " ([[166, 310], [452, 310], [452, 334], [166, 334]],\n",
       "  '4794 Londonderry Lane; CA 92011.',\n",
       "  0.8109315267064146),\n",
       " ([[643, 311], [751, 311], [751, 331], [643, 331]],\n",
       "  'Invoice Date',\n",
       "  0.9997596770545779),\n",
       " ([[760, 310], [860, 310], [860, 330], [760, 330]],\n",
       "  '16/09/2016',\n",
       "  0.6417619089037001),\n",
       " ([[66, 358], [136, 358], [136, 382], [66, 382]],\n",
       "  'GST NO.',\n",
       "  0.9577213870957864),\n",
       " ([[148, 358], [284, 358], [284, 382], [148, 382]],\n",
       "  'TRYEY67382987',\n",
       "  0.8924134696761528),\n",
       " ([[71, 417], [93, 417], [93, 437], [71, 437]], 'Sr', 0.9992024219363129),\n",
       " ([[322, 417], [420, 417], [420, 437], [322, 437]],\n",
       "  'Description',\n",
       "  0.9022645621283454),\n",
       " ([[650, 416], [684, 416], [684, 440], [650, 440]], 'Qty', 0.9997811380699833),\n",
       " ([[735, 417], [777, 417], [777, 437], [735, 437]],\n",
       "  'Rate',\n",
       "  0.9999982118606567),\n",
       " ([[837, 417], [909, 417], [909, 437], [837, 437]],\n",
       "  'Amount',\n",
       "  0.9999925052774333),\n",
       " ([[71, 441], [99, 441], [99, 461], [71, 461]], 'No', 0.9999920764016744),\n",
       " ([[732, 438], [776, 438], [776, 462], [732, 462]],\n",
       "  '(Rs:)',\n",
       "  0.7246408650369996),\n",
       " ([[850, 438], [894, 438], [894, 462], [850, 462]],\n",
       "  '(Rs:)',\n",
       "  0.9015945370115479),\n",
       " ([[114, 487], [501, 487], [501, 514], [114, 514]],\n",
       "  'Dr. Schar Pan Rustico Gluten Free Bread, 250g',\n",
       "  0.8800055158303657),\n",
       " ([[737, 491], [773, 491], [773, 511], [737, 511]], '485', 0.9691596031188965),\n",
       " ([[855, 491], [889, 491], [889, 511], [855, 511]], '485', 0.9999988299663297),\n",
       " ([[114, 511], [522, 511], [522, 539], [114, 539]],\n",
       "  'Urban Platter Andhra Style Gongura Pickle, 350g',\n",
       "  0.7665571550887451),\n",
       " ([[737, 515], [773, 515], [773, 535], [737, 535]], '395', 0.9999993117448777),\n",
       " ([[855, 515], [889, 515], [889, 535], [855, 535]], '395', 0.9991434812545776),\n",
       " ([[114, 537], [416, 537], [416, 564], [114, 564]],\n",
       "  'Desi Treat Soya Paneer (Tofu) , 80Og',\n",
       "  0.7384014761890585),\n",
       " ([[737, 539], [773, 539], [773, 559], [737, 559]], '259', 0.9525629878044128),\n",
       " ([[855, 539], [889, 539], [889, 559], [855, 559]], '518', 0.7133080959320068),\n",
       " ([[112, 561], [556, 561], [556, 587], [112, 587]],\n",
       "  'SOLH Assorted, Soya Milk Fantastic Four (Pack of 10)',\n",
       "  0.8617642739403766),\n",
       " ([[737, 563], [773, 563], [773, 583], [737, 583]], '360', 0.6175368428230286),\n",
       " ([[855, 563], [891, 563], [891, 583], [855, 583]], '360', 0.9999953198664192),\n",
       " ([[114, 586], [488, 586], [488, 612], [114, 612]],\n",
       "  'Urban Platter Mix Dehydrated Sprouts, 200g',\n",
       "  0.5890858855182548),\n",
       " ([[738, 586], [774, 586], [774, 610], [738, 610]], '175', 0.9999995870469189),\n",
       " ([[854, 586], [890, 586], [890, 610], [854, 610]], '525', 0.9999995870469189),\n",
       " ([[114, 610], [526, 610], [526, 636], [114, 636]],\n",
       "  'Max Care Cold Pressed Virgin Coconut Oil, S0Oml',\n",
       "  0.5062575604767564),\n",
       " ([[736, 610], [774, 610], [774, 634], [736, 634]], '300', 0.9996754947497051),\n",
       " ([[854, 610], [892, 610], [892, 634], [854, 634]], '300', 0.9996319302199678),\n",
       " ([[649, 955], [685, 955], [685, 975], [649, 975]], 'GST', 0.8761464357376099),\n",
       " ([[731, 955], [779, 955], [779, 975], [731, 975]],\n",
       "  'Total',\n",
       "  0.8350716620692152),\n",
       " ([[849, 955], [895, 955], [895, 975], [849, 975]],\n",
       "  '2583',\n",
       "  0.5665734678076759),\n",
       " ([[647, 981], [687, 981], [687, 999], [647, 999]], '18%', 0.9987558072530481),\n",
       " ([[737, 981], [773, 981], [773, 1001], [737, 1001]],\n",
       "  'GST',\n",
       "  0.9996629690610741),\n",
       " ([[843, 981], [903, 981], [903, 999], [843, 999]],\n",
       "  '464.94',\n",
       "  0.8345580024977911),\n",
       " ([[709, 1005], [797, 1005], [797, 1025], [709, 1025]],\n",
       "  'Total Amt_',\n",
       "  0.7597564391774946),\n",
       " ([[837, 1005], [907, 1005], [907, 1025], [837, 1025]],\n",
       "  '3047.94',\n",
       "  0.8661122133179592),\n",
       " ([[114, 1054], [260, 1054], [260, 1078], [114, 1078]],\n",
       "  'Amount in Word',\n",
       "  0.9834329184433985),\n",
       " ([[716, 1053], [850, 1053], [850, 1082], [716, 1082]],\n",
       "  'Auth. Signatory',\n",
       "  0.6353347025168752),\n",
       " ([[112, 1078], [502, 1078], [502, 1104], [112, 1104]],\n",
       "  'Three Thousand Forty-Seven And Ninety Four',\n",
       "  0.7616924311711343)]"
      ]
     },
     "execution_count": 4,
     "metadata": {},
     "output_type": "execute_result"
    }
   ],
   "source": [
    "# reader = easyocr.Reader(['en'])\n",
    "reader = easyocr.Reader(['en'], gpu=False)\n",
    "# result = reader.readtext(IMAGE_PATH)\n",
    "result = reader.readtext(img)\n",
    "result"
   ]
  },
  {
   "cell_type": "code",
   "execution_count": 5,
   "metadata": {},
   "outputs": [
    {
     "data": {
      "image/png": "[encoded data removed]",
      "text/plain": [
       "<Figure size 432x288 with 1 Axes>"
      ]
     },
     "metadata": {
      "needs_background": "light"
     },
     "output_type": "display_data"
    }
   ],
   "source": [
    "# img = cv2.imread(IMAGE_PATH)\n",
    "spacer = 100\n",
    "font = cv2.FONT_HERSHEY_SIMPLEX\n",
    "for detection in result: \n",
    "    top_left = tuple(detection[0][0])\n",
    "    bottom_right = tuple(detection[0][2])\n",
    "    text = detection[1]\n",
    "    img = cv2.rectangle(img,top_left,bottom_right,(0,255,0),1)\n",
    "    img = cv2.putText(img,text,(20,spacer), font, 0.5,(0,255,0),1,cv2.LINE_AA)\n",
    "    spacer+=15\n",
    "    \n",
    "plt.imshow(img)\n",
    "plt.show()"
   ]
  },
  {
   "cell_type": "code",
   "execution_count": 6,
   "metadata": {},
   "outputs": [
    {
     "name": "stdout",
     "output_type": "stream",
     "text": [
      "After saving image:\n",
      "['.ipynb_checkpoints', 'Deployment', 'ocr_python_textbook', 'Project Invoice - 1.ipynb', 'Project Invoice.ipynb', 'Samples', 'savedImage1.jpg', 'savedImage2.jpg', 'savedImage3.jpg', 'Test Data']\n",
      "Successfully saved\n"
     ]
    }
   ],
   "source": [
    "# Filename\n",
    "filename = 'savedImage2.jpg'\n",
    "\n",
    "# Using cv2.imwrite() method\n",
    "# Saving the image\n",
    "cv2.imwrite(filename, img)\n",
    "  \n",
    "# List files and directories  \n",
    "# in 'C:/Users / Rajnish / Desktop / GeeksforGeeks'  \n",
    "print(\"After saving image:\")  \n",
    "print(os.listdir())\n",
    "\n",
    "print('Successfully saved')"
   ]
  },
  {
   "cell_type": "code",
   "execution_count": null,
   "metadata": {},
   "outputs": [],
   "source": []
  },
  {
   "cell_type": "code",
   "execution_count": null,
   "metadata": {},
   "outputs": [],
   "source": []
  },
  {
   "cell_type": "code",
   "execution_count": null,
   "metadata": {},
   "outputs": [],
   "source": [
    "# !pip install -q keras-ocr"
   ]
  },
  {
   "cell_type": "code",
   "execution_count": null,
   "metadata": {},
   "outputs": [],
   "source": [
    "import keras_ocr\n",
    "import matplotlib.pyplot as plt\n",
    "import cv2"
   ]
  },
  {
   "cell_type": "code",
   "execution_count": null,
   "metadata": {},
   "outputs": [],
   "source": [
    "pipeline = keras_ocr.pipeline.Pipeline()"
   ]
  },
  {
   "cell_type": "code",
   "execution_count": null,
   "metadata": {},
   "outputs": [],
   "source": [
    "IMAGE_PATH = r\"Test Data/06.jpg\"\n",
    "img = cv2.imread(IMAGE_PATH)\n",
    "img = cv2.resize(img, (0, 0), fx = 0.4, fy = 0.4)\n",
    "\n",
    "# images = [keras_ocr.tools.read(img)]\n",
    "\n",
    "image = [keras_ocr.tools.read(img)]"
   ]
  },
  {
   "cell_type": "code",
   "execution_count": null,
   "metadata": {},
   "outputs": [],
   "source": [
    "# len(images)\n",
    "len(image)"
   ]
  },
  {
   "cell_type": "code",
   "execution_count": null,
   "metadata": {},
   "outputs": [],
   "source": [
    "plt.figure(figsize = (10,20))\n",
    "# plt.imshow(images[0])\n",
    "plt.imshow(image)"
   ]
  },
  {
   "cell_type": "code",
   "execution_count": null,
   "metadata": {},
   "outputs": [],
   "source": [
    "prediction_groups = pipeline.recognize(image)"
   ]
  },
  {
   "cell_type": "code",
   "execution_count": null,
   "metadata": {},
   "outputs": [],
   "source": [
    "# fig, axs = plt.subplots(nrows=len(images), figsize=(10, 20))\n",
    "# for ax, image, predictions in zip(axs, images, prediction_groups):\n",
    "#     keras_ocr.tools.drawAnnotations(image=image, \n",
    "#                                     predictions=predictions, \n",
    "#                                     ax=ax)\n",
    "\n",
    "keras_ocr.tools.drawAnnotations(image=image, \n",
    "                                predictions=prediction_groups, \n",
    "                                )"
   ]
  },
  {
   "cell_type": "code",
   "execution_count": null,
   "metadata": {},
   "outputs": [],
   "source": []
  }
 ],
 "metadata": {
  "kernelspec": {
   "display_name": "Python 3",
   "language": "python",
   "name": "python3"
  },
  "language_info": {
   "codemirror_mode": {
    "name": "ipython",
    "version": 3
   },
   "file_extension": ".py",
   "mimetype": "text/x-python",
   "name": "python",
   "nbconvert_exporter": "python",
   "pygments_lexer": "ipython3",
   "version": "3.6.7"
  }
 },
 "nbformat": 4,
 "nbformat_minor": 2
}
