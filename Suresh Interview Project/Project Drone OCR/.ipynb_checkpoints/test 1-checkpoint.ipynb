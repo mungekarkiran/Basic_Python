{
 "cells": [
  {
   "cell_type": "markdown",
   "metadata": {},
   "source": [
    "# import lib's"
   ]
  },
  {
   "cell_type": "code",
   "execution_count": null,
   "metadata": {},
   "outputs": [],
   "source": [
    "import numpy as np\n",
    "import cv2\n",
    "import easyocr\n",
    "import imutils\n",
    "\n",
    "import matplotlib.pyplot as plt\n",
    "%matplotlib inline"
   ]
  },
  {
   "cell_type": "markdown",
   "metadata": {},
   "source": [
    "# Convert colored image into grayscale formate"
   ]
  },
  {
   "cell_type": "code",
   "execution_count": null,
   "metadata": {},
   "outputs": [],
   "source": [
    "IMG_PATH = \"SampleImages/car2.jpg\"\n",
    "img = cv2.imread(IMG_PATH)\n",
    "gray = cv2.cvtColor(img, cv2.COLOR_BGR2GRAY)\n",
    "plt.imshow(cv2.cvtColor(gray, cv2.COLOR_BGR2RGB))"
   ]
  },
  {
   "cell_type": "code",
   "execution_count": null,
   "metadata": {},
   "outputs": [],
   "source": [
    "plt.imshow(gray)"
   ]
  },
  {
   "cell_type": "markdown",
   "metadata": {},
   "source": [
    "# Apply Filter and Edge Detection"
   ]
  },
  {
   "cell_type": "code",
   "execution_count": null,
   "metadata": {},
   "outputs": [],
   "source": [
    "bfilter = cv2.bilateralFilter(gray, 11, 17, 17) # Noise reduction\n",
    "edged = cv2.Canny(bfilter, 30, 200) # Edge detection\n",
    "plt.imshow(cv2.cvtColor(edged,cv2.COLOR_BGR2RGB))"
   ]
  },
  {
   "cell_type": "code",
   "execution_count": null,
   "metadata": {},
   "outputs": [],
   "source": [
    "plt.imshow(bfilter)"
   ]
  },
  {
   "cell_type": "markdown",
   "metadata": {},
   "source": [
    "# Find Contours and Apply Mask"
   ]
  },
  {
   "cell_type": "code",
   "execution_count": null,
   "metadata": {},
   "outputs": [],
   "source": [
    "keypoints = cv2.findContours(edged.copy(), cv2.RETR_TREE, cv2.CHAIN_APPROX_SIMPLE)\n",
    "contours = imutils.grab_contours(keypoints)\n",
    "contours = sorted(contours, key = cv2.contourArea,reverse=True)[:10]"
   ]
  },
  {
   "cell_type": "code",
   "execution_count": null,
   "metadata": {},
   "outputs": [],
   "source": [
    "location = None\n",
    "for contour in contours:\n",
    "    approx = cv2.approxPolyDP(contour,10,True)\n",
    "    if len(approx) == 4:\n",
    "        location = approx\n",
    "        break"
   ]
  },
  {
   "cell_type": "code",
   "execution_count": null,
   "metadata": {},
   "outputs": [],
   "source": [
    "location"
   ]
  },
  {
   "cell_type": "code",
   "execution_count": null,
   "metadata": {},
   "outputs": [],
   "source": [
    "mask = np.zeros(gray.shape, np.uint8)\n",
    "new_image = cv2.drawContours(mask, [location], 0, 255, -1)\n",
    "new_image = cv2.bitwise_and(img, img, mask=mask)"
   ]
  },
  {
   "cell_type": "code",
   "execution_count": null,
   "metadata": {},
   "outputs": [],
   "source": [
    "plt.imshow(cv2.cvtColor(new_image, cv2.COLOR_BGR2RGB))"
   ]
  },
  {
   "cell_type": "code",
   "execution_count": null,
   "metadata": {},
   "outputs": [],
   "source": [
    "(x, y) = np.where(mask == 255)\n",
    "(x1, y1) = (np.min(x), np.min(y))\n",
    "(x2, y2) = (np.max(x), np.max(y))\n",
    "cropped_image = gray[x1:x2+1, y1:y2+1]\n",
    "\n",
    "plt.imshow(cv2.cvtColor(cropped_image, cv2.COLOR_BGR2RGB))"
   ]
  },
  {
   "cell_type": "markdown",
   "metadata": {},
   "source": [
    "# use easy ocr to read text"
   ]
  },
  {
   "cell_type": "code",
   "execution_count": null,
   "metadata": {},
   "outputs": [],
   "source": [
    "reader = easyocr.Reader(['en'])\n",
    "result = reader.readtext(cropped_image)\n",
    "result"
   ]
  },
  {
   "cell_type": "code",
   "execution_count": null,
   "metadata": {},
   "outputs": [],
   "source": [
    "result[0][0], result[0][1], result[0][2]"
   ]
  },
  {
   "cell_type": "code",
   "execution_count": null,
   "metadata": {},
   "outputs": [],
   "source": [
    "number_plate = result[0][1]\n",
    "number_plate.replace(\" \", \"\")"
   ]
  },
  {
   "cell_type": "code",
   "execution_count": null,
   "metadata": {},
   "outputs": [],
   "source": []
  },
  {
   "cell_type": "code",
   "execution_count": null,
   "metadata": {},
   "outputs": [],
   "source": [
    "# Render Result\n",
    "\n",
    "text = result[0][-2]\n",
    "font = cv2.FONT_HERSHEY_SIMPLEX\n",
    "res = cv2.putText(img, \n",
    "                  text=text, \n",
    "                  org=(approx[0][0][0]-25, approx[1][0][1]-20), \n",
    "                  fontFace=font, \n",
    "                  fontScale=1, \n",
    "                  color=(0,255,0), \n",
    "                  thickness=2, \n",
    "                  lineType=cv2.LINE_AA)\n",
    "res = cv2.rectangle(img, tuple(approx[0][0]), tuple(approx[2][0]), (0,255,0), 3)\n",
    "plt.imshow(cv2.cvtColor(res, cv2.COLOR_BGR2RGB))"
   ]
  },
  {
   "cell_type": "code",
   "execution_count": null,
   "metadata": {},
   "outputs": [],
   "source": [
    "print(approx)"
   ]
  },
  {
   "cell_type": "code",
   "execution_count": null,
   "metadata": {},
   "outputs": [],
   "source": [
    "print(approx[0][0])"
   ]
  },
  {
   "cell_type": "code",
   "execution_count": null,
   "metadata": {},
   "outputs": [],
   "source": [
    "print(approx[2][0])"
   ]
  },
  {
   "cell_type": "code",
   "execution_count": null,
   "metadata": {},
   "outputs": [],
   "source": [
    "'''\n",
    "https://www.youtube.com/watch?v=AAPZLK41rek\n",
    "\n",
    "https://www.youtube.com/watch?v=P7r0hIP2GQ4\n",
    "\n",
    "https://www.youtube.com/watch?v=nOIVxi5yurE\n",
    "\n",
    "https://www.youtube.com/channel/UCrydcKaojc44XnuXrfhlV8Q\n",
    "\n",
    "https://docs.opencv.org/4.x/dd/d43/tutorial_py_video_display.html\n",
    "\n",
    "https://www.e-consystems.com/blog/camera/technology/how-to-access-cameras-using-opencv-with-python/\n",
    "\n",
    "https://subscription.packtpub.com/book/application-development/9781785283932/3/ch03lvl1sec28/accessing-the-webcam\n",
    "\n",
    "https://www.geeksforgeeks.org/python-opencv-capture-video-from-camera/\n",
    "\n",
    "https://www.google.com/search?q=opencv+webcam+python+example&rlz=1C1CHZL_enIN878IN879&sxsrf=ALiCzsbdWj_YNcIoI7rFiMpqams58wOPCg%3A1660963769856&ei=uUsAY5DwM92O3LUPg627iAM&oq=opencv+webcam+python&gs_lcp=Cgdnd3Mtd2l6EAMYATIFCAAQgAQyBQgAEIAEMgUIABCABDIGCAAQHhAWMgYIABAeEBYyBggAEB4QFjIGCAAQHhAWMgYIABAeEBYyBggAEB4QFjIGCAAQHhAWOgcIABBHELADOgUIABCRAjoICAAQHhAPEBZKBAhBGABKBAhGGABQ5htYjCtg-VBoAXABeACAAagCiAGxCpIBBTAuMi40mAEAoAEByAEIwAEB&sclient=gws-wiz\n",
    "\n",
    "\n",
    "\n",
    "https://www.youtube.com/watch?v=7ryde8Cz-Cs\n",
    "\n",
    "https://www.youtube.com/watch?v=C82lT9cWQiA\n",
    "\n",
    "https://www.youtube.com/watch?v=9di4_ZJqawU&t=29s\n",
    "\n",
    "\n",
    "\n",
    "\n",
    "\n",
    "\n",
    "'''"
   ]
  },
  {
   "cell_type": "code",
   "execution_count": null,
   "metadata": {},
   "outputs": [],
   "source": []
  },
  {
   "cell_type": "code",
   "execution_count": 1,
   "metadata": {},
   "outputs": [],
   "source": [
    "# https://www.youtube.com/watch?v=Ohj-CqALrwk\n",
    "import sqlite3 as sql"
   ]
  },
  {
   "cell_type": "code",
   "execution_count": 2,
   "metadata": {},
   "outputs": [],
   "source": [
    "connection = sql.connect(\"car_data.db\")\n",
    "cursor = connection.cursor()"
   ]
  },
  {
   "cell_type": "code",
   "execution_count": 3,
   "metadata": {},
   "outputs": [],
   "source": [
    "cursor.execute(\"\"\"create table IF NOT EXISTS car_info (\n",
    "                                                        number_plate text PRIMARY KEY, \n",
    "                                                        owner_name text NOT NULL, \n",
    "                                                        address text NOT NULL, \n",
    "                                                        phone_number int NOT NULL, \n",
    "                                                        email_id text NOT NULL UNIQUE); \n",
    "                                                        \"\"\")\n",
    "connection.commit()"
   ]
  },
  {
   "cell_type": "code",
   "execution_count": 4,
   "metadata": {},
   "outputs": [],
   "source": [
    "car_info_list =[\n",
    "    (\"21BH2345AA\", \"David D. McDermott\", \"3317 Black Stallion Road Lexington, KY 40507\", 8594228349, \"devidD@gmail.com\"),\n",
    "    (\"DL7CQ1939\", \"John M. Baez\", \"3986 Hiddenview Drive Philadelphia, PA 19144\", 2159513344, \"JohnMBaez@teleworm.us\"),\n",
    "    (\"MH20EJ0365\", \"William P. Torres\", \"4244 Gambler Lane Houston, TX 77060\", 2819464694, \"WilliamPTorres@dayrep.com\"),\n",
    "    (\"15LK10898\", \"Fred T. Coffman\", \"Joachimstaler Str. 85 56357 Ehr\", 6772788287, \"FredTCoffman@rhyta.com\"),\n",
    "    (\"MH12DE1433\", \"Abbudin Ziyad Rahal\", \"Guntzelstrasse 11 54673 Dauwelshausen\", 6524271065, \"AbbudinZiyadRahal@teleworm.us\"),\n",
    "    (\"WB06F977\", \"Laura Santos Ferreira\", \"1558 Marcus Street Huntsville, AL 35802\", 2565953711, \"LauraSantosFerreira@armyspy.com\"),\n",
    "    (\"MH04AB1007\", \"Xin Qian Pan\", \"3547 Mutton Town Road Neah Bay, WA 98357\", 3606452039, \"XinQianPan@teleworm.us\"),\n",
    "    (\"KA24CT2616\", \"Dana Selezneva\", \"Via Valpantena, 147 45030-Guarda Veneta RO\", 3519126159, \"DanaSelezneva@rhyta.com\"),\n",
    "    (\"GJ34BH1992\", \"Nora Denisova\", \"Via Rosmini, 128 84040-Castel Ruggero SA\", 3585020348, \"NoraDenisova@dayrep.com\"),\n",
    "    (\"DH12ZC5646\", \"Karina Mordvinova\", \"Via Callicratide, 33 11011-Leverogne AO\", 3658078102, \"KarinaMordvinova@teleworm.us\"),\n",
    "    (\"MH04DA3423\", \"Talon Meunier\", \"Via Scuderlando, 58 64020-Sant'Atto TE\", 3335566493, \"TalonMeunier@dayrep.com\")\n",
    "]"
   ]
  },
  {
   "cell_type": "code",
   "execution_count": 5,
   "metadata": {},
   "outputs": [],
   "source": [
    "cursor.executemany(\"insert into car_info values (?,?,?,?,?)\", car_info_list)\n",
    "connection.commit()"
   ]
  },
  {
   "cell_type": "code",
   "execution_count": 6,
   "metadata": {},
   "outputs": [],
   "source": [
    "car_info_tuple = (\"MH48DA2534\", \"Cosimo Brown\", \"ul. Słomiana 39 81-072 Gdynia\", 696387982, \"CosimoBrown@armyspy.com\")\n",
    "cursor.execute(\"insert into car_info values (?,?,?,?,?)\", car_info_tuple)\n",
    "connection.commit()"
   ]
  },
  {
   "cell_type": "code",
   "execution_count": null,
   "metadata": {},
   "outputs": [],
   "source": []
  },
  {
   "cell_type": "code",
   "execution_count": null,
   "metadata": {},
   "outputs": [],
   "source": []
  },
  {
   "cell_type": "code",
   "execution_count": null,
   "metadata": {},
   "outputs": [],
   "source": []
  },
  {
   "cell_type": "code",
   "execution_count": null,
   "metadata": {},
   "outputs": [],
   "source": []
  },
  {
   "cell_type": "code",
   "execution_count": null,
   "metadata": {},
   "outputs": [],
   "source": []
  },
  {
   "cell_type": "code",
   "execution_count": null,
   "metadata": {},
   "outputs": [],
   "source": []
  }
 ],
 "metadata": {
  "kernelspec": {
   "display_name": "Python 3",
   "language": "python",
   "name": "python3"
  },
  "language_info": {
   "codemirror_mode": {
    "name": "ipython",
    "version": 3
   },
   "file_extension": ".py",
   "mimetype": "text/x-python",
   "name": "python",
   "nbconvert_exporter": "python",
   "pygments_lexer": "ipython3",
   "version": "3.6.7"
  }
 },
 "nbformat": 4,
 "nbformat_minor": 5
}
