{
 "cells": [
  {
   "cell_type": "code",
   "execution_count": 1,
   "metadata": {},
   "outputs": [],
   "source": [
    "# Cryptography with Python"
   ]
  },
  {
   "cell_type": "code",
   "execution_count": 2,
   "metadata": {},
   "outputs": [
    {
     "name": "stdout",
     "output_type": "stream",
     "text": [
      "Requirement already satisfied: cryptography in c:\\users\\munge\\appdata\\local\\programs\\python\\python36\\lib\\site-packages (2.7)\n",
      "Requirement already satisfied: six>=1.4.1 in c:\\users\\munge\\appdata\\local\\programs\\python\\python36\\lib\\site-packages (from cryptography) (1.15.0)\n",
      "Requirement already satisfied: cffi!=1.11.3,>=1.8 in c:\\users\\munge\\appdata\\local\\programs\\python\\python36\\lib\\site-packages (from cryptography) (1.12.3)\n",
      "Requirement already satisfied: asn1crypto>=0.21.0 in c:\\users\\munge\\appdata\\local\\programs\\python\\python36\\lib\\site-packages (from cryptography) (0.24.0)\n",
      "Requirement already satisfied: pycparser in c:\\users\\munge\\appdata\\local\\programs\\python\\python36\\lib\\site-packages (from cffi!=1.11.3,>=1.8->cryptography) (2.19)\n"
     ]
    }
   ],
   "source": [
    "! pip install cryptography"
   ]
  },
  {
   "cell_type": "code",
   "execution_count": 4,
   "metadata": {},
   "outputs": [
    {
     "name": "stdout",
     "output_type": "stream",
     "text": [
      "original string:  hello geeks\n",
      "encrypted string:  b'gAAAAABjMHt-k3ICgWa7UZzzQVXo4UvqHw7ji60o2p2FKzfyHmJZC9efWvsQ0-2eSb6fZJpJGSLlmkQFF2-sy0JqwcxE4teIPg=='\n",
      "decrypted string:  hello geeks\n"
     ]
    }
   ],
   "source": [
    "from cryptography.fernet import Fernet\n",
    "\n",
    "# we will be encrypting the below string.\n",
    "message = \"hello geeks\"\n",
    "\n",
    "# generate a key for encryption and decryption\n",
    "# You can use fernet to generate\n",
    "# the key or use random key generator\n",
    "# here I'm using fernet to generate key\n",
    "\n",
    "key = Fernet.generate_key()\n",
    "\n",
    "# Instance the Fernet class with the key\n",
    "\n",
    "fernet = Fernet(key)\n",
    "\n",
    "# then use the Fernet class instance\n",
    "# to encrypt the string string must\n",
    "# be encoded to byte string before encryption\n",
    "encMessage = fernet.encrypt(message.encode())\n",
    "\n",
    "print(\"original string: \", message)\n",
    "print(\"encrypted string: \", encMessage)\n",
    "\n",
    "# decrypt the encrypted string with the\n",
    "# Fernet instance of the key,\n",
    "# that was used for encrypting the string\n",
    "# encoded byte string is returned by decrypt method,\n",
    "# so decode it to string with decode methods\n",
    "decMessage = fernet.decrypt(encMessage).decode()\n",
    "\n",
    "print(\"decrypted string: \", decMessage)\n"
   ]
  },
  {
   "cell_type": "code",
   "execution_count": null,
   "metadata": {},
   "outputs": [],
   "source": []
  },
  {
   "cell_type": "code",
   "execution_count": 10,
   "metadata": {},
   "outputs": [
    {
     "name": "stdout",
     "output_type": "stream",
     "text": [
      "Collecting hashlib\n",
      "  Downloading hashlib-20081119.zip (42 kB)\n",
      "  Preparing metadata (setup.py): started\n",
      "  Preparing metadata (setup.py): finished with status 'error'\n"
     ]
    },
    {
     "name": "stderr",
     "output_type": "stream",
     "text": [
      "  ERROR: Command errored out with exit status 1:\n",
      "   command: 'c:\\users\\munge\\appdata\\local\\programs\\python\\python36\\python.exe' -c 'import io, os, sys, setuptools, tokenize; sys.argv[0] = '\"'\"'C:\\\\Users\\\\munge\\\\AppData\\\\Local\\\\Temp\\\\pip-install-kcf6fd5c\\\\hashlib_202558e1cab2462a962c0a3fc3e61ac7\\\\setup.py'\"'\"'; __file__='\"'\"'C:\\\\Users\\\\munge\\\\AppData\\\\Local\\\\Temp\\\\pip-install-kcf6fd5c\\\\hashlib_202558e1cab2462a962c0a3fc3e61ac7\\\\setup.py'\"'\"';f = getattr(tokenize, '\"'\"'open'\"'\"', open)(__file__) if os.path.exists(__file__) else io.StringIO('\"'\"'from setuptools import setup; setup()'\"'\"');code = f.read().replace('\"'\"'\\r\\n'\"'\"', '\"'\"'\\n'\"'\"');f.close();exec(compile(code, __file__, '\"'\"'exec'\"'\"'))' egg_info --egg-base 'C:\\Users\\munge\\AppData\\Local\\Temp\\pip-pip-egg-info-bptey918'\n",
      "       cwd: C:\\Users\\munge\\AppData\\Local\\Temp\\pip-install-kcf6fd5c\\hashlib_202558e1cab2462a962c0a3fc3e61ac7\\\n",
      "  Complete output (22 lines):\n",
      "  Traceback (most recent call last):\n",
      "    File \"<string>\", line 1, in <module>\n",
      "    File \"c:\\users\\munge\\appdata\\local\\programs\\python\\python36\\lib\\site-packages\\setuptools\\__init__.py\", line 18, in <module>\n",
      "      import setuptools.version\n",
      "    File \"c:\\users\\munge\\appdata\\local\\programs\\python\\python36\\lib\\site-packages\\setuptools\\version.py\", line 1, in <module>\n",
      "      import pkg_resources\n",
      "    File \"c:\\users\\munge\\appdata\\local\\programs\\python\\python36\\lib\\site-packages\\pkg_resources\\__init__.py\", line 36, in <module>\n",
      "      import email.parser\n",
      "    File \"c:\\users\\munge\\appdata\\local\\programs\\python\\python36\\lib\\email\\parser.py\", line 12, in <module>\n",
      "      from email.feedparser import FeedParser, BytesFeedParser\n",
      "    File \"c:\\users\\munge\\appdata\\local\\programs\\python\\python36\\lib\\email\\feedparser.py\", line 27, in <module>\n",
      "      from email._policybase import compat32\n",
      "    File \"c:\\users\\munge\\appdata\\local\\programs\\python\\python36\\lib\\email\\_policybase.py\", line 9, in <module>\n",
      "      from email.utils import _has_surrogates\n",
      "    File \"c:\\users\\munge\\appdata\\local\\programs\\python\\python36\\lib\\email\\utils.py\", line 28, in <module>\n",
      "      import random\n",
      "    File \"c:\\users\\munge\\appdata\\local\\programs\\python\\python36\\lib\\random.py\", line 46, in <module>\n",
      "      from hashlib import sha512 as _sha512\n",
      "    File \"C:\\Users\\munge\\AppData\\Local\\Temp\\pip-install-kcf6fd5c\\hashlib_202558e1cab2462a962c0a3fc3e61ac7\\hashlib.py\", line 80\n",
      "      raise ValueError, \"unsupported hash type\"\n",
      "                      ^\n",
      "  SyntaxError: invalid syntax\n",
      "  ----------------------------------------\n",
      "WARNING: Discarding https://files.pythonhosted.org/packages/74/bb/9003d081345e9f0451884146e9ea2cff6e4cc4deac9ffd4a9ee98b318a49/hashlib-20081119.zip#sha256=419de2fd10ae71ed9c6adcb55903f116abd1d8acc8c814dfd5f839b4d5013e38 (from https://pypi.org/simple/hashlib/). Command errored out with exit status 1: python setup.py egg_info Check the logs for full command output.\n",
      "ERROR: Could not find a version that satisfies the requirement hashlib (from versions: 20081119)\n",
      "ERROR: No matching distribution found for hashlib\n"
     ]
    },
    {
     "name": "stdout",
     "output_type": "stream",
     "text": [
      "Requirement already satisfied: cryptocode in c:\\users\\munge\\appdata\\local\\programs\\python\\python36\\lib\\site-packages (0.1)\n",
      "Requirement already satisfied: pycryptodomex in c:\\users\\munge\\appdata\\local\\programs\\python\\python36\\lib\\site-packages (from cryptocode) (3.15.0)\n"
     ]
    }
   ],
   "source": [
    "! pip install hashlib\n",
    "! pip install cryptocode\n"
   ]
  },
  {
   "cell_type": "code",
   "execution_count": 12,
   "metadata": {},
   "outputs": [
    {
     "ename": "AttributeError",
     "evalue": "module 'hashlib' has no attribute 'scrypt'",
     "output_type": "error",
     "traceback": [
      "\u001b[1;31m---------------------------------------------------------------------------\u001b[0m",
      "\u001b[1;31mAttributeError\u001b[0m                            Traceback (most recent call last)",
      "\u001b[1;32m<ipython-input-12-b45e387aafff>\u001b[0m in \u001b[0;36m<module>\u001b[1;34m\u001b[0m\n\u001b[0;32m      1\u001b[0m \u001b[1;32mimport\u001b[0m \u001b[0mcryptocode\u001b[0m\u001b[1;33m\u001b[0m\u001b[1;33m\u001b[0m\u001b[0m\n\u001b[0;32m      2\u001b[0m \u001b[1;33m\u001b[0m\u001b[0m\n\u001b[1;32m----> 3\u001b[1;33m \u001b[0mencoded\u001b[0m \u001b[1;33m=\u001b[0m \u001b[0mcryptocode\u001b[0m\u001b[1;33m.\u001b[0m\u001b[0mencrypt\u001b[0m\u001b[1;33m(\u001b[0m\u001b[1;34m\"mystring\"\u001b[0m\u001b[1;33m,\u001b[0m\u001b[1;34m\"mypassword\"\u001b[0m\u001b[1;33m)\u001b[0m\u001b[1;33m\u001b[0m\u001b[1;33m\u001b[0m\u001b[0m\n\u001b[0m\u001b[0;32m      4\u001b[0m \u001b[0mprint\u001b[0m\u001b[1;33m(\u001b[0m\u001b[1;34m\"encoded : \"\u001b[0m\u001b[1;33m,\u001b[0m \u001b[0mencoded\u001b[0m\u001b[1;33m)\u001b[0m\u001b[1;33m\u001b[0m\u001b[1;33m\u001b[0m\u001b[0m\n\u001b[0;32m      5\u001b[0m \u001b[1;33m\u001b[0m\u001b[0m\n",
      "\u001b[1;32mc:\\Users\\munge\\AppData\\Local\\Programs\\Python\\Python36\\lib\\site-packages\\cryptocode\\myfunctions.py\u001b[0m in \u001b[0;36mencrypt\u001b[1;34m(message, password)\u001b[0m\n\u001b[0;32m     13\u001b[0m     \u001b[1;31m# use the Scrypt KDF to get a private key from the password\u001b[0m\u001b[1;33m\u001b[0m\u001b[1;33m\u001b[0m\u001b[1;33m\u001b[0m\u001b[0m\n\u001b[0;32m     14\u001b[0m \u001b[1;33m\u001b[0m\u001b[0m\n\u001b[1;32m---> 15\u001b[1;33m     private_key = hashlib.scrypt(\n\u001b[0m\u001b[0;32m     16\u001b[0m         \u001b[0mpassword\u001b[0m\u001b[1;33m.\u001b[0m\u001b[0mencode\u001b[0m\u001b[1;33m(\u001b[0m\u001b[1;33m)\u001b[0m\u001b[1;33m,\u001b[0m\u001b[1;33m\u001b[0m\u001b[1;33m\u001b[0m\u001b[0m\n\u001b[0;32m     17\u001b[0m         \u001b[0msalt\u001b[0m\u001b[1;33m=\u001b[0m\u001b[0msalt\u001b[0m\u001b[1;33m,\u001b[0m\u001b[1;33m\u001b[0m\u001b[1;33m\u001b[0m\u001b[0m\n",
      "\u001b[1;31mAttributeError\u001b[0m: module 'hashlib' has no attribute 'scrypt'"
     ]
    }
   ],
   "source": [
    "import cryptocode\n",
    "\n",
    "encoded = cryptocode.encrypt(\"mystring\",\"mypassword\")\n",
    "print(\"encoded : \", encoded)\n",
    "\n",
    "## And then to decode it:\n",
    "decoded = cryptocode.decrypt(encoded, \"mypassword\")\n",
    "print(\"decoded : \", decoded)"
   ]
  },
  {
   "cell_type": "code",
   "execution_count": null,
   "metadata": {},
   "outputs": [],
   "source": []
  }
 ],
 "metadata": {
  "kernelspec": {
   "display_name": "Python 3.6.7 64-bit",
   "language": "python",
   "name": "python3"
  },
  "language_info": {
   "codemirror_mode": {
    "name": "ipython",
    "version": 3
   },
   "file_extension": ".py",
   "mimetype": "text/x-python",
   "name": "python",
   "nbconvert_exporter": "python",
   "pygments_lexer": "ipython3",
   "version": "3.6.7"
  },
  "orig_nbformat": 4,
  "vscode": {
   "interpreter": {
    "hash": "d9c9f810be48f5a6d36a39dedf5b599964b855af479ef5af15b81f905ca17cb6"
   }
  }
 },
 "nbformat": 4,
 "nbformat_minor": 2
}
